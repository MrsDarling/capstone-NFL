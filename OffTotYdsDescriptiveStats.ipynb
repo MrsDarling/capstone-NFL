{
 "cells": [
  {
   "cell_type": "markdown",
   "id": "ca763d8d",
   "metadata": {},
   "source": [
    "# Descriptive Statistics for Offense Total Yards for Each Team"
   ]
  },
  {
   "cell_type": "markdown",
   "id": "649ef116",
   "metadata": {},
   "source": [
    "#### Import Packages"
   ]
  },
  {
   "cell_type": "code",
   "execution_count": 2,
   "id": "b23f9d8d",
   "metadata": {},
   "outputs": [],
   "source": [
    "import pandas as pd\n",
    "import numpy as np\n",
    "from scipy.stats import norm\n",
    "from scipy import stats"
   ]
  },
  {
   "cell_type": "markdown",
   "id": "b0be25b3",
   "metadata": {},
   "source": [
    "#### Import NFL Dataset 2012-2022"
   ]
  },
  {
   "cell_type": "code",
   "execution_count": 3,
   "id": "33f5a7e5",
   "metadata": {},
   "outputs": [
    {
     "data": {
      "text/html": [
       "<div>\n",
       "<style scoped>\n",
       "    .dataframe tbody tr th:only-of-type {\n",
       "        vertical-align: middle;\n",
       "    }\n",
       "\n",
       "    .dataframe tbody tr th {\n",
       "        vertical-align: top;\n",
       "    }\n",
       "\n",
       "    .dataframe thead th {\n",
       "        text-align: right;\n",
       "    }\n",
       "</style>\n",
       "<table border=\"1\" class=\"dataframe\">\n",
       "  <thead>\n",
       "    <tr style=\"text-align: right;\">\n",
       "      <th></th>\n",
       "      <th>Team</th>\n",
       "      <th>Off Tot/Pts</th>\n",
       "      <th>Off Pts/G</th>\n",
       "      <th>Off RushYds</th>\n",
       "      <th>Off RYds/G</th>\n",
       "      <th>Off PassYds</th>\n",
       "      <th>Off PYds/G</th>\n",
       "      <th>Off TotYds</th>\n",
       "      <th>Off Yds/G</th>\n",
       "      <th>Def Tot/Pts</th>\n",
       "      <th>...</th>\n",
       "      <th>Def PassYds</th>\n",
       "      <th>Def PYds/G</th>\n",
       "      <th>Def TotYds</th>\n",
       "      <th>Def Yds/G</th>\n",
       "      <th>Year</th>\n",
       "      <th>Wins</th>\n",
       "      <th>Losses</th>\n",
       "      <th>Tie</th>\n",
       "      <th>Superbowl</th>\n",
       "      <th>SB Win</th>\n",
       "    </tr>\n",
       "  </thead>\n",
       "  <tbody>\n",
       "    <tr>\n",
       "      <th>0</th>\n",
       "      <td>Arizona Cardinals</td>\n",
       "      <td>250</td>\n",
       "      <td>15.6</td>\n",
       "      <td>1204</td>\n",
       "      <td>75.2</td>\n",
       "      <td>3005</td>\n",
       "      <td>187.8</td>\n",
       "      <td>4209</td>\n",
       "      <td>263.1</td>\n",
       "      <td>357</td>\n",
       "      <td>...</td>\n",
       "      <td>3213</td>\n",
       "      <td>200.8</td>\n",
       "      <td>5405</td>\n",
       "      <td>337.8</td>\n",
       "      <td>2012</td>\n",
       "      <td>5</td>\n",
       "      <td>11</td>\n",
       "      <td>0.0</td>\n",
       "      <td>No</td>\n",
       "      <td>No</td>\n",
       "    </tr>\n",
       "    <tr>\n",
       "      <th>1</th>\n",
       "      <td>Atlanta Falcons</td>\n",
       "      <td>419</td>\n",
       "      <td>26.2</td>\n",
       "      <td>1397</td>\n",
       "      <td>87.3</td>\n",
       "      <td>4509</td>\n",
       "      <td>281.8</td>\n",
       "      <td>5906</td>\n",
       "      <td>369.1</td>\n",
       "      <td>299</td>\n",
       "      <td>...</td>\n",
       "      <td>3878</td>\n",
       "      <td>242.4</td>\n",
       "      <td>5849</td>\n",
       "      <td>365.6</td>\n",
       "      <td>2012</td>\n",
       "      <td>13</td>\n",
       "      <td>3</td>\n",
       "      <td>0.0</td>\n",
       "      <td>No</td>\n",
       "      <td>No</td>\n",
       "    </tr>\n",
       "    <tr>\n",
       "      <th>2</th>\n",
       "      <td>Baltimore Ravens</td>\n",
       "      <td>398</td>\n",
       "      <td>24.9</td>\n",
       "      <td>1901</td>\n",
       "      <td>118.8</td>\n",
       "      <td>3739</td>\n",
       "      <td>233.7</td>\n",
       "      <td>5640</td>\n",
       "      <td>352.5</td>\n",
       "      <td>344</td>\n",
       "      <td>...</td>\n",
       "      <td>3650</td>\n",
       "      <td>228.1</td>\n",
       "      <td>5615</td>\n",
       "      <td>350.9</td>\n",
       "      <td>2012</td>\n",
       "      <td>10</td>\n",
       "      <td>6</td>\n",
       "      <td>0.0</td>\n",
       "      <td>Yes</td>\n",
       "      <td>Yes</td>\n",
       "    </tr>\n",
       "    <tr>\n",
       "      <th>3</th>\n",
       "      <td>Buffalo Bills</td>\n",
       "      <td>344</td>\n",
       "      <td>21.5</td>\n",
       "      <td>2217</td>\n",
       "      <td>138.6</td>\n",
       "      <td>3269</td>\n",
       "      <td>204.3</td>\n",
       "      <td>5486</td>\n",
       "      <td>342.9</td>\n",
       "      <td>435</td>\n",
       "      <td>...</td>\n",
       "      <td>3473</td>\n",
       "      <td>217.1</td>\n",
       "      <td>5806</td>\n",
       "      <td>362.9</td>\n",
       "      <td>2012</td>\n",
       "      <td>6</td>\n",
       "      <td>10</td>\n",
       "      <td>0.0</td>\n",
       "      <td>No</td>\n",
       "      <td>No</td>\n",
       "    </tr>\n",
       "    <tr>\n",
       "      <th>4</th>\n",
       "      <td>Carolina Panthers</td>\n",
       "      <td>357</td>\n",
       "      <td>22.3</td>\n",
       "      <td>2088</td>\n",
       "      <td>130.5</td>\n",
       "      <td>3683</td>\n",
       "      <td>230.2</td>\n",
       "      <td>5771</td>\n",
       "      <td>360.7</td>\n",
       "      <td>363</td>\n",
       "      <td>...</td>\n",
       "      <td>3568</td>\n",
       "      <td>223.0</td>\n",
       "      <td>5329</td>\n",
       "      <td>333.1</td>\n",
       "      <td>2012</td>\n",
       "      <td>7</td>\n",
       "      <td>9</td>\n",
       "      <td>0.0</td>\n",
       "      <td>No</td>\n",
       "      <td>No</td>\n",
       "    </tr>\n",
       "  </tbody>\n",
       "</table>\n",
       "<p>5 rows × 23 columns</p>\n",
       "</div>"
      ],
      "text/plain": [
       "                Team  Off Tot/Pts  Off Pts/G  Off RushYds  Off RYds/G  \\\n",
       "0  Arizona Cardinals          250       15.6         1204        75.2   \n",
       "1    Atlanta Falcons          419       26.2         1397        87.3   \n",
       "2   Baltimore Ravens          398       24.9         1901       118.8   \n",
       "3      Buffalo Bills          344       21.5         2217       138.6   \n",
       "4  Carolina Panthers          357       22.3         2088       130.5   \n",
       "\n",
       "   Off PassYds  Off PYds/G  Off TotYds  Off Yds/G  Def Tot/Pts  ...  \\\n",
       "0         3005       187.8        4209      263.1          357  ...   \n",
       "1         4509       281.8        5906      369.1          299  ...   \n",
       "2         3739       233.7        5640      352.5          344  ...   \n",
       "3         3269       204.3        5486      342.9          435  ...   \n",
       "4         3683       230.2        5771      360.7          363  ...   \n",
       "\n",
       "   Def PassYds  Def PYds/G  Def TotYds  Def Yds/G  Year  Wins  Losses  Tie  \\\n",
       "0         3213       200.8        5405      337.8  2012     5      11  0.0   \n",
       "1         3878       242.4        5849      365.6  2012    13       3  0.0   \n",
       "2         3650       228.1        5615      350.9  2012    10       6  0.0   \n",
       "3         3473       217.1        5806      362.9  2012     6      10  0.0   \n",
       "4         3568       223.0        5329      333.1  2012     7       9  0.0   \n",
       "\n",
       "   Superbowl  SB Win  \n",
       "0         No      No  \n",
       "1         No      No  \n",
       "2        Yes     Yes  \n",
       "3         No      No  \n",
       "4         No      No  \n",
       "\n",
       "[5 rows x 23 columns]"
      ]
     },
     "execution_count": 3,
     "metadata": {},
     "output_type": "execute_result"
    }
   ],
   "source": [
    "nflyards = pd.read_csv('/Users/admin/Desktop/Final_Project/NFL_merged/nfl2012_2022merge.csv')\n",
    "nflyards.head()"
   ]
  },
  {
   "cell_type": "markdown",
   "id": "784b34d0",
   "metadata": {},
   "source": [
    "## Calculating Descriptive Statistics by Team\n",
    "#### First filter the data by a single team - I will use the Seattle Seahawks, my favorite team, to start."
   ]
  },
  {
   "cell_type": "code",
   "execution_count": 4,
   "id": "69c58961",
   "metadata": {},
   "outputs": [
    {
     "name": "stdout",
     "output_type": "stream",
     "text": [
      "Year: 2012 \tTotal Yards: 5610\n",
      "Year: 2013 \tTotal Yards: 5424\n",
      "Year: 2014 \tTotal Yards: 6012\n",
      "Year: 2015 \tTotal Yards: 6058\n",
      "Year: 2016 \tTotal Yards: 5715\n",
      "Year: 2017 \tTotal Yards: 5286\n",
      "Year: 2018 \tTotal Yards: 5286\n",
      "Year: 2019 \tTotal Yards: 5991\n",
      "Year: 2020 \tTotal Yards: 5912\n",
      "Year: 2021 \tTotal Yards: 5506\n",
      "Year: 2022 \tTotal Yards: 5976\n"
     ]
    }
   ],
   "source": [
    "team_name = 'Seattle Seahawks'\n",
    "seahawks_data = nflyards[nflyards['Team'] == team_name]\n",
    "\n",
    "#### Display Offense Total Yards by year for the Seahawks\n",
    "\n",
    "for year in seahawks_data['Year'].unique():\n",
    "    off_yards = seahawks_data.loc[seahawks_data['Year'] == year, 'Off TotYds'].values[0]\n",
    "    print(\"Year:\", year, \"\\tTotal Yards:\", off_yards)"
   ]
  },
  {
   "cell_type": "markdown",
   "id": "0c3ba5fa",
   "metadata": {},
   "source": [
    "#### What is the mean offense total yards for the Seahawks over all years?"
   ]
  },
  {
   "cell_type": "code",
   "execution_count": 5,
   "id": "24c6cbe1",
   "metadata": {},
   "outputs": [
    {
     "name": "stdout",
     "output_type": "stream",
     "text": [
      "5706.909090909091\n"
     ]
    }
   ],
   "source": [
    "total_yards = seahawks_data['Off TotYds'].mean()\n",
    "print(total_yards)"
   ]
  },
  {
   "cell_type": "markdown",
   "id": "5b3748d2",
   "metadata": {},
   "source": [
    "#### Let's calculate several descriptive statistics on Offense Total Yards for the Seahawks"
   ]
  },
  {
   "cell_type": "code",
   "execution_count": 10,
   "id": "d26edc74",
   "metadata": {},
   "outputs": [
    {
     "name": "stdout",
     "output_type": "stream",
     "text": [
      "Seattle Seahawks Offense Total Yards Mean: 5706.909090909091\n",
      "Seattle Seahawks Offense Total Yards Median: 5715.0\n",
      "Seattle Seahawks Offense Total Yards Standard Deviation: 299.2846319293574\n",
      "Seattle Seahawks Offense Total Yards Variance: 89571.29090909092\n",
      "Seattle Seahawks Offense Total Yards Minimum: 5286\n",
      "Seattle Seahawks Offense Total Yards Maximum: 6058\n",
      "Seattle Seahawks Offense Total Yards Range: 772\n",
      "Seattle Seahawks Total Yards 2012-2022: 62776\n"
     ]
    }
   ],
   "source": [
    "mean_value = seahawks_data['Off TotYds'].mean()\n",
    "median_value = seahawks_data['Off TotYds'].median()\n",
    "std_value = seahawks_data['Off TotYds'].std()\n",
    "var_value = seahawks_data['Off TotYds'].var()\n",
    "min_value = seahawks_data['Off TotYds'].min()\n",
    "max_value = seahawks_data['Off TotYds'].max()\n",
    "data_range = max_value - min_value\n",
    "total_points = seahawks_data['Off TotYds'].sum()\n",
    "print(\"Seattle Seahawks Offense Total Yards Mean:\", mean_value)\n",
    "print(\"Seattle Seahawks Offense Total Yards Median:\", median_value)\n",
    "print(\"Seattle Seahawks Offense Total Yards Standard Deviation:\", std_value)\n",
    "print(\"Seattle Seahawks Offense Total Yards Variance:\", var_value)\n",
    "print(\"Seattle Seahawks Offense Total Yards Minimum:\", min_value)\n",
    "print(\"Seattle Seahawks Offense Total Yards Maximum:\", max_value)\n",
    "print(\"Seattle Seahawks Offense Total Yards Range:\", data_range)\n",
    "print(\"Seattle Seahawks Total Yards 2012-2022:\", total_points)"
   ]
  },
  {
   "cell_type": "markdown",
   "id": "e69f7a6a",
   "metadata": {},
   "source": [
    "#### Calculating all Offense Teams Total Yards per year"
   ]
  },
  {
   "cell_type": "code",
   "execution_count": 8,
   "id": "dbe5c0fa",
   "metadata": {},
   "outputs": [
    {
     "name": "stdout",
     "output_type": "stream",
     "text": [
      "Team: Arizona Cardinals \tYear: 2012 \tTotal Yards: 4209\n",
      "Team: Arizona Cardinals \tYear: 2013 \tTotal Yards: 5542\n",
      "Team: Arizona Cardinals \tYear: 2014 \tTotal Yards: 5116\n",
      "Team: Arizona Cardinals \tYear: 2015 \tTotal Yards: 6533\n",
      "Team: Arizona Cardinals \tYear: 2016 \tTotal Yards: 5868\n",
      "Team: Arizona Cardinals \tYear: 2017 \tTotal Yards: 5026\n",
      "Team: Arizona Cardinals \tYear: 2018 \tTotal Yards: 5026\n",
      "Team: Arizona Cardinals \tYear: 2019 \tTotal Yards: 5467\n",
      "Team: Arizona Cardinals \tYear: 2020 \tTotal Yards: 6153\n",
      "Team: Arizona Cardinals \tYear: 2021 \tTotal Yards: 6352\n",
      "Team: Arizona Cardinals \tYear: 2022 \tTotal Yards: 5499\n",
      "Team: Atlanta Falcons \tYear: 2012 \tTotal Yards: 5906\n",
      "Team: Atlanta Falcons \tYear: 2013 \tTotal Yards: 5490\n",
      "Team: Atlanta Falcons \tYear: 2014 \tTotal Yards: 6051\n",
      "Team: Atlanta Falcons \tYear: 2015 \tTotal Yards: 5985\n",
      "Team: Atlanta Falcons \tYear: 2016 \tTotal Yards: 6653\n",
      "Team: Atlanta Falcons \tYear: 2017 \tTotal Yards: 5837\n",
      "Team: Atlanta Falcons \tYear: 2018 \tTotal Yards: 5837\n",
      "Team: Atlanta Falcons \tYear: 2019 \tTotal Yards: 6075\n",
      "Team: Atlanta Falcons \tYear: 2020 \tTotal Yards: 5895\n",
      "Team: Atlanta Falcons \tYear: 2021 \tTotal Yards: 5164\n",
      "Team: Atlanta Falcons \tYear: 2022 \tTotal Yards: 5417\n",
      "Team: Baltimore Ravens \tYear: 2012 \tTotal Yards: 5640\n",
      "Team: Baltimore Ravens \tYear: 2013 \tTotal Yards: 4918\n",
      "Team: Baltimore Ravens \tYear: 2014 \tTotal Yards: 5838\n",
      "Team: Baltimore Ravens \tYear: 2015 \tTotal Yards: 5749\n",
      "Team: Baltimore Ravens \tYear: 2016 \tTotal Yards: 5563\n",
      "Team: Baltimore Ravens \tYear: 2017 \tTotal Yards: 4886\n",
      "Team: Baltimore Ravens \tYear: 2018 \tTotal Yards: 4886\n",
      "Team: Baltimore Ravens \tYear: 2019 \tTotal Yards: 6521\n",
      "Team: Baltimore Ravens \tYear: 2020 \tTotal Yards: 5810\n",
      "Team: Baltimore Ravens \tYear: 2021 \tTotal Yards: 6440\n",
      "Team: Baltimore Ravens \tYear: 2022 \tTotal Yards: 5760\n",
      "Team: Buffalo Bills \tYear: 2012 \tTotal Yards: 5486\n",
      "Team: Buffalo Bills \tYear: 2013 \tTotal Yards: 5410\n",
      "Team: Buffalo Bills \tYear: 2014 \tTotal Yards: 5096\n",
      "Team: Buffalo Bills \tYear: 2015 \tTotal Yards: 5775\n",
      "Team: Buffalo Bills \tYear: 2016 \tTotal Yards: 5666\n",
      "Team: Buffalo Bills \tYear: 2017 \tTotal Yards: 4842\n",
      "Team: Buffalo Bills \tYear: 2018 \tTotal Yards: 4842\n",
      "Team: Buffalo Bills \tYear: 2019 \tTotal Yards: 5283\n",
      "Team: Buffalo Bills \tYear: 2020 \tTotal Yards: 6343\n",
      "Team: Buffalo Bills \tYear: 2021 \tTotal Yards: 6493\n",
      "Team: Buffalo Bills \tYear: 2022 \tTotal Yards: 6361\n",
      "Team: Carolina Panthers \tYear: 2012 \tTotal Yards: 5771\n",
      "Team: Carolina Panthers \tYear: 2013 \tTotal Yards: 5069\n",
      "Team: Carolina Panthers \tYear: 2014 \tTotal Yards: 5547\n",
      "Team: Carolina Panthers \tYear: 2015 \tTotal Yards: 5871\n",
      "Team: Carolina Panthers \tYear: 2016 \tTotal Yards: 5499\n",
      "Team: Carolina Panthers \tYear: 2017 \tTotal Yards: 5179\n",
      "Team: Carolina Panthers \tYear: 2018 \tTotal Yards: 5179\n",
      "Team: Carolina Panthers \tYear: 2019 \tTotal Yards: 5469\n",
      "Team: Carolina Panthers \tYear: 2020 \tTotal Yards: 5592\n",
      "Team: Carolina Panthers \tYear: 2021 \tTotal Yards: 5081\n",
      "Team: Carolina Panthers \tYear: 2022 \tTotal Yards: 5206\n",
      "Team: Chicago Bears \tYear: 2012 \tTotal Yards: 4969\n",
      "Team: Chicago Bears \tYear: 2013 \tTotal Yards: 6109\n",
      "Team: Chicago Bears \tYear: 2014 \tTotal Yards: 5233\n",
      "Team: Chicago Bears \tYear: 2015 \tTotal Yards: 5514\n",
      "Team: Chicago Bears \tYear: 2016 \tTotal Yards: 5704\n",
      "Team: Chicago Bears \tYear: 2017 \tTotal Yards: 4599\n",
      "Team: Chicago Bears \tYear: 2018 \tTotal Yards: 4599\n",
      "Team: Chicago Bears \tYear: 2019 \tTotal Yards: 4749\n",
      "Team: Chicago Bears \tYear: 2020 \tTotal Yards: 5302\n",
      "Team: Chicago Bears \tYear: 2021 \tTotal Yards: 5225\n",
      "Team: Chicago Bears \tYear: 2022 \tTotal Yards: 5233\n",
      "Team: Cincinnati Bengals \tYear: 2012 \tTotal Yards: 5323\n",
      "Team: Cincinnati Bengals \tYear: 2013 \tTotal Yards: 5891\n",
      "Team: Cincinnati Bengals \tYear: 2014 \tTotal Yards: 5568\n",
      "Team: Cincinnati Bengals \tYear: 2015 \tTotal Yards: 5728\n",
      "Team: Cincinnati Bengals \tYear: 2016 \tTotal Yards: 5711\n",
      "Team: Cincinnati Bengals \tYear: 2017 \tTotal Yards: 4488\n",
      "Team: Cincinnati Bengals \tYear: 2018 \tTotal Yards: 4488\n",
      "Team: Cincinnati Bengals \tYear: 2019 \tTotal Yards: 5169\n",
      "Team: Cincinnati Bengals \tYear: 2020 \tTotal Yards: 5116\n",
      "Team: Cincinnati Bengals \tYear: 2021 \tTotal Yards: 6145\n",
      "Team: Cincinnati Bengals \tYear: 2022 \tTotal Yards: 5768\n",
      "Team: Cleveland Browns \tYear: 2012 \tTotal Yards: 5028\n",
      "Team: Cleveland Browns \tYear: 2013 \tTotal Yards: 5430\n",
      "Team: Cleveland Browns \tYear: 2014 \tTotal Yards: 5193\n",
      "Team: Cleveland Browns \tYear: 2015 \tTotal Yards: 5311\n",
      "Team: Cleveland Browns \tYear: 2016 \tTotal Yards: 4976\n",
      "Team: Cleveland Browns \tYear: 2017 \tTotal Yards: 4942\n",
      "Team: Cleveland Browns \tYear: 2018 \tTotal Yards: 4942\n",
      "Team: Cleveland Browns \tYear: 2019 \tTotal Yards: 5455\n",
      "Team: Cleveland Browns \tYear: 2020 \tTotal Yards: 5913\n",
      "Team: Cleveland Browns \tYear: 2021 \tTotal Yards: 5791\n",
      "Team: Cleveland Browns \tYear: 2022 \tTotal Yards: 5934\n",
      "Team: Dallas Cowboys \tYear: 2012 \tTotal Yards: 5994\n",
      "Team: Dallas Cowboys \tYear: 2013 \tTotal Yards: 5458\n",
      "Team: Dallas Cowboys \tYear: 2014 \tTotal Yards: 6138\n",
      "Team: Dallas Cowboys \tYear: 2015 \tTotal Yards: 5361\n",
      "Team: Dallas Cowboys \tYear: 2016 \tTotal Yards: 6027\n",
      "Team: Dallas Cowboys \tYear: 2017 \tTotal Yards: 5311\n",
      "Team: Dallas Cowboys \tYear: 2018 \tTotal Yards: 5311\n",
      "Team: Dallas Cowboys \tYear: 2019 \tTotal Yards: 6904\n",
      "Team: Dallas Cowboys \tYear: 2020 \tTotal Yards: 5949\n",
      "Team: Dallas Cowboys \tYear: 2021 \tTotal Yards: 6919\n",
      "Team: Dallas Cowboys \tYear: 2022 \tTotal Yards: 6034\n",
      "Team: Denver Broncos \tYear: 2012 \tTotal Yards: 6366\n",
      "Team: Denver Broncos \tYear: 2013 \tTotal Yards: 7317\n",
      "Team: Denver Broncos \tYear: 2014 \tTotal Yards: 6446\n",
      "Team: Denver Broncos \tYear: 2015 \tTotal Yards: 5688\n",
      "Team: Denver Broncos \tYear: 2016 \tTotal Yards: 5169\n",
      "Team: Denver Broncos \tYear: 2017 \tTotal Yards: 5185\n",
      "Team: Denver Broncos \tYear: 2018 \tTotal Yards: 5185\n",
      "Team: Denver Broncos \tYear: 2019 \tTotal Yards: 4777\n",
      "Team: Denver Broncos \tYear: 2020 \tTotal Yards: 5369\n",
      "Team: Denver Broncos \tYear: 2021 \tTotal Yards: 5618\n",
      "Team: Denver Broncos \tYear: 2022 \tTotal Yards: 5527\n",
      "Team: Detroit Lions \tYear: 2012 \tTotal Yards: 6540\n",
      "Team: Detroit Lions \tYear: 2013 \tTotal Yards: 6274\n",
      "Team: Detroit Lions \tYear: 2014 \tTotal Yards: 5452\n",
      "Team: Detroit Lions \tYear: 2015 \tTotal Yards: 5547\n",
      "Team: Detroit Lions \tYear: 2016 \tTotal Yards: 5421\n",
      "Team: Detroit Lions \tYear: 2017 \tTotal Yards: 5404\n",
      "Team: Detroit Lions \tYear: 2018 \tTotal Yards: 5404\n",
      "Team: Detroit Lions \tYear: 2019 \tTotal Yards: 5549\n",
      "Team: Detroit Lions \tYear: 2020 \tTotal Yards: 5603\n",
      "Team: Detroit Lions \tYear: 2021 \tTotal Yards: 5484\n",
      "Team: Detroit Lions \tYear: 2022 \tTotal Yards: 6460\n",
      "Team: Green Bay Packers \tYear: 2012 \tTotal Yards: 5751\n",
      "Team: Green Bay Packers \tYear: 2013 \tTotal Yards: 6404\n",
      "Team: Green Bay Packers \tYear: 2014 \tTotal Yards: 6178\n",
      "Team: Green Bay Packers \tYear: 2015 \tTotal Yards: 5353\n",
      "Team: Green Bay Packers \tYear: 2016 \tTotal Yards: 5900\n",
      "Team: Green Bay Packers \tYear: 2017 \tTotal Yards: 4891\n",
      "Team: Green Bay Packers \tYear: 2018 \tTotal Yards: 4891\n",
      "Team: Green Bay Packers \tYear: 2019 \tTotal Yards: 5528\n",
      "Team: Green Bay Packers \tYear: 2020 \tTotal Yards: 6224\n",
      "Team: Green Bay Packers \tYear: 2021 \tTotal Yards: 6215\n",
      "Team: Green Bay Packers \tYear: 2022 \tTotal Yards: 5745\n",
      "Team: Houston Texans \tYear: 2012 \tTotal Yards: 5953\n",
      "Team: Houston Texans \tYear: 2013 \tTotal Yards: 5556\n",
      "Team: Houston Texans \tYear: 2014 \tTotal Yards: 5513\n",
      "Team: Houston Texans \tYear: 2015 \tTotal Yards: 5564\n",
      "Team: Houston Texans \tYear: 2016 \tTotal Yards: 5035\n",
      "Team: Houston Texans \tYear: 2017 \tTotal Yards: 5120\n",
      "Team: Houston Texans \tYear: 2018 \tTotal Yards: 5120\n",
      "Team: Houston Texans \tYear: 2019 \tTotal Yards: 5792\n",
      "Team: Houston Texans \tYear: 2020 \tTotal Yards: 6004\n",
      "Team: Houston Texans \tYear: 2021 \tTotal Yards: 4727\n",
      "Team: Houston Texans \tYear: 2022 \tTotal Yards: 4820\n",
      "Team: Indianapolis Colts \tYear: 2012 \tTotal Yards: 5799\n",
      "Team: Indianapolis Colts \tYear: 2013 \tTotal Yards: 5468\n",
      "Team: Indianapolis Colts \tYear: 2014 \tTotal Yards: 6506\n",
      "Team: Indianapolis Colts \tYear: 2015 \tTotal Yards: 5142\n",
      "Team: Indianapolis Colts \tYear: 2016 \tTotal Yards: 5830\n",
      "Team: Indianapolis Colts \tYear: 2017 \tTotal Yards: 4553\n",
      "Team: Indianapolis Colts \tYear: 2018 \tTotal Yards: 4553\n",
      "Team: Indianapolis Colts \tYear: 2019 \tTotal Yards: 5238\n",
      "Team: Indianapolis Colts \tYear: 2020 \tTotal Yards: 6049\n",
      "Team: Indianapolis Colts \tYear: 2021 \tTotal Yards: 5901\n",
      "Team: Indianapolis Colts \tYear: 2022 \tTotal Yards: 5298\n",
      "Team: Jacksonville Jaguars \tYear: 2012 \tTotal Yards: 4788\n",
      "Team: Jacksonville Jaguars \tYear: 2013 \tTotal Yards: 4701\n",
      "Team: Jacksonville Jaguars \tYear: 2014 \tTotal Yards: 4634\n",
      "Team: Jacksonville Jaguars \tYear: 2015 \tTotal Yards: 5581\n",
      "Team: Jacksonville Jaguars \tYear: 2016 \tTotal Yards: 5359\n",
      "Team: Jacksonville Jaguars \tYear: 2017 \tTotal Yards: 5855\n",
      "Team: Jacksonville Jaguars \tYear: 2018 \tTotal Yards: 5855\n",
      "Team: Jacksonville Jaguars \tYear: 2019 \tTotal Yards: 5468\n",
      "Team: Jacksonville Jaguars \tYear: 2020 \tTotal Yards: 5218\n",
      "Team: Jacksonville Jaguars \tYear: 2021 \tTotal Yards: 5191\n",
      "Team: Jacksonville Jaguars \tYear: 2022 \tTotal Yards: 6075\n",
      "Team: Kansas City Chiefs \tYear: 2012 \tTotal Yards: 5108\n",
      "Team: Kansas City Chiefs \tYear: 2013 \tTotal Yards: 5396\n",
      "Team: Kansas City Chiefs \tYear: 2014 \tTotal Yards: 5100\n",
      "Team: Kansas City Chiefs \tYear: 2015 \tTotal Yards: 5299\n",
      "Team: Kansas City Chiefs \tYear: 2016 \tTotal Yards: 5488\n",
      "Team: Kansas City Chiefs \tYear: 2017 \tTotal Yards: 6007\n",
      "Team: Kansas City Chiefs \tYear: 2018 \tTotal Yards: 6007\n",
      "Team: Kansas City Chiefs \tYear: 2019 \tTotal Yards: 6067\n",
      "Team: Kansas City Chiefs \tYear: 2020 \tTotal Yards: 6653\n",
      "Team: Kansas City Chiefs \tYear: 2021 \tTotal Yards: 6746\n",
      "Team: Kansas City Chiefs \tYear: 2022 \tTotal Yards: 7032\n",
      "Team: Las Vegas Raiders \tYear: 2012 \tTotal Yards: 5504\n",
      "Team: Las Vegas Raiders \tYear: 2013 \tTotal Yards: 5340\n",
      "Team: Las Vegas Raiders \tYear: 2014 \tTotal Yards: 4515\n",
      "Team: Las Vegas Raiders \tYear: 2015 \tTotal Yards: 5336\n",
      "Team: Las Vegas Raiders \tYear: 2016 \tTotal Yards: 5973\n",
      "Team: Las Vegas Raiders \tYear: 2017 \tTotal Yards: 5185\n",
      "Team: Las Vegas Raiders \tYear: 2018 \tTotal Yards: 5185\n",
      "Team: Las Vegas Raiders \tYear: 2019 \tTotal Yards: 5819\n",
      "Team: Las Vegas Raiders \tYear: 2020 \tTotal Yards: 6133\n",
      "Team: Las Vegas Raiders \tYear: 2021 \tTotal Yards: 6184\n",
      "Team: Las Vegas Raiders \tYear: 2022 \tTotal Yards: 5993\n",
      "Team: Los Angeles Chargers \tYear: 2012 \tTotal Yards: 4756\n",
      "Team: Los Angeles Chargers \tYear: 2013 \tTotal Yards: 6293\n",
      "Team: Los Angeles Chargers \tYear: 2014 \tTotal Yards: 5465\n",
      "Team: Los Angeles Chargers \tYear: 2015 \tTotal Yards: 5949\n",
      "Team: Los Angeles Chargers \tYear: 2016 \tTotal Yards: 5708\n",
      "Team: Los Angeles Chargers \tYear: 2017 \tTotal Yards: 6026\n",
      "Team: Los Angeles Chargers \tYear: 2018 \tTotal Yards: 6026\n",
      "Team: Los Angeles Chargers \tYear: 2019 \tTotal Yards: 5879\n",
      "Team: Los Angeles Chargers \tYear: 2020 \tTotal Yards: 6113\n",
      "Team: Los Angeles Chargers \tYear: 2021 \tTotal Yards: 6634\n",
      "Team: Los Angeles Chargers \tYear: 2022 \tTotal Yards: 6108\n",
      "Team: Los Angeles Rams \tYear: 2012 \tTotal Yards: 5264\n",
      "Team: Los Angeles Rams \tYear: 2013 \tTotal Yards: 4877\n",
      "Team: Los Angeles Rams \tYear: 2014 \tTotal Yards: 5035\n",
      "Team: Los Angeles Rams \tYear: 2015 \tTotal Yards: 4761\n",
      "Team: Los Angeles Rams \tYear: 2016 \tTotal Yards: 4203\n",
      "Team: Los Angeles Rams \tYear: 2017 \tTotal Yards: 5784\n",
      "Team: Los Angeles Rams \tYear: 2018 \tTotal Yards: 5784\n",
      "Team: Los Angeles Rams \tYear: 2019 \tTotal Yards: 5998\n",
      "Team: Los Angeles Rams \tYear: 2020 \tTotal Yards: 6032\n",
      "Team: Los Angeles Rams \tYear: 2021 \tTotal Yards: 6325\n",
      "Team: Los Angeles Rams \tYear: 2022 \tTotal Yards: 4769\n",
      "Team: Miami Dolphins \tYear: 2012 \tTotal Yards: 4984\n",
      "Team: Miami Dolphins \tYear: 2013 \tTotal Yards: 5007\n",
      "Team: Miami Dolphins \tYear: 2014 \tTotal Yards: 5601\n",
      "Team: Miami Dolphins \tYear: 2015 \tTotal Yards: 5307\n",
      "Team: Miami Dolphins \tYear: 2016 \tTotal Yards: 5324\n",
      "Team: Miami Dolphins \tYear: 2017 \tTotal Yards: 4923\n",
      "Team: Miami Dolphins \tYear: 2018 \tTotal Yards: 4923\n",
      "Team: Miami Dolphins \tYear: 2019 \tTotal Yards: 4960\n",
      "Team: Miami Dolphins \tYear: 2020 \tTotal Yards: 5424\n",
      "Team: Miami Dolphins \tYear: 2021 \tTotal Yards: 5219\n",
      "Team: Miami Dolphins \tYear: 2022 \tTotal Yards: 6197\n",
      "Team: Minnesota Vikings \tYear: 2012 \tTotal Yards: 5385\n",
      "Team: Minnesota Vikings \tYear: 2013 \tTotal Yards: 5508\n",
      "Team: Minnesota Vikings \tYear: 2014 \tTotal Yards: 5048\n",
      "Team: Minnesota Vikings \tYear: 2015 \tTotal Yards: 5139\n",
      "Team: Minnesota Vikings \tYear: 2016 \tTotal Yards: 5041\n",
      "Team: Minnesota Vikings \tYear: 2017 \tTotal Yards: 5710\n",
      "Team: Minnesota Vikings \tYear: 2018 \tTotal Yards: 5710\n",
      "Team: Minnesota Vikings \tYear: 2019 \tTotal Yards: 5656\n",
      "Team: Minnesota Vikings \tYear: 2020 \tTotal Yards: 6292\n",
      "Team: Minnesota Vikings \tYear: 2021 \tTotal Yards: 6168\n",
      "Team: Minnesota Vikings \tYear: 2022 \tTotal Yards: 6145\n",
      "Team: New England Patriots \tYear: 2012 \tTotal Yards: 6846\n",
      "Team: New England Patriots \tYear: 2013 \tTotal Yards: 6152\n",
      "Team: New England Patriots \tYear: 2014 \tTotal Yards: 5848\n",
      "Team: New England Patriots \tYear: 2015 \tTotal Yards: 5991\n",
      "Team: New England Patriots \tYear: 2016 \tTotal Yards: 6180\n",
      "Team: New England Patriots \tYear: 2017 \tTotal Yards: 6307\n",
      "Team: New England Patriots \tYear: 2018 \tTotal Yards: 6307\n",
      "Team: New England Patriots \tYear: 2019 \tTotal Yards: 5664\n",
      "Team: New England Patriots \tYear: 2020 \tTotal Yards: 5236\n",
      "Team: New England Patriots \tYear: 2021 \tTotal Yards: 6008\n",
      "Team: New England Patriots \tYear: 2022 \tTotal Yards: 5348\n",
      "Team: New Orleans Saints \tYear: 2012 \tTotal Yards: 6574\n",
      "Team: New Orleans Saints \tYear: 2013 \tTotal Yards: 6391\n",
      "Team: New Orleans Saints \tYear: 2014 \tTotal Yards: 6582\n",
      "Team: New Orleans Saints \tYear: 2015 \tTotal Yards: 6461\n",
      "Team: New Orleans Saints \tYear: 2016 \tTotal Yards: 6816\n",
      "Team: New Orleans Saints \tYear: 2017 \tTotal Yards: 6259\n",
      "Team: New Orleans Saints \tYear: 2019 \tTotal Yards: 5982\n",
      "Team: New Orleans Saints \tYear: 2020 \tTotal Yards: 6023\n",
      "Team: New Orleans Saints \tYear: 2021 \tTotal Yards: 5177\n",
      "Team: New Orleans Saints \tYear: 2022 \tTotal Yards: 5674\n",
      "Team: New York Giants \tYear: 2012 \tTotal Yards: 5687\n",
      "Team: New York Giants \tYear: 2013 \tTotal Yards: 4920\n",
      "Team: New York Giants \tYear: 2014 \tTotal Yards: 5875\n",
      "Team: New York Giants \tYear: 2015 \tTotal Yards: 5952\n",
      "Team: New York Giants \tYear: 2016 \tTotal Yards: 5291\n",
      "Team: New York Giants \tYear: 2017 \tTotal Yards: 5028\n",
      "Team: New York Giants \tYear: 2018 \tTotal Yards: 5028\n",
      "Team: New York Giants \tYear: 2019 \tTotal Yards: 5416\n",
      "Team: New York Giants \tYear: 2020 \tTotal Yards: 4794\n",
      "Team: New York Giants \tYear: 2021 \tTotal Yards: 4884\n",
      "Team: New York Giants \tYear: 2022 \tTotal Yards: 5676\n",
      "Team: New York Jets \tYear: 2012 \tTotal Yards: 4787\n",
      "Team: New York Jets \tYear: 2013 \tTotal Yards: 5090\n",
      "Team: New York Jets \tYear: 2014 \tTotal Yards: 5226\n",
      "Team: New York Jets \tYear: 2015 \tTotal Yards: 5925\n",
      "Team: New York Jets \tYear: 2016 \tTotal Yards: 5268\n",
      "Team: New York Jets \tYear: 2017 \tTotal Yards: 4884\n",
      "Team: New York Jets \tYear: 2018 \tTotal Yards: 4884\n",
      "Team: New York Jets \tYear: 2019 \tTotal Yards: 4368\n",
      "Team: New York Jets \tYear: 2020 \tTotal Yards: 4479\n",
      "Team: New York Jets \tYear: 2021 \tTotal Yards: 5208\n",
      "Team: New York Jets \tYear: 2022 \tTotal Yards: 5409\n",
      "Team: Philadelphia Eagles \tYear: 2012 \tTotal Yards: 5665\n",
      "Team: Philadelphia Eagles \tYear: 2013 \tTotal Yards: 6676\n",
      "Team: Philadelphia Eagles \tYear: 2014 \tTotal Yards: 6348\n",
      "Team: Philadelphia Eagles \tYear: 2015 \tTotal Yards: 5830\n",
      "Team: Philadelphia Eagles \tYear: 2016 \tTotal Yards: 5398\n",
      "Team: Philadelphia Eagles \tYear: 2017 \tTotal Yards: 5852\n",
      "Team: Philadelphia Eagles \tYear: 2018 \tTotal Yards: 5852\n",
      "Team: Philadelphia Eagles \tYear: 2019 \tTotal Yards: 5772\n",
      "Team: Philadelphia Eagles \tYear: 2020 \tTotal Yards: 5354\n",
      "Team: Philadelphia Eagles \tYear: 2021 \tTotal Yards: 6119\n",
      "Team: Philadelphia Eagles \tYear: 2022 \tTotal Yards: 6614\n",
      "Team: Pittsburgh Steelers \tYear: 2012 \tTotal Yards: 5324\n",
      "Team: Pittsburgh Steelers \tYear: 2013 \tTotal Yards: 5400\n",
      "Team: Pittsburgh Steelers \tYear: 2014 \tTotal Yards: 6577\n",
      "Team: Pittsburgh Steelers \tYear: 2015 \tTotal Yards: 6327\n",
      "Team: Pittsburgh Steelers \tYear: 2016 \tTotal Yards: 5962\n",
      "Team: Pittsburgh Steelers \tYear: 2017 \tTotal Yards: 6047\n",
      "Team: Pittsburgh Steelers \tYear: 2018 \tTotal Yards: 6047\n",
      "Team: Pittsburgh Steelers \tYear: 2019 \tTotal Yards: 4428\n",
      "Team: Pittsburgh Steelers \tYear: 2020 \tTotal Yards: 5354\n",
      "Team: Pittsburgh Steelers \tYear: 2021 \tTotal Yards: 5361\n",
      "Team: Pittsburgh Steelers \tYear: 2022 \tTotal Yards: 5484\n",
      "Team: San Francisco 49ers \tYear: 2012 \tTotal Yards: 5789\n",
      "Team: San Francisco 49ers \tYear: 2013 \tTotal Yards: 5180\n",
      "Team: San Francisco 49ers \tYear: 2014 \tTotal Yards: 5239\n",
      "Team: San Francisco 49ers \tYear: 2015 \tTotal Yards: 4860\n",
      "Team: San Francisco 49ers \tYear: 2016 \tTotal Yards: 4930\n",
      "Team: San Francisco 49ers \tYear: 2017 \tTotal Yards: 5587\n",
      "Team: San Francisco 49ers \tYear: 2018 \tTotal Yards: 5587\n",
      "Team: San Francisco 49ers \tYear: 2019 \tTotal Yards: 6097\n",
      "Team: San Francisco 49ers \tYear: 2020 \tTotal Yards: 5922\n",
      "Team: San Francisco 49ers \tYear: 2021 \tTotal Yards: 6387\n",
      "Team: San Francisco 49ers \tYear: 2022 \tTotal Yards: 6216\n",
      "Team: Seattle Seahawks \tYear: 2012 \tTotal Yards: 5610\n",
      "Team: Seattle Seahawks \tYear: 2013 \tTotal Yards: 5424\n",
      "Team: Seattle Seahawks \tYear: 2014 \tTotal Yards: 6012\n",
      "Team: Seattle Seahawks \tYear: 2015 \tTotal Yards: 6058\n",
      "Team: Seattle Seahawks \tYear: 2016 \tTotal Yards: 5715\n",
      "Team: Seattle Seahawks \tYear: 2017 \tTotal Yards: 5286\n",
      "Team: Seattle Seahawks \tYear: 2018 \tTotal Yards: 5286\n",
      "Team: Seattle Seahawks \tYear: 2019 \tTotal Yards: 5991\n",
      "Team: Seattle Seahawks \tYear: 2020 \tTotal Yards: 5912\n",
      "Team: Seattle Seahawks \tYear: 2021 \tTotal Yards: 5506\n",
      "Team: Seattle Seahawks \tYear: 2022 \tTotal Yards: 5976\n",
      "Team: Tampa Bay Buccaneers \tYear: 2012 \tTotal Yards: 5820\n",
      "Team: Tampa Bay Buccaneers \tYear: 2013 \tTotal Yards: 4432\n",
      "Team: Tampa Bay Buccaneers \tYear: 2014 \tTotal Yards: 4672\n",
      "Team: Tampa Bay Buccaneers \tYear: 2015 \tTotal Yards: 6014\n",
      "Team: Tampa Bay Buccaneers \tYear: 2016 \tTotal Yards: 5542\n",
      "Team: Tampa Bay Buccaneers \tYear: 2017 \tTotal Yards: 5816\n",
      "Team: Tampa Bay Buccaneers \tYear: 2018 \tTotal Yards: 5816\n",
      "Team: Tampa Bay Buccaneers \tYear: 2019 \tTotal Yards: 6366\n",
      "Team: Tampa Bay Buccaneers \tYear: 2020 \tTotal Yards: 6145\n",
      "Team: Tampa Bay Buccaneers \tYear: 2021 \tTotal Yards: 6901\n",
      "Team: Tampa Bay Buccaneers \tYear: 2022 \tTotal Yards: 5894\n",
      "Team: Tennessee Titans \tYear: 2012 \tTotal Yards: 5010\n",
      "Team: Tennessee Titans \tYear: 2013 \tTotal Yards: 5390\n",
      "Team: Tennessee Titans \tYear: 2014 \tTotal Yards: 4859\n",
      "Team: Tennessee Titans \tYear: 2015 \tTotal Yards: 4988\n",
      "Team: Tennessee Titans \tYear: 2016 \tTotal Yards: 5728\n",
      "Team: Tennessee Titans \tYear: 2017 \tTotal Yards: 5024\n",
      "Team: Tennessee Titans \tYear: 2018 \tTotal Yards: 5024\n",
      "Team: Tennessee Titans \tYear: 2019 \tTotal Yards: 5805\n",
      "Team: Tennessee Titans \tYear: 2020 \tTotal Yards: 6343\n",
      "Team: Tennessee Titans \tYear: 2021 \tTotal Yards: 5822\n",
      "Team: Tennessee Titans \tYear: 2022 \tTotal Yards: 5045\n",
      "Team: Washington Commanders \tYear: 2012 \tTotal Yards: 6131\n",
      "Team: Washington Commanders \tYear: 2013 \tTotal Yards: 5915\n",
      "Team: Washington Commanders \tYear: 2014 \tTotal Yards: 5738\n",
      "Team: Washington Commanders \tYear: 2015 \tTotal Yards: 5661\n",
      "Team: Washington Commanders \tYear: 2016 \tTotal Yards: 6454\n",
      "Team: Washington Commanders \tYear: 2017 \tTotal Yards: 5199\n",
      "Team: Washington Commanders \tYear: 2018 \tTotal Yards: 5199\n",
      "Team: Washington Commanders \tYear: 2019 \tTotal Yards: 4395\n",
      "Team: Washington Commanders \tYear: 2020 \tTotal Yards: 5076\n",
      "Team: Washington Commanders \tYear: 2021 \tTotal Yards: 5502\n",
      "Team: Washington Commanders \tYear: 2022 \tTotal Yards: 5615\n"
     ]
    }
   ],
   "source": [
    "team_names = nflyards['Team'].unique()\n",
    "\n",
    "# Iterate over each team\n",
    "for team_name in team_names:\n",
    "    team_data = nflyards[nflyards['Team'] == team_name]\n",
    "    \n",
    "    # Display the total offense Yards for each year\n",
    "    for year in team_data['Year'].unique():\n",
    "        team_yards = team_data.loc[team_data['Year'] == year, 'Off TotYds'].values[0]\n",
    "        print(\"Team:\", team_name, \"\\tYear:\", year, \"\\tTotal Yards:\", team_yards)"
   ]
  },
  {
   "cell_type": "markdown",
   "id": "b7c99af6",
   "metadata": {},
   "source": [
    "#### Calculate Descriptive Statistics on Offense Total Yards for all Teams. These statistics are the Offense Total Yards and their mean, median, standard deviation, variance, min, max, range, and sum."
   ]
  },
  {
   "cell_type": "markdown",
   "id": "186c620f",
   "metadata": {},
   "source": [
    "### Arizona Cardinals"
   ]
  },
  {
   "cell_type": "code",
   "execution_count": 9,
   "id": "7444d978",
   "metadata": {},
   "outputs": [
    {
     "name": "stdout",
     "output_type": "stream",
     "text": [
      "Arizona Cardinals Offense Total Yards Mean: 5526.454545454545\n",
      "Arizona Cardinals Offense Total Yards Median: 5499.0\n",
      "Arizona Cardinals Offense Total Yards Standard Deviation: 679.2253475300174\n",
      "Arizona Cardinals Offense Total Yards Variance: 461347.07272727287\n",
      "Arizona Cardinals Offense Total Yards Minimum: 4209\n",
      "Arizona Cardinals Offense Total Yards Maximum: 6533\n",
      "Arizona Cardinals Offense Total Yards Range: 2324\n",
      "Arizona Cardinals Total Yards 2012-2022: 60791\n"
     ]
    }
   ],
   "source": [
    "team_name1 = 'Arizona Cardinals'\n",
    "cardinals_data = nflyards[nflyards['Team'] == team_name1]\n",
    "mean_value = cardinals_data['Off TotYds'].mean()\n",
    "median_value = cardinals_data['Off TotYds'].median()\n",
    "std_value = cardinals_data['Off TotYds'].std()\n",
    "var_value = cardinals_data['Off TotYds'].var()\n",
    "min_value = cardinals_data['Off TotYds'].min()\n",
    "max_value = cardinals_data['Off TotYds'].max()\n",
    "data_range = max_value - min_value\n",
    "total_points = cardinals_data['Off TotYds'].sum()\n",
    "print(\"Arizona Cardinals Offense Total Yards Mean:\", mean_value)\n",
    "print(\"Arizona Cardinals Offense Total Yards Median:\", median_value)\n",
    "print(\"Arizona Cardinals Offense Total Yards Standard Deviation:\", std_value)\n",
    "print(\"Arizona Cardinals Offense Total Yards Variance:\", var_value)\n",
    "print(\"Arizona Cardinals Offense Total Yards Minimum:\", min_value)\n",
    "print(\"Arizona Cardinals Offense Total Yards Maximum:\", max_value)\n",
    "print(\"Arizona Cardinals Offense Total Yards Range:\", data_range)\n",
    "print(\"Arizona Cardinals Total Yards 2012-2022:\", total_points)"
   ]
  },
  {
   "cell_type": "markdown",
   "id": "9c54bb44",
   "metadata": {},
   "source": [
    "### Atlanta Falcons"
   ]
  },
  {
   "cell_type": "code",
   "execution_count": 11,
   "id": "cf5c0251",
   "metadata": {},
   "outputs": [
    {
     "name": "stdout",
     "output_type": "stream",
     "text": [
      "Atlanta Falcons Offense Total Yards Mean: 5846.363636363636\n",
      "Atlanta Falcons Offense Total Yards Median: 5895.0\n",
      "Atlanta Falcons Offense Total Yards Standard Deviation: 393.3317360008655\n",
      "Atlanta Falcons Offense Total Yards Variance: 154709.85454545455\n",
      "Atlanta Falcons Offense Total Yards Minimum: 5164\n",
      "Atlanta Falcons Offense Total Yards Maximum: 6653\n",
      "Atlanta Falcons Offense Total Yards Range: 1489\n",
      "Atlanta Falcons Total Yards 2012-2022: 64310\n"
     ]
    }
   ],
   "source": [
    "team_name2 = 'Atlanta Falcons'\n",
    "falcons_data = nflyards[nflyards['Team'] == team_name2]\n",
    "mean_value = falcons_data['Off TotYds'].mean()\n",
    "median_value = falcons_data['Off TotYds'].median()\n",
    "std_value = falcons_data['Off TotYds'].std()\n",
    "var_value = falcons_data['Off TotYds'].var()\n",
    "min_value = falcons_data['Off TotYds'].min()\n",
    "max_value = falcons_data['Off TotYds'].max()\n",
    "data_range = max_value - min_value\n",
    "total_points = falcons_data['Off TotYds'].sum()\n",
    "print(\"Atlanta Falcons Offense Total Yards Mean:\", mean_value)\n",
    "print(\"Atlanta Falcons Offense Total Yards Median:\", median_value)\n",
    "print(\"Atlanta Falcons Offense Total Yards Standard Deviation:\", std_value)\n",
    "print(\"Atlanta Falcons Offense Total Yards Variance:\", var_value)\n",
    "print(\"Atlanta Falcons Offense Total Yards Minimum:\", min_value)\n",
    "print(\"Atlanta Falcons Offense Total Yards Maximum:\", max_value)\n",
    "print(\"Atlanta Falcons Offense Total Yards Range:\", data_range)\n",
    "print(\"Atlanta Falcons Total Yards 2012-2022:\", total_points)"
   ]
  },
  {
   "cell_type": "markdown",
   "id": "7f0431cc",
   "metadata": {},
   "source": [
    "### Baltimore Ravens"
   ]
  },
  {
   "cell_type": "code",
   "execution_count": 12,
   "id": "76b5c9c4",
   "metadata": {},
   "outputs": [
    {
     "name": "stdout",
     "output_type": "stream",
     "text": [
      "Baltimore Ravens Offense Total Yards Mean: 5637.363636363636\n",
      "Baltimore Ravens Offense Total Yards Median: 5749.0\n",
      "Baltimore Ravens Offense Total Yards Standard Deviation: 563.4460529149659\n",
      "Baltimore Ravens Offense Total Yards Variance: 317471.45454545453\n",
      "Baltimore Ravens Offense Total Yards Minimum: 4886\n",
      "Baltimore Ravens Offense Total Yards Maximum: 6521\n",
      "Baltimore Ravens Offense Total Yards Range: 1635\n",
      "Baltimore Ravens Total Yards 2012-2022: 62011\n"
     ]
    }
   ],
   "source": [
    "team_name3 = 'Baltimore Ravens'\n",
    "ravens_data = nflyards[nflyards['Team'] == team_name3]\n",
    "mean_value = ravens_data['Off TotYds'].mean()\n",
    "median_value = ravens_data['Off TotYds'].median()\n",
    "std_value = ravens_data['Off TotYds'].std()\n",
    "var_value = ravens_data['Off TotYds'].var()\n",
    "min_value = ravens_data['Off TotYds'].min()\n",
    "max_value = ravens_data['Off TotYds'].max()\n",
    "data_range = max_value - min_value\n",
    "total_points = ravens_data['Off TotYds'].sum()\n",
    "print(\"Baltimore Ravens Offense Total Yards Mean:\", mean_value)\n",
    "print(\"Baltimore Ravens Offense Total Yards Median:\", median_value)\n",
    "print(\"Baltimore Ravens Offense Total Yards Standard Deviation:\", std_value)\n",
    "print(\"Baltimore Ravens Offense Total Yards Variance:\", var_value)\n",
    "print(\"Baltimore Ravens Offense Total Yards Minimum:\", min_value)\n",
    "print(\"Baltimore Ravens Offense Total Yards Maximum:\", max_value)\n",
    "print(\"Baltimore Ravens Offense Total Yards Range:\", data_range)\n",
    "print(\"Baltimore Ravens Total Yards 2012-2022:\", total_points)"
   ]
  },
  {
   "cell_type": "markdown",
   "id": "95049040",
   "metadata": {},
   "source": [
    "### Buffalo Bills"
   ]
  },
  {
   "cell_type": "code",
   "execution_count": 13,
   "id": "09989626",
   "metadata": {},
   "outputs": [
    {
     "name": "stdout",
     "output_type": "stream",
     "text": [
      "Buffalo Bills Offense Total Yards Mean: 5599.727272727273\n",
      "Buffalo Bills Offense Total Yards Median: 5486.0\n",
      "Buffalo Bills Offense Total Yards Standard Deviation: 592.9863558142112\n",
      "Buffalo Bills Offense Total Yards Variance: 351632.8181818182\n",
      "Buffalo Bills Offense Total Yards Minimum: 4842\n",
      "Buffalo Bills Offense Total Yards Maximum: 6493\n",
      "Buffalo Bills Offense Total Yards Range: 1651\n",
      "Buffalo Bills Total Yards 2012-2022: 61597\n"
     ]
    }
   ],
   "source": [
    "team_name4 = 'Buffalo Bills'\n",
    "bills_data = nflyards[nflyards['Team'] == team_name4]\n",
    "mean_value = bills_data['Off TotYds'].mean()\n",
    "median_value = bills_data['Off TotYds'].median()\n",
    "std_value = bills_data['Off TotYds'].std()\n",
    "var_value = bills_data['Off TotYds'].var()\n",
    "min_value = bills_data['Off TotYds'].min()\n",
    "max_value = bills_data['Off TotYds'].max()\n",
    "data_range = max_value - min_value\n",
    "total_points = bills_data['Off TotYds'].sum()\n",
    "print(\"Buffalo Bills Offense Total Yards Mean:\", mean_value)\n",
    "print(\"Buffalo Bills Offense Total Yards Median:\", median_value)\n",
    "print(\"Buffalo Bills Offense Total Yards Standard Deviation:\", std_value)\n",
    "print(\"Buffalo Bills Offense Total Yards Variance:\", var_value)\n",
    "print(\"Buffalo Bills Offense Total Yards Minimum:\", min_value)\n",
    "print(\"Buffalo Bills Offense Total Yards Maximum:\", max_value)\n",
    "print(\"Buffalo Bills Offense Total Yards Range:\", data_range)\n",
    "print(\"Buffalo Bills Total Yards 2012-2022:\", total_points)"
   ]
  },
  {
   "cell_type": "markdown",
   "id": "e4ca8cea",
   "metadata": {},
   "source": [
    "### Carolina Panthers"
   ]
  },
  {
   "cell_type": "code",
   "execution_count": 14,
   "id": "086d4169",
   "metadata": {},
   "outputs": [
    {
     "name": "stdout",
     "output_type": "stream",
     "text": [
      "Carolina Panthers Offense Total Yards Mean: 5405.727272727273\n",
      "Carolina Panthers Offense Total Yards Median: 5469.0\n",
      "Carolina Panthers Offense Total Yards Standard Deviation: 279.06919962944346\n",
      "Carolina Panthers Offense Total Yards Variance: 77879.61818181818\n",
      "Carolina Panthers Offense Total Yards Minimum: 5069\n",
      "Carolina Panthers Offense Total Yards Maximum: 5871\n",
      "Carolina Panthers Offense Total Yards Range: 802\n",
      "Carolina Panthers Total Yards 2012-2022: 59463\n"
     ]
    }
   ],
   "source": [
    "team_name5 = 'Carolina Panthers'\n",
    "panthers_data = nflyards[nflyards['Team'] == team_name5]\n",
    "mean_value = panthers_data['Off TotYds'].mean()\n",
    "median_value = panthers_data['Off TotYds'].median()\n",
    "std_value = panthers_data['Off TotYds'].std()\n",
    "var_value = panthers_data['Off TotYds'].var()\n",
    "min_value = panthers_data['Off TotYds'].min()\n",
    "max_value = panthers_data['Off TotYds'].max()\n",
    "data_range = max_value - min_value\n",
    "total_points = panthers_data['Off TotYds'].sum()\n",
    "print(\"Carolina Panthers Offense Total Yards Mean:\", mean_value)\n",
    "print(\"Carolina Panthers Offense Total Yards Median:\", median_value)\n",
    "print(\"Carolina Panthers Offense Total Yards Standard Deviation:\", std_value)\n",
    "print(\"Carolina Panthers Offense Total Yards Variance:\", var_value)\n",
    "print(\"Carolina Panthers Offense Total Yards Minimum:\", min_value)\n",
    "print(\"Carolina Panthers Offense Total Yards Maximum:\", max_value)\n",
    "print(\"Carolina Panthers Offense Total Yards Range:\", data_range)\n",
    "print(\"Carolina Panthers Total Yards 2012-2022:\", total_points)"
   ]
  },
  {
   "cell_type": "markdown",
   "id": "a8e04f1e",
   "metadata": {},
   "source": [
    "### Chicago Bears"
   ]
  },
  {
   "cell_type": "code",
   "execution_count": 15,
   "id": "95cef721",
   "metadata": {},
   "outputs": [
    {
     "name": "stdout",
     "output_type": "stream",
     "text": [
      "Chicago Bears Offense Total Yards Mean: 5203.272727272727\n",
      "Chicago Bears Offense Total Yards Median: 5233.0\n",
      "Chicago Bears Offense Total Yards Standard Deviation: 465.9555967920315\n",
      "Chicago Bears Offense Total Yards Variance: 217114.61818181822\n",
      "Chicago Bears Offense Total Yards Minimum: 4599\n",
      "Chicago Bears Offense Total Yards Maximum: 6109\n",
      "Chicago Bears Offense Total Yards Range: 1510\n",
      "Chicago Bears Total Yards 2012-2022: 57236\n"
     ]
    }
   ],
   "source": [
    "team_name6 = 'Chicago Bears'\n",
    "bears_data = nflyards[nflyards['Team'] == team_name6]\n",
    "mean_value = bears_data['Off TotYds'].mean()\n",
    "median_value = bears_data['Off TotYds'].median()\n",
    "std_value = bears_data['Off TotYds'].std()\n",
    "var_value = bears_data['Off TotYds'].var()\n",
    "min_value = bears_data['Off TotYds'].min()\n",
    "max_value = bears_data['Off TotYds'].max()\n",
    "data_range = max_value - min_value\n",
    "total_points = bears_data['Off TotYds'].sum()\n",
    "print(\"Chicago Bears Offense Total Yards Mean:\", mean_value)\n",
    "print(\"Chicago Bears Offense Total Yards Median:\", median_value)\n",
    "print(\"Chicago Bears Offense Total Yards Standard Deviation:\", std_value)\n",
    "print(\"Chicago Bears Offense Total Yards Variance:\", var_value)\n",
    "print(\"Chicago Bears Offense Total Yards Minimum:\", min_value)\n",
    "print(\"Chicago Bears Offense Total Yards Maximum:\", max_value)\n",
    "print(\"Chicago Bears Offense Total Yards Range:\", data_range)\n",
    "print(\"Chicago Bears Total Yards 2012-2022:\", total_points)"
   ]
  },
  {
   "cell_type": "markdown",
   "id": "c44407e7",
   "metadata": {},
   "source": [
    "### Cincinnati Bengals"
   ]
  },
  {
   "cell_type": "code",
   "execution_count": 16,
   "id": "248b9120",
   "metadata": {},
   "outputs": [
    {
     "name": "stdout",
     "output_type": "stream",
     "text": [
      "Cincinnati Bengals Offense Total Yards Mean: 5399.545454545455\n",
      "Cincinnati Bengals Offense Total Yards Median: 5568.0\n",
      "Cincinnati Bengals Offense Total Yards Standard Deviation: 544.7467968949177\n",
      "Cincinnati Bengals Offense Total Yards Variance: 296749.07272727275\n",
      "Cincinnati Bengals Offense Total Yards Minimum: 4488\n",
      "Cincinnati Bengals Offense Total Yards Maximum: 6145\n",
      "Cincinnati Bengals Offense Total Yards Range: 1657\n",
      "Cincinnati Bengals Total Yards 2012-2022: 59395\n"
     ]
    }
   ],
   "source": [
    "team_name7 = 'Cincinnati Bengals'\n",
    "bengals_data = nflyards[nflyards['Team'] == team_name7]\n",
    "mean_value = bengals_data['Off TotYds'].mean()\n",
    "median_value = bengals_data['Off TotYds'].median()\n",
    "std_value = bengals_data['Off TotYds'].std()\n",
    "var_value = bengals_data['Off TotYds'].var()\n",
    "min_value = bengals_data['Off TotYds'].min()\n",
    "max_value = bengals_data['Off TotYds'].max()\n",
    "data_range = max_value - min_value\n",
    "total_points = bengals_data['Off TotYds'].sum()\n",
    "print(\"Cincinnati Bengals Offense Total Yards Mean:\", mean_value)\n",
    "print(\"Cincinnati Bengals Offense Total Yards Median:\", median_value)\n",
    "print(\"Cincinnati Bengals Offense Total Yards Standard Deviation:\", std_value)\n",
    "print(\"Cincinnati Bengals Offense Total Yards Variance:\", var_value)\n",
    "print(\"Cincinnati Bengals Offense Total Yards Minimum:\", min_value)\n",
    "print(\"Cincinnati Bengals Offense Total Yards Maximum:\", max_value)\n",
    "print(\"Cincinnati Bengals Offense Total Yards Range:\", data_range)\n",
    "print(\"Cincinnati Bengals Total Yards 2012-2022:\", total_points)"
   ]
  },
  {
   "cell_type": "markdown",
   "id": "173eaf2f",
   "metadata": {},
   "source": [
    "### Cleveland Browns"
   ]
  },
  {
   "cell_type": "code",
   "execution_count": 17,
   "id": "e52f3585",
   "metadata": {},
   "outputs": [
    {
     "name": "stdout",
     "output_type": "stream",
     "text": [
      "Cleveland Browns Offense Total Yards Mean: 5355.909090909091\n",
      "Cleveland Browns Offense Total Yards Median: 5311.0\n",
      "Cleveland Browns Offense Total Yards Standard Deviation: 383.6932249976417\n",
      "Cleveland Browns Offense Total Yards Variance: 147220.4909090909\n",
      "Cleveland Browns Offense Total Yards Minimum: 4942\n",
      "Cleveland Browns Offense Total Yards Maximum: 5934\n",
      "Cleveland Browns Offense Total Yards Range: 992\n",
      "Cleveland Browns Total Yards 2012-2022: 58915\n"
     ]
    }
   ],
   "source": [
    "team_name8 = 'Cleveland Browns'\n",
    "browns_data = nflyards[nflyards['Team'] == team_name8]\n",
    "mean_value = browns_data['Off TotYds'].mean()\n",
    "median_value = browns_data['Off TotYds'].median()\n",
    "std_value = browns_data['Off TotYds'].std()\n",
    "var_value = browns_data['Off TotYds'].var()\n",
    "min_value = browns_data['Off TotYds'].min()\n",
    "max_value = browns_data['Off TotYds'].max()\n",
    "data_range = max_value - min_value\n",
    "total_points = browns_data['Off TotYds'].sum()\n",
    "print(\"Cleveland Browns Offense Total Yards Mean:\", mean_value)\n",
    "print(\"Cleveland Browns Offense Total Yards Median:\", median_value)\n",
    "print(\"Cleveland Browns Offense Total Yards Standard Deviation:\", std_value)\n",
    "print(\"Cleveland Browns Offense Total Yards Variance:\", var_value)\n",
    "print(\"Cleveland Browns Offense Total Yards Minimum:\", min_value)\n",
    "print(\"Cleveland Browns Offense Total Yards Maximum:\", max_value)\n",
    "print(\"Cleveland Browns Offense Total Yards Range:\", data_range)\n",
    "print(\"Cleveland Browns Total Yards 2012-2022:\", total_points)"
   ]
  },
  {
   "cell_type": "markdown",
   "id": "57de92b0",
   "metadata": {},
   "source": [
    "### Dallas Cowboys"
   ]
  },
  {
   "cell_type": "code",
   "execution_count": 18,
   "id": "09b6c943",
   "metadata": {},
   "outputs": [
    {
     "name": "stdout",
     "output_type": "stream",
     "text": [
      "Dallas Cowboys Offense Total Yards Mean: 5946.0\n",
      "Dallas Cowboys Offense Total Yards Median: 5994.0\n",
      "Dallas Cowboys Offense Total Yards Standard Deviation: 574.8733773623545\n",
      "Dallas Cowboys Offense Total Yards Variance: 330479.4\n",
      "Dallas Cowboys Offense Total Yards Minimum: 5311\n",
      "Dallas Cowboys Offense Total Yards Maximum: 6919\n",
      "Dallas Cowboys Offense Total Yards Range: 1608\n",
      "Dallas Cowboys Total Yards 2012-2022: 65406\n"
     ]
    }
   ],
   "source": [
    "team_name9 = 'Dallas Cowboys'\n",
    "cowboys_data = nflyards[nflyards['Team'] == team_name9]\n",
    "mean_value = cowboys_data['Off TotYds'].mean()\n",
    "median_value = cowboys_data['Off TotYds'].median()\n",
    "std_value = cowboys_data['Off TotYds'].std()\n",
    "var_value = cowboys_data['Off TotYds'].var()\n",
    "min_value = cowboys_data['Off TotYds'].min()\n",
    "max_value = cowboys_data['Off TotYds'].max()\n",
    "data_range = max_value - min_value\n",
    "total_points = cowboys_data['Off TotYds'].sum()\n",
    "print(\"Dallas Cowboys Offense Total Yards Mean:\", mean_value)\n",
    "print(\"Dallas Cowboys Offense Total Yards Median:\", median_value)\n",
    "print(\"Dallas Cowboys Offense Total Yards Standard Deviation:\", std_value)\n",
    "print(\"Dallas Cowboys Offense Total Yards Variance:\", var_value)\n",
    "print(\"Dallas Cowboys Offense Total Yards Minimum:\", min_value)\n",
    "print(\"Dallas Cowboys Offense Total Yards Maximum:\", max_value)\n",
    "print(\"Dallas Cowboys Offense Total Yards Range:\", data_range)\n",
    "print(\"Dallas Cowboys Total Yards 2012-2022:\", total_points)"
   ]
  },
  {
   "cell_type": "markdown",
   "id": "ed7577b1",
   "metadata": {},
   "source": [
    "### Denver Broncos"
   ]
  },
  {
   "cell_type": "code",
   "execution_count": 19,
   "id": "5792268c",
   "metadata": {},
   "outputs": [
    {
     "name": "stdout",
     "output_type": "stream",
     "text": [
      "Denver Broncos Offense Total Yards Mean: 5695.181818181818\n",
      "Denver Broncos Offense Total Yards Median: 5527.0\n",
      "Denver Broncos Offense Total Yards Standard Deviation: 736.5598167402045\n",
      "Denver Broncos Offense Total Yards Variance: 542520.3636363636\n",
      "Denver Broncos Offense Total Yards Minimum: 4777\n",
      "Denver Broncos Offense Total Yards Maximum: 7317\n",
      "Denver Broncos Offense Total Yards Range: 2540\n",
      "Denver Broncos Total Yards 2012-2022: 62647\n"
     ]
    }
   ],
   "source": [
    "team_name10 = 'Denver Broncos'\n",
    "broncos_data = nflyards[nflyards['Team'] == team_name10]\n",
    "mean_value = broncos_data['Off TotYds'].mean()\n",
    "median_value = broncos_data['Off TotYds'].median()\n",
    "std_value = broncos_data['Off TotYds'].std()\n",
    "var_value = broncos_data['Off TotYds'].var()\n",
    "min_value = broncos_data['Off TotYds'].min()\n",
    "max_value = broncos_data['Off TotYds'].max()\n",
    "data_range = max_value - min_value\n",
    "total_points = broncos_data['Off TotYds'].sum()\n",
    "print(\"Denver Broncos Offense Total Yards Mean:\", mean_value)\n",
    "print(\"Denver Broncos Offense Total Yards Median:\", median_value)\n",
    "print(\"Denver Broncos Offense Total Yards Standard Deviation:\", std_value)\n",
    "print(\"Denver Broncos Offense Total Yards Variance:\", var_value)\n",
    "print(\"Denver Broncos Offense Total Yards Minimum:\", min_value)\n",
    "print(\"Denver Broncos Offense Total Yards Maximum:\", max_value)\n",
    "print(\"Denver Broncos Offense Total Yards Range:\", data_range)\n",
    "print(\"Denver Broncos Total Yards 2012-2022:\", total_points)"
   ]
  },
  {
   "cell_type": "markdown",
   "id": "ac9a35d8",
   "metadata": {},
   "source": [
    "### Detroit Lions"
   ]
  },
  {
   "cell_type": "code",
   "execution_count": 20,
   "id": "95546a0e",
   "metadata": {},
   "outputs": [
    {
     "name": "stdout",
     "output_type": "stream",
     "text": [
      "Detroit Lions Offense Total Yards Mean: 5739.818181818182\n",
      "Detroit Lions Offense Total Yards Median: 5547.0\n",
      "Detroit Lions Offense Total Yards Standard Deviation: 448.5629985145494\n",
      "Detroit Lions Offense Total Yards Variance: 201208.76363636364\n",
      "Detroit Lions Offense Total Yards Minimum: 5404\n",
      "Detroit Lions Offense Total Yards Maximum: 6540\n",
      "Detroit Lions Offense Total Yards Range: 1136\n",
      "Detroit Lions Total Yards 2012-2022: 63138\n"
     ]
    }
   ],
   "source": [
    "team_name11 = 'Detroit Lions'\n",
    "lions_data = nflyards[nflyards['Team'] == team_name11]\n",
    "mean_value = lions_data['Off TotYds'].mean()\n",
    "median_value = lions_data['Off TotYds'].median()\n",
    "std_value = lions_data['Off TotYds'].std()\n",
    "var_value = lions_data['Off TotYds'].var()\n",
    "min_value = lions_data['Off TotYds'].min()\n",
    "max_value = lions_data['Off TotYds'].max()\n",
    "data_range = max_value - min_value\n",
    "total_points = lions_data['Off TotYds'].sum()\n",
    "print(\"Detroit Lions Offense Total Yards Mean:\", mean_value)\n",
    "print(\"Detroit Lions Offense Total Yards Median:\", median_value)\n",
    "print(\"Detroit Lions Offense Total Yards Standard Deviation:\", std_value)\n",
    "print(\"Detroit Lions Offense Total Yards Variance:\", var_value)\n",
    "print(\"Detroit Lions Offense Total Yards Minimum:\", min_value)\n",
    "print(\"Detroit Lions Offense Total Yards Maximum:\", max_value)\n",
    "print(\"Detroit Lions Offense Total Yards Range:\", data_range)\n",
    "print(\"Detroit Lions Total Yards 2012-2022:\", total_points)"
   ]
  },
  {
   "cell_type": "markdown",
   "id": "c086e216",
   "metadata": {},
   "source": [
    "### Green Bay Packers"
   ]
  },
  {
   "cell_type": "code",
   "execution_count": 21,
   "id": "10cc7e0f",
   "metadata": {},
   "outputs": [
    {
     "name": "stdout",
     "output_type": "stream",
     "text": [
      "Green Bay Packers Offense Total Yards Mean: 5734.545454545455\n",
      "Green Bay Packers Offense Total Yards Median: 5751.0\n",
      "Green Bay Packers Offense Total Yards Standard Deviation: 524.8194667952712\n",
      "Green Bay Packers Offense Total Yards Variance: 275435.4727272727\n",
      "Green Bay Packers Offense Total Yards Minimum: 4891\n",
      "Green Bay Packers Offense Total Yards Maximum: 6404\n",
      "Green Bay Packers Offense Total Yards Range: 1513\n",
      "Green Bay Packers Total Yards 2012-2022: 63080\n"
     ]
    }
   ],
   "source": [
    "team_name12 = 'Green Bay Packers'\n",
    "packers_data = nflyards[nflyards['Team'] == team_name12]\n",
    "mean_value = packers_data['Off TotYds'].mean()\n",
    "median_value = packers_data['Off TotYds'].median()\n",
    "std_value = packers_data['Off TotYds'].std()\n",
    "var_value = packers_data['Off TotYds'].var()\n",
    "min_value = packers_data['Off TotYds'].min()\n",
    "max_value = packers_data['Off TotYds'].max()\n",
    "data_range = max_value - min_value\n",
    "total_points = packers_data['Off TotYds'].sum()\n",
    "print(\"Green Bay Packers Offense Total Yards Mean:\", mean_value)\n",
    "print(\"Green Bay Packers Offense Total Yards Median:\", median_value)\n",
    "print(\"Green Bay Packers Offense Total Yards Standard Deviation:\", std_value)\n",
    "print(\"Green Bay Packers Offense Total Yards Variance:\", var_value)\n",
    "print(\"Green Bay Packers Offense Total Yards Minimum:\", min_value)\n",
    "print(\"Green Bay Packers Offense Total Yards Maximum:\", max_value)\n",
    "print(\"Green Bay Packers Offense Total Yards Range:\", data_range)\n",
    "print(\"Green Bay Packers Total Yards 2012-2022:\", total_points)"
   ]
  },
  {
   "cell_type": "markdown",
   "id": "8d26c50c",
   "metadata": {},
   "source": [
    "### Houston Texans"
   ]
  },
  {
   "cell_type": "code",
   "execution_count": 22,
   "id": "495d2c07",
   "metadata": {},
   "outputs": [
    {
     "name": "stdout",
     "output_type": "stream",
     "text": [
      "Houston Texans Offense Total Yards Mean: 5382.181818181818\n",
      "Houston Texans Offense Total Yards Median: 5513.0\n",
      "Houston Texans Offense Total Yards Standard Deviation: 443.18750392623167\n",
      "Houston Texans Offense Total Yards Variance: 196415.16363636364\n",
      "Houston Texans Offense Total Yards Minimum: 4727\n",
      "Houston Texans Offense Total Yards Maximum: 6004\n",
      "Houston Texans Offense Total Yards Range: 1277\n",
      "Houston Texans Total Yards 2012-2022: 59204\n"
     ]
    }
   ],
   "source": [
    "team_name13 = 'Houston Texans'\n",
    "texans_data = nflyards[nflyards['Team'] == team_name13]\n",
    "mean_value = texans_data['Off TotYds'].mean()\n",
    "median_value = texans_data['Off TotYds'].median()\n",
    "std_value = texans_data['Off TotYds'].std()\n",
    "var_value = texans_data['Off TotYds'].var()\n",
    "min_value = texans_data['Off TotYds'].min()\n",
    "max_value = texans_data['Off TotYds'].max()\n",
    "data_range = max_value - min_value\n",
    "total_points = texans_data['Off TotYds'].sum()\n",
    "print(\"Houston Texans Offense Total Yards Mean:\", mean_value)\n",
    "print(\"Houston Texans Offense Total Yards Median:\", median_value)\n",
    "print(\"Houston Texans Offense Total Yards Standard Deviation:\", std_value)\n",
    "print(\"Houston Texans Offense Total Yards Variance:\", var_value)\n",
    "print(\"Houston Texans Offense Total Yards Minimum:\", min_value)\n",
    "print(\"Houston Texans Offense Total Yards Maximum:\", max_value)\n",
    "print(\"Houston Texans Offense Total Yards Range:\", data_range)\n",
    "print(\"Houston Texans Total Yards 2012-2022:\", total_points)"
   ]
  },
  {
   "cell_type": "markdown",
   "id": "b74d8fd8",
   "metadata": {},
   "source": [
    "### Indianapolis Colts"
   ]
  },
  {
   "cell_type": "code",
   "execution_count": 23,
   "id": "fbb59088",
   "metadata": {},
   "outputs": [
    {
     "name": "stdout",
     "output_type": "stream",
     "text": [
      "Indianapolis Colts Offense Total Yards Mean: 5485.181818181818\n",
      "Indianapolis Colts Offense Total Yards Median: 5468.0\n",
      "Indianapolis Colts Offense Total Yards Standard Deviation: 608.4716621473539\n",
      "Indianapolis Colts Offense Total Yards Variance: 370237.7636363636\n",
      "Indianapolis Colts Offense Total Yards Minimum: 4553\n",
      "Indianapolis Colts Offense Total Yards Maximum: 6506\n",
      "Indianapolis Colts Offense Total Yards Range: 1953\n",
      "Indianapolis Colts Total Yards 2012-2022: 60337\n"
     ]
    }
   ],
   "source": [
    "team_name14 = 'Indianapolis Colts'\n",
    "colts_data = nflyards[nflyards['Team'] == team_name14]\n",
    "mean_value = colts_data['Off TotYds'].mean()\n",
    "median_value = colts_data['Off TotYds'].median()\n",
    "std_value = colts_data['Off TotYds'].std()\n",
    "var_value = colts_data['Off TotYds'].var()\n",
    "min_value = colts_data['Off TotYds'].min()\n",
    "max_value = colts_data['Off TotYds'].max()\n",
    "data_range = max_value - min_value\n",
    "total_points = colts_data['Off TotYds'].sum()\n",
    "print(\"Indianapolis Colts Offense Total Yards Mean:\", mean_value)\n",
    "print(\"Indianapolis Colts Offense Total Yards Median:\", median_value)\n",
    "print(\"Indianapolis Colts Offense Total Yards Standard Deviation:\", std_value)\n",
    "print(\"Indianapolis Colts Offense Total Yards Variance:\", var_value)\n",
    "print(\"Indianapolis Colts Offense Total Yards Minimum:\", min_value)\n",
    "print(\"Indianapolis Colts Offense Total Yards Maximum:\", max_value)\n",
    "print(\"Indianapolis Colts Offense Total Yards Range:\", data_range)\n",
    "print(\"Indianapolis Colts Total Yards 2012-2022:\", total_points)"
   ]
  },
  {
   "cell_type": "markdown",
   "id": "e8c6e962",
   "metadata": {},
   "source": [
    "### Jacksonville Jaguars"
   ]
  },
  {
   "cell_type": "code",
   "execution_count": 24,
   "id": "a1e5e5d6",
   "metadata": {},
   "outputs": [
    {
     "name": "stdout",
     "output_type": "stream",
     "text": [
      "Jacksonville Jaguars Offense Total Yards Mean: 5338.636363636364\n",
      "Jacksonville Jaguars Offense Total Yards Median: 5359.0\n",
      "Jacksonville Jaguars Offense Total Yards Standard Deviation: 489.28790557856075\n",
      "Jacksonville Jaguars Offense Total Yards Variance: 239402.6545454546\n",
      "Jacksonville Jaguars Offense Total Yards Minimum: 4634\n",
      "Jacksonville Jaguars Offense Total Yards Maximum: 6075\n",
      "Jacksonville Jaguars Offense Total Yards Range: 1441\n",
      "Jacksonville Jaguars Total Yards 2012-2022: 58725\n"
     ]
    }
   ],
   "source": [
    "team_name15 = 'Jacksonville Jaguars'\n",
    "jaguars_data = nflyards[nflyards['Team'] == team_name15]\n",
    "mean_value = jaguars_data['Off TotYds'].mean()\n",
    "median_value = jaguars_data['Off TotYds'].median()\n",
    "std_value = jaguars_data['Off TotYds'].std()\n",
    "var_value = jaguars_data['Off TotYds'].var()\n",
    "min_value = jaguars_data['Off TotYds'].min()\n",
    "max_value = jaguars_data['Off TotYds'].max()\n",
    "data_range = max_value - min_value\n",
    "total_points = jaguars_data['Off TotYds'].sum()\n",
    "print(\"Jacksonville Jaguars Offense Total Yards Mean:\", mean_value)\n",
    "print(\"Jacksonville Jaguars Offense Total Yards Median:\", median_value)\n",
    "print(\"Jacksonville Jaguars Offense Total Yards Standard Deviation:\", std_value)\n",
    "print(\"Jacksonville Jaguars Offense Total Yards Variance:\", var_value)\n",
    "print(\"Jacksonville Jaguars Offense Total Yards Minimum:\", min_value)\n",
    "print(\"Jacksonville Jaguars Offense Total Yards Maximum:\", max_value)\n",
    "print(\"Jacksonville Jaguars Offense Total Yards Range:\", data_range)\n",
    "print(\"Jacksonville Jaguars Total Yards 2012-2022:\", total_points)"
   ]
  },
  {
   "cell_type": "markdown",
   "id": "7411a9f5",
   "metadata": {},
   "source": [
    "### Kansas City Chiefs"
   ]
  },
  {
   "cell_type": "code",
   "execution_count": 25,
   "id": "40a3c0eb",
   "metadata": {},
   "outputs": [
    {
     "name": "stdout",
     "output_type": "stream",
     "text": [
      "Kansas City Chiefs Offense Total Yards Mean: 5900.272727272727\n",
      "Kansas City Chiefs Offense Total Yards Median: 6007.0\n",
      "Kansas City Chiefs Offense Total Yards Standard Deviation: 683.1661717194567\n",
      "Kansas City Chiefs Offense Total Yards Variance: 466716.0181818182\n",
      "Kansas City Chiefs Offense Total Yards Minimum: 5100\n",
      "Kansas City Chiefs Offense Total Yards Maximum: 7032\n",
      "Kansas City Chiefs Offense Total Yards Range: 1932\n",
      "Kansas City Chiefs Total Yards 2012-2022: 64903\n"
     ]
    }
   ],
   "source": [
    "team_name16 = 'Kansas City Chiefs'\n",
    "chiefs_data = nflyards[nflyards['Team'] == team_name16]\n",
    "mean_value = chiefs_data['Off TotYds'].mean()\n",
    "median_value = chiefs_data['Off TotYds'].median()\n",
    "std_value = chiefs_data['Off TotYds'].std()\n",
    "var_value = chiefs_data['Off TotYds'].var()\n",
    "min_value = chiefs_data['Off TotYds'].min()\n",
    "max_value = chiefs_data['Off TotYds'].max()\n",
    "data_range = max_value - min_value\n",
    "total_points = chiefs_data['Off TotYds'].sum()\n",
    "print(\"Kansas City Chiefs Offense Total Yards Mean:\", mean_value)\n",
    "print(\"Kansas City Chiefs Offense Total Yards Median:\", median_value)\n",
    "print(\"Kansas City Chiefs Offense Total Yards Standard Deviation:\", std_value)\n",
    "print(\"Kansas City Chiefs Offense Total Yards Variance:\", var_value)\n",
    "print(\"Kansas City Chiefs Offense Total Yards Minimum:\", min_value)\n",
    "print(\"Kansas City Chiefs Offense Total Yards Maximum:\", max_value)\n",
    "print(\"Kansas City Chiefs Offense Total Yards Range:\", data_range)\n",
    "print(\"Kansas City Chiefs Total Yards 2012-2022:\", total_points)"
   ]
  },
  {
   "cell_type": "markdown",
   "id": "57e2b288",
   "metadata": {},
   "source": [
    "### Las Vegas Raiders"
   ]
  },
  {
   "cell_type": "code",
   "execution_count": 26,
   "id": "660b9495",
   "metadata": {},
   "outputs": [
    {
     "name": "stdout",
     "output_type": "stream",
     "text": [
      "Las Vegas Raiders Offense Total Yards Mean: 5560.636363636364\n",
      "Las Vegas Raiders Offense Total Yards Median: 5504.0\n",
      "Las Vegas Raiders Offense Total Yards Standard Deviation: 511.6470018923736\n",
      "Las Vegas Raiders Offense Total Yards Variance: 261782.6545454546\n",
      "Las Vegas Raiders Offense Total Yards Minimum: 4515\n",
      "Las Vegas Raiders Offense Total Yards Maximum: 6184\n",
      "Las Vegas Raiders Offense Total Yards Range: 1669\n",
      "Las Vegas Raiders Total Yards 2012-2022: 61167\n"
     ]
    }
   ],
   "source": [
    "team_name17 = 'Las Vegas Raiders'\n",
    "raiders_data = nflyards[nflyards['Team'] == team_name17]\n",
    "mean_value = raiders_data['Off TotYds'].mean()\n",
    "median_value = raiders_data['Off TotYds'].median()\n",
    "std_value = raiders_data['Off TotYds'].std()\n",
    "var_value = raiders_data['Off TotYds'].var()\n",
    "min_value = raiders_data['Off TotYds'].min()\n",
    "max_value = raiders_data['Off TotYds'].max()\n",
    "data_range = max_value - min_value\n",
    "total_points = raiders_data['Off TotYds'].sum()\n",
    "print(\"Las Vegas Raiders Offense Total Yards Mean:\", mean_value)\n",
    "print(\"Las Vegas Raiders Offense Total Yards Median:\", median_value)\n",
    "print(\"Las Vegas Raiders Offense Total Yards Standard Deviation:\", std_value)\n",
    "print(\"Las Vegas Raiders Offense Total Yards Variance:\", var_value)\n",
    "print(\"Las Vegas Raiders Offense Total Yards Minimum:\", min_value)\n",
    "print(\"Las Vegas Raiders Offense Total Yards Maximum:\", max_value)\n",
    "print(\"Las Vegas Raiders Offense Total Yards Range:\", data_range)\n",
    "print(\"Las Vegas Raiders Total Yards 2012-2022:\", total_points)"
   ]
  },
  {
   "cell_type": "markdown",
   "id": "d660b9ec",
   "metadata": {},
   "source": [
    "### Los Angeles Chargers"
   ]
  },
  {
   "cell_type": "code",
   "execution_count": 27,
   "id": "9542bf0f",
   "metadata": {},
   "outputs": [
    {
     "name": "stdout",
     "output_type": "stream",
     "text": [
      "Los Angeles Chargers Offense Total Yards Mean: 5905.181818181818\n",
      "Los Angeles Chargers Offense Total Yards Median: 6026.0\n",
      "Los Angeles Chargers Offense Total Yards Standard Deviation: 484.86716081455097\n",
      "Los Angeles Chargers Offense Total Yards Variance: 235096.16363636364\n",
      "Los Angeles Chargers Offense Total Yards Minimum: 4756\n",
      "Los Angeles Chargers Offense Total Yards Maximum: 6634\n",
      "Los Angeles Chargers Offense Total Yards Range: 1878\n",
      "Los Angeles Chargers Total Yards 2012-2022: 64957\n"
     ]
    }
   ],
   "source": [
    "team_name18 = 'Los Angeles Chargers'\n",
    "chargers_data = nflyards[nflyards['Team'] == team_name18]\n",
    "mean_value = chargers_data['Off TotYds'].mean()\n",
    "median_value = chargers_data['Off TotYds'].median()\n",
    "std_value = chargers_data['Off TotYds'].std()\n",
    "var_value = chargers_data['Off TotYds'].var()\n",
    "min_value = chargers_data['Off TotYds'].min()\n",
    "max_value = chargers_data['Off TotYds'].max()\n",
    "data_range = max_value - min_value\n",
    "total_points = chargers_data['Off TotYds'].sum()\n",
    "print(\"Los Angeles Chargers Offense Total Yards Mean:\", mean_value)\n",
    "print(\"Los Angeles Chargers Offense Total Yards Median:\", median_value)\n",
    "print(\"Los Angeles Chargers Offense Total Yards Standard Deviation:\", std_value)\n",
    "print(\"Los Angeles Chargers Offense Total Yards Variance:\", var_value)\n",
    "print(\"Los Angeles Chargers Offense Total Yards Minimum:\", min_value)\n",
    "print(\"Los Angeles Chargers Offense Total Yards Maximum:\", max_value)\n",
    "print(\"Los Angeles Chargers Offense Total Yards Range:\", data_range)\n",
    "print(\"Los Angeles Chargers Total Yards 2012-2022:\", total_points)"
   ]
  },
  {
   "cell_type": "markdown",
   "id": "eec97d47",
   "metadata": {},
   "source": [
    "### Los Angeles Rams"
   ]
  },
  {
   "cell_type": "code",
   "execution_count": 28,
   "id": "52300d2a",
   "metadata": {},
   "outputs": [
    {
     "name": "stdout",
     "output_type": "stream",
     "text": [
      "Los Angeles Rams Offense Total Yards Mean: 5348.363636363636\n",
      "Los Angeles Rams Offense Total Yards Median: 5264.0\n",
      "Los Angeles Rams Offense Total Yards Standard Deviation: 674.0012274064896\n",
      "Los Angeles Rams Offense Total Yards Variance: 454277.6545454546\n",
      "Los Angeles Rams Offense Total Yards Minimum: 4203\n",
      "Los Angeles Rams Offense Total Yards Maximum: 6325\n",
      "Los Angeles Rams Offense Total Yards Range: 2122\n",
      "Los Angeles Rams Total Yards 2012-2022: 58832\n"
     ]
    }
   ],
   "source": [
    "team_name19 = 'Los Angeles Rams'\n",
    "Rams_data = nflyards[nflyards['Team'] == team_name19]\n",
    "mean_value = Rams_data['Off TotYds'].mean()\n",
    "median_value = Rams_data['Off TotYds'].median()\n",
    "std_value = Rams_data['Off TotYds'].std()\n",
    "var_value = Rams_data['Off TotYds'].var()\n",
    "min_value = Rams_data['Off TotYds'].min()\n",
    "max_value = Rams_data['Off TotYds'].max()\n",
    "data_range = max_value - min_value\n",
    "total_points = Rams_data['Off TotYds'].sum()\n",
    "print(\"Los Angeles Rams Offense Total Yards Mean:\", mean_value)\n",
    "print(\"Los Angeles Rams Offense Total Yards Median:\", median_value)\n",
    "print(\"Los Angeles Rams Offense Total Yards Standard Deviation:\", std_value)\n",
    "print(\"Los Angeles Rams Offense Total Yards Variance:\", var_value)\n",
    "print(\"Los Angeles Rams Offense Total Yards Minimum:\", min_value)\n",
    "print(\"Los Angeles Rams Offense Total Yards Maximum:\", max_value)\n",
    "print(\"Los Angeles Rams Offense Total Yards Range:\", data_range)\n",
    "print(\"Los Angeles Rams Total Yards 2012-2022:\", total_points)"
   ]
  },
  {
   "cell_type": "markdown",
   "id": "07002bc4",
   "metadata": {},
   "source": [
    "### Miami Dolphins"
   ]
  },
  {
   "cell_type": "code",
   "execution_count": 29,
   "id": "fdb4368a",
   "metadata": {},
   "outputs": [
    {
     "name": "stdout",
     "output_type": "stream",
     "text": [
      "Miami Dolphins Offense Total Yards Mean: 5260.818181818182\n",
      "Miami Dolphins Offense Total Yards Median: 5219.0\n",
      "Miami Dolphins Offense Total Yards Standard Deviation: 385.5447621695354\n",
      "Miami Dolphins Offense Total Yards Variance: 148644.7636363636\n",
      "Miami Dolphins Offense Total Yards Minimum: 4923\n",
      "Miami Dolphins Offense Total Yards Maximum: 6197\n",
      "Miami Dolphins Offense Total Yards Range: 1274\n",
      "Miami Dolphins Total Yards 2012-2022: 57869\n"
     ]
    }
   ],
   "source": [
    "team_name20 = 'Miami Dolphins'\n",
    "dolphins_data = nflyards[nflyards['Team'] == team_name20]\n",
    "mean_value = dolphins_data['Off TotYds'].mean()\n",
    "median_value = dolphins_data['Off TotYds'].median()\n",
    "std_value = dolphins_data['Off TotYds'].std()\n",
    "var_value = dolphins_data['Off TotYds'].var()\n",
    "min_value = dolphins_data['Off TotYds'].min()\n",
    "max_value = dolphins_data['Off TotYds'].max()\n",
    "data_range = max_value - min_value\n",
    "total_points = dolphins_data['Off TotYds'].sum()\n",
    "print(\"Miami Dolphins Offense Total Yards Mean:\", mean_value)\n",
    "print(\"Miami Dolphins Offense Total Yards Median:\", median_value)\n",
    "print(\"Miami Dolphins Offense Total Yards Standard Deviation:\", std_value)\n",
    "print(\"Miami Dolphins Offense Total Yards Variance:\", var_value)\n",
    "print(\"Miami Dolphins Offense Total Yards Minimum:\", min_value)\n",
    "print(\"Miami Dolphins Offense Total Yards Maximum:\", max_value)\n",
    "print(\"Miami Dolphins Offense Total Yards Range:\", data_range)\n",
    "print(\"Miami Dolphins Total Yards 2012-2022:\", total_points)"
   ]
  },
  {
   "cell_type": "markdown",
   "id": "c06d30e1",
   "metadata": {},
   "source": [
    "### Minnesota Vikings"
   ]
  },
  {
   "cell_type": "code",
   "execution_count": 30,
   "id": "79714a76",
   "metadata": {},
   "outputs": [
    {
     "name": "stdout",
     "output_type": "stream",
     "text": [
      "Minnesota Vikings Offense Total Yards Mean: 5618.363636363636\n",
      "Minnesota Vikings Offense Total Yards Median: 5656.0\n",
      "Minnesota Vikings Offense Total Yards Standard Deviation: 447.9435841101584\n",
      "Minnesota Vikings Offense Total Yards Variance: 200653.45454545453\n",
      "Minnesota Vikings Offense Total Yards Minimum: 5041\n",
      "Minnesota Vikings Offense Total Yards Maximum: 6292\n",
      "Minnesota Vikings Offense Total Yards Range: 1251\n",
      "Minnesota Vikings Total Yards 2012-2022: 61802\n"
     ]
    }
   ],
   "source": [
    "team_name21 = 'Minnesota Vikings'\n",
    "vikings_data = nflyards[nflyards['Team'] == team_name21]\n",
    "mean_value = vikings_data['Off TotYds'].mean()\n",
    "median_value = vikings_data['Off TotYds'].median()\n",
    "std_value = vikings_data['Off TotYds'].std()\n",
    "var_value = vikings_data['Off TotYds'].var()\n",
    "min_value = vikings_data['Off TotYds'].min()\n",
    "max_value = vikings_data['Off TotYds'].max()\n",
    "data_range = max_value - min_value\n",
    "total_points = vikings_data['Off TotYds'].sum()\n",
    "print(\"Minnesota Vikings Offense Total Yards Mean:\", mean_value)\n",
    "print(\"Minnesota Vikings Offense Total Yards Median:\", median_value)\n",
    "print(\"Minnesota Vikings Offense Total Yards Standard Deviation:\", std_value)\n",
    "print(\"Minnesota Vikings Offense Total Yards Variance:\", var_value)\n",
    "print(\"Minnesota Vikings Offense Total Yards Minimum:\", min_value)\n",
    "print(\"Minnesota Vikings Offense Total Yards Maximum:\", max_value)\n",
    "print(\"Minnesota Vikings Offense Total Yards Range:\", data_range)\n",
    "print(\"Minnesota Vikings Total Yards 2012-2022:\", total_points)"
   ]
  },
  {
   "cell_type": "markdown",
   "id": "34a38cc7",
   "metadata": {},
   "source": [
    "### New England Patriots"
   ]
  },
  {
   "cell_type": "code",
   "execution_count": 31,
   "id": "cf1f9bb3",
   "metadata": {},
   "outputs": [
    {
     "name": "stdout",
     "output_type": "stream",
     "text": [
      "New England Patriots Offense Total Yards Mean: 5989.727272727273\n",
      "New England Patriots Offense Total Yards Median: 6008.0\n",
      "New England Patriots Offense Total Yards Standard Deviation: 458.6395296764314\n",
      "New England Patriots Offense Total Yards Variance: 210350.21818181817\n",
      "New England Patriots Offense Total Yards Minimum: 5236\n",
      "New England Patriots Offense Total Yards Maximum: 6846\n",
      "New England Patriots Offense Total Yards Range: 1610\n",
      "New England Patriots Total Yards 2012-2022: 65887\n"
     ]
    }
   ],
   "source": [
    "team_name22 = 'New England Patriots'\n",
    "patriots_data = nflyards[nflyards['Team'] == team_name22]\n",
    "mean_value = patriots_data['Off TotYds'].mean()\n",
    "median_value = patriots_data['Off TotYds'].median()\n",
    "std_value = patriots_data['Off TotYds'].std()\n",
    "var_value = patriots_data['Off TotYds'].var()\n",
    "min_value = patriots_data['Off TotYds'].min()\n",
    "max_value = patriots_data['Off TotYds'].max()\n",
    "data_range = max_value - min_value\n",
    "total_points = patriots_data['Off TotYds'].sum()\n",
    "print(\"New England Patriots Offense Total Yards Mean:\", mean_value)\n",
    "print(\"New England Patriots Offense Total Yards Median:\", median_value)\n",
    "print(\"New England Patriots Offense Total Yards Standard Deviation:\", std_value)\n",
    "print(\"New England Patriots Offense Total Yards Variance:\", var_value)\n",
    "print(\"New England Patriots Offense Total Yards Minimum:\", min_value)\n",
    "print(\"New England Patriots Offense Total Yards Maximum:\", max_value)\n",
    "print(\"New England Patriots Offense Total Yards Range:\", data_range)\n",
    "print(\"New England Patriots Total Yards 2012-2022:\", total_points)"
   ]
  },
  {
   "cell_type": "markdown",
   "id": "7baeda4c",
   "metadata": {},
   "source": [
    "### New Orleans Saints"
   ]
  },
  {
   "cell_type": "code",
   "execution_count": 32,
   "id": "bf2b0c3c",
   "metadata": {},
   "outputs": [
    {
     "name": "stdout",
     "output_type": "stream",
     "text": [
      "New Orleans Saints Offense Total Yards Mean: 6193.9\n",
      "New Orleans Saints Offense Total Yards Median: 6325.0\n",
      "New Orleans Saints Offense Total Yards Standard Deviation: 491.5988540805738\n",
      "New Orleans Saints Offense Total Yards Variance: 241669.43333333332\n",
      "New Orleans Saints Offense Total Yards Minimum: 5177\n",
      "New Orleans Saints Offense Total Yards Maximum: 6816\n",
      "New Orleans Saints Offense Total Yards Range: 1639\n",
      "New Orleans Saints Total Yards 2012-2022: 61939\n"
     ]
    }
   ],
   "source": [
    "team_name23 = 'New Orleans Saints'\n",
    "saints_data = nflyards[nflyards['Team'] == team_name23]\n",
    "mean_value = saints_data['Off TotYds'].mean()\n",
    "median_value = saints_data['Off TotYds'].median()\n",
    "std_value = saints_data['Off TotYds'].std()\n",
    "var_value = saints_data['Off TotYds'].var()\n",
    "min_value = saints_data['Off TotYds'].min()\n",
    "max_value = saints_data['Off TotYds'].max()\n",
    "data_range = max_value - min_value\n",
    "total_points = saints_data['Off TotYds'].sum()\n",
    "print(\"New Orleans Saints Offense Total Yards Mean:\", mean_value)\n",
    "print(\"New Orleans Saints Offense Total Yards Median:\", median_value)\n",
    "print(\"New Orleans Saints Offense Total Yards Standard Deviation:\", std_value)\n",
    "print(\"New Orleans Saints Offense Total Yards Variance:\", var_value)\n",
    "print(\"New Orleans Saints Offense Total Yards Minimum:\", min_value)\n",
    "print(\"New Orleans Saints Offense Total Yards Maximum:\", max_value)\n",
    "print(\"New Orleans Saints Offense Total Yards Range:\", data_range)\n",
    "print(\"New Orleans Saints Total Yards 2012-2022:\", total_points)"
   ]
  },
  {
   "cell_type": "markdown",
   "id": "11987db6",
   "metadata": {},
   "source": [
    "### New York Giants"
   ]
  },
  {
   "cell_type": "code",
   "execution_count": 34,
   "id": "6cc4fd77",
   "metadata": {},
   "outputs": [
    {
     "name": "stdout",
     "output_type": "stream",
     "text": [
      "New York Giants Offense Total Yards Mean: 5322.818181818182\n",
      "New York Giants Offense Total Yards Median: 5291.0\n",
      "New York Giants Offense Total Yards Standard Deviation: 421.4431914699342\n",
      "New York Giants Offense Total Yards Variance: 177614.36363636362\n",
      "New York Giants Offense Total Yards Minimum: 4794\n",
      "New York Giants Offense Total Yards Maximum: 5952\n",
      "New York Giants Offense Total Yards Range: 1158\n",
      "New York Giants Total Yards 2012-2022: 58551\n"
     ]
    }
   ],
   "source": [
    "team_name24 = 'New York Giants'\n",
    "giants_data = nflyards[nflyards['Team'] == team_name24]\n",
    "mean_value = giants_data['Off TotYds'].mean()\n",
    "median_value = giants_data['Off TotYds'].median()\n",
    "std_value = giants_data['Off TotYds'].std()\n",
    "var_value = giants_data['Off TotYds'].var()\n",
    "min_value = giants_data['Off TotYds'].min()\n",
    "max_value = giants_data['Off TotYds'].max()\n",
    "data_range = max_value - min_value\n",
    "total_points = giants_data['Off TotYds'].sum()\n",
    "print(\"New York Giants Offense Total Yards Mean:\", mean_value)\n",
    "print(\"New York Giants Offense Total Yards Median:\", median_value)\n",
    "print(\"New York Giants Offense Total Yards Standard Deviation:\", std_value)\n",
    "print(\"New York Giants Offense Total Yards Variance:\", var_value)\n",
    "print(\"New York Giants Offense Total Yards Minimum:\", min_value)\n",
    "print(\"New York Giants Offense Total Yards Maximum:\", max_value)\n",
    "print(\"New York Giants Offense Total Yards Range:\", data_range)\n",
    "print(\"New York Giants Total Yards 2012-2022:\", total_points)"
   ]
  },
  {
   "cell_type": "markdown",
   "id": "e1511664",
   "metadata": {},
   "source": [
    "### New York Jets"
   ]
  },
  {
   "cell_type": "code",
   "execution_count": 35,
   "id": "ad484990",
   "metadata": {},
   "outputs": [
    {
     "name": "stdout",
     "output_type": "stream",
     "text": [
      "New York Jets Offense Total Yards Mean: 5048.0\n",
      "New York Jets Offense Total Yards Median: 5090.0\n",
      "New York Jets Offense Total Yards Standard Deviation: 437.60393051251265\n",
      "New York Jets Offense Total Yards Variance: 191497.2\n",
      "New York Jets Offense Total Yards Minimum: 4368\n",
      "New York Jets Offense Total Yards Maximum: 5925\n",
      "New York Jets Offense Total Yards Range: 1557\n",
      "New York Jets Total Yards 2012-2022: 55528\n"
     ]
    }
   ],
   "source": [
    "team_name25 = 'New York Jets'\n",
    "Jets_data = nflyards[nflyards['Team'] == team_name25]\n",
    "mean_value = Jets_data['Off TotYds'].mean()\n",
    "median_value = Jets_data['Off TotYds'].median()\n",
    "std_value = Jets_data['Off TotYds'].std()\n",
    "var_value = Jets_data['Off TotYds'].var()\n",
    "min_value = Jets_data['Off TotYds'].min()\n",
    "max_value = Jets_data['Off TotYds'].max()\n",
    "data_range = max_value - min_value\n",
    "total_points = Jets_data['Off TotYds'].sum()\n",
    "print(\"New York Jets Offense Total Yards Mean:\", mean_value)\n",
    "print(\"New York Jets Offense Total Yards Median:\", median_value)\n",
    "print(\"New York Jets Offense Total Yards Standard Deviation:\", std_value)\n",
    "print(\"New York Jets Offense Total Yards Variance:\", var_value)\n",
    "print(\"New York Jets Offense Total Yards Minimum:\", min_value)\n",
    "print(\"New York Jets Offense Total Yards Maximum:\", max_value)\n",
    "print(\"New York Jets Offense Total Yards Range:\", data_range)\n",
    "print(\"New York Jets Total Yards 2012-2022:\", total_points)"
   ]
  },
  {
   "cell_type": "markdown",
   "id": "060cb418",
   "metadata": {},
   "source": [
    "### Philadelphia Eagles"
   ]
  },
  {
   "cell_type": "code",
   "execution_count": 36,
   "id": "6699aa1f",
   "metadata": {},
   "outputs": [
    {
     "name": "stdout",
     "output_type": "stream",
     "text": [
      "Philadelphia Eagles Offense Total Yards Mean: 5952.727272727273\n",
      "Philadelphia Eagles Offense Total Yards Median: 5852.0\n",
      "Philadelphia Eagles Offense Total Yards Standard Deviation: 442.86478543887205\n",
      "Philadelphia Eagles Offense Total Yards Variance: 196129.2181818182\n",
      "Philadelphia Eagles Offense Total Yards Minimum: 5354\n",
      "Philadelphia Eagles Offense Total Yards Maximum: 6676\n",
      "Philadelphia Eagles Offense Total Yards Range: 1322\n",
      "Philadelphia Eagles Total Yards 2012-2022: 65480\n"
     ]
    }
   ],
   "source": [
    "team_name26 = 'Philadelphia Eagles'\n",
    "eagles_data = nflyards[nflyards['Team'] == team_name26]\n",
    "mean_value = eagles_data['Off TotYds'].mean()\n",
    "median_value = eagles_data['Off TotYds'].median()\n",
    "std_value = eagles_data['Off TotYds'].std()\n",
    "var_value = eagles_data['Off TotYds'].var()\n",
    "min_value = eagles_data['Off TotYds'].min()\n",
    "max_value = eagles_data['Off TotYds'].max()\n",
    "data_range = max_value - min_value\n",
    "total_points = eagles_data['Off TotYds'].sum()\n",
    "print(\"Philadelphia Eagles Offense Total Yards Mean:\", mean_value)\n",
    "print(\"Philadelphia Eagles Offense Total Yards Median:\", median_value)\n",
    "print(\"Philadelphia Eagles Offense Total Yards Standard Deviation:\", std_value)\n",
    "print(\"Philadelphia Eagles Offense Total Yards Variance:\", var_value)\n",
    "print(\"Philadelphia Eagles Offense Total Yards Minimum:\", min_value)\n",
    "print(\"Philadelphia Eagles Offense Total Yards Maximum:\", max_value)\n",
    "print(\"Philadelphia Eagles Offense Total Yards Range:\", data_range)\n",
    "print(\"Philadelphia Eagles Total Yards 2012-2022:\", total_points)"
   ]
  },
  {
   "cell_type": "markdown",
   "id": "9c70dbb8",
   "metadata": {},
   "source": [
    "### Pittsburgh Steelers"
   ]
  },
  {
   "cell_type": "code",
   "execution_count": 37,
   "id": "d575e5ae",
   "metadata": {},
   "outputs": [
    {
     "name": "stdout",
     "output_type": "stream",
     "text": [
      "Pittsburgh Steelers Offense Total Yards Mean: 5664.636363636364\n",
      "Pittsburgh Steelers Offense Total Yards Median: 5484.0\n",
      "Pittsburgh Steelers Offense Total Yards Standard Deviation: 599.0506276980724\n",
      "Pittsburgh Steelers Offense Total Yards Variance: 358861.65454545454\n",
      "Pittsburgh Steelers Offense Total Yards Minimum: 4428\n",
      "Pittsburgh Steelers Offense Total Yards Maximum: 6577\n",
      "Pittsburgh Steelers Offense Total Yards Range: 2149\n",
      "Pittsburgh Steelers Total Yards 2012-2022: 62311\n"
     ]
    }
   ],
   "source": [
    "team_name27 = 'Pittsburgh Steelers'\n",
    "steelers_data = nflyards[nflyards['Team'] == team_name27]\n",
    "mean_value = steelers_data['Off TotYds'].mean()\n",
    "median_value = steelers_data['Off TotYds'].median()\n",
    "std_value = steelers_data['Off TotYds'].std()\n",
    "var_value = steelers_data['Off TotYds'].var()\n",
    "min_value = steelers_data['Off TotYds'].min()\n",
    "max_value = steelers_data['Off TotYds'].max()\n",
    "data_range = max_value - min_value\n",
    "total_points = steelers_data['Off TotYds'].sum()\n",
    "print(\"Pittsburgh Steelers Offense Total Yards Mean:\", mean_value)\n",
    "print(\"Pittsburgh Steelers Offense Total Yards Median:\", median_value)\n",
    "print(\"Pittsburgh Steelers Offense Total Yards Standard Deviation:\", std_value)\n",
    "print(\"Pittsburgh Steelers Offense Total Yards Variance:\", var_value)\n",
    "print(\"Pittsburgh Steelers Offense Total Yards Minimum:\", min_value)\n",
    "print(\"Pittsburgh Steelers Offense Total Yards Maximum:\", max_value)\n",
    "print(\"Pittsburgh Steelers Offense Total Yards Range:\", data_range)\n",
    "print(\"Pittsburgh Steelers Total Yards 2012-2022:\", total_points)"
   ]
  },
  {
   "cell_type": "markdown",
   "id": "1c58e53c",
   "metadata": {},
   "source": [
    "### San Francisco 49ers"
   ]
  },
  {
   "cell_type": "code",
   "execution_count": 38,
   "id": "da2ef2c3",
   "metadata": {},
   "outputs": [
    {
     "name": "stdout",
     "output_type": "stream",
     "text": [
      "San Francisco 49ers Offense Total Yards Mean: 5617.636363636364\n",
      "San Francisco 49ers Offense Total Yards Median: 5587.0\n",
      "San Francisco 49ers Offense Total Yards Standard Deviation: 518.2061892195562\n",
      "San Francisco 49ers Offense Total Yards Variance: 268537.65454545454\n",
      "San Francisco 49ers Offense Total Yards Minimum: 4860\n",
      "San Francisco 49ers Offense Total Yards Maximum: 6387\n",
      "San Francisco 49ers Offense Total Yards Range: 1527\n",
      "San Francisco 49ers Total Yards 2012-2022: 61794\n"
     ]
    }
   ],
   "source": [
    "team_name28 = 'San Francisco 49ers'\n",
    "niners_data = nflyards[nflyards['Team'] == team_name28]\n",
    "mean_value = niners_data['Off TotYds'].mean()\n",
    "median_value = niners_data['Off TotYds'].median()\n",
    "std_value = niners_data['Off TotYds'].std()\n",
    "var_value = niners_data['Off TotYds'].var()\n",
    "min_value = niners_data['Off TotYds'].min()\n",
    "max_value = niners_data['Off TotYds'].max()\n",
    "data_range = max_value - min_value\n",
    "total_points = niners_data['Off TotYds'].sum()\n",
    "print(\"San Francisco 49ers Offense Total Yards Mean:\", mean_value)\n",
    "print(\"San Francisco 49ers Offense Total Yards Median:\", median_value)\n",
    "print(\"San Francisco 49ers Offense Total Yards Standard Deviation:\", std_value)\n",
    "print(\"San Francisco 49ers Offense Total Yards Variance:\", var_value)\n",
    "print(\"San Francisco 49ers Offense Total Yards Minimum:\", min_value)\n",
    "print(\"San Francisco 49ers Offense Total Yards Maximum:\", max_value)\n",
    "print(\"San Francisco 49ers Offense Total Yards Range:\", data_range)\n",
    "print(\"San Francisco 49ers Total Yards 2012-2022:\", total_points)"
   ]
  },
  {
   "cell_type": "markdown",
   "id": "921f90e8",
   "metadata": {},
   "source": [
    "### Tampa Bay Buccaneers"
   ]
  },
  {
   "cell_type": "code",
   "execution_count": 39,
   "id": "31643e89",
   "metadata": {},
   "outputs": [
    {
     "name": "stdout",
     "output_type": "stream",
     "text": [
      "Tampa Bay Buccaneers Offense Total Yards Mean: 5765.272727272727\n",
      "Tampa Bay Buccaneers Offense Total Yards Median: 5820.0\n",
      "Tampa Bay Buccaneers Offense Total Yards Standard Deviation: 700.3022334548264\n",
      "Tampa Bay Buccaneers Offense Total Yards Variance: 490423.21818181814\n",
      "Tampa Bay Buccaneers Offense Total Yards Minimum: 4432\n",
      "Tampa Bay Buccaneers Offense Total Yards Maximum: 6901\n",
      "Tampa Bay Buccaneers Offense Total Yards Range: 2469\n",
      "Tampa Bay Buccaneers Total Yards 2012-2022: 63418\n"
     ]
    }
   ],
   "source": [
    "team_name29 = 'Tampa Bay Buccaneers'\n",
    "buccaneers_data = nflyards[nflyards['Team'] == team_name29]\n",
    "mean_value = buccaneers_data['Off TotYds'].mean()\n",
    "median_value = buccaneers_data['Off TotYds'].median()\n",
    "std_value = buccaneers_data['Off TotYds'].std()\n",
    "var_value = buccaneers_data['Off TotYds'].var()\n",
    "min_value = buccaneers_data['Off TotYds'].min()\n",
    "max_value = buccaneers_data['Off TotYds'].max()\n",
    "data_range = max_value - min_value\n",
    "total_points = buccaneers_data['Off TotYds'].sum()\n",
    "print(\"Tampa Bay Buccaneers Offense Total Yards Mean:\", mean_value)\n",
    "print(\"Tampa Bay Buccaneers Offense Total Yards Median:\", median_value)\n",
    "print(\"Tampa Bay Buccaneers Offense Total Yards Standard Deviation:\", std_value)\n",
    "print(\"Tampa Bay Buccaneers Offense Total Yards Variance:\", var_value)\n",
    "print(\"Tampa Bay Buccaneers Offense Total Yards Minimum:\", min_value)\n",
    "print(\"Tampa Bay Buccaneers Offense Total Yards Maximum:\", max_value)\n",
    "print(\"Tampa Bay Buccaneers Offense Total Yards Range:\", data_range)\n",
    "print(\"Tampa Bay Buccaneers Total Yards 2012-2022:\", total_points)"
   ]
  },
  {
   "cell_type": "markdown",
   "id": "402feabd",
   "metadata": {},
   "source": [
    "### Tennessee Titans"
   ]
  },
  {
   "cell_type": "code",
   "execution_count": 40,
   "id": "34a835c2",
   "metadata": {},
   "outputs": [
    {
     "name": "stdout",
     "output_type": "stream",
     "text": [
      "Tennessee Titans Offense Total Yards Mean: 5367.090909090909\n",
      "Tennessee Titans Offense Total Yards Median: 5045.0\n",
      "Tennessee Titans Offense Total Yards Standard Deviation: 484.8124285835615\n",
      "Tennessee Titans Offense Total Yards Variance: 235043.09090909088\n",
      "Tennessee Titans Offense Total Yards Minimum: 4859\n",
      "Tennessee Titans Offense Total Yards Maximum: 6343\n",
      "Tennessee Titans Offense Total Yards Range: 1484\n",
      "Tennessee Titans Total Yards 2012-2022: 59038\n"
     ]
    }
   ],
   "source": [
    "team_name30 = 'Tennessee Titans'\n",
    "titans_data = nflyards[nflyards['Team'] == team_name30]\n",
    "mean_value = titans_data['Off TotYds'].mean()\n",
    "median_value = titans_data['Off TotYds'].median()\n",
    "std_value = titans_data['Off TotYds'].std()\n",
    "var_value = titans_data['Off TotYds'].var()\n",
    "min_value = titans_data['Off TotYds'].min()\n",
    "max_value = titans_data['Off TotYds'].max()\n",
    "data_range = max_value - min_value\n",
    "total_points = titans_data['Off TotYds'].sum()\n",
    "print(\"Tennessee Titans Offense Total Yards Mean:\", mean_value)\n",
    "print(\"Tennessee Titans Offense Total Yards Median:\", median_value)\n",
    "print(\"Tennessee Titans Offense Total Yards Standard Deviation:\", std_value)\n",
    "print(\"Tennessee Titans Offense Total Yards Variance:\", var_value)\n",
    "print(\"Tennessee Titans Offense Total Yards Minimum:\", min_value)\n",
    "print(\"Tennessee Titans Offense Total Yards Maximum:\", max_value)\n",
    "print(\"Tennessee Titans Offense Total Yards Range:\", data_range)\n",
    "print(\"Tennessee Titans Total Yards 2012-2022:\", total_points)"
   ]
  },
  {
   "cell_type": "markdown",
   "id": "80f6844f",
   "metadata": {},
   "source": [
    "### Washington Commanders"
   ]
  },
  {
   "cell_type": "code",
   "execution_count": 41,
   "id": "d1a4004e",
   "metadata": {},
   "outputs": [
    {
     "name": "stdout",
     "output_type": "stream",
     "text": [
      "Washington Commanders Offense Total Yards Mean: 5535.0\n",
      "Washington Commanders Offense Total Yards Median: 5615.0\n",
      "Washington Commanders Offense Total Yards Standard Deviation: 560.787303707921\n",
      "Washington Commanders Offense Total Yards Variance: 314482.4\n",
      "Washington Commanders Offense Total Yards Minimum: 4395\n",
      "Washington Commanders Offense Total Yards Points Maximum: 6454\n",
      "Washington Commanders Offense Total Yards Range: 2059\n",
      "Washington Commanders Total Yards 2012-2022: 60885\n"
     ]
    }
   ],
   "source": [
    "team_name31 = 'Washington Commanders'\n",
    "commanders_data = nflyards[nflyards['Team'] == team_name31]\n",
    "mean_value = commanders_data['Off TotYds'].mean()\n",
    "median_value = commanders_data['Off TotYds'].median()\n",
    "std_value = commanders_data['Off TotYds'].std()\n",
    "var_value = commanders_data['Off TotYds'].var()\n",
    "min_value = commanders_data['Off TotYds'].min()\n",
    "max_value = commanders_data['Off TotYds'].max()\n",
    "total_points = commanders_data['Off TotYds'].sum()\n",
    "data_range = max_value - min_value\n",
    "print(\"Washington Commanders Offense Total Yards Mean:\", mean_value)\n",
    "print(\"Washington Commanders Offense Total Yards Median:\", median_value)\n",
    "print(\"Washington Commanders Offense Total Yards Standard Deviation:\", std_value)\n",
    "print(\"Washington Commanders Offense Total Yards Variance:\", var_value)\n",
    "print(\"Washington Commanders Offense Total Yards Minimum:\", min_value)\n",
    "print(\"Washington Commanders Offense Total Yards Points Maximum:\", max_value)\n",
    "print(\"Washington Commanders Offense Total Yards Range:\", data_range)\n",
    "print(\"Washington Commanders Total Yards 2012-2022:\", total_points)"
   ]
  },
  {
   "cell_type": "code",
   "execution_count": null,
   "id": "a94902cd",
   "metadata": {},
   "outputs": [],
   "source": []
  }
 ],
 "metadata": {
  "kernelspec": {
   "display_name": "Python 3 (ipykernel)",
   "language": "python",
   "name": "python3"
  },
  "language_info": {
   "codemirror_mode": {
    "name": "ipython",
    "version": 3
   },
   "file_extension": ".py",
   "mimetype": "text/x-python",
   "name": "python",
   "nbconvert_exporter": "python",
   "pygments_lexer": "ipython3",
   "version": "3.9.12"
  }
 },
 "nbformat": 4,
 "nbformat_minor": 5
}

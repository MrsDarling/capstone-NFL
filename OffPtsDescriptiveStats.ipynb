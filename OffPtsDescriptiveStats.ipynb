{
 "cells": [
  {
   "cell_type": "markdown",
   "id": "561d1c0a",
   "metadata": {},
   "source": [
    "# Descriptive Statistics for Total Offense Points for each team"
   ]
  },
  {
   "cell_type": "markdown",
   "id": "4f919c59",
   "metadata": {},
   "source": [
    "#### Import packages"
   ]
  },
  {
   "cell_type": "code",
   "execution_count": 1,
   "id": "cc036b02",
   "metadata": {},
   "outputs": [],
   "source": [
    "import pandas as pd\n",
    "import numpy as np\n",
    "from scipy.stats import norm\n",
    "from scipy import stats"
   ]
  },
  {
   "cell_type": "markdown",
   "id": "7eb568e0",
   "metadata": {},
   "source": [
    "#### Import NFL Dataset 2012-2022"
   ]
  },
  {
   "cell_type": "code",
   "execution_count": 3,
   "id": "8d65a41d",
   "metadata": {},
   "outputs": [],
   "source": [
    "nflstats = pd.read_csv('/Users/admin/Desktop/Final_Project/NFL_merged/nfl2012_2022merge.csv')"
   ]
  },
  {
   "cell_type": "code",
   "execution_count": 4,
   "id": "ed2c7256",
   "metadata": {},
   "outputs": [
    {
     "data": {
      "text/html": [
       "<div>\n",
       "<style scoped>\n",
       "    .dataframe tbody tr th:only-of-type {\n",
       "        vertical-align: middle;\n",
       "    }\n",
       "\n",
       "    .dataframe tbody tr th {\n",
       "        vertical-align: top;\n",
       "    }\n",
       "\n",
       "    .dataframe thead th {\n",
       "        text-align: right;\n",
       "    }\n",
       "</style>\n",
       "<table border=\"1\" class=\"dataframe\">\n",
       "  <thead>\n",
       "    <tr style=\"text-align: right;\">\n",
       "      <th></th>\n",
       "      <th>Team</th>\n",
       "      <th>Off Tot/Pts</th>\n",
       "      <th>Off Pts/G</th>\n",
       "      <th>Off RushYds</th>\n",
       "      <th>Off RYds/G</th>\n",
       "      <th>Off PassYds</th>\n",
       "      <th>Off PYds/G</th>\n",
       "      <th>Off TotYds</th>\n",
       "      <th>Off Yds/G</th>\n",
       "      <th>Def Tot/Pts</th>\n",
       "      <th>...</th>\n",
       "      <th>Def PassYds</th>\n",
       "      <th>Def PYds/G</th>\n",
       "      <th>Def TotYds</th>\n",
       "      <th>Def Yds/G</th>\n",
       "      <th>Year</th>\n",
       "      <th>Wins</th>\n",
       "      <th>Losses</th>\n",
       "      <th>Tie</th>\n",
       "      <th>Superbowl</th>\n",
       "      <th>SB Win</th>\n",
       "    </tr>\n",
       "  </thead>\n",
       "  <tbody>\n",
       "    <tr>\n",
       "      <th>0</th>\n",
       "      <td>Arizona Cardinals</td>\n",
       "      <td>250</td>\n",
       "      <td>15.6</td>\n",
       "      <td>1204</td>\n",
       "      <td>75.2</td>\n",
       "      <td>3005</td>\n",
       "      <td>187.8</td>\n",
       "      <td>4209</td>\n",
       "      <td>263.1</td>\n",
       "      <td>357</td>\n",
       "      <td>...</td>\n",
       "      <td>3213</td>\n",
       "      <td>200.8</td>\n",
       "      <td>5405</td>\n",
       "      <td>337.8</td>\n",
       "      <td>2012</td>\n",
       "      <td>5</td>\n",
       "      <td>11</td>\n",
       "      <td>0.0</td>\n",
       "      <td>No</td>\n",
       "      <td>No</td>\n",
       "    </tr>\n",
       "    <tr>\n",
       "      <th>1</th>\n",
       "      <td>Atlanta Falcons</td>\n",
       "      <td>419</td>\n",
       "      <td>26.2</td>\n",
       "      <td>1397</td>\n",
       "      <td>87.3</td>\n",
       "      <td>4509</td>\n",
       "      <td>281.8</td>\n",
       "      <td>5906</td>\n",
       "      <td>369.1</td>\n",
       "      <td>299</td>\n",
       "      <td>...</td>\n",
       "      <td>3878</td>\n",
       "      <td>242.4</td>\n",
       "      <td>5849</td>\n",
       "      <td>365.6</td>\n",
       "      <td>2012</td>\n",
       "      <td>13</td>\n",
       "      <td>3</td>\n",
       "      <td>0.0</td>\n",
       "      <td>No</td>\n",
       "      <td>No</td>\n",
       "    </tr>\n",
       "    <tr>\n",
       "      <th>2</th>\n",
       "      <td>Baltimore Ravens</td>\n",
       "      <td>398</td>\n",
       "      <td>24.9</td>\n",
       "      <td>1901</td>\n",
       "      <td>118.8</td>\n",
       "      <td>3739</td>\n",
       "      <td>233.7</td>\n",
       "      <td>5640</td>\n",
       "      <td>352.5</td>\n",
       "      <td>344</td>\n",
       "      <td>...</td>\n",
       "      <td>3650</td>\n",
       "      <td>228.1</td>\n",
       "      <td>5615</td>\n",
       "      <td>350.9</td>\n",
       "      <td>2012</td>\n",
       "      <td>10</td>\n",
       "      <td>6</td>\n",
       "      <td>0.0</td>\n",
       "      <td>Yes</td>\n",
       "      <td>Yes</td>\n",
       "    </tr>\n",
       "    <tr>\n",
       "      <th>3</th>\n",
       "      <td>Buffalo Bills</td>\n",
       "      <td>344</td>\n",
       "      <td>21.5</td>\n",
       "      <td>2217</td>\n",
       "      <td>138.6</td>\n",
       "      <td>3269</td>\n",
       "      <td>204.3</td>\n",
       "      <td>5486</td>\n",
       "      <td>342.9</td>\n",
       "      <td>435</td>\n",
       "      <td>...</td>\n",
       "      <td>3473</td>\n",
       "      <td>217.1</td>\n",
       "      <td>5806</td>\n",
       "      <td>362.9</td>\n",
       "      <td>2012</td>\n",
       "      <td>6</td>\n",
       "      <td>10</td>\n",
       "      <td>0.0</td>\n",
       "      <td>No</td>\n",
       "      <td>No</td>\n",
       "    </tr>\n",
       "    <tr>\n",
       "      <th>4</th>\n",
       "      <td>Carolina Panthers</td>\n",
       "      <td>357</td>\n",
       "      <td>22.3</td>\n",
       "      <td>2088</td>\n",
       "      <td>130.5</td>\n",
       "      <td>3683</td>\n",
       "      <td>230.2</td>\n",
       "      <td>5771</td>\n",
       "      <td>360.7</td>\n",
       "      <td>363</td>\n",
       "      <td>...</td>\n",
       "      <td>3568</td>\n",
       "      <td>223.0</td>\n",
       "      <td>5329</td>\n",
       "      <td>333.1</td>\n",
       "      <td>2012</td>\n",
       "      <td>7</td>\n",
       "      <td>9</td>\n",
       "      <td>0.0</td>\n",
       "      <td>No</td>\n",
       "      <td>No</td>\n",
       "    </tr>\n",
       "  </tbody>\n",
       "</table>\n",
       "<p>5 rows × 23 columns</p>\n",
       "</div>"
      ],
      "text/plain": [
       "                Team  Off Tot/Pts  Off Pts/G  Off RushYds  Off RYds/G  \\\n",
       "0  Arizona Cardinals          250       15.6         1204        75.2   \n",
       "1    Atlanta Falcons          419       26.2         1397        87.3   \n",
       "2   Baltimore Ravens          398       24.9         1901       118.8   \n",
       "3      Buffalo Bills          344       21.5         2217       138.6   \n",
       "4  Carolina Panthers          357       22.3         2088       130.5   \n",
       "\n",
       "   Off PassYds  Off PYds/G  Off TotYds  Off Yds/G  Def Tot/Pts  ...  \\\n",
       "0         3005       187.8        4209      263.1          357  ...   \n",
       "1         4509       281.8        5906      369.1          299  ...   \n",
       "2         3739       233.7        5640      352.5          344  ...   \n",
       "3         3269       204.3        5486      342.9          435  ...   \n",
       "4         3683       230.2        5771      360.7          363  ...   \n",
       "\n",
       "   Def PassYds  Def PYds/G  Def TotYds  Def Yds/G  Year  Wins  Losses  Tie  \\\n",
       "0         3213       200.8        5405      337.8  2012     5      11  0.0   \n",
       "1         3878       242.4        5849      365.6  2012    13       3  0.0   \n",
       "2         3650       228.1        5615      350.9  2012    10       6  0.0   \n",
       "3         3473       217.1        5806      362.9  2012     6      10  0.0   \n",
       "4         3568       223.0        5329      333.1  2012     7       9  0.0   \n",
       "\n",
       "   Superbowl  SB Win  \n",
       "0         No      No  \n",
       "1         No      No  \n",
       "2        Yes     Yes  \n",
       "3         No      No  \n",
       "4         No      No  \n",
       "\n",
       "[5 rows x 23 columns]"
      ]
     },
     "execution_count": 4,
     "metadata": {},
     "output_type": "execute_result"
    }
   ],
   "source": [
    "nflstats.head()"
   ]
  },
  {
   "cell_type": "markdown",
   "id": "1976112b",
   "metadata": {},
   "source": [
    "## Calculating Descriptive Statistics by Team\n",
    "#### First filter the data by a team"
   ]
  },
  {
   "cell_type": "code",
   "execution_count": 5,
   "id": "583d0b5e",
   "metadata": {},
   "outputs": [],
   "source": [
    "team_name = 'Seattle Seahawks'\n",
    "seahawks_data = nflstats[nflstats['Team'] == team_name]"
   ]
  },
  {
   "cell_type": "markdown",
   "id": "2c1d8274",
   "metadata": {},
   "source": [
    "#### Display each total offense points by year for the Seahawks"
   ]
  },
  {
   "cell_type": "code",
   "execution_count": 6,
   "id": "b7db9611",
   "metadata": {},
   "outputs": [
    {
     "name": "stdout",
     "output_type": "stream",
     "text": [
      "Year: 2012 \tOffense Points: 412\n",
      "Year: 2013 \tOffense Points: 417\n",
      "Year: 2014 \tOffense Points: 394\n",
      "Year: 2015 \tOffense Points: 423\n",
      "Year: 2016 \tOffense Points: 354\n",
      "Year: 2017 \tOffense Points: 366\n",
      "Year: 2018 \tOffense Points: 366\n",
      "Year: 2019 \tOffense Points: 405\n",
      "Year: 2020 \tOffense Points: 459\n",
      "Year: 2021 \tOffense Points: 395\n",
      "Year: 2022 \tOffense Points: 407\n"
     ]
    }
   ],
   "source": [
    "for year in seahawks_data['Year'].unique():\n",
    "    offense_points = seahawks_data.loc[seahawks_data['Year'] == year, 'Off Tot/Pts'].values[0]\n",
    "    print(\"Year:\", year, \"\\tOffense Points:\", offense_points)"
   ]
  },
  {
   "cell_type": "markdown",
   "id": "9707bb4d",
   "metadata": {},
   "source": [
    "#### What is the mean total offense pts for all years for the Seahawks?"
   ]
  },
  {
   "cell_type": "code",
   "execution_count": 8,
   "id": "c417e9e4",
   "metadata": {},
   "outputs": [],
   "source": [
    "total_offense_points = seahawks_data['Off Tot/Pts'].mean()"
   ]
  },
  {
   "cell_type": "code",
   "execution_count": 9,
   "id": "de8a1678",
   "metadata": {},
   "outputs": [
    {
     "name": "stdout",
     "output_type": "stream",
     "text": [
      "399.8181818181818\n"
     ]
    }
   ],
   "source": [
    "print(total_offense_points)"
   ]
  },
  {
   "cell_type": "markdown",
   "id": "b6db1517",
   "metadata": {},
   "source": [
    "#### Let's calculate several descriptive statistics on Offense Total Pts for the Seahawks"
   ]
  },
  {
   "cell_type": "code",
   "execution_count": 102,
   "id": "33c988ac",
   "metadata": {},
   "outputs": [
    {
     "name": "stdout",
     "output_type": "stream",
     "text": [
      "Seattle Seahawks Offense Points Mean: 399.8181818181818\n",
      "Seattle Seahawks Offense Points Median: 405.0\n",
      "Seattle Seahawks Offense Points Standard Deviation: 30.009392469086016\n",
      "Seattle Seahawks Offense Points Variance: 900.5636363636364\n",
      "Seattle Seahawks Offense Points Minimum: 354\n",
      "Seattle Seahawks Offense Points Maximum: 459\n",
      "Seattle Seahawks Offense Points Range: 105\n",
      "Seattle Seahawks Total Points: 4398\n"
     ]
    }
   ],
   "source": [
    "mean_value = seahawks_data['Off Tot/Pts'].mean()\n",
    "median_value = seahawks_data['Off Tot/Pts'].median()\n",
    "std_value = seahawks_data['Off Tot/Pts'].std()\n",
    "var_value = seahawks_data['Off Tot/Pts'].var()\n",
    "min_value = seahawks_data['Off Tot/Pts'].min()\n",
    "max_value = seahawks_data['Off Tot/Pts'].max()\n",
    "data_range = max_value - min_value\n",
    "total_points = seahawks_data['Off Tot/Pts'].sum()\n",
    "print(\"Seattle Seahawks Offense Points Mean:\", mean_value)\n",
    "print(\"Seattle Seahawks Offense Points Median:\", median_value)\n",
    "print(\"Seattle Seahawks Offense Points Standard Deviation:\", std_value)\n",
    "print(\"Seattle Seahawks Offense Points Variance:\", var_value)\n",
    "print(\"Seattle Seahawks Offense Points Minimum:\", min_value)\n",
    "print(\"Seattle Seahawks Offense Points Maximum:\", max_value)\n",
    "print(\"Seattle Seahawks Offense Points Range:\", data_range)\n",
    "print(\"Seattle Seahawks Total Points:\", total_points)"
   ]
  },
  {
   "cell_type": "markdown",
   "id": "22f3bb1d",
   "metadata": {},
   "source": [
    "#### Calculating all Teams at total offense points per year"
   ]
  },
  {
   "cell_type": "code",
   "execution_count": 12,
   "id": "2347e59f",
   "metadata": {},
   "outputs": [
    {
     "name": "stdout",
     "output_type": "stream",
     "text": [
      "Team: Arizona Cardinals \tYear: 2012 \tTotal Offense Points: 250\n",
      "Team: Arizona Cardinals \tYear: 2013 \tTotal Offense Points: 379\n",
      "Team: Arizona Cardinals \tYear: 2014 \tTotal Offense Points: 310\n",
      "Team: Arizona Cardinals \tYear: 2015 \tTotal Offense Points: 489\n",
      "Team: Arizona Cardinals \tYear: 2016 \tTotal Offense Points: 418\n",
      "Team: Arizona Cardinals \tYear: 2017 \tTotal Offense Points: 295\n",
      "Team: Arizona Cardinals \tYear: 2018 \tTotal Offense Points: 295\n",
      "Team: Arizona Cardinals \tYear: 2019 \tTotal Offense Points: 361\n",
      "Team: Arizona Cardinals \tYear: 2020 \tTotal Offense Points: 410\n",
      "Team: Arizona Cardinals \tYear: 2021 \tTotal Offense Points: 449\n",
      "Team: Arizona Cardinals \tYear: 2022 \tTotal Offense Points: 340\n",
      "Team: Atlanta Falcons \tYear: 2012 \tTotal Offense Points: 419\n",
      "Team: Atlanta Falcons \tYear: 2013 \tTotal Offense Points: 353\n",
      "Team: Atlanta Falcons \tYear: 2014 \tTotal Offense Points: 381\n",
      "Team: Atlanta Falcons \tYear: 2015 \tTotal Offense Points: 339\n",
      "Team: Atlanta Falcons \tYear: 2016 \tTotal Offense Points: 540\n",
      "Team: Atlanta Falcons \tYear: 2017 \tTotal Offense Points: 353\n",
      "Team: Atlanta Falcons \tYear: 2018 \tTotal Offense Points: 353\n",
      "Team: Atlanta Falcons \tYear: 2019 \tTotal Offense Points: 381\n",
      "Team: Atlanta Falcons \tYear: 2020 \tTotal Offense Points: 396\n",
      "Team: Atlanta Falcons \tYear: 2021 \tTotal Offense Points: 313\n",
      "Team: Atlanta Falcons \tYear: 2022 \tTotal Offense Points: 365\n",
      "Team: Baltimore Ravens \tYear: 2012 \tTotal Offense Points: 398\n",
      "Team: Baltimore Ravens \tYear: 2013 \tTotal Offense Points: 320\n",
      "Team: Baltimore Ravens \tYear: 2014 \tTotal Offense Points: 409\n",
      "Team: Baltimore Ravens \tYear: 2015 \tTotal Offense Points: 328\n",
      "Team: Baltimore Ravens \tYear: 2016 \tTotal Offense Points: 343\n",
      "Team: Baltimore Ravens \tYear: 2017 \tTotal Offense Points: 395\n",
      "Team: Baltimore Ravens \tYear: 2018 \tTotal Offense Points: 395\n",
      "Team: Baltimore Ravens \tYear: 2019 \tTotal Offense Points: 531\n",
      "Team: Baltimore Ravens \tYear: 2020 \tTotal Offense Points: 468\n",
      "Team: Baltimore Ravens \tYear: 2021 \tTotal Offense Points: 387\n",
      "Team: Baltimore Ravens \tYear: 2022 \tTotal Offense Points: 350\n",
      "Team: Buffalo Bills \tYear: 2012 \tTotal Offense Points: 344\n",
      "Team: Buffalo Bills \tYear: 2013 \tTotal Offense Points: 339\n",
      "Team: Buffalo Bills \tYear: 2014 \tTotal Offense Points: 343\n",
      "Team: Buffalo Bills \tYear: 2015 \tTotal Offense Points: 379\n",
      "Team: Buffalo Bills \tYear: 2016 \tTotal Offense Points: 399\n",
      "Team: Buffalo Bills \tYear: 2017 \tTotal Offense Points: 302\n",
      "Team: Buffalo Bills \tYear: 2018 \tTotal Offense Points: 302\n",
      "Team: Buffalo Bills \tYear: 2019 \tTotal Offense Points: 314\n",
      "Team: Buffalo Bills \tYear: 2020 \tTotal Offense Points: 501\n",
      "Team: Buffalo Bills \tYear: 2021 \tTotal Offense Points: 483\n",
      "Team: Buffalo Bills \tYear: 2022 \tTotal Offense Points: 455\n",
      "Team: Carolina Panthers \tYear: 2012 \tTotal Offense Points: 357\n",
      "Team: Carolina Panthers \tYear: 2013 \tTotal Offense Points: 366\n",
      "Team: Carolina Panthers \tYear: 2014 \tTotal Offense Points: 339\n",
      "Team: Carolina Panthers \tYear: 2015 \tTotal Offense Points: 500\n",
      "Team: Carolina Panthers \tYear: 2016 \tTotal Offense Points: 369\n",
      "Team: Carolina Panthers \tYear: 2017 \tTotal Offense Points: 363\n",
      "Team: Carolina Panthers \tYear: 2018 \tTotal Offense Points: 363\n",
      "Team: Carolina Panthers \tYear: 2019 \tTotal Offense Points: 340\n",
      "Team: Carolina Panthers \tYear: 2020 \tTotal Offense Points: 350\n",
      "Team: Carolina Panthers \tYear: 2021 \tTotal Offense Points: 304\n",
      "Team: Carolina Panthers \tYear: 2022 \tTotal Offense Points: 347\n",
      "Team: Chicago Bears \tYear: 2012 \tTotal Offense Points: 375\n",
      "Team: Chicago Bears \tYear: 2013 \tTotal Offense Points: 445\n",
      "Team: Chicago Bears \tYear: 2014 \tTotal Offense Points: 319\n",
      "Team: Chicago Bears \tYear: 2015 \tTotal Offense Points: 335\n",
      "Team: Chicago Bears \tYear: 2016 \tTotal Offense Points: 279\n",
      "Team: Chicago Bears \tYear: 2017 \tTotal Offense Points: 264\n",
      "Team: Chicago Bears \tYear: 2018 \tTotal Offense Points: 264\n",
      "Team: Chicago Bears \tYear: 2019 \tTotal Offense Points: 280\n",
      "Team: Chicago Bears \tYear: 2020 \tTotal Offense Points: 372\n",
      "Team: Chicago Bears \tYear: 2021 \tTotal Offense Points: 311\n",
      "Team: Chicago Bears \tYear: 2022 \tTotal Offense Points: 326\n",
      "Team: Cincinnati Bengals \tYear: 2012 \tTotal Offense Points: 391\n",
      "Team: Cincinnati Bengals \tYear: 2013 \tTotal Offense Points: 430\n",
      "Team: Cincinnati Bengals \tYear: 2014 \tTotal Offense Points: 365\n",
      "Team: Cincinnati Bengals \tYear: 2015 \tTotal Offense Points: 419\n",
      "Team: Cincinnati Bengals \tYear: 2016 \tTotal Offense Points: 325\n",
      "Team: Cincinnati Bengals \tYear: 2017 \tTotal Offense Points: 290\n",
      "Team: Cincinnati Bengals \tYear: 2018 \tTotal Offense Points: 290\n",
      "Team: Cincinnati Bengals \tYear: 2019 \tTotal Offense Points: 279\n",
      "Team: Cincinnati Bengals \tYear: 2020 \tTotal Offense Points: 311\n",
      "Team: Cincinnati Bengals \tYear: 2021 \tTotal Offense Points: 460\n",
      "Team: Cincinnati Bengals \tYear: 2022 \tTotal Offense Points: 418\n",
      "Team: Cleveland Browns \tYear: 2012 \tTotal Offense Points: 302\n",
      "Team: Cleveland Browns \tYear: 2013 \tTotal Offense Points: 308\n",
      "Team: Cleveland Browns \tYear: 2014 \tTotal Offense Points: 299\n",
      "Team: Cleveland Browns \tYear: 2015 \tTotal Offense Points: 278\n",
      "Team: Cleveland Browns \tYear: 2016 \tTotal Offense Points: 264\n",
      "Team: Cleveland Browns \tYear: 2017 \tTotal Offense Points: 234\n",
      "Team: Cleveland Browns \tYear: 2018 \tTotal Offense Points: 234\n",
      "Team: Cleveland Browns \tYear: 2019 \tTotal Offense Points: 335\n",
      "Team: Cleveland Browns \tYear: 2020 \tTotal Offense Points: 408\n",
      "Team: Cleveland Browns \tYear: 2021 \tTotal Offense Points: 349\n",
      "Team: Cleveland Browns \tYear: 2022 \tTotal Offense Points: 361\n",
      "Team: Dallas Cowboys \tYear: 2012 \tTotal Offense Points: 376\n",
      "Team: Dallas Cowboys \tYear: 2013 \tTotal Offense Points: 439\n",
      "Team: Dallas Cowboys \tYear: 2014 \tTotal Offense Points: 467\n",
      "Team: Dallas Cowboys \tYear: 2015 \tTotal Offense Points: 275\n",
      "Team: Dallas Cowboys \tYear: 2016 \tTotal Offense Points: 421\n",
      "Team: Dallas Cowboys \tYear: 2017 \tTotal Offense Points: 354\n",
      "Team: Dallas Cowboys \tYear: 2018 \tTotal Offense Points: 354\n",
      "Team: Dallas Cowboys \tYear: 2019 \tTotal Offense Points: 434\n",
      "Team: Dallas Cowboys \tYear: 2020 \tTotal Offense Points: 395\n",
      "Team: Dallas Cowboys \tYear: 2021 \tTotal Offense Points: 530\n",
      "Team: Dallas Cowboys \tYear: 2022 \tTotal Offense Points: 467\n",
      "Team: Denver Broncos \tYear: 2012 \tTotal Offense Points: 481\n",
      "Team: Denver Broncos \tYear: 2013 \tTotal Offense Points: 606\n",
      "Team: Denver Broncos \tYear: 2014 \tTotal Offense Points: 482\n",
      "Team: Denver Broncos \tYear: 2015 \tTotal Offense Points: 355\n",
      "Team: Denver Broncos \tYear: 2016 \tTotal Offense Points: 333\n",
      "Team: Denver Broncos \tYear: 2017 \tTotal Offense Points: 289\n",
      "Team: Denver Broncos \tYear: 2018 \tTotal Offense Points: 289\n",
      "Team: Denver Broncos \tYear: 2019 \tTotal Offense Points: 282\n",
      "Team: Denver Broncos \tYear: 2020 \tTotal Offense Points: 323\n",
      "Team: Denver Broncos \tYear: 2021 \tTotal Offense Points: 335\n",
      "Team: Denver Broncos \tYear: 2022 \tTotal Offense Points: 287\n",
      "Team: Detroit Lions \tYear: 2012 \tTotal Offense Points: 372\n",
      "Team: Detroit Lions \tYear: 2013 \tTotal Offense Points: 395\n",
      "Team: Detroit Lions \tYear: 2014 \tTotal Offense Points: 321\n",
      "Team: Detroit Lions \tYear: 2015 \tTotal Offense Points: 358\n",
      "Team: Detroit Lions \tYear: 2016 \tTotal Offense Points: 346\n",
      "Team: Detroit Lions \tYear: 2017 \tTotal Offense Points: 410\n",
      "Team: Detroit Lions \tYear: 2018 \tTotal Offense Points: 410\n",
      "Team: Detroit Lions \tYear: 2019 \tTotal Offense Points: 341\n",
      "Team: Detroit Lions \tYear: 2020 \tTotal Offense Points: 377\n",
      "Team: Detroit Lions \tYear: 2021 \tTotal Offense Points: 325\n",
      "Team: Detroit Lions \tYear: 2022 \tTotal Offense Points: 453\n",
      "Team: Green Bay Packers \tYear: 2012 \tTotal Offense Points: 433\n",
      "Team: Green Bay Packers \tYear: 2013 \tTotal Offense Points: 417\n",
      "Team: Green Bay Packers \tYear: 2014 \tTotal Offense Points: 486\n",
      "Team: Green Bay Packers \tYear: 2015 \tTotal Offense Points: 368\n",
      "Team: Green Bay Packers \tYear: 2016 \tTotal Offense Points: 432\n",
      "Team: Green Bay Packers \tYear: 2017 \tTotal Offense Points: 320\n",
      "Team: Green Bay Packers \tYear: 2018 \tTotal Offense Points: 320\n",
      "Team: Green Bay Packers \tYear: 2019 \tTotal Offense Points: 376\n",
      "Team: Green Bay Packers \tYear: 2020 \tTotal Offense Points: 509\n",
      "Team: Green Bay Packers \tYear: 2021 \tTotal Offense Points: 450\n",
      "Team: Green Bay Packers \tYear: 2022 \tTotal Offense Points: 370\n",
      "Team: Houston Texans \tYear: 2012 \tTotal Offense Points: 416\n",
      "Team: Houston Texans \tYear: 2013 \tTotal Offense Points: 276\n",
      "Team: Houston Texans \tYear: 2014 \tTotal Offense Points: 372\n",
      "Team: Houston Texans \tYear: 2015 \tTotal Offense Points: 339\n",
      "Team: Houston Texans \tYear: 2016 \tTotal Offense Points: 279\n",
      "Team: Houston Texans \tYear: 2017 \tTotal Offense Points: 338\n",
      "Team: Houston Texans \tYear: 2018 \tTotal Offense Points: 338\n",
      "Team: Houston Texans \tYear: 2019 \tTotal Offense Points: 378\n",
      "Team: Houston Texans \tYear: 2020 \tTotal Offense Points: 384\n",
      "Team: Houston Texans \tYear: 2021 \tTotal Offense Points: 280\n",
      "Team: Houston Texans \tYear: 2022 \tTotal Offense Points: 289\n",
      "Team: Indianapolis Colts \tYear: 2012 \tTotal Offense Points: 357\n",
      "Team: Indianapolis Colts \tYear: 2013 \tTotal Offense Points: 391\n",
      "Team: Indianapolis Colts \tYear: 2014 \tTotal Offense Points: 458\n",
      "Team: Indianapolis Colts \tYear: 2015 \tTotal Offense Points: 333\n",
      "Team: Indianapolis Colts \tYear: 2016 \tTotal Offense Points: 411\n",
      "Team: Indianapolis Colts \tYear: 2017 \tTotal Offense Points: 263\n",
      "Team: Indianapolis Colts \tYear: 2018 \tTotal Offense Points: 263\n",
      "Team: Indianapolis Colts \tYear: 2019 \tTotal Offense Points: 361\n",
      "Team: Indianapolis Colts \tYear: 2020 \tTotal Offense Points: 451\n",
      "Team: Indianapolis Colts \tYear: 2021 \tTotal Offense Points: 451\n",
      "Team: Indianapolis Colts \tYear: 2022 \tTotal Offense Points: 289\n",
      "Team: Jacksonville Jaguars \tYear: 2012 \tTotal Offense Points: 255\n",
      "Team: Jacksonville Jaguars \tYear: 2013 \tTotal Offense Points: 247\n",
      "Team: Jacksonville Jaguars \tYear: 2014 \tTotal Offense Points: 249\n",
      "Team: Jacksonville Jaguars \tYear: 2015 \tTotal Offense Points: 376\n",
      "Team: Jacksonville Jaguars \tYear: 2016 \tTotal Offense Points: 318\n",
      "Team: Jacksonville Jaguars \tYear: 2017 \tTotal Offense Points: 417\n",
      "Team: Jacksonville Jaguars \tYear: 2018 \tTotal Offense Points: 417\n",
      "Team: Jacksonville Jaguars \tYear: 2019 \tTotal Offense Points: 300\n",
      "Team: Jacksonville Jaguars \tYear: 2020 \tTotal Offense Points: 306\n",
      "Team: Jacksonville Jaguars \tYear: 2021 \tTotal Offense Points: 253\n",
      "Team: Jacksonville Jaguars \tYear: 2022 \tTotal Offense Points: 404\n",
      "Team: Kansas City Chiefs \tYear: 2012 \tTotal Offense Points: 211\n",
      "Team: Kansas City Chiefs \tYear: 2013 \tTotal Offense Points: 430\n",
      "Team: Kansas City Chiefs \tYear: 2014 \tTotal Offense Points: 353\n",
      "Team: Kansas City Chiefs \tYear: 2015 \tTotal Offense Points: 405\n",
      "Team: Kansas City Chiefs \tYear: 2016 \tTotal Offense Points: 389\n",
      "Team: Kansas City Chiefs \tYear: 2017 \tTotal Offense Points: 415\n",
      "Team: Kansas City Chiefs \tYear: 2018 \tTotal Offense Points: 415\n",
      "Team: Kansas City Chiefs \tYear: 2019 \tTotal Offense Points: 451\n",
      "Team: Kansas City Chiefs \tYear: 2020 \tTotal Offense Points: 473\n",
      "Team: Kansas City Chiefs \tYear: 2021 \tTotal Offense Points: 480\n",
      "Team: Kansas City Chiefs \tYear: 2022 \tTotal Offense Points: 496\n",
      "Team: Las Vegas Raiders \tYear: 2012 \tTotal Offense Points: 290\n",
      "Team: Las Vegas Raiders \tYear: 2013 \tTotal Offense Points: 322\n",
      "Team: Las Vegas Raiders \tYear: 2014 \tTotal Offense Points: 253\n",
      "Team: Las Vegas Raiders \tYear: 2015 \tTotal Offense Points: 359\n",
      "Team: Las Vegas Raiders \tYear: 2016 \tTotal Offense Points: 416\n",
      "Team: Las Vegas Raiders \tYear: 2017 \tTotal Offense Points: 301\n",
      "Team: Las Vegas Raiders \tYear: 2018 \tTotal Offense Points: 301\n",
      "Team: Las Vegas Raiders \tYear: 2019 \tTotal Offense Points: 313\n",
      "Team: Las Vegas Raiders \tYear: 2020 \tTotal Offense Points: 434\n",
      "Team: Las Vegas Raiders \tYear: 2021 \tTotal Offense Points: 374\n",
      "Team: Las Vegas Raiders \tYear: 2022 \tTotal Offense Points: 395\n",
      "Team: Los Angeles Chargers \tYear: 2012 \tTotal Offense Points: 350\n",
      "Team: Los Angeles Chargers \tYear: 2013 \tTotal Offense Points: 396\n",
      "Team: Los Angeles Chargers \tYear: 2014 \tTotal Offense Points: 348\n",
      "Team: Los Angeles Chargers \tYear: 2015 \tTotal Offense Points: 320\n",
      "Team: Los Angeles Chargers \tYear: 2016 \tTotal Offense Points: 410\n",
      "Team: Los Angeles Chargers \tYear: 2017 \tTotal Offense Points: 355\n",
      "Team: Los Angeles Chargers \tYear: 2018 \tTotal Offense Points: 355\n",
      "Team: Los Angeles Chargers \tYear: 2019 \tTotal Offense Points: 337\n",
      "Team: Los Angeles Chargers \tYear: 2020 \tTotal Offense Points: 384\n",
      "Team: Los Angeles Chargers \tYear: 2021 \tTotal Offense Points: 474\n",
      "Team: Los Angeles Chargers \tYear: 2022 \tTotal Offense Points: 391\n",
      "Team: Los Angeles Rams \tYear: 2012 \tTotal Offense Points: 299\n",
      "Team: Los Angeles Rams \tYear: 2013 \tTotal Offense Points: 348\n",
      "Team: Los Angeles Rams \tYear: 2014 \tTotal Offense Points: 324\n",
      "Team: Los Angeles Rams \tYear: 2015 \tTotal Offense Points: 280\n",
      "Team: Los Angeles Rams \tYear: 2016 \tTotal Offense Points: 224\n",
      "Team: Los Angeles Rams \tYear: 2017 \tTotal Offense Points: 478\n",
      "Team: Los Angeles Rams \tYear: 2018 \tTotal Offense Points: 478\n",
      "Team: Los Angeles Rams \tYear: 2019 \tTotal Offense Points: 394\n",
      "Team: Los Angeles Rams \tYear: 2020 \tTotal Offense Points: 372\n",
      "Team: Los Angeles Rams \tYear: 2021 \tTotal Offense Points: 460\n",
      "Team: Los Angeles Rams \tYear: 2022 \tTotal Offense Points: 307\n",
      "Team: Miami Dolphins \tYear: 2012 \tTotal Offense Points: 288\n",
      "Team: Miami Dolphins \tYear: 2013 \tTotal Offense Points: 317\n",
      "Team: Miami Dolphins \tYear: 2014 \tTotal Offense Points: 388\n",
      "Team: Miami Dolphins \tYear: 2015 \tTotal Offense Points: 310\n",
      "Team: Miami Dolphins \tYear: 2016 \tTotal Offense Points: 363\n",
      "Team: Miami Dolphins \tYear: 2017 \tTotal Offense Points: 281\n",
      "Team: Miami Dolphins \tYear: 2018 \tTotal Offense Points: 281\n",
      "Team: Miami Dolphins \tYear: 2019 \tTotal Offense Points: 306\n",
      "Team: Miami Dolphins \tYear: 2020 \tTotal Offense Points: 404\n",
      "Team: Miami Dolphins \tYear: 2021 \tTotal Offense Points: 341\n",
      "Team: Miami Dolphins \tYear: 2022 \tTotal Offense Points: 397\n",
      "Team: Minnesota Vikings \tYear: 2012 \tTotal Offense Points: 379\n",
      "Team: Minnesota Vikings \tYear: 2013 \tTotal Offense Points: 391\n",
      "Team: Minnesota Vikings \tYear: 2014 \tTotal Offense Points: 325\n",
      "Team: Minnesota Vikings \tYear: 2015 \tTotal Offense Points: 365\n",
      "Team: Minnesota Vikings \tYear: 2016 \tTotal Offense Points: 327\n",
      "Team: Minnesota Vikings \tYear: 2017 \tTotal Offense Points: 382\n",
      "Team: Minnesota Vikings \tYear: 2018 \tTotal Offense Points: 382\n",
      "Team: Minnesota Vikings \tYear: 2019 \tTotal Offense Points: 407\n",
      "Team: Minnesota Vikings \tYear: 2020 \tTotal Offense Points: 430\n",
      "Team: Minnesota Vikings \tYear: 2021 \tTotal Offense Points: 425\n",
      "Team: Minnesota Vikings \tYear: 2022 \tTotal Offense Points: 424\n",
      "Team: New England Patriots \tYear: 2012 \tTotal Offense Points: 557\n",
      "Team: New England Patriots \tYear: 2013 \tTotal Offense Points: 444\n",
      "Team: New England Patriots \tYear: 2014 \tTotal Offense Points: 468\n",
      "Team: New England Patriots \tYear: 2015 \tTotal Offense Points: 465\n",
      "Team: New England Patriots \tYear: 2016 \tTotal Offense Points: 441\n",
      "Team: New England Patriots \tYear: 2017 \tTotal Offense Points: 458\n",
      "Team: New England Patriots \tYear: 2018 \tTotal Offense Points: 458\n",
      "Team: New England Patriots \tYear: 2019 \tTotal Offense Points: 420\n",
      "Team: New England Patriots \tYear: 2020 \tTotal Offense Points: 326\n",
      "Team: New England Patriots \tYear: 2021 \tTotal Offense Points: 462\n",
      "Team: New England Patriots \tYear: 2022 \tTotal Offense Points: 364\n",
      "Team: New Orleans Saints \tYear: 2012 \tTotal Offense Points: 461\n",
      "Team: New Orleans Saints \tYear: 2013 \tTotal Offense Points: 414\n",
      "Team: New Orleans Saints \tYear: 2014 \tTotal Offense Points: 401\n",
      "Team: New Orleans Saints \tYear: 2015 \tTotal Offense Points: 408\n",
      "Team: New Orleans Saints \tYear: 2016 \tTotal Offense Points: 469\n",
      "Team: New Orleans Saints \tYear: 2017 \tTotal Offense Points: 448\n",
      "Team: New Orleans Saints \tYear: 2019 \tTotal Offense Points: 458\n",
      "Team: New Orleans Saints \tYear: 2020 \tTotal Offense Points: 482\n",
      "Team: New Orleans Saints \tYear: 2021 \tTotal Offense Points: 364\n",
      "Team: New Orleans Saints \tYear: 2022 \tTotal Offense Points: 330\n",
      "Team: New York Giants \tYear: 2012 \tTotal Offense Points: 429\n",
      "Team: New York Giants \tYear: 2013 \tTotal Offense Points: 294\n",
      "Team: New York Giants \tYear: 2014 \tTotal Offense Points: 380\n",
      "Team: New York Giants \tYear: 2015 \tTotal Offense Points: 420\n",
      "Team: New York Giants \tYear: 2016 \tTotal Offense Points: 310\n",
      "Team: New York Giants \tYear: 2017 \tTotal Offense Points: 246\n",
      "Team: New York Giants \tYear: 2018 \tTotal Offense Points: 246\n",
      "Team: New York Giants \tYear: 2019 \tTotal Offense Points: 341\n",
      "Team: New York Giants \tYear: 2020 \tTotal Offense Points: 280\n",
      "Team: New York Giants \tYear: 2021 \tTotal Offense Points: 258\n",
      "Team: New York Giants \tYear: 2022 \tTotal Offense Points: 365\n",
      "Team: New York Jets \tYear: 2012 \tTotal Offense Points: 281\n",
      "Team: New York Jets \tYear: 2013 \tTotal Offense Points: 290\n",
      "Team: New York Jets \tYear: 2014 \tTotal Offense Points: 283\n",
      "Team: New York Jets \tYear: 2015 \tTotal Offense Points: 387\n",
      "Team: New York Jets \tYear: 2016 \tTotal Offense Points: 275\n",
      "Team: New York Jets \tYear: 2017 \tTotal Offense Points: 298\n",
      "Team: New York Jets \tYear: 2018 \tTotal Offense Points: 298\n",
      "Team: New York Jets \tYear: 2019 \tTotal Offense Points: 276\n",
      "Team: New York Jets \tYear: 2020 \tTotal Offense Points: 243\n",
      "Team: New York Jets \tYear: 2021 \tTotal Offense Points: 310\n",
      "Team: New York Jets \tYear: 2022 \tTotal Offense Points: 296\n",
      "Team: Philadelphia Eagles \tYear: 2012 \tTotal Offense Points: 280\n",
      "Team: Philadelphia Eagles \tYear: 2013 \tTotal Offense Points: 442\n",
      "Team: Philadelphia Eagles \tYear: 2014 \tTotal Offense Points: 474\n",
      "Team: Philadelphia Eagles \tYear: 2015 \tTotal Offense Points: 377\n",
      "Team: Philadelphia Eagles \tYear: 2016 \tTotal Offense Points: 367\n",
      "Team: Philadelphia Eagles \tYear: 2017 \tTotal Offense Points: 457\n",
      "Team: Philadelphia Eagles \tYear: 2018 \tTotal Offense Points: 457\n",
      "Team: Philadelphia Eagles \tYear: 2019 \tTotal Offense Points: 385\n",
      "Team: Philadelphia Eagles \tYear: 2020 \tTotal Offense Points: 334\n",
      "Team: Philadelphia Eagles \tYear: 2021 \tTotal Offense Points: 444\n",
      "Team: Philadelphia Eagles \tYear: 2022 \tTotal Offense Points: 477\n",
      "Team: Pittsburgh Steelers \tYear: 2012 \tTotal Offense Points: 336\n",
      "Team: Pittsburgh Steelers \tYear: 2013 \tTotal Offense Points: 379\n",
      "Team: Pittsburgh Steelers \tYear: 2014 \tTotal Offense Points: 436\n",
      "Team: Pittsburgh Steelers \tYear: 2015 \tTotal Offense Points: 423\n",
      "Team: Pittsburgh Steelers \tYear: 2016 \tTotal Offense Points: 399\n",
      "Team: Pittsburgh Steelers \tYear: 2017 \tTotal Offense Points: 406\n",
      "Team: Pittsburgh Steelers \tYear: 2018 \tTotal Offense Points: 406\n",
      "Team: Pittsburgh Steelers \tYear: 2019 \tTotal Offense Points: 289\n",
      "Team: Pittsburgh Steelers \tYear: 2020 \tTotal Offense Points: 416\n",
      "Team: Pittsburgh Steelers \tYear: 2021 \tTotal Offense Points: 343\n",
      "Team: Pittsburgh Steelers \tYear: 2022 \tTotal Offense Points: 308\n",
      "Team: San Francisco 49ers \tYear: 2012 \tTotal Offense Points: 397\n",
      "Team: San Francisco 49ers \tYear: 2013 \tTotal Offense Points: 406\n",
      "Team: San Francisco 49ers \tYear: 2014 \tTotal Offense Points: 306\n",
      "Team: San Francisco 49ers \tYear: 2015 \tTotal Offense Points: 238\n",
      "Team: San Francisco 49ers \tYear: 2016 \tTotal Offense Points: 309\n",
      "Team: San Francisco 49ers \tYear: 2017 \tTotal Offense Points: 331\n",
      "Team: San Francisco 49ers \tYear: 2018 \tTotal Offense Points: 331\n",
      "Team: San Francisco 49ers \tYear: 2019 \tTotal Offense Points: 479\n",
      "Team: San Francisco 49ers \tYear: 2020 \tTotal Offense Points: 376\n",
      "Team: San Francisco 49ers \tYear: 2021 \tTotal Offense Points: 427\n",
      "Team: San Francisco 49ers \tYear: 2022 \tTotal Offense Points: 450\n",
      "Team: Seattle Seahawks \tYear: 2012 \tTotal Offense Points: 412\n",
      "Team: Seattle Seahawks \tYear: 2013 \tTotal Offense Points: 417\n",
      "Team: Seattle Seahawks \tYear: 2014 \tTotal Offense Points: 394\n",
      "Team: Seattle Seahawks \tYear: 2015 \tTotal Offense Points: 423\n",
      "Team: Seattle Seahawks \tYear: 2016 \tTotal Offense Points: 354\n",
      "Team: Seattle Seahawks \tYear: 2017 \tTotal Offense Points: 366\n",
      "Team: Seattle Seahawks \tYear: 2018 \tTotal Offense Points: 366\n",
      "Team: Seattle Seahawks \tYear: 2019 \tTotal Offense Points: 405\n",
      "Team: Seattle Seahawks \tYear: 2020 \tTotal Offense Points: 459\n",
      "Team: Seattle Seahawks \tYear: 2021 \tTotal Offense Points: 395\n",
      "Team: Seattle Seahawks \tYear: 2022 \tTotal Offense Points: 407\n",
      "Team: Tampa Bay Buccaneers \tYear: 2012 \tTotal Offense Points: 389\n",
      "Team: Tampa Bay Buccaneers \tYear: 2013 \tTotal Offense Points: 288\n",
      "Team: Tampa Bay Buccaneers \tYear: 2014 \tTotal Offense Points: 277\n",
      "Team: Tampa Bay Buccaneers \tYear: 2015 \tTotal Offense Points: 342\n",
      "Team: Tampa Bay Buccaneers \tYear: 2016 \tTotal Offense Points: 354\n",
      "Team: Tampa Bay Buccaneers \tYear: 2017 \tTotal Offense Points: 335\n",
      "Team: Tampa Bay Buccaneers \tYear: 2018 \tTotal Offense Points: 335\n",
      "Team: Tampa Bay Buccaneers \tYear: 2019 \tTotal Offense Points: 458\n",
      "Team: Tampa Bay Buccaneers \tYear: 2020 \tTotal Offense Points: 492\n",
      "Team: Tampa Bay Buccaneers \tYear: 2021 \tTotal Offense Points: 511\n",
      "Team: Tampa Bay Buccaneers \tYear: 2022 \tTotal Offense Points: 313\n",
      "Team: Tennessee Titans \tYear: 2012 \tTotal Offense Points: 330\n",
      "Team: Tennessee Titans \tYear: 2013 \tTotal Offense Points: 362\n",
      "Team: Tennessee Titans \tYear: 2014 \tTotal Offense Points: 254\n",
      "Team: Tennessee Titans \tYear: 2015 \tTotal Offense Points: 299\n",
      "Team: Tennessee Titans \tYear: 2016 \tTotal Offense Points: 381\n",
      "Team: Tennessee Titans \tYear: 2017 \tTotal Offense Points: 334\n",
      "Team: Tennessee Titans \tYear: 2018 \tTotal Offense Points: 334\n",
      "Team: Tennessee Titans \tYear: 2019 \tTotal Offense Points: 402\n",
      "Team: Tennessee Titans \tYear: 2020 \tTotal Offense Points: 491\n",
      "Team: Tennessee Titans \tYear: 2021 \tTotal Offense Points: 419\n",
      "Team: Tennessee Titans \tYear: 2022 \tTotal Offense Points: 298\n",
      "Team: Washington Commanders \tYear: 2012 \tTotal Offense Points: 436\n",
      "Team: Washington Commanders \tYear: 2013 \tTotal Offense Points: 334\n",
      "Team: Washington Commanders \tYear: 2014 \tTotal Offense Points: 301\n",
      "Team: Washington Commanders \tYear: 2015 \tTotal Offense Points: 388\n",
      "Team: Washington Commanders \tYear: 2016 \tTotal Offense Points: 396\n",
      "Team: Washington Commanders \tYear: 2017 \tTotal Offense Points: 342\n",
      "Team: Washington Commanders \tYear: 2018 \tTotal Offense Points: 342\n",
      "Team: Washington Commanders \tYear: 2019 \tTotal Offense Points: 266\n",
      "Team: Washington Commanders \tYear: 2020 \tTotal Offense Points: 335\n",
      "Team: Washington Commanders \tYear: 2021 \tTotal Offense Points: 335\n",
      "Team: Washington Commanders \tYear: 2022 \tTotal Offense Points: 321\n"
     ]
    }
   ],
   "source": [
    "team_names = nflstats['Team'].unique()\n",
    "\n",
    "# Iterate over each team\n",
    "for team_name in team_names:\n",
    "    team_data = nflstats[nflstats['Team'] == team_name]\n",
    "    \n",
    "    # Display the total offense points for each year\n",
    "    for year in team_data['Year'].unique():\n",
    "        offense_points = team_data.loc[team_data['Year'] == year, 'Off Tot/Pts'].values[0]\n",
    "        print(\"Team:\", team_name, \"\\tYear:\", year, \"\\tTotal Offense Points:\", offense_points)"
   ]
  },
  {
   "cell_type": "markdown",
   "id": "e224874d",
   "metadata": {},
   "source": [
    "#### Calculate descriptive statistics on Offense Total Points for all teams. These statistics are the Total Offense Points and their mean, median, standard deviation, variance, min, max, range, and sum.\n",
    "### Arizona Cardinals"
   ]
  },
  {
   "cell_type": "code",
   "execution_count": 101,
   "id": "7d19aa14",
   "metadata": {},
   "outputs": [
    {
     "name": "stdout",
     "output_type": "stream",
     "text": [
      "Arizona Cardinals Offense Points Mean: 363.27272727272725\n",
      "Arizona Cardinals Offense Points Median: 361.0\n",
      "Arizona Cardinals Offense Points Standard Deviation: 73.56642020526881\n",
      "Arizona Cardinals Offense Points Variance: 5412.018181818183\n",
      "Arizona Cardinals Offense Points Minimum: 250\n",
      "Arizona Cardinals Offense Points Maximum: 489\n",
      "Arizona Cardinals Offense Points Range: 239\n",
      "Arizona Cardinals Total Points: 3996\n"
     ]
    }
   ],
   "source": [
    "team_name1 = 'Arizona Cardinals'\n",
    "cardinals_data = nflstats[nflstats['Team'] == team_name1]\n",
    "mean_value = cardinals_data['Off Tot/Pts'].mean()\n",
    "median_value = cardinals_data['Off Tot/Pts'].median()\n",
    "std_value = cardinals_data['Off Tot/Pts'].std()\n",
    "var_value = cardinals_data['Off Tot/Pts'].var()\n",
    "min_value = cardinals_data['Off Tot/Pts'].min()\n",
    "max_value = cardinals_data['Off Tot/Pts'].max()\n",
    "data_range = max_value - min_value\n",
    "total_points = cardinals_data['Off Tot/Pts'].sum()\n",
    "print(\"Arizona Cardinals Offense Points Mean:\", mean_value)\n",
    "print(\"Arizona Cardinals Offense Points Median:\", median_value)\n",
    "print(\"Arizona Cardinals Offense Points Standard Deviation:\", std_value)\n",
    "print(\"Arizona Cardinals Offense Points Variance:\", var_value)\n",
    "print(\"Arizona Cardinals Offense Points Minimum:\", min_value)\n",
    "print(\"Arizona Cardinals Offense Points Maximum:\", max_value)\n",
    "print(\"Arizona Cardinals Offense Points Range:\", data_range)\n",
    "print(\"Arizona Cardinals Total Points:\", total_points)"
   ]
  },
  {
   "cell_type": "markdown",
   "id": "7e9bf330",
   "metadata": {},
   "source": [
    "### Atlanta Falcons"
   ]
  },
  {
   "cell_type": "code",
   "execution_count": 100,
   "id": "55aa4436",
   "metadata": {},
   "outputs": [
    {
     "name": "stdout",
     "output_type": "stream",
     "text": [
      "Atlanta Falcons Offense Points Mean: 381.1818181818182\n",
      "Atlanta Falcons Offense Points Median: 365.0\n",
      "Atlanta Falcons Offense Points Standard Deviation: 59.954679853733154\n",
      "Atlanta Falcons Offense Points Variance: 3594.563636363636\n",
      "Atlanta Falcons Offense Points Minimum: 313\n",
      "Atlanta Falcons Offense Points Maximum: 540\n",
      "Atlanta Falcons Offense Points Range: 227\n",
      "Atlanta Falcons Total Points: 4193\n"
     ]
    }
   ],
   "source": [
    "team_name2 = 'Atlanta Falcons'\n",
    "falcons_data = nflstats[nflstats['Team'] == team_name2]\n",
    "mean_value = falcons_data['Off Tot/Pts'].mean()\n",
    "median_value = falcons_data['Off Tot/Pts'].median()\n",
    "std_value = falcons_data['Off Tot/Pts'].std()\n",
    "var_value = falcons_data['Off Tot/Pts'].var()\n",
    "min_value = falcons_data['Off Tot/Pts'].min()\n",
    "max_value = falcons_data['Off Tot/Pts'].max()\n",
    "data_range = max_value - min_value\n",
    "total_points = falcons_data['Off Tot/Pts'].sum()\n",
    "print(\"Atlanta Falcons Offense Points Mean:\", mean_value)\n",
    "print(\"Atlanta Falcons Offense Points Median:\", median_value)\n",
    "print(\"Atlanta Falcons Offense Points Standard Deviation:\", std_value)\n",
    "print(\"Atlanta Falcons Offense Points Variance:\", var_value)\n",
    "print(\"Atlanta Falcons Offense Points Minimum:\", min_value)\n",
    "print(\"Atlanta Falcons Offense Points Maximum:\", max_value)\n",
    "print(\"Atlanta Falcons Offense Points Range:\", data_range)\n",
    "print(\"Atlanta Falcons Total Points:\", total_points)"
   ]
  },
  {
   "cell_type": "markdown",
   "id": "b7012dd9",
   "metadata": {},
   "source": [
    "### Baltimore Ravens"
   ]
  },
  {
   "cell_type": "code",
   "execution_count": 99,
   "id": "c82397b5",
   "metadata": {},
   "outputs": [
    {
     "name": "stdout",
     "output_type": "stream",
     "text": [
      "Baltimore Ravens Offense Points Mean: 393.09090909090907\n",
      "Baltimore Ravens Offense Points Median: 395.0\n",
      "Baltimore Ravens Offense Points Standard Deviation: 62.36738658217858\n",
      "Baltimore Ravens Offense Points Variance: 3889.690909090909\n",
      "Baltimore Ravens Offense Points Minimum: 320\n",
      "Baltimore Ravens Offense Points Maximum: 531\n",
      "Baltimore Ravens Offense Points Range: 211\n",
      "Baltimore Ravens Total Points: 4324\n"
     ]
    }
   ],
   "source": [
    "team_name3 = 'Baltimore Ravens'\n",
    "ravens_data = nflstats[nflstats['Team'] == team_name3]\n",
    "mean_value = ravens_data['Off Tot/Pts'].mean()\n",
    "median_value = ravens_data['Off Tot/Pts'].median()\n",
    "std_value = ravens_data['Off Tot/Pts'].std()\n",
    "var_value = ravens_data['Off Tot/Pts'].var()\n",
    "min_value = ravens_data['Off Tot/Pts'].min()\n",
    "max_value = ravens_data['Off Tot/Pts'].max()\n",
    "data_range = max_value - min_value\n",
    "total_points = ravens_data['Off Tot/Pts'].sum()\n",
    "print(\"Baltimore Ravens Offense Points Mean:\", mean_value)\n",
    "print(\"Baltimore Ravens Offense Points Median:\", median_value)\n",
    "print(\"Baltimore Ravens Offense Points Standard Deviation:\", std_value)\n",
    "print(\"Baltimore Ravens Offense Points Variance:\", var_value)\n",
    "print(\"Baltimore Ravens Offense Points Minimum:\", min_value)\n",
    "print(\"Baltimore Ravens Offense Points Maximum:\", max_value)\n",
    "print(\"Baltimore Ravens Offense Points Range:\", data_range)\n",
    "print(\"Baltimore Ravens Total Points:\", total_points)"
   ]
  },
  {
   "cell_type": "markdown",
   "id": "a52c5021",
   "metadata": {},
   "source": [
    "### Buffalo Bills"
   ]
  },
  {
   "cell_type": "code",
   "execution_count": 98,
   "id": "8a924f5e",
   "metadata": {},
   "outputs": [
    {
     "name": "stdout",
     "output_type": "stream",
     "text": [
      "Buffalo Bills Offense Points Mean: 378.27272727272725\n",
      "Buffalo Bills Offense Points Median: 344.0\n",
      "Buffalo Bills Offense Points Standard Deviation: 72.16244301448074\n",
      "Buffalo Bills Offense Points Variance: 5207.418181818181\n",
      "Buffalo Bills Offense Points Minimum: 302\n",
      "Buffalo Bills Offense Points Maximum: 501\n",
      "Buffalo Bills Offense Points Range: 199\n",
      "Buffalo Bills Total Points: 4161\n"
     ]
    }
   ],
   "source": [
    "team_name4 = 'Buffalo Bills'\n",
    "bills_data = nflstats[nflstats['Team'] == team_name4]\n",
    "mean_value = bills_data['Off Tot/Pts'].mean()\n",
    "median_value = bills_data['Off Tot/Pts'].median()\n",
    "std_value = bills_data['Off Tot/Pts'].std()\n",
    "var_value = bills_data['Off Tot/Pts'].var()\n",
    "min_value = bills_data['Off Tot/Pts'].min()\n",
    "max_value = bills_data['Off Tot/Pts'].max()\n",
    "data_range = max_value - min_value\n",
    "total_points = bills_data['Off Tot/Pts'].sum()\n",
    "print(\"Buffalo Bills Offense Points Mean:\", mean_value)\n",
    "print(\"Buffalo Bills Offense Points Median:\", median_value)\n",
    "print(\"Buffalo Bills Offense Points Standard Deviation:\", std_value)\n",
    "print(\"Buffalo Bills Offense Points Variance:\", var_value)\n",
    "print(\"Buffalo Bills Offense Points Minimum:\", min_value)\n",
    "print(\"Buffalo Bills Offense Points Maximum:\", max_value)\n",
    "print(\"Buffalo Bills Offense Points Range:\", data_range)\n",
    "print(\"Buffalo Bills Total Points:\", total_points)"
   ]
  },
  {
   "cell_type": "markdown",
   "id": "dd6567cd",
   "metadata": {},
   "source": [
    "### Carolina Panthers"
   ]
  },
  {
   "cell_type": "code",
   "execution_count": 97,
   "id": "fb11d5f6",
   "metadata": {},
   "outputs": [
    {
     "name": "stdout",
     "output_type": "stream",
     "text": [
      "Carolina Panthers Offense Points Mean: 363.45454545454544\n",
      "Carolina Panthers Offense Points Median: 357.0\n",
      "Carolina Panthers Offense Points Standard Deviation: 48.84539617274823\n",
      "Carolina Panthers Offense Points Variance: 2385.872727272728\n",
      "Carolina Panthers Offense Points Minimum: 304\n",
      "Carolina Panthers Offense Points Maximum: 500\n",
      "Carolina Panthers Offense Points Range: 196\n",
      "Carolina Panthers Total Points: 3998\n"
     ]
    }
   ],
   "source": [
    "team_name5 = 'Carolina Panthers'\n",
    "panthers_data = nflstats[nflstats['Team'] == team_name5]\n",
    "mean_value = panthers_data['Off Tot/Pts'].mean()\n",
    "median_value = panthers_data['Off Tot/Pts'].median()\n",
    "std_value = panthers_data['Off Tot/Pts'].std()\n",
    "var_value = panthers_data['Off Tot/Pts'].var()\n",
    "min_value = panthers_data['Off Tot/Pts'].min()\n",
    "max_value = panthers_data['Off Tot/Pts'].max()\n",
    "data_range = max_value - min_value\n",
    "total_points = panthers_data['Off Tot/Pts'].sum()\n",
    "print(\"Carolina Panthers Offense Points Mean:\", mean_value)\n",
    "print(\"Carolina Panthers Offense Points Median:\", median_value)\n",
    "print(\"Carolina Panthers Offense Points Standard Deviation:\", std_value)\n",
    "print(\"Carolina Panthers Offense Points Variance:\", var_value)\n",
    "print(\"Carolina Panthers Offense Points Minimum:\", min_value)\n",
    "print(\"Carolina Panthers Offense Points Maximum:\", max_value)\n",
    "print(\"Carolina Panthers Offense Points Range:\", data_range)\n",
    "print(\"Carolina Panthers Total Points:\", total_points)"
   ]
  },
  {
   "cell_type": "markdown",
   "id": "04c8cd55",
   "metadata": {},
   "source": [
    "### Chicago Bears"
   ]
  },
  {
   "cell_type": "code",
   "execution_count": 96,
   "id": "77d3e53a",
   "metadata": {},
   "outputs": [
    {
     "name": "stdout",
     "output_type": "stream",
     "text": [
      "Chicago Bears Offense Points Mean: 324.54545454545456\n",
      "Chicago Bears Offense Points Median: 319.0\n",
      "Chicago Bears Offense Points Standard Deviation: 55.69804958230339\n",
      "Chicago Bears Offense Points Variance: 3102.272727272727\n",
      "Chicago Bears Offense Points Minimum: 264\n",
      "Chicago Bears Offense Points Maximum: 445\n",
      "Chicago Bears Offense Points Range: 181\n",
      "Chicago Bears Total Points: 3570\n"
     ]
    }
   ],
   "source": [
    "team_name6 = 'Chicago Bears'\n",
    "bears_data = nflstats[nflstats['Team'] == team_name6]\n",
    "mean_value = bears_data['Off Tot/Pts'].mean()\n",
    "median_value = bears_data['Off Tot/Pts'].median()\n",
    "std_value = bears_data['Off Tot/Pts'].std()\n",
    "var_value = bears_data['Off Tot/Pts'].var()\n",
    "min_value = bears_data['Off Tot/Pts'].min()\n",
    "max_value = bears_data['Off Tot/Pts'].max()\n",
    "data_range = max_value - min_value\n",
    "total_points = bears_data['Off Tot/Pts'].sum()\n",
    "print(\"Chicago Bears Offense Points Mean:\", mean_value)\n",
    "print(\"Chicago Bears Offense Points Median:\", median_value)\n",
    "print(\"Chicago Bears Offense Points Standard Deviation:\", std_value)\n",
    "print(\"Chicago Bears Offense Points Variance:\", var_value)\n",
    "print(\"Chicago Bears Offense Points Minimum:\", min_value)\n",
    "print(\"Chicago Bears Offense Points Maximum:\", max_value)\n",
    "print(\"Chicago Bears Offense Points Range:\", data_range)\n",
    "print(\"Chicago Bears Total Points:\", total_points)"
   ]
  },
  {
   "cell_type": "markdown",
   "id": "59509737",
   "metadata": {},
   "source": [
    "### Cincinnati Bengals"
   ]
  },
  {
   "cell_type": "code",
   "execution_count": 95,
   "id": "d4426566",
   "metadata": {},
   "outputs": [
    {
     "name": "stdout",
     "output_type": "stream",
     "text": [
      "Cincinnati Bengals Offense Points Mean: 361.6363636363636\n",
      "Cincinnati Bengals Offense Points Median: 365.0\n",
      "Cincinnati Bengals Offense Points Standard Deviation: 65.33647178609009\n",
      "Cincinnati Bengals Offense Points Variance: 4268.854545454546\n",
      "Cincinnati Bengals Offense Points Minimum: 279\n",
      "Cincinnati Bengals Offense Points Maximum: 460\n",
      "Cincinnati Bengals Offense Points Range: 181\n",
      "Cincinnati Bengals Total Points: 3978\n"
     ]
    }
   ],
   "source": [
    "team_name7 = 'Cincinnati Bengals'\n",
    "bengals_data = nflstats[nflstats['Team'] == team_name7]\n",
    "mean_value = bengals_data['Off Tot/Pts'].mean()\n",
    "median_value = bengals_data['Off Tot/Pts'].median()\n",
    "std_value = bengals_data['Off Tot/Pts'].std()\n",
    "var_value = bengals_data['Off Tot/Pts'].var()\n",
    "min_value = bengals_data['Off Tot/Pts'].min()\n",
    "max_value = bengals_data['Off Tot/Pts'].max()\n",
    "data_range = max_value - min_value\n",
    "total_points = bengals_data['Off Tot/Pts'].sum()\n",
    "print(\"Cincinnati Bengals Offense Points Mean:\", mean_value)\n",
    "print(\"Cincinnati Bengals Offense Points Median:\", median_value)\n",
    "print(\"Cincinnati Bengals Offense Points Standard Deviation:\", std_value)\n",
    "print(\"Cincinnati Bengals Offense Points Variance:\", var_value)\n",
    "print(\"Cincinnati Bengals Offense Points Minimum:\", min_value)\n",
    "print(\"Cincinnati Bengals Offense Points Maximum:\", max_value)\n",
    "print(\"Cincinnati Bengals Offense Points Range:\", data_range)\n",
    "print(\"Cincinnati Bengals Total Points:\", total_points)"
   ]
  },
  {
   "cell_type": "markdown",
   "id": "d43301cd",
   "metadata": {},
   "source": [
    "### Cleveland Browns"
   ]
  },
  {
   "cell_type": "code",
   "execution_count": 94,
   "id": "a1bb8f07",
   "metadata": {},
   "outputs": [
    {
     "name": "stdout",
     "output_type": "stream",
     "text": [
      "Cleveland Browns Offense Points Mean: 306.54545454545456\n",
      "Cleveland Browns Offense Points Median: 302.0\n",
      "Cleveland Browns Offense Points Standard Deviation: 53.94508992737641\n",
      "Cleveland Browns Offense Points Variance: 2910.0727272727277\n",
      "Cleveland Browns Offense Points Minimum: 234\n",
      "Cleveland Browns Offense Points Maximum: 408\n",
      "Cleveland Browns Offense Points Range: 174\n",
      "Cleveland Browns Total Points: 3372\n"
     ]
    }
   ],
   "source": [
    "team_name8 = 'Cleveland Browns'\n",
    "browns_data = nflstats[nflstats['Team'] == team_name8]\n",
    "mean_value = browns_data['Off Tot/Pts'].mean()\n",
    "median_value = browns_data['Off Tot/Pts'].median()\n",
    "std_value = browns_data['Off Tot/Pts'].std()\n",
    "var_value = browns_data['Off Tot/Pts'].var()\n",
    "min_value = browns_data['Off Tot/Pts'].min()\n",
    "max_value = browns_data['Off Tot/Pts'].max()\n",
    "data_range = max_value - min_value\n",
    "total_points = browns_data['Off Tot/Pts'].sum()\n",
    "print(\"Cleveland Browns Offense Points Mean:\", mean_value)\n",
    "print(\"Cleveland Browns Offense Points Median:\", median_value)\n",
    "print(\"Cleveland Browns Offense Points Standard Deviation:\", std_value)\n",
    "print(\"Cleveland Browns Offense Points Variance:\", var_value)\n",
    "print(\"Cleveland Browns Offense Points Minimum:\", min_value)\n",
    "print(\"Cleveland Browns Offense Points Maximum:\", max_value)\n",
    "print(\"Cleveland Browns Offense Points Range:\", data_range)\n",
    "print(\"Cleveland Browns Total Points:\", total_points)"
   ]
  },
  {
   "cell_type": "markdown",
   "id": "c5a1719d",
   "metadata": {},
   "source": [
    "### Dallas Cowboys"
   ]
  },
  {
   "cell_type": "code",
   "execution_count": 93,
   "id": "cfc91361",
   "metadata": {},
   "outputs": [
    {
     "name": "stdout",
     "output_type": "stream",
     "text": [
      "Dallas Cowboys Offense Points Mean: 410.1818181818182\n",
      "Dallas Cowboys Offense Points Median: 421.0\n",
      "Dallas Cowboys Offense Points Standard Deviation: 69.50801131066574\n",
      "Dallas Cowboys Offense Points Variance: 4831.363636363636\n",
      "Dallas Cowboys Offense Points Minimum: 275\n",
      "Dallas Cowboys Offense Points Maximum: 530\n",
      "Dallas Cowboys Offense Points Range: 255\n",
      "Dallas Cowboys Total Points: 4512\n"
     ]
    }
   ],
   "source": [
    "team_name9 = 'Dallas Cowboys'\n",
    "cowboys_data = nflstats[nflstats['Team'] == team_name9]\n",
    "mean_value = cowboys_data['Off Tot/Pts'].mean()\n",
    "median_value = cowboys_data['Off Tot/Pts'].median()\n",
    "std_value = cowboys_data['Off Tot/Pts'].std()\n",
    "var_value = cowboys_data['Off Tot/Pts'].var()\n",
    "min_value = cowboys_data['Off Tot/Pts'].min()\n",
    "max_value = cowboys_data['Off Tot/Pts'].max()\n",
    "data_range = max_value - min_value\n",
    "total_points = cowboys_data['Off Tot/Pts'].sum()\n",
    "print(\"Dallas Cowboys Offense Points Mean:\", mean_value)\n",
    "print(\"Dallas Cowboys Offense Points Median:\", median_value)\n",
    "print(\"Dallas Cowboys Offense Points Standard Deviation:\", std_value)\n",
    "print(\"Dallas Cowboys Offense Points Variance:\", var_value)\n",
    "print(\"Dallas Cowboys Offense Points Minimum:\", min_value)\n",
    "print(\"Dallas Cowboys Offense Points Maximum:\", max_value)\n",
    "print(\"Dallas Cowboys Offense Points Range:\", data_range)\n",
    "print(\"Dallas Cowboys Total Points:\", total_points)"
   ]
  },
  {
   "cell_type": "markdown",
   "id": "7c0ae505",
   "metadata": {},
   "source": [
    "### Denver Broncos"
   ]
  },
  {
   "cell_type": "code",
   "execution_count": 92,
   "id": "f827ac4e",
   "metadata": {},
   "outputs": [
    {
     "name": "stdout",
     "output_type": "stream",
     "text": [
      "Denver Broncos Offense Points Mean: 369.27272727272725\n",
      "Denver Broncos Offense Points Median: 333.0\n",
      "Denver Broncos Offense Points Standard Deviation: 106.46040663936138\n",
      "Denver Broncos Offense Points Variance: 11333.818181818182\n",
      "Denver Broncos Offense Points Minimum: 282\n",
      "Denver Broncos Offense Points Maximum: 606\n",
      "Denver Broncos Offense Points Range: 324\n",
      "Denver Broncos Total Points: 4062\n"
     ]
    }
   ],
   "source": [
    "team_name10 = 'Denver Broncos'\n",
    "broncos_data = nflstats[nflstats['Team'] == team_name10]\n",
    "mean_value = broncos_data['Off Tot/Pts'].mean()\n",
    "median_value = broncos_data['Off Tot/Pts'].median()\n",
    "std_value = broncos_data['Off Tot/Pts'].std()\n",
    "var_value = broncos_data['Off Tot/Pts'].var()\n",
    "min_value = broncos_data['Off Tot/Pts'].min()\n",
    "max_value = broncos_data['Off Tot/Pts'].max()\n",
    "data_range = max_value - min_value\n",
    "total_points = broncos_data['Off Tot/Pts'].sum()\n",
    "print(\"Denver Broncos Offense Points Mean:\", mean_value)\n",
    "print(\"Denver Broncos Offense Points Median:\", median_value)\n",
    "print(\"Denver Broncos Offense Points Standard Deviation:\", std_value)\n",
    "print(\"Denver Broncos Offense Points Variance:\", var_value)\n",
    "print(\"Denver Broncos Offense Points Minimum:\", min_value)\n",
    "print(\"Denver Broncos Offense Points Maximum:\", max_value)\n",
    "print(\"Denver Broncos Offense Points Range:\", data_range)\n",
    "print(\"Denver Broncos Total Points:\", total_points)"
   ]
  },
  {
   "cell_type": "markdown",
   "id": "ea68e150",
   "metadata": {},
   "source": [
    "### Detroit Lions"
   ]
  },
  {
   "cell_type": "code",
   "execution_count": 91,
   "id": "33815d88",
   "metadata": {},
   "outputs": [
    {
     "name": "stdout",
     "output_type": "stream",
     "text": [
      "Detroit Lions Offense Points Mean: 373.45454545454544\n",
      "Detroit Lions Offense Points Median: 372.0\n",
      "Detroit Lions Offense Points Standard Deviation: 40.77097898349667\n",
      "Detroit Lions Offense Points Variance: 1662.2727272727273\n",
      "Detroit Lions Offense Points Minimum: 321\n",
      "Detroit Lions Offense Points Maximum: 453\n",
      "Detroit Lions Offense Points Range: 132\n",
      "Detroit Lions Total Points: 4108\n"
     ]
    }
   ],
   "source": [
    "team_name11 = 'Detroit Lions'\n",
    "lions_data = nflstats[nflstats['Team'] == team_name11]\n",
    "mean_value = lions_data['Off Tot/Pts'].mean()\n",
    "median_value = lions_data['Off Tot/Pts'].median()\n",
    "std_value = lions_data['Off Tot/Pts'].std()\n",
    "var_value = lions_data['Off Tot/Pts'].var()\n",
    "min_value = lions_data['Off Tot/Pts'].min()\n",
    "max_value = lions_data['Off Tot/Pts'].max()\n",
    "data_range = max_value - min_value\n",
    "total_points = lions_data['Off Tot/Pts'].sum()\n",
    "print(\"Detroit Lions Offense Points Mean:\", mean_value)\n",
    "print(\"Detroit Lions Offense Points Median:\", median_value)\n",
    "print(\"Detroit Lions Offense Points Standard Deviation:\", std_value)\n",
    "print(\"Detroit Lions Offense Points Variance:\", var_value)\n",
    "print(\"Detroit Lions Offense Points Minimum:\", min_value)\n",
    "print(\"Detroit Lions Offense Points Maximum:\", max_value)\n",
    "print(\"Detroit Lions Offense Points Range:\", data_range)\n",
    "print(\"Detroit Lions Total Points:\", total_points)"
   ]
  },
  {
   "cell_type": "markdown",
   "id": "86b204c0",
   "metadata": {},
   "source": [
    "### Green Bay Packers"
   ]
  },
  {
   "cell_type": "code",
   "execution_count": 90,
   "id": "04d619fa",
   "metadata": {},
   "outputs": [
    {
     "name": "stdout",
     "output_type": "stream",
     "text": [
      "Green Bay Packers Offense Points Mean: 407.3636363636364\n",
      "Green Bay Packers Offense Points Median: 417.0\n",
      "Green Bay Packers Offense Points Standard Deviation: 62.355870176387924\n",
      "Green Bay Packers Offense Points Variance: 3888.2545454545448\n",
      "Green Bay Packers Offense Points Minimum: 320\n",
      "Green Bay Packers Offense Points Maximum: 509\n",
      "Green Bay Packers Offense Points Range: 189\n",
      "Green Bay Packers Total Points: 4481\n"
     ]
    }
   ],
   "source": [
    "team_name12 = 'Green Bay Packers'\n",
    "packers_data = nflstats[nflstats['Team'] == team_name12]\n",
    "mean_value = packers_data['Off Tot/Pts'].mean()\n",
    "median_value = packers_data['Off Tot/Pts'].median()\n",
    "std_value = packers_data['Off Tot/Pts'].std()\n",
    "var_value = packers_data['Off Tot/Pts'].var()\n",
    "min_value = packers_data['Off Tot/Pts'].min()\n",
    "max_value = packers_data['Off Tot/Pts'].max()\n",
    "data_range = max_value - min_value\n",
    "total_points = packers_data['Off Tot/Pts'].sum()\n",
    "print(\"Green Bay Packers Offense Points Mean:\", mean_value)\n",
    "print(\"Green Bay Packers Offense Points Median:\", median_value)\n",
    "print(\"Green Bay Packers Offense Points Standard Deviation:\", std_value)\n",
    "print(\"Green Bay Packers Offense Points Variance:\", var_value)\n",
    "print(\"Green Bay Packers Offense Points Minimum:\", min_value)\n",
    "print(\"Green Bay Packers Offense Points Maximum:\", max_value)\n",
    "print(\"Green Bay Packers Offense Points Range:\", data_range)\n",
    "print(\"Green Bay Packers Total Points:\", total_points)"
   ]
  },
  {
   "cell_type": "markdown",
   "id": "bebc8a9f",
   "metadata": {},
   "source": [
    "### Houston Texans"
   ]
  },
  {
   "cell_type": "code",
   "execution_count": 89,
   "id": "0d711cc7",
   "metadata": {},
   "outputs": [
    {
     "name": "stdout",
     "output_type": "stream",
     "text": [
      "Houston Texans Offense Points Mean: 335.3636363636364\n",
      "Houston Texans Offense Points Median: 338.0\n",
      "Houston Texans Offense Points Standard Deviation: 48.95972370688529\n",
      "Houston Texans Offense Points Variance: 2397.0545454545454\n",
      "Houston Texans Offense Points Minimum: 276\n",
      "Houston Texans Offense Points Maximum: 416\n",
      "Houston Texans Offense Points Range: 140\n",
      "Houston Texans Total Points: 3689\n"
     ]
    }
   ],
   "source": [
    "team_name13 = 'Houston Texans'\n",
    "texans_data = nflstats[nflstats['Team'] == team_name13]\n",
    "mean_value = texans_data['Off Tot/Pts'].mean()\n",
    "median_value = texans_data['Off Tot/Pts'].median()\n",
    "std_value = texans_data['Off Tot/Pts'].std()\n",
    "var_value = texans_data['Off Tot/Pts'].var()\n",
    "min_value = texans_data['Off Tot/Pts'].min()\n",
    "max_value = texans_data['Off Tot/Pts'].max()\n",
    "data_range = max_value - min_value\n",
    "total_points = texans_data['Off Tot/Pts'].sum()\n",
    "print(\"Houston Texans Offense Points Mean:\", mean_value)\n",
    "print(\"Houston Texans Offense Points Median:\", median_value)\n",
    "print(\"Houston Texans Offense Points Standard Deviation:\", std_value)\n",
    "print(\"Houston Texans Offense Points Variance:\", var_value)\n",
    "print(\"Houston Texans Offense Points Minimum:\", min_value)\n",
    "print(\"Houston Texans Offense Points Maximum:\", max_value)\n",
    "print(\"Houston Texans Offense Points Range:\", data_range)\n",
    "print(\"Houston Texans Total Points:\", total_points)"
   ]
  },
  {
   "cell_type": "markdown",
   "id": "f0be6b12",
   "metadata": {},
   "source": [
    "### Indianapolis Colts"
   ]
  },
  {
   "cell_type": "code",
   "execution_count": 88,
   "id": "a95d632a",
   "metadata": {},
   "outputs": [
    {
     "name": "stdout",
     "output_type": "stream",
     "text": [
      "Indianapolis Colts Offense Points Mean: 366.1818181818182\n",
      "Indianapolis Colts Offense Points Median: 361.0\n",
      "Indianapolis Colts Offense Points Standard Deviation: 73.42045788718316\n",
      "Indianapolis Colts Offense Points Variance: 5390.563636363637\n",
      "Indianapolis Colts Offense Points Minimum: 263\n",
      "Indianapolis Colts Offense Points Maximum: 458\n",
      "Indianapolis Colts Offense Points Range: 195\n",
      "Indianapolis Colts Total Points: 4028\n"
     ]
    }
   ],
   "source": [
    "team_name14 = 'Indianapolis Colts'\n",
    "colts_data = nflstats[nflstats['Team'] == team_name14]\n",
    "mean_value = colts_data['Off Tot/Pts'].mean()\n",
    "median_value = colts_data['Off Tot/Pts'].median()\n",
    "std_value = colts_data['Off Tot/Pts'].std()\n",
    "var_value = colts_data['Off Tot/Pts'].var()\n",
    "min_value = colts_data['Off Tot/Pts'].min()\n",
    "max_value = colts_data['Off Tot/Pts'].max()\n",
    "data_range = max_value - min_value\n",
    "total_points = colts_data['Off Tot/Pts'].sum()\n",
    "print(\"Indianapolis Colts Offense Points Mean:\", mean_value)\n",
    "print(\"Indianapolis Colts Offense Points Median:\", median_value)\n",
    "print(\"Indianapolis Colts Offense Points Standard Deviation:\", std_value)\n",
    "print(\"Indianapolis Colts Offense Points Variance:\", var_value)\n",
    "print(\"Indianapolis Colts Offense Points Minimum:\", min_value)\n",
    "print(\"Indianapolis Colts Offense Points Maximum:\", max_value)\n",
    "print(\"Indianapolis Colts Offense Points Range:\", data_range)\n",
    "print(\"Indianapolis Colts Total Points:\", total_points)"
   ]
  },
  {
   "cell_type": "markdown",
   "id": "8f3be2ef",
   "metadata": {},
   "source": [
    "### Jacksonville Jaguars"
   ]
  },
  {
   "cell_type": "code",
   "execution_count": 87,
   "id": "1d7881f8",
   "metadata": {},
   "outputs": [
    {
     "name": "stdout",
     "output_type": "stream",
     "text": [
      "Jacksonville Jaguars Offense Points Mean: 322.0\n",
      "Jacksonville Jaguars Offense Points Median: 306.0\n",
      "Jacksonville Jaguars Offense Points Standard Deviation: 69.74955196988724\n",
      "Jacksonville Jaguars Offense Points Variance: 4865.0\n",
      "Jacksonville Jaguars Offense Points Minimum: 247\n",
      "Jacksonville Jaguars Offense Points Maximum: 417\n",
      "Jacksonville Jaguars Offense Points Range: 170\n",
      "Jacksonville Jaguars Total Points: 3542\n"
     ]
    }
   ],
   "source": [
    "team_name15 = 'Jacksonville Jaguars'\n",
    "jaguars_data = nflstats[nflstats['Team'] == team_name15]\n",
    "mean_value = jaguars_data['Off Tot/Pts'].mean()\n",
    "median_value = jaguars_data['Off Tot/Pts'].median()\n",
    "std_value = jaguars_data['Off Tot/Pts'].std()\n",
    "var_value = jaguars_data['Off Tot/Pts'].var()\n",
    "min_value = jaguars_data['Off Tot/Pts'].min()\n",
    "max_value = jaguars_data['Off Tot/Pts'].max()\n",
    "data_range = max_value - min_value\n",
    "total_points = jaguars_data['Off Tot/Pts'].sum()\n",
    "print(\"Jacksonville Jaguars Offense Points Mean:\", mean_value)\n",
    "print(\"Jacksonville Jaguars Offense Points Median:\", median_value)\n",
    "print(\"Jacksonville Jaguars Offense Points Standard Deviation:\", std_value)\n",
    "print(\"Jacksonville Jaguars Offense Points Variance:\", var_value)\n",
    "print(\"Jacksonville Jaguars Offense Points Minimum:\", min_value)\n",
    "print(\"Jacksonville Jaguars Offense Points Maximum:\", max_value)\n",
    "print(\"Jacksonville Jaguars Offense Points Range:\", data_range)\n",
    "print(\"Jacksonville Jaguars Total Points:\", total_points)"
   ]
  },
  {
   "cell_type": "markdown",
   "id": "b3481055",
   "metadata": {},
   "source": [
    "### Kansas City Chiefs"
   ]
  },
  {
   "cell_type": "code",
   "execution_count": 85,
   "id": "369fab43",
   "metadata": {},
   "outputs": [
    {
     "name": "stdout",
     "output_type": "stream",
     "text": [
      "Kansas City Chiefs Offense Points Mean: 410.72727272727275\n",
      "Kansas City Chiefs Offense Points Median: 415.0\n",
      "Kansas City Chiefs Offense Points Standard Deviation: 78.5532824382163\n",
      "Kansas City Chiefs Offense Points Variance: 6170.618181818182\n",
      "Kansas City Chiefs Offense Points Minimum: 211\n",
      "Kansas City Chiefs Offense Points Maximum: 496\n",
      "Kansas City Chiefs Offense Points Range: 285\n",
      "Kansas City Chiefs Total Points: 4518\n"
     ]
    }
   ],
   "source": [
    "team_name16 = 'Kansas City Chiefs'\n",
    "chiefs_data = nflstats[nflstats['Team'] == team_name16]\n",
    "mean_value = chiefs_data['Off Tot/Pts'].mean()\n",
    "median_value = chiefs_data['Off Tot/Pts'].median()\n",
    "std_value = chiefs_data['Off Tot/Pts'].std()\n",
    "var_value = chiefs_data['Off Tot/Pts'].var()\n",
    "min_value = chiefs_data['Off Tot/Pts'].min()\n",
    "max_value = chiefs_data['Off Tot/Pts'].max()\n",
    "data_range = max_value - min_value\n",
    "total_points = chiefs_data['Off Tot/Pts'].sum()\n",
    "print(\"Kansas City Chiefs Offense Points Mean:\", mean_value)\n",
    "print(\"Kansas City Chiefs Offense Points Median:\", median_value)\n",
    "print(\"Kansas City Chiefs Offense Points Standard Deviation:\", std_value)\n",
    "print(\"Kansas City Chiefs Offense Points Variance:\", var_value)\n",
    "print(\"Kansas City Chiefs Offense Points Minimum:\", min_value)\n",
    "print(\"Kansas City Chiefs Offense Points Maximum:\", max_value)\n",
    "print(\"Kansas City Chiefs Offense Points Range:\", data_range)\n",
    "print(\"Kansas City Chiefs Total Points:\", total_points)"
   ]
  },
  {
   "cell_type": "markdown",
   "id": "7537b644",
   "metadata": {},
   "source": [
    "### Las Vegas Raiders"
   ]
  },
  {
   "cell_type": "code",
   "execution_count": 84,
   "id": "97005b37",
   "metadata": {},
   "outputs": [
    {
     "name": "stdout",
     "output_type": "stream",
     "text": [
      "Las Vegas Raiders Offense Points Mean: 341.6363636363636\n",
      "Las Vegas Raiders Offense Points Median: 322.0\n",
      "Las Vegas Raiders Offense Points Standard Deviation: 57.69622644033616\n",
      "Las Vegas Raiders Offense Points Variance: 3328.8545454545456\n",
      "Las Vegas Raiders Offense Points Minimum: 253\n",
      "Las Vegas Raiders Offense Points Maximum: 434\n",
      "Las Vegas Raiders Offense Points Range: 181\n",
      "Las Vegas Raiders Total Points: 3758\n"
     ]
    }
   ],
   "source": [
    "team_name17 = 'Las Vegas Raiders'\n",
    "raiders_data = nflstats[nflstats['Team'] == team_name17]\n",
    "mean_value = raiders_data['Off Tot/Pts'].mean()\n",
    "median_value = raiders_data['Off Tot/Pts'].median()\n",
    "std_value = raiders_data['Off Tot/Pts'].std()\n",
    "var_value = raiders_data['Off Tot/Pts'].var()\n",
    "min_value = raiders_data['Off Tot/Pts'].min()\n",
    "max_value = raiders_data['Off Tot/Pts'].max()\n",
    "data_range = max_value - min_value\n",
    "total_points = raiders_data['Off Tot/Pts'].sum()\n",
    "print(\"Las Vegas Raiders Offense Points Mean:\", mean_value)\n",
    "print(\"Las Vegas Raiders Offense Points Median:\", median_value)\n",
    "print(\"Las Vegas Raiders Offense Points Standard Deviation:\", std_value)\n",
    "print(\"Las Vegas Raiders Offense Points Variance:\", var_value)\n",
    "print(\"Las Vegas Raiders Offense Points Minimum:\", min_value)\n",
    "print(\"Las Vegas Raiders Offense Points Maximum:\", max_value)\n",
    "print(\"Las Vegas Raiders Offense Points Range:\", data_range)\n",
    "print(\"Las Vegas Raiders Total Points:\", total_points)"
   ]
  },
  {
   "cell_type": "markdown",
   "id": "8eb1fd10",
   "metadata": {},
   "source": [
    "### Los Angeles Chargers"
   ]
  },
  {
   "cell_type": "code",
   "execution_count": 83,
   "id": "673e46f4",
   "metadata": {},
   "outputs": [
    {
     "name": "stdout",
     "output_type": "stream",
     "text": [
      "Los Angeles Chargers Offense Points Mean: 374.54545454545456\n",
      "Los Angeles Chargers Offense Points Median: 355.0\n",
      "Los Angeles Chargers Offense Points Standard Deviation: 42.924034377871884\n",
      "Los Angeles Chargers Offense Points Variance: 1842.4727272727273\n",
      "Los Angeles Chargers Offense Points Minimum: 320\n",
      "Los Angeles Chargers Offense Points Maximum: 474\n",
      "Los Angeles Chargers Offense Points Range: 154\n",
      "Los Angeles Chargers Total Points: 4120\n"
     ]
    }
   ],
   "source": [
    "team_name18 = 'Los Angeles Chargers'\n",
    "chargers_data = nflstats[nflstats['Team'] == team_name18]\n",
    "mean_value = chargers_data['Off Tot/Pts'].mean()\n",
    "median_value = chargers_data['Off Tot/Pts'].median()\n",
    "std_value = chargers_data['Off Tot/Pts'].std()\n",
    "var_value = chargers_data['Off Tot/Pts'].var()\n",
    "min_value = chargers_data['Off Tot/Pts'].min()\n",
    "max_value = chargers_data['Off Tot/Pts'].max()\n",
    "data_range = max_value - min_value\n",
    "total_points = chargers_data['Off Tot/Pts'].sum()\n",
    "print(\"Los Angeles Chargers Offense Points Mean:\", mean_value)\n",
    "print(\"Los Angeles Chargers Offense Points Median:\", median_value)\n",
    "print(\"Los Angeles Chargers Offense Points Standard Deviation:\", std_value)\n",
    "print(\"Los Angeles Chargers Offense Points Variance:\", var_value)\n",
    "print(\"Los Angeles Chargers Offense Points Minimum:\", min_value)\n",
    "print(\"Los Angeles Chargers Offense Points Maximum:\", max_value)\n",
    "print(\"Los Angeles Chargers Offense Points Range:\", data_range)\n",
    "print(\"Los Angeles Chargers Total Points:\", total_points)"
   ]
  },
  {
   "cell_type": "markdown",
   "id": "8645585d",
   "metadata": {},
   "source": [
    "### Los Angeles Rams"
   ]
  },
  {
   "cell_type": "code",
   "execution_count": 82,
   "id": "e5f69b13",
   "metadata": {},
   "outputs": [
    {
     "name": "stdout",
     "output_type": "stream",
     "text": [
      "Los Angeles Rams Offense Points Mean: 360.3636363636364\n",
      "Los Angeles Rams Offense Points Median: 348.0\n",
      "Los Angeles Rams Offense Points Standard Deviation: 84.86020590037798\n",
      "Los Angeles Rams Offense Points Variance: 7201.254545454545\n",
      "Los Angeles Rams Offense Points Minimum: 224\n",
      "Los Angeles Rams Offense Points Maximum: 478\n",
      "Los Angeles Rams Offense Points Range: 254\n",
      "Los Angeles Rams Total Points: 3964\n"
     ]
    }
   ],
   "source": [
    "team_name19 = 'Los Angeles Rams'\n",
    "rams_data = nflstats[nflstats['Team'] == team_name19]\n",
    "mean_value = rams_data['Off Tot/Pts'].mean()\n",
    "median_value = rams_data['Off Tot/Pts'].median()\n",
    "std_value = rams_data['Off Tot/Pts'].std()\n",
    "var_value = rams_data['Off Tot/Pts'].var()\n",
    "min_value = rams_data['Off Tot/Pts'].min()\n",
    "max_value = rams_data['Off Tot/Pts'].max()\n",
    "data_range = max_value - min_value\n",
    "total_points = rams_data['Off Tot/Pts'].sum()\n",
    "print(\"Los Angeles Rams Offense Points Mean:\", mean_value)\n",
    "print(\"Los Angeles Rams Offense Points Median:\", median_value)\n",
    "print(\"Los Angeles Rams Offense Points Standard Deviation:\", std_value)\n",
    "print(\"Los Angeles Rams Offense Points Variance:\", var_value)\n",
    "print(\"Los Angeles Rams Offense Points Minimum:\", min_value)\n",
    "print(\"Los Angeles Rams Offense Points Maximum:\", max_value)\n",
    "print(\"Los Angeles Rams Offense Points Range:\", data_range)\n",
    "print(\"Los Angeles Rams Total Points:\", total_points)"
   ]
  },
  {
   "cell_type": "markdown",
   "id": "9dbc369a",
   "metadata": {},
   "source": [
    "### Miami Dolphins"
   ]
  },
  {
   "cell_type": "code",
   "execution_count": 81,
   "id": "a5637654",
   "metadata": {},
   "outputs": [
    {
     "name": "stdout",
     "output_type": "stream",
     "text": [
      "Miami Dolphins Offense Points Mean: 334.1818181818182\n",
      "Miami Dolphins Offense Points Median: 317.0\n",
      "Miami Dolphins Offense Points Standard Deviation: 46.96555797990307\n",
      "Miami Dolphins Offense Points Variance: 2205.7636363636366\n",
      "Miami Dolphins Offense Points Minimum: 281\n",
      "Miami Dolphins Offense Points Maximum: 404\n",
      "Miami Dolphins Offense Points Range: 123\n",
      "Miami Dolphins Total Points: 3676\n"
     ]
    }
   ],
   "source": [
    "team_name20 = 'Miami Dolphins'\n",
    "dolphins_data = nflstats[nflstats['Team'] == team_name20]\n",
    "mean_value = dolphins_data['Off Tot/Pts'].mean()\n",
    "median_value = dolphins_data['Off Tot/Pts'].median()\n",
    "std_value = dolphins_data['Off Tot/Pts'].std()\n",
    "var_value = dolphins_data['Off Tot/Pts'].var()\n",
    "min_value = dolphins_data['Off Tot/Pts'].min()\n",
    "max_value = dolphins_data['Off Tot/Pts'].max()\n",
    "data_range = max_value - min_value\n",
    "total_points = dolphins_data['Off Tot/Pts'].sum()\n",
    "print(\"Miami Dolphins Offense Points Mean:\", mean_value)\n",
    "print(\"Miami Dolphins Offense Points Median:\", median_value)\n",
    "print(\"Miami Dolphins Offense Points Standard Deviation:\", std_value)\n",
    "print(\"Miami Dolphins Offense Points Variance:\", var_value)\n",
    "print(\"Miami Dolphins Offense Points Minimum:\", min_value)\n",
    "print(\"Miami Dolphins Offense Points Maximum:\", max_value)\n",
    "print(\"Miami Dolphins Offense Points Range:\", data_range)\n",
    "print(\"Miami Dolphins Total Points:\", total_points)"
   ]
  },
  {
   "cell_type": "markdown",
   "id": "1f1dddc0",
   "metadata": {},
   "source": [
    "### Minnesota Vikings"
   ]
  },
  {
   "cell_type": "code",
   "execution_count": 80,
   "id": "5fff2f82",
   "metadata": {},
   "outputs": [
    {
     "name": "stdout",
     "output_type": "stream",
     "text": [
      "Minnesota Vikings Offense Points Mean: 385.1818181818182\n",
      "Minnesota Vikings Offense Points Median: 382.0\n",
      "Minnesota Vikings Offense Points Standard Deviation: 36.17130957490531\n",
      "Minnesota Vikings Offense Points Variance: 1308.3636363636363\n",
      "Minnesota Vikings Offense Points Minimum: 325\n",
      "Minnesota Vikings Offense Points Maximum: 430\n",
      "Minnesota Vikings Offense Points Range: 105\n",
      "Minnesota Vikings Total Points: 4237\n"
     ]
    }
   ],
   "source": [
    "team_name21 = 'Minnesota Vikings'\n",
    "vikings_data = nflstats[nflstats['Team'] == team_name21]\n",
    "mean_value = vikings_data['Off Tot/Pts'].mean()\n",
    "median_value = vikings_data['Off Tot/Pts'].median()\n",
    "std_value = vikings_data['Off Tot/Pts'].std()\n",
    "var_value = vikings_data['Off Tot/Pts'].var()\n",
    "min_value = vikings_data['Off Tot/Pts'].min()\n",
    "max_value = vikings_data['Off Tot/Pts'].max()\n",
    "data_range = max_value - min_value\n",
    "total_points = vikings_data['Off Tot/Pts'].sum()\n",
    "print(\"Minnesota Vikings Offense Points Mean:\", mean_value)\n",
    "print(\"Minnesota Vikings Offense Points Median:\", median_value)\n",
    "print(\"Minnesota Vikings Offense Points Standard Deviation:\", std_value)\n",
    "print(\"Minnesota Vikings Offense Points Variance:\", var_value)\n",
    "print(\"Minnesota Vikings Offense Points Minimum:\", min_value)\n",
    "print(\"Minnesota Vikings Offense Points Maximum:\", max_value)\n",
    "print(\"Minnesota Vikings Offense Points Range:\", data_range)\n",
    "print(\"Minnesota Vikings Total Points:\", total_points)"
   ]
  },
  {
   "cell_type": "markdown",
   "id": "187bd3f7",
   "metadata": {},
   "source": [
    "### New England Patriots"
   ]
  },
  {
   "cell_type": "code",
   "execution_count": 79,
   "id": "fc35574d",
   "metadata": {},
   "outputs": [
    {
     "name": "stdout",
     "output_type": "stream",
     "text": [
      "New England Patriots Offense Points Mean: 442.09090909090907\n",
      "New England Patriots Offense Points Median: 458.0\n",
      "New England Patriots Offense Points Standard Deviation: 59.47344709272289\n",
      "New England Patriots Offense Points Variance: 3537.090909090909\n",
      "New England Patriots Offense Points Minimum: 326\n",
      "New England Patriots Offense Points Maximum: 557\n",
      "New England Patriots Offense Points Range: 231\n",
      "New England Patriots Total Points: 4863\n"
     ]
    }
   ],
   "source": [
    "team_name22 = 'New England Patriots'\n",
    "patriots_data = nflstats[nflstats['Team'] == team_name22]\n",
    "mean_value = patriots_data['Off Tot/Pts'].mean()\n",
    "median_value = patriots_data['Off Tot/Pts'].median()\n",
    "std_value = patriots_data['Off Tot/Pts'].std()\n",
    "var_value = patriots_data['Off Tot/Pts'].var()\n",
    "min_value = patriots_data['Off Tot/Pts'].min()\n",
    "max_value = patriots_data['Off Tot/Pts'].max()\n",
    "data_range = max_value - min_value\n",
    "total_points = patriots_data['Off Tot/Pts'].sum()\n",
    "print(\"New England Patriots Offense Points Mean:\", mean_value)\n",
    "print(\"New England Patriots Offense Points Median:\", median_value)\n",
    "print(\"New England Patriots Offense Points Standard Deviation:\", std_value)\n",
    "print(\"New England Patriots Offense Points Variance:\", var_value)\n",
    "print(\"New England Patriots Offense Points Minimum:\", min_value)\n",
    "print(\"New England Patriots Offense Points Maximum:\", max_value)\n",
    "print(\"New England Patriots Offense Points Range:\", data_range)\n",
    "print(\"New England Patriots Total Points:\", total_points)"
   ]
  },
  {
   "cell_type": "markdown",
   "id": "44fe47cb",
   "metadata": {},
   "source": [
    "### New Orleans Saints"
   ]
  },
  {
   "cell_type": "code",
   "execution_count": 78,
   "id": "13ece275",
   "metadata": {},
   "outputs": [
    {
     "name": "stdout",
     "output_type": "stream",
     "text": [
      "New Orleans Saints Offense Points Mean: 423.5\n",
      "New Orleans Saints Offense Points Median: 431.0\n",
      "New Orleans Saints Offense Points Standard Deviation: 49.22567080971743\n",
      "New Orleans Saints Offense Points Variance: 2423.1666666666665\n",
      "New Orleans Saints Offense Points Minimum: 330\n",
      "New Orleans Saints Offense Points Maximum: 482\n",
      "New Orleans Saints Offense Points Range: 152\n",
      "New Orleans Saints Total Points: 4235\n"
     ]
    }
   ],
   "source": [
    "team_name23 = 'New Orleans Saints'\n",
    "saints_data = nflstats[nflstats['Team'] == team_name23]\n",
    "mean_value = saints_data['Off Tot/Pts'].mean()\n",
    "median_value = saints_data['Off Tot/Pts'].median()\n",
    "std_value = saints_data['Off Tot/Pts'].std()\n",
    "var_value = saints_data['Off Tot/Pts'].var()\n",
    "min_value = saints_data['Off Tot/Pts'].min()\n",
    "max_value = saints_data['Off Tot/Pts'].max()\n",
    "data_range = max_value - min_value\n",
    "total_points = saints_data['Off Tot/Pts'].sum()\n",
    "print(\"New Orleans Saints Offense Points Mean:\", mean_value)\n",
    "print(\"New Orleans Saints Offense Points Median:\", median_value)\n",
    "print(\"New Orleans Saints Offense Points Standard Deviation:\", std_value)\n",
    "print(\"New Orleans Saints Offense Points Variance:\", var_value)\n",
    "print(\"New Orleans Saints Offense Points Minimum:\", min_value)\n",
    "print(\"New Orleans Saints Offense Points Maximum:\", max_value)\n",
    "print(\"New Orleans Saints Offense Points Range:\", data_range)\n",
    "print(\"New Orleans Saints Total Points:\", total_points)"
   ]
  },
  {
   "cell_type": "markdown",
   "id": "b0ffa5c5",
   "metadata": {},
   "source": [
    "### New York Giants"
   ]
  },
  {
   "cell_type": "code",
   "execution_count": 77,
   "id": "d6665241",
   "metadata": {},
   "outputs": [
    {
     "name": "stdout",
     "output_type": "stream",
     "text": [
      "New York Giants Offense Points Mean: 324.45454545454544\n",
      "New York Giants Offense Points Median: 310.0\n",
      "New York Giants Offense Points Standard Deviation: 67.00800494920534\n",
      "New York Giants Offense Points Variance: 4490.072727272727\n",
      "New York Giants Offense Points Minimum: 246\n",
      "New York Giants Offense Points Maximum: 429\n",
      "New York Giants Offense Points Range: 183\n",
      "New York Giants Total Points: 3569\n"
     ]
    }
   ],
   "source": [
    "team_name24 = 'New York Giants'\n",
    "giants_data = nflstats[nflstats['Team'] == team_name24]\n",
    "mean_value = giants_data['Off Tot/Pts'].mean()\n",
    "median_value = giants_data['Off Tot/Pts'].median()\n",
    "std_value = giants_data['Off Tot/Pts'].std()\n",
    "var_value = giants_data['Off Tot/Pts'].var()\n",
    "min_value = giants_data['Off Tot/Pts'].min()\n",
    "max_value = giants_data['Off Tot/Pts'].max()\n",
    "data_range = max_value - min_value\n",
    "total_points = giants_data['Off Tot/Pts'].sum()\n",
    "print(\"New York Giants Offense Points Mean:\", mean_value)\n",
    "print(\"New York Giants Offense Points Median:\", median_value)\n",
    "print(\"New York Giants Offense Points Standard Deviation:\", std_value)\n",
    "print(\"New York Giants Offense Points Variance:\", var_value)\n",
    "print(\"New York Giants Offense Points Minimum:\", min_value)\n",
    "print(\"New York Giants Offense Points Maximum:\", max_value)\n",
    "print(\"New York Giants Offense Points Range:\", data_range)\n",
    "print(\"New York Giants Total Points:\", total_points)"
   ]
  },
  {
   "cell_type": "markdown",
   "id": "08e23a2d",
   "metadata": {},
   "source": [
    "### New York Jets"
   ]
  },
  {
   "cell_type": "code",
   "execution_count": 76,
   "id": "82da3d51",
   "metadata": {},
   "outputs": [
    {
     "name": "stdout",
     "output_type": "stream",
     "text": [
      "New York Jets Offense Points Mean: 294.27272727272725\n",
      "New York Jets Offense Points Median: 290.0\n",
      "New York Jets Offense Points Standard Deviation: 35.4008217675548\n",
      "New York Jets Offense Points Variance: 1253.2181818181818\n",
      "New York Jets Offense Points Minimum: 243\n",
      "New York Jets Offense Points Maximum: 387\n",
      "New York Jets Offense Points Range: 144\n",
      "New York Jets Total Points: 3237\n"
     ]
    }
   ],
   "source": [
    "team_name25 = 'New York Jets'\n",
    "Jets_data = nflstats[nflstats['Team'] == team_name25]\n",
    "mean_value = Jets_data['Off Tot/Pts'].mean()\n",
    "median_value = Jets_data['Off Tot/Pts'].median()\n",
    "std_value = Jets_data['Off Tot/Pts'].std()\n",
    "var_value = Jets_data['Off Tot/Pts'].var()\n",
    "min_value = Jets_data['Off Tot/Pts'].min()\n",
    "max_value = Jets_data['Off Tot/Pts'].max()\n",
    "data_range = max_value - min_value\n",
    "total_points = Jets_data['Off Tot/Pts'].sum()\n",
    "print(\"New York Jets Offense Points Mean:\", mean_value)\n",
    "print(\"New York Jets Offense Points Median:\", median_value)\n",
    "print(\"New York Jets Offense Points Standard Deviation:\", std_value)\n",
    "print(\"New York Jets Offense Points Variance:\", var_value)\n",
    "print(\"New York Jets Offense Points Minimum:\", min_value)\n",
    "print(\"New York Jets Offense Points Maximum:\", max_value)\n",
    "print(\"New York Jets Offense Points Range:\", data_range)\n",
    "print(\"New York Jets Total Points:\", total_points)"
   ]
  },
  {
   "cell_type": "markdown",
   "id": "48314486",
   "metadata": {},
   "source": [
    "### Philadelphia Eagles"
   ]
  },
  {
   "cell_type": "code",
   "execution_count": 75,
   "id": "074eed4a",
   "metadata": {},
   "outputs": [
    {
     "name": "stdout",
     "output_type": "stream",
     "text": [
      "Philadelphia Eagles Offense Points Mean: 408.54545454545456\n",
      "Philadelphia Eagles Points Median: 442.0\n",
      "Philadelphia Eagles Points Standard Deviation: 64.3418427407292\n",
      "Philadelphia Eagles Points Variance: 4139.872727272728\n",
      "Philadelphia Eagles Points Minimum: 280\n",
      "Philadelphia Eagles Points Maximum: 477\n",
      "Philadelphia Eagles Points Range: 197\n",
      "Philadelphia Eagles Total Points: 4494\n"
     ]
    }
   ],
   "source": [
    "team_name26 = 'Philadelphia Eagles'\n",
    "eagles_data = nflstats[nflstats['Team'] == team_name26]\n",
    "mean_value = eagles_data['Off Tot/Pts'].mean()\n",
    "median_value = eagles_data['Off Tot/Pts'].median()\n",
    "std_value = eagles_data['Off Tot/Pts'].std()\n",
    "var_value = eagles_data['Off Tot/Pts'].var()\n",
    "min_value = eagles_data['Off Tot/Pts'].min()\n",
    "max_value = eagles_data['Off Tot/Pts'].max()\n",
    "data_range = max_value - min_value\n",
    "total_points = eagles_data['Off Tot/Pts'].sum()\n",
    "print(\"Philadelphia Eagles Offense Points Mean:\", mean_value)\n",
    "print(\"Philadelphia Eagles Points Median:\", median_value)\n",
    "print(\"Philadelphia Eagles Points Standard Deviation:\", std_value)\n",
    "print(\"Philadelphia Eagles Points Variance:\", var_value)\n",
    "print(\"Philadelphia Eagles Points Minimum:\", min_value)\n",
    "print(\"Philadelphia Eagles Points Maximum:\", max_value)\n",
    "print(\"Philadelphia Eagles Points Range:\", data_range)\n",
    "print(\"Philadelphia Eagles Total Points:\", total_points)"
   ]
  },
  {
   "cell_type": "markdown",
   "id": "3ff00a06",
   "metadata": {},
   "source": [
    "### Pittsburgh Steelers"
   ]
  },
  {
   "cell_type": "code",
   "execution_count": 74,
   "id": "1da74b57",
   "metadata": {},
   "outputs": [
    {
     "name": "stdout",
     "output_type": "stream",
     "text": [
      "Pittsburgh Steelers Offense Points Mean: 376.45454545454544\n",
      "Pittsburgh Steelers Points Median: 399.0\n",
      "Pittsburgh Steelers Points Standard Deviation: 49.62532344753762\n",
      "Pittsburgh Steelers Points Variance: 2462.672727272727\n",
      "Pittsburgh Steelers Points Minimum: 289\n",
      "Pittsburgh Steelers Points Maximum: 436\n",
      "Pittsburgh Steelers Points Range: 147\n",
      "Pittsburgh Steelers Total Points: 4141\n"
     ]
    }
   ],
   "source": [
    "team_name27 = 'Pittsburgh Steelers'\n",
    "steelers_data = nflstats[nflstats['Team'] == team_name27]\n",
    "mean_value = steelers_data['Off Tot/Pts'].mean()\n",
    "median_value = steelers_data['Off Tot/Pts'].median()\n",
    "std_value = steelers_data['Off Tot/Pts'].std()\n",
    "var_value = steelers_data['Off Tot/Pts'].var()\n",
    "min_value = steelers_data['Off Tot/Pts'].min()\n",
    "max_value = steelers_data['Off Tot/Pts'].max()\n",
    "data_range = max_value - min_value\n",
    "total_points = steelers_data['Off Tot/Pts'].sum()\n",
    "print(\"Pittsburgh Steelers Offense Points Mean:\", mean_value)\n",
    "print(\"Pittsburgh Steelers Points Median:\", median_value)\n",
    "print(\"Pittsburgh Steelers Points Standard Deviation:\", std_value)\n",
    "print(\"Pittsburgh Steelers Points Variance:\", var_value)\n",
    "print(\"Pittsburgh Steelers Points Minimum:\", min_value)\n",
    "print(\"Pittsburgh Steelers Points Maximum:\", max_value)\n",
    "print(\"Pittsburgh Steelers Points Range:\", data_range)\n",
    "print(\"Pittsburgh Steelers Total Points:\", total_points)"
   ]
  },
  {
   "cell_type": "markdown",
   "id": "a95650f5",
   "metadata": {},
   "source": [
    "### San Francisco 49ers"
   ]
  },
  {
   "cell_type": "code",
   "execution_count": 73,
   "id": "cdc8cdfd",
   "metadata": {},
   "outputs": [
    {
     "name": "stdout",
     "output_type": "stream",
     "text": [
      "San Francisco 49ers Offense Points Mean: 368.1818181818182\n",
      "San Francisco 49ers Points Median: 376.0\n",
      "San Francisco 49ers Points Standard Deviation: 71.99835856714814\n",
      "San Francisco 49ers Points Variance: 5183.763636363636\n",
      "San Francisco 49ers Points Minimum: 238\n",
      "San Francisco 49ers Points Maximum: 479\n",
      "San Francisco 49ers Points Range: 241\n",
      "San Francisco 49ers Total Points: 4050\n"
     ]
    }
   ],
   "source": [
    "team_name28 = 'San Francisco 49ers'\n",
    "niners_data = nflstats[nflstats['Team'] == team_name28]\n",
    "mean_value = niners_data['Off Tot/Pts'].mean()\n",
    "median_value = niners_data['Off Tot/Pts'].median()\n",
    "std_value = niners_data['Off Tot/Pts'].std()\n",
    "var_value = niners_data['Off Tot/Pts'].var()\n",
    "min_value = niners_data['Off Tot/Pts'].min()\n",
    "max_value = niners_data['Off Tot/Pts'].max()\n",
    "data_range = max_value - min_value\n",
    "total_points = niners_data['Off Tot/Pts'].sum()\n",
    "print(\"San Francisco 49ers Offense Points Mean:\", mean_value)\n",
    "print(\"San Francisco 49ers Points Median:\", median_value)\n",
    "print(\"San Francisco 49ers Points Standard Deviation:\", std_value)\n",
    "print(\"San Francisco 49ers Points Variance:\", var_value)\n",
    "print(\"San Francisco 49ers Points Minimum:\", min_value)\n",
    "print(\"San Francisco 49ers Points Maximum:\", max_value)\n",
    "print(\"San Francisco 49ers Points Range:\", data_range)\n",
    "print(\"San Francisco 49ers Total Points:\", total_points)"
   ]
  },
  {
   "cell_type": "markdown",
   "id": "01b1ebd0",
   "metadata": {},
   "source": [
    "### Tampa Bay Buccaneers"
   ]
  },
  {
   "cell_type": "code",
   "execution_count": 72,
   "id": "26b230f3",
   "metadata": {},
   "outputs": [
    {
     "name": "stdout",
     "output_type": "stream",
     "text": [
      "Tampa Bay Buccaneers Offense Points Mean: 372.1818181818182\n",
      "Tampa Bay Buccaneers Points Median: 342.0\n",
      "Tampa Bay Buccaneers Points Standard Deviation: 80.57892799214716\n",
      "Tampa Bay Buccaneers Points Variance: 6492.963636363637\n",
      "Tampa Bay Buccaneers Points Minimum: 277\n",
      "Tampa Bay Buccaneers Points Maximum: 511\n",
      "Tampa Bay Buccaneers Points Range: 234\n",
      "Tampa Bay Buccaneers Total Points: 4094\n"
     ]
    }
   ],
   "source": [
    "team_name29 = 'Tampa Bay Buccaneers'\n",
    "buccaneers_data = nflstats[nflstats['Team'] == team_name29]\n",
    "mean_value = buccaneers_data['Off Tot/Pts'].mean()\n",
    "median_value = buccaneers_data['Off Tot/Pts'].median()\n",
    "std_value = buccaneers_data['Off Tot/Pts'].std()\n",
    "var_value = buccaneers_data['Off Tot/Pts'].var()\n",
    "min_value = buccaneers_data['Off Tot/Pts'].min()\n",
    "max_value = buccaneers_data['Off Tot/Pts'].max()\n",
    "data_range = max_value - min_value\n",
    "total_points = buccaneers_data['Off Tot/Pts'].sum()\n",
    "print(\"Tampa Bay Buccaneers Offense Points Mean:\", mean_value)\n",
    "print(\"Tampa Bay Buccaneers Points Median:\", median_value)\n",
    "print(\"Tampa Bay Buccaneers Points Standard Deviation:\", std_value)\n",
    "print(\"Tampa Bay Buccaneers Points Variance:\", var_value)\n",
    "print(\"Tampa Bay Buccaneers Points Minimum:\", min_value)\n",
    "print(\"Tampa Bay Buccaneers Points Maximum:\", max_value)\n",
    "print(\"Tampa Bay Buccaneers Points Range:\", data_range)\n",
    "print(\"Tampa Bay Buccaneers Total Points:\", total_points)"
   ]
  },
  {
   "cell_type": "markdown",
   "id": "87ea275c",
   "metadata": {},
   "source": [
    "### Tennessee Titans"
   ]
  },
  {
   "cell_type": "code",
   "execution_count": 71,
   "id": "c6e66a7d",
   "metadata": {},
   "outputs": [
    {
     "name": "stdout",
     "output_type": "stream",
     "text": [
      "Tennessee Titans Offense Points Mean: 354.90909090909093\n",
      "Tennessee Titans Points Median: 334.0\n",
      "Tennessee Titans Points Standard Deviation: 66.0446130209793\n",
      "Tennessee Titans Points Variance: 4361.890909090909\n",
      "Tennessee Titans Points Minimum: 254\n",
      "Tennessee Titans Points Maximum: 491\n",
      "Tennessee Titans Points Range: 237\n",
      "Tennessee Titans Total Offense Points: 3904\n"
     ]
    }
   ],
   "source": [
    "team_name30 = 'Tennessee Titans'\n",
    "titans_data = nflstats[nflstats['Team'] == team_name30]\n",
    "mean_value = titans_data['Off Tot/Pts'].mean()\n",
    "median_value = titans_data['Off Tot/Pts'].median()\n",
    "std_value = titans_data['Off Tot/Pts'].std()\n",
    "var_value = titans_data['Off Tot/Pts'].var()\n",
    "min_value = titans_data['Off Tot/Pts'].min()\n",
    "max_value = titans_data['Off Tot/Pts'].max()\n",
    "data_range = max_value - min_value\n",
    "total_points = titans_data['Off Tot/Pts'].sum()\n",
    "print(\"Tennessee Titans Offense Points Mean:\", mean_value)\n",
    "print(\"Tennessee Titans Points Median:\", median_value)\n",
    "print(\"Tennessee Titans Points Standard Deviation:\", std_value)\n",
    "print(\"Tennessee Titans Points Variance:\", var_value)\n",
    "print(\"Tennessee Titans Points Minimum:\", min_value)\n",
    "print(\"Tennessee Titans Points Maximum:\", max_value)\n",
    "print(\"Tennessee Titans Points Range:\", data_range)\n",
    "print(\"Tennessee Titans Total Offense Points:\", total_points)"
   ]
  },
  {
   "cell_type": "markdown",
   "id": "45308288",
   "metadata": {},
   "source": [
    "### Washington Commanders"
   ]
  },
  {
   "cell_type": "code",
   "execution_count": 103,
   "id": "fd25dd2e",
   "metadata": {},
   "outputs": [
    {
     "name": "stdout",
     "output_type": "stream",
     "text": [
      "Washington Commanders Offense Points Mean: 345.09090909090907\n",
      "Washington Commanders Median: 335.0\n",
      "Washington Commanders Standard Deviation: 46.714996618761624\n",
      "Washington Commanders Variance: 2182.2909090909097\n",
      "Washington Commanders Minimum: 266\n",
      "Washington Commanders Points Maximum: 436\n",
      "Washington Commanders Total Offense Points: 3796\n",
      "Washington Commanders Points Range: 170\n"
     ]
    }
   ],
   "source": [
    "team_name31 = 'Washington Commanders'\n",
    "commanders_data = nflstats[nflstats['Team'] == team_name31]\n",
    "mean_value = commanders_data['Off Tot/Pts'].mean()\n",
    "median_value = commanders_data['Off Tot/Pts'].median()\n",
    "std_value = commanders_data['Off Tot/Pts'].std()\n",
    "var_value = commanders_data['Off Tot/Pts'].var()\n",
    "min_value = commanders_data['Off Tot/Pts'].min()\n",
    "max_value = commanders_data['Off Tot/Pts'].max()\n",
    "total_points = commanders_data['Off Tot/Pts'].sum()\n",
    "data_range = max_value - min_value\n",
    "print(\"Washington Commanders Offense Points Mean:\", mean_value)\n",
    "print(\"Washington Commanders Median:\", median_value)\n",
    "print(\"Washington Commanders Standard Deviation:\", std_value)\n",
    "print(\"Washington Commanders Variance:\", var_value)\n",
    "print(\"Washington Commanders Minimum:\", min_value)\n",
    "print(\"Washington Commanders Points Maximum:\", max_value)\n",
    "print(\"Washington Commanders Total Offense Points:\", total_points)\n",
    "print(\"Washington Commanders Points Range:\", data_range)"
   ]
  },
  {
   "cell_type": "markdown",
   "id": "9d5de545",
   "metadata": {},
   "source": [
    "#### Analysis Findings"
   ]
  },
  {
   "cell_type": "markdown",
   "id": "77634f0f",
   "metadata": {},
   "source": [
    "#### New England Patriots stand out with highest average of total offense points per year @ 443 pts per year average. NE also is the team that has the maximum number of points in a year with 557 pts in 2012."
   ]
  },
  {
   "cell_type": "markdown",
   "id": "946f3429",
   "metadata": {},
   "source": [
    "#### New York Jets stand out with lowest average of total offense points per year @ 294 pts per year average. NYJ is the team that has the lowest number of points in a year with 243 in 2020."
   ]
  },
  {
   "cell_type": "markdown",
   "id": "7b5e9217",
   "metadata": {},
   "source": [
    "#### Seattle Seahawks stand out with the lowest standard deviation of pts and lowest range of points. The Denver Broncos have the highest standard deviation and highets range of points. "
   ]
  }
 ],
 "metadata": {
  "kernelspec": {
   "display_name": "Python 3 (ipykernel)",
   "language": "python",
   "name": "python3"
  },
  "language_info": {
   "codemirror_mode": {
    "name": "ipython",
    "version": 3
   },
   "file_extension": ".py",
   "mimetype": "text/x-python",
   "name": "python",
   "nbconvert_exporter": "python",
   "pygments_lexer": "ipython3",
   "version": "3.9.12"
  }
 },
 "nbformat": 4,
 "nbformat_minor": 5
}

{
 "cells": [
  {
   "cell_type": "markdown",
   "id": "c22fe9a3",
   "metadata": {},
   "source": [
    "# Descriptive Statistics for Offense Rushing Yards per Game for Each Team"
   ]
  },
  {
   "cell_type": "markdown",
   "id": "1894f524",
   "metadata": {},
   "source": [
    "#### Import Packages"
   ]
  },
  {
   "cell_type": "code",
   "execution_count": 1,
   "id": "3f3ad4a9",
   "metadata": {},
   "outputs": [],
   "source": [
    "import pandas as pd\n",
    "import numpy as np\n",
    "from scipy.stats import norm\n",
    "from scipy import stats"
   ]
  },
  {
   "cell_type": "markdown",
   "id": "aa44254e",
   "metadata": {},
   "source": [
    "#### Import NFL Dataset 2012-2022"
   ]
  },
  {
   "cell_type": "code",
   "execution_count": 2,
   "id": "3dd398b4",
   "metadata": {},
   "outputs": [
    {
     "data": {
      "text/html": [
       "<div>\n",
       "<style scoped>\n",
       "    .dataframe tbody tr th:only-of-type {\n",
       "        vertical-align: middle;\n",
       "    }\n",
       "\n",
       "    .dataframe tbody tr th {\n",
       "        vertical-align: top;\n",
       "    }\n",
       "\n",
       "    .dataframe thead th {\n",
       "        text-align: right;\n",
       "    }\n",
       "</style>\n",
       "<table border=\"1\" class=\"dataframe\">\n",
       "  <thead>\n",
       "    <tr style=\"text-align: right;\">\n",
       "      <th></th>\n",
       "      <th>Team</th>\n",
       "      <th>Off Tot/Pts</th>\n",
       "      <th>Off Pts/G</th>\n",
       "      <th>Off RushYds</th>\n",
       "      <th>Off RYds/G</th>\n",
       "      <th>Off PassYds</th>\n",
       "      <th>Off PYds/G</th>\n",
       "      <th>Off TotYds</th>\n",
       "      <th>Off Yds/G</th>\n",
       "      <th>Def Tot/Pts</th>\n",
       "      <th>...</th>\n",
       "      <th>Def PassYds</th>\n",
       "      <th>Def PYds/G</th>\n",
       "      <th>Def TotYds</th>\n",
       "      <th>Def Yds/G</th>\n",
       "      <th>Year</th>\n",
       "      <th>Wins</th>\n",
       "      <th>Losses</th>\n",
       "      <th>Tie</th>\n",
       "      <th>Superbowl</th>\n",
       "      <th>SB Win</th>\n",
       "    </tr>\n",
       "  </thead>\n",
       "  <tbody>\n",
       "    <tr>\n",
       "      <th>0</th>\n",
       "      <td>Arizona Cardinals</td>\n",
       "      <td>250</td>\n",
       "      <td>15.6</td>\n",
       "      <td>1204</td>\n",
       "      <td>75.2</td>\n",
       "      <td>3005</td>\n",
       "      <td>187.8</td>\n",
       "      <td>4209</td>\n",
       "      <td>263.1</td>\n",
       "      <td>357</td>\n",
       "      <td>...</td>\n",
       "      <td>3213</td>\n",
       "      <td>200.8</td>\n",
       "      <td>5405</td>\n",
       "      <td>337.8</td>\n",
       "      <td>2012</td>\n",
       "      <td>5</td>\n",
       "      <td>11</td>\n",
       "      <td>0.0</td>\n",
       "      <td>No</td>\n",
       "      <td>No</td>\n",
       "    </tr>\n",
       "    <tr>\n",
       "      <th>1</th>\n",
       "      <td>Atlanta Falcons</td>\n",
       "      <td>419</td>\n",
       "      <td>26.2</td>\n",
       "      <td>1397</td>\n",
       "      <td>87.3</td>\n",
       "      <td>4509</td>\n",
       "      <td>281.8</td>\n",
       "      <td>5906</td>\n",
       "      <td>369.1</td>\n",
       "      <td>299</td>\n",
       "      <td>...</td>\n",
       "      <td>3878</td>\n",
       "      <td>242.4</td>\n",
       "      <td>5849</td>\n",
       "      <td>365.6</td>\n",
       "      <td>2012</td>\n",
       "      <td>13</td>\n",
       "      <td>3</td>\n",
       "      <td>0.0</td>\n",
       "      <td>No</td>\n",
       "      <td>No</td>\n",
       "    </tr>\n",
       "    <tr>\n",
       "      <th>2</th>\n",
       "      <td>Baltimore Ravens</td>\n",
       "      <td>398</td>\n",
       "      <td>24.9</td>\n",
       "      <td>1901</td>\n",
       "      <td>118.8</td>\n",
       "      <td>3739</td>\n",
       "      <td>233.7</td>\n",
       "      <td>5640</td>\n",
       "      <td>352.5</td>\n",
       "      <td>344</td>\n",
       "      <td>...</td>\n",
       "      <td>3650</td>\n",
       "      <td>228.1</td>\n",
       "      <td>5615</td>\n",
       "      <td>350.9</td>\n",
       "      <td>2012</td>\n",
       "      <td>10</td>\n",
       "      <td>6</td>\n",
       "      <td>0.0</td>\n",
       "      <td>Yes</td>\n",
       "      <td>Yes</td>\n",
       "    </tr>\n",
       "    <tr>\n",
       "      <th>3</th>\n",
       "      <td>Buffalo Bills</td>\n",
       "      <td>344</td>\n",
       "      <td>21.5</td>\n",
       "      <td>2217</td>\n",
       "      <td>138.6</td>\n",
       "      <td>3269</td>\n",
       "      <td>204.3</td>\n",
       "      <td>5486</td>\n",
       "      <td>342.9</td>\n",
       "      <td>435</td>\n",
       "      <td>...</td>\n",
       "      <td>3473</td>\n",
       "      <td>217.1</td>\n",
       "      <td>5806</td>\n",
       "      <td>362.9</td>\n",
       "      <td>2012</td>\n",
       "      <td>6</td>\n",
       "      <td>10</td>\n",
       "      <td>0.0</td>\n",
       "      <td>No</td>\n",
       "      <td>No</td>\n",
       "    </tr>\n",
       "    <tr>\n",
       "      <th>4</th>\n",
       "      <td>Carolina Panthers</td>\n",
       "      <td>357</td>\n",
       "      <td>22.3</td>\n",
       "      <td>2088</td>\n",
       "      <td>130.5</td>\n",
       "      <td>3683</td>\n",
       "      <td>230.2</td>\n",
       "      <td>5771</td>\n",
       "      <td>360.7</td>\n",
       "      <td>363</td>\n",
       "      <td>...</td>\n",
       "      <td>3568</td>\n",
       "      <td>223.0</td>\n",
       "      <td>5329</td>\n",
       "      <td>333.1</td>\n",
       "      <td>2012</td>\n",
       "      <td>7</td>\n",
       "      <td>9</td>\n",
       "      <td>0.0</td>\n",
       "      <td>No</td>\n",
       "      <td>No</td>\n",
       "    </tr>\n",
       "  </tbody>\n",
       "</table>\n",
       "<p>5 rows × 23 columns</p>\n",
       "</div>"
      ],
      "text/plain": [
       "                Team  Off Tot/Pts  Off Pts/G  Off RushYds  Off RYds/G  \\\n",
       "0  Arizona Cardinals          250       15.6         1204        75.2   \n",
       "1    Atlanta Falcons          419       26.2         1397        87.3   \n",
       "2   Baltimore Ravens          398       24.9         1901       118.8   \n",
       "3      Buffalo Bills          344       21.5         2217       138.6   \n",
       "4  Carolina Panthers          357       22.3         2088       130.5   \n",
       "\n",
       "   Off PassYds  Off PYds/G  Off TotYds  Off Yds/G  Def Tot/Pts  ...  \\\n",
       "0         3005       187.8        4209      263.1          357  ...   \n",
       "1         4509       281.8        5906      369.1          299  ...   \n",
       "2         3739       233.7        5640      352.5          344  ...   \n",
       "3         3269       204.3        5486      342.9          435  ...   \n",
       "4         3683       230.2        5771      360.7          363  ...   \n",
       "\n",
       "   Def PassYds  Def PYds/G  Def TotYds  Def Yds/G  Year  Wins  Losses  Tie  \\\n",
       "0         3213       200.8        5405      337.8  2012     5      11  0.0   \n",
       "1         3878       242.4        5849      365.6  2012    13       3  0.0   \n",
       "2         3650       228.1        5615      350.9  2012    10       6  0.0   \n",
       "3         3473       217.1        5806      362.9  2012     6      10  0.0   \n",
       "4         3568       223.0        5329      333.1  2012     7       9  0.0   \n",
       "\n",
       "   Superbowl  SB Win  \n",
       "0         No      No  \n",
       "1         No      No  \n",
       "2        Yes     Yes  \n",
       "3         No      No  \n",
       "4         No      No  \n",
       "\n",
       "[5 rows x 23 columns]"
      ]
     },
     "execution_count": 2,
     "metadata": {},
     "output_type": "execute_result"
    }
   ],
   "source": [
    "nflrush = pd.read_csv('/Users/admin/Desktop/Final_Project/NFL_merged/nfl2012_2022merge.csv')\n",
    "nflrush.head()"
   ]
  },
  {
   "cell_type": "markdown",
   "id": "5392356b",
   "metadata": {},
   "source": [
    "## Calculating Descriptive Statistics by Team\n",
    "#### First filter the data by a single team - I will use the Seattle Seahawks, my favorite team, to start."
   ]
  },
  {
   "cell_type": "code",
   "execution_count": 3,
   "id": "a04399b5",
   "metadata": {},
   "outputs": [],
   "source": [
    "team_name = 'Seattle Seahawks'\n",
    "seahawks_data = nflrush[nflrush['Team'] == team_name]"
   ]
  },
  {
   "cell_type": "markdown",
   "id": "5302e0af",
   "metadata": {},
   "source": [
    "#### Display  offense rushing yards per game by year for the Seahawks"
   ]
  },
  {
   "cell_type": "code",
   "execution_count": 4,
   "id": "1593b2f3",
   "metadata": {},
   "outputs": [
    {
     "name": "stdout",
     "output_type": "stream",
     "text": [
      "Year: 2012 \tRushing Yards/Game: 161.2\n",
      "Year: 2013 \tRushing Yards/Game: 136.8\n",
      "Year: 2014 \tRushing Yards/Game: 172.6\n",
      "Year: 2015 \tRushing Yards/Game: 141.8\n",
      "Year: 2016 \tRushing Yards/Game: 99.4\n",
      "Year: 2017 \tRushing Yards/Game: 101.8\n",
      "Year: 2018 \tRushing Yards/Game: 101.8\n",
      "Year: 2019 \tRushing Yards/Game: 137.5\n",
      "Year: 2020 \tRushing Yards/Game: 123.2\n",
      "Year: 2021 \tRushing Yards/Game: 122.0\n",
      "Year: 2022 \tRushing Yards/Game: 120.1\n"
     ]
    }
   ],
   "source": [
    "for year in seahawks_data['Year'].unique():\n",
    "    rushydsgame = seahawks_data.loc[seahawks_data['Year'] == year, 'Off RYds/G'].values[0]\n",
    "    print(\"Year:\", year, \"\\tRushing Yards/Game:\", rushydsgame)"
   ]
  },
  {
   "cell_type": "markdown",
   "id": "7d31b0ec",
   "metadata": {},
   "source": [
    "#### What is the mean offense rushing yards per game for the Seahawks over all years?"
   ]
  },
  {
   "cell_type": "code",
   "execution_count": 5,
   "id": "f25f5761",
   "metadata": {},
   "outputs": [
    {
     "name": "stdout",
     "output_type": "stream",
     "text": [
      "128.92727272727274\n"
     ]
    }
   ],
   "source": [
    "total_rush_yards_game = seahawks_data['Off RYds/G'].mean()\n",
    "print(total_rush_yards_game)"
   ]
  },
  {
   "cell_type": "markdown",
   "id": "affecaff",
   "metadata": {},
   "source": [
    "#### Let's calculate several descriptive statistics on Offense Rushing Yards per Game for the Seahawks"
   ]
  },
  {
   "cell_type": "code",
   "execution_count": 6,
   "id": "8ecd1adb",
   "metadata": {},
   "outputs": [
    {
     "name": "stdout",
     "output_type": "stream",
     "text": [
      "Seattle Seahawks Offense Rushing Yards/Game Mean: 128.92727272727274\n",
      "Seattle Seahawks Offense Rushing Yards/Game Median: 123.2\n",
      "Seattle Seahawks Offense Rushing Yards/Game Standard Deviation: 23.98408184230077\n",
      "Seattle Seahawks Offense Rushing Yards/Game Variance: 575.2361818181815\n",
      "Seattle Seahawks Offense Rushing Yards/Game Minimum: 99.4\n",
      "Seattle Seahawks Offense Rushing Yards/Game Maximum: 172.6\n",
      "Seattle Seahawks Offense Rushing Yards/Game Range: 73.19999999999999\n",
      "Seattle Seahawks Total Rushing Yards/Game 2012-2022: 1418.2\n"
     ]
    }
   ],
   "source": [
    "mean_value = seahawks_data['Off RYds/G'].mean()\n",
    "median_value = seahawks_data['Off RYds/G'].median()\n",
    "std_value = seahawks_data['Off RYds/G'].std()\n",
    "var_value = seahawks_data['Off RYds/G'].var()\n",
    "min_value = seahawks_data['Off RYds/G'].min()\n",
    "max_value = seahawks_data['Off RYds/G'].max()\n",
    "data_range = max_value - min_value\n",
    "total_points = seahawks_data['Off RYds/G'].sum()\n",
    "print(\"Seattle Seahawks Offense Rushing Yards/Game Mean:\", mean_value)\n",
    "print(\"Seattle Seahawks Offense Rushing Yards/Game Median:\", median_value)\n",
    "print(\"Seattle Seahawks Offense Rushing Yards/Game Standard Deviation:\", std_value)\n",
    "print(\"Seattle Seahawks Offense Rushing Yards/Game Variance:\", var_value)\n",
    "print(\"Seattle Seahawks Offense Rushing Yards/Game Minimum:\", min_value)\n",
    "print(\"Seattle Seahawks Offense Rushing Yards/Game Maximum:\", max_value)\n",
    "print(\"Seattle Seahawks Offense Rushing Yards/Game Range:\", data_range)\n",
    "print(\"Seattle Seahawks Total Rushing Yards/Game 2012-2022:\", total_points)"
   ]
  },
  {
   "cell_type": "markdown",
   "id": "acd533f4",
   "metadata": {},
   "source": [
    "#### Calculating all Teams Rushing Yards per year"
   ]
  },
  {
   "cell_type": "code",
   "execution_count": 7,
   "id": "284349f5",
   "metadata": {},
   "outputs": [
    {
     "name": "stdout",
     "output_type": "stream",
     "text": [
      "Team: Arizona Cardinals \tYear: 2012 \tRushing Yards/Game: 75.2\n",
      "Team: Arizona Cardinals \tYear: 2013 \tRushing Yards/Game: 96.2\n",
      "Team: Arizona Cardinals \tYear: 2014 \tRushing Yards/Game: 81.8\n",
      "Team: Arizona Cardinals \tYear: 2015 \tRushing Yards/Game: 119.8\n",
      "Team: Arizona Cardinals \tYear: 2016 \tRushing Yards/Game: 108.2\n",
      "Team: Arizona Cardinals \tYear: 2017 \tRushing Yards/Game: 86.6\n",
      "Team: Arizona Cardinals \tYear: 2018 \tRushing Yards/Game: 86.6\n",
      "Team: Arizona Cardinals \tYear: 2019 \tRushing Yards/Game: 124.4\n",
      "Team: Arizona Cardinals \tYear: 2020 \tRushing Yards/Game: 139.8\n",
      "Team: Arizona Cardinals \tYear: 2021 \tRushing Yards/Game: 122.1\n",
      "Team: Arizona Cardinals \tYear: 2022 \tRushing Yards/Game: 110.2\n",
      "Team: Atlanta Falcons \tYear: 2012 \tRushing Yards/Game: 87.3\n",
      "Team: Atlanta Falcons \tYear: 2013 \tRushing Yards/Game: 77.9\n",
      "Team: Atlanta Falcons \tYear: 2014 \tRushing Yards/Game: 93.6\n",
      "Team: Atlanta Falcons \tYear: 2015 \tRushing Yards/Game: 100.4\n",
      "Team: Atlanta Falcons \tYear: 2016 \tRushing Yards/Game: 120.5\n",
      "Team: Atlanta Falcons \tYear: 2017 \tRushing Yards/Game: 115.4\n",
      "Team: Atlanta Falcons \tYear: 2018 \tRushing Yards/Game: 115.4\n",
      "Team: Atlanta Falcons \tYear: 2019 \tRushing Yards/Game: 85.1\n",
      "Team: Atlanta Falcons \tYear: 2020 \tRushing Yards/Game: 95.8\n",
      "Team: Atlanta Falcons \tYear: 2021 \tRushing Yards/Game: 85.4\n",
      "Team: Atlanta Falcons \tYear: 2022 \tRushing Yards/Game: 159.9\n",
      "Team: Baltimore Ravens \tYear: 2012 \tRushing Yards/Game: 118.8\n",
      "Team: Baltimore Ravens \tYear: 2013 \tRushing Yards/Game: 83.0\n",
      "Team: Baltimore Ravens \tYear: 2014 \tRushing Yards/Game: 126.2\n",
      "Team: Baltimore Ravens \tYear: 2015 \tRushing Yards/Game: 92.4\n",
      "Team: Baltimore Ravens \tYear: 2016 \tRushing Yards/Game: 91.4\n",
      "Team: Baltimore Ravens \tYear: 2017 \tRushing Yards/Game: 116.0\n",
      "Team: Baltimore Ravens \tYear: 2018 \tRushing Yards/Game: 116.0\n",
      "Team: Baltimore Ravens \tYear: 2019 \tRushing Yards/Game: 206.0\n",
      "Team: Baltimore Ravens \tYear: 2020 \tRushing Yards/Game: 191.9\n",
      "Team: Baltimore Ravens \tYear: 2021 \tRushing Yards/Game: 145.8\n",
      "Team: Baltimore Ravens \tYear: 2022 \tRushing Yards/Game: 160.0\n",
      "Team: Buffalo Bills \tYear: 2012 \tRushing Yards/Game: 138.6\n",
      "Team: Buffalo Bills \tYear: 2013 \tRushing Yards/Game: 144.2\n",
      "Team: Buffalo Bills \tYear: 2014 \tRushing Yards/Game: 92.6\n",
      "Team: Buffalo Bills \tYear: 2015 \tRushing Yards/Game: 152.0\n",
      "Team: Buffalo Bills \tYear: 2016 \tRushing Yards/Game: 164.4\n",
      "Team: Buffalo Bills \tYear: 2017 \tRushing Yards/Game: 126.1\n",
      "Team: Buffalo Bills \tYear: 2018 \tRushing Yards/Game: 126.1\n",
      "Team: Buffalo Bills \tYear: 2019 \tRushing Yards/Game: 128.4\n",
      "Team: Buffalo Bills \tYear: 2020 \tRushing Yards/Game: 107.7\n",
      "Team: Buffalo Bills \tYear: 2021 \tRushing Yards/Game: 129.9\n",
      "Team: Buffalo Bills \tYear: 2022 \tRushing Yards/Game: 139.5\n",
      "Team: Carolina Panthers \tYear: 2012 \tRushing Yards/Game: 130.5\n",
      "Team: Carolina Panthers \tYear: 2013 \tRushing Yards/Game: 126.6\n",
      "Team: Carolina Panthers \tYear: 2014 \tRushing Yards/Game: 127.2\n",
      "Team: Carolina Panthers \tYear: 2015 \tRushing Yards/Game: 142.6\n",
      "Team: Carolina Panthers \tYear: 2016 \tRushing Yards/Game: 113.4\n",
      "Team: Carolina Panthers \tYear: 2017 \tRushing Yards/Game: 131.4\n",
      "Team: Carolina Panthers \tYear: 2018 \tRushing Yards/Game: 131.4\n",
      "Team: Carolina Panthers \tYear: 2019 \tRushing Yards/Game: 113.7\n",
      "Team: Carolina Panthers \tYear: 2020 \tRushing Yards/Game: 106.5\n",
      "Team: Carolina Panthers \tYear: 2021 \tRushing Yards/Game: 108.4\n",
      "Team: Carolina Panthers \tYear: 2022 \tRushing Yards/Game: 130.0\n",
      "Team: Chicago Bears \tYear: 2012 \tRushing Yards/Game: 123.1\n",
      "Team: Chicago Bears \tYear: 2013 \tRushing Yards/Game: 114.2\n",
      "Team: Chicago Bears \tYear: 2014 \tRushing Yards/Game: 90.1\n",
      "Team: Chicago Bears \tYear: 2015 \tRushing Yards/Game: 115.9\n",
      "Team: Chicago Bears \tYear: 2016 \tRushing Yards/Game: 108.4\n",
      "Team: Chicago Bears \tYear: 2017 \tRushing Yards/Game: 111.8\n",
      "Team: Chicago Bears \tYear: 2018 \tRushing Yards/Game: 111.8\n",
      "Team: Chicago Bears \tYear: 2019 \tRushing Yards/Game: 91.1\n",
      "Team: Chicago Bears \tYear: 2020 \tRushing Yards/Game: 102.9\n",
      "Team: Chicago Bears \tYear: 2021 \tRushing Yards/Game: 118.7\n",
      "Team: Chicago Bears \tYear: 2022 \tRushing Yards/Game: 177.3\n",
      "Team: Cincinnati Bengals \tYear: 2012 \tRushing Yards/Game: 109.1\n",
      "Team: Cincinnati Bengals \tYear: 2013 \tRushing Yards/Game: 109.7\n",
      "Team: Cincinnati Bengals \tYear: 2014 \tRushing Yards/Game: 134.2\n",
      "Team: Cincinnati Bengals \tYear: 2015 \tRushing Yards/Game: 112.8\n",
      "Team: Cincinnati Bengals \tYear: 2016 \tRushing Yards/Game: 110.6\n",
      "Team: Cincinnati Bengals \tYear: 2017 \tRushing Yards/Game: 85.4\n",
      "Team: Cincinnati Bengals \tYear: 2018 \tRushing Yards/Game: 85.4\n",
      "Team: Cincinnati Bengals \tYear: 2019 \tRushing Yards/Game: 94.8\n",
      "Team: Cincinnati Bengals \tYear: 2020 \tRushing Yards/Game: 104.2\n",
      "Team: Cincinnati Bengals \tYear: 2021 \tRushing Yards/Game: 102.5\n",
      "Team: Cincinnati Bengals \tYear: 2022 \tRushing Yards/Game: 95.5\n",
      "Team: Cleveland Browns \tYear: 2012 \tRushing Yards/Game: 99.6\n",
      "Team: Cleveland Browns \tYear: 2013 \tRushing Yards/Game: 86.4\n",
      "Team: Cleveland Browns \tYear: 2014 \tRushing Yards/Game: 108.0\n",
      "Team: Cleveland Browns \tYear: 2015 \tRushing Yards/Game: 95.6\n",
      "Team: Cleveland Browns \tYear: 2016 \tRushing Yards/Game: 107.0\n",
      "Team: Cleveland Browns \tYear: 2017 \tRushing Yards/Game: 107.1\n",
      "Team: Cleveland Browns \tYear: 2018 \tRushing Yards/Game: 107.1\n",
      "Team: Cleveland Browns \tYear: 2019 \tRushing Yards/Game: 118.8\n",
      "Team: Cleveland Browns \tYear: 2020 \tRushing Yards/Game: 148.4\n",
      "Team: Cleveland Browns \tYear: 2021 \tRushing Yards/Game: 145.4\n",
      "Team: Cleveland Browns \tYear: 2022 \tRushing Yards/Game: 146.5\n",
      "Team: Dallas Cowboys \tYear: 2012 \tRushing Yards/Game: 79.1\n",
      "Team: Dallas Cowboys \tYear: 2013 \tRushing Yards/Game: 94.0\n",
      "Team: Dallas Cowboys \tYear: 2014 \tRushing Yards/Game: 147.1\n",
      "Team: Dallas Cowboys \tYear: 2015 \tRushing Yards/Game: 118.1\n",
      "Team: Dallas Cowboys \tYear: 2016 \tRushing Yards/Game: 149.8\n",
      "Team: Dallas Cowboys \tYear: 2017 \tRushing Yards/Game: 135.6\n",
      "Team: Dallas Cowboys \tYear: 2018 \tRushing Yards/Game: 135.6\n",
      "Team: Dallas Cowboys \tYear: 2019 \tRushing Yards/Game: 134.6\n",
      "Team: Dallas Cowboys \tYear: 2020 \tRushing Yards/Game: 111.8\n",
      "Team: Dallas Cowboys \tYear: 2021 \tRushing Yards/Game: 124.6\n",
      "Team: Dallas Cowboys \tYear: 2022 \tRushing Yards/Game: 135.2\n",
      "Team: Denver Broncos \tYear: 2012 \tRushing Yards/Game: 114.5\n",
      "Team: Denver Broncos \tYear: 2013 \tRushing Yards/Game: 117.1\n",
      "Team: Denver Broncos \tYear: 2014 \tRushing Yards/Game: 111.6\n",
      "Team: Denver Broncos \tYear: 2015 \tRushing Yards/Game: 107.4\n",
      "Team: Denver Broncos \tYear: 2016 \tRushing Yards/Game: 92.8\n",
      "Team: Denver Broncos \tYear: 2017 \tRushing Yards/Game: 115.8\n",
      "Team: Denver Broncos \tYear: 2018 \tRushing Yards/Game: 115.8\n",
      "Team: Denver Broncos \tYear: 2019 \tRushing Yards/Game: 103.9\n",
      "Team: Denver Broncos \tYear: 2020 \tRushing Yards/Game: 119.9\n",
      "Team: Denver Broncos \tYear: 2021 \tRushing Yards/Game: 119.1\n",
      "Team: Denver Broncos \tYear: 2022 \tRushing Yards/Game: 113.8\n",
      "Team: Detroit Lions \tYear: 2012 \tRushing Yards/Game: 100.8\n",
      "Team: Detroit Lions \tYear: 2013 \tRushing Yards/Game: 112.0\n",
      "Team: Detroit Lions \tYear: 2014 \tRushing Yards/Game: 88.9\n",
      "Team: Detroit Lions \tYear: 2015 \tRushing Yards/Game: 83.4\n",
      "Team: Detroit Lions \tYear: 2016 \tRushing Yards/Game: 81.9\n",
      "Team: Detroit Lions \tYear: 2017 \tRushing Yards/Game: 76.3\n",
      "Team: Detroit Lions \tYear: 2018 \tRushing Yards/Game: 76.3\n",
      "Team: Detroit Lions \tYear: 2019 \tRushing Yards/Game: 103.1\n",
      "Team: Detroit Lions \tYear: 2020 \tRushing Yards/Game: 93.7\n",
      "Team: Detroit Lions \tYear: 2021 \tRushing Yards/Game: 110.9\n",
      "Team: Detroit Lions \tYear: 2022 \tRushing Yards/Game: 128.2\n",
      "Team: Green Bay Packers \tYear: 2012 \tRushing Yards/Game: 106.4\n",
      "Team: Green Bay Packers \tYear: 2013 \tRushing Yards/Game: 133.5\n",
      "Team: Green Bay Packers \tYear: 2014 \tRushing Yards/Game: 119.8\n",
      "Team: Green Bay Packers \tYear: 2015 \tRushing Yards/Game: 115.6\n",
      "Team: Green Bay Packers \tYear: 2016 \tRushing Yards/Game: 106.3\n",
      "Team: Green Bay Packers \tYear: 2017 \tRushing Yards/Game: 107.8\n",
      "Team: Green Bay Packers \tYear: 2018 \tRushing Yards/Game: 107.8\n",
      "Team: Green Bay Packers \tYear: 2019 \tRushing Yards/Game: 112.2\n",
      "Team: Green Bay Packers \tYear: 2020 \tRushing Yards/Game: 132.4\n",
      "Team: Green Bay Packers \tYear: 2021 \tRushing Yards/Game: 111.8\n",
      "Team: Green Bay Packers \tYear: 2022 \tRushing Yards/Game: 124.3\n",
      "Team: Houston Texans \tYear: 2012 \tRushing Yards/Game: 132.7\n",
      "Team: Houston Texans \tYear: 2013 \tRushing Yards/Game: 108.9\n",
      "Team: Houston Texans \tYear: 2014 \tRushing Yards/Game: 135.1\n",
      "Team: Houston Texans \tYear: 2015 \tRushing Yards/Game: 108.2\n",
      "Team: Houston Texans \tYear: 2016 \tRushing Yards/Game: 116.2\n",
      "Team: Houston Texans \tYear: 2017 \tRushing Yards/Game: 115.1\n",
      "Team: Houston Texans \tYear: 2018 \tRushing Yards/Game: 115.1\n",
      "Team: Houston Texans \tYear: 2019 \tRushing Yards/Game: 125.6\n",
      "Team: Houston Texans \tYear: 2020 \tRushing Yards/Game: 91.6\n",
      "Team: Houston Texans \tYear: 2021 \tRushing Yards/Game: 83.6\n",
      "Team: Houston Texans \tYear: 2022 \tRushing Yards/Game: 86.8\n",
      "Team: Indianapolis Colts \tYear: 2012 \tRushing Yards/Game: 104.4\n",
      "Team: Indianapolis Colts \tYear: 2013 \tRushing Yards/Game: 108.9\n",
      "Team: Indianapolis Colts \tYear: 2014 \tRushing Yards/Game: 100.8\n",
      "Team: Indianapolis Colts \tYear: 2015 \tRushing Yards/Game: 89.9\n",
      "Team: Indianapolis Colts \tYear: 2016 \tRushing Yards/Game: 101.8\n",
      "Team: Indianapolis Colts \tYear: 2017 \tRushing Yards/Game: 103.8\n",
      "Team: Indianapolis Colts \tYear: 2018 \tRushing Yards/Game: 103.8\n",
      "Team: Indianapolis Colts \tYear: 2019 \tRushing Yards/Game: 133.1\n",
      "Team: Indianapolis Colts \tYear: 2020 \tRushing Yards/Game: 124.8\n",
      "Team: Indianapolis Colts \tYear: 2021 \tRushing Yards/Game: 149.4\n",
      "Team: Indianapolis Colts \tYear: 2022 \tRushing Yards/Game: 109.8\n",
      "Team: Jacksonville Jaguars \tYear: 2012 \tRushing Yards/Game: 85.6\n",
      "Team: Jacksonville Jaguars \tYear: 2013 \tRushing Yards/Game: 78.8\n",
      "Team: Jacksonville Jaguars \tYear: 2014 \tRushing Yards/Game: 102.1\n",
      "Team: Jacksonville Jaguars \tYear: 2015 \tRushing Yards/Game: 92.1\n",
      "Team: Jacksonville Jaguars \tYear: 2016 \tRushing Yards/Game: 101.9\n",
      "Team: Jacksonville Jaguars \tYear: 2017 \tRushing Yards/Game: 141.4\n",
      "Team: Jacksonville Jaguars \tYear: 2018 \tRushing Yards/Game: 141.4\n",
      "Team: Jacksonville Jaguars \tYear: 2019 \tRushing Yards/Game: 106.8\n",
      "Team: Jacksonville Jaguars \tYear: 2020 \tRushing Yards/Game: 94.9\n",
      "Team: Jacksonville Jaguars \tYear: 2021 \tRushing Yards/Game: 103.2\n",
      "Team: Jacksonville Jaguars \tYear: 2022 \tRushing Yards/Game: 124.5\n",
      "Team: Kansas City Chiefs \tYear: 2012 \tRushing Yards/Game: 149.7\n",
      "Team: Kansas City Chiefs \tYear: 2013 \tRushing Yards/Game: 128.5\n",
      "Team: Kansas City Chiefs \tYear: 2014 \tRushing Yards/Game: 119.9\n",
      "Team: Kansas City Chiefs \tYear: 2015 \tRushing Yards/Game: 127.8\n",
      "Team: Kansas City Chiefs \tYear: 2016 \tRushing Yards/Game: 109.2\n",
      "Team: Kansas City Chiefs \tYear: 2017 \tRushing Yards/Game: 118.9\n",
      "Team: Kansas City Chiefs \tYear: 2018 \tRushing Yards/Game: 118.9\n",
      "Team: Kansas City Chiefs \tYear: 2019 \tRushing Yards/Game: 98.1\n",
      "Team: Kansas City Chiefs \tYear: 2020 \tRushing Yards/Game: 112.4\n",
      "Team: Kansas City Chiefs \tYear: 2021 \tRushing Yards/Game: 115.0\n",
      "Team: Kansas City Chiefs \tYear: 2022 \tRushing Yards/Game: 115.9\n",
      "Team: Las Vegas Raiders \tYear: 2012 \tRushing Yards/Game: 88.8\n",
      "Team: Las Vegas Raiders \tYear: 2013 \tRushing Yards/Game: 125.0\n",
      "Team: Las Vegas Raiders \tYear: 2014 \tRushing Yards/Game: 77.5\n",
      "Team: Las Vegas Raiders \tYear: 2015 \tRushing Yards/Game: 91.1\n",
      "Team: Las Vegas Raiders \tYear: 2016 \tRushing Yards/Game: 120.1\n",
      "Team: Las Vegas Raiders \tYear: 2017 \tRushing Yards/Game: 97.1\n",
      "Team: Las Vegas Raiders \tYear: 2018 \tRushing Yards/Game: 97.1\n",
      "Team: Las Vegas Raiders \tYear: 2019 \tRushing Yards/Game: 118.3\n",
      "Team: Las Vegas Raiders \tYear: 2020 \tRushing Yards/Game: 119.8\n",
      "Team: Las Vegas Raiders \tYear: 2021 \tRushing Yards/Game: 95.1\n",
      "Team: Las Vegas Raiders \tYear: 2022 \tRushing Yards/Game: 121.1\n",
      "Team: Los Angeles Chargers \tYear: 2012 \tRushing Yards/Game: 91.3\n",
      "Team: Los Angeles Chargers \tYear: 2013 \tRushing Yards/Game: 122.8\n",
      "Team: Los Angeles Chargers \tYear: 2014 \tRushing Yards/Game: 85.4\n",
      "Team: Los Angeles Chargers \tYear: 2015 \tRushing Yards/Game: 84.9\n",
      "Team: Los Angeles Chargers \tYear: 2016 \tRushing Yards/Game: 94.4\n",
      "Team: Los Angeles Chargers \tYear: 2017 \tRushing Yards/Game: 99.7\n",
      "Team: Los Angeles Chargers \tYear: 2018 \tRushing Yards/Game: 99.7\n",
      "Team: Los Angeles Chargers \tYear: 2019 \tRushing Yards/Game: 90.8\n",
      "Team: Los Angeles Chargers \tYear: 2020 \tRushing Yards/Game: 111.5\n",
      "Team: Los Angeles Chargers \tYear: 2021 \tRushing Yards/Game: 107.9\n",
      "Team: Los Angeles Chargers \tYear: 2022 \tRushing Yards/Game: 89.6\n",
      "Team: Los Angeles Rams \tYear: 2012 \tRushing Yards/Game: 107.1\n",
      "Team: Los Angeles Rams \tYear: 2013 \tRushing Yards/Game: 109.5\n",
      "Team: Los Angeles Rams \tYear: 2014 \tRushing Yards/Game: 102.2\n",
      "Team: Los Angeles Rams \tYear: 2015 \tRushing Yards/Game: 122.2\n",
      "Team: Los Angeles Rams \tYear: 2016 \tRushing Yards/Game: 78.2\n",
      "Team: Los Angeles Rams \tYear: 2017 \tRushing Yards/Game: 122.1\n",
      "Team: Los Angeles Rams \tYear: 2018 \tRushing Yards/Game: 122.1\n",
      "Team: Los Angeles Rams \tYear: 2019 \tRushing Yards/Game: 93.7\n",
      "Team: Los Angeles Rams \tYear: 2020 \tRushing Yards/Game: 126.1\n",
      "Team: Los Angeles Rams \tYear: 2021 \tRushing Yards/Game: 99.0\n",
      "Team: Los Angeles Rams \tYear: 2022 \tRushing Yards/Game: 97.7\n",
      "Team: Miami Dolphins \tYear: 2012 \tRushing Yards/Game: 112.6\n",
      "Team: Miami Dolphins \tYear: 2013 \tRushing Yards/Game: 90.0\n",
      "Team: Miami Dolphins \tYear: 2014 \tRushing Yards/Game: 117.0\n",
      "Team: Miami Dolphins \tYear: 2015 \tRushing Yards/Game: 93.5\n",
      "Team: Miami Dolphins \tYear: 2016 \tRushing Yards/Game: 114.0\n",
      "Team: Miami Dolphins \tYear: 2017 \tRushing Yards/Game: 86.8\n",
      "Team: Miami Dolphins \tYear: 2018 \tRushing Yards/Game: 86.8\n",
      "Team: Miami Dolphins \tYear: 2019 \tRushing Yards/Game: 72.2\n",
      "Team: Miami Dolphins \tYear: 2020 \tRushing Yards/Game: 105.5\n",
      "Team: Miami Dolphins \tYear: 2021 \tRushing Yards/Game: 92.2\n",
      "Team: Miami Dolphins \tYear: 2022 \tRushing Yards/Game: 99.2\n",
      "Team: Minnesota Vikings \tYear: 2012 \tRushing Yards/Game: 164.6\n",
      "Team: Minnesota Vikings \tYear: 2013 \tRushing Yards/Game: 130.1\n",
      "Team: Minnesota Vikings \tYear: 2014 \tRushing Yards/Game: 112.8\n",
      "Team: Minnesota Vikings \tYear: 2015 \tRushing Yards/Game: 138.2\n",
      "Team: Minnesota Vikings \tYear: 2016 \tRushing Yards/Game: 75.3\n",
      "Team: Minnesota Vikings \tYear: 2017 \tRushing Yards/Game: 122.3\n",
      "Team: Minnesota Vikings \tYear: 2018 \tRushing Yards/Game: 122.3\n",
      "Team: Minnesota Vikings \tYear: 2019 \tRushing Yards/Game: 133.3\n",
      "Team: Minnesota Vikings \tYear: 2020 \tRushing Yards/Game: 142.7\n",
      "Team: Minnesota Vikings \tYear: 2021 \tRushing Yards/Game: 113.5\n",
      "Team: Minnesota Vikings \tYear: 2022 \tRushing Yards/Game: 97.7\n",
      "Team: New England Patriots \tYear: 2012 \tRushing Yards/Game: 136.5\n",
      "Team: New England Patriots \tYear: 2013 \tRushing Yards/Game: 129.1\n",
      "Team: New England Patriots \tYear: 2014 \tRushing Yards/Game: 107.9\n",
      "Team: New England Patriots \tYear: 2015 \tRushing Yards/Game: 87.8\n",
      "Team: New England Patriots \tYear: 2016 \tRushing Yards/Game: 117.0\n",
      "Team: New England Patriots \tYear: 2017 \tRushing Yards/Game: 118.1\n",
      "Team: New England Patriots \tYear: 2018 \tRushing Yards/Game: 118.1\n",
      "Team: New England Patriots \tYear: 2019 \tRushing Yards/Game: 106.4\n",
      "Team: New England Patriots \tYear: 2020 \tRushing Yards/Game: 146.6\n",
      "Team: New England Patriots \tYear: 2021 \tRushing Yards/Game: 126.5\n",
      "Team: New England Patriots \tYear: 2022 \tRushing Yards/Game: 106.6\n",
      "Team: New Orleans Saints \tYear: 2012 \tRushing Yards/Game: 98.6\n",
      "Team: New Orleans Saints \tYear: 2013 \tRushing Yards/Game: 92.1\n",
      "Team: New Orleans Saints \tYear: 2014 \tRushing Yards/Game: 113.6\n",
      "Team: New Orleans Saints \tYear: 2015 \tRushing Yards/Game: 93.2\n",
      "Team: New Orleans Saints \tYear: 2016 \tRushing Yards/Game: 108.9\n",
      "Team: New Orleans Saints \tYear: 2017 \tRushing Yards/Game: 129.4\n",
      "Team: New Orleans Saints \tYear: 2019 \tRushing Yards/Game: 108.6\n",
      "Team: New Orleans Saints \tYear: 2020 \tRushing Yards/Game: 141.6\n",
      "Team: New Orleans Saints \tYear: 2021 \tRushing Yards/Game: 117.1\n",
      "Team: New Orleans Saints \tYear: 2022 \tRushing Yards/Game: 116.6\n",
      "Team: New York Giants \tYear: 2012 \tRushing Yards/Game: 116.4\n",
      "Team: New York Giants \tYear: 2013 \tRushing Yards/Game: 83.2\n",
      "Team: New York Giants \tYear: 2014 \tRushing Yards/Game: 100.2\n",
      "Team: New York Giants \tYear: 2015 \tRushing Yards/Game: 100.6\n",
      "Team: New York Giants \tYear: 2016 \tRushing Yards/Game: 88.2\n",
      "Team: New York Giants \tYear: 2017 \tRushing Yards/Game: 96.8\n",
      "Team: New York Giants \tYear: 2018 \tRushing Yards/Game: 96.8\n",
      "Team: New York Giants \tYear: 2019 \tRushing Yards/Game: 105.3\n",
      "Team: New York Giants \tYear: 2020 \tRushing Yards/Game: 110.5\n",
      "Team: New York Giants \tYear: 2021 \tRushing Yards/Game: 99.3\n",
      "Team: New York Giants \tYear: 2022 \tRushing Yards/Game: 148.2\n",
      "Team: New York Jets \tYear: 2012 \tRushing Yards/Game: 118.5\n",
      "Team: New York Jets \tYear: 2013 \tRushing Yards/Game: 134.9\n",
      "Team: New York Jets \tYear: 2014 \tRushing Yards/Game: 142.5\n",
      "Team: New York Jets \tYear: 2015 \tRushing Yards/Game: 116.8\n",
      "Team: New York Jets \tYear: 2016 \tRushing Yards/Game: 112.6\n",
      "Team: New York Jets \tYear: 2017 \tRushing Yards/Game: 106.4\n",
      "Team: New York Jets \tYear: 2018 \tRushing Yards/Game: 106.4\n",
      "Team: New York Jets \tYear: 2019 \tRushing Yards/Game: 78.6\n",
      "Team: New York Jets \tYear: 2020 \tRushing Yards/Game: 105.2\n",
      "Team: New York Jets \tYear: 2021 \tRushing Yards/Game: 98.1\n",
      "Team: New York Jets \tYear: 2022 \tRushing Yards/Game: 99.2\n",
      "Team: Philadelphia Eagles \tYear: 2012 \tRushing Yards/Game: 117.1\n",
      "Team: Philadelphia Eagles \tYear: 2013 \tRushing Yards/Game: 160.4\n",
      "Team: Philadelphia Eagles \tYear: 2014 \tRushing Yards/Game: 124.5\n",
      "Team: Philadelphia Eagles \tYear: 2015 \tRushing Yards/Game: 108.9\n",
      "Team: Philadelphia Eagles \tYear: 2016 \tRushing Yards/Game: 113.3\n",
      "Team: Philadelphia Eagles \tYear: 2017 \tRushing Yards/Game: 132.2\n",
      "Team: Philadelphia Eagles \tYear: 2018 \tRushing Yards/Game: 132.2\n",
      "Team: Philadelphia Eagles \tYear: 2019 \tRushing Yards/Game: 121.2\n",
      "Team: Philadelphia Eagles \tYear: 2020 \tRushing Yards/Game: 126.7\n",
      "Team: Philadelphia Eagles \tYear: 2021 \tRushing Yards/Game: 159.7\n",
      "Team: Philadelphia Eagles \tYear: 2022 \tRushing Yards/Game: 147.6\n",
      "Team: Pittsburgh Steelers \tYear: 2012 \tRushing Yards/Game: 96.1\n",
      "Team: Pittsburgh Steelers \tYear: 2013 \tRushing Yards/Game: 86.4\n",
      "Team: Pittsburgh Steelers \tYear: 2014 \tRushing Yards/Game: 109.5\n",
      "Team: Pittsburgh Steelers \tYear: 2015 \tRushing Yards/Game: 107.8\n",
      "Team: Pittsburgh Steelers \tYear: 2016 \tRushing Yards/Game: 110.0\n",
      "Team: Pittsburgh Steelers \tYear: 2017 \tRushing Yards/Game: 104.2\n",
      "Team: Pittsburgh Steelers \tYear: 2018 \tRushing Yards/Game: 104.2\n",
      "Team: Pittsburgh Steelers \tYear: 2019 \tRushing Yards/Game: 90.4\n",
      "Team: Pittsburgh Steelers \tYear: 2020 \tRushing Yards/Game: 84.4\n",
      "Team: Pittsburgh Steelers \tYear: 2021 \tRushing Yards/Game: 93.1\n",
      "Team: Pittsburgh Steelers \tYear: 2022 \tRushing Yards/Game: 121.9\n",
      "Team: San Francisco 49ers \tYear: 2012 \tRushing Yards/Game: 155.7\n",
      "Team: San Francisco 49ers \tYear: 2013 \tRushing Yards/Game: 137.6\n",
      "Team: San Francisco 49ers \tYear: 2014 \tRushing Yards/Game: 136.0\n",
      "Team: San Francisco 49ers \tYear: 2015 \tRushing Yards/Game: 96.5\n",
      "Team: San Francisco 49ers \tYear: 2016 \tRushing Yards/Game: 126.2\n",
      "Team: San Francisco 49ers \tYear: 2017 \tRushing Yards/Game: 103.9\n",
      "Team: San Francisco 49ers \tYear: 2018 \tRushing Yards/Game: 103.9\n",
      "Team: San Francisco 49ers \tYear: 2019 \tRushing Yards/Game: 144.1\n",
      "Team: San Francisco 49ers \tYear: 2020 \tRushing Yards/Game: 118.1\n",
      "Team: San Francisco 49ers \tYear: 2021 \tRushing Yards/Game: 127.4\n",
      "Team: San Francisco 49ers \tYear: 2022 \tRushing Yards/Game: 138.8\n",
      "Team: Seattle Seahawks \tYear: 2012 \tRushing Yards/Game: 161.2\n",
      "Team: Seattle Seahawks \tYear: 2013 \tRushing Yards/Game: 136.8\n",
      "Team: Seattle Seahawks \tYear: 2014 \tRushing Yards/Game: 172.6\n",
      "Team: Seattle Seahawks \tYear: 2015 \tRushing Yards/Game: 141.8\n",
      "Team: Seattle Seahawks \tYear: 2016 \tRushing Yards/Game: 99.4\n",
      "Team: Seattle Seahawks \tYear: 2017 \tRushing Yards/Game: 101.8\n",
      "Team: Seattle Seahawks \tYear: 2018 \tRushing Yards/Game: 101.8\n",
      "Team: Seattle Seahawks \tYear: 2019 \tRushing Yards/Game: 137.5\n",
      "Team: Seattle Seahawks \tYear: 2020 \tRushing Yards/Game: 123.2\n",
      "Team: Seattle Seahawks \tYear: 2021 \tRushing Yards/Game: 122.0\n",
      "Team: Seattle Seahawks \tYear: 2022 \tRushing Yards/Game: 120.1\n",
      "Team: Tampa Bay Buccaneers \tYear: 2012 \tRushing Yards/Game: 114.8\n",
      "Team: Tampa Bay Buccaneers \tYear: 2013 \tRushing Yards/Game: 100.8\n",
      "Team: Tampa Bay Buccaneers \tYear: 2014 \tRushing Yards/Game: 85.9\n",
      "Team: Tampa Bay Buccaneers \tYear: 2015 \tRushing Yards/Game: 135.1\n",
      "Team: Tampa Bay Buccaneers \tYear: 2016 \tRushing Yards/Game: 101.0\n",
      "Team: Tampa Bay Buccaneers \tYear: 2017 \tRushing Yards/Game: 90.6\n",
      "Team: Tampa Bay Buccaneers \tYear: 2018 \tRushing Yards/Game: 90.6\n",
      "Team: Tampa Bay Buccaneers \tYear: 2019 \tRushing Yards/Game: 95.1\n",
      "Team: Tampa Bay Buccaneers \tYear: 2020 \tRushing Yards/Game: 94.9\n",
      "Team: Tampa Bay Buccaneers \tYear: 2021 \tRushing Yards/Game: 98.4\n",
      "Team: Tampa Bay Buccaneers \tYear: 2022 \tRushing Yards/Game: 76.9\n",
      "Team: Tennessee Titans \tYear: 2012 \tRushing Yards/Game: 105.4\n",
      "Team: Tennessee Titans \tYear: 2013 \tRushing Yards/Game: 118.4\n"
     ]
    },
    {
     "name": "stdout",
     "output_type": "stream",
     "text": [
      "Team: Tennessee Titans \tYear: 2014 \tRushing Yards/Game: 90.4\n",
      "Team: Tennessee Titans \tYear: 2015 \tRushing Yards/Game: 92.8\n",
      "Team: Tennessee Titans \tYear: 2016 \tRushing Yards/Game: 136.7\n",
      "Team: Tennessee Titans \tYear: 2017 \tRushing Yards/Game: 114.6\n",
      "Team: Tennessee Titans \tYear: 2018 \tRushing Yards/Game: 114.6\n",
      "Team: Tennessee Titans \tYear: 2019 \tRushing Yards/Game: 138.9\n",
      "Team: Tennessee Titans \tYear: 2020 \tRushing Yards/Game: 168.1\n",
      "Team: Tennessee Titans \tYear: 2021 \tRushing Yards/Game: 141.4\n",
      "Team: Tennessee Titans \tYear: 2022 \tRushing Yards/Game: 125.4\n",
      "Team: Washington Commanders \tYear: 2012 \tRushing Yards/Game: 169.3\n",
      "Team: Washington Commanders \tYear: 2013 \tRushing Yards/Game: 135.2\n",
      "Team: Washington Commanders \tYear: 2014 \tRushing Yards/Game: 105.7\n",
      "Team: Washington Commanders \tYear: 2015 \tRushing Yards/Game: 97.9\n",
      "Team: Washington Commanders \tYear: 2016 \tRushing Yards/Game: 106.0\n",
      "Team: Washington Commanders \tYear: 2017 \tRushing Yards/Game: 90.5\n",
      "Team: Washington Commanders \tYear: 2018 \tRushing Yards/Game: 90.5\n",
      "Team: Washington Commanders \tYear: 2019 \tRushing Yards/Game: 98.9\n",
      "Team: Washington Commanders \tYear: 2020 \tRushing Yards/Game: 100.7\n",
      "Team: Washington Commanders \tYear: 2021 \tRushing Yards/Game: 121.2\n",
      "Team: Washington Commanders \tYear: 2022 \tRushing Yards/Game: 126.1\n"
     ]
    }
   ],
   "source": [
    "team_names = nflrush['Team'].unique()\n",
    "\n",
    "# Iterate over each team\n",
    "for team_name in team_names:\n",
    "    team_data = nflrush[nflrush['Team'] == team_name]\n",
    "    \n",
    "    # Display the Offense Rushing Yards per game for each year\n",
    "    for year in team_data['Year'].unique():\n",
    "        team_off_rush_ydsgame = team_data.loc[team_data['Year'] == year, 'Off RYds/G'].values[0]\n",
    "        print(\"Team:\", team_name, \"\\tYear:\", year, \"\\tRushing Yards/Game:\", team_off_rush_ydsgame)"
   ]
  },
  {
   "cell_type": "markdown",
   "id": "0ce07e61",
   "metadata": {},
   "source": [
    "#### Calculate Descriptive Statistics on Offense Rushing Yards per game for all Teams. These statistics are the Offense Rushing Yards per game and their mean, median, standard deviation, variance, min, max, range, and sum."
   ]
  },
  {
   "cell_type": "markdown",
   "id": "a5d88358",
   "metadata": {},
   "source": [
    "### Arizona Cardinals"
   ]
  },
  {
   "cell_type": "code",
   "execution_count": 8,
   "id": "eff7694d",
   "metadata": {},
   "outputs": [
    {
     "name": "stdout",
     "output_type": "stream",
     "text": [
      "Arizona Cardinals Offense Rushing Yards/Game Mean: 104.62727272727271\n",
      "Arizona Cardinals Offense Rushing Yards/Game Median: 108.2\n",
      "Arizona Cardinals Offense Rushing Yards/Game Standard Deviation: 20.773641515588494\n",
      "Arizona Cardinals Offense Rushing Yards/Game Variance: 431.5441818181818\n",
      "Arizona Cardinals Offense Rushing Yards/Game Minimum: 75.2\n",
      "Arizona Cardinals Offense Rushing Yards/Game Maximum: 139.8\n",
      "Arizona Cardinals Offense Rushing Yards/Game Range: 64.60000000000001\n",
      "Arizona Cardinals Total Rushing Yards/Game 2012-2022: 1150.8999999999999\n"
     ]
    }
   ],
   "source": [
    "team_name1 = 'Arizona Cardinals'\n",
    "cardinals_data = nflrush[nflrush['Team'] == team_name1]\n",
    "mean_value = cardinals_data['Off RYds/G'].mean()\n",
    "median_value = cardinals_data['Off RYds/G'].median()\n",
    "std_value = cardinals_data['Off RYds/G'].std()\n",
    "var_value = cardinals_data['Off RYds/G'].var()\n",
    "min_value = cardinals_data['Off RYds/G'].min()\n",
    "max_value = cardinals_data['Off RYds/G'].max()\n",
    "data_range = max_value - min_value\n",
    "total_points = cardinals_data['Off RYds/G'].sum()\n",
    "print(\"Arizona Cardinals Offense Rushing Yards/Game Mean:\", mean_value)\n",
    "print(\"Arizona Cardinals Offense Rushing Yards/Game Median:\", median_value)\n",
    "print(\"Arizona Cardinals Offense Rushing Yards/Game Standard Deviation:\", std_value)\n",
    "print(\"Arizona Cardinals Offense Rushing Yards/Game Variance:\", var_value)\n",
    "print(\"Arizona Cardinals Offense Rushing Yards/Game Minimum:\", min_value)\n",
    "print(\"Arizona Cardinals Offense Rushing Yards/Game Maximum:\", max_value)\n",
    "print(\"Arizona Cardinals Offense Rushing Yards/Game Range:\", data_range)\n",
    "print(\"Arizona Cardinals Total Rushing Yards/Game 2012-2022:\", total_points)"
   ]
  },
  {
   "cell_type": "markdown",
   "id": "4c5aba1a",
   "metadata": {},
   "source": [
    "### Atlanta Falcons"
   ]
  },
  {
   "cell_type": "code",
   "execution_count": 9,
   "id": "7b8a311f",
   "metadata": {},
   "outputs": [
    {
     "name": "stdout",
     "output_type": "stream",
     "text": [
      "Atlanta Falcons Offense Rushing Yards/Game Mean: 103.33636363636361\n",
      "Atlanta Falcons Offense Rushing Yards/Game Median: 95.8\n",
      "Atlanta Falcons Offense Rushing Yards/Game Standard Deviation: 23.46010540160776\n",
      "Atlanta Falcons Offense Rushing Yards/Game Variance: 550.3765454545455\n",
      "Atlanta Falcons Offense Rushing Yards/Game Minimum: 77.9\n",
      "Atlanta Falcons Offense Rushing Yards/Game Maximum: 159.9\n",
      "Atlanta Falcons Offense Rushing Yards/Game Range: 82.0\n",
      "Atlanta Falcons Total Rushing Yards/Game 2012-2022: 1136.6999999999998\n"
     ]
    }
   ],
   "source": [
    "team_name2 = 'Atlanta Falcons'\n",
    "falcons_data = nflrush[nflrush['Team'] == team_name2]\n",
    "mean_value = falcons_data['Off RYds/G'].mean()\n",
    "median_value = falcons_data['Off RYds/G'].median()\n",
    "std_value = falcons_data['Off RYds/G'].std()\n",
    "var_value = falcons_data['Off RYds/G'].var()\n",
    "min_value = falcons_data['Off RYds/G'].min()\n",
    "max_value = falcons_data['Off RYds/G'].max()\n",
    "data_range = max_value - min_value\n",
    "total_points = falcons_data['Off RYds/G'].sum()\n",
    "print(\"Atlanta Falcons Offense Rushing Yards/Game Mean:\", mean_value)\n",
    "print(\"Atlanta Falcons Offense Rushing Yards/Game Median:\", median_value)\n",
    "print(\"Atlanta Falcons Offense Rushing Yards/Game Standard Deviation:\", std_value)\n",
    "print(\"Atlanta Falcons Offense Rushing Yards/Game Variance:\", var_value)\n",
    "print(\"Atlanta Falcons Offense Rushing Yards/Game Minimum:\", min_value)\n",
    "print(\"Atlanta Falcons Offense Rushing Yards/Game Maximum:\", max_value)\n",
    "print(\"Atlanta Falcons Offense Rushing Yards/Game Range:\", data_range)\n",
    "print(\"Atlanta Falcons Total Rushing Yards/Game 2012-2022:\", total_points)"
   ]
  },
  {
   "cell_type": "markdown",
   "id": "14929972",
   "metadata": {},
   "source": [
    "### Baltimore Ravens"
   ]
  },
  {
   "cell_type": "code",
   "execution_count": 10,
   "id": "876ccfea",
   "metadata": {},
   "outputs": [
    {
     "name": "stdout",
     "output_type": "stream",
     "text": [
      "Baltimore Ravens Offense Rushing Yards/Game Mean: 131.5909090909091\n",
      "Baltimore Ravens Offense Rushing Yards/Game Median: 118.8\n",
      "Baltimore Ravens Offense Rushing Yards/Game Standard Deviation: 40.46481075071165\n",
      "Baltimore Ravens Offense Rushing Yards/Game Variance: 1637.400909090909\n",
      "Baltimore Ravens Offense Rushing Yards/Game Minimum: 83.0\n",
      "Baltimore Ravens Offense Rushing Yards/Game Maximum: 206.0\n",
      "Baltimore Ravens Offense Rushing Yards/Game  Range: 123.0\n",
      "Baltimore Ravens Total Rushing Yards/Game 2012-2022: 1447.5\n"
     ]
    }
   ],
   "source": [
    "team_name3 = 'Baltimore Ravens'\n",
    "ravens_data = nflrush[nflrush['Team'] == team_name3]\n",
    "mean_value = ravens_data['Off RYds/G'].mean()\n",
    "median_value = ravens_data['Off RYds/G'].median()\n",
    "std_value = ravens_data['Off RYds/G'].std()\n",
    "var_value = ravens_data['Off RYds/G'].var()\n",
    "min_value = ravens_data['Off RYds/G'].min()\n",
    "max_value = ravens_data['Off RYds/G'].max()\n",
    "data_range = max_value - min_value\n",
    "total_points = ravens_data['Off RYds/G'].sum()\n",
    "print(\"Baltimore Ravens Offense Rushing Yards/Game Mean:\", mean_value)\n",
    "print(\"Baltimore Ravens Offense Rushing Yards/Game Median:\", median_value)\n",
    "print(\"Baltimore Ravens Offense Rushing Yards/Game Standard Deviation:\", std_value)\n",
    "print(\"Baltimore Ravens Offense Rushing Yards/Game Variance:\", var_value)\n",
    "print(\"Baltimore Ravens Offense Rushing Yards/Game Minimum:\", min_value)\n",
    "print(\"Baltimore Ravens Offense Rushing Yards/Game Maximum:\", max_value)\n",
    "print(\"Baltimore Ravens Offense Rushing Yards/Game  Range:\", data_range)\n",
    "print(\"Baltimore Ravens Total Rushing Yards/Game 2012-2022:\", total_points)"
   ]
  },
  {
   "cell_type": "markdown",
   "id": "cbeb8f84",
   "metadata": {},
   "source": [
    "### Buffalo Bills"
   ]
  },
  {
   "cell_type": "code",
   "execution_count": 11,
   "id": "a2dff34e",
   "metadata": {},
   "outputs": [
    {
     "name": "stdout",
     "output_type": "stream",
     "text": [
      "Buffalo Bills Offense Rushing Yards/Game Mean: 131.77272727272728\n",
      "Buffalo Bills Offense Rushing Yards/Game  Median: 129.9\n",
      "Buffalo Bills Offense Rushing Yards/Game Standard Deviation: 19.818379898926697\n",
      "Buffalo Bills Offense Rushing Yards/Game Variance: 392.7681818181818\n",
      "Buffalo Bills Offense Rushing Yards/Game Minimum: 92.6\n",
      "Buffalo Bills Offense Rushing Yards/Game Maximum: 164.4\n",
      "Buffalo Bills Offense Rushing Yards/Game Range: 71.80000000000001\n",
      "Buffalo Bills Total Rushing Yards/Game 2012-2022: 1449.5000000000002\n"
     ]
    }
   ],
   "source": [
    "team_name4 = 'Buffalo Bills'\n",
    "bills_data = nflrush[nflrush['Team'] == team_name4]\n",
    "mean_value = bills_data['Off RYds/G'].mean()\n",
    "median_value = bills_data['Off RYds/G'].median()\n",
    "std_value = bills_data['Off RYds/G'].std()\n",
    "var_value = bills_data['Off RYds/G'].var()\n",
    "min_value = bills_data['Off RYds/G'].min()\n",
    "max_value = bills_data['Off RYds/G'].max()\n",
    "data_range = max_value - min_value\n",
    "total_points = bills_data['Off RYds/G'].sum()\n",
    "print(\"Buffalo Bills Offense Rushing Yards/Game Mean:\", mean_value)\n",
    "print(\"Buffalo Bills Offense Rushing Yards/Game  Median:\", median_value)\n",
    "print(\"Buffalo Bills Offense Rushing Yards/Game Standard Deviation:\", std_value)\n",
    "print(\"Buffalo Bills Offense Rushing Yards/Game Variance:\", var_value)\n",
    "print(\"Buffalo Bills Offense Rushing Yards/Game Minimum:\", min_value)\n",
    "print(\"Buffalo Bills Offense Rushing Yards/Game Maximum:\", max_value)\n",
    "print(\"Buffalo Bills Offense Rushing Yards/Game Range:\", data_range)\n",
    "print(\"Buffalo Bills Total Rushing Yards/Game 2012-2022:\", total_points)"
   ]
  },
  {
   "cell_type": "markdown",
   "id": "6c092b0b",
   "metadata": {},
   "source": [
    "### Carolina Panthers"
   ]
  },
  {
   "cell_type": "code",
   "execution_count": 12,
   "id": "2a9fa187",
   "metadata": {},
   "outputs": [
    {
     "name": "stdout",
     "output_type": "stream",
     "text": [
      "Carolina Panthers Offense Rushing Yards/Game Mean: 123.7909090909091\n",
      "Carolina Panthers Offense Rushing Yards/Game Median: 127.2\n",
      "Carolina Panthers Offense Rushing Yards/Game Standard Deviation: 11.481764197670543\n",
      "Carolina Panthers Offense Rushing Yards/Game Variance: 131.83090909090907\n",
      "Carolina Panthers Offense Rushing Yards/Game Minimum: 106.5\n",
      "Carolina Panthers Offense Rushing Yards/Game Maximum: 142.6\n",
      "Carolina Panthers Offense Rushing Yards/Game Range: 36.099999999999994\n",
      "Carolina Panthers Total Rushing Yards/Game 2012-2022: 1361.7000000000003\n"
     ]
    }
   ],
   "source": [
    "team_name5 = 'Carolina Panthers'\n",
    "panthers_data = nflrush[nflrush['Team'] == team_name5]\n",
    "mean_value = panthers_data['Off RYds/G'].mean()\n",
    "median_value = panthers_data['Off RYds/G'].median()\n",
    "std_value = panthers_data['Off RYds/G'].std()\n",
    "var_value = panthers_data['Off RYds/G'].var()\n",
    "min_value = panthers_data['Off RYds/G'].min()\n",
    "max_value = panthers_data['Off RYds/G'].max()\n",
    "data_range = max_value - min_value\n",
    "total_points = panthers_data['Off RYds/G'].sum()\n",
    "print(\"Carolina Panthers Offense Rushing Yards/Game Mean:\", mean_value)\n",
    "print(\"Carolina Panthers Offense Rushing Yards/Game Median:\", median_value)\n",
    "print(\"Carolina Panthers Offense Rushing Yards/Game Standard Deviation:\", std_value)\n",
    "print(\"Carolina Panthers Offense Rushing Yards/Game Variance:\", var_value)\n",
    "print(\"Carolina Panthers Offense Rushing Yards/Game Minimum:\", min_value)\n",
    "print(\"Carolina Panthers Offense Rushing Yards/Game Maximum:\", max_value)\n",
    "print(\"Carolina Panthers Offense Rushing Yards/Game Range:\", data_range)\n",
    "print(\"Carolina Panthers Total Rushing Yards/Game 2012-2022:\", total_points)"
   ]
  },
  {
   "cell_type": "markdown",
   "id": "858a652d",
   "metadata": {},
   "source": [
    "### Chicago Bears"
   ]
  },
  {
   "cell_type": "code",
   "execution_count": 13,
   "id": "b81312df",
   "metadata": {},
   "outputs": [
    {
     "name": "stdout",
     "output_type": "stream",
     "text": [
      "Chicago Bears Offense Rushing Yards/Game Mean: 115.0272727272727\n",
      "Chicago Bears Offense Rushing Yards/Game Median: 111.8\n",
      "Chicago Bears Offense Rushing Yards/Game Standard Deviation: 23.159667135306197\n",
      "Chicago Bears Offense Rushing Yards/Game Variance: 536.3701818181819\n",
      "Chicago Bears Offense Rushing Yards/Game Minimum: 90.1\n",
      "Chicago Bears Offense Rushing Yards/Game Maximum: 177.3\n",
      "Chicago Bears Offense Rushing Yards/Game Range: 87.20000000000002\n",
      "Chicago Bears Total Rushing Yards/Game 2012-2022: 1265.3\n"
     ]
    }
   ],
   "source": [
    "team_name6 = 'Chicago Bears'\n",
    "bears_data = nflrush[nflrush['Team'] == team_name6]\n",
    "mean_value = bears_data['Off RYds/G'].mean()\n",
    "median_value = bears_data['Off RYds/G'].median()\n",
    "std_value = bears_data['Off RYds/G'].std()\n",
    "var_value = bears_data['Off RYds/G'].var()\n",
    "min_value = bears_data['Off RYds/G'].min()\n",
    "max_value = bears_data['Off RYds/G'].max()\n",
    "data_range = max_value - min_value\n",
    "total_points = bears_data['Off RYds/G'].sum()\n",
    "print(\"Chicago Bears Offense Rushing Yards/Game Mean:\", mean_value)\n",
    "print(\"Chicago Bears Offense Rushing Yards/Game Median:\", median_value)\n",
    "print(\"Chicago Bears Offense Rushing Yards/Game Standard Deviation:\", std_value)\n",
    "print(\"Chicago Bears Offense Rushing Yards/Game Variance:\", var_value)\n",
    "print(\"Chicago Bears Offense Rushing Yards/Game Minimum:\", min_value)\n",
    "print(\"Chicago Bears Offense Rushing Yards/Game Maximum:\", max_value)\n",
    "print(\"Chicago Bears Offense Rushing Yards/Game Range:\", data_range)\n",
    "print(\"Chicago Bears Total Rushing Yards/Game 2012-2022:\", total_points)"
   ]
  },
  {
   "cell_type": "markdown",
   "id": "a2828e1a",
   "metadata": {},
   "source": [
    "### Cincinnati Bengals"
   ]
  },
  {
   "cell_type": "code",
   "execution_count": 14,
   "id": "73916fc5",
   "metadata": {},
   "outputs": [
    {
     "name": "stdout",
     "output_type": "stream",
     "text": [
      "Cincinnati Bengals Offense Rushing Yards/Game Mean: 104.0181818181818\n",
      "Cincinnati Bengals Offense Rushing Yards/Game Median: 104.2\n",
      "Cincinnati Bengals Offense Rushing Yards/Game Standard Deviation: 13.937849058001605\n",
      "Cincinnati Bengals Offense Rushing Yards/Game Variance: 194.26363636363624\n",
      "Cincinnati Bengals Offense Rushing Yards/Game Minimum: 85.4\n",
      "Cincinnati Bengals Offense Rushing Yards/Game Maximum: 134.2\n",
      "Cincinnati Bengals Offense Rushing Yards/Game Range: 48.79999999999998\n",
      "Cincinnati Bengals Total Rushing Yards/Game 2012-2022: 1144.2\n"
     ]
    }
   ],
   "source": [
    "team_name7 = 'Cincinnati Bengals'\n",
    "bengals_data = nflrush[nflrush['Team'] == team_name7]\n",
    "mean_value = bengals_data['Off RYds/G'].mean()\n",
    "median_value = bengals_data['Off RYds/G'].median()\n",
    "std_value = bengals_data['Off RYds/G'].std()\n",
    "var_value = bengals_data['Off RYds/G'].var()\n",
    "min_value = bengals_data['Off RYds/G'].min()\n",
    "max_value = bengals_data['Off RYds/G'].max()\n",
    "data_range = max_value - min_value\n",
    "total_points = bengals_data['Off RYds/G'].sum()\n",
    "print(\"Cincinnati Bengals Offense Rushing Yards/Game Mean:\", mean_value)\n",
    "print(\"Cincinnati Bengals Offense Rushing Yards/Game Median:\", median_value)\n",
    "print(\"Cincinnati Bengals Offense Rushing Yards/Game Standard Deviation:\", std_value)\n",
    "print(\"Cincinnati Bengals Offense Rushing Yards/Game Variance:\", var_value)\n",
    "print(\"Cincinnati Bengals Offense Rushing Yards/Game Minimum:\", min_value)\n",
    "print(\"Cincinnati Bengals Offense Rushing Yards/Game Maximum:\", max_value)\n",
    "print(\"Cincinnati Bengals Offense Rushing Yards/Game Range:\", data_range)\n",
    "print(\"Cincinnati Bengals Total Rushing Yards/Game 2012-2022:\", total_points)"
   ]
  },
  {
   "cell_type": "markdown",
   "id": "cd9c647d",
   "metadata": {},
   "source": [
    "### Cleveland Browns"
   ]
  },
  {
   "cell_type": "code",
   "execution_count": 15,
   "id": "cc674e4a",
   "metadata": {},
   "outputs": [
    {
     "name": "stdout",
     "output_type": "stream",
     "text": [
      "Cleveland Browns Offense Rushing Yards/Game Mean: 115.44545454545455\n",
      "Cleveland Browns Offense Rushing Yards/Game Median: 107.1\n",
      "Cleveland Browns Offense Rushing Yards/Game Standard Deviation: 21.710659300738136\n",
      "Cleveland Browns Offense Rushing Yards/Game Variance: 471.3527272727274\n",
      "Cleveland Browns Offense Rushing Yards/Game Minimum: 86.4\n",
      "Cleveland Browns Offense Rushing Yards/Game Maximum: 148.4\n",
      "Cleveland Browns Offense Rushing Yards/Game Range: 62.0\n",
      "Cleveland Browns Total Rushing Yards/Game 2012-2022: 1269.9\n"
     ]
    }
   ],
   "source": [
    "team_name8 = 'Cleveland Browns'\n",
    "browns_data = nflrush[nflrush['Team'] == team_name8]\n",
    "mean_value = browns_data['Off RYds/G'].mean()\n",
    "median_value = browns_data['Off RYds/G'].median()\n",
    "std_value = browns_data['Off RYds/G'].std()\n",
    "var_value = browns_data['Off RYds/G'].var()\n",
    "min_value = browns_data['Off RYds/G'].min()\n",
    "max_value = browns_data['Off RYds/G'].max()\n",
    "data_range = max_value - min_value\n",
    "total_points = browns_data['Off RYds/G'].sum()\n",
    "print(\"Cleveland Browns Offense Rushing Yards/Game Mean:\", mean_value)\n",
    "print(\"Cleveland Browns Offense Rushing Yards/Game Median:\", median_value)\n",
    "print(\"Cleveland Browns Offense Rushing Yards/Game Standard Deviation:\", std_value)\n",
    "print(\"Cleveland Browns Offense Rushing Yards/Game Variance:\", var_value)\n",
    "print(\"Cleveland Browns Offense Rushing Yards/Game Minimum:\", min_value)\n",
    "print(\"Cleveland Browns Offense Rushing Yards/Game Maximum:\", max_value)\n",
    "print(\"Cleveland Browns Offense Rushing Yards/Game Range:\", data_range)\n",
    "print(\"Cleveland Browns Total Rushing Yards/Game 2012-2022:\", total_points)"
   ]
  },
  {
   "cell_type": "markdown",
   "id": "1c16192f",
   "metadata": {},
   "source": [
    "### Dallas Cowboys"
   ]
  },
  {
   "cell_type": "code",
   "execution_count": 16,
   "id": "3af6131b",
   "metadata": {},
   "outputs": [
    {
     "name": "stdout",
     "output_type": "stream",
     "text": [
      "Dallas Cowboys Offense Rushing Yards/Game Mean: 124.13636363636364\n",
      "Dallas Cowboys Offense Rushing Yards/Game Median: 134.6\n",
      "Dallas Cowboys Offense Rushing Yards/Game Standard Deviation: 21.922557913130152\n",
      "Dallas Cowboys Offense Rushing Yards/Game Variance: 480.59854545454544\n",
      "Dallas Cowboys Offense Rushing Yards/Game Minimum: 79.1\n",
      "Dallas Cowboys Offense Rushing Yards/Game Maximum: 149.8\n",
      "Dallas Cowboys Offense Rushing Yards/Game Range: 70.70000000000002\n",
      "Dallas Cowboys Total Rushing Yards/Game 2012-2022: 1365.4999999999998\n"
     ]
    }
   ],
   "source": [
    "team_name9 = 'Dallas Cowboys'\n",
    "cowboys_data = nflrush[nflrush['Team'] == team_name9]\n",
    "mean_value = cowboys_data['Off RYds/G'].mean()\n",
    "median_value = cowboys_data['Off RYds/G'].median()\n",
    "std_value = cowboys_data['Off RYds/G'].std()\n",
    "var_value = cowboys_data['Off RYds/G'].var()\n",
    "min_value = cowboys_data['Off RYds/G'].min()\n",
    "max_value = cowboys_data['Off RYds/G'].max()\n",
    "data_range = max_value - min_value\n",
    "total_points = cowboys_data['Off RYds/G'].sum()\n",
    "print(\"Dallas Cowboys Offense Rushing Yards/Game Mean:\", mean_value)\n",
    "print(\"Dallas Cowboys Offense Rushing Yards/Game Median:\", median_value)\n",
    "print(\"Dallas Cowboys Offense Rushing Yards/Game Standard Deviation:\", std_value)\n",
    "print(\"Dallas Cowboys Offense Rushing Yards/Game Variance:\", var_value)\n",
    "print(\"Dallas Cowboys Offense Rushing Yards/Game Minimum:\", min_value)\n",
    "print(\"Dallas Cowboys Offense Rushing Yards/Game Maximum:\", max_value)\n",
    "print(\"Dallas Cowboys Offense Rushing Yards/Game Range:\", data_range)\n",
    "print(\"Dallas Cowboys Total Rushing Yards/Game 2012-2022:\", total_points)"
   ]
  },
  {
   "cell_type": "markdown",
   "id": "392f307a",
   "metadata": {},
   "source": [
    "### Denver Broncos"
   ]
  },
  {
   "cell_type": "code",
   "execution_count": 17,
   "id": "772db3e8",
   "metadata": {},
   "outputs": [
    {
     "name": "stdout",
     "output_type": "stream",
     "text": [
      "Denver Broncos Offense Rushing Yards/Game Mean: 111.97272727272725\n",
      "Denver Broncos Offense Rushing Yards/Game Median: 114.5\n",
      "Denver Broncos Offense Rushing Yards/Game Standard Deviation: 7.954632726793978\n",
      "Denver Broncos Offense Rushing Yards/Game Variance: 63.276181818181804\n",
      "Denver Broncos Offense Rushing Yards/Game Minimum: 92.8\n",
      "Denver Broncos Offense Rushing Yards/Game Maximum: 119.9\n",
      "Denver Broncos Offense Rushing Yards/Game Range: 27.10000000000001\n",
      "Denver Broncos Total Rushing Yards/Game 2012-2022: 1231.6999999999998\n"
     ]
    }
   ],
   "source": [
    "team_name10 = 'Denver Broncos'\n",
    "broncos_data = nflrush[nflrush['Team'] == team_name10]\n",
    "mean_value = broncos_data['Off RYds/G'].mean()\n",
    "median_value = broncos_data['Off RYds/G'].median()\n",
    "std_value = broncos_data['Off RYds/G'].std()\n",
    "var_value = broncos_data['Off RYds/G'].var()\n",
    "min_value = broncos_data['Off RYds/G'].min()\n",
    "max_value = broncos_data['Off RYds/G'].max()\n",
    "data_range = max_value - min_value\n",
    "total_points = broncos_data['Off RYds/G'].sum()\n",
    "print(\"Denver Broncos Offense Rushing Yards/Game Mean:\", mean_value)\n",
    "print(\"Denver Broncos Offense Rushing Yards/Game Median:\", median_value)\n",
    "print(\"Denver Broncos Offense Rushing Yards/Game Standard Deviation:\", std_value)\n",
    "print(\"Denver Broncos Offense Rushing Yards/Game Variance:\", var_value)\n",
    "print(\"Denver Broncos Offense Rushing Yards/Game Minimum:\", min_value)\n",
    "print(\"Denver Broncos Offense Rushing Yards/Game Maximum:\", max_value)\n",
    "print(\"Denver Broncos Offense Rushing Yards/Game Range:\", data_range)\n",
    "print(\"Denver Broncos Total Rushing Yards/Game 2012-2022:\", total_points)"
   ]
  },
  {
   "cell_type": "markdown",
   "id": "83cf2dc4",
   "metadata": {},
   "source": [
    "### Detroit Lions"
   ]
  },
  {
   "cell_type": "code",
   "execution_count": 18,
   "id": "fdd07485",
   "metadata": {},
   "outputs": [
    {
     "name": "stdout",
     "output_type": "stream",
     "text": [
      "Detroit Lions Offense Rushing Yards/Game Mean: 95.95454545454545\n",
      "Detroit Lions Offense Rushing Yards/Games Median: 93.7\n",
      "Detroit Lions Offense Rushing Yards/Game Standard Deviation: 16.666515150826438\n",
      "Detroit Lions Offense Rushing Yards/Game Variance: 277.7727272727272\n",
      "Detroit Lions Offense Rushing Yards/Game Minimum: 76.3\n",
      "Detroit Lions Offense Rushing Yards/Game Maximum: 128.2\n",
      "Detroit Lions Offense Rushing Yards/Game Range: 51.89999999999999\n",
      "Detroit Lions Total Rushing Yards/Game 2012-2022: 1055.5\n"
     ]
    }
   ],
   "source": [
    "team_name11 = 'Detroit Lions'\n",
    "lions_data = nflrush[nflrush['Team'] == team_name11]\n",
    "mean_value = lions_data['Off RYds/G'].mean()\n",
    "median_value = lions_data['Off RYds/G'].median()\n",
    "std_value = lions_data['Off RYds/G'].std()\n",
    "var_value = lions_data['Off RYds/G'].var()\n",
    "min_value = lions_data['Off RYds/G'].min()\n",
    "max_value = lions_data['Off RYds/G'].max()\n",
    "data_range = max_value - min_value\n",
    "total_points = lions_data['Off RYds/G'].sum()\n",
    "print(\"Detroit Lions Offense Rushing Yards/Game Mean:\", mean_value)\n",
    "print(\"Detroit Lions Offense Rushing Yards/Games Median:\", median_value)\n",
    "print(\"Detroit Lions Offense Rushing Yards/Game Standard Deviation:\", std_value)\n",
    "print(\"Detroit Lions Offense Rushing Yards/Game Variance:\", var_value)\n",
    "print(\"Detroit Lions Offense Rushing Yards/Game Minimum:\", min_value)\n",
    "print(\"Detroit Lions Offense Rushing Yards/Game Maximum:\", max_value)\n",
    "print(\"Detroit Lions Offense Rushing Yards/Game Range:\", data_range)\n",
    "print(\"Detroit Lions Total Rushing Yards/Game 2012-2022:\", total_points)"
   ]
  },
  {
   "cell_type": "markdown",
   "id": "01e8538f",
   "metadata": {},
   "source": [
    "### Green Bay Packers"
   ]
  },
  {
   "cell_type": "code",
   "execution_count": 19,
   "id": "a88a7841",
   "metadata": {},
   "outputs": [
    {
     "name": "stdout",
     "output_type": "stream",
     "text": [
      "Green Bay Packers Offense Rushing Yards/Game Mean: 116.17272727272726\n",
      "Green Bay Packers Offense Rushing Yards/Game Median: 112.2\n",
      "Green Bay Packers Offense Rushing Yards/Game Standard Deviation: 10.05575366733801\n",
      "Green Bay Packers Offense Rushing Yards/Game Variance: 101.11818181818185\n",
      "Green Bay Packers Offense Rushing Yards/Game Minimum: 106.3\n",
      "Green Bay Packers Offense Rushing Yards/Game Maximum: 133.5\n",
      "Green Bay Packers Offense Rushing Yards/Game Range: 27.200000000000003\n",
      "Green Bay Packers Total Rushing Yards/Game 2012-2022: 1277.8999999999999\n"
     ]
    }
   ],
   "source": [
    "team_name12 = 'Green Bay Packers'\n",
    "packers_data = nflrush[nflrush['Team'] == team_name12]\n",
    "mean_value = packers_data['Off RYds/G'].mean()\n",
    "median_value = packers_data['Off RYds/G'].median()\n",
    "std_value = packers_data['Off RYds/G'].std()\n",
    "var_value = packers_data['Off RYds/G'].var()\n",
    "min_value = packers_data['Off RYds/G'].min()\n",
    "max_value = packers_data['Off RYds/G'].max()\n",
    "data_range = max_value - min_value\n",
    "total_points = packers_data['Off RYds/G'].sum()\n",
    "print(\"Green Bay Packers Offense Rushing Yards/Game Mean:\", mean_value)\n",
    "print(\"Green Bay Packers Offense Rushing Yards/Game Median:\", median_value)\n",
    "print(\"Green Bay Packers Offense Rushing Yards/Game Standard Deviation:\", std_value)\n",
    "print(\"Green Bay Packers Offense Rushing Yards/Game Variance:\", var_value)\n",
    "print(\"Green Bay Packers Offense Rushing Yards/Game Minimum:\", min_value)\n",
    "print(\"Green Bay Packers Offense Rushing Yards/Game Maximum:\", max_value)\n",
    "print(\"Green Bay Packers Offense Rushing Yards/Game Range:\", data_range)\n",
    "print(\"Green Bay Packers Total Rushing Yards/Game 2012-2022:\", total_points)"
   ]
  },
  {
   "cell_type": "markdown",
   "id": "f4e34fa6",
   "metadata": {},
   "source": [
    "### Houston Texans"
   ]
  },
  {
   "cell_type": "code",
   "execution_count": 20,
   "id": "e04047e1",
   "metadata": {},
   "outputs": [
    {
     "name": "stdout",
     "output_type": "stream",
     "text": [
      "Houston Texans Offense Rushing Yards/Game Mean: 110.8090909090909\n",
      "Houston Texans Offense Rushing Yards/Game Median: 115.1\n",
      "Houston Texans Offense Rushing Yards/Game Standard Deviation: 17.46461877885999\n",
      "Houston Texans Offense Rushing Yards/Game Variance: 305.01290909090903\n",
      "Houston Texans Offense Rushing Yards/Game Minimum: 83.6\n",
      "Houston Texans Offense Rushing Yards/Game Maximum: 135.1\n",
      "Houston Texans Offense Rushing Yards/Game Range: 51.5\n",
      "Houston Texans Total Rushing Yards/Game 2012-2022: 1218.8999999999999\n"
     ]
    }
   ],
   "source": [
    "team_name13 = 'Houston Texans'\n",
    "texans_data = nflrush[nflrush['Team'] == team_name13]\n",
    "mean_value = texans_data['Off RYds/G'].mean()\n",
    "median_value = texans_data['Off RYds/G'].median()\n",
    "std_value = texans_data['Off RYds/G'].std()\n",
    "var_value = texans_data['Off RYds/G'].var()\n",
    "min_value = texans_data['Off RYds/G'].min()\n",
    "max_value = texans_data['Off RYds/G'].max()\n",
    "data_range = max_value - min_value\n",
    "total_points = texans_data['Off RYds/G'].sum()\n",
    "print(\"Houston Texans Offense Rushing Yards/Game Mean:\", mean_value)\n",
    "print(\"Houston Texans Offense Rushing Yards/Game Median:\", median_value)\n",
    "print(\"Houston Texans Offense Rushing Yards/Game Standard Deviation:\", std_value)\n",
    "print(\"Houston Texans Offense Rushing Yards/Game Variance:\", var_value)\n",
    "print(\"Houston Texans Offense Rushing Yards/Game Minimum:\", min_value)\n",
    "print(\"Houston Texans Offense Rushing Yards/Game Maximum:\", max_value)\n",
    "print(\"Houston Texans Offense Rushing Yards/Game Range:\", data_range)\n",
    "print(\"Houston Texans Total Rushing Yards/Game 2012-2022:\", total_points)"
   ]
  },
  {
   "cell_type": "markdown",
   "id": "a53ac9a4",
   "metadata": {},
   "source": [
    "### Indianapolis Colts"
   ]
  },
  {
   "cell_type": "code",
   "execution_count": 21,
   "id": "f4cee7ed",
   "metadata": {},
   "outputs": [
    {
     "name": "stdout",
     "output_type": "stream",
     "text": [
      "Indianapolis Colts Offense Rushing Yards/Game Mean: 111.86363636363636\n",
      "Indianapolis Colts Offense Rushing Yards/Game Median: 104.4\n",
      "Indianapolis Colts Offense Rushing Yards/Game Standard Deviation: 17.12362535955939\n",
      "Indianapolis Colts Offense Rushing Yards/Game Variance: 293.21854545454545\n",
      "Indianapolis Colts Offense Rushing Yards/Game Minimum: 89.9\n",
      "Indianapolis Colts Offense Rushing Yards/Game Maximum: 149.4\n",
      "Indianapolis Colts Offense Rushing Yards/Game Range: 59.5\n",
      "Indianapolis Colts Total Rushing Yards/Game 2012-2022: 1230.5\n"
     ]
    }
   ],
   "source": [
    "team_name14 = 'Indianapolis Colts'\n",
    "colts_data = nflrush[nflrush['Team'] == team_name14]\n",
    "mean_value = colts_data['Off RYds/G'].mean()\n",
    "median_value = colts_data['Off RYds/G'].median()\n",
    "std_value = colts_data['Off RYds/G'].std()\n",
    "var_value = colts_data['Off RYds/G'].var()\n",
    "min_value = colts_data['Off RYds/G'].min()\n",
    "max_value = colts_data['Off RYds/G'].max()\n",
    "data_range = max_value - min_value\n",
    "total_points = colts_data['Off RYds/G'].sum()\n",
    "print(\"Indianapolis Colts Offense Rushing Yards/Game Mean:\", mean_value)\n",
    "print(\"Indianapolis Colts Offense Rushing Yards/Game Median:\", median_value)\n",
    "print(\"Indianapolis Colts Offense Rushing Yards/Game Standard Deviation:\", std_value)\n",
    "print(\"Indianapolis Colts Offense Rushing Yards/Game Variance:\", var_value)\n",
    "print(\"Indianapolis Colts Offense Rushing Yards/Game Minimum:\", min_value)\n",
    "print(\"Indianapolis Colts Offense Rushing Yards/Game Maximum:\", max_value)\n",
    "print(\"Indianapolis Colts Offense Rushing Yards/Game Range:\", data_range)\n",
    "print(\"Indianapolis Colts Total Rushing Yards/Game 2012-2022:\", total_points)"
   ]
  },
  {
   "cell_type": "markdown",
   "id": "34112113",
   "metadata": {},
   "source": [
    "### Jacksonville Jaguars"
   ]
  },
  {
   "cell_type": "code",
   "execution_count": 22,
   "id": "7a0ec986",
   "metadata": {},
   "outputs": [
    {
     "name": "stdout",
     "output_type": "stream",
     "text": [
      "Jacksonville Jaguars Offense Rushing Yards/Game Mean: 106.6090909090909\n",
      "Jacksonville Jaguars Offense Rushing Yards/Game Median: 102.1\n",
      "Jacksonville Jaguars Offense Rushing Yards/Game Standard Deviation: 20.874407993782942\n",
      "Jacksonville Jaguars Offense Rushing Yards/Game Variance: 435.7409090909092\n",
      "Jacksonville Jaguars Offense Rushing Yards/Game Minimum: 78.8\n",
      "Jacksonville Jaguars Offense Rushing Yards/Game Maximum: 141.4\n",
      "Jacksonville Jaguars Offense Rushing Yards/Game Range: 62.60000000000001\n",
      "Jacksonville Jaguars Total Rushing Yards/Game 2012-2022: 1172.6999999999998\n"
     ]
    }
   ],
   "source": [
    "team_name15 = 'Jacksonville Jaguars'\n",
    "jaguars_data = nflrush[nflrush['Team'] == team_name15]\n",
    "mean_value = jaguars_data['Off RYds/G'].mean()\n",
    "median_value = jaguars_data['Off RYds/G'].median()\n",
    "std_value = jaguars_data['Off RYds/G'].std()\n",
    "var_value = jaguars_data['Off RYds/G'].var()\n",
    "min_value = jaguars_data['Off RYds/G'].min()\n",
    "max_value = jaguars_data['Off RYds/G'].max()\n",
    "data_range = max_value - min_value\n",
    "total_points = jaguars_data['Off RYds/G'].sum()\n",
    "print(\"Jacksonville Jaguars Offense Rushing Yards/Game Mean:\", mean_value)\n",
    "print(\"Jacksonville Jaguars Offense Rushing Yards/Game Median:\", median_value)\n",
    "print(\"Jacksonville Jaguars Offense Rushing Yards/Game Standard Deviation:\", std_value)\n",
    "print(\"Jacksonville Jaguars Offense Rushing Yards/Game Variance:\", var_value)\n",
    "print(\"Jacksonville Jaguars Offense Rushing Yards/Game Minimum:\", min_value)\n",
    "print(\"Jacksonville Jaguars Offense Rushing Yards/Game Maximum:\", max_value)\n",
    "print(\"Jacksonville Jaguars Offense Rushing Yards/Game Range:\", data_range)\n",
    "print(\"Jacksonville Jaguars Total Rushing Yards/Game 2012-2022:\", total_points)"
   ]
  },
  {
   "cell_type": "markdown",
   "id": "7a4c5cb0",
   "metadata": {},
   "source": [
    "### Kansas City Chiefs"
   ]
  },
  {
   "cell_type": "code",
   "execution_count": 23,
   "id": "b3528058",
   "metadata": {},
   "outputs": [
    {
     "name": "stdout",
     "output_type": "stream",
     "text": [
      "Kansas City Chiefs Offense Rushing Yards/Game Mean: 119.4818181818182\n",
      "Kansas City Chiefs Offense Rushing Yards/Game Median: 118.9\n",
      "Kansas City Chiefs Offense Rushing Yards/Game Standard Deviation: 13.078518125676023\n",
      "Kansas City Chiefs Offense Rushing Yards/Game Variance: 171.0476363636363\n",
      "Kansas City Chiefs Offense Rushing Yards/Game Minimum: 98.1\n",
      "Kansas City Chiefs Offense Rushing Yards/Game Maximum: 149.7\n",
      "Kansas City Chiefs Offense Rushing Yards/Game Range: 51.599999999999994\n",
      "Kansas City Chiefs Total Rushing Yards/Game 2012-2022: 1314.3000000000002\n"
     ]
    }
   ],
   "source": [
    "team_name16 = 'Kansas City Chiefs'\n",
    "chiefs_data = nflrush[nflrush['Team'] == team_name16]\n",
    "mean_value = chiefs_data['Off RYds/G'].mean()\n",
    "median_value = chiefs_data['Off RYds/G'].median()\n",
    "std_value = chiefs_data['Off RYds/G'].std()\n",
    "var_value = chiefs_data['Off RYds/G'].var()\n",
    "min_value = chiefs_data['Off RYds/G'].min()\n",
    "max_value = chiefs_data['Off RYds/G'].max()\n",
    "data_range = max_value - min_value\n",
    "total_points = chiefs_data['Off RYds/G'].sum()\n",
    "print(\"Kansas City Chiefs Offense Rushing Yards/Game Mean:\", mean_value)\n",
    "print(\"Kansas City Chiefs Offense Rushing Yards/Game Median:\", median_value)\n",
    "print(\"Kansas City Chiefs Offense Rushing Yards/Game Standard Deviation:\", std_value)\n",
    "print(\"Kansas City Chiefs Offense Rushing Yards/Game Variance:\", var_value)\n",
    "print(\"Kansas City Chiefs Offense Rushing Yards/Game Minimum:\", min_value)\n",
    "print(\"Kansas City Chiefs Offense Rushing Yards/Game Maximum:\", max_value)\n",
    "print(\"Kansas City Chiefs Offense Rushing Yards/Game Range:\", data_range)\n",
    "print(\"Kansas City Chiefs Total Rushing Yards/Game 2012-2022:\", total_points)"
   ]
  },
  {
   "cell_type": "markdown",
   "id": "94f0253d",
   "metadata": {},
   "source": [
    "### Las Vegas Raiders"
   ]
  },
  {
   "cell_type": "code",
   "execution_count": 24,
   "id": "64b05b4c",
   "metadata": {},
   "outputs": [
    {
     "name": "stdout",
     "output_type": "stream",
     "text": [
      "Las Vegas Raiders Offense Rushing Yards/Game Mean: 104.63636363636361\n",
      "Las Vegas Raiders Offense Rushing Yards/Game Median: 97.1\n",
      "Las Vegas Raiders Offense Rushing Yards/Game Standard Deviation: 16.481582007032742\n",
      "Las Vegas Raiders Offense Rushing Yards/Game Variance: 271.6425454545454\n",
      "Las Vegas Raiders Offense Rushing Yards/Game Minimum: 77.5\n",
      "Las Vegas Raiders Offense Rushing Yards/Game Maximum: 125.0\n",
      "Las Vegas Raiders Offense Rushing Yards/Game Range: 47.5\n",
      "Las Vegas Raiders Total Rushing Yards/Game 2012-2022: 1150.9999999999998\n"
     ]
    }
   ],
   "source": [
    "team_name17 = 'Las Vegas Raiders'\n",
    "raiders_data = nflrush[nflrush['Team'] == team_name17]\n",
    "mean_value = raiders_data['Off RYds/G'].mean()\n",
    "median_value = raiders_data['Off RYds/G'].median()\n",
    "std_value = raiders_data['Off RYds/G'].std()\n",
    "var_value = raiders_data['Off RYds/G'].var()\n",
    "min_value = raiders_data['Off RYds/G'].min()\n",
    "max_value = raiders_data['Off RYds/G'].max()\n",
    "data_range = max_value - min_value\n",
    "total_points = raiders_data['Off RYds/G'].sum()\n",
    "print(\"Las Vegas Raiders Offense Rushing Yards/Game Mean:\", mean_value)\n",
    "print(\"Las Vegas Raiders Offense Rushing Yards/Game Median:\", median_value)\n",
    "print(\"Las Vegas Raiders Offense Rushing Yards/Game Standard Deviation:\", std_value)\n",
    "print(\"Las Vegas Raiders Offense Rushing Yards/Game Variance:\", var_value)\n",
    "print(\"Las Vegas Raiders Offense Rushing Yards/Game Minimum:\", min_value)\n",
    "print(\"Las Vegas Raiders Offense Rushing Yards/Game Maximum:\", max_value)\n",
    "print(\"Las Vegas Raiders Offense Rushing Yards/Game Range:\", data_range)\n",
    "print(\"Las Vegas Raiders Total Rushing Yards/Game 2012-2022:\", total_points)"
   ]
  },
  {
   "cell_type": "markdown",
   "id": "cad8ed48",
   "metadata": {},
   "source": [
    "### Los Angeles Chargers"
   ]
  },
  {
   "cell_type": "code",
   "execution_count": 25,
   "id": "28532bfe",
   "metadata": {},
   "outputs": [
    {
     "name": "stdout",
     "output_type": "stream",
     "text": [
      "Los Angeles Chargers Offense Rushing Yards/Game Mean: 98.0\n",
      "Los Angeles Chargers Offense Rushing Yards/Game Median: 94.4\n",
      "Los Angeles Chargers Offense Rushing Yards/Game Standard Deviation: 11.881498222025705\n",
      "Los Angeles Chargers Offense Rushing Yards/Game Variance: 141.17\n",
      "Los Angeles Chargers Offense Rushing Yards/Game Minimum: 84.9\n",
      "Los Angeles Chargers Offense Rushing Yards/Game Maximum: 122.8\n",
      "Los Angeles Chargers Offense Rushing Yards/Game Range: 37.89999999999999\n",
      "Los Angeles Chargers Total Rushing Yards/Game 2012-2022: 1078.0\n"
     ]
    }
   ],
   "source": [
    "team_name18 = 'Los Angeles Chargers'\n",
    "chargers_data = nflrush[nflrush['Team'] == team_name18]\n",
    "mean_value = chargers_data['Off RYds/G'].mean()\n",
    "median_value = chargers_data['Off RYds/G'].median()\n",
    "std_value = chargers_data['Off RYds/G'].std()\n",
    "var_value = chargers_data['Off RYds/G'].var()\n",
    "min_value = chargers_data['Off RYds/G'].min()\n",
    "max_value = chargers_data['Off RYds/G'].max()\n",
    "data_range = max_value - min_value\n",
    "total_points = chargers_data['Off RYds/G'].sum()\n",
    "print(\"Los Angeles Chargers Offense Rushing Yards/Game Mean:\", mean_value)\n",
    "print(\"Los Angeles Chargers Offense Rushing Yards/Game Median:\", median_value)\n",
    "print(\"Los Angeles Chargers Offense Rushing Yards/Game Standard Deviation:\", std_value)\n",
    "print(\"Los Angeles Chargers Offense Rushing Yards/Game Variance:\", var_value)\n",
    "print(\"Los Angeles Chargers Offense Rushing Yards/Game Minimum:\", min_value)\n",
    "print(\"Los Angeles Chargers Offense Rushing Yards/Game Maximum:\", max_value)\n",
    "print(\"Los Angeles Chargers Offense Rushing Yards/Game Range:\", data_range)\n",
    "print(\"Los Angeles Chargers Total Rushing Yards/Game 2012-2022:\", total_points)\n"
   ]
  },
  {
   "cell_type": "markdown",
   "id": "5ea4eb63",
   "metadata": {},
   "source": [
    "### Los Angeles Rams"
   ]
  },
  {
   "cell_type": "code",
   "execution_count": 26,
   "id": "06726f85",
   "metadata": {},
   "outputs": [
    {
     "name": "stdout",
     "output_type": "stream",
     "text": [
      "Los Angeles Rams Offense Rushing Yards/Game Mean: 107.2636363636364\n",
      "Los Angeles Rams Offense Rushing Yards/Game Median: 107.1\n",
      "Los Angeles Rams Offense Rushing Yards/Game Standard Deviation: 14.95735756925485\n",
      "Los Angeles Rams Offense Rushing Yards/Game Variance: 223.72254545454535\n",
      "Los Angeles Rams Offense Rushing Yards/Game Minimum: 78.2\n",
      "Los Angeles Rams Offense Rushing Yards/Game Maximum: 126.1\n",
      "Los Angeles Rams Offense Rushing Yards/Game Range: 47.89999999999999\n",
      "Los Angeles Rams Total Rushing Yards/Game 2012-2022: 1179.9\n"
     ]
    }
   ],
   "source": [
    "team_name19 = 'Los Angeles Rams'\n",
    "Rams_data = nflrush[nflrush['Team'] == team_name19]\n",
    "mean_value = Rams_data['Off RYds/G'].mean()\n",
    "median_value = Rams_data['Off RYds/G'].median()\n",
    "std_value = Rams_data['Off RYds/G'].std()\n",
    "var_value = Rams_data['Off RYds/G'].var()\n",
    "min_value = Rams_data['Off RYds/G'].min()\n",
    "max_value = Rams_data['Off RYds/G'].max()\n",
    "data_range = max_value - min_value\n",
    "total_points = Rams_data['Off RYds/G'].sum()\n",
    "print(\"Los Angeles Rams Offense Rushing Yards/Game Mean:\", mean_value)\n",
    "print(\"Los Angeles Rams Offense Rushing Yards/Game Median:\", median_value)\n",
    "print(\"Los Angeles Rams Offense Rushing Yards/Game Standard Deviation:\", std_value)\n",
    "print(\"Los Angeles Rams Offense Rushing Yards/Game Variance:\", var_value)\n",
    "print(\"Los Angeles Rams Offense Rushing Yards/Game Minimum:\", min_value)\n",
    "print(\"Los Angeles Rams Offense Rushing Yards/Game Maximum:\", max_value)\n",
    "print(\"Los Angeles Rams Offense Rushing Yards/Game Range:\", data_range)\n",
    "print(\"Los Angeles Rams Total Rushing Yards/Game 2012-2022:\", total_points)"
   ]
  },
  {
   "cell_type": "markdown",
   "id": "780f4251",
   "metadata": {},
   "source": [
    "### Miami Dolphins"
   ]
  },
  {
   "cell_type": "code",
   "execution_count": 27,
   "id": "a3acb87e",
   "metadata": {},
   "outputs": [
    {
     "name": "stdout",
     "output_type": "stream",
     "text": [
      "Miami Dolphins Offense Rushing Yards/Game Mean: 97.25454545454545\n",
      "Miami Dolphins Offense Rushing Yards/Game Median: 93.5\n",
      "Miami Dolphins Offense Rushing Yards/Game Standard Deviation: 13.842497147289835\n",
      "Miami Dolphins Offense Rushing Yards/Game Variance: 191.61472727272724\n",
      "Miami Dolphins Offense Rushing Yards/Game Minimum: 72.2\n",
      "Miami Dolphins Offense Rushing Yards/Game Maximum: 117.0\n",
      "Miami Dolphins Offense Rushing Yards/Game Range: 44.8\n",
      "Miami Dolphins Total Rushing Yards/Game 2012-2022: 1069.8000000000002\n"
     ]
    }
   ],
   "source": [
    "team_name20 = 'Miami Dolphins'\n",
    "dolphins_data = nflrush[nflrush['Team'] == team_name20]\n",
    "mean_value = dolphins_data['Off RYds/G'].mean()\n",
    "median_value = dolphins_data['Off RYds/G'].median()\n",
    "std_value = dolphins_data['Off RYds/G'].std()\n",
    "var_value = dolphins_data['Off RYds/G'].var()\n",
    "min_value = dolphins_data['Off RYds/G'].min()\n",
    "max_value = dolphins_data['Off RYds/G'].max()\n",
    "data_range = max_value - min_value\n",
    "total_points = dolphins_data['Off RYds/G'].sum()\n",
    "print(\"Miami Dolphins Offense Rushing Yards/Game Mean:\", mean_value)\n",
    "print(\"Miami Dolphins Offense Rushing Yards/Game Median:\", median_value)\n",
    "print(\"Miami Dolphins Offense Rushing Yards/Game Standard Deviation:\", std_value)\n",
    "print(\"Miami Dolphins Offense Rushing Yards/Game Variance:\", var_value)\n",
    "print(\"Miami Dolphins Offense Rushing Yards/Game Minimum:\", min_value)\n",
    "print(\"Miami Dolphins Offense Rushing Yards/Game Maximum:\", max_value)\n",
    "print(\"Miami Dolphins Offense Rushing Yards/Game Range:\", data_range)\n",
    "print(\"Miami Dolphins Total Rushing Yards/Game 2012-2022:\", total_points)"
   ]
  },
  {
   "cell_type": "markdown",
   "id": "7cc17b7f",
   "metadata": {},
   "source": [
    "### Minnesota Vikings"
   ]
  },
  {
   "cell_type": "code",
   "execution_count": 28,
   "id": "3a4da802",
   "metadata": {},
   "outputs": [
    {
     "name": "stdout",
     "output_type": "stream",
     "text": [
      "Minnesota Vikings Offense Rushing Yards/Game Mean: 122.98181818181818\n",
      "Minnesota Vikings Offense Rushing Yards/Game Median: 122.3\n",
      "Minnesota Vikings Offense Rushing Yards/Game Standard Deviation: 23.699865745688015\n",
      "Minnesota Vikings Offense Rushing Yards/Game Variance: 561.6836363636361\n",
      "Minnesota Vikings Offense Rushing Yards/Game Minimum: 75.3\n",
      "Minnesota Vikings Offense Rushing Yards/Game Maximum: 164.6\n",
      "Minnesota Vikings Offense Rushing Yards/Game Range: 89.3\n",
      "Minnesota Vikings Total Rushing Yards/Game 2012-2022: 1352.8000000000002\n"
     ]
    }
   ],
   "source": [
    "team_name21 = 'Minnesota Vikings'\n",
    "vikings_data = nflrush[nflrush['Team'] == team_name21]\n",
    "mean_value = vikings_data['Off RYds/G'].mean()\n",
    "median_value = vikings_data['Off RYds/G'].median()\n",
    "std_value = vikings_data['Off RYds/G'].std()\n",
    "var_value = vikings_data['Off RYds/G'].var()\n",
    "min_value = vikings_data['Off RYds/G'].min()\n",
    "max_value = vikings_data['Off RYds/G'].max()\n",
    "data_range = max_value - min_value\n",
    "total_points = vikings_data['Off RYds/G'].sum()\n",
    "print(\"Minnesota Vikings Offense Rushing Yards/Game Mean:\", mean_value)\n",
    "print(\"Minnesota Vikings Offense Rushing Yards/Game Median:\", median_value)\n",
    "print(\"Minnesota Vikings Offense Rushing Yards/Game Standard Deviation:\", std_value)\n",
    "print(\"Minnesota Vikings Offense Rushing Yards/Game Variance:\", var_value)\n",
    "print(\"Minnesota Vikings Offense Rushing Yards/Game Minimum:\", min_value)\n",
    "print(\"Minnesota Vikings Offense Rushing Yards/Game Maximum:\", max_value)\n",
    "print(\"Minnesota Vikings Offense Rushing Yards/Game Range:\", data_range)\n",
    "print(\"Minnesota Vikings Total Rushing Yards/Game 2012-2022:\", total_points)"
   ]
  },
  {
   "cell_type": "markdown",
   "id": "24831788",
   "metadata": {},
   "source": [
    "### New England Patriots"
   ]
  },
  {
   "cell_type": "code",
   "execution_count": 29,
   "id": "da9fa995",
   "metadata": {},
   "outputs": [
    {
     "name": "stdout",
     "output_type": "stream",
     "text": [
      "New England Patriots Offense Rushing Yards/Game Mean: 118.23636363636363\n",
      "New England Patriots Offense Rushing Yards/Game Median: 118.1\n",
      "New England Patriots Offense Rushing Yards/Game Standard Deviation: 16.231590971144676\n",
      "New England Patriots Offense Rushing Yards/Game Variance: 263.4645454545454\n",
      "New England Patriots Offense Rushing Yards/Game Minimum: 87.8\n",
      "New England Patriots Offense Rushing Yards/Game Maximum: 146.6\n",
      "New England Patriots Offense Rushing Yards/Game Range: 58.8\n",
      "New England Patriots Total Rushing Yards/Game 2012-2022: 1300.6\n"
     ]
    }
   ],
   "source": [
    "team_name22 = 'New England Patriots'\n",
    "patriots_data = nflrush[nflrush['Team'] == team_name22]\n",
    "mean_value = patriots_data['Off RYds/G'].mean()\n",
    "median_value = patriots_data['Off RYds/G'].median()\n",
    "std_value = patriots_data['Off RYds/G'].std()\n",
    "var_value = patriots_data['Off RYds/G'].var()\n",
    "min_value = patriots_data['Off RYds/G'].min()\n",
    "max_value = patriots_data['Off RYds/G'].max()\n",
    "data_range = max_value - min_value\n",
    "total_points = patriots_data['Off RYds/G'].sum()\n",
    "print(\"New England Patriots Offense Rushing Yards/Game Mean:\", mean_value)\n",
    "print(\"New England Patriots Offense Rushing Yards/Game Median:\", median_value)\n",
    "print(\"New England Patriots Offense Rushing Yards/Game Standard Deviation:\", std_value)\n",
    "print(\"New England Patriots Offense Rushing Yards/Game Variance:\", var_value)\n",
    "print(\"New England Patriots Offense Rushing Yards/Game Minimum:\", min_value)\n",
    "print(\"New England Patriots Offense Rushing Yards/Game Maximum:\", max_value)\n",
    "print(\"New England Patriots Offense Rushing Yards/Game Range:\", data_range)\n",
    "print(\"New England Patriots Total Rushing Yards/Game 2012-2022:\", total_points)"
   ]
  },
  {
   "cell_type": "markdown",
   "id": "a470caac",
   "metadata": {},
   "source": [
    "### New Orleans Saints"
   ]
  },
  {
   "cell_type": "code",
   "execution_count": 30,
   "id": "6d0fe639",
   "metadata": {},
   "outputs": [
    {
     "name": "stdout",
     "output_type": "stream",
     "text": [
      "New Orleans Saints Offense Rushing Yards/Game Mean: 111.97\n",
      "New Orleans Saints Offense Rushing Yards/Game Median: 111.25\n",
      "New Orleans Saints Offense Rushing Yards/Game Standard Deviation: 15.559280903120884\n",
      "New Orleans Saints Offense Rushing Yards/Game Variance: 242.09122222222226\n",
      "New Orleans Saints Offense Rushing Yards/Game Minimum: 92.1\n",
      "New Orleans Saints Offense Rushing Yards/Game Maximum: 141.6\n",
      "New Orleans Saints Offense Rushing Yards/Game Range: 49.5\n",
      "New Orleans Saints Total Rushing Yards/Game 2012-2022: 1119.7\n"
     ]
    }
   ],
   "source": [
    "team_name23 = 'New Orleans Saints'\n",
    "saints_data = nflrush[nflrush['Team'] == team_name23]\n",
    "mean_value = saints_data['Off RYds/G'].mean()\n",
    "median_value = saints_data['Off RYds/G'].median()\n",
    "std_value = saints_data['Off RYds/G'].std()\n",
    "var_value = saints_data['Off RYds/G'].var()\n",
    "min_value = saints_data['Off RYds/G'].min()\n",
    "max_value = saints_data['Off RYds/G'].max()\n",
    "data_range = max_value - min_value\n",
    "total_points = saints_data['Off RYds/G'].sum()\n",
    "print(\"New Orleans Saints Offense Rushing Yards/Game Mean:\", mean_value)\n",
    "print(\"New Orleans Saints Offense Rushing Yards/Game Median:\", median_value)\n",
    "print(\"New Orleans Saints Offense Rushing Yards/Game Standard Deviation:\", std_value)\n",
    "print(\"New Orleans Saints Offense Rushing Yards/Game Variance:\", var_value)\n",
    "print(\"New Orleans Saints Offense Rushing Yards/Game Minimum:\", min_value)\n",
    "print(\"New Orleans Saints Offense Rushing Yards/Game Maximum:\", max_value)\n",
    "print(\"New Orleans Saints Offense Rushing Yards/Game Range:\", data_range)\n",
    "print(\"New Orleans Saints Total Rushing Yards/Game 2012-2022:\", total_points)"
   ]
  },
  {
   "cell_type": "markdown",
   "id": "6f27154f",
   "metadata": {},
   "source": [
    "### New York Giants"
   ]
  },
  {
   "cell_type": "code",
   "execution_count": 31,
   "id": "765e77fe",
   "metadata": {},
   "outputs": [
    {
     "name": "stdout",
     "output_type": "stream",
     "text": [
      "New York Giants Offense Rushing Yards/Game Mean: 104.13636363636361\n",
      "New York Giants Offense Rushing Yards/Game Median: 100.2\n",
      "New York Giants Offense Rushing Yards/Game Standard Deviation: 17.27768923943666\n",
      "New York Giants Offense Rushing Yards/Game Variance: 298.51854545454535\n",
      "New York Giants Offense Rushing Yards/Game Minimum: 83.2\n",
      "New York Giants Offense Rushing Yards/Game Maximum: 148.2\n",
      "New York Giants Offense Rushing Yards/Game Range: 64.99999999999999\n",
      "New York Giants Total Rushing Yards/Game 2012-2022: 1145.5\n"
     ]
    }
   ],
   "source": [
    "team_name24 = 'New York Giants'\n",
    "giants_data = nflrush[nflrush['Team'] == team_name24]\n",
    "mean_value = giants_data['Off RYds/G'].mean()\n",
    "median_value = giants_data['Off RYds/G'].median()\n",
    "std_value = giants_data['Off RYds/G'].std()\n",
    "var_value = giants_data['Off RYds/G'].var()\n",
    "min_value = giants_data['Off RYds/G'].min()\n",
    "max_value = giants_data['Off RYds/G'].max()\n",
    "data_range = max_value - min_value\n",
    "total_points = giants_data['Off RYds/G'].sum()\n",
    "print(\"New York Giants Offense Rushing Yards/Game Mean:\", mean_value)\n",
    "print(\"New York Giants Offense Rushing Yards/Game Median:\", median_value)\n",
    "print(\"New York Giants Offense Rushing Yards/Game Standard Deviation:\", std_value)\n",
    "print(\"New York Giants Offense Rushing Yards/Game Variance:\", var_value)\n",
    "print(\"New York Giants Offense Rushing Yards/Game Minimum:\", min_value)\n",
    "print(\"New York Giants Offense Rushing Yards/Game Maximum:\", max_value)\n",
    "print(\"New York Giants Offense Rushing Yards/Game Range:\", data_range)\n",
    "print(\"New York Giants Total Rushing Yards/Game 2012-2022:\", total_points)"
   ]
  },
  {
   "cell_type": "markdown",
   "id": "9667adf1",
   "metadata": {},
   "source": [
    "### New York Jets"
   ]
  },
  {
   "cell_type": "code",
   "execution_count": 32,
   "id": "a063fc48",
   "metadata": {},
   "outputs": [
    {
     "name": "stdout",
     "output_type": "stream",
     "text": [
      "New York Jets Offense Rushing Yards/Game Mean: 110.83636363636364\n",
      "New York Jets Offense Rushing Yards/Game Median: 106.4\n",
      "New York Jets Offense Rushing Yards/Game Standard Deviation: 17.569819163968237\n",
      "New York Jets Offense Rushing Yards/Game Variance: 308.6985454545455\n",
      "New York Jets Offense Rushing Yards/Game Minimum: 78.6\n",
      "New York Jets Offense Rushing Yards/Game Maximum: 142.5\n",
      "New York Jets Offense Rushing Yards/Game Range: 63.900000000000006\n",
      "New York Jets Total Rushing Yards/Game 2012-2022: 1219.2\n"
     ]
    }
   ],
   "source": [
    "team_name25 = 'New York Jets'\n",
    "Jets_data = nflrush[nflrush['Team'] == team_name25]\n",
    "mean_value = Jets_data['Off RYds/G'].mean()\n",
    "median_value = Jets_data['Off RYds/G'].median()\n",
    "std_value = Jets_data['Off RYds/G'].std()\n",
    "var_value = Jets_data['Off RYds/G'].var()\n",
    "min_value = Jets_data['Off RYds/G'].min()\n",
    "max_value = Jets_data['Off RYds/G'].max()\n",
    "data_range = max_value - min_value\n",
    "total_points = Jets_data['Off RYds/G'].sum()\n",
    "print(\"New York Jets Offense Rushing Yards/Game Mean:\", mean_value)\n",
    "print(\"New York Jets Offense Rushing Yards/Game Median:\", median_value)\n",
    "print(\"New York Jets Offense Rushing Yards/Game Standard Deviation:\", std_value)\n",
    "print(\"New York Jets Offense Rushing Yards/Game Variance:\", var_value)\n",
    "print(\"New York Jets Offense Rushing Yards/Game Minimum:\", min_value)\n",
    "print(\"New York Jets Offense Rushing Yards/Game Maximum:\", max_value)\n",
    "print(\"New York Jets Offense Rushing Yards/Game Range:\", data_range)\n",
    "print(\"New York Jets Total Rushing Yards/Game 2012-2022:\", total_points)"
   ]
  },
  {
   "cell_type": "markdown",
   "id": "a36ef8fd",
   "metadata": {},
   "source": [
    "### Philadelphia Eagles"
   ]
  },
  {
   "cell_type": "code",
   "execution_count": 33,
   "id": "524dca6b",
   "metadata": {},
   "outputs": [
    {
     "name": "stdout",
     "output_type": "stream",
     "text": [
      "Philadelphia Eagles Offense Rushing Yards/Game Mean: 131.25454545454545\n",
      "Philadelphia Eagles Offense Rushing Yards/Game Median: 126.7\n",
      "Philadelphia Eagles Offense Rushing Yards/Game Standard Deviation: 17.656350904780048\n",
      "Philadelphia Eagles Offense Rushing Yards/Game Variance: 311.7467272727272\n",
      "Philadelphia Eagles Offense Rushing Yards/Game Minimum: 108.9\n",
      "Philadelphia Eagles Offense Rushing Yards/Game Maximum: 160.4\n",
      "Philadelphia Eagles Offense Rushing Yards/Game Range: 51.5\n",
      "Philadelphia Eagles Total Rushing Yards/Game 2012-2022: 1443.8\n"
     ]
    }
   ],
   "source": [
    "team_name26 = 'Philadelphia Eagles'\n",
    "eagles_data = nflrush[nflrush['Team'] == team_name26]\n",
    "mean_value = eagles_data['Off RYds/G'].mean()\n",
    "median_value = eagles_data['Off RYds/G'].median()\n",
    "std_value = eagles_data['Off RYds/G'].std()\n",
    "var_value = eagles_data['Off RYds/G'].var()\n",
    "min_value = eagles_data['Off RYds/G'].min()\n",
    "max_value = eagles_data['Off RYds/G'].max()\n",
    "data_range = max_value - min_value\n",
    "total_points = eagles_data['Off RYds/G'].sum()\n",
    "print(\"Philadelphia Eagles Offense Rushing Yards/Game Mean:\", mean_value)\n",
    "print(\"Philadelphia Eagles Offense Rushing Yards/Game Median:\", median_value)\n",
    "print(\"Philadelphia Eagles Offense Rushing Yards/Game Standard Deviation:\", std_value)\n",
    "print(\"Philadelphia Eagles Offense Rushing Yards/Game Variance:\", var_value)\n",
    "print(\"Philadelphia Eagles Offense Rushing Yards/Game Minimum:\", min_value)\n",
    "print(\"Philadelphia Eagles Offense Rushing Yards/Game Maximum:\", max_value)\n",
    "print(\"Philadelphia Eagles Offense Rushing Yards/Game Range:\", data_range)\n",
    "print(\"Philadelphia Eagles Total Rushing Yards/Game 2012-2022:\", total_points)"
   ]
  },
  {
   "cell_type": "markdown",
   "id": "5bc38ce6",
   "metadata": {},
   "source": [
    "### Pittsburgh Steelers"
   ]
  },
  {
   "cell_type": "code",
   "execution_count": 34,
   "id": "e679c547",
   "metadata": {},
   "outputs": [
    {
     "name": "stdout",
     "output_type": "stream",
     "text": [
      "Pittsburgh Steelers Offense Rushing Yards/Game Mean: 100.72727272727273\n",
      "Pittsburgh Steelers Offense Rushing Yards/Game Median: 104.2\n",
      "Pittsburgh Steelers Offense Rushing Yards/Game Standard Deviation: 11.590780034932154\n",
      "Pittsburgh Steelers Offense Rushing Yards/Game Variance: 134.34618181818183\n",
      "Pittsburgh Steelers Offense Rushing Yards/Game Minimum: 84.4\n",
      "Pittsburgh Steelers Offense Rushing Yards/Game Maximum: 121.9\n",
      "Pittsburgh Steelers Offense Rushing Yards/Game Range: 37.5\n",
      "Pittsburgh Steelers Total Rushing Yards/Game 2012-2022: 1108.0\n"
     ]
    }
   ],
   "source": [
    "team_name27 = 'Pittsburgh Steelers'\n",
    "steelers_data = nflrush[nflrush['Team'] == team_name27]\n",
    "mean_value = steelers_data['Off RYds/G'].mean()\n",
    "median_value = steelers_data['Off RYds/G'].median()\n",
    "std_value = steelers_data['Off RYds/G'].std()\n",
    "var_value = steelers_data['Off RYds/G'].var()\n",
    "min_value = steelers_data['Off RYds/G'].min()\n",
    "max_value = steelers_data['Off RYds/G'].max()\n",
    "data_range = max_value - min_value\n",
    "total_points = steelers_data['Off RYds/G'].sum()\n",
    "print(\"Pittsburgh Steelers Offense Rushing Yards/Game Mean:\", mean_value)\n",
    "print(\"Pittsburgh Steelers Offense Rushing Yards/Game Median:\", median_value)\n",
    "print(\"Pittsburgh Steelers Offense Rushing Yards/Game Standard Deviation:\", std_value)\n",
    "print(\"Pittsburgh Steelers Offense Rushing Yards/Game Variance:\", var_value)\n",
    "print(\"Pittsburgh Steelers Offense Rushing Yards/Game Minimum:\", min_value)\n",
    "print(\"Pittsburgh Steelers Offense Rushing Yards/Game Maximum:\", max_value)\n",
    "print(\"Pittsburgh Steelers Offense Rushing Yards/Game Range:\", data_range)\n",
    "print(\"Pittsburgh Steelers Total Rushing Yards/Game 2012-2022:\", total_points)"
   ]
  },
  {
   "cell_type": "markdown",
   "id": "23131153",
   "metadata": {},
   "source": [
    "### San Francisco 49ers"
   ]
  },
  {
   "cell_type": "code",
   "execution_count": 35,
   "id": "b5594537",
   "metadata": {},
   "outputs": [
    {
     "name": "stdout",
     "output_type": "stream",
     "text": [
      "San Francisco 49ers Offense Rushing Yards/Game Mean: 126.2\n",
      "San Francisco 49ers Offense Rushing Yards/Game Median: 127.4\n",
      "San Francisco 49ers Offense Rushing Yards/Game Standard Deviation: 18.759370991587108\n",
      "San Francisco 49ers Offense Rushing Yards/Game Variance: 351.9139999999999\n",
      "San Francisco 49ers Offense Rushing Yards/Game Minimum: 96.5\n",
      "San Francisco 49ers Offense Rushing Yards/Game Maximum: 155.7\n",
      "San Francisco 49ers Offense Rushing Yards/Game Rushing YardsRange: 59.19999999999999\n",
      "San Francisco 49ers Total Rushing Yards/Game 2012-2022: 1388.2\n"
     ]
    }
   ],
   "source": [
    "team_name28 = 'San Francisco 49ers'\n",
    "niners_data = nflrush[nflrush['Team'] == team_name28]\n",
    "mean_value = niners_data['Off RYds/G'].mean()\n",
    "median_value = niners_data['Off RYds/G'].median()\n",
    "std_value = niners_data['Off RYds/G'].std()\n",
    "var_value = niners_data['Off RYds/G'].var()\n",
    "min_value = niners_data['Off RYds/G'].min()\n",
    "max_value = niners_data['Off RYds/G'].max()\n",
    "data_range = max_value - min_value\n",
    "total_points = niners_data['Off RYds/G'].sum()\n",
    "print(\"San Francisco 49ers Offense Rushing Yards/Game Mean:\", mean_value)\n",
    "print(\"San Francisco 49ers Offense Rushing Yards/Game Median:\", median_value)\n",
    "print(\"San Francisco 49ers Offense Rushing Yards/Game Standard Deviation:\", std_value)\n",
    "print(\"San Francisco 49ers Offense Rushing Yards/Game Variance:\", var_value)\n",
    "print(\"San Francisco 49ers Offense Rushing Yards/Game Minimum:\", min_value)\n",
    "print(\"San Francisco 49ers Offense Rushing Yards/Game Maximum:\", max_value)\n",
    "print(\"San Francisco 49ers Offense Rushing Yards/Game Rushing YardsRange:\", data_range)\n",
    "print(\"San Francisco 49ers Total Rushing Yards/Game 2012-2022:\", total_points)"
   ]
  },
  {
   "cell_type": "markdown",
   "id": "aba944f4",
   "metadata": {},
   "source": [
    "### Tampa Bay Buccaneers"
   ]
  },
  {
   "cell_type": "code",
   "execution_count": 36,
   "id": "02b9d21b",
   "metadata": {},
   "outputs": [
    {
     "name": "stdout",
     "output_type": "stream",
     "text": [
      "Tampa Bay Buccaneers Offense Rushing Yards/Game Mean: 98.55454545454546\n",
      "Tampa Bay Buccaneers Offense Rushing Yards/Game Median: 95.1\n",
      "Tampa Bay Buccaneers Offense Rushing Yards/Game Standard Deviation: 15.464240274670049\n",
      "Tampa Bay Buccaneers Offense Rushing Yards/Game Variance: 239.1427272727272\n",
      "Tampa Bay Buccaneers Offense Rushing Yards/Game Minimum: 76.9\n",
      "Tampa Bay Buccaneers Offense Rushing Yards/Game Maximum: 135.1\n",
      "Tampa Bay Buccaneers Offense Rushing Yards/Game Range: 58.19999999999999\n",
      "Tampa Bay Buccaneers Total Rushing Yards/Game 2012-2022: 1084.1\n"
     ]
    }
   ],
   "source": [
    "team_name29 = 'Tampa Bay Buccaneers'\n",
    "buccaneers_data = nflrush[nflrush['Team'] == team_name29]\n",
    "mean_value = buccaneers_data['Off RYds/G'].mean()\n",
    "median_value = buccaneers_data['Off RYds/G'].median()\n",
    "std_value = buccaneers_data['Off RYds/G'].std()\n",
    "var_value = buccaneers_data['Off RYds/G'].var()\n",
    "min_value = buccaneers_data['Off RYds/G'].min()\n",
    "max_value = buccaneers_data['Off RYds/G'].max()\n",
    "data_range = max_value - min_value\n",
    "total_points = buccaneers_data['Off RYds/G'].sum()\n",
    "print(\"Tampa Bay Buccaneers Offense Rushing Yards/Game Mean:\", mean_value)\n",
    "print(\"Tampa Bay Buccaneers Offense Rushing Yards/Game Median:\", median_value)\n",
    "print(\"Tampa Bay Buccaneers Offense Rushing Yards/Game Standard Deviation:\", std_value)\n",
    "print(\"Tampa Bay Buccaneers Offense Rushing Yards/Game Variance:\", var_value)\n",
    "print(\"Tampa Bay Buccaneers Offense Rushing Yards/Game Minimum:\", min_value)\n",
    "print(\"Tampa Bay Buccaneers Offense Rushing Yards/Game Maximum:\", max_value)\n",
    "print(\"Tampa Bay Buccaneers Offense Rushing Yards/Game Range:\", data_range)\n",
    "print(\"Tampa Bay Buccaneers Total Rushing Yards/Game 2012-2022:\", total_points)"
   ]
  },
  {
   "cell_type": "markdown",
   "id": "60e92cf1",
   "metadata": {},
   "source": [
    "### Tennessee Titans"
   ]
  },
  {
   "cell_type": "code",
   "execution_count": 37,
   "id": "243fe545",
   "metadata": {},
   "outputs": [
    {
     "name": "stdout",
     "output_type": "stream",
     "text": [
      "Tennessee Titans Offense Rushing Yards/Game Mean: 122.42727272727275\n",
      "Tennessee Titans Offense Rushing Yards/Game Median: 118.4\n",
      "Tennessee Titans Offense Rushing Yards/Game Standard Deviation: 22.939184419202476\n",
      "Tennessee Titans Offense Rushing Yards/Game Variance: 526.2061818181817\n",
      "Tennessee Titans Offense Rushing Yards/Game Minimum: 90.4\n",
      "Tennessee Titans Offense Rushing Yards/Game Maximum: 168.1\n",
      "Tennessee Titans Offense Rushing Yards/Game Range: 77.69999999999999\n",
      "Tennessee Titans Total Rushing Yards/Game 2012-2022: 1346.7\n"
     ]
    }
   ],
   "source": [
    "team_name30 = 'Tennessee Titans'\n",
    "titans_data = nflrush[nflrush['Team'] == team_name30]\n",
    "mean_value = titans_data['Off RYds/G'].mean()\n",
    "median_value = titans_data['Off RYds/G'].median()\n",
    "std_value = titans_data['Off RYds/G'].std()\n",
    "var_value = titans_data['Off RYds/G'].var()\n",
    "min_value = titans_data['Off RYds/G'].min()\n",
    "max_value = titans_data['Off RYds/G'].max()\n",
    "data_range = max_value - min_value\n",
    "total_points = titans_data['Off RYds/G'].sum()\n",
    "print(\"Tennessee Titans Offense Rushing Yards/Game Mean:\", mean_value)\n",
    "print(\"Tennessee Titans Offense Rushing Yards/Game Median:\", median_value)\n",
    "print(\"Tennessee Titans Offense Rushing Yards/Game Standard Deviation:\", std_value)\n",
    "print(\"Tennessee Titans Offense Rushing Yards/Game Variance:\", var_value)\n",
    "print(\"Tennessee Titans Offense Rushing Yards/Game Minimum:\", min_value)\n",
    "print(\"Tennessee Titans Offense Rushing Yards/Game Maximum:\", max_value)\n",
    "print(\"Tennessee Titans Offense Rushing Yards/Game Range:\", data_range)\n",
    "print(\"Tennessee Titans Total Rushing Yards/Game 2012-2022:\", total_points)"
   ]
  },
  {
   "cell_type": "markdown",
   "id": "bbac7211",
   "metadata": {},
   "source": [
    "### Washington Commanders"
   ]
  },
  {
   "cell_type": "code",
   "execution_count": 38,
   "id": "f1804580",
   "metadata": {},
   "outputs": [
    {
     "name": "stdout",
     "output_type": "stream",
     "text": [
      "Washington Commanders Offense Rushing Yards/Game Mean: 112.9090909090909\n",
      "Washington Commanders Offense Rushing Yards/Game Median: 105.7\n",
      "Washington Commanders Offense Rushing Yards/Game Standard Deviation: 23.65203815934071\n",
      "Washington Commanders Offense Rushing Yards/Game Variance: 559.4189090909091\n",
      "Washington Commanders Offense Rushing Yards/Game Minimum: 90.5\n",
      "Washington Commanders Offense Rushing Yards/Game Points Maximum: 169.3\n",
      "Washington Commanders Offense Rushing Yards/Game Range: 78.80000000000001\n",
      "Washington Commanders Total Rushing Yards/Game 2012-2022: 1242.0\n"
     ]
    }
   ],
   "source": [
    "team_name31 = 'Washington Commanders'\n",
    "commanders_data = nflrush[nflrush['Team'] == team_name31]\n",
    "mean_value = commanders_data['Off RYds/G'].mean()\n",
    "median_value = commanders_data['Off RYds/G'].median()\n",
    "std_value = commanders_data['Off RYds/G'].std()\n",
    "var_value = commanders_data['Off RYds/G'].var()\n",
    "min_value = commanders_data['Off RYds/G'].min()\n",
    "max_value = commanders_data['Off RYds/G'].max()\n",
    "total_points = commanders_data['Off RYds/G'].sum()\n",
    "data_range = max_value - min_value\n",
    "print(\"Washington Commanders Offense Rushing Yards/Game Mean:\", mean_value)\n",
    "print(\"Washington Commanders Offense Rushing Yards/Game Median:\", median_value)\n",
    "print(\"Washington Commanders Offense Rushing Yards/Game Standard Deviation:\", std_value)\n",
    "print(\"Washington Commanders Offense Rushing Yards/Game Variance:\", var_value)\n",
    "print(\"Washington Commanders Offense Rushing Yards/Game Minimum:\", min_value)\n",
    "print(\"Washington Commanders Offense Rushing Yards/Game Points Maximum:\", max_value)\n",
    "print(\"Washington Commanders Offense Rushing Yards/Game Range:\", data_range)\n",
    "print(\"Washington Commanders Total Rushing Yards/Game 2012-2022:\", total_points)"
   ]
  },
  {
   "cell_type": "code",
   "execution_count": null,
   "id": "7b7cd9c1",
   "metadata": {},
   "outputs": [],
   "source": []
  }
 ],
 "metadata": {
  "kernelspec": {
   "display_name": "Python 3 (ipykernel)",
   "language": "python",
   "name": "python3"
  },
  "language_info": {
   "codemirror_mode": {
    "name": "ipython",
    "version": 3
   },
   "file_extension": ".py",
   "mimetype": "text/x-python",
   "name": "python",
   "nbconvert_exporter": "python",
   "pygments_lexer": "ipython3",
   "version": "3.9.12"
  }
 },
 "nbformat": 4,
 "nbformat_minor": 5
}

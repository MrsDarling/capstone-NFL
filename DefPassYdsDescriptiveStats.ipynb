{
 "cells": [
  {
   "cell_type": "markdown",
   "id": "ca763d8d",
   "metadata": {},
   "source": [
    "# Descriptive Statistics for Defense Passing Yards for Each Team\n",
    "#### Defense Passing Yards = The number of passing yards allowed by the defense side of each team"
   ]
  },
  {
   "cell_type": "markdown",
   "id": "649ef116",
   "metadata": {},
   "source": [
    "#### Import Packages"
   ]
  },
  {
   "cell_type": "code",
   "execution_count": 1,
   "id": "b23f9d8d",
   "metadata": {},
   "outputs": [],
   "source": [
    "import pandas as pd\n",
    "import numpy as np\n",
    "from scipy.stats import norm\n",
    "from scipy import stats"
   ]
  },
  {
   "cell_type": "markdown",
   "id": "b0be25b3",
   "metadata": {},
   "source": [
    "#### Import NFL Dataset 2012-2022"
   ]
  },
  {
   "cell_type": "code",
   "execution_count": 2,
   "id": "33f5a7e5",
   "metadata": {},
   "outputs": [
    {
     "data": {
      "text/html": [
       "<div>\n",
       "<style scoped>\n",
       "    .dataframe tbody tr th:only-of-type {\n",
       "        vertical-align: middle;\n",
       "    }\n",
       "\n",
       "    .dataframe tbody tr th {\n",
       "        vertical-align: top;\n",
       "    }\n",
       "\n",
       "    .dataframe thead th {\n",
       "        text-align: right;\n",
       "    }\n",
       "</style>\n",
       "<table border=\"1\" class=\"dataframe\">\n",
       "  <thead>\n",
       "    <tr style=\"text-align: right;\">\n",
       "      <th></th>\n",
       "      <th>Team</th>\n",
       "      <th>Off Tot/Pts</th>\n",
       "      <th>Off Pts/G</th>\n",
       "      <th>Off RushYds</th>\n",
       "      <th>Off RYds/G</th>\n",
       "      <th>Off PassYds</th>\n",
       "      <th>Off PYds/G</th>\n",
       "      <th>Off TotYds</th>\n",
       "      <th>Off Yds/G</th>\n",
       "      <th>Def Tot/Pts</th>\n",
       "      <th>...</th>\n",
       "      <th>Def PassYds</th>\n",
       "      <th>Def PYds/G</th>\n",
       "      <th>Def TotYds</th>\n",
       "      <th>Def Yds/G</th>\n",
       "      <th>Year</th>\n",
       "      <th>Wins</th>\n",
       "      <th>Losses</th>\n",
       "      <th>Tie</th>\n",
       "      <th>Superbowl</th>\n",
       "      <th>SB Win</th>\n",
       "    </tr>\n",
       "  </thead>\n",
       "  <tbody>\n",
       "    <tr>\n",
       "      <th>0</th>\n",
       "      <td>Arizona Cardinals</td>\n",
       "      <td>250</td>\n",
       "      <td>15.6</td>\n",
       "      <td>1204</td>\n",
       "      <td>75.2</td>\n",
       "      <td>3005</td>\n",
       "      <td>187.8</td>\n",
       "      <td>4209</td>\n",
       "      <td>263.1</td>\n",
       "      <td>357</td>\n",
       "      <td>...</td>\n",
       "      <td>3213</td>\n",
       "      <td>200.8</td>\n",
       "      <td>5405</td>\n",
       "      <td>337.8</td>\n",
       "      <td>2012</td>\n",
       "      <td>5</td>\n",
       "      <td>11</td>\n",
       "      <td>0.0</td>\n",
       "      <td>No</td>\n",
       "      <td>No</td>\n",
       "    </tr>\n",
       "    <tr>\n",
       "      <th>1</th>\n",
       "      <td>Atlanta Falcons</td>\n",
       "      <td>419</td>\n",
       "      <td>26.2</td>\n",
       "      <td>1397</td>\n",
       "      <td>87.3</td>\n",
       "      <td>4509</td>\n",
       "      <td>281.8</td>\n",
       "      <td>5906</td>\n",
       "      <td>369.1</td>\n",
       "      <td>299</td>\n",
       "      <td>...</td>\n",
       "      <td>3878</td>\n",
       "      <td>242.4</td>\n",
       "      <td>5849</td>\n",
       "      <td>365.6</td>\n",
       "      <td>2012</td>\n",
       "      <td>13</td>\n",
       "      <td>3</td>\n",
       "      <td>0.0</td>\n",
       "      <td>No</td>\n",
       "      <td>No</td>\n",
       "    </tr>\n",
       "    <tr>\n",
       "      <th>2</th>\n",
       "      <td>Baltimore Ravens</td>\n",
       "      <td>398</td>\n",
       "      <td>24.9</td>\n",
       "      <td>1901</td>\n",
       "      <td>118.8</td>\n",
       "      <td>3739</td>\n",
       "      <td>233.7</td>\n",
       "      <td>5640</td>\n",
       "      <td>352.5</td>\n",
       "      <td>344</td>\n",
       "      <td>...</td>\n",
       "      <td>3650</td>\n",
       "      <td>228.1</td>\n",
       "      <td>5615</td>\n",
       "      <td>350.9</td>\n",
       "      <td>2012</td>\n",
       "      <td>10</td>\n",
       "      <td>6</td>\n",
       "      <td>0.0</td>\n",
       "      <td>Yes</td>\n",
       "      <td>Yes</td>\n",
       "    </tr>\n",
       "    <tr>\n",
       "      <th>3</th>\n",
       "      <td>Buffalo Bills</td>\n",
       "      <td>344</td>\n",
       "      <td>21.5</td>\n",
       "      <td>2217</td>\n",
       "      <td>138.6</td>\n",
       "      <td>3269</td>\n",
       "      <td>204.3</td>\n",
       "      <td>5486</td>\n",
       "      <td>342.9</td>\n",
       "      <td>435</td>\n",
       "      <td>...</td>\n",
       "      <td>3473</td>\n",
       "      <td>217.1</td>\n",
       "      <td>5806</td>\n",
       "      <td>362.9</td>\n",
       "      <td>2012</td>\n",
       "      <td>6</td>\n",
       "      <td>10</td>\n",
       "      <td>0.0</td>\n",
       "      <td>No</td>\n",
       "      <td>No</td>\n",
       "    </tr>\n",
       "    <tr>\n",
       "      <th>4</th>\n",
       "      <td>Carolina Panthers</td>\n",
       "      <td>357</td>\n",
       "      <td>22.3</td>\n",
       "      <td>2088</td>\n",
       "      <td>130.5</td>\n",
       "      <td>3683</td>\n",
       "      <td>230.2</td>\n",
       "      <td>5771</td>\n",
       "      <td>360.7</td>\n",
       "      <td>363</td>\n",
       "      <td>...</td>\n",
       "      <td>3568</td>\n",
       "      <td>223.0</td>\n",
       "      <td>5329</td>\n",
       "      <td>333.1</td>\n",
       "      <td>2012</td>\n",
       "      <td>7</td>\n",
       "      <td>9</td>\n",
       "      <td>0.0</td>\n",
       "      <td>No</td>\n",
       "      <td>No</td>\n",
       "    </tr>\n",
       "  </tbody>\n",
       "</table>\n",
       "<p>5 rows × 23 columns</p>\n",
       "</div>"
      ],
      "text/plain": [
       "                Team  Off Tot/Pts  Off Pts/G  Off RushYds  Off RYds/G  \\\n",
       "0  Arizona Cardinals          250       15.6         1204        75.2   \n",
       "1    Atlanta Falcons          419       26.2         1397        87.3   \n",
       "2   Baltimore Ravens          398       24.9         1901       118.8   \n",
       "3      Buffalo Bills          344       21.5         2217       138.6   \n",
       "4  Carolina Panthers          357       22.3         2088       130.5   \n",
       "\n",
       "   Off PassYds  Off PYds/G  Off TotYds  Off Yds/G  Def Tot/Pts  ...  \\\n",
       "0         3005       187.8        4209      263.1          357  ...   \n",
       "1         4509       281.8        5906      369.1          299  ...   \n",
       "2         3739       233.7        5640      352.5          344  ...   \n",
       "3         3269       204.3        5486      342.9          435  ...   \n",
       "4         3683       230.2        5771      360.7          363  ...   \n",
       "\n",
       "   Def PassYds  Def PYds/G  Def TotYds  Def Yds/G  Year  Wins  Losses  Tie  \\\n",
       "0         3213       200.8        5405      337.8  2012     5      11  0.0   \n",
       "1         3878       242.4        5849      365.6  2012    13       3  0.0   \n",
       "2         3650       228.1        5615      350.9  2012    10       6  0.0   \n",
       "3         3473       217.1        5806      362.9  2012     6      10  0.0   \n",
       "4         3568       223.0        5329      333.1  2012     7       9  0.0   \n",
       "\n",
       "   Superbowl  SB Win  \n",
       "0         No      No  \n",
       "1         No      No  \n",
       "2        Yes     Yes  \n",
       "3         No      No  \n",
       "4         No      No  \n",
       "\n",
       "[5 rows x 23 columns]"
      ]
     },
     "execution_count": 2,
     "metadata": {},
     "output_type": "execute_result"
    }
   ],
   "source": [
    "nfldefpass = pd.read_csv('/Users/admin/Desktop/Final_Project/NFL_merged/nfl2012_2022merge.csv')\n",
    "nfldefpass.head()"
   ]
  },
  {
   "cell_type": "markdown",
   "id": "784b34d0",
   "metadata": {},
   "source": [
    "## Calculating Descriptive Statistics by Team\n",
    "#### First filter the data by a single team - I will use the Seattle Seahawks, my favorite team, to start."
   ]
  },
  {
   "cell_type": "code",
   "execution_count": 3,
   "id": "69c58961",
   "metadata": {},
   "outputs": [
    {
     "name": "stdout",
     "output_type": "stream",
     "text": [
      "Year: 2012 \tDefense Passing Yards: 3250\n",
      "Year: 2013 \tDefense Passing Yards: 2752\n",
      "Year: 2014 \tDefense Passing Yards: 2970\n",
      "Year: 2015 \tDefense Passing Yards: 3364\n",
      "Year: 2016 \tDefense Passing Yards: 3612\n",
      "Year: 2017 \tDefense Passing Yards: 3347\n",
      "Year: 2018 \tDefense Passing Yards: 3842\n",
      "Year: 2019 \tDefense Passing Yards: 4223\n",
      "Year: 2020 \tDefense Passing Yards: 4560\n",
      "Year: 2021 \tDefense Passing Yards: 4513\n",
      "Year: 2022 \tDefense Passing Yards: 3595\n"
     ]
    }
   ],
   "source": [
    "team_name = 'Seattle Seahawks'\n",
    "seahawks_data = nfldefpass[nfldefpass['Team'] == team_name]\n",
    "\n",
    "#### Display defense passing yards allowed by year for the Seahawks\n",
    "\n",
    "for year in seahawks_data['Year'].unique():\n",
    "    def_pass_yards = seahawks_data.loc[seahawks_data['Year'] == year, 'Def PassYds'].values[0]\n",
    "    print(\"Year:\", year, \"\\tDefense Passing Yards:\", def_pass_yards)"
   ]
  },
  {
   "cell_type": "markdown",
   "id": "0c3ba5fa",
   "metadata": {},
   "source": [
    "#### What is the mean Defense passing yards allowed for the Seahawks over all years?"
   ]
  },
  {
   "cell_type": "code",
   "execution_count": 4,
   "id": "24c6cbe1",
   "metadata": {},
   "outputs": [
    {
     "name": "stdout",
     "output_type": "stream",
     "text": [
      "3638.909090909091\n"
     ]
    }
   ],
   "source": [
    "avg_pass_yards = seahawks_data['Def PassYds'].mean()\n",
    "print(avg_pass_yards)"
   ]
  },
  {
   "cell_type": "markdown",
   "id": "5b3748d2",
   "metadata": {},
   "source": [
    "#### Let's calculate several descriptive statistics on Defense Passing Yards for the Seahawks"
   ]
  },
  {
   "cell_type": "code",
   "execution_count": 5,
   "id": "d26edc74",
   "metadata": {},
   "outputs": [
    {
     "name": "stdout",
     "output_type": "stream",
     "text": [
      "Seattle Seahawks Defense Passing Yards Mean: 3638.909090909091\n",
      "Seattle Seahawks Defense Passing Yards Median: 3595.0\n",
      "Seattle Seahawks Defense Passing Yards Standard Deviation: 595.2803464831431\n",
      "Seattle Seahawks Defense Passing Yards Variance: 354358.6909090909\n",
      "Seattle Seahawks Defense Passing Yards Minimum: 2752\n",
      "Seattle Seahawks Defense Passing Yards Maximum: 4560\n",
      "Seattle Seahawks Defense Passing Yards Range: 1808\n",
      "Seattle Seahawks Defense Total Passing Yards 2012-2022: 40028\n"
     ]
    }
   ],
   "source": [
    "mean_value = seahawks_data['Def PassYds'].mean()\n",
    "median_value = seahawks_data['Def PassYds'].median()\n",
    "std_value = seahawks_data['Def PassYds'].std()\n",
    "var_value = seahawks_data['Def PassYds'].var()\n",
    "min_value = seahawks_data['Def PassYds'].min()\n",
    "max_value = seahawks_data['Def PassYds'].max()\n",
    "data_range = max_value - min_value\n",
    "total_points = seahawks_data['Def PassYds'].sum()\n",
    "print(\"Seattle Seahawks Defense Passing Yards Mean:\", mean_value)\n",
    "print(\"Seattle Seahawks Defense Passing Yards Median:\", median_value)\n",
    "print(\"Seattle Seahawks Defense Passing Yards Standard Deviation:\", std_value)\n",
    "print(\"Seattle Seahawks Defense Passing Yards Variance:\", var_value)\n",
    "print(\"Seattle Seahawks Defense Passing Yards Minimum:\", min_value)\n",
    "print(\"Seattle Seahawks Defense Passing Yards Maximum:\", max_value)\n",
    "print(\"Seattle Seahawks Defense Passing Yards Range:\", data_range)\n",
    "print(\"Seattle Seahawks Defense Total Passing Yards 2012-2022:\", total_points)"
   ]
  },
  {
   "cell_type": "markdown",
   "id": "e69f7a6a",
   "metadata": {},
   "source": [
    "#### Calculating all Teams Defense Passing Yards allowed per year"
   ]
  },
  {
   "cell_type": "code",
   "execution_count": 6,
   "id": "dbe5c0fa",
   "metadata": {},
   "outputs": [
    {
     "name": "stdout",
     "output_type": "stream",
     "text": [
      "Team: Arizona Cardinals \tYear: 2012 \tDefense Passing Yards: 3213\n",
      "Team: Arizona Cardinals \tYear: 2013 \tDefense Passing Yards: 3728\n",
      "Team: Arizona Cardinals \tYear: 2014 \tDefense Passing Yards: 4152\n",
      "Team: Arizona Cardinals \tYear: 2015 \tDefense Passing Yards: 3687\n",
      "Team: Arizona Cardinals \tYear: 2016 \tDefense Passing Yards: 3365\n",
      "Team: Arizona Cardinals \tYear: 2017 \tDefense Passing Yards: 3541\n",
      "Team: Arizona Cardinals \tYear: 2018 \tDefense Passing Yards: 3262\n",
      "Team: Arizona Cardinals \tYear: 2019 \tDefense Passing Yards: 4510\n",
      "Team: Arizona Cardinals \tYear: 2020 \tDefense Passing Yards: 3623\n",
      "Team: Arizona Cardinals \tYear: 2021 \tDefense Passing Yards: 3645\n",
      "Team: Arizona Cardinals \tYear: 2022 \tDefense Passing Yards: 3915\n",
      "Team: Atlanta Falcons \tYear: 2012 \tDefense Passing Yards: 3878\n",
      "Team: Atlanta Falcons \tYear: 2013 \tDefense Passing Yards: 3897\n",
      "Team: Atlanta Falcons \tYear: 2014 \tDefense Passing Yards: 4478\n",
      "Team: Atlanta Falcons \tYear: 2015 \tDefense Passing Yards: 3882\n",
      "Team: Atlanta Falcons \tYear: 2016 \tDefense Passing Yards: 4267\n",
      "Team: Atlanta Falcons \tYear: 2017 \tDefense Passing Yards: 3429\n",
      "Team: Atlanta Falcons \tYear: 2018 \tDefense Passing Yards: 4153\n",
      "Team: Atlanta Falcons \tYear: 2019 \tDefense Passing Yards: 3918\n",
      "Team: Atlanta Falcons \tYear: 2020 \tDefense Passing Yards: 4697\n",
      "Team: Atlanta Falcons \tYear: 2021 \tDefense Passing Yards: 3952\n",
      "Team: Atlanta Falcons \tYear: 2022 \tDefense Passing Yards: 3942\n",
      "Team: Baltimore Ravens \tYear: 2012 \tDefense Passing Yards: 3650\n",
      "Team: Baltimore Ravens \tYear: 2013 \tDefense Passing Yards: 3681\n",
      "Team: Baltimore Ravens \tYear: 2014 \tDefense Passing Yards: 3979\n",
      "Team: Baltimore Ravens \tYear: 2015 \tDefense Passing Yards: 3737\n",
      "Team: Baltimore Ravens \tYear: 2016 \tDefense Passing Yards: 3724\n",
      "Team: Baltimore Ravens \tYear: 2017 \tDefense Passing Yards: 3421\n",
      "Team: Baltimore Ravens \tYear: 2018 \tDefense Passing Yards: 3360\n",
      "Team: Baltimore Ravens \tYear: 2019 \tDefense Passing Yards: 3315\n",
      "Team: Baltimore Ravens \tYear: 2020 \tDefense Passing Yards: 3536\n",
      "Team: Baltimore Ravens \tYear: 2021 \tDefense Passing Yards: 4742\n",
      "Team: Baltimore Ravens \tYear: 2022 \tDefense Passing Yards: 3947\n",
      "Team: Buffalo Bills \tYear: 2012 \tDefense Passing Yards: 3473\n",
      "Team: Buffalo Bills \tYear: 2013 \tDefense Passing Yards: 3271\n",
      "Team: Buffalo Bills \tYear: 2014 \tDefense Passing Yards: 3292\n",
      "Team: Buffalo Bills \tYear: 2015 \tDefense Passing Yards: 3972\n",
      "Team: Buffalo Bills \tYear: 2016 \tDefense Passing Yards: 3582\n",
      "Team: Buffalo Bills \tYear: 2017 \tDefense Passing Yards: 3688\n",
      "Team: Buffalo Bills \tYear: 2018 \tDefense Passing Yards: 2867\n",
      "Team: Buffalo Bills \tYear: 2019 \tDefense Passing Yards: 3123\n",
      "Team: Buffalo Bills \tYear: 2020 \tDefense Passing Yards: 3726\n",
      "Team: Buffalo Bills \tYear: 2021 \tDefense Passing Yards: 2771\n",
      "Team: Buffalo Bills \tYear: 2022 \tDefense Passing Yards: 3433\n",
      "Team: Carolina Panthers \tYear: 2012 \tDefense Passing Yards: 3568\n",
      "Team: Carolina Panthers \tYear: 2013 \tDefense Passing Yards: 3429\n",
      "Team: Carolina Panthers \tYear: 2014 \tDefense Passing Yards: 3645\n",
      "Team: Carolina Panthers \tYear: 2015 \tDefense Passing Yards: 3752\n",
      "Team: Carolina Panthers \tYear: 2016 \tDefense Passing Yards: 4291\n",
      "Team: Carolina Panthers \tYear: 2017 \tDefense Passing Yards: 3665\n",
      "Team: Carolina Panthers \tYear: 2018 \tDefense Passing Yards: 3847\n",
      "Team: Carolina Panthers \tYear: 2019 \tDefense Passing Yards: 3696\n",
      "Team: Carolina Panthers \tYear: 2020 \tDefense Passing Yards: 3825\n",
      "Team: Carolina Panthers \tYear: 2021 \tDefense Passing Yards: 3266\n",
      "Team: Carolina Panthers \tYear: 2022 \tDefense Passing Yards: 3868\n",
      "Team: Chicago Bears \tYear: 2012 \tDefense Passing Yards: 3423\n",
      "Team: Chicago Bears \tYear: 2013 \tDefense Passing Yards: 3730\n",
      "Team: Chicago Bears \tYear: 2014 \tDefense Passing Yards: 4230\n",
      "Team: Chicago Bears \tYear: 2015 \tDefense Passing Yards: 3593\n",
      "Team: Chicago Bears \tYear: 2016 \tDefense Passing Yards: 3598\n",
      "Team: Chicago Bears \tYear: 2017 \tDefense Passing Yards: 3376\n",
      "Team: Chicago Bears \tYear: 2018 \tDefense Passing Yards: 3515\n",
      "Team: Chicago Bears \tYear: 2019 \tDefense Passing Yards: 3554\n",
      "Team: Chicago Bears \tYear: 2020 \tDefense Passing Yards: 3705\n",
      "Team: Chicago Bears \tYear: 2021 \tDefense Passing Yards: 3257\n",
      "Team: Chicago Bears \tYear: 2022 \tDefense Passing Yards: 3716\n",
      "Team: Cincinnati Bengals \tYear: 2012 \tDefense Passing Yards: 3400\n",
      "Team: Cincinnati Bengals \tYear: 2013 \tDefense Passing Yards: 3344\n",
      "Team: Cincinnati Bengals \tYear: 2014 \tDefense Passing Yards: 3888\n",
      "Team: Cincinnati Bengals \tYear: 2015 \tDefense Passing Yards: 3976\n",
      "Team: Cincinnati Bengals \tYear: 2016 \tDefense Passing Yards: 3800\n",
      "Team: Cincinnati Bengals \tYear: 2017 \tDefense Passing Yards: 3379\n",
      "Team: Cincinnati Bengals \tYear: 2018 \tDefense Passing Yards: 4414\n",
      "Team: Cincinnati Bengals \tYear: 2019 \tDefense Passing Yards: 3917\n",
      "Team: Cincinnati Bengals \tYear: 2020 \tDefense Passing Yards: 3859\n",
      "Team: Cincinnati Bengals \tYear: 2021 \tDefense Passing Yards: 4222\n",
      "Team: Cincinnati Bengals \tYear: 2022 \tDefense Passing Yards: 3665\n",
      "Team: Cleveland Browns \tYear: 2012 \tDefense Passing Yards: 3923\n",
      "Team: Cleveland Browns \tYear: 2013 \tDefense Passing Yards: 3538\n",
      "Team: Cleveland Browns \tYear: 2014 \tDefense Passing Yards: 3592\n",
      "Team: Cleveland Browns \tYear: 2015 \tDefense Passing Yards: 4012\n",
      "Team: Cleveland Browns \tYear: 2016 \tDefense Passing Yards: 3996\n",
      "Team: Cleveland Browns \tYear: 2017 \tDefense Passing Yards: 3684\n",
      "Team: Cleveland Browns \tYear: 2018 \tDefense Passing Yards: 4125\n",
      "Team: Cleveland Browns \tYear: 2019 \tDefense Passing Yards: 3470\n",
      "Team: Cleveland Browns \tYear: 2020 \tDefense Passing Yards: 3962\n",
      "Team: Cleveland Browns \tYear: 2021 \tDefense Passing Yards: 3439\n",
      "Team: Cleveland Browns \tYear: 2022 \tDefense Passing Yards: 3336\n",
      "Team: Dallas Cowboys \tYear: 2012 \tDefense Passing Yards: 3684\n",
      "Team: Dallas Cowboys \tYear: 2013 \tDefense Passing Yards: 4589\n",
      "Team: Dallas Cowboys \tYear: 2014 \tDefense Passing Yards: 4031\n",
      "Team: Dallas Cowboys \tYear: 2015 \tDefense Passing Yards: 3632\n",
      "Team: Dallas Cowboys \tYear: 2016 \tDefense Passing Yards: 4167\n",
      "Team: Dallas Cowboys \tYear: 2017 \tDefense Passing Yards: 3425\n",
      "Team: Dallas Cowboys \tYear: 2018 \tDefense Passing Yards: 3755\n",
      "Team: Dallas Cowboys \tYear: 2019 \tDefense Passing Yards: 3576\n",
      "Team: Dallas Cowboys \tYear: 2020 \tDefense Passing Yards: 3642\n",
      "Team: Dallas Cowboys \tYear: 2021 \tDefense Passing Yards: 4049\n",
      "Team: Dallas Cowboys \tYear: 2022 \tDefense Passing Yards: 3415\n",
      "Team: Denver Broncos \tYear: 2012 \tDefense Passing Yards: 3194\n",
      "Team: Denver Broncos \tYear: 2013 \tDefense Passing Yards: 4070\n",
      "Team: Denver Broncos \tYear: 2014 \tDefense Passing Yards: 3607\n",
      "Team: Denver Broncos \tYear: 2015 \tDefense Passing Yards: 3193\n",
      "Team: Denver Broncos \tYear: 2016 \tDefense Passing Yards: 2972\n",
      "Team: Denver Broncos \tYear: 2017 \tDefense Passing Yards: 3210\n",
      "Team: Denver Broncos \tYear: 2018 \tDefense Passing Yards: 3929\n",
      "Team: Denver Broncos \tYear: 2019 \tDefense Passing Yards: 3609\n",
      "Team: Denver Broncos \tYear: 2020 \tDefense Passing Yards: 3807\n",
      "Team: Denver Broncos \tYear: 2021 \tDefense Passing Yards: 3652\n",
      "Team: Denver Broncos \tYear: 2022 \tDefense Passing Yards: 3574\n",
      "Team: Detroit Lions \tYear: 2012 \tDefense Passing Yards: 3569\n",
      "Team: Detroit Lions \tYear: 2013 \tDefense Passing Yards: 3950\n",
      "Team: Detroit Lions \tYear: 2014 \tDefense Passing Yards: 3706\n",
      "Team: Detroit Lions \tYear: 2015 \tDefense Passing Yards: 3786\n",
      "Team: Detroit Lions \tYear: 2016 \tDefense Passing Yards: 3975\n",
      "Team: Detroit Lions \tYear: 2017 \tDefense Passing Yards: 3892\n",
      "Team: Detroit Lions \tYear: 2018 \tDefense Passing Yards: 3599\n",
      "Team: Detroit Lions \tYear: 2019 \tDefense Passing Yards: 4551\n",
      "Team: Detroit Lions \tYear: 2020 \tDefense Passing Yards: 4558\n",
      "Team: Detroit Lions \tYear: 2021 \tDefense Passing Yards: 4160\n",
      "Team: Detroit Lions \tYear: 2022 \tDefense Passing Yards: 4179\n",
      "Team: Green Bay Packers \tYear: 2012 \tDefense Passing Yards: 3492\n",
      "Team: Green Bay Packers \tYear: 2013 \tDefense Passing Yards: 3956\n",
      "Team: Green Bay Packers \tYear: 2014 \tDefense Passing Yards: 3623\n",
      "Team: Green Bay Packers \tYear: 2015 \tDefense Passing Yards: 3642\n",
      "Team: Green Bay Packers \tYear: 2016 \tDefense Passing Yards: 4308\n",
      "Team: Green Bay Packers \tYear: 2017 \tDefense Passing Yards: 3789\n",
      "Team: Green Bay Packers \tYear: 2018 \tDefense Passing Yards: 3752\n",
      "Team: Green Bay Packers \tYear: 2019 \tDefense Passing Yards: 3721\n",
      "Team: Green Bay Packers \tYear: 2020 \tDefense Passing Yards: 3539\n",
      "Team: Green Bay Packers \tYear: 2021 \tDefense Passing Yards: 3724\n",
      "Team: Green Bay Packers \tYear: 2022 \tDefense Passing Yards: 3349\n",
      "Team: Houston Texans \tYear: 2012 \tDefense Passing Yards: 3612\n",
      "Team: Houston Texans \tYear: 2013 \tDefense Passing Yards: 3123\n",
      "Team: Houston Texans \tYear: 2014 \tDefense Passing Yards: 3890\n",
      "Team: Houston Texans \tYear: 2015 \tDefense Passing Yards: 3366\n",
      "Team: Houston Texans \tYear: 2016 \tDefense Passing Yards: 3226\n",
      "Team: Houston Texans \tYear: 2017 \tDefense Passing Yards: 3799\n",
      "Team: Houston Texans \tYear: 2018 \tDefense Passing Yards: 4167\n",
      "Team: Houston Texans \tYear: 2019 \tDefense Passing Yards: 4276\n",
      "Team: Houston Texans \tYear: 2020 \tDefense Passing Yards: 4104\n",
      "Team: Houston Texans \tYear: 2021 \tDefense Passing Yards: 4117\n",
      "Team: Houston Texans \tYear: 2022 \tDefense Passing Yards: 3558\n",
      "Team: Indianapolis Colts \tYear: 2012 \tDefense Passing Yards: 3788\n",
      "Team: Indianapolis Colts \tYear: 2013 \tDefense Passing Yards: 3711\n",
      "Team: Indianapolis Colts \tYear: 2014 \tDefense Passing Yards: 3669\n",
      "Team: Indianapolis Colts \tYear: 2015 \tDefense Passing Yards: 4114\n",
      "Team: Indianapolis Colts \tYear: 2016 \tDefense Passing Yards: 4200\n",
      "Team: Indianapolis Colts \tYear: 2017 \tDefense Passing Yards: 3946\n",
      "Team: Indianapolis Colts \tYear: 2018 \tDefense Passing Yards: 3805\n",
      "Team: Indianapolis Colts \tYear: 2019 \tDefense Passing Yards: 3982\n",
      "Team: Indianapolis Colts \tYear: 2020 \tDefense Passing Yards: 3866\n",
      "Team: Indianapolis Colts \tYear: 2021 \tDefense Passing Yards: 3980\n",
      "Team: Indianapolis Colts \tYear: 2022 \tDefense Passing Yards: 3569\n",
      "Team: Jacksonville Jaguars \tYear: 2012 \tDefense Passing Yards: 3832\n",
      "Team: Jacksonville Jaguars \tYear: 2013 \tDefense Passing Yards: 3962\n",
      "Team: Jacksonville Jaguars \tYear: 2014 \tDefense Passing Yards: 3899\n",
      "Team: Jacksonville Jaguars \tYear: 2015 \tDefense Passing Yards: 4291\n",
      "Team: Jacksonville Jaguars \tYear: 2016 \tDefense Passing Yards: 3444\n",
      "Team: Jacksonville Jaguars \tYear: 2017 \tDefense Passing Yards: 2718\n",
      "Team: Jacksonville Jaguars \tYear: 2018 \tDefense Passing Yards: 3113\n",
      "Team: Jacksonville Jaguars \tYear: 2019 \tDefense Passing Yards: 3778\n",
      "Team: Jacksonville Jaguars \tYear: 2020 \tDefense Passing Yards: 4231\n",
      "Team: Jacksonville Jaguars \tYear: 2021 \tDefense Passing Yards: 3875\n",
      "Team: Jacksonville Jaguars \tYear: 2022 \tDefense Passing Yards: 4055\n",
      "Team: Kansas City Chiefs \tYear: 2012 \tDefense Passing Yards: 3533\n",
      "Team: Kansas City Chiefs \tYear: 2013 \tDefense Passing Yards: 3962\n",
      "Team: Kansas City Chiefs \tYear: 2014 \tDefense Passing Yards: 3252\n",
      "Team: Kansas City Chiefs \tYear: 2015 \tDefense Passing Yards: 3698\n",
      "Team: Kansas City Chiefs \tYear: 2016 \tDefense Passing Yards: 3958\n",
      "Team: Kansas City Chiefs \tYear: 2017 \tDefense Passing Yards: 3952\n",
      "Team: Kansas City Chiefs \tYear: 2018 \tDefense Passing Yards: 4374\n",
      "Team: Kansas City Chiefs \tYear: 2019 \tDefense Passing Yards: 3543\n",
      "Team: Kansas City Chiefs \tYear: 2020 \tDefense Passing Yards: 3779\n",
      "Team: Kansas City Chiefs \tYear: 2021 \tDefense Passing Yards: 4273\n",
      "Team: Kansas City Chiefs \tYear: 2022 \tDefense Passing Yards: 3756\n",
      "Team: Las Vegas Raiders \tYear: 2012 \tDefense Passing Yards: 3775\n",
      "Team: Las Vegas Raiders \tYear: 2013 \tDefense Passing Yards: 4092\n",
      "Team: Las Vegas Raiders \tYear: 2014 \tDefense Passing Yards: 3810\n",
      "Team: Las Vegas Raiders \tYear: 2015 \tDefense Passing Yards: 4140\n",
      "Team: Las Vegas Raiders \tYear: 2016 \tDefense Passing Yards: 4120\n",
      "Team: Las Vegas Raiders \tYear: 2017 \tDefense Passing Yards: 3858\n",
      "Team: Las Vegas Raiders \tYear: 2018 \tDefense Passing Yards: 3853\n",
      "Team: Las Vegas Raiders \tYear: 2019 \tDefense Passing Yards: 4107\n",
      "Team: Las Vegas Raiders \tYear: 2020 \tDefense Passing Yards: 4212\n",
      "Team: Las Vegas Raiders \tYear: 2021 \tDefense Passing Yards: 3789\n",
      "Team: Las Vegas Raiders \tYear: 2022 \tDefense Passing Yards: 4129\n",
      "Team: Los Angeles Chargers \tYear: 2012 \tDefense Passing Yards: 3681\n",
      "Team: Los Angeles Chargers \tYear: 2013 \tDefense Passing Yards: 4139\n",
      "Team: Los Angeles Chargers \tYear: 2014 \tDefense Passing Yards: 3427\n",
      "Team: Los Angeles Chargers \tYear: 2015 \tDefense Passing Yards: 3786\n",
      "Team: Los Angeles Chargers \tYear: 2016 \tDefense Passing Yards: 3987\n",
      "Team: Los Angeles Chargers \tYear: 2017 \tDefense Passing Yards: 3156\n",
      "Team: Los Angeles Chargers \tYear: 2018 \tDefense Passing Yards: 3646\n",
      "Team: Los Angeles Chargers \tYear: 2019 \tDefense Passing Yards: 3204\n",
      "Team: Los Angeles Chargers \tYear: 2020 \tDefense Passing Yards: 3578\n",
      "Team: Los Angeles Chargers \tYear: 2021 \tDefense Passing Yards: 3761\n",
      "Team: Los Angeles Chargers \tYear: 2022 \tDefense Passing Yards: 3406\n",
      "Team: Los Angeles Rams \tYear: 2012 \tDefense Passing Yards: 3602\n",
      "Team: Los Angeles Rams \tYear: 2013 \tDefense Passing Yards: 3874\n",
      "Team: Los Angeles Rams \tYear: 2014 \tDefense Passing Yards: 3861\n",
      "Team: Los Angeles Rams \tYear: 2015 \tDefense Passing Yards: 4065\n",
      "Team: Los Angeles Rams \tYear: 2016 \tDefense Passing Yards: 3732\n",
      "Team: Los Angeles Rams \tYear: 2017 \tDefense Passing Yards: 3475\n",
      "Team: Los Angeles Rams \tYear: 2018 \tDefense Passing Yards: 3780\n",
      "Team: Los Angeles Rams \tYear: 2019 \tDefense Passing Yards: 3625\n",
      "Team: Los Angeles Rams \tYear: 2020 \tDefense Passing Yards: 3051\n",
      "Team: Los Angeles Rams \tYear: 2021 \tDefense Passing Yards: 4109\n",
      "Team: Los Angeles Rams \tYear: 2022 \tDefense Passing Yards: 3842\n",
      "Team: Miami Dolphins \tYear: 2012 \tDefense Passing Yards: 3974\n",
      "Team: Miami Dolphins \tYear: 2013 \tDefense Passing Yards: 3752\n",
      "Team: Miami Dolphins \tYear: 2014 \tDefense Passing Yards: 3557\n",
      "Team: Miami Dolphins \tYear: 2015 \tDefense Passing Yards: 4000\n",
      "Team: Miami Dolphins \tYear: 2016 \tDefense Passing Yards: 3875\n",
      "Team: Miami Dolphins \tYear: 2017 \tDefense Passing Yards: 3603\n",
      "Team: Miami Dolphins \tYear: 2018 \tDefense Passing Yards: 3932\n",
      "Team: Miami Dolphins \tYear: 2019 \tDefense Passing Yards: 4198\n",
      "Team: Miami Dolphins \tYear: 2020 \tDefense Passing Yards: 4024\n",
      "Team: Miami Dolphins \tYear: 2021 \tDefense Passing Yards: 3871\n",
      "Team: Miami Dolphins \tYear: 2022 \tDefense Passing Yards: 3992\n",
      "Team: Minnesota Vikings \tYear: 2012 \tDefense Passing Yards: 3908\n",
      "Team: Minnesota Vikings \tYear: 2013 \tDefense Passing Yards: 4595\n",
      "Team: Minnesota Vikings \tYear: 2014 \tDefense Passing Yards: 3572\n",
      "Team: Minnesota Vikings \tYear: 2015 \tDefense Passing Yards: 3759\n",
      "Team: Minnesota Vikings \tYear: 2016 \tDefense Passing Yards: 3327\n",
      "Team: Minnesota Vikings \tYear: 2017 \tDefense Passing Yards: 3078\n",
      "Team: Minnesota Vikings \tYear: 2018 \tDefense Passing Yards: 3140\n",
      "Team: Minnesota Vikings \tYear: 2019 \tDefense Passing Yards: 3737\n",
      "Team: Minnesota Vikings \tYear: 2020 \tDefense Passing Yards: 4141\n",
      "Team: Minnesota Vikings \tYear: 2021 \tDefense Passing Yards: 4300\n",
      "Team: Minnesota Vikings \tYear: 2022 \tDefense Passing Yards: 4515\n",
      "Team: New England Patriots \tYear: 2012 \tDefense Passing Yards: 4342\n",
      "Team: New England Patriots \tYear: 2013 \tDefense Passing Yards: 3824\n",
      "Team: New England Patriots \tYear: 2014 \tDefense Passing Yards: 3837\n",
      "Team: New England Patriots \tYear: 2015 \tDefense Passing Yards: 3851\n",
      "Team: New England Patriots \tYear: 2016 \tDefense Passing Yards: 3806\n",
      "Team: New England Patriots \tYear: 2017 \tDefense Passing Yards: 4020\n",
      "Team: New England Patriots \tYear: 2018 \tDefense Passing Yards: 3943\n",
      "Team: New England Patriots \tYear: 2019 \tDefense Passing Yards: 2886\n",
      "Team: New England Patriots \tYear: 2020 \tDefense Passing Yards: 3557\n",
      "Team: New England Patriots \tYear: 2021 \tDefense Passing Yards: 3181\n",
      "Team: New England Patriots \tYear: 2022 \tDefense Passing Yards: 3681\n",
      "Team: New Orleans Saints \tYear: 2012 \tDefense Passing Yards: 4681\n",
      "Team: New Orleans Saints \tYear: 2013 \tDefense Passing Yards: 3105\n",
      "Team: New Orleans Saints \tYear: 2014 \tDefense Passing Yards: 4019\n",
      "Team: New Orleans Saints \tYear: 2015 \tDefense Passing Yards: 4544\n",
      "Team: New Orleans Saints \tYear: 2016 \tDefense Passing Yards: 4380\n",
      "Team: New Orleans Saints \tYear: 2017 \tDefense Passing Yards: 3597\n",
      "Team: New Orleans Saints \tYear: 2019 \tDefense Passing Yards: 3868\n",
      "Team: New Orleans Saints \tYear: 2020 \tDefense Passing Yards: 3472\n",
      "Team: New Orleans Saints \tYear: 2021 \tDefense Passing Yards: 3821\n",
      "Team: New Orleans Saints \tYear: 2022 \tDefense Passing Yards: 3134\n",
      "Team: New York Giants \tYear: 2012 \tDefense Passing Yards: 4068\n",
      "Team: New York Giants \tYear: 2013 \tDefense Passing Yards: 3573\n",
      "Team: New York Giants \tYear: 2014 \tDefense Passing Yards: 3850\n",
      "Team: New York Giants \tYear: 2015 \tDefense Passing Yards: 4783\n",
      "Team: New York Giants \tYear: 2016 \tDefense Passing Yards: 4018\n",
      "Team: New York Giants \tYear: 2017 \tDefense Passing Yards: 4038\n",
      "Team: New York Giants \tYear: 2018 \tDefense Passing Yards: 4044\n",
      "Team: New York Giants \tYear: 2019 \tDefense Passing Yards: 4225\n",
      "Team: New York Giants \tYear: 2020 \tDefense Passing Yards: 3807\n",
      "Team: New York Giants \tYear: 2021 \tDefense Passing Yards: 3839\n",
      "Team: New York Giants \tYear: 2022 \tDefense Passing Yards: 3638\n",
      "Team: New York Jets \tYear: 2012 \tDefense Passing Yards: 3036\n",
      "Team: New York Jets \tYear: 2013 \tDefense Passing Yards: 3947\n",
      "Team: New York Jets \tYear: 2014 \tDefense Passing Yards: 3746\n",
      "Team: New York Jets \tYear: 2015 \tDefense Passing Yards: 3763\n",
      "Team: New York Jets \tYear: 2016 \tDefense Passing Yards: 3898\n",
      "Team: New York Jets \tYear: 2017 \tDefense Passing Yards: 3749\n",
      "Team: New York Jets \tYear: 2018 \tDefense Passing Yards: 4065\n",
      "Team: New York Jets \tYear: 2019 \tDefense Passing Yards: 3779\n",
      "Team: New York Jets \tYear: 2020 \tDefense Passing Yards: 4409\n",
      "Team: New York Jets \tYear: 2021 \tDefense Passing Yards: 4409\n",
      "Team: New York Jets \tYear: 2022 \tDefense Passing Yards: 3220\n",
      "Team: Philadelphia Eagles \tYear: 2012 \tDefense Passing Yards: 3470\n",
      "Team: Philadelphia Eagles \tYear: 2013 \tDefense Passing Yards: 4636\n",
      "Team: Philadelphia Eagles \tYear: 2014 \tDefense Passing Yards: 4238\n",
      "Team: Philadelphia Eagles \tYear: 2015 \tDefense Passing Yards: 4273\n",
      "Team: Philadelphia Eagles \tYear: 2016 \tDefense Passing Yards: 3832\n",
      "Team: Philadelphia Eagles \tYear: 2017 \tDefense Passing Yards: 3637\n",
      "Team: Philadelphia Eagles \tYear: 2018 \tDefense Passing Yards: 4308\n",
      "Team: Philadelphia Eagles \tYear: 2019 \tDefense Passing Yards: 3865\n",
      "Team: Philadelphia Eagles \tYear: 2020 \tDefense Passing Yards: 3798\n",
      "Team: Philadelphia Eagles \tYear: 2021 \tDefense Passing Yards: 3756\n",
      "Team: Philadelphia Eagles \tYear: 2022 \tDefense Passing Yards: 3057\n",
      "Team: Pittsburgh Steelers \tYear: 2012 \tDefense Passing Yards: 2963\n",
      "Team: Pittsburgh Steelers \tYear: 2013 \tDefense Passing Yards: 3553\n",
      "Team: Pittsburgh Steelers \tYear: 2014 \tDefense Passing Yards: 4049\n",
      "Team: Pittsburgh Steelers \tYear: 2015 \tDefense Passing Yards: 4350\n",
      "Team: Pittsburgh Steelers \tYear: 2016 \tDefense Passing Yards: 3882\n",
      "Team: Pittsburgh Steelers \tYear: 2017 \tDefense Passing Yards: 3217\n",
      "Team: Pittsburgh Steelers \tYear: 2018 \tDefense Passing Yards: 3697\n",
      "Team: Pittsburgh Steelers \tYear: 2019 \tDefense Passing Yards: 3113\n",
      "Team: Pittsburgh Steelers \tYear: 2020 \tDefense Passing Yards: 3110\n",
      "Team: Pittsburgh Steelers \tYear: 2021 \tDefense Passing Yards: 3656\n",
      "Team: Pittsburgh Steelers \tYear: 2022 \tDefense Passing Yards: 3779\n",
      "Team: San Francisco 49ers \tYear: 2012 \tDefense Passing Yards: 3203\n",
      "Team: San Francisco 49ers \tYear: 2013 \tDefense Passing Yards: 3536\n",
      "Team: San Francisco 49ers \tYear: 2014 \tDefense Passing Yards: 3531\n",
      "Team: San Francisco 49ers \tYear: 2015 \tDefense Passing Yards: 4179\n",
      "Team: San Francisco 49ers \tYear: 2016 \tDefense Passing Yards: 3848\n",
      "Team: San Francisco 49ers \tYear: 2017 \tDefense Passing Yards: 3764\n",
      "Team: San Francisco 49ers \tYear: 2018 \tDefense Passing Yards: 3732\n",
      "Team: San Francisco 49ers \tYear: 2019 \tDefense Passing Yards: 2707\n",
      "Team: San Francisco 49ers \tYear: 2020 \tDefense Passing Yards: 3327\n",
      "Team: San Francisco 49ers \tYear: 2021 \tDefense Passing Yards: 3510\n",
      "Team: San Francisco 49ers \tYear: 2022 \tDefense Passing Yards: 3789\n",
      "Team: Seattle Seahawks \tYear: 2012 \tDefense Passing Yards: 3250\n",
      "Team: Seattle Seahawks \tYear: 2013 \tDefense Passing Yards: 2752\n",
      "Team: Seattle Seahawks \tYear: 2014 \tDefense Passing Yards: 2970\n",
      "Team: Seattle Seahawks \tYear: 2015 \tDefense Passing Yards: 3364\n",
      "Team: Seattle Seahawks \tYear: 2016 \tDefense Passing Yards: 3612\n",
      "Team: Seattle Seahawks \tYear: 2017 \tDefense Passing Yards: 3347\n",
      "Team: Seattle Seahawks \tYear: 2018 \tDefense Passing Yards: 3842\n",
      "Team: Seattle Seahawks \tYear: 2019 \tDefense Passing Yards: 4223\n",
      "Team: Seattle Seahawks \tYear: 2020 \tDefense Passing Yards: 4560\n",
      "Team: Seattle Seahawks \tYear: 2021 \tDefense Passing Yards: 4513\n",
      "Team: Seattle Seahawks \tYear: 2022 \tDefense Passing Yards: 3595\n",
      "Team: Tampa Bay Buccaneers \tYear: 2012 \tDefense Passing Yards: 4758\n",
      "Team: Tampa Bay Buccaneers \tYear: 2013 \tDefense Passing Yards: 3806\n",
      "Team: Tampa Bay Buccaneers \tYear: 2014 \tDefense Passing Yards: 4084\n",
      "Team: Tampa Bay Buccaneers \tYear: 2015 \tDefense Passing Yards: 3840\n",
      "Team: Tampa Bay Buccaneers \tYear: 2016 \tDefense Passing Yards: 4012\n",
      "Team: Tampa Bay Buccaneers \tYear: 2017 \tDefense Passing Yards: 4169\n",
      "Team: Tampa Bay Buccaneers \tYear: 2018 \tDefense Passing Yards: 4151\n",
      "Team: Tampa Bay Buccaneers \tYear: 2019 \tDefense Passing Yards: 4322\n",
      "Team: Tampa Bay Buccaneers \tYear: 2020 \tDefense Passing Yards: 3945\n",
      "Team: Tampa Bay Buccaneers \tYear: 2021 \tDefense Passing Yards: 4062\n",
      "Team: Tampa Bay Buccaneers \tYear: 2022 \tDefense Passing Yards: 3461\n",
      "Team: Tennessee Titans \tYear: 2012 \tDefense Passing Yards: 3964\n",
      "Team: Tennessee Titans \tYear: 2013 \tDefense Passing Yards: 3612\n",
      "Team: Tennessee Titans \tYear: 2014 \tDefense Passing Yards: 3773\n",
      "Team: Tennessee Titans \tYear: 2015 \tDefense Passing Yards: 3678\n",
      "Team: Tennessee Titans \tYear: 2016 \tDefense Passing Yards: 4307\n",
      "Team: Tennessee Titans \tYear: 2017 \tDefense Passing Yards: 3828\n",
      "Team: Tennessee Titans \tYear: 2018 \tDefense Passing Yards: 3471\n",
      "Team: Tennessee Titans \tYear: 2019 \tDefense Passing Yards: 4080\n",
      "Team: Tennessee Titans \tYear: 2020 \tDefense Passing Yards: 4439\n",
      "Team: Tennessee Titans \tYear: 2021 \tDefense Passing Yards: 4169\n",
      "Team: Tennessee Titans \tYear: 2022 \tDefense Passing Yards: 4671\n",
      "Team: Washington Commanders \tYear: 2012 \tDefense Passing Yards: 4511\n",
      "Team: Washington Commanders \tYear: 2013 \tDefense Passing Yards: 3896\n",
      "Team: Washington Commanders \tYear: 2014 \tDefense Passing Yards: 3990\n",
      "Team: Washington Commanders \tYear: 2015 \tDefense Passing Yards: 4128\n",
      "Team: Washington Commanders \tYear: 2016 \tDefense Passing Yards: 4130\n",
      "Team: Washington Commanders \tYear: 2017 \tDefense Passing Yards: 3420\n",
      "Team: Washington Commanders \tYear: 2018 \tDefense Passing Yards: 3794\n",
      "Team: Washington Commanders \tYear: 2019 \tDefense Passing Yards: 3823\n",
      "Team: Washington Commanders \tYear: 2020 \tDefense Passing Yards: 3068\n",
      "Team: Washington Commanders \tYear: 2021 \tDefense Passing Yards: 4333\n",
      "Team: Washington Commanders \tYear: 2022 \tDefense Passing Yards: 3252\n"
     ]
    }
   ],
   "source": [
    "team_names = nfldefpass['Team'].unique()\n",
    "\n",
    "# Iterate over each team\n",
    "for team_name in team_names:\n",
    "    team_data = nfldefpass[nfldefpass['Team'] == team_name]\n",
    "    \n",
    "    # Display the total Defense passing yards for each year\n",
    "    for year in team_data['Year'].unique():\n",
    "        team_pass_yards = team_data.loc[team_data['Year'] == year, 'Def PassYds'].values[0]\n",
    "        print(\"Team:\", team_name, \"\\tYear:\", year, \"\\tDefense Passing Yards:\", team_pass_yards)"
   ]
  },
  {
   "cell_type": "markdown",
   "id": "b7c99af6",
   "metadata": {},
   "source": [
    "#### Calculate Descriptive Statistics on Defense Passing Yards allowed for all Teams. These statistics are the yards allowed and their mean, median, standard deviation, variance, min, max, range, and sum."
   ]
  },
  {
   "cell_type": "markdown",
   "id": "186c620f",
   "metadata": {},
   "source": [
    "### Arizona Cardinals"
   ]
  },
  {
   "cell_type": "code",
   "execution_count": 7,
   "id": "7444d978",
   "metadata": {},
   "outputs": [
    {
     "name": "stdout",
     "output_type": "stream",
     "text": [
      "Arizona Cardinals Defense Passing Yards Mean: 3694.6363636363635\n",
      "Arizona Cardinals Defense Passing Yards Median: 3645.0\n",
      "Arizona Cardinals Defense Passing Yards Standard Deviation: 385.0634422344642\n",
      "Arizona Cardinals Defense Passing Yards Variance: 148273.85454545455\n",
      "Arizona Cardinals Defense Passing Yards Minimum: 3213\n",
      "Arizona Cardinals Defense Passing Yards Maximum: 4510\n",
      "Arizona Cardinals Defense Passing Yards Range: 1297\n",
      "Arizona Cardinals Defense Total Passing Yards 2012-2022: 40641\n"
     ]
    }
   ],
   "source": [
    "team_name1 = 'Arizona Cardinals'\n",
    "cardinals_data = nfldefpass[nfldefpass['Team'] == team_name1]\n",
    "mean_value = cardinals_data['Def PassYds'].mean()\n",
    "median_value = cardinals_data['Def PassYds'].median()\n",
    "std_value = cardinals_data['Def PassYds'].std()\n",
    "var_value = cardinals_data['Def PassYds'].var()\n",
    "min_value = cardinals_data['Def PassYds'].min()\n",
    "max_value = cardinals_data['Def PassYds'].max()\n",
    "data_range = max_value - min_value\n",
    "total_points = cardinals_data['Def PassYds'].sum()\n",
    "print(\"Arizona Cardinals Defense Passing Yards Mean:\", mean_value)\n",
    "print(\"Arizona Cardinals Defense Passing Yards Median:\", median_value)\n",
    "print(\"Arizona Cardinals Defense Passing Yards Standard Deviation:\", std_value)\n",
    "print(\"Arizona Cardinals Defense Passing Yards Variance:\", var_value)\n",
    "print(\"Arizona Cardinals Defense Passing Yards Minimum:\", min_value)\n",
    "print(\"Arizona Cardinals Defense Passing Yards Maximum:\", max_value)\n",
    "print(\"Arizona Cardinals Defense Passing Yards Range:\", data_range)\n",
    "print(\"Arizona Cardinals Defense Total Passing Yards 2012-2022:\", total_points)"
   ]
  },
  {
   "cell_type": "markdown",
   "id": "9c54bb44",
   "metadata": {},
   "source": [
    "### Atlanta Falcons"
   ]
  },
  {
   "cell_type": "code",
   "execution_count": 8,
   "id": "cf5c0251",
   "metadata": {},
   "outputs": [
    {
     "name": "stdout",
     "output_type": "stream",
     "text": [
      "Atlanta Falcons Defense Passing Yards Mean: 4044.818181818182\n",
      "Atlanta Falcons Defense Passing Yards Median: 3942.0\n",
      "Atlanta Falcons Defense Passing Yards Standard Deviation: 341.2836996347227\n",
      "Atlanta Falcons Defense Passing Yards Variance: 116474.56363636364\n",
      "Atlanta Falcons Defense Passing Yards Minimum: 3429\n",
      "Atlanta Falcons Defense Passing Yards Maximum: 4697\n",
      "Atlanta Falcons Defense Passing Yards Range: 1268\n",
      "Atlanta Falcons Defense Total Passing Yards 2012-2022: 44493\n"
     ]
    }
   ],
   "source": [
    "team_name2 = 'Atlanta Falcons'\n",
    "falcons_data = nfldefpass[nfldefpass['Team'] == team_name2]\n",
    "mean_value = falcons_data['Def PassYds'].mean()\n",
    "median_value = falcons_data['Def PassYds'].median()\n",
    "std_value = falcons_data['Def PassYds'].std()\n",
    "var_value = falcons_data['Def PassYds'].var()\n",
    "min_value = falcons_data['Def PassYds'].min()\n",
    "max_value = falcons_data['Def PassYds'].max()\n",
    "data_range = max_value - min_value\n",
    "total_points = falcons_data['Def PassYds'].sum()\n",
    "print(\"Atlanta Falcons Defense Passing Yards Mean:\", mean_value)\n",
    "print(\"Atlanta Falcons Defense Passing Yards Median:\", median_value)\n",
    "print(\"Atlanta Falcons Defense Passing Yards Standard Deviation:\", std_value)\n",
    "print(\"Atlanta Falcons Defense Passing Yards Variance:\", var_value)\n",
    "print(\"Atlanta Falcons Defense Passing Yards Minimum:\", min_value)\n",
    "print(\"Atlanta Falcons Defense Passing Yards Maximum:\", max_value)\n",
    "print(\"Atlanta Falcons Defense Passing Yards Range:\", data_range)\n",
    "print(\"Atlanta Falcons Defense Total Passing Yards 2012-2022:\", total_points)"
   ]
  },
  {
   "cell_type": "markdown",
   "id": "7f0431cc",
   "metadata": {},
   "source": [
    "### Baltimore Ravens"
   ]
  },
  {
   "cell_type": "code",
   "execution_count": 9,
   "id": "76b5c9c4",
   "metadata": {},
   "outputs": [
    {
     "name": "stdout",
     "output_type": "stream",
     "text": [
      "Baltimore Ravens Defense Passing Yards Mean: 3735.6363636363635\n",
      "Baltimore Ravens Defense Passing Yards Median: 3681.0\n",
      "Baltimore Ravens Defense Passing Yards Standard Deviation: 397.9965509215558\n",
      "Baltimore Ravens Defense Passing Yards Variance: 158401.25454545455\n",
      "Baltimore Ravens Defense Passing Yards Minimum: 3315\n",
      "Baltimore Ravens Defense Passing Yards Maximum: 4742\n",
      "Baltimore Ravens Defense Passing Yards Range: 1427\n",
      "Baltimore Ravens Defense Total Passing Yards 2012-2022: 41092\n"
     ]
    }
   ],
   "source": [
    "team_name3 = 'Baltimore Ravens'\n",
    "ravens_data = nfldefpass[nfldefpass['Team'] == team_name3]\n",
    "mean_value = ravens_data['Def PassYds'].mean()\n",
    "median_value = ravens_data['Def PassYds'].median()\n",
    "std_value = ravens_data['Def PassYds'].std()\n",
    "var_value = ravens_data['Def PassYds'].var()\n",
    "min_value = ravens_data['Def PassYds'].min()\n",
    "max_value = ravens_data['Def PassYds'].max()\n",
    "data_range = max_value - min_value\n",
    "total_points = ravens_data['Def PassYds'].sum()\n",
    "print(\"Baltimore Ravens Defense Passing Yards Mean:\", mean_value)\n",
    "print(\"Baltimore Ravens Defense Passing Yards Median:\", median_value)\n",
    "print(\"Baltimore Ravens Defense Passing Yards Standard Deviation:\", std_value)\n",
    "print(\"Baltimore Ravens Defense Passing Yards Variance:\", var_value)\n",
    "print(\"Baltimore Ravens Defense Passing Yards Minimum:\", min_value)\n",
    "print(\"Baltimore Ravens Defense Passing Yards Maximum:\", max_value)\n",
    "print(\"Baltimore Ravens Defense Passing Yards Range:\", data_range)\n",
    "print(\"Baltimore Ravens Defense Total Passing Yards 2012-2022:\", total_points)"
   ]
  },
  {
   "cell_type": "markdown",
   "id": "95049040",
   "metadata": {},
   "source": [
    "### Buffalo Bills"
   ]
  },
  {
   "cell_type": "code",
   "execution_count": 10,
   "id": "09989626",
   "metadata": {},
   "outputs": [
    {
     "name": "stdout",
     "output_type": "stream",
     "text": [
      "Buffalo Bills Defense Passing Yards Mean: 3381.6363636363635\n",
      "Buffalo Bills Defense Passing Yards Median: 3433.0\n",
      "Buffalo Bills Defense Passing Yards Standard Deviation: 365.6501805625898\n",
      "Buffalo Bills Defense Passing Yards Variance: 133700.05454545454\n",
      "Buffalo Bills Defense Passing Yards Minimum: 2771\n",
      "Buffalo Bills Defense Passing Yards Maximum: 3972\n",
      "Buffalo Bills Defense Passing Yards Range: 1201\n",
      "Buffalo Bills Defense Total Passing Yards 2012-2022: 37198\n"
     ]
    }
   ],
   "source": [
    "team_name4 = 'Buffalo Bills'\n",
    "bills_data = nfldefpass[nfldefpass['Team'] == team_name4]\n",
    "mean_value = bills_data['Def PassYds'].mean()\n",
    "median_value = bills_data['Def PassYds'].median()\n",
    "std_value = bills_data['Def PassYds'].std()\n",
    "var_value = bills_data['Def PassYds'].var()\n",
    "min_value = bills_data['Def PassYds'].min()\n",
    "max_value = bills_data['Def PassYds'].max()\n",
    "data_range = max_value - min_value\n",
    "total_points = bills_data['Def PassYds'].sum()\n",
    "print(\"Buffalo Bills Defense Passing Yards Mean:\", mean_value)\n",
    "print(\"Buffalo Bills Defense Passing Yards Median:\", median_value)\n",
    "print(\"Buffalo Bills Defense Passing Yards Standard Deviation:\", std_value)\n",
    "print(\"Buffalo Bills Defense Passing Yards Variance:\", var_value)\n",
    "print(\"Buffalo Bills Defense Passing Yards Minimum:\", min_value)\n",
    "print(\"Buffalo Bills Defense Passing Yards Maximum:\", max_value)\n",
    "print(\"Buffalo Bills Defense Passing Yards Range:\", data_range)\n",
    "print(\"Buffalo Bills Defense Total Passing Yards 2012-2022:\", total_points)"
   ]
  },
  {
   "cell_type": "markdown",
   "id": "e4ca8cea",
   "metadata": {},
   "source": [
    "### Carolina Panthers"
   ]
  },
  {
   "cell_type": "code",
   "execution_count": 11,
   "id": "086d4169",
   "metadata": {},
   "outputs": [
    {
     "name": "stdout",
     "output_type": "stream",
     "text": [
      "Carolina Panthers Defense Passing Yards Mean: 3713.818181818182\n",
      "Carolina Panthers Defense Passing Yards Median: 3696.0\n",
      "Carolina Panthers Defense Passing Yards Standard Deviation: 264.3538606420637\n",
      "Carolina Panthers Defense Passing Yards Variance: 69882.96363636364\n",
      "Carolina Panthers Defense Passing Yards Minimum: 3266\n",
      "Carolina Panthers Defense Passing Yards Maximum: 4291\n",
      "Carolina Panthers Defense Passing Yards Range: 1025\n",
      "Carolina Panthers Defense Total Passing Yards 2012-2022: 40852\n"
     ]
    }
   ],
   "source": [
    "team_name5 = 'Carolina Panthers'\n",
    "panthers_data = nfldefpass[nfldefpass['Team'] == team_name5]\n",
    "mean_value = panthers_data['Def PassYds'].mean()\n",
    "median_value = panthers_data['Def PassYds'].median()\n",
    "std_value = panthers_data['Def PassYds'].std()\n",
    "var_value = panthers_data['Def PassYds'].var()\n",
    "min_value = panthers_data['Def PassYds'].min()\n",
    "max_value = panthers_data['Def PassYds'].max()\n",
    "data_range = max_value - min_value\n",
    "total_points = panthers_data['Def PassYds'].sum()\n",
    "print(\"Carolina Panthers Defense Passing Yards Mean:\", mean_value)\n",
    "print(\"Carolina Panthers Defense Passing Yards Median:\", median_value)\n",
    "print(\"Carolina Panthers Defense Passing Yards Standard Deviation:\", std_value)\n",
    "print(\"Carolina Panthers Defense Passing Yards Variance:\", var_value)\n",
    "print(\"Carolina Panthers Defense Passing Yards Minimum:\", min_value)\n",
    "print(\"Carolina Panthers Defense Passing Yards Maximum:\", max_value)\n",
    "print(\"Carolina Panthers Defense Passing Yards Range:\", data_range)\n",
    "print(\"Carolina Panthers Defense Total Passing Yards 2012-2022:\", total_points)"
   ]
  },
  {
   "cell_type": "markdown",
   "id": "a8e04f1e",
   "metadata": {},
   "source": [
    "### Chicago Bears"
   ]
  },
  {
   "cell_type": "code",
   "execution_count": 12,
   "id": "95cef721",
   "metadata": {},
   "outputs": [
    {
     "name": "stdout",
     "output_type": "stream",
     "text": [
      "Chicago Bears Defense Passing Yards Mean: 3608.818181818182\n",
      "Chicago Bears Defense Passing Yards Median: 3593.0\n",
      "Chicago Bears Defense Passing Yards Standard Deviation: 254.16011417286472\n",
      "Chicago Bears Defense Passing Yards Variance: 64597.36363636363\n",
      "Chicago Bears Defense Passing Yards Minimum: 3257\n",
      "Chicago Bears Defense Passing Yards Maximum: 4230\n",
      "Chicago Bears Defense Passing Yards Range: 973\n",
      "Chicago Bears Defense Total Passing Yards 2012-2022: 39697\n"
     ]
    }
   ],
   "source": [
    "team_name6 = 'Chicago Bears'\n",
    "bears_data = nfldefpass[nfldefpass['Team'] == team_name6]\n",
    "mean_value = bears_data['Def PassYds'].mean()\n",
    "median_value = bears_data['Def PassYds'].median()\n",
    "std_value = bears_data['Def PassYds'].std()\n",
    "var_value = bears_data['Def PassYds'].var()\n",
    "min_value = bears_data['Def PassYds'].min()\n",
    "max_value = bears_data['Def PassYds'].max()\n",
    "data_range = max_value - min_value\n",
    "total_points = bears_data['Def PassYds'].sum()\n",
    "print(\"Chicago Bears Defense Passing Yards Mean:\", mean_value)\n",
    "print(\"Chicago Bears Defense Passing Yards Median:\", median_value)\n",
    "print(\"Chicago Bears Defense Passing Yards Standard Deviation:\", std_value)\n",
    "print(\"Chicago Bears Defense Passing Yards Variance:\", var_value)\n",
    "print(\"Chicago Bears Defense Passing Yards Minimum:\", min_value)\n",
    "print(\"Chicago Bears Defense Passing Yards Maximum:\", max_value)\n",
    "print(\"Chicago Bears Defense Passing Yards Range:\", data_range)\n",
    "print(\"Chicago Bears Defense Total Passing Yards 2012-2022:\", total_points)"
   ]
  },
  {
   "cell_type": "markdown",
   "id": "c44407e7",
   "metadata": {},
   "source": [
    "### Cincinnati Bengals"
   ]
  },
  {
   "cell_type": "code",
   "execution_count": 13,
   "id": "248b9120",
   "metadata": {},
   "outputs": [
    {
     "name": "stdout",
     "output_type": "stream",
     "text": [
      "Cincinnati Bengals Defense Passing Yards Mean: 3805.818181818182\n",
      "Cincinnati Bengals Defense Passing Yards Median: 3859.0\n",
      "Cincinnati Bengals Defense Passing Yards Standard Deviation: 342.6367809158317\n",
      "Cincinnati Bengals Defense Passing Yards Variance: 117399.96363636365\n",
      "Cincinnati Bengals Defense Passing Yards Minimum: 3344\n",
      "Cincinnati Bengals Defense Passing Yards Maximum: 4414\n",
      "Cincinnati Bengals Defense Passing Yards Range: 1070\n",
      "Cincinnati Bengals Defense Total Passing Yards 2012-2022: 41864\n"
     ]
    }
   ],
   "source": [
    "team_name7 = 'Cincinnati Bengals'\n",
    "bengals_data = nfldefpass[nfldefpass['Team'] == team_name7]\n",
    "mean_value = bengals_data['Def PassYds'].mean()\n",
    "median_value = bengals_data['Def PassYds'].median()\n",
    "std_value = bengals_data['Def PassYds'].std()\n",
    "var_value = bengals_data['Def PassYds'].var()\n",
    "min_value = bengals_data['Def PassYds'].min()\n",
    "max_value = bengals_data['Def PassYds'].max()\n",
    "data_range = max_value - min_value\n",
    "total_points = bengals_data['Def PassYds'].sum()\n",
    "print(\"Cincinnati Bengals Defense Passing Yards Mean:\", mean_value)\n",
    "print(\"Cincinnati Bengals Defense Passing Yards Median:\", median_value)\n",
    "print(\"Cincinnati Bengals Defense Passing Yards Standard Deviation:\", std_value)\n",
    "print(\"Cincinnati Bengals Defense Passing Yards Variance:\", var_value)\n",
    "print(\"Cincinnati Bengals Defense Passing Yards Minimum:\", min_value)\n",
    "print(\"Cincinnati Bengals Defense Passing Yards Maximum:\", max_value)\n",
    "print(\"Cincinnati Bengals Defense Passing Yards Range:\", data_range)\n",
    "print(\"Cincinnati Bengals Defense Total Passing Yards 2012-2022:\", total_points)"
   ]
  },
  {
   "cell_type": "markdown",
   "id": "173eaf2f",
   "metadata": {},
   "source": [
    "### Cleveland Browns"
   ]
  },
  {
   "cell_type": "code",
   "execution_count": 14,
   "id": "e52f3585",
   "metadata": {},
   "outputs": [
    {
     "name": "stdout",
     "output_type": "stream",
     "text": [
      "Cleveland Browns Defense Passing Yards Mean: 3734.2727272727275\n",
      "Cleveland Browns Defense Passing Yards Median: 3684.0\n",
      "Cleveland Browns Defense Passing Yards Standard Deviation: 276.1735291113509\n",
      "Cleveland Browns Defense Passing Yards Variance: 76271.81818181819\n",
      "Cleveland Browns Defense Passing Yards Minimum: 3336\n",
      "Cleveland Browns Defense Passing Yards Maximum: 4125\n",
      "Cleveland Browns Defense Passing Yards Range: 789\n",
      "Cleveland Browns Defense Total Passing Yards 2012-2022: 41077\n"
     ]
    }
   ],
   "source": [
    "team_name8 = 'Cleveland Browns'\n",
    "browns_data = nfldefpass[nfldefpass['Team'] == team_name8]\n",
    "mean_value = browns_data['Def PassYds'].mean()\n",
    "median_value = browns_data['Def PassYds'].median()\n",
    "std_value = browns_data['Def PassYds'].std()\n",
    "var_value = browns_data['Def PassYds'].var()\n",
    "min_value = browns_data['Def PassYds'].min()\n",
    "max_value = browns_data['Def PassYds'].max()\n",
    "data_range = max_value - min_value\n",
    "total_points = browns_data['Def PassYds'].sum()\n",
    "print(\"Cleveland Browns Defense Passing Yards Mean:\", mean_value)\n",
    "print(\"Cleveland Browns Defense Passing Yards Median:\", median_value)\n",
    "print(\"Cleveland Browns Defense Passing Yards Standard Deviation:\", std_value)\n",
    "print(\"Cleveland Browns Defense Passing Yards Variance:\", var_value)\n",
    "print(\"Cleveland Browns Defense Passing Yards Minimum:\", min_value)\n",
    "print(\"Cleveland Browns Defense Passing Yards Maximum:\", max_value)\n",
    "print(\"Cleveland Browns Defense Passing Yards Range:\", data_range)\n",
    "print(\"Cleveland Browns Defense Total Passing Yards 2012-2022:\", total_points)"
   ]
  },
  {
   "cell_type": "markdown",
   "id": "57de92b0",
   "metadata": {},
   "source": [
    "### Dallas Cowboys"
   ]
  },
  {
   "cell_type": "code",
   "execution_count": 15,
   "id": "09b6c943",
   "metadata": {},
   "outputs": [
    {
     "name": "stdout",
     "output_type": "stream",
     "text": [
      "Dallas Cowboys Defense Passing Yards Mean: 3815.0\n",
      "Dallas Cowboys Defense Passing Yards Median: 3684.0\n",
      "Dallas Cowboys Defense Passing Yards Standard Deviation: 357.46216583017565\n",
      "Dallas Cowboys Defense Passing Yards Variance: 127779.2\n",
      "Dallas Cowboys Defense Passing Yards Minimum: 3415\n",
      "Dallas Cowboys Defense Passing Yards Maximum: 4589\n",
      "Dallas Cowboys Defense Passing Yards Range: 1174\n",
      "Dallas Cowboys Defense Total Passing Yards 2012-2022: 41965\n"
     ]
    }
   ],
   "source": [
    "team_name9 = 'Dallas Cowboys'\n",
    "cowboys_data = nfldefpass[nfldefpass['Team'] == team_name9]\n",
    "mean_value = cowboys_data['Def PassYds'].mean()\n",
    "median_value = cowboys_data['Def PassYds'].median()\n",
    "std_value = cowboys_data['Def PassYds'].std()\n",
    "var_value = cowboys_data['Def PassYds'].var()\n",
    "min_value = cowboys_data['Def PassYds'].min()\n",
    "max_value = cowboys_data['Def PassYds'].max()\n",
    "data_range = max_value - min_value\n",
    "total_points = cowboys_data['Def PassYds'].sum()\n",
    "print(\"Dallas Cowboys Defense Passing Yards Mean:\", mean_value)\n",
    "print(\"Dallas Cowboys Defense Passing Yards Median:\", median_value)\n",
    "print(\"Dallas Cowboys Defense Passing Yards Standard Deviation:\", std_value)\n",
    "print(\"Dallas Cowboys Defense Passing Yards Variance:\", var_value)\n",
    "print(\"Dallas Cowboys Defense Passing Yards Minimum:\", min_value)\n",
    "print(\"Dallas Cowboys Defense Passing Yards Maximum:\", max_value)\n",
    "print(\"Dallas Cowboys Defense Passing Yards Range:\", data_range)\n",
    "print(\"Dallas Cowboys Defense Total Passing Yards 2012-2022:\", total_points)"
   ]
  },
  {
   "cell_type": "markdown",
   "id": "ed7577b1",
   "metadata": {},
   "source": [
    "### Denver Broncos"
   ]
  },
  {
   "cell_type": "code",
   "execution_count": 16,
   "id": "5792268c",
   "metadata": {},
   "outputs": [
    {
     "name": "stdout",
     "output_type": "stream",
     "text": [
      "Denver Broncos Defense Passing Yards Mean: 3528.818181818182\n",
      "Denver Broncos Defense Passing Yards Median: 3607.0\n",
      "Denver Broncos Defense Passing Yards Standard Deviation: 345.93838127094773\n",
      "Denver Broncos Defense Passing Yards Variance: 119673.36363636362\n",
      "Denver Broncos Defense Passing Yards Minimum: 2972\n",
      "Denver Broncos Defense Passing Yards Maximum: 4070\n",
      "Denver Broncos Defense Passing Yards Range: 1098\n",
      "Denver Broncos Defense Total Passing Yards 2012-2022: 38817\n"
     ]
    }
   ],
   "source": [
    "team_name10 = 'Denver Broncos'\n",
    "broncos_data = nfldefpass[nfldefpass['Team'] == team_name10]\n",
    "mean_value = broncos_data['Def PassYds'].mean()\n",
    "median_value = broncos_data['Def PassYds'].median()\n",
    "std_value = broncos_data['Def PassYds'].std()\n",
    "var_value = broncos_data['Def PassYds'].var()\n",
    "min_value = broncos_data['Def PassYds'].min()\n",
    "max_value = broncos_data['Def PassYds'].max()\n",
    "data_range = max_value - min_value\n",
    "total_points = broncos_data['Def PassYds'].sum()\n",
    "print(\"Denver Broncos Defense Passing Yards Mean:\", mean_value)\n",
    "print(\"Denver Broncos Defense Passing Yards Median:\", median_value)\n",
    "print(\"Denver Broncos Defense Passing Yards Standard Deviation:\", std_value)\n",
    "print(\"Denver Broncos Defense Passing Yards Variance:\", var_value)\n",
    "print(\"Denver Broncos Defense Passing Yards Minimum:\", min_value)\n",
    "print(\"Denver Broncos Defense Passing Yards Maximum:\", max_value)\n",
    "print(\"Denver Broncos Defense Passing Yards Range:\", data_range)\n",
    "print(\"Denver Broncos Defense Total Passing Yards 2012-2022:\", total_points)"
   ]
  },
  {
   "cell_type": "markdown",
   "id": "ac9a35d8",
   "metadata": {},
   "source": [
    "### Detroit Lions"
   ]
  },
  {
   "cell_type": "code",
   "execution_count": 17,
   "id": "95546a0e",
   "metadata": {},
   "outputs": [
    {
     "name": "stdout",
     "output_type": "stream",
     "text": [
      "Detroit Lions Defense Passing Yards Mean: 3993.181818181818\n",
      "Detroit Lions Defense Passing Yards Median: 3950.0\n",
      "Detroit Lions Defense Passing Yards Standard Deviation: 341.4202156234508\n",
      "Detroit Lions Defense Passing Yards Variance: 116567.76363636364\n",
      "Detroit Lions Defense Passing Yards Minimum: 3569\n",
      "Detroit Lions Defense Passing Yards Maximum: 4558\n",
      "Detroit Lions Defense Passing Yards Range: 989\n",
      "Detroit Lions Defense Total Passing Yards 2012-2022: 43925\n"
     ]
    }
   ],
   "source": [
    "team_name11 = 'Detroit Lions'\n",
    "lions_data = nfldefpass[nfldefpass['Team'] == team_name11]\n",
    "mean_value = lions_data['Def PassYds'].mean()\n",
    "median_value = lions_data['Def PassYds'].median()\n",
    "std_value = lions_data['Def PassYds'].std()\n",
    "var_value = lions_data['Def PassYds'].var()\n",
    "min_value = lions_data['Def PassYds'].min()\n",
    "max_value = lions_data['Def PassYds'].max()\n",
    "data_range = max_value - min_value\n",
    "total_points = lions_data['Def PassYds'].sum()\n",
    "print(\"Detroit Lions Defense Passing Yards Mean:\", mean_value)\n",
    "print(\"Detroit Lions Defense Passing Yards Median:\", median_value)\n",
    "print(\"Detroit Lions Defense Passing Yards Standard Deviation:\", std_value)\n",
    "print(\"Detroit Lions Defense Passing Yards Variance:\", var_value)\n",
    "print(\"Detroit Lions Defense Passing Yards Minimum:\", min_value)\n",
    "print(\"Detroit Lions Defense Passing Yards Maximum:\", max_value)\n",
    "print(\"Detroit Lions Defense Passing Yards Range:\", data_range)\n",
    "print(\"Detroit Lions Defense Total Passing Yards 2012-2022:\", total_points)"
   ]
  },
  {
   "cell_type": "markdown",
   "id": "c086e216",
   "metadata": {},
   "source": [
    "### Green Bay Packers"
   ]
  },
  {
   "cell_type": "code",
   "execution_count": 18,
   "id": "10cc7e0f",
   "metadata": {},
   "outputs": [
    {
     "name": "stdout",
     "output_type": "stream",
     "text": [
      "Green Bay Packers Defense Passing Yards Mean: 3717.7272727272725\n",
      "Green Bay Packers Defense Passing Yards Median: 3721.0\n",
      "Green Bay Packers Defense Passing Yards Standard Deviation: 253.9811374528002\n",
      "Green Bay Packers Defense Passing Yards Variance: 64506.41818181819\n",
      "Green Bay Packers Defense Passing Yards Minimum: 3349\n",
      "Green Bay Packers Defense Passing Yards Maximum: 4308\n",
      "Green Bay Packers Defense Passing Yards Range: 959\n",
      "Green Bay Packers Defense Total Passing Yards 2012-2022: 40895\n"
     ]
    }
   ],
   "source": [
    "team_name12 = 'Green Bay Packers'\n",
    "packers_data = nfldefpass[nfldefpass['Team'] == team_name12]\n",
    "mean_value = packers_data['Def PassYds'].mean()\n",
    "median_value = packers_data['Def PassYds'].median()\n",
    "std_value = packers_data['Def PassYds'].std()\n",
    "var_value = packers_data['Def PassYds'].var()\n",
    "min_value = packers_data['Def PassYds'].min()\n",
    "max_value = packers_data['Def PassYds'].max()\n",
    "data_range = max_value - min_value\n",
    "total_points = packers_data['Def PassYds'].sum()\n",
    "print(\"Green Bay Packers Defense Passing Yards Mean:\", mean_value)\n",
    "print(\"Green Bay Packers Defense Passing Yards Median:\", median_value)\n",
    "print(\"Green Bay Packers Defense Passing Yards Standard Deviation:\", std_value)\n",
    "print(\"Green Bay Packers Defense Passing Yards Variance:\", var_value)\n",
    "print(\"Green Bay Packers Defense Passing Yards Minimum:\", min_value)\n",
    "print(\"Green Bay Packers Defense Passing Yards Maximum:\", max_value)\n",
    "print(\"Green Bay Packers Defense Passing Yards Range:\", data_range)\n",
    "print(\"Green Bay Packers Defense Total Passing Yards 2012-2022:\", total_points)"
   ]
  },
  {
   "cell_type": "markdown",
   "id": "8d26c50c",
   "metadata": {},
   "source": [
    "### Houston Texans"
   ]
  },
  {
   "cell_type": "code",
   "execution_count": 19,
   "id": "495d2c07",
   "metadata": {},
   "outputs": [
    {
     "name": "stdout",
     "output_type": "stream",
     "text": [
      "Houston Texans Defense Passing Yards Mean: 3748.909090909091\n",
      "Houston Texans Defense Passing Yards Median: 3799.0\n",
      "Houston Texans Defense Passing Yards Standard Deviation: 400.4531070039174\n",
      "Houston Texans Defense Passing Yards Variance: 160362.69090909095\n",
      "Houston Texans Defense Passing Yards Minimum: 3123\n",
      "Houston Texans Defense Passing Yards Maximum: 4276\n",
      "Houston Texans Defense Passing Yards Range: 1153\n",
      "Houston Texans Defense Total Passing Yards 2012-2022: 41238\n"
     ]
    }
   ],
   "source": [
    "team_name13 = 'Houston Texans'\n",
    "texans_data = nfldefpass[nfldefpass['Team'] == team_name13]\n",
    "mean_value = texans_data['Def PassYds'].mean()\n",
    "median_value = texans_data['Def PassYds'].median()\n",
    "std_value = texans_data['Def PassYds'].std()\n",
    "var_value = texans_data['Def PassYds'].var()\n",
    "min_value = texans_data['Def PassYds'].min()\n",
    "max_value = texans_data['Def PassYds'].max()\n",
    "data_range = max_value - min_value\n",
    "total_points = texans_data['Def PassYds'].sum()\n",
    "print(\"Houston Texans Defense Passing Yards Mean:\", mean_value)\n",
    "print(\"Houston Texans Defense Passing Yards Median:\", median_value)\n",
    "print(\"Houston Texans Defense Passing Yards Standard Deviation:\", std_value)\n",
    "print(\"Houston Texans Defense Passing Yards Variance:\", var_value)\n",
    "print(\"Houston Texans Defense Passing Yards Minimum:\", min_value)\n",
    "print(\"Houston Texans Defense Passing Yards Maximum:\", max_value)\n",
    "print(\"Houston Texans Defense Passing Yards Range:\", data_range)\n",
    "print(\"Houston Texans Defense Total Passing Yards 2012-2022:\", total_points)"
   ]
  },
  {
   "cell_type": "markdown",
   "id": "b74d8fd8",
   "metadata": {},
   "source": [
    "### Indianapolis Colts"
   ]
  },
  {
   "cell_type": "code",
   "execution_count": 20,
   "id": "fbb59088",
   "metadata": {},
   "outputs": [
    {
     "name": "stdout",
     "output_type": "stream",
     "text": [
      "Indianapolis Colts Defense Passing Yards Mean: 3875.4545454545455\n",
      "Indianapolis Colts Defense Passing Yards Median: 3866.0\n",
      "Indianapolis Colts Defense Passing Yards Standard Deviation: 191.25290253293602\n",
      "Indianapolis Colts Defense Passing Yards Variance: 36577.67272727272\n",
      "Indianapolis Colts Defense Passing Yards Minimum: 3569\n",
      "Indianapolis Colts Defense Passing Yards Maximum: 4200\n",
      "Indianapolis Colts Defense Passing Yards Range: 631\n",
      "Indianapolis Colts Defense Total Passing Yards 2012-2022: 42630\n"
     ]
    }
   ],
   "source": [
    "team_name14 = 'Indianapolis Colts'\n",
    "colts_data = nfldefpass[nfldefpass['Team'] == team_name14]\n",
    "mean_value = colts_data['Def PassYds'].mean()\n",
    "median_value = colts_data['Def PassYds'].median()\n",
    "std_value = colts_data['Def PassYds'].std()\n",
    "var_value = colts_data['Def PassYds'].var()\n",
    "min_value = colts_data['Def PassYds'].min()\n",
    "max_value = colts_data['Def PassYds'].max()\n",
    "data_range = max_value - min_value\n",
    "total_points = colts_data['Def PassYds'].sum()\n",
    "print(\"Indianapolis Colts Defense Passing Yards Mean:\", mean_value)\n",
    "print(\"Indianapolis Colts Defense Passing Yards Median:\", median_value)\n",
    "print(\"Indianapolis Colts Defense Passing Yards Standard Deviation:\", std_value)\n",
    "print(\"Indianapolis Colts Defense Passing Yards Variance:\", var_value)\n",
    "print(\"Indianapolis Colts Defense Passing Yards Minimum:\", min_value)\n",
    "print(\"Indianapolis Colts Defense Passing Yards Maximum:\", max_value)\n",
    "print(\"Indianapolis Colts Defense Passing Yards Range:\", data_range)\n",
    "print(\"Indianapolis Colts Defense Total Passing Yards 2012-2022:\", total_points)"
   ]
  },
  {
   "cell_type": "markdown",
   "id": "e8c6e962",
   "metadata": {},
   "source": [
    "### Jacksonville Jaguars"
   ]
  },
  {
   "cell_type": "code",
   "execution_count": 21,
   "id": "a1e5e5d6",
   "metadata": {},
   "outputs": [
    {
     "name": "stdout",
     "output_type": "stream",
     "text": [
      "Jacksonville Jaguars Defense Passing Yards Mean: 3745.2727272727275\n",
      "Jacksonville Jaguars Defense Passing Yards Median: 3875.0\n",
      "Jacksonville Jaguars Defense Passing Yards Standard Deviation: 476.60551631492706\n",
      "Jacksonville Jaguars Defense Passing Yards Variance: 227152.8181818182\n",
      "Jacksonville Jaguars Defense Passing Yards Minimum: 2718\n",
      "Jacksonville Jaguars Defense Passing Yards Maximum: 4291\n",
      "Jacksonville Jaguars Defense Passing Yards Range: 1573\n",
      "Jacksonville Jaguars Defense Total Passing Yards 2012-2022: 41198\n"
     ]
    }
   ],
   "source": [
    "team_name15 = 'Jacksonville Jaguars'\n",
    "jaguars_data = nfldefpass[nfldefpass['Team'] == team_name15]\n",
    "mean_value = jaguars_data['Def PassYds'].mean()\n",
    "median_value = jaguars_data['Def PassYds'].median()\n",
    "std_value = jaguars_data['Def PassYds'].std()\n",
    "var_value = jaguars_data['Def PassYds'].var()\n",
    "min_value = jaguars_data['Def PassYds'].min()\n",
    "max_value = jaguars_data['Def PassYds'].max()\n",
    "data_range = max_value - min_value\n",
    "total_points = jaguars_data['Def PassYds'].sum()\n",
    "print(\"Jacksonville Jaguars Defense Passing Yards Mean:\", mean_value)\n",
    "print(\"Jacksonville Jaguars Defense Passing Yards Median:\", median_value)\n",
    "print(\"Jacksonville Jaguars Defense Passing Yards Standard Deviation:\", std_value)\n",
    "print(\"Jacksonville Jaguars Defense Passing Yards Variance:\", var_value)\n",
    "print(\"Jacksonville Jaguars Defense Passing Yards Minimum:\", min_value)\n",
    "print(\"Jacksonville Jaguars Defense Passing Yards Maximum:\", max_value)\n",
    "print(\"Jacksonville Jaguars Defense Passing Yards Range:\", data_range)\n",
    "print(\"Jacksonville Jaguars Defense Total Passing Yards 2012-2022:\", total_points)"
   ]
  },
  {
   "cell_type": "markdown",
   "id": "7411a9f5",
   "metadata": {},
   "source": [
    "### Kansas City Chiefs"
   ]
  },
  {
   "cell_type": "code",
   "execution_count": 22,
   "id": "40a3c0eb",
   "metadata": {},
   "outputs": [
    {
     "name": "stdout",
     "output_type": "stream",
     "text": [
      "Kansas City Chiefs Defense Passing Yards Mean: 3825.4545454545455\n",
      "Kansas City Chiefs Defense Passing Yards Median: 3779.0\n",
      "Kansas City Chiefs Defense Passing Yards Standard Deviation: 327.23275008359525\n",
      "Kansas City Chiefs Defense Passing Yards Variance: 107081.2727272727\n",
      "Kansas City Chiefs Defense Passing Yards Minimum: 3252\n",
      "Kansas City Chiefs Defense Passing Yards Maximum: 4374\n",
      "Kansas City Chiefs Defense Passing Yards Range: 1122\n",
      "Kansas City Chiefs Defense Total Passing Yards 2012-2022: 42080\n"
     ]
    }
   ],
   "source": [
    "team_name16 = 'Kansas City Chiefs'\n",
    "chiefs_data = nfldefpass[nfldefpass['Team'] == team_name16]\n",
    "mean_value = chiefs_data['Def PassYds'].mean()\n",
    "median_value = chiefs_data['Def PassYds'].median()\n",
    "std_value = chiefs_data['Def PassYds'].std()\n",
    "var_value = chiefs_data['Def PassYds'].var()\n",
    "min_value = chiefs_data['Def PassYds'].min()\n",
    "max_value = chiefs_data['Def PassYds'].max()\n",
    "data_range = max_value - min_value\n",
    "total_points = chiefs_data['Def PassYds'].sum()\n",
    "print(\"Kansas City Chiefs Defense Passing Yards Mean:\", mean_value)\n",
    "print(\"Kansas City Chiefs Defense Passing Yards Median:\", median_value)\n",
    "print(\"Kansas City Chiefs Defense Passing Yards Standard Deviation:\", std_value)\n",
    "print(\"Kansas City Chiefs Defense Passing Yards Variance:\", var_value)\n",
    "print(\"Kansas City Chiefs Defense Passing Yards Minimum:\", min_value)\n",
    "print(\"Kansas City Chiefs Defense Passing Yards Maximum:\", max_value)\n",
    "print(\"Kansas City Chiefs Defense Passing Yards Range:\", data_range)\n",
    "print(\"Kansas City Chiefs Defense Total Passing Yards 2012-2022:\", total_points)"
   ]
  },
  {
   "cell_type": "markdown",
   "id": "57e2b288",
   "metadata": {},
   "source": [
    "### Las Vegas Raiders"
   ]
  },
  {
   "cell_type": "code",
   "execution_count": 23,
   "id": "660b9495",
   "metadata": {},
   "outputs": [
    {
     "name": "stdout",
     "output_type": "stream",
     "text": [
      "Las Vegas Raiders Defense Passing Yards Mean: 3989.5454545454545\n",
      "Las Vegas Raiders Defense Passing Yards Median: 4092.0\n",
      "Las Vegas Raiders Defense Passing Yards Standard Deviation: 169.50360682673607\n",
      "Las Vegas Raiders Defense Passing Yards Variance: 28731.47272727273\n",
      "Las Vegas Raiders Defense Passing Yards Minimum: 3775\n",
      "Las Vegas Raiders Defense Passing Yards Maximum: 4212\n",
      "Las Vegas Raiders Defense Passing Yards Range: 437\n",
      "Las Vegas Raiders Defense Total Passing Yards 2012-2022: 43885\n"
     ]
    }
   ],
   "source": [
    "team_name17 = 'Las Vegas Raiders'\n",
    "raiders_data = nfldefpass[nfldefpass['Team'] == team_name17]\n",
    "mean_value = raiders_data['Def PassYds'].mean()\n",
    "median_value = raiders_data['Def PassYds'].median()\n",
    "std_value = raiders_data['Def PassYds'].std()\n",
    "var_value = raiders_data['Def PassYds'].var()\n",
    "min_value = raiders_data['Def PassYds'].min()\n",
    "max_value = raiders_data['Def PassYds'].max()\n",
    "data_range = max_value - min_value\n",
    "total_points = raiders_data['Def PassYds'].sum()\n",
    "print(\"Las Vegas Raiders Defense Passing Yards Mean:\", mean_value)\n",
    "print(\"Las Vegas Raiders Defense Passing Yards Median:\", median_value)\n",
    "print(\"Las Vegas Raiders Defense Passing Yards Standard Deviation:\", std_value)\n",
    "print(\"Las Vegas Raiders Defense Passing Yards Variance:\", var_value)\n",
    "print(\"Las Vegas Raiders Defense Passing Yards Minimum:\", min_value)\n",
    "print(\"Las Vegas Raiders Defense Passing Yards Maximum:\", max_value)\n",
    "print(\"Las Vegas Raiders Defense Passing Yards Range:\", data_range)\n",
    "print(\"Las Vegas Raiders Defense Total Passing Yards 2012-2022:\", total_points)"
   ]
  },
  {
   "cell_type": "markdown",
   "id": "d660b9ec",
   "metadata": {},
   "source": [
    "### Los Angeles Chargers"
   ]
  },
  {
   "cell_type": "code",
   "execution_count": 24,
   "id": "9542bf0f",
   "metadata": {},
   "outputs": [
    {
     "name": "stdout",
     "output_type": "stream",
     "text": [
      "Los Angeles Chargers Defense Passing Yards Mean: 3615.5454545454545\n",
      "Los Angeles Chargers Defense Passing Yards Median: 3646.0\n",
      "Los Angeles Chargers Defense Passing Yards Standard Deviation: 304.7665872881618\n",
      "Los Angeles Chargers Defense Passing Yards Variance: 92882.67272727274\n",
      "Los Angeles Chargers Defense Passing Yards Minimum: 3156\n",
      "Los Angeles Chargers Defense Passing Yards Maximum: 4139\n",
      "Los Angeles Chargers Defense Passing Yards Range: 983\n",
      "Los Angeles Chargers Defense Total Passing Yards 2012-2022: 39771\n"
     ]
    }
   ],
   "source": [
    "team_name18 = 'Los Angeles Chargers'\n",
    "chargers_data = nfldefpass[nfldefpass['Team'] == team_name18]\n",
    "mean_value = chargers_data['Def PassYds'].mean()\n",
    "median_value = chargers_data['Def PassYds'].median()\n",
    "std_value = chargers_data['Def PassYds'].std()\n",
    "var_value = chargers_data['Def PassYds'].var()\n",
    "min_value = chargers_data['Def PassYds'].min()\n",
    "max_value = chargers_data['Def PassYds'].max()\n",
    "data_range = max_value - min_value\n",
    "total_points = chargers_data['Def PassYds'].sum()\n",
    "print(\"Los Angeles Chargers Defense Passing Yards Mean:\", mean_value)\n",
    "print(\"Los Angeles Chargers Defense Passing Yards Median:\", median_value)\n",
    "print(\"Los Angeles Chargers Defense Passing Yards Standard Deviation:\", std_value)\n",
    "print(\"Los Angeles Chargers Defense Passing Yards Variance:\", var_value)\n",
    "print(\"Los Angeles Chargers Defense Passing Yards Minimum:\", min_value)\n",
    "print(\"Los Angeles Chargers Defense Passing Yards Maximum:\", max_value)\n",
    "print(\"Los Angeles Chargers Defense Passing Yards Range:\", data_range)\n",
    "print(\"Los Angeles Chargers Defense Total Passing Yards 2012-2022:\", total_points)"
   ]
  },
  {
   "cell_type": "markdown",
   "id": "eec97d47",
   "metadata": {},
   "source": [
    "### Los Angeles Rams"
   ]
  },
  {
   "cell_type": "code",
   "execution_count": 25,
   "id": "52300d2a",
   "metadata": {},
   "outputs": [
    {
     "name": "stdout",
     "output_type": "stream",
     "text": [
      "Los Angeles Rams Defense Passing Yards Mean: 3728.7272727272725\n",
      "Los Angeles Rams Defense Passing Yards Median: 3780.0\n",
      "Los Angeles Rams Defense Passing Yards Standard Deviation: 293.64403311121134\n",
      "Los Angeles Rams Defense Passing Yards Variance: 86226.81818181818\n",
      "Los Angeles Rams Defense Passing Yards Minimum: 3051\n",
      "Los Angeles Rams Defense Passing Yards Maximum: 4109\n",
      "Los Angeles Rams Defense Passing Yards Range: 1058\n",
      "Los Angeles Rams Defense Total Passing Yards 2012-2022: 41016\n"
     ]
    }
   ],
   "source": [
    "team_name19 = 'Los Angeles Rams'\n",
    "Rams_data = nfldefpass[nfldefpass['Team'] == team_name19]\n",
    "mean_value = Rams_data['Def PassYds'].mean()\n",
    "median_value = Rams_data['Def PassYds'].median()\n",
    "std_value = Rams_data['Def PassYds'].std()\n",
    "var_value = Rams_data['Def PassYds'].var()\n",
    "min_value = Rams_data['Def PassYds'].min()\n",
    "max_value = Rams_data['Def PassYds'].max()\n",
    "data_range = max_value - min_value\n",
    "total_points = Rams_data['Def PassYds'].sum()\n",
    "print(\"Los Angeles Rams Defense Passing Yards Mean:\", mean_value)\n",
    "print(\"Los Angeles Rams Defense Passing Yards Median:\", median_value)\n",
    "print(\"Los Angeles Rams Defense Passing Yards Standard Deviation:\", std_value)\n",
    "print(\"Los Angeles Rams Defense Passing Yards Variance:\", var_value)\n",
    "print(\"Los Angeles Rams Defense Passing Yards Minimum:\", min_value)\n",
    "print(\"Los Angeles Rams Defense Passing Yards Maximum:\", max_value)\n",
    "print(\"Los Angeles Rams Defense Passing Yards Range:\", data_range)\n",
    "print(\"Los Angeles Rams Defense Total Passing Yards 2012-2022:\", total_points)"
   ]
  },
  {
   "cell_type": "markdown",
   "id": "07002bc4",
   "metadata": {},
   "source": [
    "### Miami Dolphins"
   ]
  },
  {
   "cell_type": "code",
   "execution_count": 26,
   "id": "fdb4368a",
   "metadata": {},
   "outputs": [
    {
     "name": "stdout",
     "output_type": "stream",
     "text": [
      "Miami Dolphins Defense Passing Yards Mean: 3888.909090909091\n",
      "Miami Dolphins Defense Passing Yards Median: 3932.0\n",
      "Miami Dolphins Defense Passing Yards Standard Deviation: 188.94944008673568\n",
      "Miami Dolphins Defense Passing Yards Variance: 35701.890909090915\n",
      "Miami Dolphins Defense Passing Yards Minimum: 3557\n",
      "Miami Dolphins Defense Passing Yards Maximum: 4198\n",
      "Miami Dolphins Defense Passing Yards Range: 641\n",
      "Miami Dolphins Defense Total Passing Yards 2012-2022: 42778\n"
     ]
    }
   ],
   "source": [
    "team_name20 = 'Miami Dolphins'\n",
    "dolphins_data = nfldefpass[nfldefpass['Team'] == team_name20]\n",
    "mean_value = dolphins_data['Def PassYds'].mean()\n",
    "median_value = dolphins_data['Def PassYds'].median()\n",
    "std_value = dolphins_data['Def PassYds'].std()\n",
    "var_value = dolphins_data['Def PassYds'].var()\n",
    "min_value = dolphins_data['Def PassYds'].min()\n",
    "max_value = dolphins_data['Def PassYds'].max()\n",
    "data_range = max_value - min_value\n",
    "total_points = dolphins_data['Def PassYds'].sum()\n",
    "print(\"Miami Dolphins Defense Passing Yards Mean:\", mean_value)\n",
    "print(\"Miami Dolphins Defense Passing Yards Median:\", median_value)\n",
    "print(\"Miami Dolphins Defense Passing Yards Standard Deviation:\", std_value)\n",
    "print(\"Miami Dolphins Defense Passing Yards Variance:\", var_value)\n",
    "print(\"Miami Dolphins Defense Passing Yards Minimum:\", min_value)\n",
    "print(\"Miami Dolphins Defense Passing Yards Maximum:\", max_value)\n",
    "print(\"Miami Dolphins Defense Passing Yards Range:\", data_range)\n",
    "print(\"Miami Dolphins Defense Total Passing Yards 2012-2022:\", total_points)"
   ]
  },
  {
   "cell_type": "markdown",
   "id": "c06d30e1",
   "metadata": {},
   "source": [
    "### Minnesota Vikings"
   ]
  },
  {
   "cell_type": "code",
   "execution_count": 27,
   "id": "79714a76",
   "metadata": {},
   "outputs": [
    {
     "name": "stdout",
     "output_type": "stream",
     "text": [
      "Minnesota Vikings Defense Passing Yards Mean: 3824.7272727272725\n",
      "Minnesota Vikings Defense Passing Yards Median: 3759.0\n",
      "Minnesota Vikings Defense Passing Yards Standard Deviation: 524.6633379433122\n",
      "Minnesota Vikings Defense Passing Yards Variance: 275271.61818181816\n",
      "Minnesota Vikings Defense Passing Yards Minimum: 3078\n",
      "Minnesota Vikings Defense Passing Yards Maximum: 4595\n",
      "Minnesota Vikings Defense Passing Yards Range: 1517\n",
      "Minnesota Vikings Defense Total Passing Yards 2012-2022: 42072\n"
     ]
    }
   ],
   "source": [
    "team_name21 = 'Minnesota Vikings'\n",
    "vikings_data = nfldefpass[nfldefpass['Team'] == team_name21]\n",
    "mean_value = vikings_data['Def PassYds'].mean()\n",
    "median_value = vikings_data['Def PassYds'].median()\n",
    "std_value = vikings_data['Def PassYds'].std()\n",
    "var_value = vikings_data['Def PassYds'].var()\n",
    "min_value = vikings_data['Def PassYds'].min()\n",
    "max_value = vikings_data['Def PassYds'].max()\n",
    "data_range = max_value - min_value\n",
    "total_points = vikings_data['Def PassYds'].sum()\n",
    "print(\"Minnesota Vikings Defense Passing Yards Mean:\", mean_value)\n",
    "print(\"Minnesota Vikings Defense Passing Yards Median:\", median_value)\n",
    "print(\"Minnesota Vikings Defense Passing Yards Standard Deviation:\", std_value)\n",
    "print(\"Minnesota Vikings Defense Passing Yards Variance:\", var_value)\n",
    "print(\"Minnesota Vikings Defense Passing Yards Minimum:\", min_value)\n",
    "print(\"Minnesota Vikings Defense Passing Yards Maximum:\", max_value)\n",
    "print(\"Minnesota Vikings Defense Passing Yards Range:\", data_range)\n",
    "print(\"Minnesota Vikings Defense Total Passing Yards 2012-2022:\", total_points)"
   ]
  },
  {
   "cell_type": "markdown",
   "id": "34a38cc7",
   "metadata": {},
   "source": [
    "### New England Patriots"
   ]
  },
  {
   "cell_type": "code",
   "execution_count": 28,
   "id": "cf1f9bb3",
   "metadata": {},
   "outputs": [
    {
     "name": "stdout",
     "output_type": "stream",
     "text": [
      "New England Patriots Defense Passing Yards Mean: 3720.7272727272725\n",
      "New England Patriots Defense Passing Yards Median: 3824.0\n",
      "New England Patriots Defense Passing Yards Standard Deviation: 398.727498652674\n",
      "New England Patriots Defense Passing Yards Variance: 158983.61818181816\n",
      "New England Patriots Defense Passing Yards Minimum: 2886\n",
      "New England Patriots Defense Passing Yards Maximum: 4342\n",
      "New England Patriots Defense Passing Yards Range: 1456\n",
      "New England Patriots Defense Total Passing Yards 2012-2022: 40928\n"
     ]
    }
   ],
   "source": [
    "team_name22 = 'New England Patriots'\n",
    "patriots_data = nfldefpass[nfldefpass['Team'] == team_name22]\n",
    "mean_value = patriots_data['Def PassYds'].mean()\n",
    "median_value = patriots_data['Def PassYds'].median()\n",
    "std_value = patriots_data['Def PassYds'].std()\n",
    "var_value = patriots_data['Def PassYds'].var()\n",
    "min_value = patriots_data['Def PassYds'].min()\n",
    "max_value = patriots_data['Def PassYds'].max()\n",
    "data_range = max_value - min_value\n",
    "total_points = patriots_data['Def PassYds'].sum()\n",
    "print(\"New England Patriots Defense Passing Yards Mean:\", mean_value)\n",
    "print(\"New England Patriots Defense Passing Yards Median:\", median_value)\n",
    "print(\"New England Patriots Defense Passing Yards Standard Deviation:\", std_value)\n",
    "print(\"New England Patriots Defense Passing Yards Variance:\", var_value)\n",
    "print(\"New England Patriots Defense Passing Yards Minimum:\", min_value)\n",
    "print(\"New England Patriots Defense Passing Yards Maximum:\", max_value)\n",
    "print(\"New England Patriots Defense Passing Yards Range:\", data_range)\n",
    "print(\"New England Patriots Defense Total Passing Yards 2012-2022:\", total_points)"
   ]
  },
  {
   "cell_type": "markdown",
   "id": "7baeda4c",
   "metadata": {},
   "source": [
    "### New Orleans Saints"
   ]
  },
  {
   "cell_type": "code",
   "execution_count": 29,
   "id": "bf2b0c3c",
   "metadata": {},
   "outputs": [
    {
     "name": "stdout",
     "output_type": "stream",
     "text": [
      "New Orleans Saints Defense Passing Yards Mean: 3862.1\n",
      "New Orleans Saints Defense Passing Yards Median: 3844.5\n",
      "New Orleans Saints Defense Passing Yards Standard Deviation: 553.3667560187066\n",
      "New Orleans Saints Defense Passing Yards Variance: 306214.7666666667\n",
      "New Orleans Saints Defense Passing Yards Minimum: 3105\n",
      "New Orleans Saints Defense Passing Yards Maximum: 4681\n",
      "New Orleans Saints Defense Passing Yards Range: 1576\n",
      "New Orleans Saints Defense Total Passing Yards 2012-2022: 38621\n"
     ]
    }
   ],
   "source": [
    "team_name23 = 'New Orleans Saints'\n",
    "saints_data = nfldefpass[nfldefpass['Team'] == team_name23]\n",
    "mean_value = saints_data['Def PassYds'].mean()\n",
    "median_value = saints_data['Def PassYds'].median()\n",
    "std_value = saints_data['Def PassYds'].std()\n",
    "var_value = saints_data['Def PassYds'].var()\n",
    "min_value = saints_data['Def PassYds'].min()\n",
    "max_value = saints_data['Def PassYds'].max()\n",
    "data_range = max_value - min_value\n",
    "total_points = saints_data['Def PassYds'].sum()\n",
    "print(\"New Orleans Saints Defense Passing Yards Mean:\", mean_value)\n",
    "print(\"New Orleans Saints Defense Passing Yards Median:\", median_value)\n",
    "print(\"New Orleans Saints Defense Passing Yards Standard Deviation:\", std_value)\n",
    "print(\"New Orleans Saints Defense Passing Yards Variance:\", var_value)\n",
    "print(\"New Orleans Saints Defense Passing Yards Minimum:\", min_value)\n",
    "print(\"New Orleans Saints Defense Passing Yards Maximum:\", max_value)\n",
    "print(\"New Orleans Saints Defense Passing Yards Range:\", data_range)\n",
    "print(\"New Orleans Saints Defense Total Passing Yards 2012-2022:\", total_points)"
   ]
  },
  {
   "cell_type": "markdown",
   "id": "11987db6",
   "metadata": {},
   "source": [
    "### New York Giants"
   ]
  },
  {
   "cell_type": "code",
   "execution_count": 30,
   "id": "6cc4fd77",
   "metadata": {},
   "outputs": [
    {
     "name": "stdout",
     "output_type": "stream",
     "text": [
      "New York Giants Defense Passing Yards Mean: 3989.3636363636365\n",
      "New York Giants Defense Passing Yards Median: 4018.0\n",
      "New York Giants Defense Passing Yards Standard Deviation: 327.08417042934764\n",
      "New York Giants Defense Passing Yards Variance: 106984.05454545454\n",
      "New York Giants Defense Passing Yards Minimum: 3573\n",
      "New York Giants Defense Passing Yards Maximum: 4783\n",
      "New York Giants Defense Passing Yards Range: 1210\n",
      "New York Giants Defense Total Passing Yards 2012-2022: 43883\n"
     ]
    }
   ],
   "source": [
    "team_name24 = 'New York Giants'\n",
    "giants_data = nfldefpass[nfldefpass['Team'] == team_name24]\n",
    "mean_value = giants_data['Def PassYds'].mean()\n",
    "median_value = giants_data['Def PassYds'].median()\n",
    "std_value = giants_data['Def PassYds'].std()\n",
    "var_value = giants_data['Def PassYds'].var()\n",
    "min_value = giants_data['Def PassYds'].min()\n",
    "max_value = giants_data['Def PassYds'].max()\n",
    "data_range = max_value - min_value\n",
    "total_points = giants_data['Def PassYds'].sum()\n",
    "print(\"New York Giants Defense Passing Yards Mean:\", mean_value)\n",
    "print(\"New York Giants Defense Passing Yards Median:\", median_value)\n",
    "print(\"New York Giants Defense Passing Yards Standard Deviation:\", std_value)\n",
    "print(\"New York Giants Defense Passing Yards Variance:\", var_value)\n",
    "print(\"New York Giants Defense Passing Yards Minimum:\", min_value)\n",
    "print(\"New York Giants Defense Passing Yards Maximum:\", max_value)\n",
    "print(\"New York Giants Defense Passing Yards Range:\", data_range)\n",
    "print(\"New York Giants Defense Total Passing Yards 2012-2022:\", total_points)"
   ]
  },
  {
   "cell_type": "markdown",
   "id": "e1511664",
   "metadata": {},
   "source": [
    "### New York Jets"
   ]
  },
  {
   "cell_type": "code",
   "execution_count": 31,
   "id": "ad484990",
   "metadata": {},
   "outputs": [
    {
     "name": "stdout",
     "output_type": "stream",
     "text": [
      "New York Jets Defense Passing Yards Mean: 3820.090909090909\n",
      "New York Jets Defense Passing Yards Median: 3779.0\n",
      "New York Jets Defense Passing Yards Standard Deviation: 420.25978978376094\n",
      "New York Jets Defense Passing Yards Variance: 176618.29090909092\n",
      "New York Jets Defense Passing Yards Minimum: 3036\n",
      "New York Jets Defense Passing Yards Maximum: 4409\n",
      "New York Jets Defense Passing Yards Range: 1373\n",
      "New York Jets Defense Total Passing Yards 2012-2022: 42021\n"
     ]
    }
   ],
   "source": [
    "team_name25 = 'New York Jets'\n",
    "Jets_data = nfldefpass[nfldefpass['Team'] == team_name25]\n",
    "mean_value = Jets_data['Def PassYds'].mean()\n",
    "median_value = Jets_data['Def PassYds'].median()\n",
    "std_value = Jets_data['Def PassYds'].std()\n",
    "var_value = Jets_data['Def PassYds'].var()\n",
    "min_value = Jets_data['Def PassYds'].min()\n",
    "max_value = Jets_data['Def PassYds'].max()\n",
    "data_range = max_value - min_value\n",
    "total_points = Jets_data['Def PassYds'].sum()\n",
    "print(\"New York Jets Defense Passing Yards Mean:\", mean_value)\n",
    "print(\"New York Jets Defense Passing Yards Median:\", median_value)\n",
    "print(\"New York Jets Defense Passing Yards Standard Deviation:\", std_value)\n",
    "print(\"New York Jets Defense Passing Yards Variance:\", var_value)\n",
    "print(\"New York Jets Defense Passing Yards Minimum:\", min_value)\n",
    "print(\"New York Jets Defense Passing Yards Maximum:\", max_value)\n",
    "print(\"New York Jets Defense Passing Yards Range:\", data_range)\n",
    "print(\"New York Jets Defense Total Passing Yards 2012-2022:\", total_points)"
   ]
  },
  {
   "cell_type": "markdown",
   "id": "060cb418",
   "metadata": {},
   "source": [
    "### Philadelphia Eagles"
   ]
  },
  {
   "cell_type": "code",
   "execution_count": 32,
   "id": "6699aa1f",
   "metadata": {},
   "outputs": [
    {
     "name": "stdout",
     "output_type": "stream",
     "text": [
      "Philadelphia Eagles Defense Passing Yards Mean: 3897.2727272727275\n",
      "Philadelphia Eagles Defense Passing Yards Median: 3832.0\n",
      "Philadelphia Eagles Defense Passing Yards Standard Deviation: 443.0754091368852\n",
      "Philadelphia Eagles Defense Passing Yards Variance: 196315.81818181818\n",
      "Philadelphia Eagles Defense Passing Yards Minimum: 3057\n",
      "Philadelphia Eagles Defense Passing Yards Maximum: 4636\n",
      "Philadelphia Eagles Defense Passing Yards Range: 1579\n",
      "Philadelphia Eagles Defense Total Passing Yards 2012-2022: 42870\n"
     ]
    }
   ],
   "source": [
    "team_name26 = 'Philadelphia Eagles'\n",
    "eagles_data = nfldefpass[nfldefpass['Team'] == team_name26]\n",
    "mean_value = eagles_data['Def PassYds'].mean()\n",
    "median_value = eagles_data['Def PassYds'].median()\n",
    "std_value = eagles_data['Def PassYds'].std()\n",
    "var_value = eagles_data['Def PassYds'].var()\n",
    "min_value = eagles_data['Def PassYds'].min()\n",
    "max_value = eagles_data['Def PassYds'].max()\n",
    "data_range = max_value - min_value\n",
    "total_points = eagles_data['Def PassYds'].sum()\n",
    "print(\"Philadelphia Eagles Defense Passing Yards Mean:\", mean_value)\n",
    "print(\"Philadelphia Eagles Defense Passing Yards Median:\", median_value)\n",
    "print(\"Philadelphia Eagles Defense Passing Yards Standard Deviation:\", std_value)\n",
    "print(\"Philadelphia Eagles Defense Passing Yards Variance:\", var_value)\n",
    "print(\"Philadelphia Eagles Defense Passing Yards Minimum:\", min_value)\n",
    "print(\"Philadelphia Eagles Defense Passing Yards Maximum:\", max_value)\n",
    "print(\"Philadelphia Eagles Defense Passing Yards Range:\", data_range)\n",
    "print(\"Philadelphia Eagles Defense Total Passing Yards 2012-2022:\", total_points)"
   ]
  },
  {
   "cell_type": "markdown",
   "id": "9c70dbb8",
   "metadata": {},
   "source": [
    "### Pittsburgh Steelers"
   ]
  },
  {
   "cell_type": "code",
   "execution_count": 33,
   "id": "d575e5ae",
   "metadata": {},
   "outputs": [
    {
     "name": "stdout",
     "output_type": "stream",
     "text": [
      "Pittsburgh Steelers Defense Passing Yards Mean: 3579.0\n",
      "Pittsburgh Steelers Defense Passing Yards Median: 3656.0\n",
      "Pittsburgh Steelers Defense Passing Yards Standard Deviation: 437.6409487239511\n",
      "Pittsburgh Steelers Defense Passing Yards Variance: 191529.6\n",
      "Pittsburgh Steelers Defense Passing Yards Minimum: 2963\n",
      "Pittsburgh Steelers Defense Passing Yards Maximum: 4350\n",
      "Pittsburgh Steelers Defense Passing Yards Range: 1387\n",
      "Pittsburgh Steelers Defense Total Passing Yards 2012-2022: 39369\n"
     ]
    }
   ],
   "source": [
    "team_name27 = 'Pittsburgh Steelers'\n",
    "steelers_data = nfldefpass[nfldefpass['Team'] == team_name27]\n",
    "mean_value = steelers_data['Def PassYds'].mean()\n",
    "median_value = steelers_data['Def PassYds'].median()\n",
    "std_value = steelers_data['Def PassYds'].std()\n",
    "var_value = steelers_data['Def PassYds'].var()\n",
    "min_value = steelers_data['Def PassYds'].min()\n",
    "max_value = steelers_data['Def PassYds'].max()\n",
    "data_range = max_value - min_value\n",
    "total_points = steelers_data['Def PassYds'].sum()\n",
    "print(\"Pittsburgh Steelers Defense Passing Yards Mean:\", mean_value)\n",
    "print(\"Pittsburgh Steelers Defense Passing Yards Median:\", median_value)\n",
    "print(\"Pittsburgh Steelers Defense Passing Yards Standard Deviation:\", std_value)\n",
    "print(\"Pittsburgh Steelers Defense Passing Yards Variance:\", var_value)\n",
    "print(\"Pittsburgh Steelers Defense Passing Yards Minimum:\", min_value)\n",
    "print(\"Pittsburgh Steelers Defense Passing Yards Maximum:\", max_value)\n",
    "print(\"Pittsburgh Steelers Defense Passing Yards Range:\", data_range)\n",
    "print(\"Pittsburgh Steelers Defense Total Passing Yards 2012-2022:\", total_points)"
   ]
  },
  {
   "cell_type": "markdown",
   "id": "1c58e53c",
   "metadata": {},
   "source": [
    "### San Francisco 49ers"
   ]
  },
  {
   "cell_type": "code",
   "execution_count": 34,
   "id": "da2ef2c3",
   "metadata": {},
   "outputs": [
    {
     "name": "stdout",
     "output_type": "stream",
     "text": [
      "San Francisco 49ers Defense Passing Yards Mean: 3556.909090909091\n",
      "San Francisco 49ers Defense Passing Yards Median: 3536.0\n",
      "San Francisco 49ers Defense Passing Yards Standard Deviation: 387.6731753798435\n",
      "San Francisco 49ers Defense Passing Yards Variance: 150290.4909090909\n",
      "San Francisco 49ers Defense Passing Yards Minimum: 2707\n",
      "San Francisco 49ers Defense Passing Yards Maximum: 4179\n",
      "San Francisco 49ers Defense Passing Yards Range: 1472\n",
      "San Francisco 49ers Defense Total Passing Yards 2012-2022: 39126\n"
     ]
    }
   ],
   "source": [
    "team_name28 = 'San Francisco 49ers'\n",
    "niners_data = nfldefpass[nfldefpass['Team'] == team_name28]\n",
    "mean_value = niners_data['Def PassYds'].mean()\n",
    "median_value = niners_data['Def PassYds'].median()\n",
    "std_value = niners_data['Def PassYds'].std()\n",
    "var_value = niners_data['Def PassYds'].var()\n",
    "min_value = niners_data['Def PassYds'].min()\n",
    "max_value = niners_data['Def PassYds'].max()\n",
    "data_range = max_value - min_value\n",
    "total_points = niners_data['Def PassYds'].sum()\n",
    "print(\"San Francisco 49ers Defense Passing Yards Mean:\", mean_value)\n",
    "print(\"San Francisco 49ers Defense Passing Yards Median:\", median_value)\n",
    "print(\"San Francisco 49ers Defense Passing Yards Standard Deviation:\", std_value)\n",
    "print(\"San Francisco 49ers Defense Passing Yards Variance:\", var_value)\n",
    "print(\"San Francisco 49ers Defense Passing Yards Minimum:\", min_value)\n",
    "print(\"San Francisco 49ers Defense Passing Yards Maximum:\", max_value)\n",
    "print(\"San Francisco 49ers Defense Passing Yards Range:\", data_range)\n",
    "print(\"San Francisco 49ers Defense Total Passing Yards 2012-2022:\", total_points)"
   ]
  },
  {
   "cell_type": "markdown",
   "id": "921f90e8",
   "metadata": {},
   "source": [
    "### Tampa Bay Buccaneers"
   ]
  },
  {
   "cell_type": "code",
   "execution_count": 35,
   "id": "31643e89",
   "metadata": {},
   "outputs": [
    {
     "name": "stdout",
     "output_type": "stream",
     "text": [
      "Tampa Bay Buccaneers Defense Passing Yards Mean: 4055.4545454545455\n",
      "Tampa Bay Buccaneers Defense Passing Yards Median: 4062.0\n",
      "Tampa Bay Buccaneers Defense Passing Yards Standard Deviation: 326.1301469157255\n",
      "Tampa Bay Buccaneers Defense Passing Yards Variance: 106360.87272727271\n",
      "Tampa Bay Buccaneers Defense Passing Yards Minimum: 3461\n",
      "Tampa Bay Buccaneers Defense Passing Yards Maximum: 4758\n",
      "Tampa Bay Buccaneers Defense Passing Yards Range: 1297\n",
      "Tampa Bay Buccaneers Defense Total Passing Yards 2012-2022: 44610\n"
     ]
    }
   ],
   "source": [
    "team_name29 = 'Tampa Bay Buccaneers'\n",
    "buccaneers_data = nfldefpass[nfldefpass['Team'] == team_name29]\n",
    "mean_value = buccaneers_data['Def PassYds'].mean()\n",
    "median_value = buccaneers_data['Def PassYds'].median()\n",
    "std_value = buccaneers_data['Def PassYds'].std()\n",
    "var_value = buccaneers_data['Def PassYds'].var()\n",
    "min_value = buccaneers_data['Def PassYds'].min()\n",
    "max_value = buccaneers_data['Def PassYds'].max()\n",
    "data_range = max_value - min_value\n",
    "total_points = buccaneers_data['Def PassYds'].sum()\n",
    "print(\"Tampa Bay Buccaneers Defense Passing Yards Mean:\", mean_value)\n",
    "print(\"Tampa Bay Buccaneers Defense Passing Yards Median:\", median_value)\n",
    "print(\"Tampa Bay Buccaneers Defense Passing Yards Standard Deviation:\", std_value)\n",
    "print(\"Tampa Bay Buccaneers Defense Passing Yards Variance:\", var_value)\n",
    "print(\"Tampa Bay Buccaneers Defense Passing Yards Minimum:\", min_value)\n",
    "print(\"Tampa Bay Buccaneers Defense Passing Yards Maximum:\", max_value)\n",
    "print(\"Tampa Bay Buccaneers Defense Passing Yards Range:\", data_range)\n",
    "print(\"Tampa Bay Buccaneers Defense Total Passing Yards 2012-2022:\", total_points)"
   ]
  },
  {
   "cell_type": "markdown",
   "id": "402feabd",
   "metadata": {},
   "source": [
    "### Tennessee Titans"
   ]
  },
  {
   "cell_type": "code",
   "execution_count": 36,
   "id": "34a835c2",
   "metadata": {},
   "outputs": [
    {
     "name": "stdout",
     "output_type": "stream",
     "text": [
      "Tennessee Titans Defense Passing Yards Mean: 3999.2727272727275\n",
      "Tennessee Titans Defense Passing Yards Median: 3964.0\n",
      "Tennessee Titans Defense Passing Yards Standard Deviation: 372.6451639050454\n",
      "Tennessee Titans Defense Passing Yards Variance: 138864.41818181815\n",
      "Tennessee Titans Defense Passing Yards Minimum: 3471\n",
      "Tennessee Titans Defense Passing Yards Maximum: 4671\n",
      "Tennessee Titans Defense Passing Yards Range: 1200\n",
      "Tennessee Titans Defense Total Passing Yards 2012-2022: 43992\n"
     ]
    }
   ],
   "source": [
    "team_name30 = 'Tennessee Titans'\n",
    "titans_data = nfldefpass[nfldefpass['Team'] == team_name30]\n",
    "mean_value = titans_data['Def PassYds'].mean()\n",
    "median_value = titans_data['Def PassYds'].median()\n",
    "std_value = titans_data['Def PassYds'].std()\n",
    "var_value = titans_data['Def PassYds'].var()\n",
    "min_value = titans_data['Def PassYds'].min()\n",
    "max_value = titans_data['Def PassYds'].max()\n",
    "data_range = max_value - min_value\n",
    "total_points = titans_data['Def PassYds'].sum()\n",
    "print(\"Tennessee Titans Defense Passing Yards Mean:\", mean_value)\n",
    "print(\"Tennessee Titans Defense Passing Yards Median:\", median_value)\n",
    "print(\"Tennessee Titans Defense Passing Yards Standard Deviation:\", std_value)\n",
    "print(\"Tennessee Titans Defense Passing Yards Variance:\", var_value)\n",
    "print(\"Tennessee Titans Defense Passing Yards Minimum:\", min_value)\n",
    "print(\"Tennessee Titans Defense Passing Yards Maximum:\", max_value)\n",
    "print(\"Tennessee Titans Defense Passing Yards Range:\", data_range)\n",
    "print(\"Tennessee Titans Defense Total Passing Yards 2012-2022:\", total_points)"
   ]
  },
  {
   "cell_type": "markdown",
   "id": "80f6844f",
   "metadata": {},
   "source": [
    "### Washington Commanders"
   ]
  },
  {
   "cell_type": "code",
   "execution_count": 37,
   "id": "d1a4004e",
   "metadata": {},
   "outputs": [
    {
     "name": "stdout",
     "output_type": "stream",
     "text": [
      "Washington Commanders Defense Passing Yards Mean: 3849.5454545454545\n",
      "Washington Commanders Defense Passing Yards Median: 3896.0\n",
      "Washington Commanders Defense Passing Yards Standard Deviation: 447.8281732174437\n",
      "Washington Commanders Defense Passing Yards Variance: 200550.07272727275\n",
      "Washington Commanders Defense Passing Yards Minimum: 3068\n",
      "Washington Commanders Defense Passing Yards Points Maximum: 4511\n",
      "Washington Commanders Defense Passing Yards Range: 1443\n",
      "Washington Commanders Defense Total Passing Yards 2012-2022: 42345\n"
     ]
    }
   ],
   "source": [
    "team_name31 = 'Washington Commanders'\n",
    "commanders_data = nfldefpass[nfldefpass['Team'] == team_name31]\n",
    "mean_value = commanders_data['Def PassYds'].mean()\n",
    "median_value = commanders_data['Def PassYds'].median()\n",
    "std_value = commanders_data['Def PassYds'].std()\n",
    "var_value = commanders_data['Def PassYds'].var()\n",
    "min_value = commanders_data['Def PassYds'].min()\n",
    "max_value = commanders_data['Def PassYds'].max()\n",
    "total_points = commanders_data['Def PassYds'].sum()\n",
    "data_range = max_value - min_value\n",
    "print(\"Washington Commanders Defense Passing Yards Mean:\", mean_value)\n",
    "print(\"Washington Commanders Defense Passing Yards Median:\", median_value)\n",
    "print(\"Washington Commanders Defense Passing Yards Standard Deviation:\", std_value)\n",
    "print(\"Washington Commanders Defense Passing Yards Variance:\", var_value)\n",
    "print(\"Washington Commanders Defense Passing Yards Minimum:\", min_value)\n",
    "print(\"Washington Commanders Defense Passing Yards Points Maximum:\", max_value)\n",
    "print(\"Washington Commanders Defense Passing Yards Range:\", data_range)\n",
    "print(\"Washington Commanders Defense Total Passing Yards 2012-2022:\", total_points)"
   ]
  },
  {
   "cell_type": "code",
   "execution_count": null,
   "id": "26c581f4",
   "metadata": {},
   "outputs": [],
   "source": []
  }
 ],
 "metadata": {
  "kernelspec": {
   "display_name": "Python 3 (ipykernel)",
   "language": "python",
   "name": "python3"
  },
  "language_info": {
   "codemirror_mode": {
    "name": "ipython",
    "version": 3
   },
   "file_extension": ".py",
   "mimetype": "text/x-python",
   "name": "python",
   "nbconvert_exporter": "python",
   "pygments_lexer": "ipython3",
   "version": "3.9.12"
  }
 },
 "nbformat": 4,
 "nbformat_minor": 5
}

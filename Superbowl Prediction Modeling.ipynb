{
 "cells": [
  {
   "cell_type": "markdown",
   "id": "b6beea95",
   "metadata": {},
   "source": [
    "# Machine Learning Model to Predict Possible Teams in the next Superbowl\n",
    "#### import packages"
   ]
  },
  {
   "cell_type": "code",
   "execution_count": 2,
   "id": "c00c002e",
   "metadata": {},
   "outputs": [],
   "source": [
    "import pandas as pd\n",
    "from sklearn.model_selection import train_test_split\n",
    "from sklearn.ensemble import RandomForestClassifier\n",
    "from sklearn.metrics import confusion_matrix\n",
    "import seaborn as sns\n",
    "import matplotlib.pyplot as plt\n",
    "from sklearn.metrics import classification_report\n",
    "from sklearn.linear_model import LogisticRegression\n",
    "from sklearn.metrics import accuracy_score"
   ]
  },
  {
   "cell_type": "markdown",
   "id": "2637032e",
   "metadata": {},
   "source": [
    "#### Import NFL 2012-2022 Dataset"
   ]
  },
  {
   "cell_type": "code",
   "execution_count": 5,
   "id": "4de50c7e",
   "metadata": {
    "scrolled": true
   },
   "outputs": [
    {
     "data": {
      "text/html": [
       "<div>\n",
       "<style scoped>\n",
       "    .dataframe tbody tr th:only-of-type {\n",
       "        vertical-align: middle;\n",
       "    }\n",
       "\n",
       "    .dataframe tbody tr th {\n",
       "        vertical-align: top;\n",
       "    }\n",
       "\n",
       "    .dataframe thead th {\n",
       "        text-align: right;\n",
       "    }\n",
       "</style>\n",
       "<table border=\"1\" class=\"dataframe\">\n",
       "  <thead>\n",
       "    <tr style=\"text-align: right;\">\n",
       "      <th></th>\n",
       "      <th>Team</th>\n",
       "      <th>Off Tot/Pts</th>\n",
       "      <th>Off Pts/G</th>\n",
       "      <th>Off RushYds</th>\n",
       "      <th>Off RYds/G</th>\n",
       "      <th>Off PassYds</th>\n",
       "      <th>Off PYds/G</th>\n",
       "      <th>Off TotYds</th>\n",
       "      <th>Off Yds/G</th>\n",
       "      <th>Def Tot/Pts</th>\n",
       "      <th>...</th>\n",
       "      <th>Def PassYds</th>\n",
       "      <th>Def PYds/G</th>\n",
       "      <th>Def TotYds</th>\n",
       "      <th>Def Yds/G</th>\n",
       "      <th>Year</th>\n",
       "      <th>Wins</th>\n",
       "      <th>Losses</th>\n",
       "      <th>Tie</th>\n",
       "      <th>Superbowl</th>\n",
       "      <th>SB Win</th>\n",
       "    </tr>\n",
       "  </thead>\n",
       "  <tbody>\n",
       "    <tr>\n",
       "      <th>0</th>\n",
       "      <td>Arizona Cardinals</td>\n",
       "      <td>250</td>\n",
       "      <td>15.6</td>\n",
       "      <td>1204</td>\n",
       "      <td>75.2</td>\n",
       "      <td>3005</td>\n",
       "      <td>187.8</td>\n",
       "      <td>4209</td>\n",
       "      <td>263.1</td>\n",
       "      <td>357</td>\n",
       "      <td>...</td>\n",
       "      <td>3213</td>\n",
       "      <td>200.8</td>\n",
       "      <td>5405</td>\n",
       "      <td>337.8</td>\n",
       "      <td>2012</td>\n",
       "      <td>5</td>\n",
       "      <td>11</td>\n",
       "      <td>0.0</td>\n",
       "      <td>No</td>\n",
       "      <td>No</td>\n",
       "    </tr>\n",
       "    <tr>\n",
       "      <th>1</th>\n",
       "      <td>Atlanta Falcons</td>\n",
       "      <td>419</td>\n",
       "      <td>26.2</td>\n",
       "      <td>1397</td>\n",
       "      <td>87.3</td>\n",
       "      <td>4509</td>\n",
       "      <td>281.8</td>\n",
       "      <td>5906</td>\n",
       "      <td>369.1</td>\n",
       "      <td>299</td>\n",
       "      <td>...</td>\n",
       "      <td>3878</td>\n",
       "      <td>242.4</td>\n",
       "      <td>5849</td>\n",
       "      <td>365.6</td>\n",
       "      <td>2012</td>\n",
       "      <td>13</td>\n",
       "      <td>3</td>\n",
       "      <td>0.0</td>\n",
       "      <td>No</td>\n",
       "      <td>No</td>\n",
       "    </tr>\n",
       "    <tr>\n",
       "      <th>2</th>\n",
       "      <td>Baltimore Ravens</td>\n",
       "      <td>398</td>\n",
       "      <td>24.9</td>\n",
       "      <td>1901</td>\n",
       "      <td>118.8</td>\n",
       "      <td>3739</td>\n",
       "      <td>233.7</td>\n",
       "      <td>5640</td>\n",
       "      <td>352.5</td>\n",
       "      <td>344</td>\n",
       "      <td>...</td>\n",
       "      <td>3650</td>\n",
       "      <td>228.1</td>\n",
       "      <td>5615</td>\n",
       "      <td>350.9</td>\n",
       "      <td>2012</td>\n",
       "      <td>10</td>\n",
       "      <td>6</td>\n",
       "      <td>0.0</td>\n",
       "      <td>Yes</td>\n",
       "      <td>Yes</td>\n",
       "    </tr>\n",
       "    <tr>\n",
       "      <th>3</th>\n",
       "      <td>Buffalo Bills</td>\n",
       "      <td>344</td>\n",
       "      <td>21.5</td>\n",
       "      <td>2217</td>\n",
       "      <td>138.6</td>\n",
       "      <td>3269</td>\n",
       "      <td>204.3</td>\n",
       "      <td>5486</td>\n",
       "      <td>342.9</td>\n",
       "      <td>435</td>\n",
       "      <td>...</td>\n",
       "      <td>3473</td>\n",
       "      <td>217.1</td>\n",
       "      <td>5806</td>\n",
       "      <td>362.9</td>\n",
       "      <td>2012</td>\n",
       "      <td>6</td>\n",
       "      <td>10</td>\n",
       "      <td>0.0</td>\n",
       "      <td>No</td>\n",
       "      <td>No</td>\n",
       "    </tr>\n",
       "    <tr>\n",
       "      <th>4</th>\n",
       "      <td>Carolina Panthers</td>\n",
       "      <td>357</td>\n",
       "      <td>22.3</td>\n",
       "      <td>2088</td>\n",
       "      <td>130.5</td>\n",
       "      <td>3683</td>\n",
       "      <td>230.2</td>\n",
       "      <td>5771</td>\n",
       "      <td>360.7</td>\n",
       "      <td>363</td>\n",
       "      <td>...</td>\n",
       "      <td>3568</td>\n",
       "      <td>223.0</td>\n",
       "      <td>5329</td>\n",
       "      <td>333.1</td>\n",
       "      <td>2012</td>\n",
       "      <td>7</td>\n",
       "      <td>9</td>\n",
       "      <td>0.0</td>\n",
       "      <td>No</td>\n",
       "      <td>No</td>\n",
       "    </tr>\n",
       "  </tbody>\n",
       "</table>\n",
       "<p>5 rows × 23 columns</p>\n",
       "</div>"
      ],
      "text/plain": [
       "                Team  Off Tot/Pts  Off Pts/G  Off RushYds  Off RYds/G  \\\n",
       "0  Arizona Cardinals          250       15.6         1204        75.2   \n",
       "1    Atlanta Falcons          419       26.2         1397        87.3   \n",
       "2   Baltimore Ravens          398       24.9         1901       118.8   \n",
       "3      Buffalo Bills          344       21.5         2217       138.6   \n",
       "4  Carolina Panthers          357       22.3         2088       130.5   \n",
       "\n",
       "   Off PassYds  Off PYds/G  Off TotYds  Off Yds/G  Def Tot/Pts  ...  \\\n",
       "0         3005       187.8        4209      263.1          357  ...   \n",
       "1         4509       281.8        5906      369.1          299  ...   \n",
       "2         3739       233.7        5640      352.5          344  ...   \n",
       "3         3269       204.3        5486      342.9          435  ...   \n",
       "4         3683       230.2        5771      360.7          363  ...   \n",
       "\n",
       "   Def PassYds  Def PYds/G  Def TotYds  Def Yds/G  Year  Wins  Losses  Tie  \\\n",
       "0         3213       200.8        5405      337.8  2012     5      11  0.0   \n",
       "1         3878       242.4        5849      365.6  2012    13       3  0.0   \n",
       "2         3650       228.1        5615      350.9  2012    10       6  0.0   \n",
       "3         3473       217.1        5806      362.9  2012     6      10  0.0   \n",
       "4         3568       223.0        5329      333.1  2012     7       9  0.0   \n",
       "\n",
       "   Superbowl  SB Win  \n",
       "0         No      No  \n",
       "1         No      No  \n",
       "2        Yes     Yes  \n",
       "3         No      No  \n",
       "4         No      No  \n",
       "\n",
       "[5 rows x 23 columns]"
      ]
     },
     "execution_count": 5,
     "metadata": {},
     "output_type": "execute_result"
    }
   ],
   "source": [
    "nfl = pd.read_csv('/Users/admin/Desktop/Final_Project/NFL_merged/nfl2012_2022merge.csv')\n",
    "nfl.head()"
   ]
  },
  {
   "cell_type": "markdown",
   "id": "e0dd97bb",
   "metadata": {},
   "source": [
    "#### Data Wrangling: Need to Recode the Team column into numeric via mapping"
   ]
  },
  {
   "cell_type": "code",
   "execution_count": 6,
   "id": "4ff9ba3a",
   "metadata": {},
   "outputs": [],
   "source": [
    "# Define the mapping of team names to numeric codes\n",
    "team_mapping = {\n",
    "    'Arizona Cardinals': 0,\n",
    "    'Atlanta Falcons': 1,\n",
    "    'Baltimore Ravens': 2,\n",
    "    'Buffalo Bills': 3,\n",
    "    'Carolina Panthers': 4,\n",
    "    'Chicago Bears': 5,\n",
    "    'Cincinnati Bengals': 6,\n",
    "    'Cleveland Browns': 7,\n",
    "    'Dallas Cowboys': 8,\n",
    "    'Denver Broncos': 9,\n",
    "    'Detroit Lions': 10,\n",
    "    'Green Bay Packers': 11,\n",
    "    'Houston Texans': 12,\n",
    "    'Indianapolis Colts': 13,\n",
    "    'Jacksonville Jaguars': 14,\n",
    "    'Kansas City Chiefs': 15,\n",
    "    'Las Vegas Raiders': 16,\n",
    "    'Los Angeles Chargers': 17,\n",
    "    'Los Angeles Rams': 18,\n",
    "    'Miami Dolphins': 19,\n",
    "    'Minnesota Vikings': 20,\n",
    "    'New England Patriots': 21,\n",
    "    'New Orleans Saints': 22,\n",
    "    'New York Giants': 23,\n",
    "    'New York Jets': 24,\n",
    "    'Philadelphia Eagles': 25,\n",
    "    'Pittsburgh Steelers': 26, \n",
    "    'San Francisco 49ers': 27,\n",
    "    'Seattle Seahawks': 28,\n",
    "    'Tampa Bay Buccaneers': 29,\n",
    "    'Tennessee Titans': 30,\n",
    "    'Washington Commanders': 31\n",
    "    \n",
    "}\n"
   ]
  },
  {
   "cell_type": "code",
   "execution_count": 7,
   "id": "0a4baf8c",
   "metadata": {},
   "outputs": [
    {
     "name": "stdout",
     "output_type": "stream",
     "text": [
      "[[0 0 1 ... 0 1 0]\n",
      " [0 0 0 ... 0 0 0]\n",
      " [0 0 1 ... 0 0 0]\n",
      " ...\n",
      " [0 0 0 ... 1 0 0]\n",
      " [0 0 0 ... 0 0 0]\n",
      " [0 0 0 ... 0 0 0]]\n"
     ]
    }
   ],
   "source": [
    "# Define the predictor variables\n",
    "statpredictors = ['Off Tot/Pts', 'Off PassYds', 'Off RushYds',\n",
    "              'Wins', 'Losses', 'Def Tot/Pts', 'Def PassYds', 'Def RushYds']\n",
    "\n",
    "# Create the feature matrix and target variable\n",
    "X = nfl[statpredictors]\n",
    "y = nfl['Team']\n",
    "\n",
    "# Define the mapping of team names to numeric codes\n",
    "team_mapping = {\n",
    "    'Arizona Cardinals': 0,\n",
    "    'Atlanta Falcons': 1,\n",
    "    'Baltimore Ravens': 2,\n",
    "    'Buffalo Bills': 3,\n",
    "    'Carolina Panthers': 4,\n",
    "    'Chicago Bears': 5,\n",
    "    'Cincinnati Bengals': 6,\n",
    "    'Cleveland Browns': 7,\n",
    "    'Dallas Cowboys': 8,\n",
    "    'Denver Broncos': 9,\n",
    "    'Detroit Lions': 10,\n",
    "    'Green Bay Packers': 11,\n",
    "    'Houston Texans': 12,\n",
    "    'Indianapolis Colts': 13,\n",
    "    'Jacksonville Jaguars': 14,\n",
    "    'Kansas City Chiefs': 15,\n",
    "    'Las Vegas Raiders': 16,\n",
    "    'Los Angeles Chargers': 17,\n",
    "    'Los Angeles Rams': 18,\n",
    "    'Miami Dolphins': 19,\n",
    "    'Minnesota Vikings': 20,\n",
    "    'New England Patriots': 21,\n",
    "    'New Orleans Saints': 22,\n",
    "    'New York Giants': 23,\n",
    "    'New York Jets': 24,\n",
    "    'Philadelphia Eagles': 25,\n",
    "    'Pittsburgh Steelers': 26, \n",
    "    'San Francisco 49ers': 27,\n",
    "    'Seattle Seahawks': 28,\n",
    "    'Tampa Bay Buccaneers': 29,\n",
    "    'Tennessee Titans': 30,\n",
    "    'Washington Commanders': 31\n",
    "    \n",
    "}\n",
    "\n",
    "# Recode the target variable to numeric codes\n",
    "y_encoded = y.map(team_mapping)\n",
    "\n",
    "# Split the data into training and testing sets\n",
    "X_train, X_test, y_train, y_test = train_test_split(X, y_encoded, test_size=0.2, random_state=123)\n",
    "\n",
    "# Train a random forest classifier\n",
    "Superbowlmodel = RandomForestClassifier(n_estimators=100)\n",
    "Superbowlmodel.fit(X_train, y_train)\n",
    "\n",
    "# Make predictions on the test set\n",
    "Superbowlpredictions = Superbowlmodel.predict(X_test)\n",
    "\n",
    "# Evaluate the model\n",
    "cm = confusion_matrix(y_test, Superbowlpredictions)\n",
    "print(cm)"
   ]
  },
  {
   "cell_type": "code",
   "execution_count": 8,
   "id": "07ddfe3a",
   "metadata": {},
   "outputs": [
    {
     "data": {
      "image/png": "[encoded data removed]",
      "text/plain": [
       "<Figure size 432x288 with 2 Axes>"
      ]
     },
     "metadata": {
      "needs_background": "light"
     },
     "output_type": "display_data"
    }
   ],
   "source": [
    "# Create a confusion matrix heatmap\n",
    "sns.heatmap(cm, annot=True, cmap='Blues')\n",
    "plt.xlabel('Predicted Labels')\n",
    "plt.ylabel('True Labels')\n",
    "plt.title('Confusion Matrix')\n",
    "plt.show()"
   ]
  },
  {
   "cell_type": "code",
   "execution_count": 9,
   "id": "8acc35d1",
   "metadata": {},
   "outputs": [
    {
     "name": "stdout",
     "output_type": "stream",
     "text": [
      "              precision    recall  f1-score   support\n",
      "\n",
      "           0       0.00      0.00      0.00         2\n",
      "           1       0.00      0.00      0.00         1\n",
      "           2       0.33      0.50      0.40         2\n",
      "           3       0.00      0.00      0.00         0\n",
      "           4       0.00      0.00      0.00         3\n",
      "           5       0.00      0.00      0.00         2\n",
      "           6       0.00      0.00      0.00         2\n",
      "           7       0.00      0.00      0.00         2\n",
      "           8       0.50      0.50      0.50         4\n",
      "           9       0.00      0.00      0.00         7\n",
      "          10       0.00      0.00      0.00         2\n",
      "          11       0.00      0.00      0.00         5\n",
      "          12       0.00      0.00      0.00         1\n",
      "          13       0.00      0.00      0.00         1\n",
      "          14       0.00      0.00      0.00         1\n",
      "          15       0.00      0.00      0.00         4\n",
      "          16       0.00      0.00      0.00         3\n",
      "          17       0.00      0.00      0.00         1\n",
      "          18       0.00      0.00      0.00         1\n",
      "          19       0.00      0.00      0.00         3\n",
      "          20       0.00      0.00      0.00         1\n",
      "          21       0.00      0.00      0.00         1\n",
      "          22       0.33      0.33      0.33         3\n",
      "          23       0.00      0.00      0.00         0\n",
      "          24       0.00      0.00      0.00         6\n",
      "          25       0.00      0.00      0.00         0\n",
      "          26       0.00      0.00      0.00         1\n",
      "          27       0.00      0.00      0.00         2\n",
      "          28       0.00      0.00      0.00         2\n",
      "          29       1.00      0.25      0.40         4\n",
      "          30       0.00      0.00      0.00         3\n",
      "          31       0.00      0.00      0.00         1\n",
      "\n",
      "    accuracy                           0.07        71\n",
      "   macro avg       0.07      0.05      0.05        71\n",
      "weighted avg       0.11      0.07      0.08        71\n",
      "\n"
     ]
    },
    {
     "name": "stderr",
     "output_type": "stream",
     "text": [
      "/Users/admin/opt/anaconda3/lib/python3.9/site-packages/sklearn/metrics/_classification.py:1318: UndefinedMetricWarning: Precision and F-score are ill-defined and being set to 0.0 in labels with no predicted samples. Use `zero_division` parameter to control this behavior.\n",
      "  _warn_prf(average, modifier, msg_start, len(result))\n",
      "/Users/admin/opt/anaconda3/lib/python3.9/site-packages/sklearn/metrics/_classification.py:1318: UndefinedMetricWarning: Recall and F-score are ill-defined and being set to 0.0 in labels with no true samples. Use `zero_division` parameter to control this behavior.\n",
      "  _warn_prf(average, modifier, msg_start, len(result))\n",
      "/Users/admin/opt/anaconda3/lib/python3.9/site-packages/sklearn/metrics/_classification.py:1318: UndefinedMetricWarning: Precision and F-score are ill-defined and being set to 0.0 in labels with no predicted samples. Use `zero_division` parameter to control this behavior.\n",
      "  _warn_prf(average, modifier, msg_start, len(result))\n",
      "/Users/admin/opt/anaconda3/lib/python3.9/site-packages/sklearn/metrics/_classification.py:1318: UndefinedMetricWarning: Recall and F-score are ill-defined and being set to 0.0 in labels with no true samples. Use `zero_division` parameter to control this behavior.\n",
      "  _warn_prf(average, modifier, msg_start, len(result))\n",
      "/Users/admin/opt/anaconda3/lib/python3.9/site-packages/sklearn/metrics/_classification.py:1318: UndefinedMetricWarning: Precision and F-score are ill-defined and being set to 0.0 in labels with no predicted samples. Use `zero_division` parameter to control this behavior.\n",
      "  _warn_prf(average, modifier, msg_start, len(result))\n",
      "/Users/admin/opt/anaconda3/lib/python3.9/site-packages/sklearn/metrics/_classification.py:1318: UndefinedMetricWarning: Recall and F-score are ill-defined and being set to 0.0 in labels with no true samples. Use `zero_division` parameter to control this behavior.\n",
      "  _warn_prf(average, modifier, msg_start, len(result))\n"
     ]
    }
   ],
   "source": [
    "# Generate the classification report\n",
    "report = classification_report(y_test, Superbowlpredictions)\n",
    "print(report)"
   ]
  },
  {
   "cell_type": "markdown",
   "id": "123c8bb6",
   "metadata": {},
   "source": [
    "### Model Analysis\n",
    "#### This model is not very accurate at all with accuracy at 6%. This would probably in up in a very off prediction of superbowl teams. "
   ]
  },
  {
   "cell_type": "markdown",
   "id": "36bfaee3",
   "metadata": {},
   "source": [
    "### Running another Random Forest Model with just Offense Predictors"
   ]
  },
  {
   "cell_type": "code",
   "execution_count": 38,
   "id": "9a2b2232",
   "metadata": {},
   "outputs": [
    {
     "name": "stdout",
     "output_type": "stream",
     "text": [
      "[[0 0 0 ... 0 0 0]\n",
      " [0 0 0 ... 0 0 0]\n",
      " [0 0 1 ... 0 0 0]\n",
      " ...\n",
      " [0 0 0 ... 1 0 0]\n",
      " [0 0 0 ... 0 0 0]\n",
      " [0 0 0 ... 0 0 0]]\n"
     ]
    }
   ],
   "source": [
    "# Define the predictor variables\n",
    "off_predictors = ['Off Tot/Pts', 'Off PassYds', 'Off RushYds', 'Off Tot/Pts', 'Off PYds/G', 'Off RYds/G',\n",
    "              'Off Pts/G','Wins', 'Losses']\n",
    "\n",
    "# Create the feature matrix and target variable\n",
    "X = nfl[off_predictors]\n",
    "y = nfl['Team']\n",
    "\n",
    "# Split the data into training and testing sets\n",
    "X_train, X_test, y_train, y_test = train_test_split(X, y_encoded, test_size=0.2, random_state=123)\n",
    "\n",
    "# Train a random forest classifier\n",
    "Offensemodel = RandomForestClassifier(n_estimators=100)\n",
    "Offensemodel.fit(X_train, y_train)\n",
    "\n",
    "# Make predictions on the test set\n",
    "SBpredictions = Offensemodel.predict(X_test)\n",
    "\n",
    "# Evaluate the model\n",
    "cm2 = confusion_matrix(y_test, SBpredictions)\n",
    "print(cm2)"
   ]
  },
  {
   "cell_type": "code",
   "execution_count": 39,
   "id": "8ff5f167",
   "metadata": {},
   "outputs": [
    {
     "data": {
      "image/png": "[encoded data removed]",
      "text/plain": [
       "<Figure size 432x288 with 2 Axes>"
      ]
     },
     "metadata": {
      "needs_background": "light"
     },
     "output_type": "display_data"
    }
   ],
   "source": [
    "# Create a confusion matrix heatmap\n",
    "sns.heatmap(cm2, annot=True, cmap='Blues')\n",
    "plt.xlabel('Predicted Labels')\n",
    "plt.ylabel('True Labels')\n",
    "plt.title('Confusion Matrix')\n",
    "plt.show()"
   ]
  },
  {
   "cell_type": "code",
   "execution_count": 40,
   "id": "918d7baa",
   "metadata": {
    "scrolled": true
   },
   "outputs": [
    {
     "name": "stdout",
     "output_type": "stream",
     "text": [
      "              precision    recall  f1-score   support\n",
      "\n",
      "           0       0.00      0.00      0.00         2\n",
      "           1       0.00      0.00      0.00         1\n",
      "           2       1.00      0.50      0.67         2\n",
      "           3       0.00      0.00      0.00         0\n",
      "           4       0.00      0.00      0.00         3\n",
      "           5       0.00      0.00      0.00         2\n",
      "           6       0.25      0.50      0.33         2\n",
      "           7       0.00      0.00      0.00         2\n",
      "           8       0.33      0.25      0.29         4\n",
      "           9       1.00      0.14      0.25         7\n",
      "          10       0.00      0.00      0.00         2\n",
      "          11       0.00      0.00      0.00         5\n",
      "          12       0.20      1.00      0.33         1\n",
      "          13       0.00      0.00      0.00         1\n",
      "          14       0.00      0.00      0.00         1\n",
      "          15       0.33      0.25      0.29         4\n",
      "          16       0.00      0.00      0.00         3\n",
      "          17       0.33      1.00      0.50         1\n",
      "          18       0.25      1.00      0.40         1\n",
      "          19       0.33      0.33      0.33         3\n",
      "          20       0.00      0.00      0.00         1\n",
      "          21       0.00      0.00      0.00         1\n",
      "          22       0.50      0.33      0.40         3\n",
      "          23       0.00      0.00      0.00         0\n",
      "          24       0.00      0.00      0.00         6\n",
      "          25       0.00      0.00      0.00         0\n",
      "          26       0.00      0.00      0.00         1\n",
      "          27       0.00      0.00      0.00         2\n",
      "          28       0.17      0.50      0.25         2\n",
      "          29       1.00      0.25      0.40         4\n",
      "          30       0.00      0.00      0.00         3\n",
      "          31       0.00      0.00      0.00         1\n",
      "\n",
      "    accuracy                           0.17        71\n",
      "   macro avg       0.18      0.19      0.14        71\n",
      "weighted avg       0.28      0.17      0.16        71\n",
      "\n"
     ]
    },
    {
     "name": "stderr",
     "output_type": "stream",
     "text": [
      "/Users/admin/opt/anaconda3/lib/python3.9/site-packages/sklearn/metrics/_classification.py:1318: UndefinedMetricWarning: Precision and F-score are ill-defined and being set to 0.0 in labels with no predicted samples. Use `zero_division` parameter to control this behavior.\n",
      "  _warn_prf(average, modifier, msg_start, len(result))\n",
      "/Users/admin/opt/anaconda3/lib/python3.9/site-packages/sklearn/metrics/_classification.py:1318: UndefinedMetricWarning: Recall and F-score are ill-defined and being set to 0.0 in labels with no true samples. Use `zero_division` parameter to control this behavior.\n",
      "  _warn_prf(average, modifier, msg_start, len(result))\n",
      "/Users/admin/opt/anaconda3/lib/python3.9/site-packages/sklearn/metrics/_classification.py:1318: UndefinedMetricWarning: Precision and F-score are ill-defined and being set to 0.0 in labels with no predicted samples. Use `zero_division` parameter to control this behavior.\n",
      "  _warn_prf(average, modifier, msg_start, len(result))\n",
      "/Users/admin/opt/anaconda3/lib/python3.9/site-packages/sklearn/metrics/_classification.py:1318: UndefinedMetricWarning: Recall and F-score are ill-defined and being set to 0.0 in labels with no true samples. Use `zero_division` parameter to control this behavior.\n",
      "  _warn_prf(average, modifier, msg_start, len(result))\n",
      "/Users/admin/opt/anaconda3/lib/python3.9/site-packages/sklearn/metrics/_classification.py:1318: UndefinedMetricWarning: Precision and F-score are ill-defined and being set to 0.0 in labels with no predicted samples. Use `zero_division` parameter to control this behavior.\n",
      "  _warn_prf(average, modifier, msg_start, len(result))\n",
      "/Users/admin/opt/anaconda3/lib/python3.9/site-packages/sklearn/metrics/_classification.py:1318: UndefinedMetricWarning: Recall and F-score are ill-defined and being set to 0.0 in labels with no true samples. Use `zero_division` parameter to control this behavior.\n",
      "  _warn_prf(average, modifier, msg_start, len(result))\n"
     ]
    }
   ],
   "source": [
    "# Generate the classification report\n",
    "report = classification_report(y_test, SBpredictions)\n",
    "print(report)"
   ]
  },
  {
   "cell_type": "code",
   "execution_count": 41,
   "id": "a66c2c07",
   "metadata": {},
   "outputs": [
    {
     "name": "stdout",
     "output_type": "stream",
     "text": [
      "                       precision    recall  f1-score   support\n",
      "\n",
      "    Arizona Cardinals       0.00      0.00      0.00         2\n",
      "      Atlanta Falcons       0.00      0.00      0.00         1\n",
      "     Baltimore Ravens       1.00      0.50      0.67         2\n",
      "        Buffalo Bills       0.00      0.00      0.00         0\n",
      "    Carolina Panthers       0.00      0.00      0.00         3\n",
      "        Chicago Bears       0.00      0.00      0.00         2\n",
      "   Cincinnati Bengals       0.25      0.50      0.33         2\n",
      "     Cleveland Browns       0.00      0.00      0.00         2\n",
      "       Dallas Cowboys       0.33      0.25      0.29         4\n",
      "       Denver Broncos       1.00      0.14      0.25         7\n",
      "        Detroit Lions       0.00      0.00      0.00         2\n",
      "    Green Bay Packers       0.00      0.00      0.00         5\n",
      "       Houston Texans       0.20      1.00      0.33         1\n",
      "   Indianapolis Colts       0.00      0.00      0.00         1\n",
      " Jacksonville Jaguars       0.00      0.00      0.00         1\n",
      "   Kansas City Chiefs       0.33      0.25      0.29         4\n",
      "    Las Vegas Raiders       0.00      0.00      0.00         3\n",
      " Los Angeles Chargers       0.33      1.00      0.50         1\n",
      "     Los Angeles Rams       0.25      1.00      0.40         1\n",
      "       Miami Dolphins       0.33      0.33      0.33         3\n",
      "    Minnesota Vikings       0.00      0.00      0.00         1\n",
      " New England Patriots       0.00      0.00      0.00         1\n",
      "   New Orleans Saints       0.50      0.33      0.40         3\n",
      "      New York Giants       0.00      0.00      0.00         0\n",
      "        New York Jets       0.00      0.00      0.00         6\n",
      "  Philadelphia Eagles       0.00      0.00      0.00         0\n",
      "  Pittsburgh Steelers       0.00      0.00      0.00         1\n",
      "  San Francisco 49ers       0.00      0.00      0.00         2\n",
      "     Seattle Seahawks       0.17      0.50      0.25         2\n",
      " Tampa Bay Buccaneers       1.00      0.25      0.40         4\n",
      "     Tennessee Titans       0.00      0.00      0.00         3\n",
      "Washington Commanders       0.00      0.00      0.00         1\n",
      "\n",
      "             accuracy                           0.17        71\n",
      "            macro avg       0.18      0.19      0.14        71\n",
      "         weighted avg       0.28      0.17      0.16        71\n",
      "\n"
     ]
    },
    {
     "name": "stderr",
     "output_type": "stream",
     "text": [
      "/Users/admin/opt/anaconda3/lib/python3.9/site-packages/sklearn/metrics/_classification.py:1318: UndefinedMetricWarning: Precision and F-score are ill-defined and being set to 0.0 in labels with no predicted samples. Use `zero_division` parameter to control this behavior.\n",
      "  _warn_prf(average, modifier, msg_start, len(result))\n",
      "/Users/admin/opt/anaconda3/lib/python3.9/site-packages/sklearn/metrics/_classification.py:1318: UndefinedMetricWarning: Recall and F-score are ill-defined and being set to 0.0 in labels with no true samples. Use `zero_division` parameter to control this behavior.\n",
      "  _warn_prf(average, modifier, msg_start, len(result))\n",
      "/Users/admin/opt/anaconda3/lib/python3.9/site-packages/sklearn/metrics/_classification.py:1318: UndefinedMetricWarning: Precision and F-score are ill-defined and being set to 0.0 in labels with no predicted samples. Use `zero_division` parameter to control this behavior.\n",
      "  _warn_prf(average, modifier, msg_start, len(result))\n",
      "/Users/admin/opt/anaconda3/lib/python3.9/site-packages/sklearn/metrics/_classification.py:1318: UndefinedMetricWarning: Recall and F-score are ill-defined and being set to 0.0 in labels with no true samples. Use `zero_division` parameter to control this behavior.\n",
      "  _warn_prf(average, modifier, msg_start, len(result))\n",
      "/Users/admin/opt/anaconda3/lib/python3.9/site-packages/sklearn/metrics/_classification.py:1318: UndefinedMetricWarning: Precision and F-score are ill-defined and being set to 0.0 in labels with no predicted samples. Use `zero_division` parameter to control this behavior.\n",
      "  _warn_prf(average, modifier, msg_start, len(result))\n",
      "/Users/admin/opt/anaconda3/lib/python3.9/site-packages/sklearn/metrics/_classification.py:1318: UndefinedMetricWarning: Recall and F-score are ill-defined and being set to 0.0 in labels with no true samples. Use `zero_division` parameter to control this behavior.\n",
      "  _warn_prf(average, modifier, msg_start, len(result))\n"
     ]
    }
   ],
   "source": [
    "# Define the team names\n",
    "team_names = [\n",
    "    'Arizona Cardinals', 'Atlanta Falcons', 'Baltimore Ravens', 'Buffalo Bills', 'Carolina Panthers',\n",
    "    'Chicago Bears', 'Cincinnati Bengals', 'Cleveland Browns', 'Dallas Cowboys', 'Denver Broncos',\n",
    "    'Detroit Lions', 'Green Bay Packers', 'Houston Texans', 'Indianapolis Colts', 'Jacksonville Jaguars',\n",
    "    'Kansas City Chiefs', 'Las Vegas Raiders', 'Los Angeles Chargers', 'Los Angeles Rams', 'Miami Dolphins',\n",
    "    'Minnesota Vikings', 'New England Patriots', 'New Orleans Saints', 'New York Giants', 'New York Jets',\n",
    "    'Philadelphia Eagles', 'Pittsburgh Steelers', 'San Francisco 49ers', 'Seattle Seahawks',\n",
    "    'Tampa Bay Buccaneers', 'Tennessee Titans', 'Washington Commanders'\n",
    "]\n",
    "\n",
    "# Print classification report with team names\n",
    "print(classification_report(y_test, SBpredictions, target_names=team_names))"
   ]
  },
  {
   "cell_type": "markdown",
   "id": "3d55e895",
   "metadata": {},
   "source": [
    "### Model Analysis\n",
    "#### This model has jumped up in accuracy to 21% from 7% accuracy. This still isn't a great accuracy for prediciton but it is a better model than the first. "
   ]
  },
  {
   "cell_type": "code",
   "execution_count": 43,
   "id": "e4915d4e",
   "metadata": {},
   "outputs": [
    {
     "name": "stdout",
     "output_type": "stream",
     "text": [
      "Off RYds/G     0.131944\n",
      "Off RushYds    0.130160\n",
      "Off PYds/G     0.123503\n",
      "Off PassYds    0.123140\n",
      "Off Tot/Pts    0.114010\n",
      "Off Tot/Pts    0.112048\n",
      "Off Pts/G      0.111382\n",
      "Wins           0.079029\n",
      "Losses         0.074784\n",
      "dtype: float64\n"
     ]
    },
    {
     "data": {
      "image/png": "[encoded data removed]",
      "text/plain": [
       "<Figure size 504x432 with 1 Axes>"
      ]
     },
     "metadata": {
      "needs_background": "light"
     },
     "output_type": "display_data"
    }
   ],
   "source": [
    "feature_importances = pd.Series(Offensemodel.feature_importances_, index=X.columns)\n",
    "feature_importances\n",
    "feature_importances.sort_values(inplace=True, ascending=False)\n",
    "print(feature_importances)\n",
    "feature_importances.plot(kind='barh', figsize=(7,6))\n",
    "plt.xlabel('Feature Importance')\n",
    "plt.ylabel('Features')\n",
    "plt.title('Feature Importances')\n",
    "plt.show()"
   ]
  },
  {
   "cell_type": "markdown",
   "id": "ac7ac578",
   "metadata": {},
   "source": [
    "## Running the same Random Forest Model but adding the Year column in to see if the accuracy increases. "
   ]
  },
  {
   "cell_type": "code",
   "execution_count": 44,
   "id": "d8f9f9c7",
   "metadata": {},
   "outputs": [
    {
     "name": "stdout",
     "output_type": "stream",
     "text": [
      "[[0 0 0 ... 0 0 0]\n",
      " [0 0 0 ... 0 0 0]\n",
      " [0 0 1 ... 0 0 0]\n",
      " ...\n",
      " [0 0 0 ... 1 0 0]\n",
      " [0 0 0 ... 0 0 0]\n",
      " [0 0 0 ... 0 0 0]]\n"
     ]
    }
   ],
   "source": [
    "# Define the predictor variables\n",
    "offense_yr = ['Off Tot/Pts', 'Off PassYds', 'Off RushYds', 'Off Tot/Pts', 'Off PYds/G', 'Off RYds/G',\n",
    "              'Off Pts/G','Wins', 'Losses', 'Year']\n",
    "\n",
    "# Create the feature matrix and target variable\n",
    "X = nfl[offense_yr]\n",
    "y = nfl['Team']\n",
    "\n",
    "# Split the data into training and testing sets\n",
    "X_train, X_test, y_train, y_test = train_test_split(X, y_encoded, test_size=0.2, random_state=123)\n",
    "\n",
    "# Train a random forest classifier\n",
    "Offyearmodel = RandomForestClassifier(n_estimators=100)\n",
    "Offyearmodel.fit(X_train, y_train)\n",
    "\n",
    "# Make predictions on the test set\n",
    "SB_offyear_predict = Offyearmodel.predict(X_test)\n",
    "\n",
    "# Evaluate the model\n",
    "cm3 = confusion_matrix(y_test, SB_offyear_predict)\n",
    "print(cm3)"
   ]
  },
  {
   "cell_type": "code",
   "execution_count": 45,
   "id": "61cd32ac",
   "metadata": {},
   "outputs": [
    {
     "data": {
      "image/png": "[encoded data removed]",
      "text/plain": [
       "<Figure size 432x288 with 2 Axes>"
      ]
     },
     "metadata": {
      "needs_background": "light"
     },
     "output_type": "display_data"
    }
   ],
   "source": [
    "# Create a confusion matrix heatmap\n",
    "sns.heatmap(cm3, annot=True, cmap='Blues')\n",
    "plt.xlabel('Predicted Labels')\n",
    "plt.ylabel('True Labels')\n",
    "plt.title('Confusion Matrix')\n",
    "plt.show()"
   ]
  },
  {
   "cell_type": "code",
   "execution_count": 46,
   "id": "fa7d4abd",
   "metadata": {},
   "outputs": [
    {
     "name": "stdout",
     "output_type": "stream",
     "text": [
      "                       precision    recall  f1-score   support\n",
      "\n",
      "    Arizona Cardinals       0.00      0.00      0.00         2\n",
      "      Atlanta Falcons       0.00      0.00      0.00         1\n",
      "     Baltimore Ravens       0.50      0.50      0.50         2\n",
      "        Buffalo Bills       0.00      0.00      0.00         0\n",
      "    Carolina Panthers       0.33      0.33      0.33         3\n",
      "        Chicago Bears       0.00      0.00      0.00         2\n",
      "   Cincinnati Bengals       0.33      0.50      0.40         2\n",
      "     Cleveland Browns       0.00      0.00      0.00         2\n",
      "       Dallas Cowboys       0.50      0.25      0.33         4\n",
      "       Denver Broncos       0.00      0.00      0.00         7\n",
      "        Detroit Lions       0.00      0.00      0.00         2\n",
      "    Green Bay Packers       0.00      0.00      0.00         5\n",
      "       Houston Texans       0.17      1.00      0.29         1\n",
      "   Indianapolis Colts       0.00      0.00      0.00         1\n",
      " Jacksonville Jaguars       0.00      0.00      0.00         1\n",
      "   Kansas City Chiefs       0.33      0.25      0.29         4\n",
      "    Las Vegas Raiders       0.00      0.00      0.00         3\n",
      " Los Angeles Chargers       0.33      1.00      0.50         1\n",
      "     Los Angeles Rams       0.25      1.00      0.40         1\n",
      "       Miami Dolphins       0.25      0.33      0.29         3\n",
      "    Minnesota Vikings       0.00      0.00      0.00         1\n",
      " New England Patriots       0.00      0.00      0.00         1\n",
      "   New Orleans Saints       0.33      0.33      0.33         3\n",
      "      New York Giants       0.00      0.00      0.00         0\n",
      "        New York Jets       0.00      0.00      0.00         6\n",
      "  Philadelphia Eagles       0.00      0.00      0.00         0\n",
      "  Pittsburgh Steelers       0.00      0.00      0.00         1\n",
      "  San Francisco 49ers       0.00      0.00      0.00         2\n",
      "     Seattle Seahawks       0.17      0.50      0.25         2\n",
      " Tampa Bay Buccaneers       1.00      0.25      0.40         4\n",
      "     Tennessee Titans       0.00      0.00      0.00         3\n",
      "Washington Commanders       0.00      0.00      0.00         1\n",
      "\n",
      "             accuracy                           0.17        71\n",
      "            macro avg       0.14      0.20      0.13        71\n",
      "         weighted avg       0.18      0.17      0.15        71\n",
      "\n"
     ]
    },
    {
     "name": "stderr",
     "output_type": "stream",
     "text": [
      "/Users/admin/opt/anaconda3/lib/python3.9/site-packages/sklearn/metrics/_classification.py:1318: UndefinedMetricWarning: Precision and F-score are ill-defined and being set to 0.0 in labels with no predicted samples. Use `zero_division` parameter to control this behavior.\n",
      "  _warn_prf(average, modifier, msg_start, len(result))\n",
      "/Users/admin/opt/anaconda3/lib/python3.9/site-packages/sklearn/metrics/_classification.py:1318: UndefinedMetricWarning: Recall and F-score are ill-defined and being set to 0.0 in labels with no true samples. Use `zero_division` parameter to control this behavior.\n",
      "  _warn_prf(average, modifier, msg_start, len(result))\n",
      "/Users/admin/opt/anaconda3/lib/python3.9/site-packages/sklearn/metrics/_classification.py:1318: UndefinedMetricWarning: Precision and F-score are ill-defined and being set to 0.0 in labels with no predicted samples. Use `zero_division` parameter to control this behavior.\n",
      "  _warn_prf(average, modifier, msg_start, len(result))\n",
      "/Users/admin/opt/anaconda3/lib/python3.9/site-packages/sklearn/metrics/_classification.py:1318: UndefinedMetricWarning: Recall and F-score are ill-defined and being set to 0.0 in labels with no true samples. Use `zero_division` parameter to control this behavior.\n",
      "  _warn_prf(average, modifier, msg_start, len(result))\n",
      "/Users/admin/opt/anaconda3/lib/python3.9/site-packages/sklearn/metrics/_classification.py:1318: UndefinedMetricWarning: Precision and F-score are ill-defined and being set to 0.0 in labels with no predicted samples. Use `zero_division` parameter to control this behavior.\n",
      "  _warn_prf(average, modifier, msg_start, len(result))\n",
      "/Users/admin/opt/anaconda3/lib/python3.9/site-packages/sklearn/metrics/_classification.py:1318: UndefinedMetricWarning: Recall and F-score are ill-defined and being set to 0.0 in labels with no true samples. Use `zero_division` parameter to control this behavior.\n",
      "  _warn_prf(average, modifier, msg_start, len(result))\n",
      "/Users/admin/opt/anaconda3/lib/python3.9/site-packages/sklearn/metrics/_classification.py:1318: UndefinedMetricWarning: Precision and F-score are ill-defined and being set to 0.0 in labels with no predicted samples. Use `zero_division` parameter to control this behavior.\n",
      "  _warn_prf(average, modifier, msg_start, len(result))\n",
      "/Users/admin/opt/anaconda3/lib/python3.9/site-packages/sklearn/metrics/_classification.py:1318: UndefinedMetricWarning: Recall and F-score are ill-defined and being set to 0.0 in labels with no true samples. Use `zero_division` parameter to control this behavior.\n",
      "  _warn_prf(average, modifier, msg_start, len(result))\n",
      "/Users/admin/opt/anaconda3/lib/python3.9/site-packages/sklearn/metrics/_classification.py:1318: UndefinedMetricWarning: Precision and F-score are ill-defined and being set to 0.0 in labels with no predicted samples. Use `zero_division` parameter to control this behavior.\n",
      "  _warn_prf(average, modifier, msg_start, len(result))\n",
      "/Users/admin/opt/anaconda3/lib/python3.9/site-packages/sklearn/metrics/_classification.py:1318: UndefinedMetricWarning: Recall and F-score are ill-defined and being set to 0.0 in labels with no true samples. Use `zero_division` parameter to control this behavior.\n",
      "  _warn_prf(average, modifier, msg_start, len(result))\n",
      "/Users/admin/opt/anaconda3/lib/python3.9/site-packages/sklearn/metrics/_classification.py:1318: UndefinedMetricWarning: Precision and F-score are ill-defined and being set to 0.0 in labels with no predicted samples. Use `zero_division` parameter to control this behavior.\n",
      "  _warn_prf(average, modifier, msg_start, len(result))\n",
      "/Users/admin/opt/anaconda3/lib/python3.9/site-packages/sklearn/metrics/_classification.py:1318: UndefinedMetricWarning: Recall and F-score are ill-defined and being set to 0.0 in labels with no true samples. Use `zero_division` parameter to control this behavior.\n",
      "  _warn_prf(average, modifier, msg_start, len(result))\n"
     ]
    }
   ],
   "source": [
    "# Generate the classification report\n",
    "report = classification_report(y_test, SB_offyear_predict)\n",
    "print(classification_report(y_test, SB_offyear_predict, target_names=team_names))"
   ]
  },
  {
   "cell_type": "markdown",
   "id": "b78675b4",
   "metadata": {},
   "source": [
    "### Model Analysis\n",
    "#### This model is at 18% accuracy. Adding the year actually took away from the accuracy instead of making it better."
   ]
  },
  {
   "cell_type": "markdown",
   "id": "3b03937d",
   "metadata": {},
   "source": [
    "### Assessing Features Importance"
   ]
  },
  {
   "cell_type": "code",
   "execution_count": 48,
   "id": "cf495f03",
   "metadata": {},
   "outputs": [
    {
     "name": "stdout",
     "output_type": "stream",
     "text": [
      "Off RYds/G     0.118770\n",
      "Off RushYds    0.116054\n",
      "Off PYds/G     0.115554\n",
      "Off PassYds    0.113815\n",
      "Off Tot/Pts    0.105863\n",
      "Off Tot/Pts    0.100987\n",
      "Off Pts/G      0.100014\n",
      "Year           0.084786\n",
      "Wins           0.073129\n",
      "Losses         0.071028\n",
      "dtype: float64\n"
     ]
    },
    {
     "data": {
      "image/png": "[encoded data removed]",
      "text/plain": [
       "<Figure size 504x432 with 1 Axes>"
      ]
     },
     "metadata": {
      "needs_background": "light"
     },
     "output_type": "display_data"
    }
   ],
   "source": [
    "feature_importances = pd.Series(Offyearmodel.feature_importances_, index=X.columns)\n",
    "feature_importances\n",
    "feature_importances.sort_values(inplace=True, ascending=False)\n",
    "print(feature_importances)\n",
    "feature_importances.plot(kind='barh', figsize=(7,6))\n",
    "plt.xlabel('Feature Importance')\n",
    "plt.ylabel('Features')\n",
    "plt.title('Feature Importances')\n",
    "plt.show()"
   ]
  },
  {
   "cell_type": "markdown",
   "id": "faae4c22",
   "metadata": {},
   "source": [
    "## Perform a Random Forest Model with all variables in dataset to test for higher accuracy in prediction. "
   ]
  },
  {
   "cell_type": "code",
   "execution_count": 49,
   "id": "6e9af4e7",
   "metadata": {},
   "outputs": [],
   "source": [
    "# Recode the Superbowl to numeric\n",
    "def superbowl (series): \n",
    "    if series == \"No\":\n",
    "        return 0\n",
    "    if series == \"Yes\": \n",
    "        return 1\n",
    "nfl['SuperbowlR'] = nfl['Superbowl'].apply(superbowl)\n"
   ]
  },
  {
   "cell_type": "code",
   "execution_count": 50,
   "id": "c0b6e75a",
   "metadata": {},
   "outputs": [
    {
     "name": "stdout",
     "output_type": "stream",
     "text": [
      "[[0 0 0 ... 0 0 0]\n",
      " [0 0 0 ... 0 0 0]\n",
      " [0 0 1 ... 0 1 0]\n",
      " ...\n",
      " [0 1 0 ... 0 0 0]\n",
      " [0 0 0 ... 0 0 0]\n",
      " [0 0 0 ... 0 0 0]]\n"
     ]
    }
   ],
   "source": [
    "# Define the predictor variables (did not use Tie or SB Wins Variable)\n",
    "allstats = ['Off Tot/Pts', 'Off PassYds', 'Off RushYds', 'Off PYds/G', 'Off RYds/G', 'Off TotYds', \n",
    "              'Off Pts/G', 'Off Yds/G', 'Wins', 'Losses', 'Year', 'Def Tot/Pts', 'Def PassYds', 'Def RushYds', \n",
    "             'Def Tot/Pts', 'Def PYds/G', 'Def RYds/G', 'Def Pts/G', 'Def TotYds', 'Def Yds/G', 'SuperbowlR']\n",
    "\n",
    "# Create the feature matrix and target variable\n",
    "X = nfl[allstats]\n",
    "y = nfl['Team']\n",
    "\n",
    "\n",
    "# Split the data into training and testing sets\n",
    "X_train, X_test, y_train, y_test = train_test_split(X, y_encoded, test_size=0.2, random_state=123)\n",
    "\n",
    "# Train a random forest classifier\n",
    "allstatsmodel = RandomForestClassifier(n_estimators=100)\n",
    "allstatsmodel.fit(X_train, y_train)\n",
    "\n",
    "# Make predictions on the test set\n",
    "allstats_predict = allstatsmodel.predict(X_test)\n",
    "\n",
    "# Evaluate the model\n",
    "cm4 = confusion_matrix(y_test, allstats_predict)\n",
    "print(cm4)"
   ]
  },
  {
   "cell_type": "code",
   "execution_count": 51,
   "id": "7be4a92f",
   "metadata": {},
   "outputs": [
    {
     "data": {
      "image/png": "[encoded data removed]",
      "text/plain": [
       "<Figure size 432x288 with 2 Axes>"
      ]
     },
     "metadata": {
      "needs_background": "light"
     },
     "output_type": "display_data"
    }
   ],
   "source": [
    "# Create a confusion matrix heatmap\n",
    "sns.heatmap(cm4, annot=True, cmap='Blues')\n",
    "plt.xlabel('Predicted Labels')\n",
    "plt.ylabel('True Labels')\n",
    "plt.title('Confusion Matrix')\n",
    "plt.show()"
   ]
  },
  {
   "cell_type": "code",
   "execution_count": 52,
   "id": "817d1090",
   "metadata": {
    "scrolled": true
   },
   "outputs": [
    {
     "name": "stdout",
     "output_type": "stream",
     "text": [
      "                       precision    recall  f1-score   support\n",
      "\n",
      "    Arizona Cardinals       0.00      0.00      0.00         2\n",
      "      Atlanta Falcons       0.00      0.00      0.00         1\n",
      "     Baltimore Ravens       0.50      0.50      0.50         2\n",
      "        Buffalo Bills       0.00      0.00      0.00         0\n",
      "    Carolina Panthers       0.00      0.00      0.00         3\n",
      "        Chicago Bears       0.00      0.00      0.00         2\n",
      "   Cincinnati Bengals       0.00      0.00      0.00         2\n",
      "     Cleveland Browns       0.00      0.00      0.00         2\n",
      "       Dallas Cowboys       0.33      0.25      0.29         4\n",
      "       Denver Broncos       0.00      0.00      0.00         7\n",
      "        Detroit Lions       0.00      0.00      0.00         2\n",
      "    Green Bay Packers       0.00      0.00      0.00         5\n",
      "       Houston Texans       0.00      0.00      0.00         1\n",
      "   Indianapolis Colts       0.00      0.00      0.00         1\n",
      " Jacksonville Jaguars       0.00      0.00      0.00         1\n",
      "   Kansas City Chiefs       0.00      0.00      0.00         4\n",
      "    Las Vegas Raiders       0.00      0.00      0.00         3\n",
      " Los Angeles Chargers       0.00      0.00      0.00         1\n",
      "     Los Angeles Rams       0.00      0.00      0.00         1\n",
      "       Miami Dolphins       0.00      0.00      0.00         3\n",
      "    Minnesota Vikings       0.00      0.00      0.00         1\n",
      " New England Patriots       0.00      0.00      0.00         1\n",
      "   New Orleans Saints       0.50      0.33      0.40         3\n",
      "      New York Giants       0.00      0.00      0.00         0\n",
      "        New York Jets       0.00      0.00      0.00         6\n",
      "  Philadelphia Eagles       0.00      0.00      0.00         0\n",
      "  Pittsburgh Steelers       0.00      0.00      0.00         1\n",
      "  San Francisco 49ers       0.00      0.00      0.00         2\n",
      "     Seattle Seahawks       0.00      0.00      0.00         2\n",
      " Tampa Bay Buccaneers       0.00      0.00      0.00         4\n",
      "     Tennessee Titans       0.00      0.00      0.00         3\n",
      "Washington Commanders       0.00      0.00      0.00         1\n",
      "\n",
      "             accuracy                           0.04        71\n",
      "            macro avg       0.04      0.03      0.04        71\n",
      "         weighted avg       0.05      0.04      0.05        71\n",
      "\n"
     ]
    },
    {
     "name": "stderr",
     "output_type": "stream",
     "text": [
      "/Users/admin/opt/anaconda3/lib/python3.9/site-packages/sklearn/metrics/_classification.py:1318: UndefinedMetricWarning: Precision and F-score are ill-defined and being set to 0.0 in labels with no predicted samples. Use `zero_division` parameter to control this behavior.\n",
      "  _warn_prf(average, modifier, msg_start, len(result))\n",
      "/Users/admin/opt/anaconda3/lib/python3.9/site-packages/sklearn/metrics/_classification.py:1318: UndefinedMetricWarning: Recall and F-score are ill-defined and being set to 0.0 in labels with no true samples. Use `zero_division` parameter to control this behavior.\n",
      "  _warn_prf(average, modifier, msg_start, len(result))\n",
      "/Users/admin/opt/anaconda3/lib/python3.9/site-packages/sklearn/metrics/_classification.py:1318: UndefinedMetricWarning: Precision and F-score are ill-defined and being set to 0.0 in labels with no predicted samples. Use `zero_division` parameter to control this behavior.\n",
      "  _warn_prf(average, modifier, msg_start, len(result))\n",
      "/Users/admin/opt/anaconda3/lib/python3.9/site-packages/sklearn/metrics/_classification.py:1318: UndefinedMetricWarning: Recall and F-score are ill-defined and being set to 0.0 in labels with no true samples. Use `zero_division` parameter to control this behavior.\n",
      "  _warn_prf(average, modifier, msg_start, len(result))\n",
      "/Users/admin/opt/anaconda3/lib/python3.9/site-packages/sklearn/metrics/_classification.py:1318: UndefinedMetricWarning: Precision and F-score are ill-defined and being set to 0.0 in labels with no predicted samples. Use `zero_division` parameter to control this behavior.\n",
      "  _warn_prf(average, modifier, msg_start, len(result))\n",
      "/Users/admin/opt/anaconda3/lib/python3.9/site-packages/sklearn/metrics/_classification.py:1318: UndefinedMetricWarning: Recall and F-score are ill-defined and being set to 0.0 in labels with no true samples. Use `zero_division` parameter to control this behavior.\n",
      "  _warn_prf(average, modifier, msg_start, len(result))\n",
      "/Users/admin/opt/anaconda3/lib/python3.9/site-packages/sklearn/metrics/_classification.py:1318: UndefinedMetricWarning: Precision and F-score are ill-defined and being set to 0.0 in labels with no predicted samples. Use `zero_division` parameter to control this behavior.\n",
      "  _warn_prf(average, modifier, msg_start, len(result))\n",
      "/Users/admin/opt/anaconda3/lib/python3.9/site-packages/sklearn/metrics/_classification.py:1318: UndefinedMetricWarning: Recall and F-score are ill-defined and being set to 0.0 in labels with no true samples. Use `zero_division` parameter to control this behavior.\n",
      "  _warn_prf(average, modifier, msg_start, len(result))\n",
      "/Users/admin/opt/anaconda3/lib/python3.9/site-packages/sklearn/metrics/_classification.py:1318: UndefinedMetricWarning: Precision and F-score are ill-defined and being set to 0.0 in labels with no predicted samples. Use `zero_division` parameter to control this behavior.\n",
      "  _warn_prf(average, modifier, msg_start, len(result))\n",
      "/Users/admin/opt/anaconda3/lib/python3.9/site-packages/sklearn/metrics/_classification.py:1318: UndefinedMetricWarning: Recall and F-score are ill-defined and being set to 0.0 in labels with no true samples. Use `zero_division` parameter to control this behavior.\n",
      "  _warn_prf(average, modifier, msg_start, len(result))\n",
      "/Users/admin/opt/anaconda3/lib/python3.9/site-packages/sklearn/metrics/_classification.py:1318: UndefinedMetricWarning: Precision and F-score are ill-defined and being set to 0.0 in labels with no predicted samples. Use `zero_division` parameter to control this behavior.\n",
      "  _warn_prf(average, modifier, msg_start, len(result))\n",
      "/Users/admin/opt/anaconda3/lib/python3.9/site-packages/sklearn/metrics/_classification.py:1318: UndefinedMetricWarning: Recall and F-score are ill-defined and being set to 0.0 in labels with no true samples. Use `zero_division` parameter to control this behavior.\n",
      "  _warn_prf(average, modifier, msg_start, len(result))\n"
     ]
    }
   ],
   "source": [
    "# Generate the classification report\n",
    "report4 = classification_report(y_test, allstats_predict)\n",
    "print(classification_report(y_test, allstats_predict, target_names=team_names))"
   ]
  },
  {
   "cell_type": "code",
   "execution_count": 53,
   "id": "eb26eed8",
   "metadata": {},
   "outputs": [
    {
     "name": "stdout",
     "output_type": "stream",
     "text": [
      "Arizona Cardinals\n",
      "Tennessee Titans\n",
      "Los Angeles Chargers\n",
      "Cincinnati Bengals\n",
      "23\n",
      "18\n",
      "23\n",
      "1\n"
     ]
    }
   ],
   "source": [
    "for team in predicted_teams:\n",
    "    print(team)\n",
    "allstats_predict = allstatsmodel.predict(X_test)\n",
    "predicted_teams = allstats_predict[:4]  \n",
    "\n",
    "for team in predicted_teams:\n",
    "    print(team)"
   ]
  },
  {
   "cell_type": "markdown",
   "id": "4fc498a7",
   "metadata": {},
   "source": [
    "### Model Analysis\n",
    "#### This model has  7% accuracy. More variables didn't increase accuracy. The model with just offense stats has had the greatest accuracy so far. It did print the predicted teams as Arizona Cardinals, Tennesse Titans, Los Angeles Chargers, Cincinnati Bengals."
   ]
  },
  {
   "cell_type": "markdown",
   "id": "e57776db",
   "metadata": {},
   "source": [
    "## Logistic Regression for Superbowl Team Prediction Model"
   ]
  },
  {
   "cell_type": "code",
   "execution_count": 54,
   "id": "49c1f9ed",
   "metadata": {},
   "outputs": [
    {
     "data": {
      "text/html": [
       "<div>\n",
       "<style scoped>\n",
       "    .dataframe tbody tr th:only-of-type {\n",
       "        vertical-align: middle;\n",
       "    }\n",
       "\n",
       "    .dataframe tbody tr th {\n",
       "        vertical-align: top;\n",
       "    }\n",
       "\n",
       "    .dataframe thead th {\n",
       "        text-align: right;\n",
       "    }\n",
       "</style>\n",
       "<table border=\"1\" class=\"dataframe\">\n",
       "  <thead>\n",
       "    <tr style=\"text-align: right;\">\n",
       "      <th></th>\n",
       "      <th>Team</th>\n",
       "      <th>Off Tot/Pts</th>\n",
       "      <th>Off Pts/G</th>\n",
       "      <th>Off RushYds</th>\n",
       "      <th>Off RYds/G</th>\n",
       "      <th>Off PassYds</th>\n",
       "      <th>Off PYds/G</th>\n",
       "      <th>Off TotYds</th>\n",
       "      <th>Off Yds/G</th>\n",
       "      <th>Def Tot/Pts</th>\n",
       "      <th>...</th>\n",
       "      <th>Def TotYds</th>\n",
       "      <th>Def Yds/G</th>\n",
       "      <th>Year</th>\n",
       "      <th>Wins</th>\n",
       "      <th>Losses</th>\n",
       "      <th>Tie</th>\n",
       "      <th>Superbowl</th>\n",
       "      <th>SB Win</th>\n",
       "      <th>SuperbowlR</th>\n",
       "      <th>SB WinR</th>\n",
       "    </tr>\n",
       "  </thead>\n",
       "  <tbody>\n",
       "    <tr>\n",
       "      <th>0</th>\n",
       "      <td>Arizona Cardinals</td>\n",
       "      <td>250</td>\n",
       "      <td>15.6</td>\n",
       "      <td>1204</td>\n",
       "      <td>75.2</td>\n",
       "      <td>3005</td>\n",
       "      <td>187.8</td>\n",
       "      <td>4209</td>\n",
       "      <td>263.1</td>\n",
       "      <td>357</td>\n",
       "      <td>...</td>\n",
       "      <td>5405</td>\n",
       "      <td>337.8</td>\n",
       "      <td>2012</td>\n",
       "      <td>5</td>\n",
       "      <td>11</td>\n",
       "      <td>0.0</td>\n",
       "      <td>No</td>\n",
       "      <td>No</td>\n",
       "      <td>0</td>\n",
       "      <td>0</td>\n",
       "    </tr>\n",
       "    <tr>\n",
       "      <th>1</th>\n",
       "      <td>Atlanta Falcons</td>\n",
       "      <td>419</td>\n",
       "      <td>26.2</td>\n",
       "      <td>1397</td>\n",
       "      <td>87.3</td>\n",
       "      <td>4509</td>\n",
       "      <td>281.8</td>\n",
       "      <td>5906</td>\n",
       "      <td>369.1</td>\n",
       "      <td>299</td>\n",
       "      <td>...</td>\n",
       "      <td>5849</td>\n",
       "      <td>365.6</td>\n",
       "      <td>2012</td>\n",
       "      <td>13</td>\n",
       "      <td>3</td>\n",
       "      <td>0.0</td>\n",
       "      <td>No</td>\n",
       "      <td>No</td>\n",
       "      <td>0</td>\n",
       "      <td>0</td>\n",
       "    </tr>\n",
       "    <tr>\n",
       "      <th>2</th>\n",
       "      <td>Baltimore Ravens</td>\n",
       "      <td>398</td>\n",
       "      <td>24.9</td>\n",
       "      <td>1901</td>\n",
       "      <td>118.8</td>\n",
       "      <td>3739</td>\n",
       "      <td>233.7</td>\n",
       "      <td>5640</td>\n",
       "      <td>352.5</td>\n",
       "      <td>344</td>\n",
       "      <td>...</td>\n",
       "      <td>5615</td>\n",
       "      <td>350.9</td>\n",
       "      <td>2012</td>\n",
       "      <td>10</td>\n",
       "      <td>6</td>\n",
       "      <td>0.0</td>\n",
       "      <td>Yes</td>\n",
       "      <td>Yes</td>\n",
       "      <td>1</td>\n",
       "      <td>1</td>\n",
       "    </tr>\n",
       "    <tr>\n",
       "      <th>3</th>\n",
       "      <td>Buffalo Bills</td>\n",
       "      <td>344</td>\n",
       "      <td>21.5</td>\n",
       "      <td>2217</td>\n",
       "      <td>138.6</td>\n",
       "      <td>3269</td>\n",
       "      <td>204.3</td>\n",
       "      <td>5486</td>\n",
       "      <td>342.9</td>\n",
       "      <td>435</td>\n",
       "      <td>...</td>\n",
       "      <td>5806</td>\n",
       "      <td>362.9</td>\n",
       "      <td>2012</td>\n",
       "      <td>6</td>\n",
       "      <td>10</td>\n",
       "      <td>0.0</td>\n",
       "      <td>No</td>\n",
       "      <td>No</td>\n",
       "      <td>0</td>\n",
       "      <td>0</td>\n",
       "    </tr>\n",
       "    <tr>\n",
       "      <th>4</th>\n",
       "      <td>Carolina Panthers</td>\n",
       "      <td>357</td>\n",
       "      <td>22.3</td>\n",
       "      <td>2088</td>\n",
       "      <td>130.5</td>\n",
       "      <td>3683</td>\n",
       "      <td>230.2</td>\n",
       "      <td>5771</td>\n",
       "      <td>360.7</td>\n",
       "      <td>363</td>\n",
       "      <td>...</td>\n",
       "      <td>5329</td>\n",
       "      <td>333.1</td>\n",
       "      <td>2012</td>\n",
       "      <td>7</td>\n",
       "      <td>9</td>\n",
       "      <td>0.0</td>\n",
       "      <td>No</td>\n",
       "      <td>No</td>\n",
       "      <td>0</td>\n",
       "      <td>0</td>\n",
       "    </tr>\n",
       "  </tbody>\n",
       "</table>\n",
       "<p>5 rows × 25 columns</p>\n",
       "</div>"
      ],
      "text/plain": [
       "                Team  Off Tot/Pts  Off Pts/G  Off RushYds  Off RYds/G  \\\n",
       "0  Arizona Cardinals          250       15.6         1204        75.2   \n",
       "1    Atlanta Falcons          419       26.2         1397        87.3   \n",
       "2   Baltimore Ravens          398       24.9         1901       118.8   \n",
       "3      Buffalo Bills          344       21.5         2217       138.6   \n",
       "4  Carolina Panthers          357       22.3         2088       130.5   \n",
       "\n",
       "   Off PassYds  Off PYds/G  Off TotYds  Off Yds/G  Def Tot/Pts  ...  \\\n",
       "0         3005       187.8        4209      263.1          357  ...   \n",
       "1         4509       281.8        5906      369.1          299  ...   \n",
       "2         3739       233.7        5640      352.5          344  ...   \n",
       "3         3269       204.3        5486      342.9          435  ...   \n",
       "4         3683       230.2        5771      360.7          363  ...   \n",
       "\n",
       "   Def TotYds  Def Yds/G  Year  Wins  Losses  Tie  Superbowl  SB Win  \\\n",
       "0        5405      337.8  2012     5      11  0.0         No      No   \n",
       "1        5849      365.6  2012    13       3  0.0         No      No   \n",
       "2        5615      350.9  2012    10       6  0.0        Yes     Yes   \n",
       "3        5806      362.9  2012     6      10  0.0         No      No   \n",
       "4        5329      333.1  2012     7       9  0.0         No      No   \n",
       "\n",
       "   SuperbowlR  SB WinR  \n",
       "0           0        0  \n",
       "1           0        0  \n",
       "2           1        1  \n",
       "3           0        0  \n",
       "4           0        0  \n",
       "\n",
       "[5 rows x 25 columns]"
      ]
     },
     "execution_count": 54,
     "metadata": {},
     "output_type": "execute_result"
    }
   ],
   "source": [
    "# Recode all categorical Variables\n",
    "def superbowl (series): \n",
    "    if series == \"No\":\n",
    "        return 0\n",
    "    if series == \"Yes\": \n",
    "        return 1\n",
    "nfl['SuperbowlR'] = nfl['Superbowl'].apply(superbowl)\n",
    "\n",
    "def sbwins (series): \n",
    "    if series == \"No\":\n",
    "        return 0\n",
    "    if series == \"Yes\": \n",
    "        return 1\n",
    "nfl['SB WinR'] = nfl['SB Win'].apply(sbwins)\n",
    "nfl.head()"
   ]
  },
  {
   "cell_type": "code",
   "execution_count": 55,
   "id": "4ee45b36",
   "metadata": {},
   "outputs": [
    {
     "name": "stdout",
     "output_type": "stream",
     "text": [
      "Index(['Tie'], dtype='object')\n"
     ]
    }
   ],
   "source": [
    "missing_values = nfl.isnull().sum()\n",
    "\n",
    "columns_with_missing_values = missing_values[missing_values > 0].index\n",
    "print(columns_with_missing_values)"
   ]
  },
  {
   "cell_type": "code",
   "execution_count": 56,
   "id": "539db35a",
   "metadata": {},
   "outputs": [
    {
     "name": "stdout",
     "output_type": "stream",
     "text": [
      "Cincinnati Bengals\n",
      "Cleveland Browns\n",
      "New Orleans Saints\n",
      "Cincinnati Bengals\n"
     ]
    },
    {
     "name": "stderr",
     "output_type": "stream",
     "text": [
      "/Users/admin/opt/anaconda3/lib/python3.9/site-packages/sklearn/linear_model/_logistic.py:814: ConvergenceWarning: lbfgs failed to converge (status=1):\n",
      "STOP: TOTAL NO. of ITERATIONS REACHED LIMIT.\n",
      "\n",
      "Increase the number of iterations (max_iter) or scale the data as shown in:\n",
      "    https://scikit-learn.org/stable/modules/preprocessing.html\n",
      "Please also refer to the documentation for alternative solver options:\n",
      "    https://scikit-learn.org/stable/modules/linear_model.html#logistic-regression\n",
      "  n_iter_i = _check_optimize_result(\n"
     ]
    }
   ],
   "source": [
    "# Split the data into features (X) and target (y)\n",
    "X = nfl.drop(['Team','Superbowl', \n",
    "             'SB Win','Tie'], axis=1)\n",
    "y = nfl['Team']\n",
    "\n",
    "# Split the data into training and testing sets\n",
    "X_train, X_test, y_train, y_test = train_test_split(X, y, test_size=0.2, random_state=42)\n",
    "\n",
    "# Train the model\n",
    "model = LogisticRegression()\n",
    "model.fit(X_train, y_train)\n",
    "\n",
    "# Make predictions\n",
    "predictions = model.predict(X_test)\n",
    "\n",
    "# Print the predicted teams for the Super Bowl\n",
    "predicted_teams = predictions[:4]  # Adjust the range to include 2-4 teams based on your preference\n",
    "\n",
    "for team in predicted_teams:\n",
    "    print(team)"
   ]
  },
  {
   "cell_type": "markdown",
   "id": "0e2af978",
   "metadata": {},
   "source": [
    "#### What is the accuracy of my logistic regression model?"
   ]
  },
  {
   "cell_type": "code",
   "execution_count": 57,
   "id": "ff2629ef",
   "metadata": {},
   "outputs": [
    {
     "name": "stdout",
     "output_type": "stream",
     "text": [
      "Accuracy: 0.04225352112676056\n"
     ]
    }
   ],
   "source": [
    "# Make predictions\n",
    "SBpredictions2 = model.predict(X_test)\n",
    "\n",
    "# Calculate accuracy\n",
    "accuracy = accuracy_score(y_test, SBpredictions2)\n",
    "\n",
    "print(\"Accuracy:\", accuracy)"
   ]
  },
  {
   "cell_type": "markdown",
   "id": "2038990f",
   "metadata": {},
   "source": [
    "#### While I did get it to print out 4 teams to make the Superbowl this year, I was surprised at the results.  The Cincinnati Bengals were predicted twice and they are the only team to be in the Superbowl in the last 10 years of the 4 teams listed. I printed the accuracy score and it showed 4% accuracy which is horribly low for sports predictions. Need to try different combinations of variables for better accuracy. "
   ]
  },
  {
   "cell_type": "markdown",
   "id": "2a1ff7ba",
   "metadata": {},
   "source": [
    "## Second attempt at a logistic regression model for Superbowl Prediction. "
   ]
  },
  {
   "cell_type": "markdown",
   "id": "b07a891c",
   "metadata": {},
   "source": [
    "#### Model Setup: Will use the same variables from my random forest model that got me 21% accuracy and see if my regression model has better predictions and accuracy. "
   ]
  },
  {
   "cell_type": "code",
   "execution_count": 58,
   "id": "7847162d",
   "metadata": {},
   "outputs": [
    {
     "name": "stdout",
     "output_type": "stream",
     "text": [
      "Arizona Cardinals\n",
      "Tennessee Titans\n",
      "Los Angeles Chargers\n",
      "Cincinnati Bengals\n"
     ]
    },
    {
     "name": "stderr",
     "output_type": "stream",
     "text": [
      "/Users/admin/opt/anaconda3/lib/python3.9/site-packages/sklearn/linear_model/_logistic.py:814: ConvergenceWarning: lbfgs failed to converge (status=1):\n",
      "STOP: TOTAL NO. of ITERATIONS REACHED LIMIT.\n",
      "\n",
      "Increase the number of iterations (max_iter) or scale the data as shown in:\n",
      "    https://scikit-learn.org/stable/modules/preprocessing.html\n",
      "Please also refer to the documentation for alternative solver options:\n",
      "    https://scikit-learn.org/stable/modules/linear_model.html#logistic-regression\n",
      "  n_iter_i = _check_optimize_result(\n"
     ]
    }
   ],
   "source": [
    "# Split the data into features (X) and target (y)\n",
    "X = nfl.drop(['Team','Superbowl','SuperbowlR','Def Tot/Pts','Def Pts/G', 'Def PassYds', 'Def RushYds', \n",
    "             'Def PYds/G', 'Def RYds/G', 'Def TotYds', 'Def Yds/G', 'SB Win','Tie'], axis=1)\n",
    "y = nfl['Team']\n",
    "\n",
    "# Split the data into training and testing sets\n",
    "X_train, X_test, y_train, y_test = train_test_split(X, y, test_size=0.2, random_state=42)\n",
    "\n",
    "# Train the model\n",
    "nflmodel = LogisticRegression()\n",
    "nflmodel.fit(X_train, y_train)\n",
    "\n",
    "# Make predictions\n",
    "predictions = nflmodel.predict(X_test)\n",
    "\n",
    "# Print the predicted teams for the Super Bowl\n",
    "predicted_teams = predictions[:4]  # Adjust the range to include 2-4 teams based on your preference\n",
    "\n",
    "for team in predicted_teams:\n",
    "    print(team)"
   ]
  },
  {
   "cell_type": "markdown",
   "id": "91552e87",
   "metadata": {},
   "source": [
    "### What is the accuracy score of this regression model?"
   ]
  },
  {
   "cell_type": "code",
   "execution_count": 59,
   "id": "a2ef1ecc",
   "metadata": {},
   "outputs": [
    {
     "name": "stdout",
     "output_type": "stream",
     "text": [
      "Accuracy: 0.056338028169014086\n"
     ]
    }
   ],
   "source": [
    "# Make predictions\n",
    "SBpredictions3 = nflmodel.predict(X_test)\n",
    "\n",
    "# Calculate accuracy\n",
    "accuracy = accuracy_score(y_test, SBpredictions3)\n",
    "\n",
    "print(\"Accuracy:\", accuracy)"
   ]
  },
  {
   "cell_type": "markdown",
   "id": "0ae60bf2",
   "metadata": {},
   "source": [
    "#### This model didn't increase much but went up to 5.63% accuracy. It did print out 4 different teams. It did however produce 3 teams from the AFC and 1 from the NFC. Again, only 1 of theses teams has been to the Superbowl in the last 10 years, the Cincinnati Bengals. I do find it interesting that the Cincinnati Bengals showed up again in this model."
   ]
  },
  {
   "cell_type": "markdown",
   "id": "e6269a36",
   "metadata": {},
   "source": [
    "## 3rd Regression Model attempt. This one will focus on just Offense - no year or superbowl related columns."
   ]
  },
  {
   "cell_type": "code",
   "execution_count": 60,
   "id": "d5decd1c",
   "metadata": {},
   "outputs": [
    {
     "name": "stdout",
     "output_type": "stream",
     "text": [
      "Atlanta Falcons\n",
      "Tennessee Titans\n",
      "Detroit Lions\n",
      "Cincinnati Bengals\n"
     ]
    },
    {
     "name": "stderr",
     "output_type": "stream",
     "text": [
      "/Users/admin/opt/anaconda3/lib/python3.9/site-packages/sklearn/linear_model/_logistic.py:814: ConvergenceWarning: lbfgs failed to converge (status=1):\n",
      "STOP: TOTAL NO. of ITERATIONS REACHED LIMIT.\n",
      "\n",
      "Increase the number of iterations (max_iter) or scale the data as shown in:\n",
      "    https://scikit-learn.org/stable/modules/preprocessing.html\n",
      "Please also refer to the documentation for alternative solver options:\n",
      "    https://scikit-learn.org/stable/modules/linear_model.html#logistic-regression\n",
      "  n_iter_i = _check_optimize_result(\n"
     ]
    }
   ],
   "source": [
    "# Split the data into features (X) and target (y)\n",
    "X = nfl.drop(['Team','Superbowl','SB Win','Def Tot/Pts','Def Pts/G', 'Def PassYds', 'Def RushYds', \n",
    "             'Def PYds/G', 'Def RYds/G', 'Def TotYds', 'Def Yds/G', 'Tie', 'SuperbowlR', \n",
    "             'Year'], axis=1)\n",
    "y = nfl['Team']\n",
    "\n",
    "# Split the data into training and testing sets\n",
    "X_train, X_test, y_train, y_test = train_test_split(X, y, test_size=0.2, random_state=42)\n",
    "\n",
    "# Train the model\n",
    "nflmodel2 = LogisticRegression()\n",
    "nflmodel2.fit(X_train, y_train)\n",
    "\n",
    "# Make predictions\n",
    "predictions1 = nflmodel2.predict(X_test)\n",
    "\n",
    "# Print the predicted teams for the Super Bowl\n",
    "predicted_teams1 = predictions1[:4]  # Adjust the range to include 2-4 teams based on your preference\n",
    "\n",
    "for team in predicted_teams1:\n",
    "    print(team)"
   ]
  },
  {
   "cell_type": "code",
   "execution_count": 61,
   "id": "9e6bbef3",
   "metadata": {},
   "outputs": [
    {
     "name": "stdout",
     "output_type": "stream",
     "text": [
      "Accuracy: 0.04225352112676056\n"
     ]
    }
   ],
   "source": [
    "# Make predictions\n",
    "SBpredictions4 = nflmodel2.predict(X_test)\n",
    "\n",
    "# Calculate accuracy\n",
    "accuracy = accuracy_score(y_test, SBpredictions4)\n",
    "\n",
    "print(\"Accuracy:\", accuracy)"
   ]
  },
  {
   "cell_type": "markdown",
   "id": "427ef127",
   "metadata": {},
   "source": [
    "#### The accuracy went down to 4.2% but it did predict 4 different teams. Two of these teams have been to the Superbowl in the last 10 years. While not very accurate I do find it interesting.  It also listed two teams from the AFC and two teams from the NFC."
   ]
  },
  {
   "cell_type": "markdown",
   "id": "62a0af49",
   "metadata": {},
   "source": [
    "## 4th Regression Model attempt\n",
    "#### This will look at a machine learning model on just defense factors and superbowl factors."
   ]
  },
  {
   "cell_type": "code",
   "execution_count": 62,
   "id": "c56e9513",
   "metadata": {},
   "outputs": [
    {
     "data": {
      "text/html": [
       "<div>\n",
       "<style scoped>\n",
       "    .dataframe tbody tr th:only-of-type {\n",
       "        vertical-align: middle;\n",
       "    }\n",
       "\n",
       "    .dataframe tbody tr th {\n",
       "        vertical-align: top;\n",
       "    }\n",
       "\n",
       "    .dataframe thead th {\n",
       "        text-align: right;\n",
       "    }\n",
       "</style>\n",
       "<table border=\"1\" class=\"dataframe\">\n",
       "  <thead>\n",
       "    <tr style=\"text-align: right;\">\n",
       "      <th></th>\n",
       "      <th>Team</th>\n",
       "      <th>Off Tot/Pts</th>\n",
       "      <th>Off Pts/G</th>\n",
       "      <th>Off RushYds</th>\n",
       "      <th>Off RYds/G</th>\n",
       "      <th>Off PassYds</th>\n",
       "      <th>Off PYds/G</th>\n",
       "      <th>Off TotYds</th>\n",
       "      <th>Off Yds/G</th>\n",
       "      <th>Def Tot/Pts</th>\n",
       "      <th>...</th>\n",
       "      <th>Def TotYds</th>\n",
       "      <th>Def Yds/G</th>\n",
       "      <th>Year</th>\n",
       "      <th>Wins</th>\n",
       "      <th>Losses</th>\n",
       "      <th>Tie</th>\n",
       "      <th>Superbowl</th>\n",
       "      <th>SB Win</th>\n",
       "      <th>SuperbowlR</th>\n",
       "      <th>SB WinR</th>\n",
       "    </tr>\n",
       "  </thead>\n",
       "  <tbody>\n",
       "    <tr>\n",
       "      <th>0</th>\n",
       "      <td>Arizona Cardinals</td>\n",
       "      <td>250</td>\n",
       "      <td>15.6</td>\n",
       "      <td>1204</td>\n",
       "      <td>75.2</td>\n",
       "      <td>3005</td>\n",
       "      <td>187.8</td>\n",
       "      <td>4209</td>\n",
       "      <td>263.1</td>\n",
       "      <td>357</td>\n",
       "      <td>...</td>\n",
       "      <td>5405</td>\n",
       "      <td>337.8</td>\n",
       "      <td>2012</td>\n",
       "      <td>5</td>\n",
       "      <td>11</td>\n",
       "      <td>0.0</td>\n",
       "      <td>No</td>\n",
       "      <td>No</td>\n",
       "      <td>0</td>\n",
       "      <td>0</td>\n",
       "    </tr>\n",
       "    <tr>\n",
       "      <th>1</th>\n",
       "      <td>Atlanta Falcons</td>\n",
       "      <td>419</td>\n",
       "      <td>26.2</td>\n",
       "      <td>1397</td>\n",
       "      <td>87.3</td>\n",
       "      <td>4509</td>\n",
       "      <td>281.8</td>\n",
       "      <td>5906</td>\n",
       "      <td>369.1</td>\n",
       "      <td>299</td>\n",
       "      <td>...</td>\n",
       "      <td>5849</td>\n",
       "      <td>365.6</td>\n",
       "      <td>2012</td>\n",
       "      <td>13</td>\n",
       "      <td>3</td>\n",
       "      <td>0.0</td>\n",
       "      <td>No</td>\n",
       "      <td>No</td>\n",
       "      <td>0</td>\n",
       "      <td>0</td>\n",
       "    </tr>\n",
       "    <tr>\n",
       "      <th>2</th>\n",
       "      <td>Baltimore Ravens</td>\n",
       "      <td>398</td>\n",
       "      <td>24.9</td>\n",
       "      <td>1901</td>\n",
       "      <td>118.8</td>\n",
       "      <td>3739</td>\n",
       "      <td>233.7</td>\n",
       "      <td>5640</td>\n",
       "      <td>352.5</td>\n",
       "      <td>344</td>\n",
       "      <td>...</td>\n",
       "      <td>5615</td>\n",
       "      <td>350.9</td>\n",
       "      <td>2012</td>\n",
       "      <td>10</td>\n",
       "      <td>6</td>\n",
       "      <td>0.0</td>\n",
       "      <td>Yes</td>\n",
       "      <td>Yes</td>\n",
       "      <td>1</td>\n",
       "      <td>1</td>\n",
       "    </tr>\n",
       "    <tr>\n",
       "      <th>3</th>\n",
       "      <td>Buffalo Bills</td>\n",
       "      <td>344</td>\n",
       "      <td>21.5</td>\n",
       "      <td>2217</td>\n",
       "      <td>138.6</td>\n",
       "      <td>3269</td>\n",
       "      <td>204.3</td>\n",
       "      <td>5486</td>\n",
       "      <td>342.9</td>\n",
       "      <td>435</td>\n",
       "      <td>...</td>\n",
       "      <td>5806</td>\n",
       "      <td>362.9</td>\n",
       "      <td>2012</td>\n",
       "      <td>6</td>\n",
       "      <td>10</td>\n",
       "      <td>0.0</td>\n",
       "      <td>No</td>\n",
       "      <td>No</td>\n",
       "      <td>0</td>\n",
       "      <td>0</td>\n",
       "    </tr>\n",
       "    <tr>\n",
       "      <th>4</th>\n",
       "      <td>Carolina Panthers</td>\n",
       "      <td>357</td>\n",
       "      <td>22.3</td>\n",
       "      <td>2088</td>\n",
       "      <td>130.5</td>\n",
       "      <td>3683</td>\n",
       "      <td>230.2</td>\n",
       "      <td>5771</td>\n",
       "      <td>360.7</td>\n",
       "      <td>363</td>\n",
       "      <td>...</td>\n",
       "      <td>5329</td>\n",
       "      <td>333.1</td>\n",
       "      <td>2012</td>\n",
       "      <td>7</td>\n",
       "      <td>9</td>\n",
       "      <td>0.0</td>\n",
       "      <td>No</td>\n",
       "      <td>No</td>\n",
       "      <td>0</td>\n",
       "      <td>0</td>\n",
       "    </tr>\n",
       "  </tbody>\n",
       "</table>\n",
       "<p>5 rows × 25 columns</p>\n",
       "</div>"
      ],
      "text/plain": [
       "                Team  Off Tot/Pts  Off Pts/G  Off RushYds  Off RYds/G  \\\n",
       "0  Arizona Cardinals          250       15.6         1204        75.2   \n",
       "1    Atlanta Falcons          419       26.2         1397        87.3   \n",
       "2   Baltimore Ravens          398       24.9         1901       118.8   \n",
       "3      Buffalo Bills          344       21.5         2217       138.6   \n",
       "4  Carolina Panthers          357       22.3         2088       130.5   \n",
       "\n",
       "   Off PassYds  Off PYds/G  Off TotYds  Off Yds/G  Def Tot/Pts  ...  \\\n",
       "0         3005       187.8        4209      263.1          357  ...   \n",
       "1         4509       281.8        5906      369.1          299  ...   \n",
       "2         3739       233.7        5640      352.5          344  ...   \n",
       "3         3269       204.3        5486      342.9          435  ...   \n",
       "4         3683       230.2        5771      360.7          363  ...   \n",
       "\n",
       "   Def TotYds  Def Yds/G  Year  Wins  Losses  Tie  Superbowl  SB Win  \\\n",
       "0        5405      337.8  2012     5      11  0.0         No      No   \n",
       "1        5849      365.6  2012    13       3  0.0         No      No   \n",
       "2        5615      350.9  2012    10       6  0.0        Yes     Yes   \n",
       "3        5806      362.9  2012     6      10  0.0         No      No   \n",
       "4        5329      333.1  2012     7       9  0.0         No      No   \n",
       "\n",
       "   SuperbowlR  SB WinR  \n",
       "0           0        0  \n",
       "1           0        0  \n",
       "2           1        1  \n",
       "3           0        0  \n",
       "4           0        0  \n",
       "\n",
       "[5 rows x 25 columns]"
      ]
     },
     "execution_count": 62,
     "metadata": {},
     "output_type": "execute_result"
    }
   ],
   "source": [
    "nfl.head()"
   ]
  },
  {
   "cell_type": "code",
   "execution_count": 63,
   "id": "3cd434ac",
   "metadata": {},
   "outputs": [
    {
     "data": {
      "text/html": [
       "<div>\n",
       "<style scoped>\n",
       "    .dataframe tbody tr th:only-of-type {\n",
       "        vertical-align: middle;\n",
       "    }\n",
       "\n",
       "    .dataframe tbody tr th {\n",
       "        vertical-align: top;\n",
       "    }\n",
       "\n",
       "    .dataframe thead th {\n",
       "        text-align: right;\n",
       "    }\n",
       "</style>\n",
       "<table border=\"1\" class=\"dataframe\">\n",
       "  <thead>\n",
       "    <tr style=\"text-align: right;\">\n",
       "      <th></th>\n",
       "      <th>Team</th>\n",
       "      <th>Off Tot/Pts</th>\n",
       "      <th>Off Pts/G</th>\n",
       "      <th>Off RushYds</th>\n",
       "      <th>Off RYds/G</th>\n",
       "      <th>Off PassYds</th>\n",
       "      <th>Off PYds/G</th>\n",
       "      <th>Off TotYds</th>\n",
       "      <th>Off Yds/G</th>\n",
       "      <th>Def Tot/Pts</th>\n",
       "      <th>...</th>\n",
       "      <th>Def TotYds</th>\n",
       "      <th>Def Yds/G</th>\n",
       "      <th>Year</th>\n",
       "      <th>Wins</th>\n",
       "      <th>Losses</th>\n",
       "      <th>Tie</th>\n",
       "      <th>Superbowl</th>\n",
       "      <th>SB Win</th>\n",
       "      <th>SuperbowlR</th>\n",
       "      <th>SB WinR</th>\n",
       "    </tr>\n",
       "  </thead>\n",
       "  <tbody>\n",
       "    <tr>\n",
       "      <th>0</th>\n",
       "      <td>Arizona Cardinals</td>\n",
       "      <td>250</td>\n",
       "      <td>15.6</td>\n",
       "      <td>1204</td>\n",
       "      <td>75.2</td>\n",
       "      <td>3005</td>\n",
       "      <td>187.8</td>\n",
       "      <td>4209</td>\n",
       "      <td>263.1</td>\n",
       "      <td>357</td>\n",
       "      <td>...</td>\n",
       "      <td>5405</td>\n",
       "      <td>337.8</td>\n",
       "      <td>2012</td>\n",
       "      <td>5</td>\n",
       "      <td>11</td>\n",
       "      <td>0.0</td>\n",
       "      <td>No</td>\n",
       "      <td>No</td>\n",
       "      <td>0</td>\n",
       "      <td>0</td>\n",
       "    </tr>\n",
       "    <tr>\n",
       "      <th>1</th>\n",
       "      <td>Atlanta Falcons</td>\n",
       "      <td>419</td>\n",
       "      <td>26.2</td>\n",
       "      <td>1397</td>\n",
       "      <td>87.3</td>\n",
       "      <td>4509</td>\n",
       "      <td>281.8</td>\n",
       "      <td>5906</td>\n",
       "      <td>369.1</td>\n",
       "      <td>299</td>\n",
       "      <td>...</td>\n",
       "      <td>5849</td>\n",
       "      <td>365.6</td>\n",
       "      <td>2012</td>\n",
       "      <td>13</td>\n",
       "      <td>3</td>\n",
       "      <td>0.0</td>\n",
       "      <td>No</td>\n",
       "      <td>No</td>\n",
       "      <td>0</td>\n",
       "      <td>0</td>\n",
       "    </tr>\n",
       "    <tr>\n",
       "      <th>2</th>\n",
       "      <td>Baltimore Ravens</td>\n",
       "      <td>398</td>\n",
       "      <td>24.9</td>\n",
       "      <td>1901</td>\n",
       "      <td>118.8</td>\n",
       "      <td>3739</td>\n",
       "      <td>233.7</td>\n",
       "      <td>5640</td>\n",
       "      <td>352.5</td>\n",
       "      <td>344</td>\n",
       "      <td>...</td>\n",
       "      <td>5615</td>\n",
       "      <td>350.9</td>\n",
       "      <td>2012</td>\n",
       "      <td>10</td>\n",
       "      <td>6</td>\n",
       "      <td>0.0</td>\n",
       "      <td>Yes</td>\n",
       "      <td>Yes</td>\n",
       "      <td>1</td>\n",
       "      <td>1</td>\n",
       "    </tr>\n",
       "    <tr>\n",
       "      <th>3</th>\n",
       "      <td>Buffalo Bills</td>\n",
       "      <td>344</td>\n",
       "      <td>21.5</td>\n",
       "      <td>2217</td>\n",
       "      <td>138.6</td>\n",
       "      <td>3269</td>\n",
       "      <td>204.3</td>\n",
       "      <td>5486</td>\n",
       "      <td>342.9</td>\n",
       "      <td>435</td>\n",
       "      <td>...</td>\n",
       "      <td>5806</td>\n",
       "      <td>362.9</td>\n",
       "      <td>2012</td>\n",
       "      <td>6</td>\n",
       "      <td>10</td>\n",
       "      <td>0.0</td>\n",
       "      <td>No</td>\n",
       "      <td>No</td>\n",
       "      <td>0</td>\n",
       "      <td>0</td>\n",
       "    </tr>\n",
       "    <tr>\n",
       "      <th>4</th>\n",
       "      <td>Carolina Panthers</td>\n",
       "      <td>357</td>\n",
       "      <td>22.3</td>\n",
       "      <td>2088</td>\n",
       "      <td>130.5</td>\n",
       "      <td>3683</td>\n",
       "      <td>230.2</td>\n",
       "      <td>5771</td>\n",
       "      <td>360.7</td>\n",
       "      <td>363</td>\n",
       "      <td>...</td>\n",
       "      <td>5329</td>\n",
       "      <td>333.1</td>\n",
       "      <td>2012</td>\n",
       "      <td>7</td>\n",
       "      <td>9</td>\n",
       "      <td>0.0</td>\n",
       "      <td>No</td>\n",
       "      <td>No</td>\n",
       "      <td>0</td>\n",
       "      <td>0</td>\n",
       "    </tr>\n",
       "  </tbody>\n",
       "</table>\n",
       "<p>5 rows × 25 columns</p>\n",
       "</div>"
      ],
      "text/plain": [
       "                Team  Off Tot/Pts  Off Pts/G  Off RushYds  Off RYds/G  \\\n",
       "0  Arizona Cardinals          250       15.6         1204        75.2   \n",
       "1    Atlanta Falcons          419       26.2         1397        87.3   \n",
       "2   Baltimore Ravens          398       24.9         1901       118.8   \n",
       "3      Buffalo Bills          344       21.5         2217       138.6   \n",
       "4  Carolina Panthers          357       22.3         2088       130.5   \n",
       "\n",
       "   Off PassYds  Off PYds/G  Off TotYds  Off Yds/G  Def Tot/Pts  ...  \\\n",
       "0         3005       187.8        4209      263.1          357  ...   \n",
       "1         4509       281.8        5906      369.1          299  ...   \n",
       "2         3739       233.7        5640      352.5          344  ...   \n",
       "3         3269       204.3        5486      342.9          435  ...   \n",
       "4         3683       230.2        5771      360.7          363  ...   \n",
       "\n",
       "   Def TotYds  Def Yds/G  Year  Wins  Losses  Tie  Superbowl  SB Win  \\\n",
       "0        5405      337.8  2012     5      11  0.0         No      No   \n",
       "1        5849      365.6  2012    13       3  0.0         No      No   \n",
       "2        5615      350.9  2012    10       6  0.0        Yes     Yes   \n",
       "3        5806      362.9  2012     6      10  0.0         No      No   \n",
       "4        5329      333.1  2012     7       9  0.0         No      No   \n",
       "\n",
       "   SuperbowlR  SB WinR  \n",
       "0           0        0  \n",
       "1           0        0  \n",
       "2           1        1  \n",
       "3           0        0  \n",
       "4           0        0  \n",
       "\n",
       "[5 rows x 25 columns]"
      ]
     },
     "execution_count": 63,
     "metadata": {},
     "output_type": "execute_result"
    }
   ],
   "source": [
    "#### Recode SB Win Variable to numeric\n",
    "def sbwins (series): \n",
    "    if series == \"No\":\n",
    "        return 0\n",
    "    if series == \"Yes\": \n",
    "        return 1\n",
    "nfl['SB WinR'] = nfl['SB Win'].apply(sbwins)\n",
    "nfl.head()"
   ]
  },
  {
   "cell_type": "code",
   "execution_count": 64,
   "id": "c6946c17",
   "metadata": {},
   "outputs": [
    {
     "name": "stdout",
     "output_type": "stream",
     "text": [
      "Cincinnati Bengals\n",
      "Kansas City Chiefs\n",
      "Tennessee Titans\n",
      "New England Patriots\n"
     ]
    },
    {
     "name": "stderr",
     "output_type": "stream",
     "text": [
      "/Users/admin/opt/anaconda3/lib/python3.9/site-packages/sklearn/linear_model/_logistic.py:814: ConvergenceWarning: lbfgs failed to converge (status=1):\n",
      "STOP: TOTAL NO. of ITERATIONS REACHED LIMIT.\n",
      "\n",
      "Increase the number of iterations (max_iter) or scale the data as shown in:\n",
      "    https://scikit-learn.org/stable/modules/preprocessing.html\n",
      "Please also refer to the documentation for alternative solver options:\n",
      "    https://scikit-learn.org/stable/modules/linear_model.html#logistic-regression\n",
      "  n_iter_i = _check_optimize_result(\n"
     ]
    }
   ],
   "source": [
    "\n",
    "X = nfl.drop(['Team','Superbowl','SB Win','Off Tot/Pts','Off Pts/G', 'Off PassYds', 'Off RushYds', \n",
    "             'Off PYds/G','Off RYds/G', 'Off TotYds', 'Off Yds/G', 'Tie'], axis=1)\n",
    "y = nfl['Team']\n",
    "\n",
    "# Split the data into training and testing sets\n",
    "X_train, X_test, y_train, y_test = train_test_split(X, y, test_size=0.2, random_state=42)\n",
    "\n",
    "# Train the model\n",
    "nflmodel3 = LogisticRegression()\n",
    "nflmodel3.fit(X_train, y_train)\n",
    "\n",
    "# Make predictions\n",
    "predictions2 = nflmodel3.predict(X_test)\n",
    "\n",
    "# Print the predicted teams for the Super Bowl\n",
    "predicted_teams2 = predictions2[:4]  # Adjust the range to include 2-4 teams based on your preference\n",
    "\n",
    "for team in predicted_teams2:\n",
    "    print(team)"
   ]
  },
  {
   "cell_type": "code",
   "execution_count": 65,
   "id": "18334f43",
   "metadata": {},
   "outputs": [
    {
     "name": "stdout",
     "output_type": "stream",
     "text": [
      "Accuracy: 0.028169014084507043\n"
     ]
    }
   ],
   "source": [
    "# Make predictions\n",
    "predictions2 = nflmodel3.predict(X_test)\n",
    "# Calculate accuracy\n",
    "accuracy = accuracy_score(y_test, predictions2)\n",
    "\n",
    "print(\"Accuracy:\", accuracy)"
   ]
  },
  {
   "cell_type": "markdown",
   "id": "94e23425",
   "metadata": {},
   "source": [
    "### Model Analysis\n",
    "#### Accuracy went back down to barely 3%. Once again, the Bengals are predicted. The model is predicted 3 AFC teams and only 1 NFC team. This time it did predict 3/4 teams who have have been to the Superbowl in the past 10 years. "
   ]
  },
  {
   "cell_type": "markdown",
   "id": "125fbb9b",
   "metadata": {},
   "source": [
    "## Conclusion: The Random Forest machine learning models were better predictors of teams, but not accurate enough to truly choose for prediction of the Superbowl. The Logistic Regression models produce more variety in teams, but with low accuracy. The Logistic Regression models also produced more teams from both conferences, and more teams that had already been to a Superbowl in the last 10 years. Several models produced the Bengals in their predictions. Offense variables gave higher accuracy to the model.  The Features Importance stumped me in that I didn't see much correlation with rushing yards and Superbowls in my correlation plot during exploratory analysis and it was the most important feature in my Random Forest Model.  \n",
    "## I believe my data to be too simple and not enough statistics in my dataset to peform functioning or even better accurate predictor machine learning models. "
   ]
  },
  {
   "cell_type": "code",
   "execution_count": null,
   "id": "90c85f21",
   "metadata": {},
   "outputs": [],
   "source": []
  }
 ],
 "metadata": {
  "kernelspec": {
   "display_name": "Python 3 (ipykernel)",
   "language": "python",
   "name": "python3"
  },
  "language_info": {
   "codemirror_mode": {
    "name": "ipython",
    "version": 3
   },
   "file_extension": ".py",
   "mimetype": "text/x-python",
   "name": "python",
   "nbconvert_exporter": "python",
   "pygments_lexer": "ipython3",
   "version": "3.9.12"
  }
 },
 "nbformat": 4,
 "nbformat_minor": 5
}

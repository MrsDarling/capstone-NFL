{
 "cells": [
  {
   "cell_type": "markdown",
   "id": "41357f4e",
   "metadata": {},
   "source": [
    "# Descriptive Statistics for Defense Rushing Yards per Game for each Team.\n",
    "#### Defense Rushing Yards per game = the number of rushing yards the defense side of the team allowed per game"
   ]
  },
  {
   "cell_type": "markdown",
   "id": "2a7bb9ae",
   "metadata": {},
   "source": [
    "#### Import Packages"
   ]
  },
  {
   "cell_type": "code",
   "execution_count": 1,
   "id": "f3fc62c9",
   "metadata": {},
   "outputs": [],
   "source": [
    "import pandas as pd\n",
    "import numpy as np\n",
    "from scipy.stats import norm\n",
    "from scipy import stats"
   ]
  },
  {
   "cell_type": "markdown",
   "id": "defefc7d",
   "metadata": {},
   "source": [
    "#### Import NFL Dataset 2012-2022"
   ]
  },
  {
   "cell_type": "code",
   "execution_count": 2,
   "id": "d2e9f6a9",
   "metadata": {},
   "outputs": [],
   "source": [
    "nfl_Drushgm = pd.read_csv('/Users/admin/Desktop/Final_Project/NFL_merged/nfl2012_2022merge.csv')"
   ]
  },
  {
   "cell_type": "code",
   "execution_count": 3,
   "id": "900b4c34",
   "metadata": {},
   "outputs": [
    {
     "data": {
      "text/html": [
       "<div>\n",
       "<style scoped>\n",
       "    .dataframe tbody tr th:only-of-type {\n",
       "        vertical-align: middle;\n",
       "    }\n",
       "\n",
       "    .dataframe tbody tr th {\n",
       "        vertical-align: top;\n",
       "    }\n",
       "\n",
       "    .dataframe thead th {\n",
       "        text-align: right;\n",
       "    }\n",
       "</style>\n",
       "<table border=\"1\" class=\"dataframe\">\n",
       "  <thead>\n",
       "    <tr style=\"text-align: right;\">\n",
       "      <th></th>\n",
       "      <th>Team</th>\n",
       "      <th>Off Tot/Pts</th>\n",
       "      <th>Off Pts/G</th>\n",
       "      <th>Off RushYds</th>\n",
       "      <th>Off RYds/G</th>\n",
       "      <th>Off PassYds</th>\n",
       "      <th>Off PYds/G</th>\n",
       "      <th>Off TotYds</th>\n",
       "      <th>Off Yds/G</th>\n",
       "      <th>Def Tot/Pts</th>\n",
       "      <th>...</th>\n",
       "      <th>Def PassYds</th>\n",
       "      <th>Def PYds/G</th>\n",
       "      <th>Def TotYds</th>\n",
       "      <th>Def Yds/G</th>\n",
       "      <th>Year</th>\n",
       "      <th>Wins</th>\n",
       "      <th>Losses</th>\n",
       "      <th>Tie</th>\n",
       "      <th>Superbowl</th>\n",
       "      <th>SB Win</th>\n",
       "    </tr>\n",
       "  </thead>\n",
       "  <tbody>\n",
       "    <tr>\n",
       "      <th>0</th>\n",
       "      <td>Arizona Cardinals</td>\n",
       "      <td>250</td>\n",
       "      <td>15.6</td>\n",
       "      <td>1204</td>\n",
       "      <td>75.2</td>\n",
       "      <td>3005</td>\n",
       "      <td>187.8</td>\n",
       "      <td>4209</td>\n",
       "      <td>263.1</td>\n",
       "      <td>357</td>\n",
       "      <td>...</td>\n",
       "      <td>3213</td>\n",
       "      <td>200.8</td>\n",
       "      <td>5405</td>\n",
       "      <td>337.8</td>\n",
       "      <td>2012</td>\n",
       "      <td>5</td>\n",
       "      <td>11</td>\n",
       "      <td>0.0</td>\n",
       "      <td>No</td>\n",
       "      <td>No</td>\n",
       "    </tr>\n",
       "    <tr>\n",
       "      <th>1</th>\n",
       "      <td>Atlanta Falcons</td>\n",
       "      <td>419</td>\n",
       "      <td>26.2</td>\n",
       "      <td>1397</td>\n",
       "      <td>87.3</td>\n",
       "      <td>4509</td>\n",
       "      <td>281.8</td>\n",
       "      <td>5906</td>\n",
       "      <td>369.1</td>\n",
       "      <td>299</td>\n",
       "      <td>...</td>\n",
       "      <td>3878</td>\n",
       "      <td>242.4</td>\n",
       "      <td>5849</td>\n",
       "      <td>365.6</td>\n",
       "      <td>2012</td>\n",
       "      <td>13</td>\n",
       "      <td>3</td>\n",
       "      <td>0.0</td>\n",
       "      <td>No</td>\n",
       "      <td>No</td>\n",
       "    </tr>\n",
       "    <tr>\n",
       "      <th>2</th>\n",
       "      <td>Baltimore Ravens</td>\n",
       "      <td>398</td>\n",
       "      <td>24.9</td>\n",
       "      <td>1901</td>\n",
       "      <td>118.8</td>\n",
       "      <td>3739</td>\n",
       "      <td>233.7</td>\n",
       "      <td>5640</td>\n",
       "      <td>352.5</td>\n",
       "      <td>344</td>\n",
       "      <td>...</td>\n",
       "      <td>3650</td>\n",
       "      <td>228.1</td>\n",
       "      <td>5615</td>\n",
       "      <td>350.9</td>\n",
       "      <td>2012</td>\n",
       "      <td>10</td>\n",
       "      <td>6</td>\n",
       "      <td>0.0</td>\n",
       "      <td>Yes</td>\n",
       "      <td>Yes</td>\n",
       "    </tr>\n",
       "    <tr>\n",
       "      <th>3</th>\n",
       "      <td>Buffalo Bills</td>\n",
       "      <td>344</td>\n",
       "      <td>21.5</td>\n",
       "      <td>2217</td>\n",
       "      <td>138.6</td>\n",
       "      <td>3269</td>\n",
       "      <td>204.3</td>\n",
       "      <td>5486</td>\n",
       "      <td>342.9</td>\n",
       "      <td>435</td>\n",
       "      <td>...</td>\n",
       "      <td>3473</td>\n",
       "      <td>217.1</td>\n",
       "      <td>5806</td>\n",
       "      <td>362.9</td>\n",
       "      <td>2012</td>\n",
       "      <td>6</td>\n",
       "      <td>10</td>\n",
       "      <td>0.0</td>\n",
       "      <td>No</td>\n",
       "      <td>No</td>\n",
       "    </tr>\n",
       "    <tr>\n",
       "      <th>4</th>\n",
       "      <td>Carolina Panthers</td>\n",
       "      <td>357</td>\n",
       "      <td>22.3</td>\n",
       "      <td>2088</td>\n",
       "      <td>130.5</td>\n",
       "      <td>3683</td>\n",
       "      <td>230.2</td>\n",
       "      <td>5771</td>\n",
       "      <td>360.7</td>\n",
       "      <td>363</td>\n",
       "      <td>...</td>\n",
       "      <td>3568</td>\n",
       "      <td>223.0</td>\n",
       "      <td>5329</td>\n",
       "      <td>333.1</td>\n",
       "      <td>2012</td>\n",
       "      <td>7</td>\n",
       "      <td>9</td>\n",
       "      <td>0.0</td>\n",
       "      <td>No</td>\n",
       "      <td>No</td>\n",
       "    </tr>\n",
       "  </tbody>\n",
       "</table>\n",
       "<p>5 rows × 23 columns</p>\n",
       "</div>"
      ],
      "text/plain": [
       "                Team  Off Tot/Pts  Off Pts/G  Off RushYds  Off RYds/G  \\\n",
       "0  Arizona Cardinals          250       15.6         1204        75.2   \n",
       "1    Atlanta Falcons          419       26.2         1397        87.3   \n",
       "2   Baltimore Ravens          398       24.9         1901       118.8   \n",
       "3      Buffalo Bills          344       21.5         2217       138.6   \n",
       "4  Carolina Panthers          357       22.3         2088       130.5   \n",
       "\n",
       "   Off PassYds  Off PYds/G  Off TotYds  Off Yds/G  Def Tot/Pts  ...  \\\n",
       "0         3005       187.8        4209      263.1          357  ...   \n",
       "1         4509       281.8        5906      369.1          299  ...   \n",
       "2         3739       233.7        5640      352.5          344  ...   \n",
       "3         3269       204.3        5486      342.9          435  ...   \n",
       "4         3683       230.2        5771      360.7          363  ...   \n",
       "\n",
       "   Def PassYds  Def PYds/G  Def TotYds  Def Yds/G  Year  Wins  Losses  Tie  \\\n",
       "0         3213       200.8        5405      337.8  2012     5      11  0.0   \n",
       "1         3878       242.4        5849      365.6  2012    13       3  0.0   \n",
       "2         3650       228.1        5615      350.9  2012    10       6  0.0   \n",
       "3         3473       217.1        5806      362.9  2012     6      10  0.0   \n",
       "4         3568       223.0        5329      333.1  2012     7       9  0.0   \n",
       "\n",
       "   Superbowl  SB Win  \n",
       "0         No      No  \n",
       "1         No      No  \n",
       "2        Yes     Yes  \n",
       "3         No      No  \n",
       "4         No      No  \n",
       "\n",
       "[5 rows x 23 columns]"
      ]
     },
     "execution_count": 3,
     "metadata": {},
     "output_type": "execute_result"
    }
   ],
   "source": [
    "nfl_Drushgm.head()"
   ]
  },
  {
   "cell_type": "markdown",
   "id": "0c3daba3",
   "metadata": {},
   "source": [
    "## Calculating Descriptive Statistics by Team\n",
    "#### First filter the data by a single team - I will use the Seattle Seahawks, my favorite team, to start."
   ]
  },
  {
   "cell_type": "code",
   "execution_count": 4,
   "id": "fd9400ee",
   "metadata": {},
   "outputs": [],
   "source": [
    "team_name = 'Seattle Seahawks'\n",
    "seahawks_data = nfl_Drushgm[nfl_Drushgm['Team'] == team_name]"
   ]
  },
  {
   "cell_type": "markdown",
   "id": "eb178a1a",
   "metadata": {},
   "source": [
    "#### Display Defense Rushing Yards allowed per game by year for the Seahawks"
   ]
  },
  {
   "cell_type": "code",
   "execution_count": 5,
   "id": "f8707b56",
   "metadata": {},
   "outputs": [
    {
     "name": "stdout",
     "output_type": "stream",
     "text": [
      "Year: 2012 \tDefense Rushing Yards/Game: 103.1\n",
      "Year: 2013 \tDefense Rushing Yards/Game: 101.6\n",
      "Year: 2014 \tDefense Rushing Yards/Game: 81.5\n",
      "Year: 2015 \tDefense Rushing Yards/Game: 81.5\n",
      "Year: 2016 \tDefense Rushing Yards/Game: 92.9\n",
      "Year: 2017 \tDefense Rushing Yards/Game: 114.0\n",
      "Year: 2018 \tDefense Rushing Yards/Game: 113.2\n",
      "Year: 2019 \tDefense Rushing Yards/Game: 117.7\n",
      "Year: 2020 \tDefense Rushing Yards/Game: 95.6\n",
      "Year: 2021 \tDefense Rushing Yards/Game: 113.6\n",
      "Year: 2022 \tDefense Rushing Yards/Game: 150.2\n"
     ]
    }
   ],
   "source": [
    "for year in seahawks_data['Year'].unique():\n",
    "    defgm_rush_yards = seahawks_data.loc[seahawks_data['Year'] == year, 'Def RYds/G'].values[0]\n",
    "    print(\"Year:\", year, \"\\tDefense Rushing Yards/Game:\", defgm_rush_yards)"
   ]
  },
  {
   "cell_type": "markdown",
   "id": "a7898a09",
   "metadata": {},
   "source": [
    "#### What is the mean Defense Rushing Yards allowed per game for the Seahawks over all years?"
   ]
  },
  {
   "cell_type": "code",
   "execution_count": 6,
   "id": "02254c55",
   "metadata": {},
   "outputs": [
    {
     "name": "stdout",
     "output_type": "stream",
     "text": [
      "105.9\n"
     ]
    }
   ],
   "source": [
    "avg_gmrush_yards = seahawks_data['Def RYds/G'].mean()\n",
    "print(avg_gmrush_yards)"
   ]
  },
  {
   "cell_type": "markdown",
   "id": "eb8f8205",
   "metadata": {},
   "source": [
    "#### Let's calculate several descriptive statistics on Defense Rushing Yards allowed  per Game for the Seahawks"
   ]
  },
  {
   "cell_type": "code",
   "execution_count": 7,
   "id": "a2adfdfd",
   "metadata": {},
   "outputs": [
    {
     "name": "stdout",
     "output_type": "stream",
     "text": [
      "Seattle Seahawks Defense Rushing Yards/Game Mean: 105.9\n",
      "Seattle Seahawks Defense Rushing Yards/Game Median: 103.1\n",
      "Seattle Seahawks Defense Rushing Yards/Game Standard Deviation: 19.42179188437565\n",
      "Seattle Seahawks Defense Rushing Yards/Game Variance: 377.20599999999985\n",
      "Seattle Seahawks Defense Rushing Yards/Game Minimum: 81.5\n",
      "Seattle Seahawks Defense Rushing Yards/Game Maximum: 150.2\n",
      "Seattle Seahawks Defense Rushing Yards/Game Range: 68.69999999999999\n",
      "Seattle Seahawks Total Rushing Yards/Game 2012-2022: 1164.9\n"
     ]
    }
   ],
   "source": [
    "mean_value = seahawks_data['Def RYds/G'].mean()\n",
    "median_value = seahawks_data['Def RYds/G'].median()\n",
    "std_value = seahawks_data['Def RYds/G'].std()\n",
    "var_value = seahawks_data['Def RYds/G'].var()\n",
    "min_value = seahawks_data['Def RYds/G'].min()\n",
    "max_value = seahawks_data['Def RYds/G'].max()\n",
    "data_range = max_value - min_value\n",
    "total_points = seahawks_data['Def RYds/G'].sum()\n",
    "print(\"Seattle Seahawks Defense Rushing Yards/Game Mean:\", mean_value)\n",
    "print(\"Seattle Seahawks Defense Rushing Yards/Game Median:\", median_value)\n",
    "print(\"Seattle Seahawks Defense Rushing Yards/Game Standard Deviation:\", std_value)\n",
    "print(\"Seattle Seahawks Defense Rushing Yards/Game Variance:\", var_value)\n",
    "print(\"Seattle Seahawks Defense Rushing Yards/Game Minimum:\", min_value)\n",
    "print(\"Seattle Seahawks Defense Rushing Yards/Game Maximum:\", max_value)\n",
    "print(\"Seattle Seahawks Defense Rushing Yards/Game Range:\", data_range)\n",
    "print(\"Seattle Seahawks Total Rushing Yards/Game 2012-2022:\", total_points)"
   ]
  },
  {
   "cell_type": "markdown",
   "id": "7995b84c",
   "metadata": {},
   "source": [
    "#### Calculating all Teams Rushing Yards allowed per game by year"
   ]
  },
  {
   "cell_type": "code",
   "execution_count": 9,
   "id": "58fa57a6",
   "metadata": {},
   "outputs": [
    {
     "name": "stdout",
     "output_type": "stream",
     "text": [
      "Team: Arizona Cardinals \tYear: 2012 \tDefense Rushing Yards/Game: 137.0\n",
      "Team: Arizona Cardinals \tYear: 2013 \tDefense Rushing Yards/Game: 84.4\n",
      "Team: Arizona Cardinals \tYear: 2014 \tDefense Rushing Yards/Game: 108.7\n",
      "Team: Arizona Cardinals \tYear: 2015 \tDefense Rushing Yards/Game: 91.2\n",
      "Team: Arizona Cardinals \tYear: 2016 \tDefense Rushing Yards/Game: 94.9\n",
      "Team: Arizona Cardinals \tYear: 2017 \tDefense Rushing Yards/Game: 89.6\n",
      "Team: Arizona Cardinals \tYear: 2018 \tDefense Rushing Yards/Game: 154.9\n",
      "Team: Arizona Cardinals \tYear: 2019 \tDefense Rushing Yards/Game: 120.1\n",
      "Team: Arizona Cardinals \tYear: 2020 \tDefense Rushing Yards/Game: 125.5\n",
      "Team: Arizona Cardinals \tYear: 2021 \tDefense Rushing Yards/Game: 114.8\n",
      "Team: Arizona Cardinals \tYear: 2022 \tDefense Rushing Yards/Game: 118.6\n",
      "Team: Atlanta Falcons \tYear: 2012 \tDefense Rushing Yards/Game: 123.2\n",
      "Team: Atlanta Falcons \tYear: 2013 \tDefense Rushing Yards/Game: 135.8\n",
      "Team: Atlanta Falcons \tYear: 2014 \tDefense Rushing Yards/Game: 118.4\n",
      "Team: Atlanta Falcons \tYear: 2015 \tDefense Rushing Yards/Game: 105.0\n",
      "Team: Atlanta Falcons \tYear: 2016 \tDefense Rushing Yards/Game: 104.5\n",
      "Team: Atlanta Falcons \tYear: 2017 \tDefense Rushing Yards/Game: 104.1\n",
      "Team: Atlanta Falcons \tYear: 2018 \tDefense Rushing Yards/Game: 124.9\n",
      "Team: Atlanta Falcons \tYear: 2019 \tDefense Rushing Yards/Game: 110.9\n",
      "Team: Atlanta Falcons \tYear: 2020 \tDefense Rushing Yards/Game: 104.8\n",
      "Team: Atlanta Falcons \tYear: 2021 \tDefense Rushing Yards/Game: 131.9\n",
      "Team: Atlanta Falcons \tYear: 2022 \tDefense Rushing Yards/Game: 130.2\n",
      "Team: Baltimore Ravens \tYear: 2012 \tDefense Rushing Yards/Game: 122.8\n",
      "Team: Baltimore Ravens \tYear: 2013 \tDefense Rushing Yards/Game: 105.4\n",
      "Team: Baltimore Ravens \tYear: 2014 \tDefense Rushing Yards/Game: 88.2\n",
      "Team: Baltimore Ravens \tYear: 2015 \tDefense Rushing Yards/Game: 103.8\n",
      "Team: Baltimore Ravens \tYear: 2016 \tDefense Rushing Yards/Game: 89.4\n",
      "Team: Baltimore Ravens \tYear: 2017 \tDefense Rushing Yards/Game: 111.2\n",
      "Team: Baltimore Ravens \tYear: 2018 \tDefense Rushing Yards/Game: 82.9\n",
      "Team: Baltimore Ravens \tYear: 2019 \tDefense Rushing Yards/Game: 93.4\n",
      "Team: Baltimore Ravens \tYear: 2020 \tDefense Rushing Yards/Game: 108.8\n",
      "Team: Baltimore Ravens \tYear: 2021 \tDefense Rushing Yards/Game: 84.5\n",
      "Team: Baltimore Ravens \tYear: 2022 \tDefense Rushing Yards/Game: 92.1\n",
      "Team: Buffalo Bills \tYear: 2012 \tDefense Rushing Yards/Game: 145.8\n",
      "Team: Buffalo Bills \tYear: 2013 \tDefense Rushing Yards/Game: 128.9\n",
      "Team: Buffalo Bills \tYear: 2014 \tDefense Rushing Yards/Game: 106.4\n",
      "Team: Buffalo Bills \tYear: 2015 \tDefense Rushing Yards/Game: 108.1\n",
      "Team: Buffalo Bills \tYear: 2016 \tDefense Rushing Yards/Game: 133.1\n",
      "Team: Buffalo Bills \tYear: 2017 \tDefense Rushing Yards/Game: 124.6\n",
      "Team: Buffalo Bills \tYear: 2018 \tDefense Rushing Yards/Game: 114.9\n",
      "Team: Buffalo Bills \tYear: 2019 \tDefense Rushing Yards/Game: 103.1\n",
      "Team: Buffalo Bills \tYear: 2020 \tDefense Rushing Yards/Game: 119.6\n",
      "Team: Buffalo Bills \tYear: 2021 \tDefense Rushing Yards/Game: 109.8\n",
      "Team: Buffalo Bills \tYear: 2022 \tDefense Rushing Yards/Game: 104.6\n",
      "Team: Carolina Panthers \tYear: 2012 \tDefense Rushing Yards/Game: 110.1\n",
      "Team: Carolina Panthers \tYear: 2013 \tDefense Rushing Yards/Game: 86.9\n",
      "Team: Carolina Panthers \tYear: 2014 \tDefense Rushing Yards/Game: 112.0\n",
      "Team: Carolina Panthers \tYear: 2015 \tDefense Rushing Yards/Game: 88.4\n",
      "Team: Carolina Panthers \tYear: 2016 \tDefense Rushing Yards/Game: 91.6\n",
      "Team: Carolina Panthers \tYear: 2017 \tDefense Rushing Yards/Game: 88.1\n",
      "Team: Carolina Panthers \tYear: 2018 \tDefense Rushing Yards/Game: 112.8\n",
      "Team: Carolina Panthers \tYear: 2019 \tDefense Rushing Yards/Game: 143.5\n",
      "Team: Carolina Panthers \tYear: 2020 \tDefense Rushing Yards/Game: 121.0\n",
      "Team: Carolina Panthers \tYear: 2021 \tDefense Rushing Yards/Game: 113.8\n",
      "Team: Carolina Panthers \tYear: 2022 \tDefense Rushing Yards/Game: 122.6\n",
      "Team: Chicago Bears \tYear: 2012 \tDefense Rushing Yards/Game: 101.7\n",
      "Team: Chicago Bears \tYear: 2013 \tDefense Rushing Yards/Game: 161.4\n",
      "Team: Chicago Bears \tYear: 2014 \tDefense Rushing Yards/Game: 112.7\n",
      "Team: Chicago Bears \tYear: 2015 \tDefense Rushing Yards/Game: 120.9\n",
      "Team: Chicago Bears \tYear: 2016 \tDefense Rushing Yards/Game: 121.9\n",
      "Team: Chicago Bears \tYear: 2017 \tDefense Rushing Yards/Game: 108.1\n",
      "Team: Chicago Bears \tYear: 2018 \tDefense Rushing Yards/Game: 80.0\n",
      "Team: Chicago Bears \tYear: 2019 \tDefense Rushing Yards/Game: 102.0\n",
      "Team: Chicago Bears \tYear: 2020 \tDefense Rushing Yards/Game: 113.4\n",
      "Team: Chicago Bears \tYear: 2021 \tDefense Rushing Yards/Game: 125.1\n",
      "Team: Chicago Bears \tYear: 2022 \tDefense Rushing Yards/Game: 157.3\n",
      "Team: Cincinnati Bengals \tYear: 2012 \tDefense Rushing Yards/Game: 107.2\n",
      "Team: Cincinnati Bengals \tYear: 2013 \tDefense Rushing Yards/Game: 96.5\n",
      "Team: Cincinnati Bengals \tYear: 2014 \tDefense Rushing Yards/Game: 116.3\n",
      "Team: Cincinnati Bengals \tYear: 2015 \tDefense Rushing Yards/Game: 92.3\n",
      "Team: Cincinnati Bengals \tYear: 2016 \tDefense Rushing Yards/Game: 113.2\n",
      "Team: Cincinnati Bengals \tYear: 2017 \tDefense Rushing Yards/Game: 127.9\n",
      "Team: Cincinnati Bengals \tYear: 2018 \tDefense Rushing Yards/Game: 137.8\n",
      "Team: Cincinnati Bengals \tYear: 2019 \tDefense Rushing Yards/Game: 148.9\n",
      "Team: Cincinnati Bengals \tYear: 2020 \tDefense Rushing Yards/Game: 148.0\n",
      "Team: Cincinnati Bengals \tYear: 2021 \tDefense Rushing Yards/Game: 102.5\n",
      "Team: Cincinnati Bengals \tYear: 2022 \tDefense Rushing Yards/Game: 106.6\n",
      "Team: Cleveland Browns \tYear: 2012 \tDefense Rushing Yards/Game: 118.6\n",
      "Team: Cleveland Browns \tYear: 2013 \tDefense Rushing Yards/Game: 111.3\n",
      "Team: Cleveland Browns \tYear: 2014 \tDefense Rushing Yards/Game: 141.6\n",
      "Team: Cleveland Browns \tYear: 2015 \tDefense Rushing Yards/Game: 128.4\n",
      "Team: Cleveland Browns \tYear: 2016 \tDefense Rushing Yards/Game: 142.7\n",
      "Team: Cleveland Browns \tYear: 2017 \tDefense Rushing Yards/Game: 97.9\n",
      "Team: Cleveland Browns \tYear: 2018 \tDefense Rushing Yards/Game: 135.2\n",
      "Team: Cleveland Browns \tYear: 2019 \tDefense Rushing Yards/Game: 144.7\n",
      "Team: Cleveland Browns \tYear: 2020 \tDefense Rushing Yards/Game: 110.8\n",
      "Team: Cleveland Browns \tYear: 2021 \tDefense Rushing Yards/Game: 109.2\n",
      "Team: Cleveland Browns \tYear: 2022 \tDefense Rushing Yards/Game: 135.0\n",
      "Team: Dallas Cowboys \tYear: 2012 \tDefense Rushing Yards/Game: 125.2\n",
      "Team: Dallas Cowboys \tYear: 2013 \tDefense Rushing Yards/Game: 128.5\n",
      "Team: Dallas Cowboys \tYear: 2014 \tDefense Rushing Yards/Game: 103.1\n",
      "Team: Dallas Cowboys \tYear: 2015 \tDefense Rushing Yards/Game: 120.9\n",
      "Team: Dallas Cowboys \tYear: 2016 \tDefense Rushing Yards/Game: 83.5\n",
      "Team: Dallas Cowboys \tYear: 2017 \tDefense Rushing Yards/Game: 104.0\n",
      "Team: Dallas Cowboys \tYear: 2018 \tDefense Rushing Yards/Game: 94.6\n",
      "Team: Dallas Cowboys \tYear: 2019 \tDefense Rushing Yards/Game: 103.5\n",
      "Team: Dallas Cowboys \tYear: 2020 \tDefense Rushing Yards/Game: 158.8\n",
      "Team: Dallas Cowboys \tYear: 2021 \tDefense Rushing Yards/Game: 112.8\n",
      "Team: Dallas Cowboys \tYear: 2022 \tDefense Rushing Yards/Game: 129.3\n",
      "Team: Denver Broncos \tYear: 2012 \tDefense Rushing Yards/Game: 91.1\n",
      "Team: Denver Broncos \tYear: 2013 \tDefense Rushing Yards/Game: 101.6\n",
      "Team: Denver Broncos \tYear: 2014 \tDefense Rushing Yards/Game: 79.8\n",
      "Team: Denver Broncos \tYear: 2015 \tDefense Rushing Yards/Game: 83.6\n",
      "Team: Denver Broncos \tYear: 2016 \tDefense Rushing Yards/Game: 130.3\n",
      "Team: Denver Broncos \tYear: 2017 \tDefense Rushing Yards/Game: 89.4\n",
      "Team: Denver Broncos \tYear: 2018 \tDefense Rushing Yards/Game: 119.6\n",
      "Team: Denver Broncos \tYear: 2019 \tDefense Rushing Yards/Game: 111.4\n",
      "Team: Denver Broncos \tYear: 2020 \tDefense Rushing Yards/Game: 130.0\n",
      "Team: Denver Broncos \tYear: 2021 \tDefense Rushing Yards/Game: 111.3\n",
      "Team: Denver Broncos \tYear: 2022 \tDefense Rushing Yards/Game: 109.8\n",
      "Team: Detroit Lions \tYear: 2012 \tDefense Rushing Yards/Game: 118.1\n",
      "Team: Detroit Lions \tYear: 2013 \tDefense Rushing Yards/Game: 99.8\n",
      "Team: Detroit Lions \tYear: 2014 \tDefense Rushing Yards/Game: 69.3\n",
      "Team: Detroit Lions \tYear: 2015 \tDefense Rushing Yards/Game: 113.0\n",
      "Team: Detroit Lions \tYear: 2016 \tDefense Rushing Yards/Game: 106.3\n",
      "Team: Detroit Lions \tYear: 2017 \tDefense Rushing Yards/Game: 112.5\n",
      "Team: Detroit Lions \tYear: 2018 \tDefense Rushing Yards/Game: 110.1\n",
      "Team: Detroit Lions \tYear: 2019 \tDefense Rushing Yards/Game: 115.9\n",
      "Team: Detroit Lions \tYear: 2020 \tDefense Rushing Yards/Game: 134.9\n",
      "Team: Detroit Lions \tYear: 2021 \tDefense Rushing Yards/Game: 135.1\n",
      "Team: Detroit Lions \tYear: 2022 \tDefense Rushing Yards/Game: 146.5\n",
      "Team: Green Bay Packers \tYear: 2012 \tDefense Rushing Yards/Game: 118.5\n",
      "Team: Green Bay Packers \tYear: 2013 \tDefense Rushing Yards/Game: 125.0\n",
      "Team: Green Bay Packers \tYear: 2014 \tDefense Rushing Yards/Game: 119.9\n",
      "Team: Green Bay Packers \tYear: 2015 \tDefense Rushing Yards/Game: 119.1\n",
      "Team: Green Bay Packers \tYear: 2016 \tDefense Rushing Yards/Game: 94.7\n",
      "Team: Green Bay Packers \tYear: 2017 \tDefense Rushing Yards/Game: 112.1\n",
      "Team: Green Bay Packers \tYear: 2018 \tDefense Rushing Yards/Game: 119.9\n",
      "Team: Green Bay Packers \tYear: 2019 \tDefense Rushing Yards/Game: 120.1\n",
      "Team: Green Bay Packers \tYear: 2020 \tDefense Rushing Yards/Game: 112.8\n",
      "Team: Green Bay Packers \tYear: 2021 \tDefense Rushing Yards/Game: 109.1\n",
      "Team: Green Bay Packers \tYear: 2022 \tDefense Rushing Yards/Game: 139.5\n",
      "Team: Houston Texans \tYear: 2012 \tDefense Rushing Yards/Game: 97.5\n",
      "Team: Houston Texans \tYear: 2013 \tDefense Rushing Yards/Game: 122.4\n",
      "Team: Houston Texans \tYear: 2014 \tDefense Rushing Yards/Game: 105.1\n",
      "Team: Houston Texans \tYear: 2015 \tDefense Rushing Yards/Game: 99.8\n",
      "Team: Houston Texans \tYear: 2016 \tDefense Rushing Yards/Game: 99.7\n",
      "Team: Houston Texans \tYear: 2017 \tDefense Rushing Yards/Game: 109.2\n",
      "Team: Houston Texans \tYear: 2018 \tDefense Rushing Yards/Game: 82.7\n",
      "Team: Houston Texans \tYear: 2019 \tDefense Rushing Yards/Game: 121.1\n",
      "Team: Houston Texans \tYear: 2020 \tDefense Rushing Yards/Game: 160.2\n",
      "Team: Houston Texans \tYear: 2021 \tDefense Rushing Yards/Game: 142.2\n",
      "Team: Houston Texans \tYear: 2022 \tDefense Rushing Yards/Game: 170.2\n",
      "Team: Indianapolis Colts \tYear: 2012 \tDefense Rushing Yards/Game: 137.5\n",
      "Team: Indianapolis Colts \tYear: 2013 \tDefense Rushing Yards/Game: 125.1\n",
      "Team: Indianapolis Colts \tYear: 2014 \tDefense Rushing Yards/Game: 113.4\n",
      "Team: Indianapolis Colts \tYear: 2015 \tDefense Rushing Yards/Game: 122.0\n",
      "Team: Indianapolis Colts \tYear: 2016 \tDefense Rushing Yards/Game: 120.4\n",
      "Team: Indianapolis Colts \tYear: 2017 \tDefense Rushing Yards/Game: 120.4\n",
      "Team: Indianapolis Colts \tYear: 2018 \tDefense Rushing Yards/Game: 101.6\n",
      "Team: Indianapolis Colts \tYear: 2019 \tDefense Rushing Yards/Game: 97.9\n",
      "Team: Indianapolis Colts \tYear: 2020 \tDefense Rushing Yards/Game: 90.5\n",
      "Team: Indianapolis Colts \tYear: 2021 \tDefense Rushing Yards/Game: 109.1\n",
      "Team: Indianapolis Colts \tYear: 2022 \tDefense Rushing Yards/Game: 124.1\n",
      "Team: Jacksonville Jaguars \tYear: 2012 \tDefense Rushing Yards/Game: 141.0\n",
      "Team: Jacksonville Jaguars \tYear: 2013 \tDefense Rushing Yards/Game: 131.8\n",
      "Team: Jacksonville Jaguars \tYear: 2014 \tDefense Rushing Yards/Game: 127.1\n",
      "Team: Jacksonville Jaguars \tYear: 2015 \tDefense Rushing Yards/Game: 106.8\n",
      "Team: Jacksonville Jaguars \tYear: 2016 \tDefense Rushing Yards/Game: 106.4\n",
      "Team: Jacksonville Jaguars \tYear: 2017 \tDefense Rushing Yards/Game: 116.2\n",
      "Team: Jacksonville Jaguars \tYear: 2018 \tDefense Rushing Yards/Game: 116.9\n",
      "Team: Jacksonville Jaguars \tYear: 2019 \tDefense Rushing Yards/Game: 139.3\n",
      "Team: Jacksonville Jaguars \tYear: 2020 \tDefense Rushing Yards/Game: 153.2\n",
      "Team: Jacksonville Jaguars \tYear: 2021 \tDefense Rushing Yards/Game: 125.1\n",
      "Team: Jacksonville Jaguars \tYear: 2022 \tDefense Rushing Yards/Game: 114.8\n",
      "Team: Kansas City Chiefs \tYear: 2012 \tDefense Rushing Yards/Game: 135.7\n",
      "Team: Kansas City Chiefs \tYear: 2013 \tDefense Rushing Yards/Game: 120.2\n",
      "Team: Kansas City Chiefs \tYear: 2014 \tDefense Rushing Yards/Game: 127.2\n",
      "Team: Kansas City Chiefs \tYear: 2015 \tDefense Rushing Yards/Game: 98.2\n",
      "Team: Kansas City Chiefs \tYear: 2016 \tDefense Rushing Yards/Game: 121.1\n",
      "Team: Kansas City Chiefs \tYear: 2017 \tDefense Rushing Yards/Game: 118.1\n",
      "Team: Kansas City Chiefs \tYear: 2018 \tDefense Rushing Yards/Game: 132.1\n",
      "Team: Kansas City Chiefs \tYear: 2019 \tDefense Rushing Yards/Game: 128.2\n",
      "Team: Kansas City Chiefs \tYear: 2020 \tDefense Rushing Yards/Game: 122.1\n",
      "Team: Kansas City Chiefs \tYear: 2021 \tDefense Rushing Yards/Game: 117.6\n",
      "Team: Kansas City Chiefs \tYear: 2022 \tDefense Rushing Yards/Game: 107.2\n",
      "Team: Las Vegas Raiders \tYear: 2012 \tDefense Rushing Yards/Game: 118.6\n",
      "Team: Las Vegas Raiders \tYear: 2013 \tDefense Rushing Yards/Game: 107.9\n",
      "Team: Las Vegas Raiders \tYear: 2014 \tDefense Rushing Yards/Game: 119.4\n",
      "Team: Las Vegas Raiders \tYear: 2015 \tDefense Rushing Yards/Game: 104.9\n",
      "Team: Las Vegas Raiders \tYear: 2016 \tDefense Rushing Yards/Game: 117.6\n",
      "Team: Las Vegas Raiders \tYear: 2017 \tDefense Rushing Yards/Game: 108.9\n",
      "Team: Las Vegas Raiders \tYear: 2018 \tDefense Rushing Yards/Game: 140.6\n",
      "Team: Las Vegas Raiders \tYear: 2019 \tDefense Rushing Yards/Game: 98.1\n",
      "Team: Las Vegas Raiders \tYear: 2020 \tDefense Rushing Yards/Game: 125.8\n",
      "Team: Las Vegas Raiders \tYear: 2021 \tDefense Rushing Yards/Game: 114.3\n",
      "Team: Las Vegas Raiders \tYear: 2022 \tDefense Rushing Yards/Game: 122.8\n",
      "Team: Los Angeles Chargers \tYear: 2012 \tDefense Rushing Yards/Game: 96.4\n",
      "Team: Los Angeles Chargers \tYear: 2013 \tDefense Rushing Yards/Game: 107.8\n",
      "Team: Los Angeles Chargers \tYear: 2014 \tDefense Rushing Yards/Game: 124.1\n",
      "Team: Los Angeles Chargers \tYear: 2015 \tDefense Rushing Yards/Game: 125.3\n",
      "Team: Los Angeles Chargers \tYear: 2016 \tDefense Rushing Yards/Game: 97.9\n",
      "Team: Los Angeles Chargers \tYear: 2017 \tDefense Rushing Yards/Game: 131.1\n",
      "Team: Los Angeles Chargers \tYear: 2018 \tDefense Rushing Yards/Game: 105.8\n",
      "Team: Los Angeles Chargers \tYear: 2019 \tDefense Rushing Yards/Game: 112.8\n",
      "Team: Los Angeles Chargers \tYear: 2020 \tDefense Rushing Yards/Game: 119.8\n",
      "Team: Los Angeles Chargers \tYear: 2021 \tDefense Rushing Yards/Game: 138.9\n",
      "Team: Los Angeles Chargers \tYear: 2022 \tDefense Rushing Yards/Game: 145.8\n",
      "Team: Los Angeles Rams \tYear: 2012 \tDefense Rushing Yards/Game: 117.5\n",
      "Team: Los Angeles Rams \tYear: 2013 \tDefense Rushing Yards/Game: 102.9\n",
      "Team: Los Angeles Rams \tYear: 2014 \tDefense Rushing Yards/Game: 110.3\n",
      "Team: Los Angeles Rams \tYear: 2015 \tDefense Rushing Yards/Game: 113.8\n",
      "Team: Los Angeles Rams \tYear: 2016 \tDefense Rushing Yards/Game: 103.8\n",
      "Team: Los Angeles Rams \tYear: 2017 \tDefense Rushing Yards/Game: 122.3\n",
      "Team: Los Angeles Rams \tYear: 2018 \tDefense Rushing Yards/Game: 122.3\n",
      "Team: Los Angeles Rams \tYear: 2019 \tDefense Rushing Yards/Game: 113.1\n",
      "Team: Los Angeles Rams \tYear: 2020 \tDefense Rushing Yards/Game: 91.2\n",
      "Team: Los Angeles Rams \tYear: 2021 \tDefense Rushing Yards/Game: 103.2\n",
      "Team: Los Angeles Rams \tYear: 2022 \tDefense Rushing Yards/Game: 115.1\n",
      "Team: Miami Dolphins \tYear: 2012 \tDefense Rushing Yards/Game: 108.4\n",
      "Team: Miami Dolphins \tYear: 2013 \tDefense Rushing Yards/Game: 124.9\n",
      "Team: Miami Dolphins \tYear: 2014 \tDefense Rushing Yards/Game: 121.1\n",
      "Team: Miami Dolphins \tYear: 2015 \tDefense Rushing Yards/Game: 126.2\n",
      "Team: Miami Dolphins \tYear: 2016 \tDefense Rushing Yards/Game: 140.4\n",
      "Team: Miami Dolphins \tYear: 2017 \tDefense Rushing Yards/Game: 110.5\n",
      "Team: Miami Dolphins \tYear: 2018 \tDefense Rushing Yards/Game: 145.3\n",
      "Team: Miami Dolphins \tYear: 2019 \tDefense Rushing Yards/Game: 135.4\n",
      "Team: Miami Dolphins \tYear: 2020 \tDefense Rushing Yards/Game: 116.4\n",
      "Team: Miami Dolphins \tYear: 2021 \tDefense Rushing Yards/Game: 109.8\n",
      "Team: Miami Dolphins \tYear: 2022 \tDefense Rushing Yards/Game: 103.0\n",
      "Team: Minnesota Vikings \tYear: 2012 \tDefense Rushing Yards/Game: 105.8\n",
      "Team: Minnesota Vikings \tYear: 2013 \tDefense Rushing Yards/Game: 110.4\n",
      "Team: Minnesota Vikings \tYear: 2014 \tDefense Rushing Yards/Game: 121.4\n",
      "Team: Minnesota Vikings \tYear: 2015 \tDefense Rushing Yards/Game: 109.2\n",
      "Team: Minnesota Vikings \tYear: 2016 \tDefense Rushing Yards/Game: 106.9\n",
      "Team: Minnesota Vikings \tYear: 2017 \tDefense Rushing Yards/Game: 83.6\n",
      "Team: Minnesota Vikings \tYear: 2018 \tDefense Rushing Yards/Game: 113.4\n",
      "Team: Minnesota Vikings \tYear: 2019 \tDefense Rushing Yards/Game: 108.0\n",
      "Team: Minnesota Vikings \tYear: 2020 \tDefense Rushing Yards/Game: 134.4\n",
      "Team: Minnesota Vikings \tYear: 2021 \tDefense Rushing Yards/Game: 130.7\n",
      "Team: Minnesota Vikings \tYear: 2022 \tDefense Rushing Yards/Game: 123.1\n",
      "Team: New England Patriots \tYear: 2012 \tDefense Rushing Yards/Game: 101.9\n",
      "Team: New England Patriots \tYear: 2013 \tDefense Rushing Yards/Game: 134.1\n",
      "Team: New England Patriots \tYear: 2014 \tDefense Rushing Yards/Game: 104.3\n",
      "Team: New England Patriots \tYear: 2015 \tDefense Rushing Yards/Game: 98.8\n",
      "Team: New England Patriots \tYear: 2016 \tDefense Rushing Yards/Game: 88.6\n",
      "Team: New England Patriots \tYear: 2017 \tDefense Rushing Yards/Game: 114.8\n",
      "Team: New England Patriots \tYear: 2018 \tDefense Rushing Yards/Game: 112.7\n",
      "Team: New England Patriots \tYear: 2019 \tDefense Rushing Yards/Game: 95.5\n",
      "Team: New England Patriots \tYear: 2020 \tDefense Rushing Yards/Game: 131.4\n",
      "Team: New England Patriots \tYear: 2021 \tDefense Rushing Yards/Game: 123.7\n",
      "Team: New England Patriots \tYear: 2022 \tDefense Rushing Yards/Game: 105.5\n",
      "Team: New Orleans Saints \tYear: 2012 \tDefense Rushing Yards/Game: 147.6\n",
      "Team: New Orleans Saints \tYear: 2013 \tDefense Rushing Yards/Game: 111.6\n",
      "Team: New Orleans Saints \tYear: 2014 \tDefense Rushing Yards/Game: 132.8\n",
      "Team: New Orleans Saints \tYear: 2015 \tDefense Rushing Yards/Game: 129.4\n",
      "Team: New Orleans Saints \tYear: 2016 \tDefense Rushing Yards/Game: 101.6\n",
      "Team: New Orleans Saints \tYear: 2017 \tDefense Rushing Yards/Game: 111.7\n",
      "Team: New Orleans Saints \tYear: 2019 \tDefense Rushing Yards/Game: 91.3\n",
      "Team: New Orleans Saints \tYear: 2020 \tDefense Rushing Yards/Game: 93.9\n",
      "Team: New Orleans Saints \tYear: 2021 \tDefense Rushing Yards/Game: 93.5\n",
      "Team: New Orleans Saints \tYear: 2022 \tDefense Rushing Yards/Game: 130.5\n",
      "Team: New York Giants \tYear: 2012 \tDefense Rushing Yards/Game: 129.1\n",
      "Team: New York Giants \tYear: 2013 \tDefense Rushing Yards/Game: 108.9\n",
      "Team: New York Giants \tYear: 2014 \tDefense Rushing Yards/Game: 135.1\n",
      "Team: New York Giants \tYear: 2015 \tDefense Rushing Yards/Game: 121.4\n",
      "Team: New York Giants \tYear: 2016 \tDefense Rushing Yards/Game: 88.6\n",
      "Team: New York Giants \tYear: 2017 \tDefense Rushing Yards/Game: 120.8\n",
      "Team: New York Giants \tYear: 2018 \tDefense Rushing Yards/Game: 118.6\n",
      "Team: New York Giants \tYear: 2019 \tDefense Rushing Yards/Game: 113.2\n",
      "Team: New York Giants \tYear: 2020 \tDefense Rushing Yards/Game: 111.4\n",
      "Team: New York Giants \tYear: 2021 \tDefense Rushing Yards/Game: 129.0\n",
      "Team: New York Giants \tYear: 2022 \tDefense Rushing Yards/Game: 144.2\n",
      "Team: New York Jets \tYear: 2012 \tDefense Rushing Yards/Game: 133.6\n",
      "Team: New York Jets \tYear: 2013 \tDefense Rushing Yards/Game: 88.2\n",
      "Team: New York Jets \tYear: 2014 \tDefense Rushing Yards/Game: 93.1\n",
      "Team: New York Jets \tYear: 2015 \tDefense Rushing Yards/Game: 83.4\n",
      "Team: New York Jets \tYear: 2016 \tDefense Rushing Yards/Game: 98.8\n",
      "Team: New York Jets \tYear: 2017 \tDefense Rushing Yards/Game: 117.9\n",
      "Team: New York Jets \tYear: 2018 \tDefense Rushing Yards/Game: 126.3\n",
      "Team: New York Jets \tYear: 2019 \tDefense Rushing Yards/Game: 86.9\n",
      "Team: New York Jets \tYear: 2020 \tDefense Rushing Yards/Game: 112.0\n",
      "Team: New York Jets \tYear: 2021 \tDefense Rushing Yards/Game: 138.3\n",
      "Team: New York Jets \tYear: 2022 \tDefense Rushing Yards/Game: 121.6\n",
      "Team: Philadelphia Eagles \tYear: 2012 \tDefense Rushing Yards/Game: 126.3\n",
      "Team: Philadelphia Eagles \tYear: 2013 \tDefense Rushing Yards/Game: 104.2\n",
      "Team: Philadelphia Eagles \tYear: 2014 \tDefense Rushing Yards/Game: 110.7\n",
      "Team: Philadelphia Eagles \tYear: 2015 \tDefense Rushing Yards/Game: 134.6\n",
      "Team: Philadelphia Eagles \tYear: 2016 \tDefense Rushing Yards/Game: 103.2\n",
      "Team: Philadelphia Eagles \tYear: 2017 \tDefense Rushing Yards/Game: 79.2\n",
      "Team: Philadelphia Eagles \tYear: 2018 \tDefense Rushing Yards/Game: 96.9\n",
      "Team: Philadelphia Eagles \tYear: 2019 \tDefense Rushing Yards/Game: 90.1\n",
      "Team: Philadelphia Eagles \tYear: 2020 \tDefense Rushing Yards/Game: 125.8\n",
      "Team: Philadelphia Eagles \tYear: 2021 \tDefense Rushing Yards/Game: 107.9\n",
      "Team: Philadelphia Eagles \tYear: 2022 \tDefense Rushing Yards/Game: 121.6\n",
      "Team: Pittsburgh Steelers \tYear: 2012 \tDefense Rushing Yards/Game: 90.6\n",
      "Team: Pittsburgh Steelers \tYear: 2013 \tDefense Rushing Yards/Game: 115.6\n",
      "Team: Pittsburgh Steelers \tYear: 2014 \tDefense Rushing Yards/Game: 100.3\n",
      "Team: Pittsburgh Steelers \tYear: 2015 \tDefense Rushing Yards/Game: 91.2\n",
      "Team: Pittsburgh Steelers \tYear: 2016 \tDefense Rushing Yards/Game: 100.0\n",
      "Team: Pittsburgh Steelers \tYear: 2017 \tDefense Rushing Yards/Game: 105.8\n",
      "Team: Pittsburgh Steelers \tYear: 2018 \tDefense Rushing Yards/Game: 96.1\n",
      "Team: Pittsburgh Steelers \tYear: 2019 \tDefense Rushing Yards/Game: 109.6\n",
      "Team: Pittsburgh Steelers \tYear: 2020 \tDefense Rushing Yards/Game: 111.4\n",
      "Team: Pittsburgh Steelers \tYear: 2021 \tDefense Rushing Yards/Game: 146.1\n",
      "Team: Pittsburgh Steelers \tYear: 2022 \tDefense Rushing Yards/Game: 108.1\n",
      "Team: San Francisco 49ers \tYear: 2012 \tDefense Rushing Yards/Game: 94.2\n",
      "Team: San Francisco 49ers \tYear: 2013 \tDefense Rushing Yards/Game: 95.9\n",
      "Team: San Francisco 49ers \tYear: 2014 \tDefense Rushing Yards/Game: 100.8\n",
      "Team: San Francisco 49ers \tYear: 2015 \tDefense Rushing Yards/Game: 126.2\n",
      "Team: San Francisco 49ers \tYear: 2016 \tDefense Rushing Yards/Game: 165.9\n",
      "Team: San Francisco 49ers \tYear: 2017 \tDefense Rushing Yards/Game: 116.3\n",
      "Team: San Francisco 49ers \tYear: 2018 \tDefense Rushing Yards/Game: 113.4\n",
      "Team: San Francisco 49ers \tYear: 2019 \tDefense Rushing Yards/Game: 112.6\n",
      "Team: San Francisco 49ers \tYear: 2020 \tDefense Rushing Yards/Game: 106.4\n",
      "Team: San Francisco 49ers \tYear: 2021 \tDefense Rushing Yards/Game: 103.5\n",
      "Team: San Francisco 49ers \tYear: 2022 \tDefense Rushing Yards/Game: 77.7\n",
      "Team: Seattle Seahawks \tYear: 2012 \tDefense Rushing Yards/Game: 103.1\n",
      "Team: Seattle Seahawks \tYear: 2013 \tDefense Rushing Yards/Game: 101.6\n",
      "Team: Seattle Seahawks \tYear: 2014 \tDefense Rushing Yards/Game: 81.5\n",
      "Team: Seattle Seahawks \tYear: 2015 \tDefense Rushing Yards/Game: 81.5\n",
      "Team: Seattle Seahawks \tYear: 2016 \tDefense Rushing Yards/Game: 92.9\n",
      "Team: Seattle Seahawks \tYear: 2017 \tDefense Rushing Yards/Game: 114.0\n",
      "Team: Seattle Seahawks \tYear: 2018 \tDefense Rushing Yards/Game: 113.2\n",
      "Team: Seattle Seahawks \tYear: 2019 \tDefense Rushing Yards/Game: 117.7\n",
      "Team: Seattle Seahawks \tYear: 2020 \tDefense Rushing Yards/Game: 95.6\n",
      "Team: Seattle Seahawks \tYear: 2021 \tDefense Rushing Yards/Game: 113.6\n",
      "Team: Seattle Seahawks \tYear: 2022 \tDefense Rushing Yards/Game: 150.2\n",
      "Team: Tampa Bay Buccaneers \tYear: 2012 \tDefense Rushing Yards/Game: 82.5\n",
      "Team: Tampa Bay Buccaneers \tYear: 2013 \tDefense Rushing Yards/Game: 110.1\n",
      "Team: Tampa Bay Buccaneers \tYear: 2014 \tDefense Rushing Yards/Game: 113.7\n",
      "Team: Tampa Bay Buccaneers \tYear: 2015 \tDefense Rushing Yards/Game: 100.4\n",
      "Team: Tampa Bay Buccaneers \tYear: 2016 \tDefense Rushing Yards/Game: 117.2\n",
      "Team: Tampa Bay Buccaneers \tYear: 2017 \tDefense Rushing Yards/Game: 117.5\n",
      "Team: Tampa Bay Buccaneers \tYear: 2018 \tDefense Rushing Yards/Game: 123.9\n",
      "Team: Tampa Bay Buccaneers \tYear: 2019 \tDefense Rushing Yards/Game: 73.8\n",
      "Team: Tampa Bay Buccaneers \tYear: 2020 \tDefense Rushing Yards/Game: 80.6\n"
     ]
    },
    {
     "name": "stdout",
     "output_type": "stream",
     "text": [
      "Team: Tampa Bay Buccaneers \tYear: 2021 \tDefense Rushing Yards/Game: 92.5\n",
      "Team: Tampa Bay Buccaneers \tYear: 2022 \tDefense Rushing Yards/Game: 120.7\n",
      "Team: Tennessee Titans \tYear: 2012 \tDefense Rushing Yards/Game: 127.2\n",
      "Team: Tennessee Titans \tYear: 2013 \tDefense Rushing Yards/Game: 112.2\n",
      "Team: Tennessee Titans \tYear: 2014 \tDefense Rushing Yards/Game: 137.2\n",
      "Team: Tennessee Titans \tYear: 2015 \tDefense Rushing Yards/Game: 112.3\n",
      "Team: Tennessee Titans \tYear: 2016 \tDefense Rushing Yards/Game: 88.3\n",
      "Team: Tennessee Titans \tYear: 2017 \tDefense Rushing Yards/Game: 88.8\n",
      "Team: Tennessee Titans \tYear: 2018 \tDefense Rushing Yards/Game: 116.4\n",
      "Team: Tennessee Titans \tYear: 2019 \tDefense Rushing Yards/Game: 104.5\n",
      "Team: Tennessee Titans \tYear: 2020 \tDefense Rushing Yards/Game: 120.8\n",
      "Team: Tennessee Titans \tYear: 2021 \tDefense Rushing Yards/Game: 84.6\n",
      "Team: Tennessee Titans \tYear: 2022 \tDefense Rushing Yards/Game: 76.9\n",
      "Team: Washington Commanders \tYear: 2012 \tDefense Rushing Yards/Game: 95.8\n",
      "Team: Washington Commanders \tYear: 2013 \tDefense Rushing Yards/Game: 110.6\n",
      "Team: Washington Commanders \tYear: 2014 \tDefense Rushing Yards/Game: 107.6\n",
      "Team: Washington Commanders \tYear: 2015 \tDefense Rushing Yards/Game: 122.6\n",
      "Team: Washington Commanders \tYear: 2016 \tDefense Rushing Yards/Game: 119.8\n",
      "Team: Washington Commanders \tYear: 2017 \tDefense Rushing Yards/Game: 134.1\n",
      "Team: Washington Commanders \tYear: 2018 \tDefense Rushing Yards/Game: 116.2\n",
      "Team: Washington Commanders \tYear: 2019 \tDefense Rushing Yards/Game: 146.2\n",
      "Team: Washington Commanders \tYear: 2020 \tDefense Rushing Yards/Game: 112.8\n",
      "Team: Washington Commanders \tYear: 2021 \tDefense Rushing Yards/Game: 104.4\n",
      "Team: Washington Commanders \tYear: 2022 \tDefense Rushing Yards/Game: 113.3\n"
     ]
    }
   ],
   "source": [
    "team_names = nfl_Drushgm['Team'].unique()\n",
    "\n",
    "# Iterate over each team\n",
    "for team_name in team_names:\n",
    "    team_data = nfl_Drushgm[nfl_Drushgm['Team'] == team_name]\n",
    "    \n",
    "    # Display the total Defense Rushing Yards per game for each year\n",
    "    for year in team_data['Year'].unique():\n",
    "        team_Dgmrush_yards = team_data.loc[team_data['Year'] == year, 'Def RYds/G'].values[0]\n",
    "        print(\"Team:\", team_name, \"\\tYear:\", year, \"\\tDefense Rushing Yards/Game:\", team_Dgmrush_yards)"
   ]
  },
  {
   "cell_type": "markdown",
   "id": "370f6e26",
   "metadata": {},
   "source": [
    "#### Calculate Descriptive Statistics on Defense Rushing Yards allowed per game for all Teams. These statistics are the yards per game allowed and their mean, median, standard deviation, variance, min, max, range, and sum."
   ]
  },
  {
   "cell_type": "markdown",
   "id": "08fe5a4e",
   "metadata": {},
   "source": [
    "### Arizona Cardinals"
   ]
  },
  {
   "cell_type": "code",
   "execution_count": 10,
   "id": "ac23253e",
   "metadata": {},
   "outputs": [
    {
     "name": "stdout",
     "output_type": "stream",
     "text": [
      "Arizona Cardinals Defense Rushing Yards/Game Mean: 112.7\n",
      "Arizona Cardinals Defense Rushing Yards/Game Median: 114.8\n",
      "Arizona Cardinals Defense Rushing Yards/Game Standard Deviation: 21.8145364378893\n",
      "Arizona Cardinals Defense Rushing Yards/Game Variance: 475.87399999999997\n",
      "Arizona Cardinals Defense Rushing Yards/Game Minimum: 84.4\n",
      "Arizona Cardinals Defense Rushing Yards/Game Maximum: 154.9\n",
      "Arizona Cardinals Defense Rushing Yards/Game Range: 70.5\n",
      "Arizona Cardinals Total Rushing Yards/Game 2012-2022: 1239.6999999999998\n"
     ]
    }
   ],
   "source": [
    "team_name1 = 'Arizona Cardinals'\n",
    "cardinals_data = nfl_Drushgm[nfl_Drushgm['Team'] == team_name1]\n",
    "mean_value = cardinals_data['Def RYds/G'].mean()\n",
    "median_value = cardinals_data['Def RYds/G'].median()\n",
    "std_value = cardinals_data['Def RYds/G'].std()\n",
    "var_value = cardinals_data['Def RYds/G'].var()\n",
    "min_value = cardinals_data['Def RYds/G'].min()\n",
    "max_value = cardinals_data['Def RYds/G'].max()\n",
    "data_range = max_value - min_value\n",
    "total_points = cardinals_data['Def RYds/G'].sum()\n",
    "print(\"Arizona Cardinals Defense Rushing Yards/Game Mean:\", mean_value)\n",
    "print(\"Arizona Cardinals Defense Rushing Yards/Game Median:\", median_value)\n",
    "print(\"Arizona Cardinals Defense Rushing Yards/Game Standard Deviation:\", std_value)\n",
    "print(\"Arizona Cardinals Defense Rushing Yards/Game Variance:\", var_value)\n",
    "print(\"Arizona Cardinals Defense Rushing Yards/Game Minimum:\", min_value)\n",
    "print(\"Arizona Cardinals Defense Rushing Yards/Game Maximum:\", max_value)\n",
    "print(\"Arizona Cardinals Defense Rushing Yards/Game Range:\", data_range)\n",
    "print(\"Arizona Cardinals Total Rushing Yards/Game 2012-2022:\", total_points)"
   ]
  },
  {
   "cell_type": "markdown",
   "id": "ac14706a",
   "metadata": {},
   "source": [
    "### Atlanta Falcons"
   ]
  },
  {
   "cell_type": "code",
   "execution_count": 11,
   "id": "5f4b8f2d",
   "metadata": {},
   "outputs": [
    {
     "name": "stdout",
     "output_type": "stream",
     "text": [
      "Atlanta Falcons Defense Rushing Yards/Game Mean: 117.60909090909091\n",
      "Atlanta Falcons Defense Rushing Yards/Game Median: 118.4\n",
      "Atlanta Falcons Defense Rushing Yards/Game Standard Deviation: 12.252057341153327\n",
      "Atlanta Falcons Defense Rushing Yards/Game Variance: 150.11290909090914\n",
      "Atlanta Falcons Defense Rushing Yards/Game Minimum: 104.1\n",
      "Atlanta Falcons Defense Rushing Yards/Game Maximum: 135.8\n",
      "Atlanta Falcons Defense Rushing Yards/Game Range: 31.700000000000017\n",
      "Atlanta Falcons Total Rushing Yards/Game 2012-2022: 1293.7\n"
     ]
    }
   ],
   "source": [
    "team_name2 = 'Atlanta Falcons'\n",
    "falcons_data = nfl_Drushgm[nfl_Drushgm['Team'] == team_name2]\n",
    "mean_value = falcons_data['Def RYds/G'].mean()\n",
    "median_value = falcons_data['Def RYds/G'].median()\n",
    "std_value = falcons_data['Def RYds/G'].std()\n",
    "var_value = falcons_data['Def RYds/G'].var()\n",
    "min_value = falcons_data['Def RYds/G'].min()\n",
    "max_value = falcons_data['Def RYds/G'].max()\n",
    "data_range = max_value - min_value\n",
    "total_points = falcons_data['Def RYds/G'].sum()\n",
    "print(\"Atlanta Falcons Defense Rushing Yards/Game Mean:\", mean_value)\n",
    "print(\"Atlanta Falcons Defense Rushing Yards/Game Median:\", median_value)\n",
    "print(\"Atlanta Falcons Defense Rushing Yards/Game Standard Deviation:\", std_value)\n",
    "print(\"Atlanta Falcons Defense Rushing Yards/Game Variance:\", var_value)\n",
    "print(\"Atlanta Falcons Defense Rushing Yards/Game Minimum:\", min_value)\n",
    "print(\"Atlanta Falcons Defense Rushing Yards/Game Maximum:\", max_value)\n",
    "print(\"Atlanta Falcons Defense Rushing Yards/Game Range:\", data_range)\n",
    "print(\"Atlanta Falcons Total Rushing Yards/Game 2012-2022:\", total_points)"
   ]
  },
  {
   "cell_type": "markdown",
   "id": "8f39bd29",
   "metadata": {},
   "source": [
    "### Baltimore Ravens"
   ]
  },
  {
   "cell_type": "code",
   "execution_count": 12,
   "id": "c445a2e7",
   "metadata": {},
   "outputs": [
    {
     "name": "stdout",
     "output_type": "stream",
     "text": [
      "Baltimore Ravens Defense Rushing Yards/Game Mean: 98.4090909090909\n",
      "Baltimore Ravens Defense Rushing Yards/Game Median: 93.4\n",
      "Baltimore Ravens Defense Rushing Yards/Game Standard Deviation: 12.762088743262565\n",
      "Baltimore Ravens Defense Rushing Yards/Game Variance: 162.87090909090907\n",
      "Baltimore Ravens Defense Rushing Yards/Game Minimum: 82.9\n",
      "Baltimore Ravens Defense Rushing Yards/Game Maximum: 122.8\n",
      "Baltimore Ravens Defense Rushing Yards/Game Range: 39.89999999999999\n",
      "Baltimore Ravens Total Rushing Yards/Game 2012-2022: 1082.5\n"
     ]
    }
   ],
   "source": [
    "team_name3 = 'Baltimore Ravens'\n",
    "ravens_data = nfl_Drushgm[nfl_Drushgm['Team'] == team_name3]\n",
    "mean_value = ravens_data['Def RYds/G'].mean()\n",
    "median_value = ravens_data['Def RYds/G'].median()\n",
    "std_value = ravens_data['Def RYds/G'].std()\n",
    "var_value = ravens_data['Def RYds/G'].var()\n",
    "min_value = ravens_data['Def RYds/G'].min()\n",
    "max_value = ravens_data['Def RYds/G'].max()\n",
    "data_range = max_value - min_value\n",
    "total_points = ravens_data['Def RYds/G'].sum()\n",
    "print(\"Baltimore Ravens Defense Rushing Yards/Game Mean:\", mean_value)\n",
    "print(\"Baltimore Ravens Defense Rushing Yards/Game Median:\", median_value)\n",
    "print(\"Baltimore Ravens Defense Rushing Yards/Game Standard Deviation:\", std_value)\n",
    "print(\"Baltimore Ravens Defense Rushing Yards/Game Variance:\", var_value)\n",
    "print(\"Baltimore Ravens Defense Rushing Yards/Game Minimum:\", min_value)\n",
    "print(\"Baltimore Ravens Defense Rushing Yards/Game Maximum:\", max_value)\n",
    "print(\"Baltimore Ravens Defense Rushing Yards/Game Range:\", data_range)\n",
    "print(\"Baltimore Ravens Total Rushing Yards/Game 2012-2022:\", total_points)"
   ]
  },
  {
   "cell_type": "markdown",
   "id": "5cbc583e",
   "metadata": {},
   "source": [
    "### Buffalo Bills"
   ]
  },
  {
   "cell_type": "code",
   "execution_count": 13,
   "id": "8e6e9023",
   "metadata": {},
   "outputs": [
    {
     "name": "stdout",
     "output_type": "stream",
     "text": [
      "Buffalo Bills Defense Rushing Yards/Game Mean: 118.08181818181816\n",
      "Buffalo Bills Defense Rushing Yards/Game Median: 114.9\n",
      "Buffalo Bills Defense Rushing Yards/Game Standard Deviation: 13.699256781432942\n",
      "Buffalo Bills Defense Rushing Yards/Game Variance: 187.66963636363644\n",
      "Buffalo Bills Defense Rushing Yards/Game Minimum: 103.1\n",
      "Buffalo Bills Defense Rushing Yards/Game Maximum: 145.8\n",
      "Buffalo Bills Defense Rushing Yards/Game Range: 42.70000000000002\n",
      "Buffalo Bills Total Rushing Yards/Game 2012-2022: 1298.8999999999999\n"
     ]
    }
   ],
   "source": [
    "team_name4 = 'Buffalo Bills'\n",
    "bills_data = nfl_Drushgm[nfl_Drushgm['Team'] == team_name4]\n",
    "mean_value = bills_data['Def RYds/G'].mean()\n",
    "median_value = bills_data['Def RYds/G'].median()\n",
    "std_value = bills_data['Def RYds/G'].std()\n",
    "var_value = bills_data['Def RYds/G'].var()\n",
    "min_value = bills_data['Def RYds/G'].min()\n",
    "max_value = bills_data['Def RYds/G'].max()\n",
    "data_range = max_value - min_value\n",
    "total_points = bills_data['Def RYds/G'].sum()\n",
    "print(\"Buffalo Bills Defense Rushing Yards/Game Mean:\", mean_value)\n",
    "print(\"Buffalo Bills Defense Rushing Yards/Game Median:\", median_value)\n",
    "print(\"Buffalo Bills Defense Rushing Yards/Game Standard Deviation:\", std_value)\n",
    "print(\"Buffalo Bills Defense Rushing Yards/Game Variance:\", var_value)\n",
    "print(\"Buffalo Bills Defense Rushing Yards/Game Minimum:\", min_value)\n",
    "print(\"Buffalo Bills Defense Rushing Yards/Game Maximum:\", max_value)\n",
    "print(\"Buffalo Bills Defense Rushing Yards/Game Range:\", data_range)\n",
    "print(\"Buffalo Bills Total Rushing Yards/Game 2012-2022:\", total_points)"
   ]
  },
  {
   "cell_type": "markdown",
   "id": "9b9612d2",
   "metadata": {},
   "source": [
    "### Carolina Panthers"
   ]
  },
  {
   "cell_type": "code",
   "execution_count": 14,
   "id": "b670bec9",
   "metadata": {},
   "outputs": [
    {
     "name": "stdout",
     "output_type": "stream",
     "text": [
      "Carolina Panthers Defense Rushing Yards/Game Mean: 108.25454545454545\n",
      "Carolina Panthers Defense Rushing Yards/Game Median: 112.0\n",
      "Carolina Panthers Defense Rushing Yards/Game Standard Deviation: 17.925198109720494\n",
      "Carolina Panthers Defense Rushing Yards/Game Variance: 321.3127272727272\n",
      "Carolina Panthers Defense Rushing Yards/Game Minimum: 86.9\n",
      "Carolina Panthers Defense Rushing Yards/Game Maximum: 143.5\n",
      "Carolina Panthers Defense Rushing Yards/Game Range: 56.599999999999994\n",
      "Carolina Panthers Total Rushing Yards/Game 2012-2022: 1190.8\n"
     ]
    }
   ],
   "source": [
    "team_name5 = 'Carolina Panthers'\n",
    "panthers_data = nfl_Drushgm[nfl_Drushgm['Team'] == team_name5]\n",
    "mean_value = panthers_data['Def RYds/G'].mean()\n",
    "median_value = panthers_data['Def RYds/G'].median()\n",
    "std_value = panthers_data['Def RYds/G'].std()\n",
    "var_value = panthers_data['Def RYds/G'].var()\n",
    "min_value = panthers_data['Def RYds/G'].min()\n",
    "max_value = panthers_data['Def RYds/G'].max()\n",
    "data_range = max_value - min_value\n",
    "total_points = panthers_data['Def RYds/G'].sum()\n",
    "print(\"Carolina Panthers Defense Rushing Yards/Game Mean:\", mean_value)\n",
    "print(\"Carolina Panthers Defense Rushing Yards/Game Median:\", median_value)\n",
    "print(\"Carolina Panthers Defense Rushing Yards/Game Standard Deviation:\", std_value)\n",
    "print(\"Carolina Panthers Defense Rushing Yards/Game Variance:\", var_value)\n",
    "print(\"Carolina Panthers Defense Rushing Yards/Game Minimum:\", min_value)\n",
    "print(\"Carolina Panthers Defense Rushing Yards/Game Maximum:\", max_value)\n",
    "print(\"Carolina Panthers Defense Rushing Yards/Game Range:\", data_range)\n",
    "print(\"Carolina Panthers Total Rushing Yards/Game 2012-2022:\", total_points)"
   ]
  },
  {
   "cell_type": "markdown",
   "id": "f011e3c0",
   "metadata": {},
   "source": [
    "### Chicago Bears"
   ]
  },
  {
   "cell_type": "code",
   "execution_count": 15,
   "id": "57ea7bb7",
   "metadata": {},
   "outputs": [
    {
     "name": "stdout",
     "output_type": "stream",
     "text": [
      "Chicago Bears Defense Rushing Yards/Game Mean: 118.5909090909091\n",
      "Chicago Bears Defense Rushing Yards/Game Median: 113.4\n",
      "Chicago Bears Defense Rushing Yards/Game Standard Deviation: 23.68794860453115\n",
      "Chicago Bears Defense Rushing Yards/Game Variance: 561.1189090909093\n",
      "Chicago Bears Defense Rushing Yards/Game Minimum: 80.0\n",
      "Chicago Bears Defense Rushing Yards/Game Maximum: 161.4\n",
      "Chicago Bears Defense Rushing Yards/Game Range: 81.4\n",
      "Chicago Bears Total Rushing Yards/Game 2012-2022: 1304.5\n"
     ]
    }
   ],
   "source": [
    "team_name6 = 'Chicago Bears'\n",
    "bears_data = nfl_Drushgm[nfl_Drushgm['Team'] == team_name6]\n",
    "mean_value = bears_data['Def RYds/G'].mean()\n",
    "median_value = bears_data['Def RYds/G'].median()\n",
    "std_value = bears_data['Def RYds/G'].std()\n",
    "var_value = bears_data['Def RYds/G'].var()\n",
    "min_value = bears_data['Def RYds/G'].min()\n",
    "max_value = bears_data['Def RYds/G'].max()\n",
    "data_range = max_value - min_value\n",
    "total_points = bears_data['Def RYds/G'].sum()\n",
    "print(\"Chicago Bears Defense Rushing Yards/Game Mean:\", mean_value)\n",
    "print(\"Chicago Bears Defense Rushing Yards/Game Median:\", median_value)\n",
    "print(\"Chicago Bears Defense Rushing Yards/Game Standard Deviation:\", std_value)\n",
    "print(\"Chicago Bears Defense Rushing Yards/Game Variance:\", var_value)\n",
    "print(\"Chicago Bears Defense Rushing Yards/Game Minimum:\", min_value)\n",
    "print(\"Chicago Bears Defense Rushing Yards/Game Maximum:\", max_value)\n",
    "print(\"Chicago Bears Defense Rushing Yards/Game Range:\", data_range)\n",
    "print(\"Chicago Bears Total Rushing Yards/Game 2012-2022:\", total_points)"
   ]
  },
  {
   "cell_type": "markdown",
   "id": "a9a4c865",
   "metadata": {},
   "source": [
    "### Cincinnati Bengals"
   ]
  },
  {
   "cell_type": "code",
   "execution_count": 16,
   "id": "3be6276c",
   "metadata": {},
   "outputs": [
    {
     "name": "stdout",
     "output_type": "stream",
     "text": [
      "Cincinnati Bengals Defense Rushing Yards/Game Mean: 117.92727272727271\n",
      "Cincinnati Bengals Defense Rushing Yards/Game Median: 113.2\n",
      "Cincinnati Bengals Defense Rushing Yards/Game Standard Deviation: 19.950743891348562\n",
      "Cincinnati Bengals Defense Rushing Yards/Game Variance: 398.0321818181819\n",
      "Cincinnati Bengals Defense Rushing Yards/Game Minimum: 92.3\n",
      "Cincinnati Bengals Defense Rushing Yards/Game Maximum: 148.9\n",
      "Cincinnati Bengals Defense Rushing Yards/Game Range: 56.60000000000001\n",
      "Cincinnati Bengals Total Rushing Yards/Game 2012-2022: 1297.1999999999998\n"
     ]
    }
   ],
   "source": [
    "team_name7 = 'Cincinnati Bengals'\n",
    "bengals_data = nfl_Drushgm[nfl_Drushgm['Team'] == team_name7]\n",
    "mean_value = bengals_data['Def RYds/G'].mean()\n",
    "median_value = bengals_data['Def RYds/G'].median()\n",
    "std_value = bengals_data['Def RYds/G'].std()\n",
    "var_value = bengals_data['Def RYds/G'].var()\n",
    "min_value = bengals_data['Def RYds/G'].min()\n",
    "max_value = bengals_data['Def RYds/G'].max()\n",
    "data_range = max_value - min_value\n",
    "total_points = bengals_data['Def RYds/G'].sum()\n",
    "print(\"Cincinnati Bengals Defense Rushing Yards/Game Mean:\", mean_value)\n",
    "print(\"Cincinnati Bengals Defense Rushing Yards/Game Median:\", median_value)\n",
    "print(\"Cincinnati Bengals Defense Rushing Yards/Game Standard Deviation:\", std_value)\n",
    "print(\"Cincinnati Bengals Defense Rushing Yards/Game Variance:\", var_value)\n",
    "print(\"Cincinnati Bengals Defense Rushing Yards/Game Minimum:\", min_value)\n",
    "print(\"Cincinnati Bengals Defense Rushing Yards/Game Maximum:\", max_value)\n",
    "print(\"Cincinnati Bengals Defense Rushing Yards/Game Range:\", data_range)\n",
    "print(\"Cincinnati Bengals Total Rushing Yards/Game 2012-2022:\", total_points)"
   ]
  },
  {
   "cell_type": "markdown",
   "id": "962e8a66",
   "metadata": {},
   "source": [
    "### Cleveland Browns"
   ]
  },
  {
   "cell_type": "code",
   "execution_count": 17,
   "id": "bb5e5147",
   "metadata": {},
   "outputs": [
    {
     "name": "stdout",
     "output_type": "stream",
     "text": [
      "Cleveland Browns Defense Rushing Yards/Game Mean: 125.03636363636362\n",
      "Cleveland Browns Defense Rushing Yards/Game Median: 128.4\n",
      "Cleveland Browns Defense Rushing Yards/Game Standard Deviation: 16.14579033229855\n",
      "Cleveland Browns Defense Rushing Yards/Game Variance: 260.6865454545453\n",
      "Cleveland Browns Defense Rushing Yards/Game Minimum: 97.9\n",
      "Cleveland Browns Defense Rushing Yards/Game Maximum: 144.7\n",
      "Cleveland Browns Defense Rushing Yards/Game Range: 46.79999999999998\n",
      "Cleveland Browns Total Rushing Yards/Game 2012-2022: 1375.4\n"
     ]
    }
   ],
   "source": [
    "team_name8 = 'Cleveland Browns'\n",
    "browns_data = nfl_Drushgm[nfl_Drushgm['Team'] == team_name8]\n",
    "mean_value = browns_data['Def RYds/G'].mean()\n",
    "median_value = browns_data['Def RYds/G'].median()\n",
    "std_value = browns_data['Def RYds/G'].std()\n",
    "var_value = browns_data['Def RYds/G'].var()\n",
    "min_value = browns_data['Def RYds/G'].min()\n",
    "max_value = browns_data['Def RYds/G'].max()\n",
    "data_range = max_value - min_value\n",
    "total_points = browns_data['Def RYds/G'].sum()\n",
    "print(\"Cleveland Browns Defense Rushing Yards/Game Mean:\", mean_value)\n",
    "print(\"Cleveland Browns Defense Rushing Yards/Game Median:\", median_value)\n",
    "print(\"Cleveland Browns Defense Rushing Yards/Game Standard Deviation:\", std_value)\n",
    "print(\"Cleveland Browns Defense Rushing Yards/Game Variance:\", var_value)\n",
    "print(\"Cleveland Browns Defense Rushing Yards/Game Minimum:\", min_value)\n",
    "print(\"Cleveland Browns Defense Rushing Yards/Game Maximum:\", max_value)\n",
    "print(\"Cleveland Browns Defense Rushing Yards/Game Range:\", data_range)\n",
    "print(\"Cleveland Browns Total Rushing Yards/Game 2012-2022:\", total_points)"
   ]
  },
  {
   "cell_type": "markdown",
   "id": "dc4980bc",
   "metadata": {},
   "source": [
    "### Dallas Cowboys"
   ]
  },
  {
   "cell_type": "code",
   "execution_count": 18,
   "id": "6546cdd0",
   "metadata": {},
   "outputs": [
    {
     "name": "stdout",
     "output_type": "stream",
     "text": [
      "Dallas Cowboys Defense Rushing Yards/Game Mean: 114.92727272727271\n",
      "Dallas Cowboys Defense Rushing Yards/Game Median: 112.8\n",
      "Dallas Cowboys Defense Rushing Yards/Game Standard Deviation: 20.62057666066063\n",
      "Dallas Cowboys Defense Rushing Yards/Game Variance: 425.208181818182\n",
      "Dallas Cowboys Defense Rushing Yards/Game Minimum: 83.5\n",
      "Dallas Cowboys Defense Rushing Yards/Game Maximum: 158.8\n",
      "Dallas Cowboys Defense Rushing Yards/Game Range: 75.30000000000001\n",
      "Dallas Cowboys Total Rushing Yards/Game 2012-2022: 1264.1999999999998\n"
     ]
    }
   ],
   "source": [
    "team_name9 = 'Dallas Cowboys'\n",
    "cowboys_data = nfl_Drushgm[nfl_Drushgm['Team'] == team_name9]\n",
    "mean_value = cowboys_data['Def RYds/G'].mean()\n",
    "median_value = cowboys_data['Def RYds/G'].median()\n",
    "std_value = cowboys_data['Def RYds/G'].std()\n",
    "var_value = cowboys_data['Def RYds/G'].var()\n",
    "min_value = cowboys_data['Def RYds/G'].min()\n",
    "max_value = cowboys_data['Def RYds/G'].max()\n",
    "data_range = max_value - min_value\n",
    "total_points = cowboys_data['Def RYds/G'].sum()\n",
    "print(\"Dallas Cowboys Defense Rushing Yards/Game Mean:\", mean_value)\n",
    "print(\"Dallas Cowboys Defense Rushing Yards/Game Median:\", median_value)\n",
    "print(\"Dallas Cowboys Defense Rushing Yards/Game Standard Deviation:\", std_value)\n",
    "print(\"Dallas Cowboys Defense Rushing Yards/Game Variance:\", var_value)\n",
    "print(\"Dallas Cowboys Defense Rushing Yards/Game Minimum:\", min_value)\n",
    "print(\"Dallas Cowboys Defense Rushing Yards/Game Maximum:\", max_value)\n",
    "print(\"Dallas Cowboys Defense Rushing Yards/Game Range:\", data_range)\n",
    "print(\"Dallas Cowboys Total Rushing Yards/Game 2012-2022:\", total_points)"
   ]
  },
  {
   "cell_type": "markdown",
   "id": "268ac0d5",
   "metadata": {},
   "source": [
    "### Denver Broncos"
   ]
  },
  {
   "cell_type": "code",
   "execution_count": 19,
   "id": "27a23f7f",
   "metadata": {},
   "outputs": [
    {
     "name": "stdout",
     "output_type": "stream",
     "text": [
      "Denver Broncos Defense Rushing Yards/Game Mean: 105.26363636363637\n",
      "Denver Broncos Defense Rushing Yards/Game Median: 109.8\n",
      "Denver Broncos Defense Rushing Yards/Game Standard Deviation: 17.67004656062189\n",
      "Denver Broncos Defense Rushing Yards/Game Variance: 312.2305454545455\n",
      "Denver Broncos Defense Rushing Yards/Game Minimum: 79.8\n",
      "Denver Broncos Defense Rushing Yards/Game Maximum: 130.3\n",
      "Denver Broncos Defense Rushing Yards/Game Range: 50.500000000000014\n",
      "Denver Broncos Total Rushing Yards/Game 2012-2022: 1157.8999999999999\n"
     ]
    }
   ],
   "source": [
    "team_name10 = 'Denver Broncos'\n",
    "broncos_data = nfl_Drushgm[nfl_Drushgm['Team'] == team_name10]\n",
    "mean_value = broncos_data['Def RYds/G'].mean()\n",
    "median_value = broncos_data['Def RYds/G'].median()\n",
    "std_value = broncos_data['Def RYds/G'].std()\n",
    "var_value = broncos_data['Def RYds/G'].var()\n",
    "min_value = broncos_data['Def RYds/G'].min()\n",
    "max_value = broncos_data['Def RYds/G'].max()\n",
    "data_range = max_value - min_value\n",
    "total_points = broncos_data['Def RYds/G'].sum()\n",
    "print(\"Denver Broncos Defense Rushing Yards/Game Mean:\", mean_value)\n",
    "print(\"Denver Broncos Defense Rushing Yards/Game Median:\", median_value)\n",
    "print(\"Denver Broncos Defense Rushing Yards/Game Standard Deviation:\", std_value)\n",
    "print(\"Denver Broncos Defense Rushing Yards/Game Variance:\", var_value)\n",
    "print(\"Denver Broncos Defense Rushing Yards/Game Minimum:\", min_value)\n",
    "print(\"Denver Broncos Defense Rushing Yards/Game Maximum:\", max_value)\n",
    "print(\"Denver Broncos Defense Rushing Yards/Game Range:\", data_range)\n",
    "print(\"Denver Broncos Total Rushing Yards/Game 2012-2022:\", total_points)"
   ]
  },
  {
   "cell_type": "markdown",
   "id": "276a72bc",
   "metadata": {},
   "source": [
    "### Detroit Lions"
   ]
  },
  {
   "cell_type": "code",
   "execution_count": 20,
   "id": "2abbbd15",
   "metadata": {},
   "outputs": [
    {
     "name": "stdout",
     "output_type": "stream",
     "text": [
      "Detroit Lions Defense Rushing Yards/Game Mean: 114.68181818181819\n",
      "Detroit Lions Defense Rushing Yards/Game Median: 113.0\n",
      "Detroit Lions Defense Rushing Yards/Game Standard Deviation: 20.5695317487695\n",
      "Detroit Lions Defense Rushing Yards/Game Variance: 423.1056363636364\n",
      "Detroit Lions Defense Rushing Yards/Game Minimum: 69.3\n",
      "Detroit Lions Defense Rushing Yards/Game Maximum: 146.5\n",
      "Detroit Lions Defense Rushing Yards/Game Range: 77.2\n",
      "Detroit Lions Total Rushing Yards/Game 2012-2022: 1261.5\n"
     ]
    }
   ],
   "source": [
    "team_name11 = 'Detroit Lions'\n",
    "lions_data = nfl_Drushgm[nfl_Drushgm['Team'] == team_name11]\n",
    "mean_value = lions_data['Def RYds/G'].mean()\n",
    "median_value = lions_data['Def RYds/G'].median()\n",
    "std_value = lions_data['Def RYds/G'].std()\n",
    "var_value = lions_data['Def RYds/G'].var()\n",
    "min_value = lions_data['Def RYds/G'].min()\n",
    "max_value = lions_data['Def RYds/G'].max()\n",
    "data_range = max_value - min_value\n",
    "total_points = lions_data['Def RYds/G'].sum()\n",
    "print(\"Detroit Lions Defense Rushing Yards/Game Mean:\", mean_value)\n",
    "print(\"Detroit Lions Defense Rushing Yards/Game Median:\", median_value)\n",
    "print(\"Detroit Lions Defense Rushing Yards/Game Standard Deviation:\", std_value)\n",
    "print(\"Detroit Lions Defense Rushing Yards/Game Variance:\", var_value)\n",
    "print(\"Detroit Lions Defense Rushing Yards/Game Minimum:\", min_value)\n",
    "print(\"Detroit Lions Defense Rushing Yards/Game Maximum:\", max_value)\n",
    "print(\"Detroit Lions Defense Rushing Yards/Game Range:\", data_range)\n",
    "print(\"Detroit Lions Total Rushing Yards/Game 2012-2022:\", total_points)"
   ]
  },
  {
   "cell_type": "markdown",
   "id": "2db5fd4c",
   "metadata": {},
   "source": [
    "### Green Bay Packers"
   ]
  },
  {
   "cell_type": "code",
   "execution_count": 21,
   "id": "120d426d",
   "metadata": {},
   "outputs": [
    {
     "name": "stdout",
     "output_type": "stream",
     "text": [
      "Green Bay Packers Defense Rushing Yards/Game Mean: 117.33636363636364\n",
      "Green Bay Packers Defense Rushing Yards/Game Median: 119.1\n",
      "Green Bay Packers Defense Rushing Yards/Game Standard Deviation: 10.970166154372752\n",
      "Green Bay Packers Defense Rushing Yards/Game Variance: 120.34454545454545\n",
      "Green Bay Packers Defense Rushing Yards/Game Minimum: 94.7\n",
      "Green Bay Packers Defense Rushing Yards/Game Maximum: 139.5\n",
      "Green Bay Packers Defense Rushing Yards/Game Range: 44.8\n",
      "Green Bay Packers Total Rushing Yards/Game 2012-2022: 1290.6999999999998\n"
     ]
    }
   ],
   "source": [
    "team_name12 = 'Green Bay Packers'\n",
    "packers_data = nfl_Drushgm[nfl_Drushgm['Team'] == team_name12]\n",
    "mean_value = packers_data['Def RYds/G'].mean()\n",
    "median_value = packers_data['Def RYds/G'].median()\n",
    "std_value = packers_data['Def RYds/G'].std()\n",
    "var_value = packers_data['Def RYds/G'].var()\n",
    "min_value = packers_data['Def RYds/G'].min()\n",
    "max_value = packers_data['Def RYds/G'].max()\n",
    "data_range = max_value - min_value\n",
    "total_points = packers_data['Def RYds/G'].sum()\n",
    "print(\"Green Bay Packers Defense Rushing Yards/Game Mean:\", mean_value)\n",
    "print(\"Green Bay Packers Defense Rushing Yards/Game Median:\", median_value)\n",
    "print(\"Green Bay Packers Defense Rushing Yards/Game Standard Deviation:\", std_value)\n",
    "print(\"Green Bay Packers Defense Rushing Yards/Game Variance:\", var_value)\n",
    "print(\"Green Bay Packers Defense Rushing Yards/Game Minimum:\", min_value)\n",
    "print(\"Green Bay Packers Defense Rushing Yards/Game Maximum:\", max_value)\n",
    "print(\"Green Bay Packers Defense Rushing Yards/Game Range:\", data_range)\n",
    "print(\"Green Bay Packers Total Rushing Yards/Game 2012-2022:\", total_points)"
   ]
  },
  {
   "cell_type": "markdown",
   "id": "c091afb6",
   "metadata": {},
   "source": [
    "### Houston Texans"
   ]
  },
  {
   "cell_type": "code",
   "execution_count": 22,
   "id": "d2bb9a00",
   "metadata": {},
   "outputs": [
    {
     "name": "stdout",
     "output_type": "stream",
     "text": [
      "Houston Texans Defense Rushing Yards/Game Mean: 119.10000000000001\n",
      "Houston Texans Defense Rushing Yards/Game Median: 109.2\n",
      "Houston Texans Defense Rushing Yards/Game Standard Deviation: 27.718766206308672\n",
      "Houston Texans Defense Rushing Yards/Game Variance: 768.3299999999997\n",
      "Houston Texans Defense Rushing Yards/Game Minimum: 82.7\n",
      "Houston Texans Defense Rushing Yards/Game Maximum: 170.2\n",
      "Houston Texans Defense Rushing Yards/Game Range: 87.49999999999999\n",
      "Houston Texans Total Rushing Yards/Game 2012-2022: 1310.1000000000001\n"
     ]
    }
   ],
   "source": [
    "team_name13 = 'Houston Texans'\n",
    "texans_data = nfl_Drushgm[nfl_Drushgm['Team'] == team_name13]\n",
    "mean_value = texans_data['Def RYds/G'].mean()\n",
    "median_value = texans_data['Def RYds/G'].median()\n",
    "std_value = texans_data['Def RYds/G'].std()\n",
    "var_value = texans_data['Def RYds/G'].var()\n",
    "min_value = texans_data['Def RYds/G'].min()\n",
    "max_value = texans_data['Def RYds/G'].max()\n",
    "data_range = max_value - min_value\n",
    "total_points = texans_data['Def RYds/G'].sum()\n",
    "print(\"Houston Texans Defense Rushing Yards/Game Mean:\", mean_value)\n",
    "print(\"Houston Texans Defense Rushing Yards/Game Median:\", median_value)\n",
    "print(\"Houston Texans Defense Rushing Yards/Game Standard Deviation:\", std_value)\n",
    "print(\"Houston Texans Defense Rushing Yards/Game Variance:\", var_value)\n",
    "print(\"Houston Texans Defense Rushing Yards/Game Minimum:\", min_value)\n",
    "print(\"Houston Texans Defense Rushing Yards/Game Maximum:\", max_value)\n",
    "print(\"Houston Texans Defense Rushing Yards/Game Range:\", data_range)\n",
    "print(\"Houston Texans Total Rushing Yards/Game 2012-2022:\", total_points)"
   ]
  },
  {
   "cell_type": "markdown",
   "id": "1b20dec9",
   "metadata": {},
   "source": [
    "### Indianapolis Colts"
   ]
  },
  {
   "cell_type": "code",
   "execution_count": 23,
   "id": "91456f69",
   "metadata": {},
   "outputs": [
    {
     "name": "stdout",
     "output_type": "stream",
     "text": [
      "Indianapolis Colts Defense Rushing Yards/Game Mean: 114.7272727272727\n",
      "Indianapolis Colts Defense Rushing Yards/Game Median: 120.4\n",
      "Indianapolis Colts Defense Rushing Yards/Game Standard Deviation: 13.81000296227998\n",
      "Indianapolis Colts Defense Rushing Yards/Game Variance: 190.71618181818178\n",
      "Indianapolis Colts Defense Rushing Yards/Game Minimum: 90.5\n",
      "Indianapolis Colts Defense Rushing Yards/Game Maximum: 137.5\n",
      "Indianapolis Colts Defense Rushing Yards/Game Range: 47.0\n",
      "Indianapolis Colts Total Rushing Yards/Game 2012-2022: 1261.9999999999998\n"
     ]
    }
   ],
   "source": [
    "team_name14 = 'Indianapolis Colts'\n",
    "colts_data = nfl_Drushgm[nfl_Drushgm['Team'] == team_name14]\n",
    "mean_value = colts_data['Def RYds/G'].mean()\n",
    "median_value = colts_data['Def RYds/G'].median()\n",
    "std_value = colts_data['Def RYds/G'].std()\n",
    "var_value = colts_data['Def RYds/G'].var()\n",
    "min_value = colts_data['Def RYds/G'].min()\n",
    "max_value = colts_data['Def RYds/G'].max()\n",
    "data_range = max_value - min_value\n",
    "total_points = colts_data['Def RYds/G'].sum()\n",
    "print(\"Indianapolis Colts Defense Rushing Yards/Game Mean:\", mean_value)\n",
    "print(\"Indianapolis Colts Defense Rushing Yards/Game Median:\", median_value)\n",
    "print(\"Indianapolis Colts Defense Rushing Yards/Game Standard Deviation:\", std_value)\n",
    "print(\"Indianapolis Colts Defense Rushing Yards/Game Variance:\", var_value)\n",
    "print(\"Indianapolis Colts Defense Rushing Yards/Game Minimum:\", min_value)\n",
    "print(\"Indianapolis Colts Defense Rushing Yards/Game Maximum:\", max_value)\n",
    "print(\"Indianapolis Colts Defense Rushing Yards/Game Range:\", data_range)\n",
    "print(\"Indianapolis Colts Total Rushing Yards/Game 2012-2022:\", total_points)"
   ]
  },
  {
   "cell_type": "markdown",
   "id": "f8df3a15",
   "metadata": {},
   "source": [
    "### Jacksonville Jaguars"
   ]
  },
  {
   "cell_type": "code",
   "execution_count": 24,
   "id": "4a9f8452",
   "metadata": {},
   "outputs": [
    {
     "name": "stdout",
     "output_type": "stream",
     "text": [
      "Jacksonville Jaguars Defense Rushing Yards/Game Mean: 125.32727272727271\n",
      "Jacksonville Jaguars Defense Rushing Yards/Game Median: 125.1\n",
      "Jacksonville Jaguars Defense Rushing Yards/Game Standard Deviation: 14.931516393795432\n",
      "Jacksonville Jaguars Defense Rushing Yards/Game Variance: 222.95018181818176\n",
      "Jacksonville Jaguars Defense Rushing Yards/Game Minimum: 106.4\n",
      "Jacksonville Jaguars Defense Rushing Yards/Game Maximum: 153.2\n",
      "Jacksonville Jaguars Defense Rushing Yards/Game Range: 46.79999999999998\n",
      "Jacksonville Jaguars Total Rushing Yards/Game 2012-2022: 1378.6\n"
     ]
    }
   ],
   "source": [
    "team_name15 = 'Jacksonville Jaguars'\n",
    "jaguars_data = nfl_Drushgm[nfl_Drushgm['Team'] == team_name15]\n",
    "mean_value = jaguars_data['Def RYds/G'].mean()\n",
    "median_value = jaguars_data['Def RYds/G'].median()\n",
    "std_value = jaguars_data['Def RYds/G'].std()\n",
    "var_value = jaguars_data['Def RYds/G'].var()\n",
    "min_value = jaguars_data['Def RYds/G'].min()\n",
    "max_value = jaguars_data['Def RYds/G'].max()\n",
    "data_range = max_value - min_value\n",
    "total_points = jaguars_data['Def RYds/G'].sum()\n",
    "print(\"Jacksonville Jaguars Defense Rushing Yards/Game Mean:\", mean_value)\n",
    "print(\"Jacksonville Jaguars Defense Rushing Yards/Game Median:\", median_value)\n",
    "print(\"Jacksonville Jaguars Defense Rushing Yards/Game Standard Deviation:\", std_value)\n",
    "print(\"Jacksonville Jaguars Defense Rushing Yards/Game Variance:\", var_value)\n",
    "print(\"Jacksonville Jaguars Defense Rushing Yards/Game Minimum:\", min_value)\n",
    "print(\"Jacksonville Jaguars Defense Rushing Yards/Game Maximum:\", max_value)\n",
    "print(\"Jacksonville Jaguars Defense Rushing Yards/Game Range:\", data_range)\n",
    "print(\"Jacksonville Jaguars Total Rushing Yards/Game 2012-2022:\", total_points)"
   ]
  },
  {
   "cell_type": "markdown",
   "id": "bbf902cd",
   "metadata": {},
   "source": [
    "### Kansas City Chiefs"
   ]
  },
  {
   "cell_type": "code",
   "execution_count": 25,
   "id": "3df66572",
   "metadata": {},
   "outputs": [
    {
     "name": "stdout",
     "output_type": "stream",
     "text": [
      "Kansas City Chiefs Defense Rushing Yards/Game Mean: 120.69999999999999\n",
      "Kansas City Chiefs Defense Rushing Yards/Game Median: 121.1\n",
      "Kansas City Chiefs Defense Rushing Yards/Game Standard Deviation: 10.773578792583267\n",
      "Kansas City Chiefs Defense Rushing Yards/Game Variance: 116.06999999999994\n",
      "Kansas City Chiefs Defense Rushing Yards/Game Minimum: 98.2\n",
      "Kansas City Chiefs Defense Rushing Yards/Game Maximum: 135.7\n",
      "Kansas City Chiefs Defense Rushing Yards/Game Range: 37.499999999999986\n",
      "Kansas City Chiefs Total Rushing Yards/Game 2012-2022: 1327.6999999999998\n"
     ]
    }
   ],
   "source": [
    "team_name16 = 'Kansas City Chiefs'\n",
    "chiefs_data = nfl_Drushgm[nfl_Drushgm['Team'] == team_name16]\n",
    "mean_value = chiefs_data['Def RYds/G'].mean()\n",
    "median_value = chiefs_data['Def RYds/G'].median()\n",
    "std_value = chiefs_data['Def RYds/G'].std()\n",
    "var_value = chiefs_data['Def RYds/G'].var()\n",
    "min_value = chiefs_data['Def RYds/G'].min()\n",
    "max_value = chiefs_data['Def RYds/G'].max()\n",
    "data_range = max_value - min_value\n",
    "total_points = chiefs_data['Def RYds/G'].sum()\n",
    "print(\"Kansas City Chiefs Defense Rushing Yards/Game Mean:\", mean_value)\n",
    "print(\"Kansas City Chiefs Defense Rushing Yards/Game Median:\", median_value)\n",
    "print(\"Kansas City Chiefs Defense Rushing Yards/Game Standard Deviation:\", std_value)\n",
    "print(\"Kansas City Chiefs Defense Rushing Yards/Game Variance:\", var_value)\n",
    "print(\"Kansas City Chiefs Defense Rushing Yards/Game Minimum:\", min_value)\n",
    "print(\"Kansas City Chiefs Defense Rushing Yards/Game Maximum:\", max_value)\n",
    "print(\"Kansas City Chiefs Defense Rushing Yards/Game Range:\", data_range)\n",
    "print(\"Kansas City Chiefs Total Rushing Yards/Game 2012-2022:\", total_points)"
   ]
  },
  {
   "cell_type": "markdown",
   "id": "a718e716",
   "metadata": {},
   "source": [
    "### Las Vegas Raiders"
   ]
  },
  {
   "cell_type": "code",
   "execution_count": 26,
   "id": "2ddc0481",
   "metadata": {},
   "outputs": [
    {
     "name": "stdout",
     "output_type": "stream",
     "text": [
      "Las Vegas Raiders Defense Rushing Yards/Game Mean: 116.26363636363635\n",
      "Las Vegas Raiders Defense Rushing Yards/Game Median: 117.6\n",
      "Las Vegas Raiders Defense Rushing Yards/Game Standard Deviation: 11.532933081161332\n",
      "Las Vegas Raiders Defense Rushing Yards/Game Variance: 133.0085454545454\n",
      "Las Vegas Raiders Defense Rushing Yards/Game Minimum: 98.1\n",
      "Las Vegas Raiders Defense Rushing Yards/Game Maximum: 140.6\n",
      "Las Vegas Raiders Defense Rushing Yards/Game Range: 42.5\n",
      "Las Vegas Raiders Total Rushing Yards/Game 2012-2022: 1278.8999999999999\n"
     ]
    }
   ],
   "source": [
    "team_name17 = 'Las Vegas Raiders'\n",
    "raiders_data = nfl_Drushgm[nfl_Drushgm['Team'] == team_name17]\n",
    "mean_value = raiders_data['Def RYds/G'].mean()\n",
    "median_value = raiders_data['Def RYds/G'].median()\n",
    "std_value = raiders_data['Def RYds/G'].std()\n",
    "var_value = raiders_data['Def RYds/G'].var()\n",
    "min_value = raiders_data['Def RYds/G'].min()\n",
    "max_value = raiders_data['Def RYds/G'].max()\n",
    "data_range = max_value - min_value\n",
    "total_points = raiders_data['Def RYds/G'].sum()\n",
    "print(\"Las Vegas Raiders Defense Rushing Yards/Game Mean:\", mean_value)\n",
    "print(\"Las Vegas Raiders Defense Rushing Yards/Game Median:\", median_value)\n",
    "print(\"Las Vegas Raiders Defense Rushing Yards/Game Standard Deviation:\", std_value)\n",
    "print(\"Las Vegas Raiders Defense Rushing Yards/Game Variance:\", var_value)\n",
    "print(\"Las Vegas Raiders Defense Rushing Yards/Game Minimum:\", min_value)\n",
    "print(\"Las Vegas Raiders Defense Rushing Yards/Game Maximum:\", max_value)\n",
    "print(\"Las Vegas Raiders Defense Rushing Yards/Game Range:\", data_range)\n",
    "print(\"Las Vegas Raiders Total Rushing Yards/Game 2012-2022:\", total_points)"
   ]
  },
  {
   "cell_type": "markdown",
   "id": "42a247b8",
   "metadata": {},
   "source": [
    "### Los Angeles Chargers"
   ]
  },
  {
   "cell_type": "code",
   "execution_count": 27,
   "id": "17f08503",
   "metadata": {},
   "outputs": [
    {
     "name": "stdout",
     "output_type": "stream",
     "text": [
      "Los Angeles Chargers Defense Rushing Yards/Game Mean: 118.69999999999999\n",
      "Los Angeles Chargers Defense Rushing Yards/Game Median: 119.8\n",
      "Los Angeles Chargers Defense Rushing Yards/Game Standard Deviation: 16.186722954322782\n",
      "Los Angeles Chargers Defense Rushing Yards/Game Variance: 262.01000000000005\n",
      "Los Angeles Chargers Defense Rushing Yards/Game Minimum: 96.4\n",
      "Los Angeles Chargers Defense Rushing Yards/Game Maximum: 145.8\n",
      "Los Angeles Chargers Defense Rushing Yards/Game Range: 49.400000000000006\n",
      "Los Angeles Chargers Total Rushing Yards/Game 2012-2022: 1305.7\n"
     ]
    }
   ],
   "source": [
    "team_name18 = 'Los Angeles Chargers'\n",
    "chargers_data = nfl_Drushgm[nfl_Drushgm['Team'] == team_name18]\n",
    "mean_value = chargers_data['Def RYds/G'].mean()\n",
    "median_value = chargers_data['Def RYds/G'].median()\n",
    "std_value = chargers_data['Def RYds/G'].std()\n",
    "var_value = chargers_data['Def RYds/G'].var()\n",
    "min_value = chargers_data['Def RYds/G'].min()\n",
    "max_value = chargers_data['Def RYds/G'].max()\n",
    "data_range = max_value - min_value\n",
    "total_points = chargers_data['Def RYds/G'].sum()\n",
    "print(\"Los Angeles Chargers Defense Rushing Yards/Game Mean:\", mean_value)\n",
    "print(\"Los Angeles Chargers Defense Rushing Yards/Game Median:\", median_value)\n",
    "print(\"Los Angeles Chargers Defense Rushing Yards/Game Standard Deviation:\", std_value)\n",
    "print(\"Los Angeles Chargers Defense Rushing Yards/Game Variance:\", var_value)\n",
    "print(\"Los Angeles Chargers Defense Rushing Yards/Game Minimum:\", min_value)\n",
    "print(\"Los Angeles Chargers Defense Rushing Yards/Game Maximum:\", max_value)\n",
    "print(\"Los Angeles Chargers Defense Rushing Yards/Game Range:\", data_range)\n",
    "print(\"Los Angeles Chargers Total Rushing Yards/Game 2012-2022:\", total_points)"
   ]
  },
  {
   "cell_type": "markdown",
   "id": "4a843b70",
   "metadata": {},
   "source": [
    "### Los Angeles Rams"
   ]
  },
  {
   "cell_type": "code",
   "execution_count": 28,
   "id": "b73545ca",
   "metadata": {},
   "outputs": [
    {
     "name": "stdout",
     "output_type": "stream",
     "text": [
      "Los Angeles Rams Defense Rushing Yards/Game Mean: 110.49999999999999\n",
      "Los Angeles Rams Defense Rushing Yards/Game Median: 113.1\n",
      "Los Angeles Rams Defense Rushing Yards/Game Standard Deviation: 9.459175439751604\n",
      "Los Angeles Rams Defense Rushing Yards/Game Variance: 89.47599999999996\n",
      "Los Angeles Rams Defense Rushing Yards/Game Minimum: 91.2\n",
      "Los Angeles Rams Defense Rushing Yards/Game Maximum: 122.3\n",
      "Los Angeles Rams Defense Rushing Yards/Game Range: 31.099999999999994\n",
      "Los Angeles Rams Total Rushing Yards/Game 2012-2022: 1215.5\n"
     ]
    }
   ],
   "source": [
    "team_name19 = 'Los Angeles Rams'\n",
    "Rams_data = nfl_Drushgm[nfl_Drushgm['Team'] == team_name19]\n",
    "mean_value = Rams_data['Def RYds/G'].mean()\n",
    "median_value = Rams_data['Def RYds/G'].median()\n",
    "std_value = Rams_data['Def RYds/G'].std()\n",
    "var_value = Rams_data['Def RYds/G'].var()\n",
    "min_value = Rams_data['Def RYds/G'].min()\n",
    "max_value = Rams_data['Def RYds/G'].max()\n",
    "data_range = max_value - min_value\n",
    "total_points = Rams_data['Def RYds/G'].sum()\n",
    "print(\"Los Angeles Rams Defense Rushing Yards/Game Mean:\", mean_value)\n",
    "print(\"Los Angeles Rams Defense Rushing Yards/Game Median:\", median_value)\n",
    "print(\"Los Angeles Rams Defense Rushing Yards/Game Standard Deviation:\", std_value)\n",
    "print(\"Los Angeles Rams Defense Rushing Yards/Game Variance:\", var_value)\n",
    "print(\"Los Angeles Rams Defense Rushing Yards/Game Minimum:\", min_value)\n",
    "print(\"Los Angeles Rams Defense Rushing Yards/Game Maximum:\", max_value)\n",
    "print(\"Los Angeles Rams Defense Rushing Yards/Game Range:\", data_range)\n",
    "print(\"Los Angeles Rams Total Rushing Yards/Game 2012-2022:\", total_points)"
   ]
  },
  {
   "cell_type": "markdown",
   "id": "b95c2656",
   "metadata": {},
   "source": [
    "### Miami Dolphins"
   ]
  },
  {
   "cell_type": "code",
   "execution_count": 29,
   "id": "37582447",
   "metadata": {},
   "outputs": [
    {
     "name": "stdout",
     "output_type": "stream",
     "text": [
      "Miami Dolphins Defense Rushing Yards/Game Mean: 121.94545454545454\n",
      "Miami Dolphins Defense Rushing Yards/Game Median: 121.1\n",
      "Miami Dolphins Defense Rushing Yards/Game Standard Deviation: 13.950796653694274\n",
      "Miami Dolphins Defense Rushing Yards/Game Variance: 194.62472727272737\n",
      "Miami Dolphins Defense Rushing Yards/Game Minimum: 103.0\n",
      "Miami Dolphins Defense Rushing Yards/Game Maximum: 145.3\n",
      "Miami Dolphins Defense Rushing Yards/Game Range: 42.30000000000001\n",
      "Miami Dolphins Total Rushing Yards/Game 2012-2022: 1341.4\n"
     ]
    }
   ],
   "source": [
    "team_name20 = 'Miami Dolphins'\n",
    "dolphins_data = nfl_Drushgm[nfl_Drushgm['Team'] == team_name20]\n",
    "mean_value = dolphins_data['Def RYds/G'].mean()\n",
    "median_value = dolphins_data['Def RYds/G'].median()\n",
    "std_value = dolphins_data['Def RYds/G'].std()\n",
    "var_value = dolphins_data['Def RYds/G'].var()\n",
    "min_value = dolphins_data['Def RYds/G'].min()\n",
    "max_value = dolphins_data['Def RYds/G'].max()\n",
    "data_range = max_value - min_value\n",
    "total_points = dolphins_data['Def RYds/G'].sum()\n",
    "print(\"Miami Dolphins Defense Rushing Yards/Game Mean:\", mean_value)\n",
    "print(\"Miami Dolphins Defense Rushing Yards/Game Median:\", median_value)\n",
    "print(\"Miami Dolphins Defense Rushing Yards/Game Standard Deviation:\", std_value)\n",
    "print(\"Miami Dolphins Defense Rushing Yards/Game Variance:\", var_value)\n",
    "print(\"Miami Dolphins Defense Rushing Yards/Game Minimum:\", min_value)\n",
    "print(\"Miami Dolphins Defense Rushing Yards/Game Maximum:\", max_value)\n",
    "print(\"Miami Dolphins Defense Rushing Yards/Game Range:\", data_range)\n",
    "print(\"Miami Dolphins Total Rushing Yards/Game 2012-2022:\", total_points)"
   ]
  },
  {
   "cell_type": "markdown",
   "id": "6069914e",
   "metadata": {},
   "source": [
    "### Minnesota Vikings"
   ]
  },
  {
   "cell_type": "code",
   "execution_count": 30,
   "id": "ec087d3b",
   "metadata": {},
   "outputs": [
    {
     "name": "stdout",
     "output_type": "stream",
     "text": [
      "Minnesota Vikings Defense Rushing Yards/Game Mean: 113.35454545454544\n",
      "Minnesota Vikings Defense Rushing Yards/Game Median: 110.4\n",
      "Minnesota Vikings Defense Rushing Yards/Game Standard Deviation: 13.936309671958616\n",
      "Minnesota Vikings Defense Rushing Yards/Game Variance: 194.2207272727273\n",
      "Minnesota Vikings Defense Rushing Yards/Game Minimum: 83.6\n",
      "Minnesota Vikings Defense Rushing Yards/Game Maximum: 134.4\n",
      "Minnesota Vikings Defense Rushing Yards/Game Range: 50.80000000000001\n",
      "Minnesota Vikings Total Rushing Yards/Game 2012-2022: 1246.8999999999999\n"
     ]
    }
   ],
   "source": [
    "team_name21 = 'Minnesota Vikings'\n",
    "vikings_data = nfl_Drushgm[nfl_Drushgm['Team'] == team_name21]\n",
    "mean_value = vikings_data['Def RYds/G'].mean()\n",
    "median_value = vikings_data['Def RYds/G'].median()\n",
    "std_value = vikings_data['Def RYds/G'].std()\n",
    "var_value = vikings_data['Def RYds/G'].var()\n",
    "min_value = vikings_data['Def RYds/G'].min()\n",
    "max_value = vikings_data['Def RYds/G'].max()\n",
    "data_range = max_value - min_value\n",
    "total_points = vikings_data['Def RYds/G'].sum()\n",
    "print(\"Minnesota Vikings Defense Rushing Yards/Game Mean:\", mean_value)\n",
    "print(\"Minnesota Vikings Defense Rushing Yards/Game Median:\", median_value)\n",
    "print(\"Minnesota Vikings Defense Rushing Yards/Game Standard Deviation:\", std_value)\n",
    "print(\"Minnesota Vikings Defense Rushing Yards/Game Variance:\", var_value)\n",
    "print(\"Minnesota Vikings Defense Rushing Yards/Game Minimum:\", min_value)\n",
    "print(\"Minnesota Vikings Defense Rushing Yards/Game Maximum:\", max_value)\n",
    "print(\"Minnesota Vikings Defense Rushing Yards/Game Range:\", data_range)\n",
    "print(\"Minnesota Vikings Total Rushing Yards/Game 2012-2022:\", total_points)"
   ]
  },
  {
   "cell_type": "markdown",
   "id": "63b77a58",
   "metadata": {},
   "source": [
    "### New England Patriots"
   ]
  },
  {
   "cell_type": "code",
   "execution_count": 31,
   "id": "ede6aca2",
   "metadata": {},
   "outputs": [
    {
     "name": "stdout",
     "output_type": "stream",
     "text": [
      "New England Patriots Defense Rushing Yards/Game Mean: 110.11818181818181\n",
      "New England Patriots Defense Rushing Yards/Game Median: 105.5\n",
      "New England Patriots Defense Rushing Yards/Game Standard Deviation: 14.726290651879596\n",
      "New England Patriots Defense Rushing Yards/Game Variance: 216.8636363636364\n",
      "New England Patriots Defense Rushing Yards/Game Minimum: 88.6\n",
      "New England Patriots Defense Rushing Yards/Game Maximum: 134.1\n",
      "New England Patriots Defense Rushing Yards/Game Range: 45.5\n",
      "New England Patriots Total Rushing Yards/Game 2012-2022: 1211.3\n"
     ]
    }
   ],
   "source": [
    "team_name22 = 'New England Patriots'\n",
    "patriots_data = nfl_Drushgm[nfl_Drushgm['Team'] == team_name22]\n",
    "mean_value = patriots_data['Def RYds/G'].mean()\n",
    "median_value = patriots_data['Def RYds/G'].median()\n",
    "std_value = patriots_data['Def RYds/G'].std()\n",
    "var_value = patriots_data['Def RYds/G'].var()\n",
    "min_value = patriots_data['Def RYds/G'].min()\n",
    "max_value = patriots_data['Def RYds/G'].max()\n",
    "data_range = max_value - min_value\n",
    "total_points = patriots_data['Def RYds/G'].sum()\n",
    "print(\"New England Patriots Defense Rushing Yards/Game Mean:\", mean_value)\n",
    "print(\"New England Patriots Defense Rushing Yards/Game Median:\", median_value)\n",
    "print(\"New England Patriots Defense Rushing Yards/Game Standard Deviation:\", std_value)\n",
    "print(\"New England Patriots Defense Rushing Yards/Game Variance:\", var_value)\n",
    "print(\"New England Patriots Defense Rushing Yards/Game Minimum:\", min_value)\n",
    "print(\"New England Patriots Defense Rushing Yards/Game Maximum:\", max_value)\n",
    "print(\"New England Patriots Defense Rushing Yards/Game Range:\", data_range)\n",
    "print(\"New England Patriots Total Rushing Yards/Game 2012-2022:\", total_points)"
   ]
  },
  {
   "cell_type": "markdown",
   "id": "e1872052",
   "metadata": {},
   "source": [
    "### New Orleans Saints"
   ]
  },
  {
   "cell_type": "code",
   "execution_count": 32,
   "id": "64ef690b",
   "metadata": {},
   "outputs": [
    {
     "name": "stdout",
     "output_type": "stream",
     "text": [
      "New Orleans Saints Defense Rushing Yards/Game Mean: 114.39000000000001\n",
      "New Orleans Saints Defense Rushing Yards/Game Median: 111.65\n",
      "New Orleans Saints Defense Rushing Yards/Game Standard Deviation: 19.70518544275423\n",
      "New Orleans Saints Defense Rushing Yards/Game Variance: 388.2943333333333\n",
      "New Orleans Saints Defense Rushing Yards/Game Minimum: 91.3\n",
      "New Orleans Saints Defense Rushing Yards/Game Maximum: 147.6\n",
      "New Orleans Saints Defense Rushing Yards/Game Range: 56.3\n",
      "New Orleans Saints Total Rushing Yards/Game 2012-2022: 1143.9\n"
     ]
    }
   ],
   "source": [
    "team_name23 = 'New Orleans Saints'\n",
    "saints_data = nfl_Drushgm[nfl_Drushgm['Team'] == team_name23]\n",
    "mean_value = saints_data['Def RYds/G'].mean()\n",
    "median_value = saints_data['Def RYds/G'].median()\n",
    "std_value = saints_data['Def RYds/G'].std()\n",
    "var_value = saints_data['Def RYds/G'].var()\n",
    "min_value = saints_data['Def RYds/G'].min()\n",
    "max_value = saints_data['Def RYds/G'].max()\n",
    "data_range = max_value - min_value\n",
    "total_points = saints_data['Def RYds/G'].sum()\n",
    "print(\"New Orleans Saints Defense Rushing Yards/Game Mean:\", mean_value)\n",
    "print(\"New Orleans Saints Defense Rushing Yards/Game Median:\", median_value)\n",
    "print(\"New Orleans Saints Defense Rushing Yards/Game Standard Deviation:\", std_value)\n",
    "print(\"New Orleans Saints Defense Rushing Yards/Game Variance:\", var_value)\n",
    "print(\"New Orleans Saints Defense Rushing Yards/Game Minimum:\", min_value)\n",
    "print(\"New Orleans Saints Defense Rushing Yards/Game Maximum:\", max_value)\n",
    "print(\"New Orleans Saints Defense Rushing Yards/Game Range:\", data_range)\n",
    "print(\"New Orleans Saints Total Rushing Yards/Game 2012-2022:\", total_points)"
   ]
  },
  {
   "cell_type": "markdown",
   "id": "7578e136",
   "metadata": {},
   "source": [
    "### New York Giants"
   ]
  },
  {
   "cell_type": "code",
   "execution_count": 33,
   "id": "c1c4f182",
   "metadata": {},
   "outputs": [
    {
     "name": "stdout",
     "output_type": "stream",
     "text": [
      "New York Giants Defense Rushing Yards/Game Mean: 120.02727272727275\n",
      "New York Giants Defense Rushing Yards/Game Median: 120.8\n",
      "New York Giants Defense Rushing Yards/Game Standard Deviation: 14.870715578551751\n",
      "New York Giants Defense Rushing Yards/Game Variance: 221.13818181818175\n",
      "New York Giants Defense Rushing Yards/Game Minimum: 88.6\n",
      "New York Giants Defense Rushing Yards/Game Maximum: 144.2\n",
      "New York Giants Defense Rushing Yards/Game Range: 55.599999999999994\n",
      "New York Giants Total Rushing Yards/Game 2012-2022: 1320.3000000000002\n"
     ]
    }
   ],
   "source": [
    "team_name24 = 'New York Giants'\n",
    "giants_data = nfl_Drushgm[nfl_Drushgm['Team'] == team_name24]\n",
    "mean_value = giants_data['Def RYds/G'].mean()\n",
    "median_value = giants_data['Def RYds/G'].median()\n",
    "std_value = giants_data['Def RYds/G'].std()\n",
    "var_value = giants_data['Def RYds/G'].var()\n",
    "min_value = giants_data['Def RYds/G'].min()\n",
    "max_value = giants_data['Def RYds/G'].max()\n",
    "data_range = max_value - min_value\n",
    "total_points = giants_data['Def RYds/G'].sum()\n",
    "print(\"New York Giants Defense Rushing Yards/Game Mean:\", mean_value)\n",
    "print(\"New York Giants Defense Rushing Yards/Game Median:\", median_value)\n",
    "print(\"New York Giants Defense Rushing Yards/Game Standard Deviation:\", std_value)\n",
    "print(\"New York Giants Defense Rushing Yards/Game Variance:\", var_value)\n",
    "print(\"New York Giants Defense Rushing Yards/Game Minimum:\", min_value)\n",
    "print(\"New York Giants Defense Rushing Yards/Game Maximum:\", max_value)\n",
    "print(\"New York Giants Defense Rushing Yards/Game Range:\", data_range)\n",
    "print(\"New York Giants Total Rushing Yards/Game 2012-2022:\", total_points)"
   ]
  },
  {
   "cell_type": "markdown",
   "id": "3119cc98",
   "metadata": {},
   "source": [
    "### New York Jets"
   ]
  },
  {
   "cell_type": "code",
   "execution_count": 34,
   "id": "e10d2973",
   "metadata": {},
   "outputs": [
    {
     "name": "stdout",
     "output_type": "stream",
     "text": [
      "New York Jets Defense Rushing Yards/Game Mean: 109.1\n",
      "New York Jets Defense Rushing Yards/Game Median: 112.0\n",
      "New York Jets Defense Rushing Yards/Game Standard Deviation: 19.857139773894932\n",
      "New York Jets Defense Rushing Yards/Game Variance: 394.30600000000004\n",
      "New York Jets Defense Rushing Yards/Game Minimum: 83.4\n",
      "New York Jets Defense Rushing Yards/Game Maximum: 138.3\n",
      "New York Jets Defense Rushing Yards/Game Range: 54.900000000000006\n",
      "New York Jets Total Rushing Yards/Game 2012-2022: 1200.1\n"
     ]
    }
   ],
   "source": [
    "team_name25 = 'New York Jets'\n",
    "Jets_data = nfl_Drushgm[nfl_Drushgm['Team'] == team_name25]\n",
    "mean_value = Jets_data['Def RYds/G'].mean()\n",
    "median_value = Jets_data['Def RYds/G'].median()\n",
    "std_value = Jets_data['Def RYds/G'].std()\n",
    "var_value = Jets_data['Def RYds/G'].var()\n",
    "min_value = Jets_data['Def RYds/G'].min()\n",
    "max_value = Jets_data['Def RYds/G'].max()\n",
    "data_range = max_value - min_value\n",
    "total_points = Jets_data['Def RYds/G'].sum()\n",
    "print(\"New York Jets Defense Rushing Yards/Game Mean:\", mean_value)\n",
    "print(\"New York Jets Defense Rushing Yards/Game Median:\", median_value)\n",
    "print(\"New York Jets Defense Rushing Yards/Game Standard Deviation:\", std_value)\n",
    "print(\"New York Jets Defense Rushing Yards/Game Variance:\", var_value)\n",
    "print(\"New York Jets Defense Rushing Yards/Game Minimum:\", min_value)\n",
    "print(\"New York Jets Defense Rushing Yards/Game Maximum:\", max_value)\n",
    "print(\"New York Jets Defense Rushing Yards/Game Range:\", data_range)\n",
    "print(\"New York Jets Total Rushing Yards/Game 2012-2022:\", total_points)"
   ]
  },
  {
   "cell_type": "markdown",
   "id": "751ff2a9",
   "metadata": {},
   "source": [
    "### Philadelphia Eagles"
   ]
  },
  {
   "cell_type": "code",
   "execution_count": 35,
   "id": "b4d6479d",
   "metadata": {},
   "outputs": [
    {
     "name": "stdout",
     "output_type": "stream",
     "text": [
      "Philadelphia Eagles Defense Rushing Yards/Game Mean: 109.13636363636364\n",
      "Philadelphia Eagles Defense Rushing Yards/Game Median: 107.9\n",
      "Philadelphia Eagles Defense Rushing Yards/Game Standard Deviation: 16.875679110914184\n",
      "Philadelphia Eagles Defense Rushing Yards/Game Variance: 284.7885454545454\n",
      "Philadelphia Eagles Defense Rushing Yards/Game Minimum: 79.2\n",
      "Philadelphia Eagles Defense Rushing Yards/Game Maximum: 134.6\n",
      "Philadelphia Eagles Defense Rushing Yards/Game Range: 55.39999999999999\n",
      "Philadelphia Eagles Total Rushing Yards/Game 2012-2022: 1200.5\n"
     ]
    }
   ],
   "source": [
    "team_name26 = 'Philadelphia Eagles'\n",
    "eagles_data = nfl_Drushgm[nfl_Drushgm['Team'] == team_name26]\n",
    "mean_value = eagles_data['Def RYds/G'].mean()\n",
    "median_value = eagles_data['Def RYds/G'].median()\n",
    "std_value = eagles_data['Def RYds/G'].std()\n",
    "var_value = eagles_data['Def RYds/G'].var()\n",
    "min_value = eagles_data['Def RYds/G'].min()\n",
    "max_value = eagles_data['Def RYds/G'].max()\n",
    "data_range = max_value - min_value\n",
    "total_points = eagles_data['Def RYds/G'].sum()\n",
    "print(\"Philadelphia Eagles Defense Rushing Yards/Game Mean:\", mean_value)\n",
    "print(\"Philadelphia Eagles Defense Rushing Yards/Game Median:\", median_value)\n",
    "print(\"Philadelphia Eagles Defense Rushing Yards/Game Standard Deviation:\", std_value)\n",
    "print(\"Philadelphia Eagles Defense Rushing Yards/Game Variance:\", var_value)\n",
    "print(\"Philadelphia Eagles Defense Rushing Yards/Game Minimum:\", min_value)\n",
    "print(\"Philadelphia Eagles Defense Rushing Yards/Game Maximum:\", max_value)\n",
    "print(\"Philadelphia Eagles Defense Rushing Yards/Game Range:\", data_range)\n",
    "print(\"Philadelphia Eagles Total Rushing Yards/Game 2012-2022:\", total_points)"
   ]
  },
  {
   "cell_type": "markdown",
   "id": "631e38b3",
   "metadata": {},
   "source": [
    "### Pittsburgh Steelers"
   ]
  },
  {
   "cell_type": "code",
   "execution_count": 36,
   "id": "15659f0e",
   "metadata": {
    "scrolled": true
   },
   "outputs": [
    {
     "name": "stdout",
     "output_type": "stream",
     "text": [
      "Pittsburgh Steelers Defense Rushing Yards/Game Mean: 106.8\n",
      "Pittsburgh Steelers Defense Rushing Yards/Game Median: 105.8\n",
      "Pittsburgh Steelers Defense Rushing Yards/Game Standard Deviation: 15.370100845472681\n",
      "Pittsburgh Steelers Defense Rushing Yards/Game Variance: 236.24\n",
      "Pittsburgh Steelers Defense Rushing Yards/Game Minimum: 90.6\n",
      "Pittsburgh Steelers Defense Rushing Yards/Game Maximum: 146.1\n",
      "Pittsburgh Steelers Defense Rushing Yards/Game Range: 55.5\n",
      "Pittsburgh Steelers Total Rushing Yards/Game 2012-2022: 1174.8\n"
     ]
    }
   ],
   "source": [
    "team_name27 = 'Pittsburgh Steelers'\n",
    "steelers_data = nfl_Drushgm[nfl_Drushgm['Team'] == team_name27]\n",
    "mean_value = steelers_data['Def RYds/G'].mean()\n",
    "median_value = steelers_data['Def RYds/G'].median()\n",
    "std_value = steelers_data['Def RYds/G'].std()\n",
    "var_value = steelers_data['Def RYds/G'].var()\n",
    "min_value = steelers_data['Def RYds/G'].min()\n",
    "max_value = steelers_data['Def RYds/G'].max()\n",
    "data_range = max_value - min_value\n",
    "total_points = steelers_data['Def RYds/G'].sum()\n",
    "print(\"Pittsburgh Steelers Defense Rushing Yards/Game Mean:\", mean_value)\n",
    "print(\"Pittsburgh Steelers Defense Rushing Yards/Game Median:\", median_value)\n",
    "print(\"Pittsburgh Steelers Defense Rushing Yards/Game Standard Deviation:\", std_value)\n",
    "print(\"Pittsburgh Steelers Defense Rushing Yards/Game Variance:\", var_value)\n",
    "print(\"Pittsburgh Steelers Defense Rushing Yards/Game Minimum:\", min_value)\n",
    "print(\"Pittsburgh Steelers Defense Rushing Yards/Game Maximum:\", max_value)\n",
    "print(\"Pittsburgh Steelers Defense Rushing Yards/Game Range:\", data_range)\n",
    "print(\"Pittsburgh Steelers Total Rushing Yards/Game 2012-2022:\", total_points)"
   ]
  },
  {
   "cell_type": "markdown",
   "id": "81d6493d",
   "metadata": {},
   "source": [
    "### San Francisco 49ers"
   ]
  },
  {
   "cell_type": "code",
   "execution_count": 37,
   "id": "65ddd0f9",
   "metadata": {},
   "outputs": [
    {
     "name": "stdout",
     "output_type": "stream",
     "text": [
      "San Francisco 49ers Defense Rushing Yards/Game Mean: 110.26363636363637\n",
      "San Francisco 49ers Defense Rushing Yards/Game Median: 106.4\n",
      "San Francisco 49ers Defense Rushing Yards/Game Standard Deviation: 22.530169672120657\n",
      "San Francisco 49ers Defense Rushing Yards/Game Variance: 507.6085454545455\n",
      "San Francisco 49ers Defense Rushing Yards/Game Minimum: 77.7\n",
      "San Francisco 49ers Defense Rushing Yards/Game Maximum: 165.9\n",
      "San Francisco 49ers Defense Rushing Yards/Game Range: 88.2\n",
      "San Francisco 49ers Total Rushing Yards/Game 2012-2022: 1212.9\n"
     ]
    }
   ],
   "source": [
    "team_name28 = 'San Francisco 49ers'\n",
    "niners_data = nfl_Drushgm[nfl_Drushgm['Team'] == team_name28]\n",
    "mean_value = niners_data['Def RYds/G'].mean()\n",
    "median_value = niners_data['Def RYds/G'].median()\n",
    "std_value = niners_data['Def RYds/G'].std()\n",
    "var_value = niners_data['Def RYds/G'].var()\n",
    "min_value = niners_data['Def RYds/G'].min()\n",
    "max_value = niners_data['Def RYds/G'].max()\n",
    "data_range = max_value - min_value\n",
    "total_points = niners_data['Def RYds/G'].sum()\n",
    "print(\"San Francisco 49ers Defense Rushing Yards/Game Mean:\", mean_value)\n",
    "print(\"San Francisco 49ers Defense Rushing Yards/Game Median:\", median_value)\n",
    "print(\"San Francisco 49ers Defense Rushing Yards/Game Standard Deviation:\", std_value)\n",
    "print(\"San Francisco 49ers Defense Rushing Yards/Game Variance:\", var_value)\n",
    "print(\"San Francisco 49ers Defense Rushing Yards/Game Minimum:\", min_value)\n",
    "print(\"San Francisco 49ers Defense Rushing Yards/Game Maximum:\", max_value)\n",
    "print(\"San Francisco 49ers Defense Rushing Yards/Game Range:\", data_range)\n",
    "print(\"San Francisco 49ers Total Rushing Yards/Game 2012-2022:\", total_points)"
   ]
  },
  {
   "cell_type": "markdown",
   "id": "f2853461",
   "metadata": {},
   "source": [
    "### Tampa Bay Buccaneers"
   ]
  },
  {
   "cell_type": "code",
   "execution_count": 38,
   "id": "4d9f95d5",
   "metadata": {},
   "outputs": [
    {
     "name": "stdout",
     "output_type": "stream",
     "text": [
      "Tampa Bay Buccaneers Defense Rushing Yards/Game Mean: 102.9909090909091\n",
      "Tampa Bay Buccaneers Defense Rushing Yards/Game Median: 110.1\n",
      "Tampa Bay Buccaneers Defense Rushing Yards/Game Standard Deviation: 17.94031518928553\n",
      "Tampa Bay Buccaneers Defense Rushing Yards/Game Variance: 321.85490909090913\n",
      "Tampa Bay Buccaneers Defense Rushing Yards/Game Minimum: 73.8\n",
      "Tampa Bay Buccaneers Defense Rushing Yards/Game Maximum: 123.9\n",
      "Tampa Bay Buccaneers Defense Rushing Yards/Game Range: 50.10000000000001\n",
      "Tampa Bay Buccaneers Total Rushing Yards/Game 2012-2022: 1132.9\n"
     ]
    }
   ],
   "source": [
    "team_name29 = 'Tampa Bay Buccaneers'\n",
    "buccaneers_data = nfl_Drushgm[nfl_Drushgm['Team'] == team_name29]\n",
    "mean_value = buccaneers_data['Def RYds/G'].mean()\n",
    "median_value = buccaneers_data['Def RYds/G'].median()\n",
    "std_value = buccaneers_data['Def RYds/G'].std()\n",
    "var_value = buccaneers_data['Def RYds/G'].var()\n",
    "min_value = buccaneers_data['Def RYds/G'].min()\n",
    "max_value = buccaneers_data['Def RYds/G'].max()\n",
    "data_range = max_value - min_value\n",
    "total_points = buccaneers_data['Def RYds/G'].sum()\n",
    "print(\"Tampa Bay Buccaneers Defense Rushing Yards/Game Mean:\", mean_value)\n",
    "print(\"Tampa Bay Buccaneers Defense Rushing Yards/Game Median:\", median_value)\n",
    "print(\"Tampa Bay Buccaneers Defense Rushing Yards/Game Standard Deviation:\", std_value)\n",
    "print(\"Tampa Bay Buccaneers Defense Rushing Yards/Game Variance:\", var_value)\n",
    "print(\"Tampa Bay Buccaneers Defense Rushing Yards/Game Minimum:\", min_value)\n",
    "print(\"Tampa Bay Buccaneers Defense Rushing Yards/Game Maximum:\", max_value)\n",
    "print(\"Tampa Bay Buccaneers Defense Rushing Yards/Game Range:\", data_range)\n",
    "print(\"Tampa Bay Buccaneers Total Rushing Yards/Game 2012-2022:\", total_points)"
   ]
  },
  {
   "cell_type": "markdown",
   "id": "751f07e6",
   "metadata": {},
   "source": [
    "### Tennessee Titans"
   ]
  },
  {
   "cell_type": "code",
   "execution_count": 39,
   "id": "3f0ecffe",
   "metadata": {},
   "outputs": [
    {
     "name": "stdout",
     "output_type": "stream",
     "text": [
      "Tennessee Titans Defense Rushing Yards/Game Mean: 106.2909090909091\n",
      "Tennessee Titans Defense Rushing Yards/Game Median: 112.2\n",
      "Tennessee Titans Defense Rushing Yards/Game Standard Deviation: 19.34794327805695\n",
      "Tennessee Titans Defense Rushing Yards/Game Variance: 374.3429090909091\n",
      "Tennessee Titans Defense Rushing Yards/Game Minimum: 76.9\n",
      "Tennessee Titans Defense Rushing Yards/Game Maximum: 137.2\n",
      "Tennessee Titans Defense Rushing Yards/Game Range: 60.29999999999998\n",
      "Tennessee Titans Total Rushing Yards/Game 2012-2022: 1169.2\n"
     ]
    }
   ],
   "source": [
    "team_name30 = 'Tennessee Titans'\n",
    "titans_data = nfl_Drushgm[nfl_Drushgm['Team'] == team_name30]\n",
    "mean_value = titans_data['Def RYds/G'].mean()\n",
    "median_value = titans_data['Def RYds/G'].median()\n",
    "std_value = titans_data['Def RYds/G'].std()\n",
    "var_value = titans_data['Def RYds/G'].var()\n",
    "min_value = titans_data['Def RYds/G'].min()\n",
    "max_value = titans_data['Def RYds/G'].max()\n",
    "data_range = max_value - min_value\n",
    "total_points = titans_data['Def RYds/G'].sum()\n",
    "print(\"Tennessee Titans Defense Rushing Yards/Game Mean:\", mean_value)\n",
    "print(\"Tennessee Titans Defense Rushing Yards/Game Median:\", median_value)\n",
    "print(\"Tennessee Titans Defense Rushing Yards/Game Standard Deviation:\", std_value)\n",
    "print(\"Tennessee Titans Defense Rushing Yards/Game Variance:\", var_value)\n",
    "print(\"Tennessee Titans Defense Rushing Yards/Game Minimum:\", min_value)\n",
    "print(\"Tennessee Titans Defense Rushing Yards/Game Maximum:\", max_value)\n",
    "print(\"Tennessee Titans Defense Rushing Yards/Game Range:\", data_range)\n",
    "print(\"Tennessee Titans Total Rushing Yards/Game 2012-2022:\", total_points)"
   ]
  },
  {
   "cell_type": "markdown",
   "id": "f7e6759d",
   "metadata": {},
   "source": [
    "### Washington Commanders"
   ]
  },
  {
   "cell_type": "code",
   "execution_count": 40,
   "id": "13daf453",
   "metadata": {},
   "outputs": [
    {
     "name": "stdout",
     "output_type": "stream",
     "text": [
      "Washington Commanders Defense Rushing Yards/Game Mean: 116.67272727272729\n",
      "Washington Commanders Defense Rushing Yards/Game Median: 113.3\n",
      "Washington Commanders Defense Rushing Yards/Game Standard Deviation: 13.97340981357742\n",
      "Washington Commanders Defense Rushing Yards/Game Variance: 195.25618181818174\n",
      "Washington Commanders Defense Rushing Yards/Game Minimum: 95.8\n",
      "Washington Commanders Defense Rushing Yards/Game Maximum: 146.2\n",
      "Washington Commanders Defense Rushing Yards/Game Range: 50.39999999999999\n",
      "Washington Commanders Total Rushing Yards/Game 2012-2022: 1283.3999999999999\n"
     ]
    }
   ],
   "source": [
    "team_name31 = 'Washington Commanders'\n",
    "commanders_data = nfl_Drushgm[nfl_Drushgm['Team'] == team_name31]\n",
    "mean_value = commanders_data['Def RYds/G'].mean()\n",
    "median_value = commanders_data['Def RYds/G'].median()\n",
    "std_value = commanders_data['Def RYds/G'].std()\n",
    "var_value = commanders_data['Def RYds/G'].var()\n",
    "min_value = commanders_data['Def RYds/G'].min()\n",
    "max_value = commanders_data['Def RYds/G'].max()\n",
    "total_points = commanders_data['Def RYds/G'].sum()\n",
    "data_range = max_value - min_value\n",
    "print(\"Washington Commanders Defense Rushing Yards/Game Mean:\", mean_value)\n",
    "print(\"Washington Commanders Defense Rushing Yards/Game Median:\", median_value)\n",
    "print(\"Washington Commanders Defense Rushing Yards/Game Standard Deviation:\", std_value)\n",
    "print(\"Washington Commanders Defense Rushing Yards/Game Variance:\", var_value)\n",
    "print(\"Washington Commanders Defense Rushing Yards/Game Minimum:\", min_value)\n",
    "print(\"Washington Commanders Defense Rushing Yards/Game Maximum:\", max_value)\n",
    "print(\"Washington Commanders Defense Rushing Yards/Game Range:\", data_range)\n",
    "print(\"Washington Commanders Total Rushing Yards/Game 2012-2022:\", total_points)"
   ]
  },
  {
   "cell_type": "code",
   "execution_count": null,
   "id": "9792bd95",
   "metadata": {},
   "outputs": [],
   "source": []
  }
 ],
 "metadata": {
  "kernelspec": {
   "display_name": "Python 3 (ipykernel)",
   "language": "python",
   "name": "python3"
  },
  "language_info": {
   "codemirror_mode": {
    "name": "ipython",
    "version": 3
   },
   "file_extension": ".py",
   "mimetype": "text/x-python",
   "name": "python",
   "nbconvert_exporter": "python",
   "pygments_lexer": "ipython3",
   "version": "3.9.12"
  }
 },
 "nbformat": 4,
 "nbformat_minor": 5
}

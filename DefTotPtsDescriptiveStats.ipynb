{
 "cells": [
  {
   "cell_type": "markdown",
   "id": "561d1c0a",
   "metadata": {},
   "source": [
    "# Descriptive Statistics for Total Defense Points for each team\n",
    "####  Total Defense Points = the number of points the Defense side of each team allowed"
   ]
  },
  {
   "cell_type": "markdown",
   "id": "4f919c59",
   "metadata": {},
   "source": [
    "#### Import packages"
   ]
  },
  {
   "cell_type": "code",
   "execution_count": 2,
   "id": "cc036b02",
   "metadata": {},
   "outputs": [],
   "source": [
    "import pandas as pd\n",
    "import numpy as np\n",
    "from scipy.stats import norm\n",
    "from scipy import stats"
   ]
  },
  {
   "cell_type": "markdown",
   "id": "7eb568e0",
   "metadata": {},
   "source": [
    "#### Import NFL Dataset 2012-2022"
   ]
  },
  {
   "cell_type": "code",
   "execution_count": 3,
   "id": "8d65a41d",
   "metadata": {},
   "outputs": [],
   "source": [
    "nfldefpts = pd.read_csv('/Users/admin/Desktop/Final_Project/NFL_merged/nfl2012_2022merge.csv')"
   ]
  },
  {
   "cell_type": "code",
   "execution_count": 4,
   "id": "ed2c7256",
   "metadata": {},
   "outputs": [
    {
     "data": {
      "text/html": [
       "<div>\n",
       "<style scoped>\n",
       "    .dataframe tbody tr th:only-of-type {\n",
       "        vertical-align: middle;\n",
       "    }\n",
       "\n",
       "    .dataframe tbody tr th {\n",
       "        vertical-align: top;\n",
       "    }\n",
       "\n",
       "    .dataframe thead th {\n",
       "        text-align: right;\n",
       "    }\n",
       "</style>\n",
       "<table border=\"1\" class=\"dataframe\">\n",
       "  <thead>\n",
       "    <tr style=\"text-align: right;\">\n",
       "      <th></th>\n",
       "      <th>Team</th>\n",
       "      <th>Off Tot/Pts</th>\n",
       "      <th>Off Pts/G</th>\n",
       "      <th>Off RushYds</th>\n",
       "      <th>Off RYds/G</th>\n",
       "      <th>Off PassYds</th>\n",
       "      <th>Off PYds/G</th>\n",
       "      <th>Off TotYds</th>\n",
       "      <th>Off Yds/G</th>\n",
       "      <th>Def Tot/Pts</th>\n",
       "      <th>...</th>\n",
       "      <th>Def PassYds</th>\n",
       "      <th>Def PYds/G</th>\n",
       "      <th>Def TotYds</th>\n",
       "      <th>Def Yds/G</th>\n",
       "      <th>Year</th>\n",
       "      <th>Wins</th>\n",
       "      <th>Losses</th>\n",
       "      <th>Tie</th>\n",
       "      <th>Superbowl</th>\n",
       "      <th>SB Win</th>\n",
       "    </tr>\n",
       "  </thead>\n",
       "  <tbody>\n",
       "    <tr>\n",
       "      <th>0</th>\n",
       "      <td>Arizona Cardinals</td>\n",
       "      <td>250</td>\n",
       "      <td>15.6</td>\n",
       "      <td>1204</td>\n",
       "      <td>75.2</td>\n",
       "      <td>3005</td>\n",
       "      <td>187.8</td>\n",
       "      <td>4209</td>\n",
       "      <td>263.1</td>\n",
       "      <td>357</td>\n",
       "      <td>...</td>\n",
       "      <td>3213</td>\n",
       "      <td>200.8</td>\n",
       "      <td>5405</td>\n",
       "      <td>337.8</td>\n",
       "      <td>2012</td>\n",
       "      <td>5</td>\n",
       "      <td>11</td>\n",
       "      <td>0.0</td>\n",
       "      <td>No</td>\n",
       "      <td>No</td>\n",
       "    </tr>\n",
       "    <tr>\n",
       "      <th>1</th>\n",
       "      <td>Atlanta Falcons</td>\n",
       "      <td>419</td>\n",
       "      <td>26.2</td>\n",
       "      <td>1397</td>\n",
       "      <td>87.3</td>\n",
       "      <td>4509</td>\n",
       "      <td>281.8</td>\n",
       "      <td>5906</td>\n",
       "      <td>369.1</td>\n",
       "      <td>299</td>\n",
       "      <td>...</td>\n",
       "      <td>3878</td>\n",
       "      <td>242.4</td>\n",
       "      <td>5849</td>\n",
       "      <td>365.6</td>\n",
       "      <td>2012</td>\n",
       "      <td>13</td>\n",
       "      <td>3</td>\n",
       "      <td>0.0</td>\n",
       "      <td>No</td>\n",
       "      <td>No</td>\n",
       "    </tr>\n",
       "    <tr>\n",
       "      <th>2</th>\n",
       "      <td>Baltimore Ravens</td>\n",
       "      <td>398</td>\n",
       "      <td>24.9</td>\n",
       "      <td>1901</td>\n",
       "      <td>118.8</td>\n",
       "      <td>3739</td>\n",
       "      <td>233.7</td>\n",
       "      <td>5640</td>\n",
       "      <td>352.5</td>\n",
       "      <td>344</td>\n",
       "      <td>...</td>\n",
       "      <td>3650</td>\n",
       "      <td>228.1</td>\n",
       "      <td>5615</td>\n",
       "      <td>350.9</td>\n",
       "      <td>2012</td>\n",
       "      <td>10</td>\n",
       "      <td>6</td>\n",
       "      <td>0.0</td>\n",
       "      <td>Yes</td>\n",
       "      <td>Yes</td>\n",
       "    </tr>\n",
       "    <tr>\n",
       "      <th>3</th>\n",
       "      <td>Buffalo Bills</td>\n",
       "      <td>344</td>\n",
       "      <td>21.5</td>\n",
       "      <td>2217</td>\n",
       "      <td>138.6</td>\n",
       "      <td>3269</td>\n",
       "      <td>204.3</td>\n",
       "      <td>5486</td>\n",
       "      <td>342.9</td>\n",
       "      <td>435</td>\n",
       "      <td>...</td>\n",
       "      <td>3473</td>\n",
       "      <td>217.1</td>\n",
       "      <td>5806</td>\n",
       "      <td>362.9</td>\n",
       "      <td>2012</td>\n",
       "      <td>6</td>\n",
       "      <td>10</td>\n",
       "      <td>0.0</td>\n",
       "      <td>No</td>\n",
       "      <td>No</td>\n",
       "    </tr>\n",
       "    <tr>\n",
       "      <th>4</th>\n",
       "      <td>Carolina Panthers</td>\n",
       "      <td>357</td>\n",
       "      <td>22.3</td>\n",
       "      <td>2088</td>\n",
       "      <td>130.5</td>\n",
       "      <td>3683</td>\n",
       "      <td>230.2</td>\n",
       "      <td>5771</td>\n",
       "      <td>360.7</td>\n",
       "      <td>363</td>\n",
       "      <td>...</td>\n",
       "      <td>3568</td>\n",
       "      <td>223.0</td>\n",
       "      <td>5329</td>\n",
       "      <td>333.1</td>\n",
       "      <td>2012</td>\n",
       "      <td>7</td>\n",
       "      <td>9</td>\n",
       "      <td>0.0</td>\n",
       "      <td>No</td>\n",
       "      <td>No</td>\n",
       "    </tr>\n",
       "  </tbody>\n",
       "</table>\n",
       "<p>5 rows × 23 columns</p>\n",
       "</div>"
      ],
      "text/plain": [
       "                Team  Off Tot/Pts  Off Pts/G  Off RushYds  Off RYds/G  \\\n",
       "0  Arizona Cardinals          250       15.6         1204        75.2   \n",
       "1    Atlanta Falcons          419       26.2         1397        87.3   \n",
       "2   Baltimore Ravens          398       24.9         1901       118.8   \n",
       "3      Buffalo Bills          344       21.5         2217       138.6   \n",
       "4  Carolina Panthers          357       22.3         2088       130.5   \n",
       "\n",
       "   Off PassYds  Off PYds/G  Off TotYds  Off Yds/G  Def Tot/Pts  ...  \\\n",
       "0         3005       187.8        4209      263.1          357  ...   \n",
       "1         4509       281.8        5906      369.1          299  ...   \n",
       "2         3739       233.7        5640      352.5          344  ...   \n",
       "3         3269       204.3        5486      342.9          435  ...   \n",
       "4         3683       230.2        5771      360.7          363  ...   \n",
       "\n",
       "   Def PassYds  Def PYds/G  Def TotYds  Def Yds/G  Year  Wins  Losses  Tie  \\\n",
       "0         3213       200.8        5405      337.8  2012     5      11  0.0   \n",
       "1         3878       242.4        5849      365.6  2012    13       3  0.0   \n",
       "2         3650       228.1        5615      350.9  2012    10       6  0.0   \n",
       "3         3473       217.1        5806      362.9  2012     6      10  0.0   \n",
       "4         3568       223.0        5329      333.1  2012     7       9  0.0   \n",
       "\n",
       "   Superbowl  SB Win  \n",
       "0         No      No  \n",
       "1         No      No  \n",
       "2        Yes     Yes  \n",
       "3         No      No  \n",
       "4         No      No  \n",
       "\n",
       "[5 rows x 23 columns]"
      ]
     },
     "execution_count": 4,
     "metadata": {},
     "output_type": "execute_result"
    }
   ],
   "source": [
    "nfldefpts.head()"
   ]
  },
  {
   "cell_type": "markdown",
   "id": "1976112b",
   "metadata": {},
   "source": [
    "## Calculating Descriptive Statistics by Team\n",
    "#### First filter the data by a team"
   ]
  },
  {
   "cell_type": "code",
   "execution_count": 5,
   "id": "583d0b5e",
   "metadata": {},
   "outputs": [],
   "source": [
    "team_name = 'Seattle Seahawks'\n",
    "seahawks_data = nfldefpts[nfldefpts['Team'] == team_name]"
   ]
  },
  {
   "cell_type": "markdown",
   "id": "2c1d8274",
   "metadata": {},
   "source": [
    "#### Display each total Defense points allowed by year for the Seahawks"
   ]
  },
  {
   "cell_type": "code",
   "execution_count": 6,
   "id": "b7db9611",
   "metadata": {},
   "outputs": [
    {
     "name": "stdout",
     "output_type": "stream",
     "text": [
      "Year: 2012 \tDefense Points: 245\n",
      "Year: 2013 \tDefense Points: 231\n",
      "Year: 2014 \tDefense Points: 254\n",
      "Year: 2015 \tDefense Points: 277\n",
      "Year: 2016 \tDefense Points: 292\n",
      "Year: 2017 \tDefense Points: 332\n",
      "Year: 2018 \tDefense Points: 347\n",
      "Year: 2019 \tDefense Points: 398\n",
      "Year: 2020 \tDefense Points: 371\n",
      "Year: 2021 \tDefense Points: 366\n",
      "Year: 2022 \tDefense Points: 401\n"
     ]
    }
   ],
   "source": [
    "for year in seahawks_data['Year'].unique():\n",
    "    Defense_points = seahawks_data.loc[seahawks_data['Year'] == year, 'Def Tot/Pts'].values[0]\n",
    "    print(\"Year:\", year, \"\\tDefense Points:\", Defense_points)"
   ]
  },
  {
   "cell_type": "markdown",
   "id": "9707bb4d",
   "metadata": {},
   "source": [
    "#### What is the mean total Defense points allowed for all years for the Seahawks?"
   ]
  },
  {
   "cell_type": "code",
   "execution_count": 7,
   "id": "c417e9e4",
   "metadata": {},
   "outputs": [],
   "source": [
    "total_Defense_points = seahawks_data['Def Tot/Pts'].mean()"
   ]
  },
  {
   "cell_type": "code",
   "execution_count": 8,
   "id": "de8a1678",
   "metadata": {},
   "outputs": [
    {
     "name": "stdout",
     "output_type": "stream",
     "text": [
      "319.45454545454544\n"
     ]
    }
   ],
   "source": [
    "print(total_Defense_points)"
   ]
  },
  {
   "cell_type": "markdown",
   "id": "b6db1517",
   "metadata": {},
   "source": [
    "#### Let's calculate several descriptive statistics on Defense Total Pts for the Seahawks. These statistics are the points allowed and their mean, median, standard deviation, variance, min, max, range, and sum. "
   ]
  },
  {
   "cell_type": "code",
   "execution_count": 9,
   "id": "33c988ac",
   "metadata": {},
   "outputs": [
    {
     "name": "stdout",
     "output_type": "stream",
     "text": [
      "Seattle Seahawks Defense Points Mean: 319.45454545454544\n",
      "Seattle Seahawks Defense Points Median: 332.0\n",
      "Seattle Seahawks Defense Points Standard Deviation: 62.26293220908189\n",
      "Seattle Seahawks Defense Points Variance: 3876.672727272727\n",
      "Seattle Seahawks Defense Points Minimum: 231\n",
      "Seattle Seahawks Defense Points Maximum: 401\n",
      "Seattle Seahawks Defense Points Range: 170\n",
      "Seattle Seahawks Total Points: 3514\n"
     ]
    }
   ],
   "source": [
    "mean_value = seahawks_data['Def Tot/Pts'].mean()\n",
    "median_value = seahawks_data['Def Tot/Pts'].median()\n",
    "std_value = seahawks_data['Def Tot/Pts'].std()\n",
    "var_value = seahawks_data['Def Tot/Pts'].var()\n",
    "min_value = seahawks_data['Def Tot/Pts'].min()\n",
    "max_value = seahawks_data['Def Tot/Pts'].max()\n",
    "data_range = max_value - min_value\n",
    "total_points = seahawks_data['Def Tot/Pts'].sum()\n",
    "print(\"Seattle Seahawks Defense Points Mean:\", mean_value)\n",
    "print(\"Seattle Seahawks Defense Points Median:\", median_value)\n",
    "print(\"Seattle Seahawks Defense Points Standard Deviation:\", std_value)\n",
    "print(\"Seattle Seahawks Defense Points Variance:\", var_value)\n",
    "print(\"Seattle Seahawks Defense Points Minimum:\", min_value)\n",
    "print(\"Seattle Seahawks Defense Points Maximum:\", max_value)\n",
    "print(\"Seattle Seahawks Defense Points Range:\", data_range)\n",
    "print(\"Seattle Seahawks Total Points:\", total_points)"
   ]
  },
  {
   "cell_type": "markdown",
   "id": "22f3bb1d",
   "metadata": {},
   "source": [
    "#### Calculating all Teams at once total Defense points allowed per year"
   ]
  },
  {
   "cell_type": "code",
   "execution_count": 10,
   "id": "2347e59f",
   "metadata": {},
   "outputs": [
    {
     "name": "stdout",
     "output_type": "stream",
     "text": [
      "Team: Arizona Cardinals \tYear: 2012 \tTotal Defense Points: 357\n",
      "Team: Arizona Cardinals \tYear: 2013 \tTotal Defense Points: 324\n",
      "Team: Arizona Cardinals \tYear: 2014 \tTotal Defense Points: 299\n",
      "Team: Arizona Cardinals \tYear: 2015 \tTotal Defense Points: 313\n",
      "Team: Arizona Cardinals \tYear: 2016 \tTotal Defense Points: 362\n",
      "Team: Arizona Cardinals \tYear: 2017 \tTotal Defense Points: 361\n",
      "Team: Arizona Cardinals \tYear: 2018 \tTotal Defense Points: 425\n",
      "Team: Arizona Cardinals \tYear: 2019 \tTotal Defense Points: 442\n",
      "Team: Arizona Cardinals \tYear: 2020 \tTotal Defense Points: 367\n",
      "Team: Arizona Cardinals \tYear: 2021 \tTotal Defense Points: 366\n",
      "Team: Arizona Cardinals \tYear: 2022 \tTotal Defense Points: 449\n",
      "Team: Atlanta Falcons \tYear: 2012 \tTotal Defense Points: 299\n",
      "Team: Atlanta Falcons \tYear: 2013 \tTotal Defense Points: 443\n",
      "Team: Atlanta Falcons \tYear: 2014 \tTotal Defense Points: 417\n",
      "Team: Atlanta Falcons \tYear: 2015 \tTotal Defense Points: 345\n",
      "Team: Atlanta Falcons \tYear: 2016 \tTotal Defense Points: 406\n",
      "Team: Atlanta Falcons \tYear: 2017 \tTotal Defense Points: 315\n",
      "Team: Atlanta Falcons \tYear: 2018 \tTotal Defense Points: 423\n",
      "Team: Atlanta Falcons \tYear: 2019 \tTotal Defense Points: 399\n",
      "Team: Atlanta Falcons \tYear: 2020 \tTotal Defense Points: 414\n",
      "Team: Atlanta Falcons \tYear: 2021 \tTotal Defense Points: 459\n",
      "Team: Atlanta Falcons \tYear: 2022 \tTotal Defense Points: 386\n",
      "Team: Baltimore Ravens \tYear: 2012 \tTotal Defense Points: 344\n",
      "Team: Baltimore Ravens \tYear: 2013 \tTotal Defense Points: 352\n",
      "Team: Baltimore Ravens \tYear: 2014 \tTotal Defense Points: 302\n",
      "Team: Baltimore Ravens \tYear: 2015 \tTotal Defense Points: 401\n",
      "Team: Baltimore Ravens \tYear: 2016 \tTotal Defense Points: 321\n",
      "Team: Baltimore Ravens \tYear: 2017 \tTotal Defense Points: 303\n",
      "Team: Baltimore Ravens \tYear: 2018 \tTotal Defense Points: 287\n",
      "Team: Baltimore Ravens \tYear: 2019 \tTotal Defense Points: 282\n",
      "Team: Baltimore Ravens \tYear: 2020 \tTotal Defense Points: 303\n",
      "Team: Baltimore Ravens \tYear: 2021 \tTotal Defense Points: 392\n",
      "Team: Baltimore Ravens \tYear: 2022 \tTotal Defense Points: 315\n",
      "Team: Buffalo Bills \tYear: 2012 \tTotal Defense Points: 435\n",
      "Team: Buffalo Bills \tYear: 2013 \tTotal Defense Points: 388\n",
      "Team: Buffalo Bills \tYear: 2014 \tTotal Defense Points: 289\n",
      "Team: Buffalo Bills \tYear: 2015 \tTotal Defense Points: 359\n",
      "Team: Buffalo Bills \tYear: 2016 \tTotal Defense Points: 378\n",
      "Team: Buffalo Bills \tYear: 2017 \tTotal Defense Points: 359\n",
      "Team: Buffalo Bills \tYear: 2018 \tTotal Defense Points: 374\n",
      "Team: Buffalo Bills \tYear: 2019 \tTotal Defense Points: 259\n",
      "Team: Buffalo Bills \tYear: 2020 \tTotal Defense Points: 375\n",
      "Team: Buffalo Bills \tYear: 2021 \tTotal Defense Points: 289\n",
      "Team: Buffalo Bills \tYear: 2022 \tTotal Defense Points: 286\n",
      "Team: Carolina Panthers \tYear: 2012 \tTotal Defense Points: 363\n",
      "Team: Carolina Panthers \tYear: 2013 \tTotal Defense Points: 241\n",
      "Team: Carolina Panthers \tYear: 2014 \tTotal Defense Points: 374\n",
      "Team: Carolina Panthers \tYear: 2015 \tTotal Defense Points: 308\n",
      "Team: Carolina Panthers \tYear: 2016 \tTotal Defense Points: 402\n",
      "Team: Carolina Panthers \tYear: 2017 \tTotal Defense Points: 327\n",
      "Team: Carolina Panthers \tYear: 2018 \tTotal Defense Points: 382\n",
      "Team: Carolina Panthers \tYear: 2019 \tTotal Defense Points: 470\n",
      "Team: Carolina Panthers \tYear: 2020 \tTotal Defense Points: 402\n",
      "Team: Carolina Panthers \tYear: 2021 \tTotal Defense Points: 404\n",
      "Team: Carolina Panthers \tYear: 2022 \tTotal Defense Points: 374\n",
      "Team: Chicago Bears \tYear: 2012 \tTotal Defense Points: 277\n",
      "Team: Chicago Bears \tYear: 2013 \tTotal Defense Points: 478\n",
      "Team: Chicago Bears \tYear: 2014 \tTotal Defense Points: 442\n",
      "Team: Chicago Bears \tYear: 2015 \tTotal Defense Points: 397\n",
      "Team: Chicago Bears \tYear: 2016 \tTotal Defense Points: 399\n",
      "Team: Chicago Bears \tYear: 2017 \tTotal Defense Points: 320\n",
      "Team: Chicago Bears \tYear: 2018 \tTotal Defense Points: 283\n",
      "Team: Chicago Bears \tYear: 2019 \tTotal Defense Points: 298\n",
      "Team: Chicago Bears \tYear: 2020 \tTotal Defense Points: 370\n",
      "Team: Chicago Bears \tYear: 2021 \tTotal Defense Points: 407\n",
      "Team: Chicago Bears \tYear: 2022 \tTotal Defense Points: 463\n",
      "Team: Cincinnati Bengals \tYear: 2012 \tTotal Defense Points: 320\n",
      "Team: Cincinnati Bengals \tYear: 2013 \tTotal Defense Points: 305\n",
      "Team: Cincinnati Bengals \tYear: 2014 \tTotal Defense Points: 344\n",
      "Team: Cincinnati Bengals \tYear: 2015 \tTotal Defense Points: 279\n",
      "Team: Cincinnati Bengals \tYear: 2016 \tTotal Defense Points: 315\n",
      "Team: Cincinnati Bengals \tYear: 2017 \tTotal Defense Points: 349\n",
      "Team: Cincinnati Bengals \tYear: 2018 \tTotal Defense Points: 455\n",
      "Team: Cincinnati Bengals \tYear: 2019 \tTotal Defense Points: 420\n",
      "Team: Cincinnati Bengals \tYear: 2020 \tTotal Defense Points: 424\n",
      "Team: Cincinnati Bengals \tYear: 2021 \tTotal Defense Points: 376\n",
      "Team: Cincinnati Bengals \tYear: 2022 \tTotal Defense Points: 322\n",
      "Team: Cleveland Browns \tYear: 2012 \tTotal Defense Points: 368\n",
      "Team: Cleveland Browns \tYear: 2013 \tTotal Defense Points: 406\n",
      "Team: Cleveland Browns \tYear: 2014 \tTotal Defense Points: 337\n",
      "Team: Cleveland Browns \tYear: 2015 \tTotal Defense Points: 432\n",
      "Team: Cleveland Browns \tYear: 2016 \tTotal Defense Points: 452\n",
      "Team: Cleveland Browns \tYear: 2017 \tTotal Defense Points: 410\n",
      "Team: Cleveland Browns \tYear: 2018 \tTotal Defense Points: 392\n",
      "Team: Cleveland Browns \tYear: 2019 \tTotal Defense Points: 393\n",
      "Team: Cleveland Browns \tYear: 2020 \tTotal Defense Points: 419\n",
      "Team: Cleveland Browns \tYear: 2021 \tTotal Defense Points: 371\n",
      "Team: Cleveland Browns \tYear: 2022 \tTotal Defense Points: 381\n",
      "Team: Dallas Cowboys \tYear: 2012 \tTotal Defense Points: 400\n",
      "Team: Dallas Cowboys \tYear: 2013 \tTotal Defense Points: 432\n",
      "Team: Dallas Cowboys \tYear: 2014 \tTotal Defense Points: 352\n",
      "Team: Dallas Cowboys \tYear: 2015 \tTotal Defense Points: 374\n",
      "Team: Dallas Cowboys \tYear: 2016 \tTotal Defense Points: 306\n",
      "Team: Dallas Cowboys \tYear: 2017 \tTotal Defense Points: 332\n",
      "Team: Dallas Cowboys \tYear: 2018 \tTotal Defense Points: 324\n",
      "Team: Dallas Cowboys \tYear: 2019 \tTotal Defense Points: 321\n",
      "Team: Dallas Cowboys \tYear: 2020 \tTotal Defense Points: 473\n",
      "Team: Dallas Cowboys \tYear: 2021 \tTotal Defense Points: 358\n",
      "Team: Dallas Cowboys \tYear: 2022 \tTotal Defense Points: 342\n",
      "Team: Denver Broncos \tYear: 2012 \tTotal Defense Points: 289\n",
      "Team: Denver Broncos \tYear: 2013 \tTotal Defense Points: 399\n",
      "Team: Denver Broncos \tYear: 2014 \tTotal Defense Points: 354\n",
      "Team: Denver Broncos \tYear: 2015 \tTotal Defense Points: 296\n",
      "Team: Denver Broncos \tYear: 2016 \tTotal Defense Points: 297\n",
      "Team: Denver Broncos \tYear: 2017 \tTotal Defense Points: 382\n",
      "Team: Denver Broncos \tYear: 2018 \tTotal Defense Points: 349\n",
      "Team: Denver Broncos \tYear: 2019 \tTotal Defense Points: 316\n",
      "Team: Denver Broncos \tYear: 2020 \tTotal Defense Points: 446\n",
      "Team: Denver Broncos \tYear: 2021 \tTotal Defense Points: 322\n",
      "Team: Denver Broncos \tYear: 2022 \tTotal Defense Points: 359\n",
      "Team: Detroit Lions \tYear: 2012 \tTotal Defense Points: 437\n",
      "Team: Detroit Lions \tYear: 2013 \tTotal Defense Points: 376\n",
      "Team: Detroit Lions \tYear: 2014 \tTotal Defense Points: 282\n",
      "Team: Detroit Lions \tYear: 2015 \tTotal Defense Points: 400\n",
      "Team: Detroit Lions \tYear: 2016 \tTotal Defense Points: 358\n",
      "Team: Detroit Lions \tYear: 2017 \tTotal Defense Points: 376\n",
      "Team: Detroit Lions \tYear: 2018 \tTotal Defense Points: 360\n",
      "Team: Detroit Lions \tYear: 2019 \tTotal Defense Points: 423\n",
      "Team: Detroit Lions \tYear: 2020 \tTotal Defense Points: 519\n",
      "Team: Detroit Lions \tYear: 2021 \tTotal Defense Points: 467\n",
      "Team: Detroit Lions \tYear: 2022 \tTotal Defense Points: 427\n",
      "Team: Green Bay Packers \tYear: 2012 \tTotal Defense Points: 336\n",
      "Team: Green Bay Packers \tYear: 2013 \tTotal Defense Points: 428\n",
      "Team: Green Bay Packers \tYear: 2014 \tTotal Defense Points: 348\n",
      "Team: Green Bay Packers \tYear: 2015 \tTotal Defense Points: 323\n",
      "Team: Green Bay Packers \tYear: 2016 \tTotal Defense Points: 388\n",
      "Team: Green Bay Packers \tYear: 2017 \tTotal Defense Points: 384\n",
      "Team: Green Bay Packers \tYear: 2018 \tTotal Defense Points: 400\n",
      "Team: Green Bay Packers \tYear: 2019 \tTotal Defense Points: 313\n",
      "Team: Green Bay Packers \tYear: 2020 \tTotal Defense Points: 369\n",
      "Team: Green Bay Packers \tYear: 2021 \tTotal Defense Points: 371\n",
      "Team: Green Bay Packers \tYear: 2022 \tTotal Defense Points: 371\n",
      "Team: Houston Texans \tYear: 2012 \tTotal Defense Points: 331\n",
      "Team: Houston Texans \tYear: 2013 \tTotal Defense Points: 428\n",
      "Team: Houston Texans \tYear: 2014 \tTotal Defense Points: 307\n",
      "Team: Houston Texans \tYear: 2015 \tTotal Defense Points: 313\n",
      "Team: Houston Texans \tYear: 2016 \tTotal Defense Points: 328\n",
      "Team: Houston Texans \tYear: 2017 \tTotal Defense Points: 436\n",
      "Team: Houston Texans \tYear: 2018 \tTotal Defense Points: 316\n",
      "Team: Houston Texans \tYear: 2019 \tTotal Defense Points: 385\n",
      "Team: Houston Texans \tYear: 2020 \tTotal Defense Points: 464\n",
      "Team: Houston Texans \tYear: 2021 \tTotal Defense Points: 452\n",
      "Team: Houston Texans \tYear: 2022 \tTotal Defense Points: 420\n",
      "Team: Indianapolis Colts \tYear: 2012 \tTotal Defense Points: 387\n",
      "Team: Indianapolis Colts \tYear: 2013 \tTotal Defense Points: 336\n",
      "Team: Indianapolis Colts \tYear: 2014 \tTotal Defense Points: 369\n",
      "Team: Indianapolis Colts \tYear: 2015 \tTotal Defense Points: 408\n",
      "Team: Indianapolis Colts \tYear: 2016 \tTotal Defense Points: 392\n",
      "Team: Indianapolis Colts \tYear: 2017 \tTotal Defense Points: 404\n",
      "Team: Indianapolis Colts \tYear: 2018 \tTotal Defense Points: 344\n",
      "Team: Indianapolis Colts \tYear: 2019 \tTotal Defense Points: 373\n",
      "Team: Indianapolis Colts \tYear: 2020 \tTotal Defense Points: 362\n",
      "Team: Indianapolis Colts \tYear: 2021 \tTotal Defense Points: 365\n",
      "Team: Indianapolis Colts \tYear: 2022 \tTotal Defense Points: 427\n",
      "Team: Jacksonville Jaguars \tYear: 2012 \tTotal Defense Points: 444\n",
      "Team: Jacksonville Jaguars \tYear: 2013 \tTotal Defense Points: 449\n",
      "Team: Jacksonville Jaguars \tYear: 2014 \tTotal Defense Points: 412\n",
      "Team: Jacksonville Jaguars \tYear: 2015 \tTotal Defense Points: 448\n",
      "Team: Jacksonville Jaguars \tYear: 2016 \tTotal Defense Points: 400\n",
      "Team: Jacksonville Jaguars \tYear: 2017 \tTotal Defense Points: 268\n",
      "Team: Jacksonville Jaguars \tYear: 2018 \tTotal Defense Points: 316\n",
      "Team: Jacksonville Jaguars \tYear: 2019 \tTotal Defense Points: 397\n",
      "Team: Jacksonville Jaguars \tYear: 2020 \tTotal Defense Points: 492\n",
      "Team: Jacksonville Jaguars \tYear: 2021 \tTotal Defense Points: 457\n",
      "Team: Jacksonville Jaguars \tYear: 2022 \tTotal Defense Points: 350\n",
      "Team: Kansas City Chiefs \tYear: 2012 \tTotal Defense Points: 425\n",
      "Team: Kansas City Chiefs \tYear: 2013 \tTotal Defense Points: 305\n",
      "Team: Kansas City Chiefs \tYear: 2014 \tTotal Defense Points: 281\n",
      "Team: Kansas City Chiefs \tYear: 2015 \tTotal Defense Points: 287\n",
      "Team: Kansas City Chiefs \tYear: 2016 \tTotal Defense Points: 311\n",
      "Team: Kansas City Chiefs \tYear: 2017 \tTotal Defense Points: 339\n",
      "Team: Kansas City Chiefs \tYear: 2018 \tTotal Defense Points: 421\n",
      "Team: Kansas City Chiefs \tYear: 2019 \tTotal Defense Points: 308\n",
      "Team: Kansas City Chiefs \tYear: 2020 \tTotal Defense Points: 362\n",
      "Team: Kansas City Chiefs \tYear: 2021 \tTotal Defense Points: 364\n",
      "Team: Kansas City Chiefs \tYear: 2022 \tTotal Defense Points: 369\n",
      "Team: Las Vegas Raiders \tYear: 2012 \tTotal Defense Points: 443\n",
      "Team: Las Vegas Raiders \tYear: 2013 \tTotal Defense Points: 453\n",
      "Team: Las Vegas Raiders \tYear: 2014 \tTotal Defense Points: 452\n",
      "Team: Las Vegas Raiders \tYear: 2015 \tTotal Defense Points: 399\n",
      "Team: Las Vegas Raiders \tYear: 2016 \tTotal Defense Points: 385\n",
      "Team: Las Vegas Raiders \tYear: 2017 \tTotal Defense Points: 373\n",
      "Team: Las Vegas Raiders \tYear: 2018 \tTotal Defense Points: 467\n",
      "Team: Las Vegas Raiders \tYear: 2019 \tTotal Defense Points: 419\n",
      "Team: Las Vegas Raiders \tYear: 2020 \tTotal Defense Points: 478\n",
      "Team: Las Vegas Raiders \tYear: 2021 \tTotal Defense Points: 439\n",
      "Team: Las Vegas Raiders \tYear: 2022 \tTotal Defense Points: 418\n",
      "Team: Los Angeles Chargers \tYear: 2012 \tTotal Defense Points: 350\n",
      "Team: Los Angeles Chargers \tYear: 2013 \tTotal Defense Points: 348\n",
      "Team: Los Angeles Chargers \tYear: 2014 \tTotal Defense Points: 348\n",
      "Team: Los Angeles Chargers \tYear: 2015 \tTotal Defense Points: 398\n",
      "Team: Los Angeles Chargers \tYear: 2016 \tTotal Defense Points: 423\n",
      "Team: Los Angeles Chargers \tYear: 2017 \tTotal Defense Points: 272\n",
      "Team: Los Angeles Chargers \tYear: 2018 \tTotal Defense Points: 329\n",
      "Team: Los Angeles Chargers \tYear: 2019 \tTotal Defense Points: 345\n",
      "Team: Los Angeles Chargers \tYear: 2020 \tTotal Defense Points: 426\n",
      "Team: Los Angeles Chargers \tYear: 2021 \tTotal Defense Points: 459\n",
      "Team: Los Angeles Chargers \tYear: 2022 \tTotal Defense Points: 384\n",
      "Team: Los Angeles Rams \tYear: 2012 \tTotal Defense Points: 348\n",
      "Team: Los Angeles Rams \tYear: 2013 \tTotal Defense Points: 364\n",
      "Team: Los Angeles Rams \tYear: 2014 \tTotal Defense Points: 354\n",
      "Team: Los Angeles Rams \tYear: 2015 \tTotal Defense Points: 330\n",
      "Team: Los Angeles Rams \tYear: 2016 \tTotal Defense Points: 394\n",
      "Team: Los Angeles Rams \tYear: 2017 \tTotal Defense Points: 329\n",
      "Team: Los Angeles Rams \tYear: 2018 \tTotal Defense Points: 384\n",
      "Team: Los Angeles Rams \tYear: 2019 \tTotal Defense Points: 364\n",
      "Team: Los Angeles Rams \tYear: 2020 \tTotal Defense Points: 296\n",
      "Team: Los Angeles Rams \tYear: 2021 \tTotal Defense Points: 372\n",
      "Team: Los Angeles Rams \tYear: 2022 \tTotal Defense Points: 384\n",
      "Team: Miami Dolphins \tYear: 2012 \tTotal Defense Points: 317\n",
      "Team: Miami Dolphins \tYear: 2013 \tTotal Defense Points: 335\n",
      "Team: Miami Dolphins \tYear: 2014 \tTotal Defense Points: 373\n",
      "Team: Miami Dolphins \tYear: 2015 \tTotal Defense Points: 389\n",
      "Team: Miami Dolphins \tYear: 2016 \tTotal Defense Points: 380\n",
      "Team: Miami Dolphins \tYear: 2017 \tTotal Defense Points: 393\n",
      "Team: Miami Dolphins \tYear: 2018 \tTotal Defense Points: 433\n",
      "Team: Miami Dolphins \tYear: 2019 \tTotal Defense Points: 494\n",
      "Team: Miami Dolphins \tYear: 2020 \tTotal Defense Points: 338\n",
      "Team: Miami Dolphins \tYear: 2021 \tTotal Defense Points: 373\n",
      "Team: Miami Dolphins \tYear: 2022 \tTotal Defense Points: 399\n",
      "Team: Minnesota Vikings \tYear: 2012 \tTotal Defense Points: 348\n",
      "Team: Minnesota Vikings \tYear: 2013 \tTotal Defense Points: 480\n",
      "Team: Minnesota Vikings \tYear: 2014 \tTotal Defense Points: 343\n",
      "Team: Minnesota Vikings \tYear: 2015 \tTotal Defense Points: 302\n",
      "Team: Minnesota Vikings \tYear: 2016 \tTotal Defense Points: 307\n",
      "Team: Minnesota Vikings \tYear: 2017 \tTotal Defense Points: 252\n",
      "Team: Minnesota Vikings \tYear: 2018 \tTotal Defense Points: 341\n",
      "Team: Minnesota Vikings \tYear: 2019 \tTotal Defense Points: 303\n",
      "Team: Minnesota Vikings \tYear: 2020 \tTotal Defense Points: 475\n",
      "Team: Minnesota Vikings \tYear: 2021 \tTotal Defense Points: 426\n",
      "Team: Minnesota Vikings \tYear: 2022 \tTotal Defense Points: 427\n",
      "Team: New England Patriots \tYear: 2012 \tTotal Defense Points: 331\n",
      "Team: New England Patriots \tYear: 2013 \tTotal Defense Points: 338\n",
      "Team: New England Patriots \tYear: 2014 \tTotal Defense Points: 313\n",
      "Team: New England Patriots \tYear: 2015 \tTotal Defense Points: 315\n",
      "Team: New England Patriots \tYear: 2016 \tTotal Defense Points: 250\n",
      "Team: New England Patriots \tYear: 2017 \tTotal Defense Points: 296\n",
      "Team: New England Patriots \tYear: 2018 \tTotal Defense Points: 325\n",
      "Team: New England Patriots \tYear: 2019 \tTotal Defense Points: 225\n",
      "Team: New England Patriots \tYear: 2020 \tTotal Defense Points: 353\n",
      "Team: New England Patriots \tYear: 2021 \tTotal Defense Points: 303\n",
      "Team: New England Patriots \tYear: 2022 \tTotal Defense Points: 347\n",
      "Team: New Orleans Saints \tYear: 2012 \tTotal Defense Points: 454\n",
      "Team: New Orleans Saints \tYear: 2013 \tTotal Defense Points: 304\n",
      "Team: New Orleans Saints \tYear: 2014 \tTotal Defense Points: 424\n",
      "Team: New Orleans Saints \tYear: 2015 \tTotal Defense Points: 476\n",
      "Team: New Orleans Saints \tYear: 2016 \tTotal Defense Points: 454\n",
      "Team: New Orleans Saints \tYear: 2017 \tTotal Defense Points: 326\n",
      "Team: New Orleans Saints \tYear: 2019 \tTotal Defense Points: 341\n",
      "Team: New Orleans Saints \tYear: 2020 \tTotal Defense Points: 337\n",
      "Team: New Orleans Saints \tYear: 2021 \tTotal Defense Points: 335\n",
      "Team: New Orleans Saints \tYear: 2022 \tTotal Defense Points: 345\n",
      "Team: New York Giants \tYear: 2012 \tTotal Defense Points: 344\n",
      "Team: New York Giants \tYear: 2013 \tTotal Defense Points: 383\n",
      "Team: New York Giants \tYear: 2014 \tTotal Defense Points: 400\n",
      "Team: New York Giants \tYear: 2015 \tTotal Defense Points: 442\n",
      "Team: New York Giants \tYear: 2016 \tTotal Defense Points: 284\n",
      "Team: New York Giants \tYear: 2017 \tTotal Defense Points: 388\n",
      "Team: New York Giants \tYear: 2018 \tTotal Defense Points: 412\n",
      "Team: New York Giants \tYear: 2019 \tTotal Defense Points: 451\n",
      "Team: New York Giants \tYear: 2020 \tTotal Defense Points: 357\n",
      "Team: New York Giants \tYear: 2021 \tTotal Defense Points: 416\n",
      "Team: New York Giants \tYear: 2022 \tTotal Defense Points: 371\n",
      "Team: New York Jets \tYear: 2012 \tTotal Defense Points: 375\n",
      "Team: New York Jets \tYear: 2013 \tTotal Defense Points: 387\n",
      "Team: New York Jets \tYear: 2014 \tTotal Defense Points: 401\n",
      "Team: New York Jets \tYear: 2015 \tTotal Defense Points: 314\n",
      "Team: New York Jets \tYear: 2016 \tTotal Defense Points: 409\n",
      "Team: New York Jets \tYear: 2017 \tTotal Defense Points: 382\n",
      "Team: New York Jets \tYear: 2018 \tTotal Defense Points: 441\n",
      "Team: New York Jets \tYear: 2019 \tTotal Defense Points: 359\n",
      "Team: New York Jets \tYear: 2020 \tTotal Defense Points: 457\n",
      "Team: New York Jets \tYear: 2021 \tTotal Defense Points: 504\n",
      "Team: New York Jets \tYear: 2022 \tTotal Defense Points: 316\n",
      "Team: Philadelphia Eagles \tYear: 2012 \tTotal Defense Points: 444\n",
      "Team: Philadelphia Eagles \tYear: 2013 \tTotal Defense Points: 382\n",
      "Team: Philadelphia Eagles \tYear: 2014 \tTotal Defense Points: 400\n",
      "Team: Philadelphia Eagles \tYear: 2015 \tTotal Defense Points: 430\n",
      "Team: Philadelphia Eagles \tYear: 2016 \tTotal Defense Points: 331\n",
      "Team: Philadelphia Eagles \tYear: 2017 \tTotal Defense Points: 295\n",
      "Team: Philadelphia Eagles \tYear: 2018 \tTotal Defense Points: 348\n",
      "Team: Philadelphia Eagles \tYear: 2019 \tTotal Defense Points: 354\n",
      "Team: Philadelphia Eagles \tYear: 2020 \tTotal Defense Points: 418\n",
      "Team: Philadelphia Eagles \tYear: 2021 \tTotal Defense Points: 385\n",
      "Team: Philadelphia Eagles \tYear: 2022 \tTotal Defense Points: 344\n",
      "Team: Pittsburgh Steelers \tYear: 2012 \tTotal Defense Points: 314\n",
      "Team: Pittsburgh Steelers \tYear: 2013 \tTotal Defense Points: 370\n",
      "Team: Pittsburgh Steelers \tYear: 2014 \tTotal Defense Points: 368\n",
      "Team: Pittsburgh Steelers \tYear: 2015 \tTotal Defense Points: 319\n",
      "Team: Pittsburgh Steelers \tYear: 2016 \tTotal Defense Points: 327\n",
      "Team: Pittsburgh Steelers \tYear: 2017 \tTotal Defense Points: 308\n",
      "Team: Pittsburgh Steelers \tYear: 2018 \tTotal Defense Points: 360\n",
      "Team: Pittsburgh Steelers \tYear: 2019 \tTotal Defense Points: 303\n",
      "Team: Pittsburgh Steelers \tYear: 2020 \tTotal Defense Points: 312\n",
      "Team: Pittsburgh Steelers \tYear: 2021 \tTotal Defense Points: 398\n",
      "Team: Pittsburgh Steelers \tYear: 2022 \tTotal Defense Points: 346\n",
      "Team: San Francisco 49ers \tYear: 2012 \tTotal Defense Points: 273\n",
      "Team: San Francisco 49ers \tYear: 2013 \tTotal Defense Points: 272\n",
      "Team: San Francisco 49ers \tYear: 2014 \tTotal Defense Points: 340\n",
      "Team: San Francisco 49ers \tYear: 2015 \tTotal Defense Points: 387\n",
      "Team: San Francisco 49ers \tYear: 2016 \tTotal Defense Points: 480\n",
      "Team: San Francisco 49ers \tYear: 2017 \tTotal Defense Points: 383\n",
      "Team: San Francisco 49ers \tYear: 2018 \tTotal Defense Points: 435\n",
      "Team: San Francisco 49ers \tYear: 2019 \tTotal Defense Points: 310\n",
      "Team: San Francisco 49ers \tYear: 2020 \tTotal Defense Points: 390\n",
      "Team: San Francisco 49ers \tYear: 2021 \tTotal Defense Points: 365\n",
      "Team: San Francisco 49ers \tYear: 2022 \tTotal Defense Points: 277\n",
      "Team: Seattle Seahawks \tYear: 2012 \tTotal Defense Points: 245\n",
      "Team: Seattle Seahawks \tYear: 2013 \tTotal Defense Points: 231\n",
      "Team: Seattle Seahawks \tYear: 2014 \tTotal Defense Points: 254\n",
      "Team: Seattle Seahawks \tYear: 2015 \tTotal Defense Points: 277\n",
      "Team: Seattle Seahawks \tYear: 2016 \tTotal Defense Points: 292\n",
      "Team: Seattle Seahawks \tYear: 2017 \tTotal Defense Points: 332\n",
      "Team: Seattle Seahawks \tYear: 2018 \tTotal Defense Points: 347\n",
      "Team: Seattle Seahawks \tYear: 2019 \tTotal Defense Points: 398\n",
      "Team: Seattle Seahawks \tYear: 2020 \tTotal Defense Points: 371\n",
      "Team: Seattle Seahawks \tYear: 2021 \tTotal Defense Points: 366\n",
      "Team: Seattle Seahawks \tYear: 2022 \tTotal Defense Points: 401\n",
      "Team: Tampa Bay Buccaneers \tYear: 2012 \tTotal Defense Points: 394\n",
      "Team: Tampa Bay Buccaneers \tYear: 2013 \tTotal Defense Points: 389\n",
      "Team: Tampa Bay Buccaneers \tYear: 2014 \tTotal Defense Points: 410\n",
      "Team: Tampa Bay Buccaneers \tYear: 2015 \tTotal Defense Points: 417\n",
      "Team: Tampa Bay Buccaneers \tYear: 2016 \tTotal Defense Points: 369\n",
      "Team: Tampa Bay Buccaneers \tYear: 2017 \tTotal Defense Points: 382\n",
      "Team: Tampa Bay Buccaneers \tYear: 2018 \tTotal Defense Points: 464\n",
      "Team: Tampa Bay Buccaneers \tYear: 2019 \tTotal Defense Points: 449\n",
      "Team: Tampa Bay Buccaneers \tYear: 2020 \tTotal Defense Points: 355\n",
      "Team: Tampa Bay Buccaneers \tYear: 2021 \tTotal Defense Points: 353\n",
      "Team: Tampa Bay Buccaneers \tYear: 2022 \tTotal Defense Points: 358\n",
      "Team: Tennessee Titans \tYear: 2012 \tTotal Defense Points: 471\n",
      "Team: Tennessee Titans \tYear: 2013 \tTotal Defense Points: 381\n",
      "Team: Tennessee Titans \tYear: 2014 \tTotal Defense Points: 438\n",
      "Team: Tennessee Titans \tYear: 2015 \tTotal Defense Points: 423\n",
      "Team: Tennessee Titans \tYear: 2016 \tTotal Defense Points: 378\n",
      "Team: Tennessee Titans \tYear: 2017 \tTotal Defense Points: 356\n",
      "Team: Tennessee Titans \tYear: 2018 \tTotal Defense Points: 303\n",
      "Team: Tennessee Titans \tYear: 2019 \tTotal Defense Points: 331\n",
      "Team: Tennessee Titans \tYear: 2020 \tTotal Defense Points: 439\n",
      "Team: Tennessee Titans \tYear: 2021 \tTotal Defense Points: 354\n",
      "Team: Tennessee Titans \tYear: 2022 \tTotal Defense Points: 359\n",
      "Team: Washington Commanders \tYear: 2012 \tTotal Defense Points: 388\n",
      "Team: Washington Commanders \tYear: 2013 \tTotal Defense Points: 478\n",
      "Team: Washington Commanders \tYear: 2014 \tTotal Defense Points: 438\n",
      "Team: Washington Commanders \tYear: 2015 \tTotal Defense Points: 379\n",
      "Team: Washington Commanders \tYear: 2016 \tTotal Defense Points: 383\n",
      "Team: Washington Commanders \tYear: 2017 \tTotal Defense Points: 388\n",
      "Team: Washington Commanders \tYear: 2018 \tTotal Defense Points: 359\n",
      "Team: Washington Commanders \tYear: 2019 \tTotal Defense Points: 435\n",
      "Team: Washington Commanders \tYear: 2020 \tTotal Defense Points: 329\n",
      "Team: Washington Commanders \tYear: 2021 \tTotal Defense Points: 434\n",
      "Team: Washington Commanders \tYear: 2022 \tTotal Defense Points: 343\n"
     ]
    }
   ],
   "source": [
    "team_names = nfldefpts['Team'].unique()\n",
    "\n",
    "# Iterate over each team\n",
    "for team_name in team_names:\n",
    "    team_data = nfldefpts[nfldefpts['Team'] == team_name]\n",
    "    \n",
    "    # Display the total Defense points for each year\n",
    "    for year in team_data['Year'].unique():\n",
    "        team_Defense_points = team_data.loc[team_data['Year'] == year, 'Def Tot/Pts'].values[0]\n",
    "        print(\"Team:\", team_name, \"\\tYear:\", year, \"\\tTotal Defense Points:\", team_Defense_points)"
   ]
  },
  {
   "cell_type": "markdown",
   "id": "e224874d",
   "metadata": {},
   "source": [
    "#### Calculate descriptive statistics on Defense Total Points allowed for all teams. These statistics are the points allowed and their mean, median, standard deviation, variance, min, max, range, and sum.\n",
    "### Arizona Cardinals"
   ]
  },
  {
   "cell_type": "code",
   "execution_count": 11,
   "id": "7d19aa14",
   "metadata": {},
   "outputs": [
    {
     "name": "stdout",
     "output_type": "stream",
     "text": [
      "Arizona Cardinals Defense Points Mean: 369.54545454545456\n",
      "Arizona Cardinals Defense Points Median: 362.0\n",
      "Arizona Cardinals Defense Points Standard Deviation: 50.19235725957416\n",
      "Arizona Cardinals Defense Points Variance: 2519.272727272727\n",
      "Arizona Cardinals Defense Points Minimum: 299\n",
      "Arizona Cardinals Defense Points Maximum: 449\n",
      "Arizona Cardinals Defense Points Range: 150\n",
      "Arizona Cardinals Total Points: 4065\n"
     ]
    }
   ],
   "source": [
    "team_name1 = 'Arizona Cardinals'\n",
    "cardinals_data = nfldefpts[nfldefpts['Team'] == team_name1]\n",
    "mean_value = cardinals_data['Def Tot/Pts'].mean()\n",
    "median_value = cardinals_data['Def Tot/Pts'].median()\n",
    "std_value = cardinals_data['Def Tot/Pts'].std()\n",
    "var_value = cardinals_data['Def Tot/Pts'].var()\n",
    "min_value = cardinals_data['Def Tot/Pts'].min()\n",
    "max_value = cardinals_data['Def Tot/Pts'].max()\n",
    "data_range = max_value - min_value\n",
    "total_points = cardinals_data['Def Tot/Pts'].sum()\n",
    "print(\"Arizona Cardinals Defense Points Mean:\", mean_value)\n",
    "print(\"Arizona Cardinals Defense Points Median:\", median_value)\n",
    "print(\"Arizona Cardinals Defense Points Standard Deviation:\", std_value)\n",
    "print(\"Arizona Cardinals Defense Points Variance:\", var_value)\n",
    "print(\"Arizona Cardinals Defense Points Minimum:\", min_value)\n",
    "print(\"Arizona Cardinals Defense Points Maximum:\", max_value)\n",
    "print(\"Arizona Cardinals Defense Points Range:\", data_range)\n",
    "print(\"Arizona Cardinals Total Points:\", total_points)"
   ]
  },
  {
   "cell_type": "markdown",
   "id": "7e9bf330",
   "metadata": {},
   "source": [
    "### Atlanta Falcons"
   ]
  },
  {
   "cell_type": "code",
   "execution_count": 12,
   "id": "55aa4436",
   "metadata": {},
   "outputs": [
    {
     "name": "stdout",
     "output_type": "stream",
     "text": [
      "Atlanta Falcons Defense Points Mean: 391.45454545454544\n",
      "Atlanta Falcons Defense Points Median: 406.0\n",
      "Atlanta Falcons Defense Points Standard Deviation: 51.21008423418895\n",
      "Atlanta Falcons Defense Points Variance: 2622.4727272727273\n",
      "Atlanta Falcons Defense Points Minimum: 299\n",
      "Atlanta Falcons Defense Points Maximum: 459\n",
      "Atlanta Falcons Defense Points Range: 160\n",
      "Atlanta Falcons Total Points: 4306\n"
     ]
    }
   ],
   "source": [
    "team_name2 = 'Atlanta Falcons'\n",
    "falcons_data = nfldefpts[nfldefpts['Team'] == team_name2]\n",
    "mean_value = falcons_data['Def Tot/Pts'].mean()\n",
    "median_value = falcons_data['Def Tot/Pts'].median()\n",
    "std_value = falcons_data['Def Tot/Pts'].std()\n",
    "var_value = falcons_data['Def Tot/Pts'].var()\n",
    "min_value = falcons_data['Def Tot/Pts'].min()\n",
    "max_value = falcons_data['Def Tot/Pts'].max()\n",
    "data_range = max_value - min_value\n",
    "total_points = falcons_data['Def Tot/Pts'].sum()\n",
    "print(\"Atlanta Falcons Defense Points Mean:\", mean_value)\n",
    "print(\"Atlanta Falcons Defense Points Median:\", median_value)\n",
    "print(\"Atlanta Falcons Defense Points Standard Deviation:\", std_value)\n",
    "print(\"Atlanta Falcons Defense Points Variance:\", var_value)\n",
    "print(\"Atlanta Falcons Defense Points Minimum:\", min_value)\n",
    "print(\"Atlanta Falcons Defense Points Maximum:\", max_value)\n",
    "print(\"Atlanta Falcons Defense Points Range:\", data_range)\n",
    "print(\"Atlanta Falcons Total Points:\", total_points)"
   ]
  },
  {
   "cell_type": "markdown",
   "id": "b7012dd9",
   "metadata": {},
   "source": [
    "### Baltimore Ravens"
   ]
  },
  {
   "cell_type": "code",
   "execution_count": 13,
   "id": "c82397b5",
   "metadata": {},
   "outputs": [
    {
     "name": "stdout",
     "output_type": "stream",
     "text": [
      "Baltimore Ravens Defense Points Mean: 327.45454545454544\n",
      "Baltimore Ravens Defense Points Median: 315.0\n",
      "Baltimore Ravens Defense Points Standard Deviation: 40.24267296381699\n",
      "Baltimore Ravens Defense Points Variance: 1619.4727272727273\n",
      "Baltimore Ravens Defense Points Minimum: 282\n",
      "Baltimore Ravens Defense Points Maximum: 401\n",
      "Baltimore Ravens Defense Points Range: 119\n",
      "Baltimore Ravens Total Points: 3602\n"
     ]
    }
   ],
   "source": [
    "team_name3 = 'Baltimore Ravens'\n",
    "ravens_data = nfldefpts[nfldefpts['Team'] == team_name3]\n",
    "mean_value = ravens_data['Def Tot/Pts'].mean()\n",
    "median_value = ravens_data['Def Tot/Pts'].median()\n",
    "std_value = ravens_data['Def Tot/Pts'].std()\n",
    "var_value = ravens_data['Def Tot/Pts'].var()\n",
    "min_value = ravens_data['Def Tot/Pts'].min()\n",
    "max_value = ravens_data['Def Tot/Pts'].max()\n",
    "data_range = max_value - min_value\n",
    "total_points = ravens_data['Def Tot/Pts'].sum()\n",
    "print(\"Baltimore Ravens Defense Points Mean:\", mean_value)\n",
    "print(\"Baltimore Ravens Defense Points Median:\", median_value)\n",
    "print(\"Baltimore Ravens Defense Points Standard Deviation:\", std_value)\n",
    "print(\"Baltimore Ravens Defense Points Variance:\", var_value)\n",
    "print(\"Baltimore Ravens Defense Points Minimum:\", min_value)\n",
    "print(\"Baltimore Ravens Defense Points Maximum:\", max_value)\n",
    "print(\"Baltimore Ravens Defense Points Range:\", data_range)\n",
    "print(\"Baltimore Ravens Total Points:\", total_points)"
   ]
  },
  {
   "cell_type": "markdown",
   "id": "a52c5021",
   "metadata": {},
   "source": [
    "### Buffalo Bills"
   ]
  },
  {
   "cell_type": "code",
   "execution_count": 14,
   "id": "8a924f5e",
   "metadata": {},
   "outputs": [
    {
     "name": "stdout",
     "output_type": "stream",
     "text": [
      "Buffalo Bills Defense Points Mean: 344.6363636363636\n",
      "Buffalo Bills Defense Points Median: 359.0\n",
      "Buffalo Bills Defense Points Standard Deviation: 55.06227878915424\n",
      "Buffalo Bills Defense Points Variance: 3031.854545454545\n",
      "Buffalo Bills Defense Points Minimum: 259\n",
      "Buffalo Bills Defense Points Maximum: 435\n",
      "Buffalo Bills Defense Points Range: 176\n",
      "Buffalo Bills Total Points: 3791\n"
     ]
    }
   ],
   "source": [
    "team_name4 = 'Buffalo Bills'\n",
    "bills_data = nfldefpts[nfldefpts['Team'] == team_name4]\n",
    "mean_value = bills_data['Def Tot/Pts'].mean()\n",
    "median_value = bills_data['Def Tot/Pts'].median()\n",
    "std_value = bills_data['Def Tot/Pts'].std()\n",
    "var_value = bills_data['Def Tot/Pts'].var()\n",
    "min_value = bills_data['Def Tot/Pts'].min()\n",
    "max_value = bills_data['Def Tot/Pts'].max()\n",
    "data_range = max_value - min_value\n",
    "total_points = bills_data['Def Tot/Pts'].sum()\n",
    "print(\"Buffalo Bills Defense Points Mean:\", mean_value)\n",
    "print(\"Buffalo Bills Defense Points Median:\", median_value)\n",
    "print(\"Buffalo Bills Defense Points Standard Deviation:\", std_value)\n",
    "print(\"Buffalo Bills Defense Points Variance:\", var_value)\n",
    "print(\"Buffalo Bills Defense Points Minimum:\", min_value)\n",
    "print(\"Buffalo Bills Defense Points Maximum:\", max_value)\n",
    "print(\"Buffalo Bills Defense Points Range:\", data_range)\n",
    "print(\"Buffalo Bills Total Points:\", total_points)"
   ]
  },
  {
   "cell_type": "markdown",
   "id": "dd6567cd",
   "metadata": {},
   "source": [
    "### Carolina Panthers"
   ]
  },
  {
   "cell_type": "code",
   "execution_count": 15,
   "id": "fb11d5f6",
   "metadata": {},
   "outputs": [
    {
     "name": "stdout",
     "output_type": "stream",
     "text": [
      "Carolina Panthers Defense Points Mean: 367.90909090909093\n",
      "Carolina Panthers Defense Points Median: 374.0\n",
      "Carolina Panthers Defense Points Standard Deviation: 59.76195201874608\n",
      "Carolina Panthers Defense Points Variance: 3571.4909090909086\n",
      "Carolina Panthers Defense Points Minimum: 241\n",
      "Carolina Panthers Defense Points Maximum: 470\n",
      "Carolina Panthers Defense Points Range: 229\n",
      "Carolina Panthers Total Points: 4047\n"
     ]
    }
   ],
   "source": [
    "team_name5 = 'Carolina Panthers'\n",
    "panthers_data = nfldefpts[nfldefpts['Team'] == team_name5]\n",
    "mean_value = panthers_data['Def Tot/Pts'].mean()\n",
    "median_value = panthers_data['Def Tot/Pts'].median()\n",
    "std_value = panthers_data['Def Tot/Pts'].std()\n",
    "var_value = panthers_data['Def Tot/Pts'].var()\n",
    "min_value = panthers_data['Def Tot/Pts'].min()\n",
    "max_value = panthers_data['Def Tot/Pts'].max()\n",
    "data_range = max_value - min_value\n",
    "total_points = panthers_data['Def Tot/Pts'].sum()\n",
    "print(\"Carolina Panthers Defense Points Mean:\", mean_value)\n",
    "print(\"Carolina Panthers Defense Points Median:\", median_value)\n",
    "print(\"Carolina Panthers Defense Points Standard Deviation:\", std_value)\n",
    "print(\"Carolina Panthers Defense Points Variance:\", var_value)\n",
    "print(\"Carolina Panthers Defense Points Minimum:\", min_value)\n",
    "print(\"Carolina Panthers Defense Points Maximum:\", max_value)\n",
    "print(\"Carolina Panthers Defense Points Range:\", data_range)\n",
    "print(\"Carolina Panthers Total Points:\", total_points)"
   ]
  },
  {
   "cell_type": "markdown",
   "id": "04c8cd55",
   "metadata": {},
   "source": [
    "### Chicago Bears"
   ]
  },
  {
   "cell_type": "code",
   "execution_count": 16,
   "id": "77d3e53a",
   "metadata": {},
   "outputs": [
    {
     "name": "stdout",
     "output_type": "stream",
     "text": [
      "Chicago Bears Defense Points Mean: 375.8181818181818\n",
      "Chicago Bears Defense Points Median: 397.0\n",
      "Chicago Bears Defense Points Standard Deviation: 72.08719467674989\n",
      "Chicago Bears Defense Points Variance: 5196.563636363637\n",
      "Chicago Bears Defense Points Minimum: 277\n",
      "Chicago Bears Defense Points Maximum: 478\n",
      "Chicago Bears Defense Points Range: 201\n",
      "Chicago Bears Total Points: 4134\n"
     ]
    }
   ],
   "source": [
    "team_name6 = 'Chicago Bears'\n",
    "bears_data = nfldefpts[nfldefpts['Team'] == team_name6]\n",
    "mean_value = bears_data['Def Tot/Pts'].mean()\n",
    "median_value = bears_data['Def Tot/Pts'].median()\n",
    "std_value = bears_data['Def Tot/Pts'].std()\n",
    "var_value = bears_data['Def Tot/Pts'].var()\n",
    "min_value = bears_data['Def Tot/Pts'].min()\n",
    "max_value = bears_data['Def Tot/Pts'].max()\n",
    "data_range = max_value - min_value\n",
    "total_points = bears_data['Def Tot/Pts'].sum()\n",
    "print(\"Chicago Bears Defense Points Mean:\", mean_value)\n",
    "print(\"Chicago Bears Defense Points Median:\", median_value)\n",
    "print(\"Chicago Bears Defense Points Standard Deviation:\", std_value)\n",
    "print(\"Chicago Bears Defense Points Variance:\", var_value)\n",
    "print(\"Chicago Bears Defense Points Minimum:\", min_value)\n",
    "print(\"Chicago Bears Defense Points Maximum:\", max_value)\n",
    "print(\"Chicago Bears Defense Points Range:\", data_range)\n",
    "print(\"Chicago Bears Total Points:\", total_points)"
   ]
  },
  {
   "cell_type": "markdown",
   "id": "59509737",
   "metadata": {},
   "source": [
    "### Cincinnati Bengals"
   ]
  },
  {
   "cell_type": "code",
   "execution_count": 17,
   "id": "d4426566",
   "metadata": {},
   "outputs": [
    {
     "name": "stdout",
     "output_type": "stream",
     "text": [
      "Cincinnati Bengals Defense Points Mean: 355.3636363636364\n",
      "Cincinnati Bengals Defense Points Median: 344.0\n",
      "Cincinnati Bengals Defense Points Standard Deviation: 56.367140653527436\n",
      "Cincinnati Bengals Defense Points Variance: 3177.2545454545457\n",
      "Cincinnati Bengals Defense Points Minimum: 279\n",
      "Cincinnati Bengals Defense Points Maximum: 455\n",
      "Cincinnati Bengals Defense Points Range: 176\n",
      "Cincinnati Bengals Total Points: 3909\n"
     ]
    }
   ],
   "source": [
    "team_name7 = 'Cincinnati Bengals'\n",
    "bengals_data = nfldefpts[nfldefpts['Team'] == team_name7]\n",
    "mean_value = bengals_data['Def Tot/Pts'].mean()\n",
    "median_value = bengals_data['Def Tot/Pts'].median()\n",
    "std_value = bengals_data['Def Tot/Pts'].std()\n",
    "var_value = bengals_data['Def Tot/Pts'].var()\n",
    "min_value = bengals_data['Def Tot/Pts'].min()\n",
    "max_value = bengals_data['Def Tot/Pts'].max()\n",
    "data_range = max_value - min_value\n",
    "total_points = bengals_data['Def Tot/Pts'].sum()\n",
    "print(\"Cincinnati Bengals Defense Points Mean:\", mean_value)\n",
    "print(\"Cincinnati Bengals Defense Points Median:\", median_value)\n",
    "print(\"Cincinnati Bengals Defense Points Standard Deviation:\", std_value)\n",
    "print(\"Cincinnati Bengals Defense Points Variance:\", var_value)\n",
    "print(\"Cincinnati Bengals Defense Points Minimum:\", min_value)\n",
    "print(\"Cincinnati Bengals Defense Points Maximum:\", max_value)\n",
    "print(\"Cincinnati Bengals Defense Points Range:\", data_range)\n",
    "print(\"Cincinnati Bengals Total Points:\", total_points)"
   ]
  },
  {
   "cell_type": "markdown",
   "id": "d43301cd",
   "metadata": {},
   "source": [
    "### Cleveland Browns"
   ]
  },
  {
   "cell_type": "code",
   "execution_count": 18,
   "id": "a1bb8f07",
   "metadata": {},
   "outputs": [
    {
     "name": "stdout",
     "output_type": "stream",
     "text": [
      "Cleveland Browns Defense Points Mean: 396.45454545454544\n",
      "Cleveland Browns Defense Points Median: 393.0\n",
      "Cleveland Browns Defense Points Standard Deviation: 32.24085494016446\n",
      "Cleveland Browns Defense Points Variance: 1039.4727272727273\n",
      "Cleveland Browns Defense Points Minimum: 337\n",
      "Cleveland Browns Defense Points Maximum: 452\n",
      "Cleveland Browns Defense Points Range: 115\n",
      "Cleveland Browns Total Points: 4361\n"
     ]
    }
   ],
   "source": [
    "team_name8 = 'Cleveland Browns'\n",
    "browns_data = nfldefpts[nfldefpts['Team'] == team_name8]\n",
    "mean_value = browns_data['Def Tot/Pts'].mean()\n",
    "median_value = browns_data['Def Tot/Pts'].median()\n",
    "std_value = browns_data['Def Tot/Pts'].std()\n",
    "var_value = browns_data['Def Tot/Pts'].var()\n",
    "min_value = browns_data['Def Tot/Pts'].min()\n",
    "max_value = browns_data['Def Tot/Pts'].max()\n",
    "data_range = max_value - min_value\n",
    "total_points = browns_data['Def Tot/Pts'].sum()\n",
    "print(\"Cleveland Browns Defense Points Mean:\", mean_value)\n",
    "print(\"Cleveland Browns Defense Points Median:\", median_value)\n",
    "print(\"Cleveland Browns Defense Points Standard Deviation:\", std_value)\n",
    "print(\"Cleveland Browns Defense Points Variance:\", var_value)\n",
    "print(\"Cleveland Browns Defense Points Minimum:\", min_value)\n",
    "print(\"Cleveland Browns Defense Points Maximum:\", max_value)\n",
    "print(\"Cleveland Browns Defense Points Range:\", data_range)\n",
    "print(\"Cleveland Browns Total Points:\", total_points)"
   ]
  },
  {
   "cell_type": "markdown",
   "id": "c5a1719d",
   "metadata": {},
   "source": [
    "### Dallas Cowboys"
   ]
  },
  {
   "cell_type": "code",
   "execution_count": 19,
   "id": "cfc91361",
   "metadata": {},
   "outputs": [
    {
     "name": "stdout",
     "output_type": "stream",
     "text": [
      "Dallas Cowboys Defense Points Mean: 364.90909090909093\n",
      "Dallas Cowboys Defense Points Median: 352.0\n",
      "Dallas Cowboys Defense Points Standard Deviation: 51.37402951969904\n",
      "Dallas Cowboys Defense Points Variance: 2639.290909090909\n",
      "Dallas Cowboys Defense Points Minimum: 306\n",
      "Dallas Cowboys Defense Points Maximum: 473\n",
      "Dallas Cowboys Defense Points Range: 167\n",
      "Dallas Cowboys Total Points: 4014\n"
     ]
    }
   ],
   "source": [
    "team_name9 = 'Dallas Cowboys'\n",
    "cowboys_data = nfldefpts[nfldefpts['Team'] == team_name9]\n",
    "mean_value = cowboys_data['Def Tot/Pts'].mean()\n",
    "median_value = cowboys_data['Def Tot/Pts'].median()\n",
    "std_value = cowboys_data['Def Tot/Pts'].std()\n",
    "var_value = cowboys_data['Def Tot/Pts'].var()\n",
    "min_value = cowboys_data['Def Tot/Pts'].min()\n",
    "max_value = cowboys_data['Def Tot/Pts'].max()\n",
    "data_range = max_value - min_value\n",
    "total_points = cowboys_data['Def Tot/Pts'].sum()\n",
    "print(\"Dallas Cowboys Defense Points Mean:\", mean_value)\n",
    "print(\"Dallas Cowboys Defense Points Median:\", median_value)\n",
    "print(\"Dallas Cowboys Defense Points Standard Deviation:\", std_value)\n",
    "print(\"Dallas Cowboys Defense Points Variance:\", var_value)\n",
    "print(\"Dallas Cowboys Defense Points Minimum:\", min_value)\n",
    "print(\"Dallas Cowboys Defense Points Maximum:\", max_value)\n",
    "print(\"Dallas Cowboys Defense Points Range:\", data_range)\n",
    "print(\"Dallas Cowboys Total Points:\", total_points)"
   ]
  },
  {
   "cell_type": "markdown",
   "id": "7c0ae505",
   "metadata": {},
   "source": [
    "### Denver Broncos"
   ]
  },
  {
   "cell_type": "code",
   "execution_count": 20,
   "id": "f827ac4e",
   "metadata": {},
   "outputs": [
    {
     "name": "stdout",
     "output_type": "stream",
     "text": [
      "Denver Broncos Defense Points Mean: 346.27272727272725\n",
      "Denver Broncos Defense Points Median: 349.0\n",
      "Denver Broncos Defense Points Standard Deviation: 48.96139481079131\n",
      "Denver Broncos Defense Points Variance: 2397.218181818182\n",
      "Denver Broncos Defense Points Minimum: 289\n",
      "Denver Broncos Defense Points Maximum: 446\n",
      "Denver Broncos Defense Points Range: 157\n",
      "Denver Broncos Total Points: 3809\n"
     ]
    }
   ],
   "source": [
    "team_name10 = 'Denver Broncos'\n",
    "broncos_data = nfldefpts[nfldefpts['Team'] == team_name10]\n",
    "mean_value = broncos_data['Def Tot/Pts'].mean()\n",
    "median_value = broncos_data['Def Tot/Pts'].median()\n",
    "std_value = broncos_data['Def Tot/Pts'].std()\n",
    "var_value = broncos_data['Def Tot/Pts'].var()\n",
    "min_value = broncos_data['Def Tot/Pts'].min()\n",
    "max_value = broncos_data['Def Tot/Pts'].max()\n",
    "data_range = max_value - min_value\n",
    "total_points = broncos_data['Def Tot/Pts'].sum()\n",
    "print(\"Denver Broncos Defense Points Mean:\", mean_value)\n",
    "print(\"Denver Broncos Defense Points Median:\", median_value)\n",
    "print(\"Denver Broncos Defense Points Standard Deviation:\", std_value)\n",
    "print(\"Denver Broncos Defense Points Variance:\", var_value)\n",
    "print(\"Denver Broncos Defense Points Minimum:\", min_value)\n",
    "print(\"Denver Broncos Defense Points Maximum:\", max_value)\n",
    "print(\"Denver Broncos Defense Points Range:\", data_range)\n",
    "print(\"Denver Broncos Total Points:\", total_points)"
   ]
  },
  {
   "cell_type": "markdown",
   "id": "ea68e150",
   "metadata": {},
   "source": [
    "### Detroit Lions"
   ]
  },
  {
   "cell_type": "code",
   "execution_count": 21,
   "id": "33815d88",
   "metadata": {},
   "outputs": [
    {
     "name": "stdout",
     "output_type": "stream",
     "text": [
      "Detroit Lions Defense Points Mean: 402.27272727272725\n",
      "Detroit Lions Defense Points Median: 400.0\n",
      "Detroit Lions Defense Points Standard Deviation: 62.97633032988014\n",
      "Detroit Lions Defense Points Variance: 3966.018181818182\n",
      "Detroit Lions Defense Points Minimum: 282\n",
      "Detroit Lions Defense Points Maximum: 519\n",
      "Detroit Lions Defense Points Range: 237\n",
      "Detroit Lions Total Points: 4425\n"
     ]
    }
   ],
   "source": [
    "team_name11 = 'Detroit Lions'\n",
    "lions_data = nfldefpts[nfldefpts['Team'] == team_name11]\n",
    "mean_value = lions_data['Def Tot/Pts'].mean()\n",
    "median_value = lions_data['Def Tot/Pts'].median()\n",
    "std_value = lions_data['Def Tot/Pts'].std()\n",
    "var_value = lions_data['Def Tot/Pts'].var()\n",
    "min_value = lions_data['Def Tot/Pts'].min()\n",
    "max_value = lions_data['Def Tot/Pts'].max()\n",
    "data_range = max_value - min_value\n",
    "total_points = lions_data['Def Tot/Pts'].sum()\n",
    "print(\"Detroit Lions Defense Points Mean:\", mean_value)\n",
    "print(\"Detroit Lions Defense Points Median:\", median_value)\n",
    "print(\"Detroit Lions Defense Points Standard Deviation:\", std_value)\n",
    "print(\"Detroit Lions Defense Points Variance:\", var_value)\n",
    "print(\"Detroit Lions Defense Points Minimum:\", min_value)\n",
    "print(\"Detroit Lions Defense Points Maximum:\", max_value)\n",
    "print(\"Detroit Lions Defense Points Range:\", data_range)\n",
    "print(\"Detroit Lions Total Points:\", total_points)"
   ]
  },
  {
   "cell_type": "markdown",
   "id": "86b204c0",
   "metadata": {},
   "source": [
    "### Green Bay Packers"
   ]
  },
  {
   "cell_type": "code",
   "execution_count": 22,
   "id": "04d619fa",
   "metadata": {},
   "outputs": [
    {
     "name": "stdout",
     "output_type": "stream",
     "text": [
      "Green Bay Packers Defense Points Mean: 366.45454545454544\n",
      "Green Bay Packers Defense Points Median: 371.0\n",
      "Green Bay Packers Defense Points Standard Deviation: 34.27349890619175\n",
      "Green Bay Packers Defense Points Variance: 1174.6727272727271\n",
      "Green Bay Packers Defense Points Minimum: 313\n",
      "Green Bay Packers Defense Points Maximum: 428\n",
      "Green Bay Packers Defense Points Range: 115\n",
      "Green Bay Packers Total Points: 4031\n"
     ]
    }
   ],
   "source": [
    "team_name12 = 'Green Bay Packers'\n",
    "packers_data = nfldefpts[nfldefpts['Team'] == team_name12]\n",
    "mean_value = packers_data['Def Tot/Pts'].mean()\n",
    "median_value = packers_data['Def Tot/Pts'].median()\n",
    "std_value = packers_data['Def Tot/Pts'].std()\n",
    "var_value = packers_data['Def Tot/Pts'].var()\n",
    "min_value = packers_data['Def Tot/Pts'].min()\n",
    "max_value = packers_data['Def Tot/Pts'].max()\n",
    "data_range = max_value - min_value\n",
    "total_points = packers_data['Def Tot/Pts'].sum()\n",
    "print(\"Green Bay Packers Defense Points Mean:\", mean_value)\n",
    "print(\"Green Bay Packers Defense Points Median:\", median_value)\n",
    "print(\"Green Bay Packers Defense Points Standard Deviation:\", std_value)\n",
    "print(\"Green Bay Packers Defense Points Variance:\", var_value)\n",
    "print(\"Green Bay Packers Defense Points Minimum:\", min_value)\n",
    "print(\"Green Bay Packers Defense Points Maximum:\", max_value)\n",
    "print(\"Green Bay Packers Defense Points Range:\", data_range)\n",
    "print(\"Green Bay Packers Total Points:\", total_points)"
   ]
  },
  {
   "cell_type": "markdown",
   "id": "bebc8a9f",
   "metadata": {},
   "source": [
    "### Houston Texans"
   ]
  },
  {
   "cell_type": "code",
   "execution_count": 23,
   "id": "0d711cc7",
   "metadata": {},
   "outputs": [
    {
     "name": "stdout",
     "output_type": "stream",
     "text": [
      "Houston Texans Defense Points Mean: 380.0\n",
      "Houston Texans Defense Points Median: 385.0\n",
      "Houston Texans Defense Points Standard Deviation: 61.90638093120935\n",
      "Houston Texans Defense Points Variance: 3832.4\n",
      "Houston Texans Defense Points Minimum: 307\n",
      "Houston Texans Defense Points Maximum: 464\n",
      "Houston Texans Defense Points Range: 157\n",
      "Houston Texans Total Points: 4180\n"
     ]
    }
   ],
   "source": [
    "team_name13 = 'Houston Texans'\n",
    "texans_data = nfldefpts[nfldefpts['Team'] == team_name13]\n",
    "mean_value = texans_data['Def Tot/Pts'].mean()\n",
    "median_value = texans_data['Def Tot/Pts'].median()\n",
    "std_value = texans_data['Def Tot/Pts'].std()\n",
    "var_value = texans_data['Def Tot/Pts'].var()\n",
    "min_value = texans_data['Def Tot/Pts'].min()\n",
    "max_value = texans_data['Def Tot/Pts'].max()\n",
    "data_range = max_value - min_value\n",
    "total_points = texans_data['Def Tot/Pts'].sum()\n",
    "print(\"Houston Texans Defense Points Mean:\", mean_value)\n",
    "print(\"Houston Texans Defense Points Median:\", median_value)\n",
    "print(\"Houston Texans Defense Points Standard Deviation:\", std_value)\n",
    "print(\"Houston Texans Defense Points Variance:\", var_value)\n",
    "print(\"Houston Texans Defense Points Minimum:\", min_value)\n",
    "print(\"Houston Texans Defense Points Maximum:\", max_value)\n",
    "print(\"Houston Texans Defense Points Range:\", data_range)\n",
    "print(\"Houston Texans Total Points:\", total_points)"
   ]
  },
  {
   "cell_type": "markdown",
   "id": "f0be6b12",
   "metadata": {},
   "source": [
    "### Indianapolis Colts"
   ]
  },
  {
   "cell_type": "code",
   "execution_count": 24,
   "id": "a95d632a",
   "metadata": {},
   "outputs": [
    {
     "name": "stdout",
     "output_type": "stream",
     "text": [
      "Indianapolis Colts Defense Points Mean: 378.8181818181818\n",
      "Indianapolis Colts Defense Points Median: 373.0\n",
      "Indianapolis Colts Defense Points Standard Deviation: 27.744614547036626\n",
      "Indianapolis Colts Defense Points Variance: 769.7636363636364\n",
      "Indianapolis Colts Defense Points Minimum: 336\n",
      "Indianapolis Colts Defense Points Maximum: 427\n",
      "Indianapolis Colts Defense Points Range: 91\n",
      "Indianapolis Colts Total Points: 4167\n"
     ]
    }
   ],
   "source": [
    "team_name14 = 'Indianapolis Colts'\n",
    "colts_data = nfldefpts[nfldefpts['Team'] == team_name14]\n",
    "mean_value = colts_data['Def Tot/Pts'].mean()\n",
    "median_value = colts_data['Def Tot/Pts'].median()\n",
    "std_value = colts_data['Def Tot/Pts'].std()\n",
    "var_value = colts_data['Def Tot/Pts'].var()\n",
    "min_value = colts_data['Def Tot/Pts'].min()\n",
    "max_value = colts_data['Def Tot/Pts'].max()\n",
    "data_range = max_value - min_value\n",
    "total_points = colts_data['Def Tot/Pts'].sum()\n",
    "print(\"Indianapolis Colts Defense Points Mean:\", mean_value)\n",
    "print(\"Indianapolis Colts Defense Points Median:\", median_value)\n",
    "print(\"Indianapolis Colts Defense Points Standard Deviation:\", std_value)\n",
    "print(\"Indianapolis Colts Defense Points Variance:\", var_value)\n",
    "print(\"Indianapolis Colts Defense Points Minimum:\", min_value)\n",
    "print(\"Indianapolis Colts Defense Points Maximum:\", max_value)\n",
    "print(\"Indianapolis Colts Defense Points Range:\", data_range)\n",
    "print(\"Indianapolis Colts Total Points:\", total_points)"
   ]
  },
  {
   "cell_type": "markdown",
   "id": "8f3be2ef",
   "metadata": {},
   "source": [
    "### Jacksonville Jaguars"
   ]
  },
  {
   "cell_type": "code",
   "execution_count": 25,
   "id": "1d7881f8",
   "metadata": {},
   "outputs": [
    {
     "name": "stdout",
     "output_type": "stream",
     "text": [
      "Jacksonville Jaguars Defense Points Mean: 403.0\n",
      "Jacksonville Jaguars Defense Points Median: 412.0\n",
      "Jacksonville Jaguars Defense Points Standard Deviation: 67.3706167405346\n",
      "Jacksonville Jaguars Defense Points Variance: 4538.8\n",
      "Jacksonville Jaguars Defense Points Minimum: 268\n",
      "Jacksonville Jaguars Defense Points Maximum: 492\n",
      "Jacksonville Jaguars Defense Points Range: 224\n",
      "Jacksonville Jaguars Total Points: 4433\n"
     ]
    }
   ],
   "source": [
    "team_name15 = 'Jacksonville Jaguars'\n",
    "jaguars_data = nfldefpts[nfldefpts['Team'] == team_name15]\n",
    "mean_value = jaguars_data['Def Tot/Pts'].mean()\n",
    "median_value = jaguars_data['Def Tot/Pts'].median()\n",
    "std_value = jaguars_data['Def Tot/Pts'].std()\n",
    "var_value = jaguars_data['Def Tot/Pts'].var()\n",
    "min_value = jaguars_data['Def Tot/Pts'].min()\n",
    "max_value = jaguars_data['Def Tot/Pts'].max()\n",
    "data_range = max_value - min_value\n",
    "total_points = jaguars_data['Def Tot/Pts'].sum()\n",
    "print(\"Jacksonville Jaguars Defense Points Mean:\", mean_value)\n",
    "print(\"Jacksonville Jaguars Defense Points Median:\", median_value)\n",
    "print(\"Jacksonville Jaguars Defense Points Standard Deviation:\", std_value)\n",
    "print(\"Jacksonville Jaguars Defense Points Variance:\", var_value)\n",
    "print(\"Jacksonville Jaguars Defense Points Minimum:\", min_value)\n",
    "print(\"Jacksonville Jaguars Defense Points Maximum:\", max_value)\n",
    "print(\"Jacksonville Jaguars Defense Points Range:\", data_range)\n",
    "print(\"Jacksonville Jaguars Total Points:\", total_points)"
   ]
  },
  {
   "cell_type": "markdown",
   "id": "b3481055",
   "metadata": {},
   "source": [
    "### Kansas City Chiefs"
   ]
  },
  {
   "cell_type": "code",
   "execution_count": 26,
   "id": "369fab43",
   "metadata": {},
   "outputs": [
    {
     "name": "stdout",
     "output_type": "stream",
     "text": [
      "Kansas City Chiefs Defense Points Mean: 342.90909090909093\n",
      "Kansas City Chiefs Defense Points Median: 339.0\n",
      "Kansas City Chiefs Defense Points Standard Deviation: 49.9749027922107\n",
      "Kansas City Chiefs Defense Points Variance: 2497.4909090909086\n",
      "Kansas City Chiefs Defense Points Minimum: 281\n",
      "Kansas City Chiefs Defense Points Maximum: 425\n",
      "Kansas City Chiefs Defense Points Range: 144\n",
      "Kansas City Chiefs Total Points: 3772\n"
     ]
    }
   ],
   "source": [
    "team_name16 = 'Kansas City Chiefs'\n",
    "chiefs_data = nfldefpts[nfldefpts['Team'] == team_name16]\n",
    "mean_value = chiefs_data['Def Tot/Pts'].mean()\n",
    "median_value = chiefs_data['Def Tot/Pts'].median()\n",
    "std_value = chiefs_data['Def Tot/Pts'].std()\n",
    "var_value = chiefs_data['Def Tot/Pts'].var()\n",
    "min_value = chiefs_data['Def Tot/Pts'].min()\n",
    "max_value = chiefs_data['Def Tot/Pts'].max()\n",
    "data_range = max_value - min_value\n",
    "total_points = chiefs_data['Def Tot/Pts'].sum()\n",
    "print(\"Kansas City Chiefs Defense Points Mean:\", mean_value)\n",
    "print(\"Kansas City Chiefs Defense Points Median:\", median_value)\n",
    "print(\"Kansas City Chiefs Defense Points Standard Deviation:\", std_value)\n",
    "print(\"Kansas City Chiefs Defense Points Variance:\", var_value)\n",
    "print(\"Kansas City Chiefs Defense Points Minimum:\", min_value)\n",
    "print(\"Kansas City Chiefs Defense Points Maximum:\", max_value)\n",
    "print(\"Kansas City Chiefs Defense Points Range:\", data_range)\n",
    "print(\"Kansas City Chiefs Total Points:\", total_points)"
   ]
  },
  {
   "cell_type": "markdown",
   "id": "7537b644",
   "metadata": {},
   "source": [
    "### Las Vegas Raiders"
   ]
  },
  {
   "cell_type": "code",
   "execution_count": 27,
   "id": "97005b37",
   "metadata": {},
   "outputs": [
    {
     "name": "stdout",
     "output_type": "stream",
     "text": [
      "Las Vegas Raiders Defense Points Mean: 429.6363636363636\n",
      "Las Vegas Raiders Defense Points Median: 439.0\n",
      "Las Vegas Raiders Defense Points Standard Deviation: 33.815004738348705\n",
      "Las Vegas Raiders Defense Points Variance: 1143.4545454545453\n",
      "Las Vegas Raiders Defense Points Minimum: 373\n",
      "Las Vegas Raiders Defense Points Maximum: 478\n",
      "Las Vegas Raiders Defense Points Range: 105\n",
      "Las Vegas Raiders Total Points: 4726\n"
     ]
    }
   ],
   "source": [
    "team_name17 = 'Las Vegas Raiders'\n",
    "raiders_data = nfldefpts[nfldefpts['Team'] == team_name17]\n",
    "mean_value = raiders_data['Def Tot/Pts'].mean()\n",
    "median_value = raiders_data['Def Tot/Pts'].median()\n",
    "std_value = raiders_data['Def Tot/Pts'].std()\n",
    "var_value = raiders_data['Def Tot/Pts'].var()\n",
    "min_value = raiders_data['Def Tot/Pts'].min()\n",
    "max_value = raiders_data['Def Tot/Pts'].max()\n",
    "data_range = max_value - min_value\n",
    "total_points = raiders_data['Def Tot/Pts'].sum()\n",
    "print(\"Las Vegas Raiders Defense Points Mean:\", mean_value)\n",
    "print(\"Las Vegas Raiders Defense Points Median:\", median_value)\n",
    "print(\"Las Vegas Raiders Defense Points Standard Deviation:\", std_value)\n",
    "print(\"Las Vegas Raiders Defense Points Variance:\", var_value)\n",
    "print(\"Las Vegas Raiders Defense Points Minimum:\", min_value)\n",
    "print(\"Las Vegas Raiders Defense Points Maximum:\", max_value)\n",
    "print(\"Las Vegas Raiders Defense Points Range:\", data_range)\n",
    "print(\"Las Vegas Raiders Total Points:\", total_points)"
   ]
  },
  {
   "cell_type": "markdown",
   "id": "8eb1fd10",
   "metadata": {},
   "source": [
    "### Los Angeles Chargers"
   ]
  },
  {
   "cell_type": "code",
   "execution_count": 28,
   "id": "673e46f4",
   "metadata": {},
   "outputs": [
    {
     "name": "stdout",
     "output_type": "stream",
     "text": [
      "Los Angeles Chargers Defense Points Mean: 371.09090909090907\n",
      "Los Angeles Chargers Defense Points Median: 350.0\n",
      "Los Angeles Chargers Defense Points Standard Deviation: 53.019721888094715\n",
      "Los Angeles Chargers Defense Points Variance: 2811.0909090909095\n",
      "Los Angeles Chargers Defense Points Minimum: 272\n",
      "Los Angeles Chargers Defense Points Maximum: 459\n",
      "Los Angeles Chargers Defense Points Range: 187\n",
      "Los Angeles Chargers Total Points: 4082\n"
     ]
    }
   ],
   "source": [
    "team_name18 = 'Los Angeles Chargers'\n",
    "chargers_data = nfldefpts[nfldefpts['Team'] == team_name18]\n",
    "mean_value = chargers_data['Def Tot/Pts'].mean()\n",
    "median_value = chargers_data['Def Tot/Pts'].median()\n",
    "std_value = chargers_data['Def Tot/Pts'].std()\n",
    "var_value = chargers_data['Def Tot/Pts'].var()\n",
    "min_value = chargers_data['Def Tot/Pts'].min()\n",
    "max_value = chargers_data['Def Tot/Pts'].max()\n",
    "data_range = max_value - min_value\n",
    "total_points = chargers_data['Def Tot/Pts'].sum()\n",
    "print(\"Los Angeles Chargers Defense Points Mean:\", mean_value)\n",
    "print(\"Los Angeles Chargers Defense Points Median:\", median_value)\n",
    "print(\"Los Angeles Chargers Defense Points Standard Deviation:\", std_value)\n",
    "print(\"Los Angeles Chargers Defense Points Variance:\", var_value)\n",
    "print(\"Los Angeles Chargers Defense Points Minimum:\", min_value)\n",
    "print(\"Los Angeles Chargers Defense Points Maximum:\", max_value)\n",
    "print(\"Los Angeles Chargers Defense Points Range:\", data_range)\n",
    "print(\"Los Angeles Chargers Total Points:\", total_points)"
   ]
  },
  {
   "cell_type": "markdown",
   "id": "8645585d",
   "metadata": {},
   "source": [
    "### Los Angeles Rams"
   ]
  },
  {
   "cell_type": "code",
   "execution_count": 29,
   "id": "e5f69b13",
   "metadata": {},
   "outputs": [
    {
     "name": "stdout",
     "output_type": "stream",
     "text": [
      "Los Angeles Rams Defense Points Mean: 356.27272727272725\n",
      "Los Angeles Rams Defense Points Median: 364.0\n",
      "Los Angeles Rams Defense Points Standard Deviation: 29.100140580728844\n",
      "Los Angeles Rams Defense Points Variance: 846.8181818181818\n",
      "Los Angeles Rams Defense Points Minimum: 296\n",
      "Los Angeles Rams Defense Points Maximum: 394\n",
      "Los Angeles Rams Defense Points Range: 98\n",
      "Los Angeles Rams Total Points: 3919\n"
     ]
    }
   ],
   "source": [
    "team_name19 = 'Los Angeles Rams'\n",
    "rams_data = nfldefpts[nfldefpts['Team'] == team_name19]\n",
    "mean_value = rams_data['Def Tot/Pts'].mean()\n",
    "median_value = rams_data['Def Tot/Pts'].median()\n",
    "std_value = rams_data['Def Tot/Pts'].std()\n",
    "var_value = rams_data['Def Tot/Pts'].var()\n",
    "min_value = rams_data['Def Tot/Pts'].min()\n",
    "max_value = rams_data['Def Tot/Pts'].max()\n",
    "data_range = max_value - min_value\n",
    "total_points = rams_data['Def Tot/Pts'].sum()\n",
    "print(\"Los Angeles Rams Defense Points Mean:\", mean_value)\n",
    "print(\"Los Angeles Rams Defense Points Median:\", median_value)\n",
    "print(\"Los Angeles Rams Defense Points Standard Deviation:\", std_value)\n",
    "print(\"Los Angeles Rams Defense Points Variance:\", var_value)\n",
    "print(\"Los Angeles Rams Defense Points Minimum:\", min_value)\n",
    "print(\"Los Angeles Rams Defense Points Maximum:\", max_value)\n",
    "print(\"Los Angeles Rams Defense Points Range:\", data_range)\n",
    "print(\"Los Angeles Rams Total Points:\", total_points)"
   ]
  },
  {
   "cell_type": "markdown",
   "id": "9dbc369a",
   "metadata": {},
   "source": [
    "### Miami Dolphins"
   ]
  },
  {
   "cell_type": "code",
   "execution_count": 30,
   "id": "a5637654",
   "metadata": {},
   "outputs": [
    {
     "name": "stdout",
     "output_type": "stream",
     "text": [
      "Miami Dolphins Defense Points Mean: 384.0\n",
      "Miami Dolphins Defense Points Median: 380.0\n",
      "Miami Dolphins Defense Points Standard Deviation: 49.08767666125583\n",
      "Miami Dolphins Defense Points Variance: 2409.6\n",
      "Miami Dolphins Defense Points Minimum: 317\n",
      "Miami Dolphins Defense Points Maximum: 494\n",
      "Miami Dolphins Defense Points Range: 177\n",
      "Miami Dolphins Total Points: 4224\n"
     ]
    }
   ],
   "source": [
    "team_name20 = 'Miami Dolphins'\n",
    "dolphins_data = nfldefpts[nfldefpts['Team'] == team_name20]\n",
    "mean_value = dolphins_data['Def Tot/Pts'].mean()\n",
    "median_value = dolphins_data['Def Tot/Pts'].median()\n",
    "std_value = dolphins_data['Def Tot/Pts'].std()\n",
    "var_value = dolphins_data['Def Tot/Pts'].var()\n",
    "min_value = dolphins_data['Def Tot/Pts'].min()\n",
    "max_value = dolphins_data['Def Tot/Pts'].max()\n",
    "data_range = max_value - min_value\n",
    "total_points = dolphins_data['Def Tot/Pts'].sum()\n",
    "print(\"Miami Dolphins Defense Points Mean:\", mean_value)\n",
    "print(\"Miami Dolphins Defense Points Median:\", median_value)\n",
    "print(\"Miami Dolphins Defense Points Standard Deviation:\", std_value)\n",
    "print(\"Miami Dolphins Defense Points Variance:\", var_value)\n",
    "print(\"Miami Dolphins Defense Points Minimum:\", min_value)\n",
    "print(\"Miami Dolphins Defense Points Maximum:\", max_value)\n",
    "print(\"Miami Dolphins Defense Points Range:\", data_range)\n",
    "print(\"Miami Dolphins Total Points:\", total_points)"
   ]
  },
  {
   "cell_type": "markdown",
   "id": "1f1dddc0",
   "metadata": {},
   "source": [
    "### Minnesota Vikings"
   ]
  },
  {
   "cell_type": "code",
   "execution_count": 31,
   "id": "5fff2f82",
   "metadata": {},
   "outputs": [
    {
     "name": "stdout",
     "output_type": "stream",
     "text": [
      "Minnesota Vikings Defense Points Mean: 364.0\n",
      "Minnesota Vikings Defense Points Median: 343.0\n",
      "Minnesota Vikings Defense Points Standard Deviation: 76.2718821060553\n",
      "Minnesota Vikings Defense Points Variance: 5817.4\n",
      "Minnesota Vikings Defense Points Minimum: 252\n",
      "Minnesota Vikings Defense Points Maximum: 480\n",
      "Minnesota Vikings Defense Points Range: 228\n",
      "Minnesota Vikings Total Points: 4004\n"
     ]
    }
   ],
   "source": [
    "team_name21 = 'Minnesota Vikings'\n",
    "vikings_data = nfldefpts[nfldefpts['Team'] == team_name21]\n",
    "mean_value = vikings_data['Def Tot/Pts'].mean()\n",
    "median_value = vikings_data['Def Tot/Pts'].median()\n",
    "std_value = vikings_data['Def Tot/Pts'].std()\n",
    "var_value = vikings_data['Def Tot/Pts'].var()\n",
    "min_value = vikings_data['Def Tot/Pts'].min()\n",
    "max_value = vikings_data['Def Tot/Pts'].max()\n",
    "data_range = max_value - min_value\n",
    "total_points = vikings_data['Def Tot/Pts'].sum()\n",
    "print(\"Minnesota Vikings Defense Points Mean:\", mean_value)\n",
    "print(\"Minnesota Vikings Defense Points Median:\", median_value)\n",
    "print(\"Minnesota Vikings Defense Points Standard Deviation:\", std_value)\n",
    "print(\"Minnesota Vikings Defense Points Variance:\", var_value)\n",
    "print(\"Minnesota Vikings Defense Points Minimum:\", min_value)\n",
    "print(\"Minnesota Vikings Defense Points Maximum:\", max_value)\n",
    "print(\"Minnesota Vikings Defense Points Range:\", data_range)\n",
    "print(\"Minnesota Vikings Total Points:\", total_points)"
   ]
  },
  {
   "cell_type": "markdown",
   "id": "187bd3f7",
   "metadata": {},
   "source": [
    "### New England Patriots"
   ]
  },
  {
   "cell_type": "code",
   "execution_count": 32,
   "id": "fc35574d",
   "metadata": {},
   "outputs": [
    {
     "name": "stdout",
     "output_type": "stream",
     "text": [
      "New England Patriots Defense Points Mean: 308.72727272727275\n",
      "New England Patriots Defense Points Median: 315.0\n",
      "New England Patriots Defense Points Standard Deviation: 39.691537911980454\n",
      "New England Patriots Defense Points Variance: 1575.4181818181817\n",
      "New England Patriots Defense Points Minimum: 225\n",
      "New England Patriots Defense Points Maximum: 353\n",
      "New England Patriots Defense Points Range: 128\n",
      "New England Patriots Total Points: 3396\n"
     ]
    }
   ],
   "source": [
    "team_name22 = 'New England Patriots'\n",
    "patriots_data = nfldefpts[nfldefpts['Team'] == team_name22]\n",
    "mean_value = patriots_data['Def Tot/Pts'].mean()\n",
    "median_value = patriots_data['Def Tot/Pts'].median()\n",
    "std_value = patriots_data['Def Tot/Pts'].std()\n",
    "var_value = patriots_data['Def Tot/Pts'].var()\n",
    "min_value = patriots_data['Def Tot/Pts'].min()\n",
    "max_value = patriots_data['Def Tot/Pts'].max()\n",
    "data_range = max_value - min_value\n",
    "total_points = patriots_data['Def Tot/Pts'].sum()\n",
    "print(\"New England Patriots Defense Points Mean:\", mean_value)\n",
    "print(\"New England Patriots Defense Points Median:\", median_value)\n",
    "print(\"New England Patriots Defense Points Standard Deviation:\", std_value)\n",
    "print(\"New England Patriots Defense Points Variance:\", var_value)\n",
    "print(\"New England Patriots Defense Points Minimum:\", min_value)\n",
    "print(\"New England Patriots Defense Points Maximum:\", max_value)\n",
    "print(\"New England Patriots Defense Points Range:\", data_range)\n",
    "print(\"New England Patriots Total Points:\", total_points)"
   ]
  },
  {
   "cell_type": "markdown",
   "id": "44fe47cb",
   "metadata": {},
   "source": [
    "### New Orleans Saints"
   ]
  },
  {
   "cell_type": "code",
   "execution_count": 33,
   "id": "13ece275",
   "metadata": {},
   "outputs": [
    {
     "name": "stdout",
     "output_type": "stream",
     "text": [
      "New Orleans Saints Defense Points Mean: 379.6\n",
      "New Orleans Saints Defense Points Median: 343.0\n",
      "New Orleans Saints Defense Points Standard Deviation: 64.47600759628\n",
      "New Orleans Saints Defense Points Variance: 4157.155555555557\n",
      "New Orleans Saints Defense Points Minimum: 304\n",
      "New Orleans Saints Defense Points Maximum: 476\n",
      "New Orleans Saints Defense Points Range: 172\n",
      "New Orleans Saints Total Points: 3796\n"
     ]
    }
   ],
   "source": [
    "team_name23 = 'New Orleans Saints'\n",
    "saints_data = nfldefpts[nfldefpts['Team'] == team_name23]\n",
    "mean_value = saints_data['Def Tot/Pts'].mean()\n",
    "median_value = saints_data['Def Tot/Pts'].median()\n",
    "std_value = saints_data['Def Tot/Pts'].std()\n",
    "var_value = saints_data['Def Tot/Pts'].var()\n",
    "min_value = saints_data['Def Tot/Pts'].min()\n",
    "max_value = saints_data['Def Tot/Pts'].max()\n",
    "data_range = max_value - min_value\n",
    "total_points = saints_data['Def Tot/Pts'].sum()\n",
    "print(\"New Orleans Saints Defense Points Mean:\", mean_value)\n",
    "print(\"New Orleans Saints Defense Points Median:\", median_value)\n",
    "print(\"New Orleans Saints Defense Points Standard Deviation:\", std_value)\n",
    "print(\"New Orleans Saints Defense Points Variance:\", var_value)\n",
    "print(\"New Orleans Saints Defense Points Minimum:\", min_value)\n",
    "print(\"New Orleans Saints Defense Points Maximum:\", max_value)\n",
    "print(\"New Orleans Saints Defense Points Range:\", data_range)\n",
    "print(\"New Orleans Saints Total Points:\", total_points)"
   ]
  },
  {
   "cell_type": "markdown",
   "id": "b0ffa5c5",
   "metadata": {},
   "source": [
    "### New York Giants"
   ]
  },
  {
   "cell_type": "code",
   "execution_count": 34,
   "id": "d6665241",
   "metadata": {},
   "outputs": [
    {
     "name": "stdout",
     "output_type": "stream",
     "text": [
      "New York Giants Defense Points Mean: 386.1818181818182\n",
      "New York Giants Defense Points Median: 388.0\n",
      "New York Giants Defense Points Standard Deviation: 47.307120355858025\n",
      "New York Giants Defense Points Variance: 2237.9636363636364\n",
      "New York Giants Defense Points Minimum: 284\n",
      "New York Giants Defense Points Maximum: 451\n",
      "New York Giants Defense Points Range: 167\n",
      "New York Giants Total Points: 4248\n"
     ]
    }
   ],
   "source": [
    "team_name24 = 'New York Giants'\n",
    "giants_data = nfldefpts[nfldefpts['Team'] == team_name24]\n",
    "mean_value = giants_data['Def Tot/Pts'].mean()\n",
    "median_value = giants_data['Def Tot/Pts'].median()\n",
    "std_value = giants_data['Def Tot/Pts'].std()\n",
    "var_value = giants_data['Def Tot/Pts'].var()\n",
    "min_value = giants_data['Def Tot/Pts'].min()\n",
    "max_value = giants_data['Def Tot/Pts'].max()\n",
    "data_range = max_value - min_value\n",
    "total_points = giants_data['Def Tot/Pts'].sum()\n",
    "print(\"New York Giants Defense Points Mean:\", mean_value)\n",
    "print(\"New York Giants Defense Points Median:\", median_value)\n",
    "print(\"New York Giants Defense Points Standard Deviation:\", std_value)\n",
    "print(\"New York Giants Defense Points Variance:\", var_value)\n",
    "print(\"New York Giants Defense Points Minimum:\", min_value)\n",
    "print(\"New York Giants Defense Points Maximum:\", max_value)\n",
    "print(\"New York Giants Defense Points Range:\", data_range)\n",
    "print(\"New York Giants Total Points:\", total_points)"
   ]
  },
  {
   "cell_type": "markdown",
   "id": "08e23a2d",
   "metadata": {},
   "source": [
    "### New York Jets"
   ]
  },
  {
   "cell_type": "code",
   "execution_count": 35,
   "id": "82da3d51",
   "metadata": {},
   "outputs": [
    {
     "name": "stdout",
     "output_type": "stream",
     "text": [
      "New York Jets Defense Points Mean: 395.0\n",
      "New York Jets Defense Points Median: 387.0\n",
      "New York Jets Defense Points Standard Deviation: 57.27477629812272\n",
      "New York Jets Defense Points Variance: 3280.4\n",
      "New York Jets Defense Points Minimum: 314\n",
      "New York Jets Defense Points Maximum: 504\n",
      "New York Jets Defense Points Range: 190\n",
      "New York Jets Total Points: 4345\n"
     ]
    }
   ],
   "source": [
    "team_name25 = 'New York Jets'\n",
    "Jets_data = nfldefpts[nfldefpts['Team'] == team_name25]\n",
    "mean_value = Jets_data['Def Tot/Pts'].mean()\n",
    "median_value = Jets_data['Def Tot/Pts'].median()\n",
    "std_value = Jets_data['Def Tot/Pts'].std()\n",
    "var_value = Jets_data['Def Tot/Pts'].var()\n",
    "min_value = Jets_data['Def Tot/Pts'].min()\n",
    "max_value = Jets_data['Def Tot/Pts'].max()\n",
    "data_range = max_value - min_value\n",
    "total_points = Jets_data['Def Tot/Pts'].sum()\n",
    "print(\"New York Jets Defense Points Mean:\", mean_value)\n",
    "print(\"New York Jets Defense Points Median:\", median_value)\n",
    "print(\"New York Jets Defense Points Standard Deviation:\", std_value)\n",
    "print(\"New York Jets Defense Points Variance:\", var_value)\n",
    "print(\"New York Jets Defense Points Minimum:\", min_value)\n",
    "print(\"New York Jets Defense Points Maximum:\", max_value)\n",
    "print(\"New York Jets Defense Points Range:\", data_range)\n",
    "print(\"New York Jets Total Points:\", total_points)"
   ]
  },
  {
   "cell_type": "markdown",
   "id": "48314486",
   "metadata": {},
   "source": [
    "### Philadelphia Eagles"
   ]
  },
  {
   "cell_type": "code",
   "execution_count": 36,
   "id": "074eed4a",
   "metadata": {},
   "outputs": [
    {
     "name": "stdout",
     "output_type": "stream",
     "text": [
      "Philadelphia Eagles Defense Points Mean: 375.54545454545456\n",
      "Philadelphia Eagles Points Median: 382.0\n",
      "Philadelphia Eagles Points Standard Deviation: 45.68667997647375\n",
      "Philadelphia Eagles Points Variance: 2087.272727272727\n",
      "Philadelphia Eagles Points Minimum: 295\n",
      "Philadelphia Eagles Points Maximum: 444\n",
      "Philadelphia Eagles Points Range: 149\n",
      "Philadelphia Eagles Total Points: 4131\n"
     ]
    }
   ],
   "source": [
    "team_name26 = 'Philadelphia Eagles'\n",
    "eagles_data = nfldefpts[nfldefpts['Team'] == team_name26]\n",
    "mean_value = eagles_data['Def Tot/Pts'].mean()\n",
    "median_value = eagles_data['Def Tot/Pts'].median()\n",
    "std_value = eagles_data['Def Tot/Pts'].std()\n",
    "var_value = eagles_data['Def Tot/Pts'].var()\n",
    "min_value = eagles_data['Def Tot/Pts'].min()\n",
    "max_value = eagles_data['Def Tot/Pts'].max()\n",
    "data_range = max_value - min_value\n",
    "total_points = eagles_data['Def Tot/Pts'].sum()\n",
    "print(\"Philadelphia Eagles Defense Points Mean:\", mean_value)\n",
    "print(\"Philadelphia Eagles Points Median:\", median_value)\n",
    "print(\"Philadelphia Eagles Points Standard Deviation:\", std_value)\n",
    "print(\"Philadelphia Eagles Points Variance:\", var_value)\n",
    "print(\"Philadelphia Eagles Points Minimum:\", min_value)\n",
    "print(\"Philadelphia Eagles Points Maximum:\", max_value)\n",
    "print(\"Philadelphia Eagles Points Range:\", data_range)\n",
    "print(\"Philadelphia Eagles Total Points:\", total_points)"
   ]
  },
  {
   "cell_type": "markdown",
   "id": "3ff00a06",
   "metadata": {},
   "source": [
    "### Pittsburgh Steelers"
   ]
  },
  {
   "cell_type": "code",
   "execution_count": 37,
   "id": "1da74b57",
   "metadata": {},
   "outputs": [
    {
     "name": "stdout",
     "output_type": "stream",
     "text": [
      "Pittsburgh Steelers Defense Points Mean: 338.6363636363636\n",
      "Pittsburgh Steelers Points Median: 327.0\n",
      "Pittsburgh Steelers Points Standard Deviation: 31.50642070204969\n",
      "Pittsburgh Steelers Points Variance: 992.6545454545454\n",
      "Pittsburgh Steelers Points Minimum: 303\n",
      "Pittsburgh Steelers Points Maximum: 398\n",
      "Pittsburgh Steelers Points Range: 95\n",
      "Pittsburgh Steelers Total Points: 3725\n"
     ]
    }
   ],
   "source": [
    "team_name27 = 'Pittsburgh Steelers'\n",
    "steelers_data = nfldefpts[nfldefpts['Team'] == team_name27]\n",
    "mean_value = steelers_data['Def Tot/Pts'].mean()\n",
    "median_value = steelers_data['Def Tot/Pts'].median()\n",
    "std_value = steelers_data['Def Tot/Pts'].std()\n",
    "var_value = steelers_data['Def Tot/Pts'].var()\n",
    "min_value = steelers_data['Def Tot/Pts'].min()\n",
    "max_value = steelers_data['Def Tot/Pts'].max()\n",
    "data_range = max_value - min_value\n",
    "total_points = steelers_data['Def Tot/Pts'].sum()\n",
    "print(\"Pittsburgh Steelers Defense Points Mean:\", mean_value)\n",
    "print(\"Pittsburgh Steelers Points Median:\", median_value)\n",
    "print(\"Pittsburgh Steelers Points Standard Deviation:\", std_value)\n",
    "print(\"Pittsburgh Steelers Points Variance:\", var_value)\n",
    "print(\"Pittsburgh Steelers Points Minimum:\", min_value)\n",
    "print(\"Pittsburgh Steelers Points Maximum:\", max_value)\n",
    "print(\"Pittsburgh Steelers Points Range:\", data_range)\n",
    "print(\"Pittsburgh Steelers Total Points:\", total_points)"
   ]
  },
  {
   "cell_type": "markdown",
   "id": "a95650f5",
   "metadata": {},
   "source": [
    "### San Francisco 49ers"
   ]
  },
  {
   "cell_type": "code",
   "execution_count": 38,
   "id": "cdc8cdfd",
   "metadata": {},
   "outputs": [
    {
     "name": "stdout",
     "output_type": "stream",
     "text": [
      "San Francisco 49ers Defense Points Mean: 355.6363636363636\n",
      "San Francisco 49ers Points Median: 365.0\n",
      "San Francisco 49ers Points Standard Deviation: 68.62983713702477\n",
      "San Francisco 49ers Points Variance: 4710.0545454545445\n",
      "San Francisco 49ers Points Minimum: 272\n",
      "San Francisco 49ers Points Maximum: 480\n",
      "San Francisco 49ers Points Range: 208\n",
      "San Francisco 49ers Total Points: 3912\n"
     ]
    }
   ],
   "source": [
    "team_name28 = 'San Francisco 49ers'\n",
    "niners_data = nfldefpts[nfldefpts['Team'] == team_name28]\n",
    "mean_value = niners_data['Def Tot/Pts'].mean()\n",
    "median_value = niners_data['Def Tot/Pts'].median()\n",
    "std_value = niners_data['Def Tot/Pts'].std()\n",
    "var_value = niners_data['Def Tot/Pts'].var()\n",
    "min_value = niners_data['Def Tot/Pts'].min()\n",
    "max_value = niners_data['Def Tot/Pts'].max()\n",
    "data_range = max_value - min_value\n",
    "total_points = niners_data['Def Tot/Pts'].sum()\n",
    "print(\"San Francisco 49ers Defense Points Mean:\", mean_value)\n",
    "print(\"San Francisco 49ers Points Median:\", median_value)\n",
    "print(\"San Francisco 49ers Points Standard Deviation:\", std_value)\n",
    "print(\"San Francisco 49ers Points Variance:\", var_value)\n",
    "print(\"San Francisco 49ers Points Minimum:\", min_value)\n",
    "print(\"San Francisco 49ers Points Maximum:\", max_value)\n",
    "print(\"San Francisco 49ers Points Range:\", data_range)\n",
    "print(\"San Francisco 49ers Total Points:\", total_points)"
   ]
  },
  {
   "cell_type": "markdown",
   "id": "01b1ebd0",
   "metadata": {},
   "source": [
    "### Tampa Bay Buccaneers"
   ]
  },
  {
   "cell_type": "code",
   "execution_count": 39,
   "id": "26b230f3",
   "metadata": {},
   "outputs": [
    {
     "name": "stdout",
     "output_type": "stream",
     "text": [
      "Tampa Bay Buccaneers Defense Points Mean: 394.54545454545456\n",
      "Tampa Bay Buccaneers Points Median: 389.0\n",
      "Tampa Bay Buccaneers Points Standard Deviation: 37.41487307572655\n",
      "Tampa Bay Buccaneers Points Variance: 1399.8727272727272\n",
      "Tampa Bay Buccaneers Points Minimum: 353\n",
      "Tampa Bay Buccaneers Points Maximum: 464\n",
      "Tampa Bay Buccaneers Points Range: 111\n",
      "Tampa Bay Buccaneers Total Points: 4340\n"
     ]
    }
   ],
   "source": [
    "team_name29 = 'Tampa Bay Buccaneers'\n",
    "buccaneers_data = nfldefpts[nfldefpts['Team'] == team_name29]\n",
    "mean_value = buccaneers_data['Def Tot/Pts'].mean()\n",
    "median_value = buccaneers_data['Def Tot/Pts'].median()\n",
    "std_value = buccaneers_data['Def Tot/Pts'].std()\n",
    "var_value = buccaneers_data['Def Tot/Pts'].var()\n",
    "min_value = buccaneers_data['Def Tot/Pts'].min()\n",
    "max_value = buccaneers_data['Def Tot/Pts'].max()\n",
    "data_range = max_value - min_value\n",
    "total_points = buccaneers_data['Def Tot/Pts'].sum()\n",
    "print(\"Tampa Bay Buccaneers Defense Points Mean:\", mean_value)\n",
    "print(\"Tampa Bay Buccaneers Points Median:\", median_value)\n",
    "print(\"Tampa Bay Buccaneers Points Standard Deviation:\", std_value)\n",
    "print(\"Tampa Bay Buccaneers Points Variance:\", var_value)\n",
    "print(\"Tampa Bay Buccaneers Points Minimum:\", min_value)\n",
    "print(\"Tampa Bay Buccaneers Points Maximum:\", max_value)\n",
    "print(\"Tampa Bay Buccaneers Points Range:\", data_range)\n",
    "print(\"Tampa Bay Buccaneers Total Points:\", total_points)"
   ]
  },
  {
   "cell_type": "markdown",
   "id": "87ea275c",
   "metadata": {},
   "source": [
    "### Tennessee Titans"
   ]
  },
  {
   "cell_type": "code",
   "execution_count": 40,
   "id": "c6e66a7d",
   "metadata": {},
   "outputs": [
    {
     "name": "stdout",
     "output_type": "stream",
     "text": [
      "Tennessee Titans Defense Points Mean: 384.8181818181818\n",
      "Tennessee Titans Points Median: 378.0\n",
      "Tennessee Titans Points Standard Deviation: 51.718117099945125\n",
      "Tennessee Titans Points Variance: 2674.7636363636366\n",
      "Tennessee Titans Points Minimum: 303\n",
      "Tennessee Titans Points Maximum: 471\n",
      "Tennessee Titans Points Range: 168\n",
      "Tennessee Titans Total Defense Points: 4233\n"
     ]
    }
   ],
   "source": [
    "team_name30 = 'Tennessee Titans'\n",
    "titans_data = nfldefpts[nfldefpts['Team'] == team_name30]\n",
    "mean_value = titans_data['Def Tot/Pts'].mean()\n",
    "median_value = titans_data['Def Tot/Pts'].median()\n",
    "std_value = titans_data['Def Tot/Pts'].std()\n",
    "var_value = titans_data['Def Tot/Pts'].var()\n",
    "min_value = titans_data['Def Tot/Pts'].min()\n",
    "max_value = titans_data['Def Tot/Pts'].max()\n",
    "data_range = max_value - min_value\n",
    "total_points = titans_data['Def Tot/Pts'].sum()\n",
    "print(\"Tennessee Titans Defense Points Mean:\", mean_value)\n",
    "print(\"Tennessee Titans Points Median:\", median_value)\n",
    "print(\"Tennessee Titans Points Standard Deviation:\", std_value)\n",
    "print(\"Tennessee Titans Points Variance:\", var_value)\n",
    "print(\"Tennessee Titans Points Minimum:\", min_value)\n",
    "print(\"Tennessee Titans Points Maximum:\", max_value)\n",
    "print(\"Tennessee Titans Points Range:\", data_range)\n",
    "print(\"Tennessee Titans Total Defense Points:\", total_points)"
   ]
  },
  {
   "cell_type": "markdown",
   "id": "45308288",
   "metadata": {},
   "source": [
    "### Washington Commanders"
   ]
  },
  {
   "cell_type": "code",
   "execution_count": 41,
   "id": "fd25dd2e",
   "metadata": {},
   "outputs": [
    {
     "name": "stdout",
     "output_type": "stream",
     "text": [
      "Washington Commanders Defense Points Mean: 395.8181818181818\n",
      "Washington Commanders Median: 388.0\n",
      "Washington Commanders Standard Deviation: 45.50344642292093\n",
      "Washington Commanders Variance: 2070.563636363636\n",
      "Washington Commanders Minimum: 329\n",
      "Washington Commanders Points Maximum: 478\n",
      "Washington Commanders Total Defense Points: 4354\n",
      "Washington Commanders Points Range: 149\n"
     ]
    }
   ],
   "source": [
    "team_name31 = 'Washington Commanders'\n",
    "commanders_data = nfldefpts[nfldefpts['Team'] == team_name31]\n",
    "mean_value = commanders_data['Def Tot/Pts'].mean()\n",
    "median_value = commanders_data['Def Tot/Pts'].median()\n",
    "std_value = commanders_data['Def Tot/Pts'].std()\n",
    "var_value = commanders_data['Def Tot/Pts'].var()\n",
    "min_value = commanders_data['Def Tot/Pts'].min()\n",
    "max_value = commanders_data['Def Tot/Pts'].max()\n",
    "total_points = commanders_data['Def Tot/Pts'].sum()\n",
    "data_range = max_value - min_value\n",
    "print(\"Washington Commanders Defense Points Mean:\", mean_value)\n",
    "print(\"Washington Commanders Median:\", median_value)\n",
    "print(\"Washington Commanders Standard Deviation:\", std_value)\n",
    "print(\"Washington Commanders Variance:\", var_value)\n",
    "print(\"Washington Commanders Minimum:\", min_value)\n",
    "print(\"Washington Commanders Points Maximum:\", max_value)\n",
    "print(\"Washington Commanders Total Defense Points:\", total_points)\n",
    "print(\"Washington Commanders Points Range:\", data_range)"
   ]
  },
  {
   "cell_type": "markdown",
   "id": "9d5de545",
   "metadata": {},
   "source": [
    "#### Analysis Findings"
   ]
  }
 ],
 "metadata": {
  "kernelspec": {
   "display_name": "Python 3 (ipykernel)",
   "language": "python",
   "name": "python3"
  },
  "language_info": {
   "codemirror_mode": {
    "name": "ipython",
    "version": 3
   },
   "file_extension": ".py",
   "mimetype": "text/x-python",
   "name": "python",
   "nbconvert_exporter": "python",
   "pygments_lexer": "ipython3",
   "version": "3.9.12"
  }
 },
 "nbformat": 4,
 "nbformat_minor": 5
}

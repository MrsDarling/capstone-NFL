{
 "cells": [
  {
   "cell_type": "markdown",
   "id": "edf3ca78",
   "metadata": {},
   "source": [
    "# Descriptive Statistics for Offense Points per Game for Each Team"
   ]
  },
  {
   "cell_type": "markdown",
   "id": "0659da1c",
   "metadata": {},
   "source": [
    "#### Import Packages"
   ]
  },
  {
   "cell_type": "code",
   "execution_count": 1,
   "id": "7e0099bf",
   "metadata": {},
   "outputs": [],
   "source": [
    "import pandas as pd\n",
    "import numpy as np\n",
    "from scipy.stats import norm\n",
    "from scipy import stats"
   ]
  },
  {
   "cell_type": "markdown",
   "id": "41d1d433",
   "metadata": {},
   "source": [
    "#### Import NFL Dataset 2012-2022"
   ]
  },
  {
   "cell_type": "code",
   "execution_count": 2,
   "id": "9a95eb39",
   "metadata": {},
   "outputs": [],
   "source": [
    "nflptsgame = pd.read_csv('/Users/admin/Desktop/Final_Project/NFL_merged/nfl2012_2022merge.csv')"
   ]
  },
  {
   "cell_type": "code",
   "execution_count": 3,
   "id": "60e79d22",
   "metadata": {},
   "outputs": [
    {
     "data": {
      "text/html": [
       "<div>\n",
       "<style scoped>\n",
       "    .dataframe tbody tr th:only-of-type {\n",
       "        vertical-align: middle;\n",
       "    }\n",
       "\n",
       "    .dataframe tbody tr th {\n",
       "        vertical-align: top;\n",
       "    }\n",
       "\n",
       "    .dataframe thead th {\n",
       "        text-align: right;\n",
       "    }\n",
       "</style>\n",
       "<table border=\"1\" class=\"dataframe\">\n",
       "  <thead>\n",
       "    <tr style=\"text-align: right;\">\n",
       "      <th></th>\n",
       "      <th>Team</th>\n",
       "      <th>Off Tot/Pts</th>\n",
       "      <th>Off Pts/G</th>\n",
       "      <th>Off RushYds</th>\n",
       "      <th>Off RYds/G</th>\n",
       "      <th>Off PassYds</th>\n",
       "      <th>Off PYds/G</th>\n",
       "      <th>Off TotYds</th>\n",
       "      <th>Off Yds/G</th>\n",
       "      <th>Def Tot/Pts</th>\n",
       "      <th>...</th>\n",
       "      <th>Def PassYds</th>\n",
       "      <th>Def PYds/G</th>\n",
       "      <th>Def TotYds</th>\n",
       "      <th>Def Yds/G</th>\n",
       "      <th>Year</th>\n",
       "      <th>Wins</th>\n",
       "      <th>Losses</th>\n",
       "      <th>Tie</th>\n",
       "      <th>Superbowl</th>\n",
       "      <th>SB Win</th>\n",
       "    </tr>\n",
       "  </thead>\n",
       "  <tbody>\n",
       "    <tr>\n",
       "      <th>0</th>\n",
       "      <td>Arizona Cardinals</td>\n",
       "      <td>250</td>\n",
       "      <td>15.6</td>\n",
       "      <td>1204</td>\n",
       "      <td>75.2</td>\n",
       "      <td>3005</td>\n",
       "      <td>187.8</td>\n",
       "      <td>4209</td>\n",
       "      <td>263.1</td>\n",
       "      <td>357</td>\n",
       "      <td>...</td>\n",
       "      <td>3213</td>\n",
       "      <td>200.8</td>\n",
       "      <td>5405</td>\n",
       "      <td>337.8</td>\n",
       "      <td>2012</td>\n",
       "      <td>5</td>\n",
       "      <td>11</td>\n",
       "      <td>0.0</td>\n",
       "      <td>No</td>\n",
       "      <td>No</td>\n",
       "    </tr>\n",
       "    <tr>\n",
       "      <th>1</th>\n",
       "      <td>Atlanta Falcons</td>\n",
       "      <td>419</td>\n",
       "      <td>26.2</td>\n",
       "      <td>1397</td>\n",
       "      <td>87.3</td>\n",
       "      <td>4509</td>\n",
       "      <td>281.8</td>\n",
       "      <td>5906</td>\n",
       "      <td>369.1</td>\n",
       "      <td>299</td>\n",
       "      <td>...</td>\n",
       "      <td>3878</td>\n",
       "      <td>242.4</td>\n",
       "      <td>5849</td>\n",
       "      <td>365.6</td>\n",
       "      <td>2012</td>\n",
       "      <td>13</td>\n",
       "      <td>3</td>\n",
       "      <td>0.0</td>\n",
       "      <td>No</td>\n",
       "      <td>No</td>\n",
       "    </tr>\n",
       "    <tr>\n",
       "      <th>2</th>\n",
       "      <td>Baltimore Ravens</td>\n",
       "      <td>398</td>\n",
       "      <td>24.9</td>\n",
       "      <td>1901</td>\n",
       "      <td>118.8</td>\n",
       "      <td>3739</td>\n",
       "      <td>233.7</td>\n",
       "      <td>5640</td>\n",
       "      <td>352.5</td>\n",
       "      <td>344</td>\n",
       "      <td>...</td>\n",
       "      <td>3650</td>\n",
       "      <td>228.1</td>\n",
       "      <td>5615</td>\n",
       "      <td>350.9</td>\n",
       "      <td>2012</td>\n",
       "      <td>10</td>\n",
       "      <td>6</td>\n",
       "      <td>0.0</td>\n",
       "      <td>Yes</td>\n",
       "      <td>Yes</td>\n",
       "    </tr>\n",
       "    <tr>\n",
       "      <th>3</th>\n",
       "      <td>Buffalo Bills</td>\n",
       "      <td>344</td>\n",
       "      <td>21.5</td>\n",
       "      <td>2217</td>\n",
       "      <td>138.6</td>\n",
       "      <td>3269</td>\n",
       "      <td>204.3</td>\n",
       "      <td>5486</td>\n",
       "      <td>342.9</td>\n",
       "      <td>435</td>\n",
       "      <td>...</td>\n",
       "      <td>3473</td>\n",
       "      <td>217.1</td>\n",
       "      <td>5806</td>\n",
       "      <td>362.9</td>\n",
       "      <td>2012</td>\n",
       "      <td>6</td>\n",
       "      <td>10</td>\n",
       "      <td>0.0</td>\n",
       "      <td>No</td>\n",
       "      <td>No</td>\n",
       "    </tr>\n",
       "    <tr>\n",
       "      <th>4</th>\n",
       "      <td>Carolina Panthers</td>\n",
       "      <td>357</td>\n",
       "      <td>22.3</td>\n",
       "      <td>2088</td>\n",
       "      <td>130.5</td>\n",
       "      <td>3683</td>\n",
       "      <td>230.2</td>\n",
       "      <td>5771</td>\n",
       "      <td>360.7</td>\n",
       "      <td>363</td>\n",
       "      <td>...</td>\n",
       "      <td>3568</td>\n",
       "      <td>223.0</td>\n",
       "      <td>5329</td>\n",
       "      <td>333.1</td>\n",
       "      <td>2012</td>\n",
       "      <td>7</td>\n",
       "      <td>9</td>\n",
       "      <td>0.0</td>\n",
       "      <td>No</td>\n",
       "      <td>No</td>\n",
       "    </tr>\n",
       "  </tbody>\n",
       "</table>\n",
       "<p>5 rows × 23 columns</p>\n",
       "</div>"
      ],
      "text/plain": [
       "                Team  Off Tot/Pts  Off Pts/G  Off RushYds  Off RYds/G  \\\n",
       "0  Arizona Cardinals          250       15.6         1204        75.2   \n",
       "1    Atlanta Falcons          419       26.2         1397        87.3   \n",
       "2   Baltimore Ravens          398       24.9         1901       118.8   \n",
       "3      Buffalo Bills          344       21.5         2217       138.6   \n",
       "4  Carolina Panthers          357       22.3         2088       130.5   \n",
       "\n",
       "   Off PassYds  Off PYds/G  Off TotYds  Off Yds/G  Def Tot/Pts  ...  \\\n",
       "0         3005       187.8        4209      263.1          357  ...   \n",
       "1         4509       281.8        5906      369.1          299  ...   \n",
       "2         3739       233.7        5640      352.5          344  ...   \n",
       "3         3269       204.3        5486      342.9          435  ...   \n",
       "4         3683       230.2        5771      360.7          363  ...   \n",
       "\n",
       "   Def PassYds  Def PYds/G  Def TotYds  Def Yds/G  Year  Wins  Losses  Tie  \\\n",
       "0         3213       200.8        5405      337.8  2012     5      11  0.0   \n",
       "1         3878       242.4        5849      365.6  2012    13       3  0.0   \n",
       "2         3650       228.1        5615      350.9  2012    10       6  0.0   \n",
       "3         3473       217.1        5806      362.9  2012     6      10  0.0   \n",
       "4         3568       223.0        5329      333.1  2012     7       9  0.0   \n",
       "\n",
       "   Superbowl  SB Win  \n",
       "0         No      No  \n",
       "1         No      No  \n",
       "2        Yes     Yes  \n",
       "3         No      No  \n",
       "4         No      No  \n",
       "\n",
       "[5 rows x 23 columns]"
      ]
     },
     "execution_count": 3,
     "metadata": {},
     "output_type": "execute_result"
    }
   ],
   "source": [
    "nflptsgame.head()"
   ]
  },
  {
   "cell_type": "markdown",
   "id": "6b1512d6",
   "metadata": {},
   "source": [
    "## Calculating Descriptive Statistics by Team"
   ]
  },
  {
   "cell_type": "markdown",
   "id": "22ebd7aa",
   "metadata": {},
   "source": [
    "#### First filter the data by a single team - I will use the Seattle Seahawks, my favorite team, to start."
   ]
  },
  {
   "cell_type": "code",
   "execution_count": 4,
   "id": "06ba473a",
   "metadata": {},
   "outputs": [],
   "source": [
    "team_name = 'Seattle Seahawks'\n",
    "seahawks_data = nflptsgame[nflptsgame['Team'] == team_name]"
   ]
  },
  {
   "cell_type": "markdown",
   "id": "9c7fbdad",
   "metadata": {},
   "source": [
    "#### Display points per game by year for the Seahawks"
   ]
  },
  {
   "cell_type": "code",
   "execution_count": 5,
   "id": "40e03a9e",
   "metadata": {},
   "outputs": [
    {
     "name": "stdout",
     "output_type": "stream",
     "text": [
      "Year: 2012 \tOffense Points: 25.8\n",
      "Year: 2013 \tOffense Points: 26.1\n",
      "Year: 2014 \tOffense Points: 24.6\n",
      "Year: 2015 \tOffense Points: 26.4\n",
      "Year: 2016 \tOffense Points: 22.1\n",
      "Year: 2017 \tOffense Points: 22.9\n",
      "Year: 2018 \tOffense Points: 22.9\n",
      "Year: 2019 \tOffense Points: 25.3\n",
      "Year: 2020 \tOffense Points: 28.7\n",
      "Year: 2021 \tOffense Points: 23.2\n",
      "Year: 2022 \tOffense Points: 23.9\n"
     ]
    }
   ],
   "source": [
    "for year in seahawks_data['Year'].unique():\n",
    "    off_pts_game = seahawks_data.loc[seahawks_data['Year'] == year, 'Off Pts/G'].values[0]\n",
    "    print(\"Year:\", year, \"\\tOffense Points:\", off_pts_game)"
   ]
  },
  {
   "cell_type": "markdown",
   "id": "2a3cfcb9",
   "metadata": {},
   "source": [
    "#### What is the mean points per game for the Seahawks over all years?"
   ]
  },
  {
   "cell_type": "code",
   "execution_count": 6,
   "id": "5159fb94",
   "metadata": {},
   "outputs": [],
   "source": [
    "total_off_pts_game = seahawks_data['Off Pts/G'].mean()"
   ]
  },
  {
   "cell_type": "code",
   "execution_count": 7,
   "id": "63e48a39",
   "metadata": {},
   "outputs": [
    {
     "name": "stdout",
     "output_type": "stream",
     "text": [
      "24.718181818181815\n"
     ]
    }
   ],
   "source": [
    "print(total_off_pts_game)"
   ]
  },
  {
   "cell_type": "markdown",
   "id": "9133c454",
   "metadata": {},
   "source": [
    "#### Let's calculate several descriptive statistics on Offense Points per Game for the Seahawks"
   ]
  },
  {
   "cell_type": "code",
   "execution_count": 9,
   "id": "e16309ac",
   "metadata": {},
   "outputs": [
    {
     "name": "stdout",
     "output_type": "stream",
     "text": [
      "Seattle Seahawks Offense Points/Game Mean: 24.718181818181815\n",
      "Seattle Seahawks Offense Points/Game Median: 24.6\n",
      "Seattle Seahawks Offense Points/Game Standard Deviation: 1.9635774401933743\n",
      "Seattle Seahawks Offense Points/Game Variance: 3.855636363636364\n",
      "Seattle Seahawks Offense Points/Game Minimum: 22.1\n",
      "Seattle Seahawks Offense Points/Game Maximum: 28.7\n",
      "Seattle Seahawks Offense Points/Game Range: 6.599999999999998\n",
      "Seattle Seahawks Total Points/Game 2012-2022: 271.9\n"
     ]
    }
   ],
   "source": [
    "mean_value = seahawks_data['Off Pts/G'].mean()\n",
    "median_value = seahawks_data['Off Pts/G'].median()\n",
    "std_value = seahawks_data['Off Pts/G'].std()\n",
    "var_value = seahawks_data['Off Pts/G'].var()\n",
    "min_value = seahawks_data['Off Pts/G'].min()\n",
    "max_value = seahawks_data['Off Pts/G'].max()\n",
    "data_range = max_value - min_value\n",
    "total_points = seahawks_data['Off Pts/G'].sum()\n",
    "print(\"Seattle Seahawks Offense Points/Game Mean:\", mean_value)\n",
    "print(\"Seattle Seahawks Offense Points/Game Median:\", median_value)\n",
    "print(\"Seattle Seahawks Offense Points/Game Standard Deviation:\", std_value)\n",
    "print(\"Seattle Seahawks Offense Points/Game Variance:\", var_value)\n",
    "print(\"Seattle Seahawks Offense Points/Game Minimum:\", min_value)\n",
    "print(\"Seattle Seahawks Offense Points/Game Maximum:\", max_value)\n",
    "print(\"Seattle Seahawks Offense Points/Game Range:\", data_range)\n",
    "print(\"Seattle Seahawks Total Points/Game 2012-2022:\", total_points)"
   ]
  },
  {
   "cell_type": "markdown",
   "id": "aac38fff",
   "metadata": {},
   "source": [
    "#### Calculating all Teams Offense Points per game per year"
   ]
  },
  {
   "cell_type": "code",
   "execution_count": 10,
   "id": "46105bb4",
   "metadata": {},
   "outputs": [
    {
     "name": "stdout",
     "output_type": "stream",
     "text": [
      "Team: Arizona Cardinals \tYear: 2012 \tOffense Points per Game: 15.6\n",
      "Team: Arizona Cardinals \tYear: 2013 \tOffense Points per Game: 23.7\n",
      "Team: Arizona Cardinals \tYear: 2014 \tOffense Points per Game: 19.4\n",
      "Team: Arizona Cardinals \tYear: 2015 \tOffense Points per Game: 30.6\n",
      "Team: Arizona Cardinals \tYear: 2016 \tOffense Points per Game: 26.1\n",
      "Team: Arizona Cardinals \tYear: 2017 \tOffense Points per Game: 18.4\n",
      "Team: Arizona Cardinals \tYear: 2018 \tOffense Points per Game: 18.4\n",
      "Team: Arizona Cardinals \tYear: 2019 \tOffense Points per Game: 22.6\n",
      "Team: Arizona Cardinals \tYear: 2020 \tOffense Points per Game: 25.6\n",
      "Team: Arizona Cardinals \tYear: 2021 \tOffense Points per Game: 26.4\n",
      "Team: Arizona Cardinals \tYear: 2022 \tOffense Points per Game: 20.0\n",
      "Team: Atlanta Falcons \tYear: 2012 \tOffense Points per Game: 26.2\n",
      "Team: Atlanta Falcons \tYear: 2013 \tOffense Points per Game: 22.1\n",
      "Team: Atlanta Falcons \tYear: 2014 \tOffense Points per Game: 23.8\n",
      "Team: Atlanta Falcons \tYear: 2015 \tOffense Points per Game: 21.2\n",
      "Team: Atlanta Falcons \tYear: 2016 \tOffense Points per Game: 33.8\n",
      "Team: Atlanta Falcons \tYear: 2017 \tOffense Points per Game: 22.1\n",
      "Team: Atlanta Falcons \tYear: 2018 \tOffense Points per Game: 22.1\n",
      "Team: Atlanta Falcons \tYear: 2019 \tOffense Points per Game: 23.8\n",
      "Team: Atlanta Falcons \tYear: 2020 \tOffense Points per Game: 24.8\n",
      "Team: Atlanta Falcons \tYear: 2021 \tOffense Points per Game: 18.4\n",
      "Team: Atlanta Falcons \tYear: 2022 \tOffense Points per Game: 21.5\n",
      "Team: Baltimore Ravens \tYear: 2012 \tOffense Points per Game: 24.9\n",
      "Team: Baltimore Ravens \tYear: 2013 \tOffense Points per Game: 20.0\n",
      "Team: Baltimore Ravens \tYear: 2014 \tOffense Points per Game: 25.6\n",
      "Team: Baltimore Ravens \tYear: 2015 \tOffense Points per Game: 20.5\n",
      "Team: Baltimore Ravens \tYear: 2016 \tOffense Points per Game: 21.4\n",
      "Team: Baltimore Ravens \tYear: 2017 \tOffense Points per Game: 24.7\n",
      "Team: Baltimore Ravens \tYear: 2018 \tOffense Points per Game: 24.7\n",
      "Team: Baltimore Ravens \tYear: 2019 \tOffense Points per Game: 33.2\n",
      "Team: Baltimore Ravens \tYear: 2020 \tOffense Points per Game: 29.2\n",
      "Team: Baltimore Ravens \tYear: 2021 \tOffense Points per Game: 22.8\n",
      "Team: Baltimore Ravens \tYear: 2022 \tOffense Points per Game: 20.6\n",
      "Team: Buffalo Bills \tYear: 2012 \tOffense Points per Game: 21.5\n",
      "Team: Buffalo Bills \tYear: 2013 \tOffense Points per Game: 21.2\n",
      "Team: Buffalo Bills \tYear: 2014 \tOffense Points per Game: 21.4\n",
      "Team: Buffalo Bills \tYear: 2015 \tOffense Points per Game: 23.7\n",
      "Team: Buffalo Bills \tYear: 2016 \tOffense Points per Game: 24.9\n",
      "Team: Buffalo Bills \tYear: 2017 \tOffense Points per Game: 18.9\n",
      "Team: Buffalo Bills \tYear: 2018 \tOffense Points per Game: 18.9\n",
      "Team: Buffalo Bills \tYear: 2019 \tOffense Points per Game: 19.6\n",
      "Team: Buffalo Bills \tYear: 2020 \tOffense Points per Game: 31.3\n",
      "Team: Buffalo Bills \tYear: 2021 \tOffense Points per Game: 28.4\n",
      "Team: Buffalo Bills \tYear: 2022 \tOffense Points per Game: 28.4\n",
      "Team: Carolina Panthers \tYear: 2012 \tOffense Points per Game: 22.3\n",
      "Team: Carolina Panthers \tYear: 2013 \tOffense Points per Game: 22.9\n",
      "Team: Carolina Panthers \tYear: 2014 \tOffense Points per Game: 21.2\n",
      "Team: Carolina Panthers \tYear: 2015 \tOffense Points per Game: 31.2\n",
      "Team: Carolina Panthers \tYear: 2016 \tOffense Points per Game: 23.1\n",
      "Team: Carolina Panthers \tYear: 2017 \tOffense Points per Game: 22.7\n",
      "Team: Carolina Panthers \tYear: 2018 \tOffense Points per Game: 22.7\n",
      "Team: Carolina Panthers \tYear: 2019 \tOffense Points per Game: 21.2\n",
      "Team: Carolina Panthers \tYear: 2020 \tOffense Points per Game: 21.9\n",
      "Team: Carolina Panthers \tYear: 2021 \tOffense Points per Game: 17.9\n",
      "Team: Carolina Panthers \tYear: 2022 \tOffense Points per Game: 20.4\n",
      "Team: Chicago Bears \tYear: 2012 \tOffense Points per Game: 23.4\n",
      "Team: Chicago Bears \tYear: 2013 \tOffense Points per Game: 27.8\n",
      "Team: Chicago Bears \tYear: 2014 \tOffense Points per Game: 19.9\n",
      "Team: Chicago Bears \tYear: 2015 \tOffense Points per Game: 20.9\n",
      "Team: Chicago Bears \tYear: 2016 \tOffense Points per Game: 17.4\n",
      "Team: Chicago Bears \tYear: 2017 \tOffense Points per Game: 16.5\n",
      "Team: Chicago Bears \tYear: 2018 \tOffense Points per Game: 16.5\n",
      "Team: Chicago Bears \tYear: 2019 \tOffense Points per Game: 17.5\n",
      "Team: Chicago Bears \tYear: 2020 \tOffense Points per Game: 23.2\n",
      "Team: Chicago Bears \tYear: 2021 \tOffense Points per Game: 18.3\n",
      "Team: Chicago Bears \tYear: 2022 \tOffense Points per Game: 19.2\n",
      "Team: Cincinnati Bengals \tYear: 2012 \tOffense Points per Game: 24.4\n",
      "Team: Cincinnati Bengals \tYear: 2013 \tOffense Points per Game: 26.9\n",
      "Team: Cincinnati Bengals \tYear: 2014 \tOffense Points per Game: 22.8\n",
      "Team: Cincinnati Bengals \tYear: 2015 \tOffense Points per Game: 26.2\n",
      "Team: Cincinnati Bengals \tYear: 2016 \tOffense Points per Game: 20.3\n",
      "Team: Cincinnati Bengals \tYear: 2017 \tOffense Points per Game: 18.1\n",
      "Team: Cincinnati Bengals \tYear: 2018 \tOffense Points per Game: 18.1\n",
      "Team: Cincinnati Bengals \tYear: 2019 \tOffense Points per Game: 17.4\n",
      "Team: Cincinnati Bengals \tYear: 2020 \tOffense Points per Game: 19.4\n",
      "Team: Cincinnati Bengals \tYear: 2021 \tOffense Points per Game: 27.1\n",
      "Team: Cincinnati Bengals \tYear: 2022 \tOffense Points per Game: 26.1\n",
      "Team: Cleveland Browns \tYear: 2012 \tOffense Points per Game: 18.9\n",
      "Team: Cleveland Browns \tYear: 2013 \tOffense Points per Game: 19.2\n",
      "Team: Cleveland Browns \tYear: 2014 \tOffense Points per Game: 18.7\n",
      "Team: Cleveland Browns \tYear: 2015 \tOffense Points per Game: 17.4\n",
      "Team: Cleveland Browns \tYear: 2016 \tOffense Points per Game: 16.5\n",
      "Team: Cleveland Browns \tYear: 2017 \tOffense Points per Game: 14.6\n",
      "Team: Cleveland Browns \tYear: 2018 \tOffense Points per Game: 14.6\n",
      "Team: Cleveland Browns \tYear: 2019 \tOffense Points per Game: 20.9\n",
      "Team: Cleveland Browns \tYear: 2020 \tOffense Points per Game: 25.5\n",
      "Team: Cleveland Browns \tYear: 2021 \tOffense Points per Game: 20.5\n",
      "Team: Cleveland Browns \tYear: 2022 \tOffense Points per Game: 21.2\n",
      "Team: Dallas Cowboys \tYear: 2012 \tOffense Points per Game: 23.5\n",
      "Team: Dallas Cowboys \tYear: 2013 \tOffense Points per Game: 27.4\n",
      "Team: Dallas Cowboys \tYear: 2014 \tOffense Points per Game: 29.2\n",
      "Team: Dallas Cowboys \tYear: 2015 \tOffense Points per Game: 17.2\n",
      "Team: Dallas Cowboys \tYear: 2016 \tOffense Points per Game: 26.3\n",
      "Team: Dallas Cowboys \tYear: 2017 \tOffense Points per Game: 22.1\n",
      "Team: Dallas Cowboys \tYear: 2018 \tOffense Points per Game: 22.1\n",
      "Team: Dallas Cowboys \tYear: 2019 \tOffense Points per Game: 27.1\n",
      "Team: Dallas Cowboys \tYear: 2020 \tOffense Points per Game: 24.7\n",
      "Team: Dallas Cowboys \tYear: 2021 \tOffense Points per Game: 31.2\n",
      "Team: Dallas Cowboys \tYear: 2022 \tOffense Points per Game: 27.5\n",
      "Team: Denver Broncos \tYear: 2012 \tOffense Points per Game: 30.1\n",
      "Team: Denver Broncos \tYear: 2013 \tOffense Points per Game: 37.9\n",
      "Team: Denver Broncos \tYear: 2014 \tOffense Points per Game: 30.1\n",
      "Team: Denver Broncos \tYear: 2015 \tOffense Points per Game: 22.2\n",
      "Team: Denver Broncos \tYear: 2016 \tOffense Points per Game: 20.8\n",
      "Team: Denver Broncos \tYear: 2017 \tOffense Points per Game: 18.1\n",
      "Team: Denver Broncos \tYear: 2018 \tOffense Points per Game: 18.1\n",
      "Team: Denver Broncos \tYear: 2019 \tOffense Points per Game: 17.6\n",
      "Team: Denver Broncos \tYear: 2020 \tOffense Points per Game: 20.2\n",
      "Team: Denver Broncos \tYear: 2021 \tOffense Points per Game: 19.7\n",
      "Team: Denver Broncos \tYear: 2022 \tOffense Points per Game: 16.9\n",
      "Team: Detroit Lions \tYear: 2012 \tOffense Points per Game: 23.2\n",
      "Team: Detroit Lions \tYear: 2013 \tOffense Points per Game: 24.7\n",
      "Team: Detroit Lions \tYear: 2014 \tOffense Points per Game: 20.1\n",
      "Team: Detroit Lions \tYear: 2015 \tOffense Points per Game: 22.4\n",
      "Team: Detroit Lions \tYear: 2016 \tOffense Points per Game: 21.6\n",
      "Team: Detroit Lions \tYear: 2017 \tOffense Points per Game: 25.6\n",
      "Team: Detroit Lions \tYear: 2018 \tOffense Points per Game: 25.6\n",
      "Team: Detroit Lions \tYear: 2019 \tOffense Points per Game: 21.3\n",
      "Team: Detroit Lions \tYear: 2020 \tOffense Points per Game: 23.6\n",
      "Team: Detroit Lions \tYear: 2021 \tOffense Points per Game: 19.1\n",
      "Team: Detroit Lions \tYear: 2022 \tOffense Points per Game: 26.6\n",
      "Team: Green Bay Packers \tYear: 2012 \tOffense Points per Game: 27.1\n",
      "Team: Green Bay Packers \tYear: 2013 \tOffense Points per Game: 26.1\n",
      "Team: Green Bay Packers \tYear: 2014 \tOffense Points per Game: 30.4\n",
      "Team: Green Bay Packers \tYear: 2015 \tOffense Points per Game: 23.0\n",
      "Team: Green Bay Packers \tYear: 2016 \tOffense Points per Game: 27.0\n",
      "Team: Green Bay Packers \tYear: 2017 \tOffense Points per Game: 20.0\n",
      "Team: Green Bay Packers \tYear: 2018 \tOffense Points per Game: 20.0\n",
      "Team: Green Bay Packers \tYear: 2019 \tOffense Points per Game: 23.5\n",
      "Team: Green Bay Packers \tYear: 2020 \tOffense Points per Game: 31.8\n",
      "Team: Green Bay Packers \tYear: 2021 \tOffense Points per Game: 26.5\n",
      "Team: Green Bay Packers \tYear: 2022 \tOffense Points per Game: 21.8\n",
      "Team: Houston Texans \tYear: 2012 \tOffense Points per Game: 26.0\n",
      "Team: Houston Texans \tYear: 2013 \tOffense Points per Game: 17.2\n",
      "Team: Houston Texans \tYear: 2014 \tOffense Points per Game: 23.2\n",
      "Team: Houston Texans \tYear: 2015 \tOffense Points per Game: 21.2\n",
      "Team: Houston Texans \tYear: 2016 \tOffense Points per Game: 17.4\n",
      "Team: Houston Texans \tYear: 2017 \tOffense Points per Game: 21.1\n",
      "Team: Houston Texans \tYear: 2018 \tOffense Points per Game: 21.1\n",
      "Team: Houston Texans \tYear: 2019 \tOffense Points per Game: 23.6\n",
      "Team: Houston Texans \tYear: 2020 \tOffense Points per Game: 24.0\n",
      "Team: Houston Texans \tYear: 2021 \tOffense Points per Game: 16.5\n",
      "Team: Houston Texans \tYear: 2022 \tOffense Points per Game: 17.0\n",
      "Team: Indianapolis Colts \tYear: 2012 \tOffense Points per Game: 22.3\n",
      "Team: Indianapolis Colts \tYear: 2013 \tOffense Points per Game: 24.4\n",
      "Team: Indianapolis Colts \tYear: 2014 \tOffense Points per Game: 28.6\n",
      "Team: Indianapolis Colts \tYear: 2015 \tOffense Points per Game: 20.8\n",
      "Team: Indianapolis Colts \tYear: 2016 \tOffense Points per Game: 25.7\n",
      "Team: Indianapolis Colts \tYear: 2017 \tOffense Points per Game: 16.4\n",
      "Team: Indianapolis Colts \tYear: 2018 \tOffense Points per Game: 16.4\n",
      "Team: Indianapolis Colts \tYear: 2019 \tOffense Points per Game: 22.6\n",
      "Team: Indianapolis Colts \tYear: 2020 \tOffense Points per Game: 28.2\n",
      "Team: Indianapolis Colts \tYear: 2021 \tOffense Points per Game: 26.5\n",
      "Team: Indianapolis Colts \tYear: 2022 \tOffense Points per Game: 17.0\n",
      "Team: Jacksonville Jaguars \tYear: 2012 \tOffense Points per Game: 15.9\n",
      "Team: Jacksonville Jaguars \tYear: 2013 \tOffense Points per Game: 15.4\n",
      "Team: Jacksonville Jaguars \tYear: 2014 \tOffense Points per Game: 15.6\n",
      "Team: Jacksonville Jaguars \tYear: 2015 \tOffense Points per Game: 23.5\n",
      "Team: Jacksonville Jaguars \tYear: 2016 \tOffense Points per Game: 19.9\n",
      "Team: Jacksonville Jaguars \tYear: 2017 \tOffense Points per Game: 26.1\n",
      "Team: Jacksonville Jaguars \tYear: 2018 \tOffense Points per Game: 26.1\n",
      "Team: Jacksonville Jaguars \tYear: 2019 \tOffense Points per Game: 18.8\n",
      "Team: Jacksonville Jaguars \tYear: 2020 \tOffense Points per Game: 19.1\n",
      "Team: Jacksonville Jaguars \tYear: 2021 \tOffense Points per Game: 14.9\n",
      "Team: Jacksonville Jaguars \tYear: 2022 \tOffense Points per Game: 23.8\n",
      "Team: Kansas City Chiefs \tYear: 2012 \tOffense Points per Game: 13.2\n",
      "Team: Kansas City Chiefs \tYear: 2013 \tOffense Points per Game: 26.9\n",
      "Team: Kansas City Chiefs \tYear: 2014 \tOffense Points per Game: 22.1\n",
      "Team: Kansas City Chiefs \tYear: 2015 \tOffense Points per Game: 25.3\n",
      "Team: Kansas City Chiefs \tYear: 2016 \tOffense Points per Game: 24.3\n",
      "Team: Kansas City Chiefs \tYear: 2017 \tOffense Points per Game: 25.9\n",
      "Team: Kansas City Chiefs \tYear: 2018 \tOffense Points per Game: 25.9\n",
      "Team: Kansas City Chiefs \tYear: 2019 \tOffense Points per Game: 28.2\n",
      "Team: Kansas City Chiefs \tYear: 2020 \tOffense Points per Game: 29.6\n",
      "Team: Kansas City Chiefs \tYear: 2021 \tOffense Points per Game: 28.2\n",
      "Team: Kansas City Chiefs \tYear: 2022 \tOffense Points per Game: 29.2\n",
      "Team: Las Vegas Raiders \tYear: 2012 \tOffense Points per Game: 18.1\n",
      "Team: Las Vegas Raiders \tYear: 2013 \tOffense Points per Game: 20.1\n",
      "Team: Las Vegas Raiders \tYear: 2014 \tOffense Points per Game: 15.8\n",
      "Team: Las Vegas Raiders \tYear: 2015 \tOffense Points per Game: 22.4\n",
      "Team: Las Vegas Raiders \tYear: 2016 \tOffense Points per Game: 26.0\n",
      "Team: Las Vegas Raiders \tYear: 2017 \tOffense Points per Game: 18.8\n",
      "Team: Las Vegas Raiders \tYear: 2018 \tOffense Points per Game: 18.8\n",
      "Team: Las Vegas Raiders \tYear: 2019 \tOffense Points per Game: 19.6\n",
      "Team: Las Vegas Raiders \tYear: 2020 \tOffense Points per Game: 27.1\n",
      "Team: Las Vegas Raiders \tYear: 2021 \tOffense Points per Game: 22.0\n",
      "Team: Las Vegas Raiders \tYear: 2022 \tOffense Points per Game: 23.2\n",
      "Team: Los Angeles Chargers \tYear: 2012 \tOffense Points per Game: 21.9\n",
      "Team: Los Angeles Chargers \tYear: 2013 \tOffense Points per Game: 24.8\n",
      "Team: Los Angeles Chargers \tYear: 2014 \tOffense Points per Game: 21.8\n",
      "Team: Los Angeles Chargers \tYear: 2015 \tOffense Points per Game: 20.0\n",
      "Team: Los Angeles Chargers \tYear: 2016 \tOffense Points per Game: 25.6\n",
      "Team: Los Angeles Chargers \tYear: 2017 \tOffense Points per Game: 22.2\n",
      "Team: Los Angeles Chargers \tYear: 2018 \tOffense Points per Game: 22.2\n",
      "Team: Los Angeles Chargers \tYear: 2019 \tOffense Points per Game: 21.1\n",
      "Team: Los Angeles Chargers \tYear: 2020 \tOffense Points per Game: 24.0\n",
      "Team: Los Angeles Chargers \tYear: 2021 \tOffense Points per Game: 27.9\n",
      "Team: Los Angeles Chargers \tYear: 2022 \tOffense Points per Game: 23.0\n",
      "Team: Los Angeles Rams \tYear: 2012 \tOffense Points per Game: 18.7\n",
      "Team: Los Angeles Rams \tYear: 2013 \tOffense Points per Game: 21.8\n",
      "Team: Los Angeles Rams \tYear: 2014 \tOffense Points per Game: 20.2\n",
      "Team: Los Angeles Rams \tYear: 2015 \tOffense Points per Game: 17.5\n",
      "Team: Los Angeles Rams \tYear: 2016 \tOffense Points per Game: 14.0\n",
      "Team: Los Angeles Rams \tYear: 2017 \tOffense Points per Game: 29.9\n",
      "Team: Los Angeles Rams \tYear: 2018 \tOffense Points per Game: 29.9\n",
      "Team: Los Angeles Rams \tYear: 2019 \tOffense Points per Game: 24.6\n",
      "Team: Los Angeles Rams \tYear: 2020 \tOffense Points per Game: 23.2\n",
      "Team: Los Angeles Rams \tYear: 2021 \tOffense Points per Game: 27.1\n",
      "Team: Los Angeles Rams \tYear: 2022 \tOffense Points per Game: 18.1\n",
      "Team: Miami Dolphins \tYear: 2012 \tOffense Points per Game: 18.0\n",
      "Team: Miami Dolphins \tYear: 2013 \tOffense Points per Game: 19.8\n",
      "Team: Miami Dolphins \tYear: 2014 \tOffense Points per Game: 24.2\n",
      "Team: Miami Dolphins \tYear: 2015 \tOffense Points per Game: 19.4\n",
      "Team: Miami Dolphins \tYear: 2016 \tOffense Points per Game: 22.7\n",
      "Team: Miami Dolphins \tYear: 2017 \tOffense Points per Game: 17.6\n",
      "Team: Miami Dolphins \tYear: 2018 \tOffense Points per Game: 17.6\n",
      "Team: Miami Dolphins \tYear: 2019 \tOffense Points per Game: 19.1\n",
      "Team: Miami Dolphins \tYear: 2020 \tOffense Points per Game: 25.2\n",
      "Team: Miami Dolphins \tYear: 2021 \tOffense Points per Game: 20.1\n",
      "Team: Miami Dolphins \tYear: 2022 \tOffense Points per Game: 23.4\n",
      "Team: Minnesota Vikings \tYear: 2012 \tOffense Points per Game: 23.7\n",
      "Team: Minnesota Vikings \tYear: 2013 \tOffense Points per Game: 24.4\n",
      "Team: Minnesota Vikings \tYear: 2014 \tOffense Points per Game: 20.3\n",
      "Team: Minnesota Vikings \tYear: 2015 \tOffense Points per Game: 22.8\n",
      "Team: Minnesota Vikings \tYear: 2016 \tOffense Points per Game: 20.4\n",
      "Team: Minnesota Vikings \tYear: 2017 \tOffense Points per Game: 23.9\n",
      "Team: Minnesota Vikings \tYear: 2018 \tOffense Points per Game: 23.9\n",
      "Team: Minnesota Vikings \tYear: 2019 \tOffense Points per Game: 25.4\n",
      "Team: Minnesota Vikings \tYear: 2020 \tOffense Points per Game: 26.9\n",
      "Team: Minnesota Vikings \tYear: 2021 \tOffense Points per Game: 25.0\n",
      "Team: Minnesota Vikings \tYear: 2022 \tOffense Points per Game: 24.9\n",
      "Team: New England Patriots \tYear: 2012 \tOffense Points per Game: 34.8\n",
      "Team: New England Patriots \tYear: 2013 \tOffense Points per Game: 27.8\n",
      "Team: New England Patriots \tYear: 2014 \tOffense Points per Game: 29.2\n",
      "Team: New England Patriots \tYear: 2015 \tOffense Points per Game: 29.1\n",
      "Team: New England Patriots \tYear: 2016 \tOffense Points per Game: 27.6\n",
      "Team: New England Patriots \tYear: 2017 \tOffense Points per Game: 28.6\n",
      "Team: New England Patriots \tYear: 2018 \tOffense Points per Game: 28.6\n",
      "Team: New England Patriots \tYear: 2019 \tOffense Points per Game: 26.2\n",
      "Team: New England Patriots \tYear: 2020 \tOffense Points per Game: 20.4\n",
      "Team: New England Patriots \tYear: 2021 \tOffense Points per Game: 27.2\n",
      "Team: New England Patriots \tYear: 2022 \tOffense Points per Game: 21.4\n",
      "Team: New Orleans Saints \tYear: 2012 \tOffense Points per Game: 28.8\n",
      "Team: New Orleans Saints \tYear: 2013 \tOffense Points per Game: 25.9\n",
      "Team: New Orleans Saints \tYear: 2014 \tOffense Points per Game: 25.1\n",
      "Team: New Orleans Saints \tYear: 2015 \tOffense Points per Game: 25.5\n",
      "Team: New Orleans Saints \tYear: 2016 \tOffense Points per Game: 29.3\n",
      "Team: New Orleans Saints \tYear: 2017 \tOffense Points per Game: 28.0\n",
      "Team: New Orleans Saints \tYear: 2019 \tOffense Points per Game: 28.6\n",
      "Team: New Orleans Saints \tYear: 2020 \tOffense Points per Game: 30.1\n",
      "Team: New Orleans Saints \tYear: 2021 \tOffense Points per Game: 21.4\n",
      "Team: New Orleans Saints \tYear: 2022 \tOffense Points per Game: 19.4\n",
      "Team: New York Giants \tYear: 2012 \tOffense Points per Game: 26.8\n",
      "Team: New York Giants \tYear: 2013 \tOffense Points per Game: 18.4\n",
      "Team: New York Giants \tYear: 2014 \tOffense Points per Game: 23.8\n",
      "Team: New York Giants \tYear: 2015 \tOffense Points per Game: 26.2\n",
      "Team: New York Giants \tYear: 2016 \tOffense Points per Game: 19.4\n",
      "Team: New York Giants \tYear: 2017 \tOffense Points per Game: 15.4\n",
      "Team: New York Giants \tYear: 2018 \tOffense Points per Game: 15.4\n",
      "Team: New York Giants \tYear: 2019 \tOffense Points per Game: 21.3\n",
      "Team: New York Giants \tYear: 2020 \tOffense Points per Game: 17.5\n",
      "Team: New York Giants \tYear: 2021 \tOffense Points per Game: 15.2\n",
      "Team: New York Giants \tYear: 2022 \tOffense Points per Game: 21.5\n",
      "Team: New York Jets \tYear: 2012 \tOffense Points per Game: 17.6\n",
      "Team: New York Jets \tYear: 2013 \tOffense Points per Game: 18.1\n",
      "Team: New York Jets \tYear: 2014 \tOffense Points per Game: 17.7\n",
      "Team: New York Jets \tYear: 2015 \tOffense Points per Game: 24.2\n",
      "Team: New York Jets \tYear: 2016 \tOffense Points per Game: 17.2\n",
      "Team: New York Jets \tYear: 2017 \tOffense Points per Game: 18.6\n",
      "Team: New York Jets \tYear: 2018 \tOffense Points per Game: 18.6\n",
      "Team: New York Jets \tYear: 2019 \tOffense Points per Game: 17.2\n",
      "Team: New York Jets \tYear: 2020 \tOffense Points per Game: 15.2\n",
      "Team: New York Jets \tYear: 2021 \tOffense Points per Game: 18.2\n",
      "Team: New York Jets \tYear: 2022 \tOffense Points per Game: 17.4\n",
      "Team: Philadelphia Eagles \tYear: 2012 \tOffense Points per Game: 17.5\n",
      "Team: Philadelphia Eagles \tYear: 2013 \tOffense Points per Game: 27.6\n",
      "Team: Philadelphia Eagles \tYear: 2014 \tOffense Points per Game: 29.6\n",
      "Team: Philadelphia Eagles \tYear: 2015 \tOffense Points per Game: 23.6\n",
      "Team: Philadelphia Eagles \tYear: 2016 \tOffense Points per Game: 22.9\n",
      "Team: Philadelphia Eagles \tYear: 2017 \tOffense Points per Game: 28.6\n",
      "Team: Philadelphia Eagles \tYear: 2018 \tOffense Points per Game: 28.6\n",
      "Team: Philadelphia Eagles \tYear: 2019 \tOffense Points per Game: 24.1\n",
      "Team: Philadelphia Eagles \tYear: 2020 \tOffense Points per Game: 20.9\n",
      "Team: Philadelphia Eagles \tYear: 2021 \tOffense Points per Game: 26.1\n",
      "Team: Philadelphia Eagles \tYear: 2022 \tOffense Points per Game: 28.1\n",
      "Team: Pittsburgh Steelers \tYear: 2012 \tOffense Points per Game: 21.0\n",
      "Team: Pittsburgh Steelers \tYear: 2013 \tOffense Points per Game: 23.7\n",
      "Team: Pittsburgh Steelers \tYear: 2014 \tOffense Points per Game: 27.2\n",
      "Team: Pittsburgh Steelers \tYear: 2015 \tOffense Points per Game: 26.4\n",
      "Team: Pittsburgh Steelers \tYear: 2016 \tOffense Points per Game: 24.9\n",
      "Team: Pittsburgh Steelers \tYear: 2017 \tOffense Points per Game: 25.4\n",
      "Team: Pittsburgh Steelers \tYear: 2018 \tOffense Points per Game: 25.4\n",
      "Team: Pittsburgh Steelers \tYear: 2019 \tOffense Points per Game: 18.1\n",
      "Team: Pittsburgh Steelers \tYear: 2020 \tOffense Points per Game: 26.0\n",
      "Team: Pittsburgh Steelers \tYear: 2021 \tOffense Points per Game: 20.2\n",
      "Team: Pittsburgh Steelers \tYear: 2022 \tOffense Points per Game: 18.1\n",
      "Team: San Francisco 49ers \tYear: 2012 \tOffense Points per Game: 24.8\n",
      "Team: San Francisco 49ers \tYear: 2013 \tOffense Points per Game: 25.4\n",
      "Team: San Francisco 49ers \tYear: 2014 \tOffense Points per Game: 19.1\n",
      "Team: San Francisco 49ers \tYear: 2015 \tOffense Points per Game: 14.9\n",
      "Team: San Francisco 49ers \tYear: 2016 \tOffense Points per Game: 19.3\n",
      "Team: San Francisco 49ers \tYear: 2017 \tOffense Points per Game: 20.7\n",
      "Team: San Francisco 49ers \tYear: 2018 \tOffense Points per Game: 20.7\n",
      "Team: San Francisco 49ers \tYear: 2019 \tOffense Points per Game: 29.9\n",
      "Team: San Francisco 49ers \tYear: 2020 \tOffense Points per Game: 23.5\n",
      "Team: San Francisco 49ers \tYear: 2021 \tOffense Points per Game: 25.1\n",
      "Team: San Francisco 49ers \tYear: 2022 \tOffense Points per Game: 26.5\n",
      "Team: Seattle Seahawks \tYear: 2012 \tOffense Points per Game: 25.8\n",
      "Team: Seattle Seahawks \tYear: 2013 \tOffense Points per Game: 26.1\n",
      "Team: Seattle Seahawks \tYear: 2014 \tOffense Points per Game: 24.6\n",
      "Team: Seattle Seahawks \tYear: 2015 \tOffense Points per Game: 26.4\n",
      "Team: Seattle Seahawks \tYear: 2016 \tOffense Points per Game: 22.1\n",
      "Team: Seattle Seahawks \tYear: 2017 \tOffense Points per Game: 22.9\n",
      "Team: Seattle Seahawks \tYear: 2018 \tOffense Points per Game: 22.9\n",
      "Team: Seattle Seahawks \tYear: 2019 \tOffense Points per Game: 25.3\n",
      "Team: Seattle Seahawks \tYear: 2020 \tOffense Points per Game: 28.7\n",
      "Team: Seattle Seahawks \tYear: 2021 \tOffense Points per Game: 23.2\n",
      "Team: Seattle Seahawks \tYear: 2022 \tOffense Points per Game: 23.9\n",
      "Team: Tampa Bay Buccaneers \tYear: 2012 \tOffense Points per Game: 24.3\n",
      "Team: Tampa Bay Buccaneers \tYear: 2013 \tOffense Points per Game: 18.0\n",
      "Team: Tampa Bay Buccaneers \tYear: 2014 \tOffense Points per Game: 17.3\n",
      "Team: Tampa Bay Buccaneers \tYear: 2015 \tOffense Points per Game: 21.4\n",
      "Team: Tampa Bay Buccaneers \tYear: 2016 \tOffense Points per Game: 22.1\n",
      "Team: Tampa Bay Buccaneers \tYear: 2017 \tOffense Points per Game: 20.9\n",
      "Team: Tampa Bay Buccaneers \tYear: 2018 \tOffense Points per Game: 20.9\n",
      "Team: Tampa Bay Buccaneers \tYear: 2019 \tOffense Points per Game: 28.6\n",
      "Team: Tampa Bay Buccaneers \tYear: 2020 \tOffense Points per Game: 30.8\n",
      "Team: Tampa Bay Buccaneers \tYear: 2021 \tOffense Points per Game: 30.1\n",
      "Team: Tampa Bay Buccaneers \tYear: 2022 \tOffense Points per Game: 18.4\n",
      "Team: Tennessee Titans \tYear: 2012 \tOffense Points per Game: 20.6\n",
      "Team: Tennessee Titans \tYear: 2013 \tOffense Points per Game: 22.6\n",
      "Team: Tennessee Titans \tYear: 2014 \tOffense Points per Game: 15.9\n",
      "Team: Tennessee Titans \tYear: 2015 \tOffense Points per Game: 18.7\n",
      "Team: Tennessee Titans \tYear: 2016 \tOffense Points per Game: 23.8\n",
      "Team: Tennessee Titans \tYear: 2017 \tOffense Points per Game: 20.9\n",
      "Team: Tennessee Titans \tYear: 2018 \tOffense Points per Game: 20.9\n",
      "Team: Tennessee Titans \tYear: 2019 \tOffense Points per Game: 25.1\n",
      "Team: Tennessee Titans \tYear: 2020 \tOffense Points per Game: 30.7\n",
      "Team: Tennessee Titans \tYear: 2021 \tOffense Points per Game: 24.6\n",
      "Team: Tennessee Titans \tYear: 2022 \tOffense Points per Game: 17.5\n",
      "Team: Washington Commanders \tYear: 2012 \tOffense Points per Game: 27.2\n",
      "Team: Washington Commanders \tYear: 2013 \tOffense Points per Game: 20.9\n",
      "Team: Washington Commanders \tYear: 2014 \tOffense Points per Game: 18.8\n",
      "Team: Washington Commanders \tYear: 2015 \tOffense Points per Game: 24.2\n",
      "Team: Washington Commanders \tYear: 2016 \tOffense Points per Game: 24.8\n",
      "Team: Washington Commanders \tYear: 2017 \tOffense Points per Game: 21.4\n",
      "Team: Washington Commanders \tYear: 2018 \tOffense Points per Game: 21.4\n",
      "Team: Washington Commanders \tYear: 2019 \tOffense Points per Game: 16.6\n",
      "Team: Washington Commanders \tYear: 2020 \tOffense Points per Game: 20.9\n",
      "Team: Washington Commanders \tYear: 2021 \tOffense Points per Game: 19.7\n",
      "Team: Washington Commanders \tYear: 2022 \tOffense Points per Game: 18.9\n"
     ]
    }
   ],
   "source": [
    "team_names = nflptsgame['Team'].unique()\n",
    "\n",
    "# Iterate over each team\n",
    "for team_name in team_names:\n",
    "    team_data = nflptsgame[nflptsgame['Team'] == team_name]\n",
    "    \n",
    "    # Display the total offense points for each year\n",
    "    for year in team_data['Year'].unique():\n",
    "        team_off_pts_game = team_data.loc[team_data['Year'] == year, 'Off Pts/G'].values[0]\n",
    "        print(\"Team:\", team_name, \"\\tYear:\", year, \"\\tOffense Points per Game:\", team_off_pts_game)"
   ]
  },
  {
   "cell_type": "markdown",
   "id": "f9c5af35",
   "metadata": {},
   "source": [
    "#### Calculate Descriptive Statistics on Offense Points per Game for all Teams. These statistics are the Offense Points per game and their mean, median, standard deviation, variance, min, max, range, and sum."
   ]
  },
  {
   "cell_type": "markdown",
   "id": "14245f4d",
   "metadata": {},
   "source": [
    "### Arizona Cardinals"
   ]
  },
  {
   "cell_type": "code",
   "execution_count": 11,
   "id": "a9b8eeec",
   "metadata": {},
   "outputs": [
    {
     "name": "stdout",
     "output_type": "stream",
     "text": [
      "Arizona Cardinals Offense Points/Game Mean: 22.436363636363637\n",
      "Arizona Cardinals Offense Points/Game Median: 22.6\n",
      "Arizona Cardinals Offense Points/Game Standard Deviation: 4.493166528690591\n",
      "Arizona Cardinals Offense Points/Game Variance: 20.188545454545462\n",
      "Arizona Cardinals Offense Points/Game Minimum: 15.6\n",
      "Arizona Cardinals Offense Points/Game Maximum: 30.6\n",
      "Arizona Cardinals Offense Points/Game Range: 15.000000000000002\n",
      "Arizona Cardinals Total Points/Game 2012-2022: 246.8\n"
     ]
    }
   ],
   "source": [
    "team_name1 = 'Arizona Cardinals'\n",
    "cardinals_data = nflptsgame[nflptsgame['Team'] == team_name1]\n",
    "mean_value = cardinals_data['Off Pts/G'].mean()\n",
    "median_value = cardinals_data['Off Pts/G'].median()\n",
    "std_value = cardinals_data['Off Pts/G'].std()\n",
    "var_value = cardinals_data['Off Pts/G'].var()\n",
    "min_value = cardinals_data['Off Pts/G'].min()\n",
    "max_value = cardinals_data['Off Pts/G'].max()\n",
    "data_range = max_value - min_value\n",
    "total_points = cardinals_data['Off Pts/G'].sum()\n",
    "print(\"Arizona Cardinals Offense Points/Game Mean:\", mean_value)\n",
    "print(\"Arizona Cardinals Offense Points/Game Median:\", median_value)\n",
    "print(\"Arizona Cardinals Offense Points/Game Standard Deviation:\", std_value)\n",
    "print(\"Arizona Cardinals Offense Points/Game Variance:\", var_value)\n",
    "print(\"Arizona Cardinals Offense Points/Game Minimum:\", min_value)\n",
    "print(\"Arizona Cardinals Offense Points/Game Maximum:\", max_value)\n",
    "print(\"Arizona Cardinals Offense Points/Game Range:\", data_range)\n",
    "print(\"Arizona Cardinals Total Points/Game 2012-2022:\", total_points)"
   ]
  },
  {
   "cell_type": "markdown",
   "id": "75955199",
   "metadata": {},
   "source": [
    "### Atlanta Falcons"
   ]
  },
  {
   "cell_type": "code",
   "execution_count": 12,
   "id": "bf67dc05",
   "metadata": {},
   "outputs": [
    {
     "name": "stdout",
     "output_type": "stream",
     "text": [
      "Atlanta Falcons Offense Points/Game Mean: 23.61818181818182\n",
      "Atlanta Falcons Offense Points/Game Median: 22.1\n",
      "Atlanta Falcons Offense Points/Game Standard Deviation: 3.953180537698267\n",
      "Atlanta Falcons Offense Points/Game Variance: 15.627636363636359\n",
      "Atlanta Falcons Offense Points/Game Minimum: 18.4\n",
      "Atlanta Falcons Offense Points/Game Maximum: 33.8\n",
      "Atlanta Falcons Offense Points/Game Range: 15.399999999999999\n",
      "Atlanta Falcons Total Points/Game 2012-2022: 259.80000000000007\n"
     ]
    }
   ],
   "source": [
    "team_name2 = 'Atlanta Falcons'\n",
    "falcons_data = nflptsgame[nflptsgame['Team'] == team_name2]\n",
    "mean_value = falcons_data['Off Pts/G'].mean()\n",
    "median_value = falcons_data['Off Pts/G'].median()\n",
    "std_value = falcons_data['Off Pts/G'].std()\n",
    "var_value = falcons_data['Off Pts/G'].var()\n",
    "min_value = falcons_data['Off Pts/G'].min()\n",
    "max_value = falcons_data['Off Pts/G'].max()\n",
    "data_range = max_value - min_value\n",
    "total_points = falcons_data['Off Pts/G'].sum()\n",
    "print(\"Atlanta Falcons Offense Points/Game Mean:\", mean_value)\n",
    "print(\"Atlanta Falcons Offense Points/Game Median:\", median_value)\n",
    "print(\"Atlanta Falcons Offense Points/Game Standard Deviation:\", std_value)\n",
    "print(\"Atlanta Falcons Offense Points/Game Variance:\", var_value)\n",
    "print(\"Atlanta Falcons Offense Points/Game Minimum:\", min_value)\n",
    "print(\"Atlanta Falcons Offense Points/Game Maximum:\", max_value)\n",
    "print(\"Atlanta Falcons Offense Points/Game Range:\", data_range)\n",
    "print(\"Atlanta Falcons Total Points/Game 2012-2022:\", total_points)"
   ]
  },
  {
   "cell_type": "markdown",
   "id": "aa7a2cc9",
   "metadata": {},
   "source": [
    "### Baltimore Ravens"
   ]
  },
  {
   "cell_type": "code",
   "execution_count": 14,
   "id": "d5c029fc",
   "metadata": {},
   "outputs": [
    {
     "name": "stdout",
     "output_type": "stream",
     "text": [
      "Baltimore Ravens Offense Points/Game Mean: 24.327272727272728\n",
      "Baltimore Ravens Offense Points/Game Median: 24.7\n",
      "Baltimore Ravens Offense Points/Game Standard Deviation: 4.035614181036366\n",
      "Baltimore Ravens Offense Points/Game Variance: 16.28618181818182\n",
      "Baltimore Ravens Offense Points/Game Minimum: 20.0\n",
      "Baltimore Ravens Offense Points/Game Maximum: 33.2\n",
      "Baltimore Ravens Offense Points/Game Range: 13.200000000000003\n",
      "Baltimore Ravens Total Points/Game 2012-2022: 267.6\n"
     ]
    }
   ],
   "source": [
    "team_name3 = 'Baltimore Ravens'\n",
    "ravens_data = nflptsgame[nflptsgame['Team'] == team_name3]\n",
    "mean_value = ravens_data['Off Pts/G'].mean()\n",
    "median_value = ravens_data['Off Pts/G'].median()\n",
    "std_value = ravens_data['Off Pts/G'].std()\n",
    "var_value = ravens_data['Off Pts/G'].var()\n",
    "min_value = ravens_data['Off Pts/G'].min()\n",
    "max_value = ravens_data['Off Pts/G'].max()\n",
    "data_range = max_value - min_value\n",
    "total_points = ravens_data['Off Pts/G'].sum()\n",
    "print(\"Baltimore Ravens Offense Points/Game Mean:\", mean_value)\n",
    "print(\"Baltimore Ravens Offense Points/Game Median:\", median_value)\n",
    "print(\"Baltimore Ravens Offense Points/Game Standard Deviation:\", std_value)\n",
    "print(\"Baltimore Ravens Offense Points/Game Variance:\", var_value)\n",
    "print(\"Baltimore Ravens Offense Points/Game Minimum:\", min_value)\n",
    "print(\"Baltimore Ravens Offense Points/Game Maximum:\", max_value)\n",
    "print(\"Baltimore Ravens Offense Points/Game Range:\", data_range)\n",
    "print(\"Baltimore Ravens Total Points/Game 2012-2022:\", total_points)"
   ]
  },
  {
   "cell_type": "markdown",
   "id": "f4e138e9",
   "metadata": {},
   "source": [
    "### Buffalo Bills"
   ]
  },
  {
   "cell_type": "code",
   "execution_count": 15,
   "id": "4a094e46",
   "metadata": {},
   "outputs": [
    {
     "name": "stdout",
     "output_type": "stream",
     "text": [
      "Buffalo Bills Offense Points/Game Mean: 23.472727272727273\n",
      "Buffalo Bills Offense Points/Game Median: 21.5\n",
      "Buffalo Bills Offense Points/Game Standard Deviation: 4.267104617674826\n",
      "Buffalo Bills Offense Points/Game Variance: 18.208181818181817\n",
      "Buffalo Bills Offense Points/Game Minimum: 18.9\n",
      "Buffalo Bills Offense Points/Game Maximum: 31.3\n",
      "Buffalo Bills Offense Points/Game Range: 12.400000000000002\n",
      "Buffalo Bills Total Points/Game 2012-2022: 258.2\n"
     ]
    }
   ],
   "source": [
    "team_name4 = 'Buffalo Bills'\n",
    "bills_data = nflptsgame[nflptsgame['Team'] == team_name4]\n",
    "mean_value = bills_data['Off Pts/G'].mean()\n",
    "median_value = bills_data['Off Pts/G'].median()\n",
    "std_value = bills_data['Off Pts/G'].std()\n",
    "var_value = bills_data['Off Pts/G'].var()\n",
    "min_value = bills_data['Off Pts/G'].min()\n",
    "max_value = bills_data['Off Pts/G'].max()\n",
    "data_range = max_value - min_value\n",
    "total_points = bills_data['Off Pts/G'].sum()\n",
    "print(\"Buffalo Bills Offense Points/Game Mean:\", mean_value)\n",
    "print(\"Buffalo Bills Offense Points/Game Median:\", median_value)\n",
    "print(\"Buffalo Bills Offense Points/Game Standard Deviation:\", std_value)\n",
    "print(\"Buffalo Bills Offense Points/Game Variance:\", var_value)\n",
    "print(\"Buffalo Bills Offense Points/Game Minimum:\", min_value)\n",
    "print(\"Buffalo Bills Offense Points/Game Maximum:\", max_value)\n",
    "print(\"Buffalo Bills Offense Points/Game Range:\", data_range)\n",
    "print(\"Buffalo Bills Total Points/Game 2012-2022:\", total_points)"
   ]
  },
  {
   "cell_type": "markdown",
   "id": "a82d199f",
   "metadata": {},
   "source": [
    "### Carolina Panthers"
   ]
  },
  {
   "cell_type": "code",
   "execution_count": 16,
   "id": "66ae4cfc",
   "metadata": {},
   "outputs": [
    {
     "name": "stdout",
     "output_type": "stream",
     "text": [
      "Carolina Panthers Offense Points/Game Mean: 22.5\n",
      "Carolina Panthers Offense Points/Game Median: 22.3\n",
      "Carolina Panthers Offense Points/Game Standard Deviation: 3.250230761038361\n",
      "Carolina Panthers Offense Points/Game Variance: 10.564000000000002\n",
      "Carolina Panthers Offense Points/Game Minimum: 17.9\n",
      "Carolina Panthers Offense Points/Game Maximum: 31.2\n",
      "Carolina Panthers Offense Points/Game Range: 13.3\n",
      "Carolina Panthers Total Points/Game 2012-2022: 247.5\n"
     ]
    }
   ],
   "source": [
    "team_name5 = 'Carolina Panthers'\n",
    "panthers_data = nflptsgame[nflptsgame['Team'] == team_name5]\n",
    "mean_value = panthers_data['Off Pts/G'].mean()\n",
    "median_value = panthers_data['Off Pts/G'].median()\n",
    "std_value = panthers_data['Off Pts/G'].std()\n",
    "var_value = panthers_data['Off Pts/G'].var()\n",
    "min_value = panthers_data['Off Pts/G'].min()\n",
    "max_value = panthers_data['Off Pts/G'].max()\n",
    "data_range = max_value - min_value\n",
    "total_points = panthers_data['Off Pts/G'].sum()\n",
    "print(\"Carolina Panthers Offense Points/Game Mean:\", mean_value)\n",
    "print(\"Carolina Panthers Offense Points/Game Median:\", median_value)\n",
    "print(\"Carolina Panthers Offense Points/Game Standard Deviation:\", std_value)\n",
    "print(\"Carolina Panthers Offense Points/Game Variance:\", var_value)\n",
    "print(\"Carolina Panthers Offense Points/Game Minimum:\", min_value)\n",
    "print(\"Carolina Panthers Offense Points/Game Maximum:\", max_value)\n",
    "print(\"Carolina Panthers Offense Points/Game Range:\", data_range)\n",
    "print(\"Carolina Panthers Total Points/Game 2012-2022:\", total_points)"
   ]
  },
  {
   "cell_type": "markdown",
   "id": "22c033f6",
   "metadata": {},
   "source": [
    "### Chicago Bears"
   ]
  },
  {
   "cell_type": "code",
   "execution_count": 19,
   "id": "c81da7c2",
   "metadata": {},
   "outputs": [
    {
     "name": "stdout",
     "output_type": "stream",
     "text": [
      "Chicago Bears Offense Points/Game Mean: 20.054545454545455\n",
      "Chicago Bears Offense Points/Game Median: 19.2\n",
      "Chicago Bears Offense Points/Game Standard Deviation: 3.527991960411372\n",
      "Chicago Bears Offense Points/Game Variance: 12.446727272727276\n",
      "Chicago Bears Offense Points/Game Minimum: 16.5\n",
      "Chicago Bears Offense Points/Game Maximum: 27.8\n",
      "Chicago Bears Offense Points/Game Range: 11.3\n",
      "Chicago Bears Total Points/Game 2012-2022: 220.6\n"
     ]
    }
   ],
   "source": [
    "team_name6 = 'Chicago Bears'\n",
    "bears_data = nflptsgame[nflptsgame['Team'] == team_name6]\n",
    "mean_value = bears_data['Off Pts/G'].mean()\n",
    "median_value = bears_data['Off Pts/G'].median()\n",
    "std_value = bears_data['Off Pts/G'].std()\n",
    "var_value = bears_data['Off Pts/G'].var()\n",
    "min_value = bears_data['Off Pts/G'].min()\n",
    "max_value = bears_data['Off Pts/G'].max()\n",
    "data_range = max_value - min_value\n",
    "total_points = bears_data['Off Pts/G'].sum()\n",
    "print(\"Chicago Bears Offense Points/Game Mean:\", mean_value)\n",
    "print(\"Chicago Bears Offense Points/Game Median:\", median_value)\n",
    "print(\"Chicago Bears Offense Points/Game Standard Deviation:\", std_value)\n",
    "print(\"Chicago Bears Offense Points/Game Variance:\", var_value)\n",
    "print(\"Chicago Bears Offense Points/Game Minimum:\", min_value)\n",
    "print(\"Chicago Bears Offense Points/Game Maximum:\", max_value)\n",
    "print(\"Chicago Bears Offense Points/Game Range:\", data_range)\n",
    "print(\"Chicago Bears Total Points/Game 2012-2022:\", total_points)"
   ]
  },
  {
   "cell_type": "markdown",
   "id": "49980972",
   "metadata": {},
   "source": [
    "### Cincinnati Bengals"
   ]
  },
  {
   "cell_type": "code",
   "execution_count": 23,
   "id": "a8c9f708",
   "metadata": {},
   "outputs": [
    {
     "name": "stdout",
     "output_type": "stream",
     "text": [
      "Cincinnati Bengals Offense Points/Game Mean: 22.436363636363634\n",
      "Cincinnati Bengals Offense Points/Game Median: 22.8\n",
      "Cincinnati Bengals Offense Points/Game Standard Deviation: 3.873053763446288\n",
      "Cincinnati Bengals Offense Points/Game Variance: 15.000545454545454\n",
      "Cincinnati Bengals Offense Points/Game Minimum: 17.4\n",
      "Cincinnati Bengals Offense Points/Game Maximum: 27.1\n",
      "Cincinnati Bengals Offense Points/Game Range: 9.700000000000003\n",
      "Cincinnati Bengals Total Points/Game 2012-2022: 246.79999999999998\n"
     ]
    }
   ],
   "source": [
    "team_name7 = 'Cincinnati Bengals'\n",
    "bengals_data = nflptsgame[nflptsgame['Team'] == team_name7]\n",
    "mean_value = bengals_data['Off Pts/G'].mean()\n",
    "median_value = bengals_data['Off Pts/G'].median()\n",
    "std_value = bengals_data['Off Pts/G'].std()\n",
    "var_value = bengals_data['Off Pts/G'].var()\n",
    "min_value = bengals_data['Off Pts/G'].min()\n",
    "max_value = bengals_data['Off Pts/G'].max()\n",
    "data_range = max_value - min_value\n",
    "total_points = bengals_data['Off Pts/G'].sum()\n",
    "print(\"Cincinnati Bengals Offense Points/Game Mean:\", mean_value)\n",
    "print(\"Cincinnati Bengals Offense Points/Game Median:\", median_value)\n",
    "print(\"Cincinnati Bengals Offense Points/Game Standard Deviation:\", std_value)\n",
    "print(\"Cincinnati Bengals Offense Points/Game Variance:\", var_value)\n",
    "print(\"Cincinnati Bengals Offense Points/Game Minimum:\", min_value)\n",
    "print(\"Cincinnati Bengals Offense Points/Game Maximum:\", max_value)\n",
    "print(\"Cincinnati Bengals Offense Points/Game Range:\", data_range)\n",
    "print(\"Cincinnati Bengals Total Points/Game 2012-2022:\", total_points)"
   ]
  },
  {
   "cell_type": "markdown",
   "id": "022f5b80",
   "metadata": {},
   "source": [
    "### Cleveland Browns"
   ]
  },
  {
   "cell_type": "code",
   "execution_count": 24,
   "id": "907f68cf",
   "metadata": {},
   "outputs": [
    {
     "name": "stdout",
     "output_type": "stream",
     "text": [
      "Cleveland Browns Offense Points/Game Mean: 18.909090909090907\n",
      "Cleveland Browns Offense Points/Game Median: 18.9\n",
      "Cleveland Browns Offense Points/Game Standard Deviation: 3.1706322856662346\n",
      "Cleveland Browns Offense Points/Game Variance: 10.052909090909091\n",
      "Cleveland Browns Offense Points/Game Minimum: 14.6\n",
      "Cleveland Browns Offense Points/Game Maximum: 25.5\n",
      "Cleveland Browns Offense Points/Game Range: 10.9\n",
      "Cleveland Browns Total Points/Game 2012-2022: 207.99999999999997\n"
     ]
    }
   ],
   "source": [
    "team_name8 = 'Cleveland Browns'\n",
    "browns_data = nflptsgame[nflptsgame['Team'] == team_name8]\n",
    "mean_value = browns_data['Off Pts/G'].mean()\n",
    "median_value = browns_data['Off Pts/G'].median()\n",
    "std_value = browns_data['Off Pts/G'].std()\n",
    "var_value = browns_data['Off Pts/G'].var()\n",
    "min_value = browns_data['Off Pts/G'].min()\n",
    "max_value = browns_data['Off Pts/G'].max()\n",
    "data_range = max_value - min_value\n",
    "total_points = browns_data['Off Pts/G'].sum()\n",
    "print(\"Cleveland Browns Offense Points/Game Mean:\", mean_value)\n",
    "print(\"Cleveland Browns Offense Points/Game Median:\", median_value)\n",
    "print(\"Cleveland Browns Offense Points/Game Standard Deviation:\", std_value)\n",
    "print(\"Cleveland Browns Offense Points/Game Variance:\", var_value)\n",
    "print(\"Cleveland Browns Offense Points/Game Minimum:\", min_value)\n",
    "print(\"Cleveland Browns Offense Points/Game Maximum:\", max_value)\n",
    "print(\"Cleveland Browns Offense Points/Game Range:\", data_range)\n",
    "print(\"Cleveland Browns Total Points/Game 2012-2022:\", total_points)"
   ]
  },
  {
   "cell_type": "markdown",
   "id": "05a8ee25",
   "metadata": {},
   "source": [
    "### Dallas Cowboys"
   ]
  },
  {
   "cell_type": "code",
   "execution_count": 25,
   "id": "32b9e370",
   "metadata": {},
   "outputs": [
    {
     "name": "stdout",
     "output_type": "stream",
     "text": [
      "Dallas Cowboys Offense Points/Game Mean: 25.299999999999997\n",
      "Dallas Cowboys Offense Points/Game Median: 26.3\n",
      "Dallas Cowboys Offense Points/Game Standard Deviation: 3.9140771581561853\n",
      "Dallas Cowboys Offense Points/Game Variance: 15.319999999999999\n",
      "Dallas Cowboys Offense Points/Game Minimum: 17.2\n",
      "Dallas Cowboys Offense Points/Game Maximum: 31.2\n",
      "Dallas Cowboys Offense Points/Game Range: 14.0\n",
      "Dallas Cowboys Total Points/Game 2012-2022: 278.29999999999995\n"
     ]
    }
   ],
   "source": [
    "team_name9 = 'Dallas Cowboys'\n",
    "cowboys_data = nflptsgame[nflptsgame['Team'] == team_name9]\n",
    "mean_value = cowboys_data['Off Pts/G'].mean()\n",
    "median_value = cowboys_data['Off Pts/G'].median()\n",
    "std_value = cowboys_data['Off Pts/G'].std()\n",
    "var_value = cowboys_data['Off Pts/G'].var()\n",
    "min_value = cowboys_data['Off Pts/G'].min()\n",
    "max_value = cowboys_data['Off Pts/G'].max()\n",
    "data_range = max_value - min_value\n",
    "total_points = cowboys_data['Off Pts/G'].sum()\n",
    "print(\"Dallas Cowboys Offense Points/Game Mean:\", mean_value)\n",
    "print(\"Dallas Cowboys Offense Points/Game Median:\", median_value)\n",
    "print(\"Dallas Cowboys Offense Points/Game Standard Deviation:\", std_value)\n",
    "print(\"Dallas Cowboys Offense Points/Game Variance:\", var_value)\n",
    "print(\"Dallas Cowboys Offense Points/Game Minimum:\", min_value)\n",
    "print(\"Dallas Cowboys Offense Points/Game Maximum:\", max_value)\n",
    "print(\"Dallas Cowboys Offense Points/Game Range:\", data_range)\n",
    "print(\"Dallas Cowboys Total Points/Game 2012-2022:\", total_points)"
   ]
  },
  {
   "cell_type": "markdown",
   "id": "16831b4c",
   "metadata": {},
   "source": [
    "### Denver Broncos"
   ]
  },
  {
   "cell_type": "code",
   "execution_count": 26,
   "id": "c372999f",
   "metadata": {},
   "outputs": [
    {
     "name": "stdout",
     "output_type": "stream",
     "text": [
      "Denver Broncos Offense Points/Game Mean: 22.88181818181818\n",
      "Denver Broncos Offense Points/Game Median: 20.2\n",
      "Denver Broncos Offense Points/Game Standard Deviation: 6.79173294260282\n",
      "Denver Broncos Offense Points/Game Variance: 46.12763636363636\n",
      "Denver Broncos Offense Points/Game Minimum: 16.9\n",
      "Denver Broncos Offense Points/Game Maximum: 37.9\n",
      "Denver Broncos Offense Points/Game Range: 21.0\n",
      "Denver Broncos Total Points/Game 2012-2022: 251.7\n"
     ]
    }
   ],
   "source": [
    "team_name10 = 'Denver Broncos'\n",
    "broncos_data = nflptsgame[nflptsgame['Team'] == team_name10]\n",
    "mean_value = broncos_data['Off Pts/G'].mean()\n",
    "median_value = broncos_data['Off Pts/G'].median()\n",
    "std_value = broncos_data['Off Pts/G'].std()\n",
    "var_value = broncos_data['Off Pts/G'].var()\n",
    "min_value = broncos_data['Off Pts/G'].min()\n",
    "max_value = broncos_data['Off Pts/G'].max()\n",
    "data_range = max_value - min_value\n",
    "total_points = broncos_data['Off Pts/G'].sum()\n",
    "print(\"Denver Broncos Offense Points/Game Mean:\", mean_value)\n",
    "print(\"Denver Broncos Offense Points/Game Median:\", median_value)\n",
    "print(\"Denver Broncos Offense Points/Game Standard Deviation:\", std_value)\n",
    "print(\"Denver Broncos Offense Points/Game Variance:\", var_value)\n",
    "print(\"Denver Broncos Offense Points/Game Minimum:\", min_value)\n",
    "print(\"Denver Broncos Offense Points/Game Maximum:\", max_value)\n",
    "print(\"Denver Broncos Offense Points/Game Range:\", data_range)\n",
    "print(\"Denver Broncos Total Points/Game 2012-2022:\", total_points)"
   ]
  },
  {
   "cell_type": "markdown",
   "id": "297b12df",
   "metadata": {},
   "source": [
    "### Detroit Lions"
   ]
  },
  {
   "cell_type": "code",
   "execution_count": 28,
   "id": "67238a29",
   "metadata": {},
   "outputs": [
    {
     "name": "stdout",
     "output_type": "stream",
     "text": [
      "Detroit Lions Offense Points/Game Mean: 23.07272727272727\n",
      "Detroit Lions Offense Points/Game Median: 23.2\n",
      "Detroit Lions Offense Points/Game Standard Deviation: 2.4195416545663804\n",
      "Detroit Lions Offense Points/Game Variance: 5.854181818181818\n",
      "Detroit Lions Offense Points/Game Minimum: 19.1\n",
      "Detroit Lions Offense Points/Game Maximum: 26.6\n",
      "Detroit Lions Offense Points/Game Range: 7.5\n",
      "Detroit Lions Total Points/Game 2012-2022: 253.79999999999998\n"
     ]
    }
   ],
   "source": [
    "team_name11 = 'Detroit Lions'\n",
    "lions_data = nflptsgame[nflptsgame['Team'] == team_name11]\n",
    "mean_value = lions_data['Off Pts/G'].mean()\n",
    "median_value = lions_data['Off Pts/G'].median()\n",
    "std_value = lions_data['Off Pts/G'].std()\n",
    "var_value = lions_data['Off Pts/G'].var()\n",
    "min_value = lions_data['Off Pts/G'].min()\n",
    "max_value = lions_data['Off Pts/G'].max()\n",
    "data_range = max_value - min_value\n",
    "total_points = lions_data['Off Pts/G'].sum()\n",
    "print(\"Detroit Lions Offense Points/Game Mean:\", mean_value)\n",
    "print(\"Detroit Lions Offense Points/Game Median:\", median_value)\n",
    "print(\"Detroit Lions Offense Points/Game Standard Deviation:\", std_value)\n",
    "print(\"Detroit Lions Offense Points/Game Variance:\", var_value)\n",
    "print(\"Detroit Lions Offense Points/Game Minimum:\", min_value)\n",
    "print(\"Detroit Lions Offense Points/Game Maximum:\", max_value)\n",
    "print(\"Detroit Lions Offense Points/Game Range:\", data_range)\n",
    "print(\"Detroit Lions Total Points/Game 2012-2022:\", total_points)"
   ]
  },
  {
   "cell_type": "markdown",
   "id": "5c57bf85",
   "metadata": {},
   "source": [
    "### Green Bay Packers"
   ]
  },
  {
   "cell_type": "code",
   "execution_count": 29,
   "id": "d5fb015d",
   "metadata": {},
   "outputs": [
    {
     "name": "stdout",
     "output_type": "stream",
     "text": [
      "Green Bay Packers Offense Points/Game Mean: 25.2\n",
      "Green Bay Packers Offense Points/Game Median: 26.1\n",
      "Green Bay Packers Offense Points/Game Standard Deviation: 3.915609786482815\n",
      "Green Bay Packers Offense Points/Game Variance: 15.331999999999999\n",
      "Green Bay Packers Offense Points/Game Minimum: 20.0\n",
      "Green Bay Packers Offense Points/Game Maximum: 31.8\n",
      "Green Bay Packers Offense Points/Game Range: 11.8\n",
      "Green Bay Packers Total Points/Game 2012-2022: 277.2\n"
     ]
    }
   ],
   "source": [
    "team_name12 = 'Green Bay Packers'\n",
    "packers_data = nflptsgame[nflptsgame['Team'] == team_name12]\n",
    "mean_value = packers_data['Off Pts/G'].mean()\n",
    "median_value = packers_data['Off Pts/G'].median()\n",
    "std_value = packers_data['Off Pts/G'].std()\n",
    "var_value = packers_data['Off Pts/G'].var()\n",
    "min_value = packers_data['Off Pts/G'].min()\n",
    "max_value = packers_data['Off Pts/G'].max()\n",
    "data_range = max_value - min_value\n",
    "total_points = packers_data['Off Pts/G'].sum()\n",
    "print(\"Green Bay Packers Offense Points/Game Mean:\", mean_value)\n",
    "print(\"Green Bay Packers Offense Points/Game Median:\", median_value)\n",
    "print(\"Green Bay Packers Offense Points/Game Standard Deviation:\", std_value)\n",
    "print(\"Green Bay Packers Offense Points/Game Variance:\", var_value)\n",
    "print(\"Green Bay Packers Offense Points/Game Minimum:\", min_value)\n",
    "print(\"Green Bay Packers Offense Points/Game Maximum:\", max_value)\n",
    "print(\"Green Bay Packers Offense Points/Game Range:\", data_range)\n",
    "print(\"Green Bay Packers Total Points/Game 2012-2022:\", total_points)"
   ]
  },
  {
   "cell_type": "markdown",
   "id": "15c014e6",
   "metadata": {},
   "source": [
    "### Houston Texans"
   ]
  },
  {
   "cell_type": "code",
   "execution_count": 30,
   "id": "5eb42488",
   "metadata": {},
   "outputs": [
    {
     "name": "stdout",
     "output_type": "stream",
     "text": [
      "Houston Texans Offense Points/Game Mean: 20.754545454545454\n",
      "Houston Texans Offense Points/Game Median: 21.1\n",
      "Houston Texans Offense Points/Game Standard Deviation: 3.296168574682927\n",
      "Houston Texans Offense Points/Game Variance: 10.864727272727276\n",
      "Houston Texans Offense Points/Game Minimum: 16.5\n",
      "Houston Texans Offense Points/Game Maximum: 26.0\n",
      "Houston Texans Offense Points/Game Range: 9.5\n",
      "Houston Texans Total Points/Game 2012-2022: 228.3\n"
     ]
    }
   ],
   "source": [
    "team_name13 = 'Houston Texans'\n",
    "texans_data = nflptsgame[nflptsgame['Team'] == team_name13]\n",
    "mean_value = texans_data['Off Pts/G'].mean()\n",
    "median_value = texans_data['Off Pts/G'].median()\n",
    "std_value = texans_data['Off Pts/G'].std()\n",
    "var_value = texans_data['Off Pts/G'].var()\n",
    "min_value = texans_data['Off Pts/G'].min()\n",
    "max_value = texans_data['Off Pts/G'].max()\n",
    "data_range = max_value - min_value\n",
    "total_points = texans_data['Off Pts/G'].sum()\n",
    "print(\"Houston Texans Offense Points/Game Mean:\", mean_value)\n",
    "print(\"Houston Texans Offense Points/Game Median:\", median_value)\n",
    "print(\"Houston Texans Offense Points/Game Standard Deviation:\", std_value)\n",
    "print(\"Houston Texans Offense Points/Game Variance:\", var_value)\n",
    "print(\"Houston Texans Offense Points/Game Minimum:\", min_value)\n",
    "print(\"Houston Texans Offense Points/Game Maximum:\", max_value)\n",
    "print(\"Houston Texans Offense Points/Game Range:\", data_range)\n",
    "print(\"Houston Texans Total Points/Game 2012-2022:\", total_points)"
   ]
  },
  {
   "cell_type": "markdown",
   "id": "7d47e98c",
   "metadata": {},
   "source": [
    "### Indianapolis Colts"
   ]
  },
  {
   "cell_type": "code",
   "execution_count": 31,
   "id": "618546fa",
   "metadata": {},
   "outputs": [
    {
     "name": "stdout",
     "output_type": "stream",
     "text": [
      "Indianapolis Colts Offense Points/Game Mean: 22.62727272727273\n",
      "Indianapolis Colts Offense Points/Game Median: 22.6\n",
      "Indianapolis Colts Offense Points/Game Standard Deviation: 4.549525449778451\n",
      "Indianapolis Colts Offense Points/Game Variance: 20.69818181818182\n",
      "Indianapolis Colts Offense Points/Game Minimum: 16.4\n",
      "Indianapolis Colts Offense Points/Game Maximum: 28.6\n",
      "Indianapolis Colts Offense Points/Game Range: 12.200000000000003\n",
      "Indianapolis Colts Total Points/Game 2012-2022: 248.89999999999998\n"
     ]
    }
   ],
   "source": [
    "team_name14 = 'Indianapolis Colts'\n",
    "colts_data = nflptsgame[nflptsgame['Team'] == team_name14]\n",
    "mean_value = colts_data['Off Pts/G'].mean()\n",
    "median_value = colts_data['Off Pts/G'].median()\n",
    "std_value = colts_data['Off Pts/G'].std()\n",
    "var_value = colts_data['Off Pts/G'].var()\n",
    "min_value = colts_data['Off Pts/G'].min()\n",
    "max_value = colts_data['Off Pts/G'].max()\n",
    "data_range = max_value - min_value\n",
    "total_points = colts_data['Off Pts/G'].sum()\n",
    "print(\"Indianapolis Colts Offense Points/Game Mean:\", mean_value)\n",
    "print(\"Indianapolis Colts Offense Points/Game Median:\", median_value)\n",
    "print(\"Indianapolis Colts Offense Points/Game Standard Deviation:\", std_value)\n",
    "print(\"Indianapolis Colts Offense Points/Game Variance:\", var_value)\n",
    "print(\"Indianapolis Colts Offense Points/Game Minimum:\", min_value)\n",
    "print(\"Indianapolis Colts Offense Points/Game Maximum:\", max_value)\n",
    "print(\"Indianapolis Colts Offense Points/Game Range:\", data_range)\n",
    "print(\"Indianapolis Colts Total Points/Game 2012-2022:\", total_points)"
   ]
  },
  {
   "cell_type": "markdown",
   "id": "c954ec2a",
   "metadata": {},
   "source": [
    "### Jacksonville Jaguars"
   ]
  },
  {
   "cell_type": "code",
   "execution_count": 32,
   "id": "526aeef5",
   "metadata": {},
   "outputs": [
    {
     "name": "stdout",
     "output_type": "stream",
     "text": [
      "Jacksonville Jaguars Offense Points/Game Mean: 19.91818181818182\n",
      "Jacksonville Jaguars Offense Points/Game Median: 19.1\n",
      "Jacksonville Jaguars Offense Points/Game Standard Deviation: 4.320143095273161\n",
      "Jacksonville Jaguars Offense Points/Game Variance: 18.663636363636364\n",
      "Jacksonville Jaguars Offense Points/Game Minimum: 14.9\n",
      "Jacksonville Jaguars Offense Points/Game Maximum: 26.1\n",
      "Jacksonville Jaguars Offense Points/Game Range: 11.200000000000001\n",
      "Jacksonville Jaguars Total Points/Game 2012-2022: 219.10000000000002\n"
     ]
    }
   ],
   "source": [
    "team_name15 = 'Jacksonville Jaguars'\n",
    "jaguars_data = nflptsgame[nflptsgame['Team'] == team_name15]\n",
    "mean_value = jaguars_data['Off Pts/G'].mean()\n",
    "median_value = jaguars_data['Off Pts/G'].median()\n",
    "std_value = jaguars_data['Off Pts/G'].std()\n",
    "var_value = jaguars_data['Off Pts/G'].var()\n",
    "min_value = jaguars_data['Off Pts/G'].min()\n",
    "max_value = jaguars_data['Off Pts/G'].max()\n",
    "data_range = max_value - min_value\n",
    "total_points = jaguars_data['Off Pts/G'].sum()\n",
    "print(\"Jacksonville Jaguars Offense Points/Game Mean:\", mean_value)\n",
    "print(\"Jacksonville Jaguars Offense Points/Game Median:\", median_value)\n",
    "print(\"Jacksonville Jaguars Offense Points/Game Standard Deviation:\", std_value)\n",
    "print(\"Jacksonville Jaguars Offense Points/Game Variance:\", var_value)\n",
    "print(\"Jacksonville Jaguars Offense Points/Game Minimum:\", min_value)\n",
    "print(\"Jacksonville Jaguars Offense Points/Game Maximum:\", max_value)\n",
    "print(\"Jacksonville Jaguars Offense Points/Game Range:\", data_range)\n",
    "print(\"Jacksonville Jaguars Total Points/Game 2012-2022:\", total_points)"
   ]
  },
  {
   "cell_type": "markdown",
   "id": "db913c93",
   "metadata": {},
   "source": [
    "### Kansas City Chiefs"
   ]
  },
  {
   "cell_type": "code",
   "execution_count": 34,
   "id": "c98b1e3f",
   "metadata": {},
   "outputs": [
    {
     "name": "stdout",
     "output_type": "stream",
     "text": [
      "Kansas City Chiefs Offense Points/Game Mean: 25.34545454545454\n",
      "Kansas City Chiefs Offense Points/Game Median: 25.9\n",
      "Kansas City Chiefs Offense Points/Game Standard Deviation: 4.598122146347058\n",
      "Kansas City Chiefs Offense Points/Game Variance: 21.142727272727274\n",
      "Kansas City Chiefs Offense Points/Game Minimum: 13.2\n",
      "Kansas City Chiefs Offense Points/Game Maximum: 29.6\n",
      "Kansas City Chiefs Offense Points/Game Range: 16.400000000000002\n",
      "Kansas City Chiefs Total Points/Game 2012-2022: 278.8\n"
     ]
    }
   ],
   "source": [
    "team_name16 = 'Kansas City Chiefs'\n",
    "chiefs_data = nflptsgame[nflptsgame['Team'] == team_name16]\n",
    "mean_value = chiefs_data['Off Pts/G'].mean()\n",
    "median_value = chiefs_data['Off Pts/G'].median()\n",
    "std_value = chiefs_data['Off Pts/G'].std()\n",
    "var_value = chiefs_data['Off Pts/G'].var()\n",
    "min_value = chiefs_data['Off Pts/G'].min()\n",
    "max_value = chiefs_data['Off Pts/G'].max()\n",
    "data_range = max_value - min_value\n",
    "total_points = chiefs_data['Off Pts/G'].sum()\n",
    "print(\"Kansas City Chiefs Offense Points/Game Mean:\", mean_value)\n",
    "print(\"Kansas City Chiefs Offense Points/Game Median:\", median_value)\n",
    "print(\"Kansas City Chiefs Offense Points/Game Standard Deviation:\", std_value)\n",
    "print(\"Kansas City Chiefs Offense Points/Game Variance:\", var_value)\n",
    "print(\"Kansas City Chiefs Offense Points/Game Minimum:\", min_value)\n",
    "print(\"Kansas City Chiefs Offense Points/Game Maximum:\", max_value)\n",
    "print(\"Kansas City Chiefs Offense Points/Game Range:\", data_range)\n",
    "print(\"Kansas City Chiefs Total Points/Game 2012-2022:\", total_points)"
   ]
  },
  {
   "cell_type": "markdown",
   "id": "7de77361",
   "metadata": {},
   "source": [
    "### Las Vegas Raiders"
   ]
  },
  {
   "cell_type": "code",
   "execution_count": 35,
   "id": "f2182a2c",
   "metadata": {},
   "outputs": [
    {
     "name": "stdout",
     "output_type": "stream",
     "text": [
      "Las Vegas Raiders Offense Points/Game Mean: 21.08181818181818\n",
      "Las Vegas Raiders Offense Points/Game Median: 20.1\n",
      "Las Vegas Raiders Offense Points/Game Standard Deviation: 3.4327301617861488\n",
      "Las Vegas Raiders Offense Points/Game Variance: 11.78363636363636\n",
      "Las Vegas Raiders Offense Points/Game Minimum: 15.8\n",
      "Las Vegas Raiders Offense Points/Game Maximum: 27.1\n",
      "Las Vegas Raiders Offense Points/Game Range: 11.3\n",
      "Las Vegas Raiders Total Points/Game 2012-2022: 231.9\n"
     ]
    }
   ],
   "source": [
    "team_name17 = 'Las Vegas Raiders'\n",
    "raiders_data = nflptsgame[nflptsgame['Team'] == team_name17]\n",
    "mean_value = raiders_data['Off Pts/G'].mean()\n",
    "median_value = raiders_data['Off Pts/G'].median()\n",
    "std_value = raiders_data['Off Pts/G'].std()\n",
    "var_value = raiders_data['Off Pts/G'].var()\n",
    "min_value = raiders_data['Off Pts/G'].min()\n",
    "max_value = raiders_data['Off Pts/G'].max()\n",
    "data_range = max_value - min_value\n",
    "total_points = raiders_data['Off Pts/G'].sum()\n",
    "print(\"Las Vegas Raiders Offense Points/Game Mean:\", mean_value)\n",
    "print(\"Las Vegas Raiders Offense Points/Game Median:\", median_value)\n",
    "print(\"Las Vegas Raiders Offense Points/Game Standard Deviation:\", std_value)\n",
    "print(\"Las Vegas Raiders Offense Points/Game Variance:\", var_value)\n",
    "print(\"Las Vegas Raiders Offense Points/Game Minimum:\", min_value)\n",
    "print(\"Las Vegas Raiders Offense Points/Game Maximum:\", max_value)\n",
    "print(\"Las Vegas Raiders Offense Points/Game Range:\", data_range)\n",
    "print(\"Las Vegas Raiders Total Points/Game 2012-2022:\", total_points)"
   ]
  },
  {
   "cell_type": "markdown",
   "id": "afc5a6c3",
   "metadata": {},
   "source": [
    "### Los Angeles Chargers"
   ]
  },
  {
   "cell_type": "code",
   "execution_count": 36,
   "id": "6368dc78",
   "metadata": {},
   "outputs": [
    {
     "name": "stdout",
     "output_type": "stream",
     "text": [
      "Los Angeles Chargers Offense Points/Game Mean: 23.136363636363633\n",
      "Los Angeles Chargers Offense Points/Game Median: 22.2\n",
      "Los Angeles Chargers Offense Points/Game Standard Deviation: 2.2659535420095125\n",
      "Los Angeles Chargers Offense Points/Game Variance: 5.134545454545455\n",
      "Los Angeles Chargers Offense Points/Game Minimum: 20.0\n",
      "Los Angeles Chargers Offense Points/Game Maximum: 27.9\n",
      "Los Angeles Chargers Offense Points/Game Range: 7.899999999999999\n",
      "Los Angeles Chargers Total Points/Game 2012-2022: 254.5\n"
     ]
    }
   ],
   "source": [
    "team_name18 = 'Los Angeles Chargers'\n",
    "chargers_data = nflptsgame[nflptsgame['Team'] == team_name18]\n",
    "mean_value = chargers_data['Off Pts/G'].mean()\n",
    "median_value = chargers_data['Off Pts/G'].median()\n",
    "std_value = chargers_data['Off Pts/G'].std()\n",
    "var_value = chargers_data['Off Pts/G'].var()\n",
    "min_value = chargers_data['Off Pts/G'].min()\n",
    "max_value = chargers_data['Off Pts/G'].max()\n",
    "data_range = max_value - min_value\n",
    "total_points = chargers_data['Off Pts/G'].sum()\n",
    "print(\"Los Angeles Chargers Offense Points/Game Mean:\", mean_value)\n",
    "print(\"Los Angeles Chargers Offense Points/Game Median:\", median_value)\n",
    "print(\"Los Angeles Chargers Offense Points/Game Standard Deviation:\", std_value)\n",
    "print(\"Los Angeles Chargers Offense Points/Game Variance:\", var_value)\n",
    "print(\"Los Angeles Chargers Offense Points/Game Minimum:\", min_value)\n",
    "print(\"Los Angeles Chargers Offense Points/Game Maximum:\", max_value)\n",
    "print(\"Los Angeles Chargers Offense Points/Game Range:\", data_range)\n",
    "print(\"Los Angeles Chargers Total Points/Game 2012-2022:\", total_points)"
   ]
  },
  {
   "cell_type": "markdown",
   "id": "1c875fc3",
   "metadata": {},
   "source": [
    "### Los Angeles Rams"
   ]
  },
  {
   "cell_type": "code",
   "execution_count": 38,
   "id": "eac31549",
   "metadata": {},
   "outputs": [
    {
     "name": "stdout",
     "output_type": "stream",
     "text": [
      "Los Angeles Rams Offense Points/Game Mean: 22.27272727272727\n",
      "Los Angeles Rams Offense Points/Game Median: 21.8\n",
      "Los Angeles Rams Offense Points/Game Standard Deviation: 5.213845204662468\n",
      "Los Angeles Rams Offense Points/Game Variance: 27.184181818181816\n",
      "Los Angeles Rams Offense Points/Game Minimum: 14.0\n",
      "Los Angeles Rams Offense Points/Game Maximum: 29.9\n",
      "Los Angeles Rams Offense Points/Game Range: 15.899999999999999\n",
      "Los Angeles Rams Total Points/Game 2012-2022: 245.0\n"
     ]
    }
   ],
   "source": [
    "team_name19 = 'Los Angeles Rams'\n",
    "Rams_data = nflptsgame[nflptsgame['Team'] == team_name19]\n",
    "mean_value = Rams_data['Off Pts/G'].mean()\n",
    "median_value = Rams_data['Off Pts/G'].median()\n",
    "std_value = Rams_data['Off Pts/G'].std()\n",
    "var_value = Rams_data['Off Pts/G'].var()\n",
    "min_value = Rams_data['Off Pts/G'].min()\n",
    "max_value = Rams_data['Off Pts/G'].max()\n",
    "data_range = max_value - min_value\n",
    "total_points = Rams_data['Off Pts/G'].sum()\n",
    "print(\"Los Angeles Rams Offense Points/Game Mean:\", mean_value)\n",
    "print(\"Los Angeles Rams Offense Points/Game Median:\", median_value)\n",
    "print(\"Los Angeles Rams Offense Points/Game Standard Deviation:\", std_value)\n",
    "print(\"Los Angeles Rams Offense Points/Game Variance:\", var_value)\n",
    "print(\"Los Angeles Rams Offense Points/Game Minimum:\", min_value)\n",
    "print(\"Los Angeles Rams Offense Points/Game Maximum:\", max_value)\n",
    "print(\"Los Angeles Rams Offense Points/Game Range:\", data_range)\n",
    "print(\"Los Angeles Rams Total Points/Game 2012-2022:\", total_points)"
   ]
  },
  {
   "cell_type": "markdown",
   "id": "eb1f28cb",
   "metadata": {},
   "source": [
    "### Miami Dolphins"
   ]
  },
  {
   "cell_type": "code",
   "execution_count": 39,
   "id": "88eb0a18",
   "metadata": {},
   "outputs": [
    {
     "name": "stdout",
     "output_type": "stream",
     "text": [
      "Miami Dolphins Offense Points/Game Mean: 20.645454545454545\n",
      "Miami Dolphins Offense Points/Game Median: 19.8\n",
      "Miami Dolphins Offense Points/Game Standard Deviation: 2.7511319984194267\n",
      "Miami Dolphins Offense Points/Game Variance: 7.568727272727267\n",
      "Miami Dolphins Offense Points/Game Minimum: 17.6\n",
      "Miami Dolphins Offense Points/Game Maximum: 25.2\n",
      "Miami Dolphins Offense Points/Game Range: 7.599999999999998\n",
      "Miami Dolphins Total Points/Game 2012-2022: 227.09999999999997\n"
     ]
    }
   ],
   "source": [
    "team_name20 = 'Miami Dolphins'\n",
    "dolphins_data = nflptsgame[nflptsgame['Team'] == team_name20]\n",
    "mean_value = dolphins_data['Off Pts/G'].mean()\n",
    "median_value = dolphins_data['Off Pts/G'].median()\n",
    "std_value = dolphins_data['Off Pts/G'].std()\n",
    "var_value = dolphins_data['Off Pts/G'].var()\n",
    "min_value = dolphins_data['Off Pts/G'].min()\n",
    "max_value = dolphins_data['Off Pts/G'].max()\n",
    "data_range = max_value - min_value\n",
    "total_points = dolphins_data['Off Pts/G'].sum()\n",
    "print(\"Miami Dolphins Offense Points/Game Mean:\", mean_value)\n",
    "print(\"Miami Dolphins Offense Points/Game Median:\", median_value)\n",
    "print(\"Miami Dolphins Offense Points/Game Standard Deviation:\", std_value)\n",
    "print(\"Miami Dolphins Offense Points/Game Variance:\", var_value)\n",
    "print(\"Miami Dolphins Offense Points/Game Minimum:\", min_value)\n",
    "print(\"Miami Dolphins Offense Points/Game Maximum:\", max_value)\n",
    "print(\"Miami Dolphins Offense Points/Game Range:\", data_range)\n",
    "print(\"Miami Dolphins Total Points/Game 2012-2022:\", total_points)"
   ]
  },
  {
   "cell_type": "markdown",
   "id": "63e9c2e5",
   "metadata": {},
   "source": [
    "### Minnesota Vikings"
   ]
  },
  {
   "cell_type": "code",
   "execution_count": 40,
   "id": "db3a61b0",
   "metadata": {},
   "outputs": [
    {
     "name": "stdout",
     "output_type": "stream",
     "text": [
      "Minnesota Vikings Offense Points/Game Mean: 23.781818181818185\n",
      "Minnesota Vikings Offense Points/Game Median: 23.9\n",
      "Minnesota Vikings Offense Points/Game Standard Deviation: 2.0004090490788036\n",
      "Minnesota Vikings Offense Points/Game Variance: 4.001636363636362\n",
      "Minnesota Vikings Offense Points/Game Minimum: 20.3\n",
      "Minnesota Vikings Offense Points/Game Maximum: 26.9\n",
      "Minnesota Vikings Offense Points/Game Range: 6.599999999999998\n",
      "Minnesota Vikings Total Points/Game 2012-2022: 261.59999999999997\n"
     ]
    }
   ],
   "source": [
    "team_name21 = 'Minnesota Vikings'\n",
    "vikings_data = nflptsgame[nflptsgame['Team'] == team_name21]\n",
    "mean_value = vikings_data['Off Pts/G'].mean()\n",
    "median_value = vikings_data['Off Pts/G'].median()\n",
    "std_value = vikings_data['Off Pts/G'].std()\n",
    "var_value = vikings_data['Off Pts/G'].var()\n",
    "min_value = vikings_data['Off Pts/G'].min()\n",
    "max_value = vikings_data['Off Pts/G'].max()\n",
    "data_range = max_value - min_value\n",
    "total_points = vikings_data['Off Pts/G'].sum()\n",
    "print(\"Minnesota Vikings Offense Points/Game Mean:\", mean_value)\n",
    "print(\"Minnesota Vikings Offense Points/Game Median:\", median_value)\n",
    "print(\"Minnesota Vikings Offense Points/Game Standard Deviation:\", std_value)\n",
    "print(\"Minnesota Vikings Offense Points/Game Variance:\", var_value)\n",
    "print(\"Minnesota Vikings Offense Points/Game Minimum:\", min_value)\n",
    "print(\"Minnesota Vikings Offense Points/Game Maximum:\", max_value)\n",
    "print(\"Minnesota Vikings Offense Points/Game Range:\", data_range)\n",
    "print(\"Minnesota Vikings Total Points/Game 2012-2022:\", total_points)"
   ]
  },
  {
   "cell_type": "markdown",
   "id": "210ef589",
   "metadata": {},
   "source": [
    "### New England Patriots"
   ]
  },
  {
   "cell_type": "code",
   "execution_count": 41,
   "id": "1bc245b6",
   "metadata": {},
   "outputs": [
    {
     "name": "stdout",
     "output_type": "stream",
     "text": [
      "New England Patriots Offense Points/Game Mean: 27.354545454545452\n",
      "New England Patriots Offense Points/Game Median: 27.8\n",
      "New England Patriots Offense Points/Game Standard Deviation: 3.8784954908736546\n",
      "New England Patriots Offense Points/Game Variance: 15.042727272727273\n",
      "New England Patriots Offense Points/Game Minimum: 20.4\n",
      "New England Patriots Offense Points/Game Maximum: 34.8\n",
      "New England Patriots Offense Points/Game Range: 14.399999999999999\n",
      "New England Patriots Total Points/Game 2012-2022: 300.9\n"
     ]
    }
   ],
   "source": [
    "team_name22 = 'New England Patriots'\n",
    "patriots_data = nflptsgame[nflptsgame['Team'] == team_name22]\n",
    "mean_value = patriots_data['Off Pts/G'].mean()\n",
    "median_value = patriots_data['Off Pts/G'].median()\n",
    "std_value = patriots_data['Off Pts/G'].std()\n",
    "var_value = patriots_data['Off Pts/G'].var()\n",
    "min_value = patriots_data['Off Pts/G'].min()\n",
    "max_value = patriots_data['Off Pts/G'].max()\n",
    "data_range = max_value - min_value\n",
    "total_points = patriots_data['Off Pts/G'].sum()\n",
    "print(\"New England Patriots Offense Points/Game Mean:\", mean_value)\n",
    "print(\"New England Patriots Offense Points/Game Median:\", median_value)\n",
    "print(\"New England Patriots Offense Points/Game Standard Deviation:\", std_value)\n",
    "print(\"New England Patriots Offense Points/Game Variance:\", var_value)\n",
    "print(\"New England Patriots Offense Points/Game Minimum:\", min_value)\n",
    "print(\"New England Patriots Offense Points/Game Maximum:\", max_value)\n",
    "print(\"New England Patriots Offense Points/Game Range:\", data_range)\n",
    "print(\"New England Patriots Total Points/Game 2012-2022:\", total_points)"
   ]
  },
  {
   "cell_type": "markdown",
   "id": "db086ea7",
   "metadata": {},
   "source": [
    "### New Orleans Saints"
   ]
  },
  {
   "cell_type": "code",
   "execution_count": 42,
   "id": "ab59f4a8",
   "metadata": {},
   "outputs": [
    {
     "name": "stdout",
     "output_type": "stream",
     "text": [
      "New Orleans Saints Offense Points/Game Mean: 26.21\n",
      "New Orleans Saints Offense Points/Game Median: 26.95\n",
      "New Orleans Saints Offense Points/Game Standard Deviation: 3.5221363466573026\n",
      "New Orleans Saints Offense Points/Game Variance: 12.40544444444445\n",
      "New Orleans Saints Offense Points/Game Minimum: 19.4\n",
      "New Orleans Saints Offense Points/Game Maximum: 30.1\n",
      "New Orleans Saints Offense Points/Game Range: 10.700000000000003\n",
      "New Orleans Saints Total Points/Game 2012-2022: 262.1\n"
     ]
    }
   ],
   "source": [
    "team_name23 = 'New Orleans Saints'\n",
    "saints_data = nflptsgame[nflptsgame['Team'] == team_name23]\n",
    "mean_value = saints_data['Off Pts/G'].mean()\n",
    "median_value = saints_data['Off Pts/G'].median()\n",
    "std_value = saints_data['Off Pts/G'].std()\n",
    "var_value = saints_data['Off Pts/G'].var()\n",
    "min_value = saints_data['Off Pts/G'].min()\n",
    "max_value = saints_data['Off Pts/G'].max()\n",
    "data_range = max_value - min_value\n",
    "total_points = saints_data['Off Pts/G'].sum()\n",
    "print(\"New Orleans Saints Offense Points/Game Mean:\", mean_value)\n",
    "print(\"New Orleans Saints Offense Points/Game Median:\", median_value)\n",
    "print(\"New Orleans Saints Offense Points/Game Standard Deviation:\", std_value)\n",
    "print(\"New Orleans Saints Offense Points/Game Variance:\", var_value)\n",
    "print(\"New Orleans Saints Offense Points/Game Minimum:\", min_value)\n",
    "print(\"New Orleans Saints Offense Points/Game Maximum:\", max_value)\n",
    "print(\"New Orleans Saints Offense Points/Game Range:\", data_range)\n",
    "print(\"New Orleans Saints Total Points/Game 2012-2022:\", total_points)"
   ]
  },
  {
   "cell_type": "markdown",
   "id": "25878019",
   "metadata": {},
   "source": [
    "### New York Giants"
   ]
  },
  {
   "cell_type": "code",
   "execution_count": 43,
   "id": "338a7068",
   "metadata": {},
   "outputs": [
    {
     "name": "stdout",
     "output_type": "stream",
     "text": [
      "New York Giants Offense Points/Game Mean: 20.081818181818182\n",
      "New York Giants Offense Points/Game Median: 19.4\n",
      "New York Giants Offense Points/Game Standard Deviation: 4.213269082747548\n",
      "New York Giants Offense Points/Game Variance: 17.751636363636365\n",
      "New York Giants Offense Points/Game Minimum: 15.2\n",
      "New York Giants Offense Points/Game Maximum: 26.8\n",
      "New York Giants Offense Points/Game Range: 11.600000000000001\n",
      "New York Giants Total Points/Game 2012-2022: 220.89999999999998\n"
     ]
    }
   ],
   "source": [
    "team_name24 = 'New York Giants'\n",
    "giants_data = nflptsgame[nflptsgame['Team'] == team_name24]\n",
    "mean_value = giants_data['Off Pts/G'].mean()\n",
    "median_value = giants_data['Off Pts/G'].median()\n",
    "std_value = giants_data['Off Pts/G'].std()\n",
    "var_value = giants_data['Off Pts/G'].var()\n",
    "min_value = giants_data['Off Pts/G'].min()\n",
    "max_value = giants_data['Off Pts/G'].max()\n",
    "data_range = max_value - min_value\n",
    "total_points = giants_data['Off Pts/G'].sum()\n",
    "print(\"New York Giants Offense Points/Game Mean:\", mean_value)\n",
    "print(\"New York Giants Offense Points/Game Median:\", median_value)\n",
    "print(\"New York Giants Offense Points/Game Standard Deviation:\", std_value)\n",
    "print(\"New York Giants Offense Points/Game Variance:\", var_value)\n",
    "print(\"New York Giants Offense Points/Game Minimum:\", min_value)\n",
    "print(\"New York Giants Offense Points/Game Maximum:\", max_value)\n",
    "print(\"New York Giants Offense Points/Game Range:\", data_range)\n",
    "print(\"New York Giants Total Points/Game 2012-2022:\", total_points)"
   ]
  },
  {
   "cell_type": "markdown",
   "id": "27e1cc32",
   "metadata": {},
   "source": [
    "### New York Jets"
   ]
  },
  {
   "cell_type": "code",
   "execution_count": 44,
   "id": "fa7be6a3",
   "metadata": {},
   "outputs": [
    {
     "name": "stdout",
     "output_type": "stream",
     "text": [
      "New York Jets Offense Points/Game Mean: 18.18181818181818\n",
      "New York Jets Offense Points/Game Median: 17.7\n",
      "New York Jets Offense Points/Game Standard Deviation: 2.2040046196948784\n",
      "New York Jets Offense Points/Game Variance: 4.857636363636365\n",
      "New York Jets Offense Points/Game Minimum: 15.2\n",
      "New York Jets Offense Points/Game Maximum: 24.2\n",
      "New York Jets Offense Points/Game Range: 9.0\n",
      "New York Jets Total Points/Game 2012-2022: 199.99999999999997\n"
     ]
    }
   ],
   "source": [
    "team_name25 = 'New York Jets'\n",
    "Jets_data = nflptsgame[nflptsgame['Team'] == team_name25]\n",
    "mean_value = Jets_data['Off Pts/G'].mean()\n",
    "median_value = Jets_data['Off Pts/G'].median()\n",
    "std_value = Jets_data['Off Pts/G'].std()\n",
    "var_value = Jets_data['Off Pts/G'].var()\n",
    "min_value = Jets_data['Off Pts/G'].min()\n",
    "max_value = Jets_data['Off Pts/G'].max()\n",
    "data_range = max_value - min_value\n",
    "total_points = Jets_data['Off Pts/G'].sum()\n",
    "print(\"New York Jets Offense Points/Game Mean:\", mean_value)\n",
    "print(\"New York Jets Offense Points/Game Median:\", median_value)\n",
    "print(\"New York Jets Offense Points/Game Standard Deviation:\", std_value)\n",
    "print(\"New York Jets Offense Points/Game Variance:\", var_value)\n",
    "print(\"New York Jets Offense Points/Game Minimum:\", min_value)\n",
    "print(\"New York Jets Offense Points/Game Maximum:\", max_value)\n",
    "print(\"New York Jets Offense Points/Game Range:\", data_range)\n",
    "print(\"New York Jets Total Points/Game 2012-2022:\", total_points)"
   ]
  },
  {
   "cell_type": "markdown",
   "id": "2684d7f8",
   "metadata": {},
   "source": [
    "### Philadelphia Eagles"
   ]
  },
  {
   "cell_type": "code",
   "execution_count": 45,
   "id": "9e8b77b8",
   "metadata": {},
   "outputs": [
    {
     "name": "stdout",
     "output_type": "stream",
     "text": [
      "Philadelphia Eagles Offense Points/Game Mean: 25.236363636363638\n",
      "Philadelphia Eagles Points/Game Median: 26.1\n",
      "Philadelphia Eagles Points/Game Standard Deviation: 3.798492523955452\n",
      "Philadelphia Eagles Points/Game Variance: 14.42854545454546\n",
      "Philadelphia Eagles Points/Game Minimum: 17.5\n",
      "Philadelphia Eagles Points/Game Maximum: 29.6\n",
      "Philadelphia Eagles Points/Game Range: 12.100000000000001\n",
      "Philadelphia Eagles Total Points/Game 2012-2022: 277.6\n"
     ]
    }
   ],
   "source": [
    "team_name26 = 'Philadelphia Eagles'\n",
    "eagles_data = nflptsgame[nflptsgame['Team'] == team_name26]\n",
    "mean_value = eagles_data['Off Pts/G'].mean()\n",
    "median_value = eagles_data['Off Pts/G'].median()\n",
    "std_value = eagles_data['Off Pts/G'].std()\n",
    "var_value = eagles_data['Off Pts/G'].var()\n",
    "min_value = eagles_data['Off Pts/G'].min()\n",
    "max_value = eagles_data['Off Pts/G'].max()\n",
    "data_range = max_value - min_value\n",
    "total_points = eagles_data['Off Pts/G'].sum()\n",
    "print(\"Philadelphia Eagles Offense Points/Game Mean:\", mean_value)\n",
    "print(\"Philadelphia Eagles Points/Game Median:\", median_value)\n",
    "print(\"Philadelphia Eagles Points/Game Standard Deviation:\", std_value)\n",
    "print(\"Philadelphia Eagles Points/Game Variance:\", var_value)\n",
    "print(\"Philadelphia Eagles Points/Game Minimum:\", min_value)\n",
    "print(\"Philadelphia Eagles Points/Game Maximum:\", max_value)\n",
    "print(\"Philadelphia Eagles Points/Game Range:\", data_range)\n",
    "print(\"Philadelphia Eagles Total Points/Game 2012-2022:\", total_points)"
   ]
  },
  {
   "cell_type": "markdown",
   "id": "97b30b2b",
   "metadata": {},
   "source": [
    "### Pittsburgh Steelers"
   ]
  },
  {
   "cell_type": "code",
   "execution_count": 47,
   "id": "c63132a5",
   "metadata": {},
   "outputs": [
    {
     "name": "stdout",
     "output_type": "stream",
     "text": [
      "Pittsburgh Steelers Offense Points Mean: 23.309090909090912\n",
      "Pittsburgh Steelers Offense Points/Game Median: 24.9\n",
      "Pittsburgh Steelers Offense Points/Game Standard Deviation: 3.356025788177005\n",
      "Pittsburgh Steelers Offense Points/Game Variance: 11.262909090909087\n",
      "Pittsburgh Steelers Offense Points/Game Minimum: 18.1\n",
      "Pittsburgh Steelers Offense Points/Game Maximum: 27.2\n",
      "Pittsburgh Steelers Offense Points/Game Range: 9.099999999999998\n",
      "Pittsburgh Steelers Total Points/Game 2012-2022: 256.4\n"
     ]
    }
   ],
   "source": [
    "team_name27 = 'Pittsburgh Steelers'\n",
    "steelers_data = nflptsgame[nflptsgame['Team'] == team_name27]\n",
    "mean_value = steelers_data['Off Pts/G'].mean()\n",
    "median_value = steelers_data['Off Pts/G'].median()\n",
    "std_value = steelers_data['Off Pts/G'].std()\n",
    "var_value = steelers_data['Off Pts/G'].var()\n",
    "min_value = steelers_data['Off Pts/G'].min()\n",
    "max_value = steelers_data['Off Pts/G'].max()\n",
    "data_range = max_value - min_value\n",
    "total_points = steelers_data['Off Pts/G'].sum()\n",
    "print(\"Pittsburgh Steelers Offense Points Mean:\", mean_value)\n",
    "print(\"Pittsburgh Steelers Offense Points/Game Median:\", median_value)\n",
    "print(\"Pittsburgh Steelers Offense Points/Game Standard Deviation:\", std_value)\n",
    "print(\"Pittsburgh Steelers Offense Points/Game Variance:\", var_value)\n",
    "print(\"Pittsburgh Steelers Offense Points/Game Minimum:\", min_value)\n",
    "print(\"Pittsburgh Steelers Offense Points/Game Maximum:\", max_value)\n",
    "print(\"Pittsburgh Steelers Offense Points/Game Range:\", data_range)\n",
    "print(\"Pittsburgh Steelers Total Points/Game 2012-2022:\", total_points)"
   ]
  },
  {
   "cell_type": "markdown",
   "id": "1ddcc8b5",
   "metadata": {},
   "source": [
    "### San Francisco 49ers"
   ]
  },
  {
   "cell_type": "code",
   "execution_count": 49,
   "id": "f48779a3",
   "metadata": {},
   "outputs": [
    {
     "name": "stdout",
     "output_type": "stream",
     "text": [
      "San Francisco 49ers Offense Points Mean: 22.71818181818182\n",
      "San Francisco 49ers Offense Points/Game Median: 23.5\n",
      "San Francisco 49ers Offense Points/Game Standard Deviation: 4.21587907364957\n",
      "San Francisco 49ers Offense Points/Game Variance: 17.773636363636356\n",
      "San Francisco 49ers Offense Points/Game Minimum: 14.9\n",
      "San Francisco 49ers Offense Points/Game Maximum: 29.9\n",
      "San Francisco 49ers Offense Points/Game Range: 14.999999999999998\n",
      "San Francisco 49ers Total Points/Game 2012-2022: 249.9\n"
     ]
    }
   ],
   "source": [
    "team_name28 = 'San Francisco 49ers'\n",
    "niners_data = nflptsgame[nflptsgame['Team'] == team_name28]\n",
    "mean_value = niners_data['Off Pts/G'].mean()\n",
    "median_value = niners_data['Off Pts/G'].median()\n",
    "std_value = niners_data['Off Pts/G'].std()\n",
    "var_value = niners_data['Off Pts/G'].var()\n",
    "min_value = niners_data['Off Pts/G'].min()\n",
    "max_value = niners_data['Off Pts/G'].max()\n",
    "data_range = max_value - min_value\n",
    "total_points = niners_data['Off Pts/G'].sum()\n",
    "print(\"San Francisco 49ers Offense Points Mean:\", mean_value)\n",
    "print(\"San Francisco 49ers Offense Points/Game Median:\", median_value)\n",
    "print(\"San Francisco 49ers Offense Points/Game Standard Deviation:\", std_value)\n",
    "print(\"San Francisco 49ers Offense Points/Game Variance:\", var_value)\n",
    "print(\"San Francisco 49ers Offense Points/Game Minimum:\", min_value)\n",
    "print(\"San Francisco 49ers Offense Points/Game Maximum:\", max_value)\n",
    "print(\"San Francisco 49ers Offense Points/Game Range:\", data_range)\n",
    "print(\"San Francisco 49ers Total Points/Game 2012-2022:\", total_points)"
   ]
  },
  {
   "cell_type": "markdown",
   "id": "eed4c602",
   "metadata": {},
   "source": [
    "### Tampa Bay Buccaneers"
   ]
  },
  {
   "cell_type": "code",
   "execution_count": 50,
   "id": "7fe4da32",
   "metadata": {},
   "outputs": [
    {
     "name": "stdout",
     "output_type": "stream",
     "text": [
      "Tampa Bay Buccaneers Offense Points/Game Mean: 22.981818181818184\n",
      "Tampa Bay Buccaneers Offense Points/Game Median: 21.4\n",
      "Tampa Bay Buccaneers Offense Points/Game Standard Deviation: 4.849086136957806\n",
      "Tampa Bay Buccaneers Offense Points/Game Variance: 23.513636363636373\n",
      "Tampa Bay Buccaneers Offense Points/Game Minimum: 17.3\n",
      "Tampa Bay Buccaneers Offense Points/Game Maximum: 30.8\n",
      "Tampa Bay Buccaneers Offense Points/Game Range: 13.5\n",
      "Tampa Bay Buccaneers Total Points/Game 2012-2022: 252.8\n"
     ]
    }
   ],
   "source": [
    "team_name29 = 'Tampa Bay Buccaneers'\n",
    "buccaneers_data = nflptsgame[nflptsgame['Team'] == team_name29]\n",
    "mean_value = buccaneers_data['Off Pts/G'].mean()\n",
    "median_value = buccaneers_data['Off Pts/G'].median()\n",
    "std_value = buccaneers_data['Off Pts/G'].std()\n",
    "var_value = buccaneers_data['Off Pts/G'].var()\n",
    "min_value = buccaneers_data['Off Pts/G'].min()\n",
    "max_value = buccaneers_data['Off Pts/G'].max()\n",
    "data_range = max_value - min_value\n",
    "total_points = buccaneers_data['Off Pts/G'].sum()\n",
    "print(\"Tampa Bay Buccaneers Offense Points/Game Mean:\", mean_value)\n",
    "print(\"Tampa Bay Buccaneers Offense Points/Game Median:\", median_value)\n",
    "print(\"Tampa Bay Buccaneers Offense Points/Game Standard Deviation:\", std_value)\n",
    "print(\"Tampa Bay Buccaneers Offense Points/Game Variance:\", var_value)\n",
    "print(\"Tampa Bay Buccaneers Offense Points/Game Minimum:\", min_value)\n",
    "print(\"Tampa Bay Buccaneers Offense Points/Game Maximum:\", max_value)\n",
    "print(\"Tampa Bay Buccaneers Offense Points/Game Range:\", data_range)\n",
    "print(\"Tampa Bay Buccaneers Total Points/Game 2012-2022:\", total_points)"
   ]
  },
  {
   "cell_type": "markdown",
   "id": "678a85bc",
   "metadata": {},
   "source": [
    "### Tennessee Titans"
   ]
  },
  {
   "cell_type": "code",
   "execution_count": 51,
   "id": "c5b2c538",
   "metadata": {
    "scrolled": true
   },
   "outputs": [
    {
     "name": "stdout",
     "output_type": "stream",
     "text": [
      "Tennessee Titans Offense Points/Game Mean: 21.936363636363634\n",
      "Tennessee Titans Offense Points/Game Median: 20.9\n",
      "Tennessee Titans Offense Points/Game Standard Deviation: 4.102992256213196\n",
      "Tennessee Titans Offense Points/Game Variance: 16.834545454545456\n",
      "Tennessee Titans Offense Points/Game Minimum: 15.9\n",
      "Tennessee Titans Offense Points/Game Maximum: 30.7\n",
      "Tennessee Titans Offense Points/Game Range: 14.799999999999999\n",
      "Tennessee Titans Total Points/Game 2012-2022: 241.29999999999998\n"
     ]
    }
   ],
   "source": [
    "team_name30 = 'Tennessee Titans'\n",
    "titans_data = nflptsgame[nflptsgame['Team'] == team_name30]\n",
    "mean_value = titans_data['Off Pts/G'].mean()\n",
    "median_value = titans_data['Off Pts/G'].median()\n",
    "std_value = titans_data['Off Pts/G'].std()\n",
    "var_value = titans_data['Off Pts/G'].var()\n",
    "min_value = titans_data['Off Pts/G'].min()\n",
    "max_value = titans_data['Off Pts/G'].max()\n",
    "data_range = max_value - min_value\n",
    "total_points = titans_data['Off Pts/G'].sum()\n",
    "print(\"Tennessee Titans Offense Points/Game Mean:\", mean_value)\n",
    "print(\"Tennessee Titans Offense Points/Game Median:\", median_value)\n",
    "print(\"Tennessee Titans Offense Points/Game Standard Deviation:\", std_value)\n",
    "print(\"Tennessee Titans Offense Points/Game Variance:\", var_value)\n",
    "print(\"Tennessee Titans Offense Points/Game Minimum:\", min_value)\n",
    "print(\"Tennessee Titans Offense Points/Game Maximum:\", max_value)\n",
    "print(\"Tennessee Titans Offense Points/Game Range:\", data_range)\n",
    "print(\"Tennessee Titans Total Points/Game 2012-2022:\", total_points)"
   ]
  },
  {
   "cell_type": "markdown",
   "id": "965d33df",
   "metadata": {},
   "source": [
    "### Washington Commanders"
   ]
  },
  {
   "cell_type": "code",
   "execution_count": 52,
   "id": "83b7655b",
   "metadata": {},
   "outputs": [
    {
     "name": "stdout",
     "output_type": "stream",
     "text": [
      "Washington Commanders Offense Points/Game Mean: 21.345454545454544\n",
      "Washington Commanders Offense Points/Game Median: 20.9\n",
      "Washington Commanders Offense Points/Game Standard Deviation: 3.040514310561171\n",
      "Washington Commanders Offense Points/Game Variance: 9.244727272727273\n",
      "Washington Commanders Offense Points/Game Minimum: 16.6\n",
      "Washington Commanders Offense Points/Game Points Maximum: 27.2\n",
      "Washington Commanders Offense Points/Game Range: 10.599999999999998\n",
      "Washington Commanders Total Points/Game 2012-2022: 234.8\n"
     ]
    }
   ],
   "source": [
    "team_name31 = 'Washington Commanders'\n",
    "commanders_data = nflptsgame[nflptsgame['Team'] == team_name31]\n",
    "mean_value = commanders_data['Off Pts/G'].mean()\n",
    "median_value = commanders_data['Off Pts/G'].median()\n",
    "std_value = commanders_data['Off Pts/G'].std()\n",
    "var_value = commanders_data['Off Pts/G'].var()\n",
    "min_value = commanders_data['Off Pts/G'].min()\n",
    "max_value = commanders_data['Off Pts/G'].max()\n",
    "total_points = commanders_data['Off Pts/G'].sum()\n",
    "data_range = max_value - min_value\n",
    "print(\"Washington Commanders Offense Points/Game Mean:\", mean_value)\n",
    "print(\"Washington Commanders Offense Points/Game Median:\", median_value)\n",
    "print(\"Washington Commanders Offense Points/Game Standard Deviation:\", std_value)\n",
    "print(\"Washington Commanders Offense Points/Game Variance:\", var_value)\n",
    "print(\"Washington Commanders Offense Points/Game Minimum:\", min_value)\n",
    "print(\"Washington Commanders Offense Points/Game Points Maximum:\", max_value)\n",
    "print(\"Washington Commanders Offense Points/Game Range:\", data_range)\n",
    "print(\"Washington Commanders Total Points/Game 2012-2022:\", total_points)"
   ]
  },
  {
   "cell_type": "code",
   "execution_count": null,
   "id": "7b5e327c",
   "metadata": {},
   "outputs": [],
   "source": []
  }
 ],
 "metadata": {
  "kernelspec": {
   "display_name": "Python 3 (ipykernel)",
   "language": "python",
   "name": "python3"
  },
  "language_info": {
   "codemirror_mode": {
    "name": "ipython",
    "version": 3
   },
   "file_extension": ".py",
   "mimetype": "text/x-python",
   "name": "python",
   "nbconvert_exporter": "python",
   "pygments_lexer": "ipython3",
   "version": "3.9.12"
  }
 },
 "nbformat": 4,
 "nbformat_minor": 5
}

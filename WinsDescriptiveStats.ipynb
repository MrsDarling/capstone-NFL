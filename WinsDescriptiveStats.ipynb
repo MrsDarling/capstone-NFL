{
 "cells": [
  {
   "cell_type": "markdown",
   "id": "ca763d8d",
   "metadata": {},
   "source": [
    "# Descriptive Statistics for Wins for Each Team"
   ]
  },
  {
   "cell_type": "markdown",
   "id": "649ef116",
   "metadata": {},
   "source": [
    "#### Import Packages"
   ]
  },
  {
   "cell_type": "code",
   "execution_count": 5,
   "id": "b23f9d8d",
   "metadata": {},
   "outputs": [],
   "source": [
    "import pandas as pd\n",
    "import numpy as np\n",
    "from scipy.stats import norm\n",
    "from scipy import stats\n",
    "import seaborn as sns\n",
    "import matplotlib.pyplot as plt"
   ]
  },
  {
   "cell_type": "markdown",
   "id": "b0be25b3",
   "metadata": {},
   "source": [
    "#### Import NFL Dataset 2012-2022"
   ]
  },
  {
   "cell_type": "code",
   "execution_count": 6,
   "id": "33f5a7e5",
   "metadata": {},
   "outputs": [
    {
     "data": {
      "text/html": [
       "<div>\n",
       "<style scoped>\n",
       "    .dataframe tbody tr th:only-of-type {\n",
       "        vertical-align: middle;\n",
       "    }\n",
       "\n",
       "    .dataframe tbody tr th {\n",
       "        vertical-align: top;\n",
       "    }\n",
       "\n",
       "    .dataframe thead th {\n",
       "        text-align: right;\n",
       "    }\n",
       "</style>\n",
       "<table border=\"1\" class=\"dataframe\">\n",
       "  <thead>\n",
       "    <tr style=\"text-align: right;\">\n",
       "      <th></th>\n",
       "      <th>Team</th>\n",
       "      <th>Off Tot/Pts</th>\n",
       "      <th>Off Pts/G</th>\n",
       "      <th>Off RushYds</th>\n",
       "      <th>Off RYds/G</th>\n",
       "      <th>Off PassYds</th>\n",
       "      <th>Off PYds/G</th>\n",
       "      <th>Off TotYds</th>\n",
       "      <th>Off Yds/G</th>\n",
       "      <th>Def Tot/Pts</th>\n",
       "      <th>...</th>\n",
       "      <th>Def PassYds</th>\n",
       "      <th>Def PYds/G</th>\n",
       "      <th>Def TotYds</th>\n",
       "      <th>Def Yds/G</th>\n",
       "      <th>Year</th>\n",
       "      <th>Wins</th>\n",
       "      <th>Losses</th>\n",
       "      <th>Tie</th>\n",
       "      <th>Superbowl</th>\n",
       "      <th>SB Win</th>\n",
       "    </tr>\n",
       "  </thead>\n",
       "  <tbody>\n",
       "    <tr>\n",
       "      <th>0</th>\n",
       "      <td>Arizona Cardinals</td>\n",
       "      <td>250</td>\n",
       "      <td>15.6</td>\n",
       "      <td>1204</td>\n",
       "      <td>75.2</td>\n",
       "      <td>3005</td>\n",
       "      <td>187.8</td>\n",
       "      <td>4209</td>\n",
       "      <td>263.1</td>\n",
       "      <td>357</td>\n",
       "      <td>...</td>\n",
       "      <td>3213</td>\n",
       "      <td>200.8</td>\n",
       "      <td>5405</td>\n",
       "      <td>337.8</td>\n",
       "      <td>2012</td>\n",
       "      <td>5</td>\n",
       "      <td>11</td>\n",
       "      <td>0.0</td>\n",
       "      <td>No</td>\n",
       "      <td>No</td>\n",
       "    </tr>\n",
       "    <tr>\n",
       "      <th>1</th>\n",
       "      <td>Atlanta Falcons</td>\n",
       "      <td>419</td>\n",
       "      <td>26.2</td>\n",
       "      <td>1397</td>\n",
       "      <td>87.3</td>\n",
       "      <td>4509</td>\n",
       "      <td>281.8</td>\n",
       "      <td>5906</td>\n",
       "      <td>369.1</td>\n",
       "      <td>299</td>\n",
       "      <td>...</td>\n",
       "      <td>3878</td>\n",
       "      <td>242.4</td>\n",
       "      <td>5849</td>\n",
       "      <td>365.6</td>\n",
       "      <td>2012</td>\n",
       "      <td>13</td>\n",
       "      <td>3</td>\n",
       "      <td>0.0</td>\n",
       "      <td>No</td>\n",
       "      <td>No</td>\n",
       "    </tr>\n",
       "    <tr>\n",
       "      <th>2</th>\n",
       "      <td>Baltimore Ravens</td>\n",
       "      <td>398</td>\n",
       "      <td>24.9</td>\n",
       "      <td>1901</td>\n",
       "      <td>118.8</td>\n",
       "      <td>3739</td>\n",
       "      <td>233.7</td>\n",
       "      <td>5640</td>\n",
       "      <td>352.5</td>\n",
       "      <td>344</td>\n",
       "      <td>...</td>\n",
       "      <td>3650</td>\n",
       "      <td>228.1</td>\n",
       "      <td>5615</td>\n",
       "      <td>350.9</td>\n",
       "      <td>2012</td>\n",
       "      <td>10</td>\n",
       "      <td>6</td>\n",
       "      <td>0.0</td>\n",
       "      <td>Yes</td>\n",
       "      <td>Yes</td>\n",
       "    </tr>\n",
       "    <tr>\n",
       "      <th>3</th>\n",
       "      <td>Buffalo Bills</td>\n",
       "      <td>344</td>\n",
       "      <td>21.5</td>\n",
       "      <td>2217</td>\n",
       "      <td>138.6</td>\n",
       "      <td>3269</td>\n",
       "      <td>204.3</td>\n",
       "      <td>5486</td>\n",
       "      <td>342.9</td>\n",
       "      <td>435</td>\n",
       "      <td>...</td>\n",
       "      <td>3473</td>\n",
       "      <td>217.1</td>\n",
       "      <td>5806</td>\n",
       "      <td>362.9</td>\n",
       "      <td>2012</td>\n",
       "      <td>6</td>\n",
       "      <td>10</td>\n",
       "      <td>0.0</td>\n",
       "      <td>No</td>\n",
       "      <td>No</td>\n",
       "    </tr>\n",
       "    <tr>\n",
       "      <th>4</th>\n",
       "      <td>Carolina Panthers</td>\n",
       "      <td>357</td>\n",
       "      <td>22.3</td>\n",
       "      <td>2088</td>\n",
       "      <td>130.5</td>\n",
       "      <td>3683</td>\n",
       "      <td>230.2</td>\n",
       "      <td>5771</td>\n",
       "      <td>360.7</td>\n",
       "      <td>363</td>\n",
       "      <td>...</td>\n",
       "      <td>3568</td>\n",
       "      <td>223.0</td>\n",
       "      <td>5329</td>\n",
       "      <td>333.1</td>\n",
       "      <td>2012</td>\n",
       "      <td>7</td>\n",
       "      <td>9</td>\n",
       "      <td>0.0</td>\n",
       "      <td>No</td>\n",
       "      <td>No</td>\n",
       "    </tr>\n",
       "  </tbody>\n",
       "</table>\n",
       "<p>5 rows × 23 columns</p>\n",
       "</div>"
      ],
      "text/plain": [
       "                Team  Off Tot/Pts  Off Pts/G  Off RushYds  Off RYds/G  \\\n",
       "0  Arizona Cardinals          250       15.6         1204        75.2   \n",
       "1    Atlanta Falcons          419       26.2         1397        87.3   \n",
       "2   Baltimore Ravens          398       24.9         1901       118.8   \n",
       "3      Buffalo Bills          344       21.5         2217       138.6   \n",
       "4  Carolina Panthers          357       22.3         2088       130.5   \n",
       "\n",
       "   Off PassYds  Off PYds/G  Off TotYds  Off Yds/G  Def Tot/Pts  ...  \\\n",
       "0         3005       187.8        4209      263.1          357  ...   \n",
       "1         4509       281.8        5906      369.1          299  ...   \n",
       "2         3739       233.7        5640      352.5          344  ...   \n",
       "3         3269       204.3        5486      342.9          435  ...   \n",
       "4         3683       230.2        5771      360.7          363  ...   \n",
       "\n",
       "   Def PassYds  Def PYds/G  Def TotYds  Def Yds/G  Year  Wins  Losses  Tie  \\\n",
       "0         3213       200.8        5405      337.8  2012     5      11  0.0   \n",
       "1         3878       242.4        5849      365.6  2012    13       3  0.0   \n",
       "2         3650       228.1        5615      350.9  2012    10       6  0.0   \n",
       "3         3473       217.1        5806      362.9  2012     6      10  0.0   \n",
       "4         3568       223.0        5329      333.1  2012     7       9  0.0   \n",
       "\n",
       "   Superbowl  SB Win  \n",
       "0         No      No  \n",
       "1         No      No  \n",
       "2        Yes     Yes  \n",
       "3         No      No  \n",
       "4         No      No  \n",
       "\n",
       "[5 rows x 23 columns]"
      ]
     },
     "execution_count": 6,
     "metadata": {},
     "output_type": "execute_result"
    }
   ],
   "source": [
    "nflwins = pd.read_csv('/Users/admin/Desktop/Final_Project/NFL_merged/nfl2012_2022merge.csv')\n",
    "nflwins.head()"
   ]
  },
  {
   "cell_type": "markdown",
   "id": "784b34d0",
   "metadata": {},
   "source": [
    "## Calculating Descriptive Statistics by Team\n",
    "#### First filter the data by a single team - I will use the Seattle Seahawks, my favorite team, to start."
   ]
  },
  {
   "cell_type": "code",
   "execution_count": 3,
   "id": "69c58961",
   "metadata": {},
   "outputs": [
    {
     "name": "stdout",
     "output_type": "stream",
     "text": [
      "Year: 2012 \tWins: 11\n",
      "Year: 2013 \tWins: 13\n",
      "Year: 2014 \tWins: 12\n",
      "Year: 2015 \tWins: 10\n",
      "Year: 2016 \tWins: 10\n",
      "Year: 2017 \tWins: 9\n",
      "Year: 2018 \tWins: 10\n",
      "Year: 2019 \tWins: 11\n",
      "Year: 2020 \tWins: 12\n",
      "Year: 2021 \tWins: 7\n",
      "Year: 2022 \tWins: 9\n"
     ]
    }
   ],
   "source": [
    "team_name = 'Seattle Seahawks'\n",
    "seahawks_data = nflwins[nflwins['Team'] == team_name]\n",
    "\n",
    "#### Display wins by year for the Seahawks\n",
    "\n",
    "for year in seahawks_data['Year'].unique():\n",
    "    wins = seahawks_data.loc[seahawks_data['Year'] == year, 'Wins'].values[0]\n",
    "    print(\"Year:\", year, \"\\tWins:\", wins)"
   ]
  },
  {
   "cell_type": "markdown",
   "id": "0c3ba5fa",
   "metadata": {},
   "source": [
    "#### What is the mean  Wins for the Seahawks over all years?"
   ]
  },
  {
   "cell_type": "code",
   "execution_count": 4,
   "id": "24c6cbe1",
   "metadata": {},
   "outputs": [
    {
     "name": "stdout",
     "output_type": "stream",
     "text": [
      "10.363636363636363\n"
     ]
    }
   ],
   "source": [
    "mean_wins = seahawks_data['Wins'].mean()\n",
    "print(mean_wins)"
   ]
  },
  {
   "cell_type": "markdown",
   "id": "5b3748d2",
   "metadata": {},
   "source": [
    "#### Let's calculate several descriptive statistics on  Wins for the Seahawks"
   ]
  },
  {
   "cell_type": "code",
   "execution_count": 5,
   "id": "d26edc74",
   "metadata": {},
   "outputs": [
    {
     "name": "stdout",
     "output_type": "stream",
     "text": [
      "Seattle Seahawks  Wins Mean: 10.363636363636363\n",
      "Seattle Seahawks  Wins Median: 10.0\n",
      "Seattle Seahawks  Wins Standard Deviation: 1.689540012709215\n",
      "Seattle Seahawks  Wins Variance: 2.8545454545454545\n",
      "Seattle Seahawks  Wins Minimum: 7\n",
      "Seattle Seahawks  Wins Maximum: 13\n",
      "Seattle Seahawks  Wins Range: 6\n",
      "Seattle Seahawks Total Wins 2012-2022: 114\n"
     ]
    }
   ],
   "source": [
    "mean_value = seahawks_data['Wins'].mean()\n",
    "median_value = seahawks_data['Wins'].median()\n",
    "std_value = seahawks_data['Wins'].std()\n",
    "var_value = seahawks_data['Wins'].var()\n",
    "min_value = seahawks_data['Wins'].min()\n",
    "max_value = seahawks_data['Wins'].max()\n",
    "data_range = max_value - min_value\n",
    "total_points = seahawks_data['Wins'].sum()\n",
    "print(\"Seattle Seahawks  Wins Mean:\", mean_value)\n",
    "print(\"Seattle Seahawks  Wins Median:\", median_value)\n",
    "print(\"Seattle Seahawks  Wins Standard Deviation:\", std_value)\n",
    "print(\"Seattle Seahawks  Wins Variance:\", var_value)\n",
    "print(\"Seattle Seahawks  Wins Minimum:\", min_value)\n",
    "print(\"Seattle Seahawks  Wins Maximum:\", max_value)\n",
    "print(\"Seattle Seahawks  Wins Range:\", data_range)\n",
    "print(\"Seattle Seahawks Total Wins 2012-2022:\", total_points)"
   ]
  },
  {
   "cell_type": "markdown",
   "id": "e69f7a6a",
   "metadata": {},
   "source": [
    "#### Calculating all Teams Wins per year"
   ]
  },
  {
   "cell_type": "code",
   "execution_count": 6,
   "id": "dbe5c0fa",
   "metadata": {},
   "outputs": [
    {
     "name": "stdout",
     "output_type": "stream",
     "text": [
      "Team: Arizona Cardinals \tYear: 2012 \tWins: 5\n",
      "Team: Arizona Cardinals \tYear: 2013 \tWins: 10\n",
      "Team: Arizona Cardinals \tYear: 2014 \tWins: 11\n",
      "Team: Arizona Cardinals \tYear: 2015 \tWins: 13\n",
      "Team: Arizona Cardinals \tYear: 2016 \tWins: 7\n",
      "Team: Arizona Cardinals \tYear: 2017 \tWins: 8\n",
      "Team: Arizona Cardinals \tYear: 2018 \tWins: 3\n",
      "Team: Arizona Cardinals \tYear: 2019 \tWins: 5\n",
      "Team: Arizona Cardinals \tYear: 2020 \tWins: 8\n",
      "Team: Arizona Cardinals \tYear: 2021 \tWins: 11\n",
      "Team: Arizona Cardinals \tYear: 2022 \tWins: 4\n",
      "Team: Atlanta Falcons \tYear: 2012 \tWins: 13\n",
      "Team: Atlanta Falcons \tYear: 2013 \tWins: 4\n",
      "Team: Atlanta Falcons \tYear: 2014 \tWins: 6\n",
      "Team: Atlanta Falcons \tYear: 2015 \tWins: 8\n",
      "Team: Atlanta Falcons \tYear: 2016 \tWins: 11\n",
      "Team: Atlanta Falcons \tYear: 2017 \tWins: 10\n",
      "Team: Atlanta Falcons \tYear: 2018 \tWins: 7\n",
      "Team: Atlanta Falcons \tYear: 2019 \tWins: 7\n",
      "Team: Atlanta Falcons \tYear: 2020 \tWins: 4\n",
      "Team: Atlanta Falcons \tYear: 2021 \tWins: 7\n",
      "Team: Atlanta Falcons \tYear: 2022 \tWins: 7\n",
      "Team: Baltimore Ravens \tYear: 2012 \tWins: 10\n",
      "Team: Baltimore Ravens \tYear: 2013 \tWins: 8\n",
      "Team: Baltimore Ravens \tYear: 2014 \tWins: 10\n",
      "Team: Baltimore Ravens \tYear: 2015 \tWins: 5\n",
      "Team: Baltimore Ravens \tYear: 2016 \tWins: 8\n",
      "Team: Baltimore Ravens \tYear: 2017 \tWins: 9\n",
      "Team: Baltimore Ravens \tYear: 2018 \tWins: 10\n",
      "Team: Baltimore Ravens \tYear: 2019 \tWins: 14\n",
      "Team: Baltimore Ravens \tYear: 2020 \tWins: 11\n",
      "Team: Baltimore Ravens \tYear: 2021 \tWins: 8\n",
      "Team: Baltimore Ravens \tYear: 2022 \tWins: 10\n",
      "Team: Buffalo Bills \tYear: 2012 \tWins: 6\n",
      "Team: Buffalo Bills \tYear: 2013 \tWins: 6\n",
      "Team: Buffalo Bills \tYear: 2014 \tWins: 9\n",
      "Team: Buffalo Bills \tYear: 2015 \tWins: 8\n",
      "Team: Buffalo Bills \tYear: 2016 \tWins: 7\n",
      "Team: Buffalo Bills \tYear: 2017 \tWins: 9\n",
      "Team: Buffalo Bills \tYear: 2018 \tWins: 6\n",
      "Team: Buffalo Bills \tYear: 2019 \tWins: 10\n",
      "Team: Buffalo Bills \tYear: 2020 \tWins: 13\n",
      "Team: Buffalo Bills \tYear: 2021 \tWins: 11\n",
      "Team: Buffalo Bills \tYear: 2022 \tWins: 13\n",
      "Team: Carolina Panthers \tYear: 2012 \tWins: 7\n",
      "Team: Carolina Panthers \tYear: 2013 \tWins: 12\n",
      "Team: Carolina Panthers \tYear: 2014 \tWins: 7\n",
      "Team: Carolina Panthers \tYear: 2015 \tWins: 15\n",
      "Team: Carolina Panthers \tYear: 2016 \tWins: 6\n",
      "Team: Carolina Panthers \tYear: 2017 \tWins: 11\n",
      "Team: Carolina Panthers \tYear: 2018 \tWins: 7\n",
      "Team: Carolina Panthers \tYear: 2019 \tWins: 5\n",
      "Team: Carolina Panthers \tYear: 2020 \tWins: 5\n",
      "Team: Carolina Panthers \tYear: 2021 \tWins: 5\n",
      "Team: Carolina Panthers \tYear: 2022 \tWins: 7\n",
      "Team: Chicago Bears \tYear: 2012 \tWins: 10\n",
      "Team: Chicago Bears \tYear: 2013 \tWins: 8\n",
      "Team: Chicago Bears \tYear: 2014 \tWins: 5\n",
      "Team: Chicago Bears \tYear: 2015 \tWins: 6\n",
      "Team: Chicago Bears \tYear: 2016 \tWins: 3\n",
      "Team: Chicago Bears \tYear: 2017 \tWins: 5\n",
      "Team: Chicago Bears \tYear: 2018 \tWins: 12\n",
      "Team: Chicago Bears \tYear: 2019 \tWins: 8\n",
      "Team: Chicago Bears \tYear: 2020 \tWins: 8\n",
      "Team: Chicago Bears \tYear: 2021 \tWins: 6\n",
      "Team: Chicago Bears \tYear: 2022 \tWins: 3\n",
      "Team: Cincinnati Bengals \tYear: 2012 \tWins: 10\n",
      "Team: Cincinnati Bengals \tYear: 2013 \tWins: 11\n",
      "Team: Cincinnati Bengals \tYear: 2014 \tWins: 10\n",
      "Team: Cincinnati Bengals \tYear: 2015 \tWins: 12\n",
      "Team: Cincinnati Bengals \tYear: 2016 \tWins: 6\n",
      "Team: Cincinnati Bengals \tYear: 2017 \tWins: 7\n",
      "Team: Cincinnati Bengals \tYear: 2018 \tWins: 6\n",
      "Team: Cincinnati Bengals \tYear: 2019 \tWins: 2\n",
      "Team: Cincinnati Bengals \tYear: 2020 \tWins: 4\n",
      "Team: Cincinnati Bengals \tYear: 2021 \tWins: 10\n",
      "Team: Cincinnati Bengals \tYear: 2022 \tWins: 12\n",
      "Team: Cleveland Browns \tYear: 2012 \tWins: 5\n",
      "Team: Cleveland Browns \tYear: 2013 \tWins: 4\n",
      "Team: Cleveland Browns \tYear: 2014 \tWins: 7\n",
      "Team: Cleveland Browns \tYear: 2015 \tWins: 3\n",
      "Team: Cleveland Browns \tYear: 2016 \tWins: 1\n",
      "Team: Cleveland Browns \tYear: 2017 \tWins: 0\n",
      "Team: Cleveland Browns \tYear: 2018 \tWins: 7\n",
      "Team: Cleveland Browns \tYear: 2019 \tWins: 6\n",
      "Team: Cleveland Browns \tYear: 2020 \tWins: 11\n",
      "Team: Cleveland Browns \tYear: 2021 \tWins: 8\n",
      "Team: Cleveland Browns \tYear: 2022 \tWins: 7\n",
      "Team: Dallas Cowboys \tYear: 2012 \tWins: 8\n",
      "Team: Dallas Cowboys \tYear: 2013 \tWins: 8\n",
      "Team: Dallas Cowboys \tYear: 2014 \tWins: 12\n",
      "Team: Dallas Cowboys \tYear: 2015 \tWins: 4\n",
      "Team: Dallas Cowboys \tYear: 2016 \tWins: 13\n",
      "Team: Dallas Cowboys \tYear: 2017 \tWins: 9\n",
      "Team: Dallas Cowboys \tYear: 2018 \tWins: 10\n",
      "Team: Dallas Cowboys \tYear: 2019 \tWins: 8\n",
      "Team: Dallas Cowboys \tYear: 2020 \tWins: 6\n",
      "Team: Dallas Cowboys \tYear: 2021 \tWins: 12\n",
      "Team: Dallas Cowboys \tYear: 2022 \tWins: 12\n",
      "Team: Denver Broncos \tYear: 2012 \tWins: 13\n",
      "Team: Denver Broncos \tYear: 2013 \tWins: 13\n",
      "Team: Denver Broncos \tYear: 2014 \tWins: 12\n",
      "Team: Denver Broncos \tYear: 2015 \tWins: 12\n",
      "Team: Denver Broncos \tYear: 2016 \tWins: 9\n",
      "Team: Denver Broncos \tYear: 2017 \tWins: 5\n",
      "Team: Denver Broncos \tYear: 2018 \tWins: 6\n",
      "Team: Denver Broncos \tYear: 2019 \tWins: 7\n",
      "Team: Denver Broncos \tYear: 2020 \tWins: 5\n",
      "Team: Denver Broncos \tYear: 2021 \tWins: 7\n",
      "Team: Denver Broncos \tYear: 2022 \tWins: 5\n",
      "Team: Detroit Lions \tYear: 2012 \tWins: 4\n",
      "Team: Detroit Lions \tYear: 2013 \tWins: 7\n",
      "Team: Detroit Lions \tYear: 2014 \tWins: 11\n",
      "Team: Detroit Lions \tYear: 2015 \tWins: 7\n",
      "Team: Detroit Lions \tYear: 2016 \tWins: 9\n",
      "Team: Detroit Lions \tYear: 2017 \tWins: 9\n",
      "Team: Detroit Lions \tYear: 2018 \tWins: 6\n",
      "Team: Detroit Lions \tYear: 2019 \tWins: 3\n",
      "Team: Detroit Lions \tYear: 2020 \tWins: 5\n",
      "Team: Detroit Lions \tYear: 2021 \tWins: 3\n",
      "Team: Detroit Lions \tYear: 2022 \tWins: 9\n",
      "Team: Green Bay Packers \tYear: 2012 \tWins: 11\n",
      "Team: Green Bay Packers \tYear: 2013 \tWins: 8\n",
      "Team: Green Bay Packers \tYear: 2014 \tWins: 12\n",
      "Team: Green Bay Packers \tYear: 2015 \tWins: 10\n",
      "Team: Green Bay Packers \tYear: 2016 \tWins: 10\n",
      "Team: Green Bay Packers \tYear: 2017 \tWins: 7\n",
      "Team: Green Bay Packers \tYear: 2018 \tWins: 6\n",
      "Team: Green Bay Packers \tYear: 2019 \tWins: 13\n",
      "Team: Green Bay Packers \tYear: 2020 \tWins: 13\n",
      "Team: Green Bay Packers \tYear: 2021 \tWins: 13\n",
      "Team: Green Bay Packers \tYear: 2022 \tWins: 8\n",
      "Team: Houston Texans \tYear: 2012 \tWins: 12\n",
      "Team: Houston Texans \tYear: 2013 \tWins: 2\n",
      "Team: Houston Texans \tYear: 2014 \tWins: 9\n",
      "Team: Houston Texans \tYear: 2015 \tWins: 9\n",
      "Team: Houston Texans \tYear: 2016 \tWins: 9\n",
      "Team: Houston Texans \tYear: 2017 \tWins: 4\n",
      "Team: Houston Texans \tYear: 2018 \tWins: 11\n",
      "Team: Houston Texans \tYear: 2019 \tWins: 10\n",
      "Team: Houston Texans \tYear: 2020 \tWins: 4\n",
      "Team: Houston Texans \tYear: 2021 \tWins: 4\n",
      "Team: Houston Texans \tYear: 2022 \tWins: 3\n",
      "Team: Indianapolis Colts \tYear: 2012 \tWins: 11\n",
      "Team: Indianapolis Colts \tYear: 2013 \tWins: 11\n",
      "Team: Indianapolis Colts \tYear: 2014 \tWins: 11\n",
      "Team: Indianapolis Colts \tYear: 2015 \tWins: 8\n",
      "Team: Indianapolis Colts \tYear: 2016 \tWins: 8\n",
      "Team: Indianapolis Colts \tYear: 2017 \tWins: 4\n",
      "Team: Indianapolis Colts \tYear: 2018 \tWins: 10\n",
      "Team: Indianapolis Colts \tYear: 2019 \tWins: 7\n",
      "Team: Indianapolis Colts \tYear: 2020 \tWins: 11\n",
      "Team: Indianapolis Colts \tYear: 2021 \tWins: 9\n",
      "Team: Indianapolis Colts \tYear: 2022 \tWins: 4\n",
      "Team: Jacksonville Jaguars \tYear: 2012 \tWins: 2\n",
      "Team: Jacksonville Jaguars \tYear: 2013 \tWins: 4\n",
      "Team: Jacksonville Jaguars \tYear: 2014 \tWins: 3\n",
      "Team: Jacksonville Jaguars \tYear: 2015 \tWins: 5\n",
      "Team: Jacksonville Jaguars \tYear: 2016 \tWins: 3\n",
      "Team: Jacksonville Jaguars \tYear: 2017 \tWins: 10\n",
      "Team: Jacksonville Jaguars \tYear: 2018 \tWins: 5\n",
      "Team: Jacksonville Jaguars \tYear: 2019 \tWins: 6\n",
      "Team: Jacksonville Jaguars \tYear: 2020 \tWins: 1\n",
      "Team: Jacksonville Jaguars \tYear: 2021 \tWins: 3\n",
      "Team: Jacksonville Jaguars \tYear: 2022 \tWins: 9\n",
      "Team: Kansas City Chiefs \tYear: 2012 \tWins: 2\n",
      "Team: Kansas City Chiefs \tYear: 2013 \tWins: 11\n",
      "Team: Kansas City Chiefs \tYear: 2014 \tWins: 9\n",
      "Team: Kansas City Chiefs \tYear: 2015 \tWins: 11\n",
      "Team: Kansas City Chiefs \tYear: 2016 \tWins: 12\n",
      "Team: Kansas City Chiefs \tYear: 2017 \tWins: 10\n",
      "Team: Kansas City Chiefs \tYear: 2018 \tWins: 12\n",
      "Team: Kansas City Chiefs \tYear: 2019 \tWins: 12\n",
      "Team: Kansas City Chiefs \tYear: 2020 \tWins: 14\n",
      "Team: Kansas City Chiefs \tYear: 2021 \tWins: 12\n",
      "Team: Kansas City Chiefs \tYear: 2022 \tWins: 14\n",
      "Team: Las Vegas Raiders \tYear: 2012 \tWins: 4\n",
      "Team: Las Vegas Raiders \tYear: 2013 \tWins: 4\n",
      "Team: Las Vegas Raiders \tYear: 2014 \tWins: 3\n",
      "Team: Las Vegas Raiders \tYear: 2015 \tWins: 7\n",
      "Team: Las Vegas Raiders \tYear: 2016 \tWins: 12\n",
      "Team: Las Vegas Raiders \tYear: 2017 \tWins: 6\n",
      "Team: Las Vegas Raiders \tYear: 2018 \tWins: 4\n",
      "Team: Las Vegas Raiders \tYear: 2019 \tWins: 7\n",
      "Team: Las Vegas Raiders \tYear: 2020 \tWins: 8\n",
      "Team: Las Vegas Raiders \tYear: 2021 \tWins: 10\n",
      "Team: Las Vegas Raiders \tYear: 2022 \tWins: 6\n",
      "Team: Los Angeles Chargers \tYear: 2012 \tWins: 7\n",
      "Team: Los Angeles Chargers \tYear: 2013 \tWins: 9\n",
      "Team: Los Angeles Chargers \tYear: 2014 \tWins: 9\n",
      "Team: Los Angeles Chargers \tYear: 2015 \tWins: 4\n",
      "Team: Los Angeles Chargers \tYear: 2016 \tWins: 5\n",
      "Team: Los Angeles Chargers \tYear: 2017 \tWins: 9\n",
      "Team: Los Angeles Chargers \tYear: 2018 \tWins: 12\n",
      "Team: Los Angeles Chargers \tYear: 2019 \tWins: 5\n",
      "Team: Los Angeles Chargers \tYear: 2020 \tWins: 7\n",
      "Team: Los Angeles Chargers \tYear: 2021 \tWins: 9\n",
      "Team: Los Angeles Chargers \tYear: 2022 \tWins: 10\n",
      "Team: Los Angeles Rams \tYear: 2012 \tWins: 7\n",
      "Team: Los Angeles Rams \tYear: 2013 \tWins: 7\n",
      "Team: Los Angeles Rams \tYear: 2014 \tWins: 6\n",
      "Team: Los Angeles Rams \tYear: 2015 \tWins: 7\n",
      "Team: Los Angeles Rams \tYear: 2016 \tWins: 4\n",
      "Team: Los Angeles Rams \tYear: 2017 \tWins: 11\n",
      "Team: Los Angeles Rams \tYear: 2018 \tWins: 13\n",
      "Team: Los Angeles Rams \tYear: 2019 \tWins: 9\n",
      "Team: Los Angeles Rams \tYear: 2020 \tWins: 10\n",
      "Team: Los Angeles Rams \tYear: 2021 \tWins: 12\n",
      "Team: Los Angeles Rams \tYear: 2022 \tWins: 5\n",
      "Team: Miami Dolphins \tYear: 2012 \tWins: 7\n",
      "Team: Miami Dolphins \tYear: 2013 \tWins: 8\n",
      "Team: Miami Dolphins \tYear: 2014 \tWins: 8\n",
      "Team: Miami Dolphins \tYear: 2015 \tWins: 6\n",
      "Team: Miami Dolphins \tYear: 2016 \tWins: 10\n",
      "Team: Miami Dolphins \tYear: 2017 \tWins: 6\n",
      "Team: Miami Dolphins \tYear: 2018 \tWins: 7\n",
      "Team: Miami Dolphins \tYear: 2019 \tWins: 5\n",
      "Team: Miami Dolphins \tYear: 2020 \tWins: 10\n",
      "Team: Miami Dolphins \tYear: 2021 \tWins: 9\n",
      "Team: Miami Dolphins \tYear: 2022 \tWins: 9\n",
      "Team: Minnesota Vikings \tYear: 2012 \tWins: 10\n",
      "Team: Minnesota Vikings \tYear: 2013 \tWins: 5\n",
      "Team: Minnesota Vikings \tYear: 2014 \tWins: 7\n",
      "Team: Minnesota Vikings \tYear: 2015 \tWins: 11\n",
      "Team: Minnesota Vikings \tYear: 2016 \tWins: 8\n",
      "Team: Minnesota Vikings \tYear: 2017 \tWins: 13\n",
      "Team: Minnesota Vikings \tYear: 2018 \tWins: 8\n",
      "Team: Minnesota Vikings \tYear: 2019 \tWins: 10\n",
      "Team: Minnesota Vikings \tYear: 2020 \tWins: 7\n",
      "Team: Minnesota Vikings \tYear: 2021 \tWins: 8\n",
      "Team: Minnesota Vikings \tYear: 2022 \tWins: 13\n",
      "Team: New England Patriots \tYear: 2012 \tWins: 12\n",
      "Team: New England Patriots \tYear: 2013 \tWins: 12\n",
      "Team: New England Patriots \tYear: 2014 \tWins: 12\n",
      "Team: New England Patriots \tYear: 2015 \tWins: 12\n",
      "Team: New England Patriots \tYear: 2016 \tWins: 14\n",
      "Team: New England Patriots \tYear: 2017 \tWins: 13\n",
      "Team: New England Patriots \tYear: 2018 \tWins: 11\n",
      "Team: New England Patriots \tYear: 2019 \tWins: 12\n",
      "Team: New England Patriots \tYear: 2020 \tWins: 7\n",
      "Team: New England Patriots \tYear: 2021 \tWins: 10\n",
      "Team: New England Patriots \tYear: 2022 \tWins: 8\n",
      "Team: New Orleans Saints \tYear: 2012 \tWins: 7\n",
      "Team: New Orleans Saints \tYear: 2013 \tWins: 11\n",
      "Team: New Orleans Saints \tYear: 2014 \tWins: 7\n",
      "Team: New Orleans Saints \tYear: 2015 \tWins: 7\n",
      "Team: New Orleans Saints \tYear: 2016 \tWins: 7\n",
      "Team: New Orleans Saints \tYear: 2017 \tWins: 11\n",
      "Team: New Orleans Saints \tYear: 2019 \tWins: 13\n",
      "Team: New Orleans Saints \tYear: 2020 \tWins: 12\n",
      "Team: New Orleans Saints \tYear: 2021 \tWins: 9\n",
      "Team: New Orleans Saints \tYear: 2022 \tWins: 7\n",
      "Team: New York Giants \tYear: 2012 \tWins: 9\n",
      "Team: New York Giants \tYear: 2013 \tWins: 7\n",
      "Team: New York Giants \tYear: 2014 \tWins: 6\n",
      "Team: New York Giants \tYear: 2015 \tWins: 6\n",
      "Team: New York Giants \tYear: 2016 \tWins: 11\n",
      "Team: New York Giants \tYear: 2017 \tWins: 3\n",
      "Team: New York Giants \tYear: 2018 \tWins: 5\n",
      "Team: New York Giants \tYear: 2019 \tWins: 4\n",
      "Team: New York Giants \tYear: 2020 \tWins: 6\n",
      "Team: New York Giants \tYear: 2021 \tWins: 4\n",
      "Team: New York Giants \tYear: 2022 \tWins: 9\n",
      "Team: New York Jets \tYear: 2012 \tWins: 6\n",
      "Team: New York Jets \tYear: 2013 \tWins: 8\n",
      "Team: New York Jets \tYear: 2014 \tWins: 4\n",
      "Team: New York Jets \tYear: 2015 \tWins: 10\n",
      "Team: New York Jets \tYear: 2016 \tWins: 5\n",
      "Team: New York Jets \tYear: 2017 \tWins: 5\n",
      "Team: New York Jets \tYear: 2018 \tWins: 4\n",
      "Team: New York Jets \tYear: 2019 \tWins: 7\n",
      "Team: New York Jets \tYear: 2020 \tWins: 2\n",
      "Team: New York Jets \tYear: 2021 \tWins: 4\n",
      "Team: New York Jets \tYear: 2022 \tWins: 7\n",
      "Team: Philadelphia Eagles \tYear: 2012 \tWins: 4\n",
      "Team: Philadelphia Eagles \tYear: 2013 \tWins: 10\n",
      "Team: Philadelphia Eagles \tYear: 2014 \tWins: 10\n",
      "Team: Philadelphia Eagles \tYear: 2015 \tWins: 7\n",
      "Team: Philadelphia Eagles \tYear: 2016 \tWins: 7\n",
      "Team: Philadelphia Eagles \tYear: 2017 \tWins: 13\n",
      "Team: Philadelphia Eagles \tYear: 2018 \tWins: 9\n",
      "Team: Philadelphia Eagles \tYear: 2019 \tWins: 9\n",
      "Team: Philadelphia Eagles \tYear: 2020 \tWins: 4\n",
      "Team: Philadelphia Eagles \tYear: 2021 \tWins: 9\n",
      "Team: Philadelphia Eagles \tYear: 2022 \tWins: 14\n",
      "Team: Pittsburgh Steelers \tYear: 2012 \tWins: 8\n",
      "Team: Pittsburgh Steelers \tYear: 2013 \tWins: 8\n",
      "Team: Pittsburgh Steelers \tYear: 2014 \tWins: 11\n",
      "Team: Pittsburgh Steelers \tYear: 2015 \tWins: 10\n",
      "Team: Pittsburgh Steelers \tYear: 2016 \tWins: 11\n",
      "Team: Pittsburgh Steelers \tYear: 2017 \tWins: 13\n",
      "Team: Pittsburgh Steelers \tYear: 2018 \tWins: 9\n",
      "Team: Pittsburgh Steelers \tYear: 2019 \tWins: 8\n",
      "Team: Pittsburgh Steelers \tYear: 2020 \tWins: 12\n",
      "Team: Pittsburgh Steelers \tYear: 2021 \tWins: 9\n",
      "Team: Pittsburgh Steelers \tYear: 2022 \tWins: 9\n",
      "Team: San Francisco 49ers \tYear: 2012 \tWins: 11\n",
      "Team: San Francisco 49ers \tYear: 2013 \tWins: 12\n",
      "Team: San Francisco 49ers \tYear: 2014 \tWins: 8\n",
      "Team: San Francisco 49ers \tYear: 2015 \tWins: 5\n",
      "Team: San Francisco 49ers \tYear: 2016 \tWins: 2\n",
      "Team: San Francisco 49ers \tYear: 2017 \tWins: 6\n",
      "Team: San Francisco 49ers \tYear: 2018 \tWins: 4\n",
      "Team: San Francisco 49ers \tYear: 2019 \tWins: 13\n",
      "Team: San Francisco 49ers \tYear: 2020 \tWins: 6\n",
      "Team: San Francisco 49ers \tYear: 2021 \tWins: 10\n",
      "Team: San Francisco 49ers \tYear: 2022 \tWins: 13\n",
      "Team: Seattle Seahawks \tYear: 2012 \tWins: 11\n",
      "Team: Seattle Seahawks \tYear: 2013 \tWins: 13\n",
      "Team: Seattle Seahawks \tYear: 2014 \tWins: 12\n",
      "Team: Seattle Seahawks \tYear: 2015 \tWins: 10\n",
      "Team: Seattle Seahawks \tYear: 2016 \tWins: 10\n",
      "Team: Seattle Seahawks \tYear: 2017 \tWins: 9\n",
      "Team: Seattle Seahawks \tYear: 2018 \tWins: 10\n",
      "Team: Seattle Seahawks \tYear: 2019 \tWins: 11\n"
     ]
    },
    {
     "name": "stdout",
     "output_type": "stream",
     "text": [
      "Team: Seattle Seahawks \tYear: 2020 \tWins: 12\n",
      "Team: Seattle Seahawks \tYear: 2021 \tWins: 7\n",
      "Team: Seattle Seahawks \tYear: 2022 \tWins: 9\n",
      "Team: Tampa Bay Buccaneers \tYear: 2012 \tWins: 7\n",
      "Team: Tampa Bay Buccaneers \tYear: 2013 \tWins: 4\n",
      "Team: Tampa Bay Buccaneers \tYear: 2014 \tWins: 2\n",
      "Team: Tampa Bay Buccaneers \tYear: 2015 \tWins: 6\n",
      "Team: Tampa Bay Buccaneers \tYear: 2016 \tWins: 9\n",
      "Team: Tampa Bay Buccaneers \tYear: 2017 \tWins: 5\n",
      "Team: Tampa Bay Buccaneers \tYear: 2018 \tWins: 5\n",
      "Team: Tampa Bay Buccaneers \tYear: 2019 \tWins: 7\n",
      "Team: Tampa Bay Buccaneers \tYear: 2020 \tWins: 11\n",
      "Team: Tampa Bay Buccaneers \tYear: 2021 \tWins: 13\n",
      "Team: Tampa Bay Buccaneers \tYear: 2022 \tWins: 8\n",
      "Team: Tennessee Titans \tYear: 2012 \tWins: 6\n",
      "Team: Tennessee Titans \tYear: 2013 \tWins: 7\n",
      "Team: Tennessee Titans \tYear: 2014 \tWins: 2\n",
      "Team: Tennessee Titans \tYear: 2015 \tWins: 3\n",
      "Team: Tennessee Titans \tYear: 2016 \tWins: 9\n",
      "Team: Tennessee Titans \tYear: 2017 \tWins: 9\n",
      "Team: Tennessee Titans \tYear: 2018 \tWins: 9\n",
      "Team: Tennessee Titans \tYear: 2019 \tWins: 9\n",
      "Team: Tennessee Titans \tYear: 2020 \tWins: 11\n",
      "Team: Tennessee Titans \tYear: 2021 \tWins: 12\n",
      "Team: Tennessee Titans \tYear: 2022 \tWins: 7\n",
      "Team: Washington Commanders \tYear: 2012 \tWins: 10\n",
      "Team: Washington Commanders \tYear: 2013 \tWins: 3\n",
      "Team: Washington Commanders \tYear: 2014 \tWins: 4\n",
      "Team: Washington Commanders \tYear: 2015 \tWins: 9\n",
      "Team: Washington Commanders \tYear: 2016 \tWins: 8\n",
      "Team: Washington Commanders \tYear: 2017 \tWins: 7\n",
      "Team: Washington Commanders \tYear: 2018 \tWins: 7\n",
      "Team: Washington Commanders \tYear: 2019 \tWins: 3\n",
      "Team: Washington Commanders \tYear: 2020 \tWins: 7\n",
      "Team: Washington Commanders \tYear: 2021 \tWins: 7\n",
      "Team: Washington Commanders \tYear: 2022 \tWins: 8\n"
     ]
    }
   ],
   "source": [
    "team_names = nflwins['Team'].unique()\n",
    "\n",
    "# Iterate over each team\n",
    "for team_name in team_names:\n",
    "    team_data = nflwins[nflwins['Team'] == team_name]\n",
    "    \n",
    "    # Display the total  Wins for each year\n",
    "    for year in team_data['Year'].unique():\n",
    "        team_wins = team_data.loc[team_data['Year'] == year, 'Wins'].values[0]\n",
    "        print(\"Team:\", team_name, \"\\tYear:\", year, \"\\tWins:\", team_wins)"
   ]
  },
  {
   "cell_type": "markdown",
   "id": "b7c99af6",
   "metadata": {},
   "source": [
    "#### Calculate Descriptive Statistics on  Wins for all Teams. These are the sum, mean, median, standard deviation, variance, min, max, range, and total points for over time for each team."
   ]
  },
  {
   "cell_type": "markdown",
   "id": "186c620f",
   "metadata": {},
   "source": [
    "### Arizona Cardinals"
   ]
  },
  {
   "cell_type": "code",
   "execution_count": 7,
   "id": "7444d978",
   "metadata": {},
   "outputs": [
    {
     "name": "stdout",
     "output_type": "stream",
     "text": [
      "Arizona Cardinals  Wins Mean: 7.7272727272727275\n",
      "Arizona Cardinals  Wins Median: 8.0\n",
      "Arizona Cardinals  Wins Standard Deviation: 3.258555173413797\n",
      "Arizona Cardinals  Wins Variance: 10.618181818181819\n",
      "Arizona Cardinals  Wins Minimum: 3\n",
      "Arizona Cardinals  Wins Maximum: 13\n",
      "Arizona Cardinals  Wins Range: 10\n",
      "Arizona Cardinals Total Wins 2012-2022: 85\n"
     ]
    }
   ],
   "source": [
    "team_name1 = 'Arizona Cardinals'\n",
    "cardinals_data = nflwins[nflwins['Team'] == team_name1]\n",
    "mean_value = cardinals_data['Wins'].mean()\n",
    "median_value = cardinals_data['Wins'].median()\n",
    "std_value = cardinals_data['Wins'].std()\n",
    "var_value = cardinals_data['Wins'].var()\n",
    "min_value = cardinals_data['Wins'].min()\n",
    "max_value = cardinals_data['Wins'].max()\n",
    "data_range = max_value - min_value\n",
    "total_points = cardinals_data['Wins'].sum()\n",
    "print(\"Arizona Cardinals  Wins Mean:\", mean_value)\n",
    "print(\"Arizona Cardinals  Wins Median:\", median_value)\n",
    "print(\"Arizona Cardinals  Wins Standard Deviation:\", std_value)\n",
    "print(\"Arizona Cardinals  Wins Variance:\", var_value)\n",
    "print(\"Arizona Cardinals  Wins Minimum:\", min_value)\n",
    "print(\"Arizona Cardinals  Wins Maximum:\", max_value)\n",
    "print(\"Arizona Cardinals  Wins Range:\", data_range)\n",
    "print(\"Arizona Cardinals Total Wins 2012-2022:\", total_points)"
   ]
  },
  {
   "cell_type": "markdown",
   "id": "9c54bb44",
   "metadata": {},
   "source": [
    "### Atlanta Falcons"
   ]
  },
  {
   "cell_type": "code",
   "execution_count": 8,
   "id": "cf5c0251",
   "metadata": {},
   "outputs": [
    {
     "name": "stdout",
     "output_type": "stream",
     "text": [
      "Atlanta Falcons  Wins Mean: 7.636363636363637\n",
      "Atlanta Falcons  Wins Median: 7.0\n",
      "Atlanta Falcons  Wins Standard Deviation: 2.766684921443975\n",
      "Atlanta Falcons  Wins Variance: 7.654545454545454\n",
      "Atlanta Falcons  Wins Minimum: 4\n",
      "Atlanta Falcons  Wins Maximum: 13\n",
      "Atlanta Falcons  Wins Range: 9\n",
      "Atlanta Falcons Total Wins 2012-2022: 84\n"
     ]
    }
   ],
   "source": [
    "team_name2 = 'Atlanta Falcons'\n",
    "falcons_data = nflwins[nflwins['Team'] == team_name2]\n",
    "mean_value = falcons_data['Wins'].mean()\n",
    "median_value = falcons_data['Wins'].median()\n",
    "std_value = falcons_data['Wins'].std()\n",
    "var_value = falcons_data['Wins'].var()\n",
    "min_value = falcons_data['Wins'].min()\n",
    "max_value = falcons_data['Wins'].max()\n",
    "data_range = max_value - min_value\n",
    "total_points = falcons_data['Wins'].sum()\n",
    "print(\"Atlanta Falcons  Wins Mean:\", mean_value)\n",
    "print(\"Atlanta Falcons  Wins Median:\", median_value)\n",
    "print(\"Atlanta Falcons  Wins Standard Deviation:\", std_value)\n",
    "print(\"Atlanta Falcons  Wins Variance:\", var_value)\n",
    "print(\"Atlanta Falcons  Wins Minimum:\", min_value)\n",
    "print(\"Atlanta Falcons  Wins Maximum:\", max_value)\n",
    "print(\"Atlanta Falcons  Wins Range:\", data_range)\n",
    "print(\"Atlanta Falcons Total Wins 2012-2022:\", total_points)"
   ]
  },
  {
   "cell_type": "markdown",
   "id": "7f0431cc",
   "metadata": {},
   "source": [
    "### Baltimore Ravens"
   ]
  },
  {
   "cell_type": "code",
   "execution_count": 9,
   "id": "76b5c9c4",
   "metadata": {},
   "outputs": [
    {
     "name": "stdout",
     "output_type": "stream",
     "text": [
      "Baltimore Ravens  Wins Mean: 9.363636363636363\n",
      "Baltimore Ravens  Wins Median: 10.0\n",
      "Baltimore Ravens  Wins Standard Deviation: 2.2482316283126735\n",
      "Baltimore Ravens  Wins Variance: 5.054545454545455\n",
      "Baltimore Ravens  Wins Minimum: 5\n",
      "Baltimore Ravens  Wins Maximum: 14\n",
      "Baltimore Ravens  Wins Range: 9\n",
      "Baltimore Ravens Total Wins 2012-2022: 103\n"
     ]
    }
   ],
   "source": [
    "team_name3 = 'Baltimore Ravens'\n",
    "ravens_data = nflwins[nflwins['Team'] == team_name3]\n",
    "mean_value = ravens_data['Wins'].mean()\n",
    "median_value = ravens_data['Wins'].median()\n",
    "std_value = ravens_data['Wins'].std()\n",
    "var_value = ravens_data['Wins'].var()\n",
    "min_value = ravens_data['Wins'].min()\n",
    "max_value = ravens_data['Wins'].max()\n",
    "data_range = max_value - min_value\n",
    "total_points = ravens_data['Wins'].sum()\n",
    "print(\"Baltimore Ravens  Wins Mean:\", mean_value)\n",
    "print(\"Baltimore Ravens  Wins Median:\", median_value)\n",
    "print(\"Baltimore Ravens  Wins Standard Deviation:\", std_value)\n",
    "print(\"Baltimore Ravens  Wins Variance:\", var_value)\n",
    "print(\"Baltimore Ravens  Wins Minimum:\", min_value)\n",
    "print(\"Baltimore Ravens  Wins Maximum:\", max_value)\n",
    "print(\"Baltimore Ravens  Wins Range:\", data_range)\n",
    "print(\"Baltimore Ravens Total Wins 2012-2022:\", total_points)"
   ]
  },
  {
   "cell_type": "markdown",
   "id": "95049040",
   "metadata": {},
   "source": [
    "### Buffalo Bills"
   ]
  },
  {
   "cell_type": "code",
   "execution_count": 10,
   "id": "09989626",
   "metadata": {},
   "outputs": [
    {
     "name": "stdout",
     "output_type": "stream",
     "text": [
      "Buffalo Bills  Wins Mean: 8.909090909090908\n",
      "Buffalo Bills  Wins Median: 9.0\n",
      "Buffalo Bills  Wins Standard Deviation: 2.6250541119963775\n",
      "Buffalo Bills  Wins Variance: 6.890909090909091\n",
      "Buffalo Bills  Wins Minimum: 6\n",
      "Buffalo Bills  Wins Maximum: 13\n",
      "Buffalo Bills  Wins Range: 7\n",
      "Buffalo Bills Total Wins 2012-2022: 98\n"
     ]
    }
   ],
   "source": [
    "team_name4 = 'Buffalo Bills'\n",
    "bills_data = nflwins[nflwins['Team'] == team_name4]\n",
    "mean_value = bills_data['Wins'].mean()\n",
    "median_value = bills_data['Wins'].median()\n",
    "std_value = bills_data['Wins'].std()\n",
    "var_value = bills_data['Wins'].var()\n",
    "min_value = bills_data['Wins'].min()\n",
    "max_value = bills_data['Wins'].max()\n",
    "data_range = max_value - min_value\n",
    "total_points = bills_data['Wins'].sum()\n",
    "print(\"Buffalo Bills  Wins Mean:\", mean_value)\n",
    "print(\"Buffalo Bills  Wins Median:\", median_value)\n",
    "print(\"Buffalo Bills  Wins Standard Deviation:\", std_value)\n",
    "print(\"Buffalo Bills  Wins Variance:\", var_value)\n",
    "print(\"Buffalo Bills  Wins Minimum:\", min_value)\n",
    "print(\"Buffalo Bills  Wins Maximum:\", max_value)\n",
    "print(\"Buffalo Bills  Wins Range:\", data_range)\n",
    "print(\"Buffalo Bills Total Wins 2012-2022:\", total_points)"
   ]
  },
  {
   "cell_type": "markdown",
   "id": "e4ca8cea",
   "metadata": {},
   "source": [
    "### Carolina Panthers"
   ]
  },
  {
   "cell_type": "code",
   "execution_count": 11,
   "id": "086d4169",
   "metadata": {},
   "outputs": [
    {
     "name": "stdout",
     "output_type": "stream",
     "text": [
      "Carolina Panthers  Wins Mean: 7.909090909090909\n",
      "Carolina Panthers  Wins Median: 7.0\n",
      "Carolina Panthers  Wins Standard Deviation: 3.300137738172316\n",
      "Carolina Panthers  Wins Variance: 10.89090909090909\n",
      "Carolina Panthers  Wins Minimum: 5\n",
      "Carolina Panthers  Wins Maximum: 15\n",
      "Carolina Panthers  Wins Range: 10\n",
      "Carolina Panthers Total Wins 2012-2022: 87\n"
     ]
    }
   ],
   "source": [
    "team_name5 = 'Carolina Panthers'\n",
    "panthers_data = nflwins[nflwins['Team'] == team_name5]\n",
    "mean_value = panthers_data['Wins'].mean()\n",
    "median_value = panthers_data['Wins'].median()\n",
    "std_value = panthers_data['Wins'].std()\n",
    "var_value = panthers_data['Wins'].var()\n",
    "min_value = panthers_data['Wins'].min()\n",
    "max_value = panthers_data['Wins'].max()\n",
    "data_range = max_value - min_value\n",
    "total_points = panthers_data['Wins'].sum()\n",
    "print(\"Carolina Panthers  Wins Mean:\", mean_value)\n",
    "print(\"Carolina Panthers  Wins Median:\", median_value)\n",
    "print(\"Carolina Panthers  Wins Standard Deviation:\", std_value)\n",
    "print(\"Carolina Panthers  Wins Variance:\", var_value)\n",
    "print(\"Carolina Panthers  Wins Minimum:\", min_value)\n",
    "print(\"Carolina Panthers  Wins Maximum:\", max_value)\n",
    "print(\"Carolina Panthers  Wins Range:\", data_range)\n",
    "print(\"Carolina Panthers Total Wins 2012-2022:\", total_points)"
   ]
  },
  {
   "cell_type": "markdown",
   "id": "a8e04f1e",
   "metadata": {},
   "source": [
    "### Chicago Bears"
   ]
  },
  {
   "cell_type": "code",
   "execution_count": 12,
   "id": "95cef721",
   "metadata": {},
   "outputs": [
    {
     "name": "stdout",
     "output_type": "stream",
     "text": [
      "Chicago Bears  Wins Mean: 6.7272727272727275\n",
      "Chicago Bears  Wins Median: 6.0\n",
      "Chicago Bears  Wins Standard Deviation: 2.796101181678127\n",
      "Chicago Bears  Wins Variance: 7.818181818181818\n",
      "Chicago Bears  Wins Minimum: 3\n",
      "Chicago Bears  Wins Maximum: 12\n",
      "Chicago Bears  Wins Range: 9\n",
      "Chicago Bears Total Wins 2012-2022: 74\n"
     ]
    }
   ],
   "source": [
    "team_name6 = 'Chicago Bears'\n",
    "bears_data = nflwins[nflwins['Team'] == team_name6]\n",
    "mean_value = bears_data['Wins'].mean()\n",
    "median_value = bears_data['Wins'].median()\n",
    "std_value = bears_data['Wins'].std()\n",
    "var_value = bears_data['Wins'].var()\n",
    "min_value = bears_data['Wins'].min()\n",
    "max_value = bears_data['Wins'].max()\n",
    "data_range = max_value - min_value\n",
    "total_points = bears_data['Wins'].sum()\n",
    "print(\"Chicago Bears  Wins Mean:\", mean_value)\n",
    "print(\"Chicago Bears  Wins Median:\", median_value)\n",
    "print(\"Chicago Bears  Wins Standard Deviation:\", std_value)\n",
    "print(\"Chicago Bears  Wins Variance:\", var_value)\n",
    "print(\"Chicago Bears  Wins Minimum:\", min_value)\n",
    "print(\"Chicago Bears  Wins Maximum:\", max_value)\n",
    "print(\"Chicago Bears  Wins Range:\", data_range)\n",
    "print(\"Chicago Bears Total Wins 2012-2022:\", total_points)"
   ]
  },
  {
   "cell_type": "markdown",
   "id": "c44407e7",
   "metadata": {},
   "source": [
    "### Cincinnati Bengals"
   ]
  },
  {
   "cell_type": "code",
   "execution_count": 13,
   "id": "248b9120",
   "metadata": {},
   "outputs": [
    {
     "name": "stdout",
     "output_type": "stream",
     "text": [
      "Cincinnati Bengals  Wins Mean: 8.181818181818182\n",
      "Cincinnati Bengals  Wins Median: 10.0\n",
      "Cincinnati Bengals  Wins Standard Deviation: 3.3709993123162105\n",
      "Cincinnati Bengals  Wins Variance: 11.363636363636363\n",
      "Cincinnati Bengals  Wins Minimum: 2\n",
      "Cincinnati Bengals  Wins Maximum: 12\n",
      "Cincinnati Bengals  Wins Range: 10\n",
      "Cincinnati Bengals Total Wins 2012-2022: 90\n"
     ]
    }
   ],
   "source": [
    "team_name7 = 'Cincinnati Bengals'\n",
    "bengals_data = nflwins[nflwins['Team'] == team_name7]\n",
    "mean_value = bengals_data['Wins'].mean()\n",
    "median_value = bengals_data['Wins'].median()\n",
    "std_value = bengals_data['Wins'].std()\n",
    "var_value = bengals_data['Wins'].var()\n",
    "min_value = bengals_data['Wins'].min()\n",
    "max_value = bengals_data['Wins'].max()\n",
    "data_range = max_value - min_value\n",
    "total_points = bengals_data['Wins'].sum()\n",
    "print(\"Cincinnati Bengals  Wins Mean:\", mean_value)\n",
    "print(\"Cincinnati Bengals  Wins Median:\", median_value)\n",
    "print(\"Cincinnati Bengals  Wins Standard Deviation:\", std_value)\n",
    "print(\"Cincinnati Bengals  Wins Variance:\", var_value)\n",
    "print(\"Cincinnati Bengals  Wins Minimum:\", min_value)\n",
    "print(\"Cincinnati Bengals  Wins Maximum:\", max_value)\n",
    "print(\"Cincinnati Bengals  Wins Range:\", data_range)\n",
    "print(\"Cincinnati Bengals Total Wins 2012-2022:\", total_points)"
   ]
  },
  {
   "cell_type": "markdown",
   "id": "173eaf2f",
   "metadata": {},
   "source": [
    "### Cleveland Browns"
   ]
  },
  {
   "cell_type": "code",
   "execution_count": 14,
   "id": "e52f3585",
   "metadata": {},
   "outputs": [
    {
     "name": "stdout",
     "output_type": "stream",
     "text": [
      "Cleveland Browns  Wins Mean: 5.363636363636363\n",
      "Cleveland Browns  Wins Median: 6.0\n",
      "Cleveland Browns  Wins Standard Deviation: 3.2022719207689803\n",
      "Cleveland Browns  Wins Variance: 10.254545454545454\n",
      "Cleveland Browns  Wins Minimum: 0\n",
      "Cleveland Browns  Wins Maximum: 11\n",
      "Cleveland Browns  Wins Range: 11\n",
      "Cleveland Browns Total Wins 2012-2022: 59\n"
     ]
    }
   ],
   "source": [
    "team_name8 = 'Cleveland Browns'\n",
    "browns_data = nflwins[nflwins['Team'] == team_name8]\n",
    "mean_value = browns_data['Wins'].mean()\n",
    "median_value = browns_data['Wins'].median()\n",
    "std_value = browns_data['Wins'].std()\n",
    "var_value = browns_data['Wins'].var()\n",
    "min_value = browns_data['Wins'].min()\n",
    "max_value = browns_data['Wins'].max()\n",
    "data_range = max_value - min_value\n",
    "total_points = browns_data['Wins'].sum()\n",
    "print(\"Cleveland Browns  Wins Mean:\", mean_value)\n",
    "print(\"Cleveland Browns  Wins Median:\", median_value)\n",
    "print(\"Cleveland Browns  Wins Standard Deviation:\", std_value)\n",
    "print(\"Cleveland Browns  Wins Variance:\", var_value)\n",
    "print(\"Cleveland Browns  Wins Minimum:\", min_value)\n",
    "print(\"Cleveland Browns  Wins Maximum:\", max_value)\n",
    "print(\"Cleveland Browns  Wins Range:\", data_range)\n",
    "print(\"Cleveland Browns Total Wins 2012-2022:\", total_points)"
   ]
  },
  {
   "cell_type": "markdown",
   "id": "57de92b0",
   "metadata": {},
   "source": [
    "### Dallas Cowboys"
   ]
  },
  {
   "cell_type": "code",
   "execution_count": 15,
   "id": "09b6c943",
   "metadata": {},
   "outputs": [
    {
     "name": "stdout",
     "output_type": "stream",
     "text": [
      "Dallas Cowboys  Wins Mean: 9.272727272727273\n",
      "Dallas Cowboys  Wins Median: 9.0\n",
      "Dallas Cowboys  Wins Standard Deviation: 2.8316394223456167\n",
      "Dallas Cowboys  Wins Variance: 8.018181818181818\n",
      "Dallas Cowboys  Wins Minimum: 4\n",
      "Dallas Cowboys  Wins Maximum: 13\n",
      "Dallas Cowboys  Wins Range: 9\n",
      "Dallas Cowboys Total Wins 2012-2022: 102\n"
     ]
    }
   ],
   "source": [
    "team_name9 = 'Dallas Cowboys'\n",
    "cowboys_data = nflwins[nflwins['Team'] == team_name9]\n",
    "mean_value = cowboys_data['Wins'].mean()\n",
    "median_value = cowboys_data['Wins'].median()\n",
    "std_value = cowboys_data['Wins'].std()\n",
    "var_value = cowboys_data['Wins'].var()\n",
    "min_value = cowboys_data['Wins'].min()\n",
    "max_value = cowboys_data['Wins'].max()\n",
    "data_range = max_value - min_value\n",
    "total_points = cowboys_data['Wins'].sum()\n",
    "print(\"Dallas Cowboys  Wins Mean:\", mean_value)\n",
    "print(\"Dallas Cowboys  Wins Median:\", median_value)\n",
    "print(\"Dallas Cowboys  Wins Standard Deviation:\", std_value)\n",
    "print(\"Dallas Cowboys  Wins Variance:\", var_value)\n",
    "print(\"Dallas Cowboys  Wins Minimum:\", min_value)\n",
    "print(\"Dallas Cowboys  Wins Maximum:\", max_value)\n",
    "print(\"Dallas Cowboys  Wins Range:\", data_range)\n",
    "print(\"Dallas Cowboys Total Wins 2012-2022:\", total_points)"
   ]
  },
  {
   "cell_type": "markdown",
   "id": "ed7577b1",
   "metadata": {},
   "source": [
    "### Denver Broncos"
   ]
  },
  {
   "cell_type": "code",
   "execution_count": 16,
   "id": "5792268c",
   "metadata": {},
   "outputs": [
    {
     "name": "stdout",
     "output_type": "stream",
     "text": [
      "Denver Broncos  Wins Mean: 8.545454545454545\n",
      "Denver Broncos  Wins Median: 7.0\n",
      "Denver Broncos  Wins Standard Deviation: 3.3574882386580702\n",
      "Denver Broncos  Wins Variance: 11.272727272727272\n",
      "Denver Broncos  Wins Minimum: 5\n",
      "Denver Broncos  Wins Maximum: 13\n",
      "Denver Broncos  Wins Range: 8\n",
      "Denver Broncos Total Wins 2012-2022: 94\n"
     ]
    }
   ],
   "source": [
    "team_name10 = 'Denver Broncos'\n",
    "broncos_data = nflwins[nflwins['Team'] == team_name10]\n",
    "mean_value = broncos_data['Wins'].mean()\n",
    "median_value = broncos_data['Wins'].median()\n",
    "std_value = broncos_data['Wins'].std()\n",
    "var_value = broncos_data['Wins'].var()\n",
    "min_value = broncos_data['Wins'].min()\n",
    "max_value = broncos_data['Wins'].max()\n",
    "data_range = max_value - min_value\n",
    "total_points = broncos_data['Wins'].sum()\n",
    "print(\"Denver Broncos  Wins Mean:\", mean_value)\n",
    "print(\"Denver Broncos  Wins Median:\", median_value)\n",
    "print(\"Denver Broncos  Wins Standard Deviation:\", std_value)\n",
    "print(\"Denver Broncos  Wins Variance:\", var_value)\n",
    "print(\"Denver Broncos  Wins Minimum:\", min_value)\n",
    "print(\"Denver Broncos  Wins Maximum:\", max_value)\n",
    "print(\"Denver Broncos  Wins Range:\", data_range)\n",
    "print(\"Denver Broncos Total Wins 2012-2022:\", total_points)"
   ]
  },
  {
   "cell_type": "markdown",
   "id": "ac9a35d8",
   "metadata": {},
   "source": [
    "### Detroit Lions"
   ]
  },
  {
   "cell_type": "code",
   "execution_count": 17,
   "id": "95546a0e",
   "metadata": {},
   "outputs": [
    {
     "name": "stdout",
     "output_type": "stream",
     "text": [
      "Detroit Lions  Wins Mean: 6.636363636363637\n",
      "Detroit Lions  Wins Median: 7.0\n",
      "Detroit Lions  Wins Standard Deviation: 2.693426341028366\n",
      "Detroit Lions  Wins Variance: 7.254545454545453\n",
      "Detroit Lions  Wins Minimum: 3\n",
      "Detroit Lions  Wins Maximum: 11\n",
      "Detroit Lions  Wins Range: 8\n",
      "Detroit Lions Total Wins 2012-2022: 73\n"
     ]
    }
   ],
   "source": [
    "team_name11 = 'Detroit Lions'\n",
    "lions_data = nflwins[nflwins['Team'] == team_name11]\n",
    "mean_value = lions_data['Wins'].mean()\n",
    "median_value = lions_data['Wins'].median()\n",
    "std_value = lions_data['Wins'].std()\n",
    "var_value = lions_data['Wins'].var()\n",
    "min_value = lions_data['Wins'].min()\n",
    "max_value = lions_data['Wins'].max()\n",
    "data_range = max_value - min_value\n",
    "total_points = lions_data['Wins'].sum()\n",
    "print(\"Detroit Lions  Wins Mean:\", mean_value)\n",
    "print(\"Detroit Lions  Wins Median:\", median_value)\n",
    "print(\"Detroit Lions  Wins Standard Deviation:\", std_value)\n",
    "print(\"Detroit Lions  Wins Variance:\", var_value)\n",
    "print(\"Detroit Lions  Wins Minimum:\", min_value)\n",
    "print(\"Detroit Lions  Wins Maximum:\", max_value)\n",
    "print(\"Detroit Lions  Wins Range:\", data_range)\n",
    "print(\"Detroit Lions Total Wins 2012-2022:\", total_points)"
   ]
  },
  {
   "cell_type": "markdown",
   "id": "c086e216",
   "metadata": {},
   "source": [
    "### Green Bay Packers"
   ]
  },
  {
   "cell_type": "code",
   "execution_count": 18,
   "id": "10cc7e0f",
   "metadata": {},
   "outputs": [
    {
     "name": "stdout",
     "output_type": "stream",
     "text": [
      "Green Bay Packers  Wins Mean: 10.090909090909092\n",
      "Green Bay Packers  Wins Median: 10.0\n",
      "Green Bay Packers  Wins Standard Deviation: 2.5477262590217755\n",
      "Green Bay Packers  Wins Variance: 6.49090909090909\n",
      "Green Bay Packers  Wins Minimum: 6\n",
      "Green Bay Packers  Wins Maximum: 13\n",
      "Green Bay Packers  Wins Range: 7\n",
      "Green Bay Packers Total Wins 2012-2022: 111\n"
     ]
    }
   ],
   "source": [
    "team_name12 = 'Green Bay Packers'\n",
    "packers_data = nflwins[nflwins['Team'] == team_name12]\n",
    "mean_value = packers_data['Wins'].mean()\n",
    "median_value = packers_data['Wins'].median()\n",
    "std_value = packers_data['Wins'].std()\n",
    "var_value = packers_data['Wins'].var()\n",
    "min_value = packers_data['Wins'].min()\n",
    "max_value = packers_data['Wins'].max()\n",
    "data_range = max_value - min_value\n",
    "total_points = packers_data['Wins'].sum()\n",
    "print(\"Green Bay Packers  Wins Mean:\", mean_value)\n",
    "print(\"Green Bay Packers  Wins Median:\", median_value)\n",
    "print(\"Green Bay Packers  Wins Standard Deviation:\", std_value)\n",
    "print(\"Green Bay Packers  Wins Variance:\", var_value)\n",
    "print(\"Green Bay Packers  Wins Minimum:\", min_value)\n",
    "print(\"Green Bay Packers  Wins Maximum:\", max_value)\n",
    "print(\"Green Bay Packers  Wins Range:\", data_range)\n",
    "print(\"Green Bay Packers Total Wins 2012-2022:\", total_points)"
   ]
  },
  {
   "cell_type": "markdown",
   "id": "8d26c50c",
   "metadata": {},
   "source": [
    "### Houston Texans"
   ]
  },
  {
   "cell_type": "code",
   "execution_count": 19,
   "id": "495d2c07",
   "metadata": {},
   "outputs": [
    {
     "name": "stdout",
     "output_type": "stream",
     "text": [
      "Houston Texans  Wins Mean: 7.0\n",
      "Houston Texans  Wins Median: 9.0\n",
      "Houston Texans  Wins Standard Deviation: 3.605551275463989\n",
      "Houston Texans  Wins Variance: 13.0\n",
      "Houston Texans  Wins Minimum: 2\n",
      "Houston Texans  Wins Maximum: 12\n",
      "Houston Texans  Wins Range: 10\n",
      "Houston Texans Total Wins 2012-2022: 77\n"
     ]
    }
   ],
   "source": [
    "team_name13 = 'Houston Texans'\n",
    "texans_data = nflwins[nflwins['Team'] == team_name13]\n",
    "mean_value = texans_data['Wins'].mean()\n",
    "median_value = texans_data['Wins'].median()\n",
    "std_value = texans_data['Wins'].std()\n",
    "var_value = texans_data['Wins'].var()\n",
    "min_value = texans_data['Wins'].min()\n",
    "max_value = texans_data['Wins'].max()\n",
    "data_range = max_value - min_value\n",
    "total_points = texans_data['Wins'].sum()\n",
    "print(\"Houston Texans  Wins Mean:\", mean_value)\n",
    "print(\"Houston Texans  Wins Median:\", median_value)\n",
    "print(\"Houston Texans  Wins Standard Deviation:\", std_value)\n",
    "print(\"Houston Texans  Wins Variance:\", var_value)\n",
    "print(\"Houston Texans  Wins Minimum:\", min_value)\n",
    "print(\"Houston Texans  Wins Maximum:\", max_value)\n",
    "print(\"Houston Texans  Wins Range:\", data_range)\n",
    "print(\"Houston Texans Total Wins 2012-2022:\", total_points)"
   ]
  },
  {
   "cell_type": "markdown",
   "id": "b74d8fd8",
   "metadata": {},
   "source": [
    "### Indianapolis Colts"
   ]
  },
  {
   "cell_type": "code",
   "execution_count": 20,
   "id": "fbb59088",
   "metadata": {},
   "outputs": [
    {
     "name": "stdout",
     "output_type": "stream",
     "text": [
      "Indianapolis Colts  Wins Mean: 8.545454545454545\n",
      "Indianapolis Colts  Wins Median: 9.0\n",
      "Indianapolis Colts  Wins Standard Deviation: 2.6594599588501557\n",
      "Indianapolis Colts  Wins Variance: 7.072727272727272\n",
      "Indianapolis Colts  Wins Minimum: 4\n",
      "Indianapolis Colts  Wins Maximum: 11\n",
      "Indianapolis Colts  Wins Range: 7\n",
      "Indianapolis Colts Total Wins 2012-2022: 94\n"
     ]
    }
   ],
   "source": [
    "team_name14 = 'Indianapolis Colts'\n",
    "colts_data = nflwins[nflwins['Team'] == team_name14]\n",
    "mean_value = colts_data['Wins'].mean()\n",
    "median_value = colts_data['Wins'].median()\n",
    "std_value = colts_data['Wins'].std()\n",
    "var_value = colts_data['Wins'].var()\n",
    "min_value = colts_data['Wins'].min()\n",
    "max_value = colts_data['Wins'].max()\n",
    "data_range = max_value - min_value\n",
    "total_points = colts_data['Wins'].sum()\n",
    "print(\"Indianapolis Colts  Wins Mean:\", mean_value)\n",
    "print(\"Indianapolis Colts  Wins Median:\", median_value)\n",
    "print(\"Indianapolis Colts  Wins Standard Deviation:\", std_value)\n",
    "print(\"Indianapolis Colts  Wins Variance:\", var_value)\n",
    "print(\"Indianapolis Colts  Wins Minimum:\", min_value)\n",
    "print(\"Indianapolis Colts  Wins Maximum:\", max_value)\n",
    "print(\"Indianapolis Colts  Wins Range:\", data_range)\n",
    "print(\"Indianapolis Colts Total Wins 2012-2022:\", total_points)"
   ]
  },
  {
   "cell_type": "markdown",
   "id": "e8c6e962",
   "metadata": {},
   "source": [
    "### Jacksonville Jaguars"
   ]
  },
  {
   "cell_type": "code",
   "execution_count": 21,
   "id": "a1e5e5d6",
   "metadata": {},
   "outputs": [
    {
     "name": "stdout",
     "output_type": "stream",
     "text": [
      "Jacksonville Jaguars  Wins Mean: 4.636363636363637\n",
      "Jacksonville Jaguars  Wins Median: 4.0\n",
      "Jacksonville Jaguars  Wins Standard Deviation: 2.8025961989814827\n",
      "Jacksonville Jaguars  Wins Variance: 7.8545454545454545\n",
      "Jacksonville Jaguars  Wins Minimum: 1\n",
      "Jacksonville Jaguars  Wins Maximum: 10\n",
      "Jacksonville Jaguars  Wins Range: 9\n",
      "Jacksonville Jaguars Total Wins 2012-2022: 51\n"
     ]
    }
   ],
   "source": [
    "team_name15 = 'Jacksonville Jaguars'\n",
    "jaguars_data = nflwins[nflwins['Team'] == team_name15]\n",
    "mean_value = jaguars_data['Wins'].mean()\n",
    "median_value = jaguars_data['Wins'].median()\n",
    "std_value = jaguars_data['Wins'].std()\n",
    "var_value = jaguars_data['Wins'].var()\n",
    "min_value = jaguars_data['Wins'].min()\n",
    "max_value = jaguars_data['Wins'].max()\n",
    "data_range = max_value - min_value\n",
    "total_points = jaguars_data['Wins'].sum()\n",
    "print(\"Jacksonville Jaguars  Wins Mean:\", mean_value)\n",
    "print(\"Jacksonville Jaguars  Wins Median:\", median_value)\n",
    "print(\"Jacksonville Jaguars  Wins Standard Deviation:\", std_value)\n",
    "print(\"Jacksonville Jaguars  Wins Variance:\", var_value)\n",
    "print(\"Jacksonville Jaguars  Wins Minimum:\", min_value)\n",
    "print(\"Jacksonville Jaguars  Wins Maximum:\", max_value)\n",
    "print(\"Jacksonville Jaguars  Wins Range:\", data_range)\n",
    "print(\"Jacksonville Jaguars Total Wins 2012-2022:\", total_points)"
   ]
  },
  {
   "cell_type": "markdown",
   "id": "7411a9f5",
   "metadata": {},
   "source": [
    "### Kansas City Chiefs"
   ]
  },
  {
   "cell_type": "code",
   "execution_count": 22,
   "id": "40a3c0eb",
   "metadata": {},
   "outputs": [
    {
     "name": "stdout",
     "output_type": "stream",
     "text": [
      "Kansas City Chiefs  Wins Mean: 10.818181818181818\n",
      "Kansas City Chiefs  Wins Median: 12.0\n",
      "Kansas City Chiefs  Wins Standard Deviation: 3.2807981290588977\n",
      "Kansas City Chiefs  Wins Variance: 10.763636363636364\n",
      "Kansas City Chiefs  Wins Minimum: 2\n",
      "Kansas City Chiefs  Wins Maximum: 14\n",
      "Kansas City Chiefs  Wins Range: 12\n",
      "Kansas City Chiefs Total Wins 2012-2022: 119\n"
     ]
    }
   ],
   "source": [
    "team_name16 = 'Kansas City Chiefs'\n",
    "chiefs_data = nflwins[nflwins['Team'] == team_name16]\n",
    "mean_value = chiefs_data['Wins'].mean()\n",
    "median_value = chiefs_data['Wins'].median()\n",
    "std_value = chiefs_data['Wins'].std()\n",
    "var_value = chiefs_data['Wins'].var()\n",
    "min_value = chiefs_data['Wins'].min()\n",
    "max_value = chiefs_data['Wins'].max()\n",
    "data_range = max_value - min_value\n",
    "total_points = chiefs_data['Wins'].sum()\n",
    "print(\"Kansas City Chiefs  Wins Mean:\", mean_value)\n",
    "print(\"Kansas City Chiefs  Wins Median:\", median_value)\n",
    "print(\"Kansas City Chiefs  Wins Standard Deviation:\", std_value)\n",
    "print(\"Kansas City Chiefs  Wins Variance:\", var_value)\n",
    "print(\"Kansas City Chiefs  Wins Minimum:\", min_value)\n",
    "print(\"Kansas City Chiefs  Wins Maximum:\", max_value)\n",
    "print(\"Kansas City Chiefs  Wins Range:\", data_range)\n",
    "print(\"Kansas City Chiefs Total Wins 2012-2022:\", total_points)"
   ]
  },
  {
   "cell_type": "markdown",
   "id": "57e2b288",
   "metadata": {},
   "source": [
    "### Las Vegas Raiders"
   ]
  },
  {
   "cell_type": "code",
   "execution_count": 23,
   "id": "660b9495",
   "metadata": {},
   "outputs": [
    {
     "name": "stdout",
     "output_type": "stream",
     "text": [
      "Las Vegas Raiders  Wins Mean: 6.454545454545454\n",
      "Las Vegas Raiders  Wins Median: 6.0\n",
      "Las Vegas Raiders  Wins Standard Deviation: 2.7699688216164584\n",
      "Las Vegas Raiders  Wins Variance: 7.672727272727272\n",
      "Las Vegas Raiders  Wins Minimum: 3\n",
      "Las Vegas Raiders  Wins Maximum: 12\n",
      "Las Vegas Raiders  Wins Range: 9\n",
      "Las Vegas Raiders Total Wins 2012-2022: 71\n"
     ]
    }
   ],
   "source": [
    "team_name17 = 'Las Vegas Raiders'\n",
    "raiders_data = nflwins[nflwins['Team'] == team_name17]\n",
    "mean_value = raiders_data['Wins'].mean()\n",
    "median_value = raiders_data['Wins'].median()\n",
    "std_value = raiders_data['Wins'].std()\n",
    "var_value = raiders_data['Wins'].var()\n",
    "min_value = raiders_data['Wins'].min()\n",
    "max_value = raiders_data['Wins'].max()\n",
    "data_range = max_value - min_value\n",
    "total_points = raiders_data['Wins'].sum()\n",
    "print(\"Las Vegas Raiders  Wins Mean:\", mean_value)\n",
    "print(\"Las Vegas Raiders  Wins Median:\", median_value)\n",
    "print(\"Las Vegas Raiders  Wins Standard Deviation:\", std_value)\n",
    "print(\"Las Vegas Raiders  Wins Variance:\", var_value)\n",
    "print(\"Las Vegas Raiders  Wins Minimum:\", min_value)\n",
    "print(\"Las Vegas Raiders  Wins Maximum:\", max_value)\n",
    "print(\"Las Vegas Raiders  Wins Range:\", data_range)\n",
    "print(\"Las Vegas Raiders Total Wins 2012-2022:\", total_points)"
   ]
  },
  {
   "cell_type": "markdown",
   "id": "d660b9ec",
   "metadata": {},
   "source": [
    "### Los Angeles Chargers"
   ]
  },
  {
   "cell_type": "code",
   "execution_count": 24,
   "id": "9542bf0f",
   "metadata": {},
   "outputs": [
    {
     "name": "stdout",
     "output_type": "stream",
     "text": [
      "Los Angeles Chargers  Wins Mean: 7.818181818181818\n",
      "Los Angeles Chargers  Wins Median: 9.0\n",
      "Los Angeles Chargers  Wins Standard Deviation: 2.4420557658735733\n",
      "Los Angeles Chargers  Wins Variance: 5.963636363636364\n",
      "Los Angeles Chargers  Wins Minimum: 4\n",
      "Los Angeles Chargers  Wins Maximum: 12\n",
      "Los Angeles Chargers  Wins Range: 8\n",
      "Los Angeles Chargers Total Wins 2012-2022: 86\n"
     ]
    }
   ],
   "source": [
    "team_name18 = 'Los Angeles Chargers'\n",
    "chargers_data = nflwins[nflwins['Team'] == team_name18]\n",
    "mean_value = chargers_data['Wins'].mean()\n",
    "median_value = chargers_data['Wins'].median()\n",
    "std_value = chargers_data['Wins'].std()\n",
    "var_value = chargers_data['Wins'].var()\n",
    "min_value = chargers_data['Wins'].min()\n",
    "max_value = chargers_data['Wins'].max()\n",
    "data_range = max_value - min_value\n",
    "total_points = chargers_data['Wins'].sum()\n",
    "print(\"Los Angeles Chargers  Wins Mean:\", mean_value)\n",
    "print(\"Los Angeles Chargers  Wins Median:\", median_value)\n",
    "print(\"Los Angeles Chargers  Wins Standard Deviation:\", std_value)\n",
    "print(\"Los Angeles Chargers  Wins Variance:\", var_value)\n",
    "print(\"Los Angeles Chargers  Wins Minimum:\", min_value)\n",
    "print(\"Los Angeles Chargers  Wins Maximum:\", max_value)\n",
    "print(\"Los Angeles Chargers  Wins Range:\", data_range)\n",
    "print(\"Los Angeles Chargers Total Wins 2012-2022:\", total_points)"
   ]
  },
  {
   "cell_type": "markdown",
   "id": "eec97d47",
   "metadata": {},
   "source": [
    "### Los Angeles Rams"
   ]
  },
  {
   "cell_type": "code",
   "execution_count": 25,
   "id": "52300d2a",
   "metadata": {},
   "outputs": [
    {
     "name": "stdout",
     "output_type": "stream",
     "text": [
      "Los Angeles Rams  Wins Mean: 8.272727272727273\n",
      "Los Angeles Rams  Wins Median: 7.0\n",
      "Los Angeles Rams  Wins Standard Deviation: 2.935673997258861\n",
      "Los Angeles Rams  Wins Variance: 8.618181818181817\n",
      "Los Angeles Rams  Wins Minimum: 4\n",
      "Los Angeles Rams  Wins Maximum: 13\n",
      "Los Angeles Rams  Wins Range: 9\n",
      "Los Angeles Rams Total Wins 2012-2022: 91\n"
     ]
    }
   ],
   "source": [
    "team_name19 = 'Los Angeles Rams'\n",
    "Rams_data = nflwins[nflwins['Team'] == team_name19]\n",
    "mean_value = Rams_data['Wins'].mean()\n",
    "median_value = Rams_data['Wins'].median()\n",
    "std_value = Rams_data['Wins'].std()\n",
    "var_value = Rams_data['Wins'].var()\n",
    "min_value = Rams_data['Wins'].min()\n",
    "max_value = Rams_data['Wins'].max()\n",
    "data_range = max_value - min_value\n",
    "total_points = Rams_data['Wins'].sum()\n",
    "print(\"Los Angeles Rams  Wins Mean:\", mean_value)\n",
    "print(\"Los Angeles Rams  Wins Median:\", median_value)\n",
    "print(\"Los Angeles Rams  Wins Standard Deviation:\", std_value)\n",
    "print(\"Los Angeles Rams  Wins Variance:\", var_value)\n",
    "print(\"Los Angeles Rams  Wins Minimum:\", min_value)\n",
    "print(\"Los Angeles Rams  Wins Maximum:\", max_value)\n",
    "print(\"Los Angeles Rams  Wins Range:\", data_range)\n",
    "print(\"Los Angeles Rams Total Wins 2012-2022:\", total_points)"
   ]
  },
  {
   "cell_type": "markdown",
   "id": "07002bc4",
   "metadata": {},
   "source": [
    "### Miami Dolphins"
   ]
  },
  {
   "cell_type": "code",
   "execution_count": 26,
   "id": "fdb4368a",
   "metadata": {},
   "outputs": [
    {
     "name": "stdout",
     "output_type": "stream",
     "text": [
      "Miami Dolphins  Wins Mean: 7.7272727272727275\n",
      "Miami Dolphins  Wins Median: 8.0\n",
      "Miami Dolphins  Wins Standard Deviation: 1.6787441193290353\n",
      "Miami Dolphins  Wins Variance: 2.8181818181818183\n",
      "Miami Dolphins  Wins Minimum: 5\n",
      "Miami Dolphins  Wins Maximum: 10\n",
      "Miami Dolphins  Wins Range: 5\n",
      "Miami Dolphins Total Wins 2012-2022: 85\n"
     ]
    }
   ],
   "source": [
    "team_name20 = 'Miami Dolphins'\n",
    "dolphins_data = nflwins[nflwins['Team'] == team_name20]\n",
    "mean_value = dolphins_data['Wins'].mean()\n",
    "median_value = dolphins_data['Wins'].median()\n",
    "std_value = dolphins_data['Wins'].std()\n",
    "var_value = dolphins_data['Wins'].var()\n",
    "min_value = dolphins_data['Wins'].min()\n",
    "max_value = dolphins_data['Wins'].max()\n",
    "data_range = max_value - min_value\n",
    "total_points = dolphins_data['Wins'].sum()\n",
    "print(\"Miami Dolphins  Wins Mean:\", mean_value)\n",
    "print(\"Miami Dolphins  Wins Median:\", median_value)\n",
    "print(\"Miami Dolphins  Wins Standard Deviation:\", std_value)\n",
    "print(\"Miami Dolphins  Wins Variance:\", var_value)\n",
    "print(\"Miami Dolphins  Wins Minimum:\", min_value)\n",
    "print(\"Miami Dolphins  Wins Maximum:\", max_value)\n",
    "print(\"Miami Dolphins  Wins Range:\", data_range)\n",
    "print(\"Miami Dolphins Total Wins 2012-2022:\", total_points)"
   ]
  },
  {
   "cell_type": "markdown",
   "id": "c06d30e1",
   "metadata": {},
   "source": [
    "### Minnesota Vikings"
   ]
  },
  {
   "cell_type": "code",
   "execution_count": 27,
   "id": "79714a76",
   "metadata": {},
   "outputs": [
    {
     "name": "stdout",
     "output_type": "stream",
     "text": [
      "Minnesota Vikings  Wins Mean: 9.090909090909092\n",
      "Minnesota Vikings  Wins Median: 8.0\n",
      "Minnesota Vikings  Wins Standard Deviation: 2.5477262590217755\n",
      "Minnesota Vikings  Wins Variance: 6.49090909090909\n",
      "Minnesota Vikings  Wins Minimum: 5\n",
      "Minnesota Vikings  Wins Maximum: 13\n",
      "Minnesota Vikings  Wins Range: 8\n",
      "Minnesota Vikings Total Wins 2012-2022: 100\n"
     ]
    }
   ],
   "source": [
    "team_name21 = 'Minnesota Vikings'\n",
    "vikings_data = nflwins[nflwins['Team'] == team_name21]\n",
    "mean_value = vikings_data['Wins'].mean()\n",
    "median_value = vikings_data['Wins'].median()\n",
    "std_value = vikings_data['Wins'].std()\n",
    "var_value = vikings_data['Wins'].var()\n",
    "min_value = vikings_data['Wins'].min()\n",
    "max_value = vikings_data['Wins'].max()\n",
    "data_range = max_value - min_value\n",
    "total_points = vikings_data['Wins'].sum()\n",
    "print(\"Minnesota Vikings  Wins Mean:\", mean_value)\n",
    "print(\"Minnesota Vikings  Wins Median:\", median_value)\n",
    "print(\"Minnesota Vikings  Wins Standard Deviation:\", std_value)\n",
    "print(\"Minnesota Vikings  Wins Variance:\", var_value)\n",
    "print(\"Minnesota Vikings  Wins Minimum:\", min_value)\n",
    "print(\"Minnesota Vikings  Wins Maximum:\", max_value)\n",
    "print(\"Minnesota Vikings  Wins Range:\", data_range)\n",
    "print(\"Minnesota Vikings Total Wins 2012-2022:\", total_points)"
   ]
  },
  {
   "cell_type": "markdown",
   "id": "34a38cc7",
   "metadata": {},
   "source": [
    "### New England Patriots"
   ]
  },
  {
   "cell_type": "code",
   "execution_count": 28,
   "id": "cf1f9bb3",
   "metadata": {},
   "outputs": [
    {
     "name": "stdout",
     "output_type": "stream",
     "text": [
      "New England Patriots  Wins Mean: 11.181818181818182\n",
      "New England Patriots  Wins Median: 12.0\n",
      "New England Patriots  Wins Standard Deviation: 2.088931871468374\n",
      "New England Patriots  Wins Variance: 4.363636363636364\n",
      "New England Patriots  Wins Minimum: 7\n",
      "New England Patriots  Wins Maximum: 14\n",
      "New England Patriots  Wins Range: 7\n",
      "New England Patriots Total Wins 2012-2022: 123\n"
     ]
    }
   ],
   "source": [
    "team_name22 = 'New England Patriots'\n",
    "patriots_data = nflwins[nflwins['Team'] == team_name22]\n",
    "mean_value = patriots_data['Wins'].mean()\n",
    "median_value = patriots_data['Wins'].median()\n",
    "std_value = patriots_data['Wins'].std()\n",
    "var_value = patriots_data['Wins'].var()\n",
    "min_value = patriots_data['Wins'].min()\n",
    "max_value = patriots_data['Wins'].max()\n",
    "data_range = max_value - min_value\n",
    "total_points = patriots_data['Wins'].sum()\n",
    "print(\"New England Patriots  Wins Mean:\", mean_value)\n",
    "print(\"New England Patriots  Wins Median:\", median_value)\n",
    "print(\"New England Patriots  Wins Standard Deviation:\", std_value)\n",
    "print(\"New England Patriots  Wins Variance:\", var_value)\n",
    "print(\"New England Patriots  Wins Minimum:\", min_value)\n",
    "print(\"New England Patriots  Wins Maximum:\", max_value)\n",
    "print(\"New England Patriots  Wins Range:\", data_range)\n",
    "print(\"New England Patriots Total Wins 2012-2022:\", total_points)"
   ]
  },
  {
   "cell_type": "markdown",
   "id": "7baeda4c",
   "metadata": {},
   "source": [
    "### New Orleans Saints"
   ]
  },
  {
   "cell_type": "code",
   "execution_count": 29,
   "id": "bf2b0c3c",
   "metadata": {},
   "outputs": [
    {
     "name": "stdout",
     "output_type": "stream",
     "text": [
      "New Orleans Saints  Wins Mean: 9.1\n",
      "New Orleans Saints  Wins Median: 8.0\n",
      "New Orleans Saints  Wins Standard Deviation: 2.4244128727957572\n",
      "New Orleans Saints  Wins Variance: 5.877777777777776\n",
      "New Orleans Saints  Wins Minimum: 7\n",
      "New Orleans Saints  Wins Maximum: 13\n",
      "New Orleans Saints  Wins Range: 6\n",
      "New Orleans Saints Total Wins 2012-2022: 91\n"
     ]
    }
   ],
   "source": [
    "team_name23 = 'New Orleans Saints'\n",
    "saints_data = nflwins[nflwins['Team'] == team_name23]\n",
    "mean_value = saints_data['Wins'].mean()\n",
    "median_value = saints_data['Wins'].median()\n",
    "std_value = saints_data['Wins'].std()\n",
    "var_value = saints_data['Wins'].var()\n",
    "min_value = saints_data['Wins'].min()\n",
    "max_value = saints_data['Wins'].max()\n",
    "data_range = max_value - min_value\n",
    "total_points = saints_data['Wins'].sum()\n",
    "print(\"New Orleans Saints  Wins Mean:\", mean_value)\n",
    "print(\"New Orleans Saints  Wins Median:\", median_value)\n",
    "print(\"New Orleans Saints  Wins Standard Deviation:\", std_value)\n",
    "print(\"New Orleans Saints  Wins Variance:\", var_value)\n",
    "print(\"New Orleans Saints  Wins Minimum:\", min_value)\n",
    "print(\"New Orleans Saints  Wins Maximum:\", max_value)\n",
    "print(\"New Orleans Saints  Wins Range:\", data_range)\n",
    "print(\"New Orleans Saints Total Wins 2012-2022:\", total_points)"
   ]
  },
  {
   "cell_type": "markdown",
   "id": "11987db6",
   "metadata": {},
   "source": [
    "### New York Giants"
   ]
  },
  {
   "cell_type": "code",
   "execution_count": 30,
   "id": "6cc4fd77",
   "metadata": {},
   "outputs": [
    {
     "name": "stdout",
     "output_type": "stream",
     "text": [
      "New York Giants  Wins Mean: 6.363636363636363\n",
      "New York Giants  Wins Median: 6.0\n",
      "New York Giants  Wins Standard Deviation: 2.4605985967941737\n",
      "New York Giants  Wins Variance: 6.0545454545454565\n",
      "New York Giants  Wins Minimum: 3\n",
      "New York Giants  Wins Maximum: 11\n",
      "New York Giants  Wins Range: 8\n",
      "New York Giants Total Wins 2012-2022: 70\n"
     ]
    }
   ],
   "source": [
    "team_name24 = 'New York Giants'\n",
    "giants_data = nflwins[nflwins['Team'] == team_name24]\n",
    "mean_value = giants_data['Wins'].mean()\n",
    "median_value = giants_data['Wins'].median()\n",
    "std_value = giants_data['Wins'].std()\n",
    "var_value = giants_data['Wins'].var()\n",
    "min_value = giants_data['Wins'].min()\n",
    "max_value = giants_data['Wins'].max()\n",
    "data_range = max_value - min_value\n",
    "total_points = giants_data['Wins'].sum()\n",
    "print(\"New York Giants  Wins Mean:\", mean_value)\n",
    "print(\"New York Giants  Wins Median:\", median_value)\n",
    "print(\"New York Giants  Wins Standard Deviation:\", std_value)\n",
    "print(\"New York Giants  Wins Variance:\", var_value)\n",
    "print(\"New York Giants  Wins Minimum:\", min_value)\n",
    "print(\"New York Giants  Wins Maximum:\", max_value)\n",
    "print(\"New York Giants  Wins Range:\", data_range)\n",
    "print(\"New York Giants Total Wins 2012-2022:\", total_points)"
   ]
  },
  {
   "cell_type": "markdown",
   "id": "e1511664",
   "metadata": {},
   "source": [
    "### New York Jets"
   ]
  },
  {
   "cell_type": "code",
   "execution_count": 31,
   "id": "ad484990",
   "metadata": {},
   "outputs": [
    {
     "name": "stdout",
     "output_type": "stream",
     "text": [
      "New York Jets  Wins Mean: 5.636363636363637\n",
      "New York Jets  Wins Median: 5.0\n",
      "New York Jets  Wins Standard Deviation: 2.2482316283126735\n",
      "New York Jets  Wins Variance: 5.054545454545455\n",
      "New York Jets  Wins Minimum: 2\n",
      "New York Jets  Wins Maximum: 10\n",
      "New York Jets  Wins Range: 8\n",
      "New York Jets Total Wins 2012-2022: 62\n"
     ]
    }
   ],
   "source": [
    "team_name25 = 'New York Jets'\n",
    "Jets_data = nflwins[nflwins['Team'] == team_name25]\n",
    "mean_value = Jets_data['Wins'].mean()\n",
    "median_value = Jets_data['Wins'].median()\n",
    "std_value = Jets_data['Wins'].std()\n",
    "var_value = Jets_data['Wins'].var()\n",
    "min_value = Jets_data['Wins'].min()\n",
    "max_value = Jets_data['Wins'].max()\n",
    "data_range = max_value - min_value\n",
    "total_points = Jets_data['Wins'].sum()\n",
    "print(\"New York Jets  Wins Mean:\", mean_value)\n",
    "print(\"New York Jets  Wins Median:\", median_value)\n",
    "print(\"New York Jets  Wins Standard Deviation:\", std_value)\n",
    "print(\"New York Jets  Wins Variance:\", var_value)\n",
    "print(\"New York Jets  Wins Minimum:\", min_value)\n",
    "print(\"New York Jets  Wins Maximum:\", max_value)\n",
    "print(\"New York Jets  Wins Range:\", data_range)\n",
    "print(\"New York Jets Total Wins 2012-2022:\", total_points)"
   ]
  },
  {
   "cell_type": "markdown",
   "id": "060cb418",
   "metadata": {},
   "source": [
    "### Philadelphia Eagles"
   ]
  },
  {
   "cell_type": "code",
   "execution_count": 32,
   "id": "6699aa1f",
   "metadata": {},
   "outputs": [
    {
     "name": "stdout",
     "output_type": "stream",
     "text": [
      "Philadelphia Eagles  Wins Mean: 8.727272727272727\n",
      "Philadelphia Eagles  Wins Median: 9.0\n",
      "Philadelphia Eagles  Wins Standard Deviation: 3.1651511525015383\n",
      "Philadelphia Eagles  Wins Variance: 10.018181818181818\n",
      "Philadelphia Eagles  Wins Minimum: 4\n",
      "Philadelphia Eagles  Wins Maximum: 14\n",
      "Philadelphia Eagles  Wins Range: 10\n",
      "Philadelphia Eagles Total Wins 2012-2022: 96\n"
     ]
    }
   ],
   "source": [
    "team_name26 = 'Philadelphia Eagles'\n",
    "eagles_data = nflwins[nflwins['Team'] == team_name26]\n",
    "mean_value = eagles_data['Wins'].mean()\n",
    "median_value = eagles_data['Wins'].median()\n",
    "std_value = eagles_data['Wins'].std()\n",
    "var_value = eagles_data['Wins'].var()\n",
    "min_value = eagles_data['Wins'].min()\n",
    "max_value = eagles_data['Wins'].max()\n",
    "data_range = max_value - min_value\n",
    "total_points = eagles_data['Wins'].sum()\n",
    "print(\"Philadelphia Eagles  Wins Mean:\", mean_value)\n",
    "print(\"Philadelphia Eagles  Wins Median:\", median_value)\n",
    "print(\"Philadelphia Eagles  Wins Standard Deviation:\", std_value)\n",
    "print(\"Philadelphia Eagles  Wins Variance:\", var_value)\n",
    "print(\"Philadelphia Eagles  Wins Minimum:\", min_value)\n",
    "print(\"Philadelphia Eagles  Wins Maximum:\", max_value)\n",
    "print(\"Philadelphia Eagles  Wins Range:\", data_range)\n",
    "print(\"Philadelphia Eagles Total Wins 2012-2022:\", total_points)"
   ]
  },
  {
   "cell_type": "markdown",
   "id": "9c70dbb8",
   "metadata": {},
   "source": [
    "### Pittsburgh Steelers"
   ]
  },
  {
   "cell_type": "code",
   "execution_count": 33,
   "id": "d575e5ae",
   "metadata": {},
   "outputs": [
    {
     "name": "stdout",
     "output_type": "stream",
     "text": [
      "Pittsburgh Steelers  Wins Mean: 9.818181818181818\n",
      "Pittsburgh Steelers  Wins Median: 9.0\n",
      "Pittsburgh Steelers  Wins Standard Deviation: 1.7215215257545762\n",
      "Pittsburgh Steelers  Wins Variance: 2.963636363636364\n",
      "Pittsburgh Steelers  Wins Minimum: 8\n",
      "Pittsburgh Steelers  Wins Maximum: 13\n",
      "Pittsburgh Steelers  Wins Range: 5\n",
      "Pittsburgh Steelers Total Wins 2012-2022: 108\n"
     ]
    }
   ],
   "source": [
    "team_name27 = 'Pittsburgh Steelers'\n",
    "steelers_data = nflwins[nflwins['Team'] == team_name27]\n",
    "mean_value = steelers_data['Wins'].mean()\n",
    "median_value = steelers_data['Wins'].median()\n",
    "std_value = steelers_data['Wins'].std()\n",
    "var_value = steelers_data['Wins'].var()\n",
    "min_value = steelers_data['Wins'].min()\n",
    "max_value = steelers_data['Wins'].max()\n",
    "data_range = max_value - min_value\n",
    "total_points = steelers_data['Wins'].sum()\n",
    "print(\"Pittsburgh Steelers  Wins Mean:\", mean_value)\n",
    "print(\"Pittsburgh Steelers  Wins Median:\", median_value)\n",
    "print(\"Pittsburgh Steelers  Wins Standard Deviation:\", std_value)\n",
    "print(\"Pittsburgh Steelers  Wins Variance:\", var_value)\n",
    "print(\"Pittsburgh Steelers  Wins Minimum:\", min_value)\n",
    "print(\"Pittsburgh Steelers  Wins Maximum:\", max_value)\n",
    "print(\"Pittsburgh Steelers  Wins Range:\", data_range)\n",
    "print(\"Pittsburgh Steelers Total Wins 2012-2022:\", total_points)"
   ]
  },
  {
   "cell_type": "markdown",
   "id": "1c58e53c",
   "metadata": {},
   "source": [
    "### San Francisco 49ers"
   ]
  },
  {
   "cell_type": "code",
   "execution_count": 34,
   "id": "da2ef2c3",
   "metadata": {},
   "outputs": [
    {
     "name": "stdout",
     "output_type": "stream",
     "text": [
      "San Francisco 49ers  Wins Mean: 8.181818181818182\n",
      "San Francisco 49ers  Wins Median: 8.0\n",
      "San Francisco 49ers  Wins Standard Deviation: 3.8423477671387793\n",
      "San Francisco 49ers  Wins Variance: 14.763636363636362\n",
      "San Francisco 49ers  Wins Minimum: 2\n",
      "San Francisco 49ers  Wins Maximum: 13\n",
      "San Francisco 49ers  Wins Range: 11\n",
      "San Francisco 49ers Total Wins 2012-2022: 90\n"
     ]
    }
   ],
   "source": [
    "team_name28 = 'San Francisco 49ers'\n",
    "niners_data = nflwins[nflwins['Team'] == team_name28]\n",
    "mean_value = niners_data['Wins'].mean()\n",
    "median_value = niners_data['Wins'].median()\n",
    "std_value = niners_data['Wins'].std()\n",
    "var_value = niners_data['Wins'].var()\n",
    "min_value = niners_data['Wins'].min()\n",
    "max_value = niners_data['Wins'].max()\n",
    "data_range = max_value - min_value\n",
    "total_points = niners_data['Wins'].sum()\n",
    "print(\"San Francisco 49ers  Wins Mean:\", mean_value)\n",
    "print(\"San Francisco 49ers  Wins Median:\", median_value)\n",
    "print(\"San Francisco 49ers  Wins Standard Deviation:\", std_value)\n",
    "print(\"San Francisco 49ers  Wins Variance:\", var_value)\n",
    "print(\"San Francisco 49ers  Wins Minimum:\", min_value)\n",
    "print(\"San Francisco 49ers  Wins Maximum:\", max_value)\n",
    "print(\"San Francisco 49ers  Wins Range:\", data_range)\n",
    "print(\"San Francisco 49ers Total Wins 2012-2022:\", total_points)"
   ]
  },
  {
   "cell_type": "markdown",
   "id": "921f90e8",
   "metadata": {},
   "source": [
    "### Tampa Bay Buccaneers"
   ]
  },
  {
   "cell_type": "code",
   "execution_count": 35,
   "id": "31643e89",
   "metadata": {},
   "outputs": [
    {
     "name": "stdout",
     "output_type": "stream",
     "text": [
      "Tampa Bay Buccaneers  Wins Mean: 7.0\n",
      "Tampa Bay Buccaneers  Wins Median: 7.0\n",
      "Tampa Bay Buccaneers  Wins Standard Deviation: 3.1622776601683795\n",
      "Tampa Bay Buccaneers  Wins Variance: 10.0\n",
      "Tampa Bay Buccaneers  Wins Minimum: 2\n",
      "Tampa Bay Buccaneers  Wins Maximum: 13\n",
      "Tampa Bay Buccaneers  Wins Range: 11\n",
      "Tampa Bay Buccaneers Total Wins 2012-2022: 77\n"
     ]
    }
   ],
   "source": [
    "team_name29 = 'Tampa Bay Buccaneers'\n",
    "buccaneers_data = nflwins[nflwins['Team'] == team_name29]\n",
    "mean_value = buccaneers_data['Wins'].mean()\n",
    "median_value = buccaneers_data['Wins'].median()\n",
    "std_value = buccaneers_data['Wins'].std()\n",
    "var_value = buccaneers_data['Wins'].var()\n",
    "min_value = buccaneers_data['Wins'].min()\n",
    "max_value = buccaneers_data['Wins'].max()\n",
    "data_range = max_value - min_value\n",
    "total_points = buccaneers_data['Wins'].sum()\n",
    "print(\"Tampa Bay Buccaneers  Wins Mean:\", mean_value)\n",
    "print(\"Tampa Bay Buccaneers  Wins Median:\", median_value)\n",
    "print(\"Tampa Bay Buccaneers  Wins Standard Deviation:\", std_value)\n",
    "print(\"Tampa Bay Buccaneers  Wins Variance:\", var_value)\n",
    "print(\"Tampa Bay Buccaneers  Wins Minimum:\", min_value)\n",
    "print(\"Tampa Bay Buccaneers  Wins Maximum:\", max_value)\n",
    "print(\"Tampa Bay Buccaneers  Wins Range:\", data_range)\n",
    "print(\"Tampa Bay Buccaneers Total Wins 2012-2022:\", total_points)"
   ]
  },
  {
   "cell_type": "markdown",
   "id": "402feabd",
   "metadata": {},
   "source": [
    "### Tennessee Titans"
   ]
  },
  {
   "cell_type": "code",
   "execution_count": 36,
   "id": "34a835c2",
   "metadata": {},
   "outputs": [
    {
     "name": "stdout",
     "output_type": "stream",
     "text": [
      "Tennessee Titans  Wins Mean: 7.636363636363637\n",
      "Tennessee Titans  Wins Median: 9.0\n",
      "Tennessee Titans  Wins Standard Deviation: 3.07482445914323\n",
      "Tennessee Titans  Wins Variance: 9.454545454545457\n",
      "Tennessee Titans  Wins Minimum: 2\n",
      "Tennessee Titans  Wins Maximum: 12\n",
      "Tennessee Titans  Wins Range: 10\n",
      "Tennessee Titans Total Wins 2012-2022: 84\n"
     ]
    }
   ],
   "source": [
    "team_name30 = 'Tennessee Titans'\n",
    "titans_data = nflwins[nflwins['Team'] == team_name30]\n",
    "mean_value = titans_data['Wins'].mean()\n",
    "median_value = titans_data['Wins'].median()\n",
    "std_value = titans_data['Wins'].std()\n",
    "var_value = titans_data['Wins'].var()\n",
    "min_value = titans_data['Wins'].min()\n",
    "max_value = titans_data['Wins'].max()\n",
    "data_range = max_value - min_value\n",
    "total_points = titans_data['Wins'].sum()\n",
    "print(\"Tennessee Titans  Wins Mean:\", mean_value)\n",
    "print(\"Tennessee Titans  Wins Median:\", median_value)\n",
    "print(\"Tennessee Titans  Wins Standard Deviation:\", std_value)\n",
    "print(\"Tennessee Titans  Wins Variance:\", var_value)\n",
    "print(\"Tennessee Titans  Wins Minimum:\", min_value)\n",
    "print(\"Tennessee Titans  Wins Maximum:\", max_value)\n",
    "print(\"Tennessee Titans  Wins Range:\", data_range)\n",
    "print(\"Tennessee Titans Total Wins 2012-2022:\", total_points)"
   ]
  },
  {
   "cell_type": "markdown",
   "id": "80f6844f",
   "metadata": {},
   "source": [
    "### Washington Commanders"
   ]
  },
  {
   "cell_type": "code",
   "execution_count": 37,
   "id": "d1a4004e",
   "metadata": {},
   "outputs": [
    {
     "name": "stdout",
     "output_type": "stream",
     "text": [
      "Washington Commanders  Wins Mean: 6.636363636363637\n",
      "Washington Commanders  Wins Median: 7.0\n",
      "Washington Commanders  Wins Standard Deviation: 2.3354968324845693\n",
      "Washington Commanders  Wins Variance: 5.454545454545456\n",
      "Washington Commanders  Wins Minimum: 3\n",
      "Washington Commanders  Wins Points Maximum: 10\n",
      "Washington Commanders  Wins Range: 7\n",
      "Washington Commanders Total Wins 2012-2022: 73\n"
     ]
    }
   ],
   "source": [
    "team_name31 = 'Washington Commanders'\n",
    "commanders_data = nflwins[nflwins['Team'] == team_name31]\n",
    "mean_value = commanders_data['Wins'].mean()\n",
    "median_value = commanders_data['Wins'].median()\n",
    "std_value = commanders_data['Wins'].std()\n",
    "var_value = commanders_data['Wins'].var()\n",
    "min_value = commanders_data['Wins'].min()\n",
    "max_value = commanders_data['Wins'].max()\n",
    "total_points = commanders_data['Wins'].sum()\n",
    "data_range = max_value - min_value\n",
    "print(\"Washington Commanders  Wins Mean:\", mean_value)\n",
    "print(\"Washington Commanders  Wins Median:\", median_value)\n",
    "print(\"Washington Commanders  Wins Standard Deviation:\", std_value)\n",
    "print(\"Washington Commanders  Wins Variance:\", var_value)\n",
    "print(\"Washington Commanders  Wins Minimum:\", min_value)\n",
    "print(\"Washington Commanders  Wins Points Maximum:\", max_value)\n",
    "print(\"Washington Commanders  Wins Range:\", data_range)\n",
    "print(\"Washington Commanders Total Wins 2012-2022:\", total_points)"
   ]
  },
  {
   "cell_type": "markdown",
   "id": "9341ab32",
   "metadata": {},
   "source": [
    "### Distribution of Wins"
   ]
  },
  {
   "cell_type": "code",
   "execution_count": 7,
   "id": "fc406a2c",
   "metadata": {},
   "outputs": [
    {
     "data": {
      "image/png": "[encoded data removed]",
      "text/plain": [
       "<Figure size 432x288 with 1 Axes>"
      ]
     },
     "metadata": {
      "needs_background": "light"
     },
     "output_type": "display_data"
    }
   ],
   "source": [
    "sns.histplot(data=nflwins, x='Wins', bins=10, kde=True)\n",
    "plt.xlabel('Wins')\n",
    "plt.ylabel('Frequency')\n",
    "plt.title('Distribution of Wins')\n",
    "plt.show()"
   ]
  },
  {
   "cell_type": "code",
   "execution_count": 17,
   "id": "580c2af5",
   "metadata": {},
   "outputs": [
    {
     "data": {
      "image/png": "[encoded data removed]",
      "text/plain": [
       "<Figure size 576x432 with 1 Axes>"
      ]
     },
     "metadata": {},
     "output_type": "display_data"
    }
   ],
   "source": [
    "sns.set(style=\"whitegrid\", font_scale=1.2)\n",
    "plt.figure(figsize=(8, 6))\n",
    "ax = sns.histplot(data=nflwins, x='Wins', bins=10, kde=True, color='dodgerblue')\n",
    "plt.xlabel('Wins', fontsize=14)\n",
    "plt.ylabel('Frequency', fontsize=14)\n",
    "plt.title('Distribution of Wins', fontsize=16)\n",
    "plt.xticks(fontsize=12)\n",
    "plt.yticks(fontsize=12)\n",
    "plt.grid(axis='y', linestyle='--', alpha=0.7)\n",
    "ax.lines[0].set_color('red')\n",
    "sns.despine()\n",
    "plt.show()\n"
   ]
  },
  {
   "cell_type": "code",
   "execution_count": 10,
   "id": "51998fc9",
   "metadata": {},
   "outputs": [
    {
     "data": {
      "text/plain": [
       "3.0870427806937064"
      ]
     },
     "execution_count": 10,
     "metadata": {},
     "output_type": "execute_result"
    }
   ],
   "source": [
    "nflwins['Wins'].std()"
   ]
  },
  {
   "cell_type": "markdown",
   "id": "c5db3aef",
   "metadata": {},
   "source": [
    "### Wins Analysis:\n",
    "#### New England, Kansas City, and Seattle are the top 3 winning teams. All 3 teams have appeared in at least 2 superbowls in the last decade. Jacksonville has won the least games in the last decade.  "
   ]
  },
  {
   "cell_type": "code",
   "execution_count": null,
   "id": "04b35d63",
   "metadata": {},
   "outputs": [],
   "source": []
  }
 ],
 "metadata": {
  "kernelspec": {
   "display_name": "Python 3 (ipykernel)",
   "language": "python",
   "name": "python3"
  },
  "language_info": {
   "codemirror_mode": {
    "name": "ipython",
    "version": 3
   },
   "file_extension": ".py",
   "mimetype": "text/x-python",
   "name": "python",
   "nbconvert_exporter": "python",
   "pygments_lexer": "ipython3",
   "version": "3.9.12"
  }
 },
 "nbformat": 4,
 "nbformat_minor": 5
}

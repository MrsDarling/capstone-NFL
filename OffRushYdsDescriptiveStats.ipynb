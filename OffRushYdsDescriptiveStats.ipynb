{
 "cells": [
  {
   "cell_type": "markdown",
   "id": "41357f4e",
   "metadata": {},
   "source": [
    "# Descriptive Statistics for Offense Rushing Yards for Each Team"
   ]
  },
  {
   "cell_type": "markdown",
   "id": "2a7bb9ae",
   "metadata": {},
   "source": [
    "#### Import Packages"
   ]
  },
  {
   "cell_type": "code",
   "execution_count": 1,
   "id": "f3fc62c9",
   "metadata": {},
   "outputs": [],
   "source": [
    "import pandas as pd\n",
    "import numpy as np\n",
    "from scipy.stats import norm\n",
    "from scipy import stats"
   ]
  },
  {
   "cell_type": "markdown",
   "id": "defefc7d",
   "metadata": {},
   "source": [
    "#### Import NFL Dataset 2012-2022"
   ]
  },
  {
   "cell_type": "code",
   "execution_count": 2,
   "id": "d2e9f6a9",
   "metadata": {},
   "outputs": [],
   "source": [
    "nflrush = pd.read_csv('/Users/admin/Desktop/Final_Project/NFL_merged/nfl2012_2022merge.csv')"
   ]
  },
  {
   "cell_type": "code",
   "execution_count": 3,
   "id": "900b4c34",
   "metadata": {},
   "outputs": [
    {
     "data": {
      "text/html": [
       "<div>\n",
       "<style scoped>\n",
       "    .dataframe tbody tr th:only-of-type {\n",
       "        vertical-align: middle;\n",
       "    }\n",
       "\n",
       "    .dataframe tbody tr th {\n",
       "        vertical-align: top;\n",
       "    }\n",
       "\n",
       "    .dataframe thead th {\n",
       "        text-align: right;\n",
       "    }\n",
       "</style>\n",
       "<table border=\"1\" class=\"dataframe\">\n",
       "  <thead>\n",
       "    <tr style=\"text-align: right;\">\n",
       "      <th></th>\n",
       "      <th>Team</th>\n",
       "      <th>Off Tot/Pts</th>\n",
       "      <th>Off Pts/G</th>\n",
       "      <th>Off RushYds</th>\n",
       "      <th>Off RYds/G</th>\n",
       "      <th>Off PassYds</th>\n",
       "      <th>Off PYds/G</th>\n",
       "      <th>Off TotYds</th>\n",
       "      <th>Off Yds/G</th>\n",
       "      <th>Def Tot/Pts</th>\n",
       "      <th>...</th>\n",
       "      <th>Def PassYds</th>\n",
       "      <th>Def PYds/G</th>\n",
       "      <th>Def TotYds</th>\n",
       "      <th>Def Yds/G</th>\n",
       "      <th>Year</th>\n",
       "      <th>Wins</th>\n",
       "      <th>Losses</th>\n",
       "      <th>Tie</th>\n",
       "      <th>Superbowl</th>\n",
       "      <th>SB Win</th>\n",
       "    </tr>\n",
       "  </thead>\n",
       "  <tbody>\n",
       "    <tr>\n",
       "      <th>0</th>\n",
       "      <td>Arizona Cardinals</td>\n",
       "      <td>250</td>\n",
       "      <td>15.6</td>\n",
       "      <td>1204</td>\n",
       "      <td>75.2</td>\n",
       "      <td>3005</td>\n",
       "      <td>187.8</td>\n",
       "      <td>4209</td>\n",
       "      <td>263.1</td>\n",
       "      <td>357</td>\n",
       "      <td>...</td>\n",
       "      <td>3213</td>\n",
       "      <td>200.8</td>\n",
       "      <td>5405</td>\n",
       "      <td>337.8</td>\n",
       "      <td>2012</td>\n",
       "      <td>5</td>\n",
       "      <td>11</td>\n",
       "      <td>0.0</td>\n",
       "      <td>No</td>\n",
       "      <td>No</td>\n",
       "    </tr>\n",
       "    <tr>\n",
       "      <th>1</th>\n",
       "      <td>Atlanta Falcons</td>\n",
       "      <td>419</td>\n",
       "      <td>26.2</td>\n",
       "      <td>1397</td>\n",
       "      <td>87.3</td>\n",
       "      <td>4509</td>\n",
       "      <td>281.8</td>\n",
       "      <td>5906</td>\n",
       "      <td>369.1</td>\n",
       "      <td>299</td>\n",
       "      <td>...</td>\n",
       "      <td>3878</td>\n",
       "      <td>242.4</td>\n",
       "      <td>5849</td>\n",
       "      <td>365.6</td>\n",
       "      <td>2012</td>\n",
       "      <td>13</td>\n",
       "      <td>3</td>\n",
       "      <td>0.0</td>\n",
       "      <td>No</td>\n",
       "      <td>No</td>\n",
       "    </tr>\n",
       "    <tr>\n",
       "      <th>2</th>\n",
       "      <td>Baltimore Ravens</td>\n",
       "      <td>398</td>\n",
       "      <td>24.9</td>\n",
       "      <td>1901</td>\n",
       "      <td>118.8</td>\n",
       "      <td>3739</td>\n",
       "      <td>233.7</td>\n",
       "      <td>5640</td>\n",
       "      <td>352.5</td>\n",
       "      <td>344</td>\n",
       "      <td>...</td>\n",
       "      <td>3650</td>\n",
       "      <td>228.1</td>\n",
       "      <td>5615</td>\n",
       "      <td>350.9</td>\n",
       "      <td>2012</td>\n",
       "      <td>10</td>\n",
       "      <td>6</td>\n",
       "      <td>0.0</td>\n",
       "      <td>Yes</td>\n",
       "      <td>Yes</td>\n",
       "    </tr>\n",
       "    <tr>\n",
       "      <th>3</th>\n",
       "      <td>Buffalo Bills</td>\n",
       "      <td>344</td>\n",
       "      <td>21.5</td>\n",
       "      <td>2217</td>\n",
       "      <td>138.6</td>\n",
       "      <td>3269</td>\n",
       "      <td>204.3</td>\n",
       "      <td>5486</td>\n",
       "      <td>342.9</td>\n",
       "      <td>435</td>\n",
       "      <td>...</td>\n",
       "      <td>3473</td>\n",
       "      <td>217.1</td>\n",
       "      <td>5806</td>\n",
       "      <td>362.9</td>\n",
       "      <td>2012</td>\n",
       "      <td>6</td>\n",
       "      <td>10</td>\n",
       "      <td>0.0</td>\n",
       "      <td>No</td>\n",
       "      <td>No</td>\n",
       "    </tr>\n",
       "    <tr>\n",
       "      <th>4</th>\n",
       "      <td>Carolina Panthers</td>\n",
       "      <td>357</td>\n",
       "      <td>22.3</td>\n",
       "      <td>2088</td>\n",
       "      <td>130.5</td>\n",
       "      <td>3683</td>\n",
       "      <td>230.2</td>\n",
       "      <td>5771</td>\n",
       "      <td>360.7</td>\n",
       "      <td>363</td>\n",
       "      <td>...</td>\n",
       "      <td>3568</td>\n",
       "      <td>223.0</td>\n",
       "      <td>5329</td>\n",
       "      <td>333.1</td>\n",
       "      <td>2012</td>\n",
       "      <td>7</td>\n",
       "      <td>9</td>\n",
       "      <td>0.0</td>\n",
       "      <td>No</td>\n",
       "      <td>No</td>\n",
       "    </tr>\n",
       "  </tbody>\n",
       "</table>\n",
       "<p>5 rows × 23 columns</p>\n",
       "</div>"
      ],
      "text/plain": [
       "                Team  Off Tot/Pts  Off Pts/G  Off RushYds  Off RYds/G  \\\n",
       "0  Arizona Cardinals          250       15.6         1204        75.2   \n",
       "1    Atlanta Falcons          419       26.2         1397        87.3   \n",
       "2   Baltimore Ravens          398       24.9         1901       118.8   \n",
       "3      Buffalo Bills          344       21.5         2217       138.6   \n",
       "4  Carolina Panthers          357       22.3         2088       130.5   \n",
       "\n",
       "   Off PassYds  Off PYds/G  Off TotYds  Off Yds/G  Def Tot/Pts  ...  \\\n",
       "0         3005       187.8        4209      263.1          357  ...   \n",
       "1         4509       281.8        5906      369.1          299  ...   \n",
       "2         3739       233.7        5640      352.5          344  ...   \n",
       "3         3269       204.3        5486      342.9          435  ...   \n",
       "4         3683       230.2        5771      360.7          363  ...   \n",
       "\n",
       "   Def PassYds  Def PYds/G  Def TotYds  Def Yds/G  Year  Wins  Losses  Tie  \\\n",
       "0         3213       200.8        5405      337.8  2012     5      11  0.0   \n",
       "1         3878       242.4        5849      365.6  2012    13       3  0.0   \n",
       "2         3650       228.1        5615      350.9  2012    10       6  0.0   \n",
       "3         3473       217.1        5806      362.9  2012     6      10  0.0   \n",
       "4         3568       223.0        5329      333.1  2012     7       9  0.0   \n",
       "\n",
       "   Superbowl  SB Win  \n",
       "0         No      No  \n",
       "1         No      No  \n",
       "2        Yes     Yes  \n",
       "3         No      No  \n",
       "4         No      No  \n",
       "\n",
       "[5 rows x 23 columns]"
      ]
     },
     "execution_count": 3,
     "metadata": {},
     "output_type": "execute_result"
    }
   ],
   "source": [
    "nflrush.head()"
   ]
  },
  {
   "cell_type": "markdown",
   "id": "0c3daba3",
   "metadata": {},
   "source": [
    "## Calculating Descriptive Statistics by Team\n",
    "#### First filter the data by a single team - I will use the Seattle Seahawks, my favorite team, to start."
   ]
  },
  {
   "cell_type": "code",
   "execution_count": 4,
   "id": "fd9400ee",
   "metadata": {},
   "outputs": [],
   "source": [
    "team_name = 'Seattle Seahawks'\n",
    "seahawks_data = nflrush[nflrush['Team'] == team_name]"
   ]
  },
  {
   "cell_type": "markdown",
   "id": "eb178a1a",
   "metadata": {},
   "source": [
    "#### Display rushing yards average by year for the Seahawks"
   ]
  },
  {
   "cell_type": "code",
   "execution_count": 5,
   "id": "f8707b56",
   "metadata": {},
   "outputs": [
    {
     "name": "stdout",
     "output_type": "stream",
     "text": [
      "Year: 2012 \tRushing Yards: 2579\n",
      "Year: 2013 \tRushing Yards: 2188\n",
      "Year: 2014 \tRushing Yards: 2762\n",
      "Year: 2015 \tRushing Yards: 2268\n",
      "Year: 2016 \tRushing Yards: 1591\n",
      "Year: 2017 \tRushing Yards: 1629\n",
      "Year: 2018 \tRushing Yards: 1629\n",
      "Year: 2019 \tRushing Yards: 2200\n",
      "Year: 2020 \tRushing Yards: 1971\n",
      "Year: 2021 \tRushing Yards: 2074\n",
      "Year: 2022 \tRushing Yards: 2042\n"
     ]
    }
   ],
   "source": [
    "for year in seahawks_data['Year'].unique():\n",
    "    off_rush_yards = seahawks_data.loc[seahawks_data['Year'] == year, 'Off RushYds'].values[0]\n",
    "    print(\"Year:\", year, \"\\tRushing Yards:\", off_rush_yards)"
   ]
  },
  {
   "cell_type": "markdown",
   "id": "a7898a09",
   "metadata": {},
   "source": [
    "#### What is the mean rushing yards for the Seahawks over all years?"
   ]
  },
  {
   "cell_type": "code",
   "execution_count": 7,
   "id": "02254c55",
   "metadata": {},
   "outputs": [
    {
     "name": "stdout",
     "output_type": "stream",
     "text": [
      "2084.818181818182\n"
     ]
    }
   ],
   "source": [
    "total_off_rush_yards = seahawks_data['Off RushYds'].mean()\n",
    "print(total_off_rush_yards)"
   ]
  },
  {
   "cell_type": "markdown",
   "id": "eb8f8205",
   "metadata": {},
   "source": [
    "#### Let's calculate several descriptive statistics on Offense Points per Game for the Seahawks"
   ]
  },
  {
   "cell_type": "code",
   "execution_count": 8,
   "id": "a2adfdfd",
   "metadata": {},
   "outputs": [
    {
     "name": "stdout",
     "output_type": "stream",
     "text": [
      "Seattle Seahawks Offense Rushing Yards Mean: 2084.818181818182\n",
      "Seattle Seahawks Offense Rushing Yards Median: 2074.0\n",
      "Seattle Seahawks Offense Rushing Yards Standard Deviation: 378.7560740587055\n",
      "Seattle Seahawks Offense Rushing Yards Variance: 143456.1636363636\n",
      "Seattle Seahawks Offense Rushing Yards Minimum: 1591\n",
      "Seattle Seahawks Offense Rushing Yards Maximum: 2762\n",
      "Seattle Seahawks Offense Rushing Yards Range: 1171\n",
      "Seattle Seahawks Total Rushing Yards 2012-2022: 22933\n"
     ]
    }
   ],
   "source": [
    "mean_value = seahawks_data['Off RushYds'].mean()\n",
    "median_value = seahawks_data['Off RushYds'].median()\n",
    "std_value = seahawks_data['Off RushYds'].std()\n",
    "var_value = seahawks_data['Off RushYds'].var()\n",
    "min_value = seahawks_data['Off RushYds'].min()\n",
    "max_value = seahawks_data['Off RushYds'].max()\n",
    "data_range = max_value - min_value\n",
    "total_points = seahawks_data['Off RushYds'].sum()\n",
    "print(\"Seattle Seahawks Offense Rushing Yards Mean:\", mean_value)\n",
    "print(\"Seattle Seahawks Offense Rushing Yards Median:\", median_value)\n",
    "print(\"Seattle Seahawks Offense Rushing Yards Standard Deviation:\", std_value)\n",
    "print(\"Seattle Seahawks Offense Rushing Yards Variance:\", var_value)\n",
    "print(\"Seattle Seahawks Offense Rushing Yards Minimum:\", min_value)\n",
    "print(\"Seattle Seahawks Offense Rushing Yards Maximum:\", max_value)\n",
    "print(\"Seattle Seahawks Offense Rushing Yards Range:\", data_range)\n",
    "print(\"Seattle Seahawks Total Rushing Yards 2012-2022:\", total_points)"
   ]
  },
  {
   "cell_type": "markdown",
   "id": "7995b84c",
   "metadata": {},
   "source": [
    "#### Calculating all Teams Rushing Yards per year"
   ]
  },
  {
   "cell_type": "code",
   "execution_count": 9,
   "id": "58fa57a6",
   "metadata": {},
   "outputs": [
    {
     "name": "stdout",
     "output_type": "stream",
     "text": [
      "Team: Arizona Cardinals \tYear: 2012 \tRushing Yards: 1204\n",
      "Team: Arizona Cardinals \tYear: 2013 \tRushing Yards: 1540\n",
      "Team: Arizona Cardinals \tYear: 2014 \tRushing Yards: 1308\n",
      "Team: Arizona Cardinals \tYear: 2015 \tRushing Yards: 1917\n",
      "Team: Arizona Cardinals \tYear: 2016 \tRushing Yards: 1732\n",
      "Team: Arizona Cardinals \tYear: 2017 \tRushing Yards: 1386\n",
      "Team: Arizona Cardinals \tYear: 2018 \tRushing Yards: 1386\n",
      "Team: Arizona Cardinals \tYear: 2019 \tRushing Yards: 1990\n",
      "Team: Arizona Cardinals \tYear: 2020 \tRushing Yards: 2237\n",
      "Team: Arizona Cardinals \tYear: 2021 \tRushing Yards: 2076\n",
      "Team: Arizona Cardinals \tYear: 2022 \tRushing Yards: 1873\n",
      "Team: Atlanta Falcons \tYear: 2012 \tRushing Yards: 1397\n",
      "Team: Atlanta Falcons \tYear: 2013 \tRushing Yards: 1247\n",
      "Team: Atlanta Falcons \tYear: 2014 \tRushing Yards: 1498\n",
      "Team: Atlanta Falcons \tYear: 2015 \tRushing Yards: 1606\n",
      "Team: Atlanta Falcons \tYear: 2016 \tRushing Yards: 1928\n",
      "Team: Atlanta Falcons \tYear: 2017 \tRushing Yards: 1847\n",
      "Team: Atlanta Falcons \tYear: 2018 \tRushing Yards: 1847\n",
      "Team: Atlanta Falcons \tYear: 2019 \tRushing Yards: 1361\n",
      "Team: Atlanta Falcons \tYear: 2020 \tRushing Yards: 1532\n",
      "Team: Atlanta Falcons \tYear: 2021 \tRushing Yards: 1451\n",
      "Team: Atlanta Falcons \tYear: 2022 \tRushing Yards: 2718\n",
      "Team: Baltimore Ravens \tYear: 2012 \tRushing Yards: 1901\n",
      "Team: Baltimore Ravens \tYear: 2013 \tRushing Yards: 1328\n",
      "Team: Baltimore Ravens \tYear: 2014 \tRushing Yards: 2019\n",
      "Team: Baltimore Ravens \tYear: 2015 \tRushing Yards: 1478\n",
      "Team: Baltimore Ravens \tYear: 2016 \tRushing Yards: 1463\n",
      "Team: Baltimore Ravens \tYear: 2017 \tRushing Yards: 1856\n",
      "Team: Baltimore Ravens \tYear: 2018 \tRushing Yards: 1856\n",
      "Team: Baltimore Ravens \tYear: 2019 \tRushing Yards: 3296\n",
      "Team: Baltimore Ravens \tYear: 2020 \tRushing Yards: 3071\n",
      "Team: Baltimore Ravens \tYear: 2021 \tRushing Yards: 2479\n",
      "Team: Baltimore Ravens \tYear: 2022 \tRushing Yards: 2720\n",
      "Team: Buffalo Bills \tYear: 2012 \tRushing Yards: 2217\n",
      "Team: Buffalo Bills \tYear: 2013 \tRushing Yards: 2307\n",
      "Team: Buffalo Bills \tYear: 2014 \tRushing Yards: 1482\n",
      "Team: Buffalo Bills \tYear: 2015 \tRushing Yards: 2432\n",
      "Team: Buffalo Bills \tYear: 2016 \tRushing Yards: 2630\n",
      "Team: Buffalo Bills \tYear: 2017 \tRushing Yards: 2017\n",
      "Team: Buffalo Bills \tYear: 2018 \tRushing Yards: 2017\n",
      "Team: Buffalo Bills \tYear: 2019 \tRushing Yards: 2054\n",
      "Team: Buffalo Bills \tYear: 2020 \tRushing Yards: 1723\n",
      "Team: Buffalo Bills \tYear: 2021 \tRushing Yards: 2209\n",
      "Team: Buffalo Bills \tYear: 2022 \tRushing Yards: 2232\n",
      "Team: Carolina Panthers \tYear: 2012 \tRushing Yards: 2088\n",
      "Team: Carolina Panthers \tYear: 2013 \tRushing Yards: 2026\n",
      "Team: Carolina Panthers \tYear: 2014 \tRushing Yards: 2036\n",
      "Team: Carolina Panthers \tYear: 2015 \tRushing Yards: 2282\n",
      "Team: Carolina Panthers \tYear: 2016 \tRushing Yards: 1814\n",
      "Team: Carolina Panthers \tYear: 2017 \tRushing Yards: 2102\n",
      "Team: Carolina Panthers \tYear: 2018 \tRushing Yards: 2102\n",
      "Team: Carolina Panthers \tYear: 2019 \tRushing Yards: 1819\n",
      "Team: Carolina Panthers \tYear: 2020 \tRushing Yards: 1704\n",
      "Team: Carolina Panthers \tYear: 2021 \tRushing Yards: 1842\n",
      "Team: Carolina Panthers \tYear: 2022 \tRushing Yards: 2210\n",
      "Team: Chicago Bears \tYear: 2012 \tRushing Yards: 1970\n",
      "Team: Chicago Bears \tYear: 2013 \tRushing Yards: 1828\n",
      "Team: Chicago Bears \tYear: 2014 \tRushing Yards: 1441\n",
      "Team: Chicago Bears \tYear: 2015 \tRushing Yards: 1854\n",
      "Team: Chicago Bears \tYear: 2016 \tRushing Yards: 1735\n",
      "Team: Chicago Bears \tYear: 2017 \tRushing Yards: 1788\n",
      "Team: Chicago Bears \tYear: 2018 \tRushing Yards: 1788\n",
      "Team: Chicago Bears \tYear: 2019 \tRushing Yards: 1458\n",
      "Team: Chicago Bears \tYear: 2020 \tRushing Yards: 1647\n",
      "Team: Chicago Bears \tYear: 2021 \tRushing Yards: 2018\n",
      "Team: Chicago Bears \tYear: 2022 \tRushing Yards: 3014\n",
      "Team: Cincinnati Bengals \tYear: 2012 \tRushing Yards: 1745\n",
      "Team: Cincinnati Bengals \tYear: 2013 \tRushing Yards: 1755\n",
      "Team: Cincinnati Bengals \tYear: 2014 \tRushing Yards: 2147\n",
      "Team: Cincinnati Bengals \tYear: 2015 \tRushing Yards: 1805\n",
      "Team: Cincinnati Bengals \tYear: 2016 \tRushing Yards: 1769\n",
      "Team: Cincinnati Bengals \tYear: 2017 \tRushing Yards: 1366\n",
      "Team: Cincinnati Bengals \tYear: 2018 \tRushing Yards: 1366\n",
      "Team: Cincinnati Bengals \tYear: 2019 \tRushing Yards: 1517\n",
      "Team: Cincinnati Bengals \tYear: 2020 \tRushing Yards: 1668\n",
      "Team: Cincinnati Bengals \tYear: 2021 \tRushing Yards: 1742\n",
      "Team: Cincinnati Bengals \tYear: 2022 \tRushing Yards: 1528\n",
      "Team: Cleveland Browns \tYear: 2012 \tRushing Yards: 1593\n",
      "Team: Cleveland Browns \tYear: 2013 \tRushing Yards: 1383\n",
      "Team: Cleveland Browns \tYear: 2014 \tRushing Yards: 1728\n",
      "Team: Cleveland Browns \tYear: 2015 \tRushing Yards: 1529\n",
      "Team: Cleveland Browns \tYear: 2016 \tRushing Yards: 1712\n",
      "Team: Cleveland Browns \tYear: 2017 \tRushing Yards: 1714\n",
      "Team: Cleveland Browns \tYear: 2018 \tRushing Yards: 1714\n",
      "Team: Cleveland Browns \tYear: 2019 \tRushing Yards: 1901\n",
      "Team: Cleveland Browns \tYear: 2020 \tRushing Yards: 2374\n",
      "Team: Cleveland Browns \tYear: 2021 \tRushing Yards: 2471\n",
      "Team: Cleveland Browns \tYear: 2022 \tRushing Yards: 2490\n",
      "Team: Dallas Cowboys \tYear: 2012 \tRushing Yards: 1265\n",
      "Team: Dallas Cowboys \tYear: 2013 \tRushing Yards: 1504\n",
      "Team: Dallas Cowboys \tYear: 2014 \tRushing Yards: 2354\n",
      "Team: Dallas Cowboys \tYear: 2015 \tRushing Yards: 1890\n",
      "Team: Dallas Cowboys \tYear: 2016 \tRushing Yards: 2396\n",
      "Team: Dallas Cowboys \tYear: 2017 \tRushing Yards: 2170\n",
      "Team: Dallas Cowboys \tYear: 2018 \tRushing Yards: 2170\n",
      "Team: Dallas Cowboys \tYear: 2019 \tRushing Yards: 2153\n",
      "Team: Dallas Cowboys \tYear: 2020 \tRushing Yards: 1788\n",
      "Team: Dallas Cowboys \tYear: 2021 \tRushing Yards: 2119\n",
      "Team: Dallas Cowboys \tYear: 2022 \tRushing Yards: 2298\n",
      "Team: Denver Broncos \tYear: 2012 \tRushing Yards: 1832\n",
      "Team: Denver Broncos \tYear: 2013 \tRushing Yards: 1873\n",
      "Team: Denver Broncos \tYear: 2014 \tRushing Yards: 1785\n",
      "Team: Denver Broncos \tYear: 2015 \tRushing Yards: 1718\n",
      "Team: Denver Broncos \tYear: 2016 \tRushing Yards: 1484\n",
      "Team: Denver Broncos \tYear: 2017 \tRushing Yards: 1852\n",
      "Team: Denver Broncos \tYear: 2018 \tRushing Yards: 1852\n",
      "Team: Denver Broncos \tYear: 2019 \tRushing Yards: 1662\n",
      "Team: Denver Broncos \tYear: 2020 \tRushing Yards: 1918\n",
      "Team: Denver Broncos \tYear: 2021 \tRushing Yards: 2025\n",
      "Team: Denver Broncos \tYear: 2022 \tRushing Yards: 1935\n",
      "Team: Detroit Lions \tYear: 2012 \tRushing Yards: 1613\n",
      "Team: Detroit Lions \tYear: 2013 \tRushing Yards: 1792\n",
      "Team: Detroit Lions \tYear: 2014 \tRushing Yards: 1422\n",
      "Team: Detroit Lions \tYear: 2015 \tRushing Yards: 1335\n",
      "Team: Detroit Lions \tYear: 2016 \tRushing Yards: 1310\n",
      "Team: Detroit Lions \tYear: 2017 \tRushing Yards: 1221\n",
      "Team: Detroit Lions \tYear: 2018 \tRushing Yards: 1221\n",
      "Team: Detroit Lions \tYear: 2019 \tRushing Yards: 1649\n",
      "Team: Detroit Lions \tYear: 2020 \tRushing Yards: 1499\n",
      "Team: Detroit Lions \tYear: 2021 \tRushing Yards: 1886\n",
      "Team: Detroit Lions \tYear: 2022 \tRushing Yards: 2179\n",
      "Team: Green Bay Packers \tYear: 2012 \tRushing Yards: 1702\n",
      "Team: Green Bay Packers \tYear: 2013 \tRushing Yards: 2136\n",
      "Team: Green Bay Packers \tYear: 2014 \tRushing Yards: 1917\n",
      "Team: Green Bay Packers \tYear: 2015 \tRushing Yards: 1850\n",
      "Team: Green Bay Packers \tYear: 2016 \tRushing Yards: 1701\n",
      "Team: Green Bay Packers \tYear: 2017 \tRushing Yards: 1724\n",
      "Team: Green Bay Packers \tYear: 2018 \tRushing Yards: 1724\n",
      "Team: Green Bay Packers \tYear: 2019 \tRushing Yards: 1795\n",
      "Team: Green Bay Packers \tYear: 2020 \tRushing Yards: 2118\n",
      "Team: Green Bay Packers \tYear: 2021 \tRushing Yards: 1900\n",
      "Team: Green Bay Packers \tYear: 2022 \tRushing Yards: 2113\n",
      "Team: Houston Texans \tYear: 2012 \tRushing Yards: 2123\n",
      "Team: Houston Texans \tYear: 2013 \tRushing Yards: 1743\n",
      "Team: Houston Texans \tYear: 2014 \tRushing Yards: 2161\n",
      "Team: Houston Texans \tYear: 2015 \tRushing Yards: 1731\n",
      "Team: Houston Texans \tYear: 2016 \tRushing Yards: 1859\n",
      "Team: Houston Texans \tYear: 2017 \tRushing Yards: 1842\n",
      "Team: Houston Texans \tYear: 2018 \tRushing Yards: 1842\n",
      "Team: Houston Texans \tYear: 2019 \tRushing Yards: 2009\n",
      "Team: Houston Texans \tYear: 2020 \tRushing Yards: 1466\n",
      "Team: Houston Texans \tYear: 2021 \tRushing Yards: 1422\n",
      "Team: Houston Texans \tYear: 2022 \tRushing Yards: 1476\n",
      "Team: Indianapolis Colts \tYear: 2012 \tRushing Yards: 1671\n",
      "Team: Indianapolis Colts \tYear: 2013 \tRushing Yards: 1743\n",
      "Team: Indianapolis Colts \tYear: 2014 \tRushing Yards: 1612\n",
      "Team: Indianapolis Colts \tYear: 2015 \tRushing Yards: 1438\n",
      "Team: Indianapolis Colts \tYear: 2016 \tRushing Yards: 1628\n",
      "Team: Indianapolis Colts \tYear: 2017 \tRushing Yards: 1661\n",
      "Team: Indianapolis Colts \tYear: 2018 \tRushing Yards: 1661\n",
      "Team: Indianapolis Colts \tYear: 2019 \tRushing Yards: 2130\n",
      "Team: Indianapolis Colts \tYear: 2020 \tRushing Yards: 1996\n",
      "Team: Indianapolis Colts \tYear: 2021 \tRushing Yards: 2540\n",
      "Team: Indianapolis Colts \tYear: 2022 \tRushing Yards: 1866\n",
      "Team: Jacksonville Jaguars \tYear: 2012 \tRushing Yards: 1369\n",
      "Team: Jacksonville Jaguars \tYear: 2013 \tRushing Yards: 1260\n",
      "Team: Jacksonville Jaguars \tYear: 2014 \tRushing Yards: 1633\n",
      "Team: Jacksonville Jaguars \tYear: 2015 \tRushing Yards: 1473\n",
      "Team: Jacksonville Jaguars \tYear: 2016 \tRushing Yards: 1631\n",
      "Team: Jacksonville Jaguars \tYear: 2017 \tRushing Yards: 2262\n",
      "Team: Jacksonville Jaguars \tYear: 2018 \tRushing Yards: 2262\n",
      "Team: Jacksonville Jaguars \tYear: 2019 \tRushing Yards: 1708\n",
      "Team: Jacksonville Jaguars \tYear: 2020 \tRushing Yards: 1519\n",
      "Team: Jacksonville Jaguars \tYear: 2021 \tRushing Yards: 1755\n",
      "Team: Jacksonville Jaguars \tYear: 2022 \tRushing Yards: 2116\n",
      "Team: Kansas City Chiefs \tYear: 2012 \tRushing Yards: 2395\n",
      "Team: Kansas City Chiefs \tYear: 2013 \tRushing Yards: 2056\n",
      "Team: Kansas City Chiefs \tYear: 2014 \tRushing Yards: 1918\n",
      "Team: Kansas City Chiefs \tYear: 2015 \tRushing Yards: 2044\n",
      "Team: Kansas City Chiefs \tYear: 2016 \tRushing Yards: 1748\n",
      "Team: Kansas City Chiefs \tYear: 2017 \tRushing Yards: 1903\n",
      "Team: Kansas City Chiefs \tYear: 2018 \tRushing Yards: 1903\n",
      "Team: Kansas City Chiefs \tYear: 2019 \tRushing Yards: 1569\n",
      "Team: Kansas City Chiefs \tYear: 2020 \tRushing Yards: 1799\n",
      "Team: Kansas City Chiefs \tYear: 2021 \tRushing Yards: 1955\n",
      "Team: Kansas City Chiefs \tYear: 2022 \tRushing Yards: 1970\n",
      "Team: Las Vegas Raiders \tYear: 2012 \tRushing Yards: 1420\n",
      "Team: Las Vegas Raiders \tYear: 2013 \tRushing Yards: 2000\n",
      "Team: Las Vegas Raiders \tYear: 2014 \tRushing Yards: 1240\n",
      "Team: Las Vegas Raiders \tYear: 2015 \tRushing Yards: 1457\n",
      "Team: Las Vegas Raiders \tYear: 2016 \tRushing Yards: 1922\n",
      "Team: Las Vegas Raiders \tYear: 2017 \tRushing Yards: 1554\n",
      "Team: Las Vegas Raiders \tYear: 2018 \tRushing Yards: 1554\n",
      "Team: Las Vegas Raiders \tYear: 2019 \tRushing Yards: 1893\n",
      "Team: Las Vegas Raiders \tYear: 2020 \tRushing Yards: 1916\n",
      "Team: Las Vegas Raiders \tYear: 2021 \tRushing Yards: 1617\n",
      "Team: Las Vegas Raiders \tYear: 2022 \tRushing Yards: 2059\n",
      "Team: Los Angeles Chargers \tYear: 2012 \tRushing Yards: 1461\n",
      "Team: Los Angeles Chargers \tYear: 2013 \tRushing Yards: 1965\n",
      "Team: Los Angeles Chargers \tYear: 2014 \tRushing Yards: 1367\n",
      "Team: Los Angeles Chargers \tYear: 2015 \tRushing Yards: 1358\n",
      "Team: Los Angeles Chargers \tYear: 2016 \tRushing Yards: 1510\n",
      "Team: Los Angeles Chargers \tYear: 2017 \tRushing Yards: 1595\n",
      "Team: Los Angeles Chargers \tYear: 2018 \tRushing Yards: 1595\n",
      "Team: Los Angeles Chargers \tYear: 2019 \tRushing Yards: 1453\n",
      "Team: Los Angeles Chargers \tYear: 2020 \tRushing Yards: 1784\n",
      "Team: Los Angeles Chargers \tYear: 2021 \tRushing Yards: 1834\n",
      "Team: Los Angeles Chargers \tYear: 2022 \tRushing Yards: 1524\n",
      "Team: Los Angeles Rams \tYear: 2012 \tRushing Yards: 1714\n",
      "Team: Los Angeles Rams \tYear: 2013 \tRushing Yards: 1752\n",
      "Team: Los Angeles Rams \tYear: 2014 \tRushing Yards: 1635\n",
      "Team: Los Angeles Rams \tYear: 2015 \tRushing Yards: 1956\n",
      "Team: Los Angeles Rams \tYear: 2016 \tRushing Yards: 1252\n",
      "Team: Los Angeles Rams \tYear: 2017 \tRushing Yards: 1953\n",
      "Team: Los Angeles Rams \tYear: 2018 \tRushing Yards: 1953\n",
      "Team: Los Angeles Rams \tYear: 2019 \tRushing Yards: 1499\n",
      "Team: Los Angeles Rams \tYear: 2020 \tRushing Yards: 2018\n",
      "Team: Los Angeles Rams \tYear: 2021 \tRushing Yards: 1683\n",
      "Team: Los Angeles Rams \tYear: 2022 \tRushing Yards: 1661\n",
      "Team: Miami Dolphins \tYear: 2012 \tRushing Yards: 1802\n",
      "Team: Miami Dolphins \tYear: 2013 \tRushing Yards: 1440\n",
      "Team: Miami Dolphins \tYear: 2014 \tRushing Yards: 1872\n",
      "Team: Miami Dolphins \tYear: 2015 \tRushing Yards: 1496\n",
      "Team: Miami Dolphins \tYear: 2016 \tRushing Yards: 1824\n",
      "Team: Miami Dolphins \tYear: 2017 \tRushing Yards: 1388\n",
      "Team: Miami Dolphins \tYear: 2018 \tRushing Yards: 1388\n",
      "Team: Miami Dolphins \tYear: 2019 \tRushing Yards: 1156\n",
      "Team: Miami Dolphins \tYear: 2020 \tRushing Yards: 1688\n",
      "Team: Miami Dolphins \tYear: 2021 \tRushing Yards: 1568\n",
      "Team: Miami Dolphins \tYear: 2022 \tRushing Yards: 1686\n",
      "Team: Minnesota Vikings \tYear: 2012 \tRushing Yards: 2634\n",
      "Team: Minnesota Vikings \tYear: 2013 \tRushing Yards: 2081\n",
      "Team: Minnesota Vikings \tYear: 2014 \tRushing Yards: 1804\n",
      "Team: Minnesota Vikings \tYear: 2015 \tRushing Yards: 2211\n",
      "Team: Minnesota Vikings \tYear: 2016 \tRushing Yards: 1205\n",
      "Team: Minnesota Vikings \tYear: 2017 \tRushing Yards: 1957\n",
      "Team: Minnesota Vikings \tYear: 2018 \tRushing Yards: 1957\n",
      "Team: Minnesota Vikings \tYear: 2019 \tRushing Yards: 2133\n",
      "Team: Minnesota Vikings \tYear: 2020 \tRushing Yards: 2283\n",
      "Team: Minnesota Vikings \tYear: 2021 \tRushing Yards: 1930\n",
      "Team: Minnesota Vikings \tYear: 2022 \tRushing Yards: 1661\n",
      "Team: New England Patriots \tYear: 2012 \tRushing Yards: 2184\n",
      "Team: New England Patriots \tYear: 2013 \tRushing Yards: 2065\n",
      "Team: New England Patriots \tYear: 2014 \tRushing Yards: 1727\n",
      "Team: New England Patriots \tYear: 2015 \tRushing Yards: 1404\n",
      "Team: New England Patriots \tYear: 2016 \tRushing Yards: 1872\n",
      "Team: New England Patriots \tYear: 2017 \tRushing Yards: 1889\n",
      "Team: New England Patriots \tYear: 2018 \tRushing Yards: 1889\n",
      "Team: New England Patriots \tYear: 2019 \tRushing Yards: 1703\n",
      "Team: New England Patriots \tYear: 2020 \tRushing Yards: 2346\n",
      "Team: New England Patriots \tYear: 2021 \tRushing Yards: 2151\n",
      "Team: New England Patriots \tYear: 2022 \tRushing Yards: 1812\n",
      "Team: New Orleans Saints \tYear: 2012 \tRushing Yards: 1577\n",
      "Team: New Orleans Saints \tYear: 2013 \tRushing Yards: 1473\n",
      "Team: New Orleans Saints \tYear: 2014 \tRushing Yards: 1818\n",
      "Team: New Orleans Saints \tYear: 2015 \tRushing Yards: 1491\n",
      "Team: New Orleans Saints \tYear: 2016 \tRushing Yards: 1742\n",
      "Team: New Orleans Saints \tYear: 2017 \tRushing Yards: 2070\n",
      "Team: New Orleans Saints \tYear: 2019 \tRushing Yards: 1738\n",
      "Team: New Orleans Saints \tYear: 2020 \tRushing Yards: 2265\n",
      "Team: New Orleans Saints \tYear: 2021 \tRushing Yards: 1991\n",
      "Team: New Orleans Saints \tYear: 2022 \tRushing Yards: 1982\n",
      "Team: New York Giants \tYear: 2012 \tRushing Yards: 1862\n",
      "Team: New York Giants \tYear: 2013 \tRushing Yards: 1332\n",
      "Team: New York Giants \tYear: 2014 \tRushing Yards: 1603\n",
      "Team: New York Giants \tYear: 2015 \tRushing Yards: 1609\n",
      "Team: New York Giants \tYear: 2016 \tRushing Yards: 1412\n",
      "Team: New York Giants \tYear: 2017 \tRushing Yards: 1549\n",
      "Team: New York Giants \tYear: 2018 \tRushing Yards: 1549\n",
      "Team: New York Giants \tYear: 2019 \tRushing Yards: 1685\n",
      "Team: New York Giants \tYear: 2020 \tRushing Yards: 1768\n",
      "Team: New York Giants \tYear: 2021 \tRushing Yards: 1688\n",
      "Team: New York Giants \tYear: 2022 \tRushing Yards: 2519\n",
      "Team: New York Jets \tYear: 2012 \tRushing Yards: 1896\n",
      "Team: New York Jets \tYear: 2013 \tRushing Yards: 2158\n",
      "Team: New York Jets \tYear: 2014 \tRushing Yards: 2280\n",
      "Team: New York Jets \tYear: 2015 \tRushing Yards: 1868\n",
      "Team: New York Jets \tYear: 2016 \tRushing Yards: 1802\n",
      "Team: New York Jets \tYear: 2017 \tRushing Yards: 1702\n",
      "Team: New York Jets \tYear: 2018 \tRushing Yards: 1702\n",
      "Team: New York Jets \tYear: 2019 \tRushing Yards: 1257\n",
      "Team: New York Jets \tYear: 2020 \tRushing Yards: 1683\n",
      "Team: New York Jets \tYear: 2021 \tRushing Yards: 1667\n",
      "Team: New York Jets \tYear: 2022 \tRushing Yards: 1686\n",
      "Team: Philadelphia Eagles \tYear: 2012 \tRushing Yards: 1874\n",
      "Team: Philadelphia Eagles \tYear: 2013 \tRushing Yards: 2566\n",
      "Team: Philadelphia Eagles \tYear: 2014 \tRushing Yards: 1992\n",
      "Team: Philadelphia Eagles \tYear: 2015 \tRushing Yards: 1743\n",
      "Team: Philadelphia Eagles \tYear: 2016 \tRushing Yards: 1813\n",
      "Team: Philadelphia Eagles \tYear: 2017 \tRushing Yards: 2115\n",
      "Team: Philadelphia Eagles \tYear: 2018 \tRushing Yards: 2115\n",
      "Team: Philadelphia Eagles \tYear: 2019 \tRushing Yards: 1939\n",
      "Team: Philadelphia Eagles \tYear: 2020 \tRushing Yards: 2027\n",
      "Team: Philadelphia Eagles \tYear: 2021 \tRushing Yards: 2715\n",
      "Team: Philadelphia Eagles \tYear: 2022 \tRushing Yards: 2509\n",
      "Team: Pittsburgh Steelers \tYear: 2012 \tRushing Yards: 1537\n",
      "Team: Pittsburgh Steelers \tYear: 2013 \tRushing Yards: 1383\n",
      "Team: Pittsburgh Steelers \tYear: 2014 \tRushing Yards: 1752\n",
      "Team: Pittsburgh Steelers \tYear: 2015 \tRushing Yards: 1724\n",
      "Team: Pittsburgh Steelers \tYear: 2016 \tRushing Yards: 1760\n",
      "Team: Pittsburgh Steelers \tYear: 2017 \tRushing Yards: 1667\n",
      "Team: Pittsburgh Steelers \tYear: 2018 \tRushing Yards: 1667\n",
      "Team: Pittsburgh Steelers \tYear: 2019 \tRushing Yards: 1447\n",
      "Team: Pittsburgh Steelers \tYear: 2020 \tRushing Yards: 1351\n",
      "Team: Pittsburgh Steelers \tYear: 2021 \tRushing Yards: 1583\n",
      "Team: Pittsburgh Steelers \tYear: 2022 \tRushing Yards: 2073\n",
      "Team: San Francisco 49ers \tYear: 2012 \tRushing Yards: 2491\n",
      "Team: San Francisco 49ers \tYear: 2013 \tRushing Yards: 2201\n",
      "Team: San Francisco 49ers \tYear: 2014 \tRushing Yards: 2176\n",
      "Team: San Francisco 49ers \tYear: 2015 \tRushing Yards: 1544\n",
      "Team: San Francisco 49ers \tYear: 2016 \tRushing Yards: 2019\n",
      "Team: San Francisco 49ers \tYear: 2017 \tRushing Yards: 1662\n",
      "Team: San Francisco 49ers \tYear: 2018 \tRushing Yards: 1662\n",
      "Team: San Francisco 49ers \tYear: 2019 \tRushing Yards: 2305\n",
      "Team: San Francisco 49ers \tYear: 2020 \tRushing Yards: 1889\n",
      "Team: San Francisco 49ers \tYear: 2021 \tRushing Yards: 2166\n",
      "Team: San Francisco 49ers \tYear: 2022 \tRushing Yards: 2360\n",
      "Team: Seattle Seahawks \tYear: 2012 \tRushing Yards: 2579\n",
      "Team: Seattle Seahawks \tYear: 2013 \tRushing Yards: 2188\n",
      "Team: Seattle Seahawks \tYear: 2014 \tRushing Yards: 2762\n",
      "Team: Seattle Seahawks \tYear: 2015 \tRushing Yards: 2268\n",
      "Team: Seattle Seahawks \tYear: 2016 \tRushing Yards: 1591\n",
      "Team: Seattle Seahawks \tYear: 2017 \tRushing Yards: 1629\n",
      "Team: Seattle Seahawks \tYear: 2018 \tRushing Yards: 1629\n",
      "Team: Seattle Seahawks \tYear: 2019 \tRushing Yards: 2200\n",
      "Team: Seattle Seahawks \tYear: 2020 \tRushing Yards: 1971\n",
      "Team: Seattle Seahawks \tYear: 2021 \tRushing Yards: 2074\n",
      "Team: Seattle Seahawks \tYear: 2022 \tRushing Yards: 2042\n",
      "Team: Tampa Bay Buccaneers \tYear: 2012 \tRushing Yards: 1837\n",
      "Team: Tampa Bay Buccaneers \tYear: 2013 \tRushing Yards: 1612\n",
      "Team: Tampa Bay Buccaneers \tYear: 2014 \tRushing Yards: 1375\n",
      "Team: Tampa Bay Buccaneers \tYear: 2015 \tRushing Yards: 2162\n",
      "Team: Tampa Bay Buccaneers \tYear: 2016 \tRushing Yards: 1616\n",
      "Team: Tampa Bay Buccaneers \tYear: 2017 \tRushing Yards: 1450\n",
      "Team: Tampa Bay Buccaneers \tYear: 2018 \tRushing Yards: 1450\n",
      "Team: Tampa Bay Buccaneers \tYear: 2019 \tRushing Yards: 1521\n",
      "Team: Tampa Bay Buccaneers \tYear: 2020 \tRushing Yards: 1519\n",
      "Team: Tampa Bay Buccaneers \tYear: 2021 \tRushing Yards: 1672\n",
      "Team: Tampa Bay Buccaneers \tYear: 2022 \tRushing Yards: 1308\n",
      "Team: Tennessee Titans \tYear: 2012 \tRushing Yards: 1687\n",
      "Team: Tennessee Titans \tYear: 2013 \tRushing Yards: 1894\n",
      "Team: Tennessee Titans \tYear: 2014 \tRushing Yards: 1447\n",
      "Team: Tennessee Titans \tYear: 2015 \tRushing Yards: 1485\n",
      "Team: Tennessee Titans \tYear: 2016 \tRushing Yards: 2187\n",
      "Team: Tennessee Titans \tYear: 2017 \tRushing Yards: 1833\n",
      "Team: Tennessee Titans \tYear: 2018 \tRushing Yards: 1833\n",
      "Team: Tennessee Titans \tYear: 2019 \tRushing Yards: 2223\n",
      "Team: Tennessee Titans \tYear: 2020 \tRushing Yards: 2690\n",
      "Team: Tennessee Titans \tYear: 2021 \tRushing Yards: 2404\n",
      "Team: Tennessee Titans \tYear: 2022 \tRushing Yards: 2131\n",
      "Team: Washington Commanders \tYear: 2012 \tRushing Yards: 2709\n",
      "Team: Washington Commanders \tYear: 2013 \tRushing Yards: 2164\n",
      "Team: Washington Commanders \tYear: 2014 \tRushing Yards: 1691\n",
      "Team: Washington Commanders \tYear: 2015 \tRushing Yards: 1566\n",
      "Team: Washington Commanders \tYear: 2016 \tRushing Yards: 1696\n"
     ]
    },
    {
     "name": "stdout",
     "output_type": "stream",
     "text": [
      "Team: Washington Commanders \tYear: 2017 \tRushing Yards: 1448\n",
      "Team: Washington Commanders \tYear: 2018 \tRushing Yards: 1448\n",
      "Team: Washington Commanders \tYear: 2019 \tRushing Yards: 1583\n",
      "Team: Washington Commanders \tYear: 2020 \tRushing Yards: 1611\n",
      "Team: Washington Commanders \tYear: 2021 \tRushing Yards: 2061\n",
      "Team: Washington Commanders \tYear: 2022 \tRushing Yards: 2143\n"
     ]
    }
   ],
   "source": [
    "team_names = nflrush['Team'].unique()\n",
    "\n",
    "# Iterate over each team\n",
    "for team_name in team_names:\n",
    "    team_data = nflrush[nflrush['Team'] == team_name]\n",
    "    \n",
    "    # Display the total offense rushing yards for each year\n",
    "    for year in team_data['Year'].unique():\n",
    "        team_off_rush_yards = team_data.loc[team_data['Year'] == year, 'Off RushYds'].values[0]\n",
    "        print(\"Team:\", team_name, \"\\tYear:\", year, \"\\tRushing Yards:\", team_off_rush_yards)"
   ]
  },
  {
   "cell_type": "markdown",
   "id": "370f6e26",
   "metadata": {},
   "source": [
    "#### Calculate Descriptive Statistics on Rushing Yards for all Teams. These statistics are the Offense Rushing Yards and their mean, median, standard deviation, variance, min, max, range, and sum."
   ]
  },
  {
   "cell_type": "markdown",
   "id": "08fe5a4e",
   "metadata": {},
   "source": [
    "### Arizona Cardinals"
   ]
  },
  {
   "cell_type": "code",
   "execution_count": 10,
   "id": "ac23253e",
   "metadata": {},
   "outputs": [
    {
     "name": "stdout",
     "output_type": "stream",
     "text": [
      "Arizona Cardinals Offense Rushing Yards Mean: 1695.3636363636363\n",
      "Arizona Cardinals Offense Rushing Yards Median: 1732.0\n",
      "Arizona Cardinals Offense Rushing Yards Standard Deviation: 348.4426129873534\n",
      "Arizona Cardinals Offense Rushing Yards Variance: 121412.25454545455\n",
      "Arizona Cardinals Offense Rushing Yards Minimum: 1204\n",
      "Arizona Cardinals Offense Rushing Yards Maximum: 2237\n",
      "Arizona Cardinals Offense Rushing Yards Range: 1033\n",
      "Arizona Cardinals Total Rushing Yards 2012-2022: 18649\n"
     ]
    }
   ],
   "source": [
    "team_name1 = 'Arizona Cardinals'\n",
    "cardinals_data = nflrush[nflrush['Team'] == team_name1]\n",
    "mean_value = cardinals_data['Off RushYds'].mean()\n",
    "median_value = cardinals_data['Off RushYds'].median()\n",
    "std_value = cardinals_data['Off RushYds'].std()\n",
    "var_value = cardinals_data['Off RushYds'].var()\n",
    "min_value = cardinals_data['Off RushYds'].min()\n",
    "max_value = cardinals_data['Off RushYds'].max()\n",
    "data_range = max_value - min_value\n",
    "total_points = cardinals_data['Off RushYds'].sum()\n",
    "print(\"Arizona Cardinals Offense Rushing Yards Mean:\", mean_value)\n",
    "print(\"Arizona Cardinals Offense Rushing Yards Median:\", median_value)\n",
    "print(\"Arizona Cardinals Offense Rushing Yards Standard Deviation:\", std_value)\n",
    "print(\"Arizona Cardinals Offense Rushing Yards Variance:\", var_value)\n",
    "print(\"Arizona Cardinals Offense Rushing Yards Minimum:\", min_value)\n",
    "print(\"Arizona Cardinals Offense Rushing Yards Maximum:\", max_value)\n",
    "print(\"Arizona Cardinals Offense Rushing Yards Range:\", data_range)\n",
    "print(\"Arizona Cardinals Total Rushing Yards 2012-2022:\", total_points)"
   ]
  },
  {
   "cell_type": "markdown",
   "id": "ac14706a",
   "metadata": {},
   "source": [
    "### Atlanta Falcons"
   ]
  },
  {
   "cell_type": "code",
   "execution_count": 11,
   "id": "5f4b8f2d",
   "metadata": {},
   "outputs": [
    {
     "name": "stdout",
     "output_type": "stream",
     "text": [
      "Atlanta Falcons Offense Rushing Yards Mean: 1675.6363636363637\n",
      "Atlanta Falcons Offense Rushing Yards Median: 1532.0\n",
      "Atlanta Falcons Offense Rushing Yards Standard Deviation: 409.487551148328\n",
      "Atlanta Falcons Offense Rushing Yards Variance: 167680.05454545454\n",
      "Atlanta Falcons Offense Rushing Yards Minimum: 1247\n",
      "Atlanta Falcons Offense Rushing Yards Maximum: 2718\n",
      "Atlanta Falcons Offense Rushing Yards Range: 1471\n",
      "Atlanta Falcons Total Rushing Yards 2012-2022: 18432\n"
     ]
    }
   ],
   "source": [
    "team_name2 = 'Atlanta Falcons'\n",
    "falcons_data = nflrush[nflrush['Team'] == team_name2]\n",
    "mean_value = falcons_data['Off RushYds'].mean()\n",
    "median_value = falcons_data['Off RushYds'].median()\n",
    "std_value = falcons_data['Off RushYds'].std()\n",
    "var_value = falcons_data['Off RushYds'].var()\n",
    "min_value = falcons_data['Off RushYds'].min()\n",
    "max_value = falcons_data['Off RushYds'].max()\n",
    "data_range = max_value - min_value\n",
    "total_points = falcons_data['Off RushYds'].sum()\n",
    "print(\"Atlanta Falcons Offense Rushing Yards Mean:\", mean_value)\n",
    "print(\"Atlanta Falcons Offense Rushing Yards Median:\", median_value)\n",
    "print(\"Atlanta Falcons Offense Rushing Yards Standard Deviation:\", std_value)\n",
    "print(\"Atlanta Falcons Offense Rushing Yards Variance:\", var_value)\n",
    "print(\"Atlanta Falcons Offense Rushing Yards Minimum:\", min_value)\n",
    "print(\"Atlanta Falcons Offense Rushing Yards Maximum:\", max_value)\n",
    "print(\"Atlanta Falcons Offense Rushing Yards Range:\", data_range)\n",
    "print(\"Atlanta Falcons Total Rushing Yards 2012-2022:\", total_points)"
   ]
  },
  {
   "cell_type": "markdown",
   "id": "8f39bd29",
   "metadata": {},
   "source": [
    "### Baltimore Ravens"
   ]
  },
  {
   "cell_type": "code",
   "execution_count": 12,
   "id": "c445a2e7",
   "metadata": {},
   "outputs": [
    {
     "name": "stdout",
     "output_type": "stream",
     "text": [
      "Baltimore Ravens Offense Rushing Yards Mean: 2133.3636363636365\n",
      "Baltimore Ravens Offense Rushing Yards Median: 1901.0\n",
      "Baltimore Ravens Offense Rushing Yards Standard Deviation: 666.5526644950528\n",
      "Baltimore Ravens Offense Rushing Yards Variance: 444292.4545454545\n",
      "Baltimore Ravens Offense Rushing Yards Minimum: 1328\n",
      "Baltimore Ravens Offense Rushing Yards Maximum: 3296\n",
      "Baltimore Ravens Offense Rushing Yards Range: 1968\n",
      "Baltimore Ravens Total Rushing Yards 2012-2022: 23467\n"
     ]
    }
   ],
   "source": [
    "team_name3 = 'Baltimore Ravens'\n",
    "ravens_data = nflrush[nflrush['Team'] == team_name3]\n",
    "mean_value = ravens_data['Off RushYds'].mean()\n",
    "median_value = ravens_data['Off RushYds'].median()\n",
    "std_value = ravens_data['Off RushYds'].std()\n",
    "var_value = ravens_data['Off RushYds'].var()\n",
    "min_value = ravens_data['Off RushYds'].min()\n",
    "max_value = ravens_data['Off RushYds'].max()\n",
    "data_range = max_value - min_value\n",
    "total_points = ravens_data['Off RushYds'].sum()\n",
    "print(\"Baltimore Ravens Offense Rushing Yards Mean:\", mean_value)\n",
    "print(\"Baltimore Ravens Offense Rushing Yards Median:\", median_value)\n",
    "print(\"Baltimore Ravens Offense Rushing Yards Standard Deviation:\", std_value)\n",
    "print(\"Baltimore Ravens Offense Rushing Yards Variance:\", var_value)\n",
    "print(\"Baltimore Ravens Offense Rushing Yards Minimum:\", min_value)\n",
    "print(\"Baltimore Ravens Offense Rushing Yards Maximum:\", max_value)\n",
    "print(\"Baltimore Ravens Offense Rushing Yards Range:\", data_range)\n",
    "print(\"Baltimore Ravens Total Rushing Yards 2012-2022:\", total_points)"
   ]
  },
  {
   "cell_type": "markdown",
   "id": "5cbc583e",
   "metadata": {},
   "source": [
    "### Buffalo Bills"
   ]
  },
  {
   "cell_type": "code",
   "execution_count": 13,
   "id": "8e6e9023",
   "metadata": {},
   "outputs": [
    {
     "name": "stdout",
     "output_type": "stream",
     "text": [
      "Buffalo Bills Offense Rushing Yards Mean: 2120.0\n",
      "Buffalo Bills Offense Rushing Yards Median: 2209.0\n",
      "Buffalo Bills Offense Rushing Yards Standard Deviation: 318.2002514141056\n",
      "Buffalo Bills Offense Rushing Yards Variance: 101251.4\n",
      "Buffalo Bills Offense Rushing Yards Minimum: 1482\n",
      "Buffalo Bills Offense Rushing Yards Maximum: 2630\n",
      "Buffalo Bills Offense Rushing Yards Range: 1148\n",
      "Buffalo Bills Total Rushing Yards 2012-2022: 23320\n"
     ]
    }
   ],
   "source": [
    "team_name4 = 'Buffalo Bills'\n",
    "bills_data = nflrush[nflrush['Team'] == team_name4]\n",
    "mean_value = bills_data['Off RushYds'].mean()\n",
    "median_value = bills_data['Off RushYds'].median()\n",
    "std_value = bills_data['Off RushYds'].std()\n",
    "var_value = bills_data['Off RushYds'].var()\n",
    "min_value = bills_data['Off RushYds'].min()\n",
    "max_value = bills_data['Off RushYds'].max()\n",
    "data_range = max_value - min_value\n",
    "total_points = bills_data['Off RushYds'].sum()\n",
    "print(\"Buffalo Bills Offense Rushing Yards Mean:\", mean_value)\n",
    "print(\"Buffalo Bills Offense Rushing Yards Median:\", median_value)\n",
    "print(\"Buffalo Bills Offense Rushing Yards Standard Deviation:\", std_value)\n",
    "print(\"Buffalo Bills Offense Rushing Yards Variance:\", var_value)\n",
    "print(\"Buffalo Bills Offense Rushing Yards Minimum:\", min_value)\n",
    "print(\"Buffalo Bills Offense Rushing Yards Maximum:\", max_value)\n",
    "print(\"Buffalo Bills Offense Rushing Yards Range:\", data_range)\n",
    "print(\"Buffalo Bills Total Rushing Yards 2012-2022:\", total_points)"
   ]
  },
  {
   "cell_type": "markdown",
   "id": "9b9612d2",
   "metadata": {},
   "source": [
    "### Carolina Panthers"
   ]
  },
  {
   "cell_type": "code",
   "execution_count": 14,
   "id": "b670bec9",
   "metadata": {},
   "outputs": [
    {
     "name": "stdout",
     "output_type": "stream",
     "text": [
      "Carolina Panthers Offense Rushing Yards Mean: 2002.2727272727273\n",
      "Carolina Panthers Offense Rushing Yards Median: 2036.0\n",
      "Carolina Panthers Offense Rushing Yards Standard Deviation: 182.76437886475082\n",
      "Carolina Panthers Offense Rushing Yards Variance: 33402.81818181818\n",
      "Carolina Panthers Offense Rushing Yards Minimum: 1704\n",
      "Carolina Panthers Offense Rushing Yards Maximum: 2282\n",
      "Carolina Panthers Offense Rushing Yards Range: 578\n",
      "Carolina Panthers Total Rushing Yards 2012-2022: 22025\n"
     ]
    }
   ],
   "source": [
    "team_name5 = 'Carolina Panthers'\n",
    "panthers_data = nflrush[nflrush['Team'] == team_name5]\n",
    "mean_value = panthers_data['Off RushYds'].mean()\n",
    "median_value = panthers_data['Off RushYds'].median()\n",
    "std_value = panthers_data['Off RushYds'].std()\n",
    "var_value = panthers_data['Off RushYds'].var()\n",
    "min_value = panthers_data['Off RushYds'].min()\n",
    "max_value = panthers_data['Off RushYds'].max()\n",
    "data_range = max_value - min_value\n",
    "total_points = panthers_data['Off RushYds'].sum()\n",
    "print(\"Carolina Panthers Offense Rushing Yards Mean:\", mean_value)\n",
    "print(\"Carolina Panthers Offense Rushing Yards Median:\", median_value)\n",
    "print(\"Carolina Panthers Offense Rushing Yards Standard Deviation:\", std_value)\n",
    "print(\"Carolina Panthers Offense Rushing Yards Variance:\", var_value)\n",
    "print(\"Carolina Panthers Offense Rushing Yards Minimum:\", min_value)\n",
    "print(\"Carolina Panthers Offense Rushing Yards Maximum:\", max_value)\n",
    "print(\"Carolina Panthers Offense Rushing Yards Range:\", data_range)\n",
    "print(\"Carolina Panthers Total Rushing Yards 2012-2022:\", total_points)"
   ]
  },
  {
   "cell_type": "markdown",
   "id": "f011e3c0",
   "metadata": {},
   "source": [
    "### Chicago Bears"
   ]
  },
  {
   "cell_type": "code",
   "execution_count": 16,
   "id": "57ea7bb7",
   "metadata": {},
   "outputs": [
    {
     "name": "stdout",
     "output_type": "stream",
     "text": [
      "Chicago Bears Offense Rushing Yards Mean: 1867.3636363636363\n",
      "Chicago Bears Offense Rushing Yards Median: 1788.0\n",
      "Chicago Bears Offense Rushing Yards Standard Deviation: 421.63616370687953\n",
      "Chicago Bears Offense Rushing Yards Variance: 177777.05454545454\n",
      "Chicago Bears Offense Rushing Yards Minimum: 1441\n",
      "Chicago Bears Offense Rushing Yards Maximum: 3014\n",
      "Chicago Bears Offense Rushing Yards Range: 1573\n",
      "Chicago Bears Total Rushing Yards 2012-2022: 20541\n"
     ]
    }
   ],
   "source": [
    "team_name6 = 'Chicago Bears'\n",
    "bears_data = nflrush[nflrush['Team'] == team_name6]\n",
    "mean_value = bears_data['Off RushYds'].mean()\n",
    "median_value = bears_data['Off RushYds'].median()\n",
    "std_value = bears_data['Off RushYds'].std()\n",
    "var_value = bears_data['Off RushYds'].var()\n",
    "min_value = bears_data['Off RushYds'].min()\n",
    "max_value = bears_data['Off RushYds'].max()\n",
    "data_range = max_value - min_value\n",
    "total_points = bears_data['Off RushYds'].sum()\n",
    "print(\"Chicago Bears Offense Rushing Yards Mean:\", mean_value)\n",
    "print(\"Chicago Bears Offense Rushing Yards Median:\", median_value)\n",
    "print(\"Chicago Bears Offense Rushing Yards Standard Deviation:\", std_value)\n",
    "print(\"Chicago Bears Offense Rushing Yards Variance:\", var_value)\n",
    "print(\"Chicago Bears Offense Rushing Yards Minimum:\", min_value)\n",
    "print(\"Chicago Bears Offense Rushing Yards Maximum:\", max_value)\n",
    "print(\"Chicago Bears Offense Rushing Yards Range:\", data_range)\n",
    "print(\"Chicago Bears Total Rushing Yards 2012-2022:\", total_points)"
   ]
  },
  {
   "cell_type": "markdown",
   "id": "a9a4c865",
   "metadata": {},
   "source": [
    "### Cincinnati Bengals"
   ]
  },
  {
   "cell_type": "code",
   "execution_count": 17,
   "id": "3be6276c",
   "metadata": {},
   "outputs": [
    {
     "name": "stdout",
     "output_type": "stream",
     "text": [
      "Cincinnati Bengals Offense Rushing Yards Mean: 1673.4545454545455\n",
      "Cincinnati Bengals Offense Rushing Yards Median: 1742.0\n",
      "Cincinnati Bengals Offense Rushing Yards Standard Deviation: 224.02382178525733\n",
      "Cincinnati Bengals Offense Rushing Yards Variance: 50186.67272727273\n",
      "Cincinnati Bengals Offense Rushing Yards Minimum: 1366\n",
      "Cincinnati Bengals Offense Rushing Yards Maximum: 2147\n",
      "Cincinnati Bengals Offense Rushing Yards Range: 781\n",
      "Cincinnati Bengals Total Rushing Yards 2012-2022: 18408\n"
     ]
    }
   ],
   "source": [
    "team_name7 = 'Cincinnati Bengals'\n",
    "bengals_data = nflrush[nflrush['Team'] == team_name7]\n",
    "mean_value = bengals_data['Off RushYds'].mean()\n",
    "median_value = bengals_data['Off RushYds'].median()\n",
    "std_value = bengals_data['Off RushYds'].std()\n",
    "var_value = bengals_data['Off RushYds'].var()\n",
    "min_value = bengals_data['Off RushYds'].min()\n",
    "max_value = bengals_data['Off RushYds'].max()\n",
    "data_range = max_value - min_value\n",
    "total_points = bengals_data['Off RushYds'].sum()\n",
    "print(\"Cincinnati Bengals Offense Rushing Yards Mean:\", mean_value)\n",
    "print(\"Cincinnati Bengals Offense Rushing Yards Median:\", median_value)\n",
    "print(\"Cincinnati Bengals Offense Rushing Yards Standard Deviation:\", std_value)\n",
    "print(\"Cincinnati Bengals Offense Rushing Yards Variance:\", var_value)\n",
    "print(\"Cincinnati Bengals Offense Rushing Yards Minimum:\", min_value)\n",
    "print(\"Cincinnati Bengals Offense Rushing Yards Maximum:\", max_value)\n",
    "print(\"Cincinnati Bengals Offense Rushing Yards Range:\", data_range)\n",
    "print(\"Cincinnati Bengals Total Rushing Yards 2012-2022:\", total_points)"
   ]
  },
  {
   "cell_type": "markdown",
   "id": "962e8a66",
   "metadata": {},
   "source": [
    "### Cleveland Browns"
   ]
  },
  {
   "cell_type": "code",
   "execution_count": 18,
   "id": "bb5e5147",
   "metadata": {},
   "outputs": [
    {
     "name": "stdout",
     "output_type": "stream",
     "text": [
      "Cleveland Browns Offense Rushing Yards Mean: 1873.5454545454545\n",
      "Cleveland Browns Offense Rushing Yards Median: 1714.0\n",
      "Cleveland Browns Offense Rushing Yards Standard Deviation: 390.43805235564923\n",
      "Cleveland Browns Offense Rushing Yards Variance: 152441.8727272727\n",
      "Cleveland Browns Offense Rushing Yards Minimum: 1383\n",
      "Cleveland Browns Offense Rushing Yards Maximum: 2490\n",
      "Cleveland Browns Offense Rushing Yards Range: 1107\n",
      "Cleveland Browns Total Rushing Yards 2012-2022: 20609\n"
     ]
    }
   ],
   "source": [
    "team_name8 = 'Cleveland Browns'\n",
    "browns_data = nflrush[nflrush['Team'] == team_name8]\n",
    "mean_value = browns_data['Off RushYds'].mean()\n",
    "median_value = browns_data['Off RushYds'].median()\n",
    "std_value = browns_data['Off RushYds'].std()\n",
    "var_value = browns_data['Off RushYds'].var()\n",
    "min_value = browns_data['Off RushYds'].min()\n",
    "max_value = browns_data['Off RushYds'].max()\n",
    "data_range = max_value - min_value\n",
    "total_points = browns_data['Off RushYds'].sum()\n",
    "print(\"Cleveland Browns Offense Rushing Yards Mean:\", mean_value)\n",
    "print(\"Cleveland Browns Offense Rushing Yards Median:\", median_value)\n",
    "print(\"Cleveland Browns Offense Rushing Yards Standard Deviation:\", std_value)\n",
    "print(\"Cleveland Browns Offense Rushing Yards Variance:\", var_value)\n",
    "print(\"Cleveland Browns Offense Rushing Yards Minimum:\", min_value)\n",
    "print(\"Cleveland Browns Offense Rushing Yards Maximum:\", max_value)\n",
    "print(\"Cleveland Browns Offense Rushing Yards Range:\", data_range)\n",
    "print(\"Cleveland Browns Total Rushing Yards 2012-2022:\", total_points)"
   ]
  },
  {
   "cell_type": "markdown",
   "id": "dc4980bc",
   "metadata": {},
   "source": [
    "### Dallas Cowboys"
   ]
  },
  {
   "cell_type": "code",
   "execution_count": 19,
   "id": "6546cdd0",
   "metadata": {},
   "outputs": [
    {
     "name": "stdout",
     "output_type": "stream",
     "text": [
      "Dallas Cowboys Offense Rushing Yards Mean: 2009.7272727272727\n",
      "Dallas Cowboys Offense Rushing Yards Median: 2153.0\n",
      "Dallas Cowboys Offense Rushing Yards Standard Deviation: 361.7388812138089\n",
      "Dallas Cowboys Offense Rushing Yards Variance: 130855.01818181814\n",
      "Dallas Cowboys Offense Rushing Yards Minimum: 1265\n",
      "Dallas Cowboys Offense Rushing Yards Maximum: 2396\n",
      "Dallas Cowboys Offense Rushing Yards Range: 1131\n",
      "Dallas Cowboys Total Rushing Yards 2012-2022: 22107\n"
     ]
    }
   ],
   "source": [
    "team_name9 = 'Dallas Cowboys'\n",
    "cowboys_data = nflrush[nflrush['Team'] == team_name9]\n",
    "mean_value = cowboys_data['Off RushYds'].mean()\n",
    "median_value = cowboys_data['Off RushYds'].median()\n",
    "std_value = cowboys_data['Off RushYds'].std()\n",
    "var_value = cowboys_data['Off RushYds'].var()\n",
    "min_value = cowboys_data['Off RushYds'].min()\n",
    "max_value = cowboys_data['Off RushYds'].max()\n",
    "data_range = max_value - min_value\n",
    "total_points = cowboys_data['Off RushYds'].sum()\n",
    "print(\"Dallas Cowboys Offense Rushing Yards Mean:\", mean_value)\n",
    "print(\"Dallas Cowboys Offense Rushing Yards Median:\", median_value)\n",
    "print(\"Dallas Cowboys Offense Rushing Yards Standard Deviation:\", std_value)\n",
    "print(\"Dallas Cowboys Offense Rushing Yards Variance:\", var_value)\n",
    "print(\"Dallas Cowboys Offense Rushing Yards Minimum:\", min_value)\n",
    "print(\"Dallas Cowboys Offense Rushing Yards Maximum:\", max_value)\n",
    "print(\"Dallas Cowboys Offense Rushing Yards Range:\", data_range)\n",
    "print(\"Dallas Cowboys Total Rushing Yards 2012-2022:\", total_points)"
   ]
  },
  {
   "cell_type": "markdown",
   "id": "268ac0d5",
   "metadata": {},
   "source": [
    "### Denver Broncos"
   ]
  },
  {
   "cell_type": "code",
   "execution_count": 20,
   "id": "27a23f7f",
   "metadata": {},
   "outputs": [
    {
     "name": "stdout",
     "output_type": "stream",
     "text": [
      "Denver Broncos Offense Rushing Yards Mean: 1812.3636363636363\n",
      "Denver Broncos Offense Rushing Yards Median: 1852.0\n",
      "Denver Broncos Offense Rushing Yards Standard Deviation: 147.8859511429485\n",
      "Denver Broncos Offense Rushing Yards Variance: 21870.254545454547\n",
      "Denver Broncos Offense Rushing Yards Minimum: 1484\n",
      "Denver Broncos Offense Rushing Yards Maximum: 2025\n",
      "Denver Broncos Offense Rushing Yards Range: 541\n",
      "Denver Broncos Total Rushing Yards 2012-2022: 19936\n"
     ]
    }
   ],
   "source": [
    "team_name10 = 'Denver Broncos'\n",
    "broncos_data = nflrush[nflrush['Team'] == team_name10]\n",
    "mean_value = broncos_data['Off RushYds'].mean()\n",
    "median_value = broncos_data['Off RushYds'].median()\n",
    "std_value = broncos_data['Off RushYds'].std()\n",
    "var_value = broncos_data['Off RushYds'].var()\n",
    "min_value = broncos_data['Off RushYds'].min()\n",
    "max_value = broncos_data['Off RushYds'].max()\n",
    "data_range = max_value - min_value\n",
    "total_points = broncos_data['Off RushYds'].sum()\n",
    "print(\"Denver Broncos Offense Rushing Yards Mean:\", mean_value)\n",
    "print(\"Denver Broncos Offense Rushing Yards Median:\", median_value)\n",
    "print(\"Denver Broncos Offense Rushing Yards Standard Deviation:\", std_value)\n",
    "print(\"Denver Broncos Offense Rushing Yards Variance:\", var_value)\n",
    "print(\"Denver Broncos Offense Rushing Yards Minimum:\", min_value)\n",
    "print(\"Denver Broncos Offense Rushing Yards Maximum:\", max_value)\n",
    "print(\"Denver Broncos Offense Rushing Yards Range:\", data_range)\n",
    "print(\"Denver Broncos Total Rushing Yards 2012-2022:\", total_points)"
   ]
  },
  {
   "cell_type": "markdown",
   "id": "276a72bc",
   "metadata": {},
   "source": [
    "### Detroit Lions"
   ]
  },
  {
   "cell_type": "code",
   "execution_count": 21,
   "id": "2abbbd15",
   "metadata": {},
   "outputs": [
    {
     "name": "stdout",
     "output_type": "stream",
     "text": [
      "Detroit Lions Offense Rushing Yards Mean: 1557.0\n",
      "Detroit Lions Offense Rushing Yards Median: 1499.0\n",
      "Detroit Lions Offense Rushing Yards Standard Deviation: 303.25302966334897\n",
      "Detroit Lions Offense Rushing Yards Variance: 91962.4\n",
      "Detroit Lions Offense Rushing Yards Minimum: 1221\n",
      "Detroit Lions Offense Rushing Yards Maximum: 2179\n",
      "Detroit Lions Offense Rushing Yards Range: 958\n",
      "Detroit Lions Total Rushing Yards 2012-2022: 17127\n"
     ]
    }
   ],
   "source": [
    "team_name11 = 'Detroit Lions'\n",
    "lions_data = nflrush[nflrush['Team'] == team_name11]\n",
    "mean_value = lions_data['Off RushYds'].mean()\n",
    "median_value = lions_data['Off RushYds'].median()\n",
    "std_value = lions_data['Off RushYds'].std()\n",
    "var_value = lions_data['Off RushYds'].var()\n",
    "min_value = lions_data['Off RushYds'].min()\n",
    "max_value = lions_data['Off RushYds'].max()\n",
    "data_range = max_value - min_value\n",
    "total_points = lions_data['Off RushYds'].sum()\n",
    "print(\"Detroit Lions Offense Rushing Yards Mean:\", mean_value)\n",
    "print(\"Detroit Lions Offense Rushing Yards Median:\", median_value)\n",
    "print(\"Detroit Lions Offense Rushing Yards Standard Deviation:\", std_value)\n",
    "print(\"Detroit Lions Offense Rushing Yards Variance:\", var_value)\n",
    "print(\"Detroit Lions Offense Rushing Yards Minimum:\", min_value)\n",
    "print(\"Detroit Lions Offense Rushing Yards Maximum:\", max_value)\n",
    "print(\"Detroit Lions Offense Rushing Yards Range:\", data_range)\n",
    "print(\"Detroit Lions Total Rushing Yards 2012-2022:\", total_points)"
   ]
  },
  {
   "cell_type": "markdown",
   "id": "2db5fd4c",
   "metadata": {},
   "source": [
    "### Green Bay Packers"
   ]
  },
  {
   "cell_type": "code",
   "execution_count": 22,
   "id": "120d426d",
   "metadata": {},
   "outputs": [
    {
     "name": "stdout",
     "output_type": "stream",
     "text": [
      "Green Bay Packers Offense Rushing Yards Mean: 1880.0\n",
      "Green Bay Packers Offense Rushing Yards Median: 1850.0\n",
      "Green Bay Packers Offense Rushing Yards Standard Deviation: 172.84675293449976\n",
      "Green Bay Packers Offense Rushing Yards Variance: 29876.0\n",
      "Green Bay Packers Offense Rushing Yards Minimum: 1701\n",
      "Green Bay Packers Offense Rushing Yards Maximum: 2136\n",
      "Green Bay Packers Offense Rushing Yards Range: 435\n",
      "Green Bay Packers Total Rushing Yards 2012-2022: 20680\n"
     ]
    }
   ],
   "source": [
    "team_name12 = 'Green Bay Packers'\n",
    "packers_data = nflrush[nflrush['Team'] == team_name12]\n",
    "mean_value = packers_data['Off RushYds'].mean()\n",
    "median_value = packers_data['Off RushYds'].median()\n",
    "std_value = packers_data['Off RushYds'].std()\n",
    "var_value = packers_data['Off RushYds'].var()\n",
    "min_value = packers_data['Off RushYds'].min()\n",
    "max_value = packers_data['Off RushYds'].max()\n",
    "data_range = max_value - min_value\n",
    "total_points = packers_data['Off RushYds'].sum()\n",
    "print(\"Green Bay Packers Offense Rushing Yards Mean:\", mean_value)\n",
    "print(\"Green Bay Packers Offense Rushing Yards Median:\", median_value)\n",
    "print(\"Green Bay Packers Offense Rushing Yards Standard Deviation:\", std_value)\n",
    "print(\"Green Bay Packers Offense Rushing Yards Variance:\", var_value)\n",
    "print(\"Green Bay Packers Offense Rushing Yards Minimum:\", min_value)\n",
    "print(\"Green Bay Packers Offense Rushing Yards Maximum:\", max_value)\n",
    "print(\"Green Bay Packers Offense Rushing Yards Range:\", data_range)\n",
    "print(\"Green Bay Packers Total Rushing Yards 2012-2022:\", total_points)"
   ]
  },
  {
   "cell_type": "markdown",
   "id": "c091afb6",
   "metadata": {},
   "source": [
    "### Houston Texans"
   ]
  },
  {
   "cell_type": "code",
   "execution_count": 23,
   "id": "d2bb9a00",
   "metadata": {},
   "outputs": [
    {
     "name": "stdout",
     "output_type": "stream",
     "text": [
      "Houston Texans Offense Rushing Yards Mean: 1788.5454545454545\n",
      "Houston Texans Offense Rushing Yards Median: 1842.0\n",
      "Houston Texans Offense Rushing Yards Standard Deviation: 255.21025200268255\n",
      "Houston Texans Offense Rushing Yards Variance: 65132.27272727273\n",
      "Houston Texans Offense Rushing Yards Minimum: 1422\n",
      "Houston Texans Offense Rushing Yards Maximum: 2161\n",
      "Houston Texans Offense Rushing Yards Range: 739\n",
      "Houston Texans Total Rushing Yards 2012-2022: 19674\n"
     ]
    }
   ],
   "source": [
    "team_name13 = 'Houston Texans'\n",
    "texans_data = nflrush[nflrush['Team'] == team_name13]\n",
    "mean_value = texans_data['Off RushYds'].mean()\n",
    "median_value = texans_data['Off RushYds'].median()\n",
    "std_value = texans_data['Off RushYds'].std()\n",
    "var_value = texans_data['Off RushYds'].var()\n",
    "min_value = texans_data['Off RushYds'].min()\n",
    "max_value = texans_data['Off RushYds'].max()\n",
    "data_range = max_value - min_value\n",
    "total_points = texans_data['Off RushYds'].sum()\n",
    "print(\"Houston Texans Offense Rushing Yards Mean:\", mean_value)\n",
    "print(\"Houston Texans Offense Rushing Yards Median:\", median_value)\n",
    "print(\"Houston Texans Offense Rushing Yards Standard Deviation:\", std_value)\n",
    "print(\"Houston Texans Offense Rushing Yards Variance:\", var_value)\n",
    "print(\"Houston Texans Offense Rushing Yards Minimum:\", min_value)\n",
    "print(\"Houston Texans Offense Rushing Yards Maximum:\", max_value)\n",
    "print(\"Houston Texans Offense Rushing Yards Range:\", data_range)\n",
    "print(\"Houston Texans Total Rushing Yards 2012-2022:\", total_points)"
   ]
  },
  {
   "cell_type": "markdown",
   "id": "1b20dec9",
   "metadata": {},
   "source": [
    "### Indianapolis Colts"
   ]
  },
  {
   "cell_type": "code",
   "execution_count": 24,
   "id": "91456f69",
   "metadata": {},
   "outputs": [
    {
     "name": "stdout",
     "output_type": "stream",
     "text": [
      "Indianapolis Colts Offense Rushing Yards Mean: 1813.2727272727273\n",
      "Indianapolis Colts Offense Rushing Yards Median: 1671.0\n",
      "Indianapolis Colts Offense Rushing Yards Standard Deviation: 308.5187485094191\n",
      "Indianapolis Colts Offense Rushing Yards Variance: 95183.81818181819\n",
      "Indianapolis Colts Offense Rushing Yards Minimum: 1438\n",
      "Indianapolis Colts Offense Rushing Yards Maximum: 2540\n",
      "Indianapolis Colts Offense Rushing Yards Range: 1102\n",
      "Indianapolis Colts Total Rushing Yards 2012-2022: 19946\n"
     ]
    }
   ],
   "source": [
    "team_name14 = 'Indianapolis Colts'\n",
    "colts_data = nflrush[nflrush['Team'] == team_name14]\n",
    "mean_value = colts_data['Off RushYds'].mean()\n",
    "median_value = colts_data['Off RushYds'].median()\n",
    "std_value = colts_data['Off RushYds'].std()\n",
    "var_value = colts_data['Off RushYds'].var()\n",
    "min_value = colts_data['Off RushYds'].min()\n",
    "max_value = colts_data['Off RushYds'].max()\n",
    "data_range = max_value - min_value\n",
    "total_points = colts_data['Off RushYds'].sum()\n",
    "print(\"Indianapolis Colts Offense Rushing Yards Mean:\", mean_value)\n",
    "print(\"Indianapolis Colts Offense Rushing Yards Median:\", median_value)\n",
    "print(\"Indianapolis Colts Offense Rushing Yards Standard Deviation:\", std_value)\n",
    "print(\"Indianapolis Colts Offense Rushing Yards Variance:\", var_value)\n",
    "print(\"Indianapolis Colts Offense Rushing Yards Minimum:\", min_value)\n",
    "print(\"Indianapolis Colts Offense Rushing Yards Maximum:\", max_value)\n",
    "print(\"Indianapolis Colts Offense Rushing Yards Range:\", data_range)\n",
    "print(\"Indianapolis Colts Total Rushing Yards 2012-2022:\", total_points)"
   ]
  },
  {
   "cell_type": "markdown",
   "id": "f8df3a15",
   "metadata": {},
   "source": [
    "### Jacksonville Jaguars"
   ]
  },
  {
   "cell_type": "code",
   "execution_count": 25,
   "id": "4a9f8452",
   "metadata": {},
   "outputs": [
    {
     "name": "stdout",
     "output_type": "stream",
     "text": [
      "Jacksonville Jaguars Offense Rushing Yards Mean: 1726.1818181818182\n",
      "Jacksonville Jaguars Offense Rushing Yards Median: 1633.0\n",
      "Jacksonville Jaguars Offense Rushing Yards Standard Deviation: 345.97595817681264\n",
      "Jacksonville Jaguars Offense Rushing Yards Variance: 119699.36363636362\n",
      "Jacksonville Jaguars Offense Rushing Yards Minimum: 1260\n",
      "Jacksonville Jaguars Offense Rushing Yards Maximum: 2262\n",
      "Jacksonville Jaguars Offense Rushing Yards Range: 1002\n",
      "Jacksonville Jaguars Total Rushing Yards 2012-2022: 18988\n"
     ]
    }
   ],
   "source": [
    "team_name15 = 'Jacksonville Jaguars'\n",
    "jaguars_data = nflrush[nflrush['Team'] == team_name15]\n",
    "mean_value = jaguars_data['Off RushYds'].mean()\n",
    "median_value = jaguars_data['Off RushYds'].median()\n",
    "std_value = jaguars_data['Off RushYds'].std()\n",
    "var_value = jaguars_data['Off RushYds'].var()\n",
    "min_value = jaguars_data['Off RushYds'].min()\n",
    "max_value = jaguars_data['Off RushYds'].max()\n",
    "data_range = max_value - min_value\n",
    "total_points = jaguars_data['Off RushYds'].sum()\n",
    "print(\"Jacksonville Jaguars Offense Rushing Yards Mean:\", mean_value)\n",
    "print(\"Jacksonville Jaguars Offense Rushing Yards Median:\", median_value)\n",
    "print(\"Jacksonville Jaguars Offense Rushing Yards Standard Deviation:\", std_value)\n",
    "print(\"Jacksonville Jaguars Offense Rushing Yards Variance:\", var_value)\n",
    "print(\"Jacksonville Jaguars Offense Rushing Yards Minimum:\", min_value)\n",
    "print(\"Jacksonville Jaguars Offense Rushing Yards Maximum:\", max_value)\n",
    "print(\"Jacksonville Jaguars Offense Rushing Yards Range:\", data_range)\n",
    "print(\"Jacksonville Jaguars Total Rushing Yards 2012-2022:\", total_points)"
   ]
  },
  {
   "cell_type": "markdown",
   "id": "bbf902cd",
   "metadata": {},
   "source": [
    "### Kansas City Chiefs"
   ]
  },
  {
   "cell_type": "code",
   "execution_count": 26,
   "id": "3df66572",
   "metadata": {},
   "outputs": [
    {
     "name": "stdout",
     "output_type": "stream",
     "text": [
      "Kansas City Chiefs Offense Rushing Yards Mean: 1932.7272727272727\n",
      "Kansas City Chiefs Offense Rushing Yards Median: 1918.0\n",
      "Kansas City Chiefs Offense Rushing Yards Standard Deviation: 207.23131563983804\n",
      "Kansas City Chiefs Offense Rushing Yards Variance: 42944.818181818184\n",
      "Kansas City Chiefs Offense Rushing Yards Minimum: 1569\n",
      "Kansas City Chiefs Offense Rushing Yards Maximum: 2395\n",
      "Kansas City Chiefs Offense Rushing Yards Range: 826\n",
      "Kansas City Chiefs Total Rushing Yards 2012-2022: 21260\n"
     ]
    }
   ],
   "source": [
    "team_name16 = 'Kansas City Chiefs'\n",
    "chiefs_data = nflrush[nflrush['Team'] == team_name16]\n",
    "mean_value = chiefs_data['Off RushYds'].mean()\n",
    "median_value = chiefs_data['Off RushYds'].median()\n",
    "std_value = chiefs_data['Off RushYds'].std()\n",
    "var_value = chiefs_data['Off RushYds'].var()\n",
    "min_value = chiefs_data['Off RushYds'].min()\n",
    "max_value = chiefs_data['Off RushYds'].max()\n",
    "data_range = max_value - min_value\n",
    "total_points = chiefs_data['Off RushYds'].sum()\n",
    "print(\"Kansas City Chiefs Offense Rushing Yards Mean:\", mean_value)\n",
    "print(\"Kansas City Chiefs Offense Rushing Yards Median:\", median_value)\n",
    "print(\"Kansas City Chiefs Offense Rushing Yards Standard Deviation:\", std_value)\n",
    "print(\"Kansas City Chiefs Offense Rushing Yards Variance:\", var_value)\n",
    "print(\"Kansas City Chiefs Offense Rushing Yards Minimum:\", min_value)\n",
    "print(\"Kansas City Chiefs Offense Rushing Yards Maximum:\", max_value)\n",
    "print(\"Kansas City Chiefs Offense Rushing Yards Range:\", data_range)\n",
    "print(\"Kansas City Chiefs Total Rushing Yards 2012-2022:\", total_points)"
   ]
  },
  {
   "cell_type": "markdown",
   "id": "a718e716",
   "metadata": {},
   "source": [
    "### Las Vegas Raiders"
   ]
  },
  {
   "cell_type": "code",
   "execution_count": 27,
   "id": "2ddc0481",
   "metadata": {},
   "outputs": [
    {
     "name": "stdout",
     "output_type": "stream",
     "text": [
      "Las Vegas Raiders Offense Rushing Yards Mean: 1693.8181818181818\n",
      "Las Vegas Raiders Offense Rushing Yards Median: 1617.0\n",
      "Las Vegas Raiders Offense Rushing Yards Standard Deviation: 273.90137574748263\n",
      "Las Vegas Raiders Offense Rushing Yards Variance: 75021.96363636365\n",
      "Las Vegas Raiders Offense Rushing Yards Minimum: 1240\n",
      "Las Vegas Raiders Offense Rushing Yards Maximum: 2059\n",
      "Las Vegas Raiders Offense Rushing Yards Range: 819\n",
      "Las Vegas Raiders Total Rushing Yards 2012-2022: 18632\n"
     ]
    }
   ],
   "source": [
    "team_name17 = 'Las Vegas Raiders'\n",
    "raiders_data = nflrush[nflrush['Team'] == team_name17]\n",
    "mean_value = raiders_data['Off RushYds'].mean()\n",
    "median_value = raiders_data['Off RushYds'].median()\n",
    "std_value = raiders_data['Off RushYds'].std()\n",
    "var_value = raiders_data['Off RushYds'].var()\n",
    "min_value = raiders_data['Off RushYds'].min()\n",
    "max_value = raiders_data['Off RushYds'].max()\n",
    "data_range = max_value - min_value\n",
    "total_points = raiders_data['Off RushYds'].sum()\n",
    "print(\"Las Vegas Raiders Offense Rushing Yards Mean:\", mean_value)\n",
    "print(\"Las Vegas Raiders Offense Rushing Yards Median:\", median_value)\n",
    "print(\"Las Vegas Raiders Offense Rushing Yards Standard Deviation:\", std_value)\n",
    "print(\"Las Vegas Raiders Offense Rushing Yards Variance:\", var_value)\n",
    "print(\"Las Vegas Raiders Offense Rushing Yards Minimum:\", min_value)\n",
    "print(\"Las Vegas Raiders Offense Rushing Yards Maximum:\", max_value)\n",
    "print(\"Las Vegas Raiders Offense Rushing Yards Range:\", data_range)\n",
    "print(\"Las Vegas Raiders Total Rushing Yards 2012-2022:\", total_points)"
   ]
  },
  {
   "cell_type": "markdown",
   "id": "42a247b8",
   "metadata": {},
   "source": [
    "### Los Angeles Chargers"
   ]
  },
  {
   "cell_type": "code",
   "execution_count": 28,
   "id": "17f08503",
   "metadata": {},
   "outputs": [
    {
     "name": "stdout",
     "output_type": "stream",
     "text": [
      "Los Angeles Chargers Offense Rushing Yards Mean: 1586.0\n",
      "Los Angeles Chargers Offense Rushing Yards Median: 1524.0\n",
      "Los Angeles Chargers Offense Rushing Yards Standard Deviation: 196.82225483923307\n",
      "Los Angeles Chargers Offense Rushing Yards Variance: 38739.0\n",
      "Los Angeles Chargers Offense Rushing Yards Minimum: 1358\n",
      "Los Angeles Chargers Offense Rushing Yards Maximum: 1965\n",
      "Los Angeles Chargers Offense Rushing Yards Range: 607\n",
      "Los Angeles Chargers Total Rushing Yards 2012-2022: 17446\n"
     ]
    }
   ],
   "source": [
    "team_name18 = 'Los Angeles Chargers'\n",
    "chargers_data = nflrush[nflrush['Team'] == team_name18]\n",
    "mean_value = chargers_data['Off RushYds'].mean()\n",
    "median_value = chargers_data['Off RushYds'].median()\n",
    "std_value = chargers_data['Off RushYds'].std()\n",
    "var_value = chargers_data['Off RushYds'].var()\n",
    "min_value = chargers_data['Off RushYds'].min()\n",
    "max_value = chargers_data['Off RushYds'].max()\n",
    "data_range = max_value - min_value\n",
    "total_points = chargers_data['Off RushYds'].sum()\n",
    "print(\"Los Angeles Chargers Offense Rushing Yards Mean:\", mean_value)\n",
    "print(\"Los Angeles Chargers Offense Rushing Yards Median:\", median_value)\n",
    "print(\"Los Angeles Chargers Offense Rushing Yards Standard Deviation:\", std_value)\n",
    "print(\"Los Angeles Chargers Offense Rushing Yards Variance:\", var_value)\n",
    "print(\"Los Angeles Chargers Offense Rushing Yards Minimum:\", min_value)\n",
    "print(\"Los Angeles Chargers Offense Rushing Yards Maximum:\", max_value)\n",
    "print(\"Los Angeles Chargers Offense Rushing Yards Range:\", data_range)\n",
    "print(\"Los Angeles Chargers Total Rushing Yards 2012-2022:\", total_points)"
   ]
  },
  {
   "cell_type": "markdown",
   "id": "4a843b70",
   "metadata": {},
   "source": [
    "### Los Angeles Rams"
   ]
  },
  {
   "cell_type": "code",
   "execution_count": 29,
   "id": "b73545ca",
   "metadata": {},
   "outputs": [
    {
     "name": "stdout",
     "output_type": "stream",
     "text": [
      "Los Angeles Rams Offense Rushing Yards Mean: 1734.1818181818182\n",
      "Los Angeles Rams Offense Rushing Yards Median: 1714.0\n",
      "Los Angeles Rams Offense Rushing Yards Standard Deviation: 230.6221230419225\n",
      "Los Angeles Rams Offense Rushing Yards Variance: 53186.56363636364\n",
      "Los Angeles Rams Offense Rushing Yards Minimum: 1252\n",
      "Los Angeles Rams Offense Rushing Yards Maximum: 2018\n",
      "Los Angeles Rams Offense Rushing Yards Range: 766\n",
      "Los Angeles Rams Total Rushing Yards 2012-2022: 19076\n"
     ]
    }
   ],
   "source": [
    "team_name19 = 'Los Angeles Rams'\n",
    "Rams_data = nflrush[nflrush['Team'] == team_name19]\n",
    "mean_value = Rams_data['Off RushYds'].mean()\n",
    "median_value = Rams_data['Off RushYds'].median()\n",
    "std_value = Rams_data['Off RushYds'].std()\n",
    "var_value = Rams_data['Off RushYds'].var()\n",
    "min_value = Rams_data['Off RushYds'].min()\n",
    "max_value = Rams_data['Off RushYds'].max()\n",
    "data_range = max_value - min_value\n",
    "total_points = Rams_data['Off RushYds'].sum()\n",
    "print(\"Los Angeles Rams Offense Rushing Yards Mean:\", mean_value)\n",
    "print(\"Los Angeles Rams Offense Rushing Yards Median:\", median_value)\n",
    "print(\"Los Angeles Rams Offense Rushing Yards Standard Deviation:\", std_value)\n",
    "print(\"Los Angeles Rams Offense Rushing Yards Variance:\", var_value)\n",
    "print(\"Los Angeles Rams Offense Rushing Yards Minimum:\", min_value)\n",
    "print(\"Los Angeles Rams Offense Rushing Yards Maximum:\", max_value)\n",
    "print(\"Los Angeles Rams Offense Rushing Yards Range:\", data_range)\n",
    "print(\"Los Angeles Rams Total Rushing Yards 2012-2022:\", total_points)"
   ]
  },
  {
   "cell_type": "markdown",
   "id": "b95c2656",
   "metadata": {},
   "source": [
    "### Miami Dolphins"
   ]
  },
  {
   "cell_type": "code",
   "execution_count": 30,
   "id": "37582447",
   "metadata": {},
   "outputs": [
    {
     "name": "stdout",
     "output_type": "stream",
     "text": [
      "Miami Dolphins Offense Rushing Yards Mean: 1573.4545454545455\n",
      "Miami Dolphins Offense Rushing Yards Median: 1568.0\n",
      "Miami Dolphins Offense Rushing Yards Standard Deviation: 222.89385977920685\n",
      "Miami Dolphins Offense Rushing Yards Variance: 49681.67272727272\n",
      "Miami Dolphins Offense Rushing Yards Minimum: 1156\n",
      "Miami Dolphins Offense Rushing Yards Maximum: 1872\n",
      "Miami Dolphins Offense Rushing Yards Range: 716\n",
      "Miami Dolphins Total Rushing Yards 2012-2022: 17308\n"
     ]
    }
   ],
   "source": [
    "team_name20 = 'Miami Dolphins'\n",
    "dolphins_data = nflrush[nflrush['Team'] == team_name20]\n",
    "mean_value = dolphins_data['Off RushYds'].mean()\n",
    "median_value = dolphins_data['Off RushYds'].median()\n",
    "std_value = dolphins_data['Off RushYds'].std()\n",
    "var_value = dolphins_data['Off RushYds'].var()\n",
    "min_value = dolphins_data['Off RushYds'].min()\n",
    "max_value = dolphins_data['Off RushYds'].max()\n",
    "data_range = max_value - min_value\n",
    "total_points = dolphins_data['Off RushYds'].sum()\n",
    "print(\"Miami Dolphins Offense Rushing Yards Mean:\", mean_value)\n",
    "print(\"Miami Dolphins Offense Rushing Yards Median:\", median_value)\n",
    "print(\"Miami Dolphins Offense Rushing Yards Standard Deviation:\", std_value)\n",
    "print(\"Miami Dolphins Offense Rushing Yards Variance:\", var_value)\n",
    "print(\"Miami Dolphins Offense Rushing Yards Minimum:\", min_value)\n",
    "print(\"Miami Dolphins Offense Rushing Yards Maximum:\", max_value)\n",
    "print(\"Miami Dolphins Offense Rushing Yards Range:\", data_range)\n",
    "print(\"Miami Dolphins Total Rushing Yards 2012-2022:\", total_points)"
   ]
  },
  {
   "cell_type": "markdown",
   "id": "6069914e",
   "metadata": {},
   "source": [
    "### Minnesota Vikings"
   ]
  },
  {
   "cell_type": "code",
   "execution_count": 31,
   "id": "ec087d3b",
   "metadata": {},
   "outputs": [
    {
     "name": "stdout",
     "output_type": "stream",
     "text": [
      "Minnesota Vikings Offense Rushing Yards Mean: 1986.909090909091\n",
      "Minnesota Vikings Offense Rushing Yards Median: 1957.0\n",
      "Minnesota Vikings Offense Rushing Yards Standard Deviation: 366.4547597031467\n",
      "Minnesota Vikings Offense Rushing Yards Variance: 134289.09090909097\n",
      "Minnesota Vikings Offense Rushing Yards Minimum: 1205\n",
      "Minnesota Vikings Offense Rushing Yards Maximum: 2634\n",
      "Minnesota Vikings Offense Rushing Yards Range: 1429\n",
      "Minnesota Vikings Total Rushing Yards 2012-2022: 21856\n"
     ]
    }
   ],
   "source": [
    "team_name21 = 'Minnesota Vikings'\n",
    "vikings_data = nflrush[nflrush['Team'] == team_name21]\n",
    "mean_value = vikings_data['Off RushYds'].mean()\n",
    "median_value = vikings_data['Off RushYds'].median()\n",
    "std_value = vikings_data['Off RushYds'].std()\n",
    "var_value = vikings_data['Off RushYds'].var()\n",
    "min_value = vikings_data['Off RushYds'].min()\n",
    "max_value = vikings_data['Off RushYds'].max()\n",
    "data_range = max_value - min_value\n",
    "total_points = vikings_data['Off RushYds'].sum()\n",
    "print(\"Minnesota Vikings Offense Rushing Yards Mean:\", mean_value)\n",
    "print(\"Minnesota Vikings Offense Rushing Yards Median:\", median_value)\n",
    "print(\"Minnesota Vikings Offense Rushing Yards Standard Deviation:\", std_value)\n",
    "print(\"Minnesota Vikings Offense Rushing Yards Variance:\", var_value)\n",
    "print(\"Minnesota Vikings Offense Rushing Yards Minimum:\", min_value)\n",
    "print(\"Minnesota Vikings Offense Rushing Yards Maximum:\", max_value)\n",
    "print(\"Minnesota Vikings Offense Rushing Yards Range:\", data_range)\n",
    "print(\"Minnesota Vikings Total Rushing Yards 2012-2022:\", total_points)"
   ]
  },
  {
   "cell_type": "markdown",
   "id": "63b77a58",
   "metadata": {},
   "source": [
    "### New England Patriots"
   ]
  },
  {
   "cell_type": "code",
   "execution_count": 32,
   "id": "ede6aca2",
   "metadata": {},
   "outputs": [
    {
     "name": "stdout",
     "output_type": "stream",
     "text": [
      "New England Patriots Offense Rushing Yards Mean: 1912.909090909091\n",
      "New England Patriots Offense Rushing Yards Median: 1889.0\n",
      "New England Patriots Offense Rushing Yards Standard Deviation: 262.9617670101319\n",
      "New England Patriots Offense Rushing Yards Variance: 69148.8909090909\n",
      "New England Patriots Offense Rushing Yards Minimum: 1404\n",
      "New England Patriots Offense Rushing Yards Maximum: 2346\n",
      "New England Patriots Offense Rushing Yards Range: 942\n",
      "New England Patriots Total Rushing Yards 2012-2022: 21042\n"
     ]
    }
   ],
   "source": [
    "team_name22 = 'New England Patriots'\n",
    "patriots_data = nflrush[nflrush['Team'] == team_name22]\n",
    "mean_value = patriots_data['Off RushYds'].mean()\n",
    "median_value = patriots_data['Off RushYds'].median()\n",
    "std_value = patriots_data['Off RushYds'].std()\n",
    "var_value = patriots_data['Off RushYds'].var()\n",
    "min_value = patriots_data['Off RushYds'].min()\n",
    "max_value = patriots_data['Off RushYds'].max()\n",
    "data_range = max_value - min_value\n",
    "total_points = patriots_data['Off RushYds'].sum()\n",
    "print(\"New England Patriots Offense Rushing Yards Mean:\", mean_value)\n",
    "print(\"New England Patriots Offense Rushing Yards Median:\", median_value)\n",
    "print(\"New England Patriots Offense Rushing Yards Standard Deviation:\", std_value)\n",
    "print(\"New England Patriots Offense Rushing Yards Variance:\", var_value)\n",
    "print(\"New England Patriots Offense Rushing Yards Minimum:\", min_value)\n",
    "print(\"New England Patriots Offense Rushing Yards Maximum:\", max_value)\n",
    "print(\"New England Patriots Offense Rushing Yards Range:\", data_range)\n",
    "print(\"New England Patriots Total Rushing Yards 2012-2022:\", total_points)"
   ]
  },
  {
   "cell_type": "markdown",
   "id": "e1872052",
   "metadata": {},
   "source": [
    "### New Orleans Saints"
   ]
  },
  {
   "cell_type": "code",
   "execution_count": 33,
   "id": "64ef690b",
   "metadata": {},
   "outputs": [
    {
     "name": "stdout",
     "output_type": "stream",
     "text": [
      "New Orleans Saints Offense Rushing Yards Mean: 1814.7\n",
      "New Orleans Saints Offense Rushing Yards Median: 1780.0\n",
      "New Orleans Saints Offense Rushing Yards Standard Deviation: 261.6698725918256\n",
      "New Orleans Saints Offense Rushing Yards Variance: 68471.12222222223\n",
      "New Orleans Saints Offense Rushing Yards Minimum: 1473\n",
      "New Orleans Saints Offense Rushing Yards Maximum: 2265\n",
      "New Orleans Saints Offense Rushing Yards Range: 792\n",
      "New Orleans Saints Total Rushing Yards 2012-2022: 18147\n"
     ]
    }
   ],
   "source": [
    "team_name23 = 'New Orleans Saints'\n",
    "saints_data = nflrush[nflrush['Team'] == team_name23]\n",
    "mean_value = saints_data['Off RushYds'].mean()\n",
    "median_value = saints_data['Off RushYds'].median()\n",
    "std_value = saints_data['Off RushYds'].std()\n",
    "var_value = saints_data['Off RushYds'].var()\n",
    "min_value = saints_data['Off RushYds'].min()\n",
    "max_value = saints_data['Off RushYds'].max()\n",
    "data_range = max_value - min_value\n",
    "total_points = saints_data['Off RushYds'].sum()\n",
    "print(\"New Orleans Saints Offense Rushing Yards Mean:\", mean_value)\n",
    "print(\"New Orleans Saints Offense Rushing Yards Median:\", median_value)\n",
    "print(\"New Orleans Saints Offense Rushing Yards Standard Deviation:\", std_value)\n",
    "print(\"New Orleans Saints Offense Rushing Yards Variance:\", var_value)\n",
    "print(\"New Orleans Saints Offense Rushing Yards Minimum:\", min_value)\n",
    "print(\"New Orleans Saints Offense Rushing Yards Maximum:\", max_value)\n",
    "print(\"New Orleans Saints Offense Rushing Yards Range:\", data_range)\n",
    "print(\"New Orleans Saints Total Rushing Yards 2012-2022:\", total_points)"
   ]
  },
  {
   "cell_type": "markdown",
   "id": "7578e136",
   "metadata": {},
   "source": [
    "### New York Giants"
   ]
  },
  {
   "cell_type": "code",
   "execution_count": 34,
   "id": "c1c4f182",
   "metadata": {},
   "outputs": [
    {
     "name": "stdout",
     "output_type": "stream",
     "text": [
      "New York Giants Offense Rushing Yards Mean: 1688.7272727272727\n",
      "New York Giants Offense Rushing Yards Median: 1609.0\n",
      "New York Giants Offense Rushing Yards Standard Deviation: 313.41030324770463\n",
      "New York Giants Offense Rushing Yards Variance: 98226.01818181819\n",
      "New York Giants Offense Rushing Yards Minimum: 1332\n",
      "New York Giants Offense Rushing Yards Maximum: 2519\n",
      "New York Giants Offense Rushing Yards Range: 1187\n",
      "New York Giants Total Rushing Yards 2012-2022: 18576\n"
     ]
    }
   ],
   "source": [
    "team_name24 = 'New York Giants'\n",
    "giants_data = nflrush[nflrush['Team'] == team_name24]\n",
    "mean_value = giants_data['Off RushYds'].mean()\n",
    "median_value = giants_data['Off RushYds'].median()\n",
    "std_value = giants_data['Off RushYds'].std()\n",
    "var_value = giants_data['Off RushYds'].var()\n",
    "min_value = giants_data['Off RushYds'].min()\n",
    "max_value = giants_data['Off RushYds'].max()\n",
    "data_range = max_value - min_value\n",
    "total_points = giants_data['Off RushYds'].sum()\n",
    "print(\"New York Giants Offense Rushing Yards Mean:\", mean_value)\n",
    "print(\"New York Giants Offense Rushing Yards Median:\", median_value)\n",
    "print(\"New York Giants Offense Rushing Yards Standard Deviation:\", std_value)\n",
    "print(\"New York Giants Offense Rushing Yards Variance:\", var_value)\n",
    "print(\"New York Giants Offense Rushing Yards Minimum:\", min_value)\n",
    "print(\"New York Giants Offense Rushing Yards Maximum:\", max_value)\n",
    "print(\"New York Giants Offense Rushing Yards Range:\", data_range)\n",
    "print(\"New York Giants Total Rushing Yards 2012-2022:\", total_points)"
   ]
  },
  {
   "cell_type": "markdown",
   "id": "3119cc98",
   "metadata": {},
   "source": [
    "### New York Jets"
   ]
  },
  {
   "cell_type": "code",
   "execution_count": 35,
   "id": "e10d2973",
   "metadata": {},
   "outputs": [
    {
     "name": "stdout",
     "output_type": "stream",
     "text": [
      "New York Jets Offense Rushing Yards Mean: 1791.0\n",
      "New York Jets Offense Rushing Yards Median: 1702.0\n",
      "New York Jets Offense Rushing Yards Standard Deviation: 270.1754985190182\n",
      "New York Jets Offense Rushing Yards Variance: 72994.8\n",
      "New York Jets Offense Rushing Yards Minimum: 1257\n",
      "New York Jets Offense Rushing Yards Maximum: 2280\n",
      "New York Jets Offense Rushing Yards Range: 1023\n",
      "New York Jets Total Rushing Yards 2012-2022: 19701\n"
     ]
    }
   ],
   "source": [
    "team_name25 = 'New York Jets'\n",
    "Jets_data = nflrush[nflrush['Team'] == team_name25]\n",
    "mean_value = Jets_data['Off RushYds'].mean()\n",
    "median_value = Jets_data['Off RushYds'].median()\n",
    "std_value = Jets_data['Off RushYds'].std()\n",
    "var_value = Jets_data['Off RushYds'].var()\n",
    "min_value = Jets_data['Off RushYds'].min()\n",
    "max_value = Jets_data['Off RushYds'].max()\n",
    "data_range = max_value - min_value\n",
    "total_points = Jets_data['Off RushYds'].sum()\n",
    "print(\"New York Jets Offense Rushing Yards Mean:\", mean_value)\n",
    "print(\"New York Jets Offense Rushing Yards Median:\", median_value)\n",
    "print(\"New York Jets Offense Rushing Yards Standard Deviation:\", std_value)\n",
    "print(\"New York Jets Offense Rushing Yards Variance:\", var_value)\n",
    "print(\"New York Jets Offense Rushing Yards Minimum:\", min_value)\n",
    "print(\"New York Jets Offense Rushing Yards Maximum:\", max_value)\n",
    "print(\"New York Jets Offense Rushing Yards Range:\", data_range)\n",
    "print(\"New York Jets Total Rushing Yards 2012-2022:\", total_points)"
   ]
  },
  {
   "cell_type": "markdown",
   "id": "751ff2a9",
   "metadata": {},
   "source": [
    "### Philadelphia Eagles"
   ]
  },
  {
   "cell_type": "code",
   "execution_count": 36,
   "id": "b4d6479d",
   "metadata": {},
   "outputs": [
    {
     "name": "stdout",
     "output_type": "stream",
     "text": [
      "Philadelphia Eagles Offense Rushing Yards Mean: 2128.0\n",
      "Philadelphia Eagles Offense Rushing Yards Median: 2027.0\n",
      "Philadelphia Eagles Offense Rushing Yards Standard Deviation: 325.31461694796315\n",
      "Philadelphia Eagles Offense Rushing Yards Variance: 105829.6\n",
      "Philadelphia Eagles Offense Rushing Yards Minimum: 1743\n",
      "Philadelphia Eagles Offense Rushing Yards Maximum: 2715\n",
      "Philadelphia Eagles Offense Rushing Yards Range: 972\n",
      "Philadelphia Eagles Total Rushing Yards 2012-2022: 23408\n"
     ]
    }
   ],
   "source": [
    "team_name26 = 'Philadelphia Eagles'\n",
    "eagles_data = nflrush[nflrush['Team'] == team_name26]\n",
    "mean_value = eagles_data['Off RushYds'].mean()\n",
    "median_value = eagles_data['Off RushYds'].median()\n",
    "std_value = eagles_data['Off RushYds'].std()\n",
    "var_value = eagles_data['Off RushYds'].var()\n",
    "min_value = eagles_data['Off RushYds'].min()\n",
    "max_value = eagles_data['Off RushYds'].max()\n",
    "data_range = max_value - min_value\n",
    "total_points = eagles_data['Off RushYds'].sum()\n",
    "print(\"Philadelphia Eagles Offense Rushing Yards Mean:\", mean_value)\n",
    "print(\"Philadelphia Eagles Offense Rushing Yards Median:\", median_value)\n",
    "print(\"Philadelphia Eagles Offense Rushing Yards Standard Deviation:\", std_value)\n",
    "print(\"Philadelphia Eagles Offense Rushing Yards Variance:\", var_value)\n",
    "print(\"Philadelphia Eagles Offense Rushing Yards Minimum:\", min_value)\n",
    "print(\"Philadelphia Eagles Offense Rushing Yards Maximum:\", max_value)\n",
    "print(\"Philadelphia Eagles Offense Rushing Yards Range:\", data_range)\n",
    "print(\"Philadelphia Eagles Total Rushing Yards 2012-2022:\", total_points)"
   ]
  },
  {
   "cell_type": "markdown",
   "id": "631e38b3",
   "metadata": {},
   "source": [
    "### Pittsburgh Steelers"
   ]
  },
  {
   "cell_type": "code",
   "execution_count": 37,
   "id": "15659f0e",
   "metadata": {
    "scrolled": true
   },
   "outputs": [
    {
     "name": "stdout",
     "output_type": "stream",
     "text": [
      "Pittsburgh Steelers Offense Rushing Yards Mean: 1631.2727272727273\n",
      "Pittsburgh Steelers Offense Rushing Yards Median: 1667.0\n",
      "Pittsburgh Steelers Offense Rushing Yards Standard Deviation: 205.6176504627416\n",
      "Pittsburgh Steelers Offense Rushing Yards Variance: 42278.61818181818\n",
      "Pittsburgh Steelers Offense Rushing Yards Minimum: 1351\n",
      "Pittsburgh Steelers Offense Rushing Yards Maximum: 2073\n",
      "Pittsburgh Steelers Offense Rushing Yards Range: 722\n",
      "Pittsburgh Steelers Total Rushing Yards 2012-2022: 17944\n"
     ]
    }
   ],
   "source": [
    "team_name27 = 'Pittsburgh Steelers'\n",
    "steelers_data = nflrush[nflrush['Team'] == team_name27]\n",
    "mean_value = steelers_data['Off RushYds'].mean()\n",
    "median_value = steelers_data['Off RushYds'].median()\n",
    "std_value = steelers_data['Off RushYds'].std()\n",
    "var_value = steelers_data['Off RushYds'].var()\n",
    "min_value = steelers_data['Off RushYds'].min()\n",
    "max_value = steelers_data['Off RushYds'].max()\n",
    "data_range = max_value - min_value\n",
    "total_points = steelers_data['Off RushYds'].sum()\n",
    "print(\"Pittsburgh Steelers Offense Rushing Yards Mean:\", mean_value)\n",
    "print(\"Pittsburgh Steelers Offense Rushing Yards Median:\", median_value)\n",
    "print(\"Pittsburgh Steelers Offense Rushing Yards Standard Deviation:\", std_value)\n",
    "print(\"Pittsburgh Steelers Offense Rushing Yards Variance:\", var_value)\n",
    "print(\"Pittsburgh Steelers Offense Rushing Yards Minimum:\", min_value)\n",
    "print(\"Pittsburgh Steelers Offense Rushing Yards Maximum:\", max_value)\n",
    "print(\"Pittsburgh Steelers Offense Rushing Yards Range:\", data_range)\n",
    "print(\"Pittsburgh Steelers Total Rushing Yards 2012-2022:\", total_points)"
   ]
  },
  {
   "cell_type": "markdown",
   "id": "81d6493d",
   "metadata": {},
   "source": [
    "### San Francisco 49ers"
   ]
  },
  {
   "cell_type": "code",
   "execution_count": 38,
   "id": "65ddd0f9",
   "metadata": {},
   "outputs": [
    {
     "name": "stdout",
     "output_type": "stream",
     "text": [
      "San Francisco 49ers Offense Rushing Yards Mean: 2043.1818181818182\n",
      "San Francisco 49ers Offense Rushing Yards Median: 2166.0\n",
      "San Francisco 49ers Offense Rushing Yards Standard Deviation: 314.8386311054659\n",
      "San Francisco 49ers Offense Rushing Yards Variance: 99123.36363636363\n",
      "San Francisco 49ers Offense Rushing Yards Minimum: 1544\n",
      "San Francisco 49ers Offense Rushing Yards Maximum: 2491\n",
      "San Francisco 49ers Offense Rushing Yards Rushing YardsRange: 947\n",
      "San Francisco 49ers Total Rushing Yards 2012-2022: 22475\n"
     ]
    }
   ],
   "source": [
    "team_name28 = 'San Francisco 49ers'\n",
    "niners_data = nflrush[nflrush['Team'] == team_name28]\n",
    "mean_value = niners_data['Off RushYds'].mean()\n",
    "median_value = niners_data['Off RushYds'].median()\n",
    "std_value = niners_data['Off RushYds'].std()\n",
    "var_value = niners_data['Off RushYds'].var()\n",
    "min_value = niners_data['Off RushYds'].min()\n",
    "max_value = niners_data['Off RushYds'].max()\n",
    "data_range = max_value - min_value\n",
    "total_points = niners_data['Off RushYds'].sum()\n",
    "print(\"San Francisco 49ers Offense Rushing Yards Mean:\", mean_value)\n",
    "print(\"San Francisco 49ers Offense Rushing Yards Median:\", median_value)\n",
    "print(\"San Francisco 49ers Offense Rushing Yards Standard Deviation:\", std_value)\n",
    "print(\"San Francisco 49ers Offense Rushing Yards Variance:\", var_value)\n",
    "print(\"San Francisco 49ers Offense Rushing Yards Minimum:\", min_value)\n",
    "print(\"San Francisco 49ers Offense Rushing Yards Maximum:\", max_value)\n",
    "print(\"San Francisco 49ers Offense Rushing Yards Rushing YardsRange:\", data_range)\n",
    "print(\"San Francisco 49ers Total Rushing Yards 2012-2022:\", total_points)"
   ]
  },
  {
   "cell_type": "markdown",
   "id": "f2853461",
   "metadata": {},
   "source": [
    "### Tampa Bay Buccaneers"
   ]
  },
  {
   "cell_type": "code",
   "execution_count": 39,
   "id": "4d9f95d5",
   "metadata": {},
   "outputs": [
    {
     "name": "stdout",
     "output_type": "stream",
     "text": [
      "Tampa Bay Buccaneers Offense Rushing Yards Mean: 1592.909090909091\n",
      "Tampa Bay Buccaneers Offense Rushing Yards Median: 1521.0\n",
      "Tampa Bay Buccaneers Offense Rushing Yards Standard Deviation: 238.9005879211914\n",
      "Tampa Bay Buccaneers Offense Rushing Yards Variance: 57073.490909090906\n",
      "Tampa Bay Buccaneers Offense Rushing Yards Minimum: 1308\n",
      "Tampa Bay Buccaneers Offense Rushing Yards Maximum: 2162\n",
      "Tampa Bay Buccaneers Offense Rushing Yards Range: 854\n",
      "Tampa Bay Buccaneers Total Rushing Yards 2012-2022: 17522\n"
     ]
    }
   ],
   "source": [
    "team_name29 = 'Tampa Bay Buccaneers'\n",
    "buccaneers_data = nflrush[nflrush['Team'] == team_name29]\n",
    "mean_value = buccaneers_data['Off RushYds'].mean()\n",
    "median_value = buccaneers_data['Off RushYds'].median()\n",
    "std_value = buccaneers_data['Off RushYds'].std()\n",
    "var_value = buccaneers_data['Off RushYds'].var()\n",
    "min_value = buccaneers_data['Off RushYds'].min()\n",
    "max_value = buccaneers_data['Off RushYds'].max()\n",
    "data_range = max_value - min_value\n",
    "total_points = buccaneers_data['Off RushYds'].sum()\n",
    "print(\"Tampa Bay Buccaneers Offense Rushing Yards Mean:\", mean_value)\n",
    "print(\"Tampa Bay Buccaneers Offense Rushing Yards Median:\", median_value)\n",
    "print(\"Tampa Bay Buccaneers Offense Rushing Yards Standard Deviation:\", std_value)\n",
    "print(\"Tampa Bay Buccaneers Offense Rushing Yards Variance:\", var_value)\n",
    "print(\"Tampa Bay Buccaneers Offense Rushing Yards Minimum:\", min_value)\n",
    "print(\"Tampa Bay Buccaneers Offense Rushing Yards Maximum:\", max_value)\n",
    "print(\"Tampa Bay Buccaneers Offense Rushing Yards Range:\", data_range)\n",
    "print(\"Tampa Bay Buccaneers Total Rushing Yards 2012-2022:\", total_points)"
   ]
  },
  {
   "cell_type": "markdown",
   "id": "751f07e6",
   "metadata": {},
   "source": [
    "### Tennessee Titans"
   ]
  },
  {
   "cell_type": "code",
   "execution_count": 40,
   "id": "3f0ecffe",
   "metadata": {},
   "outputs": [
    {
     "name": "stdout",
     "output_type": "stream",
     "text": [
      "Tennessee Titans Offense Rushing Yards Mean: 1983.090909090909\n",
      "Tennessee Titans Offense Rushing Yards Median: 1894.0\n",
      "Tennessee Titans Offense Rushing Yards Standard Deviation: 383.9331854751435\n",
      "Tennessee Titans Offense Rushing Yards Variance: 147404.69090909092\n",
      "Tennessee Titans Offense Rushing Yards Minimum: 1447\n",
      "Tennessee Titans Offense Rushing Yards Maximum: 2690\n",
      "Tennessee Titans Offense Rushing Yards Range: 1243\n",
      "Tennessee Titans Total Rushing Yards 2012-2022: 21814\n"
     ]
    }
   ],
   "source": [
    "team_name30 = 'Tennessee Titans'\n",
    "titans_data = nflrush[nflrush['Team'] == team_name30]\n",
    "mean_value = titans_data['Off RushYds'].mean()\n",
    "median_value = titans_data['Off RushYds'].median()\n",
    "std_value = titans_data['Off RushYds'].std()\n",
    "var_value = titans_data['Off RushYds'].var()\n",
    "min_value = titans_data['Off RushYds'].min()\n",
    "max_value = titans_data['Off RushYds'].max()\n",
    "data_range = max_value - min_value\n",
    "total_points = titans_data['Off RushYds'].sum()\n",
    "print(\"Tennessee Titans Offense Rushing Yards Mean:\", mean_value)\n",
    "print(\"Tennessee Titans Offense Rushing Yards Median:\", median_value)\n",
    "print(\"Tennessee Titans Offense Rushing Yards Standard Deviation:\", std_value)\n",
    "print(\"Tennessee Titans Offense Rushing Yards Variance:\", var_value)\n",
    "print(\"Tennessee Titans Offense Rushing Yards Minimum:\", min_value)\n",
    "print(\"Tennessee Titans Offense Rushing Yards Maximum:\", max_value)\n",
    "print(\"Tennessee Titans Offense Rushing Yards Range:\", data_range)\n",
    "print(\"Tennessee Titans Total Rushing Yards 2012-2022:\", total_points)"
   ]
  },
  {
   "cell_type": "markdown",
   "id": "f7e6759d",
   "metadata": {},
   "source": [
    "### Washington Commanders"
   ]
  },
  {
   "cell_type": "code",
   "execution_count": 41,
   "id": "13daf453",
   "metadata": {},
   "outputs": [
    {
     "name": "stdout",
     "output_type": "stream",
     "text": [
      "Washington Commanders Offense Rushing Yards Mean: 1829.090909090909\n",
      "Washington Commanders Offense Rushing Yards Median: 1691.0\n",
      "Washington Commanders Offense Rushing Yards Standard Deviation: 392.84970524246404\n",
      "Washington Commanders Offense Rushing Yards Variance: 154330.8909090909\n",
      "Washington Commanders Offense Rushing Yards Minimum: 1448\n",
      "Washington Commanders Offense Rushing Yards Points Maximum: 2709\n",
      "Washington Commanders Offense Rushing Yards Range: 1261\n",
      "Washington Commanders Total Rushing Yards 2012-2022: 20120\n"
     ]
    }
   ],
   "source": [
    "team_name31 = 'Washington Commanders'\n",
    "commanders_data = nflrush[nflrush['Team'] == team_name31]\n",
    "mean_value = commanders_data['Off RushYds'].mean()\n",
    "median_value = commanders_data['Off RushYds'].median()\n",
    "std_value = commanders_data['Off RushYds'].std()\n",
    "var_value = commanders_data['Off RushYds'].var()\n",
    "min_value = commanders_data['Off RushYds'].min()\n",
    "max_value = commanders_data['Off RushYds'].max()\n",
    "total_points = commanders_data['Off RushYds'].sum()\n",
    "data_range = max_value - min_value\n",
    "print(\"Washington Commanders Offense Rushing Yards Mean:\", mean_value)\n",
    "print(\"Washington Commanders Offense Rushing Yards Median:\", median_value)\n",
    "print(\"Washington Commanders Offense Rushing Yards Standard Deviation:\", std_value)\n",
    "print(\"Washington Commanders Offense Rushing Yards Variance:\", var_value)\n",
    "print(\"Washington Commanders Offense Rushing Yards Minimum:\", min_value)\n",
    "print(\"Washington Commanders Offense Rushing Yards Points Maximum:\", max_value)\n",
    "print(\"Washington Commanders Offense Rushing Yards Range:\", data_range)\n",
    "print(\"Washington Commanders Total Rushing Yards 2012-2022:\", total_points)"
   ]
  },
  {
   "cell_type": "code",
   "execution_count": null,
   "id": "9792bd95",
   "metadata": {},
   "outputs": [],
   "source": []
  }
 ],
 "metadata": {
  "kernelspec": {
   "display_name": "Python 3 (ipykernel)",
   "language": "python",
   "name": "python3"
  },
  "language_info": {
   "codemirror_mode": {
    "name": "ipython",
    "version": 3
   },
   "file_extension": ".py",
   "mimetype": "text/x-python",
   "name": "python",
   "nbconvert_exporter": "python",
   "pygments_lexer": "ipython3",
   "version": "3.9.12"
  }
 },
 "nbformat": 4,
 "nbformat_minor": 5
}

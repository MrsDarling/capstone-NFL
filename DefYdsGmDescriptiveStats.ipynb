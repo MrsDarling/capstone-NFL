{
 "cells": [
  {
   "cell_type": "markdown",
   "id": "64e0b089",
   "metadata": {},
   "source": [
    "# Descriptive Statistics for Defense Total Yards per Game for Each Team\n",
    "#### Defense Total Yards per Game = the total number of yards per game allowed by the defense side of the team. "
   ]
  },
  {
   "cell_type": "markdown",
   "id": "1894f524",
   "metadata": {},
   "source": [
    "#### Import Packages"
   ]
  },
  {
   "cell_type": "code",
   "execution_count": 1,
   "id": "3f3ad4a9",
   "metadata": {},
   "outputs": [],
   "source": [
    "import pandas as pd\n",
    "import numpy as np\n",
    "from scipy.stats import norm\n",
    "from scipy import stats"
   ]
  },
  {
   "cell_type": "markdown",
   "id": "aa44254e",
   "metadata": {},
   "source": [
    "#### Import NFL Dataset 2012-2022"
   ]
  },
  {
   "cell_type": "code",
   "execution_count": 2,
   "id": "3dd398b4",
   "metadata": {},
   "outputs": [
    {
     "data": {
      "text/html": [
       "<div>\n",
       "<style scoped>\n",
       "    .dataframe tbody tr th:only-of-type {\n",
       "        vertical-align: middle;\n",
       "    }\n",
       "\n",
       "    .dataframe tbody tr th {\n",
       "        vertical-align: top;\n",
       "    }\n",
       "\n",
       "    .dataframe thead th {\n",
       "        text-align: right;\n",
       "    }\n",
       "</style>\n",
       "<table border=\"1\" class=\"dataframe\">\n",
       "  <thead>\n",
       "    <tr style=\"text-align: right;\">\n",
       "      <th></th>\n",
       "      <th>Team</th>\n",
       "      <th>Off Tot/Pts</th>\n",
       "      <th>Off Pts/G</th>\n",
       "      <th>Off RushYds</th>\n",
       "      <th>Off RYds/G</th>\n",
       "      <th>Off PassYds</th>\n",
       "      <th>Off PYds/G</th>\n",
       "      <th>Off TotYds</th>\n",
       "      <th>Off Yds/G</th>\n",
       "      <th>Def Tot/Pts</th>\n",
       "      <th>...</th>\n",
       "      <th>Def PassYds</th>\n",
       "      <th>Def PYds/G</th>\n",
       "      <th>Def TotYds</th>\n",
       "      <th>Def Yds/G</th>\n",
       "      <th>Year</th>\n",
       "      <th>Wins</th>\n",
       "      <th>Losses</th>\n",
       "      <th>Tie</th>\n",
       "      <th>Superbowl</th>\n",
       "      <th>SB Win</th>\n",
       "    </tr>\n",
       "  </thead>\n",
       "  <tbody>\n",
       "    <tr>\n",
       "      <th>0</th>\n",
       "      <td>Arizona Cardinals</td>\n",
       "      <td>250</td>\n",
       "      <td>15.6</td>\n",
       "      <td>1204</td>\n",
       "      <td>75.2</td>\n",
       "      <td>3005</td>\n",
       "      <td>187.8</td>\n",
       "      <td>4209</td>\n",
       "      <td>263.1</td>\n",
       "      <td>357</td>\n",
       "      <td>...</td>\n",
       "      <td>3213</td>\n",
       "      <td>200.8</td>\n",
       "      <td>5405</td>\n",
       "      <td>337.8</td>\n",
       "      <td>2012</td>\n",
       "      <td>5</td>\n",
       "      <td>11</td>\n",
       "      <td>0.0</td>\n",
       "      <td>No</td>\n",
       "      <td>No</td>\n",
       "    </tr>\n",
       "    <tr>\n",
       "      <th>1</th>\n",
       "      <td>Atlanta Falcons</td>\n",
       "      <td>419</td>\n",
       "      <td>26.2</td>\n",
       "      <td>1397</td>\n",
       "      <td>87.3</td>\n",
       "      <td>4509</td>\n",
       "      <td>281.8</td>\n",
       "      <td>5906</td>\n",
       "      <td>369.1</td>\n",
       "      <td>299</td>\n",
       "      <td>...</td>\n",
       "      <td>3878</td>\n",
       "      <td>242.4</td>\n",
       "      <td>5849</td>\n",
       "      <td>365.6</td>\n",
       "      <td>2012</td>\n",
       "      <td>13</td>\n",
       "      <td>3</td>\n",
       "      <td>0.0</td>\n",
       "      <td>No</td>\n",
       "      <td>No</td>\n",
       "    </tr>\n",
       "    <tr>\n",
       "      <th>2</th>\n",
       "      <td>Baltimore Ravens</td>\n",
       "      <td>398</td>\n",
       "      <td>24.9</td>\n",
       "      <td>1901</td>\n",
       "      <td>118.8</td>\n",
       "      <td>3739</td>\n",
       "      <td>233.7</td>\n",
       "      <td>5640</td>\n",
       "      <td>352.5</td>\n",
       "      <td>344</td>\n",
       "      <td>...</td>\n",
       "      <td>3650</td>\n",
       "      <td>228.1</td>\n",
       "      <td>5615</td>\n",
       "      <td>350.9</td>\n",
       "      <td>2012</td>\n",
       "      <td>10</td>\n",
       "      <td>6</td>\n",
       "      <td>0.0</td>\n",
       "      <td>Yes</td>\n",
       "      <td>Yes</td>\n",
       "    </tr>\n",
       "    <tr>\n",
       "      <th>3</th>\n",
       "      <td>Buffalo Bills</td>\n",
       "      <td>344</td>\n",
       "      <td>21.5</td>\n",
       "      <td>2217</td>\n",
       "      <td>138.6</td>\n",
       "      <td>3269</td>\n",
       "      <td>204.3</td>\n",
       "      <td>5486</td>\n",
       "      <td>342.9</td>\n",
       "      <td>435</td>\n",
       "      <td>...</td>\n",
       "      <td>3473</td>\n",
       "      <td>217.1</td>\n",
       "      <td>5806</td>\n",
       "      <td>362.9</td>\n",
       "      <td>2012</td>\n",
       "      <td>6</td>\n",
       "      <td>10</td>\n",
       "      <td>0.0</td>\n",
       "      <td>No</td>\n",
       "      <td>No</td>\n",
       "    </tr>\n",
       "    <tr>\n",
       "      <th>4</th>\n",
       "      <td>Carolina Panthers</td>\n",
       "      <td>357</td>\n",
       "      <td>22.3</td>\n",
       "      <td>2088</td>\n",
       "      <td>130.5</td>\n",
       "      <td>3683</td>\n",
       "      <td>230.2</td>\n",
       "      <td>5771</td>\n",
       "      <td>360.7</td>\n",
       "      <td>363</td>\n",
       "      <td>...</td>\n",
       "      <td>3568</td>\n",
       "      <td>223.0</td>\n",
       "      <td>5329</td>\n",
       "      <td>333.1</td>\n",
       "      <td>2012</td>\n",
       "      <td>7</td>\n",
       "      <td>9</td>\n",
       "      <td>0.0</td>\n",
       "      <td>No</td>\n",
       "      <td>No</td>\n",
       "    </tr>\n",
       "  </tbody>\n",
       "</table>\n",
       "<p>5 rows × 23 columns</p>\n",
       "</div>"
      ],
      "text/plain": [
       "                Team  Off Tot/Pts  Off Pts/G  Off RushYds  Off RYds/G  \\\n",
       "0  Arizona Cardinals          250       15.6         1204        75.2   \n",
       "1    Atlanta Falcons          419       26.2         1397        87.3   \n",
       "2   Baltimore Ravens          398       24.9         1901       118.8   \n",
       "3      Buffalo Bills          344       21.5         2217       138.6   \n",
       "4  Carolina Panthers          357       22.3         2088       130.5   \n",
       "\n",
       "   Off PassYds  Off PYds/G  Off TotYds  Off Yds/G  Def Tot/Pts  ...  \\\n",
       "0         3005       187.8        4209      263.1          357  ...   \n",
       "1         4509       281.8        5906      369.1          299  ...   \n",
       "2         3739       233.7        5640      352.5          344  ...   \n",
       "3         3269       204.3        5486      342.9          435  ...   \n",
       "4         3683       230.2        5771      360.7          363  ...   \n",
       "\n",
       "   Def PassYds  Def PYds/G  Def TotYds  Def Yds/G  Year  Wins  Losses  Tie  \\\n",
       "0         3213       200.8        5405      337.8  2012     5      11  0.0   \n",
       "1         3878       242.4        5849      365.6  2012    13       3  0.0   \n",
       "2         3650       228.1        5615      350.9  2012    10       6  0.0   \n",
       "3         3473       217.1        5806      362.9  2012     6      10  0.0   \n",
       "4         3568       223.0        5329      333.1  2012     7       9  0.0   \n",
       "\n",
       "   Superbowl  SB Win  \n",
       "0         No      No  \n",
       "1         No      No  \n",
       "2        Yes     Yes  \n",
       "3         No      No  \n",
       "4         No      No  \n",
       "\n",
       "[5 rows x 23 columns]"
      ]
     },
     "execution_count": 2,
     "metadata": {},
     "output_type": "execute_result"
    }
   ],
   "source": [
    "nfldefenseyds = pd.read_csv('/Users/admin/Desktop/Final_Project/NFL_merged/nfl2012_2022merge.csv')\n",
    "nfldefenseyds.head()"
   ]
  },
  {
   "cell_type": "markdown",
   "id": "5392356b",
   "metadata": {},
   "source": [
    "## Calculating Descriptive Statistics by Team\n",
    "#### First filter the data by a single team - I will use the Seattle Seahawks, my favorite team, to start."
   ]
  },
  {
   "cell_type": "code",
   "execution_count": 3,
   "id": "a04399b5",
   "metadata": {},
   "outputs": [],
   "source": [
    "team_name = 'Seattle Seahawks'\n",
    "seahawks_data = nfldefenseyds[nfldefenseyds['Team'] == team_name]"
   ]
  },
  {
   "cell_type": "markdown",
   "id": "5302e0af",
   "metadata": {},
   "source": [
    "#### Display Defense total yards per game allowed by year for the Seahawks"
   ]
  },
  {
   "cell_type": "code",
   "execution_count": 4,
   "id": "1593b2f3",
   "metadata": {},
   "outputs": [
    {
     "name": "stdout",
     "output_type": "stream",
     "text": [
      "Year: 2012 \tDefense Yards/Game: 306.2\n",
      "Year: 2013 \tDefense Yards/Game: 273.6\n",
      "Year: 2014 \tDefense Yards/Game: 267.1\n",
      "Year: 2015 \tDefense Yards/Game: 291.8\n",
      "Year: 2016 \tDefense Yards/Game: 318.7\n",
      "Year: 2017 \tDefense Yards/Game: 323.2\n",
      "Year: 2018 \tDefense Yards/Game: 353.3\n",
      "Year: 2019 \tDefense Yards/Game: 381.6\n",
      "Year: 2020 \tDefense Yards/Game: 380.6\n",
      "Year: 2021 \tDefense Yards/Game: 379.1\n",
      "Year: 2022 \tDefense Yards/Game: 361.7\n"
     ]
    }
   ],
   "source": [
    "for year in seahawks_data['Year'].unique():\n",
    "    defydsgame = seahawks_data.loc[seahawks_data['Year'] == year, 'Def Yds/G'].values[0]\n",
    "    print(\"Year:\", year, \"\\tDefense Yards/Game:\", defydsgame)"
   ]
  },
  {
   "cell_type": "markdown",
   "id": "7d31b0ec",
   "metadata": {},
   "source": [
    "#### What is the mean Defense yards per game allowed for the Seahawks over all years?"
   ]
  },
  {
   "cell_type": "code",
   "execution_count": 5,
   "id": "f25f5761",
   "metadata": {},
   "outputs": [
    {
     "name": "stdout",
     "output_type": "stream",
     "text": [
      "330.62727272727267\n"
     ]
    }
   ],
   "source": [
    "yards_game = seahawks_data['Def Yds/G'].mean()\n",
    "print(yards_game)"
   ]
  },
  {
   "cell_type": "markdown",
   "id": "affecaff",
   "metadata": {},
   "source": [
    "#### Let's calculate several descriptive statistics on Total Defense Yards allowed per Game for the Seahawks"
   ]
  },
  {
   "cell_type": "code",
   "execution_count": 6,
   "id": "8ecd1adb",
   "metadata": {},
   "outputs": [
    {
     "name": "stdout",
     "output_type": "stream",
     "text": [
      "Seattle Seahawks Defense Yards/Game Mean: 330.62727272727267\n",
      "Seattle Seahawks Defense Yards/Game Median: 323.2\n",
      "Seattle Seahawks Defense Yards/Game Standard Deviation: 43.02808596507846\n",
      "Seattle Seahawks Defense Yards/Game Variance: 1851.416181818182\n",
      "Seattle Seahawks Defense Yards/Game Minimum: 267.1\n",
      "Seattle Seahawks Defense Yards/Game Maximum: 381.6\n",
      "Seattle Seahawks Defense Yards/Game Range: 114.5\n",
      "Seattle Seahawks Defense Total Yards/Game 2012-2022: 3636.8999999999996\n"
     ]
    }
   ],
   "source": [
    "mean_value = seahawks_data['Def Yds/G'].mean()\n",
    "median_value = seahawks_data['Def Yds/G'].median()\n",
    "std_value = seahawks_data['Def Yds/G'].std()\n",
    "var_value = seahawks_data['Def Yds/G'].var()\n",
    "min_value = seahawks_data['Def Yds/G'].min()\n",
    "max_value = seahawks_data['Def Yds/G'].max()\n",
    "data_range = max_value - min_value\n",
    "total_points = seahawks_data['Def Yds/G'].sum()\n",
    "print(\"Seattle Seahawks Defense Yards/Game Mean:\", mean_value)\n",
    "print(\"Seattle Seahawks Defense Yards/Game Median:\", median_value)\n",
    "print(\"Seattle Seahawks Defense Yards/Game Standard Deviation:\", std_value)\n",
    "print(\"Seattle Seahawks Defense Yards/Game Variance:\", var_value)\n",
    "print(\"Seattle Seahawks Defense Yards/Game Minimum:\", min_value)\n",
    "print(\"Seattle Seahawks Defense Yards/Game Maximum:\", max_value)\n",
    "print(\"Seattle Seahawks Defense Yards/Game Range:\", data_range)\n",
    "print(\"Seattle Seahawks Defense Total Yards/Game 2012-2022:\", total_points)"
   ]
  },
  {
   "cell_type": "markdown",
   "id": "acd533f4",
   "metadata": {},
   "source": [
    "#### Calculating all Teams Defense Yards allowed per Game by year"
   ]
  },
  {
   "cell_type": "code",
   "execution_count": 7,
   "id": "284349f5",
   "metadata": {},
   "outputs": [
    {
     "name": "stdout",
     "output_type": "stream",
     "text": [
      "Team: Arizona Cardinals \tYear: 2012 \tDefense Yards/Game: 337.8\n",
      "Team: Arizona Cardinals \tYear: 2013 \tDefense Yards/Game: 317.4\n",
      "Team: Arizona Cardinals \tYear: 2014 \tDefense Yards/Game: 368.2\n",
      "Team: Arizona Cardinals \tYear: 2015 \tDefense Yards/Game: 321.7\n",
      "Team: Arizona Cardinals \tYear: 2016 \tDefense Yards/Game: 305.2\n",
      "Team: Arizona Cardinals \tYear: 2017 \tDefense Yards/Game: 310.9\n",
      "Team: Arizona Cardinals \tYear: 2018 \tDefense Yards/Game: 358.8\n",
      "Team: Arizona Cardinals \tYear: 2019 \tDefense Yards/Game: 402.0\n",
      "Team: Arizona Cardinals \tYear: 2020 \tDefense Yards/Game: 351.9\n",
      "Team: Arizona Cardinals \tYear: 2021 \tDefense Yards/Game: 329.2\n",
      "Team: Arizona Cardinals \tYear: 2022 \tDefense Yards/Game: 348.9\n",
      "Team: Atlanta Falcons \tYear: 2012 \tDefense Yards/Game: 365.6\n",
      "Team: Atlanta Falcons \tYear: 2013 \tDefense Yards/Game: 379.4\n",
      "Team: Atlanta Falcons \tYear: 2014 \tDefense Yards/Game: 398.2\n",
      "Team: Atlanta Falcons \tYear: 2015 \tDefense Yards/Game: 347.6\n",
      "Team: Atlanta Falcons \tYear: 2016 \tDefense Yards/Game: 371.2\n",
      "Team: Atlanta Falcons \tYear: 2017 \tDefense Yards/Game: 318.4\n",
      "Team: Atlanta Falcons \tYear: 2018 \tDefense Yards/Game: 384.5\n",
      "Team: Atlanta Falcons \tYear: 2019 \tDefense Yards/Game: 355.8\n",
      "Team: Atlanta Falcons \tYear: 2020 \tDefense Yards/Game: 398.4\n",
      "Team: Atlanta Falcons \tYear: 2021 \tDefense Yards/Game: 364.4\n",
      "Team: Atlanta Falcons \tYear: 2022 \tDefense Yards/Game: 362.1\n",
      "Team: Baltimore Ravens \tYear: 2012 \tDefense Yards/Game: 350.9\n",
      "Team: Baltimore Ravens \tYear: 2013 \tDefense Yards/Game: 335.5\n",
      "Team: Baltimore Ravens \tYear: 2014 \tDefense Yards/Game: 336.9\n",
      "Team: Baltimore Ravens \tYear: 2015 \tDefense Yards/Game: 337.4\n",
      "Team: Baltimore Ravens \tYear: 2016 \tDefense Yards/Game: 322.1\n",
      "Team: Baltimore Ravens \tYear: 2017 \tDefense Yards/Game: 325.1\n",
      "Team: Baltimore Ravens \tYear: 2018 \tDefense Yards/Game: 292.9\n",
      "Team: Baltimore Ravens \tYear: 2019 \tDefense Yards/Game: 300.6\n",
      "Team: Baltimore Ravens \tYear: 2020 \tDefense Yards/Game: 329.8\n",
      "Team: Baltimore Ravens \tYear: 2021 \tDefense Yards/Game: 363.4\n",
      "Team: Baltimore Ravens \tYear: 2022 \tDefense Yards/Game: 324.3\n",
      "Team: Buffalo Bills \tYear: 2012 \tDefense Yards/Game: 362.9\n",
      "Team: Buffalo Bills \tYear: 2013 \tDefense Yards/Game: 333.4\n",
      "Team: Buffalo Bills \tYear: 2014 \tDefense Yards/Game: 312.2\n",
      "Team: Buffalo Bills \tYear: 2015 \tDefense Yards/Game: 356.4\n",
      "Team: Buffalo Bills \tYear: 2016 \tDefense Yards/Game: 357.0\n",
      "Team: Buffalo Bills \tYear: 2017 \tDefense Yards/Game: 355.1\n",
      "Team: Buffalo Bills \tYear: 2018 \tDefense Yards/Game: 294.1\n",
      "Team: Buffalo Bills \tYear: 2019 \tDefense Yards/Game: 298.2\n",
      "Team: Buffalo Bills \tYear: 2020 \tDefense Yards/Game: 352.5\n",
      "Team: Buffalo Bills \tYear: 2021 \tDefense Yards/Game: 272.8\n",
      "Team: Buffalo Bills \tYear: 2022 \tDefense Yards/Game: 319.1\n",
      "Team: Carolina Panthers \tYear: 2012 \tDefense Yards/Game: 333.1\n",
      "Team: Carolina Panthers \tYear: 2013 \tDefense Yards/Game: 301.2\n",
      "Team: Carolina Panthers \tYear: 2014 \tDefense Yards/Game: 339.8\n",
      "Team: Carolina Panthers \tYear: 2015 \tDefense Yards/Game: 322.9\n",
      "Team: Carolina Panthers \tYear: 2016 \tDefense Yards/Game: 359.8\n",
      "Team: Carolina Panthers \tYear: 2017 \tDefense Yards/Game: 317.1\n",
      "Team: Carolina Panthers \tYear: 2018 \tDefense Yards/Game: 353.2\n",
      "Team: Carolina Panthers \tYear: 2019 \tDefense Yards/Game: 374.5\n",
      "Team: Carolina Panthers \tYear: 2020 \tDefense Yards/Game: 360.1\n",
      "Team: Carolina Panthers \tYear: 2021 \tDefense Yards/Game: 305.9\n",
      "Team: Carolina Panthers \tYear: 2022 \tDefense Yards/Game: 350.2\n",
      "Team: Chicago Bears \tYear: 2012 \tDefense Yards/Game: 315.6\n",
      "Team: Chicago Bears \tYear: 2013 \tDefense Yards/Game: 394.6\n",
      "Team: Chicago Bears \tYear: 2014 \tDefense Yards/Game: 377.1\n",
      "Team: Chicago Bears \tYear: 2015 \tDefense Yards/Game: 345.4\n",
      "Team: Chicago Bears \tYear: 2016 \tDefense Yards/Game: 346.8\n",
      "Team: Chicago Bears \tYear: 2017 \tDefense Yards/Game: 319.1\n",
      "Team: Chicago Bears \tYear: 2018 \tDefense Yards/Game: 299.7\n",
      "Team: Chicago Bears \tYear: 2019 \tDefense Yards/Game: 324.1\n",
      "Team: Chicago Bears \tYear: 2020 \tDefense Yards/Game: 344.9\n",
      "Team: Chicago Bears \tYear: 2021 \tDefense Yards/Game: 316.7\n",
      "Team: Chicago Bears \tYear: 2022 \tDefense Yards/Game: 375.9\n",
      "Team: Cincinnati Bengals \tYear: 2012 \tDefense Yards/Game: 319.7\n",
      "Team: Cincinnati Bengals \tYear: 2013 \tDefense Yards/Game: 305.5\n",
      "Team: Cincinnati Bengals \tYear: 2014 \tDefense Yards/Game: 359.3\n",
      "Team: Cincinnati Bengals \tYear: 2015 \tDefense Yards/Game: 340.8\n",
      "Team: Cincinnati Bengals \tYear: 2016 \tDefense Yards/Game: 350.8\n",
      "Team: Cincinnati Bengals \tYear: 2017 \tDefense Yards/Game: 339.1\n",
      "Team: Cincinnati Bengals \tYear: 2018 \tDefense Yards/Game: 413.6\n",
      "Team: Cincinnati Bengals \tYear: 2019 \tDefense Yards/Game: 393.7\n",
      "Team: Cincinnati Bengals \tYear: 2020 \tDefense Yards/Game: 389.2\n",
      "Team: Cincinnati Bengals \tYear: 2021 \tDefense Yards/Game: 350.8\n",
      "Team: Cincinnati Bengals \tYear: 2022 \tDefense Yards/Game: 335.7\n",
      "Team: Cleveland Browns \tYear: 2012 \tDefense Yards/Game: 363.8\n",
      "Team: Cleveland Browns \tYear: 2013 \tDefense Yards/Game: 332.4\n",
      "Team: Cleveland Browns \tYear: 2014 \tDefense Yards/Game: 366.1\n",
      "Team: Cleveland Browns \tYear: 2015 \tDefense Yards/Game: 379.2\n",
      "Team: Cleveland Browns \tYear: 2016 \tDefense Yards/Game: 392.4\n",
      "Team: Cleveland Browns \tYear: 2017 \tDefense Yards/Game: 328.1\n",
      "Team: Cleveland Browns \tYear: 2018 \tDefense Yards/Game: 393.0\n",
      "Team: Cleveland Browns \tYear: 2019 \tDefense Yards/Game: 361.6\n",
      "Team: Cleveland Browns \tYear: 2020 \tDefense Yards/Game: 358.4\n",
      "Team: Cleveland Browns \tYear: 2021 \tDefense Yards/Game: 311.5\n",
      "Team: Cleveland Browns \tYear: 2022 \tDefense Yards/Game: 331.2\n",
      "Team: Dallas Cowboys \tYear: 2012 \tDefense Yards/Game: 355.4\n",
      "Team: Dallas Cowboys \tYear: 2013 \tDefense Yards/Game: 415.3\n",
      "Team: Dallas Cowboys \tYear: 2014 \tDefense Yards/Game: 355.1\n",
      "Team: Dallas Cowboys \tYear: 2015 \tDefense Yards/Game: 347.9\n",
      "Team: Dallas Cowboys \tYear: 2016 \tDefense Yards/Game: 343.9\n",
      "Team: Dallas Cowboys \tYear: 2017 \tDefense Yards/Game: 318.1\n",
      "Team: Dallas Cowboys \tYear: 2018 \tDefense Yards/Game: 329.2\n",
      "Team: Dallas Cowboys \tYear: 2019 \tDefense Yards/Game: 327.0\n",
      "Team: Dallas Cowboys \tYear: 2020 \tDefense Yards/Game: 386.4\n",
      "Team: Dallas Cowboys \tYear: 2021 \tDefense Yards/Game: 351.0\n",
      "Team: Dallas Cowboys \tYear: 2022 \tDefense Yards/Game: 330.2\n",
      "Team: Denver Broncos \tYear: 2012 \tDefense Yards/Game: 290.8\n",
      "Team: Denver Broncos \tYear: 2013 \tDefense Yards/Game: 356.0\n",
      "Team: Denver Broncos \tYear: 2014 \tDefense Yards/Game: 305.2\n",
      "Team: Denver Broncos \tYear: 2015 \tDefense Yards/Game: 283.1\n",
      "Team: Denver Broncos \tYear: 2016 \tDefense Yards/Game: 316.1\n",
      "Team: Denver Broncos \tYear: 2017 \tDefense Yards/Game: 290.0\n",
      "Team: Denver Broncos \tYear: 2018 \tDefense Yards/Game: 365.1\n",
      "Team: Denver Broncos \tYear: 2019 \tDefense Yards/Game: 337.0\n",
      "Team: Denver Broncos \tYear: 2020 \tDefense Yards/Game: 367.9\n",
      "Team: Denver Broncos \tYear: 2021 \tDefense Yards/Game: 326.1\n",
      "Team: Denver Broncos \tYear: 2022 \tDefense Yards/Game: 320.0\n",
      "Team: Detroit Lions \tYear: 2012 \tDefense Yards/Game: 341.1\n",
      "Team: Detroit Lions \tYear: 2013 \tDefense Yards/Game: 346.6\n",
      "Team: Detroit Lions \tYear: 2014 \tDefense Yards/Game: 300.9\n",
      "Team: Detroit Lions \tYear: 2015 \tDefense Yards/Game: 349.6\n",
      "Team: Detroit Lions \tYear: 2016 \tDefense Yards/Game: 354.8\n",
      "Team: Detroit Lions \tYear: 2017 \tDefense Yards/Game: 355.8\n",
      "Team: Detroit Lions \tYear: 2018 \tDefense Yards/Game: 335.0\n",
      "Team: Detroit Lions \tYear: 2019 \tDefense Yards/Game: 400.4\n",
      "Team: Detroit Lions \tYear: 2020 \tDefense Yards/Game: 419.8\n",
      "Team: Detroit Lions \tYear: 2021 \tDefense Yards/Game: 379.8\n",
      "Team: Detroit Lions \tYear: 2022 \tDefense Yards/Game: 392.4\n",
      "Team: Green Bay Packers \tYear: 2012 \tDefense Yards/Game: 336.8\n",
      "Team: Green Bay Packers \tYear: 2013 \tDefense Yards/Game: 372.2\n",
      "Team: Green Bay Packers \tYear: 2014 \tDefense Yards/Game: 346.4\n",
      "Team: Green Bay Packers \tYear: 2015 \tDefense Yards/Game: 346.7\n",
      "Team: Green Bay Packers \tYear: 2016 \tDefense Yards/Game: 363.9\n",
      "Team: Green Bay Packers \tYear: 2017 \tDefense Yards/Game: 348.9\n",
      "Team: Green Bay Packers \tYear: 2018 \tDefense Yards/Game: 354.4\n",
      "Team: Green Bay Packers \tYear: 2019 \tDefense Yards/Game: 352.6\n",
      "Team: Green Bay Packers \tYear: 2020 \tDefense Yards/Game: 334.0\n",
      "Team: Green Bay Packers \tYear: 2021 \tDefense Yards/Game: 328.2\n",
      "Team: Green Bay Packers \tYear: 2022 \tDefense Yards/Game: 336.5\n",
      "Team: Houston Texans \tYear: 2012 \tDefense Yards/Game: 323.2\n",
      "Team: Houston Texans \tYear: 2013 \tDefense Yards/Game: 317.6\n",
      "Team: Houston Texans \tYear: 2014 \tDefense Yards/Game: 348.2\n",
      "Team: Houston Texans \tYear: 2015 \tDefense Yards/Game: 310.2\n",
      "Team: Houston Texans \tYear: 2016 \tDefense Yards/Game: 301.3\n",
      "Team: Houston Texans \tYear: 2017 \tDefense Yards/Game: 346.6\n",
      "Team: Houston Texans \tYear: 2018 \tDefense Yards/Game: 343.1\n",
      "Team: Houston Texans \tYear: 2019 \tDefense Yards/Game: 388.3\n",
      "Team: Houston Texans \tYear: 2020 \tDefense Yards/Game: 416.8\n",
      "Team: Houston Texans \tYear: 2021 \tDefense Yards/Game: 384.4\n",
      "Team: Houston Texans \tYear: 2022 \tDefense Yards/Game: 379.5\n",
      "Team: Indianapolis Colts \tYear: 2012 \tDefense Yards/Game: 374.2\n",
      "Team: Indianapolis Colts \tYear: 2013 \tDefense Yards/Game: 357.1\n",
      "Team: Indianapolis Colts \tYear: 2014 \tDefense Yards/Game: 342.7\n",
      "Team: Indianapolis Colts \tYear: 2015 \tDefense Yards/Game: 379.1\n",
      "Team: Indianapolis Colts \tYear: 2016 \tDefense Yards/Game: 382.9\n",
      "Team: Indianapolis Colts \tYear: 2017 \tDefense Yards/Game: 367.1\n",
      "Team: Indianapolis Colts \tYear: 2018 \tDefense Yards/Game: 339.4\n",
      "Team: Indianapolis Colts \tYear: 2019 \tDefense Yards/Game: 346.8\n",
      "Team: Indianapolis Colts \tYear: 2020 \tDefense Yards/Game: 332.1\n",
      "Team: Indianapolis Colts \tYear: 2021 \tDefense Yards/Game: 343.2\n",
      "Team: Indianapolis Colts \tYear: 2022 \tDefense Yards/Game: 334.0\n",
      "Team: Jacksonville Jaguars \tYear: 2012 \tDefense Yards/Game: 380.5\n",
      "Team: Jacksonville Jaguars \tYear: 2013 \tDefense Yards/Game: 379.4\n",
      "Team: Jacksonville Jaguars \tYear: 2014 \tDefense Yards/Game: 370.8\n",
      "Team: Jacksonville Jaguars \tYear: 2015 \tDefense Yards/Game: 375.0\n",
      "Team: Jacksonville Jaguars \tYear: 2016 \tDefense Yards/Game: 321.7\n",
      "Team: Jacksonville Jaguars \tYear: 2017 \tDefense Yards/Game: 286.1\n",
      "Team: Jacksonville Jaguars \tYear: 2018 \tDefense Yards/Game: 311.4\n",
      "Team: Jacksonville Jaguars \tYear: 2019 \tDefense Yards/Game: 375.4\n",
      "Team: Jacksonville Jaguars \tYear: 2020 \tDefense Yards/Game: 417.7\n",
      "Team: Jacksonville Jaguars \tYear: 2021 \tDefense Yards/Game: 353.1\n",
      "Team: Jacksonville Jaguars \tYear: 2022 \tDefense Yards/Game: 353.3\n",
      "Team: Kansas City Chiefs \tYear: 2012 \tDefense Yards/Game: 356.5\n",
      "Team: Kansas City Chiefs \tYear: 2013 \tDefense Yards/Game: 367.8\n",
      "Team: Kansas City Chiefs \tYear: 2014 \tDefense Yards/Game: 330.5\n",
      "Team: Kansas City Chiefs \tYear: 2015 \tDefense Yards/Game: 329.3\n",
      "Team: Kansas City Chiefs \tYear: 2016 \tDefense Yards/Game: 368.5\n",
      "Team: Kansas City Chiefs \tYear: 2017 \tDefense Yards/Game: 365.1\n",
      "Team: Kansas City Chiefs \tYear: 2018 \tDefense Yards/Game: 405.5\n",
      "Team: Kansas City Chiefs \tYear: 2019 \tDefense Yards/Game: 349.6\n",
      "Team: Kansas City Chiefs \tYear: 2020 \tDefense Yards/Game: 358.3\n",
      "Team: Kansas City Chiefs \tYear: 2021 \tDefense Yards/Game: 368.9\n",
      "Team: Kansas City Chiefs \tYear: 2022 \tDefense Yards/Game: 328.2\n",
      "Team: Las Vegas Raiders \tYear: 2012 \tDefense Yards/Game: 354.5\n",
      "Team: Las Vegas Raiders \tYear: 2013 \tDefense Yards/Game: 363.7\n",
      "Team: Las Vegas Raiders \tYear: 2014 \tDefense Yards/Game: 357.6\n",
      "Team: Las Vegas Raiders \tYear: 2015 \tDefense Yards/Game: 363.6\n",
      "Team: Las Vegas Raiders \tYear: 2016 \tDefense Yards/Game: 375.1\n",
      "Team: Las Vegas Raiders \tYear: 2017 \tDefense Yards/Game: 350.1\n",
      "Team: Las Vegas Raiders \tYear: 2018 \tDefense Yards/Game: 381.4\n",
      "Team: Las Vegas Raiders \tYear: 2019 \tDefense Yards/Game: 354.8\n",
      "Team: Las Vegas Raiders \tYear: 2020 \tDefense Yards/Game: 389.1\n",
      "Team: Las Vegas Raiders \tYear: 2021 \tDefense Yards/Game: 337.2\n",
      "Team: Las Vegas Raiders \tYear: 2022 \tDefense Yards/Game: 365.6\n",
      "Team: Los Angeles Chargers \tYear: 2012 \tDefense Yards/Game: 326.4\n",
      "Team: Los Angeles Chargers \tYear: 2013 \tDefense Yards/Game: 366.5\n",
      "Team: Los Angeles Chargers \tYear: 2014 \tDefense Yards/Game: 338.3\n",
      "Team: Los Angeles Chargers \tYear: 2015 \tDefense Yards/Game: 361.9\n",
      "Team: Los Angeles Chargers \tYear: 2016 \tDefense Yards/Game: 347.1\n",
      "Team: Los Angeles Chargers \tYear: 2017 \tDefense Yards/Game: 328.4\n",
      "Team: Los Angeles Chargers \tYear: 2018 \tDefense Yards/Game: 333.7\n",
      "Team: Los Angeles Chargers \tYear: 2019 \tDefense Yards/Game: 313.1\n",
      "Team: Los Angeles Chargers \tYear: 2020 \tDefense Yards/Game: 343.4\n",
      "Team: Los Angeles Chargers \tYear: 2021 \tDefense Yards/Game: 360.1\n",
      "Team: Los Angeles Chargers \tYear: 2022 \tDefense Yards/Game: 346.1\n",
      "Team: Los Angeles Rams \tYear: 2012 \tDefense Yards/Game: 342.6\n",
      "Team: Los Angeles Rams \tYear: 2013 \tDefense Yards/Game: 345.0\n",
      "Team: Los Angeles Rams \tYear: 2014 \tDefense Yards/Game: 351.6\n",
      "Team: Los Angeles Rams \tYear: 2015 \tDefense Yards/Game: 367.8\n",
      "Team: Los Angeles Rams \tYear: 2016 \tDefense Yards/Game: 337.0\n",
      "Team: Los Angeles Rams \tYear: 2017 \tDefense Yards/Game: 339.5\n",
      "Team: Los Angeles Rams \tYear: 2018 \tDefense Yards/Game: 358.6\n",
      "Team: Los Angeles Rams \tYear: 2019 \tDefense Yards/Game: 339.6\n",
      "Team: Los Angeles Rams \tYear: 2020 \tDefense Yards/Game: 281.9\n",
      "Team: Los Angeles Rams \tYear: 2021 \tDefense Yards/Game: 344.9\n",
      "Team: Los Angeles Rams \tYear: 2022 \tDefense Yards/Game: 341.1\n",
      "Team: Miami Dolphins \tYear: 2012 \tDefense Yards/Game: 356.8\n",
      "Team: Miami Dolphins \tYear: 2013 \tDefense Yards/Game: 359.4\n",
      "Team: Miami Dolphins \tYear: 2014 \tDefense Yards/Game: 343.4\n",
      "Team: Miami Dolphins \tYear: 2015 \tDefense Yards/Game: 376.2\n",
      "Team: Miami Dolphins \tYear: 2016 \tDefense Yards/Game: 382.6\n",
      "Team: Miami Dolphins \tYear: 2017 \tDefense Yards/Game: 335.7\n",
      "Team: Miami Dolphins \tYear: 2018 \tDefense Yards/Game: 391.1\n",
      "Team: Miami Dolphins \tYear: 2019 \tDefense Yards/Game: 397.8\n",
      "Team: Miami Dolphins \tYear: 2020 \tDefense Yards/Game: 367.9\n",
      "Team: Miami Dolphins \tYear: 2021 \tDefense Yards/Game: 337.5\n",
      "Team: Miami Dolphins \tYear: 2022 \tDefense Yards/Game: 337.8\n",
      "Team: Minnesota Vikings \tYear: 2012 \tDefense Yards/Game: 350.0\n",
      "Team: Minnesota Vikings \tYear: 2013 \tDefense Yards/Game: 397.6\n",
      "Team: Minnesota Vikings \tYear: 2014 \tDefense Yards/Game: 344.7\n",
      "Team: Minnesota Vikings \tYear: 2015 \tDefense Yards/Game: 344.2\n",
      "Team: Minnesota Vikings \tYear: 2016 \tDefense Yards/Game: 314.9\n",
      "Team: Minnesota Vikings \tYear: 2017 \tDefense Yards/Game: 275.9\n",
      "Team: Minnesota Vikings \tYear: 2018 \tDefense Yards/Game: 309.7\n",
      "Team: Minnesota Vikings \tYear: 2019 \tDefense Yards/Game: 341.6\n",
      "Team: Minnesota Vikings \tYear: 2020 \tDefense Yards/Game: 393.2\n",
      "Team: Minnesota Vikings \tYear: 2021 \tDefense Yards/Game: 383.6\n",
      "Team: Minnesota Vikings \tYear: 2022 \tDefense Yards/Game: 388.7\n",
      "Team: New England Patriots \tYear: 2012 \tDefense Yards/Game: 373.2\n",
      "Team: New England Patriots \tYear: 2013 \tDefense Yards/Game: 373.1\n",
      "Team: New England Patriots \tYear: 2014 \tDefense Yards/Game: 344.1\n",
      "Team: New England Patriots \tYear: 2015 \tDefense Yards/Game: 339.4\n",
      "Team: New England Patriots \tYear: 2016 \tDefense Yards/Game: 326.4\n",
      "Team: New England Patriots \tYear: 2017 \tDefense Yards/Game: 366.0\n",
      "Team: New England Patriots \tYear: 2018 \tDefense Yards/Game: 359.1\n",
      "Team: New England Patriots \tYear: 2019 \tDefense Yards/Game: 275.9\n",
      "Team: New England Patriots \tYear: 2020 \tDefense Yards/Game: 353.8\n",
      "Team: New England Patriots \tYear: 2021 \tDefense Yards/Game: 310.8\n",
      "Team: New England Patriots \tYear: 2022 \tDefense Yards/Game: 322.0\n",
      "Team: New Orleans Saints \tYear: 2012 \tDefense Yards/Game: 440.1\n",
      "Team: New Orleans Saints \tYear: 2013 \tDefense Yards/Game: 305.7\n",
      "Team: New Orleans Saints \tYear: 2014 \tDefense Yards/Game: 384.0\n",
      "Team: New Orleans Saints \tYear: 2015 \tDefense Yards/Game: 413.4\n",
      "Team: New Orleans Saints \tYear: 2016 \tDefense Yards/Game: 375.4\n",
      "Team: New Orleans Saints \tYear: 2017 \tDefense Yards/Game: 336.5\n",
      "Team: New Orleans Saints \tYear: 2019 \tDefense Yards/Game: 333.1\n",
      "Team: New Orleans Saints \tYear: 2020 \tDefense Yards/Game: 310.9\n",
      "Team: New Orleans Saints \tYear: 2021 \tDefense Yards/Game: 318.2\n",
      "Team: New Orleans Saints \tYear: 2022 \tDefense Yards/Game: 314.8\n",
      "Team: New York Giants \tYear: 2012 \tDefense Yards/Game: 383.4\n",
      "Team: New York Giants \tYear: 2013 \tDefense Yards/Game: 332.2\n",
      "Team: New York Giants \tYear: 2014 \tDefense Yards/Game: 375.8\n",
      "Team: New York Giants \tYear: 2015 \tDefense Yards/Game: 420.3\n",
      "Team: New York Giants \tYear: 2016 \tDefense Yards/Game: 339.7\n",
      "Team: New York Giants \tYear: 2017 \tDefense Yards/Game: 373.2\n",
      "Team: New York Giants \tYear: 2018 \tDefense Yards/Game: 371.4\n",
      "Team: New York Giants \tYear: 2019 \tDefense Yards/Game: 377.3\n",
      "Team: New York Giants \tYear: 2020 \tDefense Yards/Game: 349.3\n",
      "Team: New York Giants \tYear: 2021 \tDefense Yards/Game: 354.8\n",
      "Team: New York Giants \tYear: 2022 \tDefense Yards/Game: 358.2\n",
      "Team: New York Jets \tYear: 2012 \tDefense Yards/Game: 323.4\n",
      "Team: New York Jets \tYear: 2013 \tDefense Yards/Game: 334.9\n",
      "Team: New York Jets \tYear: 2014 \tDefense Yards/Game: 327.2\n",
      "Team: New York Jets \tYear: 2015 \tDefense Yards/Game: 318.6\n",
      "Team: New York Jets \tYear: 2016 \tDefense Yards/Game: 342.4\n",
      "Team: New York Jets \tYear: 2017 \tDefense Yards/Game: 352.2\n",
      "Team: New York Jets \tYear: 2018 \tDefense Yards/Game: 380.4\n",
      "Team: New York Jets \tYear: 2019 \tDefense Yards/Game: 323.1\n",
      "Team: New York Jets \tYear: 2020 \tDefense Yards/Game: 387.6\n",
      "Team: New York Jets \tYear: 2021 \tDefense Yards/Game: 397.6\n",
      "Team: New York Jets \tYear: 2022 \tDefense Yards/Game: 311.1\n",
      "Team: Philadelphia Eagles \tYear: 2012 \tDefense Yards/Game: 343.2\n",
      "Team: Philadelphia Eagles \tYear: 2013 \tDefense Yards/Game: 394.0\n",
      "Team: Philadelphia Eagles \tYear: 2014 \tDefense Yards/Game: 375.6\n",
      "Team: Philadelphia Eagles \tYear: 2015 \tDefense Yards/Game: 401.6\n",
      "Team: Philadelphia Eagles \tYear: 2016 \tDefense Yards/Game: 342.8\n",
      "Team: Philadelphia Eagles \tYear: 2017 \tDefense Yards/Game: 306.5\n",
      "Team: Philadelphia Eagles \tYear: 2018 \tDefense Yards/Game: 366.2\n",
      "Team: Philadelphia Eagles \tYear: 2019 \tDefense Yards/Game: 331.7\n",
      "Team: Philadelphia Eagles \tYear: 2020 \tDefense Yards/Game: 363.1\n",
      "Team: Philadelphia Eagles \tYear: 2021 \tDefense Yards/Game: 328.8\n",
      "Team: Philadelphia Eagles \tYear: 2022 \tDefense Yards/Game: 301.5\n",
      "Team: Pittsburgh Steelers \tYear: 2012 \tDefense Yards/Game: 275.8\n",
      "Team: Pittsburgh Steelers \tYear: 2013 \tDefense Yards/Game: 337.6\n",
      "Team: Pittsburgh Steelers \tYear: 2014 \tDefense Yards/Game: 353.4\n",
      "Team: Pittsburgh Steelers \tYear: 2015 \tDefense Yards/Game: 363.1\n",
      "Team: Pittsburgh Steelers \tYear: 2016 \tDefense Yards/Game: 342.6\n",
      "Team: Pittsburgh Steelers \tYear: 2017 \tDefense Yards/Game: 306.9\n",
      "Team: Pittsburgh Steelers \tYear: 2018 \tDefense Yards/Game: 327.2\n",
      "Team: Pittsburgh Steelers \tYear: 2019 \tDefense Yards/Game: 304.1\n",
      "Team: Pittsburgh Steelers \tYear: 2020 \tDefense Yards/Game: 305.8\n",
      "Team: Pittsburgh Steelers \tYear: 2021 \tDefense Yards/Game: 361.1\n",
      "Team: Pittsburgh Steelers \tYear: 2022 \tDefense Yards/Game: 330.4\n",
      "Team: San Francisco 49ers \tYear: 2012 \tDefense Yards/Game: 294.4\n",
      "Team: San Francisco 49ers \tYear: 2013 \tDefense Yards/Game: 316.9\n",
      "Team: San Francisco 49ers \tYear: 2014 \tDefense Yards/Game: 321.4\n",
      "Team: San Francisco 49ers \tYear: 2015 \tDefense Yards/Game: 387.4\n",
      "Team: San Francisco 49ers \tYear: 2016 \tDefense Yards/Game: 406.4\n",
      "Team: San Francisco 49ers \tYear: 2017 \tDefense Yards/Game: 351.6\n",
      "Team: San Francisco 49ers \tYear: 2018 \tDefense Yards/Game: 346.6\n",
      "Team: San Francisco 49ers \tYear: 2019 \tDefense Yards/Game: 281.8\n",
      "Team: San Francisco 49ers \tYear: 2020 \tDefense Yards/Game: 314.4\n",
      "Team: San Francisco 49ers \tYear: 2021 \tDefense Yards/Game: 310.0\n",
      "Team: San Francisco 49ers \tYear: 2022 \tDefense Yards/Game: 300.6\n",
      "Team: Seattle Seahawks \tYear: 2012 \tDefense Yards/Game: 306.2\n",
      "Team: Seattle Seahawks \tYear: 2013 \tDefense Yards/Game: 273.6\n",
      "Team: Seattle Seahawks \tYear: 2014 \tDefense Yards/Game: 267.1\n",
      "Team: Seattle Seahawks \tYear: 2015 \tDefense Yards/Game: 291.8\n",
      "Team: Seattle Seahawks \tYear: 2016 \tDefense Yards/Game: 318.7\n",
      "Team: Seattle Seahawks \tYear: 2017 \tDefense Yards/Game: 323.2\n",
      "Team: Seattle Seahawks \tYear: 2018 \tDefense Yards/Game: 353.3\n",
      "Team: Seattle Seahawks \tYear: 2019 \tDefense Yards/Game: 381.6\n",
      "Team: Seattle Seahawks \tYear: 2020 \tDefense Yards/Game: 380.6\n",
      "Team: Seattle Seahawks \tYear: 2021 \tDefense Yards/Game: 379.1\n",
      "Team: Seattle Seahawks \tYear: 2022 \tDefense Yards/Game: 361.7\n",
      "Team: Tampa Bay Buccaneers \tYear: 2012 \tDefense Yards/Game: 379.9\n",
      "Team: Tampa Bay Buccaneers \tYear: 2013 \tDefense Yards/Game: 348.0\n",
      "Team: Tampa Bay Buccaneers \tYear: 2014 \tDefense Yards/Game: 368.9\n",
      "Team: Tampa Bay Buccaneers \tYear: 2015 \tDefense Yards/Game: 340.4\n",
      "Team: Tampa Bay Buccaneers \tYear: 2016 \tDefense Yards/Game: 367.9\n",
      "Team: Tampa Bay Buccaneers \tYear: 2017 \tDefense Yards/Game: 378.1\n",
      "Team: Tampa Bay Buccaneers \tYear: 2018 \tDefense Yards/Game: 383.4\n",
      "Team: Tampa Bay Buccaneers \tYear: 2019 \tDefense Yards/Game: 343.9\n",
      "Team: Tampa Bay Buccaneers \tYear: 2020 \tDefense Yards/Game: 327.1\n",
      "Team: Tampa Bay Buccaneers \tYear: 2021 \tDefense Yards/Game: 331.5\n",
      "Team: Tampa Bay Buccaneers \tYear: 2022 \tDefense Yards/Game: 324.3\n",
      "Team: Tennessee Titans \tYear: 2012 \tDefense Yards/Game: 374.9\n",
      "Team: Tennessee Titans \tYear: 2013 \tDefense Yards/Game: 337.9\n",
      "Team: Tennessee Titans \tYear: 2014 \tDefense Yards/Game: 373.0\n",
      "Team: Tennessee Titans \tYear: 2015 \tDefense Yards/Game: 342.2\n",
      "Team: Tennessee Titans \tYear: 2016 \tDefense Yards/Game: 357.5\n",
      "Team: Tennessee Titans \tYear: 2017 \tDefense Yards/Game: 328.0\n",
      "Team: Tennessee Titans \tYear: 2018 \tDefense Yards/Game: 333.4\n",
      "Team: Tennessee Titans \tYear: 2019 \tDefense Yards/Game: 359.5\n",
      "Team: Tennessee Titans \tYear: 2020 \tDefense Yards/Game: 398.2\n",
      "Team: Tennessee Titans \tYear: 2021 \tDefense Yards/Game: 329.8\n",
      "Team: Tennessee Titans \tYear: 2022 \tDefense Yards/Game: 351.6\n",
      "Team: Washington Commanders \tYear: 2012 \tDefense Yards/Game: 377.7\n",
      "Team: Washington Commanders \tYear: 2013 \tDefense Yards/Game: 354.1\n",
      "Team: Washington Commanders \tYear: 2014 \tDefense Yards/Game: 357.0\n"
     ]
    },
    {
     "name": "stdout",
     "output_type": "stream",
     "text": [
      "Team: Washington Commanders \tYear: 2015 \tDefense Yards/Game: 380.6\n",
      "Team: Washington Commanders \tYear: 2016 \tDefense Yards/Game: 377.9\n",
      "Team: Washington Commanders \tYear: 2017 \tDefense Yards/Game: 347.9\n",
      "Team: Washington Commanders \tYear: 2018 \tDefense Yards/Game: 353.4\n",
      "Team: Washington Commanders \tYear: 2019 \tDefense Yards/Game: 385.1\n",
      "Team: Washington Commanders \tYear: 2020 \tDefense Yards/Game: 304.6\n",
      "Team: Washington Commanders \tYear: 2021 \tDefense Yards/Game: 359.3\n",
      "Team: Washington Commanders \tYear: 2022 \tDefense Yards/Game: 304.6\n"
     ]
    }
   ],
   "source": [
    "team_names = nfldefenseyds['Team'].unique()\n",
    "\n",
    "# Iterate over each team\n",
    "for team_name in team_names:\n",
    "    team_data = nfldefenseyds[nfldefenseyds['Team'] == team_name]\n",
    "    \n",
    "    # Display the total Defense yards/game for each year\n",
    "    for year in team_data['Year'].unique():\n",
    "        total_ydsgame = team_data.loc[team_data['Year'] == year, 'Def Yds/G'].values[0]\n",
    "        print(\"Team:\", team_name, \"\\tYear:\", year, \"\\tDefense Yards/Game:\", total_ydsgame)"
   ]
  },
  {
   "cell_type": "markdown",
   "id": "0ce07e61",
   "metadata": {},
   "source": [
    "#### Calculate Descriptive Statistics on  Total Defense Yards allowed per game for all Teams. These statistics are the yards allowed and their mean, median, standard deviation, variance, min, max, range, and sum."
   ]
  },
  {
   "cell_type": "markdown",
   "id": "a5d88358",
   "metadata": {},
   "source": [
    "### Arizona Cardinals"
   ]
  },
  {
   "cell_type": "code",
   "execution_count": 8,
   "id": "eff7694d",
   "metadata": {},
   "outputs": [
    {
     "name": "stdout",
     "output_type": "stream",
     "text": [
      "Arizona Cardinals Defense Yards/Game Mean: 341.0909090909091\n",
      "Arizona Cardinals Defense Yards/Game Median: 337.8\n",
      "Arizona Cardinals Defense Yards/Game Standard Deviation: 28.67993914029298\n",
      "Arizona Cardinals Defense Yards/Game Variance: 822.5389090909093\n",
      "Arizona Cardinals Defense Yards/Game Minimum: 305.2\n",
      "Arizona Cardinals Defense Yards/Game Maximum: 402.0\n",
      "Arizona Cardinals Defense Yards/Game Range: 96.80000000000001\n",
      "Arizona Cardinals Defense Total Yards/Game 2012-2022: 3752.0\n"
     ]
    }
   ],
   "source": [
    "team_name1 = 'Arizona Cardinals'\n",
    "cardinals_data = nfldefenseyds[nfldefenseyds['Team'] == team_name1]\n",
    "mean_value = cardinals_data['Def Yds/G'].mean()\n",
    "median_value = cardinals_data['Def Yds/G'].median()\n",
    "std_value = cardinals_data['Def Yds/G'].std()\n",
    "var_value = cardinals_data['Def Yds/G'].var()\n",
    "min_value = cardinals_data['Def Yds/G'].min()\n",
    "max_value = cardinals_data['Def Yds/G'].max()\n",
    "data_range = max_value - min_value\n",
    "total_points = cardinals_data['Def Yds/G'].sum()\n",
    "print(\"Arizona Cardinals Defense Yards/Game Mean:\", mean_value)\n",
    "print(\"Arizona Cardinals Defense Yards/Game Median:\", median_value)\n",
    "print(\"Arizona Cardinals Defense Yards/Game Standard Deviation:\", std_value)\n",
    "print(\"Arizona Cardinals Defense Yards/Game Variance:\", var_value)\n",
    "print(\"Arizona Cardinals Defense Yards/Game Minimum:\", min_value)\n",
    "print(\"Arizona Cardinals Defense Yards/Game Maximum:\", max_value)\n",
    "print(\"Arizona Cardinals Defense Yards/Game Range:\", data_range)\n",
    "print(\"Arizona Cardinals Defense Total Yards/Game 2012-2022:\", total_points)"
   ]
  },
  {
   "cell_type": "markdown",
   "id": "4c5aba1a",
   "metadata": {},
   "source": [
    "### Atlanta Falcons"
   ]
  },
  {
   "cell_type": "code",
   "execution_count": 9,
   "id": "7b8a311f",
   "metadata": {},
   "outputs": [
    {
     "name": "stdout",
     "output_type": "stream",
     "text": [
      "Atlanta Falcons Defense Yards/Game Mean: 367.7818181818182\n",
      "Atlanta Falcons Defense Yards/Game Median: 365.6\n",
      "Atlanta Falcons Defense Yards/Game Standard Deviation: 23.079896801407845\n",
      "Atlanta Falcons Defense Yards/Game Variance: 532.6816363636361\n",
      "Atlanta Falcons Defense Yards/Game Minimum: 318.4\n",
      "Atlanta Falcons Defense Yards/Game Maximum: 398.4\n",
      "Atlanta Falcons Defense Yards/Game Range: 80.0\n",
      "Atlanta Falcons Defense Total Yards/Game 2012-2022: 4045.6\n"
     ]
    }
   ],
   "source": [
    "team_name2 = 'Atlanta Falcons'\n",
    "falcons_data = nfldefenseyds[nfldefenseyds['Team'] == team_name2]\n",
    "mean_value = falcons_data['Def Yds/G'].mean()\n",
    "median_value = falcons_data['Def Yds/G'].median()\n",
    "std_value = falcons_data['Def Yds/G'].std()\n",
    "var_value = falcons_data['Def Yds/G'].var()\n",
    "min_value = falcons_data['Def Yds/G'].min()\n",
    "max_value = falcons_data['Def Yds/G'].max()\n",
    "data_range = max_value - min_value\n",
    "total_points = falcons_data['Def Yds/G'].sum()\n",
    "print(\"Atlanta Falcons Defense Yards/Game Mean:\", mean_value)\n",
    "print(\"Atlanta Falcons Defense Yards/Game Median:\", median_value)\n",
    "print(\"Atlanta Falcons Defense Yards/Game Standard Deviation:\", std_value)\n",
    "print(\"Atlanta Falcons Defense Yards/Game Variance:\", var_value)\n",
    "print(\"Atlanta Falcons Defense Yards/Game Minimum:\", min_value)\n",
    "print(\"Atlanta Falcons Defense Yards/Game Maximum:\", max_value)\n",
    "print(\"Atlanta Falcons Defense Yards/Game Range:\", data_range)\n",
    "print(\"Atlanta Falcons Defense Total Yards/Game 2012-2022:\", total_points)"
   ]
  },
  {
   "cell_type": "markdown",
   "id": "14929972",
   "metadata": {},
   "source": [
    "### Baltimore Ravens"
   ]
  },
  {
   "cell_type": "code",
   "execution_count": 10,
   "id": "876ccfea",
   "metadata": {},
   "outputs": [
    {
     "name": "stdout",
     "output_type": "stream",
     "text": [
      "Baltimore Ravens Defense  Yards/Game Mean: 328.9909090909091\n",
      "Baltimore Ravens Defense  Yards/Game Median: 329.8\n",
      "Baltimore Ravens Defense  Yards/Game Standard Deviation: 20.083598011584197\n",
      "Baltimore Ravens Defense  Yards/Game Variance: 403.3509090909088\n",
      "Baltimore Ravens Defense  Yards/Game Minimum: 292.9\n",
      "Baltimore Ravens Defense  Yards/Game Maximum: 363.4\n",
      "Baltimore Ravens Defense  Yards/Game  Range: 70.5\n",
      "Baltimore Ravens Defense Total  Yards/Game 2012-2022: 3618.9\n"
     ]
    }
   ],
   "source": [
    "team_name3 = 'Baltimore Ravens'\n",
    "ravens_data = nfldefenseyds[nfldefenseyds['Team'] == team_name3]\n",
    "mean_value = ravens_data['Def Yds/G'].mean()\n",
    "median_value = ravens_data['Def Yds/G'].median()\n",
    "std_value = ravens_data['Def Yds/G'].std()\n",
    "var_value = ravens_data['Def Yds/G'].var()\n",
    "min_value = ravens_data['Def Yds/G'].min()\n",
    "max_value = ravens_data['Def Yds/G'].max()\n",
    "data_range = max_value - min_value\n",
    "total_points = ravens_data['Def Yds/G'].sum()\n",
    "print(\"Baltimore Ravens Defense  Yards/Game Mean:\", mean_value)\n",
    "print(\"Baltimore Ravens Defense  Yards/Game Median:\", median_value)\n",
    "print(\"Baltimore Ravens Defense  Yards/Game Standard Deviation:\", std_value)\n",
    "print(\"Baltimore Ravens Defense  Yards/Game Variance:\", var_value)\n",
    "print(\"Baltimore Ravens Defense  Yards/Game Minimum:\", min_value)\n",
    "print(\"Baltimore Ravens Defense  Yards/Game Maximum:\", max_value)\n",
    "print(\"Baltimore Ravens Defense  Yards/Game  Range:\", data_range)\n",
    "print(\"Baltimore Ravens Defense Total  Yards/Game 2012-2022:\", total_points)"
   ]
  },
  {
   "cell_type": "markdown",
   "id": "cbeb8f84",
   "metadata": {},
   "source": [
    "### Buffalo Bills"
   ]
  },
  {
   "cell_type": "code",
   "execution_count": 11,
   "id": "a2dff34e",
   "metadata": {},
   "outputs": [
    {
     "name": "stdout",
     "output_type": "stream",
     "text": [
      "Buffalo Bills Defense  Yards/Game Mean: 328.5181818181818\n",
      "Buffalo Bills Defense  Yards/Game  Median: 333.4\n",
      "Buffalo Bills Defense  Yards/Game Standard Deviation: 31.047667164597662\n",
      "Buffalo Bills Defense  Yards/Game Variance: 963.9576363636359\n",
      "Buffalo Bills Defense  Yards/Game Minimum: 272.8\n",
      "Buffalo Bills Defense  Yards/Game Maximum: 362.9\n",
      "Buffalo Bills Defense  Yards/Game Range: 90.09999999999997\n",
      "Buffalo Bills Defense Total  Yards/Game 2012-2022: 3613.7000000000003\n"
     ]
    }
   ],
   "source": [
    "team_name4 = 'Buffalo Bills'\n",
    "bills_data = nfldefenseyds[nfldefenseyds['Team'] == team_name4]\n",
    "mean_value = bills_data['Def Yds/G'].mean()\n",
    "median_value = bills_data['Def Yds/G'].median()\n",
    "std_value = bills_data['Def Yds/G'].std()\n",
    "var_value = bills_data['Def Yds/G'].var()\n",
    "min_value = bills_data['Def Yds/G'].min()\n",
    "max_value = bills_data['Def Yds/G'].max()\n",
    "data_range = max_value - min_value\n",
    "total_points = bills_data['Def Yds/G'].sum()\n",
    "print(\"Buffalo Bills Defense  Yards/Game Mean:\", mean_value)\n",
    "print(\"Buffalo Bills Defense  Yards/Game  Median:\", median_value)\n",
    "print(\"Buffalo Bills Defense  Yards/Game Standard Deviation:\", std_value)\n",
    "print(\"Buffalo Bills Defense  Yards/Game Variance:\", var_value)\n",
    "print(\"Buffalo Bills Defense  Yards/Game Minimum:\", min_value)\n",
    "print(\"Buffalo Bills Defense  Yards/Game Maximum:\", max_value)\n",
    "print(\"Buffalo Bills Defense  Yards/Game Range:\", data_range)\n",
    "print(\"Buffalo Bills Defense Total  Yards/Game 2012-2022:\", total_points)"
   ]
  },
  {
   "cell_type": "markdown",
   "id": "6c092b0b",
   "metadata": {},
   "source": [
    "### Carolina Panthers"
   ]
  },
  {
   "cell_type": "code",
   "execution_count": 12,
   "id": "2a9fa187",
   "metadata": {},
   "outputs": [
    {
     "name": "stdout",
     "output_type": "stream",
     "text": [
      "Carolina Panthers Defense  Yards/Game Mean: 337.98181818181814\n",
      "Carolina Panthers Defense  Yards/Game Median: 339.8\n",
      "Carolina Panthers Defense  Yards/Game Standard Deviation: 23.984362329727187\n",
      "Carolina Panthers Defense  Yards/Game Variance: 575.2496363636366\n",
      "Carolina Panthers Defense  Yards/Game Minimum: 301.2\n",
      "Carolina Panthers Defense  Yards/Game Maximum: 374.5\n",
      "Carolina Panthers Defense  Yards/Game Range: 73.30000000000001\n",
      "Carolina Panthers Defense Total  Yards/Game 2012-2022: 3717.8\n"
     ]
    }
   ],
   "source": [
    "team_name5 = 'Carolina Panthers'\n",
    "panthers_data = nfldefenseyds[nfldefenseyds['Team'] == team_name5]\n",
    "mean_value = panthers_data['Def Yds/G'].mean()\n",
    "median_value = panthers_data['Def Yds/G'].median()\n",
    "std_value = panthers_data['Def Yds/G'].std()\n",
    "var_value = panthers_data['Def Yds/G'].var()\n",
    "min_value = panthers_data['Def Yds/G'].min()\n",
    "max_value = panthers_data['Def Yds/G'].max()\n",
    "data_range = max_value - min_value\n",
    "total_points = panthers_data['Def Yds/G'].sum()\n",
    "print(\"Carolina Panthers Defense  Yards/Game Mean:\", mean_value)\n",
    "print(\"Carolina Panthers Defense  Yards/Game Median:\", median_value)\n",
    "print(\"Carolina Panthers Defense  Yards/Game Standard Deviation:\", std_value)\n",
    "print(\"Carolina Panthers Defense  Yards/Game Variance:\", var_value)\n",
    "print(\"Carolina Panthers Defense  Yards/Game Minimum:\", min_value)\n",
    "print(\"Carolina Panthers Defense  Yards/Game Maximum:\", max_value)\n",
    "print(\"Carolina Panthers Defense  Yards/Game Range:\", data_range)\n",
    "print(\"Carolina Panthers Defense Total  Yards/Game 2012-2022:\", total_points)"
   ]
  },
  {
   "cell_type": "markdown",
   "id": "858a652d",
   "metadata": {},
   "source": [
    "### Chicago Bears"
   ]
  },
  {
   "cell_type": "code",
   "execution_count": 13,
   "id": "b81312df",
   "metadata": {},
   "outputs": [
    {
     "name": "stdout",
     "output_type": "stream",
     "text": [
      "Chicago Bears Defense  Yards/Game Mean: 341.8090909090909\n",
      "Chicago Bears Defense  Yards/Game Median: 344.9\n",
      "Chicago Bears Defense  Yards/Game Standard Deviation: 30.268381342432388\n",
      "Chicago Bears Defense  Yards/Game Variance: 916.1749090909092\n",
      "Chicago Bears Defense  Yards/Game Minimum: 299.7\n",
      "Chicago Bears Defense  Yards/Game Maximum: 394.6\n",
      "Chicago Bears Defense  Yards/Game Range: 94.90000000000003\n",
      "Chicago Bears Defense Total  Yards/Game 2012-2022: 3759.9\n"
     ]
    }
   ],
   "source": [
    "team_name6 = 'Chicago Bears'\n",
    "bears_data = nfldefenseyds[nfldefenseyds['Team'] == team_name6]\n",
    "mean_value = bears_data['Def Yds/G'].mean()\n",
    "median_value = bears_data['Def Yds/G'].median()\n",
    "std_value = bears_data['Def Yds/G'].std()\n",
    "var_value = bears_data['Def Yds/G'].var()\n",
    "min_value = bears_data['Def Yds/G'].min()\n",
    "max_value = bears_data['Def Yds/G'].max()\n",
    "data_range = max_value - min_value\n",
    "total_points = bears_data['Def Yds/G'].sum()\n",
    "print(\"Chicago Bears Defense  Yards/Game Mean:\", mean_value)\n",
    "print(\"Chicago Bears Defense  Yards/Game Median:\", median_value)\n",
    "print(\"Chicago Bears Defense  Yards/Game Standard Deviation:\", std_value)\n",
    "print(\"Chicago Bears Defense  Yards/Game Variance:\", var_value)\n",
    "print(\"Chicago Bears Defense  Yards/Game Minimum:\", min_value)\n",
    "print(\"Chicago Bears Defense  Yards/Game Maximum:\", max_value)\n",
    "print(\"Chicago Bears Defense  Yards/Game Range:\", data_range)\n",
    "print(\"Chicago Bears Defense Total  Yards/Game 2012-2022:\", total_points)"
   ]
  },
  {
   "cell_type": "markdown",
   "id": "a2828e1a",
   "metadata": {},
   "source": [
    "### Cincinnati Bengals"
   ]
  },
  {
   "cell_type": "code",
   "execution_count": 14,
   "id": "73916fc5",
   "metadata": {},
   "outputs": [
    {
     "name": "stdout",
     "output_type": "stream",
     "text": [
      "Cincinnati Bengals Defense  Yards/Game Mean: 354.3818181818181\n",
      "Cincinnati Bengals Defense  Yards/Game Median: 350.8\n",
      "Cincinnati Bengals Defense  Yards/Game Standard Deviation: 32.671296827087176\n",
      "Cincinnati Bengals Defense  Yards/Game Variance: 1067.4136363636364\n",
      "Cincinnati Bengals Defense  Yards/Game Minimum: 305.5\n",
      "Cincinnati Bengals Defense  Yards/Game Maximum: 413.6\n",
      "Cincinnati Bengals Defense  Yards/Game Range: 108.10000000000002\n",
      "Cincinnati Bengals Defense Total  Yards/Game 2012-2022: 3898.2\n"
     ]
    }
   ],
   "source": [
    "team_name7 = 'Cincinnati Bengals'\n",
    "bengals_data = nfldefenseyds[nfldefenseyds['Team'] == team_name7]\n",
    "mean_value = bengals_data['Def Yds/G'].mean()\n",
    "median_value = bengals_data['Def Yds/G'].median()\n",
    "std_value = bengals_data['Def Yds/G'].std()\n",
    "var_value = bengals_data['Def Yds/G'].var()\n",
    "min_value = bengals_data['Def Yds/G'].min()\n",
    "max_value = bengals_data['Def Yds/G'].max()\n",
    "data_range = max_value - min_value\n",
    "total_points = bengals_data['Def Yds/G'].sum()\n",
    "print(\"Cincinnati Bengals Defense  Yards/Game Mean:\", mean_value)\n",
    "print(\"Cincinnati Bengals Defense  Yards/Game Median:\", median_value)\n",
    "print(\"Cincinnati Bengals Defense  Yards/Game Standard Deviation:\", std_value)\n",
    "print(\"Cincinnati Bengals Defense  Yards/Game Variance:\", var_value)\n",
    "print(\"Cincinnati Bengals Defense  Yards/Game Minimum:\", min_value)\n",
    "print(\"Cincinnati Bengals Defense  Yards/Game Maximum:\", max_value)\n",
    "print(\"Cincinnati Bengals Defense  Yards/Game Range:\", data_range)\n",
    "print(\"Cincinnati Bengals Defense Total  Yards/Game 2012-2022:\", total_points)"
   ]
  },
  {
   "cell_type": "markdown",
   "id": "cd9c647d",
   "metadata": {},
   "source": [
    "### Cleveland Browns"
   ]
  },
  {
   "cell_type": "code",
   "execution_count": 15,
   "id": "cc674e4a",
   "metadata": {},
   "outputs": [
    {
     "name": "stdout",
     "output_type": "stream",
     "text": [
      "Cleveland Browns Defense  Yards/Game Mean: 356.1545454545454\n",
      "Cleveland Browns Defense  Yards/Game Median: 361.6\n",
      "Cleveland Browns Defense  Yards/Game Standard Deviation: 27.13405106637649\n",
      "Cleveland Browns Defense  Yards/Game Variance: 736.2567272727272\n",
      "Cleveland Browns Defense  Yards/Game Minimum: 311.5\n",
      "Cleveland Browns Defense  Yards/Game Maximum: 393.0\n",
      "Cleveland Browns Defense  Yards/Game Range: 81.5\n",
      "Cleveland Browns Defense Total  Yards/Game 2012-2022: 3917.7\n"
     ]
    }
   ],
   "source": [
    "team_name8 = 'Cleveland Browns'\n",
    "browns_data = nfldefenseyds[nfldefenseyds['Team'] == team_name8]\n",
    "mean_value = browns_data['Def Yds/G'].mean()\n",
    "median_value = browns_data['Def Yds/G'].median()\n",
    "std_value = browns_data['Def Yds/G'].std()\n",
    "var_value = browns_data['Def Yds/G'].var()\n",
    "min_value = browns_data['Def Yds/G'].min()\n",
    "max_value = browns_data['Def Yds/G'].max()\n",
    "data_range = max_value - min_value\n",
    "total_points = browns_data['Def Yds/G'].sum()\n",
    "print(\"Cleveland Browns Defense  Yards/Game Mean:\", mean_value)\n",
    "print(\"Cleveland Browns Defense  Yards/Game Median:\", median_value)\n",
    "print(\"Cleveland Browns Defense  Yards/Game Standard Deviation:\", std_value)\n",
    "print(\"Cleveland Browns Defense  Yards/Game Variance:\", var_value)\n",
    "print(\"Cleveland Browns Defense  Yards/Game Minimum:\", min_value)\n",
    "print(\"Cleveland Browns Defense  Yards/Game Maximum:\", max_value)\n",
    "print(\"Cleveland Browns Defense  Yards/Game Range:\", data_range)\n",
    "print(\"Cleveland Browns Defense Total  Yards/Game 2012-2022:\", total_points)"
   ]
  },
  {
   "cell_type": "markdown",
   "id": "1c16192f",
   "metadata": {},
   "source": [
    "### Dallas Cowboys"
   ]
  },
  {
   "cell_type": "code",
   "execution_count": 16,
   "id": "3af6131b",
   "metadata": {},
   "outputs": [
    {
     "name": "stdout",
     "output_type": "stream",
     "text": [
      "Dallas Cowboys Defense  Yards/Game Mean: 350.8636363636364\n",
      "Dallas Cowboys Defense  Yards/Game Median: 347.9\n",
      "Dallas Cowboys Defense  Yards/Game Standard Deviation: 28.372390548816032\n",
      "Dallas Cowboys Defense  Yards/Game Variance: 804.9925454545454\n",
      "Dallas Cowboys Defense  Yards/Game Minimum: 318.1\n",
      "Dallas Cowboys Defense  Yards/Game Maximum: 415.3\n",
      "Dallas Cowboys Defense  Yards/Game Range: 97.19999999999999\n",
      "Dallas Cowboys Defense Total  Yards/Game 2012-2022: 3859.5\n"
     ]
    }
   ],
   "source": [
    "team_name9 = 'Dallas Cowboys'\n",
    "cowboys_data = nfldefenseyds[nfldefenseyds['Team'] == team_name9]\n",
    "mean_value = cowboys_data['Def Yds/G'].mean()\n",
    "median_value = cowboys_data['Def Yds/G'].median()\n",
    "std_value = cowboys_data['Def Yds/G'].std()\n",
    "var_value = cowboys_data['Def Yds/G'].var()\n",
    "min_value = cowboys_data['Def Yds/G'].min()\n",
    "max_value = cowboys_data['Def Yds/G'].max()\n",
    "data_range = max_value - min_value\n",
    "total_points = cowboys_data['Def Yds/G'].sum()\n",
    "print(\"Dallas Cowboys Defense  Yards/Game Mean:\", mean_value)\n",
    "print(\"Dallas Cowboys Defense  Yards/Game Median:\", median_value)\n",
    "print(\"Dallas Cowboys Defense  Yards/Game Standard Deviation:\", std_value)\n",
    "print(\"Dallas Cowboys Defense  Yards/Game Variance:\", var_value)\n",
    "print(\"Dallas Cowboys Defense  Yards/Game Minimum:\", min_value)\n",
    "print(\"Dallas Cowboys Defense  Yards/Game Maximum:\", max_value)\n",
    "print(\"Dallas Cowboys Defense  Yards/Game Range:\", data_range)\n",
    "print(\"Dallas Cowboys Defense Total  Yards/Game 2012-2022:\", total_points)"
   ]
  },
  {
   "cell_type": "markdown",
   "id": "392f307a",
   "metadata": {},
   "source": [
    "### Denver Broncos"
   ]
  },
  {
   "cell_type": "code",
   "execution_count": 17,
   "id": "772db3e8",
   "metadata": {},
   "outputs": [
    {
     "name": "stdout",
     "output_type": "stream",
     "text": [
      "Denver Broncos Defense  Yards/Game Mean: 323.3909090909091\n",
      "Denver Broncos Defense  Yards/Game Median: 320.0\n",
      "Denver Broncos Defense  Yards/Game Standard Deviation: 30.286381578044427\n",
      "Denver Broncos Defense  Yards/Game Variance: 917.2649090909088\n",
      "Denver Broncos Defense  Yards/Game Minimum: 283.1\n",
      "Denver Broncos Defense  Yards/Game Maximum: 367.9\n",
      "Denver Broncos Defense  Yards/Game Range: 84.79999999999995\n",
      "Denver Broncos Defense Total  Yards/Game 2012-2022: 3557.3\n"
     ]
    }
   ],
   "source": [
    "team_name10 = 'Denver Broncos'\n",
    "broncos_data = nfldefenseyds[nfldefenseyds['Team'] == team_name10]\n",
    "mean_value = broncos_data['Def Yds/G'].mean()\n",
    "median_value = broncos_data['Def Yds/G'].median()\n",
    "std_value = broncos_data['Def Yds/G'].std()\n",
    "var_value = broncos_data['Def Yds/G'].var()\n",
    "min_value = broncos_data['Def Yds/G'].min()\n",
    "max_value = broncos_data['Def Yds/G'].max()\n",
    "data_range = max_value - min_value\n",
    "total_points = broncos_data['Def Yds/G'].sum()\n",
    "print(\"Denver Broncos Defense  Yards/Game Mean:\", mean_value)\n",
    "print(\"Denver Broncos Defense  Yards/Game Median:\", median_value)\n",
    "print(\"Denver Broncos Defense  Yards/Game Standard Deviation:\", std_value)\n",
    "print(\"Denver Broncos Defense  Yards/Game Variance:\", var_value)\n",
    "print(\"Denver Broncos Defense  Yards/Game Minimum:\", min_value)\n",
    "print(\"Denver Broncos Defense  Yards/Game Maximum:\", max_value)\n",
    "print(\"Denver Broncos Defense  Yards/Game Range:\", data_range)\n",
    "print(\"Denver Broncos Defense Total  Yards/Game 2012-2022:\", total_points)"
   ]
  },
  {
   "cell_type": "markdown",
   "id": "83cf2dc4",
   "metadata": {},
   "source": [
    "### Detroit Lions"
   ]
  },
  {
   "cell_type": "code",
   "execution_count": 18,
   "id": "fdd07485",
   "metadata": {},
   "outputs": [
    {
     "name": "stdout",
     "output_type": "stream",
     "text": [
      "Detroit Lions Defense  Yards/Game Mean: 361.47272727272735\n",
      "Detroit Lions Defense  Yards/Games Median: 354.8\n",
      "Detroit Lions Defense  Yards/Game Standard Deviation: 33.813550269354764\n",
      "Detroit Lions Defense  Yards/Game Variance: 1143.3561818181818\n",
      "Detroit Lions Defense  Yards/Game Minimum: 300.9\n",
      "Detroit Lions Defense  Yards/Game Maximum: 419.8\n",
      "Detroit Lions Defense  Yards/Game Range: 118.90000000000003\n",
      "Detroit Lions Defense Total  Yards/Game 2012-2022: 3976.2000000000003\n"
     ]
    }
   ],
   "source": [
    "team_name11 = 'Detroit Lions'\n",
    "lions_data = nfldefenseyds[nfldefenseyds['Team'] == team_name11]\n",
    "mean_value = lions_data['Def Yds/G'].mean()\n",
    "median_value = lions_data['Def Yds/G'].median()\n",
    "std_value = lions_data['Def Yds/G'].std()\n",
    "var_value = lions_data['Def Yds/G'].var()\n",
    "min_value = lions_data['Def Yds/G'].min()\n",
    "max_value = lions_data['Def Yds/G'].max()\n",
    "data_range = max_value - min_value\n",
    "total_points = lions_data['Def Yds/G'].sum()\n",
    "print(\"Detroit Lions Defense  Yards/Game Mean:\", mean_value)\n",
    "print(\"Detroit Lions Defense  Yards/Games Median:\", median_value)\n",
    "print(\"Detroit Lions Defense  Yards/Game Standard Deviation:\", std_value)\n",
    "print(\"Detroit Lions Defense  Yards/Game Variance:\", var_value)\n",
    "print(\"Detroit Lions Defense  Yards/Game Minimum:\", min_value)\n",
    "print(\"Detroit Lions Defense  Yards/Game Maximum:\", max_value)\n",
    "print(\"Detroit Lions Defense  Yards/Game Range:\", data_range)\n",
    "print(\"Detroit Lions Defense Total  Yards/Game 2012-2022:\", total_points)"
   ]
  },
  {
   "cell_type": "markdown",
   "id": "01e8538f",
   "metadata": {},
   "source": [
    "### Green Bay Packers"
   ]
  },
  {
   "cell_type": "code",
   "execution_count": 19,
   "id": "a88a7841",
   "metadata": {},
   "outputs": [
    {
     "name": "stdout",
     "output_type": "stream",
     "text": [
      "Green Bay Packers Defense  Yards/Game Mean: 347.3272727272727\n",
      "Green Bay Packers Defense  Yards/Game Median: 346.7\n",
      "Green Bay Packers Defense  Yards/Game Standard Deviation: 13.215074037559596\n",
      "Green Bay Packers Defense  Yards/Game Variance: 174.6381818181817\n",
      "Green Bay Packers Defense  Yards/Game Minimum: 328.2\n",
      "Green Bay Packers Defense  Yards/Game Maximum: 372.2\n",
      "Green Bay Packers Defense  Yards/Game Range: 44.0\n",
      "Green Bay Packers Defense Total  Yards/Game 2012-2022: 3820.5999999999995\n"
     ]
    }
   ],
   "source": [
    "team_name12 = 'Green Bay Packers'\n",
    "packers_data = nfldefenseyds[nfldefenseyds['Team'] == team_name12]\n",
    "mean_value = packers_data['Def Yds/G'].mean()\n",
    "median_value = packers_data['Def Yds/G'].median()\n",
    "std_value = packers_data['Def Yds/G'].std()\n",
    "var_value = packers_data['Def Yds/G'].var()\n",
    "min_value = packers_data['Def Yds/G'].min()\n",
    "max_value = packers_data['Def Yds/G'].max()\n",
    "data_range = max_value - min_value\n",
    "total_points = packers_data['Def Yds/G'].sum()\n",
    "print(\"Green Bay Packers Defense  Yards/Game Mean:\", mean_value)\n",
    "print(\"Green Bay Packers Defense  Yards/Game Median:\", median_value)\n",
    "print(\"Green Bay Packers Defense  Yards/Game Standard Deviation:\", std_value)\n",
    "print(\"Green Bay Packers Defense  Yards/Game Variance:\", var_value)\n",
    "print(\"Green Bay Packers Defense  Yards/Game Minimum:\", min_value)\n",
    "print(\"Green Bay Packers Defense  Yards/Game Maximum:\", max_value)\n",
    "print(\"Green Bay Packers Defense  Yards/Game Range:\", data_range)\n",
    "print(\"Green Bay Packers Defense Total  Yards/Game 2012-2022:\", total_points)"
   ]
  },
  {
   "cell_type": "markdown",
   "id": "f4e34fa6",
   "metadata": {},
   "source": [
    "### Houston Texans"
   ]
  },
  {
   "cell_type": "code",
   "execution_count": 20,
   "id": "e04047e1",
   "metadata": {},
   "outputs": [
    {
     "name": "stdout",
     "output_type": "stream",
     "text": [
      "Houston Texans Defense  Yards/Game Mean: 350.83636363636367\n",
      "Houston Texans Defense  Yards/Game Median: 346.6\n",
      "Houston Texans Defense  Yards/Game Standard Deviation: 37.096071833208235\n",
      "Houston Texans Defense  Yards/Game Variance: 1376.1185454545455\n",
      "Houston Texans Defense  Yards/Game Minimum: 301.3\n",
      "Houston Texans Defense  Yards/Game Maximum: 416.8\n",
      "Houston Texans Defense  Yards/Game Range: 115.5\n",
      "Houston Texans Defense Total  Yards/Game 2012-2022: 3859.2000000000003\n"
     ]
    }
   ],
   "source": [
    "team_name13 = 'Houston Texans'\n",
    "texans_data = nfldefenseyds[nfldefenseyds['Team'] == team_name13]\n",
    "mean_value = texans_data['Def Yds/G'].mean()\n",
    "median_value = texans_data['Def Yds/G'].median()\n",
    "std_value = texans_data['Def Yds/G'].std()\n",
    "var_value = texans_data['Def Yds/G'].var()\n",
    "min_value = texans_data['Def Yds/G'].min()\n",
    "max_value = texans_data['Def Yds/G'].max()\n",
    "data_range = max_value - min_value\n",
    "total_points = texans_data['Def Yds/G'].sum()\n",
    "print(\"Houston Texans Defense  Yards/Game Mean:\", mean_value)\n",
    "print(\"Houston Texans Defense  Yards/Game Median:\", median_value)\n",
    "print(\"Houston Texans Defense  Yards/Game Standard Deviation:\", std_value)\n",
    "print(\"Houston Texans Defense  Yards/Game Variance:\", var_value)\n",
    "print(\"Houston Texans Defense  Yards/Game Minimum:\", min_value)\n",
    "print(\"Houston Texans Defense  Yards/Game Maximum:\", max_value)\n",
    "print(\"Houston Texans Defense  Yards/Game Range:\", data_range)\n",
    "print(\"Houston Texans Defense Total  Yards/Game 2012-2022:\", total_points)"
   ]
  },
  {
   "cell_type": "markdown",
   "id": "a53ac9a4",
   "metadata": {},
   "source": [
    "### Indianapolis Colts"
   ]
  },
  {
   "cell_type": "code",
   "execution_count": 21,
   "id": "f4cee7ed",
   "metadata": {},
   "outputs": [
    {
     "name": "stdout",
     "output_type": "stream",
     "text": [
      "Indianapolis Colts Defense  Yards/Game Mean: 354.41818181818184\n",
      "Indianapolis Colts Defense  Yards/Game Median: 346.8\n",
      "Indianapolis Colts Defense  Yards/Game Standard Deviation: 18.551270478423746\n",
      "Indianapolis Colts Defense  Yards/Game Variance: 344.14963636363643\n",
      "Indianapolis Colts Defense  Yards/Game Minimum: 332.1\n",
      "Indianapolis Colts Defense  Yards/Game Maximum: 382.9\n",
      "Indianapolis Colts Defense  Yards/Game Range: 50.799999999999955\n",
      "Indianapolis Colts Defense Total  Yards/Game 2012-2022: 3898.6\n"
     ]
    }
   ],
   "source": [
    "team_name14 = 'Indianapolis Colts'\n",
    "colts_data = nfldefenseyds[nfldefenseyds['Team'] == team_name14]\n",
    "mean_value = colts_data['Def Yds/G'].mean()\n",
    "median_value = colts_data['Def Yds/G'].median()\n",
    "std_value = colts_data['Def Yds/G'].std()\n",
    "var_value = colts_data['Def Yds/G'].var()\n",
    "min_value = colts_data['Def Yds/G'].min()\n",
    "max_value = colts_data['Def Yds/G'].max()\n",
    "data_range = max_value - min_value\n",
    "total_points = colts_data['Def Yds/G'].sum()\n",
    "print(\"Indianapolis Colts Defense  Yards/Game Mean:\", mean_value)\n",
    "print(\"Indianapolis Colts Defense  Yards/Game Median:\", median_value)\n",
    "print(\"Indianapolis Colts Defense  Yards/Game Standard Deviation:\", std_value)\n",
    "print(\"Indianapolis Colts Defense  Yards/Game Variance:\", var_value)\n",
    "print(\"Indianapolis Colts Defense  Yards/Game Minimum:\", min_value)\n",
    "print(\"Indianapolis Colts Defense  Yards/Game Maximum:\", max_value)\n",
    "print(\"Indianapolis Colts Defense  Yards/Game Range:\", data_range)\n",
    "print(\"Indianapolis Colts Defense Total  Yards/Game 2012-2022:\", total_points)"
   ]
  },
  {
   "cell_type": "markdown",
   "id": "34112113",
   "metadata": {},
   "source": [
    "### Jacksonville Jaguars"
   ]
  },
  {
   "cell_type": "code",
   "execution_count": 22,
   "id": "7a0ec986",
   "metadata": {},
   "outputs": [
    {
     "name": "stdout",
     "output_type": "stream",
     "text": [
      "Jacksonville Jaguars Defense  Yards/Game Mean: 356.76363636363635\n",
      "Jacksonville Jaguars Defense  Yards/Game Median: 370.8\n",
      "Jacksonville Jaguars Defense  Yards/Game Standard Deviation: 37.37919936882738\n",
      "Jacksonville Jaguars Defense  Yards/Game Variance: 1397.2045454545453\n",
      "Jacksonville Jaguars Defense  Yards/Game Minimum: 286.1\n",
      "Jacksonville Jaguars Defense  Yards/Game Maximum: 417.7\n",
      "Jacksonville Jaguars Defense  Yards/Game Range: 131.59999999999997\n",
      "Jacksonville Jaguars Defense Total  Yards/Game 2012-2022: 3924.3999999999996\n"
     ]
    }
   ],
   "source": [
    "team_name15 = 'Jacksonville Jaguars'\n",
    "jaguars_data = nfldefenseyds[nfldefenseyds['Team'] == team_name15]\n",
    "mean_value = jaguars_data['Def Yds/G'].mean()\n",
    "median_value = jaguars_data['Def Yds/G'].median()\n",
    "std_value = jaguars_data['Def Yds/G'].std()\n",
    "var_value = jaguars_data['Def Yds/G'].var()\n",
    "min_value = jaguars_data['Def Yds/G'].min()\n",
    "max_value = jaguars_data['Def Yds/G'].max()\n",
    "data_range = max_value - min_value\n",
    "total_points = jaguars_data['Def Yds/G'].sum()\n",
    "print(\"Jacksonville Jaguars Defense  Yards/Game Mean:\", mean_value)\n",
    "print(\"Jacksonville Jaguars Defense  Yards/Game Median:\", median_value)\n",
    "print(\"Jacksonville Jaguars Defense  Yards/Game Standard Deviation:\", std_value)\n",
    "print(\"Jacksonville Jaguars Defense  Yards/Game Variance:\", var_value)\n",
    "print(\"Jacksonville Jaguars Defense  Yards/Game Minimum:\", min_value)\n",
    "print(\"Jacksonville Jaguars Defense  Yards/Game Maximum:\", max_value)\n",
    "print(\"Jacksonville Jaguars Defense  Yards/Game Range:\", data_range)\n",
    "print(\"Jacksonville Jaguars Defense Total  Yards/Game 2012-2022:\", total_points)"
   ]
  },
  {
   "cell_type": "markdown",
   "id": "7a4c5cb0",
   "metadata": {},
   "source": [
    "### Kansas City Chiefs"
   ]
  },
  {
   "cell_type": "code",
   "execution_count": 23,
   "id": "b3528058",
   "metadata": {},
   "outputs": [
    {
     "name": "stdout",
     "output_type": "stream",
     "text": [
      "Kansas City Chiefs Defense  Yards/Game Mean: 357.10909090909087\n",
      "Kansas City Chiefs Defense  Yards/Game Median: 358.3\n",
      "Kansas City Chiefs Defense  Yards/Game Standard Deviation: 22.72423616078017\n",
      "Kansas City Chiefs Defense  Yards/Game Variance: 516.3909090909091\n",
      "Kansas City Chiefs Defense  Yards/Game Minimum: 328.2\n",
      "Kansas City Chiefs Defense  Yards/Game Maximum: 405.5\n",
      "Kansas City Chiefs Defense  Yards/Game Range: 77.30000000000001\n",
      "Kansas City Chiefs Defense Total  Yards/Game 2012-2022: 3928.2000000000003\n"
     ]
    }
   ],
   "source": [
    "team_name16 = 'Kansas City Chiefs'\n",
    "chiefs_data = nfldefenseyds[nfldefenseyds['Team'] == team_name16]\n",
    "mean_value = chiefs_data['Def Yds/G'].mean()\n",
    "median_value = chiefs_data['Def Yds/G'].median()\n",
    "std_value = chiefs_data['Def Yds/G'].std()\n",
    "var_value = chiefs_data['Def Yds/G'].var()\n",
    "min_value = chiefs_data['Def Yds/G'].min()\n",
    "max_value = chiefs_data['Def Yds/G'].max()\n",
    "data_range = max_value - min_value\n",
    "total_points = chiefs_data['Def Yds/G'].sum()\n",
    "print(\"Kansas City Chiefs Defense  Yards/Game Mean:\", mean_value)\n",
    "print(\"Kansas City Chiefs Defense  Yards/Game Median:\", median_value)\n",
    "print(\"Kansas City Chiefs Defense  Yards/Game Standard Deviation:\", std_value)\n",
    "print(\"Kansas City Chiefs Defense  Yards/Game Variance:\", var_value)\n",
    "print(\"Kansas City Chiefs Defense  Yards/Game Minimum:\", min_value)\n",
    "print(\"Kansas City Chiefs Defense  Yards/Game Maximum:\", max_value)\n",
    "print(\"Kansas City Chiefs Defense  Yards/Game Range:\", data_range)\n",
    "print(\"Kansas City Chiefs Defense Total  Yards/Game 2012-2022:\", total_points)"
   ]
  },
  {
   "cell_type": "markdown",
   "id": "94f0253d",
   "metadata": {},
   "source": [
    "### Las Vegas Raiders"
   ]
  },
  {
   "cell_type": "code",
   "execution_count": 24,
   "id": "64b05b4c",
   "metadata": {},
   "outputs": [
    {
     "name": "stdout",
     "output_type": "stream",
     "text": [
      "Las Vegas Raiders Defense  Yards/Game Mean: 362.97272727272724\n",
      "Las Vegas Raiders Defense  Yards/Game Median: 363.6\n",
      "Las Vegas Raiders Defense  Yards/Game Standard Deviation: 14.746124298207372\n",
      "Las Vegas Raiders Defense  Yards/Game Variance: 217.44818181818187\n",
      "Las Vegas Raiders Defense  Yards/Game Minimum: 337.2\n",
      "Las Vegas Raiders Defense  Yards/Game Maximum: 389.1\n",
      "Las Vegas Raiders Defense  Yards/Game Range: 51.900000000000034\n",
      "Las Vegas Raiders Defense Total  Yards/Game 2012-2022: 3992.7\n"
     ]
    }
   ],
   "source": [
    "team_name17 = 'Las Vegas Raiders'\n",
    "raiders_data = nfldefenseyds[nfldefenseyds['Team'] == team_name17]\n",
    "mean_value = raiders_data['Def Yds/G'].mean()\n",
    "median_value = raiders_data['Def Yds/G'].median()\n",
    "std_value = raiders_data['Def Yds/G'].std()\n",
    "var_value = raiders_data['Def Yds/G'].var()\n",
    "min_value = raiders_data['Def Yds/G'].min()\n",
    "max_value = raiders_data['Def Yds/G'].max()\n",
    "data_range = max_value - min_value\n",
    "total_points = raiders_data['Def Yds/G'].sum()\n",
    "print(\"Las Vegas Raiders Defense  Yards/Game Mean:\", mean_value)\n",
    "print(\"Las Vegas Raiders Defense  Yards/Game Median:\", median_value)\n",
    "print(\"Las Vegas Raiders Defense  Yards/Game Standard Deviation:\", std_value)\n",
    "print(\"Las Vegas Raiders Defense  Yards/Game Variance:\", var_value)\n",
    "print(\"Las Vegas Raiders Defense  Yards/Game Minimum:\", min_value)\n",
    "print(\"Las Vegas Raiders Defense  Yards/Game Maximum:\", max_value)\n",
    "print(\"Las Vegas Raiders Defense  Yards/Game Range:\", data_range)\n",
    "print(\"Las Vegas Raiders Defense Total  Yards/Game 2012-2022:\", total_points)"
   ]
  },
  {
   "cell_type": "markdown",
   "id": "cad8ed48",
   "metadata": {},
   "source": [
    "### Los Angeles Chargers"
   ]
  },
  {
   "cell_type": "code",
   "execution_count": 25,
   "id": "28532bfe",
   "metadata": {},
   "outputs": [
    {
     "name": "stdout",
     "output_type": "stream",
     "text": [
      "Los Angeles Chargers Defense  Yards/Game Mean: 342.27272727272725\n",
      "Los Angeles Chargers Defense  Yards/Game Median: 343.4\n",
      "Los Angeles Chargers Defense  Yards/Game Standard Deviation: 16.474045702807246\n",
      "Los Angeles Chargers Defense  Yards/Game Variance: 271.3941818181819\n",
      "Los Angeles Chargers Defense  Yards/Game Minimum: 313.1\n",
      "Los Angeles Chargers Defense  Yards/Game Maximum: 366.5\n",
      "Los Angeles Chargers Defense  Yards/Game Range: 53.39999999999998\n",
      "Los Angeles Chargers Defense Total  Yards/Game 2012-2022: 3764.9999999999995\n"
     ]
    }
   ],
   "source": [
    "team_name18 = 'Los Angeles Chargers'\n",
    "chargers_data = nfldefenseyds[nfldefenseyds['Team'] == team_name18]\n",
    "mean_value = chargers_data['Def Yds/G'].mean()\n",
    "median_value = chargers_data['Def Yds/G'].median()\n",
    "std_value = chargers_data['Def Yds/G'].std()\n",
    "var_value = chargers_data['Def Yds/G'].var()\n",
    "min_value = chargers_data['Def Yds/G'].min()\n",
    "max_value = chargers_data['Def Yds/G'].max()\n",
    "data_range = max_value - min_value\n",
    "total_points = chargers_data['Def Yds/G'].sum()\n",
    "print(\"Los Angeles Chargers Defense  Yards/Game Mean:\", mean_value)\n",
    "print(\"Los Angeles Chargers Defense  Yards/Game Median:\", median_value)\n",
    "print(\"Los Angeles Chargers Defense  Yards/Game Standard Deviation:\", std_value)\n",
    "print(\"Los Angeles Chargers Defense  Yards/Game Variance:\", var_value)\n",
    "print(\"Los Angeles Chargers Defense  Yards/Game Minimum:\", min_value)\n",
    "print(\"Los Angeles Chargers Defense  Yards/Game Maximum:\", max_value)\n",
    "print(\"Los Angeles Chargers Defense  Yards/Game Range:\", data_range)\n",
    "print(\"Los Angeles Chargers Defense Total  Yards/Game 2012-2022:\", total_points)\n"
   ]
  },
  {
   "cell_type": "markdown",
   "id": "5ea4eb63",
   "metadata": {},
   "source": [
    "### Los Angeles Rams"
   ]
  },
  {
   "cell_type": "code",
   "execution_count": 26,
   "id": "06726f85",
   "metadata": {},
   "outputs": [
    {
     "name": "stdout",
     "output_type": "stream",
     "text": [
      "Los Angeles Rams Defense  Yards/Game Mean: 340.8727272727273\n",
      "Los Angeles Rams Defense  Yards/Game Median: 342.6\n",
      "Los Angeles Rams Defense  Yards/Game Standard Deviation: 21.64943837188813\n",
      "Los Angeles Rams Defense  Yards/Game Variance: 468.69818181818226\n",
      "Los Angeles Rams Defense  Yards/Game Minimum: 281.9\n",
      "Los Angeles Rams Defense  Yards/Game Maximum: 367.8\n",
      "Los Angeles Rams Defense  Yards/Game Range: 85.90000000000003\n",
      "Los Angeles Rams Defense Total  Yards/Game 2012-2022: 3749.6\n"
     ]
    }
   ],
   "source": [
    "team_name19 = 'Los Angeles Rams'\n",
    "Rams_data = nfldefenseyds[nfldefenseyds['Team'] == team_name19]\n",
    "mean_value = Rams_data['Def Yds/G'].mean()\n",
    "median_value = Rams_data['Def Yds/G'].median()\n",
    "std_value = Rams_data['Def Yds/G'].std()\n",
    "var_value = Rams_data['Def Yds/G'].var()\n",
    "min_value = Rams_data['Def Yds/G'].min()\n",
    "max_value = Rams_data['Def Yds/G'].max()\n",
    "data_range = max_value - min_value\n",
    "total_points = Rams_data['Def Yds/G'].sum()\n",
    "print(\"Los Angeles Rams Defense  Yards/Game Mean:\", mean_value)\n",
    "print(\"Los Angeles Rams Defense  Yards/Game Median:\", median_value)\n",
    "print(\"Los Angeles Rams Defense  Yards/Game Standard Deviation:\", std_value)\n",
    "print(\"Los Angeles Rams Defense  Yards/Game Variance:\", var_value)\n",
    "print(\"Los Angeles Rams Defense  Yards/Game Minimum:\", min_value)\n",
    "print(\"Los Angeles Rams Defense  Yards/Game Maximum:\", max_value)\n",
    "print(\"Los Angeles Rams Defense  Yards/Game Range:\", data_range)\n",
    "print(\"Los Angeles Rams Defense Total  Yards/Game 2012-2022:\", total_points)"
   ]
  },
  {
   "cell_type": "markdown",
   "id": "780f4251",
   "metadata": {},
   "source": [
    "### Miami Dolphins"
   ]
  },
  {
   "cell_type": "code",
   "execution_count": 27,
   "id": "a3acb87e",
   "metadata": {},
   "outputs": [
    {
     "name": "stdout",
     "output_type": "stream",
     "text": [
      "Miami Dolphins Defense  Yards/Game Mean: 362.38181818181823\n",
      "Miami Dolphins Defense  Yards/Game Median: 359.4\n",
      "Miami Dolphins Defense  Yards/Game Standard Deviation: 22.461069350403527\n",
      "Miami Dolphins Defense  Yards/Game Variance: 504.49963636363674\n",
      "Miami Dolphins Defense  Yards/Game Minimum: 335.7\n",
      "Miami Dolphins Defense  Yards/Game Maximum: 397.8\n",
      "Miami Dolphins Defense  Yards/Game Range: 62.10000000000002\n",
      "Miami Dolphins Defense Total  Yards/Game 2012-2022: 3986.2000000000003\n"
     ]
    }
   ],
   "source": [
    "team_name20 = 'Miami Dolphins'\n",
    "dolphins_data = nfldefenseyds[nfldefenseyds['Team'] == team_name20]\n",
    "mean_value = dolphins_data['Def Yds/G'].mean()\n",
    "median_value = dolphins_data['Def Yds/G'].median()\n",
    "std_value = dolphins_data['Def Yds/G'].std()\n",
    "var_value = dolphins_data['Def Yds/G'].var()\n",
    "min_value = dolphins_data['Def Yds/G'].min()\n",
    "max_value = dolphins_data['Def Yds/G'].max()\n",
    "data_range = max_value - min_value\n",
    "total_points = dolphins_data['Def Yds/G'].sum()\n",
    "print(\"Miami Dolphins Defense  Yards/Game Mean:\", mean_value)\n",
    "print(\"Miami Dolphins Defense  Yards/Game Median:\", median_value)\n",
    "print(\"Miami Dolphins Defense  Yards/Game Standard Deviation:\", std_value)\n",
    "print(\"Miami Dolphins Defense  Yards/Game Variance:\", var_value)\n",
    "print(\"Miami Dolphins Defense  Yards/Game Minimum:\", min_value)\n",
    "print(\"Miami Dolphins Defense  Yards/Game Maximum:\", max_value)\n",
    "print(\"Miami Dolphins Defense  Yards/Game Range:\", data_range)\n",
    "print(\"Miami Dolphins Defense Total  Yards/Game 2012-2022:\", total_points)"
   ]
  },
  {
   "cell_type": "markdown",
   "id": "7cc17b7f",
   "metadata": {},
   "source": [
    "### Minnesota Vikings"
   ]
  },
  {
   "cell_type": "code",
   "execution_count": 28,
   "id": "3a4da802",
   "metadata": {},
   "outputs": [
    {
     "name": "stdout",
     "output_type": "stream",
     "text": [
      "Minnesota Vikings Defense  Yards/Game Mean: 349.46363636363634\n",
      "Minnesota Vikings Defense  Yards/Game Median: 344.7\n",
      "Minnesota Vikings Defense  Yards/Game Standard Deviation: 39.031635188069515\n",
      "Minnesota Vikings Defense  Yards/Game Variance: 1523.4685454545465\n",
      "Minnesota Vikings Defense  Yards/Game Minimum: 275.9\n",
      "Minnesota Vikings Defense  Yards/Game Maximum: 397.6\n",
      "Minnesota Vikings Defense  Yards/Game Range: 121.70000000000005\n",
      "Minnesota Vikings Defense Total  Yards/Game 2012-2022: 3844.0999999999995\n"
     ]
    }
   ],
   "source": [
    "team_name21 = 'Minnesota Vikings'\n",
    "vikings_data = nfldefenseyds[nfldefenseyds['Team'] == team_name21]\n",
    "mean_value = vikings_data['Def Yds/G'].mean()\n",
    "median_value = vikings_data['Def Yds/G'].median()\n",
    "std_value = vikings_data['Def Yds/G'].std()\n",
    "var_value = vikings_data['Def Yds/G'].var()\n",
    "min_value = vikings_data['Def Yds/G'].min()\n",
    "max_value = vikings_data['Def Yds/G'].max()\n",
    "data_range = max_value - min_value\n",
    "total_points = vikings_data['Def Yds/G'].sum()\n",
    "print(\"Minnesota Vikings Defense  Yards/Game Mean:\", mean_value)\n",
    "print(\"Minnesota Vikings Defense  Yards/Game Median:\", median_value)\n",
    "print(\"Minnesota Vikings Defense  Yards/Game Standard Deviation:\", std_value)\n",
    "print(\"Minnesota Vikings Defense  Yards/Game Variance:\", var_value)\n",
    "print(\"Minnesota Vikings Defense  Yards/Game Minimum:\", min_value)\n",
    "print(\"Minnesota Vikings Defense  Yards/Game Maximum:\", max_value)\n",
    "print(\"Minnesota Vikings Defense  Yards/Game Range:\", data_range)\n",
    "print(\"Minnesota Vikings Defense Total  Yards/Game 2012-2022:\", total_points)"
   ]
  },
  {
   "cell_type": "markdown",
   "id": "24831788",
   "metadata": {},
   "source": [
    "### New England Patriots"
   ]
  },
  {
   "cell_type": "code",
   "execution_count": 29,
   "id": "da9fa995",
   "metadata": {},
   "outputs": [
    {
     "name": "stdout",
     "output_type": "stream",
     "text": [
      "New England Patriots Defense  Yards/Game Mean: 340.34545454545463\n",
      "New England Patriots Defense  Yards/Game Median: 344.1\n",
      "New England Patriots Defense  Yards/Game Standard Deviation: 29.858612279754862\n",
      "New England Patriots Defense  Yards/Game Variance: 891.5367272727278\n",
      "New England Patriots Defense  Yards/Game Minimum: 275.9\n",
      "New England Patriots Defense  Yards/Game Maximum: 373.2\n",
      "New England Patriots Defense  Yards/Game Range: 97.30000000000001\n",
      "New England Patriots Defense Total  Yards/Game 2012-2022: 3743.8\n"
     ]
    }
   ],
   "source": [
    "team_name22 = 'New England Patriots'\n",
    "patriots_data = nfldefenseyds[nfldefenseyds['Team'] == team_name22]\n",
    "mean_value = patriots_data['Def Yds/G'].mean()\n",
    "median_value = patriots_data['Def Yds/G'].median()\n",
    "std_value = patriots_data['Def Yds/G'].std()\n",
    "var_value = patriots_data['Def Yds/G'].var()\n",
    "min_value = patriots_data['Def Yds/G'].min()\n",
    "max_value = patriots_data['Def Yds/G'].max()\n",
    "data_range = max_value - min_value\n",
    "total_points = patriots_data['Def Yds/G'].sum()\n",
    "print(\"New England Patriots Defense  Yards/Game Mean:\", mean_value)\n",
    "print(\"New England Patriots Defense  Yards/Game Median:\", median_value)\n",
    "print(\"New England Patriots Defense  Yards/Game Standard Deviation:\", std_value)\n",
    "print(\"New England Patriots Defense  Yards/Game Variance:\", var_value)\n",
    "print(\"New England Patriots Defense  Yards/Game Minimum:\", min_value)\n",
    "print(\"New England Patriots Defense  Yards/Game Maximum:\", max_value)\n",
    "print(\"New England Patriots Defense  Yards/Game Range:\", data_range)\n",
    "print(\"New England Patriots Defense Total  Yards/Game 2012-2022:\", total_points)"
   ]
  },
  {
   "cell_type": "markdown",
   "id": "a470caac",
   "metadata": {},
   "source": [
    "### New Orleans Saints"
   ]
  },
  {
   "cell_type": "code",
   "execution_count": 30,
   "id": "6d0fe639",
   "metadata": {},
   "outputs": [
    {
     "name": "stdout",
     "output_type": "stream",
     "text": [
      "New Orleans Saints Defense  Yards/Game Mean: 353.21\n",
      "New Orleans Saints Defense  Yards/Game Median: 334.8\n",
      "New Orleans Saints Defense  Yards/Game Standard Deviation: 47.19360714710792\n",
      "New Orleans Saints Defense  Yards/Game Variance: 2227.2365555555557\n",
      "New Orleans Saints Defense  Yards/Game Minimum: 305.7\n",
      "New Orleans Saints Defense  Yards/Game Maximum: 440.1\n",
      "New Orleans Saints Defense  Yards/Game Range: 134.40000000000003\n",
      "New Orleans Saints Defense Total  Yards/Game 2012-2022: 3532.1\n"
     ]
    }
   ],
   "source": [
    "team_name23 = 'New Orleans Saints'\n",
    "saints_data = nfldefenseyds[nfldefenseyds['Team'] == team_name23]\n",
    "mean_value = saints_data['Def Yds/G'].mean()\n",
    "median_value = saints_data['Def Yds/G'].median()\n",
    "std_value = saints_data['Def Yds/G'].std()\n",
    "var_value = saints_data['Def Yds/G'].var()\n",
    "min_value = saints_data['Def Yds/G'].min()\n",
    "max_value = saints_data['Def Yds/G'].max()\n",
    "data_range = max_value - min_value\n",
    "total_points = saints_data['Def Yds/G'].sum()\n",
    "print(\"New Orleans Saints Defense  Yards/Game Mean:\", mean_value)\n",
    "print(\"New Orleans Saints Defense  Yards/Game Median:\", median_value)\n",
    "print(\"New Orleans Saints Defense  Yards/Game Standard Deviation:\", std_value)\n",
    "print(\"New Orleans Saints Defense  Yards/Game Variance:\", var_value)\n",
    "print(\"New Orleans Saints Defense  Yards/Game Minimum:\", min_value)\n",
    "print(\"New Orleans Saints Defense  Yards/Game Maximum:\", max_value)\n",
    "print(\"New Orleans Saints Defense  Yards/Game Range:\", data_range)\n",
    "print(\"New Orleans Saints Defense Total  Yards/Game 2012-2022:\", total_points)"
   ]
  },
  {
   "cell_type": "markdown",
   "id": "6f27154f",
   "metadata": {},
   "source": [
    "### New York Giants"
   ]
  },
  {
   "cell_type": "code",
   "execution_count": 31,
   "id": "765e77fe",
   "metadata": {},
   "outputs": [
    {
     "name": "stdout",
     "output_type": "stream",
     "text": [
      "New York Giants Defense  Yards/Game Mean: 366.87272727272733\n",
      "New York Giants Defense  Yards/Game Median: 371.4\n",
      "New York Giants Defense  Yards/Game Standard Deviation: 24.180367694023637\n",
      "New York Giants Defense  Yards/Game Variance: 584.690181818182\n",
      "New York Giants Defense  Yards/Game Minimum: 332.2\n",
      "New York Giants Defense  Yards/Game Maximum: 420.3\n",
      "New York Giants Defense  Yards/Game Range: 88.10000000000002\n",
      "New York Giants Defense Total  Yards/Game 2012-2022: 4035.6\n"
     ]
    }
   ],
   "source": [
    "team_name24 = 'New York Giants'\n",
    "giants_data = nfldefenseyds[nfldefenseyds['Team'] == team_name24]\n",
    "mean_value = giants_data['Def Yds/G'].mean()\n",
    "median_value = giants_data['Def Yds/G'].median()\n",
    "std_value = giants_data['Def Yds/G'].std()\n",
    "var_value = giants_data['Def Yds/G'].var()\n",
    "min_value = giants_data['Def Yds/G'].min()\n",
    "max_value = giants_data['Def Yds/G'].max()\n",
    "data_range = max_value - min_value\n",
    "total_points = giants_data['Def Yds/G'].sum()\n",
    "print(\"New York Giants Defense  Yards/Game Mean:\", mean_value)\n",
    "print(\"New York Giants Defense  Yards/Game Median:\", median_value)\n",
    "print(\"New York Giants Defense  Yards/Game Standard Deviation:\", std_value)\n",
    "print(\"New York Giants Defense  Yards/Game Variance:\", var_value)\n",
    "print(\"New York Giants Defense  Yards/Game Minimum:\", min_value)\n",
    "print(\"New York Giants Defense  Yards/Game Maximum:\", max_value)\n",
    "print(\"New York Giants Defense  Yards/Game Range:\", data_range)\n",
    "print(\"New York Giants Defense Total  Yards/Game 2012-2022:\", total_points)"
   ]
  },
  {
   "cell_type": "markdown",
   "id": "9667adf1",
   "metadata": {},
   "source": [
    "### New York Jets"
   ]
  },
  {
   "cell_type": "code",
   "execution_count": 32,
   "id": "a063fc48",
   "metadata": {},
   "outputs": [
    {
     "name": "stdout",
     "output_type": "stream",
     "text": [
      "New York Jets Defense  Yards/Game Mean: 345.31818181818176\n",
      "New York Jets Defense  Yards/Game Median: 334.9\n",
      "New York Jets Defense  Yards/Game Standard Deviation: 30.17176886368508\n",
      "New York Jets Defense  Yards/Game Variance: 910.3356363636365\n",
      "New York Jets Defense  Yards/Game Minimum: 311.1\n",
      "New York Jets Defense  Yards/Game Maximum: 397.6\n",
      "New York Jets Defense  Yards/Game Range: 86.5\n",
      "New York Jets Defense Total  Yards/Game 2012-2022: 3798.4999999999995\n"
     ]
    }
   ],
   "source": [
    "team_name25 = 'New York Jets'\n",
    "Jets_data = nfldefenseyds[nfldefenseyds['Team'] == team_name25]\n",
    "mean_value = Jets_data['Def Yds/G'].mean()\n",
    "median_value = Jets_data['Def Yds/G'].median()\n",
    "std_value = Jets_data['Def Yds/G'].std()\n",
    "var_value = Jets_data['Def Yds/G'].var()\n",
    "min_value = Jets_data['Def Yds/G'].min()\n",
    "max_value = Jets_data['Def Yds/G'].max()\n",
    "data_range = max_value - min_value\n",
    "total_points = Jets_data['Def Yds/G'].sum()\n",
    "print(\"New York Jets Defense  Yards/Game Mean:\", mean_value)\n",
    "print(\"New York Jets Defense  Yards/Game Median:\", median_value)\n",
    "print(\"New York Jets Defense  Yards/Game Standard Deviation:\", std_value)\n",
    "print(\"New York Jets Defense  Yards/Game Variance:\", var_value)\n",
    "print(\"New York Jets Defense  Yards/Game Minimum:\", min_value)\n",
    "print(\"New York Jets Defense  Yards/Game Maximum:\", max_value)\n",
    "print(\"New York Jets Defense  Yards/Game Range:\", data_range)\n",
    "print(\"New York Jets Defense Total  Yards/Game 2012-2022:\", total_points)"
   ]
  },
  {
   "cell_type": "markdown",
   "id": "a36ef8fd",
   "metadata": {},
   "source": [
    "### Philadelphia Eagles"
   ]
  },
  {
   "cell_type": "code",
   "execution_count": 33,
   "id": "524dca6b",
   "metadata": {
    "scrolled": true
   },
   "outputs": [
    {
     "name": "stdout",
     "output_type": "stream",
     "text": [
      "Philadelphia Eagles Defense  Yards/Game Mean: 350.45454545454544\n",
      "Philadelphia Eagles Defense  Yards/Game Median: 343.2\n",
      "Philadelphia Eagles Defense  Yards/Game Standard Deviation: 32.88252921039876\n",
      "Philadelphia Eagles Defense  Yards/Game Variance: 1081.2607272727278\n",
      "Philadelphia Eagles Defense  Yards/Game Minimum: 301.5\n",
      "Philadelphia Eagles Defense  Yards/Game Maximum: 401.6\n",
      "Philadelphia Eagles Defense  Yards/Game Range: 100.10000000000002\n",
      "Philadelphia Eagles Defense Total  Yards/Game 2012-2022: 3855.0\n"
     ]
    }
   ],
   "source": [
    "team_name26 = 'Philadelphia Eagles'\n",
    "eagles_data = nfldefenseyds[nfldefenseyds['Team'] == team_name26]\n",
    "mean_value = eagles_data['Def Yds/G'].mean()\n",
    "median_value = eagles_data['Def Yds/G'].median()\n",
    "std_value = eagles_data['Def Yds/G'].std()\n",
    "var_value = eagles_data['Def Yds/G'].var()\n",
    "min_value = eagles_data['Def Yds/G'].min()\n",
    "max_value = eagles_data['Def Yds/G'].max()\n",
    "data_range = max_value - min_value\n",
    "total_points = eagles_data['Def Yds/G'].sum()\n",
    "print(\"Philadelphia Eagles Defense  Yards/Game Mean:\", mean_value)\n",
    "print(\"Philadelphia Eagles Defense  Yards/Game Median:\", median_value)\n",
    "print(\"Philadelphia Eagles Defense  Yards/Game Standard Deviation:\", std_value)\n",
    "print(\"Philadelphia Eagles Defense  Yards/Game Variance:\", var_value)\n",
    "print(\"Philadelphia Eagles Defense  Yards/Game Minimum:\", min_value)\n",
    "print(\"Philadelphia Eagles Defense  Yards/Game Maximum:\", max_value)\n",
    "print(\"Philadelphia Eagles Defense  Yards/Game Range:\", data_range)\n",
    "print(\"Philadelphia Eagles Defense Total  Yards/Game 2012-2022:\", total_points)"
   ]
  },
  {
   "cell_type": "markdown",
   "id": "5bc38ce6",
   "metadata": {},
   "source": [
    "### Pittsburgh Steelers"
   ]
  },
  {
   "cell_type": "code",
   "execution_count": 34,
   "id": "e679c547",
   "metadata": {},
   "outputs": [
    {
     "name": "stdout",
     "output_type": "stream",
     "text": [
      "Pittsburgh Steelers Defense  Yards/Game Mean: 328.0\n",
      "Pittsburgh Steelers Defense  Yards/Game Median: 330.4\n",
      "Pittsburgh Steelers Defense  Yards/Game Standard Deviation: 27.42006564543565\n",
      "Pittsburgh Steelers Defense  Yards/Game Variance: 751.8600000000002\n",
      "Pittsburgh Steelers Defense  Yards/Game Minimum: 275.8\n",
      "Pittsburgh Steelers Defense  Yards/Game Maximum: 363.1\n",
      "Pittsburgh Steelers Defense  Yards/Game Range: 87.30000000000001\n",
      "Pittsburgh Steelers Defense Total  Yards/Game 2012-2022: 3608.0\n"
     ]
    }
   ],
   "source": [
    "team_name27 = 'Pittsburgh Steelers'\n",
    "steelers_data = nfldefenseyds[nfldefenseyds['Team'] == team_name27]\n",
    "mean_value = steelers_data['Def Yds/G'].mean()\n",
    "median_value = steelers_data['Def Yds/G'].median()\n",
    "std_value = steelers_data['Def Yds/G'].std()\n",
    "var_value = steelers_data['Def Yds/G'].var()\n",
    "min_value = steelers_data['Def Yds/G'].min()\n",
    "max_value = steelers_data['Def Yds/G'].max()\n",
    "data_range = max_value - min_value\n",
    "total_points = steelers_data['Def Yds/G'].sum()\n",
    "print(\"Pittsburgh Steelers Defense  Yards/Game Mean:\", mean_value)\n",
    "print(\"Pittsburgh Steelers Defense  Yards/Game Median:\", median_value)\n",
    "print(\"Pittsburgh Steelers Defense  Yards/Game Standard Deviation:\", std_value)\n",
    "print(\"Pittsburgh Steelers Defense  Yards/Game Variance:\", var_value)\n",
    "print(\"Pittsburgh Steelers Defense  Yards/Game Minimum:\", min_value)\n",
    "print(\"Pittsburgh Steelers Defense  Yards/Game Maximum:\", max_value)\n",
    "print(\"Pittsburgh Steelers Defense  Yards/Game Range:\", data_range)\n",
    "print(\"Pittsburgh Steelers Defense Total  Yards/Game 2012-2022:\", total_points)"
   ]
  },
  {
   "cell_type": "markdown",
   "id": "23131153",
   "metadata": {},
   "source": [
    "### San Francisco 49ers"
   ]
  },
  {
   "cell_type": "code",
   "execution_count": 35,
   "id": "b5594537",
   "metadata": {},
   "outputs": [
    {
     "name": "stdout",
     "output_type": "stream",
     "text": [
      "San Francisco 49ers Defense  Yards/Game Mean: 330.1363636363636\n",
      "San Francisco 49ers Defense  Yards/Game Median: 316.9\n",
      "San Francisco 49ers Defense  Yards/Game Standard Deviation: 39.00964682555515\n",
      "San Francisco 49ers Defense  Yards/Game Variance: 1521.7525454545453\n",
      "San Francisco 49ers Defense  Yards/Game Minimum: 281.8\n",
      "San Francisco 49ers Defense  Yards/Game Maximum: 406.4\n",
      "San Francisco 49ers Defense  Yards/Game  YardsRange: 124.59999999999997\n",
      "San Francisco 49ers Defense Total  Yards/Game 2012-2022: 3631.5\n"
     ]
    }
   ],
   "source": [
    "team_name28 = 'San Francisco 49ers'\n",
    "niners_data = nfldefenseyds[nfldefenseyds['Team'] == team_name28]\n",
    "mean_value = niners_data['Def Yds/G'].mean()\n",
    "median_value = niners_data['Def Yds/G'].median()\n",
    "std_value = niners_data['Def Yds/G'].std()\n",
    "var_value = niners_data['Def Yds/G'].var()\n",
    "min_value = niners_data['Def Yds/G'].min()\n",
    "max_value = niners_data['Def Yds/G'].max()\n",
    "data_range = max_value - min_value\n",
    "total_points = niners_data['Def Yds/G'].sum()\n",
    "print(\"San Francisco 49ers Defense  Yards/Game Mean:\", mean_value)\n",
    "print(\"San Francisco 49ers Defense  Yards/Game Median:\", median_value)\n",
    "print(\"San Francisco 49ers Defense  Yards/Game Standard Deviation:\", std_value)\n",
    "print(\"San Francisco 49ers Defense  Yards/Game Variance:\", var_value)\n",
    "print(\"San Francisco 49ers Defense  Yards/Game Minimum:\", min_value)\n",
    "print(\"San Francisco 49ers Defense  Yards/Game Maximum:\", max_value)\n",
    "print(\"San Francisco 49ers Defense  Yards/Game  YardsRange:\", data_range)\n",
    "print(\"San Francisco 49ers Defense Total  Yards/Game 2012-2022:\", total_points)"
   ]
  },
  {
   "cell_type": "markdown",
   "id": "aba944f4",
   "metadata": {},
   "source": [
    "### Tampa Bay Buccaneers"
   ]
  },
  {
   "cell_type": "code",
   "execution_count": 36,
   "id": "02b9d21b",
   "metadata": {},
   "outputs": [
    {
     "name": "stdout",
     "output_type": "stream",
     "text": [
      "Tampa Bay Buccaneers Defense  Yards/Game Mean: 353.94545454545454\n",
      "Tampa Bay Buccaneers Defense  Yards/Game Median: 348.0\n",
      "Tampa Bay Buccaneers Defense  Yards/Game Standard Deviation: 22.284719591521156\n",
      "Tampa Bay Buccaneers Defense  Yards/Game Variance: 496.6087272727269\n",
      "Tampa Bay Buccaneers Defense  Yards/Game Minimum: 324.3\n",
      "Tampa Bay Buccaneers Defense  Yards/Game Maximum: 383.4\n",
      "Tampa Bay Buccaneers Defense  Yards/Game Range: 59.099999999999966\n",
      "Tampa Bay Buccaneers Defense Total  Yards/Game 2012-2022: 3893.4\n"
     ]
    }
   ],
   "source": [
    "team_name29 = 'Tampa Bay Buccaneers'\n",
    "buccaneers_data = nfldefenseyds[nfldefenseyds['Team'] == team_name29]\n",
    "mean_value = buccaneers_data['Def Yds/G'].mean()\n",
    "median_value = buccaneers_data['Def Yds/G'].median()\n",
    "std_value = buccaneers_data['Def Yds/G'].std()\n",
    "var_value = buccaneers_data['Def Yds/G'].var()\n",
    "min_value = buccaneers_data['Def Yds/G'].min()\n",
    "max_value = buccaneers_data['Def Yds/G'].max()\n",
    "data_range = max_value - min_value\n",
    "total_points = buccaneers_data['Def Yds/G'].sum()\n",
    "print(\"Tampa Bay Buccaneers Defense  Yards/Game Mean:\", mean_value)\n",
    "print(\"Tampa Bay Buccaneers Defense  Yards/Game Median:\", median_value)\n",
    "print(\"Tampa Bay Buccaneers Defense  Yards/Game Standard Deviation:\", std_value)\n",
    "print(\"Tampa Bay Buccaneers Defense  Yards/Game Variance:\", var_value)\n",
    "print(\"Tampa Bay Buccaneers Defense  Yards/Game Minimum:\", min_value)\n",
    "print(\"Tampa Bay Buccaneers Defense  Yards/Game Maximum:\", max_value)\n",
    "print(\"Tampa Bay Buccaneers Defense  Yards/Game Range:\", data_range)\n",
    "print(\"Tampa Bay Buccaneers Defense Total  Yards/Game 2012-2022:\", total_points)"
   ]
  },
  {
   "cell_type": "markdown",
   "id": "60e92cf1",
   "metadata": {},
   "source": [
    "### Tennessee Titans"
   ]
  },
  {
   "cell_type": "code",
   "execution_count": 37,
   "id": "243fe545",
   "metadata": {},
   "outputs": [
    {
     "name": "stdout",
     "output_type": "stream",
     "text": [
      "Tennessee Titans Defense  Yards/Game Mean: 353.27272727272725\n",
      "Tennessee Titans Defense  Yards/Game Median: 351.6\n",
      "Tennessee Titans Defense  Yards/Game Standard Deviation: 22.08696859730148\n",
      "Tennessee Titans Defense  Yards/Game Variance: 487.8341818181818\n",
      "Tennessee Titans Defense  Yards/Game Minimum: 328.0\n",
      "Tennessee Titans Defense  Yards/Game Maximum: 398.2\n",
      "Tennessee Titans Defense  Yards/Game Range: 70.19999999999999\n",
      "Tennessee Titans Defense Total  Yards/Game 2012-2022: 3886.0\n"
     ]
    }
   ],
   "source": [
    "team_name30 = 'Tennessee Titans'\n",
    "titans_data = nfldefenseyds[nfldefenseyds['Team'] == team_name30]\n",
    "mean_value = titans_data['Def Yds/G'].mean()\n",
    "median_value = titans_data['Def Yds/G'].median()\n",
    "std_value = titans_data['Def Yds/G'].std()\n",
    "var_value = titans_data['Def Yds/G'].var()\n",
    "min_value = titans_data['Def Yds/G'].min()\n",
    "max_value = titans_data['Def Yds/G'].max()\n",
    "data_range = max_value - min_value\n",
    "total_points = titans_data['Def Yds/G'].sum()\n",
    "print(\"Tennessee Titans Defense  Yards/Game Mean:\", mean_value)\n",
    "print(\"Tennessee Titans Defense  Yards/Game Median:\", median_value)\n",
    "print(\"Tennessee Titans Defense  Yards/Game Standard Deviation:\", std_value)\n",
    "print(\"Tennessee Titans Defense  Yards/Game Variance:\", var_value)\n",
    "print(\"Tennessee Titans Defense  Yards/Game Minimum:\", min_value)\n",
    "print(\"Tennessee Titans Defense  Yards/Game Maximum:\", max_value)\n",
    "print(\"Tennessee Titans Defense  Yards/Game Range:\", data_range)\n",
    "print(\"Tennessee Titans Defense Total  Yards/Game 2012-2022:\", total_points)"
   ]
  },
  {
   "cell_type": "markdown",
   "id": "bbac7211",
   "metadata": {},
   "source": [
    "### Washington Commanders"
   ]
  },
  {
   "cell_type": "code",
   "execution_count": 38,
   "id": "f1804580",
   "metadata": {},
   "outputs": [
    {
     "name": "stdout",
     "output_type": "stream",
     "text": [
      "Washington Commanders Defense  Yards/Game Mean: 354.74545454545455\n",
      "Washington Commanders Defense  Yards/Game Median: 357.0\n",
      "Washington Commanders Defense  Yards/Game Standard Deviation: 27.851296689251775\n",
      "Washington Commanders Defense  Yards/Game Variance: 775.6947272727269\n",
      "Washington Commanders Defense  Yards/Game Minimum: 304.6\n",
      "Washington Commanders Defense  Yards/Game Points Maximum: 385.1\n",
      "Washington Commanders Defense  Yards/Game Range: 80.5\n",
      "Washington Commanders Defense Total  Yards/Game 2012-2022: 3902.2\n"
     ]
    }
   ],
   "source": [
    "team_name31 = 'Washington Commanders'\n",
    "commanders_data = nfldefenseyds[nfldefenseyds['Team'] == team_name31]\n",
    "mean_value = commanders_data['Def Yds/G'].mean()\n",
    "median_value = commanders_data['Def Yds/G'].median()\n",
    "std_value = commanders_data['Def Yds/G'].std()\n",
    "var_value = commanders_data['Def Yds/G'].var()\n",
    "min_value = commanders_data['Def Yds/G'].min()\n",
    "max_value = commanders_data['Def Yds/G'].max()\n",
    "total_points = commanders_data['Def Yds/G'].sum()\n",
    "data_range = max_value - min_value\n",
    "print(\"Washington Commanders Defense  Yards/Game Mean:\", mean_value)\n",
    "print(\"Washington Commanders Defense  Yards/Game Median:\", median_value)\n",
    "print(\"Washington Commanders Defense  Yards/Game Standard Deviation:\", std_value)\n",
    "print(\"Washington Commanders Defense  Yards/Game Variance:\", var_value)\n",
    "print(\"Washington Commanders Defense  Yards/Game Minimum:\", min_value)\n",
    "print(\"Washington Commanders Defense  Yards/Game Points Maximum:\", max_value)\n",
    "print(\"Washington Commanders Defense  Yards/Game Range:\", data_range)\n",
    "print(\"Washington Commanders Defense Total  Yards/Game 2012-2022:\", total_points)"
   ]
  }
 ],
 "metadata": {
  "kernelspec": {
   "display_name": "Python 3 (ipykernel)",
   "language": "python",
   "name": "python3"
  },
  "language_info": {
   "codemirror_mode": {
    "name": "ipython",
    "version": 3
   },
   "file_extension": ".py",
   "mimetype": "text/x-python",
   "name": "python",
   "nbconvert_exporter": "python",
   "pygments_lexer": "ipython3",
   "version": "3.9.12"
  }
 },
 "nbformat": 4,
 "nbformat_minor": 5
}

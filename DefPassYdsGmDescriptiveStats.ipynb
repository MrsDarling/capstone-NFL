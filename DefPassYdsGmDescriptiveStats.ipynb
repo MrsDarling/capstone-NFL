{
 "cells": [
  {
   "cell_type": "markdown",
   "id": "ca763d8d",
   "metadata": {},
   "source": [
    "# Descriptive Statistics for Defense Passing Yards per Game for Each Team\n",
    "#### Defense Passing Yards = The number of passing yards allowed per game by the defense side of each team"
   ]
  },
  {
   "cell_type": "markdown",
   "id": "649ef116",
   "metadata": {},
   "source": [
    "#### Import Packages"
   ]
  },
  {
   "cell_type": "code",
   "execution_count": 1,
   "id": "b23f9d8d",
   "metadata": {},
   "outputs": [],
   "source": [
    "import pandas as pd\n",
    "import numpy as np\n",
    "from scipy.stats import norm\n",
    "from scipy import stats"
   ]
  },
  {
   "cell_type": "markdown",
   "id": "b0be25b3",
   "metadata": {},
   "source": [
    "#### Import NFL Dataset 2012-2022"
   ]
  },
  {
   "cell_type": "code",
   "execution_count": 2,
   "id": "33f5a7e5",
   "metadata": {},
   "outputs": [
    {
     "data": {
      "text/html": [
       "<div>\n",
       "<style scoped>\n",
       "    .dataframe tbody tr th:only-of-type {\n",
       "        vertical-align: middle;\n",
       "    }\n",
       "\n",
       "    .dataframe tbody tr th {\n",
       "        vertical-align: top;\n",
       "    }\n",
       "\n",
       "    .dataframe thead th {\n",
       "        text-align: right;\n",
       "    }\n",
       "</style>\n",
       "<table border=\"1\" class=\"dataframe\">\n",
       "  <thead>\n",
       "    <tr style=\"text-align: right;\">\n",
       "      <th></th>\n",
       "      <th>Team</th>\n",
       "      <th>Off Tot/Pts</th>\n",
       "      <th>Off Pts/G</th>\n",
       "      <th>Off RushYds</th>\n",
       "      <th>Off RYds/G</th>\n",
       "      <th>Off PassYds</th>\n",
       "      <th>Off PYds/G</th>\n",
       "      <th>Off TotYds</th>\n",
       "      <th>Off Yds/G</th>\n",
       "      <th>Def Tot/Pts</th>\n",
       "      <th>...</th>\n",
       "      <th>Def PassYds</th>\n",
       "      <th>Def PYds/G</th>\n",
       "      <th>Def TotYds</th>\n",
       "      <th>Def Yds/G</th>\n",
       "      <th>Year</th>\n",
       "      <th>Wins</th>\n",
       "      <th>Losses</th>\n",
       "      <th>Tie</th>\n",
       "      <th>Superbowl</th>\n",
       "      <th>SB Win</th>\n",
       "    </tr>\n",
       "  </thead>\n",
       "  <tbody>\n",
       "    <tr>\n",
       "      <th>0</th>\n",
       "      <td>Arizona Cardinals</td>\n",
       "      <td>250</td>\n",
       "      <td>15.6</td>\n",
       "      <td>1204</td>\n",
       "      <td>75.2</td>\n",
       "      <td>3005</td>\n",
       "      <td>187.8</td>\n",
       "      <td>4209</td>\n",
       "      <td>263.1</td>\n",
       "      <td>357</td>\n",
       "      <td>...</td>\n",
       "      <td>3213</td>\n",
       "      <td>200.8</td>\n",
       "      <td>5405</td>\n",
       "      <td>337.8</td>\n",
       "      <td>2012</td>\n",
       "      <td>5</td>\n",
       "      <td>11</td>\n",
       "      <td>0.0</td>\n",
       "      <td>No</td>\n",
       "      <td>No</td>\n",
       "    </tr>\n",
       "    <tr>\n",
       "      <th>1</th>\n",
       "      <td>Atlanta Falcons</td>\n",
       "      <td>419</td>\n",
       "      <td>26.2</td>\n",
       "      <td>1397</td>\n",
       "      <td>87.3</td>\n",
       "      <td>4509</td>\n",
       "      <td>281.8</td>\n",
       "      <td>5906</td>\n",
       "      <td>369.1</td>\n",
       "      <td>299</td>\n",
       "      <td>...</td>\n",
       "      <td>3878</td>\n",
       "      <td>242.4</td>\n",
       "      <td>5849</td>\n",
       "      <td>365.6</td>\n",
       "      <td>2012</td>\n",
       "      <td>13</td>\n",
       "      <td>3</td>\n",
       "      <td>0.0</td>\n",
       "      <td>No</td>\n",
       "      <td>No</td>\n",
       "    </tr>\n",
       "    <tr>\n",
       "      <th>2</th>\n",
       "      <td>Baltimore Ravens</td>\n",
       "      <td>398</td>\n",
       "      <td>24.9</td>\n",
       "      <td>1901</td>\n",
       "      <td>118.8</td>\n",
       "      <td>3739</td>\n",
       "      <td>233.7</td>\n",
       "      <td>5640</td>\n",
       "      <td>352.5</td>\n",
       "      <td>344</td>\n",
       "      <td>...</td>\n",
       "      <td>3650</td>\n",
       "      <td>228.1</td>\n",
       "      <td>5615</td>\n",
       "      <td>350.9</td>\n",
       "      <td>2012</td>\n",
       "      <td>10</td>\n",
       "      <td>6</td>\n",
       "      <td>0.0</td>\n",
       "      <td>Yes</td>\n",
       "      <td>Yes</td>\n",
       "    </tr>\n",
       "    <tr>\n",
       "      <th>3</th>\n",
       "      <td>Buffalo Bills</td>\n",
       "      <td>344</td>\n",
       "      <td>21.5</td>\n",
       "      <td>2217</td>\n",
       "      <td>138.6</td>\n",
       "      <td>3269</td>\n",
       "      <td>204.3</td>\n",
       "      <td>5486</td>\n",
       "      <td>342.9</td>\n",
       "      <td>435</td>\n",
       "      <td>...</td>\n",
       "      <td>3473</td>\n",
       "      <td>217.1</td>\n",
       "      <td>5806</td>\n",
       "      <td>362.9</td>\n",
       "      <td>2012</td>\n",
       "      <td>6</td>\n",
       "      <td>10</td>\n",
       "      <td>0.0</td>\n",
       "      <td>No</td>\n",
       "      <td>No</td>\n",
       "    </tr>\n",
       "    <tr>\n",
       "      <th>4</th>\n",
       "      <td>Carolina Panthers</td>\n",
       "      <td>357</td>\n",
       "      <td>22.3</td>\n",
       "      <td>2088</td>\n",
       "      <td>130.5</td>\n",
       "      <td>3683</td>\n",
       "      <td>230.2</td>\n",
       "      <td>5771</td>\n",
       "      <td>360.7</td>\n",
       "      <td>363</td>\n",
       "      <td>...</td>\n",
       "      <td>3568</td>\n",
       "      <td>223.0</td>\n",
       "      <td>5329</td>\n",
       "      <td>333.1</td>\n",
       "      <td>2012</td>\n",
       "      <td>7</td>\n",
       "      <td>9</td>\n",
       "      <td>0.0</td>\n",
       "      <td>No</td>\n",
       "      <td>No</td>\n",
       "    </tr>\n",
       "  </tbody>\n",
       "</table>\n",
       "<p>5 rows × 23 columns</p>\n",
       "</div>"
      ],
      "text/plain": [
       "                Team  Off Tot/Pts  Off Pts/G  Off RushYds  Off RYds/G  \\\n",
       "0  Arizona Cardinals          250       15.6         1204        75.2   \n",
       "1    Atlanta Falcons          419       26.2         1397        87.3   \n",
       "2   Baltimore Ravens          398       24.9         1901       118.8   \n",
       "3      Buffalo Bills          344       21.5         2217       138.6   \n",
       "4  Carolina Panthers          357       22.3         2088       130.5   \n",
       "\n",
       "   Off PassYds  Off PYds/G  Off TotYds  Off Yds/G  Def Tot/Pts  ...  \\\n",
       "0         3005       187.8        4209      263.1          357  ...   \n",
       "1         4509       281.8        5906      369.1          299  ...   \n",
       "2         3739       233.7        5640      352.5          344  ...   \n",
       "3         3269       204.3        5486      342.9          435  ...   \n",
       "4         3683       230.2        5771      360.7          363  ...   \n",
       "\n",
       "   Def PassYds  Def PYds/G  Def TotYds  Def Yds/G  Year  Wins  Losses  Tie  \\\n",
       "0         3213       200.8        5405      337.8  2012     5      11  0.0   \n",
       "1         3878       242.4        5849      365.6  2012    13       3  0.0   \n",
       "2         3650       228.1        5615      350.9  2012    10       6  0.0   \n",
       "3         3473       217.1        5806      362.9  2012     6      10  0.0   \n",
       "4         3568       223.0        5329      333.1  2012     7       9  0.0   \n",
       "\n",
       "   Superbowl  SB Win  \n",
       "0         No      No  \n",
       "1         No      No  \n",
       "2        Yes     Yes  \n",
       "3         No      No  \n",
       "4         No      No  \n",
       "\n",
       "[5 rows x 23 columns]"
      ]
     },
     "execution_count": 2,
     "metadata": {},
     "output_type": "execute_result"
    }
   ],
   "source": [
    "nflDpassgm = pd.read_csv('/Users/admin/Desktop/Final_Project/NFL_merged/nfl2012_2022merge.csv')\n",
    "nflDpassgm.head()"
   ]
  },
  {
   "cell_type": "markdown",
   "id": "784b34d0",
   "metadata": {},
   "source": [
    "## Calculating Descriptive Statistics by Team\n",
    "#### First filter the data by a single team - I will use the Seattle Seahawks, my favorite team, to start."
   ]
  },
  {
   "cell_type": "code",
   "execution_count": 3,
   "id": "69c58961",
   "metadata": {},
   "outputs": [
    {
     "name": "stdout",
     "output_type": "stream",
     "text": [
      "Year: 2012 \tDefense Passing Yards/Game: 203.1\n",
      "Year: 2013 \tDefense Passing Yards/Game: 172.0\n",
      "Year: 2014 \tDefense Passing Yards/Game: 185.6\n",
      "Year: 2015 \tDefense Passing Yards/Game: 210.2\n",
      "Year: 2016 \tDefense Passing Yards/Game: 225.8\n",
      "Year: 2017 \tDefense Passing Yards/Game: 209.2\n",
      "Year: 2018 \tDefense Passing Yards/Game: 240.1\n",
      "Year: 2019 \tDefense Passing Yards/Game: 263.9\n",
      "Year: 2020 \tDefense Passing Yards/Game: 285.0\n",
      "Year: 2021 \tDefense Passing Yards/Game: 265.5\n",
      "Year: 2022 \tDefense Passing Yards/Game: 211.5\n"
     ]
    }
   ],
   "source": [
    "team_name = 'Seattle Seahawks'\n",
    "seahawks_data = nflDpassgm[nflDpassgm['Team'] == team_name]\n",
    "\n",
    "#### Display defense passing yards allowed per game by year for the Seahawks\n",
    "\n",
    "for year in seahawks_data['Year'].unique():\n",
    "    defpassgm = seahawks_data.loc[seahawks_data['Year'] == year, 'Def PYds/G'].values[0]\n",
    "    print(\"Year:\", year, \"\\tDefense Passing Yards/Game:\", defpassgm)"
   ]
  },
  {
   "cell_type": "markdown",
   "id": "0c3ba5fa",
   "metadata": {},
   "source": [
    "#### What is the mean Defense passing yards allowed per game for the Seahawks over all years?"
   ]
  },
  {
   "cell_type": "code",
   "execution_count": 4,
   "id": "24c6cbe1",
   "metadata": {},
   "outputs": [
    {
     "name": "stdout",
     "output_type": "stream",
     "text": [
      "224.71818181818182\n"
     ]
    }
   ],
   "source": [
    "avg_gmpass_yards = seahawks_data['Def PYds/G'].mean()\n",
    "print(avg_gmpass_yards)"
   ]
  },
  {
   "cell_type": "markdown",
   "id": "5b3748d2",
   "metadata": {},
   "source": [
    "#### Let's calculate several descriptive statistics on Defense Passing Yards allowed per game for the Seahawks"
   ]
  },
  {
   "cell_type": "code",
   "execution_count": 5,
   "id": "d26edc74",
   "metadata": {},
   "outputs": [
    {
     "name": "stdout",
     "output_type": "stream",
     "text": [
      "Seattle Seahawks Defense Passing Yards/Game Mean: 224.71818181818182\n",
      "Seattle Seahawks Defense Passing Yards/Game Median: 211.5\n",
      "Seattle Seahawks Defense Passing Yards/Game Standard Deviation: 35.31732770700009\n",
      "Seattle Seahawks Defense Passing Yards/Game Variance: 1247.3136363636363\n",
      "Seattle Seahawks Defense Passing Yards/Game Minimum: 172.0\n",
      "Seattle Seahawks Defense Passing Yards/Game Maximum: 285.0\n",
      "Seattle Seahawks Defense Passing Yards/Game Range: 113.0\n",
      "Seattle Seahawks Defense Total Passing Yards/Game 2012-2022: 2471.9\n"
     ]
    }
   ],
   "source": [
    "mean_value = seahawks_data['Def PYds/G'].mean()\n",
    "median_value = seahawks_data['Def PYds/G'].median()\n",
    "std_value = seahawks_data['Def PYds/G'].std()\n",
    "var_value = seahawks_data['Def PYds/G'].var()\n",
    "min_value = seahawks_data['Def PYds/G'].min()\n",
    "max_value = seahawks_data['Def PYds/G'].max()\n",
    "data_range = max_value - min_value\n",
    "total_points = seahawks_data['Def PYds/G'].sum()\n",
    "print(\"Seattle Seahawks Defense Passing Yards/Game Mean:\", mean_value)\n",
    "print(\"Seattle Seahawks Defense Passing Yards/Game Median:\", median_value)\n",
    "print(\"Seattle Seahawks Defense Passing Yards/Game Standard Deviation:\", std_value)\n",
    "print(\"Seattle Seahawks Defense Passing Yards/Game Variance:\", var_value)\n",
    "print(\"Seattle Seahawks Defense Passing Yards/Game Minimum:\", min_value)\n",
    "print(\"Seattle Seahawks Defense Passing Yards/Game Maximum:\", max_value)\n",
    "print(\"Seattle Seahawks Defense Passing Yards/Game Range:\", data_range)\n",
    "print(\"Seattle Seahawks Defense Total Passing Yards/Game 2012-2022:\", total_points)"
   ]
  },
  {
   "cell_type": "markdown",
   "id": "e69f7a6a",
   "metadata": {},
   "source": [
    "#### Calculating all Teams Defense Passing Yards allowed per game by year"
   ]
  },
  {
   "cell_type": "code",
   "execution_count": 6,
   "id": "dbe5c0fa",
   "metadata": {},
   "outputs": [
    {
     "name": "stdout",
     "output_type": "stream",
     "text": [
      "Team: Arizona Cardinals \tYear: 2012 \tDefense Passing Yards/Game: 200.8\n",
      "Team: Arizona Cardinals \tYear: 2013 \tDefense Passing Yards/Game: 233.0\n",
      "Team: Arizona Cardinals \tYear: 2014 \tDefense Passing Yards/Game: 259.5\n",
      "Team: Arizona Cardinals \tYear: 2015 \tDefense Passing Yards/Game: 230.4\n",
      "Team: Arizona Cardinals \tYear: 2016 \tDefense Passing Yards/Game: 210.3\n",
      "Team: Arizona Cardinals \tYear: 2017 \tDefense Passing Yards/Game: 221.3\n",
      "Team: Arizona Cardinals \tYear: 2018 \tDefense Passing Yards/Game: 203.9\n",
      "Team: Arizona Cardinals \tYear: 2019 \tDefense Passing Yards/Game: 281.9\n",
      "Team: Arizona Cardinals \tYear: 2020 \tDefense Passing Yards/Game: 226.4\n",
      "Team: Arizona Cardinals \tYear: 2021 \tDefense Passing Yards/Game: 214.4\n",
      "Team: Arizona Cardinals \tYear: 2022 \tDefense Passing Yards/Game: 230.3\n",
      "Team: Atlanta Falcons \tYear: 2012 \tDefense Passing Yards/Game: 242.4\n",
      "Team: Atlanta Falcons \tYear: 2013 \tDefense Passing Yards/Game: 243.6\n",
      "Team: Atlanta Falcons \tYear: 2014 \tDefense Passing Yards/Game: 279.9\n",
      "Team: Atlanta Falcons \tYear: 2015 \tDefense Passing Yards/Game: 242.6\n",
      "Team: Atlanta Falcons \tYear: 2016 \tDefense Passing Yards/Game: 266.7\n",
      "Team: Atlanta Falcons \tYear: 2017 \tDefense Passing Yards/Game: 214.3\n",
      "Team: Atlanta Falcons \tYear: 2018 \tDefense Passing Yards/Game: 259.6\n",
      "Team: Atlanta Falcons \tYear: 2019 \tDefense Passing Yards/Game: 244.9\n",
      "Team: Atlanta Falcons \tYear: 2020 \tDefense Passing Yards/Game: 293.6\n",
      "Team: Atlanta Falcons \tYear: 2021 \tDefense Passing Yards/Game: 232.5\n",
      "Team: Atlanta Falcons \tYear: 2022 \tDefense Passing Yards/Game: 231.9\n",
      "Team: Baltimore Ravens \tYear: 2012 \tDefense Passing Yards/Game: 228.1\n",
      "Team: Baltimore Ravens \tYear: 2013 \tDefense Passing Yards/Game: 230.1\n",
      "Team: Baltimore Ravens \tYear: 2014 \tDefense Passing Yards/Game: 248.7\n",
      "Team: Baltimore Ravens \tYear: 2015 \tDefense Passing Yards/Game: 233.6\n",
      "Team: Baltimore Ravens \tYear: 2016 \tDefense Passing Yards/Game: 232.8\n",
      "Team: Baltimore Ravens \tYear: 2017 \tDefense Passing Yards/Game: 213.8\n",
      "Team: Baltimore Ravens \tYear: 2018 \tDefense Passing Yards/Game: 210.0\n",
      "Team: Baltimore Ravens \tYear: 2019 \tDefense Passing Yards/Game: 207.2\n",
      "Team: Baltimore Ravens \tYear: 2020 \tDefense Passing Yards/Game: 221.0\n",
      "Team: Baltimore Ravens \tYear: 2021 \tDefense Passing Yards/Game: 278.9\n",
      "Team: Baltimore Ravens \tYear: 2022 \tDefense Passing Yards/Game: 232.2\n",
      "Team: Buffalo Bills \tYear: 2012 \tDefense Passing Yards/Game: 217.1\n",
      "Team: Buffalo Bills \tYear: 2013 \tDefense Passing Yards/Game: 204.4\n",
      "Team: Buffalo Bills \tYear: 2014 \tDefense Passing Yards/Game: 205.8\n",
      "Team: Buffalo Bills \tYear: 2015 \tDefense Passing Yards/Game: 248.2\n",
      "Team: Buffalo Bills \tYear: 2016 \tDefense Passing Yards/Game: 223.9\n",
      "Team: Buffalo Bills \tYear: 2017 \tDefense Passing Yards/Game: 230.5\n",
      "Team: Buffalo Bills \tYear: 2018 \tDefense Passing Yards/Game: 179.2\n",
      "Team: Buffalo Bills \tYear: 2019 \tDefense Passing Yards/Game: 195.2\n",
      "Team: Buffalo Bills \tYear: 2020 \tDefense Passing Yards/Game: 232.9\n",
      "Team: Buffalo Bills \tYear: 2021 \tDefense Passing Yards/Game: 163.0\n",
      "Team: Buffalo Bills \tYear: 2022 \tDefense Passing Yards/Game: 214.6\n",
      "Team: Carolina Panthers \tYear: 2012 \tDefense Passing Yards/Game: 223.0\n",
      "Team: Carolina Panthers \tYear: 2013 \tDefense Passing Yards/Game: 214.3\n",
      "Team: Carolina Panthers \tYear: 2014 \tDefense Passing Yards/Game: 227.8\n",
      "Team: Carolina Panthers \tYear: 2015 \tDefense Passing Yards/Game: 234.5\n",
      "Team: Carolina Panthers \tYear: 2016 \tDefense Passing Yards/Game: 268.2\n",
      "Team: Carolina Panthers \tYear: 2017 \tDefense Passing Yards/Game: 229.1\n",
      "Team: Carolina Panthers \tYear: 2018 \tDefense Passing Yards/Game: 240.4\n",
      "Team: Carolina Panthers \tYear: 2019 \tDefense Passing Yards/Game: 231.0\n",
      "Team: Carolina Panthers \tYear: 2020 \tDefense Passing Yards/Game: 239.1\n",
      "Team: Carolina Panthers \tYear: 2021 \tDefense Passing Yards/Game: 192.1\n",
      "Team: Carolina Panthers \tYear: 2022 \tDefense Passing Yards/Game: 227.5\n",
      "Team: Chicago Bears \tYear: 2012 \tDefense Passing Yards/Game: 213.9\n",
      "Team: Chicago Bears \tYear: 2013 \tDefense Passing Yards/Game: 233.1\n",
      "Team: Chicago Bears \tYear: 2014 \tDefense Passing Yards/Game: 264.4\n",
      "Team: Chicago Bears \tYear: 2015 \tDefense Passing Yards/Game: 224.6\n",
      "Team: Chicago Bears \tYear: 2016 \tDefense Passing Yards/Game: 224.9\n",
      "Team: Chicago Bears \tYear: 2017 \tDefense Passing Yards/Game: 211.0\n",
      "Team: Chicago Bears \tYear: 2018 \tDefense Passing Yards/Game: 219.7\n",
      "Team: Chicago Bears \tYear: 2019 \tDefense Passing Yards/Game: 222.1\n",
      "Team: Chicago Bears \tYear: 2020 \tDefense Passing Yards/Game: 231.6\n",
      "Team: Chicago Bears \tYear: 2021 \tDefense Passing Yards/Game: 191.6\n",
      "Team: Chicago Bears \tYear: 2022 \tDefense Passing Yards/Game: 218.6\n",
      "Team: Cincinnati Bengals \tYear: 2012 \tDefense Passing Yards/Game: 212.5\n",
      "Team: Cincinnati Bengals \tYear: 2013 \tDefense Passing Yards/Game: 209.0\n",
      "Team: Cincinnati Bengals \tYear: 2014 \tDefense Passing Yards/Game: 243.0\n",
      "Team: Cincinnati Bengals \tYear: 2015 \tDefense Passing Yards/Game: 248.5\n",
      "Team: Cincinnati Bengals \tYear: 2016 \tDefense Passing Yards/Game: 237.5\n",
      "Team: Cincinnati Bengals \tYear: 2017 \tDefense Passing Yards/Game: 211.2\n",
      "Team: Cincinnati Bengals \tYear: 2018 \tDefense Passing Yards/Game: 275.9\n",
      "Team: Cincinnati Bengals \tYear: 2019 \tDefense Passing Yards/Game: 244.8\n",
      "Team: Cincinnati Bengals \tYear: 2020 \tDefense Passing Yards/Game: 241.2\n",
      "Team: Cincinnati Bengals \tYear: 2021 \tDefense Passing Yards/Game: 248.4\n",
      "Team: Cincinnati Bengals \tYear: 2022 \tDefense Passing Yards/Game: 229.1\n",
      "Team: Cleveland Browns \tYear: 2012 \tDefense Passing Yards/Game: 245.2\n",
      "Team: Cleveland Browns \tYear: 2013 \tDefense Passing Yards/Game: 221.1\n",
      "Team: Cleveland Browns \tYear: 2014 \tDefense Passing Yards/Game: 224.5\n",
      "Team: Cleveland Browns \tYear: 2015 \tDefense Passing Yards/Game: 250.8\n",
      "Team: Cleveland Browns \tYear: 2016 \tDefense Passing Yards/Game: 249.8\n",
      "Team: Cleveland Browns \tYear: 2017 \tDefense Passing Yards/Game: 230.2\n",
      "Team: Cleveland Browns \tYear: 2018 \tDefense Passing Yards/Game: 257.8\n",
      "Team: Cleveland Browns \tYear: 2019 \tDefense Passing Yards/Game: 216.9\n",
      "Team: Cleveland Browns \tYear: 2020 \tDefense Passing Yards/Game: 247.6\n",
      "Team: Cleveland Browns \tYear: 2021 \tDefense Passing Yards/Game: 202.3\n",
      "Team: Cleveland Browns \tYear: 2022 \tDefense Passing Yards/Game: 196.2\n",
      "Team: Dallas Cowboys \tYear: 2012 \tDefense Passing Yards/Game: 230.2\n",
      "Team: Dallas Cowboys \tYear: 2013 \tDefense Passing Yards/Game: 286.8\n",
      "Team: Dallas Cowboys \tYear: 2014 \tDefense Passing Yards/Game: 251.9\n",
      "Team: Dallas Cowboys \tYear: 2015 \tDefense Passing Yards/Game: 227.0\n",
      "Team: Dallas Cowboys \tYear: 2016 \tDefense Passing Yards/Game: 260.4\n",
      "Team: Dallas Cowboys \tYear: 2017 \tDefense Passing Yards/Game: 214.1\n",
      "Team: Dallas Cowboys \tYear: 2018 \tDefense Passing Yards/Game: 234.7\n",
      "Team: Dallas Cowboys \tYear: 2019 \tDefense Passing Yards/Game: 223.5\n",
      "Team: Dallas Cowboys \tYear: 2020 \tDefense Passing Yards/Game: 227.6\n",
      "Team: Dallas Cowboys \tYear: 2021 \tDefense Passing Yards/Game: 238.2\n",
      "Team: Dallas Cowboys \tYear: 2022 \tDefense Passing Yards/Game: 200.9\n",
      "Team: Denver Broncos \tYear: 2012 \tDefense Passing Yards/Game: 199.6\n",
      "Team: Denver Broncos \tYear: 2013 \tDefense Passing Yards/Game: 254.4\n",
      "Team: Denver Broncos \tYear: 2014 \tDefense Passing Yards/Game: 225.4\n",
      "Team: Denver Broncos \tYear: 2015 \tDefense Passing Yards/Game: 199.6\n",
      "Team: Denver Broncos \tYear: 2016 \tDefense Passing Yards/Game: 185.8\n",
      "Team: Denver Broncos \tYear: 2017 \tDefense Passing Yards/Game: 200.6\n",
      "Team: Denver Broncos \tYear: 2018 \tDefense Passing Yards/Game: 245.6\n",
      "Team: Denver Broncos \tYear: 2019 \tDefense Passing Yards/Game: 225.6\n",
      "Team: Denver Broncos \tYear: 2020 \tDefense Passing Yards/Game: 237.9\n",
      "Team: Denver Broncos \tYear: 2021 \tDefense Passing Yards/Game: 214.8\n",
      "Team: Denver Broncos \tYear: 2022 \tDefense Passing Yards/Game: 210.2\n",
      "Team: Detroit Lions \tYear: 2012 \tDefense Passing Yards/Game: 223.1\n",
      "Team: Detroit Lions \tYear: 2013 \tDefense Passing Yards/Game: 246.9\n",
      "Team: Detroit Lions \tYear: 2014 \tDefense Passing Yards/Game: 231.6\n",
      "Team: Detroit Lions \tYear: 2015 \tDefense Passing Yards/Game: 236.6\n",
      "Team: Detroit Lions \tYear: 2016 \tDefense Passing Yards/Game: 248.4\n",
      "Team: Detroit Lions \tYear: 2017 \tDefense Passing Yards/Game: 243.2\n",
      "Team: Detroit Lions \tYear: 2018 \tDefense Passing Yards/Game: 224.9\n",
      "Team: Detroit Lions \tYear: 2019 \tDefense Passing Yards/Game: 284.4\n",
      "Team: Detroit Lions \tYear: 2020 \tDefense Passing Yards/Game: 284.9\n",
      "Team: Detroit Lions \tYear: 2021 \tDefense Passing Yards/Game: 244.7\n",
      "Team: Detroit Lions \tYear: 2022 \tDefense Passing Yards/Game: 245.8\n",
      "Team: Green Bay Packers \tYear: 2012 \tDefense Passing Yards/Game: 218.2\n",
      "Team: Green Bay Packers \tYear: 2013 \tDefense Passing Yards/Game: 247.2\n",
      "Team: Green Bay Packers \tYear: 2014 \tDefense Passing Yards/Game: 226.4\n",
      "Team: Green Bay Packers \tYear: 2015 \tDefense Passing Yards/Game: 227.6\n",
      "Team: Green Bay Packers \tYear: 2016 \tDefense Passing Yards/Game: 269.2\n",
      "Team: Green Bay Packers \tYear: 2017 \tDefense Passing Yards/Game: 236.8\n",
      "Team: Green Bay Packers \tYear: 2018 \tDefense Passing Yards/Game: 234.5\n",
      "Team: Green Bay Packers \tYear: 2019 \tDefense Passing Yards/Game: 232.6\n",
      "Team: Green Bay Packers \tYear: 2020 \tDefense Passing Yards/Game: 221.2\n",
      "Team: Green Bay Packers \tYear: 2021 \tDefense Passing Yards/Game: 219.1\n",
      "Team: Green Bay Packers \tYear: 2022 \tDefense Passing Yards/Game: 197.0\n",
      "Team: Houston Texans \tYear: 2012 \tDefense Passing Yards/Game: 225.8\n",
      "Team: Houston Texans \tYear: 2013 \tDefense Passing Yards/Game: 195.2\n",
      "Team: Houston Texans \tYear: 2014 \tDefense Passing Yards/Game: 243.1\n",
      "Team: Houston Texans \tYear: 2015 \tDefense Passing Yards/Game: 210.4\n",
      "Team: Houston Texans \tYear: 2016 \tDefense Passing Yards/Game: 201.6\n",
      "Team: Houston Texans \tYear: 2017 \tDefense Passing Yards/Game: 237.4\n",
      "Team: Houston Texans \tYear: 2018 \tDefense Passing Yards/Game: 260.4\n",
      "Team: Houston Texans \tYear: 2019 \tDefense Passing Yards/Game: 267.2\n",
      "Team: Houston Texans \tYear: 2020 \tDefense Passing Yards/Game: 256.5\n",
      "Team: Houston Texans \tYear: 2021 \tDefense Passing Yards/Game: 242.2\n",
      "Team: Houston Texans \tYear: 2022 \tDefense Passing Yards/Game: 209.3\n",
      "Team: Indianapolis Colts \tYear: 2012 \tDefense Passing Yards/Game: 236.8\n",
      "Team: Indianapolis Colts \tYear: 2013 \tDefense Passing Yards/Game: 231.9\n",
      "Team: Indianapolis Colts \tYear: 2014 \tDefense Passing Yards/Game: 229.3\n",
      "Team: Indianapolis Colts \tYear: 2015 \tDefense Passing Yards/Game: 257.1\n",
      "Team: Indianapolis Colts \tYear: 2016 \tDefense Passing Yards/Game: 262.5\n",
      "Team: Indianapolis Colts \tYear: 2017 \tDefense Passing Yards/Game: 246.6\n",
      "Team: Indianapolis Colts \tYear: 2018 \tDefense Passing Yards/Game: 237.8\n",
      "Team: Indianapolis Colts \tYear: 2019 \tDefense Passing Yards/Game: 248.9\n",
      "Team: Indianapolis Colts \tYear: 2020 \tDefense Passing Yards/Game: 241.6\n",
      "Team: Indianapolis Colts \tYear: 2021 \tDefense Passing Yards/Game: 234.1\n",
      "Team: Indianapolis Colts \tYear: 2022 \tDefense Passing Yards/Game: 209.9\n",
      "Team: Jacksonville Jaguars \tYear: 2012 \tDefense Passing Yards/Game: 239.5\n",
      "Team: Jacksonville Jaguars \tYear: 2013 \tDefense Passing Yards/Game: 247.6\n",
      "Team: Jacksonville Jaguars \tYear: 2014 \tDefense Passing Yards/Game: 243.7\n",
      "Team: Jacksonville Jaguars \tYear: 2015 \tDefense Passing Yards/Game: 268.2\n",
      "Team: Jacksonville Jaguars \tYear: 2016 \tDefense Passing Yards/Game: 215.2\n",
      "Team: Jacksonville Jaguars \tYear: 2017 \tDefense Passing Yards/Game: 169.9\n",
      "Team: Jacksonville Jaguars \tYear: 2018 \tDefense Passing Yards/Game: 194.6\n",
      "Team: Jacksonville Jaguars \tYear: 2019 \tDefense Passing Yards/Game: 236.1\n",
      "Team: Jacksonville Jaguars \tYear: 2020 \tDefense Passing Yards/Game: 264.4\n",
      "Team: Jacksonville Jaguars \tYear: 2021 \tDefense Passing Yards/Game: 227.9\n",
      "Team: Jacksonville Jaguars \tYear: 2022 \tDefense Passing Yards/Game: 238.5\n",
      "Team: Kansas City Chiefs \tYear: 2012 \tDefense Passing Yards/Game: 220.8\n",
      "Team: Kansas City Chiefs \tYear: 2013 \tDefense Passing Yards/Game: 247.6\n",
      "Team: Kansas City Chiefs \tYear: 2014 \tDefense Passing Yards/Game: 203.2\n",
      "Team: Kansas City Chiefs \tYear: 2015 \tDefense Passing Yards/Game: 231.1\n",
      "Team: Kansas City Chiefs \tYear: 2016 \tDefense Passing Yards/Game: 247.4\n",
      "Team: Kansas City Chiefs \tYear: 2017 \tDefense Passing Yards/Game: 247.0\n",
      "Team: Kansas City Chiefs \tYear: 2018 \tDefense Passing Yards/Game: 273.4\n",
      "Team: Kansas City Chiefs \tYear: 2019 \tDefense Passing Yards/Game: 221.4\n",
      "Team: Kansas City Chiefs \tYear: 2020 \tDefense Passing Yards/Game: 236.2\n",
      "Team: Kansas City Chiefs \tYear: 2021 \tDefense Passing Yards/Game: 251.4\n",
      "Team: Kansas City Chiefs \tYear: 2022 \tDefense Passing Yards/Game: 220.9\n",
      "Team: Las Vegas Raiders \tYear: 2012 \tDefense Passing Yards/Game: 235.9\n",
      "Team: Las Vegas Raiders \tYear: 2013 \tDefense Passing Yards/Game: 255.8\n",
      "Team: Las Vegas Raiders \tYear: 2014 \tDefense Passing Yards/Game: 238.1\n",
      "Team: Las Vegas Raiders \tYear: 2015 \tDefense Passing Yards/Game: 258.8\n",
      "Team: Las Vegas Raiders \tYear: 2016 \tDefense Passing Yards/Game: 257.5\n",
      "Team: Las Vegas Raiders \tYear: 2017 \tDefense Passing Yards/Game: 241.1\n",
      "Team: Las Vegas Raiders \tYear: 2018 \tDefense Passing Yards/Game: 240.8\n",
      "Team: Las Vegas Raiders \tYear: 2019 \tDefense Passing Yards/Game: 256.7\n",
      "Team: Las Vegas Raiders \tYear: 2020 \tDefense Passing Yards/Game: 263.2\n",
      "Team: Las Vegas Raiders \tYear: 2021 \tDefense Passing Yards/Game: 222.9\n",
      "Team: Las Vegas Raiders \tYear: 2022 \tDefense Passing Yards/Game: 242.9\n",
      "Team: Los Angeles Chargers \tYear: 2012 \tDefense Passing Yards/Game: 230.1\n",
      "Team: Los Angeles Chargers \tYear: 2013 \tDefense Passing Yards/Game: 258.7\n",
      "Team: Los Angeles Chargers \tYear: 2014 \tDefense Passing Yards/Game: 214.2\n",
      "Team: Los Angeles Chargers \tYear: 2015 \tDefense Passing Yards/Game: 236.6\n",
      "Team: Los Angeles Chargers \tYear: 2016 \tDefense Passing Yards/Game: 249.2\n",
      "Team: Los Angeles Chargers \tYear: 2017 \tDefense Passing Yards/Game: 197.2\n",
      "Team: Los Angeles Chargers \tYear: 2018 \tDefense Passing Yards/Game: 227.9\n",
      "Team: Los Angeles Chargers \tYear: 2019 \tDefense Passing Yards/Game: 200.2\n",
      "Team: Los Angeles Chargers \tYear: 2020 \tDefense Passing Yards/Game: 223.6\n",
      "Team: Los Angeles Chargers \tYear: 2021 \tDefense Passing Yards/Game: 221.2\n",
      "Team: Los Angeles Chargers \tYear: 2022 \tDefense Passing Yards/Game: 200.4\n",
      "Team: Los Angeles Rams \tYear: 2012 \tDefense Passing Yards/Game: 225.1\n",
      "Team: Los Angeles Rams \tYear: 2013 \tDefense Passing Yards/Game: 242.1\n",
      "Team: Los Angeles Rams \tYear: 2014 \tDefense Passing Yards/Game: 241.3\n",
      "Team: Los Angeles Rams \tYear: 2015 \tDefense Passing Yards/Game: 254.1\n",
      "Team: Los Angeles Rams \tYear: 2016 \tDefense Passing Yards/Game: 233.2\n",
      "Team: Los Angeles Rams \tYear: 2017 \tDefense Passing Yards/Game: 217.2\n",
      "Team: Los Angeles Rams \tYear: 2018 \tDefense Passing Yards/Game: 236.2\n",
      "Team: Los Angeles Rams \tYear: 2019 \tDefense Passing Yards/Game: 226.6\n",
      "Team: Los Angeles Rams \tYear: 2020 \tDefense Passing Yards/Game: 190.7\n",
      "Team: Los Angeles Rams \tYear: 2021 \tDefense Passing Yards/Game: 241.7\n",
      "Team: Los Angeles Rams \tYear: 2022 \tDefense Passing Yards/Game: 226.0\n",
      "Team: Miami Dolphins \tYear: 2012 \tDefense Passing Yards/Game: 248.4\n",
      "Team: Miami Dolphins \tYear: 2013 \tDefense Passing Yards/Game: 234.5\n",
      "Team: Miami Dolphins \tYear: 2014 \tDefense Passing Yards/Game: 222.3\n",
      "Team: Miami Dolphins \tYear: 2015 \tDefense Passing Yards/Game: 250.0\n",
      "Team: Miami Dolphins \tYear: 2016 \tDefense Passing Yards/Game: 242.2\n",
      "Team: Miami Dolphins \tYear: 2017 \tDefense Passing Yards/Game: 225.2\n",
      "Team: Miami Dolphins \tYear: 2018 \tDefense Passing Yards/Game: 245.8\n",
      "Team: Miami Dolphins \tYear: 2019 \tDefense Passing Yards/Game: 262.4\n",
      "Team: Miami Dolphins \tYear: 2020 \tDefense Passing Yards/Game: 251.5\n",
      "Team: Miami Dolphins \tYear: 2021 \tDefense Passing Yards/Game: 227.7\n",
      "Team: Miami Dolphins \tYear: 2022 \tDefense Passing Yards/Game: 234.8\n",
      "Team: Minnesota Vikings \tYear: 2012 \tDefense Passing Yards/Game: 244.2\n",
      "Team: Minnesota Vikings \tYear: 2013 \tDefense Passing Yards/Game: 287.2\n",
      "Team: Minnesota Vikings \tYear: 2014 \tDefense Passing Yards/Game: 223.2\n",
      "Team: Minnesota Vikings \tYear: 2015 \tDefense Passing Yards/Game: 234.9\n",
      "Team: Minnesota Vikings \tYear: 2016 \tDefense Passing Yards/Game: 207.9\n",
      "Team: Minnesota Vikings \tYear: 2017 \tDefense Passing Yards/Game: 192.4\n",
      "Team: Minnesota Vikings \tYear: 2018 \tDefense Passing Yards/Game: 196.2\n",
      "Team: Minnesota Vikings \tYear: 2019 \tDefense Passing Yards/Game: 233.6\n",
      "Team: Minnesota Vikings \tYear: 2020 \tDefense Passing Yards/Game: 258.8\n",
      "Team: Minnesota Vikings \tYear: 2021 \tDefense Passing Yards/Game: 252.9\n",
      "Team: Minnesota Vikings \tYear: 2022 \tDefense Passing Yards/Game: 265.6\n",
      "Team: New England Patriots \tYear: 2012 \tDefense Passing Yards/Game: 271.4\n",
      "Team: New England Patriots \tYear: 2013 \tDefense Passing Yards/Game: 239.0\n",
      "Team: New England Patriots \tYear: 2014 \tDefense Passing Yards/Game: 239.8\n",
      "Team: New England Patriots \tYear: 2015 \tDefense Passing Yards/Game: 240.7\n",
      "Team: New England Patriots \tYear: 2016 \tDefense Passing Yards/Game: 237.9\n",
      "Team: New England Patriots \tYear: 2017 \tDefense Passing Yards/Game: 251.2\n",
      "Team: New England Patriots \tYear: 2018 \tDefense Passing Yards/Game: 246.4\n",
      "Team: New England Patriots \tYear: 2019 \tDefense Passing Yards/Game: 180.4\n",
      "Team: New England Patriots \tYear: 2020 \tDefense Passing Yards/Game: 222.3\n",
      "Team: New England Patriots \tYear: 2021 \tDefense Passing Yards/Game: 187.1\n",
      "Team: New England Patriots \tYear: 2022 \tDefense Passing Yards/Game: 216.5\n",
      "Team: New Orleans Saints \tYear: 2012 \tDefense Passing Yards/Game: 292.6\n",
      "Team: New Orleans Saints \tYear: 2013 \tDefense Passing Yards/Game: 194.1\n",
      "Team: New Orleans Saints \tYear: 2014 \tDefense Passing Yards/Game: 251.2\n",
      "Team: New Orleans Saints \tYear: 2015 \tDefense Passing Yards/Game: 284.0\n",
      "Team: New Orleans Saints \tYear: 2016 \tDefense Passing Yards/Game: 273.8\n",
      "Team: New Orleans Saints \tYear: 2017 \tDefense Passing Yards/Game: 224.8\n",
      "Team: New Orleans Saints \tYear: 2019 \tDefense Passing Yards/Game: 241.8\n",
      "Team: New Orleans Saints \tYear: 2020 \tDefense Passing Yards/Game: 217.0\n",
      "Team: New Orleans Saints \tYear: 2021 \tDefense Passing Yards/Game: 224.8\n",
      "Team: New Orleans Saints \tYear: 2022 \tDefense Passing Yards/Game: 184.4\n",
      "Team: New York Giants \tYear: 2012 \tDefense Passing Yards/Game: 254.2\n",
      "Team: New York Giants \tYear: 2013 \tDefense Passing Yards/Game: 223.3\n",
      "Team: New York Giants \tYear: 2014 \tDefense Passing Yards/Game: 240.6\n",
      "Team: New York Giants \tYear: 2015 \tDefense Passing Yards/Game: 298.9\n",
      "Team: New York Giants \tYear: 2016 \tDefense Passing Yards/Game: 251.1\n",
      "Team: New York Giants \tYear: 2017 \tDefense Passing Yards/Game: 252.4\n",
      "Team: New York Giants \tYear: 2018 \tDefense Passing Yards/Game: 252.8\n",
      "Team: New York Giants \tYear: 2019 \tDefense Passing Yards/Game: 264.1\n",
      "Team: New York Giants \tYear: 2020 \tDefense Passing Yards/Game: 237.9\n",
      "Team: New York Giants \tYear: 2021 \tDefense Passing Yards/Game: 225.8\n",
      "Team: New York Giants \tYear: 2022 \tDefense Passing Yards/Game: 214.0\n",
      "Team: New York Jets \tYear: 2012 \tDefense Passing Yards/Game: 189.8\n",
      "Team: New York Jets \tYear: 2013 \tDefense Passing Yards/Game: 246.7\n",
      "Team: New York Jets \tYear: 2014 \tDefense Passing Yards/Game: 234.1\n",
      "Team: New York Jets \tYear: 2015 \tDefense Passing Yards/Game: 235.2\n",
      "Team: New York Jets \tYear: 2016 \tDefense Passing Yards/Game: 243.6\n",
      "Team: New York Jets \tYear: 2017 \tDefense Passing Yards/Game: 234.3\n",
      "Team: New York Jets \tYear: 2018 \tDefense Passing Yards/Game: 254.1\n",
      "Team: New York Jets \tYear: 2019 \tDefense Passing Yards/Game: 236.2\n",
      "Team: New York Jets \tYear: 2020 \tDefense Passing Yards/Game: 275.6\n",
      "Team: New York Jets \tYear: 2021 \tDefense Passing Yards/Game: 259.4\n",
      "Team: New York Jets \tYear: 2022 \tDefense Passing Yards/Game: 189.4\n",
      "Team: Philadelphia Eagles \tYear: 2012 \tDefense Passing Yards/Game: 216.9\n",
      "Team: Philadelphia Eagles \tYear: 2013 \tDefense Passing Yards/Game: 289.8\n",
      "Team: Philadelphia Eagles \tYear: 2014 \tDefense Passing Yards/Game: 264.9\n",
      "Team: Philadelphia Eagles \tYear: 2015 \tDefense Passing Yards/Game: 267.1\n",
      "Team: Philadelphia Eagles \tYear: 2016 \tDefense Passing Yards/Game: 239.5\n",
      "Team: Philadelphia Eagles \tYear: 2017 \tDefense Passing Yards/Game: 227.3\n",
      "Team: Philadelphia Eagles \tYear: 2018 \tDefense Passing Yards/Game: 269.2\n",
      "Team: Philadelphia Eagles \tYear: 2019 \tDefense Passing Yards/Game: 241.6\n",
      "Team: Philadelphia Eagles \tYear: 2020 \tDefense Passing Yards/Game: 237.4\n",
      "Team: Philadelphia Eagles \tYear: 2021 \tDefense Passing Yards/Game: 220.9\n",
      "Team: Philadelphia Eagles \tYear: 2022 \tDefense Passing Yards/Game: 179.8\n",
      "Team: Pittsburgh Steelers \tYear: 2012 \tDefense Passing Yards/Game: 185.2\n",
      "Team: Pittsburgh Steelers \tYear: 2013 \tDefense Passing Yards/Game: 222.1\n",
      "Team: Pittsburgh Steelers \tYear: 2014 \tDefense Passing Yards/Game: 253.1\n",
      "Team: Pittsburgh Steelers \tYear: 2015 \tDefense Passing Yards/Game: 271.9\n",
      "Team: Pittsburgh Steelers \tYear: 2016 \tDefense Passing Yards/Game: 242.6\n",
      "Team: Pittsburgh Steelers \tYear: 2017 \tDefense Passing Yards/Game: 201.1\n",
      "Team: Pittsburgh Steelers \tYear: 2018 \tDefense Passing Yards/Game: 231.1\n",
      "Team: Pittsburgh Steelers \tYear: 2019 \tDefense Passing Yards/Game: 194.6\n",
      "Team: Pittsburgh Steelers \tYear: 2020 \tDefense Passing Yards/Game: 194.4\n",
      "Team: Pittsburgh Steelers \tYear: 2021 \tDefense Passing Yards/Game: 215.1\n",
      "Team: Pittsburgh Steelers \tYear: 2022 \tDefense Passing Yards/Game: 222.3\n",
      "Team: San Francisco 49ers \tYear: 2012 \tDefense Passing Yards/Game: 200.2\n",
      "Team: San Francisco 49ers \tYear: 2013 \tDefense Passing Yards/Game: 221.0\n",
      "Team: San Francisco 49ers \tYear: 2014 \tDefense Passing Yards/Game: 220.7\n",
      "Team: San Francisco 49ers \tYear: 2015 \tDefense Passing Yards/Game: 261.2\n",
      "Team: San Francisco 49ers \tYear: 2016 \tDefense Passing Yards/Game: 240.5\n",
      "Team: San Francisco 49ers \tYear: 2017 \tDefense Passing Yards/Game: 235.2\n",
      "Team: San Francisco 49ers \tYear: 2018 \tDefense Passing Yards/Game: 233.2\n",
      "Team: San Francisco 49ers \tYear: 2019 \tDefense Passing Yards/Game: 169.2\n",
      "Team: San Francisco 49ers \tYear: 2020 \tDefense Passing Yards/Game: 207.9\n",
      "Team: San Francisco 49ers \tYear: 2021 \tDefense Passing Yards/Game: 206.5\n",
      "Team: San Francisco 49ers \tYear: 2022 \tDefense Passing Yards/Game: 222.9\n",
      "Team: Seattle Seahawks \tYear: 2012 \tDefense Passing Yards/Game: 203.1\n",
      "Team: Seattle Seahawks \tYear: 2013 \tDefense Passing Yards/Game: 172.0\n",
      "Team: Seattle Seahawks \tYear: 2014 \tDefense Passing Yards/Game: 185.6\n",
      "Team: Seattle Seahawks \tYear: 2015 \tDefense Passing Yards/Game: 210.2\n",
      "Team: Seattle Seahawks \tYear: 2016 \tDefense Passing Yards/Game: 225.8\n",
      "Team: Seattle Seahawks \tYear: 2017 \tDefense Passing Yards/Game: 209.2\n",
      "Team: Seattle Seahawks \tYear: 2018 \tDefense Passing Yards/Game: 240.1\n",
      "Team: Seattle Seahawks \tYear: 2019 \tDefense Passing Yards/Game: 263.9\n",
      "Team: Seattle Seahawks \tYear: 2020 \tDefense Passing Yards/Game: 285.0\n",
      "Team: Seattle Seahawks \tYear: 2021 \tDefense Passing Yards/Game: 265.5\n",
      "Team: Seattle Seahawks \tYear: 2022 \tDefense Passing Yards/Game: 211.5\n",
      "Team: Tampa Bay Buccaneers \tYear: 2012 \tDefense Passing Yards/Game: 297.4\n",
      "Team: Tampa Bay Buccaneers \tYear: 2013 \tDefense Passing Yards/Game: 237.9\n",
      "Team: Tampa Bay Buccaneers \tYear: 2014 \tDefense Passing Yards/Game: 255.2\n",
      "Team: Tampa Bay Buccaneers \tYear: 2015 \tDefense Passing Yards/Game: 240.0\n",
      "Team: Tampa Bay Buccaneers \tYear: 2016 \tDefense Passing Yards/Game: 250.8\n",
      "Team: Tampa Bay Buccaneers \tYear: 2017 \tDefense Passing Yards/Game: 260.6\n",
      "Team: Tampa Bay Buccaneers \tYear: 2018 \tDefense Passing Yards/Game: 259.4\n",
      "Team: Tampa Bay Buccaneers \tYear: 2019 \tDefense Passing Yards/Game: 270.1\n"
     ]
    },
    {
     "name": "stdout",
     "output_type": "stream",
     "text": [
      "Team: Tampa Bay Buccaneers \tYear: 2020 \tDefense Passing Yards/Game: 246.6\n",
      "Team: Tampa Bay Buccaneers \tYear: 2021 \tDefense Passing Yards/Game: 238.9\n",
      "Team: Tampa Bay Buccaneers \tYear: 2022 \tDefense Passing Yards/Game: 203.6\n",
      "Team: Tennessee Titans \tYear: 2012 \tDefense Passing Yards/Game: 247.8\n",
      "Team: Tennessee Titans \tYear: 2013 \tDefense Passing Yards/Game: 225.8\n",
      "Team: Tennessee Titans \tYear: 2014 \tDefense Passing Yards/Game: 235.8\n",
      "Team: Tennessee Titans \tYear: 2015 \tDefense Passing Yards/Game: 229.9\n",
      "Team: Tennessee Titans \tYear: 2016 \tDefense Passing Yards/Game: 269.2\n",
      "Team: Tennessee Titans \tYear: 2017 \tDefense Passing Yards/Game: 239.2\n",
      "Team: Tennessee Titans \tYear: 2018 \tDefense Passing Yards/Game: 216.9\n",
      "Team: Tennessee Titans \tYear: 2019 \tDefense Passing Yards/Game: 255.0\n",
      "Team: Tennessee Titans \tYear: 2020 \tDefense Passing Yards/Game: 277.4\n",
      "Team: Tennessee Titans \tYear: 2021 \tDefense Passing Yards/Game: 245.2\n",
      "Team: Tennessee Titans \tYear: 2022 \tDefense Passing Yards/Game: 274.8\n",
      "Team: Washington Commanders \tYear: 2012 \tDefense Passing Yards/Game: 281.9\n",
      "Team: Washington Commanders \tYear: 2013 \tDefense Passing Yards/Game: 243.5\n",
      "Team: Washington Commanders \tYear: 2014 \tDefense Passing Yards/Game: 249.4\n",
      "Team: Washington Commanders \tYear: 2015 \tDefense Passing Yards/Game: 258.0\n",
      "Team: Washington Commanders \tYear: 2016 \tDefense Passing Yards/Game: 258.1\n",
      "Team: Washington Commanders \tYear: 2017 \tDefense Passing Yards/Game: 213.8\n",
      "Team: Washington Commanders \tYear: 2018 \tDefense Passing Yards/Game: 237.1\n",
      "Team: Washington Commanders \tYear: 2019 \tDefense Passing Yards/Game: 238.9\n",
      "Team: Washington Commanders \tYear: 2020 \tDefense Passing Yards/Game: 191.8\n",
      "Team: Washington Commanders \tYear: 2021 \tDefense Passing Yards/Game: 254.9\n",
      "Team: Washington Commanders \tYear: 2022 \tDefense Passing Yards/Game: 191.3\n"
     ]
    }
   ],
   "source": [
    "team_names = nflDpassgm['Team'].unique()\n",
    "\n",
    "# Iterate over each team\n",
    "for team_name in team_names:\n",
    "    team_data = nflDpassgm[nflDpassgm['Team'] == team_name]\n",
    "    \n",
    "    # Display the total Defense passing yards per game for each year\n",
    "    for year in team_data['Year'].unique():\n",
    "        team_gmpass_yards = team_data.loc[team_data['Year'] == year, 'Def PYds/G'].values[0]\n",
    "        print(\"Team:\", team_name, \"\\tYear:\", year, \"\\tDefense Passing Yards/Game:\", team_gmpass_yards)"
   ]
  },
  {
   "cell_type": "markdown",
   "id": "b7c99af6",
   "metadata": {},
   "source": [
    "#### Calculate Descriptive Statistics on Defense Passing Yards allowed per game for all Teams. These statistics are the yards allowed and their mean, median, standard deviation, variance, min, max, range, and sum."
   ]
  },
  {
   "cell_type": "markdown",
   "id": "186c620f",
   "metadata": {},
   "source": [
    "### Arizona Cardinals"
   ]
  },
  {
   "cell_type": "code",
   "execution_count": 7,
   "id": "7444d978",
   "metadata": {},
   "outputs": [
    {
     "name": "stdout",
     "output_type": "stream",
     "text": [
      "Arizona Cardinals Defense Passing Yards/Game Mean: 228.3818181818182\n",
      "Arizona Cardinals Defense Passing Yards/Game Median: 226.4\n",
      "Arizona Cardinals Defense Passing Yards/Game Standard Deviation: 24.079568857511465\n",
      "Arizona Cardinals Defense Passing Yards/Game Variance: 579.8256363636359\n",
      "Arizona Cardinals Defense Passing Yards/Game Minimum: 200.8\n",
      "Arizona Cardinals Defense Passing Yards/Game Maximum: 281.9\n",
      "Arizona Cardinals Defense Passing Yards/Game Range: 81.09999999999997\n",
      "Arizona Cardinals Defense Total Passing Yards/Game 2012-2022: 2512.2000000000003\n"
     ]
    }
   ],
   "source": [
    "team_name1 = 'Arizona Cardinals'\n",
    "cardinals_data = nflDpassgm[nflDpassgm['Team'] == team_name1]\n",
    "mean_value = cardinals_data['Def PYds/G'].mean()\n",
    "median_value = cardinals_data['Def PYds/G'].median()\n",
    "std_value = cardinals_data['Def PYds/G'].std()\n",
    "var_value = cardinals_data['Def PYds/G'].var()\n",
    "min_value = cardinals_data['Def PYds/G'].min()\n",
    "max_value = cardinals_data['Def PYds/G'].max()\n",
    "data_range = max_value - min_value\n",
    "total_points = cardinals_data['Def PYds/G'].sum()\n",
    "print(\"Arizona Cardinals Defense Passing Yards/Game Mean:\", mean_value)\n",
    "print(\"Arizona Cardinals Defense Passing Yards/Game Median:\", median_value)\n",
    "print(\"Arizona Cardinals Defense Passing Yards/Game Standard Deviation:\", std_value)\n",
    "print(\"Arizona Cardinals Defense Passing Yards/Game Variance:\", var_value)\n",
    "print(\"Arizona Cardinals Defense Passing Yards/Game Minimum:\", min_value)\n",
    "print(\"Arizona Cardinals Defense Passing Yards/Game Maximum:\", max_value)\n",
    "print(\"Arizona Cardinals Defense Passing Yards/Game Range:\", data_range)\n",
    "print(\"Arizona Cardinals Defense Total Passing Yards/Game 2012-2022:\", total_points)"
   ]
  },
  {
   "cell_type": "markdown",
   "id": "9c54bb44",
   "metadata": {},
   "source": [
    "### Atlanta Falcons"
   ]
  },
  {
   "cell_type": "code",
   "execution_count": 8,
   "id": "cf5c0251",
   "metadata": {},
   "outputs": [
    {
     "name": "stdout",
     "output_type": "stream",
     "text": [
      "Atlanta Falcons Defense Passing Yards/Game Mean: 250.1818181818182\n",
      "Atlanta Falcons Defense Passing Yards/Game Median: 243.6\n",
      "Atlanta Falcons Defense Passing Yards/Game Standard Deviation: 22.920506895870265\n",
      "Atlanta Falcons Defense Passing Yards/Game Variance: 525.3496363636364\n",
      "Atlanta Falcons Defense Passing Yards/Game Minimum: 214.3\n",
      "Atlanta Falcons Defense Passing Yards/Game Maximum: 293.6\n",
      "Atlanta Falcons Defense Passing Yards/Game Range: 79.30000000000001\n",
      "Atlanta Falcons Defense Total Passing Yards/Game 2012-2022: 2752.0\n"
     ]
    }
   ],
   "source": [
    "team_name2 = 'Atlanta Falcons'\n",
    "falcons_data = nflDpassgm[nflDpassgm['Team'] == team_name2]\n",
    "mean_value = falcons_data['Def PYds/G'].mean()\n",
    "median_value = falcons_data['Def PYds/G'].median()\n",
    "std_value = falcons_data['Def PYds/G'].std()\n",
    "var_value = falcons_data['Def PYds/G'].var()\n",
    "min_value = falcons_data['Def PYds/G'].min()\n",
    "max_value = falcons_data['Def PYds/G'].max()\n",
    "data_range = max_value - min_value\n",
    "total_points = falcons_data['Def PYds/G'].sum()\n",
    "print(\"Atlanta Falcons Defense Passing Yards/Game Mean:\", mean_value)\n",
    "print(\"Atlanta Falcons Defense Passing Yards/Game Median:\", median_value)\n",
    "print(\"Atlanta Falcons Defense Passing Yards/Game Standard Deviation:\", std_value)\n",
    "print(\"Atlanta Falcons Defense Passing Yards/Game Variance:\", var_value)\n",
    "print(\"Atlanta Falcons Defense Passing Yards/Game Minimum:\", min_value)\n",
    "print(\"Atlanta Falcons Defense Passing Yards/Game Maximum:\", max_value)\n",
    "print(\"Atlanta Falcons Defense Passing Yards/Game Range:\", data_range)\n",
    "print(\"Atlanta Falcons Defense Total Passing Yards/Game 2012-2022:\", total_points)"
   ]
  },
  {
   "cell_type": "markdown",
   "id": "7f0431cc",
   "metadata": {},
   "source": [
    "### Baltimore Ravens"
   ]
  },
  {
   "cell_type": "code",
   "execution_count": 9,
   "id": "76b5c9c4",
   "metadata": {},
   "outputs": [
    {
     "name": "stdout",
     "output_type": "stream",
     "text": [
      "Baltimore Ravens Defense Passing Yards/Game Mean: 230.58181818181814\n",
      "Baltimore Ravens Defense Passing Yards/Game Median: 230.1\n",
      "Baltimore Ravens Defense Passing Yards/Game Standard Deviation: 20.074153440771447\n",
      "Baltimore Ravens Defense Passing Yards/Game Variance: 402.9716363636361\n",
      "Baltimore Ravens Defense Passing Yards/Game Minimum: 207.2\n",
      "Baltimore Ravens Defense Passing Yards/Game Maximum: 278.9\n",
      "Baltimore Ravens Defense Passing Yards/Game Range: 71.69999999999999\n",
      "Baltimore Ravens Defense Total Passing Yards/Game 2012-2022: 2536.3999999999996\n"
     ]
    }
   ],
   "source": [
    "team_name3 = 'Baltimore Ravens'\n",
    "ravens_data = nflDpassgm[nflDpassgm['Team'] == team_name3]\n",
    "mean_value = ravens_data['Def PYds/G'].mean()\n",
    "median_value = ravens_data['Def PYds/G'].median()\n",
    "std_value = ravens_data['Def PYds/G'].std()\n",
    "var_value = ravens_data['Def PYds/G'].var()\n",
    "min_value = ravens_data['Def PYds/G'].min()\n",
    "max_value = ravens_data['Def PYds/G'].max()\n",
    "data_range = max_value - min_value\n",
    "total_points = ravens_data['Def PYds/G'].sum()\n",
    "print(\"Baltimore Ravens Defense Passing Yards/Game Mean:\", mean_value)\n",
    "print(\"Baltimore Ravens Defense Passing Yards/Game Median:\", median_value)\n",
    "print(\"Baltimore Ravens Defense Passing Yards/Game Standard Deviation:\", std_value)\n",
    "print(\"Baltimore Ravens Defense Passing Yards/Game Variance:\", var_value)\n",
    "print(\"Baltimore Ravens Defense Passing Yards/Game Minimum:\", min_value)\n",
    "print(\"Baltimore Ravens Defense Passing Yards/Game Maximum:\", max_value)\n",
    "print(\"Baltimore Ravens Defense Passing Yards/Game Range:\", data_range)\n",
    "print(\"Baltimore Ravens Defense Total Passing Yards/Game 2012-2022:\", total_points)"
   ]
  },
  {
   "cell_type": "markdown",
   "id": "95049040",
   "metadata": {},
   "source": [
    "### Buffalo Bills"
   ]
  },
  {
   "cell_type": "code",
   "execution_count": 10,
   "id": "09989626",
   "metadata": {},
   "outputs": [
    {
     "name": "stdout",
     "output_type": "stream",
     "text": [
      "Buffalo Bills Defense Passing Yards/Game Mean: 210.43636363636367\n",
      "Buffalo Bills Defense Passing Yards/Game Median: 214.6\n",
      "Buffalo Bills Defense Passing Yards/Game Standard Deviation: 24.68251497425952\n",
      "Buffalo Bills Defense Passing Yards/Game Variance: 609.2265454545454\n",
      "Buffalo Bills Defense Passing Yards/Game Minimum: 163.0\n",
      "Buffalo Bills Defense Passing Yards/Game Maximum: 248.2\n",
      "Buffalo Bills Defense Passing Yards/Game Range: 85.19999999999999\n",
      "Buffalo Bills Defense Total Passing Yards/Game 2012-2022: 2314.7999999999997\n"
     ]
    }
   ],
   "source": [
    "team_name4 = 'Buffalo Bills'\n",
    "bills_data = nflDpassgm[nflDpassgm['Team'] == team_name4]\n",
    "mean_value = bills_data['Def PYds/G'].mean()\n",
    "median_value = bills_data['Def PYds/G'].median()\n",
    "std_value = bills_data['Def PYds/G'].std()\n",
    "var_value = bills_data['Def PYds/G'].var()\n",
    "min_value = bills_data['Def PYds/G'].min()\n",
    "max_value = bills_data['Def PYds/G'].max()\n",
    "data_range = max_value - min_value\n",
    "total_points = bills_data['Def PYds/G'].sum()\n",
    "print(\"Buffalo Bills Defense Passing Yards/Game Mean:\", mean_value)\n",
    "print(\"Buffalo Bills Defense Passing Yards/Game Median:\", median_value)\n",
    "print(\"Buffalo Bills Defense Passing Yards/Game Standard Deviation:\", std_value)\n",
    "print(\"Buffalo Bills Defense Passing Yards/Game Variance:\", var_value)\n",
    "print(\"Buffalo Bills Defense Passing Yards/Game Minimum:\", min_value)\n",
    "print(\"Buffalo Bills Defense Passing Yards/Game Maximum:\", max_value)\n",
    "print(\"Buffalo Bills Defense Passing Yards/Game Range:\", data_range)\n",
    "print(\"Buffalo Bills Defense Total Passing Yards/Game 2012-2022:\", total_points)"
   ]
  },
  {
   "cell_type": "markdown",
   "id": "e4ca8cea",
   "metadata": {},
   "source": [
    "### Carolina Panthers"
   ]
  },
  {
   "cell_type": "code",
   "execution_count": 11,
   "id": "086d4169",
   "metadata": {},
   "outputs": [
    {
     "name": "stdout",
     "output_type": "stream",
     "text": [
      "Carolina Panthers Defense Passing Yards/Game Mean: 229.72727272727272\n",
      "Carolina Panthers Defense Passing Yards/Game Median: 229.1\n",
      "Carolina Panthers Defense Passing Yards/Game Standard Deviation: 18.47820829567038\n",
      "Carolina Panthers Defense Passing Yards/Game Variance: 341.44418181818173\n",
      "Carolina Panthers Defense Passing Yards/Game Minimum: 192.1\n",
      "Carolina Panthers Defense Passing Yards/Game Maximum: 268.2\n",
      "Carolina Panthers Defense Passing Yards/Game Range: 76.1\n",
      "Carolina Panthers Defense Total Passing Yards/Game 2012-2022: 2527.0\n"
     ]
    }
   ],
   "source": [
    "team_name5 = 'Carolina Panthers'\n",
    "panthers_data = nflDpassgm[nflDpassgm['Team'] == team_name5]\n",
    "mean_value = panthers_data['Def PYds/G'].mean()\n",
    "median_value = panthers_data['Def PYds/G'].median()\n",
    "std_value = panthers_data['Def PYds/G'].std()\n",
    "var_value = panthers_data['Def PYds/G'].var()\n",
    "min_value = panthers_data['Def PYds/G'].min()\n",
    "max_value = panthers_data['Def PYds/G'].max()\n",
    "data_range = max_value - min_value\n",
    "total_points = panthers_data['Def PYds/G'].sum()\n",
    "print(\"Carolina Panthers Defense Passing Yards/Game Mean:\", mean_value)\n",
    "print(\"Carolina Panthers Defense Passing Yards/Game Median:\", median_value)\n",
    "print(\"Carolina Panthers Defense Passing Yards/Game Standard Deviation:\", std_value)\n",
    "print(\"Carolina Panthers Defense Passing Yards/Game Variance:\", var_value)\n",
    "print(\"Carolina Panthers Defense Passing Yards/Game Minimum:\", min_value)\n",
    "print(\"Carolina Panthers Defense Passing Yards/Game Maximum:\", max_value)\n",
    "print(\"Carolina Panthers Defense Passing Yards/Game Range:\", data_range)\n",
    "print(\"Carolina Panthers Defense Total Passing Yards/Game 2012-2022:\", total_points)"
   ]
  },
  {
   "cell_type": "markdown",
   "id": "a8e04f1e",
   "metadata": {},
   "source": [
    "### Chicago Bears"
   ]
  },
  {
   "cell_type": "code",
   "execution_count": 12,
   "id": "95cef721",
   "metadata": {},
   "outputs": [
    {
     "name": "stdout",
     "output_type": "stream",
     "text": [
      "Chicago Bears Defense Passing Yards/Game Mean: 223.22727272727272\n",
      "Chicago Bears Defense Passing Yards/Game Median: 222.1\n",
      "Chicago Bears Defense Passing Yards/Game Standard Deviation: 17.71824432098682\n",
      "Chicago Bears Defense Passing Yards/Game Variance: 313.9361818181817\n",
      "Chicago Bears Defense Passing Yards/Game Minimum: 191.6\n",
      "Chicago Bears Defense Passing Yards/Game Maximum: 264.4\n",
      "Chicago Bears Defense Passing Yards/Game Range: 72.79999999999998\n",
      "Chicago Bears Defense Total Passing Yards/Game 2012-2022: 2455.4999999999995\n"
     ]
    }
   ],
   "source": [
    "team_name6 = 'Chicago Bears'\n",
    "bears_data = nflDpassgm[nflDpassgm['Team'] == team_name6]\n",
    "mean_value = bears_data['Def PYds/G'].mean()\n",
    "median_value = bears_data['Def PYds/G'].median()\n",
    "std_value = bears_data['Def PYds/G'].std()\n",
    "var_value = bears_data['Def PYds/G'].var()\n",
    "min_value = bears_data['Def PYds/G'].min()\n",
    "max_value = bears_data['Def PYds/G'].max()\n",
    "data_range = max_value - min_value\n",
    "total_points = bears_data['Def PYds/G'].sum()\n",
    "print(\"Chicago Bears Defense Passing Yards/Game Mean:\", mean_value)\n",
    "print(\"Chicago Bears Defense Passing Yards/Game Median:\", median_value)\n",
    "print(\"Chicago Bears Defense Passing Yards/Game Standard Deviation:\", std_value)\n",
    "print(\"Chicago Bears Defense Passing Yards/Game Variance:\", var_value)\n",
    "print(\"Chicago Bears Defense Passing Yards/Game Minimum:\", min_value)\n",
    "print(\"Chicago Bears Defense Passing Yards/Game Maximum:\", max_value)\n",
    "print(\"Chicago Bears Defense Passing Yards/Game Range:\", data_range)\n",
    "print(\"Chicago Bears Defense Total Passing Yards/Game 2012-2022:\", total_points)"
   ]
  },
  {
   "cell_type": "markdown",
   "id": "c44407e7",
   "metadata": {},
   "source": [
    "### Cincinnati Bengals"
   ]
  },
  {
   "cell_type": "code",
   "execution_count": 13,
   "id": "248b9120",
   "metadata": {},
   "outputs": [
    {
     "name": "stdout",
     "output_type": "stream",
     "text": [
      "Cincinnati Bengals Defense Passing Yards/Game Mean: 236.46363636363637\n",
      "Cincinnati Bengals Defense Passing Yards/Game Median: 241.2\n",
      "Cincinnati Bengals Defense Passing Yards/Game Standard Deviation: 19.99821355657913\n",
      "Cincinnati Bengals Defense Passing Yards/Game Variance: 399.9285454545454\n",
      "Cincinnati Bengals Defense Passing Yards/Game Minimum: 209.0\n",
      "Cincinnati Bengals Defense Passing Yards/Game Maximum: 275.9\n",
      "Cincinnati Bengals Defense Passing Yards/Game Range: 66.89999999999998\n",
      "Cincinnati Bengals Defense Total Passing Yards/Game 2012-2022: 2601.1\n"
     ]
    }
   ],
   "source": [
    "team_name7 = 'Cincinnati Bengals'\n",
    "bengals_data = nflDpassgm[nflDpassgm['Team'] == team_name7]\n",
    "mean_value = bengals_data['Def PYds/G'].mean()\n",
    "median_value = bengals_data['Def PYds/G'].median()\n",
    "std_value = bengals_data['Def PYds/G'].std()\n",
    "var_value = bengals_data['Def PYds/G'].var()\n",
    "min_value = bengals_data['Def PYds/G'].min()\n",
    "max_value = bengals_data['Def PYds/G'].max()\n",
    "data_range = max_value - min_value\n",
    "total_points = bengals_data['Def PYds/G'].sum()\n",
    "print(\"Cincinnati Bengals Defense Passing Yards/Game Mean:\", mean_value)\n",
    "print(\"Cincinnati Bengals Defense Passing Yards/Game Median:\", median_value)\n",
    "print(\"Cincinnati Bengals Defense Passing Yards/Game Standard Deviation:\", std_value)\n",
    "print(\"Cincinnati Bengals Defense Passing Yards/Game Variance:\", var_value)\n",
    "print(\"Cincinnati Bengals Defense Passing Yards/Game Minimum:\", min_value)\n",
    "print(\"Cincinnati Bengals Defense Passing Yards/Game Maximum:\", max_value)\n",
    "print(\"Cincinnati Bengals Defense Passing Yards/Game Range:\", data_range)\n",
    "print(\"Cincinnati Bengals Defense Total Passing Yards/Game 2012-2022:\", total_points)"
   ]
  },
  {
   "cell_type": "markdown",
   "id": "173eaf2f",
   "metadata": {},
   "source": [
    "### Cleveland Browns"
   ]
  },
  {
   "cell_type": "code",
   "execution_count": 14,
   "id": "e52f3585",
   "metadata": {},
   "outputs": [
    {
     "name": "stdout",
     "output_type": "stream",
     "text": [
      "Cleveland Browns Defense Passing Yards/Game Mean: 231.12727272727273\n",
      "Cleveland Browns Defense Passing Yards/Game Median: 230.2\n",
      "Cleveland Browns Defense Passing Yards/Game Standard Deviation: 20.77301571313568\n",
      "Cleveland Browns Defense Passing Yards/Game Variance: 431.5181818181819\n",
      "Cleveland Browns Defense Passing Yards/Game Minimum: 196.2\n",
      "Cleveland Browns Defense Passing Yards/Game Maximum: 257.8\n",
      "Cleveland Browns Defense Passing Yards/Game Range: 61.60000000000002\n",
      "Cleveland Browns Defense Total Passing Yards/Game 2012-2022: 2542.4\n"
     ]
    }
   ],
   "source": [
    "team_name8 = 'Cleveland Browns'\n",
    "browns_data = nflDpassgm[nflDpassgm['Team'] == team_name8]\n",
    "mean_value = browns_data['Def PYds/G'].mean()\n",
    "median_value = browns_data['Def PYds/G'].median()\n",
    "std_value = browns_data['Def PYds/G'].std()\n",
    "var_value = browns_data['Def PYds/G'].var()\n",
    "min_value = browns_data['Def PYds/G'].min()\n",
    "max_value = browns_data['Def PYds/G'].max()\n",
    "data_range = max_value - min_value\n",
    "total_points = browns_data['Def PYds/G'].sum()\n",
    "print(\"Cleveland Browns Defense Passing Yards/Game Mean:\", mean_value)\n",
    "print(\"Cleveland Browns Defense Passing Yards/Game Median:\", median_value)\n",
    "print(\"Cleveland Browns Defense Passing Yards/Game Standard Deviation:\", std_value)\n",
    "print(\"Cleveland Browns Defense Passing Yards/Game Variance:\", var_value)\n",
    "print(\"Cleveland Browns Defense Passing Yards/Game Minimum:\", min_value)\n",
    "print(\"Cleveland Browns Defense Passing Yards/Game Maximum:\", max_value)\n",
    "print(\"Cleveland Browns Defense Passing Yards/Game Range:\", data_range)\n",
    "print(\"Cleveland Browns Defense Total Passing Yards/Game 2012-2022:\", total_points)"
   ]
  },
  {
   "cell_type": "markdown",
   "id": "57de92b0",
   "metadata": {},
   "source": [
    "### Dallas Cowboys"
   ]
  },
  {
   "cell_type": "code",
   "execution_count": 15,
   "id": "09b6c943",
   "metadata": {},
   "outputs": [
    {
     "name": "stdout",
     "output_type": "stream",
     "text": [
      "Dallas Cowboys Defense Passing Yards/Game Mean: 235.9363636363636\n",
      "Dallas Cowboys Defense Passing Yards/Game Median: 230.2\n",
      "Dallas Cowboys Defense Passing Yards/Game Standard Deviation: 23.4272607330551\n",
      "Dallas Cowboys Defense Passing Yards/Game Variance: 548.8365454545454\n",
      "Dallas Cowboys Defense Passing Yards/Game Minimum: 200.9\n",
      "Dallas Cowboys Defense Passing Yards/Game Maximum: 286.8\n",
      "Dallas Cowboys Defense Passing Yards/Game Range: 85.9\n",
      "Dallas Cowboys Defense Total Passing Yards/Game 2012-2022: 2595.2999999999997\n"
     ]
    }
   ],
   "source": [
    "team_name9 = 'Dallas Cowboys'\n",
    "cowboys_data = nflDpassgm[nflDpassgm['Team'] == team_name9]\n",
    "mean_value = cowboys_data['Def PYds/G'].mean()\n",
    "median_value = cowboys_data['Def PYds/G'].median()\n",
    "std_value = cowboys_data['Def PYds/G'].std()\n",
    "var_value = cowboys_data['Def PYds/G'].var()\n",
    "min_value = cowboys_data['Def PYds/G'].min()\n",
    "max_value = cowboys_data['Def PYds/G'].max()\n",
    "data_range = max_value - min_value\n",
    "total_points = cowboys_data['Def PYds/G'].sum()\n",
    "print(\"Dallas Cowboys Defense Passing Yards/Game Mean:\", mean_value)\n",
    "print(\"Dallas Cowboys Defense Passing Yards/Game Median:\", median_value)\n",
    "print(\"Dallas Cowboys Defense Passing Yards/Game Standard Deviation:\", std_value)\n",
    "print(\"Dallas Cowboys Defense Passing Yards/Game Variance:\", var_value)\n",
    "print(\"Dallas Cowboys Defense Passing Yards/Game Minimum:\", min_value)\n",
    "print(\"Dallas Cowboys Defense Passing Yards/Game Maximum:\", max_value)\n",
    "print(\"Dallas Cowboys Defense Passing Yards/Game Range:\", data_range)\n",
    "print(\"Dallas Cowboys Defense Total Passing Yards/Game 2012-2022:\", total_points)"
   ]
  },
  {
   "cell_type": "markdown",
   "id": "ed7577b1",
   "metadata": {},
   "source": [
    "### Denver Broncos"
   ]
  },
  {
   "cell_type": "code",
   "execution_count": 16,
   "id": "5792268c",
   "metadata": {},
   "outputs": [
    {
     "name": "stdout",
     "output_type": "stream",
     "text": [
      "Denver Broncos Defense Passing Yards/Game Mean: 218.1363636363636\n",
      "Denver Broncos Defense Passing Yards/Game Median: 214.8\n",
      "Denver Broncos Defense Passing Yards/Game Standard Deviation: 21.639883212590256\n",
      "Denver Broncos Defense Passing Yards/Game Variance: 468.28454545454554\n",
      "Denver Broncos Defense Passing Yards/Game Minimum: 185.8\n",
      "Denver Broncos Defense Passing Yards/Game Maximum: 254.4\n",
      "Denver Broncos Defense Passing Yards/Game Range: 68.6\n",
      "Denver Broncos Defense Total Passing Yards/Game 2012-2022: 2399.5\n"
     ]
    }
   ],
   "source": [
    "team_name10 = 'Denver Broncos'\n",
    "broncos_data = nflDpassgm[nflDpassgm['Team'] == team_name10]\n",
    "mean_value = broncos_data['Def PYds/G'].mean()\n",
    "median_value = broncos_data['Def PYds/G'].median()\n",
    "std_value = broncos_data['Def PYds/G'].std()\n",
    "var_value = broncos_data['Def PYds/G'].var()\n",
    "min_value = broncos_data['Def PYds/G'].min()\n",
    "max_value = broncos_data['Def PYds/G'].max()\n",
    "data_range = max_value - min_value\n",
    "total_points = broncos_data['Def PYds/G'].sum()\n",
    "print(\"Denver Broncos Defense Passing Yards/Game Mean:\", mean_value)\n",
    "print(\"Denver Broncos Defense Passing Yards/Game Median:\", median_value)\n",
    "print(\"Denver Broncos Defense Passing Yards/Game Standard Deviation:\", std_value)\n",
    "print(\"Denver Broncos Defense Passing Yards/Game Variance:\", var_value)\n",
    "print(\"Denver Broncos Defense Passing Yards/Game Minimum:\", min_value)\n",
    "print(\"Denver Broncos Defense Passing Yards/Game Maximum:\", max_value)\n",
    "print(\"Denver Broncos Defense Passing Yards/Game Range:\", data_range)\n",
    "print(\"Denver Broncos Defense Total Passing Yards/Game 2012-2022:\", total_points)"
   ]
  },
  {
   "cell_type": "markdown",
   "id": "ac9a35d8",
   "metadata": {},
   "source": [
    "### Detroit Lions"
   ]
  },
  {
   "cell_type": "code",
   "execution_count": 17,
   "id": "95546a0e",
   "metadata": {},
   "outputs": [
    {
     "name": "stdout",
     "output_type": "stream",
     "text": [
      "Detroit Lions Defense Passing Yards/Game Mean: 246.7727272727273\n",
      "Detroit Lions Defense Passing Yards/Game Median: 244.7\n",
      "Detroit Lions Defense Passing Yards/Game Standard Deviation: 20.646263144166827\n",
      "Detroit Lions Defense Passing Yards/Game Variance: 426.2681818181815\n",
      "Detroit Lions Defense Passing Yards/Game Minimum: 223.1\n",
      "Detroit Lions Defense Passing Yards/Game Maximum: 284.9\n",
      "Detroit Lions Defense Passing Yards/Game Range: 61.79999999999998\n",
      "Detroit Lions Defense Total Passing Yards/Game 2012-2022: 2714.5\n"
     ]
    }
   ],
   "source": [
    "team_name11 = 'Detroit Lions'\n",
    "lions_data = nflDpassgm[nflDpassgm['Team'] == team_name11]\n",
    "mean_value = lions_data['Def PYds/G'].mean()\n",
    "median_value = lions_data['Def PYds/G'].median()\n",
    "std_value = lions_data['Def PYds/G'].std()\n",
    "var_value = lions_data['Def PYds/G'].var()\n",
    "min_value = lions_data['Def PYds/G'].min()\n",
    "max_value = lions_data['Def PYds/G'].max()\n",
    "data_range = max_value - min_value\n",
    "total_points = lions_data['Def PYds/G'].sum()\n",
    "print(\"Detroit Lions Defense Passing Yards/Game Mean:\", mean_value)\n",
    "print(\"Detroit Lions Defense Passing Yards/Game Median:\", median_value)\n",
    "print(\"Detroit Lions Defense Passing Yards/Game Standard Deviation:\", std_value)\n",
    "print(\"Detroit Lions Defense Passing Yards/Game Variance:\", var_value)\n",
    "print(\"Detroit Lions Defense Passing Yards/Game Minimum:\", min_value)\n",
    "print(\"Detroit Lions Defense Passing Yards/Game Maximum:\", max_value)\n",
    "print(\"Detroit Lions Defense Passing Yards/Game Range:\", data_range)\n",
    "print(\"Detroit Lions Defense Total Passing Yards/Game 2012-2022:\", total_points)"
   ]
  },
  {
   "cell_type": "markdown",
   "id": "c086e216",
   "metadata": {},
   "source": [
    "### Green Bay Packers"
   ]
  },
  {
   "cell_type": "code",
   "execution_count": 18,
   "id": "10cc7e0f",
   "metadata": {},
   "outputs": [
    {
     "name": "stdout",
     "output_type": "stream",
     "text": [
      "Green Bay Packers Defense Passing Yards/Game Mean: 229.98181818181817\n",
      "Green Bay Packers Defense Passing Yards/Game Median: 227.6\n",
      "Green Bay Packers Defense Passing Yards/Game Standard Deviation: 18.300099353928008\n",
      "Green Bay Packers Defense Passing Yards/Game Variance: 334.89363636363635\n",
      "Green Bay Packers Defense Passing Yards/Game Minimum: 197.0\n",
      "Green Bay Packers Defense Passing Yards/Game Maximum: 269.2\n",
      "Green Bay Packers Defense Passing Yards/Game Range: 72.19999999999999\n",
      "Green Bay Packers Defense Total Passing Yards/Game 2012-2022: 2529.7999999999997\n"
     ]
    }
   ],
   "source": [
    "team_name12 = 'Green Bay Packers'\n",
    "packers_data = nflDpassgm[nflDpassgm['Team'] == team_name12]\n",
    "mean_value = packers_data['Def PYds/G'].mean()\n",
    "median_value = packers_data['Def PYds/G'].median()\n",
    "std_value = packers_data['Def PYds/G'].std()\n",
    "var_value = packers_data['Def PYds/G'].var()\n",
    "min_value = packers_data['Def PYds/G'].min()\n",
    "max_value = packers_data['Def PYds/G'].max()\n",
    "data_range = max_value - min_value\n",
    "total_points = packers_data['Def PYds/G'].sum()\n",
    "print(\"Green Bay Packers Defense Passing Yards/Game Mean:\", mean_value)\n",
    "print(\"Green Bay Packers Defense Passing Yards/Game Median:\", median_value)\n",
    "print(\"Green Bay Packers Defense Passing Yards/Game Standard Deviation:\", std_value)\n",
    "print(\"Green Bay Packers Defense Passing Yards/Game Variance:\", var_value)\n",
    "print(\"Green Bay Packers Defense Passing Yards/Game Minimum:\", min_value)\n",
    "print(\"Green Bay Packers Defense Passing Yards/Game Maximum:\", max_value)\n",
    "print(\"Green Bay Packers Defense Passing Yards/Game Range:\", data_range)\n",
    "print(\"Green Bay Packers Defense Total Passing Yards/Game 2012-2022:\", total_points)"
   ]
  },
  {
   "cell_type": "markdown",
   "id": "8d26c50c",
   "metadata": {},
   "source": [
    "### Houston Texans"
   ]
  },
  {
   "cell_type": "code",
   "execution_count": 19,
   "id": "495d2c07",
   "metadata": {},
   "outputs": [
    {
     "name": "stdout",
     "output_type": "stream",
     "text": [
      "Houston Texans Defense Passing Yards/Game Mean: 231.73636363636368\n",
      "Houston Texans Defense Passing Yards/Game Median: 237.4\n",
      "Houston Texans Defense Passing Yards/Game Standard Deviation: 24.900171594881535\n",
      "Houston Texans Defense Passing Yards/Game Variance: 620.0185454545452\n",
      "Houston Texans Defense Passing Yards/Game Minimum: 195.2\n",
      "Houston Texans Defense Passing Yards/Game Maximum: 267.2\n",
      "Houston Texans Defense Passing Yards/Game Range: 72.0\n",
      "Houston Texans Defense Total Passing Yards/Game 2012-2022: 2549.1\n"
     ]
    }
   ],
   "source": [
    "team_name13 = 'Houston Texans'\n",
    "texans_data = nflDpassgm[nflDpassgm['Team'] == team_name13]\n",
    "mean_value = texans_data['Def PYds/G'].mean()\n",
    "median_value = texans_data['Def PYds/G'].median()\n",
    "std_value = texans_data['Def PYds/G'].std()\n",
    "var_value = texans_data['Def PYds/G'].var()\n",
    "min_value = texans_data['Def PYds/G'].min()\n",
    "max_value = texans_data['Def PYds/G'].max()\n",
    "data_range = max_value - min_value\n",
    "total_points = texans_data['Def PYds/G'].sum()\n",
    "print(\"Houston Texans Defense Passing Yards/Game Mean:\", mean_value)\n",
    "print(\"Houston Texans Defense Passing Yards/Game Median:\", median_value)\n",
    "print(\"Houston Texans Defense Passing Yards/Game Standard Deviation:\", std_value)\n",
    "print(\"Houston Texans Defense Passing Yards/Game Variance:\", var_value)\n",
    "print(\"Houston Texans Defense Passing Yards/Game Minimum:\", min_value)\n",
    "print(\"Houston Texans Defense Passing Yards/Game Maximum:\", max_value)\n",
    "print(\"Houston Texans Defense Passing Yards/Game Range:\", data_range)\n",
    "print(\"Houston Texans Defense Total Passing Yards/Game 2012-2022:\", total_points)"
   ]
  },
  {
   "cell_type": "markdown",
   "id": "b74d8fd8",
   "metadata": {},
   "source": [
    "### Indianapolis Colts"
   ]
  },
  {
   "cell_type": "code",
   "execution_count": 20,
   "id": "fbb59088",
   "metadata": {},
   "outputs": [
    {
     "name": "stdout",
     "output_type": "stream",
     "text": [
      "Indianapolis Colts Defense Passing Yards/Game Mean: 239.6818181818182\n",
      "Indianapolis Colts Defense Passing Yards/Game Median: 237.8\n",
      "Indianapolis Colts Defense Passing Yards/Game Standard Deviation: 14.348785187730575\n",
      "Indianapolis Colts Defense Passing Yards/Game Variance: 205.88763636363637\n",
      "Indianapolis Colts Defense Passing Yards/Game Minimum: 209.9\n",
      "Indianapolis Colts Defense Passing Yards/Game Maximum: 262.5\n",
      "Indianapolis Colts Defense Passing Yards/Game Range: 52.599999999999994\n",
      "Indianapolis Colts Defense Total Passing Yards/Game 2012-2022: 2636.5\n"
     ]
    }
   ],
   "source": [
    "team_name14 = 'Indianapolis Colts'\n",
    "colts_data = nflDpassgm[nflDpassgm['Team'] == team_name14]\n",
    "mean_value = colts_data['Def PYds/G'].mean()\n",
    "median_value = colts_data['Def PYds/G'].median()\n",
    "std_value = colts_data['Def PYds/G'].std()\n",
    "var_value = colts_data['Def PYds/G'].var()\n",
    "min_value = colts_data['Def PYds/G'].min()\n",
    "max_value = colts_data['Def PYds/G'].max()\n",
    "data_range = max_value - min_value\n",
    "total_points = colts_data['Def PYds/G'].sum()\n",
    "print(\"Indianapolis Colts Defense Passing Yards/Game Mean:\", mean_value)\n",
    "print(\"Indianapolis Colts Defense Passing Yards/Game Median:\", median_value)\n",
    "print(\"Indianapolis Colts Defense Passing Yards/Game Standard Deviation:\", std_value)\n",
    "print(\"Indianapolis Colts Defense Passing Yards/Game Variance:\", var_value)\n",
    "print(\"Indianapolis Colts Defense Passing Yards/Game Minimum:\", min_value)\n",
    "print(\"Indianapolis Colts Defense Passing Yards/Game Maximum:\", max_value)\n",
    "print(\"Indianapolis Colts Defense Passing Yards/Game Range:\", data_range)\n",
    "print(\"Indianapolis Colts Defense Total Passing Yards/Game 2012-2022:\", total_points)"
   ]
  },
  {
   "cell_type": "markdown",
   "id": "e8c6e962",
   "metadata": {},
   "source": [
    "### Jacksonville Jaguars"
   ]
  },
  {
   "cell_type": "code",
   "execution_count": 21,
   "id": "a1e5e5d6",
   "metadata": {},
   "outputs": [
    {
     "name": "stdout",
     "output_type": "stream",
     "text": [
      "Jacksonville Jaguars Defense Passing Yards/Game Mean: 231.4181818181818\n",
      "Jacksonville Jaguars Defense Passing Yards/Game Median: 238.5\n",
      "Jacksonville Jaguars Defense Passing Yards/Game Standard Deviation: 28.993544736089728\n",
      "Jacksonville Jaguars Defense Passing Yards/Game Variance: 840.6256363636363\n",
      "Jacksonville Jaguars Defense Passing Yards/Game Minimum: 169.9\n",
      "Jacksonville Jaguars Defense Passing Yards/Game Maximum: 268.2\n",
      "Jacksonville Jaguars Defense Passing Yards/Game Range: 98.29999999999998\n",
      "Jacksonville Jaguars Defense Total Passing Yards/Game 2012-2022: 2545.6\n"
     ]
    }
   ],
   "source": [
    "team_name15 = 'Jacksonville Jaguars'\n",
    "jaguars_data = nflDpassgm[nflDpassgm['Team'] == team_name15]\n",
    "mean_value = jaguars_data['Def PYds/G'].mean()\n",
    "median_value = jaguars_data['Def PYds/G'].median()\n",
    "std_value = jaguars_data['Def PYds/G'].std()\n",
    "var_value = jaguars_data['Def PYds/G'].var()\n",
    "min_value = jaguars_data['Def PYds/G'].min()\n",
    "max_value = jaguars_data['Def PYds/G'].max()\n",
    "data_range = max_value - min_value\n",
    "total_points = jaguars_data['Def PYds/G'].sum()\n",
    "print(\"Jacksonville Jaguars Defense Passing Yards/Game Mean:\", mean_value)\n",
    "print(\"Jacksonville Jaguars Defense Passing Yards/Game Median:\", median_value)\n",
    "print(\"Jacksonville Jaguars Defense Passing Yards/Game Standard Deviation:\", std_value)\n",
    "print(\"Jacksonville Jaguars Defense Passing Yards/Game Variance:\", var_value)\n",
    "print(\"Jacksonville Jaguars Defense Passing Yards/Game Minimum:\", min_value)\n",
    "print(\"Jacksonville Jaguars Defense Passing Yards/Game Maximum:\", max_value)\n",
    "print(\"Jacksonville Jaguars Defense Passing Yards/Game Range:\", data_range)\n",
    "print(\"Jacksonville Jaguars Defense Total Passing Yards/Game 2012-2022:\", total_points)"
   ]
  },
  {
   "cell_type": "markdown",
   "id": "7411a9f5",
   "metadata": {},
   "source": [
    "### Kansas City Chiefs"
   ]
  },
  {
   "cell_type": "code",
   "execution_count": 22,
   "id": "40a3c0eb",
   "metadata": {},
   "outputs": [
    {
     "name": "stdout",
     "output_type": "stream",
     "text": [
      "Kansas City Chiefs Defense Passing Yards/Game Mean: 236.4\n",
      "Kansas City Chiefs Defense Passing Yards/Game Median: 236.2\n",
      "Kansas City Chiefs Defense Passing Yards/Game Standard Deviation: 19.47249342020687\n",
      "Kansas City Chiefs Defense Passing Yards/Game Variance: 379.1779999999999\n",
      "Kansas City Chiefs Defense Passing Yards/Game Minimum: 203.2\n",
      "Kansas City Chiefs Defense Passing Yards/Game Maximum: 273.4\n",
      "Kansas City Chiefs Defense Passing Yards/Game Range: 70.19999999999999\n",
      "Kansas City Chiefs Defense Total Passing Yards/Game 2012-2022: 2600.4\n"
     ]
    }
   ],
   "source": [
    "team_name16 = 'Kansas City Chiefs'\n",
    "chiefs_data = nflDpassgm[nflDpassgm['Team'] == team_name16]\n",
    "mean_value = chiefs_data['Def PYds/G'].mean()\n",
    "median_value = chiefs_data['Def PYds/G'].median()\n",
    "std_value = chiefs_data['Def PYds/G'].std()\n",
    "var_value = chiefs_data['Def PYds/G'].var()\n",
    "min_value = chiefs_data['Def PYds/G'].min()\n",
    "max_value = chiefs_data['Def PYds/G'].max()\n",
    "data_range = max_value - min_value\n",
    "total_points = chiefs_data['Def PYds/G'].sum()\n",
    "print(\"Kansas City Chiefs Defense Passing Yards/Game Mean:\", mean_value)\n",
    "print(\"Kansas City Chiefs Defense Passing Yards/Game Median:\", median_value)\n",
    "print(\"Kansas City Chiefs Defense Passing Yards/Game Standard Deviation:\", std_value)\n",
    "print(\"Kansas City Chiefs Defense Passing Yards/Game Variance:\", var_value)\n",
    "print(\"Kansas City Chiefs Defense Passing Yards/Game Minimum:\", min_value)\n",
    "print(\"Kansas City Chiefs Defense Passing Yards/Game Maximum:\", max_value)\n",
    "print(\"Kansas City Chiefs Defense Passing Yards/Game Range:\", data_range)\n",
    "print(\"Kansas City Chiefs Defense Total Passing Yards/Game 2012-2022:\", total_points)"
   ]
  },
  {
   "cell_type": "markdown",
   "id": "57e2b288",
   "metadata": {},
   "source": [
    "### Las Vegas Raiders"
   ]
  },
  {
   "cell_type": "code",
   "execution_count": 23,
   "id": "660b9495",
   "metadata": {},
   "outputs": [
    {
     "name": "stdout",
     "output_type": "stream",
     "text": [
      "Las Vegas Raiders Defense Passing Yards/Game Mean: 246.70000000000002\n",
      "Las Vegas Raiders Defense Passing Yards/Game Median: 242.9\n",
      "Las Vegas Raiders Defense Passing Yards/Game Standard Deviation: 12.47301086346035\n",
      "Las Vegas Raiders Defense Passing Yards/Game Variance: 155.57599999999994\n",
      "Las Vegas Raiders Defense Passing Yards/Game Minimum: 222.9\n",
      "Las Vegas Raiders Defense Passing Yards/Game Maximum: 263.2\n",
      "Las Vegas Raiders Defense Passing Yards/Game Range: 40.29999999999998\n",
      "Las Vegas Raiders Defense Total Passing Yards/Game 2012-2022: 2713.7000000000003\n"
     ]
    }
   ],
   "source": [
    "team_name17 = 'Las Vegas Raiders'\n",
    "raiders_data = nflDpassgm[nflDpassgm['Team'] == team_name17]\n",
    "mean_value = raiders_data['Def PYds/G'].mean()\n",
    "median_value = raiders_data['Def PYds/G'].median()\n",
    "std_value = raiders_data['Def PYds/G'].std()\n",
    "var_value = raiders_data['Def PYds/G'].var()\n",
    "min_value = raiders_data['Def PYds/G'].min()\n",
    "max_value = raiders_data['Def PYds/G'].max()\n",
    "data_range = max_value - min_value\n",
    "total_points = raiders_data['Def PYds/G'].sum()\n",
    "print(\"Las Vegas Raiders Defense Passing Yards/Game Mean:\", mean_value)\n",
    "print(\"Las Vegas Raiders Defense Passing Yards/Game Median:\", median_value)\n",
    "print(\"Las Vegas Raiders Defense Passing Yards/Game Standard Deviation:\", std_value)\n",
    "print(\"Las Vegas Raiders Defense Passing Yards/Game Variance:\", var_value)\n",
    "print(\"Las Vegas Raiders Defense Passing Yards/Game Minimum:\", min_value)\n",
    "print(\"Las Vegas Raiders Defense Passing Yards/Game Maximum:\", max_value)\n",
    "print(\"Las Vegas Raiders Defense Passing Yards/Game Range:\", data_range)\n",
    "print(\"Las Vegas Raiders Defense Total Passing Yards/Game 2012-2022:\", total_points)"
   ]
  },
  {
   "cell_type": "markdown",
   "id": "d660b9ec",
   "metadata": {},
   "source": [
    "### Los Angeles Chargers"
   ]
  },
  {
   "cell_type": "code",
   "execution_count": 24,
   "id": "9542bf0f",
   "metadata": {},
   "outputs": [
    {
     "name": "stdout",
     "output_type": "stream",
     "text": [
      "Los Angeles Chargers Defense Passing Yards/Game Mean: 223.5727272727273\n",
      "Los Angeles Chargers Defense Passing Yards/Game Median: 223.6\n",
      "Los Angeles Chargers Defense Passing Yards/Game Standard Deviation: 19.984948882050755\n",
      "Los Angeles Chargers Defense Passing Yards/Game Variance: 399.39818181818174\n",
      "Los Angeles Chargers Defense Passing Yards/Game Minimum: 197.2\n",
      "Los Angeles Chargers Defense Passing Yards/Game Maximum: 258.7\n",
      "Los Angeles Chargers Defense Passing Yards/Game Range: 61.5\n",
      "Los Angeles Chargers Defense Total Passing Yards/Game 2012-2022: 2459.2999999999997\n"
     ]
    }
   ],
   "source": [
    "team_name18 = 'Los Angeles Chargers'\n",
    "chargers_data = nflDpassgm[nflDpassgm['Team'] == team_name18]\n",
    "mean_value = chargers_data['Def PYds/G'].mean()\n",
    "median_value = chargers_data['Def PYds/G'].median()\n",
    "std_value = chargers_data['Def PYds/G'].std()\n",
    "var_value = chargers_data['Def PYds/G'].var()\n",
    "min_value = chargers_data['Def PYds/G'].min()\n",
    "max_value = chargers_data['Def PYds/G'].max()\n",
    "data_range = max_value - min_value\n",
    "total_points = chargers_data['Def PYds/G'].sum()\n",
    "print(\"Los Angeles Chargers Defense Passing Yards/Game Mean:\", mean_value)\n",
    "print(\"Los Angeles Chargers Defense Passing Yards/Game Median:\", median_value)\n",
    "print(\"Los Angeles Chargers Defense Passing Yards/Game Standard Deviation:\", std_value)\n",
    "print(\"Los Angeles Chargers Defense Passing Yards/Game Variance:\", var_value)\n",
    "print(\"Los Angeles Chargers Defense Passing Yards/Game Minimum:\", min_value)\n",
    "print(\"Los Angeles Chargers Defense Passing Yards/Game Maximum:\", max_value)\n",
    "print(\"Los Angeles Chargers Defense Passing Yards/Game Range:\", data_range)\n",
    "print(\"Los Angeles Chargers Defense Total Passing Yards/Game 2012-2022:\", total_points)"
   ]
  },
  {
   "cell_type": "markdown",
   "id": "eec97d47",
   "metadata": {},
   "source": [
    "### Los Angeles Rams"
   ]
  },
  {
   "cell_type": "code",
   "execution_count": 25,
   "id": "52300d2a",
   "metadata": {},
   "outputs": [
    {
     "name": "stdout",
     "output_type": "stream",
     "text": [
      "Los Angeles Rams Defense Passing Yards/Game Mean: 230.38181818181818\n",
      "Los Angeles Rams Defense Passing Yards/Game Median: 233.2\n",
      "Los Angeles Rams Defense Passing Yards/Game Standard Deviation: 16.729543818157037\n",
      "Los Angeles Rams Defense Passing Yards/Game Variance: 279.8776363636364\n",
      "Los Angeles Rams Defense Passing Yards/Game Minimum: 190.7\n",
      "Los Angeles Rams Defense Passing Yards/Game Maximum: 254.1\n",
      "Los Angeles Rams Defense Passing Yards/Game Range: 63.400000000000006\n",
      "Los Angeles Rams Defense Total Passing Yards/Game 2012-2022: 2534.1999999999994\n"
     ]
    }
   ],
   "source": [
    "team_name19 = 'Los Angeles Rams'\n",
    "Rams_data = nflDpassgm[nflDpassgm['Team'] == team_name19]\n",
    "mean_value = Rams_data['Def PYds/G'].mean()\n",
    "median_value = Rams_data['Def PYds/G'].median()\n",
    "std_value = Rams_data['Def PYds/G'].std()\n",
    "var_value = Rams_data['Def PYds/G'].var()\n",
    "min_value = Rams_data['Def PYds/G'].min()\n",
    "max_value = Rams_data['Def PYds/G'].max()\n",
    "data_range = max_value - min_value\n",
    "total_points = Rams_data['Def PYds/G'].sum()\n",
    "print(\"Los Angeles Rams Defense Passing Yards/Game Mean:\", mean_value)\n",
    "print(\"Los Angeles Rams Defense Passing Yards/Game Median:\", median_value)\n",
    "print(\"Los Angeles Rams Defense Passing Yards/Game Standard Deviation:\", std_value)\n",
    "print(\"Los Angeles Rams Defense Passing Yards/Game Variance:\", var_value)\n",
    "print(\"Los Angeles Rams Defense Passing Yards/Game Minimum:\", min_value)\n",
    "print(\"Los Angeles Rams Defense Passing Yards/Game Maximum:\", max_value)\n",
    "print(\"Los Angeles Rams Defense Passing Yards/Game Range:\", data_range)\n",
    "print(\"Los Angeles Rams Defense Total Passing Yards/Game 2012-2022:\", total_points)"
   ]
  },
  {
   "cell_type": "markdown",
   "id": "07002bc4",
   "metadata": {},
   "source": [
    "### Miami Dolphins"
   ]
  },
  {
   "cell_type": "code",
   "execution_count": 26,
   "id": "fdb4368a",
   "metadata": {},
   "outputs": [
    {
     "name": "stdout",
     "output_type": "stream",
     "text": [
      "Miami Dolphins Defense Passing Yards/Game Mean: 240.43636363636367\n",
      "Miami Dolphins Defense Passing Yards/Game Median: 242.2\n",
      "Miami Dolphins Defense Passing Yards/Game Standard Deviation: 12.57722328077805\n",
      "Miami Dolphins Defense Passing Yards/Game Variance: 158.18654545454538\n",
      "Miami Dolphins Defense Passing Yards/Game Minimum: 222.3\n",
      "Miami Dolphins Defense Passing Yards/Game Maximum: 262.4\n",
      "Miami Dolphins Defense Passing Yards/Game Range: 40.099999999999966\n",
      "Miami Dolphins Defense Total Passing Yards/Game 2012-2022: 2644.8\n"
     ]
    }
   ],
   "source": [
    "team_name20 = 'Miami Dolphins'\n",
    "dolphins_data = nflDpassgm[nflDpassgm['Team'] == team_name20]\n",
    "mean_value = dolphins_data['Def PYds/G'].mean()\n",
    "median_value = dolphins_data['Def PYds/G'].median()\n",
    "std_value = dolphins_data['Def PYds/G'].std()\n",
    "var_value = dolphins_data['Def PYds/G'].var()\n",
    "min_value = dolphins_data['Def PYds/G'].min()\n",
    "max_value = dolphins_data['Def PYds/G'].max()\n",
    "data_range = max_value - min_value\n",
    "total_points = dolphins_data['Def PYds/G'].sum()\n",
    "print(\"Miami Dolphins Defense Passing Yards/Game Mean:\", mean_value)\n",
    "print(\"Miami Dolphins Defense Passing Yards/Game Median:\", median_value)\n",
    "print(\"Miami Dolphins Defense Passing Yards/Game Standard Deviation:\", std_value)\n",
    "print(\"Miami Dolphins Defense Passing Yards/Game Variance:\", var_value)\n",
    "print(\"Miami Dolphins Defense Passing Yards/Game Minimum:\", min_value)\n",
    "print(\"Miami Dolphins Defense Passing Yards/Game Maximum:\", max_value)\n",
    "print(\"Miami Dolphins Defense Passing Yards/Game Range:\", data_range)\n",
    "print(\"Miami Dolphins Defense Total Passing Yards/Game 2012-2022:\", total_points)"
   ]
  },
  {
   "cell_type": "markdown",
   "id": "c06d30e1",
   "metadata": {},
   "source": [
    "### Minnesota Vikings"
   ]
  },
  {
   "cell_type": "code",
   "execution_count": 27,
   "id": "79714a76",
   "metadata": {},
   "outputs": [
    {
     "name": "stdout",
     "output_type": "stream",
     "text": [
      "Minnesota Vikings Defense Passing Yards/Game Mean: 236.0818181818182\n",
      "Minnesota Vikings Defense Passing Yards/Game Median: 234.9\n",
      "Minnesota Vikings Defense Passing Yards/Game Standard Deviation: 29.69113733698385\n",
      "Minnesota Vikings Defense Passing Yards/Game Variance: 881.5636363636364\n",
      "Minnesota Vikings Defense Passing Yards/Game Minimum: 192.4\n",
      "Minnesota Vikings Defense Passing Yards/Game Maximum: 287.2\n",
      "Minnesota Vikings Defense Passing Yards/Game Range: 94.79999999999998\n",
      "Minnesota Vikings Defense Total Passing Yards/Game 2012-2022: 2596.9\n"
     ]
    }
   ],
   "source": [
    "team_name21 = 'Minnesota Vikings'\n",
    "vikings_data = nflDpassgm[nflDpassgm['Team'] == team_name21]\n",
    "mean_value = vikings_data['Def PYds/G'].mean()\n",
    "median_value = vikings_data['Def PYds/G'].median()\n",
    "std_value = vikings_data['Def PYds/G'].std()\n",
    "var_value = vikings_data['Def PYds/G'].var()\n",
    "min_value = vikings_data['Def PYds/G'].min()\n",
    "max_value = vikings_data['Def PYds/G'].max()\n",
    "data_range = max_value - min_value\n",
    "total_points = vikings_data['Def PYds/G'].sum()\n",
    "print(\"Minnesota Vikings Defense Passing Yards/Game Mean:\", mean_value)\n",
    "print(\"Minnesota Vikings Defense Passing Yards/Game Median:\", median_value)\n",
    "print(\"Minnesota Vikings Defense Passing Yards/Game Standard Deviation:\", std_value)\n",
    "print(\"Minnesota Vikings Defense Passing Yards/Game Variance:\", var_value)\n",
    "print(\"Minnesota Vikings Defense Passing Yards/Game Minimum:\", min_value)\n",
    "print(\"Minnesota Vikings Defense Passing Yards/Game Maximum:\", max_value)\n",
    "print(\"Minnesota Vikings Defense Passing Yards/Game Range:\", data_range)\n",
    "print(\"Minnesota Vikings Defense Total Passing Yards/Game 2012-2022:\", total_points)"
   ]
  },
  {
   "cell_type": "markdown",
   "id": "34a38cc7",
   "metadata": {},
   "source": [
    "### New England Patriots"
   ]
  },
  {
   "cell_type": "code",
   "execution_count": 28,
   "id": "cf1f9bb3",
   "metadata": {},
   "outputs": [
    {
     "name": "stdout",
     "output_type": "stream",
     "text": [
      "New England Patriots Defense Passing Yards/Game Mean: 230.24545454545458\n",
      "New England Patriots Defense Passing Yards/Game Median: 239.0\n",
      "New England Patriots Defense Passing Yards/Game Standard Deviation: 27.069812102649088\n",
      "New England Patriots Defense Passing Yards/Game Variance: 732.774727272727\n",
      "New England Patriots Defense Passing Yards/Game Minimum: 180.4\n",
      "New England Patriots Defense Passing Yards/Game Maximum: 271.4\n",
      "New England Patriots Defense Passing Yards/Game Range: 90.99999999999997\n",
      "New England Patriots Defense Total Passing Yards/Game 2012-2022: 2532.7000000000003\n"
     ]
    }
   ],
   "source": [
    "team_name22 = 'New England Patriots'\n",
    "patriots_data = nflDpassgm[nflDpassgm['Team'] == team_name22]\n",
    "mean_value = patriots_data['Def PYds/G'].mean()\n",
    "median_value = patriots_data['Def PYds/G'].median()\n",
    "std_value = patriots_data['Def PYds/G'].std()\n",
    "var_value = patriots_data['Def PYds/G'].var()\n",
    "min_value = patriots_data['Def PYds/G'].min()\n",
    "max_value = patriots_data['Def PYds/G'].max()\n",
    "data_range = max_value - min_value\n",
    "total_points = patriots_data['Def PYds/G'].sum()\n",
    "print(\"New England Patriots Defense Passing Yards/Game Mean:\", mean_value)\n",
    "print(\"New England Patriots Defense Passing Yards/Game Median:\", median_value)\n",
    "print(\"New England Patriots Defense Passing Yards/Game Standard Deviation:\", std_value)\n",
    "print(\"New England Patriots Defense Passing Yards/Game Variance:\", var_value)\n",
    "print(\"New England Patriots Defense Passing Yards/Game Minimum:\", min_value)\n",
    "print(\"New England Patriots Defense Passing Yards/Game Maximum:\", max_value)\n",
    "print(\"New England Patriots Defense Passing Yards/Game Range:\", data_range)\n",
    "print(\"New England Patriots Defense Total Passing Yards/Game 2012-2022:\", total_points)"
   ]
  },
  {
   "cell_type": "markdown",
   "id": "7baeda4c",
   "metadata": {},
   "source": [
    "### New Orleans Saints"
   ]
  },
  {
   "cell_type": "code",
   "execution_count": 29,
   "id": "bf2b0c3c",
   "metadata": {},
   "outputs": [
    {
     "name": "stdout",
     "output_type": "stream",
     "text": [
      "New Orleans Saints Defense Passing Yards/Game Mean: 238.85\n",
      "New Orleans Saints Defense Passing Yards/Game Median: 233.3\n",
      "New Orleans Saints Defense Passing Yards/Game Standard Deviation: 36.74220249854987\n",
      "New Orleans Saints Defense Passing Yards/Game Variance: 1349.9894444444446\n",
      "New Orleans Saints Defense Passing Yards/Game Minimum: 184.4\n",
      "New Orleans Saints Defense Passing Yards/Game Maximum: 292.6\n",
      "New Orleans Saints Defense Passing Yards/Game Range: 108.20000000000002\n",
      "New Orleans Saints Defense Total Passing Yards/Game 2012-2022: 2388.5000000000005\n"
     ]
    }
   ],
   "source": [
    "team_name23 = 'New Orleans Saints'\n",
    "saints_data = nflDpassgm[nflDpassgm['Team'] == team_name23]\n",
    "mean_value = saints_data['Def PYds/G'].mean()\n",
    "median_value = saints_data['Def PYds/G'].median()\n",
    "std_value = saints_data['Def PYds/G'].std()\n",
    "var_value = saints_data['Def PYds/G'].var()\n",
    "min_value = saints_data['Def PYds/G'].min()\n",
    "max_value = saints_data['Def PYds/G'].max()\n",
    "data_range = max_value - min_value\n",
    "total_points = saints_data['Def PYds/G'].sum()\n",
    "print(\"New Orleans Saints Defense Passing Yards/Game Mean:\", mean_value)\n",
    "print(\"New Orleans Saints Defense Passing Yards/Game Median:\", median_value)\n",
    "print(\"New Orleans Saints Defense Passing Yards/Game Standard Deviation:\", std_value)\n",
    "print(\"New Orleans Saints Defense Passing Yards/Game Variance:\", var_value)\n",
    "print(\"New Orleans Saints Defense Passing Yards/Game Minimum:\", min_value)\n",
    "print(\"New Orleans Saints Defense Passing Yards/Game Maximum:\", max_value)\n",
    "print(\"New Orleans Saints Defense Passing Yards/Game Range:\", data_range)\n",
    "print(\"New Orleans Saints Defense Total Passing Yards/Game 2012-2022:\", total_points)"
   ]
  },
  {
   "cell_type": "markdown",
   "id": "11987db6",
   "metadata": {},
   "source": [
    "### New York Giants"
   ]
  },
  {
   "cell_type": "code",
   "execution_count": 30,
   "id": "6cc4fd77",
   "metadata": {},
   "outputs": [
    {
     "name": "stdout",
     "output_type": "stream",
     "text": [
      "New York Giants Defense Passing Yards/Game Mean: 246.82727272727277\n",
      "New York Giants Defense Passing Yards/Game Median: 251.1\n",
      "New York Giants Defense Passing Yards/Game Standard Deviation: 23.11069410074439\n",
      "New York Giants Defense Passing Yards/Game Variance: 534.1041818181816\n",
      "New York Giants Defense Passing Yards/Game Minimum: 214.0\n",
      "New York Giants Defense Passing Yards/Game Maximum: 298.9\n",
      "New York Giants Defense Passing Yards/Game Range: 84.89999999999998\n",
      "New York Giants Defense Total Passing Yards/Game 2012-2022: 2715.1000000000004\n"
     ]
    }
   ],
   "source": [
    "team_name24 = 'New York Giants'\n",
    "giants_data = nflDpassgm[nflDpassgm['Team'] == team_name24]\n",
    "mean_value = giants_data['Def PYds/G'].mean()\n",
    "median_value = giants_data['Def PYds/G'].median()\n",
    "std_value = giants_data['Def PYds/G'].std()\n",
    "var_value = giants_data['Def PYds/G'].var()\n",
    "min_value = giants_data['Def PYds/G'].min()\n",
    "max_value = giants_data['Def PYds/G'].max()\n",
    "data_range = max_value - min_value\n",
    "total_points = giants_data['Def PYds/G'].sum()\n",
    "print(\"New York Giants Defense Passing Yards/Game Mean:\", mean_value)\n",
    "print(\"New York Giants Defense Passing Yards/Game Median:\", median_value)\n",
    "print(\"New York Giants Defense Passing Yards/Game Standard Deviation:\", std_value)\n",
    "print(\"New York Giants Defense Passing Yards/Game Variance:\", var_value)\n",
    "print(\"New York Giants Defense Passing Yards/Game Minimum:\", min_value)\n",
    "print(\"New York Giants Defense Passing Yards/Game Maximum:\", max_value)\n",
    "print(\"New York Giants Defense Passing Yards/Game Range:\", data_range)\n",
    "print(\"New York Giants Defense Total Passing Yards/Game 2012-2022:\", total_points)"
   ]
  },
  {
   "cell_type": "markdown",
   "id": "e1511664",
   "metadata": {},
   "source": [
    "### New York Jets"
   ]
  },
  {
   "cell_type": "code",
   "execution_count": 31,
   "id": "ad484990",
   "metadata": {},
   "outputs": [
    {
     "name": "stdout",
     "output_type": "stream",
     "text": [
      "New York Jets Defense Passing Yards/Game Mean: 236.21818181818182\n",
      "New York Jets Defense Passing Yards/Game Median: 236.2\n",
      "New York Jets Defense Passing Yards/Game Standard Deviation: 26.321543198749506\n",
      "New York Jets Defense Passing Yards/Game Variance: 692.8236363636363\n",
      "New York Jets Defense Passing Yards/Game Minimum: 189.4\n",
      "New York Jets Defense Passing Yards/Game Maximum: 275.6\n",
      "New York Jets Defense Passing Yards/Game Range: 86.20000000000002\n",
      "New York Jets Defense Total Passing Yards/Game 2012-2022: 2598.4\n"
     ]
    }
   ],
   "source": [
    "team_name25 = 'New York Jets'\n",
    "Jets_data = nflDpassgm[nflDpassgm['Team'] == team_name25]\n",
    "mean_value = Jets_data['Def PYds/G'].mean()\n",
    "median_value = Jets_data['Def PYds/G'].median()\n",
    "std_value = Jets_data['Def PYds/G'].std()\n",
    "var_value = Jets_data['Def PYds/G'].var()\n",
    "min_value = Jets_data['Def PYds/G'].min()\n",
    "max_value = Jets_data['Def PYds/G'].max()\n",
    "data_range = max_value - min_value\n",
    "total_points = Jets_data['Def PYds/G'].sum()\n",
    "print(\"New York Jets Defense Passing Yards/Game Mean:\", mean_value)\n",
    "print(\"New York Jets Defense Passing Yards/Game Median:\", median_value)\n",
    "print(\"New York Jets Defense Passing Yards/Game Standard Deviation:\", std_value)\n",
    "print(\"New York Jets Defense Passing Yards/Game Variance:\", var_value)\n",
    "print(\"New York Jets Defense Passing Yards/Game Minimum:\", min_value)\n",
    "print(\"New York Jets Defense Passing Yards/Game Maximum:\", max_value)\n",
    "print(\"New York Jets Defense Passing Yards/Game Range:\", data_range)\n",
    "print(\"New York Jets Defense Total Passing Yards/Game 2012-2022:\", total_points)"
   ]
  },
  {
   "cell_type": "markdown",
   "id": "060cb418",
   "metadata": {},
   "source": [
    "### Philadelphia Eagles"
   ]
  },
  {
   "cell_type": "code",
   "execution_count": 32,
   "id": "6699aa1f",
   "metadata": {},
   "outputs": [
    {
     "name": "stdout",
     "output_type": "stream",
     "text": [
      "Philadelphia Eagles Defense Passing Yards/Game Mean: 241.3090909090909\n",
      "Philadelphia Eagles Defense Passing Yards/Game Median: 239.5\n",
      "Philadelphia Eagles Defense Passing Yards/Game Standard Deviation: 30.59668134113419\n",
      "Philadelphia Eagles Defense Passing Yards/Game Variance: 936.156909090909\n",
      "Philadelphia Eagles Defense Passing Yards/Game Minimum: 179.8\n",
      "Philadelphia Eagles Defense Passing Yards/Game Maximum: 289.8\n",
      "Philadelphia Eagles Defense Passing Yards/Game Range: 110.0\n",
      "Philadelphia Eagles Defense Total Passing Yards/Game 2012-2022: 2654.4\n"
     ]
    }
   ],
   "source": [
    "team_name26 = 'Philadelphia Eagles'\n",
    "eagles_data = nflDpassgm[nflDpassgm['Team'] == team_name26]\n",
    "mean_value = eagles_data['Def PYds/G'].mean()\n",
    "median_value = eagles_data['Def PYds/G'].median()\n",
    "std_value = eagles_data['Def PYds/G'].std()\n",
    "var_value = eagles_data['Def PYds/G'].var()\n",
    "min_value = eagles_data['Def PYds/G'].min()\n",
    "max_value = eagles_data['Def PYds/G'].max()\n",
    "data_range = max_value - min_value\n",
    "total_points = eagles_data['Def PYds/G'].sum()\n",
    "print(\"Philadelphia Eagles Defense Passing Yards/Game Mean:\", mean_value)\n",
    "print(\"Philadelphia Eagles Defense Passing Yards/Game Median:\", median_value)\n",
    "print(\"Philadelphia Eagles Defense Passing Yards/Game Standard Deviation:\", std_value)\n",
    "print(\"Philadelphia Eagles Defense Passing Yards/Game Variance:\", var_value)\n",
    "print(\"Philadelphia Eagles Defense Passing Yards/Game Minimum:\", min_value)\n",
    "print(\"Philadelphia Eagles Defense Passing Yards/Game Maximum:\", max_value)\n",
    "print(\"Philadelphia Eagles Defense Passing Yards/Game Range:\", data_range)\n",
    "print(\"Philadelphia Eagles Defense Total Passing Yards/Game 2012-2022:\", total_points)"
   ]
  },
  {
   "cell_type": "markdown",
   "id": "9c70dbb8",
   "metadata": {},
   "source": [
    "### Pittsburgh Steelers"
   ]
  },
  {
   "cell_type": "code",
   "execution_count": 33,
   "id": "d575e5ae",
   "metadata": {},
   "outputs": [
    {
     "name": "stdout",
     "output_type": "stream",
     "text": [
      "Pittsburgh Steelers Defense Passing Yards/Game Mean: 221.22727272727272\n",
      "Pittsburgh Steelers Defense Passing Yards/Game Median: 222.1\n",
      "Pittsburgh Steelers Defense Passing Yards/Game Standard Deviation: 27.03535059543674\n",
      "Pittsburgh Steelers Defense Passing Yards/Game Variance: 730.9101818181816\n",
      "Pittsburgh Steelers Defense Passing Yards/Game Minimum: 185.2\n",
      "Pittsburgh Steelers Defense Passing Yards/Game Maximum: 271.9\n",
      "Pittsburgh Steelers Defense Passing Yards/Game Range: 86.69999999999999\n",
      "Pittsburgh Steelers Defense Total Passing Yards/Game 2012-2022: 2433.5\n"
     ]
    }
   ],
   "source": [
    "team_name27 = 'Pittsburgh Steelers'\n",
    "steelers_data = nflDpassgm[nflDpassgm['Team'] == team_name27]\n",
    "mean_value = steelers_data['Def PYds/G'].mean()\n",
    "median_value = steelers_data['Def PYds/G'].median()\n",
    "std_value = steelers_data['Def PYds/G'].std()\n",
    "var_value = steelers_data['Def PYds/G'].var()\n",
    "min_value = steelers_data['Def PYds/G'].min()\n",
    "max_value = steelers_data['Def PYds/G'].max()\n",
    "data_range = max_value - min_value\n",
    "total_points = steelers_data['Def PYds/G'].sum()\n",
    "print(\"Pittsburgh Steelers Defense Passing Yards/Game Mean:\", mean_value)\n",
    "print(\"Pittsburgh Steelers Defense Passing Yards/Game Median:\", median_value)\n",
    "print(\"Pittsburgh Steelers Defense Passing Yards/Game Standard Deviation:\", std_value)\n",
    "print(\"Pittsburgh Steelers Defense Passing Yards/Game Variance:\", var_value)\n",
    "print(\"Pittsburgh Steelers Defense Passing Yards/Game Minimum:\", min_value)\n",
    "print(\"Pittsburgh Steelers Defense Passing Yards/Game Maximum:\", max_value)\n",
    "print(\"Pittsburgh Steelers Defense Passing Yards/Game Range:\", data_range)\n",
    "print(\"Pittsburgh Steelers Defense Total Passing Yards/Game 2012-2022:\", total_points)"
   ]
  },
  {
   "cell_type": "markdown",
   "id": "1c58e53c",
   "metadata": {},
   "source": [
    "### San Francisco 49ers"
   ]
  },
  {
   "cell_type": "code",
   "execution_count": 34,
   "id": "da2ef2c3",
   "metadata": {},
   "outputs": [
    {
     "name": "stdout",
     "output_type": "stream",
     "text": [
      "San Francisco 49ers Defense Passing Yards/Game Mean: 219.8636363636364\n",
      "San Francisco 49ers Defense Passing Yards/Game Median: 221.0\n",
      "San Francisco 49ers Defense Passing Yards/Game Standard Deviation: 24.153685960005056\n",
      "San Francisco 49ers Defense Passing Yards/Game Variance: 583.4005454545454\n",
      "San Francisco 49ers Defense Passing Yards/Game Minimum: 169.2\n",
      "San Francisco 49ers Defense Passing Yards/Game Maximum: 261.2\n",
      "San Francisco 49ers Defense Passing Yards/Game Range: 92.0\n",
      "San Francisco 49ers Defense Total Passing Yards/Game 2012-2022: 2418.5\n"
     ]
    }
   ],
   "source": [
    "team_name28 = 'San Francisco 49ers'\n",
    "niners_data = nflDpassgm[nflDpassgm['Team'] == team_name28]\n",
    "mean_value = niners_data['Def PYds/G'].mean()\n",
    "median_value = niners_data['Def PYds/G'].median()\n",
    "std_value = niners_data['Def PYds/G'].std()\n",
    "var_value = niners_data['Def PYds/G'].var()\n",
    "min_value = niners_data['Def PYds/G'].min()\n",
    "max_value = niners_data['Def PYds/G'].max()\n",
    "data_range = max_value - min_value\n",
    "total_points = niners_data['Def PYds/G'].sum()\n",
    "print(\"San Francisco 49ers Defense Passing Yards/Game Mean:\", mean_value)\n",
    "print(\"San Francisco 49ers Defense Passing Yards/Game Median:\", median_value)\n",
    "print(\"San Francisco 49ers Defense Passing Yards/Game Standard Deviation:\", std_value)\n",
    "print(\"San Francisco 49ers Defense Passing Yards/Game Variance:\", var_value)\n",
    "print(\"San Francisco 49ers Defense Passing Yards/Game Minimum:\", min_value)\n",
    "print(\"San Francisco 49ers Defense Passing Yards/Game Maximum:\", max_value)\n",
    "print(\"San Francisco 49ers Defense Passing Yards/Game Range:\", data_range)\n",
    "print(\"San Francisco 49ers Defense Total Passing Yards/Game 2012-2022:\", total_points)"
   ]
  },
  {
   "cell_type": "markdown",
   "id": "921f90e8",
   "metadata": {},
   "source": [
    "### Tampa Bay Buccaneers"
   ]
  },
  {
   "cell_type": "code",
   "execution_count": 35,
   "id": "31643e89",
   "metadata": {},
   "outputs": [
    {
     "name": "stdout",
     "output_type": "stream",
     "text": [
      "Tampa Bay Buccaneers Defense Passing Yards/Game Mean: 250.95454545454547\n",
      "Tampa Bay Buccaneers Defense Passing Yards/Game Median: 250.8\n",
      "Tampa Bay Buccaneers Defense Passing Yards/Game Standard Deviation: 23.24497208586681\n",
      "Tampa Bay Buccaneers Defense Passing Yards/Game Variance: 540.3287272727272\n",
      "Tampa Bay Buccaneers Defense Passing Yards/Game Minimum: 203.6\n",
      "Tampa Bay Buccaneers Defense Passing Yards/Game Maximum: 297.4\n",
      "Tampa Bay Buccaneers Defense Passing Yards/Game Range: 93.79999999999998\n",
      "Tampa Bay Buccaneers Defense Total Passing Yards/Game 2012-2022: 2760.5\n"
     ]
    }
   ],
   "source": [
    "team_name29 = 'Tampa Bay Buccaneers'\n",
    "buccaneers_data = nflDpassgm[nflDpassgm['Team'] == team_name29]\n",
    "mean_value = buccaneers_data['Def PYds/G'].mean()\n",
    "median_value = buccaneers_data['Def PYds/G'].median()\n",
    "std_value = buccaneers_data['Def PYds/G'].std()\n",
    "var_value = buccaneers_data['Def PYds/G'].var()\n",
    "min_value = buccaneers_data['Def PYds/G'].min()\n",
    "max_value = buccaneers_data['Def PYds/G'].max()\n",
    "data_range = max_value - min_value\n",
    "total_points = buccaneers_data['Def PYds/G'].sum()\n",
    "print(\"Tampa Bay Buccaneers Defense Passing Yards/Game Mean:\", mean_value)\n",
    "print(\"Tampa Bay Buccaneers Defense Passing Yards/Game Median:\", median_value)\n",
    "print(\"Tampa Bay Buccaneers Defense Passing Yards/Game Standard Deviation:\", std_value)\n",
    "print(\"Tampa Bay Buccaneers Defense Passing Yards/Game Variance:\", var_value)\n",
    "print(\"Tampa Bay Buccaneers Defense Passing Yards/Game Minimum:\", min_value)\n",
    "print(\"Tampa Bay Buccaneers Defense Passing Yards/Game Maximum:\", max_value)\n",
    "print(\"Tampa Bay Buccaneers Defense Passing Yards/Game Range:\", data_range)\n",
    "print(\"Tampa Bay Buccaneers Defense Total Passing Yards/Game 2012-2022:\", total_points)"
   ]
  },
  {
   "cell_type": "markdown",
   "id": "402feabd",
   "metadata": {},
   "source": [
    "### Tennessee Titans"
   ]
  },
  {
   "cell_type": "code",
   "execution_count": 36,
   "id": "34a835c2",
   "metadata": {},
   "outputs": [
    {
     "name": "stdout",
     "output_type": "stream",
     "text": [
      "Tennessee Titans Defense Passing Yards/Game Mean: 247.0\n",
      "Tennessee Titans Defense Passing Yards/Game Median: 245.2\n",
      "Tennessee Titans Defense Passing Yards/Game Standard Deviation: 20.228346447497874\n",
      "Tennessee Titans Defense Passing Yards/Game Variance: 409.1859999999998\n",
      "Tennessee Titans Defense Passing Yards/Game Minimum: 216.9\n",
      "Tennessee Titans Defense Passing Yards/Game Maximum: 277.4\n",
      "Tennessee Titans Defense Passing Yards/Game Range: 60.49999999999997\n",
      "Tennessee Titans Defense Total Passing Yards/Game 2012-2022: 2717.0\n"
     ]
    }
   ],
   "source": [
    "team_name30 = 'Tennessee Titans'\n",
    "titans_data = nflDpassgm[nflDpassgm['Team'] == team_name30]\n",
    "mean_value = titans_data['Def PYds/G'].mean()\n",
    "median_value = titans_data['Def PYds/G'].median()\n",
    "std_value = titans_data['Def PYds/G'].std()\n",
    "var_value = titans_data['Def PYds/G'].var()\n",
    "min_value = titans_data['Def PYds/G'].min()\n",
    "max_value = titans_data['Def PYds/G'].max()\n",
    "data_range = max_value - min_value\n",
    "total_points = titans_data['Def PYds/G'].sum()\n",
    "print(\"Tennessee Titans Defense Passing Yards/Game Mean:\", mean_value)\n",
    "print(\"Tennessee Titans Defense Passing Yards/Game Median:\", median_value)\n",
    "print(\"Tennessee Titans Defense Passing Yards/Game Standard Deviation:\", std_value)\n",
    "print(\"Tennessee Titans Defense Passing Yards/Game Variance:\", var_value)\n",
    "print(\"Tennessee Titans Defense Passing Yards/Game Minimum:\", min_value)\n",
    "print(\"Tennessee Titans Defense Passing Yards/Game Maximum:\", max_value)\n",
    "print(\"Tennessee Titans Defense Passing Yards/Game Range:\", data_range)\n",
    "print(\"Tennessee Titans Defense Total Passing Yards/Game 2012-2022:\", total_points)"
   ]
  },
  {
   "cell_type": "markdown",
   "id": "80f6844f",
   "metadata": {},
   "source": [
    "### Washington Commanders"
   ]
  },
  {
   "cell_type": "code",
   "execution_count": 37,
   "id": "d1a4004e",
   "metadata": {},
   "outputs": [
    {
     "name": "stdout",
     "output_type": "stream",
     "text": [
      "Washington Commanders Defense Passing Yards/Game Mean: 238.0636363636364\n",
      "Washington Commanders Defense Passing Yards/Game Median: 243.5\n",
      "Washington Commanders Defense Passing Yards/Game Standard Deviation: 28.424611614840845\n",
      "Washington Commanders Defense Passing Yards/Game Variance: 807.9585454545452\n",
      "Washington Commanders Defense Passing Yards/Game Minimum: 191.3\n",
      "Washington Commanders Defense Passing Yards Points Maximum: 281.9\n",
      "Washington Commanders Defense Passing Yards/Game Range: 90.59999999999997\n",
      "Washington Commanders Defense Total Passing Yards/Game 2012-2022: 2618.7000000000003\n"
     ]
    }
   ],
   "source": [
    "team_name31 = 'Washington Commanders'\n",
    "commanders_data = nflDpassgm[nflDpassgm['Team'] == team_name31]\n",
    "mean_value = commanders_data['Def PYds/G'].mean()\n",
    "median_value = commanders_data['Def PYds/G'].median()\n",
    "std_value = commanders_data['Def PYds/G'].std()\n",
    "var_value = commanders_data['Def PYds/G'].var()\n",
    "min_value = commanders_data['Def PYds/G'].min()\n",
    "max_value = commanders_data['Def PYds/G'].max()\n",
    "total_points = commanders_data['Def PYds/G'].sum()\n",
    "data_range = max_value - min_value\n",
    "print(\"Washington Commanders Defense Passing Yards/Game Mean:\", mean_value)\n",
    "print(\"Washington Commanders Defense Passing Yards/Game Median:\", median_value)\n",
    "print(\"Washington Commanders Defense Passing Yards/Game Standard Deviation:\", std_value)\n",
    "print(\"Washington Commanders Defense Passing Yards/Game Variance:\", var_value)\n",
    "print(\"Washington Commanders Defense Passing Yards/Game Minimum:\", min_value)\n",
    "print(\"Washington Commanders Defense Passing Yards Points Maximum:\", max_value)\n",
    "print(\"Washington Commanders Defense Passing Yards/Game Range:\", data_range)\n",
    "print(\"Washington Commanders Defense Total Passing Yards/Game 2012-2022:\", total_points)"
   ]
  },
  {
   "cell_type": "code",
   "execution_count": null,
   "id": "26c581f4",
   "metadata": {},
   "outputs": [],
   "source": []
  }
 ],
 "metadata": {
  "kernelspec": {
   "display_name": "Python 3 (ipykernel)",
   "language": "python",
   "name": "python3"
  },
  "language_info": {
   "codemirror_mode": {
    "name": "ipython",
    "version": 3
   },
   "file_extension": ".py",
   "mimetype": "text/x-python",
   "name": "python",
   "nbconvert_exporter": "python",
   "pygments_lexer": "ipython3",
   "version": "3.9.12"
  }
 },
 "nbformat": 4,
 "nbformat_minor": 5
}

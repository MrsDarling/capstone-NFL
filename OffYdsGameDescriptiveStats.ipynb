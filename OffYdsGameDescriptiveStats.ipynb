{
 "cells": [
  {
   "cell_type": "markdown",
   "id": "64e0b089",
   "metadata": {},
   "source": [
    "# Descriptive Statistics for Offense Yards per Game for Each Team"
   ]
  },
  {
   "cell_type": "markdown",
   "id": "1894f524",
   "metadata": {},
   "source": [
    "#### Import Packages"
   ]
  },
  {
   "cell_type": "code",
   "execution_count": 1,
   "id": "3f3ad4a9",
   "metadata": {},
   "outputs": [],
   "source": [
    "import pandas as pd\n",
    "import numpy as np\n",
    "from scipy.stats import norm\n",
    "from scipy import stats"
   ]
  },
  {
   "cell_type": "markdown",
   "id": "aa44254e",
   "metadata": {},
   "source": [
    "#### Import NFL Dataset 2012-2022"
   ]
  },
  {
   "cell_type": "code",
   "execution_count": 2,
   "id": "3dd398b4",
   "metadata": {},
   "outputs": [
    {
     "data": {
      "text/html": [
       "<div>\n",
       "<style scoped>\n",
       "    .dataframe tbody tr th:only-of-type {\n",
       "        vertical-align: middle;\n",
       "    }\n",
       "\n",
       "    .dataframe tbody tr th {\n",
       "        vertical-align: top;\n",
       "    }\n",
       "\n",
       "    .dataframe thead th {\n",
       "        text-align: right;\n",
       "    }\n",
       "</style>\n",
       "<table border=\"1\" class=\"dataframe\">\n",
       "  <thead>\n",
       "    <tr style=\"text-align: right;\">\n",
       "      <th></th>\n",
       "      <th>Team</th>\n",
       "      <th>Off Tot/Pts</th>\n",
       "      <th>Off Pts/G</th>\n",
       "      <th>Off RushYds</th>\n",
       "      <th>Off RYds/G</th>\n",
       "      <th>Off PassYds</th>\n",
       "      <th>Off PYds/G</th>\n",
       "      <th>Off TotYds</th>\n",
       "      <th>Off Yds/G</th>\n",
       "      <th>Def Tot/Pts</th>\n",
       "      <th>...</th>\n",
       "      <th>Def PassYds</th>\n",
       "      <th>Def PYds/G</th>\n",
       "      <th>Def TotYds</th>\n",
       "      <th>Def Yds/G</th>\n",
       "      <th>Year</th>\n",
       "      <th>Wins</th>\n",
       "      <th>Losses</th>\n",
       "      <th>Tie</th>\n",
       "      <th>Superbowl</th>\n",
       "      <th>SB Win</th>\n",
       "    </tr>\n",
       "  </thead>\n",
       "  <tbody>\n",
       "    <tr>\n",
       "      <th>0</th>\n",
       "      <td>Arizona Cardinals</td>\n",
       "      <td>250</td>\n",
       "      <td>15.6</td>\n",
       "      <td>1204</td>\n",
       "      <td>75.2</td>\n",
       "      <td>3005</td>\n",
       "      <td>187.8</td>\n",
       "      <td>4209</td>\n",
       "      <td>263.1</td>\n",
       "      <td>357</td>\n",
       "      <td>...</td>\n",
       "      <td>3213</td>\n",
       "      <td>200.8</td>\n",
       "      <td>5405</td>\n",
       "      <td>337.8</td>\n",
       "      <td>2012</td>\n",
       "      <td>5</td>\n",
       "      <td>11</td>\n",
       "      <td>0.0</td>\n",
       "      <td>No</td>\n",
       "      <td>No</td>\n",
       "    </tr>\n",
       "    <tr>\n",
       "      <th>1</th>\n",
       "      <td>Atlanta Falcons</td>\n",
       "      <td>419</td>\n",
       "      <td>26.2</td>\n",
       "      <td>1397</td>\n",
       "      <td>87.3</td>\n",
       "      <td>4509</td>\n",
       "      <td>281.8</td>\n",
       "      <td>5906</td>\n",
       "      <td>369.1</td>\n",
       "      <td>299</td>\n",
       "      <td>...</td>\n",
       "      <td>3878</td>\n",
       "      <td>242.4</td>\n",
       "      <td>5849</td>\n",
       "      <td>365.6</td>\n",
       "      <td>2012</td>\n",
       "      <td>13</td>\n",
       "      <td>3</td>\n",
       "      <td>0.0</td>\n",
       "      <td>No</td>\n",
       "      <td>No</td>\n",
       "    </tr>\n",
       "    <tr>\n",
       "      <th>2</th>\n",
       "      <td>Baltimore Ravens</td>\n",
       "      <td>398</td>\n",
       "      <td>24.9</td>\n",
       "      <td>1901</td>\n",
       "      <td>118.8</td>\n",
       "      <td>3739</td>\n",
       "      <td>233.7</td>\n",
       "      <td>5640</td>\n",
       "      <td>352.5</td>\n",
       "      <td>344</td>\n",
       "      <td>...</td>\n",
       "      <td>3650</td>\n",
       "      <td>228.1</td>\n",
       "      <td>5615</td>\n",
       "      <td>350.9</td>\n",
       "      <td>2012</td>\n",
       "      <td>10</td>\n",
       "      <td>6</td>\n",
       "      <td>0.0</td>\n",
       "      <td>Yes</td>\n",
       "      <td>Yes</td>\n",
       "    </tr>\n",
       "    <tr>\n",
       "      <th>3</th>\n",
       "      <td>Buffalo Bills</td>\n",
       "      <td>344</td>\n",
       "      <td>21.5</td>\n",
       "      <td>2217</td>\n",
       "      <td>138.6</td>\n",
       "      <td>3269</td>\n",
       "      <td>204.3</td>\n",
       "      <td>5486</td>\n",
       "      <td>342.9</td>\n",
       "      <td>435</td>\n",
       "      <td>...</td>\n",
       "      <td>3473</td>\n",
       "      <td>217.1</td>\n",
       "      <td>5806</td>\n",
       "      <td>362.9</td>\n",
       "      <td>2012</td>\n",
       "      <td>6</td>\n",
       "      <td>10</td>\n",
       "      <td>0.0</td>\n",
       "      <td>No</td>\n",
       "      <td>No</td>\n",
       "    </tr>\n",
       "    <tr>\n",
       "      <th>4</th>\n",
       "      <td>Carolina Panthers</td>\n",
       "      <td>357</td>\n",
       "      <td>22.3</td>\n",
       "      <td>2088</td>\n",
       "      <td>130.5</td>\n",
       "      <td>3683</td>\n",
       "      <td>230.2</td>\n",
       "      <td>5771</td>\n",
       "      <td>360.7</td>\n",
       "      <td>363</td>\n",
       "      <td>...</td>\n",
       "      <td>3568</td>\n",
       "      <td>223.0</td>\n",
       "      <td>5329</td>\n",
       "      <td>333.1</td>\n",
       "      <td>2012</td>\n",
       "      <td>7</td>\n",
       "      <td>9</td>\n",
       "      <td>0.0</td>\n",
       "      <td>No</td>\n",
       "      <td>No</td>\n",
       "    </tr>\n",
       "  </tbody>\n",
       "</table>\n",
       "<p>5 rows × 23 columns</p>\n",
       "</div>"
      ],
      "text/plain": [
       "                Team  Off Tot/Pts  Off Pts/G  Off RushYds  Off RYds/G  \\\n",
       "0  Arizona Cardinals          250       15.6         1204        75.2   \n",
       "1    Atlanta Falcons          419       26.2         1397        87.3   \n",
       "2   Baltimore Ravens          398       24.9         1901       118.8   \n",
       "3      Buffalo Bills          344       21.5         2217       138.6   \n",
       "4  Carolina Panthers          357       22.3         2088       130.5   \n",
       "\n",
       "   Off PassYds  Off PYds/G  Off TotYds  Off Yds/G  Def Tot/Pts  ...  \\\n",
       "0         3005       187.8        4209      263.1          357  ...   \n",
       "1         4509       281.8        5906      369.1          299  ...   \n",
       "2         3739       233.7        5640      352.5          344  ...   \n",
       "3         3269       204.3        5486      342.9          435  ...   \n",
       "4         3683       230.2        5771      360.7          363  ...   \n",
       "\n",
       "   Def PassYds  Def PYds/G  Def TotYds  Def Yds/G  Year  Wins  Losses  Tie  \\\n",
       "0         3213       200.8        5405      337.8  2012     5      11  0.0   \n",
       "1         3878       242.4        5849      365.6  2012    13       3  0.0   \n",
       "2         3650       228.1        5615      350.9  2012    10       6  0.0   \n",
       "3         3473       217.1        5806      362.9  2012     6      10  0.0   \n",
       "4         3568       223.0        5329      333.1  2012     7       9  0.0   \n",
       "\n",
       "   Superbowl  SB Win  \n",
       "0         No      No  \n",
       "1         No      No  \n",
       "2        Yes     Yes  \n",
       "3         No      No  \n",
       "4         No      No  \n",
       "\n",
       "[5 rows x 23 columns]"
      ]
     },
     "execution_count": 2,
     "metadata": {},
     "output_type": "execute_result"
    }
   ],
   "source": [
    "nflTyards = pd.read_csv('/Users/admin/Desktop/Final_Project/NFL_merged/nfl2012_2022merge.csv')\n",
    "nflTyards.head()"
   ]
  },
  {
   "cell_type": "markdown",
   "id": "5392356b",
   "metadata": {},
   "source": [
    "## Calculating Descriptive Statistics by Team\n",
    "#### First filter the data by a single team - I will use the Seattle Seahawks, my favorite team, to start."
   ]
  },
  {
   "cell_type": "code",
   "execution_count": 4,
   "id": "a04399b5",
   "metadata": {},
   "outputs": [],
   "source": [
    "team_name = 'Seattle Seahawks'\n",
    "seahawks_data = nflTyards[nflTyards['Team'] == team_name]"
   ]
  },
  {
   "cell_type": "markdown",
   "id": "5302e0af",
   "metadata": {},
   "source": [
    "#### Display offense yards per game average by year for the Seahawks"
   ]
  },
  {
   "cell_type": "code",
   "execution_count": 10,
   "id": "1593b2f3",
   "metadata": {},
   "outputs": [
    {
     "name": "stdout",
     "output_type": "stream",
     "text": [
      "Year: 2012 \tOffense Yards/Game: 350.6\n",
      "Year: 2013 \tOffense Yards/Game: 339.0\n",
      "Year: 2014 \tOffense Yards/Game: 375.8\n",
      "Year: 2015 \tOffense Yards/Game: 378.6\n",
      "Year: 2016 \tOffense Yards/Game: 357.2\n",
      "Year: 2017 \tOffense Yards/Game: 330.4\n",
      "Year: 2018 \tOffense Yards/Game: 330.4\n",
      "Year: 2019 \tOffense Yards/Game: 374.4\n",
      "Year: 2020 \tOffense Yards/Game: 369.5\n",
      "Year: 2021 \tOffense Yards/Game: 323.9\n",
      "Year: 2022 \tOffense Yards/Game: 351.5\n"
     ]
    }
   ],
   "source": [
    "for year in seahawks_data['Year'].unique():\n",
    "    ydsgame = seahawks_data.loc[seahawks_data['Year'] == year, 'Off Yds/G'].values[0]\n",
    "    print(\"Year:\", year, \"\\tOffense Yards/Game:\", ydsgame)"
   ]
  },
  {
   "cell_type": "markdown",
   "id": "7d31b0ec",
   "metadata": {},
   "source": [
    "#### What is the mean offense yards per game for the Seahawks over all years?"
   ]
  },
  {
   "cell_type": "code",
   "execution_count": 7,
   "id": "f25f5761",
   "metadata": {},
   "outputs": [
    {
     "name": "stdout",
     "output_type": "stream",
     "text": [
      "352.8454545454546\n"
     ]
    }
   ],
   "source": [
    "yards_game = seahawks_data['Off Yds/G'].mean()\n",
    "print(yards_game)"
   ]
  },
  {
   "cell_type": "markdown",
   "id": "affecaff",
   "metadata": {},
   "source": [
    "#### Let's calculate several descriptive statistics on Offense Yards per Game for the Seahawks"
   ]
  },
  {
   "cell_type": "code",
   "execution_count": 11,
   "id": "8ecd1adb",
   "metadata": {},
   "outputs": [
    {
     "name": "stdout",
     "output_type": "stream",
     "text": [
      "Seattle Seahawks Offense Yards/Game Mean: 352.8454545454546\n",
      "Seattle Seahawks Offense Yards/Game Median: 351.5\n",
      "Seattle Seahawks Offense Yards/Game Standard Deviation: 19.98781446963944\n",
      "Seattle Seahawks Offense Yards/Game Variance: 399.51272727272766\n",
      "Seattle Seahawks Offense Yards/Game Minimum: 323.9\n",
      "Seattle Seahawks Offense Yards/Game Maximum: 378.6\n",
      "Seattle Seahawks Offense Yards/Game Range: 54.700000000000045\n",
      "Seattle Seahawks Offense Total Yards/Game 2012-2022: 3881.2999999999997\n"
     ]
    }
   ],
   "source": [
    "mean_value = seahawks_data['Off Yds/G'].mean()\n",
    "median_value = seahawks_data['Off Yds/G'].median()\n",
    "std_value = seahawks_data['Off Yds/G'].std()\n",
    "var_value = seahawks_data['Off Yds/G'].var()\n",
    "min_value = seahawks_data['Off Yds/G'].min()\n",
    "max_value = seahawks_data['Off Yds/G'].max()\n",
    "data_range = max_value - min_value\n",
    "total_points = seahawks_data['Off Yds/G'].sum()\n",
    "print(\"Seattle Seahawks Offense Yards/Game Mean:\", mean_value)\n",
    "print(\"Seattle Seahawks Offense Yards/Game Median:\", median_value)\n",
    "print(\"Seattle Seahawks Offense Yards/Game Standard Deviation:\", std_value)\n",
    "print(\"Seattle Seahawks Offense Yards/Game Variance:\", var_value)\n",
    "print(\"Seattle Seahawks Offense Yards/Game Minimum:\", min_value)\n",
    "print(\"Seattle Seahawks Offense Yards/Game Maximum:\", max_value)\n",
    "print(\"Seattle Seahawks Offense Yards/Game Range:\", data_range)\n",
    "print(\"Seattle Seahawks Offense Total Yards/Game 2012-2022:\", total_points)"
   ]
  },
  {
   "cell_type": "markdown",
   "id": "acd533f4",
   "metadata": {},
   "source": [
    "#### Calculating all Teams Offense Yards per Game per year"
   ]
  },
  {
   "cell_type": "code",
   "execution_count": 9,
   "id": "284349f5",
   "metadata": {},
   "outputs": [
    {
     "name": "stdout",
     "output_type": "stream",
     "text": [
      "Team: Arizona Cardinals \tYear: 2012 \tYards/Game: 263.1\n",
      "Team: Arizona Cardinals \tYear: 2013 \tYards/Game: 346.4\n",
      "Team: Arizona Cardinals \tYear: 2014 \tYards/Game: 319.8\n",
      "Team: Arizona Cardinals \tYear: 2015 \tYards/Game: 408.3\n",
      "Team: Arizona Cardinals \tYear: 2016 \tYards/Game: 366.8\n",
      "Team: Arizona Cardinals \tYear: 2017 \tYards/Game: 314.1\n",
      "Team: Arizona Cardinals \tYear: 2018 \tYards/Game: 314.1\n",
      "Team: Arizona Cardinals \tYear: 2019 \tYards/Game: 341.7\n",
      "Team: Arizona Cardinals \tYear: 2020 \tYards/Game: 384.6\n",
      "Team: Arizona Cardinals \tYear: 2021 \tYards/Game: 373.6\n",
      "Team: Arizona Cardinals \tYear: 2022 \tYards/Game: 323.5\n",
      "Team: Atlanta Falcons \tYear: 2012 \tYards/Game: 369.1\n",
      "Team: Atlanta Falcons \tYear: 2013 \tYards/Game: 343.1\n",
      "Team: Atlanta Falcons \tYear: 2014 \tYards/Game: 378.2\n",
      "Team: Atlanta Falcons \tYear: 2015 \tYards/Game: 374.1\n",
      "Team: Atlanta Falcons \tYear: 2016 \tYards/Game: 415.8\n",
      "Team: Atlanta Falcons \tYear: 2017 \tYards/Game: 364.8\n",
      "Team: Atlanta Falcons \tYear: 2018 \tYards/Game: 364.8\n",
      "Team: Atlanta Falcons \tYear: 2019 \tYards/Game: 379.7\n",
      "Team: Atlanta Falcons \tYear: 2020 \tYards/Game: 368.4\n",
      "Team: Atlanta Falcons \tYear: 2021 \tYards/Game: 303.8\n",
      "Team: Atlanta Falcons \tYear: 2022 \tYards/Game: 318.6\n",
      "Team: Baltimore Ravens \tYear: 2012 \tYards/Game: 352.5\n",
      "Team: Baltimore Ravens \tYear: 2013 \tYards/Game: 307.4\n",
      "Team: Baltimore Ravens \tYear: 2014 \tYards/Game: 364.9\n",
      "Team: Baltimore Ravens \tYear: 2015 \tYards/Game: 359.3\n",
      "Team: Baltimore Ravens \tYear: 2016 \tYards/Game: 347.7\n",
      "Team: Baltimore Ravens \tYear: 2017 \tYards/Game: 305.4\n",
      "Team: Baltimore Ravens \tYear: 2018 \tYards/Game: 305.4\n",
      "Team: Baltimore Ravens \tYear: 2019 \tYards/Game: 407.6\n",
      "Team: Baltimore Ravens \tYear: 2020 \tYards/Game: 363.1\n",
      "Team: Baltimore Ravens \tYear: 2021 \tYards/Game: 378.8\n",
      "Team: Baltimore Ravens \tYear: 2022 \tYards/Game: 338.8\n",
      "Team: Buffalo Bills \tYear: 2012 \tYards/Game: 342.9\n",
      "Team: Buffalo Bills \tYear: 2013 \tYards/Game: 338.1\n",
      "Team: Buffalo Bills \tYear: 2014 \tYards/Game: 318.5\n",
      "Team: Buffalo Bills \tYear: 2015 \tYards/Game: 360.9\n",
      "Team: Buffalo Bills \tYear: 2016 \tYards/Game: 354.1\n",
      "Team: Buffalo Bills \tYear: 2017 \tYards/Game: 302.6\n",
      "Team: Buffalo Bills \tYear: 2018 \tYards/Game: 302.6\n",
      "Team: Buffalo Bills \tYear: 2019 \tYards/Game: 330.2\n",
      "Team: Buffalo Bills \tYear: 2020 \tYards/Game: 396.4\n",
      "Team: Buffalo Bills \tYear: 2021 \tYards/Game: 381.9\n",
      "Team: Buffalo Bills \tYear: 2022 \tYards/Game: 397.6\n",
      "Team: Carolina Panthers \tYear: 2012 \tYards/Game: 360.7\n",
      "Team: Carolina Panthers \tYear: 2013 \tYards/Game: 316.8\n",
      "Team: Carolina Panthers \tYear: 2014 \tYards/Game: 346.7\n",
      "Team: Carolina Panthers \tYear: 2015 \tYards/Game: 366.9\n",
      "Team: Carolina Panthers \tYear: 2016 \tYards/Game: 343.7\n",
      "Team: Carolina Panthers \tYear: 2017 \tYards/Game: 323.7\n",
      "Team: Carolina Panthers \tYear: 2018 \tYards/Game: 323.7\n",
      "Team: Carolina Panthers \tYear: 2019 \tYards/Game: 341.8\n",
      "Team: Carolina Panthers \tYear: 2020 \tYards/Game: 349.5\n",
      "Team: Carolina Panthers \tYear: 2021 \tYards/Game: 298.9\n",
      "Team: Carolina Panthers \tYear: 2022 \tYards/Game: 306.2\n",
      "Team: Chicago Bears \tYear: 2012 \tYards/Game: 310.6\n",
      "Team: Chicago Bears \tYear: 2013 \tYards/Game: 381.8\n",
      "Team: Chicago Bears \tYear: 2014 \tYards/Game: 327.1\n",
      "Team: Chicago Bears \tYear: 2015 \tYards/Game: 344.6\n",
      "Team: Chicago Bears \tYear: 2016 \tYards/Game: 356.5\n",
      "Team: Chicago Bears \tYear: 2017 \tYards/Game: 287.4\n",
      "Team: Chicago Bears \tYear: 2018 \tYards/Game: 287.4\n",
      "Team: Chicago Bears \tYear: 2019 \tYards/Game: 296.8\n",
      "Team: Chicago Bears \tYear: 2020 \tYards/Game: 331.4\n",
      "Team: Chicago Bears \tYear: 2021 \tYards/Game: 307.4\n",
      "Team: Chicago Bears \tYear: 2022 \tYards/Game: 307.8\n",
      "Team: Cincinnati Bengals \tYear: 2012 \tYards/Game: 332.7\n",
      "Team: Cincinnati Bengals \tYear: 2013 \tYards/Game: 368.2\n",
      "Team: Cincinnati Bengals \tYear: 2014 \tYards/Game: 348.0\n",
      "Team: Cincinnati Bengals \tYear: 2015 \tYards/Game: 358.0\n",
      "Team: Cincinnati Bengals \tYear: 2016 \tYards/Game: 356.9\n",
      "Team: Cincinnati Bengals \tYear: 2017 \tYards/Game: 280.5\n",
      "Team: Cincinnati Bengals \tYear: 2018 \tYards/Game: 280.5\n",
      "Team: Cincinnati Bengals \tYear: 2019 \tYards/Game: 323.1\n",
      "Team: Cincinnati Bengals \tYear: 2020 \tYards/Game: 319.8\n",
      "Team: Cincinnati Bengals \tYear: 2021 \tYards/Game: 361.5\n",
      "Team: Cincinnati Bengals \tYear: 2022 \tYards/Game: 360.5\n",
      "Team: Cleveland Browns \tYear: 2012 \tYards/Game: 314.2\n",
      "Team: Cleveland Browns \tYear: 2013 \tYards/Game: 339.4\n",
      "Team: Cleveland Browns \tYear: 2014 \tYards/Game: 324.6\n",
      "Team: Cleveland Browns \tYear: 2015 \tYards/Game: 331.9\n",
      "Team: Cleveland Browns \tYear: 2016 \tYards/Game: 311.0\n",
      "Team: Cleveland Browns \tYear: 2017 \tYards/Game: 308.9\n",
      "Team: Cleveland Browns \tYear: 2018 \tYards/Game: 308.9\n",
      "Team: Cleveland Browns \tYear: 2019 \tYards/Game: 340.9\n",
      "Team: Cleveland Browns \tYear: 2020 \tYards/Game: 369.6\n",
      "Team: Cleveland Browns \tYear: 2021 \tYards/Game: 340.6\n",
      "Team: Cleveland Browns \tYear: 2022 \tYards/Game: 349.1\n",
      "Team: Dallas Cowboys \tYear: 2012 \tYards/Game: 374.6\n",
      "Team: Dallas Cowboys \tYear: 2013 \tYards/Game: 341.1\n",
      "Team: Dallas Cowboys \tYear: 2014 \tYards/Game: 383.6\n",
      "Team: Dallas Cowboys \tYear: 2015 \tYards/Game: 335.1\n",
      "Team: Dallas Cowboys \tYear: 2016 \tYards/Game: 376.7\n",
      "Team: Dallas Cowboys \tYear: 2017 \tYards/Game: 331.9\n",
      "Team: Dallas Cowboys \tYear: 2018 \tYards/Game: 331.9\n",
      "Team: Dallas Cowboys \tYear: 2019 \tYards/Game: 431.5\n",
      "Team: Dallas Cowboys \tYear: 2020 \tYards/Game: 371.8\n",
      "Team: Dallas Cowboys \tYear: 2021 \tYards/Game: 407.0\n",
      "Team: Dallas Cowboys \tYear: 2022 \tYards/Game: 354.9\n",
      "Team: Denver Broncos \tYear: 2012 \tYards/Game: 397.9\n",
      "Team: Denver Broncos \tYear: 2013 \tYards/Game: 457.3\n",
      "Team: Denver Broncos \tYear: 2014 \tYards/Game: 402.9\n",
      "Team: Denver Broncos \tYear: 2015 \tYards/Game: 355.5\n",
      "Team: Denver Broncos \tYear: 2016 \tYards/Game: 323.1\n",
      "Team: Denver Broncos \tYear: 2017 \tYards/Game: 324.1\n",
      "Team: Denver Broncos \tYear: 2018 \tYards/Game: 324.1\n",
      "Team: Denver Broncos \tYear: 2019 \tYards/Game: 298.6\n",
      "Team: Denver Broncos \tYear: 2020 \tYards/Game: 335.6\n",
      "Team: Denver Broncos \tYear: 2021 \tYards/Game: 330.5\n",
      "Team: Denver Broncos \tYear: 2022 \tYards/Game: 325.1\n",
      "Team: Detroit Lions \tYear: 2012 \tYards/Game: 408.8\n",
      "Team: Detroit Lions \tYear: 2013 \tYards/Game: 392.1\n",
      "Team: Detroit Lions \tYear: 2014 \tYards/Game: 340.8\n",
      "Team: Detroit Lions \tYear: 2015 \tYards/Game: 346.7\n",
      "Team: Detroit Lions \tYear: 2016 \tYards/Game: 338.8\n",
      "Team: Detroit Lions \tYear: 2017 \tYards/Game: 337.8\n",
      "Team: Detroit Lions \tYear: 2018 \tYards/Game: 337.8\n",
      "Team: Detroit Lions \tYear: 2019 \tYards/Game: 346.8\n",
      "Team: Detroit Lions \tYear: 2020 \tYards/Game: 350.2\n",
      "Team: Detroit Lions \tYear: 2021 \tYards/Game: 322.6\n",
      "Team: Detroit Lions \tYear: 2022 \tYards/Game: 380.0\n",
      "Team: Green Bay Packers \tYear: 2012 \tYards/Game: 359.4\n",
      "Team: Green Bay Packers \tYear: 2013 \tYards/Game: 400.2\n",
      "Team: Green Bay Packers \tYear: 2014 \tYards/Game: 386.1\n",
      "Team: Green Bay Packers \tYear: 2015 \tYards/Game: 334.6\n",
      "Team: Green Bay Packers \tYear: 2016 \tYards/Game: 368.8\n",
      "Team: Green Bay Packers \tYear: 2017 \tYards/Game: 305.7\n",
      "Team: Green Bay Packers \tYear: 2018 \tYards/Game: 305.7\n",
      "Team: Green Bay Packers \tYear: 2019 \tYards/Game: 345.5\n",
      "Team: Green Bay Packers \tYear: 2020 \tYards/Game: 389.0\n",
      "Team: Green Bay Packers \tYear: 2021 \tYards/Game: 365.6\n",
      "Team: Green Bay Packers \tYear: 2022 \tYards/Game: 337.9\n",
      "Team: Houston Texans \tYear: 2012 \tYards/Game: 372.1\n",
      "Team: Houston Texans \tYear: 2013 \tYards/Game: 347.2\n",
      "Team: Houston Texans \tYear: 2014 \tYards/Game: 344.6\n",
      "Team: Houston Texans \tYear: 2015 \tYards/Game: 347.8\n",
      "Team: Houston Texans \tYear: 2016 \tYards/Game: 314.7\n",
      "Team: Houston Texans \tYear: 2017 \tYards/Game: 320.0\n",
      "Team: Houston Texans \tYear: 2018 \tYards/Game: 320.0\n",
      "Team: Houston Texans \tYear: 2019 \tYards/Game: 362.0\n",
      "Team: Houston Texans \tYear: 2020 \tYards/Game: 375.2\n",
      "Team: Houston Texans \tYear: 2021 \tYards/Game: 278.1\n",
      "Team: Houston Texans \tYear: 2022 \tYards/Game: 283.5\n",
      "Team: Indianapolis Colts \tYear: 2012 \tYards/Game: 362.4\n",
      "Team: Indianapolis Colts \tYear: 2013 \tYards/Game: 341.8\n",
      "Team: Indianapolis Colts \tYear: 2014 \tYards/Game: 406.6\n",
      "Team: Indianapolis Colts \tYear: 2015 \tYards/Game: 321.4\n",
      "Team: Indianapolis Colts \tYear: 2016 \tYards/Game: 364.4\n",
      "Team: Indianapolis Colts \tYear: 2017 \tYards/Game: 284.6\n",
      "Team: Indianapolis Colts \tYear: 2018 \tYards/Game: 284.6\n",
      "Team: Indianapolis Colts \tYear: 2019 \tYards/Game: 327.4\n",
      "Team: Indianapolis Colts \tYear: 2020 \tYards/Game: 378.1\n",
      "Team: Indianapolis Colts \tYear: 2021 \tYards/Game: 347.1\n",
      "Team: Indianapolis Colts \tYear: 2022 \tYards/Game: 311.6\n",
      "Team: Jacksonville Jaguars \tYear: 2012 \tYards/Game: 299.2\n",
      "Team: Jacksonville Jaguars \tYear: 2013 \tYards/Game: 293.8\n",
      "Team: Jacksonville Jaguars \tYear: 2014 \tYards/Game: 289.6\n",
      "Team: Jacksonville Jaguars \tYear: 2015 \tYards/Game: 348.8\n",
      "Team: Jacksonville Jaguars \tYear: 2016 \tYards/Game: 334.9\n",
      "Team: Jacksonville Jaguars \tYear: 2017 \tYards/Game: 365.9\n",
      "Team: Jacksonville Jaguars \tYear: 2018 \tYards/Game: 365.9\n",
      "Team: Jacksonville Jaguars \tYear: 2019 \tYards/Game: 341.8\n",
      "Team: Jacksonville Jaguars \tYear: 2020 \tYards/Game: 326.1\n",
      "Team: Jacksonville Jaguars \tYear: 2021 \tYards/Game: 305.4\n",
      "Team: Jacksonville Jaguars \tYear: 2022 \tYards/Game: 357.4\n",
      "Team: Kansas City Chiefs \tYear: 2012 \tYards/Game: 319.2\n",
      "Team: Kansas City Chiefs \tYear: 2013 \tYards/Game: 337.2\n",
      "Team: Kansas City Chiefs \tYear: 2014 \tYards/Game: 318.8\n",
      "Team: Kansas City Chiefs \tYear: 2015 \tYards/Game: 331.2\n",
      "Team: Kansas City Chiefs \tYear: 2016 \tYards/Game: 343.0\n",
      "Team: Kansas City Chiefs \tYear: 2017 \tYards/Game: 375.4\n",
      "Team: Kansas City Chiefs \tYear: 2018 \tYards/Game: 375.4\n",
      "Team: Kansas City Chiefs \tYear: 2019 \tYards/Game: 379.2\n",
      "Team: Kansas City Chiefs \tYear: 2020 \tYards/Game: 415.8\n",
      "Team: Kansas City Chiefs \tYear: 2021 \tYards/Game: 396.8\n",
      "Team: Kansas City Chiefs \tYear: 2022 \tYards/Game: 413.6\n",
      "Team: Las Vegas Raiders \tYear: 2012 \tYards/Game: 344.0\n",
      "Team: Las Vegas Raiders \tYear: 2013 \tYards/Game: 333.8\n",
      "Team: Las Vegas Raiders \tYear: 2014 \tYards/Game: 282.2\n",
      "Team: Las Vegas Raiders \tYear: 2015 \tYards/Game: 333.5\n",
      "Team: Las Vegas Raiders \tYear: 2016 \tYards/Game: 373.3\n",
      "Team: Las Vegas Raiders \tYear: 2017 \tYards/Game: 324.1\n",
      "Team: Las Vegas Raiders \tYear: 2018 \tYards/Game: 324.1\n",
      "Team: Las Vegas Raiders \tYear: 2019 \tYards/Game: 363.7\n",
      "Team: Las Vegas Raiders \tYear: 2020 \tYards/Game: 383.3\n",
      "Team: Las Vegas Raiders \tYear: 2021 \tYards/Game: 363.8\n",
      "Team: Las Vegas Raiders \tYear: 2022 \tYards/Game: 352.5\n",
      "Team: Los Angeles Chargers \tYear: 2012 \tYards/Game: 297.2\n",
      "Team: Los Angeles Chargers \tYear: 2013 \tYards/Game: 393.3\n",
      "Team: Los Angeles Chargers \tYear: 2014 \tYards/Game: 341.6\n",
      "Team: Los Angeles Chargers \tYear: 2015 \tYards/Game: 371.8\n",
      "Team: Los Angeles Chargers \tYear: 2016 \tYards/Game: 356.8\n",
      "Team: Los Angeles Chargers \tYear: 2017 \tYards/Game: 376.6\n",
      "Team: Los Angeles Chargers \tYear: 2018 \tYards/Game: 376.6\n",
      "Team: Los Angeles Chargers \tYear: 2019 \tYards/Game: 367.4\n",
      "Team: Los Angeles Chargers \tYear: 2020 \tYards/Game: 382.1\n",
      "Team: Los Angeles Chargers \tYear: 2021 \tYards/Game: 390.2\n",
      "Team: Los Angeles Chargers \tYear: 2022 \tYards/Game: 359.3\n",
      "Team: Los Angeles Rams \tYear: 2012 \tYards/Game: 329.0\n",
      "Team: Los Angeles Rams \tYear: 2013 \tYards/Game: 304.8\n",
      "Team: Los Angeles Rams \tYear: 2014 \tYards/Game: 314.7\n",
      "Team: Los Angeles Rams \tYear: 2015 \tYards/Game: 297.6\n",
      "Team: Los Angeles Rams \tYear: 2016 \tYards/Game: 262.7\n",
      "Team: Los Angeles Rams \tYear: 2017 \tYards/Game: 361.5\n",
      "Team: Los Angeles Rams \tYear: 2018 \tYards/Game: 361.5\n",
      "Team: Los Angeles Rams \tYear: 2019 \tYards/Game: 374.9\n",
      "Team: Los Angeles Rams \tYear: 2020 \tYards/Game: 377.0\n",
      "Team: Los Angeles Rams \tYear: 2021 \tYards/Game: 372.1\n",
      "Team: Los Angeles Rams \tYear: 2022 \tYards/Game: 280.5\n",
      "Team: Miami Dolphins \tYear: 2012 \tYards/Game: 311.5\n",
      "Team: Miami Dolphins \tYear: 2013 \tYards/Game: 312.9\n",
      "Team: Miami Dolphins \tYear: 2014 \tYards/Game: 350.1\n",
      "Team: Miami Dolphins \tYear: 2015 \tYards/Game: 331.7\n",
      "Team: Miami Dolphins \tYear: 2016 \tYards/Game: 332.8\n",
      "Team: Miami Dolphins \tYear: 2017 \tYards/Game: 307.7\n",
      "Team: Miami Dolphins \tYear: 2018 \tYards/Game: 307.7\n",
      "Team: Miami Dolphins \tYear: 2019 \tYards/Game: 310.0\n",
      "Team: Miami Dolphins \tYear: 2020 \tYards/Game: 339.0\n",
      "Team: Miami Dolphins \tYear: 2021 \tYards/Game: 307.0\n",
      "Team: Miami Dolphins \tYear: 2022 \tYards/Game: 364.5\n",
      "Team: Minnesota Vikings \tYear: 2012 \tYards/Game: 336.6\n",
      "Team: Minnesota Vikings \tYear: 2013 \tYards/Game: 344.2\n",
      "Team: Minnesota Vikings \tYear: 2014 \tYards/Game: 315.5\n",
      "Team: Minnesota Vikings \tYear: 2015 \tYards/Game: 321.2\n",
      "Team: Minnesota Vikings \tYear: 2016 \tYards/Game: 315.1\n",
      "Team: Minnesota Vikings \tYear: 2017 \tYards/Game: 356.9\n",
      "Team: Minnesota Vikings \tYear: 2018 \tYards/Game: 356.9\n",
      "Team: Minnesota Vikings \tYear: 2019 \tYards/Game: 353.5\n",
      "Team: Minnesota Vikings \tYear: 2020 \tYards/Game: 393.2\n",
      "Team: Minnesota Vikings \tYear: 2021 \tYards/Game: 362.8\n",
      "Team: Minnesota Vikings \tYear: 2022 \tYards/Game: 361.5\n",
      "Team: New England Patriots \tYear: 2012 \tYards/Game: 427.9\n",
      "Team: New England Patriots \tYear: 2013 \tYards/Game: 384.5\n",
      "Team: New England Patriots \tYear: 2014 \tYards/Game: 365.5\n",
      "Team: New England Patriots \tYear: 2015 \tYards/Game: 374.4\n",
      "Team: New England Patriots \tYear: 2016 \tYards/Game: 386.2\n",
      "Team: New England Patriots \tYear: 2017 \tYards/Game: 394.2\n",
      "Team: New England Patriots \tYear: 2018 \tYards/Game: 394.2\n",
      "Team: New England Patriots \tYear: 2019 \tYards/Game: 354.0\n",
      "Team: New England Patriots \tYear: 2020 \tYards/Game: 327.2\n",
      "Team: New England Patriots \tYear: 2021 \tYards/Game: 353.4\n",
      "Team: New England Patriots \tYear: 2022 \tYards/Game: 314.6\n",
      "Team: New Orleans Saints \tYear: 2012 \tYards/Game: 410.9\n",
      "Team: New Orleans Saints \tYear: 2013 \tYards/Game: 399.4\n",
      "Team: New Orleans Saints \tYear: 2014 \tYards/Game: 411.4\n",
      "Team: New Orleans Saints \tYear: 2015 \tYards/Game: 403.8\n",
      "Team: New Orleans Saints \tYear: 2016 \tYards/Game: 426.0\n",
      "Team: New Orleans Saints \tYear: 2017 \tYards/Game: 391.2\n",
      "Team: New Orleans Saints \tYear: 2019 \tYards/Game: 373.9\n",
      "Team: New Orleans Saints \tYear: 2020 \tYards/Game: 376.4\n",
      "Team: New Orleans Saints \tYear: 2021 \tYards/Game: 304.5\n",
      "Team: New Orleans Saints \tYear: 2022 \tYards/Game: 333.8\n",
      "Team: New York Giants \tYear: 2012 \tYards/Game: 355.4\n",
      "Team: New York Giants \tYear: 2013 \tYards/Game: 307.5\n",
      "Team: New York Giants \tYear: 2014 \tYards/Game: 367.2\n",
      "Team: New York Giants \tYear: 2015 \tYards/Game: 372.0\n",
      "Team: New York Giants \tYear: 2016 \tYards/Game: 330.7\n",
      "Team: New York Giants \tYear: 2017 \tYards/Game: 314.2\n",
      "Team: New York Giants \tYear: 2018 \tYards/Game: 314.2\n",
      "Team: New York Giants \tYear: 2019 \tYards/Game: 338.5\n",
      "Team: New York Giants \tYear: 2020 \tYards/Game: 299.6\n",
      "Team: New York Giants \tYear: 2021 \tYards/Game: 287.3\n",
      "Team: New York Giants \tYear: 2022 \tYards/Game: 333.9\n",
      "Team: New York Jets \tYear: 2012 \tYards/Game: 299.2\n",
      "Team: New York Jets \tYear: 2013 \tYards/Game: 318.1\n",
      "Team: New York Jets \tYear: 2014 \tYards/Game: 326.6\n",
      "Team: New York Jets \tYear: 2015 \tYards/Game: 370.3\n",
      "Team: New York Jets \tYear: 2016 \tYards/Game: 329.2\n",
      "Team: New York Jets \tYear: 2017 \tYards/Game: 305.2\n",
      "Team: New York Jets \tYear: 2018 \tYards/Game: 305.2\n",
      "Team: New York Jets \tYear: 2019 \tYards/Game: 273.0\n",
      "Team: New York Jets \tYear: 2020 \tYards/Game: 279.9\n",
      "Team: New York Jets \tYear: 2021 \tYards/Game: 306.4\n",
      "Team: New York Jets \tYear: 2022 \tYards/Game: 318.2\n",
      "Team: Philadelphia Eagles \tYear: 2012 \tYards/Game: 354.1\n",
      "Team: Philadelphia Eagles \tYear: 2013 \tYards/Game: 417.2\n",
      "Team: Philadelphia Eagles \tYear: 2014 \tYards/Game: 396.8\n",
      "Team: Philadelphia Eagles \tYear: 2015 \tYards/Game: 364.4\n",
      "Team: Philadelphia Eagles \tYear: 2016 \tYards/Game: 337.4\n",
      "Team: Philadelphia Eagles \tYear: 2017 \tYards/Game: 365.8\n",
      "Team: Philadelphia Eagles \tYear: 2018 \tYards/Game: 365.8\n",
      "Team: Philadelphia Eagles \tYear: 2019 \tYards/Game: 360.8\n",
      "Team: Philadelphia Eagles \tYear: 2020 \tYards/Game: 334.6\n",
      "Team: Philadelphia Eagles \tYear: 2021 \tYards/Game: 359.9\n",
      "Team: Philadelphia Eagles \tYear: 2022 \tYards/Game: 389.1\n",
      "Team: Pittsburgh Steelers \tYear: 2012 \tYards/Game: 332.8\n",
      "Team: Pittsburgh Steelers \tYear: 2013 \tYards/Game: 337.5\n",
      "Team: Pittsburgh Steelers \tYear: 2014 \tYards/Game: 411.1\n",
      "Team: Pittsburgh Steelers \tYear: 2015 \tYards/Game: 395.4\n",
      "Team: Pittsburgh Steelers \tYear: 2016 \tYards/Game: 372.6\n",
      "Team: Pittsburgh Steelers \tYear: 2017 \tYards/Game: 377.9\n",
      "Team: Pittsburgh Steelers \tYear: 2018 \tYards/Game: 377.9\n",
      "Team: Pittsburgh Steelers \tYear: 2019 \tYards/Game: 276.8\n",
      "Team: Pittsburgh Steelers \tYear: 2020 \tYards/Game: 334.6\n",
      "Team: Pittsburgh Steelers \tYear: 2021 \tYards/Game: 315.4\n",
      "Team: Pittsburgh Steelers \tYear: 2022 \tYards/Game: 322.6\n",
      "Team: San Francisco 49ers \tYear: 2012 \tYards/Game: 361.8\n",
      "Team: San Francisco 49ers \tYear: 2013 \tYards/Game: 323.8\n",
      "Team: San Francisco 49ers \tYear: 2014 \tYards/Game: 327.4\n",
      "Team: San Francisco 49ers \tYear: 2015 \tYards/Game: 303.8\n",
      "Team: San Francisco 49ers \tYear: 2016 \tYards/Game: 308.1\n",
      "Team: San Francisco 49ers \tYear: 2017 \tYards/Game: 349.2\n",
      "Team: San Francisco 49ers \tYear: 2018 \tYards/Game: 349.2\n",
      "Team: San Francisco 49ers \tYear: 2019 \tYards/Game: 381.1\n",
      "Team: San Francisco 49ers \tYear: 2020 \tYards/Game: 370.1\n",
      "Team: San Francisco 49ers \tYear: 2021 \tYards/Game: 375.7\n",
      "Team: San Francisco 49ers \tYear: 2022 \tYards/Game: 365.6\n",
      "Team: Seattle Seahawks \tYear: 2012 \tYards/Game: 350.6\n",
      "Team: Seattle Seahawks \tYear: 2013 \tYards/Game: 339.0\n",
      "Team: Seattle Seahawks \tYear: 2014 \tYards/Game: 375.8\n",
      "Team: Seattle Seahawks \tYear: 2015 \tYards/Game: 378.6\n",
      "Team: Seattle Seahawks \tYear: 2016 \tYards/Game: 357.2\n",
      "Team: Seattle Seahawks \tYear: 2017 \tYards/Game: 330.4\n",
      "Team: Seattle Seahawks \tYear: 2018 \tYards/Game: 330.4\n",
      "Team: Seattle Seahawks \tYear: 2019 \tYards/Game: 374.4\n",
      "Team: Seattle Seahawks \tYear: 2020 \tYards/Game: 369.5\n",
      "Team: Seattle Seahawks \tYear: 2021 \tYards/Game: 323.9\n",
      "Team: Seattle Seahawks \tYear: 2022 \tYards/Game: 351.5\n",
      "Team: Tampa Bay Buccaneers \tYear: 2012 \tYards/Game: 363.8\n",
      "Team: Tampa Bay Buccaneers \tYear: 2013 \tYards/Game: 277.0\n",
      "Team: Tampa Bay Buccaneers \tYear: 2014 \tYards/Game: 292.0\n",
      "Team: Tampa Bay Buccaneers \tYear: 2015 \tYards/Game: 375.9\n",
      "Team: Tampa Bay Buccaneers \tYear: 2016 \tYards/Game: 346.4\n",
      "Team: Tampa Bay Buccaneers \tYear: 2017 \tYards/Game: 363.5\n",
      "Team: Tampa Bay Buccaneers \tYear: 2018 \tYards/Game: 363.5\n",
      "Team: Tampa Bay Buccaneers \tYear: 2019 \tYards/Game: 397.9\n",
      "Team: Tampa Bay Buccaneers \tYear: 2020 \tYards/Game: 384.1\n",
      "Team: Tampa Bay Buccaneers \tYear: 2021 \tYards/Game: 405.9\n",
      "Team: Tampa Bay Buccaneers \tYear: 2022 \tYards/Game: 346.7\n",
      "Team: Tennessee Titans \tYear: 2012 \tYards/Game: 313.1\n",
      "Team: Tennessee Titans \tYear: 2013 \tYards/Game: 336.9\n",
      "Team: Tennessee Titans \tYear: 2014 \tYards/Game: 303.7\n",
      "Team: Tennessee Titans \tYear: 2015 \tYards/Game: 311.8\n",
      "Team: Tennessee Titans \tYear: 2016 \tYards/Game: 358.0\n",
      "Team: Tennessee Titans \tYear: 2017 \tYards/Game: 314.0\n",
      "Team: Tennessee Titans \tYear: 2018 \tYards/Game: 314.0\n",
      "Team: Tennessee Titans \tYear: 2019 \tYards/Game: 362.8\n"
     ]
    },
    {
     "name": "stdout",
     "output_type": "stream",
     "text": [
      "Team: Tennessee Titans \tYear: 2020 \tYards/Game: 396.4\n",
      "Team: Tennessee Titans \tYear: 2021 \tYards/Game: 342.5\n",
      "Team: Tennessee Titans \tYear: 2022 \tYards/Game: 296.8\n",
      "Team: Washington Commanders \tYear: 2012 \tYards/Game: 383.2\n",
      "Team: Washington Commanders \tYear: 2013 \tYards/Game: 369.7\n",
      "Team: Washington Commanders \tYear: 2014 \tYards/Game: 358.6\n",
      "Team: Washington Commanders \tYear: 2015 \tYards/Game: 353.8\n",
      "Team: Washington Commanders \tYear: 2016 \tYards/Game: 403.4\n",
      "Team: Washington Commanders \tYear: 2017 \tYards/Game: 324.9\n",
      "Team: Washington Commanders \tYear: 2018 \tYards/Game: 324.9\n",
      "Team: Washington Commanders \tYear: 2019 \tYards/Game: 274.7\n",
      "Team: Washington Commanders \tYear: 2020 \tYards/Game: 317.2\n",
      "Team: Washington Commanders \tYear: 2021 \tYards/Game: 323.6\n",
      "Team: Washington Commanders \tYear: 2022 \tYards/Game: 330.3\n"
     ]
    }
   ],
   "source": [
    "team_names = nflTyards['Team'].unique()\n",
    "\n",
    "# Iterate over each team\n",
    "for team_name in team_names:\n",
    "    team_data = nflTyards[nflTyards['Team'] == team_name]\n",
    "    \n",
    "    # Display the total offense yards/game for each year\n",
    "    for year in team_data['Year'].unique():\n",
    "        total_ydsgame = team_data.loc[team_data['Year'] == year, 'Off Yds/G'].values[0]\n",
    "        print(\"Team:\", team_name, \"\\tYear:\", year, \"\\tYards/Game:\", total_ydsgame)"
   ]
  },
  {
   "cell_type": "markdown",
   "id": "0ce07e61",
   "metadata": {},
   "source": [
    "#### Calculate Descriptive Statistics on Offense Yards per game for all Teams. These statistics are Offense Yards per game and their mean, median, standard deviation, variance, min, max, range, and sum."
   ]
  },
  {
   "cell_type": "markdown",
   "id": "a5d88358",
   "metadata": {},
   "source": [
    "### Arizona Cardinals"
   ]
  },
  {
   "cell_type": "code",
   "execution_count": 12,
   "id": "eff7694d",
   "metadata": {},
   "outputs": [
    {
     "name": "stdout",
     "output_type": "stream",
     "text": [
      "Arizona Cardinals Offense Yards/Game Mean: 341.45454545454544\n",
      "Arizona Cardinals Offense Yards/Game Median: 341.7\n",
      "Arizona Cardinals Offense Yards/Game Standard Deviation: 40.567656171791924\n",
      "Arizona Cardinals Offense Yards/Game Variance: 1645.7347272727275\n",
      "Arizona Cardinals Offense Yards/Game Minimum: 263.1\n",
      "Arizona Cardinals Offense Yards/Game Maximum: 408.3\n",
      "Arizona Cardinals Offense Yards/Game Range: 145.2\n",
      "Arizona Cardinals Offense Total Yards/Game 2012-2022: 3756.0\n"
     ]
    }
   ],
   "source": [
    "team_name1 = 'Arizona Cardinals'\n",
    "cardinals_data = nflTyards[nflTyards['Team'] == team_name1]\n",
    "mean_value = cardinals_data['Off Yds/G'].mean()\n",
    "median_value = cardinals_data['Off Yds/G'].median()\n",
    "std_value = cardinals_data['Off Yds/G'].std()\n",
    "var_value = cardinals_data['Off Yds/G'].var()\n",
    "min_value = cardinals_data['Off Yds/G'].min()\n",
    "max_value = cardinals_data['Off Yds/G'].max()\n",
    "data_range = max_value - min_value\n",
    "total_points = cardinals_data['Off Yds/G'].sum()\n",
    "print(\"Arizona Cardinals Offense Yards/Game Mean:\", mean_value)\n",
    "print(\"Arizona Cardinals Offense Yards/Game Median:\", median_value)\n",
    "print(\"Arizona Cardinals Offense Yards/Game Standard Deviation:\", std_value)\n",
    "print(\"Arizona Cardinals Offense Yards/Game Variance:\", var_value)\n",
    "print(\"Arizona Cardinals Offense Yards/Game Minimum:\", min_value)\n",
    "print(\"Arizona Cardinals Offense Yards/Game Maximum:\", max_value)\n",
    "print(\"Arizona Cardinals Offense Yards/Game Range:\", data_range)\n",
    "print(\"Arizona Cardinals Offense Total Yards/Game 2012-2022:\", total_points)"
   ]
  },
  {
   "cell_type": "markdown",
   "id": "4c5aba1a",
   "metadata": {},
   "source": [
    "### Atlanta Falcons"
   ]
  },
  {
   "cell_type": "code",
   "execution_count": 13,
   "id": "7b8a311f",
   "metadata": {},
   "outputs": [
    {
     "name": "stdout",
     "output_type": "stream",
     "text": [
      "Atlanta Falcons Offense Yards/Game Mean: 361.8545454545455\n",
      "Atlanta Falcons Offense Yards/Game Median: 368.4\n",
      "Atlanta Falcons Offense Yards/Game Standard Deviation: 30.580070753232846\n",
      "Atlanta Falcons Offense Yards/Game Variance: 935.1407272727268\n",
      "Atlanta Falcons Offense Yards/Game Minimum: 303.8\n",
      "Atlanta Falcons Offense Yards/Game Maximum: 415.8\n",
      "Atlanta Falcons Offense Yards/Game Range: 112.0\n",
      "Atlanta Falcons Offense Total Yards/Game 2012-2022: 3980.4\n"
     ]
    }
   ],
   "source": [
    "team_name2 = 'Atlanta Falcons'\n",
    "falcons_data = nflTyards[nflTyards['Team'] == team_name2]\n",
    "mean_value = falcons_data['Off Yds/G'].mean()\n",
    "median_value = falcons_data['Off Yds/G'].median()\n",
    "std_value = falcons_data['Off Yds/G'].std()\n",
    "var_value = falcons_data['Off Yds/G'].var()\n",
    "min_value = falcons_data['Off Yds/G'].min()\n",
    "max_value = falcons_data['Off Yds/G'].max()\n",
    "data_range = max_value - min_value\n",
    "total_points = falcons_data['Off Yds/G'].sum()\n",
    "print(\"Atlanta Falcons Offense Yards/Game Mean:\", mean_value)\n",
    "print(\"Atlanta Falcons Offense Yards/Game Median:\", median_value)\n",
    "print(\"Atlanta Falcons Offense Yards/Game Standard Deviation:\", std_value)\n",
    "print(\"Atlanta Falcons Offense Yards/Game Variance:\", var_value)\n",
    "print(\"Atlanta Falcons Offense Yards/Game Minimum:\", min_value)\n",
    "print(\"Atlanta Falcons Offense Yards/Game Maximum:\", max_value)\n",
    "print(\"Atlanta Falcons Offense Yards/Game Range:\", data_range)\n",
    "print(\"Atlanta Falcons Offense Total Yards/Game 2012-2022:\", total_points)"
   ]
  },
  {
   "cell_type": "markdown",
   "id": "14929972",
   "metadata": {},
   "source": [
    "### Baltimore Ravens"
   ]
  },
  {
   "cell_type": "code",
   "execution_count": 14,
   "id": "876ccfea",
   "metadata": {},
   "outputs": [
    {
     "name": "stdout",
     "output_type": "stream",
     "text": [
      "Baltimore Ravens Offense  Yards/Game Mean: 348.26363636363635\n",
      "Baltimore Ravens Offense  Yards/Game Median: 352.5\n",
      "Baltimore Ravens Offense  Yards/Game Standard Deviation: 32.441031818586566\n",
      "Baltimore Ravens Offense  Yards/Game Variance: 1052.420545454546\n",
      "Baltimore Ravens Offense  Yards/Game Minimum: 305.4\n",
      "Baltimore Ravens Offense  Yards/Game Maximum: 407.6\n",
      "Baltimore Ravens Offense  Yards/Game  Range: 102.20000000000005\n",
      "Baltimore Ravens Offense Total  Yards/Game 2012-2022: 3830.9\n"
     ]
    }
   ],
   "source": [
    "team_name3 = 'Baltimore Ravens'\n",
    "ravens_data = nflTyards[nflTyards['Team'] == team_name3]\n",
    "mean_value = ravens_data['Off Yds/G'].mean()\n",
    "median_value = ravens_data['Off Yds/G'].median()\n",
    "std_value = ravens_data['Off Yds/G'].std()\n",
    "var_value = ravens_data['Off Yds/G'].var()\n",
    "min_value = ravens_data['Off Yds/G'].min()\n",
    "max_value = ravens_data['Off Yds/G'].max()\n",
    "data_range = max_value - min_value\n",
    "total_points = ravens_data['Off Yds/G'].sum()\n",
    "print(\"Baltimore Ravens Offense  Yards/Game Mean:\", mean_value)\n",
    "print(\"Baltimore Ravens Offense  Yards/Game Median:\", median_value)\n",
    "print(\"Baltimore Ravens Offense  Yards/Game Standard Deviation:\", std_value)\n",
    "print(\"Baltimore Ravens Offense  Yards/Game Variance:\", var_value)\n",
    "print(\"Baltimore Ravens Offense  Yards/Game Minimum:\", min_value)\n",
    "print(\"Baltimore Ravens Offense  Yards/Game Maximum:\", max_value)\n",
    "print(\"Baltimore Ravens Offense  Yards/Game  Range:\", data_range)\n",
    "print(\"Baltimore Ravens Offense Total  Yards/Game 2012-2022:\", total_points)"
   ]
  },
  {
   "cell_type": "markdown",
   "id": "cbeb8f84",
   "metadata": {},
   "source": [
    "### Buffalo Bills"
   ]
  },
  {
   "cell_type": "code",
   "execution_count": 15,
   "id": "a2dff34e",
   "metadata": {},
   "outputs": [
    {
     "name": "stdout",
     "output_type": "stream",
     "text": [
      "Buffalo Bills Offense  Yards/Game Mean: 347.79999999999995\n",
      "Buffalo Bills Offense  Yards/Game  Median: 342.9\n",
      "Buffalo Bills Offense  Yards/Game Standard Deviation: 34.04194471530673\n",
      "Buffalo Bills Offense  Yards/Game Variance: 1158.8539999999994\n",
      "Buffalo Bills Offense  Yards/Game Minimum: 302.6\n",
      "Buffalo Bills Offense  Yards/Game Maximum: 397.6\n",
      "Buffalo Bills Offense  Yards/Game Range: 95.0\n",
      "Buffalo Bills Offense Total  Yards/Game 2012-2022: 3825.8\n"
     ]
    }
   ],
   "source": [
    "team_name4 = 'Buffalo Bills'\n",
    "bills_data = nflTyards[nflTyards['Team'] == team_name4]\n",
    "mean_value = bills_data['Off Yds/G'].mean()\n",
    "median_value = bills_data['Off Yds/G'].median()\n",
    "std_value = bills_data['Off Yds/G'].std()\n",
    "var_value = bills_data['Off Yds/G'].var()\n",
    "min_value = bills_data['Off Yds/G'].min()\n",
    "max_value = bills_data['Off Yds/G'].max()\n",
    "data_range = max_value - min_value\n",
    "total_points = bills_data['Off Yds/G'].sum()\n",
    "print(\"Buffalo Bills Offense  Yards/Game Mean:\", mean_value)\n",
    "print(\"Buffalo Bills Offense  Yards/Game  Median:\", median_value)\n",
    "print(\"Buffalo Bills Offense  Yards/Game Standard Deviation:\", std_value)\n",
    "print(\"Buffalo Bills Offense  Yards/Game Variance:\", var_value)\n",
    "print(\"Buffalo Bills Offense  Yards/Game Minimum:\", min_value)\n",
    "print(\"Buffalo Bills Offense  Yards/Game Maximum:\", max_value)\n",
    "print(\"Buffalo Bills Offense  Yards/Game Range:\", data_range)\n",
    "print(\"Buffalo Bills Offense Total  Yards/Game 2012-2022:\", total_points)"
   ]
  },
  {
   "cell_type": "markdown",
   "id": "6c092b0b",
   "metadata": {},
   "source": [
    "### Carolina Panthers"
   ]
  },
  {
   "cell_type": "code",
   "execution_count": 16,
   "id": "2a9fa187",
   "metadata": {},
   "outputs": [
    {
     "name": "stdout",
     "output_type": "stream",
     "text": [
      "Carolina Panthers Offense  Yards/Game Mean: 334.41818181818184\n",
      "Carolina Panthers Offense  Yards/Game Median: 341.8\n",
      "Carolina Panthers Offense  Yards/Game Standard Deviation: 22.05156766226919\n",
      "Carolina Panthers Offense  Yards/Game Variance: 486.2716363636363\n",
      "Carolina Panthers Offense  Yards/Game Minimum: 298.9\n",
      "Carolina Panthers Offense  Yards/Game Maximum: 366.9\n",
      "Carolina Panthers Offense  Yards/Game Range: 68.0\n",
      "Carolina Panthers Offense Total  Yards/Game 2012-2022: 3678.6\n"
     ]
    }
   ],
   "source": [
    "team_name5 = 'Carolina Panthers'\n",
    "panthers_data = nflTyards[nflTyards['Team'] == team_name5]\n",
    "mean_value = panthers_data['Off Yds/G'].mean()\n",
    "median_value = panthers_data['Off Yds/G'].median()\n",
    "std_value = panthers_data['Off Yds/G'].std()\n",
    "var_value = panthers_data['Off Yds/G'].var()\n",
    "min_value = panthers_data['Off Yds/G'].min()\n",
    "max_value = panthers_data['Off Yds/G'].max()\n",
    "data_range = max_value - min_value\n",
    "total_points = panthers_data['Off Yds/G'].sum()\n",
    "print(\"Carolina Panthers Offense  Yards/Game Mean:\", mean_value)\n",
    "print(\"Carolina Panthers Offense  Yards/Game Median:\", median_value)\n",
    "print(\"Carolina Panthers Offense  Yards/Game Standard Deviation:\", std_value)\n",
    "print(\"Carolina Panthers Offense  Yards/Game Variance:\", var_value)\n",
    "print(\"Carolina Panthers Offense  Yards/Game Minimum:\", min_value)\n",
    "print(\"Carolina Panthers Offense  Yards/Game Maximum:\", max_value)\n",
    "print(\"Carolina Panthers Offense  Yards/Game Range:\", data_range)\n",
    "print(\"Carolina Panthers Offense Total  Yards/Game 2012-2022:\", total_points)"
   ]
  },
  {
   "cell_type": "markdown",
   "id": "858a652d",
   "metadata": {},
   "source": [
    "### Chicago Bears"
   ]
  },
  {
   "cell_type": "code",
   "execution_count": 17,
   "id": "b81312df",
   "metadata": {},
   "outputs": [
    {
     "name": "stdout",
     "output_type": "stream",
     "text": [
      "Chicago Bears Offense  Yards/Game Mean: 321.70909090909095\n",
      "Chicago Bears Offense  Yards/Game Median: 310.6\n",
      "Chicago Bears Offense  Yards/Game Standard Deviation: 29.940957050350107\n",
      "Chicago Bears Offense  Yards/Game Variance: 896.4609090909098\n",
      "Chicago Bears Offense  Yards/Game Minimum: 287.4\n",
      "Chicago Bears Offense  Yards/Game Maximum: 381.8\n",
      "Chicago Bears Offense  Yards/Game Range: 94.40000000000003\n",
      "Chicago Bears Offense Total  Yards/Game 2012-2022: 3538.8\n"
     ]
    }
   ],
   "source": [
    "team_name6 = 'Chicago Bears'\n",
    "bears_data = nflTyards[nflTyards['Team'] == team_name6]\n",
    "mean_value = bears_data['Off Yds/G'].mean()\n",
    "median_value = bears_data['Off Yds/G'].median()\n",
    "std_value = bears_data['Off Yds/G'].std()\n",
    "var_value = bears_data['Off Yds/G'].var()\n",
    "min_value = bears_data['Off Yds/G'].min()\n",
    "max_value = bears_data['Off Yds/G'].max()\n",
    "data_range = max_value - min_value\n",
    "total_points = bears_data['Off Yds/G'].sum()\n",
    "print(\"Chicago Bears Offense  Yards/Game Mean:\", mean_value)\n",
    "print(\"Chicago Bears Offense  Yards/Game Median:\", median_value)\n",
    "print(\"Chicago Bears Offense  Yards/Game Standard Deviation:\", std_value)\n",
    "print(\"Chicago Bears Offense  Yards/Game Variance:\", var_value)\n",
    "print(\"Chicago Bears Offense  Yards/Game Minimum:\", min_value)\n",
    "print(\"Chicago Bears Offense  Yards/Game Maximum:\", max_value)\n",
    "print(\"Chicago Bears Offense  Yards/Game Range:\", data_range)\n",
    "print(\"Chicago Bears Offense Total  Yards/Game 2012-2022:\", total_points)"
   ]
  },
  {
   "cell_type": "markdown",
   "id": "a2828e1a",
   "metadata": {},
   "source": [
    "### Cincinnati Bengals"
   ]
  },
  {
   "cell_type": "code",
   "execution_count": 18,
   "id": "73916fc5",
   "metadata": {},
   "outputs": [
    {
     "name": "stdout",
     "output_type": "stream",
     "text": [
      "Cincinnati Bengals Offense  Yards/Game Mean: 335.42727272727274\n",
      "Cincinnati Bengals Offense  Yards/Game Median: 348.0\n",
      "Cincinnati Bengals Offense  Yards/Game Standard Deviation: 31.541689584075577\n",
      "Cincinnati Bengals Offense  Yards/Game Variance: 994.8781818181817\n",
      "Cincinnati Bengals Offense  Yards/Game Minimum: 280.5\n",
      "Cincinnati Bengals Offense  Yards/Game Maximum: 368.2\n",
      "Cincinnati Bengals Offense  Yards/Game Range: 87.69999999999999\n",
      "Cincinnati Bengals Offense Total  Yards/Game 2012-2022: 3689.7000000000003\n"
     ]
    }
   ],
   "source": [
    "team_name7 = 'Cincinnati Bengals'\n",
    "bengals_data = nflTyards[nflTyards['Team'] == team_name7]\n",
    "mean_value = bengals_data['Off Yds/G'].mean()\n",
    "median_value = bengals_data['Off Yds/G'].median()\n",
    "std_value = bengals_data['Off Yds/G'].std()\n",
    "var_value = bengals_data['Off Yds/G'].var()\n",
    "min_value = bengals_data['Off Yds/G'].min()\n",
    "max_value = bengals_data['Off Yds/G'].max()\n",
    "data_range = max_value - min_value\n",
    "total_points = bengals_data['Off Yds/G'].sum()\n",
    "print(\"Cincinnati Bengals Offense  Yards/Game Mean:\", mean_value)\n",
    "print(\"Cincinnati Bengals Offense  Yards/Game Median:\", median_value)\n",
    "print(\"Cincinnati Bengals Offense  Yards/Game Standard Deviation:\", std_value)\n",
    "print(\"Cincinnati Bengals Offense  Yards/Game Variance:\", var_value)\n",
    "print(\"Cincinnati Bengals Offense  Yards/Game Minimum:\", min_value)\n",
    "print(\"Cincinnati Bengals Offense  Yards/Game Maximum:\", max_value)\n",
    "print(\"Cincinnati Bengals Offense  Yards/Game Range:\", data_range)\n",
    "print(\"Cincinnati Bengals Offense Total  Yards/Game 2012-2022:\", total_points)"
   ]
  },
  {
   "cell_type": "markdown",
   "id": "cd9c647d",
   "metadata": {},
   "source": [
    "### Cleveland Browns"
   ]
  },
  {
   "cell_type": "code",
   "execution_count": 19,
   "id": "cc674e4a",
   "metadata": {},
   "outputs": [
    {
     "name": "stdout",
     "output_type": "stream",
     "text": [
      "Cleveland Browns Offense  Yards/Game Mean: 330.8272727272727\n",
      "Cleveland Browns Offense  Yards/Game Median: 331.9\n",
      "Cleveland Browns Offense  Yards/Game Standard Deviation: 19.439140459860415\n",
      "Cleveland Browns Offense  Yards/Game Variance: 377.8801818181822\n",
      "Cleveland Browns Offense  Yards/Game Minimum: 308.9\n",
      "Cleveland Browns Offense  Yards/Game Maximum: 369.6\n",
      "Cleveland Browns Offense  Yards/Game Range: 60.700000000000045\n",
      "Cleveland Browns Offense Total  Yards/Game 2012-2022: 3639.0999999999995\n"
     ]
    }
   ],
   "source": [
    "team_name8 = 'Cleveland Browns'\n",
    "browns_data = nflTyards[nflTyards['Team'] == team_name8]\n",
    "mean_value = browns_data['Off Yds/G'].mean()\n",
    "median_value = browns_data['Off Yds/G'].median()\n",
    "std_value = browns_data['Off Yds/G'].std()\n",
    "var_value = browns_data['Off Yds/G'].var()\n",
    "min_value = browns_data['Off Yds/G'].min()\n",
    "max_value = browns_data['Off Yds/G'].max()\n",
    "data_range = max_value - min_value\n",
    "total_points = browns_data['Off Yds/G'].sum()\n",
    "print(\"Cleveland Browns Offense  Yards/Game Mean:\", mean_value)\n",
    "print(\"Cleveland Browns Offense  Yards/Game Median:\", median_value)\n",
    "print(\"Cleveland Browns Offense  Yards/Game Standard Deviation:\", std_value)\n",
    "print(\"Cleveland Browns Offense  Yards/Game Variance:\", var_value)\n",
    "print(\"Cleveland Browns Offense  Yards/Game Minimum:\", min_value)\n",
    "print(\"Cleveland Browns Offense  Yards/Game Maximum:\", max_value)\n",
    "print(\"Cleveland Browns Offense  Yards/Game Range:\", data_range)\n",
    "print(\"Cleveland Browns Offense Total  Yards/Game 2012-2022:\", total_points)"
   ]
  },
  {
   "cell_type": "markdown",
   "id": "1c16192f",
   "metadata": {},
   "source": [
    "### Dallas Cowboys"
   ]
  },
  {
   "cell_type": "code",
   "execution_count": 20,
   "id": "3af6131b",
   "metadata": {},
   "outputs": [
    {
     "name": "stdout",
     "output_type": "stream",
     "text": [
      "Dallas Cowboys Offense  Yards/Game Mean: 367.2818181818182\n",
      "Dallas Cowboys Offense  Yards/Game Median: 371.8\n",
      "Dallas Cowboys Offense  Yards/Game Standard Deviation: 32.417088647249564\n",
      "Dallas Cowboys Offense  Yards/Game Variance: 1050.8676363636364\n",
      "Dallas Cowboys Offense  Yards/Game Minimum: 331.9\n",
      "Dallas Cowboys Offense  Yards/Game Maximum: 431.5\n",
      "Dallas Cowboys Offense  Yards/Game Range: 99.60000000000002\n",
      "Dallas Cowboys Offense Total  Yards/Game 2012-2022: 4040.1000000000004\n"
     ]
    }
   ],
   "source": [
    "team_name9 = 'Dallas Cowboys'\n",
    "cowboys_data = nflTyards[nflTyards['Team'] == team_name9]\n",
    "mean_value = cowboys_data['Off Yds/G'].mean()\n",
    "median_value = cowboys_data['Off Yds/G'].median()\n",
    "std_value = cowboys_data['Off Yds/G'].std()\n",
    "var_value = cowboys_data['Off Yds/G'].var()\n",
    "min_value = cowboys_data['Off Yds/G'].min()\n",
    "max_value = cowboys_data['Off Yds/G'].max()\n",
    "data_range = max_value - min_value\n",
    "total_points = cowboys_data['Off Yds/G'].sum()\n",
    "print(\"Dallas Cowboys Offense  Yards/Game Mean:\", mean_value)\n",
    "print(\"Dallas Cowboys Offense  Yards/Game Median:\", median_value)\n",
    "print(\"Dallas Cowboys Offense  Yards/Game Standard Deviation:\", std_value)\n",
    "print(\"Dallas Cowboys Offense  Yards/Game Variance:\", var_value)\n",
    "print(\"Dallas Cowboys Offense  Yards/Game Minimum:\", min_value)\n",
    "print(\"Dallas Cowboys Offense  Yards/Game Maximum:\", max_value)\n",
    "print(\"Dallas Cowboys Offense  Yards/Game Range:\", data_range)\n",
    "print(\"Dallas Cowboys Offense Total  Yards/Game 2012-2022:\", total_points)"
   ]
  },
  {
   "cell_type": "markdown",
   "id": "392f307a",
   "metadata": {},
   "source": [
    "### Denver Broncos"
   ]
  },
  {
   "cell_type": "code",
   "execution_count": 21,
   "id": "772db3e8",
   "metadata": {},
   "outputs": [
    {
     "name": "stdout",
     "output_type": "stream",
     "text": [
      "Denver Broncos Offense  Yards/Game Mean: 352.2454545454545\n",
      "Denver Broncos Offense  Yards/Game Median: 330.5\n",
      "Denver Broncos Offense  Yards/Game Standard Deviation: 47.42963975482763\n",
      "Denver Broncos Offense  Yards/Game Variance: 2249.570727272726\n",
      "Denver Broncos Offense  Yards/Game Minimum: 298.6\n",
      "Denver Broncos Offense  Yards/Game Maximum: 457.3\n",
      "Denver Broncos Offense  Yards/Game Range: 158.7\n",
      "Denver Broncos Offense Total  Yards/Game 2012-2022: 3874.7\n"
     ]
    }
   ],
   "source": [
    "team_name10 = 'Denver Broncos'\n",
    "broncos_data = nflTyards[nflTyards['Team'] == team_name10]\n",
    "mean_value = broncos_data['Off Yds/G'].mean()\n",
    "median_value = broncos_data['Off Yds/G'].median()\n",
    "std_value = broncos_data['Off Yds/G'].std()\n",
    "var_value = broncos_data['Off Yds/G'].var()\n",
    "min_value = broncos_data['Off Yds/G'].min()\n",
    "max_value = broncos_data['Off Yds/G'].max()\n",
    "data_range = max_value - min_value\n",
    "total_points = broncos_data['Off Yds/G'].sum()\n",
    "print(\"Denver Broncos Offense  Yards/Game Mean:\", mean_value)\n",
    "print(\"Denver Broncos Offense  Yards/Game Median:\", median_value)\n",
    "print(\"Denver Broncos Offense  Yards/Game Standard Deviation:\", std_value)\n",
    "print(\"Denver Broncos Offense  Yards/Game Variance:\", var_value)\n",
    "print(\"Denver Broncos Offense  Yards/Game Minimum:\", min_value)\n",
    "print(\"Denver Broncos Offense  Yards/Game Maximum:\", max_value)\n",
    "print(\"Denver Broncos Offense  Yards/Game Range:\", data_range)\n",
    "print(\"Denver Broncos Offense Total  Yards/Game 2012-2022:\", total_points)"
   ]
  },
  {
   "cell_type": "markdown",
   "id": "83cf2dc4",
   "metadata": {},
   "source": [
    "### Detroit Lions"
   ]
  },
  {
   "cell_type": "code",
   "execution_count": 22,
   "id": "fdd07485",
   "metadata": {},
   "outputs": [
    {
     "name": "stdout",
     "output_type": "stream",
     "text": [
      "Detroit Lions Offense  Yards/Game Mean: 354.76363636363635\n",
      "Detroit Lions Offense  Yards/Games Median: 346.7\n",
      "Detroit Lions Offense  Yards/Game Standard Deviation: 26.75803702543491\n",
      "Detroit Lions Offense  Yards/Game Variance: 715.9925454545455\n",
      "Detroit Lions Offense  Yards/Game Minimum: 322.6\n",
      "Detroit Lions Offense  Yards/Game Maximum: 408.8\n",
      "Detroit Lions Offense  Yards/Game Range: 86.19999999999999\n",
      "Detroit Lions Offense Total  Yards/Game 2012-2022: 3902.4\n"
     ]
    }
   ],
   "source": [
    "team_name11 = 'Detroit Lions'\n",
    "lions_data = nflTyards[nflTyards['Team'] == team_name11]\n",
    "mean_value = lions_data['Off Yds/G'].mean()\n",
    "median_value = lions_data['Off Yds/G'].median()\n",
    "std_value = lions_data['Off Yds/G'].std()\n",
    "var_value = lions_data['Off Yds/G'].var()\n",
    "min_value = lions_data['Off Yds/G'].min()\n",
    "max_value = lions_data['Off Yds/G'].max()\n",
    "data_range = max_value - min_value\n",
    "total_points = lions_data['Off Yds/G'].sum()\n",
    "print(\"Detroit Lions Offense  Yards/Game Mean:\", mean_value)\n",
    "print(\"Detroit Lions Offense  Yards/Games Median:\", median_value)\n",
    "print(\"Detroit Lions Offense  Yards/Game Standard Deviation:\", std_value)\n",
    "print(\"Detroit Lions Offense  Yards/Game Variance:\", var_value)\n",
    "print(\"Detroit Lions Offense  Yards/Game Minimum:\", min_value)\n",
    "print(\"Detroit Lions Offense  Yards/Game Maximum:\", max_value)\n",
    "print(\"Detroit Lions Offense  Yards/Game Range:\", data_range)\n",
    "print(\"Detroit Lions Offense Total  Yards/Game 2012-2022:\", total_points)"
   ]
  },
  {
   "cell_type": "markdown",
   "id": "01e8538f",
   "metadata": {},
   "source": [
    "### Green Bay Packers"
   ]
  },
  {
   "cell_type": "code",
   "execution_count": 23,
   "id": "a88a7841",
   "metadata": {},
   "outputs": [
    {
     "name": "stdout",
     "output_type": "stream",
     "text": [
      "Green Bay Packers Offense  Yards/Game Mean: 354.4090909090909\n",
      "Green Bay Packers Offense  Yards/Game Median: 359.4\n",
      "Green Bay Packers Offense  Yards/Game Standard Deviation: 31.85022620156581\n",
      "Green Bay Packers Offense  Yards/Game Variance: 1014.4369090909092\n",
      "Green Bay Packers Offense  Yards/Game Minimum: 305.7\n",
      "Green Bay Packers Offense  Yards/Game Maximum: 400.2\n",
      "Green Bay Packers Offense  Yards/Game Range: 94.5\n",
      "Green Bay Packers Offense Total  Yards/Game 2012-2022: 3898.5\n"
     ]
    }
   ],
   "source": [
    "team_name12 = 'Green Bay Packers'\n",
    "packers_data = nflTyards[nflTyards['Team'] == team_name12]\n",
    "mean_value = packers_data['Off Yds/G'].mean()\n",
    "median_value = packers_data['Off Yds/G'].median()\n",
    "std_value = packers_data['Off Yds/G'].std()\n",
    "var_value = packers_data['Off Yds/G'].var()\n",
    "min_value = packers_data['Off Yds/G'].min()\n",
    "max_value = packers_data['Off Yds/G'].max()\n",
    "data_range = max_value - min_value\n",
    "total_points = packers_data['Off Yds/G'].sum()\n",
    "print(\"Green Bay Packers Offense  Yards/Game Mean:\", mean_value)\n",
    "print(\"Green Bay Packers Offense  Yards/Game Median:\", median_value)\n",
    "print(\"Green Bay Packers Offense  Yards/Game Standard Deviation:\", std_value)\n",
    "print(\"Green Bay Packers Offense  Yards/Game Variance:\", var_value)\n",
    "print(\"Green Bay Packers Offense  Yards/Game Minimum:\", min_value)\n",
    "print(\"Green Bay Packers Offense  Yards/Game Maximum:\", max_value)\n",
    "print(\"Green Bay Packers Offense  Yards/Game Range:\", data_range)\n",
    "print(\"Green Bay Packers Offense Total  Yards/Game 2012-2022:\", total_points)"
   ]
  },
  {
   "cell_type": "markdown",
   "id": "f4e34fa6",
   "metadata": {},
   "source": [
    "### Houston Texans"
   ]
  },
  {
   "cell_type": "code",
   "execution_count": 24,
   "id": "e04047e1",
   "metadata": {},
   "outputs": [
    {
     "name": "stdout",
     "output_type": "stream",
     "text": [
      "Houston Texans Offense  Yards/Game Mean: 333.2\n",
      "Houston Texans Offense  Yards/Game Median: 344.6\n",
      "Houston Texans Offense  Yards/Game Standard Deviation: 32.92810349837961\n",
      "Houston Texans Offense  Yards/Game Variance: 1084.2599999999998\n",
      "Houston Texans Offense  Yards/Game Minimum: 278.1\n",
      "Houston Texans Offense  Yards/Game Maximum: 375.2\n",
      "Houston Texans Offense  Yards/Game Range: 97.09999999999997\n",
      "Houston Texans Offense Total  Yards/Game 2012-2022: 3665.2\n"
     ]
    }
   ],
   "source": [
    "team_name13 = 'Houston Texans'\n",
    "texans_data = nflTyards[nflTyards['Team'] == team_name13]\n",
    "mean_value = texans_data['Off Yds/G'].mean()\n",
    "median_value = texans_data['Off Yds/G'].median()\n",
    "std_value = texans_data['Off Yds/G'].std()\n",
    "var_value = texans_data['Off Yds/G'].var()\n",
    "min_value = texans_data['Off Yds/G'].min()\n",
    "max_value = texans_data['Off Yds/G'].max()\n",
    "data_range = max_value - min_value\n",
    "total_points = texans_data['Off Yds/G'].sum()\n",
    "print(\"Houston Texans Offense  Yards/Game Mean:\", mean_value)\n",
    "print(\"Houston Texans Offense  Yards/Game Median:\", median_value)\n",
    "print(\"Houston Texans Offense  Yards/Game Standard Deviation:\", std_value)\n",
    "print(\"Houston Texans Offense  Yards/Game Variance:\", var_value)\n",
    "print(\"Houston Texans Offense  Yards/Game Minimum:\", min_value)\n",
    "print(\"Houston Texans Offense  Yards/Game Maximum:\", max_value)\n",
    "print(\"Houston Texans Offense  Yards/Game Range:\", data_range)\n",
    "print(\"Houston Texans Offense Total  Yards/Game 2012-2022:\", total_points)"
   ]
  },
  {
   "cell_type": "markdown",
   "id": "a53ac9a4",
   "metadata": {},
   "source": [
    "### Indianapolis Colts"
   ]
  },
  {
   "cell_type": "code",
   "execution_count": 25,
   "id": "f4cee7ed",
   "metadata": {},
   "outputs": [
    {
     "name": "stdout",
     "output_type": "stream",
     "text": [
      "Indianapolis Colts Offense  Yards/Game Mean: 339.09090909090907\n",
      "Indianapolis Colts Offense  Yards/Game Median: 341.8\n",
      "Indianapolis Colts Offense  Yards/Game Standard Deviation: 38.05055727700856\n",
      "Indianapolis Colts Offense  Yards/Game Variance: 1447.844909090909\n",
      "Indianapolis Colts Offense  Yards/Game Minimum: 284.6\n",
      "Indianapolis Colts Offense  Yards/Game Maximum: 406.6\n",
      "Indianapolis Colts Offense  Yards/Game Range: 122.0\n",
      "Indianapolis Colts Offense Total  Yards/Game 2012-2022: 3729.9999999999995\n"
     ]
    }
   ],
   "source": [
    "team_name14 = 'Indianapolis Colts'\n",
    "colts_data = nflTyards[nflTyards['Team'] == team_name14]\n",
    "mean_value = colts_data['Off Yds/G'].mean()\n",
    "median_value = colts_data['Off Yds/G'].median()\n",
    "std_value = colts_data['Off Yds/G'].std()\n",
    "var_value = colts_data['Off Yds/G'].var()\n",
    "min_value = colts_data['Off Yds/G'].min()\n",
    "max_value = colts_data['Off Yds/G'].max()\n",
    "data_range = max_value - min_value\n",
    "total_points = colts_data['Off Yds/G'].sum()\n",
    "print(\"Indianapolis Colts Offense  Yards/Game Mean:\", mean_value)\n",
    "print(\"Indianapolis Colts Offense  Yards/Game Median:\", median_value)\n",
    "print(\"Indianapolis Colts Offense  Yards/Game Standard Deviation:\", std_value)\n",
    "print(\"Indianapolis Colts Offense  Yards/Game Variance:\", var_value)\n",
    "print(\"Indianapolis Colts Offense  Yards/Game Minimum:\", min_value)\n",
    "print(\"Indianapolis Colts Offense  Yards/Game Maximum:\", max_value)\n",
    "print(\"Indianapolis Colts Offense  Yards/Game Range:\", data_range)\n",
    "print(\"Indianapolis Colts Offense Total  Yards/Game 2012-2022:\", total_points)"
   ]
  },
  {
   "cell_type": "markdown",
   "id": "34112113",
   "metadata": {},
   "source": [
    "### Jacksonville Jaguars"
   ]
  },
  {
   "cell_type": "code",
   "execution_count": 26,
   "id": "7a0ec986",
   "metadata": {},
   "outputs": [
    {
     "name": "stdout",
     "output_type": "stream",
     "text": [
      "Jacksonville Jaguars Offense  Yards/Game Mean: 329.89090909090913\n",
      "Jacksonville Jaguars Offense  Yards/Game Median: 334.9\n",
      "Jacksonville Jaguars Offense  Yards/Game Standard Deviation: 28.90769636430597\n",
      "Jacksonville Jaguars Offense  Yards/Game Variance: 835.6549090909086\n",
      "Jacksonville Jaguars Offense  Yards/Game Minimum: 289.6\n",
      "Jacksonville Jaguars Offense  Yards/Game Maximum: 365.9\n",
      "Jacksonville Jaguars Offense  Yards/Game Range: 76.29999999999995\n",
      "Jacksonville Jaguars Offense Total  Yards/Game 2012-2022: 3628.8\n"
     ]
    }
   ],
   "source": [
    "team_name15 = 'Jacksonville Jaguars'\n",
    "jaguars_data = nflTyards[nflTyards['Team'] == team_name15]\n",
    "mean_value = jaguars_data['Off Yds/G'].mean()\n",
    "median_value = jaguars_data['Off Yds/G'].median()\n",
    "std_value = jaguars_data['Off Yds/G'].std()\n",
    "var_value = jaguars_data['Off Yds/G'].var()\n",
    "min_value = jaguars_data['Off Yds/G'].min()\n",
    "max_value = jaguars_data['Off Yds/G'].max()\n",
    "data_range = max_value - min_value\n",
    "total_points = jaguars_data['Off Yds/G'].sum()\n",
    "print(\"Jacksonville Jaguars Offense  Yards/Game Mean:\", mean_value)\n",
    "print(\"Jacksonville Jaguars Offense  Yards/Game Median:\", median_value)\n",
    "print(\"Jacksonville Jaguars Offense  Yards/Game Standard Deviation:\", std_value)\n",
    "print(\"Jacksonville Jaguars Offense  Yards/Game Variance:\", var_value)\n",
    "print(\"Jacksonville Jaguars Offense  Yards/Game Minimum:\", min_value)\n",
    "print(\"Jacksonville Jaguars Offense  Yards/Game Maximum:\", max_value)\n",
    "print(\"Jacksonville Jaguars Offense  Yards/Game Range:\", data_range)\n",
    "print(\"Jacksonville Jaguars Offense Total  Yards/Game 2012-2022:\", total_points)"
   ]
  },
  {
   "cell_type": "markdown",
   "id": "7a4c5cb0",
   "metadata": {},
   "source": [
    "### Kansas City Chiefs"
   ]
  },
  {
   "cell_type": "code",
   "execution_count": 27,
   "id": "b3528058",
   "metadata": {},
   "outputs": [
    {
     "name": "stdout",
     "output_type": "stream",
     "text": [
      "Kansas City Chiefs Offense  Yards/Game Mean: 364.1454545454546\n",
      "Kansas City Chiefs Offense  Yards/Game Median: 375.4\n",
      "Kansas City Chiefs Offense  Yards/Game Standard Deviation: 36.04875486438787\n",
      "Kansas City Chiefs Offense  Yards/Game Variance: 1299.5127272727277\n",
      "Kansas City Chiefs Offense  Yards/Game Minimum: 318.8\n",
      "Kansas City Chiefs Offense  Yards/Game Maximum: 415.8\n",
      "Kansas City Chiefs Offense  Yards/Game Range: 97.0\n",
      "Kansas City Chiefs Offense Total  Yards/Game 2012-2022: 4005.6000000000004\n"
     ]
    }
   ],
   "source": [
    "team_name16 = 'Kansas City Chiefs'\n",
    "chiefs_data = nflTyards[nflTyards['Team'] == team_name16]\n",
    "mean_value = chiefs_data['Off Yds/G'].mean()\n",
    "median_value = chiefs_data['Off Yds/G'].median()\n",
    "std_value = chiefs_data['Off Yds/G'].std()\n",
    "var_value = chiefs_data['Off Yds/G'].var()\n",
    "min_value = chiefs_data['Off Yds/G'].min()\n",
    "max_value = chiefs_data['Off Yds/G'].max()\n",
    "data_range = max_value - min_value\n",
    "total_points = chiefs_data['Off Yds/G'].sum()\n",
    "print(\"Kansas City Chiefs Offense  Yards/Game Mean:\", mean_value)\n",
    "print(\"Kansas City Chiefs Offense  Yards/Game Median:\", median_value)\n",
    "print(\"Kansas City Chiefs Offense  Yards/Game Standard Deviation:\", std_value)\n",
    "print(\"Kansas City Chiefs Offense  Yards/Game Variance:\", var_value)\n",
    "print(\"Kansas City Chiefs Offense  Yards/Game Minimum:\", min_value)\n",
    "print(\"Kansas City Chiefs Offense  Yards/Game Maximum:\", max_value)\n",
    "print(\"Kansas City Chiefs Offense  Yards/Game Range:\", data_range)\n",
    "print(\"Kansas City Chiefs Offense Total  Yards/Game 2012-2022:\", total_points)"
   ]
  },
  {
   "cell_type": "markdown",
   "id": "94f0253d",
   "metadata": {},
   "source": [
    "### Las Vegas Raiders"
   ]
  },
  {
   "cell_type": "code",
   "execution_count": 28,
   "id": "64b05b4c",
   "metadata": {},
   "outputs": [
    {
     "name": "stdout",
     "output_type": "stream",
     "text": [
      "Las Vegas Raiders Offense  Yards/Game Mean: 343.4818181818182\n",
      "Las Vegas Raiders Offense  Yards/Game Median: 344.0\n",
      "Las Vegas Raiders Offense  Yards/Game Standard Deviation: 28.421745835955196\n",
      "Las Vegas Raiders Offense  Yards/Game Variance: 807.7956363636365\n",
      "Las Vegas Raiders Offense  Yards/Game Minimum: 282.2\n",
      "Las Vegas Raiders Offense  Yards/Game Maximum: 383.3\n",
      "Las Vegas Raiders Offense  Yards/Game Range: 101.10000000000002\n",
      "Las Vegas Raiders Offense Total  Yards/Game 2012-2022: 3778.3\n"
     ]
    }
   ],
   "source": [
    "team_name17 = 'Las Vegas Raiders'\n",
    "raiders_data = nflTyards[nflTyards['Team'] == team_name17]\n",
    "mean_value = raiders_data['Off Yds/G'].mean()\n",
    "median_value = raiders_data['Off Yds/G'].median()\n",
    "std_value = raiders_data['Off Yds/G'].std()\n",
    "var_value = raiders_data['Off Yds/G'].var()\n",
    "min_value = raiders_data['Off Yds/G'].min()\n",
    "max_value = raiders_data['Off Yds/G'].max()\n",
    "data_range = max_value - min_value\n",
    "total_points = raiders_data['Off Yds/G'].sum()\n",
    "print(\"Las Vegas Raiders Offense  Yards/Game Mean:\", mean_value)\n",
    "print(\"Las Vegas Raiders Offense  Yards/Game Median:\", median_value)\n",
    "print(\"Las Vegas Raiders Offense  Yards/Game Standard Deviation:\", std_value)\n",
    "print(\"Las Vegas Raiders Offense  Yards/Game Variance:\", var_value)\n",
    "print(\"Las Vegas Raiders Offense  Yards/Game Minimum:\", min_value)\n",
    "print(\"Las Vegas Raiders Offense  Yards/Game Maximum:\", max_value)\n",
    "print(\"Las Vegas Raiders Offense  Yards/Game Range:\", data_range)\n",
    "print(\"Las Vegas Raiders Offense Total  Yards/Game 2012-2022:\", total_points)"
   ]
  },
  {
   "cell_type": "markdown",
   "id": "cad8ed48",
   "metadata": {},
   "source": [
    "### Los Angeles Chargers"
   ]
  },
  {
   "cell_type": "code",
   "execution_count": 29,
   "id": "28532bfe",
   "metadata": {},
   "outputs": [
    {
     "name": "stdout",
     "output_type": "stream",
     "text": [
      "Los Angeles Chargers Offense  Yards/Game Mean: 364.80909090909086\n",
      "Los Angeles Chargers Offense  Yards/Game Median: 371.8\n",
      "Los Angeles Chargers Offense  Yards/Game Standard Deviation: 27.00590507816595\n",
      "Los Angeles Chargers Offense  Yards/Game Variance: 729.3189090909093\n",
      "Los Angeles Chargers Offense  Yards/Game Minimum: 297.2\n",
      "Los Angeles Chargers Offense  Yards/Game Maximum: 393.3\n",
      "Los Angeles Chargers Offense  Yards/Game Range: 96.10000000000002\n",
      "Los Angeles Chargers Offense Total  Yards/Game 2012-2022: 4012.9\n"
     ]
    }
   ],
   "source": [
    "team_name18 = 'Los Angeles Chargers'\n",
    "chargers_data = nflTyards[nflTyards['Team'] == team_name18]\n",
    "mean_value = chargers_data['Off Yds/G'].mean()\n",
    "median_value = chargers_data['Off Yds/G'].median()\n",
    "std_value = chargers_data['Off Yds/G'].std()\n",
    "var_value = chargers_data['Off Yds/G'].var()\n",
    "min_value = chargers_data['Off Yds/G'].min()\n",
    "max_value = chargers_data['Off Yds/G'].max()\n",
    "data_range = max_value - min_value\n",
    "total_points = chargers_data['Off Yds/G'].sum()\n",
    "print(\"Los Angeles Chargers Offense  Yards/Game Mean:\", mean_value)\n",
    "print(\"Los Angeles Chargers Offense  Yards/Game Median:\", median_value)\n",
    "print(\"Los Angeles Chargers Offense  Yards/Game Standard Deviation:\", std_value)\n",
    "print(\"Los Angeles Chargers Offense  Yards/Game Variance:\", var_value)\n",
    "print(\"Los Angeles Chargers Offense  Yards/Game Minimum:\", min_value)\n",
    "print(\"Los Angeles Chargers Offense  Yards/Game Maximum:\", max_value)\n",
    "print(\"Los Angeles Chargers Offense  Yards/Game Range:\", data_range)\n",
    "print(\"Los Angeles Chargers Offense Total  Yards/Game 2012-2022:\", total_points)\n"
   ]
  },
  {
   "cell_type": "markdown",
   "id": "5ea4eb63",
   "metadata": {},
   "source": [
    "### Los Angeles Rams"
   ]
  },
  {
   "cell_type": "code",
   "execution_count": 30,
   "id": "06726f85",
   "metadata": {},
   "outputs": [
    {
     "name": "stdout",
     "output_type": "stream",
     "text": [
      "Los Angeles Rams Offense  Yards/Game Mean: 330.57272727272726\n",
      "Los Angeles Rams Offense  Yards/Game Median: 329.0\n",
      "Los Angeles Rams Offense  Yards/Game Standard Deviation: 41.08252891215658\n",
      "Los Angeles Rams Offense  Yards/Game Variance: 1687.7741818181817\n",
      "Los Angeles Rams Offense  Yards/Game Minimum: 262.7\n",
      "Los Angeles Rams Offense  Yards/Game Maximum: 377.0\n",
      "Los Angeles Rams Offense  Yards/Game Range: 114.30000000000001\n",
      "Los Angeles Rams Offense Total  Yards/Game 2012-2022: 3636.2999999999997\n"
     ]
    }
   ],
   "source": [
    "team_name19 = 'Los Angeles Rams'\n",
    "Rams_data = nflTyards[nflTyards['Team'] == team_name19]\n",
    "mean_value = Rams_data['Off Yds/G'].mean()\n",
    "median_value = Rams_data['Off Yds/G'].median()\n",
    "std_value = Rams_data['Off Yds/G'].std()\n",
    "var_value = Rams_data['Off Yds/G'].var()\n",
    "min_value = Rams_data['Off Yds/G'].min()\n",
    "max_value = Rams_data['Off Yds/G'].max()\n",
    "data_range = max_value - min_value\n",
    "total_points = Rams_data['Off Yds/G'].sum()\n",
    "print(\"Los Angeles Rams Offense  Yards/Game Mean:\", mean_value)\n",
    "print(\"Los Angeles Rams Offense  Yards/Game Median:\", median_value)\n",
    "print(\"Los Angeles Rams Offense  Yards/Game Standard Deviation:\", std_value)\n",
    "print(\"Los Angeles Rams Offense  Yards/Game Variance:\", var_value)\n",
    "print(\"Los Angeles Rams Offense  Yards/Game Minimum:\", min_value)\n",
    "print(\"Los Angeles Rams Offense  Yards/Game Maximum:\", max_value)\n",
    "print(\"Los Angeles Rams Offense  Yards/Game Range:\", data_range)\n",
    "print(\"Los Angeles Rams Offense Total  Yards/Game 2012-2022:\", total_points)"
   ]
  },
  {
   "cell_type": "markdown",
   "id": "780f4251",
   "metadata": {},
   "source": [
    "### Miami Dolphins"
   ]
  },
  {
   "cell_type": "code",
   "execution_count": 31,
   "id": "a3acb87e",
   "metadata": {},
   "outputs": [
    {
     "name": "stdout",
     "output_type": "stream",
     "text": [
      "Miami Dolphins Offense  Yards/Game Mean: 324.9909090909091\n",
      "Miami Dolphins Offense  Yards/Game Median: 312.9\n",
      "Miami Dolphins Offense  Yards/Game Standard Deviation: 19.92041438050196\n",
      "Miami Dolphins Offense  Yards/Game Variance: 396.8229090909093\n",
      "Miami Dolphins Offense  Yards/Game Minimum: 307.0\n",
      "Miami Dolphins Offense  Yards/Game Maximum: 364.5\n",
      "Miami Dolphins Offense  Yards/Game Range: 57.5\n",
      "Miami Dolphins Offense Total  Yards/Game 2012-2022: 3574.8999999999996\n"
     ]
    }
   ],
   "source": [
    "team_name20 = 'Miami Dolphins'\n",
    "dolphins_data = nflTyards[nflTyards['Team'] == team_name20]\n",
    "mean_value = dolphins_data['Off Yds/G'].mean()\n",
    "median_value = dolphins_data['Off Yds/G'].median()\n",
    "std_value = dolphins_data['Off Yds/G'].std()\n",
    "var_value = dolphins_data['Off Yds/G'].var()\n",
    "min_value = dolphins_data['Off Yds/G'].min()\n",
    "max_value = dolphins_data['Off Yds/G'].max()\n",
    "data_range = max_value - min_value\n",
    "total_points = dolphins_data['Off Yds/G'].sum()\n",
    "print(\"Miami Dolphins Offense  Yards/Game Mean:\", mean_value)\n",
    "print(\"Miami Dolphins Offense  Yards/Game Median:\", median_value)\n",
    "print(\"Miami Dolphins Offense  Yards/Game Standard Deviation:\", std_value)\n",
    "print(\"Miami Dolphins Offense  Yards/Game Variance:\", var_value)\n",
    "print(\"Miami Dolphins Offense  Yards/Game Minimum:\", min_value)\n",
    "print(\"Miami Dolphins Offense  Yards/Game Maximum:\", max_value)\n",
    "print(\"Miami Dolphins Offense  Yards/Game Range:\", data_range)\n",
    "print(\"Miami Dolphins Offense Total  Yards/Game 2012-2022:\", total_points)"
   ]
  },
  {
   "cell_type": "markdown",
   "id": "7cc17b7f",
   "metadata": {},
   "source": [
    "### Minnesota Vikings"
   ]
  },
  {
   "cell_type": "code",
   "execution_count": 32,
   "id": "3a4da802",
   "metadata": {},
   "outputs": [
    {
     "name": "stdout",
     "output_type": "stream",
     "text": [
      "Minnesota Vikings Offense  Yards/Game Mean: 347.03636363636366\n",
      "Minnesota Vikings Offense  Yards/Game Median: 353.5\n",
      "Minnesota Vikings Offense  Yards/Game Standard Deviation: 23.715154341782075\n",
      "Minnesota Vikings Offense  Yards/Game Variance: 562.4085454545451\n",
      "Minnesota Vikings Offense  Yards/Game Minimum: 315.1\n",
      "Minnesota Vikings Offense  Yards/Game Maximum: 393.2\n",
      "Minnesota Vikings Offense  Yards/Game Range: 78.09999999999997\n",
      "Minnesota Vikings Offense Total  Yards/Game 2012-2022: 3817.4\n"
     ]
    }
   ],
   "source": [
    "team_name21 = 'Minnesota Vikings'\n",
    "vikings_data = nflTyards[nflTyards['Team'] == team_name21]\n",
    "mean_value = vikings_data['Off Yds/G'].mean()\n",
    "median_value = vikings_data['Off Yds/G'].median()\n",
    "std_value = vikings_data['Off Yds/G'].std()\n",
    "var_value = vikings_data['Off Yds/G'].var()\n",
    "min_value = vikings_data['Off Yds/G'].min()\n",
    "max_value = vikings_data['Off Yds/G'].max()\n",
    "data_range = max_value - min_value\n",
    "total_points = vikings_data['Off Yds/G'].sum()\n",
    "print(\"Minnesota Vikings Offense  Yards/Game Mean:\", mean_value)\n",
    "print(\"Minnesota Vikings Offense  Yards/Game Median:\", median_value)\n",
    "print(\"Minnesota Vikings Offense  Yards/Game Standard Deviation:\", std_value)\n",
    "print(\"Minnesota Vikings Offense  Yards/Game Variance:\", var_value)\n",
    "print(\"Minnesota Vikings Offense  Yards/Game Minimum:\", min_value)\n",
    "print(\"Minnesota Vikings Offense  Yards/Game Maximum:\", max_value)\n",
    "print(\"Minnesota Vikings Offense  Yards/Game Range:\", data_range)\n",
    "print(\"Minnesota Vikings Offense Total  Yards/Game 2012-2022:\", total_points)"
   ]
  },
  {
   "cell_type": "markdown",
   "id": "24831788",
   "metadata": {},
   "source": [
    "### New England Patriots"
   ]
  },
  {
   "cell_type": "code",
   "execution_count": 33,
   "id": "da9fa995",
   "metadata": {},
   "outputs": [
    {
     "name": "stdout",
     "output_type": "stream",
     "text": [
      "New England Patriots Offense  Yards/Game Mean: 370.55454545454546\n",
      "New England Patriots Offense  Yards/Game Median: 374.4\n",
      "New England Patriots Offense  Yards/Game Standard Deviation: 32.349910776889736\n",
      "New England Patriots Offense  Yards/Game Variance: 1046.5167272727267\n",
      "New England Patriots Offense  Yards/Game Minimum: 314.6\n",
      "New England Patriots Offense  Yards/Game Maximum: 427.9\n",
      "New England Patriots Offense  Yards/Game Range: 113.29999999999995\n",
      "New England Patriots Offense Total  Yards/Game 2012-2022: 4076.0999999999995\n"
     ]
    }
   ],
   "source": [
    "team_name22 = 'New England Patriots'\n",
    "patriots_data = nflTyards[nflTyards['Team'] == team_name22]\n",
    "mean_value = patriots_data['Off Yds/G'].mean()\n",
    "median_value = patriots_data['Off Yds/G'].median()\n",
    "std_value = patriots_data['Off Yds/G'].std()\n",
    "var_value = patriots_data['Off Yds/G'].var()\n",
    "min_value = patriots_data['Off Yds/G'].min()\n",
    "max_value = patriots_data['Off Yds/G'].max()\n",
    "data_range = max_value - min_value\n",
    "total_points = patriots_data['Off Yds/G'].sum()\n",
    "print(\"New England Patriots Offense  Yards/Game Mean:\", mean_value)\n",
    "print(\"New England Patriots Offense  Yards/Game Median:\", median_value)\n",
    "print(\"New England Patriots Offense  Yards/Game Standard Deviation:\", std_value)\n",
    "print(\"New England Patriots Offense  Yards/Game Variance:\", var_value)\n",
    "print(\"New England Patriots Offense  Yards/Game Minimum:\", min_value)\n",
    "print(\"New England Patriots Offense  Yards/Game Maximum:\", max_value)\n",
    "print(\"New England Patriots Offense  Yards/Game Range:\", data_range)\n",
    "print(\"New England Patriots Offense Total  Yards/Game 2012-2022:\", total_points)"
   ]
  },
  {
   "cell_type": "markdown",
   "id": "a470caac",
   "metadata": {},
   "source": [
    "### New Orleans Saints"
   ]
  },
  {
   "cell_type": "code",
   "execution_count": 34,
   "id": "6d0fe639",
   "metadata": {},
   "outputs": [
    {
     "name": "stdout",
     "output_type": "stream",
     "text": [
      "New Orleans Saints Offense  Yards/Game Mean: 383.13\n",
      "New Orleans Saints Offense  Yards/Game Median: 395.29999999999995\n",
      "New Orleans Saints Offense  Yards/Game Standard Deviation: 37.876848689755946\n",
      "New Orleans Saints Offense  Yards/Game Variance: 1434.6556666666665\n",
      "New Orleans Saints Offense  Yards/Game Minimum: 304.5\n",
      "New Orleans Saints Offense  Yards/Game Maximum: 426.0\n",
      "New Orleans Saints Offense  Yards/Game Range: 121.5\n",
      "New Orleans Saints Offense Total  Yards/Game 2012-2022: 3831.3\n"
     ]
    }
   ],
   "source": [
    "team_name23 = 'New Orleans Saints'\n",
    "saints_data = nflTyards[nflTyards['Team'] == team_name23]\n",
    "mean_value = saints_data['Off Yds/G'].mean()\n",
    "median_value = saints_data['Off Yds/G'].median()\n",
    "std_value = saints_data['Off Yds/G'].std()\n",
    "var_value = saints_data['Off Yds/G'].var()\n",
    "min_value = saints_data['Off Yds/G'].min()\n",
    "max_value = saints_data['Off Yds/G'].max()\n",
    "data_range = max_value - min_value\n",
    "total_points = saints_data['Off Yds/G'].sum()\n",
    "print(\"New Orleans Saints Offense  Yards/Game Mean:\", mean_value)\n",
    "print(\"New Orleans Saints Offense  Yards/Game Median:\", median_value)\n",
    "print(\"New Orleans Saints Offense  Yards/Game Standard Deviation:\", std_value)\n",
    "print(\"New Orleans Saints Offense  Yards/Game Variance:\", var_value)\n",
    "print(\"New Orleans Saints Offense  Yards/Game Minimum:\", min_value)\n",
    "print(\"New Orleans Saints Offense  Yards/Game Maximum:\", max_value)\n",
    "print(\"New Orleans Saints Offense  Yards/Game Range:\", data_range)\n",
    "print(\"New Orleans Saints Offense Total  Yards/Game 2012-2022:\", total_points)"
   ]
  },
  {
   "cell_type": "markdown",
   "id": "6f27154f",
   "metadata": {},
   "source": [
    "### New York Giants"
   ]
  },
  {
   "cell_type": "code",
   "execution_count": 35,
   "id": "765e77fe",
   "metadata": {},
   "outputs": [
    {
     "name": "stdout",
     "output_type": "stream",
     "text": [
      "New York Giants Offense  Yards/Game Mean: 329.1363636363636\n",
      "New York Giants Offense  Yards/Game Median: 330.7\n",
      "New York Giants Offense  Yards/Game Standard Deviation: 27.614716103095194\n",
      "New York Giants Offense  Yards/Game Variance: 762.5725454545451\n",
      "New York Giants Offense  Yards/Game Minimum: 287.3\n",
      "New York Giants Offense  Yards/Game Maximum: 372.0\n",
      "New York Giants Offense  Yards/Game Range: 84.69999999999999\n",
      "New York Giants Offense Total  Yards/Game 2012-2022: 3620.5\n"
     ]
    }
   ],
   "source": [
    "team_name24 = 'New York Giants'\n",
    "giants_data = nflTyards[nflTyards['Team'] == team_name24]\n",
    "mean_value = giants_data['Off Yds/G'].mean()\n",
    "median_value = giants_data['Off Yds/G'].median()\n",
    "std_value = giants_data['Off Yds/G'].std()\n",
    "var_value = giants_data['Off Yds/G'].var()\n",
    "min_value = giants_data['Off Yds/G'].min()\n",
    "max_value = giants_data['Off Yds/G'].max()\n",
    "data_range = max_value - min_value\n",
    "total_points = giants_data['Off Yds/G'].sum()\n",
    "print(\"New York Giants Offense  Yards/Game Mean:\", mean_value)\n",
    "print(\"New York Giants Offense  Yards/Game Median:\", median_value)\n",
    "print(\"New York Giants Offense  Yards/Game Standard Deviation:\", std_value)\n",
    "print(\"New York Giants Offense  Yards/Game Variance:\", var_value)\n",
    "print(\"New York Giants Offense  Yards/Game Minimum:\", min_value)\n",
    "print(\"New York Giants Offense  Yards/Game Maximum:\", max_value)\n",
    "print(\"New York Giants Offense  Yards/Game Range:\", data_range)\n",
    "print(\"New York Giants Offense Total  Yards/Game 2012-2022:\", total_points)"
   ]
  },
  {
   "cell_type": "markdown",
   "id": "9667adf1",
   "metadata": {},
   "source": [
    "### New York Jets"
   ]
  },
  {
   "cell_type": "code",
   "execution_count": 36,
   "id": "a063fc48",
   "metadata": {},
   "outputs": [
    {
     "name": "stdout",
     "output_type": "stream",
     "text": [
      "New York Jets Offense  Yards/Game Mean: 311.93636363636364\n",
      "New York Jets Offense  Yards/Game Median: 306.4\n",
      "New York Jets Offense  Yards/Game Standard Deviation: 26.120079353909816\n",
      "New York Jets Offense  Yards/Game Variance: 682.2585454545458\n",
      "New York Jets Offense  Yards/Game Minimum: 273.0\n",
      "New York Jets Offense  Yards/Game Maximum: 370.3\n",
      "New York Jets Offense  Yards/Game Range: 97.30000000000001\n",
      "New York Jets Offense Total  Yards/Game 2012-2022: 3431.3\n"
     ]
    }
   ],
   "source": [
    "team_name25 = 'New York Jets'\n",
    "Jets_data = nflTyards[nflTyards['Team'] == team_name25]\n",
    "mean_value = Jets_data['Off Yds/G'].mean()\n",
    "median_value = Jets_data['Off Yds/G'].median()\n",
    "std_value = Jets_data['Off Yds/G'].std()\n",
    "var_value = Jets_data['Off Yds/G'].var()\n",
    "min_value = Jets_data['Off Yds/G'].min()\n",
    "max_value = Jets_data['Off Yds/G'].max()\n",
    "data_range = max_value - min_value\n",
    "total_points = Jets_data['Off Yds/G'].sum()\n",
    "print(\"New York Jets Offense  Yards/Game Mean:\", mean_value)\n",
    "print(\"New York Jets Offense  Yards/Game Median:\", median_value)\n",
    "print(\"New York Jets Offense  Yards/Game Standard Deviation:\", std_value)\n",
    "print(\"New York Jets Offense  Yards/Game Variance:\", var_value)\n",
    "print(\"New York Jets Offense  Yards/Game Minimum:\", min_value)\n",
    "print(\"New York Jets Offense  Yards/Game Maximum:\", max_value)\n",
    "print(\"New York Jets Offense  Yards/Game Range:\", data_range)\n",
    "print(\"New York Jets Offense Total  Yards/Game 2012-2022:\", total_points)"
   ]
  },
  {
   "cell_type": "markdown",
   "id": "a36ef8fd",
   "metadata": {},
   "source": [
    "### Philadelphia Eagles"
   ]
  },
  {
   "cell_type": "code",
   "execution_count": 37,
   "id": "524dca6b",
   "metadata": {
    "scrolled": true
   },
   "outputs": [
    {
     "name": "stdout",
     "output_type": "stream",
     "text": [
      "Philadelphia Eagles Offense  Yards/Game Mean: 367.80909090909097\n",
      "Philadelphia Eagles Offense  Yards/Game Median: 364.4\n",
      "Philadelphia Eagles Offense  Yards/Game Standard Deviation: 24.657877221912454\n",
      "Philadelphia Eagles Offense  Yards/Game Variance: 608.0109090909091\n",
      "Philadelphia Eagles Offense  Yards/Game Minimum: 334.6\n",
      "Philadelphia Eagles Offense  Yards/Game Maximum: 417.2\n",
      "Philadelphia Eagles Offense  Yards/Game Range: 82.59999999999997\n",
      "Philadelphia Eagles Offense Total  Yards/Game 2012-2022: 4045.9\n"
     ]
    }
   ],
   "source": [
    "team_name26 = 'Philadelphia Eagles'\n",
    "eagles_data = nflTyards[nflTyards['Team'] == team_name26]\n",
    "mean_value = eagles_data['Off Yds/G'].mean()\n",
    "median_value = eagles_data['Off Yds/G'].median()\n",
    "std_value = eagles_data['Off Yds/G'].std()\n",
    "var_value = eagles_data['Off Yds/G'].var()\n",
    "min_value = eagles_data['Off Yds/G'].min()\n",
    "max_value = eagles_data['Off Yds/G'].max()\n",
    "data_range = max_value - min_value\n",
    "total_points = eagles_data['Off Yds/G'].sum()\n",
    "print(\"Philadelphia Eagles Offense  Yards/Game Mean:\", mean_value)\n",
    "print(\"Philadelphia Eagles Offense  Yards/Game Median:\", median_value)\n",
    "print(\"Philadelphia Eagles Offense  Yards/Game Standard Deviation:\", std_value)\n",
    "print(\"Philadelphia Eagles Offense  Yards/Game Variance:\", var_value)\n",
    "print(\"Philadelphia Eagles Offense  Yards/Game Minimum:\", min_value)\n",
    "print(\"Philadelphia Eagles Offense  Yards/Game Maximum:\", max_value)\n",
    "print(\"Philadelphia Eagles Offense  Yards/Game Range:\", data_range)\n",
    "print(\"Philadelphia Eagles Offense Total  Yards/Game 2012-2022:\", total_points)"
   ]
  },
  {
   "cell_type": "markdown",
   "id": "5bc38ce6",
   "metadata": {},
   "source": [
    "### Pittsburgh Steelers"
   ]
  },
  {
   "cell_type": "code",
   "execution_count": 38,
   "id": "e679c547",
   "metadata": {},
   "outputs": [
    {
     "name": "stdout",
     "output_type": "stream",
     "text": [
      "Pittsburgh Steelers Offense  Yards/Game Mean: 350.41818181818184\n",
      "Pittsburgh Steelers Offense  Yards/Game Median: 337.5\n",
      "Pittsburgh Steelers Offense  Yards/Game Standard Deviation: 39.81888542342234\n",
      "Pittsburgh Steelers Offense  Yards/Game Variance: 1585.543636363636\n",
      "Pittsburgh Steelers Offense  Yards/Game Minimum: 276.8\n",
      "Pittsburgh Steelers Offense  Yards/Game Maximum: 411.1\n",
      "Pittsburgh Steelers Offense  Yards/Game Range: 134.3\n",
      "Pittsburgh Steelers Offense Total  Yards/Game 2012-2022: 3854.6\n"
     ]
    }
   ],
   "source": [
    "team_name27 = 'Pittsburgh Steelers'\n",
    "steelers_data = nflTyards[nflTyards['Team'] == team_name27]\n",
    "mean_value = steelers_data['Off Yds/G'].mean()\n",
    "median_value = steelers_data['Off Yds/G'].median()\n",
    "std_value = steelers_data['Off Yds/G'].std()\n",
    "var_value = steelers_data['Off Yds/G'].var()\n",
    "min_value = steelers_data['Off Yds/G'].min()\n",
    "max_value = steelers_data['Off Yds/G'].max()\n",
    "data_range = max_value - min_value\n",
    "total_points = steelers_data['Off Yds/G'].sum()\n",
    "print(\"Pittsburgh Steelers Offense  Yards/Game Mean:\", mean_value)\n",
    "print(\"Pittsburgh Steelers Offense  Yards/Game Median:\", median_value)\n",
    "print(\"Pittsburgh Steelers Offense  Yards/Game Standard Deviation:\", std_value)\n",
    "print(\"Pittsburgh Steelers Offense  Yards/Game Variance:\", var_value)\n",
    "print(\"Pittsburgh Steelers Offense  Yards/Game Minimum:\", min_value)\n",
    "print(\"Pittsburgh Steelers Offense  Yards/Game Maximum:\", max_value)\n",
    "print(\"Pittsburgh Steelers Offense  Yards/Game Range:\", data_range)\n",
    "print(\"Pittsburgh Steelers Offense Total  Yards/Game 2012-2022:\", total_points)"
   ]
  },
  {
   "cell_type": "markdown",
   "id": "23131153",
   "metadata": {},
   "source": [
    "### San Francisco 49ers"
   ]
  },
  {
   "cell_type": "code",
   "execution_count": 39,
   "id": "b5594537",
   "metadata": {},
   "outputs": [
    {
     "name": "stdout",
     "output_type": "stream",
     "text": [
      "San Francisco 49ers Offense  Yards/Game Mean: 346.8909090909091\n",
      "San Francisco 49ers Offense  Yards/Game Median: 349.2\n",
      "San Francisco 49ers Offense  Yards/Game Standard Deviation: 27.196523842044762\n",
      "San Francisco 49ers Offense  Yards/Game Variance: 739.6509090909092\n",
      "San Francisco 49ers Offense  Yards/Game Minimum: 303.8\n",
      "San Francisco 49ers Offense  Yards/Game Maximum: 381.1\n",
      "San Francisco 49ers Offense  Yards/Game  YardsRange: 77.30000000000001\n",
      "San Francisco 49ers Offense Total  Yards/Game 2012-2022: 3815.7999999999997\n"
     ]
    }
   ],
   "source": [
    "team_name28 = 'San Francisco 49ers'\n",
    "niners_data = nflTyards[nflTyards['Team'] == team_name28]\n",
    "mean_value = niners_data['Off Yds/G'].mean()\n",
    "median_value = niners_data['Off Yds/G'].median()\n",
    "std_value = niners_data['Off Yds/G'].std()\n",
    "var_value = niners_data['Off Yds/G'].var()\n",
    "min_value = niners_data['Off Yds/G'].min()\n",
    "max_value = niners_data['Off Yds/G'].max()\n",
    "data_range = max_value - min_value\n",
    "total_points = niners_data['Off Yds/G'].sum()\n",
    "print(\"San Francisco 49ers Offense  Yards/Game Mean:\", mean_value)\n",
    "print(\"San Francisco 49ers Offense  Yards/Game Median:\", median_value)\n",
    "print(\"San Francisco 49ers Offense  Yards/Game Standard Deviation:\", std_value)\n",
    "print(\"San Francisco 49ers Offense  Yards/Game Variance:\", var_value)\n",
    "print(\"San Francisco 49ers Offense  Yards/Game Minimum:\", min_value)\n",
    "print(\"San Francisco 49ers Offense  Yards/Game Maximum:\", max_value)\n",
    "print(\"San Francisco 49ers Offense  Yards/Game  YardsRange:\", data_range)\n",
    "print(\"San Francisco 49ers Offense Total  Yards/Game 2012-2022:\", total_points)"
   ]
  },
  {
   "cell_type": "markdown",
   "id": "aba944f4",
   "metadata": {},
   "source": [
    "### Tampa Bay Buccaneers"
   ]
  },
  {
   "cell_type": "code",
   "execution_count": 40,
   "id": "02b9d21b",
   "metadata": {},
   "outputs": [
    {
     "name": "stdout",
     "output_type": "stream",
     "text": [
      "Tampa Bay Buccaneers Offense  Yards/Game Mean: 356.06363636363636\n",
      "Tampa Bay Buccaneers Offense  Yards/Game Median: 363.5\n",
      "Tampa Bay Buccaneers Offense  Yards/Game Standard Deviation: 40.14995075282839\n",
      "Tampa Bay Buccaneers Offense  Yards/Game Variance: 1612.0185454545451\n",
      "Tampa Bay Buccaneers Offense  Yards/Game Minimum: 277.0\n",
      "Tampa Bay Buccaneers Offense  Yards/Game Maximum: 405.9\n",
      "Tampa Bay Buccaneers Offense  Yards/Game Range: 128.89999999999998\n",
      "Tampa Bay Buccaneers Offense Total  Yards/Game 2012-2022: 3916.7\n"
     ]
    }
   ],
   "source": [
    "team_name29 = 'Tampa Bay Buccaneers'\n",
    "buccaneers_data = nflTyards[nflTyards['Team'] == team_name29]\n",
    "mean_value = buccaneers_data['Off Yds/G'].mean()\n",
    "median_value = buccaneers_data['Off Yds/G'].median()\n",
    "std_value = buccaneers_data['Off Yds/G'].std()\n",
    "var_value = buccaneers_data['Off Yds/G'].var()\n",
    "min_value = buccaneers_data['Off Yds/G'].min()\n",
    "max_value = buccaneers_data['Off Yds/G'].max()\n",
    "data_range = max_value - min_value\n",
    "total_points = buccaneers_data['Off Yds/G'].sum()\n",
    "print(\"Tampa Bay Buccaneers Offense  Yards/Game Mean:\", mean_value)\n",
    "print(\"Tampa Bay Buccaneers Offense  Yards/Game Median:\", median_value)\n",
    "print(\"Tampa Bay Buccaneers Offense  Yards/Game Standard Deviation:\", std_value)\n",
    "print(\"Tampa Bay Buccaneers Offense  Yards/Game Variance:\", var_value)\n",
    "print(\"Tampa Bay Buccaneers Offense  Yards/Game Minimum:\", min_value)\n",
    "print(\"Tampa Bay Buccaneers Offense  Yards/Game Maximum:\", max_value)\n",
    "print(\"Tampa Bay Buccaneers Offense  Yards/Game Range:\", data_range)\n",
    "print(\"Tampa Bay Buccaneers Offense Total  Yards/Game 2012-2022:\", total_points)"
   ]
  },
  {
   "cell_type": "markdown",
   "id": "60e92cf1",
   "metadata": {},
   "source": [
    "### Tennessee Titans"
   ]
  },
  {
   "cell_type": "code",
   "execution_count": 41,
   "id": "243fe545",
   "metadata": {},
   "outputs": [
    {
     "name": "stdout",
     "output_type": "stream",
     "text": [
      "Tennessee Titans Offense  Yards/Game Mean: 331.81818181818187\n",
      "Tennessee Titans Offense  Yards/Game Median: 314.0\n",
      "Tennessee Titans Offense  Yards/Game Standard Deviation: 30.592607544366597\n",
      "Tennessee Titans Offense  Yards/Game Variance: 935.9076363636361\n",
      "Tennessee Titans Offense  Yards/Game Minimum: 296.8\n",
      "Tennessee Titans Offense  Yards/Game Maximum: 396.4\n",
      "Tennessee Titans Offense  Yards/Game Range: 99.59999999999997\n",
      "Tennessee Titans Offense Total  Yards/Game 2012-2022: 3650.0000000000005\n"
     ]
    }
   ],
   "source": [
    "team_name30 = 'Tennessee Titans'\n",
    "titans_data = nflTyards[nflTyards['Team'] == team_name30]\n",
    "mean_value = titans_data['Off Yds/G'].mean()\n",
    "median_value = titans_data['Off Yds/G'].median()\n",
    "std_value = titans_data['Off Yds/G'].std()\n",
    "var_value = titans_data['Off Yds/G'].var()\n",
    "min_value = titans_data['Off Yds/G'].min()\n",
    "max_value = titans_data['Off Yds/G'].max()\n",
    "data_range = max_value - min_value\n",
    "total_points = titans_data['Off Yds/G'].sum()\n",
    "print(\"Tennessee Titans Offense  Yards/Game Mean:\", mean_value)\n",
    "print(\"Tennessee Titans Offense  Yards/Game Median:\", median_value)\n",
    "print(\"Tennessee Titans Offense  Yards/Game Standard Deviation:\", std_value)\n",
    "print(\"Tennessee Titans Offense  Yards/Game Variance:\", var_value)\n",
    "print(\"Tennessee Titans Offense  Yards/Game Minimum:\", min_value)\n",
    "print(\"Tennessee Titans Offense  Yards/Game Maximum:\", max_value)\n",
    "print(\"Tennessee Titans Offense  Yards/Game Range:\", data_range)\n",
    "print(\"Tennessee Titans Offense Total  Yards/Game 2012-2022:\", total_points)"
   ]
  },
  {
   "cell_type": "markdown",
   "id": "bbac7211",
   "metadata": {},
   "source": [
    "### Washington Commanders"
   ]
  },
  {
   "cell_type": "code",
   "execution_count": 42,
   "id": "f1804580",
   "metadata": {},
   "outputs": [
    {
     "name": "stdout",
     "output_type": "stream",
     "text": [
      "Washington Commanders Offense  Yards/Game Mean: 342.2090909090909\n",
      "Washington Commanders Offense  Yards/Game Median: 330.3\n",
      "Washington Commanders Offense  Yards/Game Standard Deviation: 35.851930339814466\n",
      "Washington Commanders Offense  Yards/Game Variance: 1285.360909090909\n",
      "Washington Commanders Offense  Yards/Game Minimum: 274.7\n",
      "Washington Commanders Offense  Yards/Game Points Maximum: 403.4\n",
      "Washington Commanders Offense  Yards/Game Range: 128.7\n",
      "Washington Commanders Offense Total  Yards/Game 2012-2022: 3764.2999999999997\n"
     ]
    }
   ],
   "source": [
    "team_name31 = 'Washington Commanders'\n",
    "commanders_data = nflTyards[nflTyards['Team'] == team_name31]\n",
    "mean_value = commanders_data['Off Yds/G'].mean()\n",
    "median_value = commanders_data['Off Yds/G'].median()\n",
    "std_value = commanders_data['Off Yds/G'].std()\n",
    "var_value = commanders_data['Off Yds/G'].var()\n",
    "min_value = commanders_data['Off Yds/G'].min()\n",
    "max_value = commanders_data['Off Yds/G'].max()\n",
    "total_points = commanders_data['Off Yds/G'].sum()\n",
    "data_range = max_value - min_value\n",
    "print(\"Washington Commanders Offense  Yards/Game Mean:\", mean_value)\n",
    "print(\"Washington Commanders Offense  Yards/Game Median:\", median_value)\n",
    "print(\"Washington Commanders Offense  Yards/Game Standard Deviation:\", std_value)\n",
    "print(\"Washington Commanders Offense  Yards/Game Variance:\", var_value)\n",
    "print(\"Washington Commanders Offense  Yards/Game Minimum:\", min_value)\n",
    "print(\"Washington Commanders Offense  Yards/Game Points Maximum:\", max_value)\n",
    "print(\"Washington Commanders Offense  Yards/Game Range:\", data_range)\n",
    "print(\"Washington Commanders Offense Total  Yards/Game 2012-2022:\", total_points)"
   ]
  }
 ],
 "metadata": {
  "kernelspec": {
   "display_name": "Python 3 (ipykernel)",
   "language": "python",
   "name": "python3"
  },
  "language_info": {
   "codemirror_mode": {
    "name": "ipython",
    "version": 3
   },
   "file_extension": ".py",
   "mimetype": "text/x-python",
   "name": "python",
   "nbconvert_exporter": "python",
   "pygments_lexer": "ipython3",
   "version": "3.9.12"
  }
 },
 "nbformat": 4,
 "nbformat_minor": 5
}

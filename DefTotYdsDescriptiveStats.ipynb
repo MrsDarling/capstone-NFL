{
 "cells": [
  {
   "cell_type": "markdown",
   "id": "ca763d8d",
   "metadata": {},
   "source": [
    "# Descriptive Statistics for Defense Total Yards for Each Team\n",
    "#### Defense Total Yards = the total number of yards allowed by the defense side of the team"
   ]
  },
  {
   "cell_type": "markdown",
   "id": "649ef116",
   "metadata": {},
   "source": [
    "#### Import Packages"
   ]
  },
  {
   "cell_type": "code",
   "execution_count": 1,
   "id": "b23f9d8d",
   "metadata": {},
   "outputs": [],
   "source": [
    "import pandas as pd\n",
    "import numpy as np\n",
    "from scipy.stats import norm\n",
    "from scipy import stats"
   ]
  },
  {
   "cell_type": "markdown",
   "id": "b0be25b3",
   "metadata": {},
   "source": [
    "#### Import NFL Dataset 2012-2022"
   ]
  },
  {
   "cell_type": "code",
   "execution_count": 2,
   "id": "33f5a7e5",
   "metadata": {},
   "outputs": [
    {
     "data": {
      "text/html": [
       "<div>\n",
       "<style scoped>\n",
       "    .dataframe tbody tr th:only-of-type {\n",
       "        vertical-align: middle;\n",
       "    }\n",
       "\n",
       "    .dataframe tbody tr th {\n",
       "        vertical-align: top;\n",
       "    }\n",
       "\n",
       "    .dataframe thead th {\n",
       "        text-align: right;\n",
       "    }\n",
       "</style>\n",
       "<table border=\"1\" class=\"dataframe\">\n",
       "  <thead>\n",
       "    <tr style=\"text-align: right;\">\n",
       "      <th></th>\n",
       "      <th>Team</th>\n",
       "      <th>Off Tot/Pts</th>\n",
       "      <th>Off Pts/G</th>\n",
       "      <th>Off RushYds</th>\n",
       "      <th>Off RYds/G</th>\n",
       "      <th>Off PassYds</th>\n",
       "      <th>Off PYds/G</th>\n",
       "      <th>Off TotYds</th>\n",
       "      <th>Off Yds/G</th>\n",
       "      <th>Def Tot/Pts</th>\n",
       "      <th>...</th>\n",
       "      <th>Def PassYds</th>\n",
       "      <th>Def PYds/G</th>\n",
       "      <th>Def TotYds</th>\n",
       "      <th>Def Yds/G</th>\n",
       "      <th>Year</th>\n",
       "      <th>Wins</th>\n",
       "      <th>Losses</th>\n",
       "      <th>Tie</th>\n",
       "      <th>Superbowl</th>\n",
       "      <th>SB Win</th>\n",
       "    </tr>\n",
       "  </thead>\n",
       "  <tbody>\n",
       "    <tr>\n",
       "      <th>0</th>\n",
       "      <td>Arizona Cardinals</td>\n",
       "      <td>250</td>\n",
       "      <td>15.6</td>\n",
       "      <td>1204</td>\n",
       "      <td>75.2</td>\n",
       "      <td>3005</td>\n",
       "      <td>187.8</td>\n",
       "      <td>4209</td>\n",
       "      <td>263.1</td>\n",
       "      <td>357</td>\n",
       "      <td>...</td>\n",
       "      <td>3213</td>\n",
       "      <td>200.8</td>\n",
       "      <td>5405</td>\n",
       "      <td>337.8</td>\n",
       "      <td>2012</td>\n",
       "      <td>5</td>\n",
       "      <td>11</td>\n",
       "      <td>0.0</td>\n",
       "      <td>No</td>\n",
       "      <td>No</td>\n",
       "    </tr>\n",
       "    <tr>\n",
       "      <th>1</th>\n",
       "      <td>Atlanta Falcons</td>\n",
       "      <td>419</td>\n",
       "      <td>26.2</td>\n",
       "      <td>1397</td>\n",
       "      <td>87.3</td>\n",
       "      <td>4509</td>\n",
       "      <td>281.8</td>\n",
       "      <td>5906</td>\n",
       "      <td>369.1</td>\n",
       "      <td>299</td>\n",
       "      <td>...</td>\n",
       "      <td>3878</td>\n",
       "      <td>242.4</td>\n",
       "      <td>5849</td>\n",
       "      <td>365.6</td>\n",
       "      <td>2012</td>\n",
       "      <td>13</td>\n",
       "      <td>3</td>\n",
       "      <td>0.0</td>\n",
       "      <td>No</td>\n",
       "      <td>No</td>\n",
       "    </tr>\n",
       "    <tr>\n",
       "      <th>2</th>\n",
       "      <td>Baltimore Ravens</td>\n",
       "      <td>398</td>\n",
       "      <td>24.9</td>\n",
       "      <td>1901</td>\n",
       "      <td>118.8</td>\n",
       "      <td>3739</td>\n",
       "      <td>233.7</td>\n",
       "      <td>5640</td>\n",
       "      <td>352.5</td>\n",
       "      <td>344</td>\n",
       "      <td>...</td>\n",
       "      <td>3650</td>\n",
       "      <td>228.1</td>\n",
       "      <td>5615</td>\n",
       "      <td>350.9</td>\n",
       "      <td>2012</td>\n",
       "      <td>10</td>\n",
       "      <td>6</td>\n",
       "      <td>0.0</td>\n",
       "      <td>Yes</td>\n",
       "      <td>Yes</td>\n",
       "    </tr>\n",
       "    <tr>\n",
       "      <th>3</th>\n",
       "      <td>Buffalo Bills</td>\n",
       "      <td>344</td>\n",
       "      <td>21.5</td>\n",
       "      <td>2217</td>\n",
       "      <td>138.6</td>\n",
       "      <td>3269</td>\n",
       "      <td>204.3</td>\n",
       "      <td>5486</td>\n",
       "      <td>342.9</td>\n",
       "      <td>435</td>\n",
       "      <td>...</td>\n",
       "      <td>3473</td>\n",
       "      <td>217.1</td>\n",
       "      <td>5806</td>\n",
       "      <td>362.9</td>\n",
       "      <td>2012</td>\n",
       "      <td>6</td>\n",
       "      <td>10</td>\n",
       "      <td>0.0</td>\n",
       "      <td>No</td>\n",
       "      <td>No</td>\n",
       "    </tr>\n",
       "    <tr>\n",
       "      <th>4</th>\n",
       "      <td>Carolina Panthers</td>\n",
       "      <td>357</td>\n",
       "      <td>22.3</td>\n",
       "      <td>2088</td>\n",
       "      <td>130.5</td>\n",
       "      <td>3683</td>\n",
       "      <td>230.2</td>\n",
       "      <td>5771</td>\n",
       "      <td>360.7</td>\n",
       "      <td>363</td>\n",
       "      <td>...</td>\n",
       "      <td>3568</td>\n",
       "      <td>223.0</td>\n",
       "      <td>5329</td>\n",
       "      <td>333.1</td>\n",
       "      <td>2012</td>\n",
       "      <td>7</td>\n",
       "      <td>9</td>\n",
       "      <td>0.0</td>\n",
       "      <td>No</td>\n",
       "      <td>No</td>\n",
       "    </tr>\n",
       "  </tbody>\n",
       "</table>\n",
       "<p>5 rows × 23 columns</p>\n",
       "</div>"
      ],
      "text/plain": [
       "                Team  Off Tot/Pts  Off Pts/G  Off RushYds  Off RYds/G  \\\n",
       "0  Arizona Cardinals          250       15.6         1204        75.2   \n",
       "1    Atlanta Falcons          419       26.2         1397        87.3   \n",
       "2   Baltimore Ravens          398       24.9         1901       118.8   \n",
       "3      Buffalo Bills          344       21.5         2217       138.6   \n",
       "4  Carolina Panthers          357       22.3         2088       130.5   \n",
       "\n",
       "   Off PassYds  Off PYds/G  Off TotYds  Off Yds/G  Def Tot/Pts  ...  \\\n",
       "0         3005       187.8        4209      263.1          357  ...   \n",
       "1         4509       281.8        5906      369.1          299  ...   \n",
       "2         3739       233.7        5640      352.5          344  ...   \n",
       "3         3269       204.3        5486      342.9          435  ...   \n",
       "4         3683       230.2        5771      360.7          363  ...   \n",
       "\n",
       "   Def PassYds  Def PYds/G  Def TotYds  Def Yds/G  Year  Wins  Losses  Tie  \\\n",
       "0         3213       200.8        5405      337.8  2012     5      11  0.0   \n",
       "1         3878       242.4        5849      365.6  2012    13       3  0.0   \n",
       "2         3650       228.1        5615      350.9  2012    10       6  0.0   \n",
       "3         3473       217.1        5806      362.9  2012     6      10  0.0   \n",
       "4         3568       223.0        5329      333.1  2012     7       9  0.0   \n",
       "\n",
       "   Superbowl  SB Win  \n",
       "0         No      No  \n",
       "1         No      No  \n",
       "2        Yes     Yes  \n",
       "3         No      No  \n",
       "4         No      No  \n",
       "\n",
       "[5 rows x 23 columns]"
      ]
     },
     "execution_count": 2,
     "metadata": {},
     "output_type": "execute_result"
    }
   ],
   "source": [
    "nfl_tot_Dyards = pd.read_csv('/Users/admin/Desktop/Final_Project/NFL_merged/nfl2012_2022merge.csv')\n",
    "nfl_tot_Dyards.head()"
   ]
  },
  {
   "cell_type": "markdown",
   "id": "784b34d0",
   "metadata": {},
   "source": [
    "## Calculating Descriptive Statistics by Team\n",
    "#### First filter the data by a single team - I will use the Seattle Seahawks, my favorite team, to start."
   ]
  },
  {
   "cell_type": "code",
   "execution_count": 3,
   "id": "69c58961",
   "metadata": {},
   "outputs": [
    {
     "name": "stdout",
     "output_type": "stream",
     "text": [
      "Year: 2012 \t Defense Total Yards: 4899\n",
      "Year: 2013 \t Defense Total Yards: 4378\n",
      "Year: 2014 \t Defense Total Yards: 4274\n",
      "Year: 2015 \t Defense Total Yards: 4668\n",
      "Year: 2016 \t Defense Total Yards: 5099\n",
      "Year: 2017 \t Defense Total Yards: 5171\n",
      "Year: 2018 \t Defense Total Yards: 5653\n",
      "Year: 2019 \t Defense Total Yards: 6106\n",
      "Year: 2020 \t Defense Total Yards: 6089\n",
      "Year: 2021 \t Defense Total Yards: 6445\n",
      "Year: 2022 \t Defense Total Yards: 6149\n"
     ]
    }
   ],
   "source": [
    "team_name = 'Seattle Seahawks'\n",
    "seahawks_data = nfl_tot_Dyards[nfl_tot_Dyards['Team'] == team_name]\n",
    "\n",
    "#### Display Defense Total yards allowed by year for the Seahawks\n",
    "\n",
    "for year in seahawks_data['Year'].unique():\n",
    "    def_yards = seahawks_data.loc[seahawks_data['Year'] == year, 'Def TotYds'].values[0]\n",
    "    print(\"Year:\", year, \"\\t Defense Total Yards:\", def_yards)"
   ]
  },
  {
   "cell_type": "markdown",
   "id": "0c3ba5fa",
   "metadata": {},
   "source": [
    "#### What is the mean Defense total yards allowed for the Seahawks over all years?"
   ]
  },
  {
   "cell_type": "code",
   "execution_count": 4,
   "id": "24c6cbe1",
   "metadata": {},
   "outputs": [
    {
     "name": "stdout",
     "output_type": "stream",
     "text": [
      "5357.363636363636\n"
     ]
    }
   ],
   "source": [
    "total_yards = seahawks_data['Def TotYds'].mean()\n",
    "print(total_yards)"
   ]
  },
  {
   "cell_type": "markdown",
   "id": "5b3748d2",
   "metadata": {},
   "source": [
    "#### Let's calculate several descriptive statistics on Defense Total Yards allowed for the Seahawks"
   ]
  },
  {
   "cell_type": "code",
   "execution_count": 5,
   "id": "d26edc74",
   "metadata": {},
   "outputs": [
    {
     "name": "stdout",
     "output_type": "stream",
     "text": [
      "Seattle Seahawks Defense Total Yards Mean: 5357.363636363636\n",
      "Seattle Seahawks Defense Total Yards Median: 5171.0\n",
      "Seattle Seahawks Defense Total Yards Standard Deviation: 768.9227884160116\n",
      "Seattle Seahawks Defense Total Yards Variance: 591242.2545454545\n",
      "Seattle Seahawks Defense Total Yards Minimum: 4274\n",
      "Seattle Seahawks Defense Total Yards Maximum: 6445\n",
      "Seattle Seahawks Defense Total Yards Range: 2171\n",
      "Seattle Seahawks Total Yards 2012-2022: 58931\n"
     ]
    }
   ],
   "source": [
    "mean_value = seahawks_data['Def TotYds'].mean()\n",
    "median_value = seahawks_data['Def TotYds'].median()\n",
    "std_value = seahawks_data['Def TotYds'].std()\n",
    "var_value = seahawks_data['Def TotYds'].var()\n",
    "min_value = seahawks_data['Def TotYds'].min()\n",
    "max_value = seahawks_data['Def TotYds'].max()\n",
    "data_range = max_value - min_value\n",
    "total_points = seahawks_data['Def TotYds'].sum()\n",
    "print(\"Seattle Seahawks Defense Total Yards Mean:\", mean_value)\n",
    "print(\"Seattle Seahawks Defense Total Yards Median:\", median_value)\n",
    "print(\"Seattle Seahawks Defense Total Yards Standard Deviation:\", std_value)\n",
    "print(\"Seattle Seahawks Defense Total Yards Variance:\", var_value)\n",
    "print(\"Seattle Seahawks Defense Total Yards Minimum:\", min_value)\n",
    "print(\"Seattle Seahawks Defense Total Yards Maximum:\", max_value)\n",
    "print(\"Seattle Seahawks Defense Total Yards Range:\", data_range)\n",
    "print(\"Seattle Seahawks Total Yards 2012-2022:\", total_points)"
   ]
  },
  {
   "cell_type": "markdown",
   "id": "e69f7a6a",
   "metadata": {},
   "source": [
    "#### Calculating all Teams Defense Total Yards allowed per year"
   ]
  },
  {
   "cell_type": "code",
   "execution_count": 6,
   "id": "dbe5c0fa",
   "metadata": {},
   "outputs": [
    {
     "name": "stdout",
     "output_type": "stream",
     "text": [
      "Team: Arizona Cardinals \tYear: 2012 \tDefense Total Yards: 5405\n",
      "Team: Arizona Cardinals \tYear: 2013 \tDefense Total Yards: 5079\n",
      "Team: Arizona Cardinals \tYear: 2014 \tDefense Total Yards: 5891\n",
      "Team: Arizona Cardinals \tYear: 2015 \tDefense Total Yards: 5147\n",
      "Team: Arizona Cardinals \tYear: 2016 \tDefense Total Yards: 4883\n",
      "Team: Arizona Cardinals \tYear: 2017 \tDefense Total Yards: 4975\n",
      "Team: Arizona Cardinals \tYear: 2018 \tDefense Total Yards: 5741\n",
      "Team: Arizona Cardinals \tYear: 2019 \tDefense Total Yards: 6432\n",
      "Team: Arizona Cardinals \tYear: 2020 \tDefense Total Yards: 5631\n",
      "Team: Arizona Cardinals \tYear: 2021 \tDefense Total Yards: 5597\n",
      "Team: Arizona Cardinals \tYear: 2022 \tDefense Total Yards: 5931\n",
      "Team: Atlanta Falcons \tYear: 2012 \tDefense Total Yards: 5849\n",
      "Team: Atlanta Falcons \tYear: 2013 \tDefense Total Yards: 6070\n",
      "Team: Atlanta Falcons \tYear: 2014 \tDefense Total Yards: 6372\n",
      "Team: Atlanta Falcons \tYear: 2015 \tDefense Total Yards: 5562\n",
      "Team: Atlanta Falcons \tYear: 2016 \tDefense Total Yards: 5939\n",
      "Team: Atlanta Falcons \tYear: 2017 \tDefense Total Yards: 5094\n",
      "Team: Atlanta Falcons \tYear: 2018 \tDefense Total Yards: 6152\n",
      "Team: Atlanta Falcons \tYear: 2019 \tDefense Total Yards: 5693\n",
      "Team: Atlanta Falcons \tYear: 2020 \tDefense Total Yards: 6374\n",
      "Team: Atlanta Falcons \tYear: 2021 \tDefense Total Yards: 6194\n",
      "Team: Atlanta Falcons \tYear: 2022 \tDefense Total Yards: 6156\n",
      "Team: Baltimore Ravens \tYear: 2012 \tDefense Total Yards: 5615\n",
      "Team: Baltimore Ravens \tYear: 2013 \tDefense Total Yards: 5368\n",
      "Team: Baltimore Ravens \tYear: 2014 \tDefense Total Yards: 5391\n",
      "Team: Baltimore Ravens \tYear: 2015 \tDefense Total Yards: 5398\n",
      "Team: Baltimore Ravens \tYear: 2016 \tDefense Total Yards: 5154\n",
      "Team: Baltimore Ravens \tYear: 2017 \tDefense Total Yards: 5201\n",
      "Team: Baltimore Ravens \tYear: 2018 \tDefense Total Yards: 4687\n",
      "Team: Baltimore Ravens \tYear: 2019 \tDefense Total Yards: 4809\n",
      "Team: Baltimore Ravens \tYear: 2020 \tDefense Total Yards: 5276\n",
      "Team: Baltimore Ravens \tYear: 2021 \tDefense Total Yards: 6178\n",
      "Team: Baltimore Ravens \tYear: 2022 \tDefense Total Yards: 5513\n",
      "Team: Buffalo Bills \tYear: 2012 \tDefense Total Yards: 5806\n",
      "Team: Buffalo Bills \tYear: 2013 \tDefense Total Yards: 5334\n",
      "Team: Buffalo Bills \tYear: 2014 \tDefense Total Yards: 4995\n",
      "Team: Buffalo Bills \tYear: 2015 \tDefense Total Yards: 5702\n",
      "Team: Buffalo Bills \tYear: 2016 \tDefense Total Yards: 5712\n",
      "Team: Buffalo Bills \tYear: 2017 \tDefense Total Yards: 5682\n",
      "Team: Buffalo Bills \tYear: 2018 \tDefense Total Yards: 4706\n",
      "Team: Buffalo Bills \tYear: 2019 \tDefense Total Yards: 4772\n",
      "Team: Buffalo Bills \tYear: 2020 \tDefense Total Yards: 5640\n",
      "Team: Buffalo Bills \tYear: 2021 \tDefense Total Yards: 4637\n",
      "Team: Buffalo Bills \tYear: 2022 \tDefense Total Yards: 5106\n",
      "Team: Carolina Panthers \tYear: 2012 \tDefense Total Yards: 5329\n",
      "Team: Carolina Panthers \tYear: 2013 \tDefense Total Yards: 4820\n",
      "Team: Carolina Panthers \tYear: 2014 \tDefense Total Yards: 5437\n",
      "Team: Carolina Panthers \tYear: 2015 \tDefense Total Yards: 5167\n",
      "Team: Carolina Panthers \tYear: 2016 \tDefense Total Yards: 5756\n",
      "Team: Carolina Panthers \tYear: 2017 \tDefense Total Yards: 5074\n",
      "Team: Carolina Panthers \tYear: 2018 \tDefense Total Yards: 5651\n",
      "Team: Carolina Panthers \tYear: 2019 \tDefense Total Yards: 5992\n",
      "Team: Carolina Panthers \tYear: 2020 \tDefense Total Yards: 5761\n",
      "Team: Carolina Panthers \tYear: 2021 \tDefense Total Yards: 5201\n",
      "Team: Carolina Panthers \tYear: 2022 \tDefense Total Yards: 5953\n",
      "Team: Chicago Bears \tYear: 2012 \tDefense Total Yards: 5050\n",
      "Team: Chicago Bears \tYear: 2013 \tDefense Total Yards: 6313\n",
      "Team: Chicago Bears \tYear: 2014 \tDefense Total Yards: 6033\n",
      "Team: Chicago Bears \tYear: 2015 \tDefense Total Yards: 5527\n",
      "Team: Chicago Bears \tYear: 2016 \tDefense Total Yards: 5548\n",
      "Team: Chicago Bears \tYear: 2017 \tDefense Total Yards: 5106\n",
      "Team: Chicago Bears \tYear: 2018 \tDefense Total Yards: 4795\n",
      "Team: Chicago Bears \tYear: 2019 \tDefense Total Yards: 5186\n",
      "Team: Chicago Bears \tYear: 2020 \tDefense Total Yards: 5519\n",
      "Team: Chicago Bears \tYear: 2021 \tDefense Total Yards: 5384\n",
      "Team: Chicago Bears \tYear: 2022 \tDefense Total Yards: 6390\n",
      "Team: Cincinnati Bengals \tYear: 2012 \tDefense Total Yards: 5115\n",
      "Team: Cincinnati Bengals \tYear: 2013 \tDefense Total Yards: 4888\n",
      "Team: Cincinnati Bengals \tYear: 2014 \tDefense Total Yards: 5749\n",
      "Team: Cincinnati Bengals \tYear: 2015 \tDefense Total Yards: 5453\n",
      "Team: Cincinnati Bengals \tYear: 2016 \tDefense Total Yards: 5612\n",
      "Team: Cincinnati Bengals \tYear: 2017 \tDefense Total Yards: 5425\n",
      "Team: Cincinnati Bengals \tYear: 2018 \tDefense Total Yards: 6618\n",
      "Team: Cincinnati Bengals \tYear: 2019 \tDefense Total Yards: 6299\n",
      "Team: Cincinnati Bengals \tYear: 2020 \tDefense Total Yards: 6227\n",
      "Team: Cincinnati Bengals \tYear: 2021 \tDefense Total Yards: 5964\n",
      "Team: Cincinnati Bengals \tYear: 2022 \tDefense Total Yards: 5371\n",
      "Team: Cleveland Browns \tYear: 2012 \tDefense Total Yards: 5821\n",
      "Team: Cleveland Browns \tYear: 2013 \tDefense Total Yards: 5319\n",
      "Team: Cleveland Browns \tYear: 2014 \tDefense Total Yards: 5857\n",
      "Team: Cleveland Browns \tYear: 2015 \tDefense Total Yards: 6067\n",
      "Team: Cleveland Browns \tYear: 2016 \tDefense Total Yards: 6279\n",
      "Team: Cleveland Browns \tYear: 2017 \tDefense Total Yards: 5250\n",
      "Team: Cleveland Browns \tYear: 2018 \tDefense Total Yards: 6288\n",
      "Team: Cleveland Browns \tYear: 2019 \tDefense Total Yards: 5785\n",
      "Team: Cleveland Browns \tYear: 2020 \tDefense Total Yards: 5735\n",
      "Team: Cleveland Browns \tYear: 2021 \tDefense Total Yards: 5296\n",
      "Team: Cleveland Browns \tYear: 2022 \tDefense Total Yards: 5631\n",
      "Team: Dallas Cowboys \tYear: 2012 \tDefense Total Yards: 5687\n",
      "Team: Dallas Cowboys \tYear: 2013 \tDefense Total Yards: 6645\n",
      "Team: Dallas Cowboys \tYear: 2014 \tDefense Total Yards: 5681\n",
      "Team: Dallas Cowboys \tYear: 2015 \tDefense Total Yards: 5566\n",
      "Team: Dallas Cowboys \tYear: 2016 \tDefense Total Yards: 5503\n",
      "Team: Dallas Cowboys \tYear: 2017 \tDefense Total Yards: 5089\n",
      "Team: Dallas Cowboys \tYear: 2018 \tDefense Total Yards: 5268\n",
      "Team: Dallas Cowboys \tYear: 2019 \tDefense Total Yards: 5232\n",
      "Team: Dallas Cowboys \tYear: 2020 \tDefense Total Yards: 6183\n",
      "Team: Dallas Cowboys \tYear: 2021 \tDefense Total Yards: 5967\n",
      "Team: Dallas Cowboys \tYear: 2022 \tDefense Total Yards: 5613\n",
      "Team: Denver Broncos \tYear: 2012 \tDefense Total Yards: 4652\n",
      "Team: Denver Broncos \tYear: 2013 \tDefense Total Yards: 5696\n",
      "Team: Denver Broncos \tYear: 2014 \tDefense Total Yards: 4883\n",
      "Team: Denver Broncos \tYear: 2015 \tDefense Total Yards: 4530\n",
      "Team: Denver Broncos \tYear: 2016 \tDefense Total Yards: 5057\n",
      "Team: Denver Broncos \tYear: 2017 \tDefense Total Yards: 4640\n",
      "Team: Denver Broncos \tYear: 2018 \tDefense Total Yards: 5842\n",
      "Team: Denver Broncos \tYear: 2019 \tDefense Total Yards: 5392\n",
      "Team: Denver Broncos \tYear: 2020 \tDefense Total Yards: 5887\n",
      "Team: Denver Broncos \tYear: 2021 \tDefense Total Yards: 5544\n",
      "Team: Denver Broncos \tYear: 2022 \tDefense Total Yards: 5440\n",
      "Team: Detroit Lions \tYear: 2012 \tDefense Total Yards: 5458\n",
      "Team: Detroit Lions \tYear: 2013 \tDefense Total Yards: 5546\n",
      "Team: Detroit Lions \tYear: 2014 \tDefense Total Yards: 4815\n",
      "Team: Detroit Lions \tYear: 2015 \tDefense Total Yards: 5594\n",
      "Team: Detroit Lions \tYear: 2016 \tDefense Total Yards: 5676\n",
      "Team: Detroit Lions \tYear: 2017 \tDefense Total Yards: 5692\n",
      "Team: Detroit Lions \tYear: 2018 \tDefense Total Yards: 5360\n",
      "Team: Detroit Lions \tYear: 2019 \tDefense Total Yards: 6406\n",
      "Team: Detroit Lions \tYear: 2020 \tDefense Total Yards: 6716\n",
      "Team: Detroit Lions \tYear: 2021 \tDefense Total Yards: 6456\n",
      "Team: Detroit Lions \tYear: 2022 \tDefense Total Yards: 6670\n",
      "Team: Green Bay Packers \tYear: 2012 \tDefense Total Yards: 5388\n",
      "Team: Green Bay Packers \tYear: 2013 \tDefense Total Yards: 5956\n",
      "Team: Green Bay Packers \tYear: 2014 \tDefense Total Yards: 5542\n",
      "Team: Green Bay Packers \tYear: 2015 \tDefense Total Yards: 5547\n",
      "Team: Green Bay Packers \tYear: 2016 \tDefense Total Yards: 5823\n",
      "Team: Green Bay Packers \tYear: 2017 \tDefense Total Yards: 5582\n",
      "Team: Green Bay Packers \tYear: 2018 \tDefense Total Yards: 5670\n",
      "Team: Green Bay Packers \tYear: 2019 \tDefense Total Yards: 5642\n",
      "Team: Green Bay Packers \tYear: 2020 \tDefense Total Yards: 5344\n",
      "Team: Green Bay Packers \tYear: 2021 \tDefense Total Yards: 5579\n",
      "Team: Green Bay Packers \tYear: 2022 \tDefense Total Yards: 5721\n",
      "Team: Houston Texans \tYear: 2012 \tDefense Total Yards: 5172\n",
      "Team: Houston Texans \tYear: 2013 \tDefense Total Yards: 5081\n",
      "Team: Houston Texans \tYear: 2014 \tDefense Total Yards: 5571\n",
      "Team: Houston Texans \tYear: 2015 \tDefense Total Yards: 4963\n",
      "Team: Houston Texans \tYear: 2016 \tDefense Total Yards: 4821\n",
      "Team: Houston Texans \tYear: 2017 \tDefense Total Yards: 5546\n",
      "Team: Houston Texans \tYear: 2018 \tDefense Total Yards: 5490\n",
      "Team: Houston Texans \tYear: 2019 \tDefense Total Yards: 6213\n",
      "Team: Houston Texans \tYear: 2020 \tDefense Total Yards: 6668\n",
      "Team: Houston Texans \tYear: 2021 \tDefense Total Yards: 6535\n",
      "Team: Houston Texans \tYear: 2022 \tDefense Total Yards: 6452\n",
      "Team: Indianapolis Colts \tYear: 2012 \tDefense Total Yards: 5988\n",
      "Team: Indianapolis Colts \tYear: 2013 \tDefense Total Yards: 5713\n",
      "Team: Indianapolis Colts \tYear: 2014 \tDefense Total Yards: 5483\n",
      "Team: Indianapolis Colts \tYear: 2015 \tDefense Total Yards: 6066\n",
      "Team: Indianapolis Colts \tYear: 2016 \tDefense Total Yards: 6126\n",
      "Team: Indianapolis Colts \tYear: 2017 \tDefense Total Yards: 5873\n",
      "Team: Indianapolis Colts \tYear: 2018 \tDefense Total Yards: 5431\n",
      "Team: Indianapolis Colts \tYear: 2019 \tDefense Total Yards: 5549\n",
      "Team: Indianapolis Colts \tYear: 2020 \tDefense Total Yards: 5314\n",
      "Team: Indianapolis Colts \tYear: 2021 \tDefense Total Yards: 5834\n",
      "Team: Indianapolis Colts \tYear: 2022 \tDefense Total Yards: 5678\n",
      "Team: Jacksonville Jaguars \tYear: 2012 \tDefense Total Yards: 6088\n",
      "Team: Jacksonville Jaguars \tYear: 2013 \tDefense Total Yards: 6070\n",
      "Team: Jacksonville Jaguars \tYear: 2014 \tDefense Total Yards: 5932\n",
      "Team: Jacksonville Jaguars \tYear: 2015 \tDefense Total Yards: 6000\n",
      "Team: Jacksonville Jaguars \tYear: 2016 \tDefense Total Yards: 5147\n",
      "Team: Jacksonville Jaguars \tYear: 2017 \tDefense Total Yards: 4578\n",
      "Team: Jacksonville Jaguars \tYear: 2018 \tDefense Total Yards: 4983\n",
      "Team: Jacksonville Jaguars \tYear: 2019 \tDefense Total Yards: 6007\n",
      "Team: Jacksonville Jaguars \tYear: 2020 \tDefense Total Yards: 6683\n",
      "Team: Jacksonville Jaguars \tYear: 2021 \tDefense Total Yards: 6002\n",
      "Team: Jacksonville Jaguars \tYear: 2022 \tDefense Total Yards: 6006\n",
      "Team: Kansas City Chiefs \tYear: 2012 \tDefense Total Yards: 5704\n",
      "Team: Kansas City Chiefs \tYear: 2013 \tDefense Total Yards: 5885\n",
      "Team: Kansas City Chiefs \tYear: 2014 \tDefense Total Yards: 5288\n",
      "Team: Kansas City Chiefs \tYear: 2015 \tDefense Total Yards: 5269\n",
      "Team: Kansas City Chiefs \tYear: 2016 \tDefense Total Yards: 5896\n",
      "Team: Kansas City Chiefs \tYear: 2017 \tDefense Total Yards: 5842\n",
      "Team: Kansas City Chiefs \tYear: 2018 \tDefense Total Yards: 6488\n",
      "Team: Kansas City Chiefs \tYear: 2019 \tDefense Total Yards: 5594\n",
      "Team: Kansas City Chiefs \tYear: 2020 \tDefense Total Yards: 5733\n",
      "Team: Kansas City Chiefs \tYear: 2021 \tDefense Total Yards: 6272\n",
      "Team: Kansas City Chiefs \tYear: 2022 \tDefense Total Yards: 5579\n",
      "Team: Las Vegas Raiders \tYear: 2012 \tDefense Total Yards: 5672\n",
      "Team: Las Vegas Raiders \tYear: 2013 \tDefense Total Yards: 5819\n",
      "Team: Las Vegas Raiders \tYear: 2014 \tDefense Total Yards: 5721\n",
      "Team: Las Vegas Raiders \tYear: 2015 \tDefense Total Yards: 5818\n",
      "Team: Las Vegas Raiders \tYear: 2016 \tDefense Total Yards: 6001\n",
      "Team: Las Vegas Raiders \tYear: 2017 \tDefense Total Yards: 5601\n",
      "Team: Las Vegas Raiders \tYear: 2018 \tDefense Total Yards: 6102\n",
      "Team: Las Vegas Raiders \tYear: 2019 \tDefense Total Yards: 5677\n",
      "Team: Las Vegas Raiders \tYear: 2020 \tDefense Total Yards: 6225\n",
      "Team: Las Vegas Raiders \tYear: 2021 \tDefense Total Yards: 5732\n",
      "Team: Las Vegas Raiders \tYear: 2022 \tDefense Total Yards: 6216\n",
      "Team: Los Angeles Chargers \tYear: 2012 \tDefense Total Yards: 5223\n",
      "Team: Los Angeles Chargers \tYear: 2013 \tDefense Total Yards: 5864\n",
      "Team: Los Angeles Chargers \tYear: 2014 \tDefense Total Yards: 5413\n",
      "Team: Los Angeles Chargers \tYear: 2015 \tDefense Total Yards: 5791\n",
      "Team: Los Angeles Chargers \tYear: 2016 \tDefense Total Yards: 5554\n",
      "Team: Los Angeles Chargers \tYear: 2017 \tDefense Total Yards: 5254\n",
      "Team: Los Angeles Chargers \tYear: 2018 \tDefense Total Yards: 5339\n",
      "Team: Los Angeles Chargers \tYear: 2019 \tDefense Total Yards: 5009\n",
      "Team: Los Angeles Chargers \tYear: 2020 \tDefense Total Yards: 5495\n",
      "Team: Los Angeles Chargers \tYear: 2021 \tDefense Total Yards: 6122\n",
      "Team: Los Angeles Chargers \tYear: 2022 \tDefense Total Yards: 5884\n",
      "Team: Los Angeles Rams \tYear: 2012 \tDefense Total Yards: 5482\n",
      "Team: Los Angeles Rams \tYear: 2013 \tDefense Total Yards: 5520\n",
      "Team: Los Angeles Rams \tYear: 2014 \tDefense Total Yards: 5626\n",
      "Team: Los Angeles Rams \tYear: 2015 \tDefense Total Yards: 5885\n",
      "Team: Los Angeles Rams \tYear: 2016 \tDefense Total Yards: 5392\n",
      "Team: Los Angeles Rams \tYear: 2017 \tDefense Total Yards: 5432\n",
      "Team: Los Angeles Rams \tYear: 2018 \tDefense Total Yards: 5737\n",
      "Team: Los Angeles Rams \tYear: 2019 \tDefense Total Yards: 5434\n",
      "Team: Los Angeles Rams \tYear: 2020 \tDefense Total Yards: 4511\n",
      "Team: Los Angeles Rams \tYear: 2021 \tDefense Total Yards: 5863\n",
      "Team: Los Angeles Rams \tYear: 2022 \tDefense Total Yards: 5798\n",
      "Team: Miami Dolphins \tYear: 2012 \tDefense Total Yards: 5708\n",
      "Team: Miami Dolphins \tYear: 2013 \tDefense Total Yards: 5750\n",
      "Team: Miami Dolphins \tYear: 2014 \tDefense Total Yards: 5494\n",
      "Team: Miami Dolphins \tYear: 2015 \tDefense Total Yards: 6019\n",
      "Team: Miami Dolphins \tYear: 2016 \tDefense Total Yards: 6122\n",
      "Team: Miami Dolphins \tYear: 2017 \tDefense Total Yards: 5371\n",
      "Team: Miami Dolphins \tYear: 2018 \tDefense Total Yards: 6257\n",
      "Team: Miami Dolphins \tYear: 2019 \tDefense Total Yards: 6364\n",
      "Team: Miami Dolphins \tYear: 2020 \tDefense Total Yards: 5886\n",
      "Team: Miami Dolphins \tYear: 2021 \tDefense Total Yards: 5738\n",
      "Team: Miami Dolphins \tYear: 2022 \tDefense Total Yards: 5743\n",
      "Team: Minnesota Vikings \tYear: 2012 \tDefense Total Yards: 5600\n",
      "Team: Minnesota Vikings \tYear: 2013 \tDefense Total Yards: 6362\n",
      "Team: Minnesota Vikings \tYear: 2014 \tDefense Total Yards: 5515\n",
      "Team: Minnesota Vikings \tYear: 2015 \tDefense Total Yards: 5507\n",
      "Team: Minnesota Vikings \tYear: 2016 \tDefense Total Yards: 5038\n",
      "Team: Minnesota Vikings \tYear: 2017 \tDefense Total Yards: 4415\n",
      "Team: Minnesota Vikings \tYear: 2018 \tDefense Total Yards: 4955\n",
      "Team: Minnesota Vikings \tYear: 2019 \tDefense Total Yards: 5465\n",
      "Team: Minnesota Vikings \tYear: 2020 \tDefense Total Yards: 6292\n",
      "Team: Minnesota Vikings \tYear: 2021 \tDefense Total Yards: 6522\n",
      "Team: Minnesota Vikings \tYear: 2022 \tDefense Total Yards: 6608\n",
      "Team: New England Patriots \tYear: 2012 \tDefense Total Yards: 5972\n",
      "Team: New England Patriots \tYear: 2013 \tDefense Total Yards: 5969\n",
      "Team: New England Patriots \tYear: 2014 \tDefense Total Yards: 5506\n",
      "Team: New England Patriots \tYear: 2015 \tDefense Total Yards: 5431\n",
      "Team: New England Patriots \tYear: 2016 \tDefense Total Yards: 5223\n",
      "Team: New England Patriots \tYear: 2017 \tDefense Total Yards: 5856\n",
      "Team: New England Patriots \tYear: 2018 \tDefense Total Yards: 5746\n",
      "Team: New England Patriots \tYear: 2019 \tDefense Total Yards: 4414\n",
      "Team: New England Patriots \tYear: 2020 \tDefense Total Yards: 5660\n",
      "Team: New England Patriots \tYear: 2021 \tDefense Total Yards: 5284\n",
      "Team: New England Patriots \tYear: 2022 \tDefense Total Yards: 5474\n",
      "Team: New Orleans Saints \tYear: 2012 \tDefense Total Yards: 7042\n",
      "Team: New Orleans Saints \tYear: 2013 \tDefense Total Yards: 4891\n",
      "Team: New Orleans Saints \tYear: 2014 \tDefense Total Yards: 6144\n",
      "Team: New Orleans Saints \tYear: 2015 \tDefense Total Yards: 6615\n",
      "Team: New Orleans Saints \tYear: 2016 \tDefense Total Yards: 6006\n",
      "Team: New Orleans Saints \tYear: 2017 \tDefense Total Yards: 5384\n",
      "Team: New Orleans Saints \tYear: 2019 \tDefense Total Yards: 5329\n",
      "Team: New Orleans Saints \tYear: 2020 \tDefense Total Yards: 4974\n",
      "Team: New Orleans Saints \tYear: 2021 \tDefense Total Yards: 5410\n",
      "Team: New Orleans Saints \tYear: 2022 \tDefense Total Yards: 5352\n",
      "Team: New York Giants \tYear: 2012 \tDefense Total Yards: 6134\n",
      "Team: New York Giants \tYear: 2013 \tDefense Total Yards: 5316\n",
      "Team: New York Giants \tYear: 2014 \tDefense Total Yards: 6012\n",
      "Team: New York Giants \tYear: 2015 \tDefense Total Yards: 6725\n",
      "Team: New York Giants \tYear: 2016 \tDefense Total Yards: 5435\n",
      "Team: New York Giants \tYear: 2017 \tDefense Total Yards: 5971\n",
      "Team: New York Giants \tYear: 2018 \tDefense Total Yards: 5942\n",
      "Team: New York Giants \tYear: 2019 \tDefense Total Yards: 6037\n",
      "Team: New York Giants \tYear: 2020 \tDefense Total Yards: 5589\n",
      "Team: New York Giants \tYear: 2021 \tDefense Total Yards: 6032\n",
      "Team: New York Giants \tYear: 2022 \tDefense Total Yards: 6089\n",
      "Team: New York Jets \tYear: 2012 \tDefense Total Yards: 5174\n",
      "Team: New York Jets \tYear: 2013 \tDefense Total Yards: 5359\n",
      "Team: New York Jets \tYear: 2014 \tDefense Total Yards: 5235\n",
      "Team: New York Jets \tYear: 2015 \tDefense Total Yards: 5098\n",
      "Team: New York Jets \tYear: 2016 \tDefense Total Yards: 5479\n",
      "Team: New York Jets \tYear: 2017 \tDefense Total Yards: 5636\n",
      "Team: New York Jets \tYear: 2018 \tDefense Total Yards: 6086\n",
      "Team: New York Jets \tYear: 2019 \tDefense Total Yards: 5170\n",
      "Team: New York Jets \tYear: 2020 \tDefense Total Yards: 6201\n",
      "Team: New York Jets \tYear: 2021 \tDefense Total Yards: 6760\n",
      "Team: New York Jets \tYear: 2022 \tDefense Total Yards: 5288\n",
      "Team: Philadelphia Eagles \tYear: 2012 \tDefense Total Yards: 5491\n",
      "Team: Philadelphia Eagles \tYear: 2013 \tDefense Total Yards: 6304\n",
      "Team: Philadelphia Eagles \tYear: 2014 \tDefense Total Yards: 6009\n",
      "Team: Philadelphia Eagles \tYear: 2015 \tDefense Total Yards: 6426\n",
      "Team: Philadelphia Eagles \tYear: 2016 \tDefense Total Yards: 5484\n",
      "Team: Philadelphia Eagles \tYear: 2017 \tDefense Total Yards: 4904\n",
      "Team: Philadelphia Eagles \tYear: 2018 \tDefense Total Yards: 5859\n",
      "Team: Philadelphia Eagles \tYear: 2019 \tDefense Total Yards: 5307\n",
      "Team: Philadelphia Eagles \tYear: 2020 \tDefense Total Yards: 5810\n",
      "Team: Philadelphia Eagles \tYear: 2021 \tDefense Total Yards: 5590\n",
      "Team: Philadelphia Eagles \tYear: 2022 \tDefense Total Yards: 5125\n",
      "Team: Pittsburgh Steelers \tYear: 2012 \tDefense Total Yards: 4413\n",
      "Team: Pittsburgh Steelers \tYear: 2013 \tDefense Total Yards: 5402\n",
      "Team: Pittsburgh Steelers \tYear: 2014 \tDefense Total Yards: 5654\n",
      "Team: Pittsburgh Steelers \tYear: 2015 \tDefense Total Yards: 5809\n",
      "Team: Pittsburgh Steelers \tYear: 2016 \tDefense Total Yards: 5482\n",
      "Team: Pittsburgh Steelers \tYear: 2017 \tDefense Total Yards: 4910\n",
      "Team: Pittsburgh Steelers \tYear: 2018 \tDefense Total Yards: 5235\n",
      "Team: Pittsburgh Steelers \tYear: 2019 \tDefense Total Yards: 4866\n",
      "Team: Pittsburgh Steelers \tYear: 2020 \tDefense Total Yards: 4893\n",
      "Team: Pittsburgh Steelers \tYear: 2021 \tDefense Total Yards: 6139\n",
      "Team: Pittsburgh Steelers \tYear: 2022 \tDefense Total Yards: 5617\n",
      "Team: San Francisco 49ers \tYear: 2012 \tDefense Total Yards: 4710\n",
      "Team: San Francisco 49ers \tYear: 2013 \tDefense Total Yards: 5071\n",
      "Team: San Francisco 49ers \tYear: 2014 \tDefense Total Yards: 5143\n",
      "Team: San Francisco 49ers \tYear: 2015 \tDefense Total Yards: 6199\n",
      "Team: San Francisco 49ers \tYear: 2016 \tDefense Total Yards: 6502\n",
      "Team: San Francisco 49ers \tYear: 2017 \tDefense Total Yards: 5625\n",
      "Team: San Francisco 49ers \tYear: 2018 \tDefense Total Yards: 5546\n",
      "Team: San Francisco 49ers \tYear: 2019 \tDefense Total Yards: 4509\n",
      "Team: San Francisco 49ers \tYear: 2020 \tDefense Total Yards: 5030\n",
      "Team: San Francisco 49ers \tYear: 2021 \tDefense Total Yards: 5270\n",
      "Team: San Francisco 49ers \tYear: 2022 \tDefense Total Yards: 5110\n",
      "Team: Seattle Seahawks \tYear: 2012 \tDefense Total Yards: 4899\n",
      "Team: Seattle Seahawks \tYear: 2013 \tDefense Total Yards: 4378\n",
      "Team: Seattle Seahawks \tYear: 2014 \tDefense Total Yards: 4274\n",
      "Team: Seattle Seahawks \tYear: 2015 \tDefense Total Yards: 4668\n",
      "Team: Seattle Seahawks \tYear: 2016 \tDefense Total Yards: 5099\n",
      "Team: Seattle Seahawks \tYear: 2017 \tDefense Total Yards: 5171\n",
      "Team: Seattle Seahawks \tYear: 2018 \tDefense Total Yards: 5653\n",
      "Team: Seattle Seahawks \tYear: 2019 \tDefense Total Yards: 6106\n",
      "Team: Seattle Seahawks \tYear: 2020 \tDefense Total Yards: 6089\n",
      "Team: Seattle Seahawks \tYear: 2021 \tDefense Total Yards: 6445\n",
      "Team: Seattle Seahawks \tYear: 2022 \tDefense Total Yards: 6149\n",
      "Team: Tampa Bay Buccaneers \tYear: 2012 \tDefense Total Yards: 6078\n",
      "Team: Tampa Bay Buccaneers \tYear: 2013 \tDefense Total Yards: 5568\n",
      "Team: Tampa Bay Buccaneers \tYear: 2014 \tDefense Total Yards: 5903\n",
      "Team: Tampa Bay Buccaneers \tYear: 2015 \tDefense Total Yards: 5446\n",
      "Team: Tampa Bay Buccaneers \tYear: 2016 \tDefense Total Yards: 5887\n",
      "Team: Tampa Bay Buccaneers \tYear: 2017 \tDefense Total Yards: 6049\n",
      "Team: Tampa Bay Buccaneers \tYear: 2018 \tDefense Total Yards: 6134\n",
      "Team: Tampa Bay Buccaneers \tYear: 2019 \tDefense Total Yards: 5503\n",
      "Team: Tampa Bay Buccaneers \tYear: 2020 \tDefense Total Yards: 5234\n",
      "Team: Tampa Bay Buccaneers \tYear: 2021 \tDefense Total Yards: 5635\n",
      "Team: Tampa Bay Buccaneers \tYear: 2022 \tDefense Total Yards: 5513\n",
      "Team: Tennessee Titans \tYear: 2012 \tDefense Total Yards: 5999\n",
      "Team: Tennessee Titans \tYear: 2013 \tDefense Total Yards: 5407\n",
      "Team: Tennessee Titans \tYear: 2014 \tDefense Total Yards: 5968\n",
      "Team: Tennessee Titans \tYear: 2015 \tDefense Total Yards: 5475\n",
      "Team: Tennessee Titans \tYear: 2016 \tDefense Total Yards: 5720\n",
      "Team: Tennessee Titans \tYear: 2017 \tDefense Total Yards: 5248\n",
      "Team: Tennessee Titans \tYear: 2018 \tDefense Total Yards: 5334\n",
      "Team: Tennessee Titans \tYear: 2019 \tDefense Total Yards: 5752\n",
      "Team: Tennessee Titans \tYear: 2020 \tDefense Total Yards: 6372\n",
      "Team: Tennessee Titans \tYear: 2021 \tDefense Total Yards: 5607\n",
      "Team: Tennessee Titans \tYear: 2022 \tDefense Total Yards: 5978\n",
      "Team: Washington Commanders \tYear: 2012 \tDefense Total Yards: 6043\n",
      "Team: Washington Commanders \tYear: 2013 \tDefense Total Yards: 5665\n",
      "Team: Washington Commanders \tYear: 2014 \tDefense Total Yards: 5712\n",
      "Team: Washington Commanders \tYear: 2015 \tDefense Total Yards: 6090\n",
      "Team: Washington Commanders \tYear: 2016 \tDefense Total Yards: 6046\n",
      "Team: Washington Commanders \tYear: 2017 \tDefense Total Yards: 5566\n",
      "Team: Washington Commanders \tYear: 2018 \tDefense Total Yards: 5654\n",
      "Team: Washington Commanders \tYear: 2019 \tDefense Total Yards: 6162\n",
      "Team: Washington Commanders \tYear: 2020 \tDefense Total Yards: 4873\n",
      "Team: Washington Commanders \tYear: 2021 \tDefense Total Yards: 6108\n",
      "Team: Washington Commanders \tYear: 2022 \tDefense Total Yards: 5178\n"
     ]
    }
   ],
   "source": [
    "team_names = nfl_tot_Dyards['Team'].unique()\n",
    "\n",
    "# Iterate over each team\n",
    "for team_name in team_names:\n",
    "    team_data = nfl_tot_Dyards[nfl_tot_Dyards['Team'] == team_name]\n",
    "    \n",
    "    # Display the total Defense points for each year\n",
    "    for year in team_data['Year'].unique():\n",
    "        team_yards = team_data.loc[team_data['Year'] == year, 'Def TotYds'].values[0]\n",
    "        print(\"Team:\", team_name, \"\\tYear:\", year, \"\\tDefense Total Yards:\", team_yards)"
   ]
  },
  {
   "cell_type": "markdown",
   "id": "b7c99af6",
   "metadata": {},
   "source": [
    "#### Calculate Descriptive Statistics on Defense Total Yards allowed for all Teams. These statistics are the total yards allowed and their mean, median, standard deviation, variance, min, max, range, and sum."
   ]
  },
  {
   "cell_type": "markdown",
   "id": "186c620f",
   "metadata": {},
   "source": [
    "### Arizona Cardinals"
   ]
  },
  {
   "cell_type": "code",
   "execution_count": 7,
   "id": "7444d978",
   "metadata": {},
   "outputs": [
    {
     "name": "stdout",
     "output_type": "stream",
     "text": [
      "Arizona Cardinals Defense Total Yards Mean: 5519.272727272727\n",
      "Arizona Cardinals Defense Total Yards Median: 5597.0\n",
      "Arizona Cardinals Defense Total Yards Standard Deviation: 474.8705278092316\n",
      "Arizona Cardinals Defense Total Yards Variance: 225502.01818181822\n",
      "Arizona Cardinals Defense Total Yards Minimum: 4883\n",
      "Arizona Cardinals Defense Total Yards Maximum: 6432\n",
      "Arizona Cardinals Defense Total Yards Range: 1549\n",
      "Arizona Cardinals Total Yards 2012-2022: 60712\n"
     ]
    }
   ],
   "source": [
    "team_name1 = 'Arizona Cardinals'\n",
    "cardinals_data = nfl_tot_Dyards[nfl_tot_Dyards['Team'] == team_name1]\n",
    "mean_value = cardinals_data['Def TotYds'].mean()\n",
    "median_value = cardinals_data['Def TotYds'].median()\n",
    "std_value = cardinals_data['Def TotYds'].std()\n",
    "var_value = cardinals_data['Def TotYds'].var()\n",
    "min_value = cardinals_data['Def TotYds'].min()\n",
    "max_value = cardinals_data['Def TotYds'].max()\n",
    "data_range = max_value - min_value\n",
    "total_points = cardinals_data['Def TotYds'].sum()\n",
    "print(\"Arizona Cardinals Defense Total Yards Mean:\", mean_value)\n",
    "print(\"Arizona Cardinals Defense Total Yards Median:\", median_value)\n",
    "print(\"Arizona Cardinals Defense Total Yards Standard Deviation:\", std_value)\n",
    "print(\"Arizona Cardinals Defense Total Yards Variance:\", var_value)\n",
    "print(\"Arizona Cardinals Defense Total Yards Minimum:\", min_value)\n",
    "print(\"Arizona Cardinals Defense Total Yards Maximum:\", max_value)\n",
    "print(\"Arizona Cardinals Defense Total Yards Range:\", data_range)\n",
    "print(\"Arizona Cardinals Total Yards 2012-2022:\", total_points)"
   ]
  },
  {
   "cell_type": "markdown",
   "id": "9c54bb44",
   "metadata": {},
   "source": [
    "### Atlanta Falcons"
   ]
  },
  {
   "cell_type": "code",
   "execution_count": 8,
   "id": "cf5c0251",
   "metadata": {},
   "outputs": [
    {
     "name": "stdout",
     "output_type": "stream",
     "text": [
      "Atlanta Falcons Defense Total Yards Mean: 5950.454545454545\n",
      "Atlanta Falcons Defense Total Yards Median: 6070.0\n",
      "Atlanta Falcons Defense Total Yards Standard Deviation: 384.01624018688676\n",
      "Atlanta Falcons Defense Total Yards Variance: 147468.47272727272\n",
      "Atlanta Falcons Defense Total Yards Minimum: 5094\n",
      "Atlanta Falcons Defense Total Yards Maximum: 6374\n",
      "Atlanta Falcons Defense Total Yards Range: 1280\n",
      "Atlanta Falcons Total Yards 2012-2022: 65455\n"
     ]
    }
   ],
   "source": [
    "team_name2 = 'Atlanta Falcons'\n",
    "falcons_data = nfl_tot_Dyards[nfl_tot_Dyards['Team'] == team_name2]\n",
    "mean_value = falcons_data['Def TotYds'].mean()\n",
    "median_value = falcons_data['Def TotYds'].median()\n",
    "std_value = falcons_data['Def TotYds'].std()\n",
    "var_value = falcons_data['Def TotYds'].var()\n",
    "min_value = falcons_data['Def TotYds'].min()\n",
    "max_value = falcons_data['Def TotYds'].max()\n",
    "data_range = max_value - min_value\n",
    "total_points = falcons_data['Def TotYds'].sum()\n",
    "print(\"Atlanta Falcons Defense Total Yards Mean:\", mean_value)\n",
    "print(\"Atlanta Falcons Defense Total Yards Median:\", median_value)\n",
    "print(\"Atlanta Falcons Defense Total Yards Standard Deviation:\", std_value)\n",
    "print(\"Atlanta Falcons Defense Total Yards Variance:\", var_value)\n",
    "print(\"Atlanta Falcons Defense Total Yards Minimum:\", min_value)\n",
    "print(\"Atlanta Falcons Defense Total Yards Maximum:\", max_value)\n",
    "print(\"Atlanta Falcons Defense Total Yards Range:\", data_range)\n",
    "print(\"Atlanta Falcons Total Yards 2012-2022:\", total_points)"
   ]
  },
  {
   "cell_type": "markdown",
   "id": "7f0431cc",
   "metadata": {},
   "source": [
    "### Baltimore Ravens"
   ]
  },
  {
   "cell_type": "code",
   "execution_count": 9,
   "id": "76b5c9c4",
   "metadata": {},
   "outputs": [
    {
     "name": "stdout",
     "output_type": "stream",
     "text": [
      "Baltimore Ravens Defense Total Yards Mean: 5326.363636363636\n",
      "Baltimore Ravens Defense Total Yards Median: 5368.0\n",
      "Baltimore Ravens Defense Total Yards Standard Deviation: 397.35180199094924\n",
      "Baltimore Ravens Defense Total Yards Variance: 157888.45454545453\n",
      "Baltimore Ravens Defense Total Yards Minimum: 4687\n",
      "Baltimore Ravens Defense Total Yards Maximum: 6178\n",
      "Baltimore Ravens Defense Total Yards Range: 1491\n",
      "Baltimore Ravens Total Yards 2012-2022: 58590\n"
     ]
    }
   ],
   "source": [
    "team_name3 = 'Baltimore Ravens'\n",
    "ravens_data = nfl_tot_Dyards[nfl_tot_Dyards['Team'] == team_name3]\n",
    "mean_value = ravens_data['Def TotYds'].mean()\n",
    "median_value = ravens_data['Def TotYds'].median()\n",
    "std_value = ravens_data['Def TotYds'].std()\n",
    "var_value = ravens_data['Def TotYds'].var()\n",
    "min_value = ravens_data['Def TotYds'].min()\n",
    "max_value = ravens_data['Def TotYds'].max()\n",
    "data_range = max_value - min_value\n",
    "total_points = ravens_data['Def TotYds'].sum()\n",
    "print(\"Baltimore Ravens Defense Total Yards Mean:\", mean_value)\n",
    "print(\"Baltimore Ravens Defense Total Yards Median:\", median_value)\n",
    "print(\"Baltimore Ravens Defense Total Yards Standard Deviation:\", std_value)\n",
    "print(\"Baltimore Ravens Defense Total Yards Variance:\", var_value)\n",
    "print(\"Baltimore Ravens Defense Total Yards Minimum:\", min_value)\n",
    "print(\"Baltimore Ravens Defense Total Yards Maximum:\", max_value)\n",
    "print(\"Baltimore Ravens Defense Total Yards Range:\", data_range)\n",
    "print(\"Baltimore Ravens Total Yards 2012-2022:\", total_points)"
   ]
  },
  {
   "cell_type": "markdown",
   "id": "95049040",
   "metadata": {},
   "source": [
    "### Buffalo Bills"
   ]
  },
  {
   "cell_type": "code",
   "execution_count": 10,
   "id": "09989626",
   "metadata": {},
   "outputs": [
    {
     "name": "stdout",
     "output_type": "stream",
     "text": [
      "Buffalo Bills Defense Total Yards Mean: 5281.090909090909\n",
      "Buffalo Bills Defense Total Yards Median: 5334.0\n",
      "Buffalo Bills Defense Total Yards Standard Deviation: 452.54623068708787\n",
      "Buffalo Bills Defense Total Yards Variance: 204798.09090909094\n",
      "Buffalo Bills Defense Total Yards Minimum: 4637\n",
      "Buffalo Bills Defense Total Yards Maximum: 5806\n",
      "Buffalo Bills Defense Total Yards Range: 1169\n",
      "Buffalo Bills Total Yards 2012-2022: 58092\n"
     ]
    }
   ],
   "source": [
    "team_name4 = 'Buffalo Bills'\n",
    "bills_data = nfl_tot_Dyards[nfl_tot_Dyards['Team'] == team_name4]\n",
    "mean_value = bills_data['Def TotYds'].mean()\n",
    "median_value = bills_data['Def TotYds'].median()\n",
    "std_value = bills_data['Def TotYds'].std()\n",
    "var_value = bills_data['Def TotYds'].var()\n",
    "min_value = bills_data['Def TotYds'].min()\n",
    "max_value = bills_data['Def TotYds'].max()\n",
    "data_range = max_value - min_value\n",
    "total_points = bills_data['Def TotYds'].sum()\n",
    "print(\"Buffalo Bills Defense Total Yards Mean:\", mean_value)\n",
    "print(\"Buffalo Bills Defense Total Yards Median:\", median_value)\n",
    "print(\"Buffalo Bills Defense Total Yards Standard Deviation:\", std_value)\n",
    "print(\"Buffalo Bills Defense Total Yards Variance:\", var_value)\n",
    "print(\"Buffalo Bills Defense Total Yards Minimum:\", min_value)\n",
    "print(\"Buffalo Bills Defense Total Yards Maximum:\", max_value)\n",
    "print(\"Buffalo Bills Defense Total Yards Range:\", data_range)\n",
    "print(\"Buffalo Bills Total Yards 2012-2022:\", total_points)"
   ]
  },
  {
   "cell_type": "markdown",
   "id": "e4ca8cea",
   "metadata": {},
   "source": [
    "### Carolina Panthers"
   ]
  },
  {
   "cell_type": "code",
   "execution_count": 11,
   "id": "086d4169",
   "metadata": {},
   "outputs": [
    {
     "name": "stdout",
     "output_type": "stream",
     "text": [
      "Carolina Panthers Defense Total Yards Mean: 5467.363636363636\n",
      "Carolina Panthers Defense Total Yards Median: 5437.0\n",
      "Carolina Panthers Defense Total Yards Standard Deviation: 383.3263029658342\n",
      "Carolina Panthers Defense Total Yards Variance: 146939.0545454545\n",
      "Carolina Panthers Defense Total Yards Minimum: 4820\n",
      "Carolina Panthers Defense Total Yards Maximum: 5992\n",
      "Carolina Panthers Defense Total Yards Range: 1172\n",
      "Carolina Panthers Total Yards 2012-2022: 60141\n"
     ]
    }
   ],
   "source": [
    "team_name5 = 'Carolina Panthers'\n",
    "panthers_data = nfl_tot_Dyards[nfl_tot_Dyards['Team'] == team_name5]\n",
    "mean_value = panthers_data['Def TotYds'].mean()\n",
    "median_value = panthers_data['Def TotYds'].median()\n",
    "std_value = panthers_data['Def TotYds'].std()\n",
    "var_value = panthers_data['Def TotYds'].var()\n",
    "min_value = panthers_data['Def TotYds'].min()\n",
    "max_value = panthers_data['Def TotYds'].max()\n",
    "data_range = max_value - min_value\n",
    "total_points = panthers_data['Def TotYds'].sum()\n",
    "print(\"Carolina Panthers Defense Total Yards Mean:\", mean_value)\n",
    "print(\"Carolina Panthers Defense Total Yards Median:\", median_value)\n",
    "print(\"Carolina Panthers Defense Total Yards Standard Deviation:\", std_value)\n",
    "print(\"Carolina Panthers Defense Total Yards Variance:\", var_value)\n",
    "print(\"Carolina Panthers Defense Total Yards Minimum:\", min_value)\n",
    "print(\"Carolina Panthers Defense Total Yards Maximum:\", max_value)\n",
    "print(\"Carolina Panthers Defense Total Yards Range:\", data_range)\n",
    "print(\"Carolina Panthers Total Yards 2012-2022:\", total_points)"
   ]
  },
  {
   "cell_type": "markdown",
   "id": "a8e04f1e",
   "metadata": {},
   "source": [
    "### Chicago Bears"
   ]
  },
  {
   "cell_type": "code",
   "execution_count": 12,
   "id": "95cef721",
   "metadata": {},
   "outputs": [
    {
     "name": "stdout",
     "output_type": "stream",
     "text": [
      "Chicago Bears Defense Total Yards Mean: 5531.909090909091\n",
      "Chicago Bears Defense Total Yards Median: 5519.0\n",
      "Chicago Bears Defense Total Yards Standard Deviation: 519.2460793391616\n",
      "Chicago Bears Defense Total Yards Variance: 269616.4909090909\n",
      "Chicago Bears Defense Total Yards Minimum: 4795\n",
      "Chicago Bears Defense Total Yards Maximum: 6390\n",
      "Chicago Bears Defense Total Yards Range: 1595\n",
      "Chicago Bears Total Yards 2012-2022: 60851\n"
     ]
    }
   ],
   "source": [
    "team_name6 = 'Chicago Bears'\n",
    "bears_data = nfl_tot_Dyards[nfl_tot_Dyards['Team'] == team_name6]\n",
    "mean_value = bears_data['Def TotYds'].mean()\n",
    "median_value = bears_data['Def TotYds'].median()\n",
    "std_value = bears_data['Def TotYds'].std()\n",
    "var_value = bears_data['Def TotYds'].var()\n",
    "min_value = bears_data['Def TotYds'].min()\n",
    "max_value = bears_data['Def TotYds'].max()\n",
    "data_range = max_value - min_value\n",
    "total_points = bears_data['Def TotYds'].sum()\n",
    "print(\"Chicago Bears Defense Total Yards Mean:\", mean_value)\n",
    "print(\"Chicago Bears Defense Total Yards Median:\", median_value)\n",
    "print(\"Chicago Bears Defense Total Yards Standard Deviation:\", std_value)\n",
    "print(\"Chicago Bears Defense Total Yards Variance:\", var_value)\n",
    "print(\"Chicago Bears Defense Total Yards Minimum:\", min_value)\n",
    "print(\"Chicago Bears Defense Total Yards Maximum:\", max_value)\n",
    "print(\"Chicago Bears Defense Total Yards Range:\", data_range)\n",
    "print(\"Chicago Bears Total Yards 2012-2022:\", total_points)"
   ]
  },
  {
   "cell_type": "markdown",
   "id": "c44407e7",
   "metadata": {},
   "source": [
    "### Cincinnati Bengals"
   ]
  },
  {
   "cell_type": "code",
   "execution_count": 13,
   "id": "248b9120",
   "metadata": {},
   "outputs": [
    {
     "name": "stdout",
     "output_type": "stream",
     "text": [
      "Cincinnati Bengals Defense Total Yards Mean: 5701.909090909091\n",
      "Cincinnati Bengals Defense Total Yards Median: 5612.0\n",
      "Cincinnati Bengals Defense Total Yards Standard Deviation: 529.6696054231269\n",
      "Cincinnati Bengals Defense Total Yards Variance: 280549.89090909093\n",
      "Cincinnati Bengals Defense Total Yards Minimum: 4888\n",
      "Cincinnati Bengals Defense Total Yards Maximum: 6618\n",
      "Cincinnati Bengals Defense Total Yards Range: 1730\n",
      "Cincinnati Bengals Total Yards 2012-2022: 62721\n"
     ]
    }
   ],
   "source": [
    "team_name7 = 'Cincinnati Bengals'\n",
    "bengals_data = nfl_tot_Dyards[nfl_tot_Dyards['Team'] == team_name7]\n",
    "mean_value = bengals_data['Def TotYds'].mean()\n",
    "median_value = bengals_data['Def TotYds'].median()\n",
    "std_value = bengals_data['Def TotYds'].std()\n",
    "var_value = bengals_data['Def TotYds'].var()\n",
    "min_value = bengals_data['Def TotYds'].min()\n",
    "max_value = bengals_data['Def TotYds'].max()\n",
    "data_range = max_value - min_value\n",
    "total_points = bengals_data['Def TotYds'].sum()\n",
    "print(\"Cincinnati Bengals Defense Total Yards Mean:\", mean_value)\n",
    "print(\"Cincinnati Bengals Defense Total Yards Median:\", median_value)\n",
    "print(\"Cincinnati Bengals Defense Total Yards Standard Deviation:\", std_value)\n",
    "print(\"Cincinnati Bengals Defense Total Yards Variance:\", var_value)\n",
    "print(\"Cincinnati Bengals Defense Total Yards Minimum:\", min_value)\n",
    "print(\"Cincinnati Bengals Defense Total Yards Maximum:\", max_value)\n",
    "print(\"Cincinnati Bengals Defense Total Yards Range:\", data_range)\n",
    "print(\"Cincinnati Bengals Total Yards 2012-2022:\", total_points)"
   ]
  },
  {
   "cell_type": "markdown",
   "id": "173eaf2f",
   "metadata": {},
   "source": [
    "### Cleveland Browns"
   ]
  },
  {
   "cell_type": "code",
   "execution_count": 14,
   "id": "e52f3585",
   "metadata": {},
   "outputs": [
    {
     "name": "stdout",
     "output_type": "stream",
     "text": [
      "Cleveland Browns Defense Total Yards Mean: 5757.090909090909\n",
      "Cleveland Browns Defense Total Yards Median: 5785.0\n",
      "Cleveland Browns Defense Total Yards Standard Deviation: 366.49678158080854\n",
      "Cleveland Browns Defense Total Yards Variance: 134319.8909090909\n",
      "Cleveland Browns Defense Total Yards Minimum: 5250\n",
      "Cleveland Browns Defense Total Yards Maximum: 6288\n",
      "Cleveland Browns Defense Total Yards Range: 1038\n",
      "Cleveland Browns Total Yards 2012-2022: 63328\n"
     ]
    }
   ],
   "source": [
    "team_name8 = 'Cleveland Browns'\n",
    "browns_data = nfl_tot_Dyards[nfl_tot_Dyards['Team'] == team_name8]\n",
    "mean_value = browns_data['Def TotYds'].mean()\n",
    "median_value = browns_data['Def TotYds'].median()\n",
    "std_value = browns_data['Def TotYds'].std()\n",
    "var_value = browns_data['Def TotYds'].var()\n",
    "min_value = browns_data['Def TotYds'].min()\n",
    "max_value = browns_data['Def TotYds'].max()\n",
    "data_range = max_value - min_value\n",
    "total_points = browns_data['Def TotYds'].sum()\n",
    "print(\"Cleveland Browns Defense Total Yards Mean:\", mean_value)\n",
    "print(\"Cleveland Browns Defense Total Yards Median:\", median_value)\n",
    "print(\"Cleveland Browns Defense Total Yards Standard Deviation:\", std_value)\n",
    "print(\"Cleveland Browns Defense Total Yards Variance:\", var_value)\n",
    "print(\"Cleveland Browns Defense Total Yards Minimum:\", min_value)\n",
    "print(\"Cleveland Browns Defense Total Yards Maximum:\", max_value)\n",
    "print(\"Cleveland Browns Defense Total Yards Range:\", data_range)\n",
    "print(\"Cleveland Browns Total Yards 2012-2022:\", total_points)"
   ]
  },
  {
   "cell_type": "markdown",
   "id": "57de92b0",
   "metadata": {},
   "source": [
    "### Dallas Cowboys"
   ]
  },
  {
   "cell_type": "code",
   "execution_count": 15,
   "id": "09b6c943",
   "metadata": {},
   "outputs": [
    {
     "name": "stdout",
     "output_type": "stream",
     "text": [
      "Dallas Cowboys Defense Total Yards Mean: 5675.818181818182\n",
      "Dallas Cowboys Defense Total Yards Median: 5613.0\n",
      "Dallas Cowboys Defense Total Yards Standard Deviation: 451.11014579187156\n",
      "Dallas Cowboys Defense Total Yards Variance: 203500.36363636362\n",
      "Dallas Cowboys Defense Total Yards Minimum: 5089\n",
      "Dallas Cowboys Defense Total Yards Maximum: 6645\n",
      "Dallas Cowboys Defense Total Yards Range: 1556\n",
      "Dallas Cowboys Total Yards 2012-2022: 62434\n"
     ]
    }
   ],
   "source": [
    "team_name9 = 'Dallas Cowboys'\n",
    "cowboys_data = nfl_tot_Dyards[nfl_tot_Dyards['Team'] == team_name9]\n",
    "mean_value = cowboys_data['Def TotYds'].mean()\n",
    "median_value = cowboys_data['Def TotYds'].median()\n",
    "std_value = cowboys_data['Def TotYds'].std()\n",
    "var_value = cowboys_data['Def TotYds'].var()\n",
    "min_value = cowboys_data['Def TotYds'].min()\n",
    "max_value = cowboys_data['Def TotYds'].max()\n",
    "data_range = max_value - min_value\n",
    "total_points = cowboys_data['Def TotYds'].sum()\n",
    "print(\"Dallas Cowboys Defense Total Yards Mean:\", mean_value)\n",
    "print(\"Dallas Cowboys Defense Total Yards Median:\", median_value)\n",
    "print(\"Dallas Cowboys Defense Total Yards Standard Deviation:\", std_value)\n",
    "print(\"Dallas Cowboys Defense Total Yards Variance:\", var_value)\n",
    "print(\"Dallas Cowboys Defense Total Yards Minimum:\", min_value)\n",
    "print(\"Dallas Cowboys Defense Total Yards Maximum:\", max_value)\n",
    "print(\"Dallas Cowboys Defense Total Yards Range:\", data_range)\n",
    "print(\"Dallas Cowboys Total Yards 2012-2022:\", total_points)"
   ]
  },
  {
   "cell_type": "markdown",
   "id": "ed7577b1",
   "metadata": {},
   "source": [
    "### Denver Broncos"
   ]
  },
  {
   "cell_type": "code",
   "execution_count": 16,
   "id": "5792268c",
   "metadata": {},
   "outputs": [
    {
     "name": "stdout",
     "output_type": "stream",
     "text": [
      "Denver Broncos Defense Total Yards Mean: 5233.0\n",
      "Denver Broncos Defense Total Yards Median: 5392.0\n",
      "Denver Broncos Defense Total Yards Standard Deviation: 501.4690419158495\n",
      "Denver Broncos Defense Total Yards Variance: 251471.2\n",
      "Denver Broncos Defense Total Yards Minimum: 4530\n",
      "Denver Broncos Defense Total Yards Maximum: 5887\n",
      "Denver Broncos Defense Total Yards Range: 1357\n",
      "Denver Broncos Total Yards 2012-2022: 57563\n"
     ]
    }
   ],
   "source": [
    "team_name10 = 'Denver Broncos'\n",
    "broncos_data = nfl_tot_Dyards[nfl_tot_Dyards['Team'] == team_name10]\n",
    "mean_value = broncos_data['Def TotYds'].mean()\n",
    "median_value = broncos_data['Def TotYds'].median()\n",
    "std_value = broncos_data['Def TotYds'].std()\n",
    "var_value = broncos_data['Def TotYds'].var()\n",
    "min_value = broncos_data['Def TotYds'].min()\n",
    "max_value = broncos_data['Def TotYds'].max()\n",
    "data_range = max_value - min_value\n",
    "total_points = broncos_data['Def TotYds'].sum()\n",
    "print(\"Denver Broncos Defense Total Yards Mean:\", mean_value)\n",
    "print(\"Denver Broncos Defense Total Yards Median:\", median_value)\n",
    "print(\"Denver Broncos Defense Total Yards Standard Deviation:\", std_value)\n",
    "print(\"Denver Broncos Defense Total Yards Variance:\", var_value)\n",
    "print(\"Denver Broncos Defense Total Yards Minimum:\", min_value)\n",
    "print(\"Denver Broncos Defense Total Yards Maximum:\", max_value)\n",
    "print(\"Denver Broncos Defense Total Yards Range:\", data_range)\n",
    "print(\"Denver Broncos Total Yards 2012-2022:\", total_points)"
   ]
  },
  {
   "cell_type": "markdown",
   "id": "ac9a35d8",
   "metadata": {},
   "source": [
    "### Detroit Lions"
   ]
  },
  {
   "cell_type": "code",
   "execution_count": 17,
   "id": "95546a0e",
   "metadata": {},
   "outputs": [
    {
     "name": "stdout",
     "output_type": "stream",
     "text": [
      "Detroit Lions Defense Total Yards Mean: 5853.545454545455\n",
      "Detroit Lions Defense Total Yards Median: 5676.0\n",
      "Detroit Lions Defense Total Yards Standard Deviation: 614.5543692199029\n",
      "Detroit Lions Defense Total Yards Variance: 377677.07272727275\n",
      "Detroit Lions Defense Total Yards Minimum: 4815\n",
      "Detroit Lions Defense Total Yards Maximum: 6716\n",
      "Detroit Lions Defense Total Yards Range: 1901\n",
      "Detroit Lions Total Yards 2012-2022: 64389\n"
     ]
    }
   ],
   "source": [
    "team_name11 = 'Detroit Lions'\n",
    "lions_data = nfl_tot_Dyards[nfl_tot_Dyards['Team'] == team_name11]\n",
    "mean_value = lions_data['Def TotYds'].mean()\n",
    "median_value = lions_data['Def TotYds'].median()\n",
    "std_value = lions_data['Def TotYds'].std()\n",
    "var_value = lions_data['Def TotYds'].var()\n",
    "min_value = lions_data['Def TotYds'].min()\n",
    "max_value = lions_data['Def TotYds'].max()\n",
    "data_range = max_value - min_value\n",
    "total_points = lions_data['Def TotYds'].sum()\n",
    "print(\"Detroit Lions Defense Total Yards Mean:\", mean_value)\n",
    "print(\"Detroit Lions Defense Total Yards Median:\", median_value)\n",
    "print(\"Detroit Lions Defense Total Yards Standard Deviation:\", std_value)\n",
    "print(\"Detroit Lions Defense Total Yards Variance:\", var_value)\n",
    "print(\"Detroit Lions Defense Total Yards Minimum:\", min_value)\n",
    "print(\"Detroit Lions Defense Total Yards Maximum:\", max_value)\n",
    "print(\"Detroit Lions Defense Total Yards Range:\", data_range)\n",
    "print(\"Detroit Lions Total Yards 2012-2022:\", total_points)"
   ]
  },
  {
   "cell_type": "markdown",
   "id": "c086e216",
   "metadata": {},
   "source": [
    "### Green Bay Packers"
   ]
  },
  {
   "cell_type": "code",
   "execution_count": 18,
   "id": "10cc7e0f",
   "metadata": {},
   "outputs": [
    {
     "name": "stdout",
     "output_type": "stream",
     "text": [
      "Green Bay Packers Defense Total Yards Mean: 5617.636363636364\n",
      "Green Bay Packers Defense Total Yards Median: 5582.0\n",
      "Green Bay Packers Defense Total Yards Standard Deviation: 176.56912115501552\n",
      "Green Bay Packers Defense Total Yards Variance: 31176.65454545455\n",
      "Green Bay Packers Defense Total Yards Minimum: 5344\n",
      "Green Bay Packers Defense Total Yards Maximum: 5956\n",
      "Green Bay Packers Defense Total Yards Range: 612\n",
      "Green Bay Packers Total Yards 2012-2022: 61794\n"
     ]
    }
   ],
   "source": [
    "team_name12 = 'Green Bay Packers'\n",
    "packers_data = nfl_tot_Dyards[nfl_tot_Dyards['Team'] == team_name12]\n",
    "mean_value = packers_data['Def TotYds'].mean()\n",
    "median_value = packers_data['Def TotYds'].median()\n",
    "std_value = packers_data['Def TotYds'].std()\n",
    "var_value = packers_data['Def TotYds'].var()\n",
    "min_value = packers_data['Def TotYds'].min()\n",
    "max_value = packers_data['Def TotYds'].max()\n",
    "data_range = max_value - min_value\n",
    "total_points = packers_data['Def TotYds'].sum()\n",
    "print(\"Green Bay Packers Defense Total Yards Mean:\", mean_value)\n",
    "print(\"Green Bay Packers Defense Total Yards Median:\", median_value)\n",
    "print(\"Green Bay Packers Defense Total Yards Standard Deviation:\", std_value)\n",
    "print(\"Green Bay Packers Defense Total Yards Variance:\", var_value)\n",
    "print(\"Green Bay Packers Defense Total Yards Minimum:\", min_value)\n",
    "print(\"Green Bay Packers Defense Total Yards Maximum:\", max_value)\n",
    "print(\"Green Bay Packers Defense Total Yards Range:\", data_range)\n",
    "print(\"Green Bay Packers Total Yards 2012-2022:\", total_points)"
   ]
  },
  {
   "cell_type": "markdown",
   "id": "8d26c50c",
   "metadata": {},
   "source": [
    "### Houston Texans"
   ]
  },
  {
   "cell_type": "code",
   "execution_count": 19,
   "id": "495d2c07",
   "metadata": {},
   "outputs": [
    {
     "name": "stdout",
     "output_type": "stream",
     "text": [
      "Houston Texans Defense Total Yards Mean: 5682.909090909091\n",
      "Houston Texans Defense Total Yards Median: 5546.0\n",
      "Houston Texans Defense Total Yards Standard Deviation: 672.4522963817514\n",
      "Houston Texans Defense Total Yards Variance: 452192.0909090908\n",
      "Houston Texans Defense Total Yards Minimum: 4821\n",
      "Houston Texans Defense Total Yards Maximum: 6668\n",
      "Houston Texans Defense Total Yards Range: 1847\n",
      "Houston Texans Total Yards 2012-2022: 62512\n"
     ]
    }
   ],
   "source": [
    "team_name13 = 'Houston Texans'\n",
    "texans_data = nfl_tot_Dyards[nfl_tot_Dyards['Team'] == team_name13]\n",
    "mean_value = texans_data['Def TotYds'].mean()\n",
    "median_value = texans_data['Def TotYds'].median()\n",
    "std_value = texans_data['Def TotYds'].std()\n",
    "var_value = texans_data['Def TotYds'].var()\n",
    "min_value = texans_data['Def TotYds'].min()\n",
    "max_value = texans_data['Def TotYds'].max()\n",
    "data_range = max_value - min_value\n",
    "total_points = texans_data['Def TotYds'].sum()\n",
    "print(\"Houston Texans Defense Total Yards Mean:\", mean_value)\n",
    "print(\"Houston Texans Defense Total Yards Median:\", median_value)\n",
    "print(\"Houston Texans Defense Total Yards Standard Deviation:\", std_value)\n",
    "print(\"Houston Texans Defense Total Yards Variance:\", var_value)\n",
    "print(\"Houston Texans Defense Total Yards Minimum:\", min_value)\n",
    "print(\"Houston Texans Defense Total Yards Maximum:\", max_value)\n",
    "print(\"Houston Texans Defense Total Yards Range:\", data_range)\n",
    "print(\"Houston Texans Total Yards 2012-2022:\", total_points)"
   ]
  },
  {
   "cell_type": "markdown",
   "id": "b74d8fd8",
   "metadata": {},
   "source": [
    "### Indianapolis Colts"
   ]
  },
  {
   "cell_type": "code",
   "execution_count": 20,
   "id": "fbb59088",
   "metadata": {},
   "outputs": [
    {
     "name": "stdout",
     "output_type": "stream",
     "text": [
      "Indianapolis Colts Defense Total Yards Mean: 5732.272727272727\n",
      "Indianapolis Colts Defense Total Yards Median: 5713.0\n",
      "Indianapolis Colts Defense Total Yards Standard Deviation: 269.5745132274529\n",
      "Indianapolis Colts Defense Total Yards Variance: 72670.41818181818\n",
      "Indianapolis Colts Defense Total Yards Minimum: 5314\n",
      "Indianapolis Colts Defense Total Yards Maximum: 6126\n",
      "Indianapolis Colts Defense Total Yards Range: 812\n",
      "Indianapolis Colts Total Yards 2012-2022: 63055\n"
     ]
    }
   ],
   "source": [
    "team_name14 = 'Indianapolis Colts'\n",
    "colts_data = nfl_tot_Dyards[nfl_tot_Dyards['Team'] == team_name14]\n",
    "mean_value = colts_data['Def TotYds'].mean()\n",
    "median_value = colts_data['Def TotYds'].median()\n",
    "std_value = colts_data['Def TotYds'].std()\n",
    "var_value = colts_data['Def TotYds'].var()\n",
    "min_value = colts_data['Def TotYds'].min()\n",
    "max_value = colts_data['Def TotYds'].max()\n",
    "data_range = max_value - min_value\n",
    "total_points = colts_data['Def TotYds'].sum()\n",
    "print(\"Indianapolis Colts Defense Total Yards Mean:\", mean_value)\n",
    "print(\"Indianapolis Colts Defense Total Yards Median:\", median_value)\n",
    "print(\"Indianapolis Colts Defense Total Yards Standard Deviation:\", std_value)\n",
    "print(\"Indianapolis Colts Defense Total Yards Variance:\", var_value)\n",
    "print(\"Indianapolis Colts Defense Total Yards Minimum:\", min_value)\n",
    "print(\"Indianapolis Colts Defense Total Yards Maximum:\", max_value)\n",
    "print(\"Indianapolis Colts Defense Total Yards Range:\", data_range)\n",
    "print(\"Indianapolis Colts Total Yards 2012-2022:\", total_points)"
   ]
  },
  {
   "cell_type": "markdown",
   "id": "e8c6e962",
   "metadata": {},
   "source": [
    "### Jacksonville Jaguars"
   ]
  },
  {
   "cell_type": "code",
   "execution_count": 21,
   "id": "a1e5e5d6",
   "metadata": {},
   "outputs": [
    {
     "name": "stdout",
     "output_type": "stream",
     "text": [
      "Jacksonville Jaguars Defense Total Yards Mean: 5772.363636363636\n",
      "Jacksonville Jaguars Defense Total Yards Median: 6002.0\n",
      "Jacksonville Jaguars Defense Total Yards Standard Deviation: 608.0975699223395\n",
      "Jacksonville Jaguars Defense Total Yards Variance: 369782.6545454546\n",
      "Jacksonville Jaguars Defense Total Yards Minimum: 4578\n",
      "Jacksonville Jaguars Defense Total Yards Maximum: 6683\n",
      "Jacksonville Jaguars Defense Total Yards Range: 2105\n",
      "Jacksonville Jaguars Total Yards 2012-2022: 63496\n"
     ]
    }
   ],
   "source": [
    "team_name15 = 'Jacksonville Jaguars'\n",
    "jaguars_data = nfl_tot_Dyards[nfl_tot_Dyards['Team'] == team_name15]\n",
    "mean_value = jaguars_data['Def TotYds'].mean()\n",
    "median_value = jaguars_data['Def TotYds'].median()\n",
    "std_value = jaguars_data['Def TotYds'].std()\n",
    "var_value = jaguars_data['Def TotYds'].var()\n",
    "min_value = jaguars_data['Def TotYds'].min()\n",
    "max_value = jaguars_data['Def TotYds'].max()\n",
    "data_range = max_value - min_value\n",
    "total_points = jaguars_data['Def TotYds'].sum()\n",
    "print(\"Jacksonville Jaguars Defense Total Yards Mean:\", mean_value)\n",
    "print(\"Jacksonville Jaguars Defense Total Yards Median:\", median_value)\n",
    "print(\"Jacksonville Jaguars Defense Total Yards Standard Deviation:\", std_value)\n",
    "print(\"Jacksonville Jaguars Defense Total Yards Variance:\", var_value)\n",
    "print(\"Jacksonville Jaguars Defense Total Yards Minimum:\", min_value)\n",
    "print(\"Jacksonville Jaguars Defense Total Yards Maximum:\", max_value)\n",
    "print(\"Jacksonville Jaguars Defense Total Yards Range:\", data_range)\n",
    "print(\"Jacksonville Jaguars Total Yards 2012-2022:\", total_points)"
   ]
  },
  {
   "cell_type": "markdown",
   "id": "7411a9f5",
   "metadata": {},
   "source": [
    "### Kansas City Chiefs"
   ]
  },
  {
   "cell_type": "code",
   "execution_count": 22,
   "id": "40a3c0eb",
   "metadata": {},
   "outputs": [
    {
     "name": "stdout",
     "output_type": "stream",
     "text": [
      "Kansas City Chiefs Defense Total Yards Mean: 5777.272727272727\n",
      "Kansas City Chiefs Defense Total Yards Median: 5733.0\n",
      "Kansas City Chiefs Defense Total Yards Standard Deviation: 368.47498990001776\n",
      "Kansas City Chiefs Defense Total Yards Variance: 135773.81818181818\n",
      "Kansas City Chiefs Defense Total Yards Minimum: 5269\n",
      "Kansas City Chiefs Defense Total Yards Maximum: 6488\n",
      "Kansas City Chiefs Defense Total Yards Range: 1219\n",
      "Kansas City Chiefs Total Yards 2012-2022: 63550\n"
     ]
    }
   ],
   "source": [
    "team_name16 = 'Kansas City Chiefs'\n",
    "chiefs_data = nfl_tot_Dyards[nfl_tot_Dyards['Team'] == team_name16]\n",
    "mean_value = chiefs_data['Def TotYds'].mean()\n",
    "median_value = chiefs_data['Def TotYds'].median()\n",
    "std_value = chiefs_data['Def TotYds'].std()\n",
    "var_value = chiefs_data['Def TotYds'].var()\n",
    "min_value = chiefs_data['Def TotYds'].min()\n",
    "max_value = chiefs_data['Def TotYds'].max()\n",
    "data_range = max_value - min_value\n",
    "total_points = chiefs_data['Def TotYds'].sum()\n",
    "print(\"Kansas City Chiefs Defense Total Yards Mean:\", mean_value)\n",
    "print(\"Kansas City Chiefs Defense Total Yards Median:\", median_value)\n",
    "print(\"Kansas City Chiefs Defense Total Yards Standard Deviation:\", std_value)\n",
    "print(\"Kansas City Chiefs Defense Total Yards Variance:\", var_value)\n",
    "print(\"Kansas City Chiefs Defense Total Yards Minimum:\", min_value)\n",
    "print(\"Kansas City Chiefs Defense Total Yards Maximum:\", max_value)\n",
    "print(\"Kansas City Chiefs Defense Total Yards Range:\", data_range)\n",
    "print(\"Kansas City Chiefs Total Yards 2012-2022:\", total_points)"
   ]
  },
  {
   "cell_type": "markdown",
   "id": "57e2b288",
   "metadata": {},
   "source": [
    "### Las Vegas Raiders"
   ]
  },
  {
   "cell_type": "code",
   "execution_count": 23,
   "id": "660b9495",
   "metadata": {},
   "outputs": [
    {
     "name": "stdout",
     "output_type": "stream",
     "text": [
      "Las Vegas Raiders Defense Total Yards Mean: 5871.272727272727\n",
      "Las Vegas Raiders Defense Total Yards Median: 5818.0\n",
      "Las Vegas Raiders Defense Total Yards Standard Deviation: 226.2901194966722\n",
      "Las Vegas Raiders Defense Total Yards Variance: 51207.21818181818\n",
      "Las Vegas Raiders Defense Total Yards Minimum: 5601\n",
      "Las Vegas Raiders Defense Total Yards Maximum: 6225\n",
      "Las Vegas Raiders Defense Total Yards Range: 624\n",
      "Las Vegas Raiders Total Yards 2012-2022: 64584\n"
     ]
    }
   ],
   "source": [
    "team_name17 = 'Las Vegas Raiders'\n",
    "raiders_data = nfl_tot_Dyards[nfl_tot_Dyards['Team'] == team_name17]\n",
    "mean_value = raiders_data['Def TotYds'].mean()\n",
    "median_value = raiders_data['Def TotYds'].median()\n",
    "std_value = raiders_data['Def TotYds'].std()\n",
    "var_value = raiders_data['Def TotYds'].var()\n",
    "min_value = raiders_data['Def TotYds'].min()\n",
    "max_value = raiders_data['Def TotYds'].max()\n",
    "data_range = max_value - min_value\n",
    "total_points = raiders_data['Def TotYds'].sum()\n",
    "print(\"Las Vegas Raiders Defense Total Yards Mean:\", mean_value)\n",
    "print(\"Las Vegas Raiders Defense Total Yards Median:\", median_value)\n",
    "print(\"Las Vegas Raiders Defense Total Yards Standard Deviation:\", std_value)\n",
    "print(\"Las Vegas Raiders Defense Total Yards Variance:\", var_value)\n",
    "print(\"Las Vegas Raiders Defense Total Yards Minimum:\", min_value)\n",
    "print(\"Las Vegas Raiders Defense Total Yards Maximum:\", max_value)\n",
    "print(\"Las Vegas Raiders Defense Total Yards Range:\", data_range)\n",
    "print(\"Las Vegas Raiders Total Yards 2012-2022:\", total_points)"
   ]
  },
  {
   "cell_type": "markdown",
   "id": "d660b9ec",
   "metadata": {},
   "source": [
    "### Los Angeles Chargers"
   ]
  },
  {
   "cell_type": "code",
   "execution_count": 24,
   "id": "9542bf0f",
   "metadata": {},
   "outputs": [
    {
     "name": "stdout",
     "output_type": "stream",
     "text": [
      "Los Angeles Chargers Defense Total Yards Mean: 5540.727272727273\n",
      "Los Angeles Chargers Defense Total Yards Median: 5495.0\n",
      "Los Angeles Chargers Defense Total Yards Standard Deviation: 338.825645696748\n",
      "Los Angeles Chargers Defense Total Yards Variance: 114802.81818181819\n",
      "Los Angeles Chargers Defense Total Yards Minimum: 5009\n",
      "Los Angeles Chargers Defense Total Yards Maximum: 6122\n",
      "Los Angeles Chargers Defense Total Yards Range: 1113\n",
      "Los Angeles Chargers Total Yards 2012-2022: 60948\n"
     ]
    }
   ],
   "source": [
    "team_name18 = 'Los Angeles Chargers'\n",
    "chargers_data = nfl_tot_Dyards[nfl_tot_Dyards['Team'] == team_name18]\n",
    "mean_value = chargers_data['Def TotYds'].mean()\n",
    "median_value = chargers_data['Def TotYds'].median()\n",
    "std_value = chargers_data['Def TotYds'].std()\n",
    "var_value = chargers_data['Def TotYds'].var()\n",
    "min_value = chargers_data['Def TotYds'].min()\n",
    "max_value = chargers_data['Def TotYds'].max()\n",
    "data_range = max_value - min_value\n",
    "total_points = chargers_data['Def TotYds'].sum()\n",
    "print(\"Los Angeles Chargers Defense Total Yards Mean:\", mean_value)\n",
    "print(\"Los Angeles Chargers Defense Total Yards Median:\", median_value)\n",
    "print(\"Los Angeles Chargers Defense Total Yards Standard Deviation:\", std_value)\n",
    "print(\"Los Angeles Chargers Defense Total Yards Variance:\", var_value)\n",
    "print(\"Los Angeles Chargers Defense Total Yards Minimum:\", min_value)\n",
    "print(\"Los Angeles Chargers Defense Total Yards Maximum:\", max_value)\n",
    "print(\"Los Angeles Chargers Defense Total Yards Range:\", data_range)\n",
    "print(\"Los Angeles Chargers Total Yards 2012-2022:\", total_points)"
   ]
  },
  {
   "cell_type": "markdown",
   "id": "eec97d47",
   "metadata": {},
   "source": [
    "### Los Angeles Rams"
   ]
  },
  {
   "cell_type": "code",
   "execution_count": 25,
   "id": "52300d2a",
   "metadata": {},
   "outputs": [
    {
     "name": "stdout",
     "output_type": "stream",
     "text": [
      "Los Angeles Rams Defense Total Yards Mean: 5516.363636363636\n",
      "Los Angeles Rams Defense Total Yards Median: 5520.0\n",
      "Los Angeles Rams Defense Total Yards Standard Deviation: 379.12880996497023\n",
      "Los Angeles Rams Defense Total Yards Variance: 143738.6545454545\n",
      "Los Angeles Rams Defense Total Yards Minimum: 4511\n",
      "Los Angeles Rams Defense Total Yards Maximum: 5885\n",
      "Los Angeles Rams Defense Total Yards Range: 1374\n",
      "Los Angeles Rams Total Yards 2012-2022: 60680\n"
     ]
    }
   ],
   "source": [
    "team_name19 = 'Los Angeles Rams'\n",
    "Rams_data = nfl_tot_Dyards[nfl_tot_Dyards['Team'] == team_name19]\n",
    "mean_value = Rams_data['Def TotYds'].mean()\n",
    "median_value = Rams_data['Def TotYds'].median()\n",
    "std_value = Rams_data['Def TotYds'].std()\n",
    "var_value = Rams_data['Def TotYds'].var()\n",
    "min_value = Rams_data['Def TotYds'].min()\n",
    "max_value = Rams_data['Def TotYds'].max()\n",
    "data_range = max_value - min_value\n",
    "total_points = Rams_data['Def TotYds'].sum()\n",
    "print(\"Los Angeles Rams Defense Total Yards Mean:\", mean_value)\n",
    "print(\"Los Angeles Rams Defense Total Yards Median:\", median_value)\n",
    "print(\"Los Angeles Rams Defense Total Yards Standard Deviation:\", std_value)\n",
    "print(\"Los Angeles Rams Defense Total Yards Variance:\", var_value)\n",
    "print(\"Los Angeles Rams Defense Total Yards Minimum:\", min_value)\n",
    "print(\"Los Angeles Rams Defense Total Yards Maximum:\", max_value)\n",
    "print(\"Los Angeles Rams Defense Total Yards Range:\", data_range)\n",
    "print(\"Los Angeles Rams Total Yards 2012-2022:\", total_points)"
   ]
  },
  {
   "cell_type": "markdown",
   "id": "07002bc4",
   "metadata": {},
   "source": [
    "### Miami Dolphins"
   ]
  },
  {
   "cell_type": "code",
   "execution_count": 26,
   "id": "fdb4368a",
   "metadata": {},
   "outputs": [
    {
     "name": "stdout",
     "output_type": "stream",
     "text": [
      "Miami Dolphins Defense Total Yards Mean: 5859.272727272727\n",
      "Miami Dolphins Defense Total Yards Median: 5750.0\n",
      "Miami Dolphins Defense Total Yards Standard Deviation: 307.09512887999085\n",
      "Miami Dolphins Defense Total Yards Variance: 94307.41818181818\n",
      "Miami Dolphins Defense Total Yards Minimum: 5371\n",
      "Miami Dolphins Defense Total Yards Maximum: 6364\n",
      "Miami Dolphins Defense Total Yards Range: 993\n",
      "Miami Dolphins Total Yards 2012-2022: 64452\n"
     ]
    }
   ],
   "source": [
    "team_name20 = 'Miami Dolphins'\n",
    "dolphins_data = nfl_tot_Dyards[nfl_tot_Dyards['Team'] == team_name20]\n",
    "mean_value = dolphins_data['Def TotYds'].mean()\n",
    "median_value = dolphins_data['Def TotYds'].median()\n",
    "std_value = dolphins_data['Def TotYds'].std()\n",
    "var_value = dolphins_data['Def TotYds'].var()\n",
    "min_value = dolphins_data['Def TotYds'].min()\n",
    "max_value = dolphins_data['Def TotYds'].max()\n",
    "data_range = max_value - min_value\n",
    "total_points = dolphins_data['Def TotYds'].sum()\n",
    "print(\"Miami Dolphins Defense Total Yards Mean:\", mean_value)\n",
    "print(\"Miami Dolphins Defense Total Yards Median:\", median_value)\n",
    "print(\"Miami Dolphins Defense Total Yards Standard Deviation:\", std_value)\n",
    "print(\"Miami Dolphins Defense Total Yards Variance:\", var_value)\n",
    "print(\"Miami Dolphins Defense Total Yards Minimum:\", min_value)\n",
    "print(\"Miami Dolphins Defense Total Yards Maximum:\", max_value)\n",
    "print(\"Miami Dolphins Defense Total Yards Range:\", data_range)\n",
    "print(\"Miami Dolphins Total Yards 2012-2022:\", total_points)"
   ]
  },
  {
   "cell_type": "markdown",
   "id": "c06d30e1",
   "metadata": {},
   "source": [
    "### Minnesota Vikings"
   ]
  },
  {
   "cell_type": "code",
   "execution_count": 27,
   "id": "79714a76",
   "metadata": {},
   "outputs": [
    {
     "name": "stdout",
     "output_type": "stream",
     "text": [
      "Minnesota Vikings Defense Total Yards Mean: 5661.727272727273\n",
      "Minnesota Vikings Defense Total Yards Median: 5515.0\n",
      "Minnesota Vikings Defense Total Yards Standard Deviation: 710.9104150185298\n",
      "Minnesota Vikings Defense Total Yards Variance: 505393.61818181816\n",
      "Minnesota Vikings Defense Total Yards Minimum: 4415\n",
      "Minnesota Vikings Defense Total Yards Maximum: 6608\n",
      "Minnesota Vikings Defense Total Yards Range: 2193\n",
      "Minnesota Vikings Total Yards 2012-2022: 62279\n"
     ]
    }
   ],
   "source": [
    "team_name21 = 'Minnesota Vikings'\n",
    "vikings_data = nfl_tot_Dyards[nfl_tot_Dyards['Team'] == team_name21]\n",
    "mean_value = vikings_data['Def TotYds'].mean()\n",
    "median_value = vikings_data['Def TotYds'].median()\n",
    "std_value = vikings_data['Def TotYds'].std()\n",
    "var_value = vikings_data['Def TotYds'].var()\n",
    "min_value = vikings_data['Def TotYds'].min()\n",
    "max_value = vikings_data['Def TotYds'].max()\n",
    "data_range = max_value - min_value\n",
    "total_points = vikings_data['Def TotYds'].sum()\n",
    "print(\"Minnesota Vikings Defense Total Yards Mean:\", mean_value)\n",
    "print(\"Minnesota Vikings Defense Total Yards Median:\", median_value)\n",
    "print(\"Minnesota Vikings Defense Total Yards Standard Deviation:\", std_value)\n",
    "print(\"Minnesota Vikings Defense Total Yards Variance:\", var_value)\n",
    "print(\"Minnesota Vikings Defense Total Yards Minimum:\", min_value)\n",
    "print(\"Minnesota Vikings Defense Total Yards Maximum:\", max_value)\n",
    "print(\"Minnesota Vikings Defense Total Yards Range:\", data_range)\n",
    "print(\"Minnesota Vikings Total Yards 2012-2022:\", total_points)"
   ]
  },
  {
   "cell_type": "markdown",
   "id": "34a38cc7",
   "metadata": {},
   "source": [
    "### New England Patriots"
   ]
  },
  {
   "cell_type": "code",
   "execution_count": 28,
   "id": "cf1f9bb3",
   "metadata": {},
   "outputs": [
    {
     "name": "stdout",
     "output_type": "stream",
     "text": [
      "New England Patriots Defense Total Yards Mean: 5503.181818181818\n",
      "New England Patriots Defense Total Yards Median: 5506.0\n",
      "New England Patriots Defense Total Yards Standard Deviation: 443.14102003353696\n",
      "New England Patriots Defense Total Yards Variance: 196373.96363636362\n",
      "New England Patriots Defense Total Yards Minimum: 4414\n",
      "New England Patriots Defense Total Yards Maximum: 5972\n",
      "New England Patriots Defense Total Yards Range: 1558\n",
      "New England Patriots Total Yards 2012-2022: 60535\n"
     ]
    }
   ],
   "source": [
    "team_name22 = 'New England Patriots'\n",
    "patriots_data = nfl_tot_Dyards[nfl_tot_Dyards['Team'] == team_name22]\n",
    "mean_value = patriots_data['Def TotYds'].mean()\n",
    "median_value = patriots_data['Def TotYds'].median()\n",
    "std_value = patriots_data['Def TotYds'].std()\n",
    "var_value = patriots_data['Def TotYds'].var()\n",
    "min_value = patriots_data['Def TotYds'].min()\n",
    "max_value = patriots_data['Def TotYds'].max()\n",
    "data_range = max_value - min_value\n",
    "total_points = patriots_data['Def TotYds'].sum()\n",
    "print(\"New England Patriots Defense Total Yards Mean:\", mean_value)\n",
    "print(\"New England Patriots Defense Total Yards Median:\", median_value)\n",
    "print(\"New England Patriots Defense Total Yards Standard Deviation:\", std_value)\n",
    "print(\"New England Patriots Defense Total Yards Variance:\", var_value)\n",
    "print(\"New England Patriots Defense Total Yards Minimum:\", min_value)\n",
    "print(\"New England Patriots Defense Total Yards Maximum:\", max_value)\n",
    "print(\"New England Patriots Defense Total Yards Range:\", data_range)\n",
    "print(\"New England Patriots Total Yards 2012-2022:\", total_points)"
   ]
  },
  {
   "cell_type": "markdown",
   "id": "7baeda4c",
   "metadata": {},
   "source": [
    "### New Orleans Saints"
   ]
  },
  {
   "cell_type": "code",
   "execution_count": 29,
   "id": "bf2b0c3c",
   "metadata": {},
   "outputs": [
    {
     "name": "stdout",
     "output_type": "stream",
     "text": [
      "New Orleans Saints Defense Total Yards Mean: 5714.7\n",
      "New Orleans Saints Defense Total Yards Median: 5397.0\n",
      "New Orleans Saints Defense Total Yards Standard Deviation: 711.1069696059956\n",
      "New Orleans Saints Defense Total Yards Variance: 505673.1222222223\n",
      "New Orleans Saints Defense Total Yards Minimum: 4891\n",
      "New Orleans Saints Defense Total Yards Maximum: 7042\n",
      "New Orleans Saints Defense Total Yards Range: 2151\n",
      "New Orleans Saints Total Yards 2012-2022: 57147\n"
     ]
    }
   ],
   "source": [
    "team_name23 = 'New Orleans Saints'\n",
    "saints_data = nfl_tot_Dyards[nfl_tot_Dyards['Team'] == team_name23]\n",
    "mean_value = saints_data['Def TotYds'].mean()\n",
    "median_value = saints_data['Def TotYds'].median()\n",
    "std_value = saints_data['Def TotYds'].std()\n",
    "var_value = saints_data['Def TotYds'].var()\n",
    "min_value = saints_data['Def TotYds'].min()\n",
    "max_value = saints_data['Def TotYds'].max()\n",
    "data_range = max_value - min_value\n",
    "total_points = saints_data['Def TotYds'].sum()\n",
    "print(\"New Orleans Saints Defense Total Yards Mean:\", mean_value)\n",
    "print(\"New Orleans Saints Defense Total Yards Median:\", median_value)\n",
    "print(\"New Orleans Saints Defense Total Yards Standard Deviation:\", std_value)\n",
    "print(\"New Orleans Saints Defense Total Yards Variance:\", var_value)\n",
    "print(\"New Orleans Saints Defense Total Yards Minimum:\", min_value)\n",
    "print(\"New Orleans Saints Defense Total Yards Maximum:\", max_value)\n",
    "print(\"New Orleans Saints Defense Total Yards Range:\", data_range)\n",
    "print(\"New Orleans Saints Total Yards 2012-2022:\", total_points)"
   ]
  },
  {
   "cell_type": "markdown",
   "id": "11987db6",
   "metadata": {},
   "source": [
    "### New York Giants"
   ]
  },
  {
   "cell_type": "code",
   "execution_count": 30,
   "id": "6cc4fd77",
   "metadata": {},
   "outputs": [
    {
     "name": "stdout",
     "output_type": "stream",
     "text": [
      "New York Giants Defense Total Yards Mean: 5934.727272727273\n",
      "New York Giants Defense Total Yards Median: 6012.0\n",
      "New York Giants Defense Total Yards Standard Deviation: 383.0639870593661\n",
      "New York Giants Defense Total Yards Variance: 146738.01818181822\n",
      "New York Giants Defense Total Yards Minimum: 5316\n",
      "New York Giants Defense Total Yards Maximum: 6725\n",
      "New York Giants Defense Total Yards Range: 1409\n",
      "New York Giants Total Yards 2012-2022: 65282\n"
     ]
    }
   ],
   "source": [
    "team_name24 = 'New York Giants'\n",
    "giants_data = nfl_tot_Dyards[nfl_tot_Dyards['Team'] == team_name24]\n",
    "mean_value = giants_data['Def TotYds'].mean()\n",
    "median_value = giants_data['Def TotYds'].median()\n",
    "std_value = giants_data['Def TotYds'].std()\n",
    "var_value = giants_data['Def TotYds'].var()\n",
    "min_value = giants_data['Def TotYds'].min()\n",
    "max_value = giants_data['Def TotYds'].max()\n",
    "data_range = max_value - min_value\n",
    "total_points = giants_data['Def TotYds'].sum()\n",
    "print(\"New York Giants Defense Total Yards Mean:\", mean_value)\n",
    "print(\"New York Giants Defense Total Yards Median:\", median_value)\n",
    "print(\"New York Giants Defense Total Yards Standard Deviation:\", std_value)\n",
    "print(\"New York Giants Defense Total Yards Variance:\", var_value)\n",
    "print(\"New York Giants Defense Total Yards Minimum:\", min_value)\n",
    "print(\"New York Giants Defense Total Yards Maximum:\", max_value)\n",
    "print(\"New York Giants Defense Total Yards Range:\", data_range)\n",
    "print(\"New York Giants Total Yards 2012-2022:\", total_points)"
   ]
  },
  {
   "cell_type": "markdown",
   "id": "e1511664",
   "metadata": {},
   "source": [
    "### New York Jets"
   ]
  },
  {
   "cell_type": "code",
   "execution_count": 31,
   "id": "ad484990",
   "metadata": {},
   "outputs": [
    {
     "name": "stdout",
     "output_type": "stream",
     "text": [
      "New York Jets Defense Total Yards Mean: 5589.636363636364\n",
      "New York Jets Defense Total Yards Median: 5359.0\n",
      "New York Jets Defense Total Yards Standard Deviation: 535.2366341586257\n",
      "New York Jets Defense Total Yards Variance: 286478.2545454545\n",
      "New York Jets Defense Total Yards Minimum: 5098\n",
      "New York Jets Defense Total Yards Maximum: 6760\n",
      "New York Jets Defense Total Yards Range: 1662\n",
      "New York Jets Total Yards 2012-2022: 61486\n"
     ]
    }
   ],
   "source": [
    "team_name25 = 'New York Jets'\n",
    "Jets_data = nfl_tot_Dyards[nfl_tot_Dyards['Team'] == team_name25]\n",
    "mean_value = Jets_data['Def TotYds'].mean()\n",
    "median_value = Jets_data['Def TotYds'].median()\n",
    "std_value = Jets_data['Def TotYds'].std()\n",
    "var_value = Jets_data['Def TotYds'].var()\n",
    "min_value = Jets_data['Def TotYds'].min()\n",
    "max_value = Jets_data['Def TotYds'].max()\n",
    "data_range = max_value - min_value\n",
    "total_points = Jets_data['Def TotYds'].sum()\n",
    "print(\"New York Jets Defense Total Yards Mean:\", mean_value)\n",
    "print(\"New York Jets Defense Total Yards Median:\", median_value)\n",
    "print(\"New York Jets Defense Total Yards Standard Deviation:\", std_value)\n",
    "print(\"New York Jets Defense Total Yards Variance:\", var_value)\n",
    "print(\"New York Jets Defense Total Yards Minimum:\", min_value)\n",
    "print(\"New York Jets Defense Total Yards Maximum:\", max_value)\n",
    "print(\"New York Jets Defense Total Yards Range:\", data_range)\n",
    "print(\"New York Jets Total Yards 2012-2022:\", total_points)"
   ]
  },
  {
   "cell_type": "markdown",
   "id": "060cb418",
   "metadata": {},
   "source": [
    "### Philadelphia Eagles"
   ]
  },
  {
   "cell_type": "code",
   "execution_count": 32,
   "id": "6699aa1f",
   "metadata": {},
   "outputs": [
    {
     "name": "stdout",
     "output_type": "stream",
     "text": [
      "Philadelphia Eagles Defense Total Yards Mean: 5664.454545454545\n",
      "Philadelphia Eagles Defense Total Yards Median: 5590.0\n",
      "Philadelphia Eagles Defense Total Yards Standard Deviation: 472.438644405041\n",
      "Philadelphia Eagles Defense Total Yards Variance: 223198.27272727276\n",
      "Philadelphia Eagles Defense Total Yards Minimum: 4904\n",
      "Philadelphia Eagles Defense Total Yards Maximum: 6426\n",
      "Philadelphia Eagles Defense Total Yards Range: 1522\n",
      "Philadelphia Eagles Total Yards 2012-2022: 62309\n"
     ]
    }
   ],
   "source": [
    "team_name26 = 'Philadelphia Eagles'\n",
    "eagles_data = nfl_tot_Dyards[nfl_tot_Dyards['Team'] == team_name26]\n",
    "mean_value = eagles_data['Def TotYds'].mean()\n",
    "median_value = eagles_data['Def TotYds'].median()\n",
    "std_value = eagles_data['Def TotYds'].std()\n",
    "var_value = eagles_data['Def TotYds'].var()\n",
    "min_value = eagles_data['Def TotYds'].min()\n",
    "max_value = eagles_data['Def TotYds'].max()\n",
    "data_range = max_value - min_value\n",
    "total_points = eagles_data['Def TotYds'].sum()\n",
    "print(\"Philadelphia Eagles Defense Total Yards Mean:\", mean_value)\n",
    "print(\"Philadelphia Eagles Defense Total Yards Median:\", median_value)\n",
    "print(\"Philadelphia Eagles Defense Total Yards Standard Deviation:\", std_value)\n",
    "print(\"Philadelphia Eagles Defense Total Yards Variance:\", var_value)\n",
    "print(\"Philadelphia Eagles Defense Total Yards Minimum:\", min_value)\n",
    "print(\"Philadelphia Eagles Defense Total Yards Maximum:\", max_value)\n",
    "print(\"Philadelphia Eagles Defense Total Yards Range:\", data_range)\n",
    "print(\"Philadelphia Eagles Total Yards 2012-2022:\", total_points)"
   ]
  },
  {
   "cell_type": "markdown",
   "id": "9c70dbb8",
   "metadata": {},
   "source": [
    "### Pittsburgh Steelers"
   ]
  },
  {
   "cell_type": "code",
   "execution_count": 33,
   "id": "d575e5ae",
   "metadata": {},
   "outputs": [
    {
     "name": "stdout",
     "output_type": "stream",
     "text": [
      "Pittsburgh Steelers Defense Total Yards Mean: 5310.909090909091\n",
      "Pittsburgh Steelers Defense Total Yards Median: 5402.0\n",
      "Pittsburgh Steelers Defense Total Yards Standard Deviation: 502.8046249877689\n",
      "Pittsburgh Steelers Defense Total Yards Variance: 252812.4909090909\n",
      "Pittsburgh Steelers Defense Total Yards Minimum: 4413\n",
      "Pittsburgh Steelers Defense Total Yards Maximum: 6139\n",
      "Pittsburgh Steelers Defense Total Yards Range: 1726\n",
      "Pittsburgh Steelers Total Yards 2012-2022: 58420\n"
     ]
    }
   ],
   "source": [
    "team_name27 = 'Pittsburgh Steelers'\n",
    "steelers_data = nfl_tot_Dyards[nfl_tot_Dyards['Team'] == team_name27]\n",
    "mean_value = steelers_data['Def TotYds'].mean()\n",
    "median_value = steelers_data['Def TotYds'].median()\n",
    "std_value = steelers_data['Def TotYds'].std()\n",
    "var_value = steelers_data['Def TotYds'].var()\n",
    "min_value = steelers_data['Def TotYds'].min()\n",
    "max_value = steelers_data['Def TotYds'].max()\n",
    "data_range = max_value - min_value\n",
    "total_points = steelers_data['Def TotYds'].sum()\n",
    "print(\"Pittsburgh Steelers Defense Total Yards Mean:\", mean_value)\n",
    "print(\"Pittsburgh Steelers Defense Total Yards Median:\", median_value)\n",
    "print(\"Pittsburgh Steelers Defense Total Yards Standard Deviation:\", std_value)\n",
    "print(\"Pittsburgh Steelers Defense Total Yards Variance:\", var_value)\n",
    "print(\"Pittsburgh Steelers Defense Total Yards Minimum:\", min_value)\n",
    "print(\"Pittsburgh Steelers Defense Total Yards Maximum:\", max_value)\n",
    "print(\"Pittsburgh Steelers Defense Total Yards Range:\", data_range)\n",
    "print(\"Pittsburgh Steelers Total Yards 2012-2022:\", total_points)"
   ]
  },
  {
   "cell_type": "markdown",
   "id": "1c58e53c",
   "metadata": {},
   "source": [
    "### San Francisco 49ers"
   ]
  },
  {
   "cell_type": "code",
   "execution_count": 34,
   "id": "da2ef2c3",
   "metadata": {},
   "outputs": [
    {
     "name": "stdout",
     "output_type": "stream",
     "text": [
      "San Francisco 49ers Defense Total Yards Mean: 5337.727272727273\n",
      "San Francisco 49ers Defense Total Yards Median: 5143.0\n",
      "San Francisco 49ers Defense Total Yards Standard Deviation: 597.0142529134612\n",
      "San Francisco 49ers Defense Total Yards Variance: 356426.01818181813\n",
      "San Francisco 49ers Defense Total Yards Minimum: 4509\n",
      "San Francisco 49ers Defense Total Yards Maximum: 6502\n",
      "San Francisco 49ers Defense Total Yards Range: 1993\n",
      "San Francisco 49ers Total Yards 2012-2022: 58715\n"
     ]
    }
   ],
   "source": [
    "team_name28 = 'San Francisco 49ers'\n",
    "niners_data = nfl_tot_Dyards[nfl_tot_Dyards['Team'] == team_name28]\n",
    "mean_value = niners_data['Def TotYds'].mean()\n",
    "median_value = niners_data['Def TotYds'].median()\n",
    "std_value = niners_data['Def TotYds'].std()\n",
    "var_value = niners_data['Def TotYds'].var()\n",
    "min_value = niners_data['Def TotYds'].min()\n",
    "max_value = niners_data['Def TotYds'].max()\n",
    "data_range = max_value - min_value\n",
    "total_points = niners_data['Def TotYds'].sum()\n",
    "print(\"San Francisco 49ers Defense Total Yards Mean:\", mean_value)\n",
    "print(\"San Francisco 49ers Defense Total Yards Median:\", median_value)\n",
    "print(\"San Francisco 49ers Defense Total Yards Standard Deviation:\", std_value)\n",
    "print(\"San Francisco 49ers Defense Total Yards Variance:\", var_value)\n",
    "print(\"San Francisco 49ers Defense Total Yards Minimum:\", min_value)\n",
    "print(\"San Francisco 49ers Defense Total Yards Maximum:\", max_value)\n",
    "print(\"San Francisco 49ers Defense Total Yards Range:\", data_range)\n",
    "print(\"San Francisco 49ers Total Yards 2012-2022:\", total_points)"
   ]
  },
  {
   "cell_type": "markdown",
   "id": "921f90e8",
   "metadata": {},
   "source": [
    "### Tampa Bay Buccaneers"
   ]
  },
  {
   "cell_type": "code",
   "execution_count": 35,
   "id": "31643e89",
   "metadata": {},
   "outputs": [
    {
     "name": "stdout",
     "output_type": "stream",
     "text": [
      "Tampa Bay Buccaneers Defense Total Yards Mean: 5722.727272727273\n",
      "Tampa Bay Buccaneers Defense Total Yards Median: 5635.0\n",
      "Tampa Bay Buccaneers Defense Total Yards Standard Deviation: 300.10601157227455\n",
      "Tampa Bay Buccaneers Defense Total Yards Variance: 90063.61818181818\n",
      "Tampa Bay Buccaneers Defense Total Yards Minimum: 5234\n",
      "Tampa Bay Buccaneers Defense Total Yards Maximum: 6134\n",
      "Tampa Bay Buccaneers Defense Total Yards Range: 900\n",
      "Tampa Bay Buccaneers Total Yards 2012-2022: 62950\n"
     ]
    }
   ],
   "source": [
    "team_name29 = 'Tampa Bay Buccaneers'\n",
    "buccaneers_data = nfl_tot_Dyards[nfl_tot_Dyards['Team'] == team_name29]\n",
    "mean_value = buccaneers_data['Def TotYds'].mean()\n",
    "median_value = buccaneers_data['Def TotYds'].median()\n",
    "std_value = buccaneers_data['Def TotYds'].std()\n",
    "var_value = buccaneers_data['Def TotYds'].var()\n",
    "min_value = buccaneers_data['Def TotYds'].min()\n",
    "max_value = buccaneers_data['Def TotYds'].max()\n",
    "data_range = max_value - min_value\n",
    "total_points = buccaneers_data['Def TotYds'].sum()\n",
    "print(\"Tampa Bay Buccaneers Defense Total Yards Mean:\", mean_value)\n",
    "print(\"Tampa Bay Buccaneers Defense Total Yards Median:\", median_value)\n",
    "print(\"Tampa Bay Buccaneers Defense Total Yards Standard Deviation:\", std_value)\n",
    "print(\"Tampa Bay Buccaneers Defense Total Yards Variance:\", var_value)\n",
    "print(\"Tampa Bay Buccaneers Defense Total Yards Minimum:\", min_value)\n",
    "print(\"Tampa Bay Buccaneers Defense Total Yards Maximum:\", max_value)\n",
    "print(\"Tampa Bay Buccaneers Defense Total Yards Range:\", data_range)\n",
    "print(\"Tampa Bay Buccaneers Total Yards 2012-2022:\", total_points)"
   ]
  },
  {
   "cell_type": "markdown",
   "id": "402feabd",
   "metadata": {},
   "source": [
    "### Tennessee Titans"
   ]
  },
  {
   "cell_type": "code",
   "execution_count": 36,
   "id": "34a835c2",
   "metadata": {},
   "outputs": [
    {
     "name": "stdout",
     "output_type": "stream",
     "text": [
      "Tennessee Titans Defense Total Yards Mean: 5714.545454545455\n",
      "Tennessee Titans Defense Total Yards Median: 5720.0\n",
      "Tennessee Titans Defense Total Yards Standard Deviation: 342.6737117540135\n",
      "Tennessee Titans Defense Total Yards Variance: 117425.27272727274\n",
      "Tennessee Titans Defense Total Yards Minimum: 5248\n",
      "Tennessee Titans Defense Total Yards Maximum: 6372\n",
      "Tennessee Titans Defense Total Yards Range: 1124\n",
      "Tennessee Titans Total Yards 2012-2022: 62860\n"
     ]
    }
   ],
   "source": [
    "team_name30 = 'Tennessee Titans'\n",
    "titans_data = nfl_tot_Dyards[nfl_tot_Dyards['Team'] == team_name30]\n",
    "mean_value = titans_data['Def TotYds'].mean()\n",
    "median_value = titans_data['Def TotYds'].median()\n",
    "std_value = titans_data['Def TotYds'].std()\n",
    "var_value = titans_data['Def TotYds'].var()\n",
    "min_value = titans_data['Def TotYds'].min()\n",
    "max_value = titans_data['Def TotYds'].max()\n",
    "data_range = max_value - min_value\n",
    "total_points = titans_data['Def TotYds'].sum()\n",
    "print(\"Tennessee Titans Defense Total Yards Mean:\", mean_value)\n",
    "print(\"Tennessee Titans Defense Total Yards Median:\", median_value)\n",
    "print(\"Tennessee Titans Defense Total Yards Standard Deviation:\", std_value)\n",
    "print(\"Tennessee Titans Defense Total Yards Variance:\", var_value)\n",
    "print(\"Tennessee Titans Defense Total Yards Minimum:\", min_value)\n",
    "print(\"Tennessee Titans Defense Total Yards Maximum:\", max_value)\n",
    "print(\"Tennessee Titans Defense Total Yards Range:\", data_range)\n",
    "print(\"Tennessee Titans Total Yards 2012-2022:\", total_points)"
   ]
  },
  {
   "cell_type": "markdown",
   "id": "80f6844f",
   "metadata": {},
   "source": [
    "### Washington Commanders"
   ]
  },
  {
   "cell_type": "code",
   "execution_count": 37,
   "id": "d1a4004e",
   "metadata": {},
   "outputs": [
    {
     "name": "stdout",
     "output_type": "stream",
     "text": [
      "Washington Commanders Defense Total Yards Mean: 5736.090909090909\n",
      "Washington Commanders Defense Total Yards Median: 5712.0\n",
      "Washington Commanders Defense Total Yards Standard Deviation: 416.2810239598857\n",
      "Washington Commanders Defense Total Yards Variance: 173289.89090909093\n",
      "Washington Commanders Defense Total Yards Minimum: 4873\n",
      "Washington Commanders Defense Total Yards Points Maximum: 6162\n",
      "Washington Commanders Defense Total Yards Range: 1289\n",
      "Washington Commanders Total Yards 2012-2022: 63097\n"
     ]
    }
   ],
   "source": [
    "team_name31 = 'Washington Commanders'\n",
    "commanders_data = nfl_tot_Dyards[nfl_tot_Dyards['Team'] == team_name31]\n",
    "mean_value = commanders_data['Def TotYds'].mean()\n",
    "median_value = commanders_data['Def TotYds'].median()\n",
    "std_value = commanders_data['Def TotYds'].std()\n",
    "var_value = commanders_data['Def TotYds'].var()\n",
    "min_value = commanders_data['Def TotYds'].min()\n",
    "max_value = commanders_data['Def TotYds'].max()\n",
    "total_points = commanders_data['Def TotYds'].sum()\n",
    "data_range = max_value - min_value\n",
    "print(\"Washington Commanders Defense Total Yards Mean:\", mean_value)\n",
    "print(\"Washington Commanders Defense Total Yards Median:\", median_value)\n",
    "print(\"Washington Commanders Defense Total Yards Standard Deviation:\", std_value)\n",
    "print(\"Washington Commanders Defense Total Yards Variance:\", var_value)\n",
    "print(\"Washington Commanders Defense Total Yards Minimum:\", min_value)\n",
    "print(\"Washington Commanders Defense Total Yards Points Maximum:\", max_value)\n",
    "print(\"Washington Commanders Defense Total Yards Range:\", data_range)\n",
    "print(\"Washington Commanders Total Yards 2012-2022:\", total_points)"
   ]
  },
  {
   "cell_type": "code",
   "execution_count": null,
   "id": "a94902cd",
   "metadata": {},
   "outputs": [],
   "source": []
  }
 ],
 "metadata": {
  "kernelspec": {
   "display_name": "Python 3 (ipykernel)",
   "language": "python",
   "name": "python3"
  },
  "language_info": {
   "codemirror_mode": {
    "name": "ipython",
    "version": 3
   },
   "file_extension": ".py",
   "mimetype": "text/x-python",
   "name": "python",
   "nbconvert_exporter": "python",
   "pygments_lexer": "ipython3",
   "version": "3.9.12"
  }
 },
 "nbformat": 4,
 "nbformat_minor": 5
}

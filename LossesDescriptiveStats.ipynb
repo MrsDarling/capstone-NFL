{
 "cells": [
  {
   "cell_type": "markdown",
   "id": "ca763d8d",
   "metadata": {},
   "source": [
    "# Descriptive Statistics for Losses for Each Team"
   ]
  },
  {
   "cell_type": "markdown",
   "id": "649ef116",
   "metadata": {},
   "source": [
    "#### Import Packages"
   ]
  },
  {
   "cell_type": "code",
   "execution_count": 1,
   "id": "b23f9d8d",
   "metadata": {},
   "outputs": [],
   "source": [
    "import pandas as pd\n",
    "import numpy as np\n",
    "from scipy.stats import norm\n",
    "from scipy import stats"
   ]
  },
  {
   "cell_type": "markdown",
   "id": "b0be25b3",
   "metadata": {},
   "source": [
    "#### Import NFL Dataset 2012-2022"
   ]
  },
  {
   "cell_type": "code",
   "execution_count": 2,
   "id": "33f5a7e5",
   "metadata": {},
   "outputs": [
    {
     "data": {
      "text/html": [
       "<div>\n",
       "<style scoped>\n",
       "    .dataframe tbody tr th:only-of-type {\n",
       "        vertical-align: middle;\n",
       "    }\n",
       "\n",
       "    .dataframe tbody tr th {\n",
       "        vertical-align: top;\n",
       "    }\n",
       "\n",
       "    .dataframe thead th {\n",
       "        text-align: right;\n",
       "    }\n",
       "</style>\n",
       "<table border=\"1\" class=\"dataframe\">\n",
       "  <thead>\n",
       "    <tr style=\"text-align: right;\">\n",
       "      <th></th>\n",
       "      <th>Team</th>\n",
       "      <th>Off Tot/Pts</th>\n",
       "      <th>Off Pts/G</th>\n",
       "      <th>Off RushYds</th>\n",
       "      <th>Off RYds/G</th>\n",
       "      <th>Off PassYds</th>\n",
       "      <th>Off PYds/G</th>\n",
       "      <th>Off TotYds</th>\n",
       "      <th>Off Yds/G</th>\n",
       "      <th>Def Tot/Pts</th>\n",
       "      <th>...</th>\n",
       "      <th>Def PassYds</th>\n",
       "      <th>Def PYds/G</th>\n",
       "      <th>Def TotYds</th>\n",
       "      <th>Def Yds/G</th>\n",
       "      <th>Year</th>\n",
       "      <th>Wins</th>\n",
       "      <th>Losses</th>\n",
       "      <th>Tie</th>\n",
       "      <th>Superbowl</th>\n",
       "      <th>SB Win</th>\n",
       "    </tr>\n",
       "  </thead>\n",
       "  <tbody>\n",
       "    <tr>\n",
       "      <th>0</th>\n",
       "      <td>Arizona Cardinals</td>\n",
       "      <td>250</td>\n",
       "      <td>15.6</td>\n",
       "      <td>1204</td>\n",
       "      <td>75.2</td>\n",
       "      <td>3005</td>\n",
       "      <td>187.8</td>\n",
       "      <td>4209</td>\n",
       "      <td>263.1</td>\n",
       "      <td>357</td>\n",
       "      <td>...</td>\n",
       "      <td>3213</td>\n",
       "      <td>200.8</td>\n",
       "      <td>5405</td>\n",
       "      <td>337.8</td>\n",
       "      <td>2012</td>\n",
       "      <td>5</td>\n",
       "      <td>11</td>\n",
       "      <td>0.0</td>\n",
       "      <td>No</td>\n",
       "      <td>No</td>\n",
       "    </tr>\n",
       "    <tr>\n",
       "      <th>1</th>\n",
       "      <td>Atlanta Falcons</td>\n",
       "      <td>419</td>\n",
       "      <td>26.2</td>\n",
       "      <td>1397</td>\n",
       "      <td>87.3</td>\n",
       "      <td>4509</td>\n",
       "      <td>281.8</td>\n",
       "      <td>5906</td>\n",
       "      <td>369.1</td>\n",
       "      <td>299</td>\n",
       "      <td>...</td>\n",
       "      <td>3878</td>\n",
       "      <td>242.4</td>\n",
       "      <td>5849</td>\n",
       "      <td>365.6</td>\n",
       "      <td>2012</td>\n",
       "      <td>13</td>\n",
       "      <td>3</td>\n",
       "      <td>0.0</td>\n",
       "      <td>No</td>\n",
       "      <td>No</td>\n",
       "    </tr>\n",
       "    <tr>\n",
       "      <th>2</th>\n",
       "      <td>Baltimore Ravens</td>\n",
       "      <td>398</td>\n",
       "      <td>24.9</td>\n",
       "      <td>1901</td>\n",
       "      <td>118.8</td>\n",
       "      <td>3739</td>\n",
       "      <td>233.7</td>\n",
       "      <td>5640</td>\n",
       "      <td>352.5</td>\n",
       "      <td>344</td>\n",
       "      <td>...</td>\n",
       "      <td>3650</td>\n",
       "      <td>228.1</td>\n",
       "      <td>5615</td>\n",
       "      <td>350.9</td>\n",
       "      <td>2012</td>\n",
       "      <td>10</td>\n",
       "      <td>6</td>\n",
       "      <td>0.0</td>\n",
       "      <td>Yes</td>\n",
       "      <td>Yes</td>\n",
       "    </tr>\n",
       "    <tr>\n",
       "      <th>3</th>\n",
       "      <td>Buffalo Bills</td>\n",
       "      <td>344</td>\n",
       "      <td>21.5</td>\n",
       "      <td>2217</td>\n",
       "      <td>138.6</td>\n",
       "      <td>3269</td>\n",
       "      <td>204.3</td>\n",
       "      <td>5486</td>\n",
       "      <td>342.9</td>\n",
       "      <td>435</td>\n",
       "      <td>...</td>\n",
       "      <td>3473</td>\n",
       "      <td>217.1</td>\n",
       "      <td>5806</td>\n",
       "      <td>362.9</td>\n",
       "      <td>2012</td>\n",
       "      <td>6</td>\n",
       "      <td>10</td>\n",
       "      <td>0.0</td>\n",
       "      <td>No</td>\n",
       "      <td>No</td>\n",
       "    </tr>\n",
       "    <tr>\n",
       "      <th>4</th>\n",
       "      <td>Carolina Panthers</td>\n",
       "      <td>357</td>\n",
       "      <td>22.3</td>\n",
       "      <td>2088</td>\n",
       "      <td>130.5</td>\n",
       "      <td>3683</td>\n",
       "      <td>230.2</td>\n",
       "      <td>5771</td>\n",
       "      <td>360.7</td>\n",
       "      <td>363</td>\n",
       "      <td>...</td>\n",
       "      <td>3568</td>\n",
       "      <td>223.0</td>\n",
       "      <td>5329</td>\n",
       "      <td>333.1</td>\n",
       "      <td>2012</td>\n",
       "      <td>7</td>\n",
       "      <td>9</td>\n",
       "      <td>0.0</td>\n",
       "      <td>No</td>\n",
       "      <td>No</td>\n",
       "    </tr>\n",
       "  </tbody>\n",
       "</table>\n",
       "<p>5 rows × 23 columns</p>\n",
       "</div>"
      ],
      "text/plain": [
       "                Team  Off Tot/Pts  Off Pts/G  Off RushYds  Off RYds/G  \\\n",
       "0  Arizona Cardinals          250       15.6         1204        75.2   \n",
       "1    Atlanta Falcons          419       26.2         1397        87.3   \n",
       "2   Baltimore Ravens          398       24.9         1901       118.8   \n",
       "3      Buffalo Bills          344       21.5         2217       138.6   \n",
       "4  Carolina Panthers          357       22.3         2088       130.5   \n",
       "\n",
       "   Off PassYds  Off PYds/G  Off TotYds  Off Yds/G  Def Tot/Pts  ...  \\\n",
       "0         3005       187.8        4209      263.1          357  ...   \n",
       "1         4509       281.8        5906      369.1          299  ...   \n",
       "2         3739       233.7        5640      352.5          344  ...   \n",
       "3         3269       204.3        5486      342.9          435  ...   \n",
       "4         3683       230.2        5771      360.7          363  ...   \n",
       "\n",
       "   Def PassYds  Def PYds/G  Def TotYds  Def Yds/G  Year  Wins  Losses  Tie  \\\n",
       "0         3213       200.8        5405      337.8  2012     5      11  0.0   \n",
       "1         3878       242.4        5849      365.6  2012    13       3  0.0   \n",
       "2         3650       228.1        5615      350.9  2012    10       6  0.0   \n",
       "3         3473       217.1        5806      362.9  2012     6      10  0.0   \n",
       "4         3568       223.0        5329      333.1  2012     7       9  0.0   \n",
       "\n",
       "   Superbowl  SB Win  \n",
       "0         No      No  \n",
       "1         No      No  \n",
       "2        Yes     Yes  \n",
       "3         No      No  \n",
       "4         No      No  \n",
       "\n",
       "[5 rows x 23 columns]"
      ]
     },
     "execution_count": 2,
     "metadata": {},
     "output_type": "execute_result"
    }
   ],
   "source": [
    "nflLosses = pd.read_csv('/Users/admin/Desktop/Final_Project/NFL_merged/nfl2012_2022merge.csv')\n",
    "nflLosses.head()"
   ]
  },
  {
   "cell_type": "markdown",
   "id": "784b34d0",
   "metadata": {},
   "source": [
    "## Calculating Descriptive Statistics by Team\n",
    "#### First filter the data by a single team - I will use the Seattle Seahawks, my favorite team, to start."
   ]
  },
  {
   "cell_type": "code",
   "execution_count": 3,
   "id": "69c58961",
   "metadata": {},
   "outputs": [
    {
     "name": "stdout",
     "output_type": "stream",
     "text": [
      "Year: 2012 \tLosses: 5\n",
      "Year: 2013 \tLosses: 3\n",
      "Year: 2014 \tLosses: 4\n",
      "Year: 2015 \tLosses: 6\n",
      "Year: 2016 \tLosses: 5\n",
      "Year: 2017 \tLosses: 7\n",
      "Year: 2018 \tLosses: 6\n",
      "Year: 2019 \tLosses: 5\n",
      "Year: 2020 \tLosses: 4\n",
      "Year: 2021 \tLosses: 10\n",
      "Year: 2022 \tLosses: 8\n"
     ]
    }
   ],
   "source": [
    "team_name = 'Seattle Seahawks'\n",
    "seahawks_data = nflLosses[nflLosses['Team'] == team_name]\n",
    "\n",
    "#### Display Losses by year for the Seahawks\n",
    "\n",
    "for year in seahawks_data['Year'].unique():\n",
    "    Losses = seahawks_data.loc[seahawks_data['Year'] == year, 'Losses'].values[0]\n",
    "    print(\"Year:\", year, \"\\tLosses:\", Losses)"
   ]
  },
  {
   "cell_type": "markdown",
   "id": "0c3ba5fa",
   "metadata": {},
   "source": [
    "#### What is the mean  Losses for the Seahawks over all years?"
   ]
  },
  {
   "cell_type": "code",
   "execution_count": 4,
   "id": "24c6cbe1",
   "metadata": {},
   "outputs": [
    {
     "name": "stdout",
     "output_type": "stream",
     "text": [
      "5.7272727272727275\n"
     ]
    }
   ],
   "source": [
    "mean_Losses = seahawks_data['Losses'].mean()\n",
    "print(mean_Losses)"
   ]
  },
  {
   "cell_type": "markdown",
   "id": "5b3748d2",
   "metadata": {},
   "source": [
    "#### Let's calculate several descriptive statistics on  Losses for the Seahawks"
   ]
  },
  {
   "cell_type": "code",
   "execution_count": 5,
   "id": "d26edc74",
   "metadata": {},
   "outputs": [
    {
     "name": "stdout",
     "output_type": "stream",
     "text": [
      "Seattle Seahawks  Losses Mean: 5.7272727272727275\n",
      "Seattle Seahawks  Losses Median: 5.0\n",
      "Seattle Seahawks  Losses Standard Deviation: 2.0045403009622476\n",
      "Seattle Seahawks  Losses Variance: 4.0181818181818185\n",
      "Seattle Seahawks  Losses Minimum: 3\n",
      "Seattle Seahawks  Losses Maximum: 10\n",
      "Seattle Seahawks  Losses Range: 7\n",
      "Seattle Seahawks Total Losses 2012-2022: 63\n"
     ]
    }
   ],
   "source": [
    "mean_value = seahawks_data['Losses'].mean()\n",
    "median_value = seahawks_data['Losses'].median()\n",
    "std_value = seahawks_data['Losses'].std()\n",
    "var_value = seahawks_data['Losses'].var()\n",
    "min_value = seahawks_data['Losses'].min()\n",
    "max_value = seahawks_data['Losses'].max()\n",
    "data_range = max_value - min_value\n",
    "total_points = seahawks_data['Losses'].sum()\n",
    "print(\"Seattle Seahawks  Losses Mean:\", mean_value)\n",
    "print(\"Seattle Seahawks  Losses Median:\", median_value)\n",
    "print(\"Seattle Seahawks  Losses Standard Deviation:\", std_value)\n",
    "print(\"Seattle Seahawks  Losses Variance:\", var_value)\n",
    "print(\"Seattle Seahawks  Losses Minimum:\", min_value)\n",
    "print(\"Seattle Seahawks  Losses Maximum:\", max_value)\n",
    "print(\"Seattle Seahawks  Losses Range:\", data_range)\n",
    "print(\"Seattle Seahawks Total Losses 2012-2022:\", total_points)"
   ]
  },
  {
   "cell_type": "markdown",
   "id": "e69f7a6a",
   "metadata": {},
   "source": [
    "#### Calculating all Teams Losses per year"
   ]
  },
  {
   "cell_type": "code",
   "execution_count": 6,
   "id": "dbe5c0fa",
   "metadata": {},
   "outputs": [
    {
     "name": "stdout",
     "output_type": "stream",
     "text": [
      "Team: Arizona Cardinals \tYear: 2012 \tLosses: 11\n",
      "Team: Arizona Cardinals \tYear: 2013 \tLosses: 6\n",
      "Team: Arizona Cardinals \tYear: 2014 \tLosses: 5\n",
      "Team: Arizona Cardinals \tYear: 2015 \tLosses: 3\n",
      "Team: Arizona Cardinals \tYear: 2016 \tLosses: 8\n",
      "Team: Arizona Cardinals \tYear: 2017 \tLosses: 8\n",
      "Team: Arizona Cardinals \tYear: 2018 \tLosses: 13\n",
      "Team: Arizona Cardinals \tYear: 2019 \tLosses: 10\n",
      "Team: Arizona Cardinals \tYear: 2020 \tLosses: 8\n",
      "Team: Arizona Cardinals \tYear: 2021 \tLosses: 6\n",
      "Team: Arizona Cardinals \tYear: 2022 \tLosses: 13\n",
      "Team: Atlanta Falcons \tYear: 2012 \tLosses: 3\n",
      "Team: Atlanta Falcons \tYear: 2013 \tLosses: 12\n",
      "Team: Atlanta Falcons \tYear: 2014 \tLosses: 10\n",
      "Team: Atlanta Falcons \tYear: 2015 \tLosses: 8\n",
      "Team: Atlanta Falcons \tYear: 2016 \tLosses: 5\n",
      "Team: Atlanta Falcons \tYear: 2017 \tLosses: 6\n",
      "Team: Atlanta Falcons \tYear: 2018 \tLosses: 9\n",
      "Team: Atlanta Falcons \tYear: 2019 \tLosses: 9\n",
      "Team: Atlanta Falcons \tYear: 2020 \tLosses: 12\n",
      "Team: Atlanta Falcons \tYear: 2021 \tLosses: 10\n",
      "Team: Atlanta Falcons \tYear: 2022 \tLosses: 10\n",
      "Team: Baltimore Ravens \tYear: 2012 \tLosses: 6\n",
      "Team: Baltimore Ravens \tYear: 2013 \tLosses: 8\n",
      "Team: Baltimore Ravens \tYear: 2014 \tLosses: 6\n",
      "Team: Baltimore Ravens \tYear: 2015 \tLosses: 11\n",
      "Team: Baltimore Ravens \tYear: 2016 \tLosses: 8\n",
      "Team: Baltimore Ravens \tYear: 2017 \tLosses: 7\n",
      "Team: Baltimore Ravens \tYear: 2018 \tLosses: 6\n",
      "Team: Baltimore Ravens \tYear: 2019 \tLosses: 2\n",
      "Team: Baltimore Ravens \tYear: 2020 \tLosses: 5\n",
      "Team: Baltimore Ravens \tYear: 2021 \tLosses: 9\n",
      "Team: Baltimore Ravens \tYear: 2022 \tLosses: 7\n",
      "Team: Buffalo Bills \tYear: 2012 \tLosses: 10\n",
      "Team: Buffalo Bills \tYear: 2013 \tLosses: 10\n",
      "Team: Buffalo Bills \tYear: 2014 \tLosses: 7\n",
      "Team: Buffalo Bills \tYear: 2015 \tLosses: 8\n",
      "Team: Buffalo Bills \tYear: 2016 \tLosses: 9\n",
      "Team: Buffalo Bills \tYear: 2017 \tLosses: 7\n",
      "Team: Buffalo Bills \tYear: 2018 \tLosses: 10\n",
      "Team: Buffalo Bills \tYear: 2019 \tLosses: 6\n",
      "Team: Buffalo Bills \tYear: 2020 \tLosses: 3\n",
      "Team: Buffalo Bills \tYear: 2021 \tLosses: 6\n",
      "Team: Buffalo Bills \tYear: 2022 \tLosses: 3\n",
      "Team: Carolina Panthers \tYear: 2012 \tLosses: 9\n",
      "Team: Carolina Panthers \tYear: 2013 \tLosses: 4\n",
      "Team: Carolina Panthers \tYear: 2014 \tLosses: 8\n",
      "Team: Carolina Panthers \tYear: 2015 \tLosses: 1\n",
      "Team: Carolina Panthers \tYear: 2016 \tLosses: 10\n",
      "Team: Carolina Panthers \tYear: 2017 \tLosses: 5\n",
      "Team: Carolina Panthers \tYear: 2018 \tLosses: 9\n",
      "Team: Carolina Panthers \tYear: 2019 \tLosses: 11\n",
      "Team: Carolina Panthers \tYear: 2020 \tLosses: 11\n",
      "Team: Carolina Panthers \tYear: 2021 \tLosses: 12\n",
      "Team: Carolina Panthers \tYear: 2022 \tLosses: 10\n",
      "Team: Chicago Bears \tYear: 2012 \tLosses: 6\n",
      "Team: Chicago Bears \tYear: 2013 \tLosses: 8\n",
      "Team: Chicago Bears \tYear: 2014 \tLosses: 11\n",
      "Team: Chicago Bears \tYear: 2015 \tLosses: 10\n",
      "Team: Chicago Bears \tYear: 2016 \tLosses: 13\n",
      "Team: Chicago Bears \tYear: 2017 \tLosses: 11\n",
      "Team: Chicago Bears \tYear: 2018 \tLosses: 4\n",
      "Team: Chicago Bears \tYear: 2019 \tLosses: 8\n",
      "Team: Chicago Bears \tYear: 2020 \tLosses: 8\n",
      "Team: Chicago Bears \tYear: 2021 \tLosses: 11\n",
      "Team: Chicago Bears \tYear: 2022 \tLosses: 14\n",
      "Team: Cincinnati Bengals \tYear: 2012 \tLosses: 6\n",
      "Team: Cincinnati Bengals \tYear: 2013 \tLosses: 5\n",
      "Team: Cincinnati Bengals \tYear: 2014 \tLosses: 5\n",
      "Team: Cincinnati Bengals \tYear: 2015 \tLosses: 4\n",
      "Team: Cincinnati Bengals \tYear: 2016 \tLosses: 9\n",
      "Team: Cincinnati Bengals \tYear: 2017 \tLosses: 9\n",
      "Team: Cincinnati Bengals \tYear: 2018 \tLosses: 10\n",
      "Team: Cincinnati Bengals \tYear: 2019 \tLosses: 14\n",
      "Team: Cincinnati Bengals \tYear: 2020 \tLosses: 11\n",
      "Team: Cincinnati Bengals \tYear: 2021 \tLosses: 7\n",
      "Team: Cincinnati Bengals \tYear: 2022 \tLosses: 4\n",
      "Team: Cleveland Browns \tYear: 2012 \tLosses: 11\n",
      "Team: Cleveland Browns \tYear: 2013 \tLosses: 12\n",
      "Team: Cleveland Browns \tYear: 2014 \tLosses: 9\n",
      "Team: Cleveland Browns \tYear: 2015 \tLosses: 13\n",
      "Team: Cleveland Browns \tYear: 2016 \tLosses: 15\n",
      "Team: Cleveland Browns \tYear: 2017 \tLosses: 16\n",
      "Team: Cleveland Browns \tYear: 2018 \tLosses: 8\n",
      "Team: Cleveland Browns \tYear: 2019 \tLosses: 10\n",
      "Team: Cleveland Browns \tYear: 2020 \tLosses: 5\n",
      "Team: Cleveland Browns \tYear: 2021 \tLosses: 9\n",
      "Team: Cleveland Browns \tYear: 2022 \tLosses: 10\n",
      "Team: Dallas Cowboys \tYear: 2012 \tLosses: 8\n",
      "Team: Dallas Cowboys \tYear: 2013 \tLosses: 8\n",
      "Team: Dallas Cowboys \tYear: 2014 \tLosses: 4\n",
      "Team: Dallas Cowboys \tYear: 2015 \tLosses: 12\n",
      "Team: Dallas Cowboys \tYear: 2016 \tLosses: 3\n",
      "Team: Dallas Cowboys \tYear: 2017 \tLosses: 7\n",
      "Team: Dallas Cowboys \tYear: 2018 \tLosses: 6\n",
      "Team: Dallas Cowboys \tYear: 2019 \tLosses: 8\n",
      "Team: Dallas Cowboys \tYear: 2020 \tLosses: 10\n",
      "Team: Dallas Cowboys \tYear: 2021 \tLosses: 5\n",
      "Team: Dallas Cowboys \tYear: 2022 \tLosses: 5\n",
      "Team: Denver Broncos \tYear: 2012 \tLosses: 3\n",
      "Team: Denver Broncos \tYear: 2013 \tLosses: 3\n",
      "Team: Denver Broncos \tYear: 2014 \tLosses: 4\n",
      "Team: Denver Broncos \tYear: 2015 \tLosses: 4\n",
      "Team: Denver Broncos \tYear: 2016 \tLosses: 7\n",
      "Team: Denver Broncos \tYear: 2017 \tLosses: 11\n",
      "Team: Denver Broncos \tYear: 2018 \tLosses: 10\n",
      "Team: Denver Broncos \tYear: 2019 \tLosses: 9\n",
      "Team: Denver Broncos \tYear: 2020 \tLosses: 11\n",
      "Team: Denver Broncos \tYear: 2021 \tLosses: 10\n",
      "Team: Denver Broncos \tYear: 2022 \tLosses: 12\n",
      "Team: Detroit Lions \tYear: 2012 \tLosses: 12\n",
      "Team: Detroit Lions \tYear: 2013 \tLosses: 9\n",
      "Team: Detroit Lions \tYear: 2014 \tLosses: 5\n",
      "Team: Detroit Lions \tYear: 2015 \tLosses: 9\n",
      "Team: Detroit Lions \tYear: 2016 \tLosses: 7\n",
      "Team: Detroit Lions \tYear: 2017 \tLosses: 7\n",
      "Team: Detroit Lions \tYear: 2018 \tLosses: 10\n",
      "Team: Detroit Lions \tYear: 2019 \tLosses: 12\n",
      "Team: Detroit Lions \tYear: 2020 \tLosses: 11\n",
      "Team: Detroit Lions \tYear: 2021 \tLosses: 13\n",
      "Team: Detroit Lions \tYear: 2022 \tLosses: 8\n",
      "Team: Green Bay Packers \tYear: 2012 \tLosses: 5\n",
      "Team: Green Bay Packers \tYear: 2013 \tLosses: 7\n",
      "Team: Green Bay Packers \tYear: 2014 \tLosses: 4\n",
      "Team: Green Bay Packers \tYear: 2015 \tLosses: 6\n",
      "Team: Green Bay Packers \tYear: 2016 \tLosses: 6\n",
      "Team: Green Bay Packers \tYear: 2017 \tLosses: 9\n",
      "Team: Green Bay Packers \tYear: 2018 \tLosses: 9\n",
      "Team: Green Bay Packers \tYear: 2019 \tLosses: 3\n",
      "Team: Green Bay Packers \tYear: 2020 \tLosses: 3\n",
      "Team: Green Bay Packers \tYear: 2021 \tLosses: 4\n",
      "Team: Green Bay Packers \tYear: 2022 \tLosses: 9\n",
      "Team: Houston Texans \tYear: 2012 \tLosses: 4\n",
      "Team: Houston Texans \tYear: 2013 \tLosses: 14\n",
      "Team: Houston Texans \tYear: 2014 \tLosses: 7\n",
      "Team: Houston Texans \tYear: 2015 \tLosses: 7\n",
      "Team: Houston Texans \tYear: 2016 \tLosses: 7\n",
      "Team: Houston Texans \tYear: 2017 \tLosses: 12\n",
      "Team: Houston Texans \tYear: 2018 \tLosses: 5\n",
      "Team: Houston Texans \tYear: 2019 \tLosses: 6\n",
      "Team: Houston Texans \tYear: 2020 \tLosses: 12\n",
      "Team: Houston Texans \tYear: 2021 \tLosses: 13\n",
      "Team: Houston Texans \tYear: 2022 \tLosses: 13\n",
      "Team: Indianapolis Colts \tYear: 2012 \tLosses: 5\n",
      "Team: Indianapolis Colts \tYear: 2013 \tLosses: 5\n",
      "Team: Indianapolis Colts \tYear: 2014 \tLosses: 5\n",
      "Team: Indianapolis Colts \tYear: 2015 \tLosses: 8\n",
      "Team: Indianapolis Colts \tYear: 2016 \tLosses: 8\n",
      "Team: Indianapolis Colts \tYear: 2017 \tLosses: 12\n",
      "Team: Indianapolis Colts \tYear: 2018 \tLosses: 6\n",
      "Team: Indianapolis Colts \tYear: 2019 \tLosses: 9\n",
      "Team: Indianapolis Colts \tYear: 2020 \tLosses: 5\n",
      "Team: Indianapolis Colts \tYear: 2021 \tLosses: 8\n",
      "Team: Indianapolis Colts \tYear: 2022 \tLosses: 12\n",
      "Team: Jacksonville Jaguars \tYear: 2012 \tLosses: 14\n",
      "Team: Jacksonville Jaguars \tYear: 2013 \tLosses: 12\n",
      "Team: Jacksonville Jaguars \tYear: 2014 \tLosses: 13\n",
      "Team: Jacksonville Jaguars \tYear: 2015 \tLosses: 11\n",
      "Team: Jacksonville Jaguars \tYear: 2016 \tLosses: 13\n",
      "Team: Jacksonville Jaguars \tYear: 2017 \tLosses: 6\n",
      "Team: Jacksonville Jaguars \tYear: 2018 \tLosses: 11\n",
      "Team: Jacksonville Jaguars \tYear: 2019 \tLosses: 10\n",
      "Team: Jacksonville Jaguars \tYear: 2020 \tLosses: 15\n",
      "Team: Jacksonville Jaguars \tYear: 2021 \tLosses: 14\n",
      "Team: Jacksonville Jaguars \tYear: 2022 \tLosses: 8\n",
      "Team: Kansas City Chiefs \tYear: 2012 \tLosses: 14\n",
      "Team: Kansas City Chiefs \tYear: 2013 \tLosses: 5\n",
      "Team: Kansas City Chiefs \tYear: 2014 \tLosses: 7\n",
      "Team: Kansas City Chiefs \tYear: 2015 \tLosses: 5\n",
      "Team: Kansas City Chiefs \tYear: 2016 \tLosses: 4\n",
      "Team: Kansas City Chiefs \tYear: 2017 \tLosses: 6\n",
      "Team: Kansas City Chiefs \tYear: 2018 \tLosses: 4\n",
      "Team: Kansas City Chiefs \tYear: 2019 \tLosses: 4\n",
      "Team: Kansas City Chiefs \tYear: 2020 \tLosses: 2\n",
      "Team: Kansas City Chiefs \tYear: 2021 \tLosses: 5\n",
      "Team: Kansas City Chiefs \tYear: 2022 \tLosses: 3\n",
      "Team: Las Vegas Raiders \tYear: 2012 \tLosses: 12\n",
      "Team: Las Vegas Raiders \tYear: 2013 \tLosses: 12\n",
      "Team: Las Vegas Raiders \tYear: 2014 \tLosses: 13\n",
      "Team: Las Vegas Raiders \tYear: 2015 \tLosses: 9\n",
      "Team: Las Vegas Raiders \tYear: 2016 \tLosses: 4\n",
      "Team: Las Vegas Raiders \tYear: 2017 \tLosses: 10\n",
      "Team: Las Vegas Raiders \tYear: 2018 \tLosses: 12\n",
      "Team: Las Vegas Raiders \tYear: 2019 \tLosses: 9\n",
      "Team: Las Vegas Raiders \tYear: 2020 \tLosses: 8\n",
      "Team: Las Vegas Raiders \tYear: 2021 \tLosses: 7\n",
      "Team: Las Vegas Raiders \tYear: 2022 \tLosses: 11\n",
      "Team: Los Angeles Chargers \tYear: 2012 \tLosses: 9\n",
      "Team: Los Angeles Chargers \tYear: 2013 \tLosses: 7\n",
      "Team: Los Angeles Chargers \tYear: 2014 \tLosses: 7\n",
      "Team: Los Angeles Chargers \tYear: 2015 \tLosses: 12\n",
      "Team: Los Angeles Chargers \tYear: 2016 \tLosses: 11\n",
      "Team: Los Angeles Chargers \tYear: 2017 \tLosses: 7\n",
      "Team: Los Angeles Chargers \tYear: 2018 \tLosses: 4\n",
      "Team: Los Angeles Chargers \tYear: 2019 \tLosses: 11\n",
      "Team: Los Angeles Chargers \tYear: 2020 \tLosses: 9\n",
      "Team: Los Angeles Chargers \tYear: 2021 \tLosses: 8\n",
      "Team: Los Angeles Chargers \tYear: 2022 \tLosses: 7\n",
      "Team: Los Angeles Rams \tYear: 2012 \tLosses: 8\n",
      "Team: Los Angeles Rams \tYear: 2013 \tLosses: 9\n",
      "Team: Los Angeles Rams \tYear: 2014 \tLosses: 10\n",
      "Team: Los Angeles Rams \tYear: 2015 \tLosses: 9\n",
      "Team: Los Angeles Rams \tYear: 2016 \tLosses: 12\n",
      "Team: Los Angeles Rams \tYear: 2017 \tLosses: 5\n",
      "Team: Los Angeles Rams \tYear: 2018 \tLosses: 3\n",
      "Team: Los Angeles Rams \tYear: 2019 \tLosses: 7\n",
      "Team: Los Angeles Rams \tYear: 2020 \tLosses: 6\n",
      "Team: Los Angeles Rams \tYear: 2021 \tLosses: 5\n",
      "Team: Los Angeles Rams \tYear: 2022 \tLosses: 12\n",
      "Team: Miami Dolphins \tYear: 2012 \tLosses: 9\n",
      "Team: Miami Dolphins \tYear: 2013 \tLosses: 8\n",
      "Team: Miami Dolphins \tYear: 2014 \tLosses: 8\n",
      "Team: Miami Dolphins \tYear: 2015 \tLosses: 10\n",
      "Team: Miami Dolphins \tYear: 2016 \tLosses: 6\n",
      "Team: Miami Dolphins \tYear: 2017 \tLosses: 10\n",
      "Team: Miami Dolphins \tYear: 2018 \tLosses: 9\n",
      "Team: Miami Dolphins \tYear: 2019 \tLosses: 11\n",
      "Team: Miami Dolphins \tYear: 2020 \tLosses: 6\n",
      "Team: Miami Dolphins \tYear: 2021 \tLosses: 8\n",
      "Team: Miami Dolphins \tYear: 2022 \tLosses: 8\n",
      "Team: Minnesota Vikings \tYear: 2012 \tLosses: 6\n",
      "Team: Minnesota Vikings \tYear: 2013 \tLosses: 10\n",
      "Team: Minnesota Vikings \tYear: 2014 \tLosses: 9\n",
      "Team: Minnesota Vikings \tYear: 2015 \tLosses: 5\n",
      "Team: Minnesota Vikings \tYear: 2016 \tLosses: 8\n",
      "Team: Minnesota Vikings \tYear: 2017 \tLosses: 3\n",
      "Team: Minnesota Vikings \tYear: 2018 \tLosses: 7\n",
      "Team: Minnesota Vikings \tYear: 2019 \tLosses: 6\n",
      "Team: Minnesota Vikings \tYear: 2020 \tLosses: 9\n",
      "Team: Minnesota Vikings \tYear: 2021 \tLosses: 9\n",
      "Team: Minnesota Vikings \tYear: 2022 \tLosses: 4\n",
      "Team: New England Patriots \tYear: 2012 \tLosses: 4\n",
      "Team: New England Patriots \tYear: 2013 \tLosses: 4\n",
      "Team: New England Patriots \tYear: 2014 \tLosses: 4\n",
      "Team: New England Patriots \tYear: 2015 \tLosses: 4\n",
      "Team: New England Patriots \tYear: 2016 \tLosses: 2\n",
      "Team: New England Patriots \tYear: 2017 \tLosses: 3\n",
      "Team: New England Patriots \tYear: 2018 \tLosses: 5\n",
      "Team: New England Patriots \tYear: 2019 \tLosses: 4\n",
      "Team: New England Patriots \tYear: 2020 \tLosses: 9\n",
      "Team: New England Patriots \tYear: 2021 \tLosses: 7\n",
      "Team: New England Patriots \tYear: 2022 \tLosses: 9\n",
      "Team: New Orleans Saints \tYear: 2012 \tLosses: 9\n",
      "Team: New Orleans Saints \tYear: 2013 \tLosses: 5\n",
      "Team: New Orleans Saints \tYear: 2014 \tLosses: 9\n",
      "Team: New Orleans Saints \tYear: 2015 \tLosses: 9\n",
      "Team: New Orleans Saints \tYear: 2016 \tLosses: 9\n",
      "Team: New Orleans Saints \tYear: 2017 \tLosses: 5\n",
      "Team: New Orleans Saints \tYear: 2019 \tLosses: 3\n",
      "Team: New Orleans Saints \tYear: 2020 \tLosses: 4\n",
      "Team: New Orleans Saints \tYear: 2021 \tLosses: 8\n",
      "Team: New Orleans Saints \tYear: 2022 \tLosses: 10\n",
      "Team: New York Giants \tYear: 2012 \tLosses: 7\n",
      "Team: New York Giants \tYear: 2013 \tLosses: 9\n",
      "Team: New York Giants \tYear: 2014 \tLosses: 10\n",
      "Team: New York Giants \tYear: 2015 \tLosses: 10\n",
      "Team: New York Giants \tYear: 2016 \tLosses: 5\n",
      "Team: New York Giants \tYear: 2017 \tLosses: 13\n",
      "Team: New York Giants \tYear: 2018 \tLosses: 11\n",
      "Team: New York Giants \tYear: 2019 \tLosses: 12\n",
      "Team: New York Giants \tYear: 2020 \tLosses: 10\n",
      "Team: New York Giants \tYear: 2021 \tLosses: 13\n",
      "Team: New York Giants \tYear: 2022 \tLosses: 7\n",
      "Team: New York Jets \tYear: 2012 \tLosses: 10\n",
      "Team: New York Jets \tYear: 2013 \tLosses: 8\n",
      "Team: New York Jets \tYear: 2014 \tLosses: 12\n",
      "Team: New York Jets \tYear: 2015 \tLosses: 6\n",
      "Team: New York Jets \tYear: 2016 \tLosses: 11\n",
      "Team: New York Jets \tYear: 2017 \tLosses: 11\n",
      "Team: New York Jets \tYear: 2018 \tLosses: 12\n",
      "Team: New York Jets \tYear: 2019 \tLosses: 9\n",
      "Team: New York Jets \tYear: 2020 \tLosses: 14\n",
      "Team: New York Jets \tYear: 2021 \tLosses: 13\n",
      "Team: New York Jets \tYear: 2022 \tLosses: 10\n",
      "Team: Philadelphia Eagles \tYear: 2012 \tLosses: 12\n",
      "Team: Philadelphia Eagles \tYear: 2013 \tLosses: 6\n",
      "Team: Philadelphia Eagles \tYear: 2014 \tLosses: 6\n",
      "Team: Philadelphia Eagles \tYear: 2015 \tLosses: 9\n",
      "Team: Philadelphia Eagles \tYear: 2016 \tLosses: 9\n",
      "Team: Philadelphia Eagles \tYear: 2017 \tLosses: 3\n",
      "Team: Philadelphia Eagles \tYear: 2018 \tLosses: 7\n",
      "Team: Philadelphia Eagles \tYear: 2019 \tLosses: 7\n",
      "Team: Philadelphia Eagles \tYear: 2020 \tLosses: 11\n",
      "Team: Philadelphia Eagles \tYear: 2021 \tLosses: 8\n",
      "Team: Philadelphia Eagles \tYear: 2022 \tLosses: 3\n",
      "Team: Pittsburgh Steelers \tYear: 2012 \tLosses: 8\n",
      "Team: Pittsburgh Steelers \tYear: 2013 \tLosses: 8\n",
      "Team: Pittsburgh Steelers \tYear: 2014 \tLosses: 5\n",
      "Team: Pittsburgh Steelers \tYear: 2015 \tLosses: 6\n",
      "Team: Pittsburgh Steelers \tYear: 2016 \tLosses: 5\n",
      "Team: Pittsburgh Steelers \tYear: 2017 \tLosses: 3\n",
      "Team: Pittsburgh Steelers \tYear: 2018 \tLosses: 6\n",
      "Team: Pittsburgh Steelers \tYear: 2019 \tLosses: 8\n",
      "Team: Pittsburgh Steelers \tYear: 2020 \tLosses: 4\n",
      "Team: Pittsburgh Steelers \tYear: 2021 \tLosses: 7\n",
      "Team: Pittsburgh Steelers \tYear: 2022 \tLosses: 8\n",
      "Team: San Francisco 49ers \tYear: 2012 \tLosses: 4\n",
      "Team: San Francisco 49ers \tYear: 2013 \tLosses: 4\n",
      "Team: San Francisco 49ers \tYear: 2014 \tLosses: 8\n",
      "Team: San Francisco 49ers \tYear: 2015 \tLosses: 11\n",
      "Team: San Francisco 49ers \tYear: 2016 \tLosses: 14\n",
      "Team: San Francisco 49ers \tYear: 2017 \tLosses: 10\n",
      "Team: San Francisco 49ers \tYear: 2018 \tLosses: 12\n",
      "Team: San Francisco 49ers \tYear: 2019 \tLosses: 3\n",
      "Team: San Francisco 49ers \tYear: 2020 \tLosses: 10\n",
      "Team: San Francisco 49ers \tYear: 2021 \tLosses: 7\n",
      "Team: San Francisco 49ers \tYear: 2022 \tLosses: 4\n",
      "Team: Seattle Seahawks \tYear: 2012 \tLosses: 5\n",
      "Team: Seattle Seahawks \tYear: 2013 \tLosses: 3\n",
      "Team: Seattle Seahawks \tYear: 2014 \tLosses: 4\n",
      "Team: Seattle Seahawks \tYear: 2015 \tLosses: 6\n",
      "Team: Seattle Seahawks \tYear: 2016 \tLosses: 5\n",
      "Team: Seattle Seahawks \tYear: 2017 \tLosses: 7\n",
      "Team: Seattle Seahawks \tYear: 2018 \tLosses: 6\n",
      "Team: Seattle Seahawks \tYear: 2019 \tLosses: 5\n",
      "Team: Seattle Seahawks \tYear: 2020 \tLosses: 4\n",
      "Team: Seattle Seahawks \tYear: 2021 \tLosses: 10\n",
      "Team: Seattle Seahawks \tYear: 2022 \tLosses: 8\n",
      "Team: Tampa Bay Buccaneers \tYear: 2012 \tLosses: 9\n",
      "Team: Tampa Bay Buccaneers \tYear: 2013 \tLosses: 12\n",
      "Team: Tampa Bay Buccaneers \tYear: 2014 \tLosses: 14\n",
      "Team: Tampa Bay Buccaneers \tYear: 2015 \tLosses: 10\n",
      "Team: Tampa Bay Buccaneers \tYear: 2016 \tLosses: 7\n",
      "Team: Tampa Bay Buccaneers \tYear: 2017 \tLosses: 11\n",
      "Team: Tampa Bay Buccaneers \tYear: 2018 \tLosses: 11\n",
      "Team: Tampa Bay Buccaneers \tYear: 2019 \tLosses: 9\n",
      "Team: Tampa Bay Buccaneers \tYear: 2020 \tLosses: 5\n",
      "Team: Tampa Bay Buccaneers \tYear: 2021 \tLosses: 4\n",
      "Team: Tampa Bay Buccaneers \tYear: 2022 \tLosses: 9\n",
      "Team: Tennessee Titans \tYear: 2012 \tLosses: 10\n",
      "Team: Tennessee Titans \tYear: 2013 \tLosses: 9\n",
      "Team: Tennessee Titans \tYear: 2014 \tLosses: 14\n",
      "Team: Tennessee Titans \tYear: 2015 \tLosses: 13\n",
      "Team: Tennessee Titans \tYear: 2016 \tLosses: 7\n",
      "Team: Tennessee Titans \tYear: 2017 \tLosses: 7\n",
      "Team: Tennessee Titans \tYear: 2018 \tLosses: 7\n",
      "Team: Tennessee Titans \tYear: 2019 \tLosses: 7\n",
      "Team: Tennessee Titans \tYear: 2020 \tLosses: 5\n",
      "Team: Tennessee Titans \tYear: 2021 \tLosses: 5\n",
      "Team: Tennessee Titans \tYear: 2022 \tLosses: 10\n",
      "Team: Washington Commanders \tYear: 2012 \tLosses: 6\n",
      "Team: Washington Commanders \tYear: 2013 \tLosses: 13\n",
      "Team: Washington Commanders \tYear: 2014 \tLosses: 12\n",
      "Team: Washington Commanders \tYear: 2015 \tLosses: 7\n",
      "Team: Washington Commanders \tYear: 2016 \tLosses: 7\n",
      "Team: Washington Commanders \tYear: 2017 \tLosses: 9\n",
      "Team: Washington Commanders \tYear: 2018 \tLosses: 9\n",
      "Team: Washington Commanders \tYear: 2019 \tLosses: 13\n",
      "Team: Washington Commanders \tYear: 2020 \tLosses: 9\n",
      "Team: Washington Commanders \tYear: 2021 \tLosses: 10\n",
      "Team: Washington Commanders \tYear: 2022 \tLosses: 8\n"
     ]
    }
   ],
   "source": [
    "team_names = nflLosses['Team'].unique()\n",
    "\n",
    "# Iterate over each team\n",
    "for team_name in team_names:\n",
    "    team_data = nflLosses[nflLosses['Team'] == team_name]\n",
    "    \n",
    "    # Display the total  Losses for each year\n",
    "    for year in team_data['Year'].unique():\n",
    "        team_Losses = team_data.loc[team_data['Year'] == year, 'Losses'].values[0]\n",
    "        print(\"Team:\", team_name, \"\\tYear:\", year, \"\\tLosses:\", team_Losses)"
   ]
  },
  {
   "cell_type": "markdown",
   "id": "b7c99af6",
   "metadata": {},
   "source": [
    "#### Calculate Descriptive Statistics on  Losses for all Teams. These statistics losses per team and their mean, median, standard deviation, variance, min, max, range, and sum."
   ]
  },
  {
   "cell_type": "markdown",
   "id": "186c620f",
   "metadata": {},
   "source": [
    "### Arizona Cardinals"
   ]
  },
  {
   "cell_type": "code",
   "execution_count": 7,
   "id": "7444d978",
   "metadata": {},
   "outputs": [
    {
     "name": "stdout",
     "output_type": "stream",
     "text": [
      "Arizona Cardinals  Losses Mean: 8.272727272727273\n",
      "Arizona Cardinals  Losses Median: 8.0\n",
      "Arizona Cardinals  Losses Standard Deviation: 3.2277208395680406\n",
      "Arizona Cardinals  Losses Variance: 10.418181818181818\n",
      "Arizona Cardinals  Losses Minimum: 3\n",
      "Arizona Cardinals  Losses Maximum: 13\n",
      "Arizona Cardinals  Losses Range: 10\n",
      "Arizona Cardinals Total Losses 2012-2022: 91\n"
     ]
    }
   ],
   "source": [
    "team_name1 = 'Arizona Cardinals'\n",
    "cardinals_data = nflLosses[nflLosses['Team'] == team_name1]\n",
    "mean_value = cardinals_data['Losses'].mean()\n",
    "median_value = cardinals_data['Losses'].median()\n",
    "std_value = cardinals_data['Losses'].std()\n",
    "var_value = cardinals_data['Losses'].var()\n",
    "min_value = cardinals_data['Losses'].min()\n",
    "max_value = cardinals_data['Losses'].max()\n",
    "data_range = max_value - min_value\n",
    "total_points = cardinals_data['Losses'].sum()\n",
    "print(\"Arizona Cardinals  Losses Mean:\", mean_value)\n",
    "print(\"Arizona Cardinals  Losses Median:\", median_value)\n",
    "print(\"Arizona Cardinals  Losses Standard Deviation:\", std_value)\n",
    "print(\"Arizona Cardinals  Losses Variance:\", var_value)\n",
    "print(\"Arizona Cardinals  Losses Minimum:\", min_value)\n",
    "print(\"Arizona Cardinals  Losses Maximum:\", max_value)\n",
    "print(\"Arizona Cardinals  Losses Range:\", data_range)\n",
    "print(\"Arizona Cardinals Total Losses 2012-2022:\", total_points)"
   ]
  },
  {
   "cell_type": "markdown",
   "id": "9c54bb44",
   "metadata": {},
   "source": [
    "### Atlanta Falcons"
   ]
  },
  {
   "cell_type": "code",
   "execution_count": 8,
   "id": "cf5c0251",
   "metadata": {},
   "outputs": [
    {
     "name": "stdout",
     "output_type": "stream",
     "text": [
      "Atlanta Falcons  Losses Mean: 8.545454545454545\n",
      "Atlanta Falcons  Losses Median: 9.0\n",
      "Atlanta Falcons  Losses Standard Deviation: 2.841254524453463\n",
      "Atlanta Falcons  Losses Variance: 8.072727272727274\n",
      "Atlanta Falcons  Losses Minimum: 3\n",
      "Atlanta Falcons  Losses Maximum: 12\n",
      "Atlanta Falcons  Losses Range: 9\n",
      "Atlanta Falcons Total Losses 2012-2022: 94\n"
     ]
    }
   ],
   "source": [
    "team_name2 = 'Atlanta Falcons'\n",
    "falcons_data = nflLosses[nflLosses['Team'] == team_name2]\n",
    "mean_value = falcons_data['Losses'].mean()\n",
    "median_value = falcons_data['Losses'].median()\n",
    "std_value = falcons_data['Losses'].std()\n",
    "var_value = falcons_data['Losses'].var()\n",
    "min_value = falcons_data['Losses'].min()\n",
    "max_value = falcons_data['Losses'].max()\n",
    "data_range = max_value - min_value\n",
    "total_points = falcons_data['Losses'].sum()\n",
    "print(\"Atlanta Falcons  Losses Mean:\", mean_value)\n",
    "print(\"Atlanta Falcons  Losses Median:\", median_value)\n",
    "print(\"Atlanta Falcons  Losses Standard Deviation:\", std_value)\n",
    "print(\"Atlanta Falcons  Losses Variance:\", var_value)\n",
    "print(\"Atlanta Falcons  Losses Minimum:\", min_value)\n",
    "print(\"Atlanta Falcons  Losses Maximum:\", max_value)\n",
    "print(\"Atlanta Falcons  Losses Range:\", data_range)\n",
    "print(\"Atlanta Falcons Total Losses 2012-2022:\", total_points)"
   ]
  },
  {
   "cell_type": "markdown",
   "id": "7f0431cc",
   "metadata": {},
   "source": [
    "### Baltimore Ravens"
   ]
  },
  {
   "cell_type": "code",
   "execution_count": 9,
   "id": "76b5c9c4",
   "metadata": {},
   "outputs": [
    {
     "name": "stdout",
     "output_type": "stream",
     "text": [
      "Baltimore Ravens  Losses Mean: 6.818181818181818\n",
      "Baltimore Ravens  Losses Median: 7.0\n",
      "Baltimore Ravens  Losses Standard Deviation: 2.3159525823376357\n",
      "Baltimore Ravens  Losses Variance: 5.363636363636363\n",
      "Baltimore Ravens  Losses Minimum: 2\n",
      "Baltimore Ravens  Losses Maximum: 11\n",
      "Baltimore Ravens  Losses Range: 9\n",
      "Baltimore Ravens Total Losses 2012-2022: 75\n"
     ]
    }
   ],
   "source": [
    "team_name3 = 'Baltimore Ravens'\n",
    "ravens_data = nflLosses[nflLosses['Team'] == team_name3]\n",
    "mean_value = ravens_data['Losses'].mean()\n",
    "median_value = ravens_data['Losses'].median()\n",
    "std_value = ravens_data['Losses'].std()\n",
    "var_value = ravens_data['Losses'].var()\n",
    "min_value = ravens_data['Losses'].min()\n",
    "max_value = ravens_data['Losses'].max()\n",
    "data_range = max_value - min_value\n",
    "total_points = ravens_data['Losses'].sum()\n",
    "print(\"Baltimore Ravens  Losses Mean:\", mean_value)\n",
    "print(\"Baltimore Ravens  Losses Median:\", median_value)\n",
    "print(\"Baltimore Ravens  Losses Standard Deviation:\", std_value)\n",
    "print(\"Baltimore Ravens  Losses Variance:\", var_value)\n",
    "print(\"Baltimore Ravens  Losses Minimum:\", min_value)\n",
    "print(\"Baltimore Ravens  Losses Maximum:\", max_value)\n",
    "print(\"Baltimore Ravens  Losses Range:\", data_range)\n",
    "print(\"Baltimore Ravens Total Losses 2012-2022:\", total_points)"
   ]
  },
  {
   "cell_type": "markdown",
   "id": "95049040",
   "metadata": {},
   "source": [
    "### Buffalo Bills"
   ]
  },
  {
   "cell_type": "code",
   "execution_count": 10,
   "id": "09989626",
   "metadata": {},
   "outputs": [
    {
     "name": "stdout",
     "output_type": "stream",
     "text": [
      "Buffalo Bills  Losses Mean: 7.181818181818182\n",
      "Buffalo Bills  Losses Median: 7.0\n",
      "Buffalo Bills  Losses Standard Deviation: 2.5619594773603196\n",
      "Buffalo Bills  Losses Variance: 6.563636363636363\n",
      "Buffalo Bills  Losses Minimum: 3\n",
      "Buffalo Bills  Losses Maximum: 10\n",
      "Buffalo Bills  Losses Range: 7\n",
      "Buffalo Bills Total Losses 2012-2022: 79\n"
     ]
    }
   ],
   "source": [
    "team_name4 = 'Buffalo Bills'\n",
    "bills_data = nflLosses[nflLosses['Team'] == team_name4]\n",
    "mean_value = bills_data['Losses'].mean()\n",
    "median_value = bills_data['Losses'].median()\n",
    "std_value = bills_data['Losses'].std()\n",
    "var_value = bills_data['Losses'].var()\n",
    "min_value = bills_data['Losses'].min()\n",
    "max_value = bills_data['Losses'].max()\n",
    "data_range = max_value - min_value\n",
    "total_points = bills_data['Losses'].sum()\n",
    "print(\"Buffalo Bills  Losses Mean:\", mean_value)\n",
    "print(\"Buffalo Bills  Losses Median:\", median_value)\n",
    "print(\"Buffalo Bills  Losses Standard Deviation:\", std_value)\n",
    "print(\"Buffalo Bills  Losses Variance:\", var_value)\n",
    "print(\"Buffalo Bills  Losses Minimum:\", min_value)\n",
    "print(\"Buffalo Bills  Losses Maximum:\", max_value)\n",
    "print(\"Buffalo Bills  Losses Range:\", data_range)\n",
    "print(\"Buffalo Bills Total Losses 2012-2022:\", total_points)"
   ]
  },
  {
   "cell_type": "markdown",
   "id": "e4ca8cea",
   "metadata": {},
   "source": [
    "### Carolina Panthers"
   ]
  },
  {
   "cell_type": "code",
   "execution_count": 11,
   "id": "086d4169",
   "metadata": {},
   "outputs": [
    {
     "name": "stdout",
     "output_type": "stream",
     "text": [
      "Carolina Panthers  Losses Mean: 8.181818181818182\n",
      "Carolina Panthers  Losses Median: 9.0\n",
      "Carolina Panthers  Losses Standard Deviation: 3.4298157915019813\n",
      "Carolina Panthers  Losses Variance: 11.763636363636364\n",
      "Carolina Panthers  Losses Minimum: 1\n",
      "Carolina Panthers  Losses Maximum: 12\n",
      "Carolina Panthers  Losses Range: 11\n",
      "Carolina Panthers Total Losses 2012-2022: 90\n"
     ]
    }
   ],
   "source": [
    "team_name5 = 'Carolina Panthers'\n",
    "panthers_data = nflLosses[nflLosses['Team'] == team_name5]\n",
    "mean_value = panthers_data['Losses'].mean()\n",
    "median_value = panthers_data['Losses'].median()\n",
    "std_value = panthers_data['Losses'].std()\n",
    "var_value = panthers_data['Losses'].var()\n",
    "min_value = panthers_data['Losses'].min()\n",
    "max_value = panthers_data['Losses'].max()\n",
    "data_range = max_value - min_value\n",
    "total_points = panthers_data['Losses'].sum()\n",
    "print(\"Carolina Panthers  Losses Mean:\", mean_value)\n",
    "print(\"Carolina Panthers  Losses Median:\", median_value)\n",
    "print(\"Carolina Panthers  Losses Standard Deviation:\", std_value)\n",
    "print(\"Carolina Panthers  Losses Variance:\", var_value)\n",
    "print(\"Carolina Panthers  Losses Minimum:\", min_value)\n",
    "print(\"Carolina Panthers  Losses Maximum:\", max_value)\n",
    "print(\"Carolina Panthers  Losses Range:\", data_range)\n",
    "print(\"Carolina Panthers Total Losses 2012-2022:\", total_points)"
   ]
  },
  {
   "cell_type": "markdown",
   "id": "a8e04f1e",
   "metadata": {},
   "source": [
    "### Chicago Bears"
   ]
  },
  {
   "cell_type": "code",
   "execution_count": 12,
   "id": "95cef721",
   "metadata": {},
   "outputs": [
    {
     "name": "stdout",
     "output_type": "stream",
     "text": [
      "Chicago Bears  Losses Mean: 9.454545454545455\n",
      "Chicago Bears  Losses Median: 10.0\n",
      "Chicago Bears  Losses Standard Deviation: 2.9787123514578027\n",
      "Chicago Bears  Losses Variance: 8.872727272727271\n",
      "Chicago Bears  Losses Minimum: 4\n",
      "Chicago Bears  Losses Maximum: 14\n",
      "Chicago Bears  Losses Range: 10\n",
      "Chicago Bears Total Losses 2012-2022: 104\n"
     ]
    }
   ],
   "source": [
    "team_name6 = 'Chicago Bears'\n",
    "bears_data = nflLosses[nflLosses['Team'] == team_name6]\n",
    "mean_value = bears_data['Losses'].mean()\n",
    "median_value = bears_data['Losses'].median()\n",
    "std_value = bears_data['Losses'].std()\n",
    "var_value = bears_data['Losses'].var()\n",
    "min_value = bears_data['Losses'].min()\n",
    "max_value = bears_data['Losses'].max()\n",
    "data_range = max_value - min_value\n",
    "total_points = bears_data['Losses'].sum()\n",
    "print(\"Chicago Bears  Losses Mean:\", mean_value)\n",
    "print(\"Chicago Bears  Losses Median:\", median_value)\n",
    "print(\"Chicago Bears  Losses Standard Deviation:\", std_value)\n",
    "print(\"Chicago Bears  Losses Variance:\", var_value)\n",
    "print(\"Chicago Bears  Losses Minimum:\", min_value)\n",
    "print(\"Chicago Bears  Losses Maximum:\", max_value)\n",
    "print(\"Chicago Bears  Losses Range:\", data_range)\n",
    "print(\"Chicago Bears Total Losses 2012-2022:\", total_points)"
   ]
  },
  {
   "cell_type": "markdown",
   "id": "c44407e7",
   "metadata": {},
   "source": [
    "### Cincinnati Bengals"
   ]
  },
  {
   "cell_type": "code",
   "execution_count": 13,
   "id": "248b9120",
   "metadata": {},
   "outputs": [
    {
     "name": "stdout",
     "output_type": "stream",
     "text": [
      "Cincinnati Bengals  Losses Mean: 7.636363636363637\n",
      "Cincinnati Bengals  Losses Median: 7.0\n",
      "Cincinnati Bengals  Losses Standard Deviation: 3.2333489534143167\n",
      "Cincinnati Bengals  Losses Variance: 10.454545454545457\n",
      "Cincinnati Bengals  Losses Minimum: 4\n",
      "Cincinnati Bengals  Losses Maximum: 14\n",
      "Cincinnati Bengals  Losses Range: 10\n",
      "Cincinnati Bengals Total Losses 2012-2022: 84\n"
     ]
    }
   ],
   "source": [
    "team_name7 = 'Cincinnati Bengals'\n",
    "bengals_data = nflLosses[nflLosses['Team'] == team_name7]\n",
    "mean_value = bengals_data['Losses'].mean()\n",
    "median_value = bengals_data['Losses'].median()\n",
    "std_value = bengals_data['Losses'].std()\n",
    "var_value = bengals_data['Losses'].var()\n",
    "min_value = bengals_data['Losses'].min()\n",
    "max_value = bengals_data['Losses'].max()\n",
    "data_range = max_value - min_value\n",
    "total_points = bengals_data['Losses'].sum()\n",
    "print(\"Cincinnati Bengals  Losses Mean:\", mean_value)\n",
    "print(\"Cincinnati Bengals  Losses Median:\", median_value)\n",
    "print(\"Cincinnati Bengals  Losses Standard Deviation:\", std_value)\n",
    "print(\"Cincinnati Bengals  Losses Variance:\", var_value)\n",
    "print(\"Cincinnati Bengals  Losses Minimum:\", min_value)\n",
    "print(\"Cincinnati Bengals  Losses Maximum:\", max_value)\n",
    "print(\"Cincinnati Bengals  Losses Range:\", data_range)\n",
    "print(\"Cincinnati Bengals Total Losses 2012-2022:\", total_points)"
   ]
  },
  {
   "cell_type": "markdown",
   "id": "173eaf2f",
   "metadata": {},
   "source": [
    "### Cleveland Browns"
   ]
  },
  {
   "cell_type": "code",
   "execution_count": 14,
   "id": "e52f3585",
   "metadata": {},
   "outputs": [
    {
     "name": "stdout",
     "output_type": "stream",
     "text": [
      "Cleveland Browns  Losses Mean: 10.727272727272727\n",
      "Cleveland Browns  Losses Median: 10.0\n",
      "Cleveland Browns  Losses Standard Deviation: 3.1651511525015383\n",
      "Cleveland Browns  Losses Variance: 10.018181818181818\n",
      "Cleveland Browns  Losses Minimum: 5\n",
      "Cleveland Browns  Losses Maximum: 16\n",
      "Cleveland Browns  Losses Range: 11\n",
      "Cleveland Browns Total Losses 2012-2022: 118\n"
     ]
    }
   ],
   "source": [
    "team_name8 = 'Cleveland Browns'\n",
    "browns_data = nflLosses[nflLosses['Team'] == team_name8]\n",
    "mean_value = browns_data['Losses'].mean()\n",
    "median_value = browns_data['Losses'].median()\n",
    "std_value = browns_data['Losses'].std()\n",
    "var_value = browns_data['Losses'].var()\n",
    "min_value = browns_data['Losses'].min()\n",
    "max_value = browns_data['Losses'].max()\n",
    "data_range = max_value - min_value\n",
    "total_points = browns_data['Losses'].sum()\n",
    "print(\"Cleveland Browns  Losses Mean:\", mean_value)\n",
    "print(\"Cleveland Browns  Losses Median:\", median_value)\n",
    "print(\"Cleveland Browns  Losses Standard Deviation:\", std_value)\n",
    "print(\"Cleveland Browns  Losses Variance:\", var_value)\n",
    "print(\"Cleveland Browns  Losses Minimum:\", min_value)\n",
    "print(\"Cleveland Browns  Losses Maximum:\", max_value)\n",
    "print(\"Cleveland Browns  Losses Range:\", data_range)\n",
    "print(\"Cleveland Browns Total Losses 2012-2022:\", total_points)"
   ]
  },
  {
   "cell_type": "markdown",
   "id": "57de92b0",
   "metadata": {},
   "source": [
    "### Dallas Cowboys"
   ]
  },
  {
   "cell_type": "code",
   "execution_count": 15,
   "id": "09b6c943",
   "metadata": {},
   "outputs": [
    {
     "name": "stdout",
     "output_type": "stream",
     "text": [
      "Dallas Cowboys  Losses Mean: 6.909090909090909\n",
      "Dallas Cowboys  Losses Median: 7.0\n",
      "Dallas Cowboys  Losses Standard Deviation: 2.662876093795784\n",
      "Dallas Cowboys  Losses Variance: 7.090909090909092\n",
      "Dallas Cowboys  Losses Minimum: 3\n",
      "Dallas Cowboys  Losses Maximum: 12\n",
      "Dallas Cowboys  Losses Range: 9\n",
      "Dallas Cowboys Total Losses 2012-2022: 76\n"
     ]
    }
   ],
   "source": [
    "team_name9 = 'Dallas Cowboys'\n",
    "cowboys_data = nflLosses[nflLosses['Team'] == team_name9]\n",
    "mean_value = cowboys_data['Losses'].mean()\n",
    "median_value = cowboys_data['Losses'].median()\n",
    "std_value = cowboys_data['Losses'].std()\n",
    "var_value = cowboys_data['Losses'].var()\n",
    "min_value = cowboys_data['Losses'].min()\n",
    "max_value = cowboys_data['Losses'].max()\n",
    "data_range = max_value - min_value\n",
    "total_points = cowboys_data['Losses'].sum()\n",
    "print(\"Dallas Cowboys  Losses Mean:\", mean_value)\n",
    "print(\"Dallas Cowboys  Losses Median:\", median_value)\n",
    "print(\"Dallas Cowboys  Losses Standard Deviation:\", std_value)\n",
    "print(\"Dallas Cowboys  Losses Variance:\", var_value)\n",
    "print(\"Dallas Cowboys  Losses Minimum:\", min_value)\n",
    "print(\"Dallas Cowboys  Losses Maximum:\", max_value)\n",
    "print(\"Dallas Cowboys  Losses Range:\", data_range)\n",
    "print(\"Dallas Cowboys Total Losses 2012-2022:\", total_points)"
   ]
  },
  {
   "cell_type": "markdown",
   "id": "ed7577b1",
   "metadata": {},
   "source": [
    "### Denver Broncos"
   ]
  },
  {
   "cell_type": "code",
   "execution_count": 16,
   "id": "5792268c",
   "metadata": {},
   "outputs": [
    {
     "name": "stdout",
     "output_type": "stream",
     "text": [
      "Denver Broncos  Losses Mean: 7.636363636363637\n",
      "Denver Broncos  Losses Median: 9.0\n",
      "Denver Broncos  Losses Standard Deviation: 3.529099807960304\n",
      "Denver Broncos  Losses Variance: 12.454545454545455\n",
      "Denver Broncos  Losses Minimum: 3\n",
      "Denver Broncos  Losses Maximum: 12\n",
      "Denver Broncos  Losses Range: 9\n",
      "Denver Broncos Total Losses 2012-2022: 84\n"
     ]
    }
   ],
   "source": [
    "team_name10 = 'Denver Broncos'\n",
    "broncos_data = nflLosses[nflLosses['Team'] == team_name10]\n",
    "mean_value = broncos_data['Losses'].mean()\n",
    "median_value = broncos_data['Losses'].median()\n",
    "std_value = broncos_data['Losses'].std()\n",
    "var_value = broncos_data['Losses'].var()\n",
    "min_value = broncos_data['Losses'].min()\n",
    "max_value = broncos_data['Losses'].max()\n",
    "data_range = max_value - min_value\n",
    "total_points = broncos_data['Losses'].sum()\n",
    "print(\"Denver Broncos  Losses Mean:\", mean_value)\n",
    "print(\"Denver Broncos  Losses Median:\", median_value)\n",
    "print(\"Denver Broncos  Losses Standard Deviation:\", std_value)\n",
    "print(\"Denver Broncos  Losses Variance:\", var_value)\n",
    "print(\"Denver Broncos  Losses Minimum:\", min_value)\n",
    "print(\"Denver Broncos  Losses Maximum:\", max_value)\n",
    "print(\"Denver Broncos  Losses Range:\", data_range)\n",
    "print(\"Denver Broncos Total Losses 2012-2022:\", total_points)"
   ]
  },
  {
   "cell_type": "markdown",
   "id": "ac9a35d8",
   "metadata": {},
   "source": [
    "### Detroit Lions"
   ]
  },
  {
   "cell_type": "code",
   "execution_count": 17,
   "id": "95546a0e",
   "metadata": {},
   "outputs": [
    {
     "name": "stdout",
     "output_type": "stream",
     "text": [
      "Detroit Lions  Losses Mean: 9.363636363636363\n",
      "Detroit Lions  Losses Median: 9.0\n",
      "Detroit Lions  Losses Standard Deviation: 2.5009089256799126\n",
      "Detroit Lions  Losses Variance: 6.254545454545455\n",
      "Detroit Lions  Losses Minimum: 5\n",
      "Detroit Lions  Losses Maximum: 13\n",
      "Detroit Lions  Losses Range: 8\n",
      "Detroit Lions Total Losses 2012-2022: 103\n"
     ]
    }
   ],
   "source": [
    "team_name11 = 'Detroit Lions'\n",
    "lions_data = nflLosses[nflLosses['Team'] == team_name11]\n",
    "mean_value = lions_data['Losses'].mean()\n",
    "median_value = lions_data['Losses'].median()\n",
    "std_value = lions_data['Losses'].std()\n",
    "var_value = lions_data['Losses'].var()\n",
    "min_value = lions_data['Losses'].min()\n",
    "max_value = lions_data['Losses'].max()\n",
    "data_range = max_value - min_value\n",
    "total_points = lions_data['Losses'].sum()\n",
    "print(\"Detroit Lions  Losses Mean:\", mean_value)\n",
    "print(\"Detroit Lions  Losses Median:\", median_value)\n",
    "print(\"Detroit Lions  Losses Standard Deviation:\", std_value)\n",
    "print(\"Detroit Lions  Losses Variance:\", var_value)\n",
    "print(\"Detroit Lions  Losses Minimum:\", min_value)\n",
    "print(\"Detroit Lions  Losses Maximum:\", max_value)\n",
    "print(\"Detroit Lions  Losses Range:\", data_range)\n",
    "print(\"Detroit Lions Total Losses 2012-2022:\", total_points)"
   ]
  },
  {
   "cell_type": "markdown",
   "id": "c086e216",
   "metadata": {},
   "source": [
    "### Green Bay Packers"
   ]
  },
  {
   "cell_type": "code",
   "execution_count": 18,
   "id": "10cc7e0f",
   "metadata": {},
   "outputs": [
    {
     "name": "stdout",
     "output_type": "stream",
     "text": [
      "Green Bay Packers  Losses Mean: 5.909090909090909\n",
      "Green Bay Packers  Losses Median: 6.0\n",
      "Green Bay Packers  Losses Standard Deviation: 2.3432688900143512\n",
      "Green Bay Packers  Losses Variance: 5.49090909090909\n",
      "Green Bay Packers  Losses Minimum: 3\n",
      "Green Bay Packers  Losses Maximum: 9\n",
      "Green Bay Packers  Losses Range: 6\n",
      "Green Bay Packers Total Losses 2012-2022: 65\n"
     ]
    }
   ],
   "source": [
    "team_name12 = 'Green Bay Packers'\n",
    "packers_data = nflLosses[nflLosses['Team'] == team_name12]\n",
    "mean_value = packers_data['Losses'].mean()\n",
    "median_value = packers_data['Losses'].median()\n",
    "std_value = packers_data['Losses'].std()\n",
    "var_value = packers_data['Losses'].var()\n",
    "min_value = packers_data['Losses'].min()\n",
    "max_value = packers_data['Losses'].max()\n",
    "data_range = max_value - min_value\n",
    "total_points = packers_data['Losses'].sum()\n",
    "print(\"Green Bay Packers  Losses Mean:\", mean_value)\n",
    "print(\"Green Bay Packers  Losses Median:\", median_value)\n",
    "print(\"Green Bay Packers  Losses Standard Deviation:\", std_value)\n",
    "print(\"Green Bay Packers  Losses Variance:\", var_value)\n",
    "print(\"Green Bay Packers  Losses Minimum:\", min_value)\n",
    "print(\"Green Bay Packers  Losses Maximum:\", max_value)\n",
    "print(\"Green Bay Packers  Losses Range:\", data_range)\n",
    "print(\"Green Bay Packers Total Losses 2012-2022:\", total_points)"
   ]
  },
  {
   "cell_type": "markdown",
   "id": "8d26c50c",
   "metadata": {},
   "source": [
    "### Houston Texans"
   ]
  },
  {
   "cell_type": "code",
   "execution_count": 19,
   "id": "495d2c07",
   "metadata": {},
   "outputs": [
    {
     "name": "stdout",
     "output_type": "stream",
     "text": [
      "Houston Texans  Losses Mean: 9.090909090909092\n",
      "Houston Texans  Losses Median: 7.0\n",
      "Houston Texans  Losses Standard Deviation: 3.7001228480834376\n",
      "Houston Texans  Losses Variance: 13.690909090909091\n",
      "Houston Texans  Losses Minimum: 4\n",
      "Houston Texans  Losses Maximum: 14\n",
      "Houston Texans  Losses Range: 10\n",
      "Houston Texans Total Losses 2012-2022: 100\n"
     ]
    }
   ],
   "source": [
    "team_name13 = 'Houston Texans'\n",
    "texans_data = nflLosses[nflLosses['Team'] == team_name13]\n",
    "mean_value = texans_data['Losses'].mean()\n",
    "median_value = texans_data['Losses'].median()\n",
    "std_value = texans_data['Losses'].std()\n",
    "var_value = texans_data['Losses'].var()\n",
    "min_value = texans_data['Losses'].min()\n",
    "max_value = texans_data['Losses'].max()\n",
    "data_range = max_value - min_value\n",
    "total_points = texans_data['Losses'].sum()\n",
    "print(\"Houston Texans  Losses Mean:\", mean_value)\n",
    "print(\"Houston Texans  Losses Median:\", median_value)\n",
    "print(\"Houston Texans  Losses Standard Deviation:\", std_value)\n",
    "print(\"Houston Texans  Losses Variance:\", var_value)\n",
    "print(\"Houston Texans  Losses Minimum:\", min_value)\n",
    "print(\"Houston Texans  Losses Maximum:\", max_value)\n",
    "print(\"Houston Texans  Losses Range:\", data_range)\n",
    "print(\"Houston Texans Total Losses 2012-2022:\", total_points)"
   ]
  },
  {
   "cell_type": "markdown",
   "id": "b74d8fd8",
   "metadata": {},
   "source": [
    "### Indianapolis Colts"
   ]
  },
  {
   "cell_type": "code",
   "execution_count": 20,
   "id": "fbb59088",
   "metadata": {},
   "outputs": [
    {
     "name": "stdout",
     "output_type": "stream",
     "text": [
      "Indianapolis Colts  Losses Mean: 7.545454545454546\n",
      "Indianapolis Colts  Losses Median: 8.0\n",
      "Indianapolis Colts  Losses Standard Deviation: 2.6594599588501557\n",
      "Indianapolis Colts  Losses Variance: 7.072727272727273\n",
      "Indianapolis Colts  Losses Minimum: 5\n",
      "Indianapolis Colts  Losses Maximum: 12\n",
      "Indianapolis Colts  Losses Range: 7\n",
      "Indianapolis Colts Total Losses 2012-2022: 83\n"
     ]
    }
   ],
   "source": [
    "team_name14 = 'Indianapolis Colts'\n",
    "colts_data = nflLosses[nflLosses['Team'] == team_name14]\n",
    "mean_value = colts_data['Losses'].mean()\n",
    "median_value = colts_data['Losses'].median()\n",
    "std_value = colts_data['Losses'].std()\n",
    "var_value = colts_data['Losses'].var()\n",
    "min_value = colts_data['Losses'].min()\n",
    "max_value = colts_data['Losses'].max()\n",
    "data_range = max_value - min_value\n",
    "total_points = colts_data['Losses'].sum()\n",
    "print(\"Indianapolis Colts  Losses Mean:\", mean_value)\n",
    "print(\"Indianapolis Colts  Losses Median:\", median_value)\n",
    "print(\"Indianapolis Colts  Losses Standard Deviation:\", std_value)\n",
    "print(\"Indianapolis Colts  Losses Variance:\", var_value)\n",
    "print(\"Indianapolis Colts  Losses Minimum:\", min_value)\n",
    "print(\"Indianapolis Colts  Losses Maximum:\", max_value)\n",
    "print(\"Indianapolis Colts  Losses Range:\", data_range)\n",
    "print(\"Indianapolis Colts Total Losses 2012-2022:\", total_points)"
   ]
  },
  {
   "cell_type": "markdown",
   "id": "e8c6e962",
   "metadata": {},
   "source": [
    "### Jacksonville Jaguars"
   ]
  },
  {
   "cell_type": "code",
   "execution_count": 21,
   "id": "a1e5e5d6",
   "metadata": {},
   "outputs": [
    {
     "name": "stdout",
     "output_type": "stream",
     "text": [
      "Jacksonville Jaguars  Losses Mean: 11.545454545454545\n",
      "Jacksonville Jaguars  Losses Median: 12.0\n",
      "Jacksonville Jaguars  Losses Standard Deviation: 2.73362895666681\n",
      "Jacksonville Jaguars  Losses Variance: 7.4727272727272736\n",
      "Jacksonville Jaguars  Losses Minimum: 6\n",
      "Jacksonville Jaguars  Losses Maximum: 15\n",
      "Jacksonville Jaguars  Losses Range: 9\n",
      "Jacksonville Jaguars Total Losses 2012-2022: 127\n"
     ]
    }
   ],
   "source": [
    "team_name15 = 'Jacksonville Jaguars'\n",
    "jaguars_data = nflLosses[nflLosses['Team'] == team_name15]\n",
    "mean_value = jaguars_data['Losses'].mean()\n",
    "median_value = jaguars_data['Losses'].median()\n",
    "std_value = jaguars_data['Losses'].std()\n",
    "var_value = jaguars_data['Losses'].var()\n",
    "min_value = jaguars_data['Losses'].min()\n",
    "max_value = jaguars_data['Losses'].max()\n",
    "data_range = max_value - min_value\n",
    "total_points = jaguars_data['Losses'].sum()\n",
    "print(\"Jacksonville Jaguars  Losses Mean:\", mean_value)\n",
    "print(\"Jacksonville Jaguars  Losses Median:\", median_value)\n",
    "print(\"Jacksonville Jaguars  Losses Standard Deviation:\", std_value)\n",
    "print(\"Jacksonville Jaguars  Losses Variance:\", var_value)\n",
    "print(\"Jacksonville Jaguars  Losses Minimum:\", min_value)\n",
    "print(\"Jacksonville Jaguars  Losses Maximum:\", max_value)\n",
    "print(\"Jacksonville Jaguars  Losses Range:\", data_range)\n",
    "print(\"Jacksonville Jaguars Total Losses 2012-2022:\", total_points)"
   ]
  },
  {
   "cell_type": "markdown",
   "id": "7411a9f5",
   "metadata": {},
   "source": [
    "### Kansas City Chiefs"
   ]
  },
  {
   "cell_type": "code",
   "execution_count": 22,
   "id": "40a3c0eb",
   "metadata": {},
   "outputs": [
    {
     "name": "stdout",
     "output_type": "stream",
     "text": [
      "Kansas City Chiefs  Losses Mean: 5.363636363636363\n",
      "Kansas City Chiefs  Losses Median: 5.0\n",
      "Kansas City Chiefs  Losses Standard Deviation: 3.170890325215531\n",
      "Kansas City Chiefs  Losses Variance: 10.054545454545455\n",
      "Kansas City Chiefs  Losses Minimum: 2\n",
      "Kansas City Chiefs  Losses Maximum: 14\n",
      "Kansas City Chiefs  Losses Range: 12\n",
      "Kansas City Chiefs Total Losses 2012-2022: 59\n"
     ]
    }
   ],
   "source": [
    "team_name16 = 'Kansas City Chiefs'\n",
    "chiefs_data = nflLosses[nflLosses['Team'] == team_name16]\n",
    "mean_value = chiefs_data['Losses'].mean()\n",
    "median_value = chiefs_data['Losses'].median()\n",
    "std_value = chiefs_data['Losses'].std()\n",
    "var_value = chiefs_data['Losses'].var()\n",
    "min_value = chiefs_data['Losses'].min()\n",
    "max_value = chiefs_data['Losses'].max()\n",
    "data_range = max_value - min_value\n",
    "total_points = chiefs_data['Losses'].sum()\n",
    "print(\"Kansas City Chiefs  Losses Mean:\", mean_value)\n",
    "print(\"Kansas City Chiefs  Losses Median:\", median_value)\n",
    "print(\"Kansas City Chiefs  Losses Standard Deviation:\", std_value)\n",
    "print(\"Kansas City Chiefs  Losses Variance:\", var_value)\n",
    "print(\"Kansas City Chiefs  Losses Minimum:\", min_value)\n",
    "print(\"Kansas City Chiefs  Losses Maximum:\", max_value)\n",
    "print(\"Kansas City Chiefs  Losses Range:\", data_range)\n",
    "print(\"Kansas City Chiefs Total Losses 2012-2022:\", total_points)"
   ]
  },
  {
   "cell_type": "markdown",
   "id": "57e2b288",
   "metadata": {},
   "source": [
    "### Las Vegas Raiders"
   ]
  },
  {
   "cell_type": "code",
   "execution_count": 23,
   "id": "660b9495",
   "metadata": {},
   "outputs": [
    {
     "name": "stdout",
     "output_type": "stream",
     "text": [
      "Las Vegas Raiders  Losses Mean: 9.727272727272727\n",
      "Las Vegas Raiders  Losses Median: 10.0\n",
      "Las Vegas Raiders  Losses Standard Deviation: 2.6866674186027972\n",
      "Las Vegas Raiders  Losses Variance: 7.218181818181817\n",
      "Las Vegas Raiders  Losses Minimum: 4\n",
      "Las Vegas Raiders  Losses Maximum: 13\n",
      "Las Vegas Raiders  Losses Range: 9\n",
      "Las Vegas Raiders Total Losses 2012-2022: 107\n"
     ]
    }
   ],
   "source": [
    "team_name17 = 'Las Vegas Raiders'\n",
    "raiders_data = nflLosses[nflLosses['Team'] == team_name17]\n",
    "mean_value = raiders_data['Losses'].mean()\n",
    "median_value = raiders_data['Losses'].median()\n",
    "std_value = raiders_data['Losses'].std()\n",
    "var_value = raiders_data['Losses'].var()\n",
    "min_value = raiders_data['Losses'].min()\n",
    "max_value = raiders_data['Losses'].max()\n",
    "data_range = max_value - min_value\n",
    "total_points = raiders_data['Losses'].sum()\n",
    "print(\"Las Vegas Raiders  Losses Mean:\", mean_value)\n",
    "print(\"Las Vegas Raiders  Losses Median:\", median_value)\n",
    "print(\"Las Vegas Raiders  Losses Standard Deviation:\", std_value)\n",
    "print(\"Las Vegas Raiders  Losses Variance:\", var_value)\n",
    "print(\"Las Vegas Raiders  Losses Minimum:\", min_value)\n",
    "print(\"Las Vegas Raiders  Losses Maximum:\", max_value)\n",
    "print(\"Las Vegas Raiders  Losses Range:\", data_range)\n",
    "print(\"Las Vegas Raiders Total Losses 2012-2022:\", total_points)"
   ]
  },
  {
   "cell_type": "markdown",
   "id": "d660b9ec",
   "metadata": {},
   "source": [
    "### Los Angeles Chargers"
   ]
  },
  {
   "cell_type": "code",
   "execution_count": 24,
   "id": "9542bf0f",
   "metadata": {},
   "outputs": [
    {
     "name": "stdout",
     "output_type": "stream",
     "text": [
      "Los Angeles Chargers  Losses Mean: 8.363636363636363\n",
      "Los Angeles Chargers  Losses Median: 8.0\n",
      "Los Angeles Chargers  Losses Standard Deviation: 2.335496832484569\n",
      "Los Angeles Chargers  Losses Variance: 5.454545454545455\n",
      "Los Angeles Chargers  Losses Minimum: 4\n",
      "Los Angeles Chargers  Losses Maximum: 12\n",
      "Los Angeles Chargers  Losses Range: 8\n",
      "Los Angeles Chargers Total Losses 2012-2022: 92\n"
     ]
    }
   ],
   "source": [
    "team_name18 = 'Los Angeles Chargers'\n",
    "chargers_data = nflLosses[nflLosses['Team'] == team_name18]\n",
    "mean_value = chargers_data['Losses'].mean()\n",
    "median_value = chargers_data['Losses'].median()\n",
    "std_value = chargers_data['Losses'].std()\n",
    "var_value = chargers_data['Losses'].var()\n",
    "min_value = chargers_data['Losses'].min()\n",
    "max_value = chargers_data['Losses'].max()\n",
    "data_range = max_value - min_value\n",
    "total_points = chargers_data['Losses'].sum()\n",
    "print(\"Los Angeles Chargers  Losses Mean:\", mean_value)\n",
    "print(\"Los Angeles Chargers  Losses Median:\", median_value)\n",
    "print(\"Los Angeles Chargers  Losses Standard Deviation:\", std_value)\n",
    "print(\"Los Angeles Chargers  Losses Variance:\", var_value)\n",
    "print(\"Los Angeles Chargers  Losses Minimum:\", min_value)\n",
    "print(\"Los Angeles Chargers  Losses Maximum:\", max_value)\n",
    "print(\"Los Angeles Chargers  Losses Range:\", data_range)\n",
    "print(\"Los Angeles Chargers Total Losses 2012-2022:\", total_points)"
   ]
  },
  {
   "cell_type": "markdown",
   "id": "eec97d47",
   "metadata": {},
   "source": [
    "### Los Angeles Rams"
   ]
  },
  {
   "cell_type": "code",
   "execution_count": 25,
   "id": "52300d2a",
   "metadata": {},
   "outputs": [
    {
     "name": "stdout",
     "output_type": "stream",
     "text": [
      "Los Angeles Rams  Losses Mean: 7.818181818181818\n",
      "Los Angeles Rams  Losses Median: 8.0\n",
      "Los Angeles Rams  Losses Standard Deviation: 2.926369143432927\n",
      "Los Angeles Rams  Losses Variance: 8.563636363636363\n",
      "Los Angeles Rams  Losses Minimum: 3\n",
      "Los Angeles Rams  Losses Maximum: 12\n",
      "Los Angeles Rams  Losses Range: 9\n",
      "Los Angeles Rams Total Losses 2012-2022: 86\n"
     ]
    }
   ],
   "source": [
    "team_name19 = 'Los Angeles Rams'\n",
    "Rams_data = nflLosses[nflLosses['Team'] == team_name19]\n",
    "mean_value = Rams_data['Losses'].mean()\n",
    "median_value = Rams_data['Losses'].median()\n",
    "std_value = Rams_data['Losses'].std()\n",
    "var_value = Rams_data['Losses'].var()\n",
    "min_value = Rams_data['Losses'].min()\n",
    "max_value = Rams_data['Losses'].max()\n",
    "data_range = max_value - min_value\n",
    "total_points = Rams_data['Losses'].sum()\n",
    "print(\"Los Angeles Rams  Losses Mean:\", mean_value)\n",
    "print(\"Los Angeles Rams  Losses Median:\", median_value)\n",
    "print(\"Los Angeles Rams  Losses Standard Deviation:\", std_value)\n",
    "print(\"Los Angeles Rams  Losses Variance:\", var_value)\n",
    "print(\"Los Angeles Rams  Losses Minimum:\", min_value)\n",
    "print(\"Los Angeles Rams  Losses Maximum:\", max_value)\n",
    "print(\"Los Angeles Rams  Losses Range:\", data_range)\n",
    "print(\"Los Angeles Rams Total Losses 2012-2022:\", total_points)"
   ]
  },
  {
   "cell_type": "markdown",
   "id": "07002bc4",
   "metadata": {},
   "source": [
    "### Miami Dolphins"
   ]
  },
  {
   "cell_type": "code",
   "execution_count": 26,
   "id": "fdb4368a",
   "metadata": {},
   "outputs": [
    {
     "name": "stdout",
     "output_type": "stream",
     "text": [
      "Miami Dolphins  Losses Mean: 8.454545454545455\n",
      "Miami Dolphins  Losses Median: 8.0\n",
      "Miami Dolphins  Losses Standard Deviation: 1.572490786213793\n",
      "Miami Dolphins  Losses Variance: 2.4727272727272727\n",
      "Miami Dolphins  Losses Minimum: 6\n",
      "Miami Dolphins  Losses Maximum: 11\n",
      "Miami Dolphins  Losses Range: 5\n",
      "Miami Dolphins Total Losses 2012-2022: 93\n"
     ]
    }
   ],
   "source": [
    "team_name20 = 'Miami Dolphins'\n",
    "dolphins_data = nflLosses[nflLosses['Team'] == team_name20]\n",
    "mean_value = dolphins_data['Losses'].mean()\n",
    "median_value = dolphins_data['Losses'].median()\n",
    "std_value = dolphins_data['Losses'].std()\n",
    "var_value = dolphins_data['Losses'].var()\n",
    "min_value = dolphins_data['Losses'].min()\n",
    "max_value = dolphins_data['Losses'].max()\n",
    "data_range = max_value - min_value\n",
    "total_points = dolphins_data['Losses'].sum()\n",
    "print(\"Miami Dolphins  Losses Mean:\", mean_value)\n",
    "print(\"Miami Dolphins  Losses Median:\", median_value)\n",
    "print(\"Miami Dolphins  Losses Standard Deviation:\", std_value)\n",
    "print(\"Miami Dolphins  Losses Variance:\", var_value)\n",
    "print(\"Miami Dolphins  Losses Minimum:\", min_value)\n",
    "print(\"Miami Dolphins  Losses Maximum:\", max_value)\n",
    "print(\"Miami Dolphins  Losses Range:\", data_range)\n",
    "print(\"Miami Dolphins Total Losses 2012-2022:\", total_points)"
   ]
  },
  {
   "cell_type": "markdown",
   "id": "c06d30e1",
   "metadata": {},
   "source": [
    "### Minnesota Vikings"
   ]
  },
  {
   "cell_type": "code",
   "execution_count": 27,
   "id": "79714a76",
   "metadata": {},
   "outputs": [
    {
     "name": "stdout",
     "output_type": "stream",
     "text": [
      "Minnesota Vikings  Losses Mean: 6.909090909090909\n",
      "Minnesota Vikings  Losses Median: 7.0\n",
      "Minnesota Vikings  Losses Standard Deviation: 2.3001976199685736\n",
      "Minnesota Vikings  Losses Variance: 5.290909090909091\n",
      "Minnesota Vikings  Losses Minimum: 3\n",
      "Minnesota Vikings  Losses Maximum: 10\n",
      "Minnesota Vikings  Losses Range: 7\n",
      "Minnesota Vikings Total Losses 2012-2022: 76\n"
     ]
    }
   ],
   "source": [
    "team_name21 = 'Minnesota Vikings'\n",
    "vikings_data = nflLosses[nflLosses['Team'] == team_name21]\n",
    "mean_value = vikings_data['Losses'].mean()\n",
    "median_value = vikings_data['Losses'].median()\n",
    "std_value = vikings_data['Losses'].std()\n",
    "var_value = vikings_data['Losses'].var()\n",
    "min_value = vikings_data['Losses'].min()\n",
    "max_value = vikings_data['Losses'].max()\n",
    "data_range = max_value - min_value\n",
    "total_points = vikings_data['Losses'].sum()\n",
    "print(\"Minnesota Vikings  Losses Mean:\", mean_value)\n",
    "print(\"Minnesota Vikings  Losses Median:\", median_value)\n",
    "print(\"Minnesota Vikings  Losses Standard Deviation:\", std_value)\n",
    "print(\"Minnesota Vikings  Losses Variance:\", var_value)\n",
    "print(\"Minnesota Vikings  Losses Minimum:\", min_value)\n",
    "print(\"Minnesota Vikings  Losses Maximum:\", max_value)\n",
    "print(\"Minnesota Vikings  Losses Range:\", data_range)\n",
    "print(\"Minnesota Vikings Total Losses 2012-2022:\", total_points)"
   ]
  },
  {
   "cell_type": "markdown",
   "id": "34a38cc7",
   "metadata": {},
   "source": [
    "### New England Patriots"
   ]
  },
  {
   "cell_type": "code",
   "execution_count": 28,
   "id": "cf1f9bb3",
   "metadata": {},
   "outputs": [
    {
     "name": "stdout",
     "output_type": "stream",
     "text": [
      "New England Patriots  Losses Mean: 5.0\n",
      "New England Patriots  Losses Median: 4.0\n",
      "New England Patriots  Losses Standard Deviation: 2.32379000772445\n",
      "New England Patriots  Losses Variance: 5.4\n",
      "New England Patriots  Losses Minimum: 2\n",
      "New England Patriots  Losses Maximum: 9\n",
      "New England Patriots  Losses Range: 7\n",
      "New England Patriots Total Losses 2012-2022: 55\n"
     ]
    }
   ],
   "source": [
    "team_name22 = 'New England Patriots'\n",
    "patriots_data = nflLosses[nflLosses['Team'] == team_name22]\n",
    "mean_value = patriots_data['Losses'].mean()\n",
    "median_value = patriots_data['Losses'].median()\n",
    "std_value = patriots_data['Losses'].std()\n",
    "var_value = patriots_data['Losses'].var()\n",
    "min_value = patriots_data['Losses'].min()\n",
    "max_value = patriots_data['Losses'].max()\n",
    "data_range = max_value - min_value\n",
    "total_points = patriots_data['Losses'].sum()\n",
    "print(\"New England Patriots  Losses Mean:\", mean_value)\n",
    "print(\"New England Patriots  Losses Median:\", median_value)\n",
    "print(\"New England Patriots  Losses Standard Deviation:\", std_value)\n",
    "print(\"New England Patriots  Losses Variance:\", var_value)\n",
    "print(\"New England Patriots  Losses Minimum:\", min_value)\n",
    "print(\"New England Patriots  Losses Maximum:\", max_value)\n",
    "print(\"New England Patriots  Losses Range:\", data_range)\n",
    "print(\"New England Patriots Total Losses 2012-2022:\", total_points)"
   ]
  },
  {
   "cell_type": "markdown",
   "id": "7baeda4c",
   "metadata": {},
   "source": [
    "### New Orleans Saints"
   ]
  },
  {
   "cell_type": "code",
   "execution_count": 29,
   "id": "bf2b0c3c",
   "metadata": {},
   "outputs": [
    {
     "name": "stdout",
     "output_type": "stream",
     "text": [
      "New Orleans Saints  Losses Mean: 7.1\n",
      "New Orleans Saints  Losses Median: 8.5\n",
      "New Orleans Saints  Losses Standard Deviation: 2.5582111805799856\n",
      "New Orleans Saints  Losses Variance: 6.544444444444444\n",
      "New Orleans Saints  Losses Minimum: 3\n",
      "New Orleans Saints  Losses Maximum: 10\n",
      "New Orleans Saints  Losses Range: 7\n",
      "New Orleans Saints Total Losses 2012-2022: 71\n"
     ]
    }
   ],
   "source": [
    "team_name23 = 'New Orleans Saints'\n",
    "saints_data = nflLosses[nflLosses['Team'] == team_name23]\n",
    "mean_value = saints_data['Losses'].mean()\n",
    "median_value = saints_data['Losses'].median()\n",
    "std_value = saints_data['Losses'].std()\n",
    "var_value = saints_data['Losses'].var()\n",
    "min_value = saints_data['Losses'].min()\n",
    "max_value = saints_data['Losses'].max()\n",
    "data_range = max_value - min_value\n",
    "total_points = saints_data['Losses'].sum()\n",
    "print(\"New Orleans Saints  Losses Mean:\", mean_value)\n",
    "print(\"New Orleans Saints  Losses Median:\", median_value)\n",
    "print(\"New Orleans Saints  Losses Standard Deviation:\", std_value)\n",
    "print(\"New Orleans Saints  Losses Variance:\", var_value)\n",
    "print(\"New Orleans Saints  Losses Minimum:\", min_value)\n",
    "print(\"New Orleans Saints  Losses Maximum:\", max_value)\n",
    "print(\"New Orleans Saints  Losses Range:\", data_range)\n",
    "print(\"New Orleans Saints Total Losses 2012-2022:\", total_points)"
   ]
  },
  {
   "cell_type": "markdown",
   "id": "11987db6",
   "metadata": {},
   "source": [
    "### New York Giants"
   ]
  },
  {
   "cell_type": "code",
   "execution_count": 30,
   "id": "6cc4fd77",
   "metadata": {},
   "outputs": [
    {
     "name": "stdout",
     "output_type": "stream",
     "text": [
      "New York Giants  Losses Mean: 9.727272727272727\n",
      "New York Giants  Losses Median: 10.0\n",
      "New York Giants  Losses Standard Deviation: 2.572582713574399\n",
      "New York Giants  Losses Variance: 6.618181818181817\n",
      "New York Giants  Losses Minimum: 5\n",
      "New York Giants  Losses Maximum: 13\n",
      "New York Giants  Losses Range: 8\n",
      "New York Giants Total Losses 2012-2022: 107\n"
     ]
    }
   ],
   "source": [
    "team_name24 = 'New York Giants'\n",
    "giants_data = nflLosses[nflLosses['Team'] == team_name24]\n",
    "mean_value = giants_data['Losses'].mean()\n",
    "median_value = giants_data['Losses'].median()\n",
    "std_value = giants_data['Losses'].std()\n",
    "var_value = giants_data['Losses'].var()\n",
    "min_value = giants_data['Losses'].min()\n",
    "max_value = giants_data['Losses'].max()\n",
    "data_range = max_value - min_value\n",
    "total_points = giants_data['Losses'].sum()\n",
    "print(\"New York Giants  Losses Mean:\", mean_value)\n",
    "print(\"New York Giants  Losses Median:\", median_value)\n",
    "print(\"New York Giants  Losses Standard Deviation:\", std_value)\n",
    "print(\"New York Giants  Losses Variance:\", var_value)\n",
    "print(\"New York Giants  Losses Minimum:\", min_value)\n",
    "print(\"New York Giants  Losses Maximum:\", max_value)\n",
    "print(\"New York Giants  Losses Range:\", data_range)\n",
    "print(\"New York Giants Total Losses 2012-2022:\", total_points)"
   ]
  },
  {
   "cell_type": "markdown",
   "id": "e1511664",
   "metadata": {},
   "source": [
    "### New York Jets"
   ]
  },
  {
   "cell_type": "code",
   "execution_count": 31,
   "id": "ad484990",
   "metadata": {},
   "outputs": [
    {
     "name": "stdout",
     "output_type": "stream",
     "text": [
      "New York Jets  Losses Mean: 10.545454545454545\n",
      "New York Jets  Losses Median: 11.0\n",
      "New York Jets  Losses Standard Deviation: 2.2962419891481978\n",
      "New York Jets  Losses Variance: 5.2727272727272725\n",
      "New York Jets  Losses Minimum: 6\n",
      "New York Jets  Losses Maximum: 14\n",
      "New York Jets  Losses Range: 8\n",
      "New York Jets Total Losses 2012-2022: 116\n"
     ]
    }
   ],
   "source": [
    "team_name25 = 'New York Jets'\n",
    "Jets_data = nflLosses[nflLosses['Team'] == team_name25]\n",
    "mean_value = Jets_data['Losses'].mean()\n",
    "median_value = Jets_data['Losses'].median()\n",
    "std_value = Jets_data['Losses'].std()\n",
    "var_value = Jets_data['Losses'].var()\n",
    "min_value = Jets_data['Losses'].min()\n",
    "max_value = Jets_data['Losses'].max()\n",
    "data_range = max_value - min_value\n",
    "total_points = Jets_data['Losses'].sum()\n",
    "print(\"New York Jets  Losses Mean:\", mean_value)\n",
    "print(\"New York Jets  Losses Median:\", median_value)\n",
    "print(\"New York Jets  Losses Standard Deviation:\", std_value)\n",
    "print(\"New York Jets  Losses Variance:\", var_value)\n",
    "print(\"New York Jets  Losses Minimum:\", min_value)\n",
    "print(\"New York Jets  Losses Maximum:\", max_value)\n",
    "print(\"New York Jets  Losses Range:\", data_range)\n",
    "print(\"New York Jets Total Losses 2012-2022:\", total_points)"
   ]
  },
  {
   "cell_type": "markdown",
   "id": "060cb418",
   "metadata": {},
   "source": [
    "### Philadelphia Eagles"
   ]
  },
  {
   "cell_type": "code",
   "execution_count": 32,
   "id": "6699aa1f",
   "metadata": {},
   "outputs": [
    {
     "name": "stdout",
     "output_type": "stream",
     "text": [
      "Philadelphia Eagles  Losses Mean: 7.363636363636363\n",
      "Philadelphia Eagles  Losses Median: 7.0\n",
      "Philadelphia Eagles  Losses Standard Deviation: 2.8730724763822884\n",
      "Philadelphia Eagles  Losses Variance: 8.254545454545454\n",
      "Philadelphia Eagles  Losses Minimum: 3\n",
      "Philadelphia Eagles  Losses Maximum: 12\n",
      "Philadelphia Eagles  Losses Range: 9\n",
      "Philadelphia Eagles Total Losses 2012-2022: 81\n"
     ]
    }
   ],
   "source": [
    "team_name26 = 'Philadelphia Eagles'\n",
    "eagles_data = nflLosses[nflLosses['Team'] == team_name26]\n",
    "mean_value = eagles_data['Losses'].mean()\n",
    "median_value = eagles_data['Losses'].median()\n",
    "std_value = eagles_data['Losses'].std()\n",
    "var_value = eagles_data['Losses'].var()\n",
    "min_value = eagles_data['Losses'].min()\n",
    "max_value = eagles_data['Losses'].max()\n",
    "data_range = max_value - min_value\n",
    "total_points = eagles_data['Losses'].sum()\n",
    "print(\"Philadelphia Eagles  Losses Mean:\", mean_value)\n",
    "print(\"Philadelphia Eagles  Losses Median:\", median_value)\n",
    "print(\"Philadelphia Eagles  Losses Standard Deviation:\", std_value)\n",
    "print(\"Philadelphia Eagles  Losses Variance:\", var_value)\n",
    "print(\"Philadelphia Eagles  Losses Minimum:\", min_value)\n",
    "print(\"Philadelphia Eagles  Losses Maximum:\", max_value)\n",
    "print(\"Philadelphia Eagles  Losses Range:\", data_range)\n",
    "print(\"Philadelphia Eagles Total Losses 2012-2022:\", total_points)"
   ]
  },
  {
   "cell_type": "markdown",
   "id": "9c70dbb8",
   "metadata": {},
   "source": [
    "### Pittsburgh Steelers"
   ]
  },
  {
   "cell_type": "code",
   "execution_count": 33,
   "id": "d575e5ae",
   "metadata": {},
   "outputs": [
    {
     "name": "stdout",
     "output_type": "stream",
     "text": [
      "Pittsburgh Steelers  Losses Mean: 6.181818181818182\n",
      "Pittsburgh Steelers  Losses Median: 6.0\n",
      "Pittsburgh Steelers  Losses Standard Deviation: 1.7786613965666325\n",
      "Pittsburgh Steelers  Losses Variance: 3.1636363636363636\n",
      "Pittsburgh Steelers  Losses Minimum: 3\n",
      "Pittsburgh Steelers  Losses Maximum: 8\n",
      "Pittsburgh Steelers  Losses Range: 5\n",
      "Pittsburgh Steelers Total Losses 2012-2022: 68\n"
     ]
    }
   ],
   "source": [
    "team_name27 = 'Pittsburgh Steelers'\n",
    "steelers_data = nflLosses[nflLosses['Team'] == team_name27]\n",
    "mean_value = steelers_data['Losses'].mean()\n",
    "median_value = steelers_data['Losses'].median()\n",
    "std_value = steelers_data['Losses'].std()\n",
    "var_value = steelers_data['Losses'].var()\n",
    "min_value = steelers_data['Losses'].min()\n",
    "max_value = steelers_data['Losses'].max()\n",
    "data_range = max_value - min_value\n",
    "total_points = steelers_data['Losses'].sum()\n",
    "print(\"Pittsburgh Steelers  Losses Mean:\", mean_value)\n",
    "print(\"Pittsburgh Steelers  Losses Median:\", median_value)\n",
    "print(\"Pittsburgh Steelers  Losses Standard Deviation:\", std_value)\n",
    "print(\"Pittsburgh Steelers  Losses Variance:\", var_value)\n",
    "print(\"Pittsburgh Steelers  Losses Minimum:\", min_value)\n",
    "print(\"Pittsburgh Steelers  Losses Maximum:\", max_value)\n",
    "print(\"Pittsburgh Steelers  Losses Range:\", data_range)\n",
    "print(\"Pittsburgh Steelers Total Losses 2012-2022:\", total_points)"
   ]
  },
  {
   "cell_type": "markdown",
   "id": "1c58e53c",
   "metadata": {},
   "source": [
    "### San Francisco 49ers"
   ]
  },
  {
   "cell_type": "code",
   "execution_count": 34,
   "id": "da2ef2c3",
   "metadata": {},
   "outputs": [
    {
     "name": "stdout",
     "output_type": "stream",
     "text": [
      "San Francisco 49ers  Losses Mean: 7.909090909090909\n",
      "San Francisco 49ers  Losses Median: 8.0\n",
      "San Francisco 49ers  Losses Standard Deviation: 3.780331875762906\n",
      "San Francisco 49ers  Losses Variance: 14.290909090909091\n",
      "San Francisco 49ers  Losses Minimum: 3\n",
      "San Francisco 49ers  Losses Maximum: 14\n",
      "San Francisco 49ers  Losses Range: 11\n",
      "San Francisco 49ers Total Losses 2012-2022: 87\n"
     ]
    }
   ],
   "source": [
    "team_name28 = 'San Francisco 49ers'\n",
    "niners_data = nflLosses[nflLosses['Team'] == team_name28]\n",
    "mean_value = niners_data['Losses'].mean()\n",
    "median_value = niners_data['Losses'].median()\n",
    "std_value = niners_data['Losses'].std()\n",
    "var_value = niners_data['Losses'].var()\n",
    "min_value = niners_data['Losses'].min()\n",
    "max_value = niners_data['Losses'].max()\n",
    "data_range = max_value - min_value\n",
    "total_points = niners_data['Losses'].sum()\n",
    "print(\"San Francisco 49ers  Losses Mean:\", mean_value)\n",
    "print(\"San Francisco 49ers  Losses Median:\", median_value)\n",
    "print(\"San Francisco 49ers  Losses Standard Deviation:\", std_value)\n",
    "print(\"San Francisco 49ers  Losses Variance:\", var_value)\n",
    "print(\"San Francisco 49ers  Losses Minimum:\", min_value)\n",
    "print(\"San Francisco 49ers  Losses Maximum:\", max_value)\n",
    "print(\"San Francisco 49ers  Losses Range:\", data_range)\n",
    "print(\"San Francisco 49ers Total Losses 2012-2022:\", total_points)"
   ]
  },
  {
   "cell_type": "markdown",
   "id": "921f90e8",
   "metadata": {},
   "source": [
    "### Tampa Bay Buccaneers"
   ]
  },
  {
   "cell_type": "code",
   "execution_count": 35,
   "id": "31643e89",
   "metadata": {},
   "outputs": [
    {
     "name": "stdout",
     "output_type": "stream",
     "text": [
      "Tampa Bay Buccaneers  Losses Mean: 9.181818181818182\n",
      "Tampa Bay Buccaneers  Losses Median: 9.0\n",
      "Tampa Bay Buccaneers  Losses Standard Deviation: 2.9603439603593977\n",
      "Tampa Bay Buccaneers  Losses Variance: 8.763636363636364\n",
      "Tampa Bay Buccaneers  Losses Minimum: 4\n",
      "Tampa Bay Buccaneers  Losses Maximum: 14\n",
      "Tampa Bay Buccaneers  Losses Range: 10\n",
      "Tampa Bay Buccaneers Total Losses 2012-2022: 101\n"
     ]
    }
   ],
   "source": [
    "team_name29 = 'Tampa Bay Buccaneers'\n",
    "buccaneers_data = nflLosses[nflLosses['Team'] == team_name29]\n",
    "mean_value = buccaneers_data['Losses'].mean()\n",
    "median_value = buccaneers_data['Losses'].median()\n",
    "std_value = buccaneers_data['Losses'].std()\n",
    "var_value = buccaneers_data['Losses'].var()\n",
    "min_value = buccaneers_data['Losses'].min()\n",
    "max_value = buccaneers_data['Losses'].max()\n",
    "data_range = max_value - min_value\n",
    "total_points = buccaneers_data['Losses'].sum()\n",
    "print(\"Tampa Bay Buccaneers  Losses Mean:\", mean_value)\n",
    "print(\"Tampa Bay Buccaneers  Losses Median:\", median_value)\n",
    "print(\"Tampa Bay Buccaneers  Losses Standard Deviation:\", std_value)\n",
    "print(\"Tampa Bay Buccaneers  Losses Variance:\", var_value)\n",
    "print(\"Tampa Bay Buccaneers  Losses Minimum:\", min_value)\n",
    "print(\"Tampa Bay Buccaneers  Losses Maximum:\", max_value)\n",
    "print(\"Tampa Bay Buccaneers  Losses Range:\", data_range)\n",
    "print(\"Tampa Bay Buccaneers Total Losses 2012-2022:\", total_points)"
   ]
  },
  {
   "cell_type": "markdown",
   "id": "402feabd",
   "metadata": {},
   "source": [
    "### Tennessee Titans"
   ]
  },
  {
   "cell_type": "code",
   "execution_count": 36,
   "id": "34a835c2",
   "metadata": {},
   "outputs": [
    {
     "name": "stdout",
     "output_type": "stream",
     "text": [
      "Tennessee Titans  Losses Mean: 8.545454545454545\n",
      "Tennessee Titans  Losses Median: 7.0\n",
      "Tennessee Titans  Losses Standard Deviation: 2.9787123514578027\n",
      "Tennessee Titans  Losses Variance: 8.872727272727273\n",
      "Tennessee Titans  Losses Minimum: 5\n",
      "Tennessee Titans  Losses Maximum: 14\n",
      "Tennessee Titans  Losses Range: 9\n",
      "Tennessee Titans Total Losses 2012-2022: 94\n"
     ]
    }
   ],
   "source": [
    "team_name30 = 'Tennessee Titans'\n",
    "titans_data = nflLosses[nflLosses['Team'] == team_name30]\n",
    "mean_value = titans_data['Losses'].mean()\n",
    "median_value = titans_data['Losses'].median()\n",
    "std_value = titans_data['Losses'].std()\n",
    "var_value = titans_data['Losses'].var()\n",
    "min_value = titans_data['Losses'].min()\n",
    "max_value = titans_data['Losses'].max()\n",
    "data_range = max_value - min_value\n",
    "total_points = titans_data['Losses'].sum()\n",
    "print(\"Tennessee Titans  Losses Mean:\", mean_value)\n",
    "print(\"Tennessee Titans  Losses Median:\", median_value)\n",
    "print(\"Tennessee Titans  Losses Standard Deviation:\", std_value)\n",
    "print(\"Tennessee Titans  Losses Variance:\", var_value)\n",
    "print(\"Tennessee Titans  Losses Minimum:\", min_value)\n",
    "print(\"Tennessee Titans  Losses Maximum:\", max_value)\n",
    "print(\"Tennessee Titans  Losses Range:\", data_range)\n",
    "print(\"Tennessee Titans Total Losses 2012-2022:\", total_points)"
   ]
  },
  {
   "cell_type": "markdown",
   "id": "80f6844f",
   "metadata": {},
   "source": [
    "### Washington Commanders"
   ]
  },
  {
   "cell_type": "code",
   "execution_count": 37,
   "id": "d1a4004e",
   "metadata": {},
   "outputs": [
    {
     "name": "stdout",
     "output_type": "stream",
     "text": [
      "Washington Commanders  Losses Mean: 9.363636363636363\n",
      "Washington Commanders  Losses Median: 9.0\n",
      "Washington Commanders  Losses Standard Deviation: 2.419616799112094\n",
      "Washington Commanders  Losses Variance: 5.854545454545455\n",
      "Washington Commanders  Losses Minimum: 6\n",
      "Washington Commanders  Losses Points Maximum: 13\n",
      "Washington Commanders  Losses Range: 7\n",
      "Washington Commanders Total Losses 2012-2022: 103\n"
     ]
    }
   ],
   "source": [
    "team_name31 = 'Washington Commanders'\n",
    "commanders_data = nflLosses[nflLosses['Team'] == team_name31]\n",
    "mean_value = commanders_data['Losses'].mean()\n",
    "median_value = commanders_data['Losses'].median()\n",
    "std_value = commanders_data['Losses'].std()\n",
    "var_value = commanders_data['Losses'].var()\n",
    "min_value = commanders_data['Losses'].min()\n",
    "max_value = commanders_data['Losses'].max()\n",
    "total_points = commanders_data['Losses'].sum()\n",
    "data_range = max_value - min_value\n",
    "print(\"Washington Commanders  Losses Mean:\", mean_value)\n",
    "print(\"Washington Commanders  Losses Median:\", median_value)\n",
    "print(\"Washington Commanders  Losses Standard Deviation:\", std_value)\n",
    "print(\"Washington Commanders  Losses Variance:\", var_value)\n",
    "print(\"Washington Commanders  Losses Minimum:\", min_value)\n",
    "print(\"Washington Commanders  Losses Points Maximum:\", max_value)\n",
    "print(\"Washington Commanders  Losses Range:\", data_range)\n",
    "print(\"Washington Commanders Total Losses 2012-2022:\", total_points)"
   ]
  },
  {
   "cell_type": "code",
   "execution_count": null,
   "id": "26c581f4",
   "metadata": {},
   "outputs": [],
   "source": []
  }
 ],
 "metadata": {
  "kernelspec": {
   "display_name": "Python 3 (ipykernel)",
   "language": "python",
   "name": "python3"
  },
  "language_info": {
   "codemirror_mode": {
    "name": "ipython",
    "version": 3
   },
   "file_extension": ".py",
   "mimetype": "text/x-python",
   "name": "python",
   "nbconvert_exporter": "python",
   "pygments_lexer": "ipython3",
   "version": "3.9.12"
  }
 },
 "nbformat": 4,
 "nbformat_minor": 5
}

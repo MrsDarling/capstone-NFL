{
 "cells": [
  {
   "cell_type": "markdown",
   "id": "edf3ca78",
   "metadata": {},
   "source": [
    "# Descriptive Statistics for Defense Points per Game for Each Team\n",
    "#### Defense Points per Game = the number of points the Defense side of each team allowed per game"
   ]
  },
  {
   "cell_type": "markdown",
   "id": "0659da1c",
   "metadata": {},
   "source": [
    "#### Import Packages"
   ]
  },
  {
   "cell_type": "code",
   "execution_count": 1,
   "id": "7e0099bf",
   "metadata": {},
   "outputs": [],
   "source": [
    "import pandas as pd\n",
    "import numpy as np\n",
    "from scipy.stats import norm\n",
    "from scipy import stats"
   ]
  },
  {
   "cell_type": "markdown",
   "id": "41d1d433",
   "metadata": {},
   "source": [
    "#### Import NFL Dataset 2012-2022"
   ]
  },
  {
   "cell_type": "code",
   "execution_count": 2,
   "id": "9a95eb39",
   "metadata": {},
   "outputs": [],
   "source": [
    "nfldefptsgame = pd.read_csv('/Users/admin/Desktop/Final_Project/NFL_merged/nfl2012_2022merge.csv')"
   ]
  },
  {
   "cell_type": "code",
   "execution_count": 3,
   "id": "60e79d22",
   "metadata": {},
   "outputs": [
    {
     "data": {
      "text/html": [
       "<div>\n",
       "<style scoped>\n",
       "    .dataframe tbody tr th:only-of-type {\n",
       "        vertical-align: middle;\n",
       "    }\n",
       "\n",
       "    .dataframe tbody tr th {\n",
       "        vertical-align: top;\n",
       "    }\n",
       "\n",
       "    .dataframe thead th {\n",
       "        text-align: right;\n",
       "    }\n",
       "</style>\n",
       "<table border=\"1\" class=\"dataframe\">\n",
       "  <thead>\n",
       "    <tr style=\"text-align: right;\">\n",
       "      <th></th>\n",
       "      <th>Team</th>\n",
       "      <th>Off Tot/Pts</th>\n",
       "      <th>Off Pts/G</th>\n",
       "      <th>Off RushYds</th>\n",
       "      <th>Off RYds/G</th>\n",
       "      <th>Off PassYds</th>\n",
       "      <th>Off PYds/G</th>\n",
       "      <th>Off TotYds</th>\n",
       "      <th>Off Yds/G</th>\n",
       "      <th>Def Tot/Pts</th>\n",
       "      <th>...</th>\n",
       "      <th>Def PassYds</th>\n",
       "      <th>Def PYds/G</th>\n",
       "      <th>Def TotYds</th>\n",
       "      <th>Def Yds/G</th>\n",
       "      <th>Year</th>\n",
       "      <th>Wins</th>\n",
       "      <th>Losses</th>\n",
       "      <th>Tie</th>\n",
       "      <th>Superbowl</th>\n",
       "      <th>SB Win</th>\n",
       "    </tr>\n",
       "  </thead>\n",
       "  <tbody>\n",
       "    <tr>\n",
       "      <th>0</th>\n",
       "      <td>Arizona Cardinals</td>\n",
       "      <td>250</td>\n",
       "      <td>15.6</td>\n",
       "      <td>1204</td>\n",
       "      <td>75.2</td>\n",
       "      <td>3005</td>\n",
       "      <td>187.8</td>\n",
       "      <td>4209</td>\n",
       "      <td>263.1</td>\n",
       "      <td>357</td>\n",
       "      <td>...</td>\n",
       "      <td>3213</td>\n",
       "      <td>200.8</td>\n",
       "      <td>5405</td>\n",
       "      <td>337.8</td>\n",
       "      <td>2012</td>\n",
       "      <td>5</td>\n",
       "      <td>11</td>\n",
       "      <td>0.0</td>\n",
       "      <td>No</td>\n",
       "      <td>No</td>\n",
       "    </tr>\n",
       "    <tr>\n",
       "      <th>1</th>\n",
       "      <td>Atlanta Falcons</td>\n",
       "      <td>419</td>\n",
       "      <td>26.2</td>\n",
       "      <td>1397</td>\n",
       "      <td>87.3</td>\n",
       "      <td>4509</td>\n",
       "      <td>281.8</td>\n",
       "      <td>5906</td>\n",
       "      <td>369.1</td>\n",
       "      <td>299</td>\n",
       "      <td>...</td>\n",
       "      <td>3878</td>\n",
       "      <td>242.4</td>\n",
       "      <td>5849</td>\n",
       "      <td>365.6</td>\n",
       "      <td>2012</td>\n",
       "      <td>13</td>\n",
       "      <td>3</td>\n",
       "      <td>0.0</td>\n",
       "      <td>No</td>\n",
       "      <td>No</td>\n",
       "    </tr>\n",
       "    <tr>\n",
       "      <th>2</th>\n",
       "      <td>Baltimore Ravens</td>\n",
       "      <td>398</td>\n",
       "      <td>24.9</td>\n",
       "      <td>1901</td>\n",
       "      <td>118.8</td>\n",
       "      <td>3739</td>\n",
       "      <td>233.7</td>\n",
       "      <td>5640</td>\n",
       "      <td>352.5</td>\n",
       "      <td>344</td>\n",
       "      <td>...</td>\n",
       "      <td>3650</td>\n",
       "      <td>228.1</td>\n",
       "      <td>5615</td>\n",
       "      <td>350.9</td>\n",
       "      <td>2012</td>\n",
       "      <td>10</td>\n",
       "      <td>6</td>\n",
       "      <td>0.0</td>\n",
       "      <td>Yes</td>\n",
       "      <td>Yes</td>\n",
       "    </tr>\n",
       "    <tr>\n",
       "      <th>3</th>\n",
       "      <td>Buffalo Bills</td>\n",
       "      <td>344</td>\n",
       "      <td>21.5</td>\n",
       "      <td>2217</td>\n",
       "      <td>138.6</td>\n",
       "      <td>3269</td>\n",
       "      <td>204.3</td>\n",
       "      <td>5486</td>\n",
       "      <td>342.9</td>\n",
       "      <td>435</td>\n",
       "      <td>...</td>\n",
       "      <td>3473</td>\n",
       "      <td>217.1</td>\n",
       "      <td>5806</td>\n",
       "      <td>362.9</td>\n",
       "      <td>2012</td>\n",
       "      <td>6</td>\n",
       "      <td>10</td>\n",
       "      <td>0.0</td>\n",
       "      <td>No</td>\n",
       "      <td>No</td>\n",
       "    </tr>\n",
       "    <tr>\n",
       "      <th>4</th>\n",
       "      <td>Carolina Panthers</td>\n",
       "      <td>357</td>\n",
       "      <td>22.3</td>\n",
       "      <td>2088</td>\n",
       "      <td>130.5</td>\n",
       "      <td>3683</td>\n",
       "      <td>230.2</td>\n",
       "      <td>5771</td>\n",
       "      <td>360.7</td>\n",
       "      <td>363</td>\n",
       "      <td>...</td>\n",
       "      <td>3568</td>\n",
       "      <td>223.0</td>\n",
       "      <td>5329</td>\n",
       "      <td>333.1</td>\n",
       "      <td>2012</td>\n",
       "      <td>7</td>\n",
       "      <td>9</td>\n",
       "      <td>0.0</td>\n",
       "      <td>No</td>\n",
       "      <td>No</td>\n",
       "    </tr>\n",
       "  </tbody>\n",
       "</table>\n",
       "<p>5 rows × 23 columns</p>\n",
       "</div>"
      ],
      "text/plain": [
       "                Team  Off Tot/Pts  Off Pts/G  Off RushYds  Off RYds/G  \\\n",
       "0  Arizona Cardinals          250       15.6         1204        75.2   \n",
       "1    Atlanta Falcons          419       26.2         1397        87.3   \n",
       "2   Baltimore Ravens          398       24.9         1901       118.8   \n",
       "3      Buffalo Bills          344       21.5         2217       138.6   \n",
       "4  Carolina Panthers          357       22.3         2088       130.5   \n",
       "\n",
       "   Off PassYds  Off PYds/G  Off TotYds  Off Yds/G  Def Tot/Pts  ...  \\\n",
       "0         3005       187.8        4209      263.1          357  ...   \n",
       "1         4509       281.8        5906      369.1          299  ...   \n",
       "2         3739       233.7        5640      352.5          344  ...   \n",
       "3         3269       204.3        5486      342.9          435  ...   \n",
       "4         3683       230.2        5771      360.7          363  ...   \n",
       "\n",
       "   Def PassYds  Def PYds/G  Def TotYds  Def Yds/G  Year  Wins  Losses  Tie  \\\n",
       "0         3213       200.8        5405      337.8  2012     5      11  0.0   \n",
       "1         3878       242.4        5849      365.6  2012    13       3  0.0   \n",
       "2         3650       228.1        5615      350.9  2012    10       6  0.0   \n",
       "3         3473       217.1        5806      362.9  2012     6      10  0.0   \n",
       "4         3568       223.0        5329      333.1  2012     7       9  0.0   \n",
       "\n",
       "   Superbowl  SB Win  \n",
       "0         No      No  \n",
       "1         No      No  \n",
       "2        Yes     Yes  \n",
       "3         No      No  \n",
       "4         No      No  \n",
       "\n",
       "[5 rows x 23 columns]"
      ]
     },
     "execution_count": 3,
     "metadata": {},
     "output_type": "execute_result"
    }
   ],
   "source": [
    "nfldefptsgame.head()"
   ]
  },
  {
   "cell_type": "markdown",
   "id": "6b1512d6",
   "metadata": {},
   "source": [
    "## Calculating Descriptive Statistics by Team"
   ]
  },
  {
   "cell_type": "markdown",
   "id": "22ebd7aa",
   "metadata": {},
   "source": [
    "#### First filter the data by a single team - I will use the Seattle Seahawks, my favorite team, to start."
   ]
  },
  {
   "cell_type": "code",
   "execution_count": 4,
   "id": "06ba473a",
   "metadata": {},
   "outputs": [],
   "source": [
    "team_name = 'Seattle Seahawks'\n",
    "seahawks_data = nfldefptsgame[nfldefptsgame['Team'] == team_name]"
   ]
  },
  {
   "cell_type": "markdown",
   "id": "9c7fbdad",
   "metadata": {},
   "source": [
    "#### Display defense points allowed per game by year for the Seahawks"
   ]
  },
  {
   "cell_type": "code",
   "execution_count": 5,
   "id": "40e03a9e",
   "metadata": {},
   "outputs": [
    {
     "name": "stdout",
     "output_type": "stream",
     "text": [
      "Year: 2012 \tDefense Points: 15.3\n",
      "Year: 2013 \tDefense Points: 14.4\n",
      "Year: 2014 \tDefense Points: 15.9\n",
      "Year: 2015 \tDefense Points: 17.3\n",
      "Year: 2016 \tDefense Points: 18.2\n",
      "Year: 2017 \tDefense Points: 20.8\n",
      "Year: 2018 \tDefense Points: 21.7\n",
      "Year: 2019 \tDefense Points: 24.9\n",
      "Year: 2020 \tDefense Points: 23.2\n",
      "Year: 2021 \tDefense Points: 21.5\n",
      "Year: 2022 \tDefense Points: 23.6\n"
     ]
    }
   ],
   "source": [
    "for year in seahawks_data['Year'].unique():\n",
    "    def_pts_game = seahawks_data.loc[seahawks_data['Year'] == year, 'Def Pts/G'].values[0]\n",
    "    print(\"Year:\", year, \"\\tDefense Points:\", def_pts_game)"
   ]
  },
  {
   "cell_type": "markdown",
   "id": "2a3cfcb9",
   "metadata": {},
   "source": [
    "#### What is the mean points allowed per game for the Seahawks over all years?"
   ]
  },
  {
   "cell_type": "code",
   "execution_count": 6,
   "id": "5159fb94",
   "metadata": {},
   "outputs": [],
   "source": [
    "avg_def_pts_game = seahawks_data['Def Pts/G'].mean()"
   ]
  },
  {
   "cell_type": "code",
   "execution_count": 7,
   "id": "63e48a39",
   "metadata": {},
   "outputs": [
    {
     "name": "stdout",
     "output_type": "stream",
     "text": [
      "19.709090909090907\n"
     ]
    }
   ],
   "source": [
    "print(avg_def_pts_game)"
   ]
  },
  {
   "cell_type": "markdown",
   "id": "9133c454",
   "metadata": {},
   "source": [
    "#### Let's calculate several descriptive statistics on Defense Points per Game for the Seahawks"
   ]
  },
  {
   "cell_type": "code",
   "execution_count": 8,
   "id": "e16309ac",
   "metadata": {},
   "outputs": [
    {
     "name": "stdout",
     "output_type": "stream",
     "text": [
      "Seattle Seahawks Defense Points/Game Mean: 19.709090909090907\n",
      "Seattle Seahawks Defense Points/Game Median: 20.8\n",
      "Seattle Seahawks Defense Points/Game Standard Deviation: 3.6448469228362788\n",
      "Seattle Seahawks Defense Points/Game Variance: 13.28490909090909\n",
      "Seattle Seahawks Defense Points/Game Minimum: 14.4\n",
      "Seattle Seahawks Defense Points/Game Maximum: 24.9\n",
      "Seattle Seahawks Defense Points/Game Range: 10.499999999999998\n",
      "Seattle Seahawks Total Points/Game 2012-2022: 216.79999999999998\n"
     ]
    }
   ],
   "source": [
    "mean_value = seahawks_data['Def Pts/G'].mean()\n",
    "median_value = seahawks_data['Def Pts/G'].median()\n",
    "std_value = seahawks_data['Def Pts/G'].std()\n",
    "var_value = seahawks_data['Def Pts/G'].var()\n",
    "min_value = seahawks_data['Def Pts/G'].min()\n",
    "max_value = seahawks_data['Def Pts/G'].max()\n",
    "data_range = max_value - min_value\n",
    "total_points = seahawks_data['Def Pts/G'].sum()\n",
    "print(\"Seattle Seahawks Defense Points/Game Mean:\", mean_value)\n",
    "print(\"Seattle Seahawks Defense Points/Game Median:\", median_value)\n",
    "print(\"Seattle Seahawks Defense Points/Game Standard Deviation:\", std_value)\n",
    "print(\"Seattle Seahawks Defense Points/Game Variance:\", var_value)\n",
    "print(\"Seattle Seahawks Defense Points/Game Minimum:\", min_value)\n",
    "print(\"Seattle Seahawks Defense Points/Game Maximum:\", max_value)\n",
    "print(\"Seattle Seahawks Defense Points/Game Range:\", data_range)\n",
    "print(\"Seattle Seahawks Total Points/Game 2012-2022:\", total_points)"
   ]
  },
  {
   "cell_type": "markdown",
   "id": "aac38fff",
   "metadata": {},
   "source": [
    "#### Calculating all Teams Defense Points per game per year"
   ]
  },
  {
   "cell_type": "code",
   "execution_count": 9,
   "id": "46105bb4",
   "metadata": {},
   "outputs": [
    {
     "name": "stdout",
     "output_type": "stream",
     "text": [
      "Team: Arizona Cardinals \tYear: 2012 \tDefense Points per Game: 22.3\n",
      "Team: Arizona Cardinals \tYear: 2013 \tDefense Points per Game: 20.2\n",
      "Team: Arizona Cardinals \tYear: 2014 \tDefense Points per Game: 18.7\n",
      "Team: Arizona Cardinals \tYear: 2015 \tDefense Points per Game: 19.6\n",
      "Team: Arizona Cardinals \tYear: 2016 \tDefense Points per Game: 22.6\n",
      "Team: Arizona Cardinals \tYear: 2017 \tDefense Points per Game: 22.6\n",
      "Team: Arizona Cardinals \tYear: 2018 \tDefense Points per Game: 26.6\n",
      "Team: Arizona Cardinals \tYear: 2019 \tDefense Points per Game: 27.6\n",
      "Team: Arizona Cardinals \tYear: 2020 \tDefense Points per Game: 22.9\n",
      "Team: Arizona Cardinals \tYear: 2021 \tDefense Points per Game: 21.5\n",
      "Team: Arizona Cardinals \tYear: 2022 \tDefense Points per Game: 26.4\n",
      "Team: Atlanta Falcons \tYear: 2012 \tDefense Points per Game: 18.7\n",
      "Team: Atlanta Falcons \tYear: 2013 \tDefense Points per Game: 27.7\n",
      "Team: Atlanta Falcons \tYear: 2014 \tDefense Points per Game: 26.1\n",
      "Team: Atlanta Falcons \tYear: 2015 \tDefense Points per Game: 21.6\n",
      "Team: Atlanta Falcons \tYear: 2016 \tDefense Points per Game: 25.4\n",
      "Team: Atlanta Falcons \tYear: 2017 \tDefense Points per Game: 19.7\n",
      "Team: Atlanta Falcons \tYear: 2018 \tDefense Points per Game: 26.4\n",
      "Team: Atlanta Falcons \tYear: 2019 \tDefense Points per Game: 24.9\n",
      "Team: Atlanta Falcons \tYear: 2020 \tDefense Points per Game: 25.9\n",
      "Team: Atlanta Falcons \tYear: 2021 \tDefense Points per Game: 27.0\n",
      "Team: Atlanta Falcons \tYear: 2022 \tDefense Points per Game: 22.7\n",
      "Team: Baltimore Ravens \tYear: 2012 \tDefense Points per Game: 21.5\n",
      "Team: Baltimore Ravens \tYear: 2013 \tDefense Points per Game: 22.0\n",
      "Team: Baltimore Ravens \tYear: 2014 \tDefense Points per Game: 18.9\n",
      "Team: Baltimore Ravens \tYear: 2015 \tDefense Points per Game: 25.1\n",
      "Team: Baltimore Ravens \tYear: 2016 \tDefense Points per Game: 20.1\n",
      "Team: Baltimore Ravens \tYear: 2017 \tDefense Points per Game: 18.9\n",
      "Team: Baltimore Ravens \tYear: 2018 \tDefense Points per Game: 17.9\n",
      "Team: Baltimore Ravens \tYear: 2019 \tDefense Points per Game: 17.6\n",
      "Team: Baltimore Ravens \tYear: 2020 \tDefense Points per Game: 18.9\n",
      "Team: Baltimore Ravens \tYear: 2021 \tDefense Points per Game: 23.1\n",
      "Team: Baltimore Ravens \tYear: 2022 \tDefense Points per Game: 18.5\n",
      "Team: Buffalo Bills \tYear: 2012 \tDefense Points per Game: 27.2\n",
      "Team: Buffalo Bills \tYear: 2013 \tDefense Points per Game: 24.2\n",
      "Team: Buffalo Bills \tYear: 2014 \tDefense Points per Game: 18.1\n",
      "Team: Buffalo Bills \tYear: 2015 \tDefense Points per Game: 22.4\n",
      "Team: Buffalo Bills \tYear: 2016 \tDefense Points per Game: 23.6\n",
      "Team: Buffalo Bills \tYear: 2017 \tDefense Points per Game: 22.4\n",
      "Team: Buffalo Bills \tYear: 2018 \tDefense Points per Game: 23.4\n",
      "Team: Buffalo Bills \tYear: 2019 \tDefense Points per Game: 16.2\n",
      "Team: Buffalo Bills \tYear: 2020 \tDefense Points per Game: 23.4\n",
      "Team: Buffalo Bills \tYear: 2021 \tDefense Points per Game: 17.0\n",
      "Team: Buffalo Bills \tYear: 2022 \tDefense Points per Game: 17.9\n",
      "Team: Carolina Panthers \tYear: 2012 \tDefense Points per Game: 22.7\n",
      "Team: Carolina Panthers \tYear: 2013 \tDefense Points per Game: 15.1\n",
      "Team: Carolina Panthers \tYear: 2014 \tDefense Points per Game: 23.4\n",
      "Team: Carolina Panthers \tYear: 2015 \tDefense Points per Game: 19.2\n",
      "Team: Carolina Panthers \tYear: 2016 \tDefense Points per Game: 25.1\n",
      "Team: Carolina Panthers \tYear: 2017 \tDefense Points per Game: 20.4\n",
      "Team: Carolina Panthers \tYear: 2018 \tDefense Points per Game: 23.9\n",
      "Team: Carolina Panthers \tYear: 2019 \tDefense Points per Game: 29.4\n",
      "Team: Carolina Panthers \tYear: 2020 \tDefense Points per Game: 25.1\n",
      "Team: Carolina Panthers \tYear: 2021 \tDefense Points per Game: 23.8\n",
      "Team: Carolina Panthers \tYear: 2022 \tDefense Points per Game: 22.0\n",
      "Team: Chicago Bears \tYear: 2012 \tDefense Points per Game: 17.3\n",
      "Team: Chicago Bears \tYear: 2013 \tDefense Points per Game: 29.9\n",
      "Team: Chicago Bears \tYear: 2014 \tDefense Points per Game: 27.6\n",
      "Team: Chicago Bears \tYear: 2015 \tDefense Points per Game: 24.8\n",
      "Team: Chicago Bears \tYear: 2016 \tDefense Points per Game: 24.9\n",
      "Team: Chicago Bears \tYear: 2017 \tDefense Points per Game: 20.0\n",
      "Team: Chicago Bears \tYear: 2018 \tDefense Points per Game: 17.7\n",
      "Team: Chicago Bears \tYear: 2019 \tDefense Points per Game: 18.6\n",
      "Team: Chicago Bears \tYear: 2020 \tDefense Points per Game: 23.1\n",
      "Team: Chicago Bears \tYear: 2021 \tDefense Points per Game: 23.9\n",
      "Team: Chicago Bears \tYear: 2022 \tDefense Points per Game: 27.2\n",
      "Team: Cincinnati Bengals \tYear: 2012 \tDefense Points per Game: 20.0\n",
      "Team: Cincinnati Bengals \tYear: 2013 \tDefense Points per Game: 19.1\n",
      "Team: Cincinnati Bengals \tYear: 2014 \tDefense Points per Game: 21.5\n",
      "Team: Cincinnati Bengals \tYear: 2015 \tDefense Points per Game: 17.4\n",
      "Team: Cincinnati Bengals \tYear: 2016 \tDefense Points per Game: 19.7\n",
      "Team: Cincinnati Bengals \tYear: 2017 \tDefense Points per Game: 21.8\n",
      "Team: Cincinnati Bengals \tYear: 2018 \tDefense Points per Game: 28.4\n",
      "Team: Cincinnati Bengals \tYear: 2019 \tDefense Points per Game: 26.2\n",
      "Team: Cincinnati Bengals \tYear: 2020 \tDefense Points per Game: 26.5\n",
      "Team: Cincinnati Bengals \tYear: 2021 \tDefense Points per Game: 22.1\n",
      "Team: Cincinnati Bengals \tYear: 2022 \tDefense Points per Game: 20.1\n",
      "Team: Cleveland Browns \tYear: 2012 \tDefense Points per Game: 23.0\n",
      "Team: Cleveland Browns \tYear: 2013 \tDefense Points per Game: 25.4\n",
      "Team: Cleveland Browns \tYear: 2014 \tDefense Points per Game: 21.1\n",
      "Team: Cleveland Browns \tYear: 2015 \tDefense Points per Game: 27.0\n",
      "Team: Cleveland Browns \tYear: 2016 \tDefense Points per Game: 28.2\n",
      "Team: Cleveland Browns \tYear: 2017 \tDefense Points per Game: 25.6\n",
      "Team: Cleveland Browns \tYear: 2018 \tDefense Points per Game: 24.5\n",
      "Team: Cleveland Browns \tYear: 2019 \tDefense Points per Game: 24.6\n",
      "Team: Cleveland Browns \tYear: 2020 \tDefense Points per Game: 26.2\n",
      "Team: Cleveland Browns \tYear: 2021 \tDefense Points per Game: 21.8\n",
      "Team: Cleveland Browns \tYear: 2022 \tDefense Points per Game: 22.4\n",
      "Team: Dallas Cowboys \tYear: 2012 \tDefense Points per Game: 25.0\n",
      "Team: Dallas Cowboys \tYear: 2013 \tDefense Points per Game: 27.0\n",
      "Team: Dallas Cowboys \tYear: 2014 \tDefense Points per Game: 22.0\n",
      "Team: Dallas Cowboys \tYear: 2015 \tDefense Points per Game: 23.4\n",
      "Team: Dallas Cowboys \tYear: 2016 \tDefense Points per Game: 19.1\n",
      "Team: Dallas Cowboys \tYear: 2017 \tDefense Points per Game: 20.8\n",
      "Team: Dallas Cowboys \tYear: 2018 \tDefense Points per Game: 20.2\n",
      "Team: Dallas Cowboys \tYear: 2019 \tDefense Points per Game: 20.1\n",
      "Team: Dallas Cowboys \tYear: 2020 \tDefense Points per Game: 29.6\n",
      "Team: Dallas Cowboys \tYear: 2021 \tDefense Points per Game: 21.1\n",
      "Team: Dallas Cowboys \tYear: 2022 \tDefense Points per Game: 20.1\n",
      "Team: Denver Broncos \tYear: 2012 \tDefense Points per Game: 18.1\n",
      "Team: Denver Broncos \tYear: 2013 \tDefense Points per Game: 24.9\n",
      "Team: Denver Broncos \tYear: 2014 \tDefense Points per Game: 22.1\n",
      "Team: Denver Broncos \tYear: 2015 \tDefense Points per Game: 18.5\n",
      "Team: Denver Broncos \tYear: 2016 \tDefense Points per Game: 18.6\n",
      "Team: Denver Broncos \tYear: 2017 \tDefense Points per Game: 23.9\n",
      "Team: Denver Broncos \tYear: 2018 \tDefense Points per Game: 21.8\n",
      "Team: Denver Broncos \tYear: 2019 \tDefense Points per Game: 19.8\n",
      "Team: Denver Broncos \tYear: 2020 \tDefense Points per Game: 27.9\n",
      "Team: Denver Broncos \tYear: 2021 \tDefense Points per Game: 18.9\n",
      "Team: Denver Broncos \tYear: 2022 \tDefense Points per Game: 21.1\n",
      "Team: Detroit Lions \tYear: 2012 \tDefense Points per Game: 27.3\n",
      "Team: Detroit Lions \tYear: 2013 \tDefense Points per Game: 23.5\n",
      "Team: Detroit Lions \tYear: 2014 \tDefense Points per Game: 17.6\n",
      "Team: Detroit Lions \tYear: 2015 \tDefense Points per Game: 25.0\n",
      "Team: Detroit Lions \tYear: 2016 \tDefense Points per Game: 22.4\n",
      "Team: Detroit Lions \tYear: 2017 \tDefense Points per Game: 23.5\n",
      "Team: Detroit Lions \tYear: 2018 \tDefense Points per Game: 22.5\n",
      "Team: Detroit Lions \tYear: 2019 \tDefense Points per Game: 26.4\n",
      "Team: Detroit Lions \tYear: 2020 \tDefense Points per Game: 32.4\n",
      "Team: Detroit Lions \tYear: 2021 \tDefense Points per Game: 27.5\n",
      "Team: Detroit Lions \tYear: 2022 \tDefense Points per Game: 25.1\n",
      "Team: Green Bay Packers \tYear: 2012 \tDefense Points per Game: 21.0\n",
      "Team: Green Bay Packers \tYear: 2013 \tDefense Points per Game: 26.8\n",
      "Team: Green Bay Packers \tYear: 2014 \tDefense Points per Game: 21.8\n",
      "Team: Green Bay Packers \tYear: 2015 \tDefense Points per Game: 20.2\n",
      "Team: Green Bay Packers \tYear: 2016 \tDefense Points per Game: 24.2\n",
      "Team: Green Bay Packers \tYear: 2017 \tDefense Points per Game: 24.0\n",
      "Team: Green Bay Packers \tYear: 2018 \tDefense Points per Game: 25.0\n",
      "Team: Green Bay Packers \tYear: 2019 \tDefense Points per Game: 19.6\n",
      "Team: Green Bay Packers \tYear: 2020 \tDefense Points per Game: 23.1\n",
      "Team: Green Bay Packers \tYear: 2021 \tDefense Points per Game: 21.8\n",
      "Team: Green Bay Packers \tYear: 2022 \tDefense Points per Game: 21.8\n",
      "Team: Houston Texans \tYear: 2012 \tDefense Points per Game: 20.7\n",
      "Team: Houston Texans \tYear: 2013 \tDefense Points per Game: 26.8\n",
      "Team: Houston Texans \tYear: 2014 \tDefense Points per Game: 19.2\n",
      "Team: Houston Texans \tYear: 2015 \tDefense Points per Game: 19.6\n",
      "Team: Houston Texans \tYear: 2016 \tDefense Points per Game: 20.5\n",
      "Team: Houston Texans \tYear: 2017 \tDefense Points per Game: 27.2\n",
      "Team: Houston Texans \tYear: 2018 \tDefense Points per Game: 19.8\n",
      "Team: Houston Texans \tYear: 2019 \tDefense Points per Game: 24.1\n",
      "Team: Houston Texans \tYear: 2020 \tDefense Points per Game: 29.0\n",
      "Team: Houston Texans \tYear: 2021 \tDefense Points per Game: 26.6\n",
      "Team: Houston Texans \tYear: 2022 \tDefense Points per Game: 24.7\n",
      "Team: Indianapolis Colts \tYear: 2012 \tDefense Points per Game: 24.2\n",
      "Team: Indianapolis Colts \tYear: 2013 \tDefense Points per Game: 21.0\n",
      "Team: Indianapolis Colts \tYear: 2014 \tDefense Points per Game: 23.1\n",
      "Team: Indianapolis Colts \tYear: 2015 \tDefense Points per Game: 25.5\n",
      "Team: Indianapolis Colts \tYear: 2016 \tDefense Points per Game: 24.5\n",
      "Team: Indianapolis Colts \tYear: 2017 \tDefense Points per Game: 25.2\n",
      "Team: Indianapolis Colts \tYear: 2018 \tDefense Points per Game: 21.5\n",
      "Team: Indianapolis Colts \tYear: 2019 \tDefense Points per Game: 23.3\n",
      "Team: Indianapolis Colts \tYear: 2020 \tDefense Points per Game: 22.6\n",
      "Team: Indianapolis Colts \tYear: 2021 \tDefense Points per Game: 21.5\n",
      "Team: Indianapolis Colts \tYear: 2022 \tDefense Points per Game: 25.1\n",
      "Team: Jacksonville Jaguars \tYear: 2012 \tDefense Points per Game: 27.8\n",
      "Team: Jacksonville Jaguars \tYear: 2013 \tDefense Points per Game: 28.1\n",
      "Team: Jacksonville Jaguars \tYear: 2014 \tDefense Points per Game: 25.8\n",
      "Team: Jacksonville Jaguars \tYear: 2015 \tDefense Points per Game: 28.0\n",
      "Team: Jacksonville Jaguars \tYear: 2016 \tDefense Points per Game: 25.0\n",
      "Team: Jacksonville Jaguars \tYear: 2017 \tDefense Points per Game: 16.8\n",
      "Team: Jacksonville Jaguars \tYear: 2018 \tDefense Points per Game: 19.8\n",
      "Team: Jacksonville Jaguars \tYear: 2019 \tDefense Points per Game: 24.8\n",
      "Team: Jacksonville Jaguars \tYear: 2020 \tDefense Points per Game: 30.8\n",
      "Team: Jacksonville Jaguars \tYear: 2021 \tDefense Points per Game: 26.9\n",
      "Team: Jacksonville Jaguars \tYear: 2022 \tDefense Points per Game: 20.6\n",
      "Team: Kansas City Chiefs \tYear: 2012 \tDefense Points per Game: 26.6\n",
      "Team: Kansas City Chiefs \tYear: 2013 \tDefense Points per Game: 19.1\n",
      "Team: Kansas City Chiefs \tYear: 2014 \tDefense Points per Game: 17.6\n",
      "Team: Kansas City Chiefs \tYear: 2015 \tDefense Points per Game: 17.9\n",
      "Team: Kansas City Chiefs \tYear: 2016 \tDefense Points per Game: 19.4\n",
      "Team: Kansas City Chiefs \tYear: 2017 \tDefense Points per Game: 21.2\n",
      "Team: Kansas City Chiefs \tYear: 2018 \tDefense Points per Game: 26.3\n",
      "Team: Kansas City Chiefs \tYear: 2019 \tDefense Points per Game: 19.2\n",
      "Team: Kansas City Chiefs \tYear: 2020 \tDefense Points per Game: 22.6\n",
      "Team: Kansas City Chiefs \tYear: 2021 \tDefense Points per Game: 21.4\n",
      "Team: Kansas City Chiefs \tYear: 2022 \tDefense Points per Game: 21.7\n",
      "Team: Las Vegas Raiders \tYear: 2012 \tDefense Points per Game: 27.7\n",
      "Team: Las Vegas Raiders \tYear: 2013 \tDefense Points per Game: 28.3\n",
      "Team: Las Vegas Raiders \tYear: 2014 \tDefense Points per Game: 28.2\n",
      "Team: Las Vegas Raiders \tYear: 2015 \tDefense Points per Game: 24.9\n",
      "Team: Las Vegas Raiders \tYear: 2016 \tDefense Points per Game: 24.1\n",
      "Team: Las Vegas Raiders \tYear: 2017 \tDefense Points per Game: 23.3\n",
      "Team: Las Vegas Raiders \tYear: 2018 \tDefense Points per Game: 29.2\n",
      "Team: Las Vegas Raiders \tYear: 2019 \tDefense Points per Game: 26.2\n",
      "Team: Las Vegas Raiders \tYear: 2020 \tDefense Points per Game: 29.9\n",
      "Team: Las Vegas Raiders \tYear: 2021 \tDefense Points per Game: 25.8\n",
      "Team: Las Vegas Raiders \tYear: 2022 \tDefense Points per Game: 24.6\n",
      "Team: Los Angeles Chargers \tYear: 2012 \tDefense Points per Game: 21.9\n",
      "Team: Los Angeles Chargers \tYear: 2013 \tDefense Points per Game: 21.8\n",
      "Team: Los Angeles Chargers \tYear: 2014 \tDefense Points per Game: 21.8\n",
      "Team: Los Angeles Chargers \tYear: 2015 \tDefense Points per Game: 24.9\n",
      "Team: Los Angeles Chargers \tYear: 2016 \tDefense Points per Game: 26.4\n",
      "Team: Los Angeles Chargers \tYear: 2017 \tDefense Points per Game: 17.0\n",
      "Team: Los Angeles Chargers \tYear: 2018 \tDefense Points per Game: 20.6\n",
      "Team: Los Angeles Chargers \tYear: 2019 \tDefense Points per Game: 21.6\n",
      "Team: Los Angeles Chargers \tYear: 2020 \tDefense Points per Game: 26.6\n",
      "Team: Los Angeles Chargers \tYear: 2021 \tDefense Points per Game: 27.0\n",
      "Team: Los Angeles Chargers \tYear: 2022 \tDefense Points per Game: 22.6\n",
      "Team: Los Angeles Rams \tYear: 2012 \tDefense Points per Game: 21.8\n",
      "Team: Los Angeles Rams \tYear: 2013 \tDefense Points per Game: 22.8\n",
      "Team: Los Angeles Rams \tYear: 2014 \tDefense Points per Game: 22.1\n",
      "Team: Los Angeles Rams \tYear: 2015 \tDefense Points per Game: 20.6\n",
      "Team: Los Angeles Rams \tYear: 2016 \tDefense Points per Game: 24.6\n",
      "Team: Los Angeles Rams \tYear: 2017 \tDefense Points per Game: 20.6\n",
      "Team: Los Angeles Rams \tYear: 2018 \tDefense Points per Game: 24.0\n",
      "Team: Los Angeles Rams \tYear: 2019 \tDefense Points per Game: 22.8\n",
      "Team: Los Angeles Rams \tYear: 2020 \tDefense Points per Game: 18.5\n",
      "Team: Los Angeles Rams \tYear: 2021 \tDefense Points per Game: 21.9\n",
      "Team: Los Angeles Rams \tYear: 2022 \tDefense Points per Game: 22.6\n",
      "Team: Miami Dolphins \tYear: 2012 \tDefense Points per Game: 19.8\n",
      "Team: Miami Dolphins \tYear: 2013 \tDefense Points per Game: 20.9\n",
      "Team: Miami Dolphins \tYear: 2014 \tDefense Points per Game: 23.3\n",
      "Team: Miami Dolphins \tYear: 2015 \tDefense Points per Game: 24.3\n",
      "Team: Miami Dolphins \tYear: 2016 \tDefense Points per Game: 23.8\n",
      "Team: Miami Dolphins \tYear: 2017 \tDefense Points per Game: 24.6\n",
      "Team: Miami Dolphins \tYear: 2018 \tDefense Points per Game: 27.1\n",
      "Team: Miami Dolphins \tYear: 2019 \tDefense Points per Game: 30.9\n",
      "Team: Miami Dolphins \tYear: 2020 \tDefense Points per Game: 21.1\n",
      "Team: Miami Dolphins \tYear: 2021 \tDefense Points per Game: 21.9\n",
      "Team: Miami Dolphins \tYear: 2022 \tDefense Points per Game: 23.5\n",
      "Team: Minnesota Vikings \tYear: 2012 \tDefense Points per Game: 21.8\n",
      "Team: Minnesota Vikings \tYear: 2013 \tDefense Points per Game: 30.0\n",
      "Team: Minnesota Vikings \tYear: 2014 \tDefense Points per Game: 21.4\n",
      "Team: Minnesota Vikings \tYear: 2015 \tDefense Points per Game: 18.9\n",
      "Team: Minnesota Vikings \tYear: 2016 \tDefense Points per Game: 19.2\n",
      "Team: Minnesota Vikings \tYear: 2017 \tDefense Points per Game: 15.8\n",
      "Team: Minnesota Vikings \tYear: 2018 \tDefense Points per Game: 21.3\n",
      "Team: Minnesota Vikings \tYear: 2019 \tDefense Points per Game: 18.9\n",
      "Team: Minnesota Vikings \tYear: 2020 \tDefense Points per Game: 29.7\n",
      "Team: Minnesota Vikings \tYear: 2021 \tDefense Points per Game: 25.1\n",
      "Team: Minnesota Vikings \tYear: 2022 \tDefense Points per Game: 25.1\n",
      "Team: New England Patriots \tYear: 2012 \tDefense Points per Game: 20.7\n",
      "Team: New England Patriots \tYear: 2013 \tDefense Points per Game: 21.1\n",
      "Team: New England Patriots \tYear: 2014 \tDefense Points per Game: 19.6\n",
      "Team: New England Patriots \tYear: 2015 \tDefense Points per Game: 19.7\n",
      "Team: New England Patriots \tYear: 2016 \tDefense Points per Game: 15.6\n",
      "Team: New England Patriots \tYear: 2017 \tDefense Points per Game: 18.5\n",
      "Team: New England Patriots \tYear: 2018 \tDefense Points per Game: 20.3\n",
      "Team: New England Patriots \tYear: 2019 \tDefense Points per Game: 14.1\n",
      "Team: New England Patriots \tYear: 2020 \tDefense Points per Game: 22.1\n",
      "Team: New England Patriots \tYear: 2021 \tDefense Points per Game: 17.8\n",
      "Team: New England Patriots \tYear: 2022 \tDefense Points per Game: 20.4\n",
      "Team: New Orleans Saints \tYear: 2012 \tDefense Points per Game: 28.4\n",
      "Team: New Orleans Saints \tYear: 2013 \tDefense Points per Game: 19.0\n",
      "Team: New Orleans Saints \tYear: 2014 \tDefense Points per Game: 26.5\n",
      "Team: New Orleans Saints \tYear: 2015 \tDefense Points per Game: 29.8\n",
      "Team: New Orleans Saints \tYear: 2016 \tDefense Points per Game: 28.4\n",
      "Team: New Orleans Saints \tYear: 2017 \tDefense Points per Game: 20.4\n",
      "Team: New Orleans Saints \tYear: 2019 \tDefense Points per Game: 21.3\n",
      "Team: New Orleans Saints \tYear: 2020 \tDefense Points per Game: 21.1\n",
      "Team: New Orleans Saints \tYear: 2021 \tDefense Points per Game: 19.7\n",
      "Team: New Orleans Saints \tYear: 2022 \tDefense Points per Game: 20.3\n",
      "Team: New York Giants \tYear: 2012 \tDefense Points per Game: 21.5\n",
      "Team: New York Giants \tYear: 2013 \tDefense Points per Game: 23.9\n",
      "Team: New York Giants \tYear: 2014 \tDefense Points per Game: 25.0\n",
      "Team: New York Giants \tYear: 2015 \tDefense Points per Game: 27.6\n",
      "Team: New York Giants \tYear: 2016 \tDefense Points per Game: 17.8\n",
      "Team: New York Giants \tYear: 2017 \tDefense Points per Game: 24.2\n",
      "Team: New York Giants \tYear: 2018 \tDefense Points per Game: 25.8\n",
      "Team: New York Giants \tYear: 2019 \tDefense Points per Game: 28.2\n",
      "Team: New York Giants \tYear: 2020 \tDefense Points per Game: 22.3\n",
      "Team: New York Giants \tYear: 2021 \tDefense Points per Game: 24.5\n",
      "Team: New York Giants \tYear: 2022 \tDefense Points per Game: 21.8\n",
      "Team: New York Jets \tYear: 2012 \tDefense Points per Game: 23.4\n",
      "Team: New York Jets \tYear: 2013 \tDefense Points per Game: 24.2\n",
      "Team: New York Jets \tYear: 2014 \tDefense Points per Game: 25.1\n",
      "Team: New York Jets \tYear: 2015 \tDefense Points per Game: 19.6\n",
      "Team: New York Jets \tYear: 2016 \tDefense Points per Game: 25.6\n",
      "Team: New York Jets \tYear: 2017 \tDefense Points per Game: 23.9\n",
      "Team: New York Jets \tYear: 2018 \tDefense Points per Game: 27.6\n",
      "Team: New York Jets \tYear: 2019 \tDefense Points per Game: 22.4\n",
      "Team: New York Jets \tYear: 2020 \tDefense Points per Game: 28.6\n",
      "Team: New York Jets \tYear: 2021 \tDefense Points per Game: 29.6\n",
      "Team: New York Jets \tYear: 2022 \tDefense Points per Game: 18.6\n",
      "Team: Philadelphia Eagles \tYear: 2012 \tDefense Points per Game: 27.8\n",
      "Team: Philadelphia Eagles \tYear: 2013 \tDefense Points per Game: 23.9\n",
      "Team: Philadelphia Eagles \tYear: 2014 \tDefense Points per Game: 25.0\n",
      "Team: Philadelphia Eagles \tYear: 2015 \tDefense Points per Game: 26.9\n",
      "Team: Philadelphia Eagles \tYear: 2016 \tDefense Points per Game: 20.7\n",
      "Team: Philadelphia Eagles \tYear: 2017 \tDefense Points per Game: 18.4\n",
      "Team: Philadelphia Eagles \tYear: 2018 \tDefense Points per Game: 21.8\n",
      "Team: Philadelphia Eagles \tYear: 2019 \tDefense Points per Game: 22.1\n",
      "Team: Philadelphia Eagles \tYear: 2020 \tDefense Points per Game: 26.1\n",
      "Team: Philadelphia Eagles \tYear: 2021 \tDefense Points per Game: 22.6\n",
      "Team: Philadelphia Eagles \tYear: 2022 \tDefense Points per Game: 20.2\n",
      "Team: Pittsburgh Steelers \tYear: 2012 \tDefense Points per Game: 19.6\n",
      "Team: Pittsburgh Steelers \tYear: 2013 \tDefense Points per Game: 23.1\n",
      "Team: Pittsburgh Steelers \tYear: 2014 \tDefense Points per Game: 23.0\n",
      "Team: Pittsburgh Steelers \tYear: 2015 \tDefense Points per Game: 19.9\n",
      "Team: Pittsburgh Steelers \tYear: 2016 \tDefense Points per Game: 20.4\n",
      "Team: Pittsburgh Steelers \tYear: 2017 \tDefense Points per Game: 19.2\n",
      "Team: Pittsburgh Steelers \tYear: 2018 \tDefense Points per Game: 22.5\n",
      "Team: Pittsburgh Steelers \tYear: 2019 \tDefense Points per Game: 18.9\n",
      "Team: Pittsburgh Steelers \tYear: 2020 \tDefense Points per Game: 19.5\n",
      "Team: Pittsburgh Steelers \tYear: 2021 \tDefense Points per Game: 23.4\n",
      "Team: Pittsburgh Steelers \tYear: 2022 \tDefense Points per Game: 20.4\n",
      "Team: San Francisco 49ers \tYear: 2012 \tDefense Points per Game: 17.1\n",
      "Team: San Francisco 49ers \tYear: 2013 \tDefense Points per Game: 17.0\n",
      "Team: San Francisco 49ers \tYear: 2014 \tDefense Points per Game: 21.2\n",
      "Team: San Francisco 49ers \tYear: 2015 \tDefense Points per Game: 24.2\n",
      "Team: San Francisco 49ers \tYear: 2016 \tDefense Points per Game: 30.0\n",
      "Team: San Francisco 49ers \tYear: 2017 \tDefense Points per Game: 23.9\n",
      "Team: San Francisco 49ers \tYear: 2018 \tDefense Points per Game: 27.2\n",
      "Team: San Francisco 49ers \tYear: 2019 \tDefense Points per Game: 19.4\n",
      "Team: San Francisco 49ers \tYear: 2020 \tDefense Points per Game: 24.4\n",
      "Team: San Francisco 49ers \tYear: 2021 \tDefense Points per Game: 21.5\n",
      "Team: San Francisco 49ers \tYear: 2022 \tDefense Points per Game: 16.3\n",
      "Team: Seattle Seahawks \tYear: 2012 \tDefense Points per Game: 15.3\n",
      "Team: Seattle Seahawks \tYear: 2013 \tDefense Points per Game: 14.4\n",
      "Team: Seattle Seahawks \tYear: 2014 \tDefense Points per Game: 15.9\n",
      "Team: Seattle Seahawks \tYear: 2015 \tDefense Points per Game: 17.3\n",
      "Team: Seattle Seahawks \tYear: 2016 \tDefense Points per Game: 18.2\n",
      "Team: Seattle Seahawks \tYear: 2017 \tDefense Points per Game: 20.8\n",
      "Team: Seattle Seahawks \tYear: 2018 \tDefense Points per Game: 21.7\n",
      "Team: Seattle Seahawks \tYear: 2019 \tDefense Points per Game: 24.9\n",
      "Team: Seattle Seahawks \tYear: 2020 \tDefense Points per Game: 23.2\n",
      "Team: Seattle Seahawks \tYear: 2021 \tDefense Points per Game: 21.5\n",
      "Team: Seattle Seahawks \tYear: 2022 \tDefense Points per Game: 23.6\n",
      "Team: Tampa Bay Buccaneers \tYear: 2012 \tDefense Points per Game: 24.6\n",
      "Team: Tampa Bay Buccaneers \tYear: 2013 \tDefense Points per Game: 24.3\n",
      "Team: Tampa Bay Buccaneers \tYear: 2014 \tDefense Points per Game: 25.6\n",
      "Team: Tampa Bay Buccaneers \tYear: 2015 \tDefense Points per Game: 26.1\n",
      "Team: Tampa Bay Buccaneers \tYear: 2016 \tDefense Points per Game: 23.1\n",
      "Team: Tampa Bay Buccaneers \tYear: 2017 \tDefense Points per Game: 23.9\n",
      "Team: Tampa Bay Buccaneers \tYear: 2018 \tDefense Points per Game: 29.0\n",
      "Team: Tampa Bay Buccaneers \tYear: 2019 \tDefense Points per Game: 28.1\n",
      "Team: Tampa Bay Buccaneers \tYear: 2020 \tDefense Points per Game: 22.2\n",
      "Team: Tampa Bay Buccaneers \tYear: 2021 \tDefense Points per Game: 20.8\n",
      "Team: Tampa Bay Buccaneers \tYear: 2022 \tDefense Points per Game: 21.1\n",
      "Team: Tennessee Titans \tYear: 2012 \tDefense Points per Game: 29.4\n",
      "Team: Tennessee Titans \tYear: 2013 \tDefense Points per Game: 23.8\n",
      "Team: Tennessee Titans \tYear: 2014 \tDefense Points per Game: 27.4\n",
      "Team: Tennessee Titans \tYear: 2015 \tDefense Points per Game: 26.4\n",
      "Team: Tennessee Titans \tYear: 2016 \tDefense Points per Game: 23.6\n",
      "Team: Tennessee Titans \tYear: 2017 \tDefense Points per Game: 22.2\n",
      "Team: Tennessee Titans \tYear: 2018 \tDefense Points per Game: 18.9\n",
      "Team: Tennessee Titans \tYear: 2019 \tDefense Points per Game: 20.7\n",
      "Team: Tennessee Titans \tYear: 2020 \tDefense Points per Game: 27.4\n",
      "Team: Tennessee Titans \tYear: 2021 \tDefense Points per Game: 20.8\n",
      "Team: Tennessee Titans \tYear: 2022 \tDefense Points per Game: 21.1\n",
      "Team: Washington Commanders \tYear: 2012 \tDefense Points per Game: 24.2\n",
      "Team: Washington Commanders \tYear: 2013 \tDefense Points per Game: 29.9\n",
      "Team: Washington Commanders \tYear: 2014 \tDefense Points per Game: 27.4\n",
      "Team: Washington Commanders \tYear: 2015 \tDefense Points per Game: 23.7\n",
      "Team: Washington Commanders \tYear: 2016 \tDefense Points per Game: 23.9\n",
      "Team: Washington Commanders \tYear: 2017 \tDefense Points per Game: 24.2\n",
      "Team: Washington Commanders \tYear: 2018 \tDefense Points per Game: 22.4\n",
      "Team: Washington Commanders \tYear: 2019 \tDefense Points per Game: 27.2\n",
      "Team: Washington Commanders \tYear: 2020 \tDefense Points per Game: 20.6\n",
      "Team: Washington Commanders \tYear: 2021 \tDefense Points per Game: 25.5\n",
      "Team: Washington Commanders \tYear: 2022 \tDefense Points per Game: 20.2\n"
     ]
    }
   ],
   "source": [
    "team_names = nfldefptsgame['Team'].unique()\n",
    "\n",
    "# Iterate over each team\n",
    "for team_name in team_names:\n",
    "    team_data = nfldefptsgame[nfldefptsgame['Team'] == team_name]\n",
    "    \n",
    "    # Display the Defense points allowed per game for each year\n",
    "    for year in team_data['Year'].unique():\n",
    "        team_def_pts_game = team_data.loc[team_data['Year'] == year, 'Def Pts/G'].values[0]\n",
    "        print(\"Team:\", team_name, \"\\tYear:\", year, \"\\tDefense Points per Game:\", team_def_pts_game)"
   ]
  },
  {
   "cell_type": "markdown",
   "id": "f9c5af35",
   "metadata": {},
   "source": [
    "#### Calculate Descriptive Statistics on Defense Points per Game for all Teams. These statistics are the points allowed per game and their mean, median, standard deviation, variance, min, max, range, and sum. "
   ]
  },
  {
   "cell_type": "markdown",
   "id": "14245f4d",
   "metadata": {},
   "source": [
    "### Arizona Cardinals"
   ]
  },
  {
   "cell_type": "code",
   "execution_count": 10,
   "id": "a9b8eeec",
   "metadata": {},
   "outputs": [
    {
     "name": "stdout",
     "output_type": "stream",
     "text": [
      "Arizona Cardinals Defense Points/Game Mean: 22.818181818181817\n",
      "Arizona Cardinals Defense Points/Game Median: 22.6\n",
      "Arizona Cardinals Defense Points/Game Standard Deviation: 2.9372838411764643\n",
      "Arizona Cardinals Defense Points/Game Variance: 8.627636363636366\n",
      "Arizona Cardinals Defense Points/Game Minimum: 18.7\n",
      "Arizona Cardinals Defense Points/Game Maximum: 27.6\n",
      "Arizona Cardinals Defense Points/Game Range: 8.900000000000002\n",
      "Arizona Cardinals Total Points/Game 2012-2022: 251.0\n"
     ]
    }
   ],
   "source": [
    "team_name1 = 'Arizona Cardinals'\n",
    "cardinals_data = nfldefptsgame[nfldefptsgame['Team'] == team_name1]\n",
    "mean_value = cardinals_data['Def Pts/G'].mean()\n",
    "median_value = cardinals_data['Def Pts/G'].median()\n",
    "std_value = cardinals_data['Def Pts/G'].std()\n",
    "var_value = cardinals_data['Def Pts/G'].var()\n",
    "min_value = cardinals_data['Def Pts/G'].min()\n",
    "max_value = cardinals_data['Def Pts/G'].max()\n",
    "data_range = max_value - min_value\n",
    "total_points = cardinals_data['Def Pts/G'].sum()\n",
    "print(\"Arizona Cardinals Defense Points/Game Mean:\", mean_value)\n",
    "print(\"Arizona Cardinals Defense Points/Game Median:\", median_value)\n",
    "print(\"Arizona Cardinals Defense Points/Game Standard Deviation:\", std_value)\n",
    "print(\"Arizona Cardinals Defense Points/Game Variance:\", var_value)\n",
    "print(\"Arizona Cardinals Defense Points/Game Minimum:\", min_value)\n",
    "print(\"Arizona Cardinals Defense Points/Game Maximum:\", max_value)\n",
    "print(\"Arizona Cardinals Defense Points/Game Range:\", data_range)\n",
    "print(\"Arizona Cardinals Total Points/Game 2012-2022:\", total_points)"
   ]
  },
  {
   "cell_type": "markdown",
   "id": "75955199",
   "metadata": {},
   "source": [
    "### Atlanta Falcons"
   ]
  },
  {
   "cell_type": "code",
   "execution_count": 15,
   "id": "bf67dc05",
   "metadata": {},
   "outputs": [
    {
     "name": "stdout",
     "output_type": "stream",
     "text": [
      "Atlanta Falcons Defense Points/Game Mean: 24.19090909090909\n",
      "Atlanta Falcons Defense Points/Game Median: 25.4\n",
      "Atlanta Falcons Defense Points/Game Standard Deviation: 3.0474430414544402\n",
      "Atlanta Falcons Defense Points/Game Variance: 9.286909090909088\n",
      "Atlanta Falcons Defense Points/Game Minimum: 18.7\n",
      "Atlanta Falcons Defense Points/Game Maximum: 27.7\n",
      "Atlanta Falcons Defense Points/Game Range: 9.0\n",
      "Atlanta Falcons Defense Total Points/Game 2012-2022: 266.1\n"
     ]
    }
   ],
   "source": [
    "team_name2 = 'Atlanta Falcons'\n",
    "falcons_data = nfldefptsgame[nfldefptsgame['Team'] == team_name2]\n",
    "mean_value = falcons_data['Def Pts/G'].mean()\n",
    "median_value = falcons_data['Def Pts/G'].median()\n",
    "std_value = falcons_data['Def Pts/G'].std()\n",
    "var_value = falcons_data['Def Pts/G'].var()\n",
    "min_value = falcons_data['Def Pts/G'].min()\n",
    "max_value = falcons_data['Def Pts/G'].max()\n",
    "data_range = max_value - min_value\n",
    "total_points = falcons_data['Def Pts/G'].sum()\n",
    "print(\"Atlanta Falcons Defense Points/Game Mean:\", mean_value)\n",
    "print(\"Atlanta Falcons Defense Points/Game Median:\", median_value)\n",
    "print(\"Atlanta Falcons Defense Points/Game Standard Deviation:\", std_value)\n",
    "print(\"Atlanta Falcons Defense Points/Game Variance:\", var_value)\n",
    "print(\"Atlanta Falcons Defense Points/Game Minimum:\", min_value)\n",
    "print(\"Atlanta Falcons Defense Points/Game Maximum:\", max_value)\n",
    "print(\"Atlanta Falcons Defense Points/Game Range:\", data_range)\n",
    "print(\"Atlanta Falcons Defense Total Points/Game 2012-2022:\", total_points)"
   ]
  },
  {
   "cell_type": "markdown",
   "id": "aa7a2cc9",
   "metadata": {},
   "source": [
    "### Baltimore Ravens"
   ]
  },
  {
   "cell_type": "code",
   "execution_count": 16,
   "id": "d5c029fc",
   "metadata": {},
   "outputs": [
    {
     "name": "stdout",
     "output_type": "stream",
     "text": [
      "Baltimore Ravens Defense Points/Game Mean: 20.227272727272727\n",
      "Baltimore Ravens Defense Points/Game Median: 18.9\n",
      "Baltimore Ravens Defense Points/Game Standard Deviation: 2.395032738436329\n",
      "Baltimore Ravens Defense Points/Game Variance: 5.736181818181821\n",
      "Baltimore Ravens Defense Points/Game Minimum: 17.6\n",
      "Baltimore Ravens Defense Points/Game Maximum: 25.1\n",
      "Baltimore Ravens Defense Points/Game Range: 7.5\n",
      "Baltimore Ravens Defense Total Points/Game 2012-2022: 222.5\n"
     ]
    }
   ],
   "source": [
    "team_name3 = 'Baltimore Ravens'\n",
    "ravens_data = nfldefptsgame[nfldefptsgame['Team'] == team_name3]\n",
    "mean_value = ravens_data['Def Pts/G'].mean()\n",
    "median_value = ravens_data['Def Pts/G'].median()\n",
    "std_value = ravens_data['Def Pts/G'].std()\n",
    "var_value = ravens_data['Def Pts/G'].var()\n",
    "min_value = ravens_data['Def Pts/G'].min()\n",
    "max_value = ravens_data['Def Pts/G'].max()\n",
    "data_range = max_value - min_value\n",
    "total_points = ravens_data['Def Pts/G'].sum()\n",
    "print(\"Baltimore Ravens Defense Points/Game Mean:\", mean_value)\n",
    "print(\"Baltimore Ravens Defense Points/Game Median:\", median_value)\n",
    "print(\"Baltimore Ravens Defense Points/Game Standard Deviation:\", std_value)\n",
    "print(\"Baltimore Ravens Defense Points/Game Variance:\", var_value)\n",
    "print(\"Baltimore Ravens Defense Points/Game Minimum:\", min_value)\n",
    "print(\"Baltimore Ravens Defense Points/Game Maximum:\", max_value)\n",
    "print(\"Baltimore Ravens Defense Points/Game Range:\", data_range)\n",
    "print(\"Baltimore Ravens Defense Total Points/Game 2012-2022:\", total_points)"
   ]
  },
  {
   "cell_type": "markdown",
   "id": "f4e138e9",
   "metadata": {},
   "source": [
    "### Buffalo Bills"
   ]
  },
  {
   "cell_type": "code",
   "execution_count": 17,
   "id": "4a094e46",
   "metadata": {},
   "outputs": [
    {
     "name": "stdout",
     "output_type": "stream",
     "text": [
      "Buffalo Bills Defense Points/Game Mean: 21.436363636363637\n",
      "Buffalo Bills Defense Points/Game Median: 22.4\n",
      "Buffalo Bills Defense Points/Game Standard Deviation: 3.547470289452112\n",
      "Buffalo Bills Defense Points/Game Variance: 12.584545454545452\n",
      "Buffalo Bills Defense Points/Game Minimum: 16.2\n",
      "Buffalo Bills Defense Points/Game Maximum: 27.2\n",
      "Buffalo Bills Defense Points/Game Range: 11.0\n",
      "Buffalo Bills Defense Total Points/Game 2012-2022: 235.8\n"
     ]
    }
   ],
   "source": [
    "team_name4 = 'Buffalo Bills'\n",
    "bills_data = nfldefptsgame[nfldefptsgame['Team'] == team_name4]\n",
    "mean_value = bills_data['Def Pts/G'].mean()\n",
    "median_value = bills_data['Def Pts/G'].median()\n",
    "std_value = bills_data['Def Pts/G'].std()\n",
    "var_value = bills_data['Def Pts/G'].var()\n",
    "min_value = bills_data['Def Pts/G'].min()\n",
    "max_value = bills_data['Def Pts/G'].max()\n",
    "data_range = max_value - min_value\n",
    "total_points = bills_data['Def Pts/G'].sum()\n",
    "print(\"Buffalo Bills Defense Points/Game Mean:\", mean_value)\n",
    "print(\"Buffalo Bills Defense Points/Game Median:\", median_value)\n",
    "print(\"Buffalo Bills Defense Points/Game Standard Deviation:\", std_value)\n",
    "print(\"Buffalo Bills Defense Points/Game Variance:\", var_value)\n",
    "print(\"Buffalo Bills Defense Points/Game Minimum:\", min_value)\n",
    "print(\"Buffalo Bills Defense Points/Game Maximum:\", max_value)\n",
    "print(\"Buffalo Bills Defense Points/Game Range:\", data_range)\n",
    "print(\"Buffalo Bills Defense Total Points/Game 2012-2022:\", total_points)"
   ]
  },
  {
   "cell_type": "markdown",
   "id": "a82d199f",
   "metadata": {},
   "source": [
    "### Carolina Panthers"
   ]
  },
  {
   "cell_type": "code",
   "execution_count": 18,
   "id": "66ae4cfc",
   "metadata": {},
   "outputs": [
    {
     "name": "stdout",
     "output_type": "stream",
     "text": [
      "Carolina Panthers Defense Points/Game Mean: 22.736363636363638\n",
      "Carolina Panthers Defense Points/Game Median: 23.4\n",
      "Carolina Panthers Defense Points/Game Standard Deviation: 3.678660823526063\n",
      "Carolina Panthers Defense Points/Game Variance: 13.532545454545453\n",
      "Carolina Panthers Defense Points/Game Minimum: 15.1\n",
      "Carolina Panthers Defense Points/Game Maximum: 29.4\n",
      "Carolina Panthers Defense Points/Game Range: 14.299999999999999\n",
      "Carolina Panthers Defense Total Points/Game 2012-2022: 250.1\n"
     ]
    }
   ],
   "source": [
    "team_name5 = 'Carolina Panthers'\n",
    "panthers_data = nfldefptsgame[nfldefptsgame['Team'] == team_name5]\n",
    "mean_value = panthers_data['Def Pts/G'].mean()\n",
    "median_value = panthers_data['Def Pts/G'].median()\n",
    "std_value = panthers_data['Def Pts/G'].std()\n",
    "var_value = panthers_data['Def Pts/G'].var()\n",
    "min_value = panthers_data['Def Pts/G'].min()\n",
    "max_value = panthers_data['Def Pts/G'].max()\n",
    "data_range = max_value - min_value\n",
    "total_points = panthers_data['Def Pts/G'].sum()\n",
    "print(\"Carolina Panthers Defense Points/Game Mean:\", mean_value)\n",
    "print(\"Carolina Panthers Defense Points/Game Median:\", median_value)\n",
    "print(\"Carolina Panthers Defense Points/Game Standard Deviation:\", std_value)\n",
    "print(\"Carolina Panthers Defense Points/Game Variance:\", var_value)\n",
    "print(\"Carolina Panthers Defense Points/Game Minimum:\", min_value)\n",
    "print(\"Carolina Panthers Defense Points/Game Maximum:\", max_value)\n",
    "print(\"Carolina Panthers Defense Points/Game Range:\", data_range)\n",
    "print(\"Carolina Panthers Defense Total Points/Game 2012-2022:\", total_points)"
   ]
  },
  {
   "cell_type": "markdown",
   "id": "22c033f6",
   "metadata": {},
   "source": [
    "### Chicago Bears"
   ]
  },
  {
   "cell_type": "code",
   "execution_count": 19,
   "id": "c81da7c2",
   "metadata": {},
   "outputs": [
    {
     "name": "stdout",
     "output_type": "stream",
     "text": [
      "Chicago Bears Defense Points/Game Mean: 23.18181818181818\n",
      "Chicago Bears Defense Points/Game Median: 23.9\n",
      "Chicago Bears Defense Points/Game Standard Deviation: 4.273831578763529\n",
      "Chicago Bears Defense Points/Game Variance: 18.26563636363636\n",
      "Chicago Bears Defense Points/Game Minimum: 17.3\n",
      "Chicago Bears Defense Points/Game Maximum: 29.9\n",
      "Chicago Bears Defense Points/Game Range: 12.599999999999998\n",
      "Chicago Bears Defense Total Points/Game 2012-2022: 255.0\n"
     ]
    }
   ],
   "source": [
    "team_name6 = 'Chicago Bears'\n",
    "bears_data = nfldefptsgame[nfldefptsgame['Team'] == team_name6]\n",
    "mean_value = bears_data['Def Pts/G'].mean()\n",
    "median_value = bears_data['Def Pts/G'].median()\n",
    "std_value = bears_data['Def Pts/G'].std()\n",
    "var_value = bears_data['Def Pts/G'].var()\n",
    "min_value = bears_data['Def Pts/G'].min()\n",
    "max_value = bears_data['Def Pts/G'].max()\n",
    "data_range = max_value - min_value\n",
    "total_points = bears_data['Def Pts/G'].sum()\n",
    "print(\"Chicago Bears Defense Points/Game Mean:\", mean_value)\n",
    "print(\"Chicago Bears Defense Points/Game Median:\", median_value)\n",
    "print(\"Chicago Bears Defense Points/Game Standard Deviation:\", std_value)\n",
    "print(\"Chicago Bears Defense Points/Game Variance:\", var_value)\n",
    "print(\"Chicago Bears Defense Points/Game Minimum:\", min_value)\n",
    "print(\"Chicago Bears Defense Points/Game Maximum:\", max_value)\n",
    "print(\"Chicago Bears Defense Points/Game Range:\", data_range)\n",
    "print(\"Chicago Bears Defense Total Points/Game 2012-2022:\", total_points)"
   ]
  },
  {
   "cell_type": "markdown",
   "id": "49980972",
   "metadata": {},
   "source": [
    "### Cincinnati Bengals"
   ]
  },
  {
   "cell_type": "code",
   "execution_count": 20,
   "id": "a8c9f708",
   "metadata": {},
   "outputs": [
    {
     "name": "stdout",
     "output_type": "stream",
     "text": [
      "Cincinnati Bengals Defense Points/Game Mean: 22.07272727272727\n",
      "Cincinnati Bengals Defense Points/Game Median: 21.5\n",
      "Cincinnati Bengals Defense Points/Game Standard Deviation: 3.486571642485181\n",
      "Cincinnati Bengals Defense Points/Game Variance: 12.156181818181814\n",
      "Cincinnati Bengals Defense Points/Game Minimum: 17.4\n",
      "Cincinnati Bengals Defense Points/Game Maximum: 28.4\n",
      "Cincinnati Bengals Defense Points/Game Range: 11.0\n",
      "Cincinnati Bengals Defense Total Points/Game 2012-2022: 242.79999999999998\n"
     ]
    }
   ],
   "source": [
    "team_name7 = 'Cincinnati Bengals'\n",
    "bengals_data = nfldefptsgame[nfldefptsgame['Team'] == team_name7]\n",
    "mean_value = bengals_data['Def Pts/G'].mean()\n",
    "median_value = bengals_data['Def Pts/G'].median()\n",
    "std_value = bengals_data['Def Pts/G'].std()\n",
    "var_value = bengals_data['Def Pts/G'].var()\n",
    "min_value = bengals_data['Def Pts/G'].min()\n",
    "max_value = bengals_data['Def Pts/G'].max()\n",
    "data_range = max_value - min_value\n",
    "total_points = bengals_data['Def Pts/G'].sum()\n",
    "print(\"Cincinnati Bengals Defense Points/Game Mean:\", mean_value)\n",
    "print(\"Cincinnati Bengals Defense Points/Game Median:\", median_value)\n",
    "print(\"Cincinnati Bengals Defense Points/Game Standard Deviation:\", std_value)\n",
    "print(\"Cincinnati Bengals Defense Points/Game Variance:\", var_value)\n",
    "print(\"Cincinnati Bengals Defense Points/Game Minimum:\", min_value)\n",
    "print(\"Cincinnati Bengals Defense Points/Game Maximum:\", max_value)\n",
    "print(\"Cincinnati Bengals Defense Points/Game Range:\", data_range)\n",
    "print(\"Cincinnati Bengals Defense Total Points/Game 2012-2022:\", total_points)"
   ]
  },
  {
   "cell_type": "markdown",
   "id": "022f5b80",
   "metadata": {},
   "source": [
    "### Cleveland Browns"
   ]
  },
  {
   "cell_type": "code",
   "execution_count": 21,
   "id": "907f68cf",
   "metadata": {},
   "outputs": [
    {
     "name": "stdout",
     "output_type": "stream",
     "text": [
      "Cleveland Browns Defense Points/Game Mean: 24.527272727272727\n",
      "Cleveland Browns Defense Points/Game Median: 24.6\n",
      "Cleveland Browns Defense Points/Game Standard Deviation: 2.244143894268328\n",
      "Cleveland Browns Defense Points/Game Variance: 5.0361818181818165\n",
      "Cleveland Browns Defense Points/Game Minimum: 21.1\n",
      "Cleveland Browns Defense Points/Game Maximum: 28.2\n",
      "Cleveland Browns Defense Points/Game Range: 7.099999999999998\n",
      "Cleveland Browns Defense Total Points/Game 2012-2022: 269.8\n"
     ]
    }
   ],
   "source": [
    "team_name8 = 'Cleveland Browns'\n",
    "browns_data = nfldefptsgame[nfldefptsgame['Team'] == team_name8]\n",
    "mean_value = browns_data['Def Pts/G'].mean()\n",
    "median_value = browns_data['Def Pts/G'].median()\n",
    "std_value = browns_data['Def Pts/G'].std()\n",
    "var_value = browns_data['Def Pts/G'].var()\n",
    "min_value = browns_data['Def Pts/G'].min()\n",
    "max_value = browns_data['Def Pts/G'].max()\n",
    "data_range = max_value - min_value\n",
    "total_points = browns_data['Def Pts/G'].sum()\n",
    "print(\"Cleveland Browns Defense Points/Game Mean:\", mean_value)\n",
    "print(\"Cleveland Browns Defense Points/Game Median:\", median_value)\n",
    "print(\"Cleveland Browns Defense Points/Game Standard Deviation:\", std_value)\n",
    "print(\"Cleveland Browns Defense Points/Game Variance:\", var_value)\n",
    "print(\"Cleveland Browns Defense Points/Game Minimum:\", min_value)\n",
    "print(\"Cleveland Browns Defense Points/Game Maximum:\", max_value)\n",
    "print(\"Cleveland Browns Defense Points/Game Range:\", data_range)\n",
    "print(\"Cleveland Browns Defense Total Points/Game 2012-2022:\", total_points)"
   ]
  },
  {
   "cell_type": "markdown",
   "id": "05a8ee25",
   "metadata": {},
   "source": [
    "### Dallas Cowboys"
   ]
  },
  {
   "cell_type": "code",
   "execution_count": 22,
   "id": "32b9e370",
   "metadata": {},
   "outputs": [
    {
     "name": "stdout",
     "output_type": "stream",
     "text": [
      "Dallas Cowboys Defense Points/Game Mean: 22.58181818181818\n",
      "Dallas Cowboys Defense Points/Game Median: 21.1\n",
      "Dallas Cowboys Defense Points/Game Standard Deviation: 3.3334121202810136\n",
      "Dallas Cowboys Defense Points/Game Variance: 11.111636363636363\n",
      "Dallas Cowboys Defense Points/Game Minimum: 19.1\n",
      "Dallas Cowboys Defense Points/Game Maximum: 29.6\n",
      "Dallas Cowboys Defense Points/Game Range: 10.5\n",
      "Dallas Cowboys Defense Total Points/Game 2012-2022: 248.4\n"
     ]
    }
   ],
   "source": [
    "team_name9 = 'Dallas Cowboys'\n",
    "cowboys_data = nfldefptsgame[nfldefptsgame['Team'] == team_name9]\n",
    "mean_value = cowboys_data['Def Pts/G'].mean()\n",
    "median_value = cowboys_data['Def Pts/G'].median()\n",
    "std_value = cowboys_data['Def Pts/G'].std()\n",
    "var_value = cowboys_data['Def Pts/G'].var()\n",
    "min_value = cowboys_data['Def Pts/G'].min()\n",
    "max_value = cowboys_data['Def Pts/G'].max()\n",
    "data_range = max_value - min_value\n",
    "total_points = cowboys_data['Def Pts/G'].sum()\n",
    "print(\"Dallas Cowboys Defense Points/Game Mean:\", mean_value)\n",
    "print(\"Dallas Cowboys Defense Points/Game Median:\", median_value)\n",
    "print(\"Dallas Cowboys Defense Points/Game Standard Deviation:\", std_value)\n",
    "print(\"Dallas Cowboys Defense Points/Game Variance:\", var_value)\n",
    "print(\"Dallas Cowboys Defense Points/Game Minimum:\", min_value)\n",
    "print(\"Dallas Cowboys Defense Points/Game Maximum:\", max_value)\n",
    "print(\"Dallas Cowboys Defense Points/Game Range:\", data_range)\n",
    "print(\"Dallas Cowboys Defense Total Points/Game 2012-2022:\", total_points)"
   ]
  },
  {
   "cell_type": "markdown",
   "id": "16831b4c",
   "metadata": {},
   "source": [
    "### Denver Broncos"
   ]
  },
  {
   "cell_type": "code",
   "execution_count": 23,
   "id": "c372999f",
   "metadata": {},
   "outputs": [
    {
     "name": "stdout",
     "output_type": "stream",
     "text": [
      "Denver Broncos Defense Points/Game Mean: 21.41818181818182\n",
      "Denver Broncos Defense Points/Game Median: 21.1\n",
      "Denver Broncos Defense Points/Game Standard Deviation: 3.121479835532557\n",
      "Denver Broncos Defense Points/Game Variance: 9.743636363636359\n",
      "Denver Broncos Defense Points/Game Minimum: 18.1\n",
      "Denver Broncos Defense Points/Game Maximum: 27.9\n",
      "Denver Broncos Defense Points/Game Range: 9.799999999999997\n",
      "Denver Broncos Defense Total Points/Game 2012-2022: 235.6\n"
     ]
    }
   ],
   "source": [
    "team_name10 = 'Denver Broncos'\n",
    "broncos_data = nfldefptsgame[nfldefptsgame['Team'] == team_name10]\n",
    "mean_value = broncos_data['Def Pts/G'].mean()\n",
    "median_value = broncos_data['Def Pts/G'].median()\n",
    "std_value = broncos_data['Def Pts/G'].std()\n",
    "var_value = broncos_data['Def Pts/G'].var()\n",
    "min_value = broncos_data['Def Pts/G'].min()\n",
    "max_value = broncos_data['Def Pts/G'].max()\n",
    "data_range = max_value - min_value\n",
    "total_points = broncos_data['Def Pts/G'].sum()\n",
    "print(\"Denver Broncos Defense Points/Game Mean:\", mean_value)\n",
    "print(\"Denver Broncos Defense Points/Game Median:\", median_value)\n",
    "print(\"Denver Broncos Defense Points/Game Standard Deviation:\", std_value)\n",
    "print(\"Denver Broncos Defense Points/Game Variance:\", var_value)\n",
    "print(\"Denver Broncos Defense Points/Game Minimum:\", min_value)\n",
    "print(\"Denver Broncos Defense Points/Game Maximum:\", max_value)\n",
    "print(\"Denver Broncos Defense Points/Game Range:\", data_range)\n",
    "print(\"Denver Broncos Defense Total Points/Game 2012-2022:\", total_points)"
   ]
  },
  {
   "cell_type": "markdown",
   "id": "297b12df",
   "metadata": {},
   "source": [
    "### Detroit Lions"
   ]
  },
  {
   "cell_type": "code",
   "execution_count": 24,
   "id": "67238a29",
   "metadata": {},
   "outputs": [
    {
     "name": "stdout",
     "output_type": "stream",
     "text": [
      "Detroit Lions Defense Points/Game Mean: 24.83636363636364\n",
      "Detroit Lions Defense Points/Game Median: 25.0\n",
      "Detroit Lions Defense Points/Game Standard Deviation: 3.744935974692418\n",
      "Detroit Lions Defense Points/Game Variance: 14.02454545454545\n",
      "Detroit Lions Defense Points/Game Minimum: 17.6\n",
      "Detroit Lions Defense Points/Game Maximum: 32.4\n",
      "Detroit Lions Defense Points/Game Range: 14.799999999999997\n",
      "Detroit Lions Defense Total Points/Game 2012-2022: 273.2\n"
     ]
    }
   ],
   "source": [
    "team_name11 = 'Detroit Lions'\n",
    "lions_data = nfldefptsgame[nfldefptsgame['Team'] == team_name11]\n",
    "mean_value = lions_data['Def Pts/G'].mean()\n",
    "median_value = lions_data['Def Pts/G'].median()\n",
    "std_value = lions_data['Def Pts/G'].std()\n",
    "var_value = lions_data['Def Pts/G'].var()\n",
    "min_value = lions_data['Def Pts/G'].min()\n",
    "max_value = lions_data['Def Pts/G'].max()\n",
    "data_range = max_value - min_value\n",
    "total_points = lions_data['Def Pts/G'].sum()\n",
    "print(\"Detroit Lions Defense Points/Game Mean:\", mean_value)\n",
    "print(\"Detroit Lions Defense Points/Game Median:\", median_value)\n",
    "print(\"Detroit Lions Defense Points/Game Standard Deviation:\", std_value)\n",
    "print(\"Detroit Lions Defense Points/Game Variance:\", var_value)\n",
    "print(\"Detroit Lions Defense Points/Game Minimum:\", min_value)\n",
    "print(\"Detroit Lions Defense Points/Game Maximum:\", max_value)\n",
    "print(\"Detroit Lions Defense Points/Game Range:\", data_range)\n",
    "print(\"Detroit Lions Defense Total Points/Game 2012-2022:\", total_points)"
   ]
  },
  {
   "cell_type": "markdown",
   "id": "5c57bf85",
   "metadata": {},
   "source": [
    "### Green Bay Packers"
   ]
  },
  {
   "cell_type": "code",
   "execution_count": 25,
   "id": "d5fb015d",
   "metadata": {},
   "outputs": [
    {
     "name": "stdout",
     "output_type": "stream",
     "text": [
      "Green Bay Packers Defense Points/Game Mean: 22.663636363636364\n",
      "Green Bay Packers Defense Points/Game Median: 21.8\n",
      "Green Bay Packers Defense Points/Game Standard Deviation: 2.176360598463741\n",
      "Green Bay Packers Defense Points/Game Variance: 4.736545454545454\n",
      "Green Bay Packers Defense Points/Game Minimum: 19.6\n",
      "Green Bay Packers Defense Points/Game Maximum: 26.8\n",
      "Green Bay Packers Defense Points/Game Range: 7.199999999999999\n",
      "Green Bay Packers Defense Total Points/Game 2012-2022: 249.30000000000004\n"
     ]
    }
   ],
   "source": [
    "team_name12 = 'Green Bay Packers'\n",
    "packers_data = nfldefptsgame[nfldefptsgame['Team'] == team_name12]\n",
    "mean_value = packers_data['Def Pts/G'].mean()\n",
    "median_value = packers_data['Def Pts/G'].median()\n",
    "std_value = packers_data['Def Pts/G'].std()\n",
    "var_value = packers_data['Def Pts/G'].var()\n",
    "min_value = packers_data['Def Pts/G'].min()\n",
    "max_value = packers_data['Def Pts/G'].max()\n",
    "data_range = max_value - min_value\n",
    "total_points = packers_data['Def Pts/G'].sum()\n",
    "print(\"Green Bay Packers Defense Points/Game Mean:\", mean_value)\n",
    "print(\"Green Bay Packers Defense Points/Game Median:\", median_value)\n",
    "print(\"Green Bay Packers Defense Points/Game Standard Deviation:\", std_value)\n",
    "print(\"Green Bay Packers Defense Points/Game Variance:\", var_value)\n",
    "print(\"Green Bay Packers Defense Points/Game Minimum:\", min_value)\n",
    "print(\"Green Bay Packers Defense Points/Game Maximum:\", max_value)\n",
    "print(\"Green Bay Packers Defense Points/Game Range:\", data_range)\n",
    "print(\"Green Bay Packers Defense Total Points/Game 2012-2022:\", total_points)"
   ]
  },
  {
   "cell_type": "markdown",
   "id": "15c014e6",
   "metadata": {},
   "source": [
    "### Houston Texans"
   ]
  },
  {
   "cell_type": "code",
   "execution_count": 26,
   "id": "5eb42488",
   "metadata": {},
   "outputs": [
    {
     "name": "stdout",
     "output_type": "stream",
     "text": [
      "Houston Texans Defense Points/Game Mean: 23.472727272727273\n",
      "Houston Texans Defense Points/Game Median: 24.1\n",
      "Houston Texans Defense Points/Game Standard Deviation: 3.611949863741442\n",
      "Houston Texans Defense Points/Game Variance: 13.046181818181822\n",
      "Houston Texans Defense Points/Game Minimum: 19.2\n",
      "Houston Texans Defense Points/Game Maximum: 29.0\n",
      "Houston Texans Defense Points/Game Range: 9.8\n",
      "Houston Texans Defense Total Points/Game 2012-2022: 258.2\n"
     ]
    }
   ],
   "source": [
    "team_name13 = 'Houston Texans'\n",
    "texans_data = nfldefptsgame[nfldefptsgame['Team'] == team_name13]\n",
    "mean_value = texans_data['Def Pts/G'].mean()\n",
    "median_value = texans_data['Def Pts/G'].median()\n",
    "std_value = texans_data['Def Pts/G'].std()\n",
    "var_value = texans_data['Def Pts/G'].var()\n",
    "min_value = texans_data['Def Pts/G'].min()\n",
    "max_value = texans_data['Def Pts/G'].max()\n",
    "data_range = max_value - min_value\n",
    "total_points = texans_data['Def Pts/G'].sum()\n",
    "print(\"Houston Texans Defense Points/Game Mean:\", mean_value)\n",
    "print(\"Houston Texans Defense Points/Game Median:\", median_value)\n",
    "print(\"Houston Texans Defense Points/Game Standard Deviation:\", std_value)\n",
    "print(\"Houston Texans Defense Points/Game Variance:\", var_value)\n",
    "print(\"Houston Texans Defense Points/Game Minimum:\", min_value)\n",
    "print(\"Houston Texans Defense Points/Game Maximum:\", max_value)\n",
    "print(\"Houston Texans Defense Points/Game Range:\", data_range)\n",
    "print(\"Houston Texans Defense Total Points/Game 2012-2022:\", total_points)"
   ]
  },
  {
   "cell_type": "markdown",
   "id": "7d47e98c",
   "metadata": {},
   "source": [
    "### Indianapolis Colts"
   ]
  },
  {
   "cell_type": "code",
   "execution_count": 27,
   "id": "618546fa",
   "metadata": {},
   "outputs": [
    {
     "name": "stdout",
     "output_type": "stream",
     "text": [
      "Indianapolis Colts Defense Points/Game Mean: 23.40909090909091\n",
      "Indianapolis Colts Defense Points/Game Median: 23.3\n",
      "Indianapolis Colts Defense Points/Game Standard Deviation: 1.615830774217737\n",
      "Indianapolis Colts Defense Points/Game Variance: 2.610909090909091\n",
      "Indianapolis Colts Defense Points/Game Minimum: 21.0\n",
      "Indianapolis Colts Defense Points/Game Maximum: 25.5\n",
      "Indianapolis Colts Defense Points/Game Range: 4.5\n",
      "Indianapolis Colts Defense Total Points/Game 2012-2022: 257.5\n"
     ]
    }
   ],
   "source": [
    "team_name14 = 'Indianapolis Colts'\n",
    "colts_data = nfldefptsgame[nfldefptsgame['Team'] == team_name14]\n",
    "mean_value = colts_data['Def Pts/G'].mean()\n",
    "median_value = colts_data['Def Pts/G'].median()\n",
    "std_value = colts_data['Def Pts/G'].std()\n",
    "var_value = colts_data['Def Pts/G'].var()\n",
    "min_value = colts_data['Def Pts/G'].min()\n",
    "max_value = colts_data['Def Pts/G'].max()\n",
    "data_range = max_value - min_value\n",
    "total_points = colts_data['Def Pts/G'].sum()\n",
    "print(\"Indianapolis Colts Defense Points/Game Mean:\", mean_value)\n",
    "print(\"Indianapolis Colts Defense Points/Game Median:\", median_value)\n",
    "print(\"Indianapolis Colts Defense Points/Game Standard Deviation:\", std_value)\n",
    "print(\"Indianapolis Colts Defense Points/Game Variance:\", var_value)\n",
    "print(\"Indianapolis Colts Defense Points/Game Minimum:\", min_value)\n",
    "print(\"Indianapolis Colts Defense Points/Game Maximum:\", max_value)\n",
    "print(\"Indianapolis Colts Defense Points/Game Range:\", data_range)\n",
    "print(\"Indianapolis Colts Defense Total Points/Game 2012-2022:\", total_points)"
   ]
  },
  {
   "cell_type": "markdown",
   "id": "c954ec2a",
   "metadata": {},
   "source": [
    "### Jacksonville Jaguars"
   ]
  },
  {
   "cell_type": "code",
   "execution_count": 28,
   "id": "526aeef5",
   "metadata": {},
   "outputs": [
    {
     "name": "stdout",
     "output_type": "stream",
     "text": [
      "Jacksonville Jaguars Defense Points/Game Mean: 24.94545454545455\n",
      "Jacksonville Jaguars Defense Points/Game Median: 25.8\n",
      "Jacksonville Jaguars Defense Points/Game Standard Deviation: 4.218853786602146\n",
      "Jacksonville Jaguars Defense Points/Game Variance: 17.79872727272727\n",
      "Jacksonville Jaguars Defense Points/Game Minimum: 16.8\n",
      "Jacksonville Jaguars Defense Points/Game Maximum: 30.8\n",
      "Jacksonville Jaguars Defense Points/Game Range: 14.0\n",
      "Jacksonville Jaguars Defense Total Points/Game 2012-2022: 274.40000000000003\n"
     ]
    }
   ],
   "source": [
    "team_name15 = 'Jacksonville Jaguars'\n",
    "jaguars_data = nfldefptsgame[nfldefptsgame['Team'] == team_name15]\n",
    "mean_value = jaguars_data['Def Pts/G'].mean()\n",
    "median_value = jaguars_data['Def Pts/G'].median()\n",
    "std_value = jaguars_data['Def Pts/G'].std()\n",
    "var_value = jaguars_data['Def Pts/G'].var()\n",
    "min_value = jaguars_data['Def Pts/G'].min()\n",
    "max_value = jaguars_data['Def Pts/G'].max()\n",
    "data_range = max_value - min_value\n",
    "total_points = jaguars_data['Def Pts/G'].sum()\n",
    "print(\"Jacksonville Jaguars Defense Points/Game Mean:\", mean_value)\n",
    "print(\"Jacksonville Jaguars Defense Points/Game Median:\", median_value)\n",
    "print(\"Jacksonville Jaguars Defense Points/Game Standard Deviation:\", std_value)\n",
    "print(\"Jacksonville Jaguars Defense Points/Game Variance:\", var_value)\n",
    "print(\"Jacksonville Jaguars Defense Points/Game Minimum:\", min_value)\n",
    "print(\"Jacksonville Jaguars Defense Points/Game Maximum:\", max_value)\n",
    "print(\"Jacksonville Jaguars Defense Points/Game Range:\", data_range)\n",
    "print(\"Jacksonville Jaguars Defense Total Points/Game 2012-2022:\", total_points)"
   ]
  },
  {
   "cell_type": "markdown",
   "id": "db913c93",
   "metadata": {},
   "source": [
    "### Kansas City Chiefs"
   ]
  },
  {
   "cell_type": "code",
   "execution_count": 29,
   "id": "c98b1e3f",
   "metadata": {},
   "outputs": [
    {
     "name": "stdout",
     "output_type": "stream",
     "text": [
      "Kansas City Chiefs Defense Points/Game Mean: 21.18181818181818\n",
      "Kansas City Chiefs Defense Points/Game Median: 21.2\n",
      "Kansas City Chiefs Defense Points/Game Standard Deviation: 3.048218555752912\n",
      "Kansas City Chiefs Defense Points/Game Variance: 9.291636363636368\n",
      "Kansas City Chiefs Defense Points/Game Minimum: 17.6\n",
      "Kansas City Chiefs Defense Points/Game Maximum: 26.6\n",
      "Kansas City Chiefs Defense Points/Game Range: 9.0\n",
      "Kansas City Chiefs Defense Total Points/Game 2012-2022: 233.0\n"
     ]
    }
   ],
   "source": [
    "team_name16 = 'Kansas City Chiefs'\n",
    "chiefs_data = nfldefptsgame[nfldefptsgame['Team'] == team_name16]\n",
    "mean_value = chiefs_data['Def Pts/G'].mean()\n",
    "median_value = chiefs_data['Def Pts/G'].median()\n",
    "std_value = chiefs_data['Def Pts/G'].std()\n",
    "var_value = chiefs_data['Def Pts/G'].var()\n",
    "min_value = chiefs_data['Def Pts/G'].min()\n",
    "max_value = chiefs_data['Def Pts/G'].max()\n",
    "data_range = max_value - min_value\n",
    "total_points = chiefs_data['Def Pts/G'].sum()\n",
    "print(\"Kansas City Chiefs Defense Points/Game Mean:\", mean_value)\n",
    "print(\"Kansas City Chiefs Defense Points/Game Median:\", median_value)\n",
    "print(\"Kansas City Chiefs Defense Points/Game Standard Deviation:\", std_value)\n",
    "print(\"Kansas City Chiefs Defense Points/Game Variance:\", var_value)\n",
    "print(\"Kansas City Chiefs Defense Points/Game Minimum:\", min_value)\n",
    "print(\"Kansas City Chiefs Defense Points/Game Maximum:\", max_value)\n",
    "print(\"Kansas City Chiefs Defense Points/Game Range:\", data_range)\n",
    "print(\"Kansas City Chiefs Defense Total Points/Game 2012-2022:\", total_points)"
   ]
  },
  {
   "cell_type": "markdown",
   "id": "7de77361",
   "metadata": {},
   "source": [
    "### Las Vegas Raiders"
   ]
  },
  {
   "cell_type": "code",
   "execution_count": 30,
   "id": "f2182a2c",
   "metadata": {},
   "outputs": [
    {
     "name": "stdout",
     "output_type": "stream",
     "text": [
      "Las Vegas Raiders Defense Points/Game Mean: 26.563636363636363\n",
      "Las Vegas Raiders Defense Points/Game Median: 26.2\n",
      "Las Vegas Raiders Defense Points/Game Standard Deviation: 2.2164262799708574\n",
      "Las Vegas Raiders Defense Points/Game Variance: 4.9125454545454526\n",
      "Las Vegas Raiders Defense Points/Game Minimum: 23.3\n",
      "Las Vegas Raiders Defense Points/Game Maximum: 29.9\n",
      "Las Vegas Raiders Defense Points/Game Range: 6.599999999999998\n",
      "Las Vegas Raiders Defense Total Points/Game 2012-2022: 292.20000000000005\n"
     ]
    }
   ],
   "source": [
    "team_name17 = 'Las Vegas Raiders'\n",
    "raiders_data = nfldefptsgame[nfldefptsgame['Team'] == team_name17]\n",
    "mean_value = raiders_data['Def Pts/G'].mean()\n",
    "median_value = raiders_data['Def Pts/G'].median()\n",
    "std_value = raiders_data['Def Pts/G'].std()\n",
    "var_value = raiders_data['Def Pts/G'].var()\n",
    "min_value = raiders_data['Def Pts/G'].min()\n",
    "max_value = raiders_data['Def Pts/G'].max()\n",
    "data_range = max_value - min_value\n",
    "total_points = raiders_data['Def Pts/G'].sum()\n",
    "print(\"Las Vegas Raiders Defense Points/Game Mean:\", mean_value)\n",
    "print(\"Las Vegas Raiders Defense Points/Game Median:\", median_value)\n",
    "print(\"Las Vegas Raiders Defense Points/Game Standard Deviation:\", std_value)\n",
    "print(\"Las Vegas Raiders Defense Points/Game Variance:\", var_value)\n",
    "print(\"Las Vegas Raiders Defense Points/Game Minimum:\", min_value)\n",
    "print(\"Las Vegas Raiders Defense Points/Game Maximum:\", max_value)\n",
    "print(\"Las Vegas Raiders Defense Points/Game Range:\", data_range)\n",
    "print(\"Las Vegas Raiders Defense Total Points/Game 2012-2022:\", total_points)"
   ]
  },
  {
   "cell_type": "markdown",
   "id": "afc5a6c3",
   "metadata": {},
   "source": [
    "### Los Angeles Chargers"
   ]
  },
  {
   "cell_type": "code",
   "execution_count": 31,
   "id": "6368dc78",
   "metadata": {},
   "outputs": [
    {
     "name": "stdout",
     "output_type": "stream",
     "text": [
      "Los Angeles Chargers Defense Points/Game Mean: 22.927272727272726\n",
      "Los Angeles Chargers Defense Points/Game Median: 21.9\n",
      "Los Angeles Chargers Defense Points/Game Standard Deviation: 3.033839451616024\n",
      "Los Angeles Chargers Defense Points/Game Variance: 9.204181818181818\n",
      "Los Angeles Chargers Defense Points/Game Minimum: 17.0\n",
      "Los Angeles Chargers Defense Points/Game Maximum: 27.0\n",
      "Los Angeles Chargers Defense Points/Game Range: 10.0\n",
      "Los Angeles Chargers Defense Total Points/Game 2012-2022: 252.2\n"
     ]
    }
   ],
   "source": [
    "team_name18 = 'Los Angeles Chargers'\n",
    "chargers_data = nfldefptsgame[nfldefptsgame['Team'] == team_name18]\n",
    "mean_value = chargers_data['Def Pts/G'].mean()\n",
    "median_value = chargers_data['Def Pts/G'].median()\n",
    "std_value = chargers_data['Def Pts/G'].std()\n",
    "var_value = chargers_data['Def Pts/G'].var()\n",
    "min_value = chargers_data['Def Pts/G'].min()\n",
    "max_value = chargers_data['Def Pts/G'].max()\n",
    "data_range = max_value - min_value\n",
    "total_points = chargers_data['Def Pts/G'].sum()\n",
    "print(\"Los Angeles Chargers Defense Points/Game Mean:\", mean_value)\n",
    "print(\"Los Angeles Chargers Defense Points/Game Median:\", median_value)\n",
    "print(\"Los Angeles Chargers Defense Points/Game Standard Deviation:\", std_value)\n",
    "print(\"Los Angeles Chargers Defense Points/Game Variance:\", var_value)\n",
    "print(\"Los Angeles Chargers Defense Points/Game Minimum:\", min_value)\n",
    "print(\"Los Angeles Chargers Defense Points/Game Maximum:\", max_value)\n",
    "print(\"Los Angeles Chargers Defense Points/Game Range:\", data_range)\n",
    "print(\"Los Angeles Chargers Defense Total Points/Game 2012-2022:\", total_points)"
   ]
  },
  {
   "cell_type": "markdown",
   "id": "1c875fc3",
   "metadata": {},
   "source": [
    "### Los Angeles Rams"
   ]
  },
  {
   "cell_type": "code",
   "execution_count": 32,
   "id": "eac31549",
   "metadata": {},
   "outputs": [
    {
     "name": "stdout",
     "output_type": "stream",
     "text": [
      "Los Angeles Rams Defense Points/Game Mean: 22.027272727272727\n",
      "Los Angeles Rams Defense Points/Game Median: 22.1\n",
      "Los Angeles Rams Defense Points/Game Standard Deviation: 1.6917983976177002\n",
      "Los Angeles Rams Defense Points/Game Variance: 2.8621818181818184\n",
      "Los Angeles Rams Defense Points/Game Minimum: 18.5\n",
      "Los Angeles Rams Defense Points/Game Maximum: 24.6\n",
      "Los Angeles Rams Defense Points/Game Range: 6.100000000000001\n",
      "Los Angeles Rams Defense Total Points/Game 2012-2022: 242.3\n"
     ]
    }
   ],
   "source": [
    "team_name19 = 'Los Angeles Rams'\n",
    "Rams_data = nfldefptsgame[nfldefptsgame['Team'] == team_name19]\n",
    "mean_value = Rams_data['Def Pts/G'].mean()\n",
    "median_value = Rams_data['Def Pts/G'].median()\n",
    "std_value = Rams_data['Def Pts/G'].std()\n",
    "var_value = Rams_data['Def Pts/G'].var()\n",
    "min_value = Rams_data['Def Pts/G'].min()\n",
    "max_value = Rams_data['Def Pts/G'].max()\n",
    "data_range = max_value - min_value\n",
    "total_points = Rams_data['Def Pts/G'].sum()\n",
    "print(\"Los Angeles Rams Defense Points/Game Mean:\", mean_value)\n",
    "print(\"Los Angeles Rams Defense Points/Game Median:\", median_value)\n",
    "print(\"Los Angeles Rams Defense Points/Game Standard Deviation:\", std_value)\n",
    "print(\"Los Angeles Rams Defense Points/Game Variance:\", var_value)\n",
    "print(\"Los Angeles Rams Defense Points/Game Minimum:\", min_value)\n",
    "print(\"Los Angeles Rams Defense Points/Game Maximum:\", max_value)\n",
    "print(\"Los Angeles Rams Defense Points/Game Range:\", data_range)\n",
    "print(\"Los Angeles Rams Defense Total Points/Game 2012-2022:\", total_points)"
   ]
  },
  {
   "cell_type": "markdown",
   "id": "eb1f28cb",
   "metadata": {},
   "source": [
    "### Miami Dolphins"
   ]
  },
  {
   "cell_type": "code",
   "execution_count": 33,
   "id": "88eb0a18",
   "metadata": {},
   "outputs": [
    {
     "name": "stdout",
     "output_type": "stream",
     "text": [
      "Miami Dolphins Defense Points/Game Mean: 23.745454545454546\n",
      "Miami Dolphins Defense Points/Game Median: 23.5\n",
      "Miami Dolphins Defense Points/Game Standard Deviation: 3.1274154301479156\n",
      "Miami Dolphins Defense Points/Game Variance: 9.780727272727272\n",
      "Miami Dolphins Defense Points/Game Minimum: 19.8\n",
      "Miami Dolphins Defense Points/Game Maximum: 30.9\n",
      "Miami Dolphins Defense Points/Game Range: 11.099999999999998\n",
      "Miami Dolphins Defense Total Points/Game 2012-2022: 261.20000000000005\n"
     ]
    }
   ],
   "source": [
    "team_name20 = 'Miami Dolphins'\n",
    "dolphins_data = nfldefptsgame[nfldefptsgame['Team'] == team_name20]\n",
    "mean_value = dolphins_data['Def Pts/G'].mean()\n",
    "median_value = dolphins_data['Def Pts/G'].median()\n",
    "std_value = dolphins_data['Def Pts/G'].std()\n",
    "var_value = dolphins_data['Def Pts/G'].var()\n",
    "min_value = dolphins_data['Def Pts/G'].min()\n",
    "max_value = dolphins_data['Def Pts/G'].max()\n",
    "data_range = max_value - min_value\n",
    "total_points = dolphins_data['Def Pts/G'].sum()\n",
    "print(\"Miami Dolphins Defense Points/Game Mean:\", mean_value)\n",
    "print(\"Miami Dolphins Defense Points/Game Median:\", median_value)\n",
    "print(\"Miami Dolphins Defense Points/Game Standard Deviation:\", std_value)\n",
    "print(\"Miami Dolphins Defense Points/Game Variance:\", var_value)\n",
    "print(\"Miami Dolphins Defense Points/Game Minimum:\", min_value)\n",
    "print(\"Miami Dolphins Defense Points/Game Maximum:\", max_value)\n",
    "print(\"Miami Dolphins Defense Points/Game Range:\", data_range)\n",
    "print(\"Miami Dolphins Defense Total Points/Game 2012-2022:\", total_points)"
   ]
  },
  {
   "cell_type": "markdown",
   "id": "63e9c2e5",
   "metadata": {},
   "source": [
    "### Minnesota Vikings"
   ]
  },
  {
   "cell_type": "code",
   "execution_count": 34,
   "id": "db3a61b0",
   "metadata": {},
   "outputs": [
    {
     "name": "stdout",
     "output_type": "stream",
     "text": [
      "Minnesota Vikings Defense Points/Game Mean: 22.472727272727273\n",
      "Minnesota Vikings Defense Points/Game Median: 21.4\n",
      "Minnesota Vikings Defense Points/Game Standard Deviation: 4.5435868890318165\n",
      "Minnesota Vikings Defense Points/Game Variance: 20.64418181818182\n",
      "Minnesota Vikings Defense Points/Game Minimum: 15.8\n",
      "Minnesota Vikings Defense Points/Game Maximum: 30.0\n",
      "Minnesota Vikings Defense Points/Game Range: 14.2\n",
      "Minnesota Vikings Defense Total Points/Game 2012-2022: 247.2\n"
     ]
    }
   ],
   "source": [
    "team_name21 = 'Minnesota Vikings'\n",
    "vikings_data = nfldefptsgame[nfldefptsgame['Team'] == team_name21]\n",
    "mean_value = vikings_data['Def Pts/G'].mean()\n",
    "median_value = vikings_data['Def Pts/G'].median()\n",
    "std_value = vikings_data['Def Pts/G'].std()\n",
    "var_value = vikings_data['Def Pts/G'].var()\n",
    "min_value = vikings_data['Def Pts/G'].min()\n",
    "max_value = vikings_data['Def Pts/G'].max()\n",
    "data_range = max_value - min_value\n",
    "total_points = vikings_data['Def Pts/G'].sum()\n",
    "print(\"Minnesota Vikings Defense Points/Game Mean:\", mean_value)\n",
    "print(\"Minnesota Vikings Defense Points/Game Median:\", median_value)\n",
    "print(\"Minnesota Vikings Defense Points/Game Standard Deviation:\", std_value)\n",
    "print(\"Minnesota Vikings Defense Points/Game Variance:\", var_value)\n",
    "print(\"Minnesota Vikings Defense Points/Game Minimum:\", min_value)\n",
    "print(\"Minnesota Vikings Defense Points/Game Maximum:\", max_value)\n",
    "print(\"Minnesota Vikings Defense Points/Game Range:\", data_range)\n",
    "print(\"Minnesota Vikings Defense Total Points/Game 2012-2022:\", total_points)"
   ]
  },
  {
   "cell_type": "markdown",
   "id": "210ef589",
   "metadata": {},
   "source": [
    "### New England Patriots"
   ]
  },
  {
   "cell_type": "code",
   "execution_count": 35,
   "id": "1bc245b6",
   "metadata": {},
   "outputs": [
    {
     "name": "stdout",
     "output_type": "stream",
     "text": [
      "New England Patriots Defense Points/Game Mean: 19.081818181818182\n",
      "New England Patriots Defense Points/Game Median: 19.7\n",
      "New England Patriots Defense Points/Game Standard Deviation: 2.4206685778181956\n",
      "New England Patriots Defense Points/Game Variance: 5.8596363636363655\n",
      "New England Patriots Defense Points/Game Minimum: 14.1\n",
      "New England Patriots Defense Points/Game Maximum: 22.1\n",
      "New England Patriots Defense Points/Game Range: 8.000000000000002\n",
      "New England Patriots Defense Total Points/Game 2012-2022: 209.9\n"
     ]
    }
   ],
   "source": [
    "team_name22 = 'New England Patriots'\n",
    "patriots_data = nfldefptsgame[nfldefptsgame['Team'] == team_name22]\n",
    "mean_value = patriots_data['Def Pts/G'].mean()\n",
    "median_value = patriots_data['Def Pts/G'].median()\n",
    "std_value = patriots_data['Def Pts/G'].std()\n",
    "var_value = patriots_data['Def Pts/G'].var()\n",
    "min_value = patriots_data['Def Pts/G'].min()\n",
    "max_value = patriots_data['Def Pts/G'].max()\n",
    "data_range = max_value - min_value\n",
    "total_points = patriots_data['Def Pts/G'].sum()\n",
    "print(\"New England Patriots Defense Points/Game Mean:\", mean_value)\n",
    "print(\"New England Patriots Defense Points/Game Median:\", median_value)\n",
    "print(\"New England Patriots Defense Points/Game Standard Deviation:\", std_value)\n",
    "print(\"New England Patriots Defense Points/Game Variance:\", var_value)\n",
    "print(\"New England Patriots Defense Points/Game Minimum:\", min_value)\n",
    "print(\"New England Patriots Defense Points/Game Maximum:\", max_value)\n",
    "print(\"New England Patriots Defense Points/Game Range:\", data_range)\n",
    "print(\"New England Patriots Defense Total Points/Game 2012-2022:\", total_points)"
   ]
  },
  {
   "cell_type": "markdown",
   "id": "db086ea7",
   "metadata": {},
   "source": [
    "### New Orleans Saints"
   ]
  },
  {
   "cell_type": "code",
   "execution_count": 36,
   "id": "ab59f4a8",
   "metadata": {},
   "outputs": [
    {
     "name": "stdout",
     "output_type": "stream",
     "text": [
      "New Orleans Saints Defense Points/Game Mean: 23.490000000000002\n",
      "New Orleans Saints Defense Points/Game Median: 21.200000000000003\n",
      "New Orleans Saints Defense Points/Game Standard Deviation: 4.240662946076028\n",
      "New Orleans Saints Defense Points/Game Variance: 17.983222222222217\n",
      "New Orleans Saints Defense Points/Game Minimum: 19.0\n",
      "New Orleans Saints Defense Points/Game Maximum: 29.8\n",
      "New Orleans Saints Defense Points/Game Range: 10.8\n",
      "New Orleans Saints Defense Total Points/Game 2012-2022: 234.89999999999998\n"
     ]
    }
   ],
   "source": [
    "team_name23 = 'New Orleans Saints'\n",
    "saints_data = nfldefptsgame[nfldefptsgame['Team'] == team_name23]\n",
    "mean_value = saints_data['Def Pts/G'].mean()\n",
    "median_value = saints_data['Def Pts/G'].median()\n",
    "std_value = saints_data['Def Pts/G'].std()\n",
    "var_value = saints_data['Def Pts/G'].var()\n",
    "min_value = saints_data['Def Pts/G'].min()\n",
    "max_value = saints_data['Def Pts/G'].max()\n",
    "data_range = max_value - min_value\n",
    "total_points = saints_data['Def Pts/G'].sum()\n",
    "print(\"New Orleans Saints Defense Points/Game Mean:\", mean_value)\n",
    "print(\"New Orleans Saints Defense Points/Game Median:\", median_value)\n",
    "print(\"New Orleans Saints Defense Points/Game Standard Deviation:\", std_value)\n",
    "print(\"New Orleans Saints Defense Points/Game Variance:\", var_value)\n",
    "print(\"New Orleans Saints Defense Points/Game Minimum:\", min_value)\n",
    "print(\"New Orleans Saints Defense Points/Game Maximum:\", max_value)\n",
    "print(\"New Orleans Saints Defense Points/Game Range:\", data_range)\n",
    "print(\"New Orleans Saints Defense Total Points/Game 2012-2022:\", total_points)"
   ]
  },
  {
   "cell_type": "markdown",
   "id": "25878019",
   "metadata": {},
   "source": [
    "### New York Giants"
   ]
  },
  {
   "cell_type": "code",
   "execution_count": 37,
   "id": "338a7068",
   "metadata": {},
   "outputs": [
    {
     "name": "stdout",
     "output_type": "stream",
     "text": [
      "New York Giants Defense Points/Game Mean: 23.872727272727275\n",
      "New York Giants Defense Points/Game Median: 24.2\n",
      "New York Giants Defense Points/Game Standard Deviation: 2.9560415792376493\n",
      "New York Giants Defense Points/Game Variance: 8.738181818181816\n",
      "New York Giants Defense Points/Game Minimum: 17.8\n",
      "New York Giants Defense Points/Game Maximum: 28.2\n",
      "New York Giants Defense Points/Game Range: 10.399999999999999\n",
      "New York Giants Defense Total Points/Game 2012-2022: 262.6\n"
     ]
    }
   ],
   "source": [
    "team_name24 = 'New York Giants'\n",
    "giants_data = nfldefptsgame[nfldefptsgame['Team'] == team_name24]\n",
    "mean_value = giants_data['Def Pts/G'].mean()\n",
    "median_value = giants_data['Def Pts/G'].median()\n",
    "std_value = giants_data['Def Pts/G'].std()\n",
    "var_value = giants_data['Def Pts/G'].var()\n",
    "min_value = giants_data['Def Pts/G'].min()\n",
    "max_value = giants_data['Def Pts/G'].max()\n",
    "data_range = max_value - min_value\n",
    "total_points = giants_data['Def Pts/G'].sum()\n",
    "print(\"New York Giants Defense Points/Game Mean:\", mean_value)\n",
    "print(\"New York Giants Defense Points/Game Median:\", median_value)\n",
    "print(\"New York Giants Defense Points/Game Standard Deviation:\", std_value)\n",
    "print(\"New York Giants Defense Points/Game Variance:\", var_value)\n",
    "print(\"New York Giants Defense Points/Game Minimum:\", min_value)\n",
    "print(\"New York Giants Defense Points/Game Maximum:\", max_value)\n",
    "print(\"New York Giants Defense Points/Game Range:\", data_range)\n",
    "print(\"New York Giants Defense Total Points/Game 2012-2022:\", total_points)"
   ]
  },
  {
   "cell_type": "markdown",
   "id": "27e1cc32",
   "metadata": {},
   "source": [
    "### New York Jets"
   ]
  },
  {
   "cell_type": "code",
   "execution_count": 38,
   "id": "fa7be6a3",
   "metadata": {},
   "outputs": [
    {
     "name": "stdout",
     "output_type": "stream",
     "text": [
      "New York Jets Defense Points/Game Mean: 24.418181818181814\n",
      "New York Jets Defense Points/Game Median: 24.2\n",
      "New York Jets Defense Points/Game Standard Deviation: 3.446974958370943\n",
      "New York Jets Defense Points/Game Variance: 11.881636363636366\n",
      "New York Jets Defense Points/Game Minimum: 18.6\n",
      "New York Jets Defense Points/Game Maximum: 29.6\n",
      "New York Jets Defense Points/Game Range: 11.0\n",
      "New York Jets Defense Total Points/Game 2012-2022: 268.6\n"
     ]
    }
   ],
   "source": [
    "team_name25 = 'New York Jets'\n",
    "Jets_data = nfldefptsgame[nfldefptsgame['Team'] == team_name25]\n",
    "mean_value = Jets_data['Def Pts/G'].mean()\n",
    "median_value = Jets_data['Def Pts/G'].median()\n",
    "std_value = Jets_data['Def Pts/G'].std()\n",
    "var_value = Jets_data['Def Pts/G'].var()\n",
    "min_value = Jets_data['Def Pts/G'].min()\n",
    "max_value = Jets_data['Def Pts/G'].max()\n",
    "data_range = max_value - min_value\n",
    "total_points = Jets_data['Def Pts/G'].sum()\n",
    "print(\"New York Jets Defense Points/Game Mean:\", mean_value)\n",
    "print(\"New York Jets Defense Points/Game Median:\", median_value)\n",
    "print(\"New York Jets Defense Points/Game Standard Deviation:\", std_value)\n",
    "print(\"New York Jets Defense Points/Game Variance:\", var_value)\n",
    "print(\"New York Jets Defense Points/Game Minimum:\", min_value)\n",
    "print(\"New York Jets Defense Points/Game Maximum:\", max_value)\n",
    "print(\"New York Jets Defense Points/Game Range:\", data_range)\n",
    "print(\"New York Jets Defense Total Points/Game 2012-2022:\", total_points)"
   ]
  },
  {
   "cell_type": "markdown",
   "id": "2684d7f8",
   "metadata": {},
   "source": [
    "### Philadelphia Eagles"
   ]
  },
  {
   "cell_type": "code",
   "execution_count": 39,
   "id": "9e8b77b8",
   "metadata": {},
   "outputs": [
    {
     "name": "stdout",
     "output_type": "stream",
     "text": [
      "Philadelphia Eagles Defense Points/Game Mean: 23.227272727272723\n",
      "Philadelphia Eagles Points/Game Median: 22.6\n",
      "Philadelphia Eagles Points/Game Standard Deviation: 2.9799633920875306\n",
      "Philadelphia Eagles Points/Game Variance: 8.880181818181821\n",
      "Philadelphia Eagles Points/Game Minimum: 18.4\n",
      "Philadelphia Eagles Points/Game Maximum: 27.8\n",
      "Philadelphia Eagles Points/Game Range: 9.400000000000002\n",
      "Philadelphia Eagles Defense Total Points/Game 2012-2022: 255.49999999999997\n"
     ]
    }
   ],
   "source": [
    "team_name26 = 'Philadelphia Eagles'\n",
    "eagles_data = nfldefptsgame[nfldefptsgame['Team'] == team_name26]\n",
    "mean_value = eagles_data['Def Pts/G'].mean()\n",
    "median_value = eagles_data['Def Pts/G'].median()\n",
    "std_value = eagles_data['Def Pts/G'].std()\n",
    "var_value = eagles_data['Def Pts/G'].var()\n",
    "min_value = eagles_data['Def Pts/G'].min()\n",
    "max_value = eagles_data['Def Pts/G'].max()\n",
    "data_range = max_value - min_value\n",
    "total_points = eagles_data['Def Pts/G'].sum()\n",
    "print(\"Philadelphia Eagles Defense Points/Game Mean:\", mean_value)\n",
    "print(\"Philadelphia Eagles Points/Game Median:\", median_value)\n",
    "print(\"Philadelphia Eagles Points/Game Standard Deviation:\", std_value)\n",
    "print(\"Philadelphia Eagles Points/Game Variance:\", var_value)\n",
    "print(\"Philadelphia Eagles Points/Game Minimum:\", min_value)\n",
    "print(\"Philadelphia Eagles Points/Game Maximum:\", max_value)\n",
    "print(\"Philadelphia Eagles Points/Game Range:\", data_range)\n",
    "print(\"Philadelphia Eagles Defense Total Points/Game 2012-2022:\", total_points)"
   ]
  },
  {
   "cell_type": "markdown",
   "id": "97b30b2b",
   "metadata": {},
   "source": [
    "### Pittsburgh Steelers"
   ]
  },
  {
   "cell_type": "code",
   "execution_count": 40,
   "id": "c63132a5",
   "metadata": {},
   "outputs": [
    {
     "name": "stdout",
     "output_type": "stream",
     "text": [
      "Pittsburgh Steelers Defense Points Mean: 20.900000000000002\n",
      "Pittsburgh Steelers Defense Points/Game Median: 20.4\n",
      "Pittsburgh Steelers Defense Points/Game Standard Deviation: 1.7349351572897473\n",
      "Pittsburgh Steelers Defense Points/Game Variance: 3.0100000000000007\n",
      "Pittsburgh Steelers Defense Points/Game Minimum: 18.9\n",
      "Pittsburgh Steelers Defense Points/Game Maximum: 23.4\n",
      "Pittsburgh Steelers Defense Points/Game Range: 4.5\n",
      "Pittsburgh Steelers Defense Total Points/Game 2012-2022: 229.9\n"
     ]
    }
   ],
   "source": [
    "team_name27 = 'Pittsburgh Steelers'\n",
    "steelers_data = nfldefptsgame[nfldefptsgame['Team'] == team_name27]\n",
    "mean_value = steelers_data['Def Pts/G'].mean()\n",
    "median_value = steelers_data['Def Pts/G'].median()\n",
    "std_value = steelers_data['Def Pts/G'].std()\n",
    "var_value = steelers_data['Def Pts/G'].var()\n",
    "min_value = steelers_data['Def Pts/G'].min()\n",
    "max_value = steelers_data['Def Pts/G'].max()\n",
    "data_range = max_value - min_value\n",
    "total_points = steelers_data['Def Pts/G'].sum()\n",
    "print(\"Pittsburgh Steelers Defense Points Mean:\", mean_value)\n",
    "print(\"Pittsburgh Steelers Defense Points/Game Median:\", median_value)\n",
    "print(\"Pittsburgh Steelers Defense Points/Game Standard Deviation:\", std_value)\n",
    "print(\"Pittsburgh Steelers Defense Points/Game Variance:\", var_value)\n",
    "print(\"Pittsburgh Steelers Defense Points/Game Minimum:\", min_value)\n",
    "print(\"Pittsburgh Steelers Defense Points/Game Maximum:\", max_value)\n",
    "print(\"Pittsburgh Steelers Defense Points/Game Range:\", data_range)\n",
    "print(\"Pittsburgh Steelers Defense Total Points/Game 2012-2022:\", total_points)"
   ]
  },
  {
   "cell_type": "markdown",
   "id": "1ddcc8b5",
   "metadata": {},
   "source": [
    "### San Francisco 49ers"
   ]
  },
  {
   "cell_type": "code",
   "execution_count": 41,
   "id": "f48779a3",
   "metadata": {},
   "outputs": [
    {
     "name": "stdout",
     "output_type": "stream",
     "text": [
      "San Francisco 49ers Defense Points Mean: 22.01818181818182\n",
      "San Francisco 49ers Defense Points/Game Median: 21.5\n",
      "San Francisco 49ers Defense Points/Game Standard Deviation: 4.40904029961582\n",
      "San Francisco 49ers Defense Points/Game Variance: 19.43963636363636\n",
      "San Francisco 49ers Defense Points/Game Minimum: 16.3\n",
      "San Francisco 49ers Defense Points/Game Maximum: 30.0\n",
      "San Francisco 49ers Defense Points/Game Range: 13.7\n",
      "San Francisco 49ers Defense Total Points/Game 2012-2022: 242.20000000000002\n"
     ]
    }
   ],
   "source": [
    "team_name28 = 'San Francisco 49ers'\n",
    "niners_data = nfldefptsgame[nfldefptsgame['Team'] == team_name28]\n",
    "mean_value = niners_data['Def Pts/G'].mean()\n",
    "median_value = niners_data['Def Pts/G'].median()\n",
    "std_value = niners_data['Def Pts/G'].std()\n",
    "var_value = niners_data['Def Pts/G'].var()\n",
    "min_value = niners_data['Def Pts/G'].min()\n",
    "max_value = niners_data['Def Pts/G'].max()\n",
    "data_range = max_value - min_value\n",
    "total_points = niners_data['Def Pts/G'].sum()\n",
    "print(\"San Francisco 49ers Defense Points Mean:\", mean_value)\n",
    "print(\"San Francisco 49ers Defense Points/Game Median:\", median_value)\n",
    "print(\"San Francisco 49ers Defense Points/Game Standard Deviation:\", std_value)\n",
    "print(\"San Francisco 49ers Defense Points/Game Variance:\", var_value)\n",
    "print(\"San Francisco 49ers Defense Points/Game Minimum:\", min_value)\n",
    "print(\"San Francisco 49ers Defense Points/Game Maximum:\", max_value)\n",
    "print(\"San Francisco 49ers Defense Points/Game Range:\", data_range)\n",
    "print(\"San Francisco 49ers Defense Total Points/Game 2012-2022:\", total_points)"
   ]
  },
  {
   "cell_type": "markdown",
   "id": "eed4c602",
   "metadata": {},
   "source": [
    "### Tampa Bay Buccaneers"
   ]
  },
  {
   "cell_type": "code",
   "execution_count": 42,
   "id": "7fe4da32",
   "metadata": {},
   "outputs": [
    {
     "name": "stdout",
     "output_type": "stream",
     "text": [
      "Tampa Bay Buccaneers Defense Points/Game Mean: 24.436363636363637\n",
      "Tampa Bay Buccaneers Defense Points/Game Median: 24.3\n",
      "Tampa Bay Buccaneers Defense Points/Game Standard Deviation: 2.642829062679888\n",
      "Tampa Bay Buccaneers Defense Points/Game Variance: 6.984545454545454\n",
      "Tampa Bay Buccaneers Defense Points/Game Minimum: 20.8\n",
      "Tampa Bay Buccaneers Defense Points/Game Maximum: 29.0\n",
      "Tampa Bay Buccaneers Defense Points/Game Range: 8.2\n",
      "Tampa Bay Buccaneers Defense Total Points/Game 2012-2022: 268.8\n"
     ]
    }
   ],
   "source": [
    "team_name29 = 'Tampa Bay Buccaneers'\n",
    "buccaneers_data = nfldefptsgame[nfldefptsgame['Team'] == team_name29]\n",
    "mean_value = buccaneers_data['Def Pts/G'].mean()\n",
    "median_value = buccaneers_data['Def Pts/G'].median()\n",
    "std_value = buccaneers_data['Def Pts/G'].std()\n",
    "var_value = buccaneers_data['Def Pts/G'].var()\n",
    "min_value = buccaneers_data['Def Pts/G'].min()\n",
    "max_value = buccaneers_data['Def Pts/G'].max()\n",
    "data_range = max_value - min_value\n",
    "total_points = buccaneers_data['Def Pts/G'].sum()\n",
    "print(\"Tampa Bay Buccaneers Defense Points/Game Mean:\", mean_value)\n",
    "print(\"Tampa Bay Buccaneers Defense Points/Game Median:\", median_value)\n",
    "print(\"Tampa Bay Buccaneers Defense Points/Game Standard Deviation:\", std_value)\n",
    "print(\"Tampa Bay Buccaneers Defense Points/Game Variance:\", var_value)\n",
    "print(\"Tampa Bay Buccaneers Defense Points/Game Minimum:\", min_value)\n",
    "print(\"Tampa Bay Buccaneers Defense Points/Game Maximum:\", max_value)\n",
    "print(\"Tampa Bay Buccaneers Defense Points/Game Range:\", data_range)\n",
    "print(\"Tampa Bay Buccaneers Defense Total Points/Game 2012-2022:\", total_points)"
   ]
  },
  {
   "cell_type": "markdown",
   "id": "678a85bc",
   "metadata": {},
   "source": [
    "### Tennessee Titans"
   ]
  },
  {
   "cell_type": "code",
   "execution_count": 43,
   "id": "c5b2c538",
   "metadata": {
    "scrolled": true
   },
   "outputs": [
    {
     "name": "stdout",
     "output_type": "stream",
     "text": [
      "Tennessee Titans Defense Points/Game Mean: 23.79090909090909\n",
      "Tennessee Titans Defense Points/Game Median: 23.6\n",
      "Tennessee Titans Defense Points/Game Standard Deviation: 3.413928688609223\n",
      "Tennessee Titans Defense Points/Game Variance: 11.654909090909086\n",
      "Tennessee Titans Defense Points/Game Minimum: 18.9\n",
      "Tennessee Titans Defense Points/Game Maximum: 29.4\n",
      "Tennessee Titans Defense Points/Game Range: 10.5\n",
      "Tennessee Titans Defense Total Points/Game 2012-2022: 261.7\n"
     ]
    }
   ],
   "source": [
    "team_name30 = 'Tennessee Titans'\n",
    "titans_data = nfldefptsgame[nfldefptsgame['Team'] == team_name30]\n",
    "mean_value = titans_data['Def Pts/G'].mean()\n",
    "median_value = titans_data['Def Pts/G'].median()\n",
    "std_value = titans_data['Def Pts/G'].std()\n",
    "var_value = titans_data['Def Pts/G'].var()\n",
    "min_value = titans_data['Def Pts/G'].min()\n",
    "max_value = titans_data['Def Pts/G'].max()\n",
    "data_range = max_value - min_value\n",
    "total_points = titans_data['Def Pts/G'].sum()\n",
    "print(\"Tennessee Titans Defense Points/Game Mean:\", mean_value)\n",
    "print(\"Tennessee Titans Defense Points/Game Median:\", median_value)\n",
    "print(\"Tennessee Titans Defense Points/Game Standard Deviation:\", std_value)\n",
    "print(\"Tennessee Titans Defense Points/Game Variance:\", var_value)\n",
    "print(\"Tennessee Titans Defense Points/Game Minimum:\", min_value)\n",
    "print(\"Tennessee Titans Defense Points/Game Maximum:\", max_value)\n",
    "print(\"Tennessee Titans Defense Points/Game Range:\", data_range)\n",
    "print(\"Tennessee Titans Defense Total Points/Game 2012-2022:\", total_points)"
   ]
  },
  {
   "cell_type": "markdown",
   "id": "965d33df",
   "metadata": {},
   "source": [
    "### Washington Commanders"
   ]
  },
  {
   "cell_type": "code",
   "execution_count": 44,
   "id": "83b7655b",
   "metadata": {},
   "outputs": [
    {
     "name": "stdout",
     "output_type": "stream",
     "text": [
      "Washington Commanders Defense Points/Game Mean: 24.472727272727273\n",
      "Washington Commanders Defense Points/Game Median: 24.2\n",
      "Washington Commanders Defense Points/Game Standard Deviation: 2.917907095536425\n",
      "Washington Commanders Defense Points/Game Variance: 8.514181818181815\n",
      "Washington Commanders Defense Points/Game Minimum: 20.2\n",
      "Washington Commanders Defense Points/Game Points Maximum: 29.9\n",
      "Washington Commanders Defense Points/Game Range: 9.7\n",
      "Washington Commanders Defense Total Points/Game 2012-2022: 269.2\n"
     ]
    }
   ],
   "source": [
    "team_name31 = 'Washington Commanders'\n",
    "commanders_data = nfldefptsgame[nfldefptsgame['Team'] == team_name31]\n",
    "mean_value = commanders_data['Def Pts/G'].mean()\n",
    "median_value = commanders_data['Def Pts/G'].median()\n",
    "std_value = commanders_data['Def Pts/G'].std()\n",
    "var_value = commanders_data['Def Pts/G'].var()\n",
    "min_value = commanders_data['Def Pts/G'].min()\n",
    "max_value = commanders_data['Def Pts/G'].max()\n",
    "total_points = commanders_data['Def Pts/G'].sum()\n",
    "data_range = max_value - min_value\n",
    "print(\"Washington Commanders Defense Points/Game Mean:\", mean_value)\n",
    "print(\"Washington Commanders Defense Points/Game Median:\", median_value)\n",
    "print(\"Washington Commanders Defense Points/Game Standard Deviation:\", std_value)\n",
    "print(\"Washington Commanders Defense Points/Game Variance:\", var_value)\n",
    "print(\"Washington Commanders Defense Points/Game Minimum:\", min_value)\n",
    "print(\"Washington Commanders Defense Points/Game Points Maximum:\", max_value)\n",
    "print(\"Washington Commanders Defense Points/Game Range:\", data_range)\n",
    "print(\"Washington Commanders Defense Total Points/Game 2012-2022:\", total_points)"
   ]
  },
  {
   "cell_type": "code",
   "execution_count": null,
   "id": "7b5e327c",
   "metadata": {},
   "outputs": [],
   "source": []
  }
 ],
 "metadata": {
  "kernelspec": {
   "display_name": "Python 3 (ipykernel)",
   "language": "python",
   "name": "python3"
  },
  "language_info": {
   "codemirror_mode": {
    "name": "ipython",
    "version": 3
   },
   "file_extension": ".py",
   "mimetype": "text/x-python",
   "name": "python",
   "nbconvert_exporter": "python",
   "pygments_lexer": "ipython3",
   "version": "3.9.12"
  }
 },
 "nbformat": 4,
 "nbformat_minor": 5
}

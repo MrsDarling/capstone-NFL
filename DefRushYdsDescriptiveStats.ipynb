{
 "cells": [
  {
   "cell_type": "markdown",
   "id": "41357f4e",
   "metadata": {},
   "source": [
    "# Descriptive Statistics for Defense Rushing Yards for Each Team\n",
    "#### Defense Rushing Yards = the number of rushing yards the defense side of the team allowed"
   ]
  },
  {
   "cell_type": "markdown",
   "id": "2a7bb9ae",
   "metadata": {},
   "source": [
    "#### Import Packages"
   ]
  },
  {
   "cell_type": "code",
   "execution_count": 1,
   "id": "f3fc62c9",
   "metadata": {},
   "outputs": [],
   "source": [
    "import pandas as pd\n",
    "import numpy as np\n",
    "from scipy.stats import norm\n",
    "from scipy import stats"
   ]
  },
  {
   "cell_type": "markdown",
   "id": "defefc7d",
   "metadata": {},
   "source": [
    "#### Import NFL Dataset 2012-2022"
   ]
  },
  {
   "cell_type": "code",
   "execution_count": 2,
   "id": "d2e9f6a9",
   "metadata": {},
   "outputs": [],
   "source": [
    "nflDrush = pd.read_csv('/Users/admin/Desktop/Final_Project/NFL_merged/nfl2012_2022merge.csv')"
   ]
  },
  {
   "cell_type": "code",
   "execution_count": 3,
   "id": "900b4c34",
   "metadata": {},
   "outputs": [
    {
     "data": {
      "text/html": [
       "<div>\n",
       "<style scoped>\n",
       "    .dataframe tbody tr th:only-of-type {\n",
       "        vertical-align: middle;\n",
       "    }\n",
       "\n",
       "    .dataframe tbody tr th {\n",
       "        vertical-align: top;\n",
       "    }\n",
       "\n",
       "    .dataframe thead th {\n",
       "        text-align: right;\n",
       "    }\n",
       "</style>\n",
       "<table border=\"1\" class=\"dataframe\">\n",
       "  <thead>\n",
       "    <tr style=\"text-align: right;\">\n",
       "      <th></th>\n",
       "      <th>Team</th>\n",
       "      <th>Off Tot/Pts</th>\n",
       "      <th>Off Pts/G</th>\n",
       "      <th>Off RushYds</th>\n",
       "      <th>Off RYds/G</th>\n",
       "      <th>Off PassYds</th>\n",
       "      <th>Off PYds/G</th>\n",
       "      <th>Off TotYds</th>\n",
       "      <th>Off Yds/G</th>\n",
       "      <th>Def Tot/Pts</th>\n",
       "      <th>...</th>\n",
       "      <th>Def PassYds</th>\n",
       "      <th>Def PYds/G</th>\n",
       "      <th>Def TotYds</th>\n",
       "      <th>Def Yds/G</th>\n",
       "      <th>Year</th>\n",
       "      <th>Wins</th>\n",
       "      <th>Losses</th>\n",
       "      <th>Tie</th>\n",
       "      <th>Superbowl</th>\n",
       "      <th>SB Win</th>\n",
       "    </tr>\n",
       "  </thead>\n",
       "  <tbody>\n",
       "    <tr>\n",
       "      <th>0</th>\n",
       "      <td>Arizona Cardinals</td>\n",
       "      <td>250</td>\n",
       "      <td>15.6</td>\n",
       "      <td>1204</td>\n",
       "      <td>75.2</td>\n",
       "      <td>3005</td>\n",
       "      <td>187.8</td>\n",
       "      <td>4209</td>\n",
       "      <td>263.1</td>\n",
       "      <td>357</td>\n",
       "      <td>...</td>\n",
       "      <td>3213</td>\n",
       "      <td>200.8</td>\n",
       "      <td>5405</td>\n",
       "      <td>337.8</td>\n",
       "      <td>2012</td>\n",
       "      <td>5</td>\n",
       "      <td>11</td>\n",
       "      <td>0.0</td>\n",
       "      <td>No</td>\n",
       "      <td>No</td>\n",
       "    </tr>\n",
       "    <tr>\n",
       "      <th>1</th>\n",
       "      <td>Atlanta Falcons</td>\n",
       "      <td>419</td>\n",
       "      <td>26.2</td>\n",
       "      <td>1397</td>\n",
       "      <td>87.3</td>\n",
       "      <td>4509</td>\n",
       "      <td>281.8</td>\n",
       "      <td>5906</td>\n",
       "      <td>369.1</td>\n",
       "      <td>299</td>\n",
       "      <td>...</td>\n",
       "      <td>3878</td>\n",
       "      <td>242.4</td>\n",
       "      <td>5849</td>\n",
       "      <td>365.6</td>\n",
       "      <td>2012</td>\n",
       "      <td>13</td>\n",
       "      <td>3</td>\n",
       "      <td>0.0</td>\n",
       "      <td>No</td>\n",
       "      <td>No</td>\n",
       "    </tr>\n",
       "    <tr>\n",
       "      <th>2</th>\n",
       "      <td>Baltimore Ravens</td>\n",
       "      <td>398</td>\n",
       "      <td>24.9</td>\n",
       "      <td>1901</td>\n",
       "      <td>118.8</td>\n",
       "      <td>3739</td>\n",
       "      <td>233.7</td>\n",
       "      <td>5640</td>\n",
       "      <td>352.5</td>\n",
       "      <td>344</td>\n",
       "      <td>...</td>\n",
       "      <td>3650</td>\n",
       "      <td>228.1</td>\n",
       "      <td>5615</td>\n",
       "      <td>350.9</td>\n",
       "      <td>2012</td>\n",
       "      <td>10</td>\n",
       "      <td>6</td>\n",
       "      <td>0.0</td>\n",
       "      <td>Yes</td>\n",
       "      <td>Yes</td>\n",
       "    </tr>\n",
       "    <tr>\n",
       "      <th>3</th>\n",
       "      <td>Buffalo Bills</td>\n",
       "      <td>344</td>\n",
       "      <td>21.5</td>\n",
       "      <td>2217</td>\n",
       "      <td>138.6</td>\n",
       "      <td>3269</td>\n",
       "      <td>204.3</td>\n",
       "      <td>5486</td>\n",
       "      <td>342.9</td>\n",
       "      <td>435</td>\n",
       "      <td>...</td>\n",
       "      <td>3473</td>\n",
       "      <td>217.1</td>\n",
       "      <td>5806</td>\n",
       "      <td>362.9</td>\n",
       "      <td>2012</td>\n",
       "      <td>6</td>\n",
       "      <td>10</td>\n",
       "      <td>0.0</td>\n",
       "      <td>No</td>\n",
       "      <td>No</td>\n",
       "    </tr>\n",
       "    <tr>\n",
       "      <th>4</th>\n",
       "      <td>Carolina Panthers</td>\n",
       "      <td>357</td>\n",
       "      <td>22.3</td>\n",
       "      <td>2088</td>\n",
       "      <td>130.5</td>\n",
       "      <td>3683</td>\n",
       "      <td>230.2</td>\n",
       "      <td>5771</td>\n",
       "      <td>360.7</td>\n",
       "      <td>363</td>\n",
       "      <td>...</td>\n",
       "      <td>3568</td>\n",
       "      <td>223.0</td>\n",
       "      <td>5329</td>\n",
       "      <td>333.1</td>\n",
       "      <td>2012</td>\n",
       "      <td>7</td>\n",
       "      <td>9</td>\n",
       "      <td>0.0</td>\n",
       "      <td>No</td>\n",
       "      <td>No</td>\n",
       "    </tr>\n",
       "  </tbody>\n",
       "</table>\n",
       "<p>5 rows × 23 columns</p>\n",
       "</div>"
      ],
      "text/plain": [
       "                Team  Off Tot/Pts  Off Pts/G  Off RushYds  Off RYds/G  \\\n",
       "0  Arizona Cardinals          250       15.6         1204        75.2   \n",
       "1    Atlanta Falcons          419       26.2         1397        87.3   \n",
       "2   Baltimore Ravens          398       24.9         1901       118.8   \n",
       "3      Buffalo Bills          344       21.5         2217       138.6   \n",
       "4  Carolina Panthers          357       22.3         2088       130.5   \n",
       "\n",
       "   Off PassYds  Off PYds/G  Off TotYds  Off Yds/G  Def Tot/Pts  ...  \\\n",
       "0         3005       187.8        4209      263.1          357  ...   \n",
       "1         4509       281.8        5906      369.1          299  ...   \n",
       "2         3739       233.7        5640      352.5          344  ...   \n",
       "3         3269       204.3        5486      342.9          435  ...   \n",
       "4         3683       230.2        5771      360.7          363  ...   \n",
       "\n",
       "   Def PassYds  Def PYds/G  Def TotYds  Def Yds/G  Year  Wins  Losses  Tie  \\\n",
       "0         3213       200.8        5405      337.8  2012     5      11  0.0   \n",
       "1         3878       242.4        5849      365.6  2012    13       3  0.0   \n",
       "2         3650       228.1        5615      350.9  2012    10       6  0.0   \n",
       "3         3473       217.1        5806      362.9  2012     6      10  0.0   \n",
       "4         3568       223.0        5329      333.1  2012     7       9  0.0   \n",
       "\n",
       "   Superbowl  SB Win  \n",
       "0         No      No  \n",
       "1         No      No  \n",
       "2        Yes     Yes  \n",
       "3         No      No  \n",
       "4         No      No  \n",
       "\n",
       "[5 rows x 23 columns]"
      ]
     },
     "execution_count": 3,
     "metadata": {},
     "output_type": "execute_result"
    }
   ],
   "source": [
    "nflDrush.head()"
   ]
  },
  {
   "cell_type": "markdown",
   "id": "0c3daba3",
   "metadata": {},
   "source": [
    "## Calculating Descriptive Statistics by Team\n",
    "#### First filter the data by a single team - I will use the Seattle Seahawks, my favorite team, to start."
   ]
  },
  {
   "cell_type": "code",
   "execution_count": 4,
   "id": "fd9400ee",
   "metadata": {},
   "outputs": [],
   "source": [
    "team_name = 'Seattle Seahawks'\n",
    "seahawks_data = nflDrush[nflDrush['Team'] == team_name]"
   ]
  },
  {
   "cell_type": "markdown",
   "id": "eb178a1a",
   "metadata": {},
   "source": [
    "#### Display rushing yards allowed by year for the Seahawks"
   ]
  },
  {
   "cell_type": "code",
   "execution_count": 5,
   "id": "f8707b56",
   "metadata": {},
   "outputs": [
    {
     "name": "stdout",
     "output_type": "stream",
     "text": [
      "Year: 2012 \tDefense Rushing Yards: 1649\n",
      "Year: 2013 \tDefense Rushing Yards: 1626\n",
      "Year: 2014 \tDefense Rushing Yards: 1304\n",
      "Year: 2015 \tDefense Rushing Yards: 1304\n",
      "Year: 2016 \tDefense Rushing Yards: 1487\n",
      "Year: 2017 \tDefense Rushing Yards: 1824\n",
      "Year: 2018 \tDefense Rushing Yards: 1811\n",
      "Year: 2019 \tDefense Rushing Yards: 1883\n",
      "Year: 2020 \tDefense Rushing Yards: 1529\n",
      "Year: 2021 \tDefense Rushing Yards: 1932\n",
      "Year: 2022 \tDefense Rushing Yards: 2554\n"
     ]
    }
   ],
   "source": [
    "for year in seahawks_data['Year'].unique():\n",
    "    def_rush_yards = seahawks_data.loc[seahawks_data['Year'] == year, 'Def RushYds'].values[0]\n",
    "    print(\"Year:\", year, \"\\tDefense Rushing Yards:\", def_rush_yards)"
   ]
  },
  {
   "cell_type": "markdown",
   "id": "a7898a09",
   "metadata": {},
   "source": [
    "#### What is the mean rushing yards allowed for the Seahawks over all years?"
   ]
  },
  {
   "cell_type": "code",
   "execution_count": 6,
   "id": "02254c55",
   "metadata": {},
   "outputs": [
    {
     "name": "stdout",
     "output_type": "stream",
     "text": [
      "1718.4545454545455\n"
     ]
    }
   ],
   "source": [
    "avg_defrush_yards = seahawks_data['Def RushYds'].mean()\n",
    "print(avg_defrush_yards)"
   ]
  },
  {
   "cell_type": "markdown",
   "id": "eb8f8205",
   "metadata": {},
   "source": [
    "#### Let's calculate several descriptive statistics on Defense Rushing Yards allowed for the Seahawks"
   ]
  },
  {
   "cell_type": "code",
   "execution_count": 7,
   "id": "a2adfdfd",
   "metadata": {},
   "outputs": [
    {
     "name": "stdout",
     "output_type": "stream",
     "text": [
      "Seattle Seahawks Defense Rushing Yards Mean: 1718.4545454545455\n",
      "Seattle Seahawks Defense Rushing Yards Median: 1649.0\n",
      "Seattle Seahawks Defense Rushing Yards Standard Deviation: 351.6957104192099\n",
      "Seattle Seahawks Defense Rushing Yards Variance: 123689.87272727273\n",
      "Seattle Seahawks Defense Rushing Yards Minimum: 1304\n",
      "Seattle Seahawks Defense Rushing Yards Maximum: 2554\n",
      "Seattle Seahawks Defense Rushing Yards Range: 1250\n",
      "Seattle Seahawks Total Rushing Yards 2012-2022: 18903\n"
     ]
    }
   ],
   "source": [
    "mean_value = seahawks_data['Def RushYds'].mean()\n",
    "median_value = seahawks_data['Def RushYds'].median()\n",
    "std_value = seahawks_data['Def RushYds'].std()\n",
    "var_value = seahawks_data['Def RushYds'].var()\n",
    "min_value = seahawks_data['Def RushYds'].min()\n",
    "max_value = seahawks_data['Def RushYds'].max()\n",
    "data_range = max_value - min_value\n",
    "total_points = seahawks_data['Def RushYds'].sum()\n",
    "print(\"Seattle Seahawks Defense Rushing Yards Mean:\", mean_value)\n",
    "print(\"Seattle Seahawks Defense Rushing Yards Median:\", median_value)\n",
    "print(\"Seattle Seahawks Defense Rushing Yards Standard Deviation:\", std_value)\n",
    "print(\"Seattle Seahawks Defense Rushing Yards Variance:\", var_value)\n",
    "print(\"Seattle Seahawks Defense Rushing Yards Minimum:\", min_value)\n",
    "print(\"Seattle Seahawks Defense Rushing Yards Maximum:\", max_value)\n",
    "print(\"Seattle Seahawks Defense Rushing Yards Range:\", data_range)\n",
    "print(\"Seattle Seahawks Total Rushing Yards 2012-2022:\", total_points)"
   ]
  },
  {
   "cell_type": "markdown",
   "id": "7995b84c",
   "metadata": {},
   "source": [
    "#### Calculating all Teams Defemse Rushing Yards allowed per year"
   ]
  },
  {
   "cell_type": "code",
   "execution_count": 8,
   "id": "58fa57a6",
   "metadata": {},
   "outputs": [
    {
     "name": "stdout",
     "output_type": "stream",
     "text": [
      "Team: Arizona Cardinals \tYear: 2012 \tDefense Rushing Yards: 2192\n",
      "Team: Arizona Cardinals \tYear: 2013 \tDefense Rushing Yards: 1351\n",
      "Team: Arizona Cardinals \tYear: 2014 \tDefense Rushing Yards: 1739\n",
      "Team: Arizona Cardinals \tYear: 2015 \tDefense Rushing Yards: 1460\n",
      "Team: Arizona Cardinals \tYear: 2016 \tDefense Rushing Yards: 1518\n",
      "Team: Arizona Cardinals \tYear: 2017 \tDefense Rushing Yards: 1434\n",
      "Team: Arizona Cardinals \tYear: 2018 \tDefense Rushing Yards: 2479\n",
      "Team: Arizona Cardinals \tYear: 2019 \tDefense Rushing Yards: 1922\n",
      "Team: Arizona Cardinals \tYear: 2020 \tDefense Rushing Yards: 2008\n",
      "Team: Arizona Cardinals \tYear: 2021 \tDefense Rushing Yards: 1952\n",
      "Team: Arizona Cardinals \tYear: 2022 \tDefense Rushing Yards: 2016\n",
      "Team: Atlanta Falcons \tYear: 2012 \tDefense Rushing Yards: 1971\n",
      "Team: Atlanta Falcons \tYear: 2013 \tDefense Rushing Yards: 2173\n",
      "Team: Atlanta Falcons \tYear: 2014 \tDefense Rushing Yards: 1894\n",
      "Team: Atlanta Falcons \tYear: 2015 \tDefense Rushing Yards: 1680\n",
      "Team: Atlanta Falcons \tYear: 2016 \tDefense Rushing Yards: 1672\n",
      "Team: Atlanta Falcons \tYear: 2017 \tDefense Rushing Yards: 1665\n",
      "Team: Atlanta Falcons \tYear: 2018 \tDefense Rushing Yards: 1999\n",
      "Team: Atlanta Falcons \tYear: 2019 \tDefense Rushing Yards: 1775\n",
      "Team: Atlanta Falcons \tYear: 2020 \tDefense Rushing Yards: 1677\n",
      "Team: Atlanta Falcons \tYear: 2021 \tDefense Rushing Yards: 2242\n",
      "Team: Atlanta Falcons \tYear: 2022 \tDefense Rushing Yards: 2214\n",
      "Team: Baltimore Ravens \tYear: 2012 \tDefense Rushing Yards: 1965\n",
      "Team: Baltimore Ravens \tYear: 2013 \tDefense Rushing Yards: 1687\n",
      "Team: Baltimore Ravens \tYear: 2014 \tDefense Rushing Yards: 1412\n",
      "Team: Baltimore Ravens \tYear: 2015 \tDefense Rushing Yards: 1661\n",
      "Team: Baltimore Ravens \tYear: 2016 \tDefense Rushing Yards: 1430\n",
      "Team: Baltimore Ravens \tYear: 2017 \tDefense Rushing Yards: 1780\n",
      "Team: Baltimore Ravens \tYear: 2018 \tDefense Rushing Yards: 1327\n",
      "Team: Baltimore Ravens \tYear: 2019 \tDefense Rushing Yards: 1494\n",
      "Team: Baltimore Ravens \tYear: 2020 \tDefense Rushing Yards: 1740\n",
      "Team: Baltimore Ravens \tYear: 2021 \tDefense Rushing Yards: 1436\n",
      "Team: Baltimore Ravens \tYear: 2022 \tDefense Rushing Yards: 1566\n",
      "Team: Buffalo Bills \tYear: 2012 \tDefense Rushing Yards: 2333\n",
      "Team: Buffalo Bills \tYear: 2013 \tDefense Rushing Yards: 2063\n",
      "Team: Buffalo Bills \tYear: 2014 \tDefense Rushing Yards: 1703\n",
      "Team: Buffalo Bills \tYear: 2015 \tDefense Rushing Yards: 1730\n",
      "Team: Buffalo Bills \tYear: 2016 \tDefense Rushing Yards: 2130\n",
      "Team: Buffalo Bills \tYear: 2017 \tDefense Rushing Yards: 1994\n",
      "Team: Buffalo Bills \tYear: 2018 \tDefense Rushing Yards: 1839\n",
      "Team: Buffalo Bills \tYear: 2019 \tDefense Rushing Yards: 1649\n",
      "Team: Buffalo Bills \tYear: 2020 \tDefense Rushing Yards: 1914\n",
      "Team: Buffalo Bills \tYear: 2021 \tDefense Rushing Yards: 1866\n",
      "Team: Buffalo Bills \tYear: 2022 \tDefense Rushing Yards: 1673\n",
      "Team: Carolina Panthers \tYear: 2012 \tDefense Rushing Yards: 1761\n",
      "Team: Carolina Panthers \tYear: 2013 \tDefense Rushing Yards: 1391\n",
      "Team: Carolina Panthers \tYear: 2014 \tDefense Rushing Yards: 1792\n",
      "Team: Carolina Panthers \tYear: 2015 \tDefense Rushing Yards: 1415\n",
      "Team: Carolina Panthers \tYear: 2016 \tDefense Rushing Yards: 1465\n",
      "Team: Carolina Panthers \tYear: 2017 \tDefense Rushing Yards: 1409\n",
      "Team: Carolina Panthers \tYear: 2018 \tDefense Rushing Yards: 1804\n",
      "Team: Carolina Panthers \tYear: 2019 \tDefense Rushing Yards: 2296\n",
      "Team: Carolina Panthers \tYear: 2020 \tDefense Rushing Yards: 1936\n",
      "Team: Carolina Panthers \tYear: 2021 \tDefense Rushing Yards: 1935\n",
      "Team: Carolina Panthers \tYear: 2022 \tDefense Rushing Yards: 2085\n",
      "Team: Chicago Bears \tYear: 2012 \tDefense Rushing Yards: 1627\n",
      "Team: Chicago Bears \tYear: 2013 \tDefense Rushing Yards: 2583\n",
      "Team: Chicago Bears \tYear: 2014 \tDefense Rushing Yards: 1803\n",
      "Team: Chicago Bears \tYear: 2015 \tDefense Rushing Yards: 1934\n",
      "Team: Chicago Bears \tYear: 2016 \tDefense Rushing Yards: 1950\n",
      "Team: Chicago Bears \tYear: 2017 \tDefense Rushing Yards: 1730\n",
      "Team: Chicago Bears \tYear: 2018 \tDefense Rushing Yards: 1280\n",
      "Team: Chicago Bears \tYear: 2019 \tDefense Rushing Yards: 1632\n",
      "Team: Chicago Bears \tYear: 2020 \tDefense Rushing Yards: 1814\n",
      "Team: Chicago Bears \tYear: 2021 \tDefense Rushing Yards: 2127\n",
      "Team: Chicago Bears \tYear: 2022 \tDefense Rushing Yards: 2674\n",
      "Team: Cincinnati Bengals \tYear: 2012 \tDefense Rushing Yards: 1715\n",
      "Team: Cincinnati Bengals \tYear: 2013 \tDefense Rushing Yards: 1544\n",
      "Team: Cincinnati Bengals \tYear: 2014 \tDefense Rushing Yards: 1861\n",
      "Team: Cincinnati Bengals \tYear: 2015 \tDefense Rushing Yards: 1477\n",
      "Team: Cincinnati Bengals \tYear: 2016 \tDefense Rushing Yards: 1812\n",
      "Team: Cincinnati Bengals \tYear: 2017 \tDefense Rushing Yards: 2046\n",
      "Team: Cincinnati Bengals \tYear: 2018 \tDefense Rushing Yards: 2204\n",
      "Team: Cincinnati Bengals \tYear: 2019 \tDefense Rushing Yards: 2382\n",
      "Team: Cincinnati Bengals \tYear: 2020 \tDefense Rushing Yards: 2368\n",
      "Team: Cincinnati Bengals \tYear: 2021 \tDefense Rushing Yards: 1742\n",
      "Team: Cincinnati Bengals \tYear: 2022 \tDefense Rushing Yards: 1706\n",
      "Team: Cleveland Browns \tYear: 2012 \tDefense Rushing Yards: 1898\n",
      "Team: Cleveland Browns \tYear: 2013 \tDefense Rushing Yards: 1781\n",
      "Team: Cleveland Browns \tYear: 2014 \tDefense Rushing Yards: 2265\n",
      "Team: Cleveland Browns \tYear: 2015 \tDefense Rushing Yards: 2055\n",
      "Team: Cleveland Browns \tYear: 2016 \tDefense Rushing Yards: 2283\n",
      "Team: Cleveland Browns \tYear: 2017 \tDefense Rushing Yards: 1566\n",
      "Team: Cleveland Browns \tYear: 2018 \tDefense Rushing Yards: 2163\n",
      "Team: Cleveland Browns \tYear: 2019 \tDefense Rushing Yards: 2315\n",
      "Team: Cleveland Browns \tYear: 2020 \tDefense Rushing Yards: 1773\n",
      "Team: Cleveland Browns \tYear: 2021 \tDefense Rushing Yards: 1857\n",
      "Team: Cleveland Browns \tYear: 2022 \tDefense Rushing Yards: 2295\n",
      "Team: Dallas Cowboys \tYear: 2012 \tDefense Rushing Yards: 2003\n",
      "Team: Dallas Cowboys \tYear: 2013 \tDefense Rushing Yards: 2056\n",
      "Team: Dallas Cowboys \tYear: 2014 \tDefense Rushing Yards: 1650\n",
      "Team: Dallas Cowboys \tYear: 2015 \tDefense Rushing Yards: 1934\n",
      "Team: Dallas Cowboys \tYear: 2016 \tDefense Rushing Yards: 1336\n",
      "Team: Dallas Cowboys \tYear: 2017 \tDefense Rushing Yards: 1664\n",
      "Team: Dallas Cowboys \tYear: 2018 \tDefense Rushing Yards: 1513\n",
      "Team: Dallas Cowboys \tYear: 2019 \tDefense Rushing Yards: 1656\n",
      "Team: Dallas Cowboys \tYear: 2020 \tDefense Rushing Yards: 2541\n",
      "Team: Dallas Cowboys \tYear: 2021 \tDefense Rushing Yards: 1918\n",
      "Team: Dallas Cowboys \tYear: 2022 \tDefense Rushing Yards: 2198\n",
      "Team: Denver Broncos \tYear: 2012 \tDefense Rushing Yards: 1458\n",
      "Team: Denver Broncos \tYear: 2013 \tDefense Rushing Yards: 1626\n",
      "Team: Denver Broncos \tYear: 2014 \tDefense Rushing Yards: 1276\n",
      "Team: Denver Broncos \tYear: 2015 \tDefense Rushing Yards: 1337\n",
      "Team: Denver Broncos \tYear: 2016 \tDefense Rushing Yards: 2085\n",
      "Team: Denver Broncos \tYear: 2017 \tDefense Rushing Yards: 1430\n",
      "Team: Denver Broncos \tYear: 2018 \tDefense Rushing Yards: 1913\n",
      "Team: Denver Broncos \tYear: 2019 \tDefense Rushing Yards: 1783\n",
      "Team: Denver Broncos \tYear: 2020 \tDefense Rushing Yards: 2080\n",
      "Team: Denver Broncos \tYear: 2021 \tDefense Rushing Yards: 1892\n",
      "Team: Denver Broncos \tYear: 2022 \tDefense Rushing Yards: 1866\n",
      "Team: Detroit Lions \tYear: 2012 \tDefense Rushing Yards: 1889\n",
      "Team: Detroit Lions \tYear: 2013 \tDefense Rushing Yards: 1596\n",
      "Team: Detroit Lions \tYear: 2014 \tDefense Rushing Yards: 1109\n",
      "Team: Detroit Lions \tYear: 2015 \tDefense Rushing Yards: 1808\n",
      "Team: Detroit Lions \tYear: 2016 \tDefense Rushing Yards: 1701\n",
      "Team: Detroit Lions \tYear: 2017 \tDefense Rushing Yards: 1800\n",
      "Team: Detroit Lions \tYear: 2018 \tDefense Rushing Yards: 1761\n",
      "Team: Detroit Lions \tYear: 2019 \tDefense Rushing Yards: 1855\n",
      "Team: Detroit Lions \tYear: 2020 \tDefense Rushing Yards: 2158\n",
      "Team: Detroit Lions \tYear: 2021 \tDefense Rushing Yards: 2296\n",
      "Team: Detroit Lions \tYear: 2022 \tDefense Rushing Yards: 2491\n",
      "Team: Green Bay Packers \tYear: 2012 \tDefense Rushing Yards: 1896\n",
      "Team: Green Bay Packers \tYear: 2013 \tDefense Rushing Yards: 2000\n",
      "Team: Green Bay Packers \tYear: 2014 \tDefense Rushing Yards: 1919\n",
      "Team: Green Bay Packers \tYear: 2015 \tDefense Rushing Yards: 1905\n",
      "Team: Green Bay Packers \tYear: 2016 \tDefense Rushing Yards: 1515\n",
      "Team: Green Bay Packers \tYear: 2017 \tDefense Rushing Yards: 1793\n",
      "Team: Green Bay Packers \tYear: 2018 \tDefense Rushing Yards: 1918\n",
      "Team: Green Bay Packers \tYear: 2019 \tDefense Rushing Yards: 1921\n",
      "Team: Green Bay Packers \tYear: 2020 \tDefense Rushing Yards: 1805\n",
      "Team: Green Bay Packers \tYear: 2021 \tDefense Rushing Yards: 1855\n",
      "Team: Green Bay Packers \tYear: 2022 \tDefense Rushing Yards: 2372\n",
      "Team: Houston Texans \tYear: 2012 \tDefense Rushing Yards: 1560\n",
      "Team: Houston Texans \tYear: 2013 \tDefense Rushing Yards: 1958\n",
      "Team: Houston Texans \tYear: 2014 \tDefense Rushing Yards: 1681\n",
      "Team: Houston Texans \tYear: 2015 \tDefense Rushing Yards: 1597\n",
      "Team: Houston Texans \tYear: 2016 \tDefense Rushing Yards: 1595\n",
      "Team: Houston Texans \tYear: 2017 \tDefense Rushing Yards: 1747\n",
      "Team: Houston Texans \tYear: 2018 \tDefense Rushing Yards: 1323\n",
      "Team: Houston Texans \tYear: 2019 \tDefense Rushing Yards: 1937\n",
      "Team: Houston Texans \tYear: 2020 \tDefense Rushing Yards: 2564\n",
      "Team: Houston Texans \tYear: 2021 \tDefense Rushing Yards: 2418\n",
      "Team: Houston Texans \tYear: 2022 \tDefense Rushing Yards: 2894\n",
      "Team: Indianapolis Colts \tYear: 2012 \tDefense Rushing Yards: 2200\n",
      "Team: Indianapolis Colts \tYear: 2013 \tDefense Rushing Yards: 2002\n",
      "Team: Indianapolis Colts \tYear: 2014 \tDefense Rushing Yards: 1814\n",
      "Team: Indianapolis Colts \tYear: 2015 \tDefense Rushing Yards: 1952\n",
      "Team: Indianapolis Colts \tYear: 2016 \tDefense Rushing Yards: 1926\n",
      "Team: Indianapolis Colts \tYear: 2017 \tDefense Rushing Yards: 1927\n",
      "Team: Indianapolis Colts \tYear: 2018 \tDefense Rushing Yards: 1626\n",
      "Team: Indianapolis Colts \tYear: 2019 \tDefense Rushing Yards: 1567\n",
      "Team: Indianapolis Colts \tYear: 2020 \tDefense Rushing Yards: 1448\n",
      "Team: Indianapolis Colts \tYear: 2021 \tDefense Rushing Yards: 1854\n",
      "Team: Indianapolis Colts \tYear: 2022 \tDefense Rushing Yards: 2109\n",
      "Team: Jacksonville Jaguars \tYear: 2012 \tDefense Rushing Yards: 2256\n",
      "Team: Jacksonville Jaguars \tYear: 2013 \tDefense Rushing Yards: 2108\n",
      "Team: Jacksonville Jaguars \tYear: 2014 \tDefense Rushing Yards: 2033\n",
      "Team: Jacksonville Jaguars \tYear: 2015 \tDefense Rushing Yards: 1709\n",
      "Team: Jacksonville Jaguars \tYear: 2016 \tDefense Rushing Yards: 1703\n",
      "Team: Jacksonville Jaguars \tYear: 2017 \tDefense Rushing Yards: 1860\n",
      "Team: Jacksonville Jaguars \tYear: 2018 \tDefense Rushing Yards: 1870\n",
      "Team: Jacksonville Jaguars \tYear: 2019 \tDefense Rushing Yards: 2229\n",
      "Team: Jacksonville Jaguars \tYear: 2020 \tDefense Rushing Yards: 2452\n",
      "Team: Jacksonville Jaguars \tYear: 2021 \tDefense Rushing Yards: 2127\n",
      "Team: Jacksonville Jaguars \tYear: 2022 \tDefense Rushing Yards: 1951\n",
      "Team: Kansas City Chiefs \tYear: 2012 \tDefense Rushing Yards: 2171\n",
      "Team: Kansas City Chiefs \tYear: 2013 \tDefense Rushing Yards: 1923\n",
      "Team: Kansas City Chiefs \tYear: 2014 \tDefense Rushing Yards: 2036\n",
      "Team: Kansas City Chiefs \tYear: 2015 \tDefense Rushing Yards: 1571\n",
      "Team: Kansas City Chiefs \tYear: 2016 \tDefense Rushing Yards: 1938\n",
      "Team: Kansas City Chiefs \tYear: 2017 \tDefense Rushing Yards: 1890\n",
      "Team: Kansas City Chiefs \tYear: 2018 \tDefense Rushing Yards: 2114\n",
      "Team: Kansas City Chiefs \tYear: 2019 \tDefense Rushing Yards: 2051\n",
      "Team: Kansas City Chiefs \tYear: 2020 \tDefense Rushing Yards: 1954\n",
      "Team: Kansas City Chiefs \tYear: 2021 \tDefense Rushing Yards: 1999\n",
      "Team: Kansas City Chiefs \tYear: 2022 \tDefense Rushing Yards: 1823\n",
      "Team: Las Vegas Raiders \tYear: 2012 \tDefense Rushing Yards: 1897\n",
      "Team: Las Vegas Raiders \tYear: 2013 \tDefense Rushing Yards: 1727\n",
      "Team: Las Vegas Raiders \tYear: 2014 \tDefense Rushing Yards: 1911\n",
      "Team: Las Vegas Raiders \tYear: 2015 \tDefense Rushing Yards: 1678\n",
      "Team: Las Vegas Raiders \tYear: 2016 \tDefense Rushing Yards: 1881\n",
      "Team: Las Vegas Raiders \tYear: 2017 \tDefense Rushing Yards: 1743\n",
      "Team: Las Vegas Raiders \tYear: 2018 \tDefense Rushing Yards: 2249\n",
      "Team: Las Vegas Raiders \tYear: 2019 \tDefense Rushing Yards: 1570\n",
      "Team: Las Vegas Raiders \tYear: 2020 \tDefense Rushing Yards: 2013\n",
      "Team: Las Vegas Raiders \tYear: 2021 \tDefense Rushing Yards: 1943\n",
      "Team: Las Vegas Raiders \tYear: 2022 \tDefense Rushing Yards: 2087\n",
      "Team: Los Angeles Chargers \tYear: 2012 \tDefense Rushing Yards: 1542\n",
      "Team: Los Angeles Chargers \tYear: 2013 \tDefense Rushing Yards: 1725\n",
      "Team: Los Angeles Chargers \tYear: 2014 \tDefense Rushing Yards: 1986\n",
      "Team: Los Angeles Chargers \tYear: 2015 \tDefense Rushing Yards: 2005\n",
      "Team: Los Angeles Chargers \tYear: 2016 \tDefense Rushing Yards: 1567\n",
      "Team: Los Angeles Chargers \tYear: 2017 \tDefense Rushing Yards: 2098\n",
      "Team: Los Angeles Chargers \tYear: 2018 \tDefense Rushing Yards: 1693\n",
      "Team: Los Angeles Chargers \tYear: 2019 \tDefense Rushing Yards: 1805\n",
      "Team: Los Angeles Chargers \tYear: 2020 \tDefense Rushing Yards: 1917\n",
      "Team: Los Angeles Chargers \tYear: 2021 \tDefense Rushing Yards: 2361\n",
      "Team: Los Angeles Chargers \tYear: 2022 \tDefense Rushing Yards: 2478\n",
      "Team: Los Angeles Rams \tYear: 2012 \tDefense Rushing Yards: 1880\n",
      "Team: Los Angeles Rams \tYear: 2013 \tDefense Rushing Yards: 1646\n",
      "Team: Los Angeles Rams \tYear: 2014 \tDefense Rushing Yards: 1765\n",
      "Team: Los Angeles Rams \tYear: 2015 \tDefense Rushing Yards: 1820\n",
      "Team: Los Angeles Rams \tYear: 2016 \tDefense Rushing Yards: 1660\n",
      "Team: Los Angeles Rams \tYear: 2017 \tDefense Rushing Yards: 1957\n",
      "Team: Los Angeles Rams \tYear: 2018 \tDefense Rushing Yards: 1957\n",
      "Team: Los Angeles Rams \tYear: 2019 \tDefense Rushing Yards: 1809\n",
      "Team: Los Angeles Rams \tYear: 2020 \tDefense Rushing Yards: 1460\n",
      "Team: Los Angeles Rams \tYear: 2021 \tDefense Rushing Yards: 1754\n",
      "Team: Los Angeles Rams \tYear: 2022 \tDefense Rushing Yards: 1956\n",
      "Team: Miami Dolphins \tYear: 2012 \tDefense Rushing Yards: 1734\n",
      "Team: Miami Dolphins \tYear: 2013 \tDefense Rushing Yards: 1998\n",
      "Team: Miami Dolphins \tYear: 2014 \tDefense Rushing Yards: 1937\n",
      "Team: Miami Dolphins \tYear: 2015 \tDefense Rushing Yards: 2019\n",
      "Team: Miami Dolphins \tYear: 2016 \tDefense Rushing Yards: 2247\n",
      "Team: Miami Dolphins \tYear: 2017 \tDefense Rushing Yards: 1768\n",
      "Team: Miami Dolphins \tYear: 2018 \tDefense Rushing Yards: 2325\n",
      "Team: Miami Dolphins \tYear: 2019 \tDefense Rushing Yards: 2166\n",
      "Team: Miami Dolphins \tYear: 2020 \tDefense Rushing Yards: 1862\n",
      "Team: Miami Dolphins \tYear: 2021 \tDefense Rushing Yards: 1867\n",
      "Team: Miami Dolphins \tYear: 2022 \tDefense Rushing Yards: 1751\n",
      "Team: Minnesota Vikings \tYear: 2012 \tDefense Rushing Yards: 1692\n",
      "Team: Minnesota Vikings \tYear: 2013 \tDefense Rushing Yards: 1767\n",
      "Team: Minnesota Vikings \tYear: 2014 \tDefense Rushing Yards: 1943\n",
      "Team: Minnesota Vikings \tYear: 2015 \tDefense Rushing Yards: 1748\n",
      "Team: Minnesota Vikings \tYear: 2016 \tDefense Rushing Yards: 1711\n",
      "Team: Minnesota Vikings \tYear: 2017 \tDefense Rushing Yards: 1337\n",
      "Team: Minnesota Vikings \tYear: 2018 \tDefense Rushing Yards: 1815\n",
      "Team: Minnesota Vikings \tYear: 2019 \tDefense Rushing Yards: 1728\n",
      "Team: Minnesota Vikings \tYear: 2020 \tDefense Rushing Yards: 2151\n",
      "Team: Minnesota Vikings \tYear: 2021 \tDefense Rushing Yards: 2222\n",
      "Team: Minnesota Vikings \tYear: 2022 \tDefense Rushing Yards: 2093\n",
      "Team: New England Patriots \tYear: 2012 \tDefense Rushing Yards: 1630\n",
      "Team: New England Patriots \tYear: 2013 \tDefense Rushing Yards: 2145\n",
      "Team: New England Patriots \tYear: 2014 \tDefense Rushing Yards: 1669\n",
      "Team: New England Patriots \tYear: 2015 \tDefense Rushing Yards: 1580\n",
      "Team: New England Patriots \tYear: 2016 \tDefense Rushing Yards: 1417\n",
      "Team: New England Patriots \tYear: 2017 \tDefense Rushing Yards: 1836\n",
      "Team: New England Patriots \tYear: 2018 \tDefense Rushing Yards: 1803\n",
      "Team: New England Patriots \tYear: 2019 \tDefense Rushing Yards: 1528\n",
      "Team: New England Patriots \tYear: 2020 \tDefense Rushing Yards: 2103\n",
      "Team: New England Patriots \tYear: 2021 \tDefense Rushing Yards: 2103\n",
      "Team: New England Patriots \tYear: 2022 \tDefense Rushing Yards: 1793\n",
      "Team: New Orleans Saints \tYear: 2012 \tDefense Rushing Yards: 2361\n",
      "Team: New Orleans Saints \tYear: 2013 \tDefense Rushing Yards: 1786\n",
      "Team: New Orleans Saints \tYear: 2014 \tDefense Rushing Yards: 2125\n",
      "Team: New Orleans Saints \tYear: 2015 \tDefense Rushing Yards: 2071\n",
      "Team: New Orleans Saints \tYear: 2016 \tDefense Rushing Yards: 1626\n",
      "Team: New Orleans Saints \tYear: 2017 \tDefense Rushing Yards: 1787\n",
      "Team: New Orleans Saints \tYear: 2019 \tDefense Rushing Yards: 1461\n",
      "Team: New Orleans Saints \tYear: 2020 \tDefense Rushing Yards: 1502\n",
      "Team: New Orleans Saints \tYear: 2021 \tDefense Rushing Yards: 1589\n",
      "Team: New Orleans Saints \tYear: 2022 \tDefense Rushing Yards: 2218\n",
      "Team: New York Giants \tYear: 2012 \tDefense Rushing Yards: 2066\n",
      "Team: New York Giants \tYear: 2013 \tDefense Rushing Yards: 1743\n",
      "Team: New York Giants \tYear: 2014 \tDefense Rushing Yards: 2162\n",
      "Team: New York Giants \tYear: 2015 \tDefense Rushing Yards: 1942\n",
      "Team: New York Giants \tYear: 2016 \tDefense Rushing Yards: 1417\n",
      "Team: New York Giants \tYear: 2017 \tDefense Rushing Yards: 1933\n",
      "Team: New York Giants \tYear: 2018 \tDefense Rushing Yards: 1898\n",
      "Team: New York Giants \tYear: 2019 \tDefense Rushing Yards: 1812\n",
      "Team: New York Giants \tYear: 2020 \tDefense Rushing Yards: 1782\n",
      "Team: New York Giants \tYear: 2021 \tDefense Rushing Yards: 2193\n",
      "Team: New York Giants \tYear: 2022 \tDefense Rushing Yards: 2451\n",
      "Team: New York Jets \tYear: 2012 \tDefense Rushing Yards: 2138\n",
      "Team: New York Jets \tYear: 2013 \tDefense Rushing Yards: 1412\n",
      "Team: New York Jets \tYear: 2014 \tDefense Rushing Yards: 1489\n",
      "Team: New York Jets \tYear: 2015 \tDefense Rushing Yards: 1335\n",
      "Team: New York Jets \tYear: 2016 \tDefense Rushing Yards: 1581\n",
      "Team: New York Jets \tYear: 2017 \tDefense Rushing Yards: 1887\n",
      "Team: New York Jets \tYear: 2018 \tDefense Rushing Yards: 2021\n",
      "Team: New York Jets \tYear: 2019 \tDefense Rushing Yards: 1391\n",
      "Team: New York Jets \tYear: 2020 \tDefense Rushing Yards: 1792\n",
      "Team: New York Jets \tYear: 2021 \tDefense Rushing Yards: 2351\n",
      "Team: New York Jets \tYear: 2022 \tDefense Rushing Yards: 2068\n",
      "Team: Philadelphia Eagles \tYear: 2012 \tDefense Rushing Yards: 2021\n",
      "Team: Philadelphia Eagles \tYear: 2013 \tDefense Rushing Yards: 1668\n",
      "Team: Philadelphia Eagles \tYear: 2014 \tDefense Rushing Yards: 1771\n",
      "Team: Philadelphia Eagles \tYear: 2015 \tDefense Rushing Yards: 2153\n",
      "Team: Philadelphia Eagles \tYear: 2016 \tDefense Rushing Yards: 1652\n",
      "Team: Philadelphia Eagles \tYear: 2017 \tDefense Rushing Yards: 1267\n",
      "Team: Philadelphia Eagles \tYear: 2018 \tDefense Rushing Yards: 1551\n",
      "Team: Philadelphia Eagles \tYear: 2019 \tDefense Rushing Yards: 1442\n",
      "Team: Philadelphia Eagles \tYear: 2020 \tDefense Rushing Yards: 2012\n",
      "Team: Philadelphia Eagles \tYear: 2021 \tDefense Rushing Yards: 1834\n",
      "Team: Philadelphia Eagles \tYear: 2022 \tDefense Rushing Yards: 2068\n",
      "Team: Pittsburgh Steelers \tYear: 2012 \tDefense Rushing Yards: 1450\n",
      "Team: Pittsburgh Steelers \tYear: 2013 \tDefense Rushing Yards: 1849\n",
      "Team: Pittsburgh Steelers \tYear: 2014 \tDefense Rushing Yards: 1605\n",
      "Team: Pittsburgh Steelers \tYear: 2015 \tDefense Rushing Yards: 1459\n",
      "Team: Pittsburgh Steelers \tYear: 2016 \tDefense Rushing Yards: 1600\n",
      "Team: Pittsburgh Steelers \tYear: 2017 \tDefense Rushing Yards: 1693\n",
      "Team: Pittsburgh Steelers \tYear: 2018 \tDefense Rushing Yards: 1538\n",
      "Team: Pittsburgh Steelers \tYear: 2019 \tDefense Rushing Yards: 1753\n",
      "Team: Pittsburgh Steelers \tYear: 2020 \tDefense Rushing Yards: 1783\n",
      "Team: Pittsburgh Steelers \tYear: 2021 \tDefense Rushing Yards: 2483\n",
      "Team: Pittsburgh Steelers \tYear: 2022 \tDefense Rushing Yards: 1838\n",
      "Team: San Francisco 49ers \tYear: 2012 \tDefense Rushing Yards: 1507\n",
      "Team: San Francisco 49ers \tYear: 2013 \tDefense Rushing Yards: 1535\n",
      "Team: San Francisco 49ers \tYear: 2014 \tDefense Rushing Yards: 1612\n",
      "Team: San Francisco 49ers \tYear: 2015 \tDefense Rushing Yards: 2020\n",
      "Team: San Francisco 49ers \tYear: 2016 \tDefense Rushing Yards: 2654\n",
      "Team: San Francisco 49ers \tYear: 2017 \tDefense Rushing Yards: 1861\n",
      "Team: San Francisco 49ers \tYear: 2018 \tDefense Rushing Yards: 1814\n",
      "Team: San Francisco 49ers \tYear: 2019 \tDefense Rushing Yards: 1802\n",
      "Team: San Francisco 49ers \tYear: 2020 \tDefense Rushing Yards: 1703\n",
      "Team: San Francisco 49ers \tYear: 2021 \tDefense Rushing Yards: 1760\n",
      "Team: San Francisco 49ers \tYear: 2022 \tDefense Rushing Yards: 1321\n",
      "Team: Seattle Seahawks \tYear: 2012 \tDefense Rushing Yards: 1649\n",
      "Team: Seattle Seahawks \tYear: 2013 \tDefense Rushing Yards: 1626\n",
      "Team: Seattle Seahawks \tYear: 2014 \tDefense Rushing Yards: 1304\n",
      "Team: Seattle Seahawks \tYear: 2015 \tDefense Rushing Yards: 1304\n",
      "Team: Seattle Seahawks \tYear: 2016 \tDefense Rushing Yards: 1487\n",
      "Team: Seattle Seahawks \tYear: 2017 \tDefense Rushing Yards: 1824\n",
      "Team: Seattle Seahawks \tYear: 2018 \tDefense Rushing Yards: 1811\n",
      "Team: Seattle Seahawks \tYear: 2019 \tDefense Rushing Yards: 1883\n",
      "Team: Seattle Seahawks \tYear: 2020 \tDefense Rushing Yards: 1529\n",
      "Team: Seattle Seahawks \tYear: 2021 \tDefense Rushing Yards: 1932\n",
      "Team: Seattle Seahawks \tYear: 2022 \tDefense Rushing Yards: 2554\n",
      "Team: Tampa Bay Buccaneers \tYear: 2012 \tDefense Rushing Yards: 1320\n",
      "Team: Tampa Bay Buccaneers \tYear: 2013 \tDefense Rushing Yards: 1762\n",
      "Team: Tampa Bay Buccaneers \tYear: 2014 \tDefense Rushing Yards: 1819\n",
      "Team: Tampa Bay Buccaneers \tYear: 2015 \tDefense Rushing Yards: 1606\n",
      "Team: Tampa Bay Buccaneers \tYear: 2016 \tDefense Rushing Yards: 1875\n",
      "Team: Tampa Bay Buccaneers \tYear: 2017 \tDefense Rushing Yards: 1880\n",
      "Team: Tampa Bay Buccaneers \tYear: 2018 \tDefense Rushing Yards: 1983\n",
      "Team: Tampa Bay Buccaneers \tYear: 2019 \tDefense Rushing Yards: 1181\n",
      "Team: Tampa Bay Buccaneers \tYear: 2020 \tDefense Rushing Yards: 1289\n",
      "Team: Tampa Bay Buccaneers \tYear: 2021 \tDefense Rushing Yards: 1573\n",
      "Team: Tampa Bay Buccaneers \tYear: 2022 \tDefense Rushing Yards: 2052\n",
      "Team: Tennessee Titans \tYear: 2012 \tDefense Rushing Yards: 2035\n",
      "Team: Tennessee Titans \tYear: 2013 \tDefense Rushing Yards: 1795\n",
      "Team: Tennessee Titans \tYear: 2014 \tDefense Rushing Yards: 2195\n",
      "Team: Tennessee Titans \tYear: 2015 \tDefense Rushing Yards: 1797\n",
      "Team: Tennessee Titans \tYear: 2016 \tDefense Rushing Yards: 1413\n",
      "Team: Tennessee Titans \tYear: 2017 \tDefense Rushing Yards: 1420\n",
      "Team: Tennessee Titans \tYear: 2018 \tDefense Rushing Yards: 1863\n",
      "Team: Tennessee Titans \tYear: 2019 \tDefense Rushing Yards: 1672\n",
      "Team: Tennessee Titans \tYear: 2020 \tDefense Rushing Yards: 1933\n",
      "Team: Tennessee Titans \tYear: 2021 \tDefense Rushing Yards: 1438\n",
      "Team: Tennessee Titans \tYear: 2022 \tDefense Rushing Yards: 1307\n",
      "Team: Washington Commanders \tYear: 2012 \tDefense Rushing Yards: 1532\n",
      "Team: Washington Commanders \tYear: 2013 \tDefense Rushing Yards: 1769\n",
      "Team: Washington Commanders \tYear: 2014 \tDefense Rushing Yards: 1722\n",
      "Team: Washington Commanders \tYear: 2015 \tDefense Rushing Yards: 1962\n",
      "Team: Washington Commanders \tYear: 2016 \tDefense Rushing Yards: 1916\n",
      "Team: Washington Commanders \tYear: 2017 \tDefense Rushing Yards: 2146\n",
      "Team: Washington Commanders \tYear: 2018 \tDefense Rushing Yards: 1860\n",
      "Team: Washington Commanders \tYear: 2019 \tDefense Rushing Yards: 2339\n",
      "Team: Washington Commanders \tYear: 2020 \tDefense Rushing Yards: 1805\n",
      "Team: Washington Commanders \tYear: 2021 \tDefense Rushing Yards: 1775\n",
      "Team: Washington Commanders \tYear: 2022 \tDefense Rushing Yards: 1926\n"
     ]
    }
   ],
   "source": [
    "team_names = nflDrush['Team'].unique()\n",
    "\n",
    "# Iterate over each team\n",
    "for team_name in team_names:\n",
    "    team_data = nflDrush[nflDrush['Team'] == team_name]\n",
    "    \n",
    "    # Display the total Defense Rushing Yards allowed for each year\n",
    "    for year in team_data['Year'].unique():\n",
    "        team_def_rush_yards = team_data.loc[team_data['Year'] == year, 'Def RushYds'].values[0]\n",
    "        print(\"Team:\", team_name, \"\\tYear:\", year, \"\\tDefense Rushing Yards:\", team_def_rush_yards)"
   ]
  },
  {
   "cell_type": "markdown",
   "id": "370f6e26",
   "metadata": {},
   "source": [
    "#### Calculate Descriptive Statistics on Defense Rushing Yards allowed for all Teams. These statistics are the yards allowed and their mean, median, standard deviation, variance, min, max, range, and sum."
   ]
  },
  {
   "cell_type": "markdown",
   "id": "08fe5a4e",
   "metadata": {},
   "source": [
    "### Arizona Cardinals"
   ]
  },
  {
   "cell_type": "code",
   "execution_count": 9,
   "id": "ac23253e",
   "metadata": {},
   "outputs": [
    {
     "name": "stdout",
     "output_type": "stream",
     "text": [
      "Arizona Cardinals Defense Rushing Yards Mean: 1824.6363636363637\n",
      "Arizona Cardinals Defense Rushing Yards Median: 1922.0\n",
      "Arizona Cardinals Defense Rushing Yards Standard Deviation: 356.41808953173876\n",
      "Arizona Cardinals Defense Rushing Yards Variance: 127033.85454545454\n",
      "Arizona Cardinals Defense Rushing Yards Minimum: 1351\n",
      "Arizona Cardinals Defense Rushing Yards Maximum: 2479\n",
      "Arizona Cardinals Defense Rushing Yards Range: 1128\n",
      "Arizona Cardinals Total Rushing Yards 2012-2022: 20071\n"
     ]
    }
   ],
   "source": [
    "team_name1 = 'Arizona Cardinals'\n",
    "cardinals_data = nflDrush[nflDrush['Team'] == team_name1]\n",
    "mean_value = cardinals_data['Def RushYds'].mean()\n",
    "median_value = cardinals_data['Def RushYds'].median()\n",
    "std_value = cardinals_data['Def RushYds'].std()\n",
    "var_value = cardinals_data['Def RushYds'].var()\n",
    "min_value = cardinals_data['Def RushYds'].min()\n",
    "max_value = cardinals_data['Def RushYds'].max()\n",
    "data_range = max_value - min_value\n",
    "total_points = cardinals_data['Def RushYds'].sum()\n",
    "print(\"Arizona Cardinals Defense Rushing Yards Mean:\", mean_value)\n",
    "print(\"Arizona Cardinals Defense Rushing Yards Median:\", median_value)\n",
    "print(\"Arizona Cardinals Defense Rushing Yards Standard Deviation:\", std_value)\n",
    "print(\"Arizona Cardinals Defense Rushing Yards Variance:\", var_value)\n",
    "print(\"Arizona Cardinals Defense Rushing Yards Minimum:\", min_value)\n",
    "print(\"Arizona Cardinals Defense Rushing Yards Maximum:\", max_value)\n",
    "print(\"Arizona Cardinals Defense Rushing Yards Range:\", data_range)\n",
    "print(\"Arizona Cardinals Total Rushing Yards 2012-2022:\", total_points)"
   ]
  },
  {
   "cell_type": "markdown",
   "id": "ac14706a",
   "metadata": {},
   "source": [
    "### Atlanta Falcons"
   ]
  },
  {
   "cell_type": "code",
   "execution_count": 10,
   "id": "5f4b8f2d",
   "metadata": {},
   "outputs": [
    {
     "name": "stdout",
     "output_type": "stream",
     "text": [
      "Atlanta Falcons Defense Rushing Yards Mean: 1905.6363636363637\n",
      "Atlanta Falcons Defense Rushing Yards Median: 1894.0\n",
      "Atlanta Falcons Defense Rushing Yards Standard Deviation: 229.255435149212\n",
      "Atlanta Falcons Defense Rushing Yards Variance: 52558.05454545454\n",
      "Atlanta Falcons Defense Rushing Yards Minimum: 1665\n",
      "Atlanta Falcons Defense Rushing Yards Maximum: 2242\n",
      "Atlanta Falcons Defense Rushing Yards Range: 577\n",
      "Atlanta Falcons Total Rushing Yards 2012-2022: 20962\n"
     ]
    }
   ],
   "source": [
    "team_name2 = 'Atlanta Falcons'\n",
    "falcons_data = nflDrush[nflDrush['Team'] == team_name2]\n",
    "mean_value = falcons_data['Def RushYds'].mean()\n",
    "median_value = falcons_data['Def RushYds'].median()\n",
    "std_value = falcons_data['Def RushYds'].std()\n",
    "var_value = falcons_data['Def RushYds'].var()\n",
    "min_value = falcons_data['Def RushYds'].min()\n",
    "max_value = falcons_data['Def RushYds'].max()\n",
    "data_range = max_value - min_value\n",
    "total_points = falcons_data['Def RushYds'].sum()\n",
    "print(\"Atlanta Falcons Defense Rushing Yards Mean:\", mean_value)\n",
    "print(\"Atlanta Falcons Defense Rushing Yards Median:\", median_value)\n",
    "print(\"Atlanta Falcons Defense Rushing Yards Standard Deviation:\", std_value)\n",
    "print(\"Atlanta Falcons Defense Rushing Yards Variance:\", var_value)\n",
    "print(\"Atlanta Falcons Defense Rushing Yards Minimum:\", min_value)\n",
    "print(\"Atlanta Falcons Defense Rushing Yards Maximum:\", max_value)\n",
    "print(\"Atlanta Falcons Defense Rushing Yards Range:\", data_range)\n",
    "print(\"Atlanta Falcons Total Rushing Yards 2012-2022:\", total_points)"
   ]
  },
  {
   "cell_type": "markdown",
   "id": "8f39bd29",
   "metadata": {},
   "source": [
    "### Baltimore Ravens"
   ]
  },
  {
   "cell_type": "code",
   "execution_count": 11,
   "id": "c445a2e7",
   "metadata": {},
   "outputs": [
    {
     "name": "stdout",
     "output_type": "stream",
     "text": [
      "Baltimore Ravens Defense Rushing Yards Mean: 1590.7272727272727\n",
      "Baltimore Ravens Defense Rushing Yards Median: 1566.0\n",
      "Baltimore Ravens Defense Rushing Yards Standard Deviation: 193.29515819548658\n",
      "Baltimore Ravens Defense Rushing Yards Variance: 37363.01818181818\n",
      "Baltimore Ravens Defense Rushing Yards Minimum: 1327\n",
      "Baltimore Ravens Defense Rushing Yards Maximum: 1965\n",
      "Baltimore Ravens Defense Rushing Yards Range: 638\n",
      "Baltimore Ravens Total Rushing Yards 2012-2022: 17498\n"
     ]
    }
   ],
   "source": [
    "team_name3 = 'Baltimore Ravens'\n",
    "ravens_data = nflDrush[nflDrush['Team'] == team_name3]\n",
    "mean_value = ravens_data['Def RushYds'].mean()\n",
    "median_value = ravens_data['Def RushYds'].median()\n",
    "std_value = ravens_data['Def RushYds'].std()\n",
    "var_value = ravens_data['Def RushYds'].var()\n",
    "min_value = ravens_data['Def RushYds'].min()\n",
    "max_value = ravens_data['Def RushYds'].max()\n",
    "data_range = max_value - min_value\n",
    "total_points = ravens_data['Def RushYds'].sum()\n",
    "print(\"Baltimore Ravens Defense Rushing Yards Mean:\", mean_value)\n",
    "print(\"Baltimore Ravens Defense Rushing Yards Median:\", median_value)\n",
    "print(\"Baltimore Ravens Defense Rushing Yards Standard Deviation:\", std_value)\n",
    "print(\"Baltimore Ravens Defense Rushing Yards Variance:\", var_value)\n",
    "print(\"Baltimore Ravens Defense Rushing Yards Minimum:\", min_value)\n",
    "print(\"Baltimore Ravens Defense Rushing Yards Maximum:\", max_value)\n",
    "print(\"Baltimore Ravens Defense Rushing Yards Range:\", data_range)\n",
    "print(\"Baltimore Ravens Total Rushing Yards 2012-2022:\", total_points)"
   ]
  },
  {
   "cell_type": "markdown",
   "id": "5cbc583e",
   "metadata": {},
   "source": [
    "### Buffalo Bills"
   ]
  },
  {
   "cell_type": "code",
   "execution_count": 12,
   "id": "8e6e9023",
   "metadata": {},
   "outputs": [
    {
     "name": "stdout",
     "output_type": "stream",
     "text": [
      "Buffalo Bills Defense Rushing Yards Mean: 1899.4545454545455\n",
      "Buffalo Bills Defense Rushing Yards Median: 1866.0\n",
      "Buffalo Bills Defense Rushing Yards Standard Deviation: 215.19821729575904\n",
      "Buffalo Bills Defense Rushing Yards Variance: 46310.27272727273\n",
      "Buffalo Bills Defense Rushing Yards Minimum: 1649\n",
      "Buffalo Bills Defense Rushing Yards Maximum: 2333\n",
      "Buffalo Bills Defense Rushing Yards Range: 684\n",
      "Buffalo Bills Total Rushing Yards 2012-2022: 20894\n"
     ]
    }
   ],
   "source": [
    "team_name4 = 'Buffalo Bills'\n",
    "bills_data = nflDrush[nflDrush['Team'] == team_name4]\n",
    "mean_value = bills_data['Def RushYds'].mean()\n",
    "median_value = bills_data['Def RushYds'].median()\n",
    "std_value = bills_data['Def RushYds'].std()\n",
    "var_value = bills_data['Def RushYds'].var()\n",
    "min_value = bills_data['Def RushYds'].min()\n",
    "max_value = bills_data['Def RushYds'].max()\n",
    "data_range = max_value - min_value\n",
    "total_points = bills_data['Def RushYds'].sum()\n",
    "print(\"Buffalo Bills Defense Rushing Yards Mean:\", mean_value)\n",
    "print(\"Buffalo Bills Defense Rushing Yards Median:\", median_value)\n",
    "print(\"Buffalo Bills Defense Rushing Yards Standard Deviation:\", std_value)\n",
    "print(\"Buffalo Bills Defense Rushing Yards Variance:\", var_value)\n",
    "print(\"Buffalo Bills Defense Rushing Yards Minimum:\", min_value)\n",
    "print(\"Buffalo Bills Defense Rushing Yards Maximum:\", max_value)\n",
    "print(\"Buffalo Bills Defense Rushing Yards Range:\", data_range)\n",
    "print(\"Buffalo Bills Total Rushing Yards 2012-2022:\", total_points)"
   ]
  },
  {
   "cell_type": "markdown",
   "id": "9b9612d2",
   "metadata": {},
   "source": [
    "### Carolina Panthers"
   ]
  },
  {
   "cell_type": "code",
   "execution_count": 13,
   "id": "b670bec9",
   "metadata": {},
   "outputs": [
    {
     "name": "stdout",
     "output_type": "stream",
     "text": [
      "Carolina Panthers Defense Rushing Yards Mean: 1753.5454545454545\n",
      "Carolina Panthers Defense Rushing Yards Median: 1792.0\n",
      "Carolina Panthers Defense Rushing Yards Standard Deviation: 303.716434733573\n",
      "Carolina Panthers Defense Rushing Yards Variance: 92243.67272727271\n",
      "Carolina Panthers Defense Rushing Yards Minimum: 1391\n",
      "Carolina Panthers Defense Rushing Yards Maximum: 2296\n",
      "Carolina Panthers Defense Rushing Yards Range: 905\n",
      "Carolina Panthers Total Rushing Yards 2012-2022: 19289\n"
     ]
    }
   ],
   "source": [
    "team_name5 = 'Carolina Panthers'\n",
    "panthers_data = nflDrush[nflDrush['Team'] == team_name5]\n",
    "mean_value = panthers_data['Def RushYds'].mean()\n",
    "median_value = panthers_data['Def RushYds'].median()\n",
    "std_value = panthers_data['Def RushYds'].std()\n",
    "var_value = panthers_data['Def RushYds'].var()\n",
    "min_value = panthers_data['Def RushYds'].min()\n",
    "max_value = panthers_data['Def RushYds'].max()\n",
    "data_range = max_value - min_value\n",
    "total_points = panthers_data['Def RushYds'].sum()\n",
    "print(\"Carolina Panthers Defense Rushing Yards Mean:\", mean_value)\n",
    "print(\"Carolina Panthers Defense Rushing Yards Median:\", median_value)\n",
    "print(\"Carolina Panthers Defense Rushing Yards Standard Deviation:\", std_value)\n",
    "print(\"Carolina Panthers Defense Rushing Yards Variance:\", var_value)\n",
    "print(\"Carolina Panthers Defense Rushing Yards Minimum:\", min_value)\n",
    "print(\"Carolina Panthers Defense Rushing Yards Maximum:\", max_value)\n",
    "print(\"Carolina Panthers Defense Rushing Yards Range:\", data_range)\n",
    "print(\"Carolina Panthers Total Rushing Yards 2012-2022:\", total_points)"
   ]
  },
  {
   "cell_type": "markdown",
   "id": "f011e3c0",
   "metadata": {},
   "source": [
    "### Chicago Bears"
   ]
  },
  {
   "cell_type": "code",
   "execution_count": 14,
   "id": "57ea7bb7",
   "metadata": {},
   "outputs": [
    {
     "name": "stdout",
     "output_type": "stream",
     "text": [
      "Chicago Bears Defense Rushing Yards Mean: 1923.090909090909\n",
      "Chicago Bears Defense Rushing Yards Median: 1814.0\n",
      "Chicago Bears Defense Rushing Yards Standard Deviation: 411.2593961347156\n",
      "Chicago Bears Defense Rushing Yards Variance: 169134.29090909092\n",
      "Chicago Bears Defense Rushing Yards Minimum: 1280\n",
      "Chicago Bears Defense Rushing Yards Maximum: 2674\n",
      "Chicago Bears Defense Rushing Yards Range: 1394\n",
      "Chicago Bears Total Rushing Yards 2012-2022: 21154\n"
     ]
    }
   ],
   "source": [
    "team_name6 = 'Chicago Bears'\n",
    "bears_data = nflDrush[nflDrush['Team'] == team_name6]\n",
    "mean_value = bears_data['Def RushYds'].mean()\n",
    "median_value = bears_data['Def RushYds'].median()\n",
    "std_value = bears_data['Def RushYds'].std()\n",
    "var_value = bears_data['Def RushYds'].var()\n",
    "min_value = bears_data['Def RushYds'].min()\n",
    "max_value = bears_data['Def RushYds'].max()\n",
    "data_range = max_value - min_value\n",
    "total_points = bears_data['Def RushYds'].sum()\n",
    "print(\"Chicago Bears Defense Rushing Yards Mean:\", mean_value)\n",
    "print(\"Chicago Bears Defense Rushing Yards Median:\", median_value)\n",
    "print(\"Chicago Bears Defense Rushing Yards Standard Deviation:\", std_value)\n",
    "print(\"Chicago Bears Defense Rushing Yards Variance:\", var_value)\n",
    "print(\"Chicago Bears Defense Rushing Yards Minimum:\", min_value)\n",
    "print(\"Chicago Bears Defense Rushing Yards Maximum:\", max_value)\n",
    "print(\"Chicago Bears Defense Rushing Yards Range:\", data_range)\n",
    "print(\"Chicago Bears Total Rushing Yards 2012-2022:\", total_points)"
   ]
  },
  {
   "cell_type": "markdown",
   "id": "a9a4c865",
   "metadata": {},
   "source": [
    "### Cincinnati Bengals"
   ]
  },
  {
   "cell_type": "code",
   "execution_count": 15,
   "id": "3be6276c",
   "metadata": {},
   "outputs": [
    {
     "name": "stdout",
     "output_type": "stream",
     "text": [
      "Cincinnati Bengals Defense Rushing Yards Mean: 1896.090909090909\n",
      "Cincinnati Bengals Defense Rushing Yards Median: 1812.0\n",
      "Cincinnati Bengals Defense Rushing Yards Standard Deviation: 312.51670500805375\n",
      "Cincinnati Bengals Defense Rushing Yards Variance: 97666.6909090909\n",
      "Cincinnati Bengals Defense Rushing Yards Minimum: 1477\n",
      "Cincinnati Bengals Defense Rushing Yards Maximum: 2382\n",
      "Cincinnati Bengals Defense Rushing Yards Range: 905\n",
      "Cincinnati Bengals Total Rushing Yards 2012-2022: 20857\n"
     ]
    }
   ],
   "source": [
    "team_name7 = 'Cincinnati Bengals'\n",
    "bengals_data = nflDrush[nflDrush['Team'] == team_name7]\n",
    "mean_value = bengals_data['Def RushYds'].mean()\n",
    "median_value = bengals_data['Def RushYds'].median()\n",
    "std_value = bengals_data['Def RushYds'].std()\n",
    "var_value = bengals_data['Def RushYds'].var()\n",
    "min_value = bengals_data['Def RushYds'].min()\n",
    "max_value = bengals_data['Def RushYds'].max()\n",
    "data_range = max_value - min_value\n",
    "total_points = bengals_data['Def RushYds'].sum()\n",
    "print(\"Cincinnati Bengals Defense Rushing Yards Mean:\", mean_value)\n",
    "print(\"Cincinnati Bengals Defense Rushing Yards Median:\", median_value)\n",
    "print(\"Cincinnati Bengals Defense Rushing Yards Standard Deviation:\", std_value)\n",
    "print(\"Cincinnati Bengals Defense Rushing Yards Variance:\", var_value)\n",
    "print(\"Cincinnati Bengals Defense Rushing Yards Minimum:\", min_value)\n",
    "print(\"Cincinnati Bengals Defense Rushing Yards Maximum:\", max_value)\n",
    "print(\"Cincinnati Bengals Defense Rushing Yards Range:\", data_range)\n",
    "print(\"Cincinnati Bengals Total Rushing Yards 2012-2022:\", total_points)"
   ]
  },
  {
   "cell_type": "markdown",
   "id": "962e8a66",
   "metadata": {},
   "source": [
    "### Cleveland Browns"
   ]
  },
  {
   "cell_type": "code",
   "execution_count": 16,
   "id": "bb5e5147",
   "metadata": {},
   "outputs": [
    {
     "name": "stdout",
     "output_type": "stream",
     "text": [
      "Cleveland Browns Defense Rushing Yards Mean: 2022.8181818181818\n",
      "Cleveland Browns Defense Rushing Yards Median: 2055.0\n",
      "Cleveland Browns Defense Rushing Yards Standard Deviation: 260.60115816389543\n",
      "Cleveland Browns Defense Rushing Yards Variance: 67912.96363636365\n",
      "Cleveland Browns Defense Rushing Yards Minimum: 1566\n",
      "Cleveland Browns Defense Rushing Yards Maximum: 2315\n",
      "Cleveland Browns Defense Rushing Yards Range: 749\n",
      "Cleveland Browns Total Rushing Yards 2012-2022: 22251\n"
     ]
    }
   ],
   "source": [
    "team_name8 = 'Cleveland Browns'\n",
    "browns_data = nflDrush[nflDrush['Team'] == team_name8]\n",
    "mean_value = browns_data['Def RushYds'].mean()\n",
    "median_value = browns_data['Def RushYds'].median()\n",
    "std_value = browns_data['Def RushYds'].std()\n",
    "var_value = browns_data['Def RushYds'].var()\n",
    "min_value = browns_data['Def RushYds'].min()\n",
    "max_value = browns_data['Def RushYds'].max()\n",
    "data_range = max_value - min_value\n",
    "total_points = browns_data['Def RushYds'].sum()\n",
    "print(\"Cleveland Browns Defense Rushing Yards Mean:\", mean_value)\n",
    "print(\"Cleveland Browns Defense Rushing Yards Median:\", median_value)\n",
    "print(\"Cleveland Browns Defense Rushing Yards Standard Deviation:\", std_value)\n",
    "print(\"Cleveland Browns Defense Rushing Yards Variance:\", var_value)\n",
    "print(\"Cleveland Browns Defense Rushing Yards Minimum:\", min_value)\n",
    "print(\"Cleveland Browns Defense Rushing Yards Maximum:\", max_value)\n",
    "print(\"Cleveland Browns Defense Rushing Yards Range:\", data_range)\n",
    "print(\"Cleveland Browns Total Rushing Yards 2012-2022:\", total_points)"
   ]
  },
  {
   "cell_type": "markdown",
   "id": "dc4980bc",
   "metadata": {},
   "source": [
    "### Dallas Cowboys"
   ]
  },
  {
   "cell_type": "code",
   "execution_count": 17,
   "id": "6546cdd0",
   "metadata": {},
   "outputs": [
    {
     "name": "stdout",
     "output_type": "stream",
     "text": [
      "Dallas Cowboys Defense Rushing Yards Mean: 1860.8181818181818\n",
      "Dallas Cowboys Defense Rushing Yards Median: 1918.0\n",
      "Dallas Cowboys Defense Rushing Yards Standard Deviation: 341.2945408827449\n",
      "Dallas Cowboys Defense Rushing Yards Variance: 116481.96363636362\n",
      "Dallas Cowboys Defense Rushing Yards Minimum: 1336\n",
      "Dallas Cowboys Defense Rushing Yards Maximum: 2541\n",
      "Dallas Cowboys Defense Rushing Yards Range: 1205\n",
      "Dallas Cowboys Total Rushing Yards 2012-2022: 20469\n"
     ]
    }
   ],
   "source": [
    "team_name9 = 'Dallas Cowboys'\n",
    "cowboys_data = nflDrush[nflDrush['Team'] == team_name9]\n",
    "mean_value = cowboys_data['Def RushYds'].mean()\n",
    "median_value = cowboys_data['Def RushYds'].median()\n",
    "std_value = cowboys_data['Def RushYds'].std()\n",
    "var_value = cowboys_data['Def RushYds'].var()\n",
    "min_value = cowboys_data['Def RushYds'].min()\n",
    "max_value = cowboys_data['Def RushYds'].max()\n",
    "data_range = max_value - min_value\n",
    "total_points = cowboys_data['Def RushYds'].sum()\n",
    "print(\"Dallas Cowboys Defense Rushing Yards Mean:\", mean_value)\n",
    "print(\"Dallas Cowboys Defense Rushing Yards Median:\", median_value)\n",
    "print(\"Dallas Cowboys Defense Rushing Yards Standard Deviation:\", std_value)\n",
    "print(\"Dallas Cowboys Defense Rushing Yards Variance:\", var_value)\n",
    "print(\"Dallas Cowboys Defense Rushing Yards Minimum:\", min_value)\n",
    "print(\"Dallas Cowboys Defense Rushing Yards Maximum:\", max_value)\n",
    "print(\"Dallas Cowboys Defense Rushing Yards Range:\", data_range)\n",
    "print(\"Dallas Cowboys Total Rushing Yards 2012-2022:\", total_points)"
   ]
  },
  {
   "cell_type": "markdown",
   "id": "268ac0d5",
   "metadata": {},
   "source": [
    "### Denver Broncos"
   ]
  },
  {
   "cell_type": "code",
   "execution_count": 18,
   "id": "27a23f7f",
   "metadata": {},
   "outputs": [
    {
     "name": "stdout",
     "output_type": "stream",
     "text": [
      "Denver Broncos Defense Rushing Yards Mean: 1704.1818181818182\n",
      "Denver Broncos Defense Rushing Yards Median: 1783.0\n",
      "Denver Broncos Defense Rushing Yards Standard Deviation: 292.8473384484886\n",
      "Denver Broncos Defense Rushing Yards Variance: 85759.56363636363\n",
      "Denver Broncos Defense Rushing Yards Minimum: 1276\n",
      "Denver Broncos Defense Rushing Yards Maximum: 2085\n",
      "Denver Broncos Defense Rushing Yards Range: 809\n",
      "Denver Broncos Total Rushing Yards 2012-2022: 18746\n"
     ]
    }
   ],
   "source": [
    "team_name10 = 'Denver Broncos'\n",
    "broncos_data = nflDrush[nflDrush['Team'] == team_name10]\n",
    "mean_value = broncos_data['Def RushYds'].mean()\n",
    "median_value = broncos_data['Def RushYds'].median()\n",
    "std_value = broncos_data['Def RushYds'].std()\n",
    "var_value = broncos_data['Def RushYds'].var()\n",
    "min_value = broncos_data['Def RushYds'].min()\n",
    "max_value = broncos_data['Def RushYds'].max()\n",
    "data_range = max_value - min_value\n",
    "total_points = broncos_data['Def RushYds'].sum()\n",
    "print(\"Denver Broncos Defense Rushing Yards Mean:\", mean_value)\n",
    "print(\"Denver Broncos Defense Rushing Yards Median:\", median_value)\n",
    "print(\"Denver Broncos Defense Rushing Yards Standard Deviation:\", std_value)\n",
    "print(\"Denver Broncos Defense Rushing Yards Variance:\", var_value)\n",
    "print(\"Denver Broncos Defense Rushing Yards Minimum:\", min_value)\n",
    "print(\"Denver Broncos Defense Rushing Yards Maximum:\", max_value)\n",
    "print(\"Denver Broncos Defense Rushing Yards Range:\", data_range)\n",
    "print(\"Denver Broncos Total Rushing Yards 2012-2022:\", total_points)"
   ]
  },
  {
   "cell_type": "markdown",
   "id": "276a72bc",
   "metadata": {},
   "source": [
    "### Detroit Lions"
   ]
  },
  {
   "cell_type": "code",
   "execution_count": 19,
   "id": "2abbbd15",
   "metadata": {},
   "outputs": [
    {
     "name": "stdout",
     "output_type": "stream",
     "text": [
      "Detroit Lions Defense Rushing Yards Mean: 1860.3636363636363\n",
      "Detroit Lions Defense Rushing Yards Median: 1808.0\n",
      "Detroit Lions Defense Rushing Yards Standard Deviation: 367.8326447522766\n",
      "Detroit Lions Defense Rushing Yards Variance: 135300.85454545455\n",
      "Detroit Lions Defense Rushing Yards Minimum: 1109\n",
      "Detroit Lions Defense Rushing Yards Maximum: 2491\n",
      "Detroit Lions Defense Rushing Yards Range: 1382\n",
      "Detroit Lions Total Rushing Yards 2012-2022: 20464\n"
     ]
    }
   ],
   "source": [
    "team_name11 = 'Detroit Lions'\n",
    "lions_data = nflDrush[nflDrush['Team'] == team_name11]\n",
    "mean_value = lions_data['Def RushYds'].mean()\n",
    "median_value = lions_data['Def RushYds'].median()\n",
    "std_value = lions_data['Def RushYds'].std()\n",
    "var_value = lions_data['Def RushYds'].var()\n",
    "min_value = lions_data['Def RushYds'].min()\n",
    "max_value = lions_data['Def RushYds'].max()\n",
    "data_range = max_value - min_value\n",
    "total_points = lions_data['Def RushYds'].sum()\n",
    "print(\"Detroit Lions Defense Rushing Yards Mean:\", mean_value)\n",
    "print(\"Detroit Lions Defense Rushing Yards Median:\", median_value)\n",
    "print(\"Detroit Lions Defense Rushing Yards Standard Deviation:\", std_value)\n",
    "print(\"Detroit Lions Defense Rushing Yards Variance:\", var_value)\n",
    "print(\"Detroit Lions Defense Rushing Yards Minimum:\", min_value)\n",
    "print(\"Detroit Lions Defense Rushing Yards Maximum:\", max_value)\n",
    "print(\"Detroit Lions Defense Rushing Yards Range:\", data_range)\n",
    "print(\"Detroit Lions Total Rushing Yards 2012-2022:\", total_points)"
   ]
  },
  {
   "cell_type": "markdown",
   "id": "2db5fd4c",
   "metadata": {},
   "source": [
    "### Green Bay Packers"
   ]
  },
  {
   "cell_type": "code",
   "execution_count": 20,
   "id": "120d426d",
   "metadata": {},
   "outputs": [
    {
     "name": "stdout",
     "output_type": "stream",
     "text": [
      "Green Bay Packers Defense Rushing Yards Mean: 1899.909090909091\n",
      "Green Bay Packers Defense Rushing Yards Median: 1905.0\n",
      "Green Bay Packers Defense Rushing Yards Standard Deviation: 201.16533227445257\n",
      "Green Bay Packers Defense Rushing Yards Variance: 40467.490909090906\n",
      "Green Bay Packers Defense Rushing Yards Minimum: 1515\n",
      "Green Bay Packers Defense Rushing Yards Maximum: 2372\n",
      "Green Bay Packers Defense Rushing Yards Range: 857\n",
      "Green Bay Packers Total Rushing Yards 2012-2022: 20899\n"
     ]
    }
   ],
   "source": [
    "team_name12 = 'Green Bay Packers'\n",
    "packers_data = nflDrush[nflDrush['Team'] == team_name12]\n",
    "mean_value = packers_data['Def RushYds'].mean()\n",
    "median_value = packers_data['Def RushYds'].median()\n",
    "std_value = packers_data['Def RushYds'].std()\n",
    "var_value = packers_data['Def RushYds'].var()\n",
    "min_value = packers_data['Def RushYds'].min()\n",
    "max_value = packers_data['Def RushYds'].max()\n",
    "data_range = max_value - min_value\n",
    "total_points = packers_data['Def RushYds'].sum()\n",
    "print(\"Green Bay Packers Defense Rushing Yards Mean:\", mean_value)\n",
    "print(\"Green Bay Packers Defense Rushing Yards Median:\", median_value)\n",
    "print(\"Green Bay Packers Defense Rushing Yards Standard Deviation:\", std_value)\n",
    "print(\"Green Bay Packers Defense Rushing Yards Variance:\", var_value)\n",
    "print(\"Green Bay Packers Defense Rushing Yards Minimum:\", min_value)\n",
    "print(\"Green Bay Packers Defense Rushing Yards Maximum:\", max_value)\n",
    "print(\"Green Bay Packers Defense Rushing Yards Range:\", data_range)\n",
    "print(\"Green Bay Packers Total Rushing Yards 2012-2022:\", total_points)"
   ]
  },
  {
   "cell_type": "markdown",
   "id": "c091afb6",
   "metadata": {},
   "source": [
    "### Houston Texans"
   ]
  },
  {
   "cell_type": "code",
   "execution_count": 21,
   "id": "d2bb9a00",
   "metadata": {},
   "outputs": [
    {
     "name": "stdout",
     "output_type": "stream",
     "text": [
      "Houston Texans Defense Rushing Yards Mean: 1934.0\n",
      "Houston Texans Defense Rushing Yards Median: 1747.0\n",
      "Houston Texans Defense Rushing Yards Standard Deviation: 489.28580604795803\n",
      "Houston Texans Defense Rushing Yards Variance: 239400.6\n",
      "Houston Texans Defense Rushing Yards Minimum: 1323\n",
      "Houston Texans Defense Rushing Yards Maximum: 2894\n",
      "Houston Texans Defense Rushing Yards Range: 1571\n",
      "Houston Texans Total Rushing Yards 2012-2022: 21274\n"
     ]
    }
   ],
   "source": [
    "team_name13 = 'Houston Texans'\n",
    "texans_data = nflDrush[nflDrush['Team'] == team_name13]\n",
    "mean_value = texans_data['Def RushYds'].mean()\n",
    "median_value = texans_data['Def RushYds'].median()\n",
    "std_value = texans_data['Def RushYds'].std()\n",
    "var_value = texans_data['Def RushYds'].var()\n",
    "min_value = texans_data['Def RushYds'].min()\n",
    "max_value = texans_data['Def RushYds'].max()\n",
    "data_range = max_value - min_value\n",
    "total_points = texans_data['Def RushYds'].sum()\n",
    "print(\"Houston Texans Defense Rushing Yards Mean:\", mean_value)\n",
    "print(\"Houston Texans Defense Rushing Yards Median:\", median_value)\n",
    "print(\"Houston Texans Defense Rushing Yards Standard Deviation:\", std_value)\n",
    "print(\"Houston Texans Defense Rushing Yards Variance:\", var_value)\n",
    "print(\"Houston Texans Defense Rushing Yards Minimum:\", min_value)\n",
    "print(\"Houston Texans Defense Rushing Yards Maximum:\", max_value)\n",
    "print(\"Houston Texans Defense Rushing Yards Range:\", data_range)\n",
    "print(\"Houston Texans Total Rushing Yards 2012-2022:\", total_points)"
   ]
  },
  {
   "cell_type": "markdown",
   "id": "1b20dec9",
   "metadata": {},
   "source": [
    "### Indianapolis Colts"
   ]
  },
  {
   "cell_type": "code",
   "execution_count": 22,
   "id": "91456f69",
   "metadata": {},
   "outputs": [
    {
     "name": "stdout",
     "output_type": "stream",
     "text": [
      "Indianapolis Colts Defense Rushing Yards Mean: 1856.8181818181818\n",
      "Indianapolis Colts Defense Rushing Yards Median: 1926.0\n",
      "Indianapolis Colts Defense Rushing Yards Standard Deviation: 229.66576505078774\n",
      "Indianapolis Colts Defense Rushing Yards Variance: 52746.36363636363\n",
      "Indianapolis Colts Defense Rushing Yards Minimum: 1448\n",
      "Indianapolis Colts Defense Rushing Yards Maximum: 2200\n",
      "Indianapolis Colts Defense Rushing Yards Range: 752\n",
      "Indianapolis Colts Total Rushing Yards 2012-2022: 20425\n"
     ]
    }
   ],
   "source": [
    "team_name14 = 'Indianapolis Colts'\n",
    "colts_data = nflDrush[nflDrush['Team'] == team_name14]\n",
    "mean_value = colts_data['Def RushYds'].mean()\n",
    "median_value = colts_data['Def RushYds'].median()\n",
    "std_value = colts_data['Def RushYds'].std()\n",
    "var_value = colts_data['Def RushYds'].var()\n",
    "min_value = colts_data['Def RushYds'].min()\n",
    "max_value = colts_data['Def RushYds'].max()\n",
    "data_range = max_value - min_value\n",
    "total_points = colts_data['Def RushYds'].sum()\n",
    "print(\"Indianapolis Colts Defense Rushing Yards Mean:\", mean_value)\n",
    "print(\"Indianapolis Colts Defense Rushing Yards Median:\", median_value)\n",
    "print(\"Indianapolis Colts Defense Rushing Yards Standard Deviation:\", std_value)\n",
    "print(\"Indianapolis Colts Defense Rushing Yards Variance:\", var_value)\n",
    "print(\"Indianapolis Colts Defense Rushing Yards Minimum:\", min_value)\n",
    "print(\"Indianapolis Colts Defense Rushing Yards Maximum:\", max_value)\n",
    "print(\"Indianapolis Colts Defense Rushing Yards Range:\", data_range)\n",
    "print(\"Indianapolis Colts Total Rushing Yards 2012-2022:\", total_points)"
   ]
  },
  {
   "cell_type": "markdown",
   "id": "f8df3a15",
   "metadata": {},
   "source": [
    "### Jacksonville Jaguars"
   ]
  },
  {
   "cell_type": "code",
   "execution_count": 23,
   "id": "4a9f8452",
   "metadata": {},
   "outputs": [
    {
     "name": "stdout",
     "output_type": "stream",
     "text": [
      "Jacksonville Jaguars Defense Rushing Yards Mean: 2027.090909090909\n",
      "Jacksonville Jaguars Defense Rushing Yards Median: 2033.0\n",
      "Jacksonville Jaguars Defense Rushing Yards Standard Deviation: 235.55910279395042\n",
      "Jacksonville Jaguars Defense Rushing Yards Variance: 55488.090909090904\n",
      "Jacksonville Jaguars Defense Rushing Yards Minimum: 1703\n",
      "Jacksonville Jaguars Defense Rushing Yards Maximum: 2452\n",
      "Jacksonville Jaguars Defense Rushing Yards Range: 749\n",
      "Jacksonville Jaguars Total Rushing Yards 2012-2022: 22298\n"
     ]
    }
   ],
   "source": [
    "team_name15 = 'Jacksonville Jaguars'\n",
    "jaguars_data = nflDrush[nflDrush['Team'] == team_name15]\n",
    "mean_value = jaguars_data['Def RushYds'].mean()\n",
    "median_value = jaguars_data['Def RushYds'].median()\n",
    "std_value = jaguars_data['Def RushYds'].std()\n",
    "var_value = jaguars_data['Def RushYds'].var()\n",
    "min_value = jaguars_data['Def RushYds'].min()\n",
    "max_value = jaguars_data['Def RushYds'].max()\n",
    "data_range = max_value - min_value\n",
    "total_points = jaguars_data['Def RushYds'].sum()\n",
    "print(\"Jacksonville Jaguars Defense Rushing Yards Mean:\", mean_value)\n",
    "print(\"Jacksonville Jaguars Defense Rushing Yards Median:\", median_value)\n",
    "print(\"Jacksonville Jaguars Defense Rushing Yards Standard Deviation:\", std_value)\n",
    "print(\"Jacksonville Jaguars Defense Rushing Yards Variance:\", var_value)\n",
    "print(\"Jacksonville Jaguars Defense Rushing Yards Minimum:\", min_value)\n",
    "print(\"Jacksonville Jaguars Defense Rushing Yards Maximum:\", max_value)\n",
    "print(\"Jacksonville Jaguars Defense Rushing Yards Range:\", data_range)\n",
    "print(\"Jacksonville Jaguars Total Rushing Yards 2012-2022:\", total_points)"
   ]
  },
  {
   "cell_type": "markdown",
   "id": "bbf902cd",
   "metadata": {},
   "source": [
    "### Kansas City Chiefs"
   ]
  },
  {
   "cell_type": "code",
   "execution_count": 24,
   "id": "3df66572",
   "metadata": {},
   "outputs": [
    {
     "name": "stdout",
     "output_type": "stream",
     "text": [
      "Kansas City Chiefs Defense Rushing Yards Mean: 1951.8181818181818\n",
      "Kansas City Chiefs Defense Rushing Yards Median: 1954.0\n",
      "Kansas City Chiefs Defense Rushing Yards Standard Deviation: 161.23201802484405\n",
      "Kansas City Chiefs Defense Rushing Yards Variance: 25995.76363636364\n",
      "Kansas City Chiefs Defense Rushing Yards Minimum: 1571\n",
      "Kansas City Chiefs Defense Rushing Yards Maximum: 2171\n",
      "Kansas City Chiefs Defense Rushing Yards Range: 600\n",
      "Kansas City Chiefs Total Rushing Yards 2012-2022: 21470\n"
     ]
    }
   ],
   "source": [
    "team_name16 = 'Kansas City Chiefs'\n",
    "chiefs_data = nflDrush[nflDrush['Team'] == team_name16]\n",
    "mean_value = chiefs_data['Def RushYds'].mean()\n",
    "median_value = chiefs_data['Def RushYds'].median()\n",
    "std_value = chiefs_data['Def RushYds'].std()\n",
    "var_value = chiefs_data['Def RushYds'].var()\n",
    "min_value = chiefs_data['Def RushYds'].min()\n",
    "max_value = chiefs_data['Def RushYds'].max()\n",
    "data_range = max_value - min_value\n",
    "total_points = chiefs_data['Def RushYds'].sum()\n",
    "print(\"Kansas City Chiefs Defense Rushing Yards Mean:\", mean_value)\n",
    "print(\"Kansas City Chiefs Defense Rushing Yards Median:\", median_value)\n",
    "print(\"Kansas City Chiefs Defense Rushing Yards Standard Deviation:\", std_value)\n",
    "print(\"Kansas City Chiefs Defense Rushing Yards Variance:\", var_value)\n",
    "print(\"Kansas City Chiefs Defense Rushing Yards Minimum:\", min_value)\n",
    "print(\"Kansas City Chiefs Defense Rushing Yards Maximum:\", max_value)\n",
    "print(\"Kansas City Chiefs Defense Rushing Yards Range:\", data_range)\n",
    "print(\"Kansas City Chiefs Total Rushing Yards 2012-2022:\", total_points)"
   ]
  },
  {
   "cell_type": "markdown",
   "id": "a718e716",
   "metadata": {},
   "source": [
    "### Las Vegas Raiders"
   ]
  },
  {
   "cell_type": "code",
   "execution_count": 25,
   "id": "2ddc0481",
   "metadata": {},
   "outputs": [
    {
     "name": "stdout",
     "output_type": "stream",
     "text": [
      "Las Vegas Raiders Defense Rushing Yards Mean: 1881.7272727272727\n",
      "Las Vegas Raiders Defense Rushing Yards Median: 1897.0\n",
      "Las Vegas Raiders Defense Rushing Yards Standard Deviation: 195.18406231508297\n",
      "Las Vegas Raiders Defense Rushing Yards Variance: 38096.81818181819\n",
      "Las Vegas Raiders Defense Rushing Yards Minimum: 1570\n",
      "Las Vegas Raiders Defense Rushing Yards Maximum: 2249\n",
      "Las Vegas Raiders Defense Rushing Yards Range: 679\n",
      "Las Vegas Raiders Total Rushing Yards 2012-2022: 20699\n"
     ]
    }
   ],
   "source": [
    "team_name17 = 'Las Vegas Raiders'\n",
    "raiders_data = nflDrush[nflDrush['Team'] == team_name17]\n",
    "mean_value = raiders_data['Def RushYds'].mean()\n",
    "median_value = raiders_data['Def RushYds'].median()\n",
    "std_value = raiders_data['Def RushYds'].std()\n",
    "var_value = raiders_data['Def RushYds'].var()\n",
    "min_value = raiders_data['Def RushYds'].min()\n",
    "max_value = raiders_data['Def RushYds'].max()\n",
    "data_range = max_value - min_value\n",
    "total_points = raiders_data['Def RushYds'].sum()\n",
    "print(\"Las Vegas Raiders Defense Rushing Yards Mean:\", mean_value)\n",
    "print(\"Las Vegas Raiders Defense Rushing Yards Median:\", median_value)\n",
    "print(\"Las Vegas Raiders Defense Rushing Yards Standard Deviation:\", std_value)\n",
    "print(\"Las Vegas Raiders Defense Rushing Yards Variance:\", var_value)\n",
    "print(\"Las Vegas Raiders Defense Rushing Yards Minimum:\", min_value)\n",
    "print(\"Las Vegas Raiders Defense Rushing Yards Maximum:\", max_value)\n",
    "print(\"Las Vegas Raiders Defense Rushing Yards Range:\", data_range)\n",
    "print(\"Las Vegas Raiders Total Rushing Yards 2012-2022:\", total_points)"
   ]
  },
  {
   "cell_type": "markdown",
   "id": "42a247b8",
   "metadata": {},
   "source": [
    "### Los Angeles Chargers"
   ]
  },
  {
   "cell_type": "code",
   "execution_count": 26,
   "id": "17f08503",
   "metadata": {},
   "outputs": [
    {
     "name": "stdout",
     "output_type": "stream",
     "text": [
      "Los Angeles Chargers Defense Rushing Yards Mean: 1925.1818181818182\n",
      "Los Angeles Chargers Defense Rushing Yards Median: 1917.0\n",
      "Los Angeles Chargers Defense Rushing Yards Standard Deviation: 303.1659011768369\n",
      "Los Angeles Chargers Defense Rushing Yards Variance: 91909.56363636363\n",
      "Los Angeles Chargers Defense Rushing Yards Minimum: 1542\n",
      "Los Angeles Chargers Defense Rushing Yards Maximum: 2478\n",
      "Los Angeles Chargers Defense Rushing Yards Range: 936\n",
      "Los Angeles Chargers Total Rushing Yards 2012-2022: 21177\n"
     ]
    }
   ],
   "source": [
    "team_name18 = 'Los Angeles Chargers'\n",
    "chargers_data = nflDrush[nflDrush['Team'] == team_name18]\n",
    "mean_value = chargers_data['Def RushYds'].mean()\n",
    "median_value = chargers_data['Def RushYds'].median()\n",
    "std_value = chargers_data['Def RushYds'].std()\n",
    "var_value = chargers_data['Def RushYds'].var()\n",
    "min_value = chargers_data['Def RushYds'].min()\n",
    "max_value = chargers_data['Def RushYds'].max()\n",
    "data_range = max_value - min_value\n",
    "total_points = chargers_data['Def RushYds'].sum()\n",
    "print(\"Los Angeles Chargers Defense Rushing Yards Mean:\", mean_value)\n",
    "print(\"Los Angeles Chargers Defense Rushing Yards Median:\", median_value)\n",
    "print(\"Los Angeles Chargers Defense Rushing Yards Standard Deviation:\", std_value)\n",
    "print(\"Los Angeles Chargers Defense Rushing Yards Variance:\", var_value)\n",
    "print(\"Los Angeles Chargers Defense Rushing Yards Minimum:\", min_value)\n",
    "print(\"Los Angeles Chargers Defense Rushing Yards Maximum:\", max_value)\n",
    "print(\"Los Angeles Chargers Defense Rushing Yards Range:\", data_range)\n",
    "print(\"Los Angeles Chargers Total Rushing Yards 2012-2022:\", total_points)"
   ]
  },
  {
   "cell_type": "markdown",
   "id": "4a843b70",
   "metadata": {},
   "source": [
    "### Los Angeles Rams"
   ]
  },
  {
   "cell_type": "code",
   "execution_count": 27,
   "id": "b73545ca",
   "metadata": {},
   "outputs": [
    {
     "name": "stdout",
     "output_type": "stream",
     "text": [
      "Los Angeles Rams Defense Rushing Yards Mean: 1787.6363636363637\n",
      "Los Angeles Rams Defense Rushing Yards Median: 1809.0\n",
      "Los Angeles Rams Defense Rushing Yards Standard Deviation: 155.2709069512204\n",
      "Los Angeles Rams Defense Rushing Yards Variance: 24109.054545454546\n",
      "Los Angeles Rams Defense Rushing Yards Minimum: 1460\n",
      "Los Angeles Rams Defense Rushing Yards Maximum: 1957\n",
      "Los Angeles Rams Defense Rushing Yards Range: 497\n",
      "Los Angeles Rams Total Rushing Yards 2012-2022: 19664\n"
     ]
    }
   ],
   "source": [
    "team_name19 = 'Los Angeles Rams'\n",
    "Rams_data = nflDrush[nflDrush['Team'] == team_name19]\n",
    "mean_value = Rams_data['Def RushYds'].mean()\n",
    "median_value = Rams_data['Def RushYds'].median()\n",
    "std_value = Rams_data['Def RushYds'].std()\n",
    "var_value = Rams_data['Def RushYds'].var()\n",
    "min_value = Rams_data['Def RushYds'].min()\n",
    "max_value = Rams_data['Def RushYds'].max()\n",
    "data_range = max_value - min_value\n",
    "total_points = Rams_data['Def RushYds'].sum()\n",
    "print(\"Los Angeles Rams Defense Rushing Yards Mean:\", mean_value)\n",
    "print(\"Los Angeles Rams Defense Rushing Yards Median:\", median_value)\n",
    "print(\"Los Angeles Rams Defense Rushing Yards Standard Deviation:\", std_value)\n",
    "print(\"Los Angeles Rams Defense Rushing Yards Variance:\", var_value)\n",
    "print(\"Los Angeles Rams Defense Rushing Yards Minimum:\", min_value)\n",
    "print(\"Los Angeles Rams Defense Rushing Yards Maximum:\", max_value)\n",
    "print(\"Los Angeles Rams Defense Rushing Yards Range:\", data_range)\n",
    "print(\"Los Angeles Rams Total Rushing Yards 2012-2022:\", total_points)"
   ]
  },
  {
   "cell_type": "markdown",
   "id": "b95c2656",
   "metadata": {},
   "source": [
    "### Miami Dolphins"
   ]
  },
  {
   "cell_type": "code",
   "execution_count": 28,
   "id": "37582447",
   "metadata": {},
   "outputs": [
    {
     "name": "stdout",
     "output_type": "stream",
     "text": [
      "Miami Dolphins Defense Rushing Yards Mean: 1970.3636363636363\n",
      "Miami Dolphins Defense Rushing Yards Median: 1937.0\n",
      "Miami Dolphins Defense Rushing Yards Standard Deviation: 203.02131549533055\n",
      "Miami Dolphins Defense Rushing Yards Variance: 41217.65454545455\n",
      "Miami Dolphins Defense Rushing Yards Minimum: 1734\n",
      "Miami Dolphins Defense Rushing Yards Maximum: 2325\n",
      "Miami Dolphins Defense Rushing Yards Range: 591\n",
      "Miami Dolphins Total Rushing Yards 2012-2022: 21674\n"
     ]
    }
   ],
   "source": [
    "team_name20 = 'Miami Dolphins'\n",
    "dolphins_data = nflDrush[nflDrush['Team'] == team_name20]\n",
    "mean_value = dolphins_data['Def RushYds'].mean()\n",
    "median_value = dolphins_data['Def RushYds'].median()\n",
    "std_value = dolphins_data['Def RushYds'].std()\n",
    "var_value = dolphins_data['Def RushYds'].var()\n",
    "min_value = dolphins_data['Def RushYds'].min()\n",
    "max_value = dolphins_data['Def RushYds'].max()\n",
    "data_range = max_value - min_value\n",
    "total_points = dolphins_data['Def RushYds'].sum()\n",
    "print(\"Miami Dolphins Defense Rushing Yards Mean:\", mean_value)\n",
    "print(\"Miami Dolphins Defense Rushing Yards Median:\", median_value)\n",
    "print(\"Miami Dolphins Defense Rushing Yards Standard Deviation:\", std_value)\n",
    "print(\"Miami Dolphins Defense Rushing Yards Variance:\", var_value)\n",
    "print(\"Miami Dolphins Defense Rushing Yards Minimum:\", min_value)\n",
    "print(\"Miami Dolphins Defense Rushing Yards Maximum:\", max_value)\n",
    "print(\"Miami Dolphins Defense Rushing Yards Range:\", data_range)\n",
    "print(\"Miami Dolphins Total Rushing Yards 2012-2022:\", total_points)"
   ]
  },
  {
   "cell_type": "markdown",
   "id": "6069914e",
   "metadata": {},
   "source": [
    "### Minnesota Vikings"
   ]
  },
  {
   "cell_type": "code",
   "execution_count": 29,
   "id": "ec087d3b",
   "metadata": {},
   "outputs": [
    {
     "name": "stdout",
     "output_type": "stream",
     "text": [
      "Minnesota Vikings Defense Rushing Yards Mean: 1837.0\n",
      "Minnesota Vikings Defense Rushing Yards Median: 1767.0\n",
      "Minnesota Vikings Defense Rushing Yards Standard Deviation: 252.1269521491108\n",
      "Minnesota Vikings Defense Rushing Yards Variance: 63568.0\n",
      "Minnesota Vikings Defense Rushing Yards Minimum: 1337\n",
      "Minnesota Vikings Defense Rushing Yards Maximum: 2222\n",
      "Minnesota Vikings Defense Rushing Yards Range: 885\n",
      "Minnesota Vikings Total Rushing Yards 2012-2022: 20207\n"
     ]
    }
   ],
   "source": [
    "team_name21 = 'Minnesota Vikings'\n",
    "vikings_data = nflDrush[nflDrush['Team'] == team_name21]\n",
    "mean_value = vikings_data['Def RushYds'].mean()\n",
    "median_value = vikings_data['Def RushYds'].median()\n",
    "std_value = vikings_data['Def RushYds'].std()\n",
    "var_value = vikings_data['Def RushYds'].var()\n",
    "min_value = vikings_data['Def RushYds'].min()\n",
    "max_value = vikings_data['Def RushYds'].max()\n",
    "data_range = max_value - min_value\n",
    "total_points = vikings_data['Def RushYds'].sum()\n",
    "print(\"Minnesota Vikings Defense Rushing Yards Mean:\", mean_value)\n",
    "print(\"Minnesota Vikings Defense Rushing Yards Median:\", median_value)\n",
    "print(\"Minnesota Vikings Defense Rushing Yards Standard Deviation:\", std_value)\n",
    "print(\"Minnesota Vikings Defense Rushing Yards Variance:\", var_value)\n",
    "print(\"Minnesota Vikings Defense Rushing Yards Minimum:\", min_value)\n",
    "print(\"Minnesota Vikings Defense Rushing Yards Maximum:\", max_value)\n",
    "print(\"Minnesota Vikings Defense Rushing Yards Range:\", data_range)\n",
    "print(\"Minnesota Vikings Total Rushing Yards 2012-2022:\", total_points)"
   ]
  },
  {
   "cell_type": "markdown",
   "id": "63b77a58",
   "metadata": {},
   "source": [
    "### New England Patriots"
   ]
  },
  {
   "cell_type": "code",
   "execution_count": 30,
   "id": "ede6aca2",
   "metadata": {},
   "outputs": [
    {
     "name": "stdout",
     "output_type": "stream",
     "text": [
      "New England Patriots Defense Rushing Yards Mean: 1782.4545454545455\n",
      "New England Patriots Defense Rushing Yards Median: 1793.0\n",
      "New England Patriots Defense Rushing Yards Standard Deviation: 248.14204143448308\n",
      "New England Patriots Defense Rushing Yards Variance: 61574.47272727272\n",
      "New England Patriots Defense Rushing Yards Minimum: 1417\n",
      "New England Patriots Defense Rushing Yards Maximum: 2145\n",
      "New England Patriots Defense Rushing Yards Range: 728\n",
      "New England Patriots Total Rushing Yards 2012-2022: 19607\n"
     ]
    }
   ],
   "source": [
    "team_name22 = 'New England Patriots'\n",
    "patriots_data = nflDrush[nflDrush['Team'] == team_name22]\n",
    "mean_value = patriots_data['Def RushYds'].mean()\n",
    "median_value = patriots_data['Def RushYds'].median()\n",
    "std_value = patriots_data['Def RushYds'].std()\n",
    "var_value = patriots_data['Def RushYds'].var()\n",
    "min_value = patriots_data['Def RushYds'].min()\n",
    "max_value = patriots_data['Def RushYds'].max()\n",
    "data_range = max_value - min_value\n",
    "total_points = patriots_data['Def RushYds'].sum()\n",
    "print(\"New England Patriots Defense Rushing Yards Mean:\", mean_value)\n",
    "print(\"New England Patriots Defense Rushing Yards Median:\", median_value)\n",
    "print(\"New England Patriots Defense Rushing Yards Standard Deviation:\", std_value)\n",
    "print(\"New England Patriots Defense Rushing Yards Variance:\", var_value)\n",
    "print(\"New England Patriots Defense Rushing Yards Minimum:\", min_value)\n",
    "print(\"New England Patriots Defense Rushing Yards Maximum:\", max_value)\n",
    "print(\"New England Patriots Defense Rushing Yards Range:\", data_range)\n",
    "print(\"New England Patriots Total Rushing Yards 2012-2022:\", total_points)"
   ]
  },
  {
   "cell_type": "markdown",
   "id": "e1872052",
   "metadata": {},
   "source": [
    "### New Orleans Saints"
   ]
  },
  {
   "cell_type": "code",
   "execution_count": 31,
   "id": "64ef690b",
   "metadata": {},
   "outputs": [
    {
     "name": "stdout",
     "output_type": "stream",
     "text": [
      "New Orleans Saints Defense Rushing Yards Mean: 1852.6\n",
      "New Orleans Saints Defense Rushing Yards Median: 1786.5\n",
      "New Orleans Saints Defense Rushing Yards Standard Deviation: 319.67525188332405\n",
      "New Orleans Saints Defense Rushing Yards Variance: 102192.26666666666\n",
      "New Orleans Saints Defense Rushing Yards Minimum: 1461\n",
      "New Orleans Saints Defense Rushing Yards Maximum: 2361\n",
      "New Orleans Saints Defense Rushing Yards Range: 900\n",
      "New Orleans Saints Total Rushing Yards 2012-2022: 18526\n"
     ]
    }
   ],
   "source": [
    "team_name23 = 'New Orleans Saints'\n",
    "saints_data = nflDrush[nflDrush['Team'] == team_name23]\n",
    "mean_value = saints_data['Def RushYds'].mean()\n",
    "median_value = saints_data['Def RushYds'].median()\n",
    "std_value = saints_data['Def RushYds'].std()\n",
    "var_value = saints_data['Def RushYds'].var()\n",
    "min_value = saints_data['Def RushYds'].min()\n",
    "max_value = saints_data['Def RushYds'].max()\n",
    "data_range = max_value - min_value\n",
    "total_points = saints_data['Def RushYds'].sum()\n",
    "print(\"New Orleans Saints Defense Rushing Yards Mean:\", mean_value)\n",
    "print(\"New Orleans Saints Defense Rushing Yards Median:\", median_value)\n",
    "print(\"New Orleans Saints Defense Rushing Yards Standard Deviation:\", std_value)\n",
    "print(\"New Orleans Saints Defense Rushing Yards Variance:\", var_value)\n",
    "print(\"New Orleans Saints Defense Rushing Yards Minimum:\", min_value)\n",
    "print(\"New Orleans Saints Defense Rushing Yards Maximum:\", max_value)\n",
    "print(\"New Orleans Saints Defense Rushing Yards Range:\", data_range)\n",
    "print(\"New Orleans Saints Total Rushing Yards 2012-2022:\", total_points)"
   ]
  },
  {
   "cell_type": "markdown",
   "id": "7578e136",
   "metadata": {},
   "source": [
    "### New York Giants"
   ]
  },
  {
   "cell_type": "code",
   "execution_count": 32,
   "id": "c1c4f182",
   "metadata": {},
   "outputs": [
    {
     "name": "stdout",
     "output_type": "stream",
     "text": [
      "New York Giants Defense Rushing Yards Mean: 1945.3636363636363\n",
      "New York Giants Defense Rushing Yards Median: 1933.0\n",
      "New York Giants Defense Rushing Yards Standard Deviation: 273.03416369651353\n",
      "New York Giants Defense Rushing Yards Variance: 74547.65454545454\n",
      "New York Giants Defense Rushing Yards Minimum: 1417\n",
      "New York Giants Defense Rushing Yards Maximum: 2451\n",
      "New York Giants Defense Rushing Yards Range: 1034\n",
      "New York Giants Total Rushing Yards 2012-2022: 21399\n"
     ]
    }
   ],
   "source": [
    "team_name24 = 'New York Giants'\n",
    "giants_data = nflDrush[nflDrush['Team'] == team_name24]\n",
    "mean_value = giants_data['Def RushYds'].mean()\n",
    "median_value = giants_data['Def RushYds'].median()\n",
    "std_value = giants_data['Def RushYds'].std()\n",
    "var_value = giants_data['Def RushYds'].var()\n",
    "min_value = giants_data['Def RushYds'].min()\n",
    "max_value = giants_data['Def RushYds'].max()\n",
    "data_range = max_value - min_value\n",
    "total_points = giants_data['Def RushYds'].sum()\n",
    "print(\"New York Giants Defense Rushing Yards Mean:\", mean_value)\n",
    "print(\"New York Giants Defense Rushing Yards Median:\", median_value)\n",
    "print(\"New York Giants Defense Rushing Yards Standard Deviation:\", std_value)\n",
    "print(\"New York Giants Defense Rushing Yards Variance:\", var_value)\n",
    "print(\"New York Giants Defense Rushing Yards Minimum:\", min_value)\n",
    "print(\"New York Giants Defense Rushing Yards Maximum:\", max_value)\n",
    "print(\"New York Giants Defense Rushing Yards Range:\", data_range)\n",
    "print(\"New York Giants Total Rushing Yards 2012-2022:\", total_points)"
   ]
  },
  {
   "cell_type": "markdown",
   "id": "3119cc98",
   "metadata": {},
   "source": [
    "### New York Jets"
   ]
  },
  {
   "cell_type": "code",
   "execution_count": 33,
   "id": "e10d2973",
   "metadata": {},
   "outputs": [
    {
     "name": "stdout",
     "output_type": "stream",
     "text": [
      "New York Jets Defense Rushing Yards Mean: 1769.5454545454545\n",
      "New York Jets Defense Rushing Yards Median: 1792.0\n",
      "New York Jets Defense Rushing Yards Standard Deviation: 348.52155274426394\n",
      "New York Jets Defense Rushing Yards Variance: 121467.27272727274\n",
      "New York Jets Defense Rushing Yards Minimum: 1335\n",
      "New York Jets Defense Rushing Yards Maximum: 2351\n",
      "New York Jets Defense Rushing Yards Range: 1016\n",
      "New York Jets Total Rushing Yards 2012-2022: 19465\n"
     ]
    }
   ],
   "source": [
    "team_name25 = 'New York Jets'\n",
    "Jets_data = nflDrush[nflDrush['Team'] == team_name25]\n",
    "mean_value = Jets_data['Def RushYds'].mean()\n",
    "median_value = Jets_data['Def RushYds'].median()\n",
    "std_value = Jets_data['Def RushYds'].std()\n",
    "var_value = Jets_data['Def RushYds'].var()\n",
    "min_value = Jets_data['Def RushYds'].min()\n",
    "max_value = Jets_data['Def RushYds'].max()\n",
    "data_range = max_value - min_value\n",
    "total_points = Jets_data['Def RushYds'].sum()\n",
    "print(\"New York Jets Defense Rushing Yards Mean:\", mean_value)\n",
    "print(\"New York Jets Defense Rushing Yards Median:\", median_value)\n",
    "print(\"New York Jets Defense Rushing Yards Standard Deviation:\", std_value)\n",
    "print(\"New York Jets Defense Rushing Yards Variance:\", var_value)\n",
    "print(\"New York Jets Defense Rushing Yards Minimum:\", min_value)\n",
    "print(\"New York Jets Defense Rushing Yards Maximum:\", max_value)\n",
    "print(\"New York Jets Defense Rushing Yards Range:\", data_range)\n",
    "print(\"New York Jets Total Rushing Yards 2012-2022:\", total_points)"
   ]
  },
  {
   "cell_type": "markdown",
   "id": "751ff2a9",
   "metadata": {},
   "source": [
    "### Philadelphia Eagles"
   ]
  },
  {
   "cell_type": "code",
   "execution_count": 34,
   "id": "b4d6479d",
   "metadata": {},
   "outputs": [
    {
     "name": "stdout",
     "output_type": "stream",
     "text": [
      "Philadelphia Eagles Defense Rushing Yards Mean: 1767.1818181818182\n",
      "Philadelphia Eagles Defense Rushing Yards Median: 1771.0\n",
      "Philadelphia Eagles Defense Rushing Yards Standard Deviation: 281.7711192375181\n",
      "Philadelphia Eagles Defense Rushing Yards Variance: 79394.96363636365\n",
      "Philadelphia Eagles Defense Rushing Yards Minimum: 1267\n",
      "Philadelphia Eagles Defense Rushing Yards Maximum: 2153\n",
      "Philadelphia Eagles Defense Rushing Yards Range: 886\n",
      "Philadelphia Eagles Total Rushing Yards 2012-2022: 19439\n"
     ]
    }
   ],
   "source": [
    "team_name26 = 'Philadelphia Eagles'\n",
    "eagles_data = nflDrush[nflDrush['Team'] == team_name26]\n",
    "mean_value = eagles_data['Def RushYds'].mean()\n",
    "median_value = eagles_data['Def RushYds'].median()\n",
    "std_value = eagles_data['Def RushYds'].std()\n",
    "var_value = eagles_data['Def RushYds'].var()\n",
    "min_value = eagles_data['Def RushYds'].min()\n",
    "max_value = eagles_data['Def RushYds'].max()\n",
    "data_range = max_value - min_value\n",
    "total_points = eagles_data['Def RushYds'].sum()\n",
    "print(\"Philadelphia Eagles Defense Rushing Yards Mean:\", mean_value)\n",
    "print(\"Philadelphia Eagles Defense Rushing Yards Median:\", median_value)\n",
    "print(\"Philadelphia Eagles Defense Rushing Yards Standard Deviation:\", std_value)\n",
    "print(\"Philadelphia Eagles Defense Rushing Yards Variance:\", var_value)\n",
    "print(\"Philadelphia Eagles Defense Rushing Yards Minimum:\", min_value)\n",
    "print(\"Philadelphia Eagles Defense Rushing Yards Maximum:\", max_value)\n",
    "print(\"Philadelphia Eagles Defense Rushing Yards Range:\", data_range)\n",
    "print(\"Philadelphia Eagles Total Rushing Yards 2012-2022:\", total_points)"
   ]
  },
  {
   "cell_type": "markdown",
   "id": "631e38b3",
   "metadata": {},
   "source": [
    "### Pittsburgh Steelers"
   ]
  },
  {
   "cell_type": "code",
   "execution_count": 35,
   "id": "15659f0e",
   "metadata": {
    "scrolled": true
   },
   "outputs": [
    {
     "name": "stdout",
     "output_type": "stream",
     "text": [
      "Pittsburgh Steelers Defense Rushing Yards Mean: 1731.909090909091\n",
      "Pittsburgh Steelers Defense Rushing Yards Median: 1693.0\n",
      "Pittsburgh Steelers Defense Rushing Yards Standard Deviation: 286.1347425760998\n",
      "Pittsburgh Steelers Defense Rushing Yards Variance: 81873.09090909091\n",
      "Pittsburgh Steelers Defense Rushing Yards Minimum: 1450\n",
      "Pittsburgh Steelers Defense Rushing Yards Maximum: 2483\n",
      "Pittsburgh Steelers Defense Rushing Yards Range: 1033\n",
      "Pittsburgh Steelers Total Rushing Yards 2012-2022: 19051\n"
     ]
    }
   ],
   "source": [
    "team_name27 = 'Pittsburgh Steelers'\n",
    "steelers_data = nflDrush[nflDrush['Team'] == team_name27]\n",
    "mean_value = steelers_data['Def RushYds'].mean()\n",
    "median_value = steelers_data['Def RushYds'].median()\n",
    "std_value = steelers_data['Def RushYds'].std()\n",
    "var_value = steelers_data['Def RushYds'].var()\n",
    "min_value = steelers_data['Def RushYds'].min()\n",
    "max_value = steelers_data['Def RushYds'].max()\n",
    "data_range = max_value - min_value\n",
    "total_points = steelers_data['Def RushYds'].sum()\n",
    "print(\"Pittsburgh Steelers Defense Rushing Yards Mean:\", mean_value)\n",
    "print(\"Pittsburgh Steelers Defense Rushing Yards Median:\", median_value)\n",
    "print(\"Pittsburgh Steelers Defense Rushing Yards Standard Deviation:\", std_value)\n",
    "print(\"Pittsburgh Steelers Defense Rushing Yards Variance:\", var_value)\n",
    "print(\"Pittsburgh Steelers Defense Rushing Yards Minimum:\", min_value)\n",
    "print(\"Pittsburgh Steelers Defense Rushing Yards Maximum:\", max_value)\n",
    "print(\"Pittsburgh Steelers Defense Rushing Yards Range:\", data_range)\n",
    "print(\"Pittsburgh Steelers Total Rushing Yards 2012-2022:\", total_points)"
   ]
  },
  {
   "cell_type": "markdown",
   "id": "81d6493d",
   "metadata": {},
   "source": [
    "### San Francisco 49ers"
   ]
  },
  {
   "cell_type": "code",
   "execution_count": 36,
   "id": "65ddd0f9",
   "metadata": {},
   "outputs": [
    {
     "name": "stdout",
     "output_type": "stream",
     "text": [
      "San Francisco 49ers Defense Rushing Yards Mean: 1780.8181818181818\n",
      "San Francisco 49ers Defense Rushing Yards Median: 1760.0\n",
      "San Francisco 49ers Defense Rushing Yards Standard Deviation: 347.77257458914676\n",
      "San Francisco 49ers Defense Rushing Yards Variance: 120945.76363636364\n",
      "San Francisco 49ers Defense Rushing Yards Minimum: 1321\n",
      "San Francisco 49ers Defense Rushing Yards Maximum: 2654\n",
      "San Francisco 49ers Defense Rushing Yards Rushing YardsRange: 1333\n",
      "San Francisco 49ers Total Rushing Yards 2012-2022: 19589\n"
     ]
    }
   ],
   "source": [
    "team_name28 = 'San Francisco 49ers'\n",
    "niners_data = nflDrush[nflDrush['Team'] == team_name28]\n",
    "mean_value = niners_data['Def RushYds'].mean()\n",
    "median_value = niners_data['Def RushYds'].median()\n",
    "std_value = niners_data['Def RushYds'].std()\n",
    "var_value = niners_data['Def RushYds'].var()\n",
    "min_value = niners_data['Def RushYds'].min()\n",
    "max_value = niners_data['Def RushYds'].max()\n",
    "data_range = max_value - min_value\n",
    "total_points = niners_data['Def RushYds'].sum()\n",
    "print(\"San Francisco 49ers Defense Rushing Yards Mean:\", mean_value)\n",
    "print(\"San Francisco 49ers Defense Rushing Yards Median:\", median_value)\n",
    "print(\"San Francisco 49ers Defense Rushing Yards Standard Deviation:\", std_value)\n",
    "print(\"San Francisco 49ers Defense Rushing Yards Variance:\", var_value)\n",
    "print(\"San Francisco 49ers Defense Rushing Yards Minimum:\", min_value)\n",
    "print(\"San Francisco 49ers Defense Rushing Yards Maximum:\", max_value)\n",
    "print(\"San Francisco 49ers Defense Rushing Yards Rushing YardsRange:\", data_range)\n",
    "print(\"San Francisco 49ers Total Rushing Yards 2012-2022:\", total_points)"
   ]
  },
  {
   "cell_type": "markdown",
   "id": "f2853461",
   "metadata": {},
   "source": [
    "### Tampa Bay Buccaneers"
   ]
  },
  {
   "cell_type": "code",
   "execution_count": 37,
   "id": "4d9f95d5",
   "metadata": {},
   "outputs": [
    {
     "name": "stdout",
     "output_type": "stream",
     "text": [
      "Tampa Bay Buccaneers Defense Rushing Yards Mean: 1667.2727272727273\n",
      "Tampa Bay Buccaneers Defense Rushing Yards Median: 1762.0\n",
      "Tampa Bay Buccaneers Defense Rushing Yards Standard Deviation: 296.7976047440717\n",
      "Tampa Bay Buccaneers Defense Rushing Yards Variance: 88088.81818181819\n",
      "Tampa Bay Buccaneers Defense Rushing Yards Minimum: 1181\n",
      "Tampa Bay Buccaneers Defense Rushing Yards Maximum: 2052\n",
      "Tampa Bay Buccaneers Defense Rushing Yards Range: 871\n",
      "Tampa Bay Buccaneers Total Rushing Yards 2012-2022: 18340\n"
     ]
    }
   ],
   "source": [
    "team_name29 = 'Tampa Bay Buccaneers'\n",
    "buccaneers_data = nflDrush[nflDrush['Team'] == team_name29]\n",
    "mean_value = buccaneers_data['Def RushYds'].mean()\n",
    "median_value = buccaneers_data['Def RushYds'].median()\n",
    "std_value = buccaneers_data['Def RushYds'].std()\n",
    "var_value = buccaneers_data['Def RushYds'].var()\n",
    "min_value = buccaneers_data['Def RushYds'].min()\n",
    "max_value = buccaneers_data['Def RushYds'].max()\n",
    "data_range = max_value - min_value\n",
    "total_points = buccaneers_data['Def RushYds'].sum()\n",
    "print(\"Tampa Bay Buccaneers Defense Rushing Yards Mean:\", mean_value)\n",
    "print(\"Tampa Bay Buccaneers Defense Rushing Yards Median:\", median_value)\n",
    "print(\"Tampa Bay Buccaneers Defense Rushing Yards Standard Deviation:\", std_value)\n",
    "print(\"Tampa Bay Buccaneers Defense Rushing Yards Variance:\", var_value)\n",
    "print(\"Tampa Bay Buccaneers Defense Rushing Yards Minimum:\", min_value)\n",
    "print(\"Tampa Bay Buccaneers Defense Rushing Yards Maximum:\", max_value)\n",
    "print(\"Tampa Bay Buccaneers Defense Rushing Yards Range:\", data_range)\n",
    "print(\"Tampa Bay Buccaneers Total Rushing Yards 2012-2022:\", total_points)"
   ]
  },
  {
   "cell_type": "markdown",
   "id": "751f07e6",
   "metadata": {},
   "source": [
    "### Tennessee Titans"
   ]
  },
  {
   "cell_type": "code",
   "execution_count": 38,
   "id": "3f0ecffe",
   "metadata": {},
   "outputs": [
    {
     "name": "stdout",
     "output_type": "stream",
     "text": [
      "Tennessee Titans Defense Rushing Yards Mean: 1715.2727272727273\n",
      "Tennessee Titans Defense Rushing Yards Median: 1795.0\n",
      "Tennessee Titans Defense Rushing Yards Standard Deviation: 289.5897411543064\n",
      "Tennessee Titans Defense Rushing Yards Variance: 83862.21818181819\n",
      "Tennessee Titans Defense Rushing Yards Minimum: 1307\n",
      "Tennessee Titans Defense Rushing Yards Maximum: 2195\n",
      "Tennessee Titans Defense Rushing Yards Range: 888\n",
      "Tennessee Titans Total Rushing Yards 2012-2022: 18868\n"
     ]
    }
   ],
   "source": [
    "team_name30 = 'Tennessee Titans'\n",
    "titans_data = nflDrush[nflDrush['Team'] == team_name30]\n",
    "mean_value = titans_data['Def RushYds'].mean()\n",
    "median_value = titans_data['Def RushYds'].median()\n",
    "std_value = titans_data['Def RushYds'].std()\n",
    "var_value = titans_data['Def RushYds'].var()\n",
    "min_value = titans_data['Def RushYds'].min()\n",
    "max_value = titans_data['Def RushYds'].max()\n",
    "data_range = max_value - min_value\n",
    "total_points = titans_data['Def RushYds'].sum()\n",
    "print(\"Tennessee Titans Defense Rushing Yards Mean:\", mean_value)\n",
    "print(\"Tennessee Titans Defense Rushing Yards Median:\", median_value)\n",
    "print(\"Tennessee Titans Defense Rushing Yards Standard Deviation:\", std_value)\n",
    "print(\"Tennessee Titans Defense Rushing Yards Variance:\", var_value)\n",
    "print(\"Tennessee Titans Defense Rushing Yards Minimum:\", min_value)\n",
    "print(\"Tennessee Titans Defense Rushing Yards Maximum:\", max_value)\n",
    "print(\"Tennessee Titans Defense Rushing Yards Range:\", data_range)\n",
    "print(\"Tennessee Titans Total Rushing Yards 2012-2022:\", total_points)"
   ]
  },
  {
   "cell_type": "markdown",
   "id": "f7e6759d",
   "metadata": {},
   "source": [
    "### Washington Commanders"
   ]
  },
  {
   "cell_type": "code",
   "execution_count": 39,
   "id": "13daf453",
   "metadata": {},
   "outputs": [
    {
     "name": "stdout",
     "output_type": "stream",
     "text": [
      "Washington Commanders Defense Rushing Yards Mean: 1886.5454545454545\n",
      "Washington Commanders Defense Rushing Yards Median: 1860.0\n",
      "Washington Commanders Defense Rushing Yards Standard Deviation: 215.995538674466\n",
      "Washington Commanders Defense Rushing Yards Variance: 46654.07272727273\n",
      "Washington Commanders Defense Rushing Yards Minimum: 1532\n",
      "Washington Commanders Defense Rushing Yards Points Maximum: 2339\n",
      "Washington Commanders Defense Rushing Yards Range: 807\n",
      "Washington Commanders Total Rushing Yards 2012-2022: 20752\n"
     ]
    }
   ],
   "source": [
    "team_name31 = 'Washington Commanders'\n",
    "commanders_data = nflDrush[nflDrush['Team'] == team_name31]\n",
    "mean_value = commanders_data['Def RushYds'].mean()\n",
    "median_value = commanders_data['Def RushYds'].median()\n",
    "std_value = commanders_data['Def RushYds'].std()\n",
    "var_value = commanders_data['Def RushYds'].var()\n",
    "min_value = commanders_data['Def RushYds'].min()\n",
    "max_value = commanders_data['Def RushYds'].max()\n",
    "total_points = commanders_data['Def RushYds'].sum()\n",
    "data_range = max_value - min_value\n",
    "print(\"Washington Commanders Defense Rushing Yards Mean:\", mean_value)\n",
    "print(\"Washington Commanders Defense Rushing Yards Median:\", median_value)\n",
    "print(\"Washington Commanders Defense Rushing Yards Standard Deviation:\", std_value)\n",
    "print(\"Washington Commanders Defense Rushing Yards Variance:\", var_value)\n",
    "print(\"Washington Commanders Defense Rushing Yards Minimum:\", min_value)\n",
    "print(\"Washington Commanders Defense Rushing Yards Points Maximum:\", max_value)\n",
    "print(\"Washington Commanders Defense Rushing Yards Range:\", data_range)\n",
    "print(\"Washington Commanders Total Rushing Yards 2012-2022:\", total_points)"
   ]
  },
  {
   "cell_type": "code",
   "execution_count": null,
   "id": "9792bd95",
   "metadata": {},
   "outputs": [],
   "source": []
  }
 ],
 "metadata": {
  "kernelspec": {
   "display_name": "Python 3 (ipykernel)",
   "language": "python",
   "name": "python3"
  },
  "language_info": {
   "codemirror_mode": {
    "name": "ipython",
    "version": 3
   },
   "file_extension": ".py",
   "mimetype": "text/x-python",
   "name": "python",
   "nbconvert_exporter": "python",
   "pygments_lexer": "ipython3",
   "version": "3.9.12"
  }
 },
 "nbformat": 4,
 "nbformat_minor": 5
}

{
 "cells": [
  {
   "cell_type": "markdown",
   "id": "ca763d8d",
   "metadata": {},
   "source": [
    "# Descriptive Statistics for Offense Passing Yards for Each Team"
   ]
  },
  {
   "cell_type": "markdown",
   "id": "649ef116",
   "metadata": {},
   "source": [
    "#### Import Packages"
   ]
  },
  {
   "cell_type": "code",
   "execution_count": 2,
   "id": "b23f9d8d",
   "metadata": {},
   "outputs": [],
   "source": [
    "import pandas as pd\n",
    "import numpy as np\n",
    "from scipy.stats import norm\n",
    "from scipy import stats"
   ]
  },
  {
   "cell_type": "markdown",
   "id": "b0be25b3",
   "metadata": {},
   "source": [
    "#### Import NFL Dataset 2012-2022"
   ]
  },
  {
   "cell_type": "code",
   "execution_count": 3,
   "id": "33f5a7e5",
   "metadata": {},
   "outputs": [
    {
     "data": {
      "text/html": [
       "<div>\n",
       "<style scoped>\n",
       "    .dataframe tbody tr th:only-of-type {\n",
       "        vertical-align: middle;\n",
       "    }\n",
       "\n",
       "    .dataframe tbody tr th {\n",
       "        vertical-align: top;\n",
       "    }\n",
       "\n",
       "    .dataframe thead th {\n",
       "        text-align: right;\n",
       "    }\n",
       "</style>\n",
       "<table border=\"1\" class=\"dataframe\">\n",
       "  <thead>\n",
       "    <tr style=\"text-align: right;\">\n",
       "      <th></th>\n",
       "      <th>Team</th>\n",
       "      <th>Off Tot/Pts</th>\n",
       "      <th>Off Pts/G</th>\n",
       "      <th>Off RushYds</th>\n",
       "      <th>Off RYds/G</th>\n",
       "      <th>Off PassYds</th>\n",
       "      <th>Off PYds/G</th>\n",
       "      <th>Off TotYds</th>\n",
       "      <th>Off Yds/G</th>\n",
       "      <th>Def Tot/Pts</th>\n",
       "      <th>...</th>\n",
       "      <th>Def PassYds</th>\n",
       "      <th>Def PYds/G</th>\n",
       "      <th>Def TotYds</th>\n",
       "      <th>Def Yds/G</th>\n",
       "      <th>Year</th>\n",
       "      <th>Wins</th>\n",
       "      <th>Losses</th>\n",
       "      <th>Tie</th>\n",
       "      <th>Superbowl</th>\n",
       "      <th>SB Win</th>\n",
       "    </tr>\n",
       "  </thead>\n",
       "  <tbody>\n",
       "    <tr>\n",
       "      <th>0</th>\n",
       "      <td>Arizona Cardinals</td>\n",
       "      <td>250</td>\n",
       "      <td>15.6</td>\n",
       "      <td>1204</td>\n",
       "      <td>75.2</td>\n",
       "      <td>3005</td>\n",
       "      <td>187.8</td>\n",
       "      <td>4209</td>\n",
       "      <td>263.1</td>\n",
       "      <td>357</td>\n",
       "      <td>...</td>\n",
       "      <td>3213</td>\n",
       "      <td>200.8</td>\n",
       "      <td>5405</td>\n",
       "      <td>337.8</td>\n",
       "      <td>2012</td>\n",
       "      <td>5</td>\n",
       "      <td>11</td>\n",
       "      <td>0.0</td>\n",
       "      <td>No</td>\n",
       "      <td>No</td>\n",
       "    </tr>\n",
       "    <tr>\n",
       "      <th>1</th>\n",
       "      <td>Atlanta Falcons</td>\n",
       "      <td>419</td>\n",
       "      <td>26.2</td>\n",
       "      <td>1397</td>\n",
       "      <td>87.3</td>\n",
       "      <td>4509</td>\n",
       "      <td>281.8</td>\n",
       "      <td>5906</td>\n",
       "      <td>369.1</td>\n",
       "      <td>299</td>\n",
       "      <td>...</td>\n",
       "      <td>3878</td>\n",
       "      <td>242.4</td>\n",
       "      <td>5849</td>\n",
       "      <td>365.6</td>\n",
       "      <td>2012</td>\n",
       "      <td>13</td>\n",
       "      <td>3</td>\n",
       "      <td>0.0</td>\n",
       "      <td>No</td>\n",
       "      <td>No</td>\n",
       "    </tr>\n",
       "    <tr>\n",
       "      <th>2</th>\n",
       "      <td>Baltimore Ravens</td>\n",
       "      <td>398</td>\n",
       "      <td>24.9</td>\n",
       "      <td>1901</td>\n",
       "      <td>118.8</td>\n",
       "      <td>3739</td>\n",
       "      <td>233.7</td>\n",
       "      <td>5640</td>\n",
       "      <td>352.5</td>\n",
       "      <td>344</td>\n",
       "      <td>...</td>\n",
       "      <td>3650</td>\n",
       "      <td>228.1</td>\n",
       "      <td>5615</td>\n",
       "      <td>350.9</td>\n",
       "      <td>2012</td>\n",
       "      <td>10</td>\n",
       "      <td>6</td>\n",
       "      <td>0.0</td>\n",
       "      <td>Yes</td>\n",
       "      <td>Yes</td>\n",
       "    </tr>\n",
       "    <tr>\n",
       "      <th>3</th>\n",
       "      <td>Buffalo Bills</td>\n",
       "      <td>344</td>\n",
       "      <td>21.5</td>\n",
       "      <td>2217</td>\n",
       "      <td>138.6</td>\n",
       "      <td>3269</td>\n",
       "      <td>204.3</td>\n",
       "      <td>5486</td>\n",
       "      <td>342.9</td>\n",
       "      <td>435</td>\n",
       "      <td>...</td>\n",
       "      <td>3473</td>\n",
       "      <td>217.1</td>\n",
       "      <td>5806</td>\n",
       "      <td>362.9</td>\n",
       "      <td>2012</td>\n",
       "      <td>6</td>\n",
       "      <td>10</td>\n",
       "      <td>0.0</td>\n",
       "      <td>No</td>\n",
       "      <td>No</td>\n",
       "    </tr>\n",
       "    <tr>\n",
       "      <th>4</th>\n",
       "      <td>Carolina Panthers</td>\n",
       "      <td>357</td>\n",
       "      <td>22.3</td>\n",
       "      <td>2088</td>\n",
       "      <td>130.5</td>\n",
       "      <td>3683</td>\n",
       "      <td>230.2</td>\n",
       "      <td>5771</td>\n",
       "      <td>360.7</td>\n",
       "      <td>363</td>\n",
       "      <td>...</td>\n",
       "      <td>3568</td>\n",
       "      <td>223.0</td>\n",
       "      <td>5329</td>\n",
       "      <td>333.1</td>\n",
       "      <td>2012</td>\n",
       "      <td>7</td>\n",
       "      <td>9</td>\n",
       "      <td>0.0</td>\n",
       "      <td>No</td>\n",
       "      <td>No</td>\n",
       "    </tr>\n",
       "  </tbody>\n",
       "</table>\n",
       "<p>5 rows × 23 columns</p>\n",
       "</div>"
      ],
      "text/plain": [
       "                Team  Off Tot/Pts  Off Pts/G  Off RushYds  Off RYds/G  \\\n",
       "0  Arizona Cardinals          250       15.6         1204        75.2   \n",
       "1    Atlanta Falcons          419       26.2         1397        87.3   \n",
       "2   Baltimore Ravens          398       24.9         1901       118.8   \n",
       "3      Buffalo Bills          344       21.5         2217       138.6   \n",
       "4  Carolina Panthers          357       22.3         2088       130.5   \n",
       "\n",
       "   Off PassYds  Off PYds/G  Off TotYds  Off Yds/G  Def Tot/Pts  ...  \\\n",
       "0         3005       187.8        4209      263.1          357  ...   \n",
       "1         4509       281.8        5906      369.1          299  ...   \n",
       "2         3739       233.7        5640      352.5          344  ...   \n",
       "3         3269       204.3        5486      342.9          435  ...   \n",
       "4         3683       230.2        5771      360.7          363  ...   \n",
       "\n",
       "   Def PassYds  Def PYds/G  Def TotYds  Def Yds/G  Year  Wins  Losses  Tie  \\\n",
       "0         3213       200.8        5405      337.8  2012     5      11  0.0   \n",
       "1         3878       242.4        5849      365.6  2012    13       3  0.0   \n",
       "2         3650       228.1        5615      350.9  2012    10       6  0.0   \n",
       "3         3473       217.1        5806      362.9  2012     6      10  0.0   \n",
       "4         3568       223.0        5329      333.1  2012     7       9  0.0   \n",
       "\n",
       "   Superbowl  SB Win  \n",
       "0         No      No  \n",
       "1         No      No  \n",
       "2        Yes     Yes  \n",
       "3         No      No  \n",
       "4         No      No  \n",
       "\n",
       "[5 rows x 23 columns]"
      ]
     },
     "execution_count": 3,
     "metadata": {},
     "output_type": "execute_result"
    }
   ],
   "source": [
    "nflpass = pd.read_csv('/Users/admin/Desktop/Final_Project/NFL_merged/nfl2012_2022merge.csv')\n",
    "nflpass.head()"
   ]
  },
  {
   "cell_type": "markdown",
   "id": "784b34d0",
   "metadata": {},
   "source": [
    "## Calculating Descriptive Statistics by Team\n",
    "#### First filter the data by a single team - I will use the Seattle Seahawks, my favorite team, to start."
   ]
  },
  {
   "cell_type": "code",
   "execution_count": 5,
   "id": "69c58961",
   "metadata": {},
   "outputs": [
    {
     "name": "stdout",
     "output_type": "stream",
     "text": [
      "Year: 2012 \tPassing Yards: 3031\n",
      "Year: 2013 \tPassing Yards: 3236\n",
      "Year: 2014 \tPassing Yards: 3250\n",
      "Year: 2015 \tPassing Yards: 3790\n",
      "Year: 2016 \tPassing Yards: 4124\n",
      "Year: 2017 \tPassing Yards: 3657\n",
      "Year: 2018 \tPassing Yards: 3657\n",
      "Year: 2019 \tPassing Yards: 3791\n",
      "Year: 2020 \tPassing Yards: 3941\n",
      "Year: 2021 \tPassing Yards: 3432\n",
      "Year: 2022 \tPassing Yards: 3934\n"
     ]
    }
   ],
   "source": [
    "team_name = 'Seattle Seahawks'\n",
    "seahawks_data = nflpass[nflpass['Team'] == team_name]\n",
    "\n",
    "#### Display passing yards by year for the Seahawks\n",
    "\n",
    "for year in seahawks_data['Year'].unique():\n",
    "    off_pass_yards = seahawks_data.loc[seahawks_data['Year'] == year, 'Off PassYds'].values[0]\n",
    "    print(\"Year:\", year, \"\\tPassing Yards:\", off_pass_yards)"
   ]
  },
  {
   "cell_type": "markdown",
   "id": "0c3ba5fa",
   "metadata": {},
   "source": [
    "#### What is the mean offense passing yards for the Seahawks over all years?"
   ]
  },
  {
   "cell_type": "code",
   "execution_count": 6,
   "id": "24c6cbe1",
   "metadata": {},
   "outputs": [
    {
     "name": "stdout",
     "output_type": "stream",
     "text": [
      "3622.090909090909\n"
     ]
    }
   ],
   "source": [
    "total_off_pass_yards = seahawks_data['Off PassYds'].mean()\n",
    "print(total_off_pass_yards)"
   ]
  },
  {
   "cell_type": "markdown",
   "id": "5b3748d2",
   "metadata": {},
   "source": [
    "#### Let's calculate several descriptive statistics on Offense Passing Yards for the Seahawks"
   ]
  },
  {
   "cell_type": "code",
   "execution_count": 7,
   "id": "d26edc74",
   "metadata": {},
   "outputs": [
    {
     "name": "stdout",
     "output_type": "stream",
     "text": [
      "Seattle Seahawks Offense Passing Yards Mean: 3622.090909090909\n",
      "Seattle Seahawks Offense Passing Yards Median: 3657.0\n",
      "Seattle Seahawks Offense Passing Yards Standard Deviation: 343.9629208346314\n",
      "Seattle Seahawks Offense Passing Yards Variance: 118310.49090909092\n",
      "Seattle Seahawks Offense Passing Yards Minimum: 3031\n",
      "Seattle Seahawks Offense Passing Yards Maximum: 4124\n",
      "Seattle Seahawks Offense Passing Yards Range: 1093\n",
      "Seattle Seahawks Total Passing Yards 2012-2022: 39843\n"
     ]
    }
   ],
   "source": [
    "mean_value = seahawks_data['Off PassYds'].mean()\n",
    "median_value = seahawks_data['Off PassYds'].median()\n",
    "std_value = seahawks_data['Off PassYds'].std()\n",
    "var_value = seahawks_data['Off PassYds'].var()\n",
    "min_value = seahawks_data['Off PassYds'].min()\n",
    "max_value = seahawks_data['Off PassYds'].max()\n",
    "data_range = max_value - min_value\n",
    "total_points = seahawks_data['Off PassYds'].sum()\n",
    "print(\"Seattle Seahawks Offense Passing Yards Mean:\", mean_value)\n",
    "print(\"Seattle Seahawks Offense Passing Yards Median:\", median_value)\n",
    "print(\"Seattle Seahawks Offense Passing Yards Standard Deviation:\", std_value)\n",
    "print(\"Seattle Seahawks Offense Passing Yards Variance:\", var_value)\n",
    "print(\"Seattle Seahawks Offense Passing Yards Minimum:\", min_value)\n",
    "print(\"Seattle Seahawks Offense Passing Yards Maximum:\", max_value)\n",
    "print(\"Seattle Seahawks Offense Passing Yards Range:\", data_range)\n",
    "print(\"Seattle Seahawks Total Passing Yards 2012-2022:\", total_points)"
   ]
  },
  {
   "cell_type": "markdown",
   "id": "e69f7a6a",
   "metadata": {},
   "source": [
    "#### Calculating all Teams Passing Yards per year"
   ]
  },
  {
   "cell_type": "code",
   "execution_count": 8,
   "id": "dbe5c0fa",
   "metadata": {},
   "outputs": [
    {
     "name": "stdout",
     "output_type": "stream",
     "text": [
      "Team: Arizona Cardinals \tYear: 2012 \tPassing Yards: 3005\n",
      "Team: Arizona Cardinals \tYear: 2013 \tPassing Yards: 4002\n",
      "Team: Arizona Cardinals \tYear: 2014 \tPassing Yards: 3808\n",
      "Team: Arizona Cardinals \tYear: 2015 \tPassing Yards: 4616\n",
      "Team: Arizona Cardinals \tYear: 2016 \tPassing Yards: 4136\n",
      "Team: Arizona Cardinals \tYear: 2017 \tPassing Yards: 3640\n",
      "Team: Arizona Cardinals \tYear: 2018 \tPassing Yards: 3640\n",
      "Team: Arizona Cardinals \tYear: 2019 \tPassing Yards: 3477\n",
      "Team: Arizona Cardinals \tYear: 2020 \tPassing Yards: 3916\n",
      "Team: Arizona Cardinals \tYear: 2021 \tPassing Yards: 4276\n",
      "Team: Arizona Cardinals \tYear: 2022 \tPassing Yards: 3626\n",
      "Team: Atlanta Falcons \tYear: 2012 \tPassing Yards: 4509\n",
      "Team: Atlanta Falcons \tYear: 2013 \tPassing Yards: 4243\n",
      "Team: Atlanta Falcons \tYear: 2014 \tPassing Yards: 4553\n",
      "Team: Atlanta Falcons \tYear: 2015 \tPassing Yards: 4379\n",
      "Team: Atlanta Falcons \tYear: 2016 \tPassing Yards: 4725\n",
      "Team: Atlanta Falcons \tYear: 2017 \tPassing Yards: 3990\n",
      "Team: Atlanta Falcons \tYear: 2018 \tPassing Yards: 3990\n",
      "Team: Atlanta Falcons \tYear: 2019 \tPassing Yards: 4714\n",
      "Team: Atlanta Falcons \tYear: 2020 \tPassing Yards: 4363\n",
      "Team: Atlanta Falcons \tYear: 2021 \tPassing Yards: 3713\n",
      "Team: Atlanta Falcons \tYear: 2022 \tPassing Yards: 2699\n",
      "Team: Baltimore Ravens \tYear: 2012 \tPassing Yards: 3739\n",
      "Team: Baltimore Ravens \tYear: 2013 \tPassing Yards: 3590\n",
      "Team: Baltimore Ravens \tYear: 2014 \tPassing Yards: 3819\n",
      "Team: Baltimore Ravens \tYear: 2015 \tPassing Yards: 4271\n",
      "Team: Baltimore Ravens \tYear: 2016 \tPassing Yards: 4100\n",
      "Team: Baltimore Ravens \tYear: 2017 \tPassing Yards: 3030\n",
      "Team: Baltimore Ravens \tYear: 2018 \tPassing Yards: 3030\n",
      "Team: Baltimore Ravens \tYear: 2019 \tPassing Yards: 3225\n",
      "Team: Baltimore Ravens \tYear: 2020 \tPassing Yards: 2739\n",
      "Team: Baltimore Ravens \tYear: 2021 \tPassing Yards: 3961\n",
      "Team: Baltimore Ravens \tYear: 2022 \tPassing Yards: 3040\n",
      "Team: Buffalo Bills \tYear: 2012 \tPassing Yards: 3269\n",
      "Team: Buffalo Bills \tYear: 2013 \tPassing Yards: 3103\n",
      "Team: Buffalo Bills \tYear: 2014 \tPassing Yards: 3614\n",
      "Team: Buffalo Bills \tYear: 2015 \tPassing Yards: 3343\n",
      "Team: Buffalo Bills \tYear: 2016 \tPassing Yards: 3036\n",
      "Team: Buffalo Bills \tYear: 2017 \tPassing Yards: 2825\n",
      "Team: Buffalo Bills \tYear: 2018 \tPassing Yards: 2825\n",
      "Team: Buffalo Bills \tYear: 2019 \tPassing Yards: 3229\n",
      "Team: Buffalo Bills \tYear: 2020 \tPassing Yards: 4620\n",
      "Team: Buffalo Bills \tYear: 2021 \tPassing Yards: 4284\n",
      "Team: Buffalo Bills \tYear: 2022 \tPassing Yards: 4129\n",
      "Team: Carolina Panthers \tYear: 2012 \tPassing Yards: 3683\n",
      "Team: Carolina Panthers \tYear: 2013 \tPassing Yards: 3043\n",
      "Team: Carolina Panthers \tYear: 2014 \tPassing Yards: 3511\n",
      "Team: Carolina Panthers \tYear: 2015 \tPassing Yards: 3589\n",
      "Team: Carolina Panthers \tYear: 2016 \tPassing Yards: 3685\n",
      "Team: Carolina Panthers \tYear: 2017 \tPassing Yards: 3077\n",
      "Team: Carolina Panthers \tYear: 2018 \tPassing Yards: 3077\n",
      "Team: Carolina Panthers \tYear: 2019 \tPassing Yards: 3650\n",
      "Team: Carolina Panthers \tYear: 2020 \tPassing Yards: 3888\n",
      "Team: Carolina Panthers \tYear: 2021 \tPassing Yards: 3239\n",
      "Team: Carolina Panthers \tYear: 2022 \tPassing Yards: 2996\n",
      "Team: Chicago Bears \tYear: 2012 \tPassing Yards: 2999\n",
      "Team: Chicago Bears \tYear: 2013 \tPassing Yards: 4281\n",
      "Team: Chicago Bears \tYear: 2014 \tPassing Yards: 3792\n",
      "Team: Chicago Bears \tYear: 2015 \tPassing Yards: 3660\n",
      "Team: Chicago Bears \tYear: 2016 \tPassing Yards: 3969\n",
      "Team: Chicago Bears \tYear: 2017 \tPassing Yards: 2811\n",
      "Team: Chicago Bears \tYear: 2018 \tPassing Yards: 2811\n",
      "Team: Chicago Bears \tYear: 2019 \tPassing Yards: 3291\n",
      "Team: Chicago Bears \tYear: 2020 \tPassing Yards: 3655\n",
      "Team: Chicago Bears \tYear: 2021 \tPassing Yards: 3207\n",
      "Team: Chicago Bears \tYear: 2022 \tPassing Yards: 2219\n",
      "Team: Cincinnati Bengals \tYear: 2012 \tPassing Yards: 3578\n",
      "Team: Cincinnati Bengals \tYear: 2013 \tPassing Yards: 4136\n",
      "Team: Cincinnati Bengals \tYear: 2014 \tPassing Yards: 3421\n",
      "Team: Cincinnati Bengals \tYear: 2015 \tPassing Yards: 3923\n",
      "Team: Cincinnati Bengals \tYear: 2016 \tPassing Yards: 3942\n",
      "Team: Cincinnati Bengals \tYear: 2017 \tPassing Yards: 3122\n",
      "Team: Cincinnati Bengals \tYear: 2018 \tPassing Yards: 3122\n",
      "Team: Cincinnati Bengals \tYear: 2019 \tPassing Yards: 3652\n",
      "Team: Cincinnati Bengals \tYear: 2020 \tPassing Yards: 3448\n",
      "Team: Cincinnati Bengals \tYear: 2021 \tPassing Yards: 4403\n",
      "Team: Cincinnati Bengals \tYear: 2022 \tPassing Yards: 4240\n",
      "Team: Cleveland Browns \tYear: 2012 \tPassing Yards: 3435\n",
      "Team: Cleveland Browns \tYear: 2013 \tPassing Yards: 4047\n",
      "Team: Cleveland Browns \tYear: 2014 \tPassing Yards: 3465\n",
      "Team: Cleveland Browns \tYear: 2015 \tPassing Yards: 3782\n",
      "Team: Cleveland Browns \tYear: 2016 \tPassing Yards: 3264\n",
      "Team: Cleveland Browns \tYear: 2017 \tPassing Yards: 3228\n",
      "Team: Cleveland Browns \tYear: 2018 \tPassing Yards: 3228\n",
      "Team: Cleveland Browns \tYear: 2019 \tPassing Yards: 3554\n",
      "Team: Cleveland Browns \tYear: 2020 \tPassing Yards: 3539\n",
      "Team: Cleveland Browns \tYear: 2021 \tPassing Yards: 3320\n",
      "Team: Cleveland Browns \tYear: 2022 \tPassing Yards: 3444\n",
      "Team: Dallas Cowboys \tYear: 2012 \tPassing Yards: 4729\n",
      "Team: Dallas Cowboys \tYear: 2013 \tPassing Yards: 3954\n",
      "Team: Dallas Cowboys \tYear: 2014 \tPassing Yards: 3784\n",
      "Team: Dallas Cowboys \tYear: 2015 \tPassing Yards: 3471\n",
      "Team: Dallas Cowboys \tYear: 2016 \tPassing Yards: 3631\n",
      "Team: Dallas Cowboys \tYear: 2017 \tPassing Yards: 3141\n",
      "Team: Dallas Cowboys \tYear: 2018 \tPassing Yards: 3141\n",
      "Team: Dallas Cowboys \tYear: 2019 \tPassing Yards: 4751\n",
      "Team: Dallas Cowboys \tYear: 2020 \tPassing Yards: 4161\n",
      "Team: Dallas Cowboys \tYear: 2021 \tPassing Yards: 4800\n",
      "Team: Dallas Cowboys \tYear: 2022 \tPassing Yards: 3736\n",
      "Team: Denver Broncos \tYear: 2012 \tPassing Yards: 4534\n",
      "Team: Denver Broncos \tYear: 2013 \tPassing Yards: 5444\n",
      "Team: Denver Broncos \tYear: 2014 \tPassing Yards: 4661\n",
      "Team: Denver Broncos \tYear: 2015 \tPassing Yards: 3970\n",
      "Team: Denver Broncos \tYear: 2016 \tPassing Yards: 3685\n",
      "Team: Denver Broncos \tYear: 2017 \tPassing Yards: 3333\n",
      "Team: Denver Broncos \tYear: 2018 \tPassing Yards: 3333\n",
      "Team: Denver Broncos \tYear: 2019 \tPassing Yards: 3115\n",
      "Team: Denver Broncos \tYear: 2020 \tPassing Yards: 3451\n",
      "Team: Denver Broncos \tYear: 2021 \tPassing Yards: 3593\n",
      "Team: Denver Broncos \tYear: 2022 \tPassing Yards: 3592\n",
      "Team: Detroit Lions \tYear: 2012 \tPassing Yards: 4927\n",
      "Team: Detroit Lions \tYear: 2013 \tPassing Yards: 4482\n",
      "Team: Detroit Lions \tYear: 2014 \tPassing Yards: 4030\n",
      "Team: Detroit Lions \tYear: 2015 \tPassing Yards: 4212\n",
      "Team: Detroit Lions \tYear: 2016 \tPassing Yards: 4111\n",
      "Team: Detroit Lions \tYear: 2017 \tPassing Yards: 4183\n",
      "Team: Detroit Lions \tYear: 2018 \tPassing Yards: 4183\n",
      "Team: Detroit Lions \tYear: 2019 \tPassing Yards: 3900\n",
      "Team: Detroit Lions \tYear: 2020 \tPassing Yards: 4104\n",
      "Team: Detroit Lions \tYear: 2021 \tPassing Yards: 3598\n",
      "Team: Detroit Lions \tYear: 2022 \tPassing Yards: 4281\n",
      "Team: Green Bay Packers \tYear: 2012 \tPassing Yards: 4049\n",
      "Team: Green Bay Packers \tYear: 2013 \tPassing Yards: 4268\n",
      "Team: Green Bay Packers \tYear: 2014 \tPassing Yards: 4261\n",
      "Team: Green Bay Packers \tYear: 2015 \tPassing Yards: 3503\n",
      "Team: Green Bay Packers \tYear: 2016 \tPassing Yards: 4199\n",
      "Team: Green Bay Packers \tYear: 2017 \tPassing Yards: 3167\n",
      "Team: Green Bay Packers \tYear: 2018 \tPassing Yards: 3167\n",
      "Team: Green Bay Packers \tYear: 2019 \tPassing Yards: 3733\n",
      "Team: Green Bay Packers \tYear: 2020 \tPassing Yards: 4106\n",
      "Team: Green Bay Packers \tYear: 2021 \tPassing Yards: 4315\n",
      "Team: Green Bay Packers \tYear: 2022 \tPassing Yards: 3632\n",
      "Team: Houston Texans \tYear: 2012 \tPassing Yards: 3830\n",
      "Team: Houston Texans \tYear: 2013 \tPassing Yards: 3813\n",
      "Team: Houston Texans \tYear: 2014 \tPassing Yards: 3352\n",
      "Team: Houston Texans \tYear: 2015 \tPassing Yards: 3833\n",
      "Team: Houston Texans \tYear: 2016 \tPassing Yards: 3176\n",
      "Team: Houston Texans \tYear: 2017 \tPassing Yards: 3278\n",
      "Team: Houston Texans \tYear: 2018 \tPassing Yards: 3278\n",
      "Team: Houston Texans \tYear: 2019 \tPassing Yards: 3783\n",
      "Team: Houston Texans \tYear: 2020 \tPassing Yards: 4538\n",
      "Team: Houston Texans \tYear: 2021 \tPassing Yards: 3305\n",
      "Team: Houston Texans \tYear: 2022 \tPassing Yards: 3344\n",
      "Team: Indianapolis Colts \tYear: 2012 \tPassing Yards: 4128\n",
      "Team: Indianapolis Colts \tYear: 2013 \tPassing Yards: 3725\n",
      "Team: Indianapolis Colts \tYear: 2014 \tPassing Yards: 4894\n",
      "Team: Indianapolis Colts \tYear: 2015 \tPassing Yards: 3704\n",
      "Team: Indianapolis Colts \tYear: 2016 \tPassing Yards: 4202\n",
      "Team: Indianapolis Colts \tYear: 2017 \tPassing Yards: 2892\n",
      "Team: Indianapolis Colts \tYear: 2018 \tPassing Yards: 2892\n",
      "Team: Indianapolis Colts \tYear: 2019 \tPassing Yards: 3108\n",
      "Team: Indianapolis Colts \tYear: 2020 \tPassing Yards: 4053\n",
      "Team: Indianapolis Colts \tYear: 2021 \tPassing Yards: 3361\n",
      "Team: Indianapolis Colts \tYear: 2022 \tPassing Yards: 3432\n",
      "Team: Jacksonville Jaguars \tYear: 2012 \tPassing Yards: 3419\n",
      "Team: Jacksonville Jaguars \tYear: 2013 \tPassing Yards: 3441\n",
      "Team: Jacksonville Jaguars \tYear: 2014 \tPassing Yards: 3001\n",
      "Team: Jacksonville Jaguars \tYear: 2015 \tPassing Yards: 4108\n",
      "Team: Jacksonville Jaguars \tYear: 2016 \tPassing Yards: 3728\n",
      "Team: Jacksonville Jaguars \tYear: 2017 \tPassing Yards: 3593\n",
      "Team: Jacksonville Jaguars \tYear: 2018 \tPassing Yards: 3593\n",
      "Team: Jacksonville Jaguars \tYear: 2019 \tPassing Yards: 3760\n",
      "Team: Jacksonville Jaguars \tYear: 2020 \tPassing Yards: 3699\n",
      "Team: Jacksonville Jaguars \tYear: 2021 \tPassing Yards: 3436\n",
      "Team: Jacksonville Jaguars \tYear: 2022 \tPassing Yards: 3959\n",
      "Team: Kansas City Chiefs \tYear: 2012 \tPassing Yards: 2713\n",
      "Team: Kansas City Chiefs \tYear: 2013 \tPassing Yards: 3340\n",
      "Team: Kansas City Chiefs \tYear: 2014 \tPassing Yards: 3182\n",
      "Team: Kansas City Chiefs \tYear: 2015 \tPassing Yards: 3255\n",
      "Team: Kansas City Chiefs \tYear: 2016 \tPassing Yards: 3740\n",
      "Team: Kansas City Chiefs \tYear: 2017 \tPassing Yards: 4104\n",
      "Team: Kansas City Chiefs \tYear: 2018 \tPassing Yards: 4104\n",
      "Team: Kansas City Chiefs \tYear: 2019 \tPassing Yards: 4498\n",
      "Team: Kansas City Chiefs \tYear: 2020 \tPassing Yards: 4854\n",
      "Team: Kansas City Chiefs \tYear: 2021 \tPassing Yards: 4791\n",
      "Team: Kansas City Chiefs \tYear: 2022 \tPassing Yards: 5062\n",
      "Team: Las Vegas Raiders \tYear: 2012 \tPassing Yards: 4084\n",
      "Team: Las Vegas Raiders \tYear: 2013 \tPassing Yards: 3340\n",
      "Team: Las Vegas Raiders \tYear: 2014 \tPassing Yards: 3275\n",
      "Team: Las Vegas Raiders \tYear: 2015 \tPassing Yards: 3879\n",
      "Team: Las Vegas Raiders \tYear: 2016 \tPassing Yards: 4051\n",
      "Team: Las Vegas Raiders \tYear: 2017 \tPassing Yards: 3631\n",
      "Team: Las Vegas Raiders \tYear: 2018 \tPassing Yards: 3631\n",
      "Team: Las Vegas Raiders \tYear: 2019 \tPassing Yards: 3926\n",
      "Team: Las Vegas Raiders \tYear: 2020 \tPassing Yards: 4217\n",
      "Team: Las Vegas Raiders \tYear: 2021 \tPassing Yards: 4567\n",
      "Team: Las Vegas Raiders \tYear: 2022 \tPassing Yards: 3934\n",
      "Team: Los Angeles Chargers \tYear: 2012 \tPassing Yards: 3295\n",
      "Team: Los Angeles Chargers \tYear: 2013 \tPassing Yards: 4328\n",
      "Team: Los Angeles Chargers \tYear: 2014 \tPassing Yards: 4098\n",
      "Team: Los Angeles Chargers \tYear: 2015 \tPassing Yards: 4591\n",
      "Team: Los Angeles Chargers \tYear: 2016 \tPassing Yards: 4198\n",
      "Team: Los Angeles Chargers \tYear: 2017 \tPassing Yards: 4431\n",
      "Team: Los Angeles Chargers \tYear: 2018 \tPassing Yards: 4431\n",
      "Team: Los Angeles Chargers \tYear: 2019 \tPassing Yards: 4426\n",
      "Team: Los Angeles Chargers \tYear: 2020 \tPassing Yards: 4329\n",
      "Team: Los Angeles Chargers \tYear: 2021 \tPassing Yards: 4800\n",
      "Team: Los Angeles Chargers \tYear: 2022 \tPassing Yards: 4584\n",
      "Team: Los Angeles Rams \tYear: 2012 \tPassing Yards: 3550\n",
      "Team: Los Angeles Rams \tYear: 2013 \tPassing Yards: 3125\n",
      "Team: Los Angeles Rams \tYear: 2014 \tPassing Yards: 3400\n",
      "Team: Los Angeles Rams \tYear: 2015 \tPassing Yards: 2805\n",
      "Team: Los Angeles Rams \tYear: 2016 \tPassing Yards: 2951\n",
      "Team: Los Angeles Rams \tYear: 2017 \tPassing Yards: 3831\n",
      "Team: Los Angeles Rams \tYear: 2018 \tPassing Yards: 3831\n",
      "Team: Los Angeles Rams \tYear: 2019 \tPassing Yards: 4499\n",
      "Team: Los Angeles Rams \tYear: 2020 \tPassing Yards: 4014\n",
      "Team: Los Angeles Rams \tYear: 2021 \tPassing Yards: 4642\n",
      "Team: Los Angeles Rams \tYear: 2022 \tPassing Yards: 3108\n",
      "Team: Miami Dolphins \tYear: 2012 \tPassing Yards: 3182\n",
      "Team: Miami Dolphins \tYear: 2013 \tPassing Yards: 3567\n",
      "Team: Miami Dolphins \tYear: 2014 \tPassing Yards: 3729\n",
      "Team: Miami Dolphins \tYear: 2015 \tPassing Yards: 3811\n",
      "Team: Miami Dolphins \tYear: 2016 \tPassing Yards: 3500\n",
      "Team: Miami Dolphins \tYear: 2017 \tPassing Yards: 3535\n",
      "Team: Miami Dolphins \tYear: 2018 \tPassing Yards: 3535\n",
      "Team: Miami Dolphins \tYear: 2019 \tPassing Yards: 3804\n",
      "Team: Miami Dolphins \tYear: 2020 \tPassing Yards: 3736\n",
      "Team: Miami Dolphins \tYear: 2021 \tPassing Yards: 3651\n",
      "Team: Miami Dolphins \tYear: 2022 \tPassing Yards: 4511\n",
      "Team: Minnesota Vikings \tYear: 2012 \tPassing Yards: 2751\n",
      "Team: Minnesota Vikings \tYear: 2013 \tPassing Yards: 3427\n",
      "Team: Minnesota Vikings \tYear: 2014 \tPassing Yards: 3244\n",
      "Team: Minnesota Vikings \tYear: 2015 \tPassing Yards: 2928\n",
      "Team: Minnesota Vikings \tYear: 2016 \tPassing Yards: 3836\n",
      "Team: Minnesota Vikings \tYear: 2017 \tPassing Yards: 3753\n",
      "Team: Minnesota Vikings \tYear: 2018 \tPassing Yards: 3753\n",
      "Team: Minnesota Vikings \tYear: 2019 \tPassing Yards: 3523\n",
      "Team: Minnesota Vikings \tYear: 2020 \tPassing Yards: 4009\n",
      "Team: Minnesota Vikings \tYear: 2021 \tPassing Yards: 4238\n",
      "Team: Minnesota Vikings \tYear: 2022 \tPassing Yards: 4484\n",
      "Team: New England Patriots \tYear: 2012 \tPassing Yards: 4662\n",
      "Team: New England Patriots \tYear: 2013 \tPassing Yards: 4087\n",
      "Team: New England Patriots \tYear: 2014 \tPassing Yards: 4121\n",
      "Team: New England Patriots \tYear: 2015 \tPassing Yards: 4587\n",
      "Team: New England Patriots \tYear: 2016 \tPassing Yards: 4308\n",
      "Team: New England Patriots \tYear: 2017 \tPassing Yards: 4418\n",
      "Team: New England Patriots \tYear: 2018 \tPassing Yards: 4418\n",
      "Team: New England Patriots \tYear: 2019 \tPassing Yards: 3961\n",
      "Team: New England Patriots \tYear: 2020 \tPassing Yards: 2890\n",
      "Team: New England Patriots \tYear: 2021 \tPassing Yards: 3857\n",
      "Team: New England Patriots \tYear: 2022 \tPassing Yards: 3536\n",
      "Team: New Orleans Saints \tYear: 2012 \tPassing Yards: 4997\n",
      "Team: New Orleans Saints \tYear: 2013 \tPassing Yards: 4918\n",
      "Team: New Orleans Saints \tYear: 2014 \tPassing Yards: 4764\n",
      "Team: New Orleans Saints \tYear: 2015 \tPassing Yards: 4970\n",
      "Team: New Orleans Saints \tYear: 2016 \tPassing Yards: 5074\n",
      "Team: New Orleans Saints \tYear: 2017 \tPassing Yards: 4189\n",
      "Team: New Orleans Saints \tYear: 2019 \tPassing Yards: 4244\n",
      "Team: New Orleans Saints \tYear: 2020 \tPassing Yards: 3758\n",
      "Team: New Orleans Saints \tYear: 2021 \tPassing Yards: 3186\n",
      "Team: New Orleans Saints \tYear: 2022 \tPassing Yards: 3692\n",
      "Team: New York Giants \tYear: 2012 \tPassing Yards: 3825\n",
      "Team: New York Giants \tYear: 2013 \tPassing Yards: 3588\n",
      "Team: New York Giants \tYear: 2014 \tPassing Yards: 4272\n",
      "Team: New York Giants \tYear: 2015 \tPassing Yards: 4343\n",
      "Team: New York Giants \tYear: 2016 \tPassing Yards: 3879\n",
      "Team: New York Giants \tYear: 2017 \tPassing Yards: 3479\n",
      "Team: New York Giants \tYear: 2018 \tPassing Yards: 3479\n",
      "Team: New York Giants \tYear: 2019 \tPassing Yards: 3731\n",
      "Team: New York Giants \tYear: 2020 \tPassing Yards: 3026\n",
      "Team: New York Giants \tYear: 2021 \tPassing Yards: 3196\n",
      "Team: New York Giants \tYear: 2022 \tPassing Yards: 3157\n",
      "Team: New York Jets \tYear: 2012 \tPassing Yards: 2891\n",
      "Team: New York Jets \tYear: 2013 \tPassing Yards: 2932\n",
      "Team: New York Jets \tYear: 2014 \tPassing Yards: 2946\n",
      "Team: New York Jets \tYear: 2015 \tPassing Yards: 4057\n",
      "Team: New York Jets \tYear: 2016 \tPassing Yards: 3466\n",
      "Team: New York Jets \tYear: 2017 \tPassing Yards: 3182\n",
      "Team: New York Jets \tYear: 2018 \tPassing Yards: 3182\n",
      "Team: New York Jets \tYear: 2019 \tPassing Yards: 3111\n",
      "Team: New York Jets \tYear: 2020 \tPassing Yards: 2796\n",
      "Team: New York Jets \tYear: 2021 \tPassing Yards: 3541\n",
      "Team: New York Jets \tYear: 2022 \tPassing Yards: 3723\n",
      "Team: Philadelphia Eagles \tYear: 2012 \tPassing Yards: 3791\n",
      "Team: Philadelphia Eagles \tYear: 2013 \tPassing Yards: 4110\n",
      "Team: Philadelphia Eagles \tYear: 2014 \tPassing Yards: 4356\n",
      "Team: Philadelphia Eagles \tYear: 2015 \tPassing Yards: 4087\n",
      "Team: Philadelphia Eagles \tYear: 2016 \tPassing Yards: 3585\n",
      "Team: Philadelphia Eagles \tYear: 2017 \tPassing Yards: 3737\n",
      "Team: Philadelphia Eagles \tYear: 2018 \tPassing Yards: 3737\n",
      "Team: Philadelphia Eagles \tYear: 2019 \tPassing Yards: 3833\n",
      "Team: Philadelphia Eagles \tYear: 2020 \tPassing Yards: 3327\n",
      "Team: Philadelphia Eagles \tYear: 2021 \tPassing Yards: 3404\n",
      "Team: Philadelphia Eagles \tYear: 2022 \tPassing Yards: 4105\n",
      "Team: Pittsburgh Steelers \tYear: 2012 \tPassing Yards: 3787\n",
      "Team: Pittsburgh Steelers \tYear: 2013 \tPassing Yards: 4017\n",
      "Team: Pittsburgh Steelers \tYear: 2014 \tPassing Yards: 4825\n",
      "Team: Pittsburgh Steelers \tYear: 2015 \tPassing Yards: 4603\n",
      "Team: Pittsburgh Steelers \tYear: 2016 \tPassing Yards: 4202\n",
      "Team: Pittsburgh Steelers \tYear: 2017 \tPassing Yards: 4380\n",
      "Team: Pittsburgh Steelers \tYear: 2018 \tPassing Yards: 4380\n",
      "Team: Pittsburgh Steelers \tYear: 2019 \tPassing Yards: 2981\n",
      "Team: Pittsburgh Steelers \tYear: 2020 \tPassing Yards: 4003\n",
      "Team: Pittsburgh Steelers \tYear: 2021 \tPassing Yards: 3778\n",
      "Team: Pittsburgh Steelers \tYear: 2022 \tPassing Yards: 3411\n",
      "Team: San Francisco 49ers \tYear: 2012 \tPassing Yards: 3298\n",
      "Team: San Francisco 49ers \tYear: 2013 \tPassing Yards: 2979\n",
      "Team: San Francisco 49ers \tYear: 2014 \tPassing Yards: 3063\n",
      "Team: San Francisco 49ers \tYear: 2015 \tPassing Yards: 3316\n",
      "Team: San Francisco 49ers \tYear: 2016 \tPassing Yards: 2911\n",
      "Team: San Francisco 49ers \tYear: 2017 \tPassing Yards: 3925\n",
      "Team: San Francisco 49ers \tYear: 2018 \tPassing Yards: 3925\n",
      "Team: San Francisco 49ers \tYear: 2019 \tPassing Yards: 3792\n",
      "Team: San Francisco 49ers \tYear: 2020 \tPassing Yards: 4033\n",
      "Team: San Francisco 49ers \tYear: 2021 \tPassing Yards: 4221\n",
      "Team: San Francisco 49ers \tYear: 2022 \tPassing Yards: 3856\n",
      "Team: Seattle Seahawks \tYear: 2012 \tPassing Yards: 3031\n",
      "Team: Seattle Seahawks \tYear: 2013 \tPassing Yards: 3236\n",
      "Team: Seattle Seahawks \tYear: 2014 \tPassing Yards: 3250\n",
      "Team: Seattle Seahawks \tYear: 2015 \tPassing Yards: 3790\n",
      "Team: Seattle Seahawks \tYear: 2016 \tPassing Yards: 4124\n",
      "Team: Seattle Seahawks \tYear: 2017 \tPassing Yards: 3657\n",
      "Team: Seattle Seahawks \tYear: 2018 \tPassing Yards: 3657\n",
      "Team: Seattle Seahawks \tYear: 2019 \tPassing Yards: 3791\n",
      "Team: Seattle Seahawks \tYear: 2020 \tPassing Yards: 3941\n",
      "Team: Seattle Seahawks \tYear: 2021 \tPassing Yards: 3432\n",
      "Team: Seattle Seahawks \tYear: 2022 \tPassing Yards: 3934\n",
      "Team: Tampa Bay Buccaneers \tYear: 2012 \tPassing Yards: 3983\n",
      "Team: Tampa Bay Buccaneers \tYear: 2013 \tPassing Yards: 2820\n",
      "Team: Tampa Bay Buccaneers \tYear: 2014 \tPassing Yards: 3297\n",
      "Team: Tampa Bay Buccaneers \tYear: 2015 \tPassing Yards: 3852\n",
      "Team: Tampa Bay Buccaneers \tYear: 2016 \tPassing Yards: 3926\n",
      "Team: Tampa Bay Buccaneers \tYear: 2017 \tPassing Yards: 4366\n",
      "Team: Tampa Bay Buccaneers \tYear: 2018 \tPassing Yards: 4366\n",
      "Team: Tampa Bay Buccaneers \tYear: 2019 \tPassing Yards: 4845\n",
      "Team: Tampa Bay Buccaneers \tYear: 2020 \tPassing Yards: 4626\n",
      "Team: Tampa Bay Buccaneers \tYear: 2021 \tPassing Yards: 5229\n",
      "Team: Tampa Bay Buccaneers \tYear: 2022 \tPassing Yards: 4586\n",
      "Team: Tennessee Titans \tYear: 2012 \tPassing Yards: 3323\n",
      "Team: Tennessee Titans \tYear: 2013 \tPassing Yards: 3496\n",
      "Team: Tennessee Titans \tYear: 2014 \tPassing Yards: 3412\n",
      "Team: Tennessee Titans \tYear: 2015 \tPassing Yards: 3503\n",
      "Team: Tennessee Titans \tYear: 2016 \tPassing Yards: 3541\n",
      "Team: Tennessee Titans \tYear: 2017 \tPassing Yards: 3191\n",
      "Team: Tennessee Titans \tYear: 2018 \tPassing Yards: 3191\n",
      "Team: Tennessee Titans \tYear: 2019 \tPassing Yards: 3582\n",
      "Team: Tennessee Titans \tYear: 2020 \tPassing Yards: 3653\n",
      "Team: Tennessee Titans \tYear: 2021 \tPassing Yards: 3418\n",
      "Team: Tennessee Titans \tYear: 2022 \tPassing Yards: 2914\n",
      "Team: Washington Commanders \tYear: 2012 \tPassing Yards: 3422\n",
      "Team: Washington Commanders \tYear: 2013 \tPassing Yards: 3751\n",
      "Team: Washington Commanders \tYear: 2014 \tPassing Yards: 4047\n",
      "Team: Washington Commanders \tYear: 2015 \tPassing Yards: 4095\n"
     ]
    },
    {
     "name": "stdout",
     "output_type": "stream",
     "text": [
      "Team: Washington Commanders \tYear: 2016 \tPassing Yards: 4758\n",
      "Team: Washington Commanders \tYear: 2017 \tPassing Yards: 3751\n",
      "Team: Washington Commanders \tYear: 2018 \tPassing Yards: 3751\n",
      "Team: Washington Commanders \tYear: 2019 \tPassing Yards: 2812\n",
      "Team: Washington Commanders \tYear: 2020 \tPassing Yards: 3465\n",
      "Team: Washington Commanders \tYear: 2021 \tPassing Yards: 3441\n",
      "Team: Washington Commanders \tYear: 2022 \tPassing Yards: 3472\n"
     ]
    }
   ],
   "source": [
    "team_names = nflpass['Team'].unique()\n",
    "\n",
    "# Iterate over each team\n",
    "for team_name in team_names:\n",
    "    team_data = nflpass[nflpass['Team'] == team_name]\n",
    "    \n",
    "    # Display the total offense passing yards for each year\n",
    "    for year in team_data['Year'].unique():\n",
    "        team_off_pass_yards = team_data.loc[team_data['Year'] == year, 'Off PassYds'].values[0]\n",
    "        print(\"Team:\", team_name, \"\\tYear:\", year, \"\\tPassing Yards:\", team_off_pass_yards)"
   ]
  },
  {
   "cell_type": "markdown",
   "id": "b7c99af6",
   "metadata": {},
   "source": [
    "#### Calculate Descriptive Statistics on Offense Passing Yards for all Teams. These statistics are the Offense Passing Yards and their mean, median, standard deviation, variance, min, max, range, and sum."
   ]
  },
  {
   "cell_type": "markdown",
   "id": "186c620f",
   "metadata": {},
   "source": [
    "### Arizona Cardinals"
   ]
  },
  {
   "cell_type": "code",
   "execution_count": 9,
   "id": "7444d978",
   "metadata": {},
   "outputs": [
    {
     "name": "stdout",
     "output_type": "stream",
     "text": [
      "Arizona Cardinals Offense Passing Yards Mean: 3831.090909090909\n",
      "Arizona Cardinals Offense Passing Yards Median: 3808.0\n",
      "Arizona Cardinals Offense Passing Yards Standard Deviation: 432.07046984154204\n",
      "Arizona Cardinals Offense Passing Yards Variance: 186684.8909090909\n",
      "Arizona Cardinals Offense Passing Yards Minimum: 3005\n",
      "Arizona Cardinals Offense Passing Yards Maximum: 4616\n",
      "Arizona Cardinals Offense Passing Yards Range: 1611\n",
      "Arizona Cardinals Total Passing Yards 2012-2022: 42142\n"
     ]
    }
   ],
   "source": [
    "team_name1 = 'Arizona Cardinals'\n",
    "cardinals_data = nflpass[nflpass['Team'] == team_name1]\n",
    "mean_value = cardinals_data['Off PassYds'].mean()\n",
    "median_value = cardinals_data['Off PassYds'].median()\n",
    "std_value = cardinals_data['Off PassYds'].std()\n",
    "var_value = cardinals_data['Off PassYds'].var()\n",
    "min_value = cardinals_data['Off PassYds'].min()\n",
    "max_value = cardinals_data['Off PassYds'].max()\n",
    "data_range = max_value - min_value\n",
    "total_points = cardinals_data['Off PassYds'].sum()\n",
    "print(\"Arizona Cardinals Offense Passing Yards Mean:\", mean_value)\n",
    "print(\"Arizona Cardinals Offense Passing Yards Median:\", median_value)\n",
    "print(\"Arizona Cardinals Offense Passing Yards Standard Deviation:\", std_value)\n",
    "print(\"Arizona Cardinals Offense Passing Yards Variance:\", var_value)\n",
    "print(\"Arizona Cardinals Offense Passing Yards Minimum:\", min_value)\n",
    "print(\"Arizona Cardinals Offense Passing Yards Maximum:\", max_value)\n",
    "print(\"Arizona Cardinals Offense Passing Yards Range:\", data_range)\n",
    "print(\"Arizona Cardinals Total Passing Yards 2012-2022:\", total_points)"
   ]
  },
  {
   "cell_type": "markdown",
   "id": "9c54bb44",
   "metadata": {},
   "source": [
    "### Atlanta Falcons"
   ]
  },
  {
   "cell_type": "code",
   "execution_count": 10,
   "id": "cf5c0251",
   "metadata": {},
   "outputs": [
    {
     "name": "stdout",
     "output_type": "stream",
     "text": [
      "Atlanta Falcons Offense Passing Yards Mean: 4170.727272727273\n",
      "Atlanta Falcons Offense Passing Yards Median: 4363.0\n",
      "Atlanta Falcons Offense Passing Yards Standard Deviation: 582.1781670432327\n",
      "Atlanta Falcons Offense Passing Yards Variance: 338931.41818181815\n",
      "Atlanta Falcons Offense Passing Yards Minimum: 2699\n",
      "Atlanta Falcons Offense Passing Yards Maximum: 4725\n",
      "Atlanta Falcons Offense Passing Yards Range: 2026\n",
      "Atlanta Falcons Total Passing Yards 2012-2022: 45878\n"
     ]
    }
   ],
   "source": [
    "team_name2 = 'Atlanta Falcons'\n",
    "falcons_data = nflpass[nflpass['Team'] == team_name2]\n",
    "mean_value = falcons_data['Off PassYds'].mean()\n",
    "median_value = falcons_data['Off PassYds'].median()\n",
    "std_value = falcons_data['Off PassYds'].std()\n",
    "var_value = falcons_data['Off PassYds'].var()\n",
    "min_value = falcons_data['Off PassYds'].min()\n",
    "max_value = falcons_data['Off PassYds'].max()\n",
    "data_range = max_value - min_value\n",
    "total_points = falcons_data['Off PassYds'].sum()\n",
    "print(\"Atlanta Falcons Offense Passing Yards Mean:\", mean_value)\n",
    "print(\"Atlanta Falcons Offense Passing Yards Median:\", median_value)\n",
    "print(\"Atlanta Falcons Offense Passing Yards Standard Deviation:\", std_value)\n",
    "print(\"Atlanta Falcons Offense Passing Yards Variance:\", var_value)\n",
    "print(\"Atlanta Falcons Offense Passing Yards Minimum:\", min_value)\n",
    "print(\"Atlanta Falcons Offense Passing Yards Maximum:\", max_value)\n",
    "print(\"Atlanta Falcons Offense Passing Yards Range:\", data_range)\n",
    "print(\"Atlanta Falcons Total Passing Yards 2012-2022:\", total_points)"
   ]
  },
  {
   "cell_type": "markdown",
   "id": "7f0431cc",
   "metadata": {},
   "source": [
    "### Baltimore Ravens"
   ]
  },
  {
   "cell_type": "code",
   "execution_count": 11,
   "id": "76b5c9c4",
   "metadata": {},
   "outputs": [
    {
     "name": "stdout",
     "output_type": "stream",
     "text": [
      "Baltimore Ravens Offense Passing Yards Mean: 3504.0\n",
      "Baltimore Ravens Offense Passing Yards Median: 3590.0\n",
      "Baltimore Ravens Offense Passing Yards Standard Deviation: 513.995525272351\n",
      "Baltimore Ravens Offense Passing Yards Variance: 264191.4\n",
      "Baltimore Ravens Offense Passing Yards Minimum: 2739\n",
      "Baltimore Ravens Offense Passing Yards Maximum: 4271\n",
      "Baltimore Ravens Offense Passing Yards Range: 1532\n",
      "Baltimore Ravens Total Passing Yards 2012-2022: 38544\n"
     ]
    }
   ],
   "source": [
    "team_name3 = 'Baltimore Ravens'\n",
    "ravens_data = nflpass[nflpass['Team'] == team_name3]\n",
    "mean_value = ravens_data['Off PassYds'].mean()\n",
    "median_value = ravens_data['Off PassYds'].median()\n",
    "std_value = ravens_data['Off PassYds'].std()\n",
    "var_value = ravens_data['Off PassYds'].var()\n",
    "min_value = ravens_data['Off PassYds'].min()\n",
    "max_value = ravens_data['Off PassYds'].max()\n",
    "data_range = max_value - min_value\n",
    "total_points = ravens_data['Off PassYds'].sum()\n",
    "print(\"Baltimore Ravens Offense Passing Yards Mean:\", mean_value)\n",
    "print(\"Baltimore Ravens Offense Passing Yards Median:\", median_value)\n",
    "print(\"Baltimore Ravens Offense Passing Yards Standard Deviation:\", std_value)\n",
    "print(\"Baltimore Ravens Offense Passing Yards Variance:\", var_value)\n",
    "print(\"Baltimore Ravens Offense Passing Yards Minimum:\", min_value)\n",
    "print(\"Baltimore Ravens Offense Passing Yards Maximum:\", max_value)\n",
    "print(\"Baltimore Ravens Offense Passing Yards Range:\", data_range)\n",
    "print(\"Baltimore Ravens Total Passing Yards 2012-2022:\", total_points)"
   ]
  },
  {
   "cell_type": "markdown",
   "id": "95049040",
   "metadata": {},
   "source": [
    "### Buffalo Bills"
   ]
  },
  {
   "cell_type": "code",
   "execution_count": 12,
   "id": "09989626",
   "metadata": {},
   "outputs": [
    {
     "name": "stdout",
     "output_type": "stream",
     "text": [
      "Buffalo Bills Offense Passing Yards Mean: 3479.7272727272725\n",
      "Buffalo Bills Offense Passing Yards Median: 3269.0\n",
      "Buffalo Bills Offense Passing Yards Standard Deviation: 608.9973876641985\n",
      "Buffalo Bills Offense Passing Yards Variance: 370877.8181818181\n",
      "Buffalo Bills Offense Passing Yards Minimum: 2825\n",
      "Buffalo Bills Offense Passing Yards Maximum: 4620\n",
      "Buffalo Bills Offense Passing Yards Range: 1795\n",
      "Buffalo Bills Total Passing Yards 2012-2022: 38277\n"
     ]
    }
   ],
   "source": [
    "team_name4 = 'Buffalo Bills'\n",
    "bills_data = nflpass[nflpass['Team'] == team_name4]\n",
    "mean_value = bills_data['Off PassYds'].mean()\n",
    "median_value = bills_data['Off PassYds'].median()\n",
    "std_value = bills_data['Off PassYds'].std()\n",
    "var_value = bills_data['Off PassYds'].var()\n",
    "min_value = bills_data['Off PassYds'].min()\n",
    "max_value = bills_data['Off PassYds'].max()\n",
    "data_range = max_value - min_value\n",
    "total_points = bills_data['Off PassYds'].sum()\n",
    "print(\"Buffalo Bills Offense Passing Yards Mean:\", mean_value)\n",
    "print(\"Buffalo Bills Offense Passing Yards Median:\", median_value)\n",
    "print(\"Buffalo Bills Offense Passing Yards Standard Deviation:\", std_value)\n",
    "print(\"Buffalo Bills Offense Passing Yards Variance:\", var_value)\n",
    "print(\"Buffalo Bills Offense Passing Yards Minimum:\", min_value)\n",
    "print(\"Buffalo Bills Offense Passing Yards Maximum:\", max_value)\n",
    "print(\"Buffalo Bills Offense Passing Yards Range:\", data_range)\n",
    "print(\"Buffalo Bills Total Passing Yards 2012-2022:\", total_points)"
   ]
  },
  {
   "cell_type": "markdown",
   "id": "e4ca8cea",
   "metadata": {},
   "source": [
    "### Carolina Panthers"
   ]
  },
  {
   "cell_type": "code",
   "execution_count": 13,
   "id": "086d4169",
   "metadata": {},
   "outputs": [
    {
     "name": "stdout",
     "output_type": "stream",
     "text": [
      "Carolina Panthers Offense Passing Yards Mean: 3403.4545454545455\n",
      "Carolina Panthers Offense Passing Yards Median: 3511.0\n",
      "Carolina Panthers Offense Passing Yards Standard Deviation: 321.7316781531976\n",
      "Carolina Panthers Offense Passing Yards Variance: 103511.27272727274\n",
      "Carolina Panthers Offense Passing Yards Minimum: 2996\n",
      "Carolina Panthers Offense Passing Yards Maximum: 3888\n",
      "Carolina Panthers Offense Passing Yards Range: 892\n",
      "Carolina Panthers Total Passing Yards 2012-2022: 37438\n"
     ]
    }
   ],
   "source": [
    "team_name5 = 'Carolina Panthers'\n",
    "panthers_data = nflpass[nflpass['Team'] == team_name5]\n",
    "mean_value = panthers_data['Off PassYds'].mean()\n",
    "median_value = panthers_data['Off PassYds'].median()\n",
    "std_value = panthers_data['Off PassYds'].std()\n",
    "var_value = panthers_data['Off PassYds'].var()\n",
    "min_value = panthers_data['Off PassYds'].min()\n",
    "max_value = panthers_data['Off PassYds'].max()\n",
    "data_range = max_value - min_value\n",
    "total_points = panthers_data['Off PassYds'].sum()\n",
    "print(\"Carolina Panthers Offense Passing Yards Mean:\", mean_value)\n",
    "print(\"Carolina Panthers Offense Passing Yards Median:\", median_value)\n",
    "print(\"Carolina Panthers Offense Passing Yards Standard Deviation:\", std_value)\n",
    "print(\"Carolina Panthers Offense Passing Yards Variance:\", var_value)\n",
    "print(\"Carolina Panthers Offense Passing Yards Minimum:\", min_value)\n",
    "print(\"Carolina Panthers Offense Passing Yards Maximum:\", max_value)\n",
    "print(\"Carolina Panthers Offense Passing Yards Range:\", data_range)\n",
    "print(\"Carolina Panthers Total Passing Yards 2012-2022:\", total_points)"
   ]
  },
  {
   "cell_type": "markdown",
   "id": "a8e04f1e",
   "metadata": {},
   "source": [
    "### Chicago Bears"
   ]
  },
  {
   "cell_type": "code",
   "execution_count": 14,
   "id": "95cef721",
   "metadata": {},
   "outputs": [
    {
     "name": "stdout",
     "output_type": "stream",
     "text": [
      "Chicago Bears Offense Passing Yards Mean: 3335.909090909091\n",
      "Chicago Bears Offense Passing Yards Median: 3291.0\n",
      "Chicago Bears Offense Passing Yards Standard Deviation: 603.2877347577115\n",
      "Chicago Bears Offense Passing Yards Variance: 363956.09090909094\n",
      "Chicago Bears Offense Passing Yards Minimum: 2219\n",
      "Chicago Bears Offense Passing Yards Maximum: 4281\n",
      "Chicago Bears Offense Passing Yards Range: 2062\n",
      "Chicago Bears Total Passing Yards 2012-2022: 36695\n"
     ]
    }
   ],
   "source": [
    "team_name6 = 'Chicago Bears'\n",
    "bears_data = nflpass[nflpass['Team'] == team_name6]\n",
    "mean_value = bears_data['Off PassYds'].mean()\n",
    "median_value = bears_data['Off PassYds'].median()\n",
    "std_value = bears_data['Off PassYds'].std()\n",
    "var_value = bears_data['Off PassYds'].var()\n",
    "min_value = bears_data['Off PassYds'].min()\n",
    "max_value = bears_data['Off PassYds'].max()\n",
    "data_range = max_value - min_value\n",
    "total_points = bears_data['Off PassYds'].sum()\n",
    "print(\"Chicago Bears Offense Passing Yards Mean:\", mean_value)\n",
    "print(\"Chicago Bears Offense Passing Yards Median:\", median_value)\n",
    "print(\"Chicago Bears Offense Passing Yards Standard Deviation:\", std_value)\n",
    "print(\"Chicago Bears Offense Passing Yards Variance:\", var_value)\n",
    "print(\"Chicago Bears Offense Passing Yards Minimum:\", min_value)\n",
    "print(\"Chicago Bears Offense Passing Yards Maximum:\", max_value)\n",
    "print(\"Chicago Bears Offense Passing Yards Range:\", data_range)\n",
    "print(\"Chicago Bears Total Passing Yards 2012-2022:\", total_points)"
   ]
  },
  {
   "cell_type": "markdown",
   "id": "c44407e7",
   "metadata": {},
   "source": [
    "### Cincinnati Bengals"
   ]
  },
  {
   "cell_type": "code",
   "execution_count": 15,
   "id": "248b9120",
   "metadata": {},
   "outputs": [
    {
     "name": "stdout",
     "output_type": "stream",
     "text": [
      "Cincinnati Bengals Offense Passing Yards Mean: 3726.090909090909\n",
      "Cincinnati Bengals Offense Passing Yards Median: 3652.0\n",
      "Cincinnati Bengals Offense Passing Yards Standard Deviation: 436.2809770195016\n",
      "Cincinnati Bengals Offense Passing Yards Variance: 190341.0909090909\n",
      "Cincinnati Bengals Offense Passing Yards Minimum: 3122\n",
      "Cincinnati Bengals Offense Passing Yards Maximum: 4403\n",
      "Cincinnati Bengals Offense Passing Yards Range: 1281\n",
      "Cincinnati Bengals Total Passing Yards 2012-2022: 40987\n"
     ]
    }
   ],
   "source": [
    "team_name7 = 'Cincinnati Bengals'\n",
    "bengals_data = nflpass[nflpass['Team'] == team_name7]\n",
    "mean_value = bengals_data['Off PassYds'].mean()\n",
    "median_value = bengals_data['Off PassYds'].median()\n",
    "std_value = bengals_data['Off PassYds'].std()\n",
    "var_value = bengals_data['Off PassYds'].var()\n",
    "min_value = bengals_data['Off PassYds'].min()\n",
    "max_value = bengals_data['Off PassYds'].max()\n",
    "data_range = max_value - min_value\n",
    "total_points = bengals_data['Off PassYds'].sum()\n",
    "print(\"Cincinnati Bengals Offense Passing Yards Mean:\", mean_value)\n",
    "print(\"Cincinnati Bengals Offense Passing Yards Median:\", median_value)\n",
    "print(\"Cincinnati Bengals Offense Passing Yards Standard Deviation:\", std_value)\n",
    "print(\"Cincinnati Bengals Offense Passing Yards Variance:\", var_value)\n",
    "print(\"Cincinnati Bengals Offense Passing Yards Minimum:\", min_value)\n",
    "print(\"Cincinnati Bengals Offense Passing Yards Maximum:\", max_value)\n",
    "print(\"Cincinnati Bengals Offense Passing Yards Range:\", data_range)\n",
    "print(\"Cincinnati Bengals Total Passing Yards 2012-2022:\", total_points)"
   ]
  },
  {
   "cell_type": "markdown",
   "id": "173eaf2f",
   "metadata": {},
   "source": [
    "### Cleveland Browns"
   ]
  },
  {
   "cell_type": "code",
   "execution_count": 16,
   "id": "e52f3585",
   "metadata": {},
   "outputs": [
    {
     "name": "stdout",
     "output_type": "stream",
     "text": [
      "Cleveland Browns Offense Passing Yards Mean: 3482.3636363636365\n",
      "Cleveland Browns Offense Passing Yards Median: 3444.0\n",
      "Cleveland Browns Offense Passing Yards Standard Deviation: 249.8796801371703\n",
      "Cleveland Browns Offense Passing Yards Variance: 62439.85454545455\n",
      "Cleveland Browns Offense Passing Yards Minimum: 3228\n",
      "Cleveland Browns Offense Passing Yards Maximum: 4047\n",
      "Cleveland Browns Offense Passing Yards Range: 819\n",
      "Cleveland Browns Total Passing Yards 2012-2022: 38306\n"
     ]
    }
   ],
   "source": [
    "team_name8 = 'Cleveland Browns'\n",
    "browns_data = nflpass[nflpass['Team'] == team_name8]\n",
    "mean_value = browns_data['Off PassYds'].mean()\n",
    "median_value = browns_data['Off PassYds'].median()\n",
    "std_value = browns_data['Off PassYds'].std()\n",
    "var_value = browns_data['Off PassYds'].var()\n",
    "min_value = browns_data['Off PassYds'].min()\n",
    "max_value = browns_data['Off PassYds'].max()\n",
    "data_range = max_value - min_value\n",
    "total_points = browns_data['Off PassYds'].sum()\n",
    "print(\"Cleveland Browns Offense Passing Yards Mean:\", mean_value)\n",
    "print(\"Cleveland Browns Offense Passing Yards Median:\", median_value)\n",
    "print(\"Cleveland Browns Offense Passing Yards Standard Deviation:\", std_value)\n",
    "print(\"Cleveland Browns Offense Passing Yards Variance:\", var_value)\n",
    "print(\"Cleveland Browns Offense Passing Yards Minimum:\", min_value)\n",
    "print(\"Cleveland Browns Offense Passing Yards Maximum:\", max_value)\n",
    "print(\"Cleveland Browns Offense Passing Yards Range:\", data_range)\n",
    "print(\"Cleveland Browns Total Passing Yards 2012-2022:\", total_points)"
   ]
  },
  {
   "cell_type": "markdown",
   "id": "57de92b0",
   "metadata": {},
   "source": [
    "### Dallas Cowboys"
   ]
  },
  {
   "cell_type": "code",
   "execution_count": 17,
   "id": "09b6c943",
   "metadata": {},
   "outputs": [
    {
     "name": "stdout",
     "output_type": "stream",
     "text": [
      "Dallas Cowboys Offense Passing Yards Mean: 3936.2727272727275\n",
      "Dallas Cowboys Offense Passing Yards Median: 3784.0\n",
      "Dallas Cowboys Offense Passing Yards Standard Deviation: 610.4852317475159\n",
      "Dallas Cowboys Offense Passing Yards Variance: 372692.2181818182\n",
      "Dallas Cowboys Offense Passing Yards Minimum: 3141\n",
      "Dallas Cowboys Offense Passing Yards Maximum: 4800\n",
      "Dallas Cowboys Offense Passing Yards Range: 1659\n",
      "Dallas Cowboys Total Passing Yards 2012-2022: 43299\n"
     ]
    }
   ],
   "source": [
    "team_name9 = 'Dallas Cowboys'\n",
    "cowboys_data = nflpass[nflpass['Team'] == team_name9]\n",
    "mean_value = cowboys_data['Off PassYds'].mean()\n",
    "median_value = cowboys_data['Off PassYds'].median()\n",
    "std_value = cowboys_data['Off PassYds'].std()\n",
    "var_value = cowboys_data['Off PassYds'].var()\n",
    "min_value = cowboys_data['Off PassYds'].min()\n",
    "max_value = cowboys_data['Off PassYds'].max()\n",
    "data_range = max_value - min_value\n",
    "total_points = cowboys_data['Off PassYds'].sum()\n",
    "print(\"Dallas Cowboys Offense Passing Yards Mean:\", mean_value)\n",
    "print(\"Dallas Cowboys Offense Passing Yards Median:\", median_value)\n",
    "print(\"Dallas Cowboys Offense Passing Yards Standard Deviation:\", std_value)\n",
    "print(\"Dallas Cowboys Offense Passing Yards Variance:\", var_value)\n",
    "print(\"Dallas Cowboys Offense Passing Yards Minimum:\", min_value)\n",
    "print(\"Dallas Cowboys Offense Passing Yards Maximum:\", max_value)\n",
    "print(\"Dallas Cowboys Offense Passing Yards Range:\", data_range)\n",
    "print(\"Dallas Cowboys Total Passing Yards 2012-2022:\", total_points)"
   ]
  },
  {
   "cell_type": "markdown",
   "id": "ed7577b1",
   "metadata": {},
   "source": [
    "### Denver Broncos"
   ]
  },
  {
   "cell_type": "code",
   "execution_count": 18,
   "id": "5792268c",
   "metadata": {},
   "outputs": [
    {
     "name": "stdout",
     "output_type": "stream",
     "text": [
      "Denver Broncos Offense Passing Yards Mean: 3882.818181818182\n",
      "Denver Broncos Offense Passing Yards Median: 3593.0\n",
      "Denver Broncos Offense Passing Yards Standard Deviation: 711.5340916894731\n",
      "Denver Broncos Offense Passing Yards Variance: 506280.76363636355\n",
      "Denver Broncos Offense Passing Yards Minimum: 3115\n",
      "Denver Broncos Offense Passing Yards Maximum: 5444\n",
      "Denver Broncos Offense Passing Yards Range: 2329\n",
      "Denver Broncos Total Passing Yards 2012-2022: 42711\n"
     ]
    }
   ],
   "source": [
    "team_name10 = 'Denver Broncos'\n",
    "broncos_data = nflpass[nflpass['Team'] == team_name10]\n",
    "mean_value = broncos_data['Off PassYds'].mean()\n",
    "median_value = broncos_data['Off PassYds'].median()\n",
    "std_value = broncos_data['Off PassYds'].std()\n",
    "var_value = broncos_data['Off PassYds'].var()\n",
    "min_value = broncos_data['Off PassYds'].min()\n",
    "max_value = broncos_data['Off PassYds'].max()\n",
    "data_range = max_value - min_value\n",
    "total_points = broncos_data['Off PassYds'].sum()\n",
    "print(\"Denver Broncos Offense Passing Yards Mean:\", mean_value)\n",
    "print(\"Denver Broncos Offense Passing Yards Median:\", median_value)\n",
    "print(\"Denver Broncos Offense Passing Yards Standard Deviation:\", std_value)\n",
    "print(\"Denver Broncos Offense Passing Yards Variance:\", var_value)\n",
    "print(\"Denver Broncos Offense Passing Yards Minimum:\", min_value)\n",
    "print(\"Denver Broncos Offense Passing Yards Maximum:\", max_value)\n",
    "print(\"Denver Broncos Offense Passing Yards Range:\", data_range)\n",
    "print(\"Denver Broncos Total Passing Yards 2012-2022:\", total_points)"
   ]
  },
  {
   "cell_type": "markdown",
   "id": "ac9a35d8",
   "metadata": {},
   "source": [
    "### Detroit Lions"
   ]
  },
  {
   "cell_type": "code",
   "execution_count": 19,
   "id": "95546a0e",
   "metadata": {},
   "outputs": [
    {
     "name": "stdout",
     "output_type": "stream",
     "text": [
      "Detroit Lions Offense Passing Yards Mean: 4182.818181818182\n",
      "Detroit Lions Offense Passing Yards Median: 4183.0\n",
      "Detroit Lions Offense Passing Yards Standard Deviation: 333.24610070691546\n",
      "Detroit Lions Offense Passing Yards Variance: 111052.96363636362\n",
      "Detroit Lions Offense Passing Yards Minimum: 3598\n",
      "Detroit Lions Offense Passing Yards Maximum: 4927\n",
      "Detroit Lions Offense Passing Yards Range: 1329\n",
      "Detroit Lions Total Passing Yards 2012-2022: 46011\n"
     ]
    }
   ],
   "source": [
    "team_name11 = 'Detroit Lions'\n",
    "lions_data = nflpass[nflpass['Team'] == team_name11]\n",
    "mean_value = lions_data['Off PassYds'].mean()\n",
    "median_value = lions_data['Off PassYds'].median()\n",
    "std_value = lions_data['Off PassYds'].std()\n",
    "var_value = lions_data['Off PassYds'].var()\n",
    "min_value = lions_data['Off PassYds'].min()\n",
    "max_value = lions_data['Off PassYds'].max()\n",
    "data_range = max_value - min_value\n",
    "total_points = lions_data['Off PassYds'].sum()\n",
    "print(\"Detroit Lions Offense Passing Yards Mean:\", mean_value)\n",
    "print(\"Detroit Lions Offense Passing Yards Median:\", median_value)\n",
    "print(\"Detroit Lions Offense Passing Yards Standard Deviation:\", std_value)\n",
    "print(\"Detroit Lions Offense Passing Yards Variance:\", var_value)\n",
    "print(\"Detroit Lions Offense Passing Yards Minimum:\", min_value)\n",
    "print(\"Detroit Lions Offense Passing Yards Maximum:\", max_value)\n",
    "print(\"Detroit Lions Offense Passing Yards Range:\", data_range)\n",
    "print(\"Detroit Lions Total Passing Yards 2012-2022:\", total_points)"
   ]
  },
  {
   "cell_type": "markdown",
   "id": "c086e216",
   "metadata": {},
   "source": [
    "### Green Bay Packers"
   ]
  },
  {
   "cell_type": "code",
   "execution_count": 20,
   "id": "10cc7e0f",
   "metadata": {},
   "outputs": [
    {
     "name": "stdout",
     "output_type": "stream",
     "text": [
      "Green Bay Packers Offense Passing Yards Mean: 3854.5454545454545\n",
      "Green Bay Packers Offense Passing Yards Median: 4049.0\n",
      "Green Bay Packers Offense Passing Yards Standard Deviation: 436.0253120258877\n",
      "Green Bay Packers Offense Passing Yards Variance: 190118.07272727272\n",
      "Green Bay Packers Offense Passing Yards Minimum: 3167\n",
      "Green Bay Packers Offense Passing Yards Maximum: 4315\n",
      "Green Bay Packers Offense Passing Yards Range: 1148\n",
      "Green Bay Packers Total Passing Yards 2012-2022: 42400\n"
     ]
    }
   ],
   "source": [
    "team_name12 = 'Green Bay Packers'\n",
    "packers_data = nflpass[nflpass['Team'] == team_name12]\n",
    "mean_value = packers_data['Off PassYds'].mean()\n",
    "median_value = packers_data['Off PassYds'].median()\n",
    "std_value = packers_data['Off PassYds'].std()\n",
    "var_value = packers_data['Off PassYds'].var()\n",
    "min_value = packers_data['Off PassYds'].min()\n",
    "max_value = packers_data['Off PassYds'].max()\n",
    "data_range = max_value - min_value\n",
    "total_points = packers_data['Off PassYds'].sum()\n",
    "print(\"Green Bay Packers Offense Passing Yards Mean:\", mean_value)\n",
    "print(\"Green Bay Packers Offense Passing Yards Median:\", median_value)\n",
    "print(\"Green Bay Packers Offense Passing Yards Standard Deviation:\", std_value)\n",
    "print(\"Green Bay Packers Offense Passing Yards Variance:\", var_value)\n",
    "print(\"Green Bay Packers Offense Passing Yards Minimum:\", min_value)\n",
    "print(\"Green Bay Packers Offense Passing Yards Maximum:\", max_value)\n",
    "print(\"Green Bay Packers Offense Passing Yards Range:\", data_range)\n",
    "print(\"Green Bay Packers Total Passing Yards 2012-2022:\", total_points)"
   ]
  },
  {
   "cell_type": "markdown",
   "id": "8d26c50c",
   "metadata": {},
   "source": [
    "### Houston Texans"
   ]
  },
  {
   "cell_type": "code",
   "execution_count": 21,
   "id": "495d2c07",
   "metadata": {},
   "outputs": [
    {
     "name": "stdout",
     "output_type": "stream",
     "text": [
      "Houston Texans Offense Passing Yards Mean: 3593.6363636363635\n",
      "Houston Texans Offense Passing Yards Median: 3352.0\n",
      "Houston Texans Offense Passing Yards Standard Deviation: 408.2468059219258\n",
      "Houston Texans Offense Passing Yards Variance: 166665.45454545456\n",
      "Houston Texans Offense Passing Yards Minimum: 3176\n",
      "Houston Texans Offense Passing Yards Maximum: 4538\n",
      "Houston Texans Offense Passing Yards Range: 1362\n",
      "Houston Texans Total Passing Yards 2012-2022: 39530\n"
     ]
    }
   ],
   "source": [
    "team_name13 = 'Houston Texans'\n",
    "texans_data = nflpass[nflpass['Team'] == team_name13]\n",
    "mean_value = texans_data['Off PassYds'].mean()\n",
    "median_value = texans_data['Off PassYds'].median()\n",
    "std_value = texans_data['Off PassYds'].std()\n",
    "var_value = texans_data['Off PassYds'].var()\n",
    "min_value = texans_data['Off PassYds'].min()\n",
    "max_value = texans_data['Off PassYds'].max()\n",
    "data_range = max_value - min_value\n",
    "total_points = texans_data['Off PassYds'].sum()\n",
    "print(\"Houston Texans Offense Passing Yards Mean:\", mean_value)\n",
    "print(\"Houston Texans Offense Passing Yards Median:\", median_value)\n",
    "print(\"Houston Texans Offense Passing Yards Standard Deviation:\", std_value)\n",
    "print(\"Houston Texans Offense Passing Yards Variance:\", var_value)\n",
    "print(\"Houston Texans Offense Passing Yards Minimum:\", min_value)\n",
    "print(\"Houston Texans Offense Passing Yards Maximum:\", max_value)\n",
    "print(\"Houston Texans Offense Passing Yards Range:\", data_range)\n",
    "print(\"Houston Texans Total Passing Yards 2012-2022:\", total_points)"
   ]
  },
  {
   "cell_type": "markdown",
   "id": "b74d8fd8",
   "metadata": {},
   "source": [
    "### Indianapolis Colts"
   ]
  },
  {
   "cell_type": "code",
   "execution_count": 22,
   "id": "fbb59088",
   "metadata": {},
   "outputs": [
    {
     "name": "stdout",
     "output_type": "stream",
     "text": [
      "Indianapolis Colts Offense Passing Yards Mean: 3671.909090909091\n",
      "Indianapolis Colts Offense Passing Yards Median: 3704.0\n",
      "Indianapolis Colts Offense Passing Yards Standard Deviation: 618.0882549515812\n",
      "Indianapolis Colts Offense Passing Yards Variance: 382033.09090909094\n",
      "Indianapolis Colts Offense Passing Yards Minimum: 2892\n",
      "Indianapolis Colts Offense Passing Yards Maximum: 4894\n",
      "Indianapolis Colts Offense Passing Yards Range: 2002\n",
      "Indianapolis Colts Total Passing Yards 2012-2022: 40391\n"
     ]
    }
   ],
   "source": [
    "team_name14 = 'Indianapolis Colts'\n",
    "colts_data = nflpass[nflpass['Team'] == team_name14]\n",
    "mean_value = colts_data['Off PassYds'].mean()\n",
    "median_value = colts_data['Off PassYds'].median()\n",
    "std_value = colts_data['Off PassYds'].std()\n",
    "var_value = colts_data['Off PassYds'].var()\n",
    "min_value = colts_data['Off PassYds'].min()\n",
    "max_value = colts_data['Off PassYds'].max()\n",
    "data_range = max_value - min_value\n",
    "total_points = colts_data['Off PassYds'].sum()\n",
    "print(\"Indianapolis Colts Offense Passing Yards Mean:\", mean_value)\n",
    "print(\"Indianapolis Colts Offense Passing Yards Median:\", median_value)\n",
    "print(\"Indianapolis Colts Offense Passing Yards Standard Deviation:\", std_value)\n",
    "print(\"Indianapolis Colts Offense Passing Yards Variance:\", var_value)\n",
    "print(\"Indianapolis Colts Offense Passing Yards Minimum:\", min_value)\n",
    "print(\"Indianapolis Colts Offense Passing Yards Maximum:\", max_value)\n",
    "print(\"Indianapolis Colts Offense Passing Yards Range:\", data_range)\n",
    "print(\"Indianapolis Colts Total Passing Yards 2012-2022:\", total_points)"
   ]
  },
  {
   "cell_type": "markdown",
   "id": "e8c6e962",
   "metadata": {},
   "source": [
    "### Jacksonville Jaguars"
   ]
  },
  {
   "cell_type": "code",
   "execution_count": 23,
   "id": "a1e5e5d6",
   "metadata": {},
   "outputs": [
    {
     "name": "stdout",
     "output_type": "stream",
     "text": [
      "Jacksonville Jaguars Offense Passing Yards Mean: 3612.4545454545455\n",
      "Jacksonville Jaguars Offense Passing Yards Median: 3593.0\n",
      "Jacksonville Jaguars Offense Passing Yards Standard Deviation: 296.7929795788181\n",
      "Jacksonville Jaguars Offense Passing Yards Variance: 88086.07272727275\n",
      "Jacksonville Jaguars Offense Passing Yards Minimum: 3001\n",
      "Jacksonville Jaguars Offense Passing Yards Maximum: 4108\n",
      "Jacksonville Jaguars Offense Passing Yards Range: 1107\n",
      "Jacksonville Jaguars Total Passing Yards 2012-2022: 39737\n"
     ]
    }
   ],
   "source": [
    "team_name15 = 'Jacksonville Jaguars'\n",
    "jaguars_data = nflpass[nflpass['Team'] == team_name15]\n",
    "mean_value = jaguars_data['Off PassYds'].mean()\n",
    "median_value = jaguars_data['Off PassYds'].median()\n",
    "std_value = jaguars_data['Off PassYds'].std()\n",
    "var_value = jaguars_data['Off PassYds'].var()\n",
    "min_value = jaguars_data['Off PassYds'].min()\n",
    "max_value = jaguars_data['Off PassYds'].max()\n",
    "data_range = max_value - min_value\n",
    "total_points = jaguars_data['Off PassYds'].sum()\n",
    "print(\"Jacksonville Jaguars Offense Passing Yards Mean:\", mean_value)\n",
    "print(\"Jacksonville Jaguars Offense Passing Yards Median:\", median_value)\n",
    "print(\"Jacksonville Jaguars Offense Passing Yards Standard Deviation:\", std_value)\n",
    "print(\"Jacksonville Jaguars Offense Passing Yards Variance:\", var_value)\n",
    "print(\"Jacksonville Jaguars Offense Passing Yards Minimum:\", min_value)\n",
    "print(\"Jacksonville Jaguars Offense Passing Yards Maximum:\", max_value)\n",
    "print(\"Jacksonville Jaguars Offense Passing Yards Range:\", data_range)\n",
    "print(\"Jacksonville Jaguars Total Passing Yards 2012-2022:\", total_points)"
   ]
  },
  {
   "cell_type": "markdown",
   "id": "7411a9f5",
   "metadata": {},
   "source": [
    "### Kansas City Chiefs"
   ]
  },
  {
   "cell_type": "code",
   "execution_count": 4,
   "id": "40a3c0eb",
   "metadata": {},
   "outputs": [
    {
     "name": "stdout",
     "output_type": "stream",
     "text": [
      "Kansas City Chiefs Offense Passing Yards Mean: 3967.5454545454545\n",
      "Kansas City Chiefs Offense Passing Yards Median: 4104.0\n",
      "Kansas City Chiefs Offense Passing Yards Standard Deviation: 782.598794228098\n",
      "Kansas City Chiefs Offense Passing Yards Variance: 612460.8727272728\n",
      "Kansas City Chiefs Offense Passing Yards Minimum: 2713\n",
      "Kansas City Chiefs Offense Passing Yards Maximum: 5062\n",
      "Kansas City Chiefs Offense Passing Yards Range: 2349\n",
      "Kansas City Chiefs Total Passing Yards 2012-2022: 43643\n"
     ]
    }
   ],
   "source": [
    "team_name16 = 'Kansas City Chiefs'\n",
    "chiefs_data = nflpass[nflpass['Team'] == team_name16]\n",
    "mean_value = chiefs_data['Off PassYds'].mean()\n",
    "median_value = chiefs_data['Off PassYds'].median()\n",
    "std_value = chiefs_data['Off PassYds'].std()\n",
    "var_value = chiefs_data['Off PassYds'].var()\n",
    "min_value = chiefs_data['Off PassYds'].min()\n",
    "max_value = chiefs_data['Off PassYds'].max()\n",
    "data_range = max_value - min_value\n",
    "total_points = chiefs_data['Off PassYds'].sum()\n",
    "print(\"Kansas City Chiefs Offense Passing Yards Mean:\", mean_value)\n",
    "print(\"Kansas City Chiefs Offense Passing Yards Median:\", median_value)\n",
    "print(\"Kansas City Chiefs Offense Passing Yards Standard Deviation:\", std_value)\n",
    "print(\"Kansas City Chiefs Offense Passing Yards Variance:\", var_value)\n",
    "print(\"Kansas City Chiefs Offense Passing Yards Minimum:\", min_value)\n",
    "print(\"Kansas City Chiefs Offense Passing Yards Maximum:\", max_value)\n",
    "print(\"Kansas City Chiefs Offense Passing Yards Range:\", data_range)\n",
    "print(\"Kansas City Chiefs Total Passing Yards 2012-2022:\", total_points)"
   ]
  },
  {
   "cell_type": "markdown",
   "id": "57e2b288",
   "metadata": {},
   "source": [
    "### Las Vegas Raiders"
   ]
  },
  {
   "cell_type": "code",
   "execution_count": 5,
   "id": "660b9495",
   "metadata": {},
   "outputs": [
    {
     "name": "stdout",
     "output_type": "stream",
     "text": [
      "Las Vegas Raiders Offense Passing Yards Mean: 3866.818181818182\n",
      "Las Vegas Raiders Offense Passing Yards Median: 3926.0\n",
      "Las Vegas Raiders Offense Passing Yards Standard Deviation: 379.62397663525365\n",
      "Las Vegas Raiders Offense Passing Yards Variance: 144114.36363636362\n",
      "Las Vegas Raiders Offense Passing Yards Minimum: 3275\n",
      "Las Vegas Raiders Offense Passing Yards Maximum: 4567\n",
      "Las Vegas Raiders Offense Passing Yards Range: 1292\n",
      "Las Vegas Raiders Total Passing Yards 2012-2022: 42535\n"
     ]
    }
   ],
   "source": [
    "team_name17 = 'Las Vegas Raiders'\n",
    "raiders_data = nflpass[nflpass['Team'] == team_name17]\n",
    "mean_value = raiders_data['Off PassYds'].mean()\n",
    "median_value = raiders_data['Off PassYds'].median()\n",
    "std_value = raiders_data['Off PassYds'].std()\n",
    "var_value = raiders_data['Off PassYds'].var()\n",
    "min_value = raiders_data['Off PassYds'].min()\n",
    "max_value = raiders_data['Off PassYds'].max()\n",
    "data_range = max_value - min_value\n",
    "total_points = raiders_data['Off PassYds'].sum()\n",
    "print(\"Las Vegas Raiders Offense Passing Yards Mean:\", mean_value)\n",
    "print(\"Las Vegas Raiders Offense Passing Yards Median:\", median_value)\n",
    "print(\"Las Vegas Raiders Offense Passing Yards Standard Deviation:\", std_value)\n",
    "print(\"Las Vegas Raiders Offense Passing Yards Variance:\", var_value)\n",
    "print(\"Las Vegas Raiders Offense Passing Yards Minimum:\", min_value)\n",
    "print(\"Las Vegas Raiders Offense Passing Yards Maximum:\", max_value)\n",
    "print(\"Las Vegas Raiders Offense Passing Yards Range:\", data_range)\n",
    "print(\"Las Vegas Raiders Total Passing Yards 2012-2022:\", total_points)"
   ]
  },
  {
   "cell_type": "markdown",
   "id": "d660b9ec",
   "metadata": {},
   "source": [
    "### Los Angeles Chargers"
   ]
  },
  {
   "cell_type": "code",
   "execution_count": 6,
   "id": "9542bf0f",
   "metadata": {},
   "outputs": [
    {
     "name": "stdout",
     "output_type": "stream",
     "text": [
      "Los Angeles Chargers Offense Passing Yards Mean: 4319.181818181818\n",
      "Los Angeles Chargers Offense Passing Yards Median: 4426.0\n",
      "Los Angeles Chargers Offense Passing Yards Standard Deviation: 390.428692127466\n",
      "Los Angeles Chargers Offense Passing Yards Variance: 152434.56363636363\n",
      "Los Angeles Chargers Offense Passing Yards Minimum: 3295\n",
      "Los Angeles Chargers Offense Passing Yards Maximum: 4800\n",
      "Los Angeles Chargers Offense Passing Yards Range: 1505\n",
      "Los Angeles Chargers Total Passing Yards 2012-2022: 47511\n"
     ]
    }
   ],
   "source": [
    "team_name18 = 'Los Angeles Chargers'\n",
    "chargers_data = nflpass[nflpass['Team'] == team_name18]\n",
    "mean_value = chargers_data['Off PassYds'].mean()\n",
    "median_value = chargers_data['Off PassYds'].median()\n",
    "std_value = chargers_data['Off PassYds'].std()\n",
    "var_value = chargers_data['Off PassYds'].var()\n",
    "min_value = chargers_data['Off PassYds'].min()\n",
    "max_value = chargers_data['Off PassYds'].max()\n",
    "data_range = max_value - min_value\n",
    "total_points = chargers_data['Off PassYds'].sum()\n",
    "print(\"Los Angeles Chargers Offense Passing Yards Mean:\", mean_value)\n",
    "print(\"Los Angeles Chargers Offense Passing Yards Median:\", median_value)\n",
    "print(\"Los Angeles Chargers Offense Passing Yards Standard Deviation:\", std_value)\n",
    "print(\"Los Angeles Chargers Offense Passing Yards Variance:\", var_value)\n",
    "print(\"Los Angeles Chargers Offense Passing Yards Minimum:\", min_value)\n",
    "print(\"Los Angeles Chargers Offense Passing Yards Maximum:\", max_value)\n",
    "print(\"Los Angeles Chargers Offense Passing Yards Range:\", data_range)\n",
    "print(\"Los Angeles Chargers Total Passing Yards 2012-2022:\", total_points)"
   ]
  },
  {
   "cell_type": "markdown",
   "id": "eec97d47",
   "metadata": {},
   "source": [
    "### Los Angeles Rams"
   ]
  },
  {
   "cell_type": "code",
   "execution_count": 7,
   "id": "52300d2a",
   "metadata": {},
   "outputs": [
    {
     "name": "stdout",
     "output_type": "stream",
     "text": [
      "Los Angeles Rams Offense Passing Yards Mean: 3614.181818181818\n",
      "Los Angeles Rams Offense Passing Yards Median: 3550.0\n",
      "Los Angeles Rams Offense Passing Yards Standard Deviation: 611.0061895237753\n",
      "Los Angeles Rams Offense Passing Yards Variance: 373328.5636363636\n",
      "Los Angeles Rams Offense Passing Yards Minimum: 2805\n",
      "Los Angeles Rams Offense Passing Yards Maximum: 4642\n",
      "Los Angeles Rams Offense Passing Yards Range: 1837\n",
      "Los Angeles Rams Total Passing Yards 2012-2022: 39756\n"
     ]
    }
   ],
   "source": [
    "team_name19 = 'Los Angeles Rams'\n",
    "Rams_data = nflpass[nflpass['Team'] == team_name19]\n",
    "mean_value = Rams_data['Off PassYds'].mean()\n",
    "median_value = Rams_data['Off PassYds'].median()\n",
    "std_value = Rams_data['Off PassYds'].std()\n",
    "var_value = Rams_data['Off PassYds'].var()\n",
    "min_value = Rams_data['Off PassYds'].min()\n",
    "max_value = Rams_data['Off PassYds'].max()\n",
    "data_range = max_value - min_value\n",
    "total_points = Rams_data['Off PassYds'].sum()\n",
    "print(\"Los Angeles Rams Offense Passing Yards Mean:\", mean_value)\n",
    "print(\"Los Angeles Rams Offense Passing Yards Median:\", median_value)\n",
    "print(\"Los Angeles Rams Offense Passing Yards Standard Deviation:\", std_value)\n",
    "print(\"Los Angeles Rams Offense Passing Yards Variance:\", var_value)\n",
    "print(\"Los Angeles Rams Offense Passing Yards Minimum:\", min_value)\n",
    "print(\"Los Angeles Rams Offense Passing Yards Maximum:\", max_value)\n",
    "print(\"Los Angeles Rams Offense Passing Yards Range:\", data_range)\n",
    "print(\"Los Angeles Rams Total Passing Yards 2012-2022:\", total_points)"
   ]
  },
  {
   "cell_type": "markdown",
   "id": "07002bc4",
   "metadata": {},
   "source": [
    "### Miami Dolphins"
   ]
  },
  {
   "cell_type": "code",
   "execution_count": 8,
   "id": "fdb4368a",
   "metadata": {},
   "outputs": [
    {
     "name": "stdout",
     "output_type": "stream",
     "text": [
      "Miami Dolphins Offense Passing Yards Mean: 3687.3636363636365\n",
      "Miami Dolphins Offense Passing Yards Median: 3651.0\n",
      "Miami Dolphins Offense Passing Yards Standard Deviation: 326.20584689035627\n",
      "Miami Dolphins Offense Passing Yards Variance: 106410.25454545455\n",
      "Miami Dolphins Offense Passing Yards Minimum: 3182\n",
      "Miami Dolphins Offense Passing Yards Maximum: 4511\n",
      "Miami Dolphins Offense Passing Yards Range: 1329\n",
      "Miami Dolphins Total Passing Yards 2012-2022: 40561\n"
     ]
    }
   ],
   "source": [
    "team_name20 = 'Miami Dolphins'\n",
    "dolphins_data = nflpass[nflpass['Team'] == team_name20]\n",
    "mean_value = dolphins_data['Off PassYds'].mean()\n",
    "median_value = dolphins_data['Off PassYds'].median()\n",
    "std_value = dolphins_data['Off PassYds'].std()\n",
    "var_value = dolphins_data['Off PassYds'].var()\n",
    "min_value = dolphins_data['Off PassYds'].min()\n",
    "max_value = dolphins_data['Off PassYds'].max()\n",
    "data_range = max_value - min_value\n",
    "total_points = dolphins_data['Off PassYds'].sum()\n",
    "print(\"Miami Dolphins Offense Passing Yards Mean:\", mean_value)\n",
    "print(\"Miami Dolphins Offense Passing Yards Median:\", median_value)\n",
    "print(\"Miami Dolphins Offense Passing Yards Standard Deviation:\", std_value)\n",
    "print(\"Miami Dolphins Offense Passing Yards Variance:\", var_value)\n",
    "print(\"Miami Dolphins Offense Passing Yards Minimum:\", min_value)\n",
    "print(\"Miami Dolphins Offense Passing Yards Maximum:\", max_value)\n",
    "print(\"Miami Dolphins Offense Passing Yards Range:\", data_range)\n",
    "print(\"Miami Dolphins Total Passing Yards 2012-2022:\", total_points)"
   ]
  },
  {
   "cell_type": "markdown",
   "id": "c06d30e1",
   "metadata": {},
   "source": [
    "### Minnesota Vikings"
   ]
  },
  {
   "cell_type": "code",
   "execution_count": 9,
   "id": "79714a76",
   "metadata": {},
   "outputs": [
    {
     "name": "stdout",
     "output_type": "stream",
     "text": [
      "Minnesota Vikings Offense Passing Yards Mean: 3631.4545454545455\n",
      "Minnesota Vikings Offense Passing Yards Median: 3753.0\n",
      "Minnesota Vikings Offense Passing Yards Standard Deviation: 527.4837179736193\n",
      "Minnesota Vikings Offense Passing Yards Variance: 278239.07272727275\n",
      "Minnesota Vikings Offense Passing Yards Minimum: 2751\n",
      "Minnesota Vikings Offense Passing Yards Maximum: 4484\n",
      "Minnesota Vikings Offense Passing Yards Range: 1733\n",
      "Minnesota Vikings Total Passing Yards 2012-2022: 39946\n"
     ]
    }
   ],
   "source": [
    "team_name21 = 'Minnesota Vikings'\n",
    "vikings_data = nflpass[nflpass['Team'] == team_name21]\n",
    "mean_value = vikings_data['Off PassYds'].mean()\n",
    "median_value = vikings_data['Off PassYds'].median()\n",
    "std_value = vikings_data['Off PassYds'].std()\n",
    "var_value = vikings_data['Off PassYds'].var()\n",
    "min_value = vikings_data['Off PassYds'].min()\n",
    "max_value = vikings_data['Off PassYds'].max()\n",
    "data_range = max_value - min_value\n",
    "total_points = vikings_data['Off PassYds'].sum()\n",
    "print(\"Minnesota Vikings Offense Passing Yards Mean:\", mean_value)\n",
    "print(\"Minnesota Vikings Offense Passing Yards Median:\", median_value)\n",
    "print(\"Minnesota Vikings Offense Passing Yards Standard Deviation:\", std_value)\n",
    "print(\"Minnesota Vikings Offense Passing Yards Variance:\", var_value)\n",
    "print(\"Minnesota Vikings Offense Passing Yards Minimum:\", min_value)\n",
    "print(\"Minnesota Vikings Offense Passing Yards Maximum:\", max_value)\n",
    "print(\"Minnesota Vikings Offense Passing Yards Range:\", data_range)\n",
    "print(\"Minnesota Vikings Total Passing Yards 2012-2022:\", total_points)"
   ]
  },
  {
   "cell_type": "markdown",
   "id": "34a38cc7",
   "metadata": {},
   "source": [
    "### New England Patriots"
   ]
  },
  {
   "cell_type": "code",
   "execution_count": 10,
   "id": "cf1f9bb3",
   "metadata": {},
   "outputs": [
    {
     "name": "stdout",
     "output_type": "stream",
     "text": [
      "New England Patriots Offense Passing Yards Mean: 4076.818181818182\n",
      "New England Patriots Offense Passing Yards Median: 4121.0\n",
      "New England Patriots Offense Passing Yards Standard Deviation: 515.1494575716484\n",
      "New England Patriots Offense Passing Yards Variance: 265378.9636363636\n",
      "New England Patriots Offense Passing Yards Minimum: 2890\n",
      "New England Patriots Offense Passing Yards Maximum: 4662\n",
      "New England Patriots Offense Passing Yards Range: 1772\n",
      "New England Patriots Total Passing Yards 2012-2022: 44845\n"
     ]
    }
   ],
   "source": [
    "team_name22 = 'New England Patriots'\n",
    "patriots_data = nflpass[nflpass['Team'] == team_name22]\n",
    "mean_value = patriots_data['Off PassYds'].mean()\n",
    "median_value = patriots_data['Off PassYds'].median()\n",
    "std_value = patriots_data['Off PassYds'].std()\n",
    "var_value = patriots_data['Off PassYds'].var()\n",
    "min_value = patriots_data['Off PassYds'].min()\n",
    "max_value = patriots_data['Off PassYds'].max()\n",
    "data_range = max_value - min_value\n",
    "total_points = patriots_data['Off PassYds'].sum()\n",
    "print(\"New England Patriots Offense Passing Yards Mean:\", mean_value)\n",
    "print(\"New England Patriots Offense Passing Yards Median:\", median_value)\n",
    "print(\"New England Patriots Offense Passing Yards Standard Deviation:\", std_value)\n",
    "print(\"New England Patriots Offense Passing Yards Variance:\", var_value)\n",
    "print(\"New England Patriots Offense Passing Yards Minimum:\", min_value)\n",
    "print(\"New England Patriots Offense Passing Yards Maximum:\", max_value)\n",
    "print(\"New England Patriots Offense Passing Yards Range:\", data_range)\n",
    "print(\"New England Patriots Total Passing Yards 2012-2022:\", total_points)"
   ]
  },
  {
   "cell_type": "markdown",
   "id": "7baeda4c",
   "metadata": {},
   "source": [
    "### New Orleans Saints"
   ]
  },
  {
   "cell_type": "code",
   "execution_count": 11,
   "id": "bf2b0c3c",
   "metadata": {},
   "outputs": [
    {
     "name": "stdout",
     "output_type": "stream",
     "text": [
      "New Orleans Saints Offense Passing Yards Mean: 4379.2\n",
      "New Orleans Saints Offense Passing Yards Median: 4504.0\n",
      "New Orleans Saints Offense Passing Yards Standard Deviation: 665.6792354012888\n",
      "New Orleans Saints Offense Passing Yards Variance: 443128.84444444446\n",
      "New Orleans Saints Offense Passing Yards Minimum: 3186\n",
      "New Orleans Saints Offense Passing Yards Maximum: 5074\n",
      "New Orleans Saints Offense Passing Yards Range: 1888\n",
      "New Orleans Saints Total Passing Yards 2012-2022: 43792\n"
     ]
    }
   ],
   "source": [
    "team_name23 = 'New Orleans Saints'\n",
    "saints_data = nflpass[nflpass['Team'] == team_name23]\n",
    "mean_value = saints_data['Off PassYds'].mean()\n",
    "median_value = saints_data['Off PassYds'].median()\n",
    "std_value = saints_data['Off PassYds'].std()\n",
    "var_value = saints_data['Off PassYds'].var()\n",
    "min_value = saints_data['Off PassYds'].min()\n",
    "max_value = saints_data['Off PassYds'].max()\n",
    "data_range = max_value - min_value\n",
    "total_points = saints_data['Off PassYds'].sum()\n",
    "print(\"New Orleans Saints Offense Passing Yards Mean:\", mean_value)\n",
    "print(\"New Orleans Saints Offense Passing Yards Median:\", median_value)\n",
    "print(\"New Orleans Saints Offense Passing Yards Standard Deviation:\", std_value)\n",
    "print(\"New Orleans Saints Offense Passing Yards Variance:\", var_value)\n",
    "print(\"New Orleans Saints Offense Passing Yards Minimum:\", min_value)\n",
    "print(\"New Orleans Saints Offense Passing Yards Maximum:\", max_value)\n",
    "print(\"New Orleans Saints Offense Passing Yards Range:\", data_range)\n",
    "print(\"New Orleans Saints Total Passing Yards 2012-2022:\", total_points)"
   ]
  },
  {
   "cell_type": "markdown",
   "id": "11987db6",
   "metadata": {},
   "source": [
    "### New York Giants"
   ]
  },
  {
   "cell_type": "code",
   "execution_count": 12,
   "id": "6cc4fd77",
   "metadata": {},
   "outputs": [
    {
     "name": "stdout",
     "output_type": "stream",
     "text": [
      "New York Giants Offense Passing Yards Mean: 3634.090909090909\n",
      "New York Giants Offense Passing Yards Median: 3588.0\n",
      "New York Giants Offense Passing Yards Standard Deviation: 430.67887214151904\n",
      "New York Giants Offense Passing Yards Variance: 185484.29090909092\n",
      "New York Giants Offense Passing Yards Minimum: 3026\n",
      "New York Giants Offense Passing Yards Maximum: 4343\n",
      "New York Giants Offense Passing Yards Range: 1317\n",
      "New York Giants Total Passing Yards 2012-2022: 39975\n"
     ]
    }
   ],
   "source": [
    "team_name24 = 'New York Giants'\n",
    "giants_data = nflpass[nflpass['Team'] == team_name24]\n",
    "mean_value = giants_data['Off PassYds'].mean()\n",
    "median_value = giants_data['Off PassYds'].median()\n",
    "std_value = giants_data['Off PassYds'].std()\n",
    "var_value = giants_data['Off PassYds'].var()\n",
    "min_value = giants_data['Off PassYds'].min()\n",
    "max_value = giants_data['Off PassYds'].max()\n",
    "data_range = max_value - min_value\n",
    "total_points = giants_data['Off PassYds'].sum()\n",
    "print(\"New York Giants Offense Passing Yards Mean:\", mean_value)\n",
    "print(\"New York Giants Offense Passing Yards Median:\", median_value)\n",
    "print(\"New York Giants Offense Passing Yards Standard Deviation:\", std_value)\n",
    "print(\"New York Giants Offense Passing Yards Variance:\", var_value)\n",
    "print(\"New York Giants Offense Passing Yards Minimum:\", min_value)\n",
    "print(\"New York Giants Offense Passing Yards Maximum:\", max_value)\n",
    "print(\"New York Giants Offense Passing Yards Range:\", data_range)\n",
    "print(\"New York Giants Total Passing Yards 2012-2022:\", total_points)"
   ]
  },
  {
   "cell_type": "markdown",
   "id": "e1511664",
   "metadata": {},
   "source": [
    "### New York Jets"
   ]
  },
  {
   "cell_type": "code",
   "execution_count": 13,
   "id": "ad484990",
   "metadata": {},
   "outputs": [
    {
     "name": "stdout",
     "output_type": "stream",
     "text": [
      "New York Jets Offense Passing Yards Mean: 3257.0\n",
      "New York Jets Offense Passing Yards Median: 3182.0\n",
      "New York Jets Offense Passing Yards Standard Deviation: 395.33302417076163\n",
      "New York Jets Offense Passing Yards Variance: 156288.2\n",
      "New York Jets Offense Passing Yards Minimum: 2796\n",
      "New York Jets Offense Passing Yards Maximum: 4057\n",
      "New York Jets Offense Passing Yards Range: 1261\n",
      "New York Jets Total Passing Yards 2012-2022: 35827\n"
     ]
    }
   ],
   "source": [
    "team_name25 = 'New York Jets'\n",
    "Jets_data = nflpass[nflpass['Team'] == team_name25]\n",
    "mean_value = Jets_data['Off PassYds'].mean()\n",
    "median_value = Jets_data['Off PassYds'].median()\n",
    "std_value = Jets_data['Off PassYds'].std()\n",
    "var_value = Jets_data['Off PassYds'].var()\n",
    "min_value = Jets_data['Off PassYds'].min()\n",
    "max_value = Jets_data['Off PassYds'].max()\n",
    "data_range = max_value - min_value\n",
    "total_points = Jets_data['Off PassYds'].sum()\n",
    "print(\"New York Jets Offense Passing Yards Mean:\", mean_value)\n",
    "print(\"New York Jets Offense Passing Yards Median:\", median_value)\n",
    "print(\"New York Jets Offense Passing Yards Standard Deviation:\", std_value)\n",
    "print(\"New York Jets Offense Passing Yards Variance:\", var_value)\n",
    "print(\"New York Jets Offense Passing Yards Minimum:\", min_value)\n",
    "print(\"New York Jets Offense Passing Yards Maximum:\", max_value)\n",
    "print(\"New York Jets Offense Passing Yards Range:\", data_range)\n",
    "print(\"New York Jets Total Passing Yards 2012-2022:\", total_points)"
   ]
  },
  {
   "cell_type": "markdown",
   "id": "060cb418",
   "metadata": {},
   "source": [
    "### Philadelphia Eagles"
   ]
  },
  {
   "cell_type": "code",
   "execution_count": 14,
   "id": "6699aa1f",
   "metadata": {},
   "outputs": [
    {
     "name": "stdout",
     "output_type": "stream",
     "text": [
      "Philadelphia Eagles Offense Passing Yards Mean: 3824.7272727272725\n",
      "Philadelphia Eagles Offense Passing Yards Median: 3791.0\n",
      "Philadelphia Eagles Offense Passing Yards Standard Deviation: 317.7707006346214\n",
      "Philadelphia Eagles Offense Passing Yards Variance: 100978.21818181819\n",
      "Philadelphia Eagles Offense Passing Yards Minimum: 3327\n",
      "Philadelphia Eagles Offense Passing Yards Maximum: 4356\n",
      "Philadelphia Eagles Offense Passing Yards Range: 1029\n",
      "Philadelphia Eagles Total Passing Yards 2012-2022: 42072\n"
     ]
    }
   ],
   "source": [
    "team_name26 = 'Philadelphia Eagles'\n",
    "eagles_data = nflpass[nflpass['Team'] == team_name26]\n",
    "mean_value = eagles_data['Off PassYds'].mean()\n",
    "median_value = eagles_data['Off PassYds'].median()\n",
    "std_value = eagles_data['Off PassYds'].std()\n",
    "var_value = eagles_data['Off PassYds'].var()\n",
    "min_value = eagles_data['Off PassYds'].min()\n",
    "max_value = eagles_data['Off PassYds'].max()\n",
    "data_range = max_value - min_value\n",
    "total_points = eagles_data['Off PassYds'].sum()\n",
    "print(\"Philadelphia Eagles Offense Passing Yards Mean:\", mean_value)\n",
    "print(\"Philadelphia Eagles Offense Passing Yards Median:\", median_value)\n",
    "print(\"Philadelphia Eagles Offense Passing Yards Standard Deviation:\", std_value)\n",
    "print(\"Philadelphia Eagles Offense Passing Yards Variance:\", var_value)\n",
    "print(\"Philadelphia Eagles Offense Passing Yards Minimum:\", min_value)\n",
    "print(\"Philadelphia Eagles Offense Passing Yards Maximum:\", max_value)\n",
    "print(\"Philadelphia Eagles Offense Passing Yards Range:\", data_range)\n",
    "print(\"Philadelphia Eagles Total Passing Yards 2012-2022:\", total_points)"
   ]
  },
  {
   "cell_type": "markdown",
   "id": "9c70dbb8",
   "metadata": {},
   "source": [
    "### Pittsburgh Steelers"
   ]
  },
  {
   "cell_type": "code",
   "execution_count": 15,
   "id": "d575e5ae",
   "metadata": {},
   "outputs": [
    {
     "name": "stdout",
     "output_type": "stream",
     "text": [
      "Pittsburgh Steelers Offense Passing Yards Mean: 4033.3636363636365\n",
      "Pittsburgh Steelers Offense Passing Yards Median: 4017.0\n",
      "Pittsburgh Steelers Offense Passing Yards Standard Deviation: 533.0878488067934\n",
      "Pittsburgh Steelers Offense Passing Yards Variance: 284182.6545454546\n",
      "Pittsburgh Steelers Offense Passing Yards Minimum: 2981\n",
      "Pittsburgh Steelers Offense Passing Yards Maximum: 4825\n",
      "Pittsburgh Steelers Offense Passing Yards Range: 1844\n",
      "Pittsburgh Steelers Total Passing Yards 2012-2022: 44367\n"
     ]
    }
   ],
   "source": [
    "team_name27 = 'Pittsburgh Steelers'\n",
    "steelers_data = nflpass[nflpass['Team'] == team_name27]\n",
    "mean_value = steelers_data['Off PassYds'].mean()\n",
    "median_value = steelers_data['Off PassYds'].median()\n",
    "std_value = steelers_data['Off PassYds'].std()\n",
    "var_value = steelers_data['Off PassYds'].var()\n",
    "min_value = steelers_data['Off PassYds'].min()\n",
    "max_value = steelers_data['Off PassYds'].max()\n",
    "data_range = max_value - min_value\n",
    "total_points = steelers_data['Off PassYds'].sum()\n",
    "print(\"Pittsburgh Steelers Offense Passing Yards Mean:\", mean_value)\n",
    "print(\"Pittsburgh Steelers Offense Passing Yards Median:\", median_value)\n",
    "print(\"Pittsburgh Steelers Offense Passing Yards Standard Deviation:\", std_value)\n",
    "print(\"Pittsburgh Steelers Offense Passing Yards Variance:\", var_value)\n",
    "print(\"Pittsburgh Steelers Offense Passing Yards Minimum:\", min_value)\n",
    "print(\"Pittsburgh Steelers Offense Passing Yards Maximum:\", max_value)\n",
    "print(\"Pittsburgh Steelers Offense Passing Yards Range:\", data_range)\n",
    "print(\"Pittsburgh Steelers Total Passing Yards 2012-2022:\", total_points)"
   ]
  },
  {
   "cell_type": "markdown",
   "id": "1c58e53c",
   "metadata": {},
   "source": [
    "### San Francisco 49ers"
   ]
  },
  {
   "cell_type": "code",
   "execution_count": 17,
   "id": "da2ef2c3",
   "metadata": {},
   "outputs": [
    {
     "name": "stdout",
     "output_type": "stream",
     "text": [
      "San Francisco 49ers Offense Passing Yards Mean: 3574.4545454545455\n",
      "San Francisco 49ers Offense Passing Yards Median: 3792.0\n",
      "San Francisco 49ers Offense Passing Yards Standard Deviation: 469.06212032871804\n",
      "San Francisco 49ers Offense Passing Yards Variance: 220019.27272727276\n",
      "San Francisco 49ers Offense Passing Yards Minimum: 2911\n",
      "San Francisco 49ers Offense Passing Yards Maximum: 4221\n",
      "San Francisco 49ers Offense Passing Yards Range: 1310\n",
      "San Francisco 49ers Total Passing Yards 2012-2022: 39319\n"
     ]
    }
   ],
   "source": [
    "team_name28 = 'San Francisco 49ers'\n",
    "niners_data = nflpass[nflpass['Team'] == team_name28]\n",
    "mean_value = niners_data['Off PassYds'].mean()\n",
    "median_value = niners_data['Off PassYds'].median()\n",
    "std_value = niners_data['Off PassYds'].std()\n",
    "var_value = niners_data['Off PassYds'].var()\n",
    "min_value = niners_data['Off PassYds'].min()\n",
    "max_value = niners_data['Off PassYds'].max()\n",
    "data_range = max_value - min_value\n",
    "total_points = niners_data['Off PassYds'].sum()\n",
    "print(\"San Francisco 49ers Offense Passing Yards Mean:\", mean_value)\n",
    "print(\"San Francisco 49ers Offense Passing Yards Median:\", median_value)\n",
    "print(\"San Francisco 49ers Offense Passing Yards Standard Deviation:\", std_value)\n",
    "print(\"San Francisco 49ers Offense Passing Yards Variance:\", var_value)\n",
    "print(\"San Francisco 49ers Offense Passing Yards Minimum:\", min_value)\n",
    "print(\"San Francisco 49ers Offense Passing Yards Maximum:\", max_value)\n",
    "print(\"San Francisco 49ers Offense Passing Yards Range:\", data_range)\n",
    "print(\"San Francisco 49ers Total Passing Yards 2012-2022:\", total_points)"
   ]
  },
  {
   "cell_type": "markdown",
   "id": "921f90e8",
   "metadata": {},
   "source": [
    "### Tampa Bay Buccaneers"
   ]
  },
  {
   "cell_type": "code",
   "execution_count": 18,
   "id": "31643e89",
   "metadata": {},
   "outputs": [
    {
     "name": "stdout",
     "output_type": "stream",
     "text": [
      "Tampa Bay Buccaneers Offense Passing Yards Mean: 4172.363636363636\n",
      "Tampa Bay Buccaneers Offense Passing Yards Median: 4366.0\n",
      "Tampa Bay Buccaneers Offense Passing Yards Standard Deviation: 693.911128708464\n",
      "Tampa Bay Buccaneers Offense Passing Yards Variance: 481512.6545454545\n",
      "Tampa Bay Buccaneers Offense Passing Yards Minimum: 2820\n",
      "Tampa Bay Buccaneers Offense Passing Yards Maximum: 5229\n",
      "Tampa Bay Buccaneers Offense Passing Yards Range: 2409\n",
      "Tampa Bay Buccaneers Total Passing Yards 2012-2022: 45896\n"
     ]
    }
   ],
   "source": [
    "team_name29 = 'Tampa Bay Buccaneers'\n",
    "buccaneers_data = nflpass[nflpass['Team'] == team_name29]\n",
    "mean_value = buccaneers_data['Off PassYds'].mean()\n",
    "median_value = buccaneers_data['Off PassYds'].median()\n",
    "std_value = buccaneers_data['Off PassYds'].std()\n",
    "var_value = buccaneers_data['Off PassYds'].var()\n",
    "min_value = buccaneers_data['Off PassYds'].min()\n",
    "max_value = buccaneers_data['Off PassYds'].max()\n",
    "data_range = max_value - min_value\n",
    "total_points = buccaneers_data['Off PassYds'].sum()\n",
    "print(\"Tampa Bay Buccaneers Offense Passing Yards Mean:\", mean_value)\n",
    "print(\"Tampa Bay Buccaneers Offense Passing Yards Median:\", median_value)\n",
    "print(\"Tampa Bay Buccaneers Offense Passing Yards Standard Deviation:\", std_value)\n",
    "print(\"Tampa Bay Buccaneers Offense Passing Yards Variance:\", var_value)\n",
    "print(\"Tampa Bay Buccaneers Offense Passing Yards Minimum:\", min_value)\n",
    "print(\"Tampa Bay Buccaneers Offense Passing Yards Maximum:\", max_value)\n",
    "print(\"Tampa Bay Buccaneers Offense Passing Yards Range:\", data_range)\n",
    "print(\"Tampa Bay Buccaneers Total Passing Yards 2012-2022:\", total_points)"
   ]
  },
  {
   "cell_type": "markdown",
   "id": "402feabd",
   "metadata": {},
   "source": [
    "### Tennessee Titans"
   ]
  },
  {
   "cell_type": "code",
   "execution_count": 19,
   "id": "34a835c2",
   "metadata": {},
   "outputs": [
    {
     "name": "stdout",
     "output_type": "stream",
     "text": [
      "Tennessee Titans Offense Passing Yards Mean: 3384.0\n",
      "Tennessee Titans Offense Passing Yards Median: 3418.0\n",
      "Tennessee Titans Offense Passing Yards Standard Deviation: 215.40148560304777\n",
      "Tennessee Titans Offense Passing Yards Variance: 46397.8\n",
      "Tennessee Titans Offense Passing Yards Minimum: 2914\n",
      "Tennessee Titans Offense Passing Yards Maximum: 3653\n",
      "Tennessee Titans Offense Passing Yards Range: 739\n",
      "Tennessee Titans Total Passing Yards 2012-2022: 37224\n"
     ]
    }
   ],
   "source": [
    "team_name30 = 'Tennessee Titans'\n",
    "titans_data = nflpass[nflpass['Team'] == team_name30]\n",
    "mean_value = titans_data['Off PassYds'].mean()\n",
    "median_value = titans_data['Off PassYds'].median()\n",
    "std_value = titans_data['Off PassYds'].std()\n",
    "var_value = titans_data['Off PassYds'].var()\n",
    "min_value = titans_data['Off PassYds'].min()\n",
    "max_value = titans_data['Off PassYds'].max()\n",
    "data_range = max_value - min_value\n",
    "total_points = titans_data['Off PassYds'].sum()\n",
    "print(\"Tennessee Titans Offense Passing Yards Mean:\", mean_value)\n",
    "print(\"Tennessee Titans Offense Passing Yards Median:\", median_value)\n",
    "print(\"Tennessee Titans Offense Passing Yards Standard Deviation:\", std_value)\n",
    "print(\"Tennessee Titans Offense Passing Yards Variance:\", var_value)\n",
    "print(\"Tennessee Titans Offense Passing Yards Minimum:\", min_value)\n",
    "print(\"Tennessee Titans Offense Passing Yards Maximum:\", max_value)\n",
    "print(\"Tennessee Titans Offense Passing Yards Range:\", data_range)\n",
    "print(\"Tennessee Titans Total Passing Yards 2012-2022:\", total_points)"
   ]
  },
  {
   "cell_type": "markdown",
   "id": "80f6844f",
   "metadata": {},
   "source": [
    "### Washington Commanders"
   ]
  },
  {
   "cell_type": "code",
   "execution_count": 20,
   "id": "d1a4004e",
   "metadata": {},
   "outputs": [
    {
     "name": "stdout",
     "output_type": "stream",
     "text": [
      "Washington Commanders Offense Passing Yards Mean: 3705.909090909091\n",
      "Washington Commanders Offense Passing Yards Median: 3751.0\n",
      "Washington Commanders Offense Passing Yards Standard Deviation: 494.30101244999577\n",
      "Washington Commanders Offense Passing Yards Variance: 244333.49090909088\n",
      "Washington Commanders Offense Passing Yards Minimum: 2812\n",
      "Washington Commanders Offense Passing Yards Points Maximum: 4758\n",
      "Washington Commanders Offense Passing Yards Range: 1946\n",
      "Washington Commanders Total Passing Yards 2012-2022: 40765\n"
     ]
    }
   ],
   "source": [
    "team_name31 = 'Washington Commanders'\n",
    "commanders_data = nflpass[nflpass['Team'] == team_name31]\n",
    "mean_value = commanders_data['Off PassYds'].mean()\n",
    "median_value = commanders_data['Off PassYds'].median()\n",
    "std_value = commanders_data['Off PassYds'].std()\n",
    "var_value = commanders_data['Off PassYds'].var()\n",
    "min_value = commanders_data['Off PassYds'].min()\n",
    "max_value = commanders_data['Off PassYds'].max()\n",
    "total_points = commanders_data['Off PassYds'].sum()\n",
    "data_range = max_value - min_value\n",
    "print(\"Washington Commanders Offense Passing Yards Mean:\", mean_value)\n",
    "print(\"Washington Commanders Offense Passing Yards Median:\", median_value)\n",
    "print(\"Washington Commanders Offense Passing Yards Standard Deviation:\", std_value)\n",
    "print(\"Washington Commanders Offense Passing Yards Variance:\", var_value)\n",
    "print(\"Washington Commanders Offense Passing Yards Minimum:\", min_value)\n",
    "print(\"Washington Commanders Offense Passing Yards Points Maximum:\", max_value)\n",
    "print(\"Washington Commanders Offense Passing Yards Range:\", data_range)\n",
    "print(\"Washington Commanders Total Passing Yards 2012-2022:\", total_points)"
   ]
  },
  {
   "cell_type": "code",
   "execution_count": null,
   "id": "26c581f4",
   "metadata": {},
   "outputs": [],
   "source": []
  }
 ],
 "metadata": {
  "kernelspec": {
   "display_name": "Python 3 (ipykernel)",
   "language": "python",
   "name": "python3"
  },
  "language_info": {
   "codemirror_mode": {
    "name": "ipython",
    "version": 3
   },
   "file_extension": ".py",
   "mimetype": "text/x-python",
   "name": "python",
   "nbconvert_exporter": "python",
   "pygments_lexer": "ipython3",
   "version": "3.9.12"
  }
 },
 "nbformat": 4,
 "nbformat_minor": 5
}
